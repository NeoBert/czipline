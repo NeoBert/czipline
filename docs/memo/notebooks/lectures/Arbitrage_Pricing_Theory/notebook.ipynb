{
 "cells": [
  {
   "cell_type": "markdown",
   "metadata": {},
   "source": [
    "# Arbitrage Pricing Theory\n",
    "\n",
    "By Evgenia \"Jenny\" Nitishinskaya, Delaney Granizo-Mackenzie, and Maxwell Margenot.\n",
    "\n",
    "Part of the Quantopian Lecture Series:\n",
    "\n",
    "* [www.quantopian.com/lectures](https://www.quantopian.com/lectures)\n",
    "* [github.com/quantopian/research_public](https://github.com/quantopian/research_public)\n",
    "\n",
    "Notebook released under the Creative Commons Attribution 4.0 License.\n",
    "\n",
    "---\n",
    "\n",
    "Arbitrage pricing theory is a major asset pricing theory that relies on expressing the returns using a linear factor model:\n",
    "\n",
    "$$R_i = a_i + b_{i1} F_1 + b_{i2} F_2 + \\ldots + b_{iK} F_K + \\epsilon_i$$\n",
    "\n",
    "This theory states that if we have modelled our rate of return as above, then the expected returns obey\n",
    "\n",
    "$$ E(R_i) = R_F + b_{i1} \\lambda_1 + b_{i2} \\lambda_2 + \\ldots + b_{iK} \\lambda_K $$\n",
    "\n",
    "where $R_F$ is the risk-free rate, and $\\lambda_j$ is the risk premium - the return in excess of the risk-free rate - for factor $j$. This premium arises because investors require higher returns to compensate them for incurring risk. This generalizes the capital asset pricing model (CAPM), which uses the return on the market as its only factor.\n",
    "\n",
    "We can compute $\\lambda_j$ by constructing a portfolio that has a sensitivity of 1 to factor $j$ and 0 to all others (called a <i>pure factor portfolio</i> for factor $j$), and measure its return in excess of the risk-free rate. Alternatively, we could compute the factor sensitivities for $K$ well-diversified (no asset-specific risk, i.e. $\\epsilon_p = 0$) portfolios, and then solve the resulting system of linear equations."
   ]
  },
  {
   "cell_type": "markdown",
   "metadata": {},
   "source": [
    "## Arbitrage\n",
    "\n",
    "There are generally many, many securities in our universe. If we use different ones to compute the $\\lambda$s, will our results be consistent? If our results are inconsistent, there is an <i>arbitrage opportunity</i> (in expectation). Arbitrage is an operation that earns a profit without incurring risk and with no net investment of money, and an arbitrage opportunity is an opportunity to conduct such an operation. In this case, we mean that there is a risk-free operation with <i>expected</i> positive return that requires no net investment. It occurs when expectations of returns are inconsistent, i.e. risk is not priced consistently across securities.\n",
    "\n",
    "For instance, there is an arbitrage opportunity in the following case: say there is an asset with expected rate of return 0.2 for the next year and a $\\beta$ of 1.2 with the market, while the market is expected to have a rate of return of 0.1, and the risk-free rate on 1-year bonds is 0.05. Then the APT model tells us that the expected rate of return on the asset should be\n",
    "\n",
    "$$ R_F + \\beta \\lambda = 0.05 + 1.2 (0.1 - 0.05) = 0.11$$\n",
    "\n",
    "This does not agree with the prediction that the asset will have a rate of return of 0.2. So, if we buy \\$100 of our asset, short \\$120 of the market, and buy \\$20 of bonds, we will have invested no net money and are not exposed to any systematic risk (we are market-neutral), but we expect to earn $0.2 \\cdot 100 - 0.1 \\cdot 120 + 20 \\cdot 0.05 = 9$ dollars at the end of the year.\n",
    "\n",
    "The APT assumes that these opportunities will be taken advantage of until prices shift and the arbitrage opportunities disappear. That is, it assumes that there are arbitrageurs who have sufficient amounts of patience and capital. This provides a justification for the use of empirical factor models in pricing securities: if the model were inconsistent, there would be an arbitrage opportunity, and so the prices would adjust."
   ]
  },
  {
   "cell_type": "markdown",
   "metadata": {},
   "source": [
    "##Goes Both Ways\n",
    "\n",
    "Often knowing $E(R_i)$ is incredibly difficult, but notice that this model tells us what the expected returns should be if the market is fully arbitraged. This lays the groundwork for long-short equity strategies based on factor model ranking systems. If you know what the expected return of an asset is given that the market is arbitraged, and you hypothesize that the market will be mostly arbitraged over the timeframe on which you are trading, then you can construct a ranking.\n",
    "\n",
    "##Long-Short Equity\n",
    "\n",
    "To do this, estimate the expected return for each asset on the market, then rank them. Long the top percentile and short the bottom percentile, and you will make money on the difference in returns. Said another way, if the assets at the top of the ranking on average tend to make $5\\%$ more per year than the market, and assets at the bottom tend to make $5\\%$ less, then you will make $(M + 0.05) - (M - 0.05) = 0.10$ or $10\\%$ percent per year, where $M$ is the market return that gets canceled out.\n",
    "\n",
    "Long-short equity accepts that any individual asset is very difficult to model, relies on broad trends holding true. We can't accurately predict expected returns for an asset, but we can predict the expected returns for a group of 1000 assets as the errors average out.\n",
    "\n",
    "We will have a full lecture on long-short models later.\n"
   ]
  },
  {
   "cell_type": "markdown",
   "metadata": {},
   "source": [
    "##How many factors do you want?\n",
    "\n",
    "As discussed in other lectures, noteably Overfitting, having more factors will explain more and more of your returns, but at the cost of being more and more fit to noise in your data. Do discover true signals and make good predictions going forward, you want to select as few parameters as possible that still explain a large amount of the variance in returns."
   ]
  },
  {
   "cell_type": "markdown",
   "metadata": {},
   "source": [
    "## Example: Computing Expected Returns for Two Assets"
   ]
  },
  {
   "cell_type": "code",
   "execution_count": 1,
   "metadata": {
    "ExecuteTime": {
     "end_time": "2017-11-30T18:16:52.411510Z",
     "start_time": "2017-11-30T18:16:50.653925Z"
    }
   },
   "outputs": [],
   "source": [
    "import numpy as np\n",
    "import pandas as pd\n",
    "from statsmodels import regression\n",
    "import matplotlib.pyplot as plt"
   ]
  },
  {
   "cell_type": "markdown",
   "metadata": {},
   "source": [
    "Let's get some data."
   ]
  },
  {
   "cell_type": "code",
   "execution_count": 2,
   "metadata": {
    "ExecuteTime": {
     "end_time": "2017-11-30T18:16:56.484250Z",
     "start_time": "2017-11-30T18:16:52.414507Z"
    }
   },
   "outputs": [],
   "source": [
    "from zipline.component.data import load_bars\n",
    "from zipline.data.loader import load_market_data"
   ]
  },
  {
   "cell_type": "code",
   "execution_count": 3,
   "metadata": {
    "ExecuteTime": {
     "end_time": "2017-11-30T18:16:57.219720Z",
     "start_time": "2017-11-30T18:16:56.488229Z"
    }
   },
   "outputs": [
    {
     "name": "stdout",
     "output_type": "stream",
     "text": [
      "[2017-12-01 02:16:57.195704] INFO: Loader: Read benchmark and treasury data for 000300 from 1990-10-31 to 2017-11-30\n"
     ]
    }
   ],
   "source": [
    "start_date = '2014-06-30'\n",
    "end_date = '2015-06-30'\n",
    "\n",
    "# We will look at the returns of an asset one-month into the future to model future returns.\n",
    "offset_start_date = '2014-07-31'\n",
    "offset_end_date = '2015-07-31'\n",
    "\n",
    "# Get returns data for our assets\n",
    "asset1 = load_bars('000001', start=offset_start_date, end=offset_end_date).pct_change()[1:]\n",
    "asset2 = load_bars('000333', start=offset_start_date, end=offset_end_date).pct_change()[1:]\n",
    "# Get returns for the market\n",
    "bench, treasury_ret = load_market_data()\n",
    "bench = bench[start_date:end_date][offset_start_date:offset_end_date].pct_change()[1:].tz_localize(None)\n",
    "# Use an ETF that tracks 3-month T-bills as our risk-free rate of return\n",
    "treasury_ret = treasury_ret['3month'][offset_start_date:offset_end_date].tz_localize(None)"
   ]
  },
  {
   "cell_type": "code",
   "execution_count": 4,
   "metadata": {
    "ExecuteTime": {
     "end_time": "2017-11-30T18:16:57.237734Z",
     "start_time": "2017-11-30T18:16:57.226724Z"
    }
   },
   "outputs": [],
   "source": [
    "data_start = pd.Timestamp('2014-07-31 00:00:00')\n",
    "data_end = pd.Timestamp('2015-06-30 00:00:00')"
   ]
  },
  {
   "cell_type": "code",
   "execution_count": 5,
   "metadata": {
    "ExecuteTime": {
     "end_time": "2017-11-30T18:16:57.266750Z",
     "start_time": "2017-11-30T18:16:57.242733Z"
    }
   },
   "outputs": [],
   "source": [
    "asset1 = asset1[data_start:data_end]\n",
    "asset2 = asset2[data_start:data_end]\n",
    "bench = bench[data_start:data_end]\n",
    "treasury_ret = treasury_ret[data_start:data_end]"
   ]
  },
  {
   "cell_type": "code",
   "execution_count": 7,
   "metadata": {
    "ExecuteTime": {
     "end_time": "2017-11-30T18:17:20.469869Z",
     "start_time": "2017-11-30T18:17:20.461861Z"
    }
   },
   "outputs": [],
   "source": [
    "constant = pd.Series(np.ones(len(asset1.index)), index=asset1.index)"
   ]
  },
  {
   "cell_type": "code",
   "execution_count": 29,
   "metadata": {
    "ExecuteTime": {
     "end_time": "2017-11-30T18:25:44.079390Z",
     "start_time": "2017-11-30T18:25:44.060380Z"
    }
   },
   "outputs": [],
   "source": [
    "df = pd.DataFrame({'R1': asset1.iloc[:,0],\n",
    "                   'R2': asset2.iloc[:,0],\n",
    "                   '000300': bench,\n",
    "                   'RF': treasury_ret,\n",
    "                   'Constant': constant\n",
    "                  },\n",
    "                 )\n",
    "df = df.dropna()"
   ]
  },
  {
   "cell_type": "markdown",
   "metadata": {},
   "source": [
    "We'll start by computing static regressions over the whole time period."
   ]
  },
  {
   "cell_type": "code",
   "execution_count": 31,
   "metadata": {
    "ExecuteTime": {
     "end_time": "2017-11-30T18:26:42.652660Z",
     "start_time": "2017-11-30T18:26:42.566607Z"
    }
   },
   "outputs": [
    {
     "name": "stdout",
     "output_type": "stream",
     "text": [
      "p-value 0.72661721744\n",
      "000300      0.000016\n",
      "RF          0.275293\n",
      "Constant   -0.006668\n",
      "dtype: float64\n",
      "p-value 0.786841371874\n",
      "000300     -0.000041\n",
      "RF          0.091916\n",
      "Constant   -0.000082\n",
      "dtype: float64\n"
     ]
    }
   ],
   "source": [
    "OLS_model = regression.linear_model.OLS(df['R1'], df[['000300', 'RF', 'Constant']])\n",
    "fitted_model = OLS_model.fit()\n",
    "print('p-value', fitted_model.f_pvalue)\n",
    "print(fitted_model.params)\n",
    "R1_params = fitted_model.params\n",
    "\n",
    "OLS_model = regression.linear_model.OLS(df['R2'], df[['000300', 'RF', 'Constant']])\n",
    "fitted_model = OLS_model.fit()\n",
    "print('p-value', fitted_model.f_pvalue)\n",
    "print(fitted_model.params)\n",
    "R2_params = fitted_model.params"
   ]
  },
  {
   "cell_type": "markdown",
   "metadata": {},
   "source": [
    "As we've said before in other lectures, these numbers don't tell us too much by themselves. We need to look at the distribution of estimated coefficients and whether it's stable. Let's look at the rolling 100-day regression to see how it looks."
   ]
  },
  {
   "cell_type": "code",
   "execution_count": 33,
   "metadata": {
    "ExecuteTime": {
     "end_time": "2017-11-30T18:41:10.903396Z",
     "start_time": "2017-11-30T18:41:09.042074Z"
    }
   },
   "outputs": [
    {
     "name": "stderr",
     "output_type": "stream",
     "text": [
      "C:\\Users\\liude\\Anaconda3\\envs\\bt36\\lib\\site-packages\\statsmodels\\compat\\pandas.py:56: FutureWarning: The pandas.core.datetools module is deprecated and will be removed in a future version. Please use the pandas.tseries module instead.\n",
      "  from pandas.core import datetools\n"
     ]
    }
   ],
   "source": [
    "import statsmodels.api as sm"
   ]
  },
  {
   "cell_type": "code",
   "execution_count": 34,
   "metadata": {
    "ExecuteTime": {
     "end_time": "2017-11-30T18:41:51.672860Z",
     "start_time": "2017-11-30T18:41:51.595807Z"
    }
   },
   "outputs": [],
   "source": [
    "sm.M"
   ]
  },
  {
   "cell_type": "code",
   "execution_count": 32,
   "metadata": {
    "ExecuteTime": {
     "end_time": "2017-11-30T18:27:32.490115Z",
     "start_time": "2017-11-30T18:27:32.445084Z"
    }
   },
   "outputs": [
    {
     "ename": "AttributeError",
     "evalue": "module 'pandas.stats' has no attribute 'ols'",
     "output_type": "error",
     "traceback": [
      "\u001b[1;31m---------------------------------------------------------------------------\u001b[0m",
      "\u001b[1;31mAttributeError\u001b[0m                            Traceback (most recent call last)",
      "\u001b[1;32m<ipython-input-32-b838827d3c97>\u001b[0m in \u001b[0;36m<module>\u001b[1;34m()\u001b[0m\n\u001b[1;32m----> 1\u001b[1;33m model = pd.stats.ols.MovingOLS(y = df['R1'], x=df[['000300', 'RF']], \n\u001b[0m\u001b[0;32m      2\u001b[0m                              \u001b[0mwindow_type\u001b[0m\u001b[1;33m=\u001b[0m\u001b[1;34m'rolling'\u001b[0m\u001b[1;33m,\u001b[0m\u001b[1;33m\u001b[0m\u001b[0m\n\u001b[0;32m      3\u001b[0m                              window=100)\n\u001b[0;32m      4\u001b[0m \u001b[0mrolling_parameter_estimates\u001b[0m \u001b[1;33m=\u001b[0m \u001b[0mmodel\u001b[0m\u001b[1;33m.\u001b[0m\u001b[0mbeta\u001b[0m\u001b[1;33m\u001b[0m\u001b[0m\n\u001b[0;32m      5\u001b[0m \u001b[0mrolling_parameter_estimates\u001b[0m\u001b[1;33m.\u001b[0m\u001b[0mplot\u001b[0m\u001b[1;33m(\u001b[0m\u001b[1;33m)\u001b[0m\u001b[1;33m;\u001b[0m\u001b[1;33m\u001b[0m\u001b[0m\n",
      "\u001b[1;31mAttributeError\u001b[0m: module 'pandas.stats' has no attribute 'ols'"
     ]
    }
   ],
   "source": [
    "model = pd.stats.ols.MovingOLS(y = df['R1'], x=df[['000300', 'RF']], \n",
    "                             window_type='rolling', \n",
    "                             window=100)\n",
    "rolling_parameter_estimates = model.beta\n",
    "rolling_parameter_estimates.plot();\n",
    "\n",
    "plt.hlines(R1_params['000300'], df.index[0], df.index[-1], linestyles='dashed', colors='blue')\n",
    "plt.hlines(R1_params['RF'], df.index[0], df.index[-1], linestyles='dashed', colors='green')\n",
    "plt.hlines(R1_params['Constant'], df.index[0], df.index[-1], linestyles='dashed', colors='red')\n",
    "\n",
    "plt.title('Asset1 Computed Betas');\n",
    "plt.legend(['Market Beta', 'Risk Free Beta', 'Intercept', 'Market Beta Static', 'Risk Free Beta Static', 'Intercept Static']);"
   ]
  },
  {
   "cell_type": "code",
   "execution_count": null,
   "metadata": {},
   "outputs": [],
   "source": [
    "model = pd.stats.ols.MovingOLS(y = df['R2'], x=df[['000300', 'RF']], \n",
    "                             window_type='rolling', \n",
    "                             window=100)\n",
    "rolling_parameter_estimates = model.beta\n",
    "rolling_parameter_estimates.plot();\n",
    "\n",
    "plt.hlines(R2_params['000300'], df.index[0], df.index[-1], linestyles='dashed', colors='blue')\n",
    "plt.hlines(R2_params['RF'], df.index[0], df.index[-1], linestyles='dashed', colors='green')\n",
    "plt.hlines(R2_params['Constant'], df.index[0], df.index[-1], linestyles='dashed', colors='red')\n",
    "\n",
    "plt.title('Asset2 Computed Betas');\n",
    "plt.legend(['Market Beta', 'Risk Free Beta', 'Intercept', 'Market Beta Static', 'Risk Free Beta Static', 'Intercept Static']);"
   ]
  },
  {
   "cell_type": "markdown",
   "metadata": {},
   "source": [
    "It might seem like the market betas are stable here, but let's zoom in to check."
   ]
  },
  {
   "cell_type": "code",
   "execution_count": null,
   "metadata": {},
   "outputs": [],
   "source": [
    "model = pd.stats.ols.MovingOLS(y = df['R2'], x=df[['000300', 'RF']], \n",
    "                             window_type='rolling', \n",
    "                             window=100)\n",
    "rolling_parameter_estimates = model.beta\n",
    "rolling_parameter_estimates['000300'].plot();\n",
    "\n",
    "plt.hlines(R2_params['000300'], df.index[0], df.index[-1], linestyles='dashed', colors='blue')\n",
    "\n",
    "plt.title('Asset2 Computed Betas');\n",
    "plt.legend(['Market Beta', 'Market Beta Static']);"
   ]
  },
  {
   "cell_type": "markdown",
   "metadata": {},
   "source": [
    "As you can see, the plot scale massively affects how we perceive estimate quality."
   ]
  },
  {
   "cell_type": "markdown",
   "metadata": {},
   "source": [
    "##Predicting the Future\n",
    "\n",
    "Let's use this model to predict future prices for these assets."
   ]
  },
  {
   "cell_type": "code",
   "execution_count": null,
   "metadata": {},
   "outputs": [],
   "source": [
    "start_date = '2014-07-25'\n",
    "end_date = '2015-07-25'\n",
    "\n",
    "# We will look at the returns of an asset one-month into the future to model future returns.\n",
    "offset_start_date = '2014-08-25'\n",
    "offset_end_date = '2015-08-25'\n",
    "\n",
    "# Get returns data for our assets\n",
    "asset1 = get_pricing('000001', fields='price', start_date=offset_start_date, end_date=offset_end_date).pct_change()[1:]\n",
    "# Get returns for the market\n",
    "bench = get_pricing('000300', fields='price', start_date=start_date, end_date=end_date).pct_change()[1:]\n",
    "# Use an ETF that tracks 3-month T-bills as our risk-free rate of return\n",
    "treasury_ret = get_pricing('BIL', fields='price', start_date=start_date, end_date=end_date).pct_change()[1:]\n",
    "\n",
    "\n",
    "# Define a constant to compute intercept\n",
    "constant = pd.TimeSeries(np.ones(len(asset1.index)), index=asset1.index)\n",
    "\n",
    "df = pd.DataFrame({'R1': asset1,\n",
    "              '000300': bench,\n",
    "              'RF': treasury_ret,\n",
    "              'Constant': constant})\n",
    "df = df.dropna()"
   ]
  },
  {
   "cell_type": "markdown",
   "metadata": {},
   "source": [
    "We'll perform a historical regression to get our model parameter estimates."
   ]
  },
  {
   "cell_type": "code",
   "execution_count": null,
   "metadata": {},
   "outputs": [],
   "source": [
    "OLS_model = regression.linear_model.OLS(df['R1'], df[['000300', 'RF', 'Constant']])\n",
    "fitted_model = OLS_model.fit()\n",
    "print 'p-value', fitted_model.f_pvalue\n",
    "print fitted_model.params\n",
    "\n",
    "b_000300 = fitted_model.params['000300']\n",
    "b_RF = fitted_model.params['RF']\n",
    "a = fitted_model.params['Constant']"
   ]
  },
  {
   "cell_type": "markdown",
   "metadata": {},
   "source": [
    "Get the factor data for the last month so we can predict the next month."
   ]
  },
  {
   "cell_type": "code",
   "execution_count": null,
   "metadata": {},
   "outputs": [],
   "source": [
    "start_date = '2015-07-25'\n",
    "end_date = '2015-08-25'\n",
    "\n",
    "# Get returns for the market\n",
    "last_month_bench = get_pricing('000300', fields='price', start_date=start_date, end_date=end_date).pct_change()[1:]\n",
    "# Use an ETF that tracks 3-month T-bills as our risk-free rate of return\n",
    "last_month_treasury_ret = get_pricing('BIL', fields='price', start_date=start_date, end_date=end_date).pct_change()[1:]"
   ]
  },
  {
   "cell_type": "markdown",
   "metadata": {},
   "source": [
    "Make our predictions."
   ]
  },
  {
   "cell_type": "code",
   "execution_count": null,
   "metadata": {},
   "outputs": [],
   "source": [
    "predictions = b_000300 * last_month_bench + b_RF * last_month_treasury_ret + a\n",
    "predictions.index = predictions.index + pd.DateOffset(months=1)"
   ]
  },
  {
   "cell_type": "code",
   "execution_count": null,
   "metadata": {},
   "outputs": [],
   "source": [
    "plt.plot(asset1.index[-30:], asset1.values[-30:], 'b-')\n",
    "plt.plot(predictions.index, predictions, 'b--')\n",
    "plt.ylabel('Returns')\n",
    "plt.legend(['Actual', 'Predicted']);"
   ]
  },
  {
   "cell_type": "markdown",
   "metadata": {},
   "source": [
    "Of course, this analysis hasn't yet told us anything about the quality of our predictions. To check the quality of our predictions we need to use techniques such as out of sample testing or cross-validation. For the purposes of long-short equity ranking systems, the Spearman Correlation lecture details a way to check the quality of a ranking system.\n",
    "\n",
    "##Important Note!\n",
    "\n",
    "Again, any of these individual predictions will probably be inaccurate. Industry-quality modeling makes predictions for thousands of assets and relies on broad tends holding. If I told you that I have a predictive model with a 51% success rate, you would not make one prediction and bet all your money on it. You would make thousands of predictions and divide your money between them."
   ]
  },
  {
   "cell_type": "markdown",
   "metadata": {},
   "source": [
    "*This presentation is for informational purposes only and does not constitute an offer to sell, a solicitation to buy, or a recommendation for any security; nor does it constitute an offer to provide investment advisory or other services by Quantopian, Inc. (\"Quantopian\"). Nothing contained herein constitutes investment advice or offers any opinion with respect to the suitability of any security, and any views expressed herein should not be taken as advice to buy, sell, or hold any security or as an endorsement of any security or company.  In preparing the information contained herein, Quantopian, Inc. has not taken into account the investment needs, objectives, and financial circumstances of any particular investor. Any views expressed and data illustrated herein were prepared based upon information, believed to be reliable, available to Quantopian, Inc. at the time of publication. Quantopian makes no guarantees as to their accuracy or completeness. All information is subject to change and may quickly become unreliable for various reasons, including changes in market conditions or economic circumstances.*"
   ]
  }
 ],
 "metadata": {
  "kernelspec": {
   "display_name": "backtest",
   "language": "python",
   "name": "bt36"
  },
  "language_info": {
   "codemirror_mode": {
    "name": "ipython",
    "version": 3
   },
   "file_extension": ".py",
   "mimetype": "text/x-python",
   "name": "python",
   "nbconvert_exporter": "python",
   "pygments_lexer": "ipython3",
   "version": "3.6.3"
  },
  "toc": {
   "nav_menu": {},
   "number_sections": true,
   "sideBar": true,
   "skip_h1_title": false,
   "toc_cell": false,
   "toc_position": {},
   "toc_section_display": "block",
   "toc_window_display": false
  }
 },
 "nbformat": 4,
 "nbformat_minor": 1
}
