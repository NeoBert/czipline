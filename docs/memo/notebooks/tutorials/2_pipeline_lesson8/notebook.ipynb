{
 "cells": [
  {
   "cell_type": "code",
   "execution_count": 1,
   "metadata": {
    "ExecuteTime": {
     "end_time": "2017-12-01T06:59:14.909070Z",
     "start_time": "2017-12-01T06:59:09.932471Z"
    }
   },
   "outputs": [],
   "source": [
    "from zipline.pipeline import Pipeline\n",
    "from zipline.component.research import run_pipeline\n",
    "from zipline.pipeline.factors import SimpleMovingAverage, AverageDollarVolume"
   ]
  },
  {
   "cell_type": "markdown",
   "metadata": {},
   "source": [
    "## Classifiers\n",
    "A classifier is a function from an asset and a moment in time to a [categorical output](https://en.wikipedia.org/wiki/Categorical_variable) such as a `string` or `integer` label:\n",
    "```\n",
    "F(asset, timestamp) -> category\n",
    "```\n",
    "An example of a classifier producing a string output is the exchange ID of a security. To create this classifier, we'll have to import `Fundamentals.exchange_id` and use the [latest](https://www.zipline.com/tutorials/pipeline#lesson3) attribute to instantiate our classifier:"
   ]
  },
  {
   "cell_type": "code",
   "execution_count": 2,
   "metadata": {
    "ExecuteTime": {
     "end_time": "2017-12-01T06:59:14.987121Z",
     "start_time": "2017-12-01T06:59:14.912071Z"
    }
   },
   "outputs": [],
   "source": [
    "from zipline.pipeline.data import Fundamentals\n",
    "\n",
    "# 使用地区来代替\n",
    "# is of type string, .latest returns a Classifier\n",
    "region = Fundamentals.region.latest"
   ]
  },
  {
   "cell_type": "markdown",
   "metadata": {},
   "source": [
    "Previously, we saw that the `latest` attribute produced an instance of a `Factor`. In this case, since the underlying data is of type `string`, `latest` produces a `Classifier`.\n",
    "\n",
    "Similarly, a computation producing the latest Morningstar sector code of a security is a `Classifier`. In this case, the underlying type is an `int`, but the integer doesn't represent a numerical value (it's a category) so it produces a classifier. To get the latest sector code, we can use the built-in `Sector` classifier."
   ]
  },
  {
   "cell_type": "code",
   "execution_count": 3,
   "metadata": {
    "ExecuteTime": {
     "end_time": "2017-12-01T06:59:15.105204Z",
     "start_time": "2017-12-01T06:59:14.989123Z"
    }
   },
   "outputs": [],
   "source": [
    "#from zipline.pipeline.classifiers.fundamentals import Sector  \n",
    "# sector放在fundamentals中，单独作为一个绑定列\n",
    "cninfo_sector = Fundamentals.cninfo.sector.latest"
   ]
  },
  {
   "cell_type": "markdown",
   "metadata": {},
   "source": [
    "使用类似原版的 `Sector`自定义因子时，请直接用`Fundamentals.cninfo.sector.latest`."
   ]
  },
  {
   "cell_type": "markdown",
   "metadata": {},
   "source": [
    "### Building Filters from Classifiers\n",
    "Classifiers can also be used to produce filters with methods like `isnull`, `eq`, and `startswith`. The full list of `Classifier` methods producing `Filters` can be found [here](https://www.zipline.com/help#zipline_pipeline_classifiers_Classifier).\n",
    "\n",
    "As an example, if we wanted a filter to select for securities trading on the New York Stock Exchange, we can use the `eq` method of our `exchange` classifier."
   ]
  },
  {
   "cell_type": "code",
   "execution_count": 4,
   "metadata": {
    "ExecuteTime": {
     "end_time": "2017-12-01T06:59:15.112207Z",
     "start_time": "2017-12-01T06:59:15.107202Z"
    }
   },
   "outputs": [],
   "source": [
    "region_filter = region.eq('湖南')"
   ]
  },
  {
   "cell_type": "markdown",
   "metadata": {},
   "source": [
    "This filter will return `True` for securities having `'湖南'` as their most recent `region`.\n",
    "\n",
    "使用字符串过滤时，建议使用`has_substring`方法，搜索范围更大。"
   ]
  },
  {
   "cell_type": "markdown",
   "metadata": {},
   "source": [
    "### Quantiles\n",
    "Classifiers can also be produced from various `Factor` methods. The most general of these is the `quantiles` method which accepts a bin count as an argument. The `quantiles` method assigns a label from 0 to (bins - 1) to every non-NaN data point in the factor output and returns a `Classifier` with these labels. `NaN`s are labeled with -1. Aliases are available for [quartiles](https://www.zipline.com/help/#zipline_pipeline_factors_Factor_quartiles) (`quantiles(4)`), [quintiles](https://www.zipline.com/help/#zipline_pipeline_factors_Factor_quintiles) (`quantiles(5)`), and [deciles](https://www.zipline.com/help/#zipline_pipeline_factors_Factor_deciles) (`quantiles(10)`). As an example, this is what a filter for the top decile of a factor might look like:"
   ]
  },
  {
   "cell_type": "code",
   "execution_count": 5,
   "metadata": {
    "ExecuteTime": {
     "end_time": "2017-12-01T06:59:15.131218Z",
     "start_time": "2017-12-01T06:59:15.116209Z"
    }
   },
   "outputs": [],
   "source": [
    "dollar_volume_decile = AverageDollarVolume(window_length=10).deciles()\n",
    "top_decile = (dollar_volume_decile.eq(9))"
   ]
  },
  {
   "cell_type": "markdown",
   "metadata": {},
   "source": [
    "Let's put each of our classifiers into a pipeline and run it to see what they look like."
   ]
  },
  {
   "cell_type": "code",
   "execution_count": 6,
   "metadata": {
    "ExecuteTime": {
     "end_time": "2017-12-01T06:59:15.152233Z",
     "start_time": "2017-12-01T06:59:15.134219Z"
    }
   },
   "outputs": [],
   "source": [
    "def make_pipeline():\n",
    "    region = Fundamentals.region.latest\n",
    "    region_filter = region.eq('湖南')\n",
    "\n",
    "    cninfo_sector = Fundamentals.cninfo.sector.latest\n",
    "\n",
    "    dollar_volume_decile = AverageDollarVolume(window_length=10).deciles()\n",
    "    top_decile = (dollar_volume_decile.eq(9))\n",
    "\n",
    "    return Pipeline(\n",
    "        columns={\n",
    "            'region': region,\n",
    "            'cninfo_sector': cninfo_sector,\n",
    "            'dollar_volume_decile': dollar_volume_decile\n",
    "        },\n",
    "        screen=(region_filter & top_decile)\n",
    "    )"
   ]
  },
  {
   "cell_type": "code",
   "execution_count": 7,
   "metadata": {
    "ExecuteTime": {
     "end_time": "2017-12-01T06:59:16.167552Z",
     "start_time": "2017-12-01T06:59:15.156235Z"
    }
   },
   "outputs": [
    {
     "name": "stdout",
     "output_type": "stream",
     "text": [
      "Number of securities that passed the filter: 3\n"
     ]
    },
    {
     "data": {
      "text/html": [
       "<div>\n",
       "<style scoped>\n",
       "    .dataframe tbody tr th:only-of-type {\n",
       "        vertical-align: middle;\n",
       "    }\n",
       "\n",
       "    .dataframe tbody tr th {\n",
       "        vertical-align: top;\n",
       "    }\n",
       "\n",
       "    .dataframe thead th {\n",
       "        text-align: right;\n",
       "    }\n",
       "</style>\n",
       "<table border=\"1\" class=\"dataframe\">\n",
       "  <thead>\n",
       "    <tr style=\"text-align: right;\">\n",
       "      <th></th>\n",
       "      <th></th>\n",
       "      <th>cninfo_sector</th>\n",
       "      <th>dollar_volume_decile</th>\n",
       "      <th>region</th>\n",
       "    </tr>\n",
       "  </thead>\n",
       "  <tbody>\n",
       "    <tr>\n",
       "      <th rowspan=\"3\" valign=\"top\">2015-05-05 00:00:00+00:00</th>\n",
       "      <th>Equity(000157 [中联重科])</th>\n",
       "      <td>工业</td>\n",
       "      <td>9</td>\n",
       "      <td>湖南</td>\n",
       "    </tr>\n",
       "    <tr>\n",
       "      <th>Equity(000917 [电广传媒])</th>\n",
       "      <td>可选消费</td>\n",
       "      <td>9</td>\n",
       "      <td>湖南</td>\n",
       "    </tr>\n",
       "    <tr>\n",
       "      <th>Equity(601901 [方正证券])</th>\n",
       "      <td>金融地产</td>\n",
       "      <td>9</td>\n",
       "      <td>湖南</td>\n",
       "    </tr>\n",
       "  </tbody>\n",
       "</table>\n",
       "</div>"
      ],
      "text/plain": [
       "                                                cninfo_sector  \\\n",
       "2015-05-05 00:00:00+00:00 Equity(000157 [中联重科])            工业   \n",
       "                          Equity(000917 [电广传媒])          可选消费   \n",
       "                          Equity(601901 [方正证券])          金融地产   \n",
       "\n",
       "                                                 dollar_volume_decile region  \n",
       "2015-05-05 00:00:00+00:00 Equity(000157 [中联重科])                     9     湖南  \n",
       "                          Equity(000917 [电广传媒])                     9     湖南  \n",
       "                          Equity(601901 [方正证券])                     9     湖南  "
      ]
     },
     "execution_count": 7,
     "metadata": {},
     "output_type": "execute_result"
    }
   ],
   "source": [
    "result = run_pipeline(make_pipeline(), '2015-05-05', '2015-05-05')\n",
    "print('Number of securities that passed the filter: %d' % len(result))\n",
    "result.head(5)"
   ]
  },
  {
   "cell_type": "markdown",
   "metadata": {},
   "source": [
    "Classifiers are also useful for describing grouping keys for complex transformations on Factor outputs. Grouping operations such as [demean](https://www.zipline.com/help#zipline_pipeline_factors_Factor_demean) and [groupby](https://www.zipline.com/help#zipline_pipeline_factors_Factor_groupby) are outside the scope of this tutorial. A future tutorial will cover more advanced uses for classifiers.\n",
    "\n",
    "In the next lesson, we'll look at the different datasets that we can use in pipeline."
   ]
  }
 ],
 "metadata": {
  "kernelspec": {
   "display_name": "backtest",
   "language": "python",
   "name": "bt36"
  },
  "language_info": {
   "codemirror_mode": {
    "name": "ipython",
    "version": 3
   },
   "file_extension": ".py",
   "mimetype": "text/x-python",
   "name": "python",
   "nbconvert_exporter": "python",
   "pygments_lexer": "ipython3",
   "version": "3.6.3"
  },
  "toc": {
   "nav_menu": {},
   "number_sections": true,
   "sideBar": true,
   "skip_h1_title": false,
   "toc_cell": false,
   "toc_position": {},
   "toc_section_display": "block",
   "toc_window_display": false
  }
 },
 "nbformat": 4,
 "nbformat_minor": 1
}
