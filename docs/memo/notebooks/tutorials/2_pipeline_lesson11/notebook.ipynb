{
 "cells": [
  {
   "cell_type": "code",
   "execution_count": 1,
   "metadata": {
    "ExecuteTime": {
     "end_time": "2017-12-01T07:23:08.653718Z",
     "start_time": "2017-12-01T07:23:03.914010Z"
    }
   },
   "outputs": [],
   "source": [
    "from zipline.pipeline import Pipeline\n",
    "from zipline.component.research import run_pipeline\n",
    "from zipline.pipeline.data import USEquityPricing\n",
    "from zipline.pipeline.factors import SimpleMovingAverage, AverageDollarVolume"
   ]
  },
  {
   "cell_type": "markdown",
   "metadata": {},
   "source": [
    "## Putting It All Together\n",
    "Now that we've covered the basic components of the Pipeline API, let's construct a pipeline that we might want to use in an algorithm.\n",
    "\n",
    "To start, let's first create a filter to narrow down the types of securities coming out of our pipeline. In this example, we will create a filter to select for securities that meet all of the following criteria:\n",
    "- Is a primary share\n",
    "- Is listed as a common stock\n",
    "- Is not a [depositary receipt](http://www.investopedia.com/terms/d/depositaryreceipt.asp) (ADR/GDR)\n",
    "- Is not trading [over-the-counter](http://www.investopedia.com/terms/o/otc.asp) (OTC)\n",
    "- Is not [when-issued](http://www.investopedia.com/terms/w/wi.asp) (WI)\n",
    "- Doesn't have a name indicating it's a [limited partnership](http://www.investopedia.com/terms/l/limitedpartnership.asp) (LP)\n",
    "- Doesn't have a company reference entry indicating it's a LP\n",
    "- Is not an [ETF](http://www.investopedia.com/terms/e/etf.asp) (has Morningstar fundamental data)\n",
    "\n",
    "\n",
    "#### Why These Criteria?\n",
    "Selecting for primary shares and common stock helps us to select only a single security for each company. In general, primary shares are a good representative asset of a company so we will select for these in our pipeline.\n",
    "\n",
    "ADRs and GDRs are issuances in the US equity market for stocks that trade on other exchanges. Frequently, there is inherent risk associated with depositary receipts due to currency fluctuations so we exclude them from our pipeline.\n",
    "\n",
    "OTC, WI, and LP securities are not tradeable with most brokers. As a result, we exclude them from our pipeline.\n",
    "\n",
    "### Creating Our Pipeline\n",
    "Let's create a filter for each criterion and combine them together to create a `tradeable_stocks` filter. First, we need to import the Morningstar `DataSet` as well as the `IsPrimaryShare` builtin filter."
   ]
  },
  {
   "cell_type": "code",
   "execution_count": 2,
   "metadata": {
    "ExecuteTime": {
     "end_time": "2017-12-01T07:23:17.466684Z",
     "start_time": "2017-12-01T07:23:08.653718Z"
    }
   },
   "outputs": [],
   "source": [
    "from zipline.pipeline.data import Fundamentals\n",
    "from zipline.component.filters import IsPrimaryShare, CNN"
   ]
  },
  {
   "cell_type": "markdown",
   "metadata": {},
   "source": [
    "Now we can define our filters:"
   ]
  },
  {
   "cell_type": "raw",
   "metadata": {},
   "source": [
    "# Filter for primary share equities. IsPrimaryShare is a built-in filter.\n",
    "primary_share = IsPrimaryShare()\n",
    "\n",
    "# Equities listed as common stock (as opposed to, say, preferred stock).\n",
    "# 'ST00000001' indicates common stock.\n",
    "common_stock = Fundamentals.security_type.latest.eq('ST00000001')\n",
    "\n",
    "# Non-depositary receipts. Recall that the ~ operator inverts filters,\n",
    "# turning Trues into Falses and vice versa\n",
    "not_depositary = ~Fundamentals.is_depositary_receipt.latest\n",
    "\n",
    "# Equities not trading over-the-counter.\n",
    "not_otc = ~Fundamentals.exchange_id.latest.startswith('OTC')\n",
    "\n",
    "# Not when-issued equities.\n",
    "not_wi = ~Fundamentals.symbol.latest.endswith('.WI')\n",
    "\n",
    "# Equities without LP in their name, .matches does a match using a regular\n",
    "# expression\n",
    "not_lp_name = ~Fundamentals.standard_name.latest.matches('.* L[. ]?P.?$')\n",
    "\n",
    "# Equities with a null value in the limited_partnership Morningstar\n",
    "# fundamental field.\n",
    "not_lp_balance_sheet = Fundamentals.limited_partnership.latest.isnull()\n",
    "\n",
    "# Equities whose most recent Morningstar market cap is not null have\n",
    "# fundamental data and therefore are not ETFs.\n",
    "have_market_cap = Fundamentals.market_cap.latest.notnull()\n",
    "\n",
    "# Filter for stocks that pass all of our previous filters.\n",
    "tradeable_stocks = (\n",
    "    primary_share\n",
    "    & common_stock\n",
    "    & not_depositary\n",
    "    & not_otc\n",
    "    & not_wi\n",
    "    & not_lp_name\n",
    "    & not_lp_balance_sheet\n",
    "    & have_market_cap\n",
    ")"
   ]
  },
  {
   "cell_type": "markdown",
   "metadata": {},
   "source": [
    "使用`CNN`过滤。如取前100位，使用`CNN(100)`。\n",
    "<span class=\"girk\">请注意，`CNN`过滤基准是近期成交额排位，而非总市值或者是流通市值。</span>"
   ]
  },
  {
   "cell_type": "markdown",
   "metadata": {},
   "source": [
    "Note that when defining our filters, we used several `Classifier` methods that we haven't yet seen including `notnull`, `startswith`, `endswith`, and `matches`. Documentation on these methods is available [here](https://www.zipline.com/help#zipline_pipeline_classifiers_Classifier).\n",
    "\n",
    "Next, let's create a filter for the top 30% of tradeable stocks by 20-day average dollar volume. We'll call this our `base_universe`."
   ]
  },
  {
   "cell_type": "code",
   "execution_count": 3,
   "metadata": {
    "ExecuteTime": {
     "end_time": "2017-12-01T07:23:17.478511Z",
     "start_time": "2017-12-01T07:23:17.466684Z"
    }
   },
   "outputs": [],
   "source": [
    "base_universe = AverageDollarVolume(window_length=20, mask=IsPrimaryShare()).percentile_between(70, 100)"
   ]
  },
  {
   "cell_type": "markdown",
   "metadata": {},
   "source": [
    "#### Built-in Base Universe\n",
    "\n",
    "We have just defined our own base universe to select 'tradeable' securities with high dollar volume. However, zipline has two built-in filters that do something similar. The [Q500US](https://www.zipline.com/help#zipline_pipeline_filters_Q500US) and the [Q1500US](https://www.zipline.com/help#zipline_pipeline_filters_Q1500US) are built-in pipeline filters that select a group of 500 or 1500 tradeable, liquid stocks each day. Constituents of these groups are chosen at the start of each calendar month by selecting the top 'tradeable' stocks by 200-day average dollar volume, capped at 30% of equities allocated to any single sector (more detail on the selection criteria of these filters can be found [here](https://www.zipline.com/posts/the-q500us-and-q1500us)).\n",
    "\n",
    "To simplify our pipeline, let's replace what we've already written for our `base_universe` with the `Q1500US` built-in filter. First, we need to import it."
   ]
  },
  {
   "cell_type": "raw",
   "metadata": {
    "collapsed": true
   },
   "source": [
    "from zipline.pipeline.filters import Q1500US"
   ]
  },
  {
   "cell_type": "markdown",
   "metadata": {},
   "source": [
    "Then, let's set our base_universe to the `Q1500US`."
   ]
  },
  {
   "cell_type": "raw",
   "metadata": {
    "collapsed": true
   },
   "source": [
    "base_universe = Q1500US()"
   ]
  },
  {
   "cell_type": "code",
   "execution_count": 4,
   "metadata": {
    "ExecuteTime": {
     "end_time": "2017-12-01T07:23:17.589263Z",
     "start_time": "2017-12-01T07:23:17.482512Z"
    }
   },
   "outputs": [],
   "source": [
    "base_universe = CNN(1500)"
   ]
  },
  {
   "cell_type": "markdown",
   "metadata": {},
   "source": [
    "Now that we have a filter `base_universe` that we can use to select a subset of securities, let's focus on creating factors for this subset. For this example, let's create a pipeline for a mean reversion strategy. In this strategy, we'll look at the 10-day and 30-day moving averages (close price). Let's plan to open equally weighted long positions in the 75 securities with the least (most negative) percent difference and equally weighted short positions in the 75 with the greatest percent difference. To do this, let's create two moving average factors using our `base_universe` filter as a mask. Then let's combine them into a factor computing the percent difference."
   ]
  },
  {
   "cell_type": "code",
   "execution_count": 5,
   "metadata": {
    "ExecuteTime": {
     "end_time": "2017-12-01T07:23:17.606271Z",
     "start_time": "2017-12-01T07:23:17.589263Z"
    }
   },
   "outputs": [],
   "source": [
    "# 10-day close price average.\n",
    "mean_10 = SimpleMovingAverage(inputs=[USEquityPricing.close], window_length=10, mask=base_universe)\n",
    "\n",
    "# 30-day close price average.\n",
    "mean_30 = SimpleMovingAverage(inputs=[USEquityPricing.close], window_length=30, mask=base_universe)\n",
    "\n",
    "percent_difference = (mean_10 - mean_30) / mean_30"
   ]
  },
  {
   "cell_type": "markdown",
   "metadata": {},
   "source": [
    "Next, let's create filters for the top 75 and bottom 75 equities by `percent_difference`."
   ]
  },
  {
   "cell_type": "code",
   "execution_count": 6,
   "metadata": {
    "ExecuteTime": {
     "end_time": "2017-12-01T07:23:17.618273Z",
     "start_time": "2017-12-01T07:23:17.610273Z"
    }
   },
   "outputs": [],
   "source": [
    "# Create a filter to select securities to short.\n",
    "shorts = percent_difference.top(75)\n",
    "\n",
    "# Create a filter to select securities to long.\n",
    "longs = percent_difference.bottom(75)"
   ]
  },
  {
   "cell_type": "markdown",
   "metadata": {},
   "source": [
    "Let's then combine `shorts` and `longs` to create a new filter that we can use as the screen of our pipeline:"
   ]
  },
  {
   "cell_type": "code",
   "execution_count": 7,
   "metadata": {
    "ExecuteTime": {
     "end_time": "2017-12-01T07:23:17.633287Z",
     "start_time": "2017-12-01T07:23:17.619810Z"
    }
   },
   "outputs": [],
   "source": [
    "securities_to_trade = (shorts | longs)"
   ]
  },
  {
   "cell_type": "markdown",
   "metadata": {},
   "source": [
    "Since our earlier filters were used as masks as we built up to this final filter, when we use `securities_to_trade` as a screen, the output securities will meet the criteria outlined at the beginning of the lesson (primary shares, non-ETFs, etc.). They will also have high dollar volume."
   ]
  },
  {
   "cell_type": "markdown",
   "metadata": {
    "collapsed": true
   },
   "source": [
    "Finally, let's instantiate our pipeline. Since we are planning on opening equally weighted long and short positions later, the only information that we actually need from our pipeline is which securities we want to trade (the pipeline index) and whether or not to open a long or a short position. Let's add our `longs` and `shorts` filters to our pipeline and set our screen to be `securities_to_trade`."
   ]
  },
  {
   "cell_type": "code",
   "execution_count": 8,
   "metadata": {
    "ExecuteTime": {
     "end_time": "2017-12-01T07:23:17.695507Z",
     "start_time": "2017-12-01T07:23:17.633287Z"
    }
   },
   "outputs": [],
   "source": [
    "def make_pipeline():\n",
    "    \n",
    "    # Base universe filter.\n",
    "    # base_universe = Q1500US()\n",
    "    base_universe = CNN(1500)\n",
    "    \n",
    "    # 10-day close price average.\n",
    "    mean_10 = SimpleMovingAverage(inputs=[USEquityPricing.close], window_length=10, mask=base_universe)\n",
    "\n",
    "    # 30-day close price average.\n",
    "    mean_30 = SimpleMovingAverage(inputs=[USEquityPricing.close], window_length=30, mask=base_universe)\n",
    "\n",
    "    # Percent difference factor.\n",
    "    percent_difference = (mean_10 - mean_30) / mean_30\n",
    "    \n",
    "    # Create a filter to select securities to short.\n",
    "    shorts = percent_difference.top(75)\n",
    "\n",
    "    # Create a filter to select securities to long.\n",
    "    longs = percent_difference.bottom(75)\n",
    "    \n",
    "    # Filter for the securities that we want to trade.\n",
    "    securities_to_trade = (shorts | longs)\n",
    "    \n",
    "    return Pipeline(\n",
    "        columns={\n",
    "            'longs': longs,\n",
    "            'shorts': shorts\n",
    "        },\n",
    "        screen=securities_to_trade\n",
    "    )"
   ]
  },
  {
   "cell_type": "markdown",
   "metadata": {},
   "source": [
    "Running this pipeline will result in a DataFrame with 150 rows and 2 columns each day. Each day, the columns will contain boolean values that we can use to decide whether we want to open a long or short position in each security."
   ]
  },
  {
   "cell_type": "code",
   "execution_count": 9,
   "metadata": {
    "ExecuteTime": {
     "end_time": "2017-12-01T07:23:18.749256Z",
     "start_time": "2017-12-01T07:23:17.695507Z"
    }
   },
   "outputs": [
    {
     "data": {
      "text/html": [
       "<div>\n",
       "<style scoped>\n",
       "    .dataframe tbody tr th:only-of-type {\n",
       "        vertical-align: middle;\n",
       "    }\n",
       "\n",
       "    .dataframe tbody tr th {\n",
       "        vertical-align: top;\n",
       "    }\n",
       "\n",
       "    .dataframe thead th {\n",
       "        text-align: right;\n",
       "    }\n",
       "</style>\n",
       "<table border=\"1\" class=\"dataframe\">\n",
       "  <thead>\n",
       "    <tr style=\"text-align: right;\">\n",
       "      <th></th>\n",
       "      <th></th>\n",
       "      <th>longs</th>\n",
       "      <th>shorts</th>\n",
       "    </tr>\n",
       "  </thead>\n",
       "  <tbody>\n",
       "    <tr>\n",
       "      <th rowspan=\"61\" valign=\"top\">2015-05-05 00:00:00+00:00</th>\n",
       "      <th>Equity(000065 [北方国际])</th>\n",
       "      <td>False</td>\n",
       "      <td>True</td>\n",
       "    </tr>\n",
       "    <tr>\n",
       "      <th>Equity(000066 [中国长城])</th>\n",
       "      <td>True</td>\n",
       "      <td>False</td>\n",
       "    </tr>\n",
       "    <tr>\n",
       "      <th>Equity(000078 [海王生物])</th>\n",
       "      <td>False</td>\n",
       "      <td>True</td>\n",
       "    </tr>\n",
       "    <tr>\n",
       "      <th>Equity(000156 [华数传媒])</th>\n",
       "      <td>True</td>\n",
       "      <td>False</td>\n",
       "    </tr>\n",
       "    <tr>\n",
       "      <th>Equity(000410 [*ST沈机])</th>\n",
       "      <td>False</td>\n",
       "      <td>True</td>\n",
       "    </tr>\n",
       "    <tr>\n",
       "      <th>Equity(000415 [渤海金控])</th>\n",
       "      <td>False</td>\n",
       "      <td>True</td>\n",
       "    </tr>\n",
       "    <tr>\n",
       "      <th>Equity(000516 [国际医学])</th>\n",
       "      <td>False</td>\n",
       "      <td>True</td>\n",
       "    </tr>\n",
       "    <tr>\n",
       "      <th>Equity(000517 [荣安地产])</th>\n",
       "      <td>False</td>\n",
       "      <td>True</td>\n",
       "    </tr>\n",
       "    <tr>\n",
       "      <th>Equity(000592 [平潭发展])</th>\n",
       "      <td>True</td>\n",
       "      <td>False</td>\n",
       "    </tr>\n",
       "    <tr>\n",
       "      <th>Equity(000681 [视觉中国])</th>\n",
       "      <td>True</td>\n",
       "      <td>False</td>\n",
       "    </tr>\n",
       "    <tr>\n",
       "      <th>Equity(000806 [银河生物])</th>\n",
       "      <td>False</td>\n",
       "      <td>True</td>\n",
       "    </tr>\n",
       "    <tr>\n",
       "      <th>Equity(000812 [陕西金叶])</th>\n",
       "      <td>True</td>\n",
       "      <td>False</td>\n",
       "    </tr>\n",
       "    <tr>\n",
       "      <th>Equity(000835 [长城动漫])</th>\n",
       "      <td>True</td>\n",
       "      <td>False</td>\n",
       "    </tr>\n",
       "    <tr>\n",
       "      <th>Equity(000851 [高鸿股份])</th>\n",
       "      <td>True</td>\n",
       "      <td>False</td>\n",
       "    </tr>\n",
       "    <tr>\n",
       "      <th>Equity(000859 [国风塑业])</th>\n",
       "      <td>False</td>\n",
       "      <td>True</td>\n",
       "    </tr>\n",
       "    <tr>\n",
       "      <th>Equity(000875 [吉电股份])</th>\n",
       "      <td>False</td>\n",
       "      <td>True</td>\n",
       "    </tr>\n",
       "    <tr>\n",
       "      <th>Equity(000893 [东凌国际])</th>\n",
       "      <td>True</td>\n",
       "      <td>False</td>\n",
       "    </tr>\n",
       "    <tr>\n",
       "      <th>Equity(000923 [河北宣工])</th>\n",
       "      <td>False</td>\n",
       "      <td>True</td>\n",
       "    </tr>\n",
       "    <tr>\n",
       "      <th>Equity(000930 [中粮生化])</th>\n",
       "      <td>False</td>\n",
       "      <td>True</td>\n",
       "    </tr>\n",
       "    <tr>\n",
       "      <th>Equity(000936 [华西股份])</th>\n",
       "      <td>False</td>\n",
       "      <td>True</td>\n",
       "    </tr>\n",
       "    <tr>\n",
       "      <th>Equity(000967 [盈峰环境])</th>\n",
       "      <td>False</td>\n",
       "      <td>True</td>\n",
       "    </tr>\n",
       "    <tr>\n",
       "      <th>Equity(000971 [高升控股])</th>\n",
       "      <td>False</td>\n",
       "      <td>True</td>\n",
       "    </tr>\n",
       "    <tr>\n",
       "      <th>Equity(002009 [天奇股份])</th>\n",
       "      <td>True</td>\n",
       "      <td>False</td>\n",
       "    </tr>\n",
       "    <tr>\n",
       "      <th>Equity(002031 [巨轮智能])</th>\n",
       "      <td>True</td>\n",
       "      <td>False</td>\n",
       "    </tr>\n",
       "    <tr>\n",
       "      <th>Equity(002044 [美年健康])</th>\n",
       "      <td>False</td>\n",
       "      <td>True</td>\n",
       "    </tr>\n",
       "    <tr>\n",
       "      <th>Equity(002070 [*ST众和])</th>\n",
       "      <td>True</td>\n",
       "      <td>False</td>\n",
       "    </tr>\n",
       "    <tr>\n",
       "      <th>Equity(002079 [苏州固锝])</th>\n",
       "      <td>True</td>\n",
       "      <td>False</td>\n",
       "    </tr>\n",
       "    <tr>\n",
       "      <th>Equity(002081 [金 螳 螂])</th>\n",
       "      <td>True</td>\n",
       "      <td>False</td>\n",
       "    </tr>\n",
       "    <tr>\n",
       "      <th>Equity(002084 [海鸥卫浴])</th>\n",
       "      <td>True</td>\n",
       "      <td>False</td>\n",
       "    </tr>\n",
       "    <tr>\n",
       "      <th>Equity(002095 [生 意 宝])</th>\n",
       "      <td>True</td>\n",
       "      <td>False</td>\n",
       "    </tr>\n",
       "    <tr>\n",
       "      <th>...</th>\n",
       "      <td>...</td>\n",
       "      <td>...</td>\n",
       "    </tr>\n",
       "    <tr>\n",
       "      <th>Equity(600637 [东方明珠])</th>\n",
       "      <td>False</td>\n",
       "      <td>True</td>\n",
       "    </tr>\n",
       "    <tr>\n",
       "      <th>Equity(600654 [*ST中安])</th>\n",
       "      <td>False</td>\n",
       "      <td>True</td>\n",
       "    </tr>\n",
       "    <tr>\n",
       "      <th>Equity(600661 [新南洋])</th>\n",
       "      <td>True</td>\n",
       "      <td>False</td>\n",
       "    </tr>\n",
       "    <tr>\n",
       "      <th>Equity(600665 [天地源])</th>\n",
       "      <td>False</td>\n",
       "      <td>True</td>\n",
       "    </tr>\n",
       "    <tr>\n",
       "      <th>Equity(600682 [南京新百])</th>\n",
       "      <td>False</td>\n",
       "      <td>True</td>\n",
       "    </tr>\n",
       "    <tr>\n",
       "      <th>Equity(600688 [上海石化])</th>\n",
       "      <td>False</td>\n",
       "      <td>True</td>\n",
       "    </tr>\n",
       "    <tr>\n",
       "      <th>Equity(600749 [西藏旅游])</th>\n",
       "      <td>False</td>\n",
       "      <td>True</td>\n",
       "    </tr>\n",
       "    <tr>\n",
       "      <th>Equity(600794 [保税科技])</th>\n",
       "      <td>True</td>\n",
       "      <td>False</td>\n",
       "    </tr>\n",
       "    <tr>\n",
       "      <th>Equity(600804 [鹏博士])</th>\n",
       "      <td>True</td>\n",
       "      <td>False</td>\n",
       "    </tr>\n",
       "    <tr>\n",
       "      <th>Equity(600832 [东方明珠])</th>\n",
       "      <td>False</td>\n",
       "      <td>True</td>\n",
       "    </tr>\n",
       "    <tr>\n",
       "      <th>Equity(600880 [博瑞传播])</th>\n",
       "      <td>True</td>\n",
       "      <td>False</td>\n",
       "    </tr>\n",
       "    <tr>\n",
       "      <th>Equity(600978 [宜华生活])</th>\n",
       "      <td>False</td>\n",
       "      <td>True</td>\n",
       "    </tr>\n",
       "    <tr>\n",
       "      <th>Equity(601018 [宁波港])</th>\n",
       "      <td>False</td>\n",
       "      <td>True</td>\n",
       "    </tr>\n",
       "    <tr>\n",
       "      <th>Equity(601106 [*ST一重])</th>\n",
       "      <td>False</td>\n",
       "      <td>True</td>\n",
       "    </tr>\n",
       "    <tr>\n",
       "      <th>Equity(601179 [中国西电])</th>\n",
       "      <td>False</td>\n",
       "      <td>True</td>\n",
       "    </tr>\n",
       "    <tr>\n",
       "      <th>Equity(601299 [中国北车])</th>\n",
       "      <td>False</td>\n",
       "      <td>True</td>\n",
       "    </tr>\n",
       "    <tr>\n",
       "      <th>Equity(601388 [怡球资源])</th>\n",
       "      <td>False</td>\n",
       "      <td>True</td>\n",
       "    </tr>\n",
       "    <tr>\n",
       "      <th>Equity(601390 [中国中铁])</th>\n",
       "      <td>False</td>\n",
       "      <td>True</td>\n",
       "    </tr>\n",
       "    <tr>\n",
       "      <th>Equity(601600 [中国铝业])</th>\n",
       "      <td>False</td>\n",
       "      <td>True</td>\n",
       "    </tr>\n",
       "    <tr>\n",
       "      <th>Equity(601618 [中国中冶])</th>\n",
       "      <td>False</td>\n",
       "      <td>True</td>\n",
       "    </tr>\n",
       "    <tr>\n",
       "      <th>Equity(601669 [中国电建])</th>\n",
       "      <td>False</td>\n",
       "      <td>True</td>\n",
       "    </tr>\n",
       "    <tr>\n",
       "      <th>Equity(601718 [际华集团])</th>\n",
       "      <td>False</td>\n",
       "      <td>True</td>\n",
       "    </tr>\n",
       "    <tr>\n",
       "      <th>Equity(601727 [上海电气])</th>\n",
       "      <td>False</td>\n",
       "      <td>True</td>\n",
       "    </tr>\n",
       "    <tr>\n",
       "      <th>Equity(601766 [中国中车])</th>\n",
       "      <td>False</td>\n",
       "      <td>True</td>\n",
       "    </tr>\n",
       "    <tr>\n",
       "      <th>Equity(601866 [中远海发])</th>\n",
       "      <td>False</td>\n",
       "      <td>True</td>\n",
       "    </tr>\n",
       "    <tr>\n",
       "      <th>Equity(601877 [正泰电器])</th>\n",
       "      <td>True</td>\n",
       "      <td>False</td>\n",
       "    </tr>\n",
       "    <tr>\n",
       "      <th>Equity(601919 [中远海控])</th>\n",
       "      <td>False</td>\n",
       "      <td>True</td>\n",
       "    </tr>\n",
       "    <tr>\n",
       "      <th>Equity(601989 [中国重工])</th>\n",
       "      <td>False</td>\n",
       "      <td>True</td>\n",
       "    </tr>\n",
       "    <tr>\n",
       "      <th>Equity(603686 [龙马环卫])</th>\n",
       "      <td>False</td>\n",
       "      <td>True</td>\n",
       "    </tr>\n",
       "    <tr>\n",
       "      <th>Equity(603869 [北部湾旅])</th>\n",
       "      <td>False</td>\n",
       "      <td>True</td>\n",
       "    </tr>\n",
       "  </tbody>\n",
       "</table>\n",
       "<p>150 rows × 2 columns</p>\n",
       "</div>"
      ],
      "text/plain": [
       "                                                  longs  shorts\n",
       "2015-05-05 00:00:00+00:00 Equity(000065 [北方国际])   False    True\n",
       "                          Equity(000066 [中国长城])    True   False\n",
       "                          Equity(000078 [海王生物])   False    True\n",
       "                          Equity(000156 [华数传媒])    True   False\n",
       "                          Equity(000410 [*ST沈机])  False    True\n",
       "                          Equity(000415 [渤海金控])   False    True\n",
       "                          Equity(000516 [国际医学])   False    True\n",
       "                          Equity(000517 [荣安地产])   False    True\n",
       "                          Equity(000592 [平潭发展])    True   False\n",
       "                          Equity(000681 [视觉中国])    True   False\n",
       "                          Equity(000806 [银河生物])   False    True\n",
       "                          Equity(000812 [陕西金叶])    True   False\n",
       "                          Equity(000835 [长城动漫])    True   False\n",
       "                          Equity(000851 [高鸿股份])    True   False\n",
       "                          Equity(000859 [国风塑业])   False    True\n",
       "                          Equity(000875 [吉电股份])   False    True\n",
       "                          Equity(000893 [东凌国际])    True   False\n",
       "                          Equity(000923 [河北宣工])   False    True\n",
       "                          Equity(000930 [中粮生化])   False    True\n",
       "                          Equity(000936 [华西股份])   False    True\n",
       "                          Equity(000967 [盈峰环境])   False    True\n",
       "                          Equity(000971 [高升控股])   False    True\n",
       "                          Equity(002009 [天奇股份])    True   False\n",
       "                          Equity(002031 [巨轮智能])    True   False\n",
       "                          Equity(002044 [美年健康])   False    True\n",
       "                          Equity(002070 [*ST众和])   True   False\n",
       "                          Equity(002079 [苏州固锝])    True   False\n",
       "                          Equity(002081 [金 螳 螂])   True   False\n",
       "                          Equity(002084 [海鸥卫浴])    True   False\n",
       "                          Equity(002095 [生 意 宝])   True   False\n",
       "...                                                 ...     ...\n",
       "                          Equity(600637 [东方明珠])   False    True\n",
       "                          Equity(600654 [*ST中安])  False    True\n",
       "                          Equity(600661 [新南洋])     True   False\n",
       "                          Equity(600665 [天地源])    False    True\n",
       "                          Equity(600682 [南京新百])   False    True\n",
       "                          Equity(600688 [上海石化])   False    True\n",
       "                          Equity(600749 [西藏旅游])   False    True\n",
       "                          Equity(600794 [保税科技])    True   False\n",
       "                          Equity(600804 [鹏博士])     True   False\n",
       "                          Equity(600832 [东方明珠])   False    True\n",
       "                          Equity(600880 [博瑞传播])    True   False\n",
       "                          Equity(600978 [宜华生活])   False    True\n",
       "                          Equity(601018 [宁波港])    False    True\n",
       "                          Equity(601106 [*ST一重])  False    True\n",
       "                          Equity(601179 [中国西电])   False    True\n",
       "                          Equity(601299 [中国北车])   False    True\n",
       "                          Equity(601388 [怡球资源])   False    True\n",
       "                          Equity(601390 [中国中铁])   False    True\n",
       "                          Equity(601600 [中国铝业])   False    True\n",
       "                          Equity(601618 [中国中冶])   False    True\n",
       "                          Equity(601669 [中国电建])   False    True\n",
       "                          Equity(601718 [际华集团])   False    True\n",
       "                          Equity(601727 [上海电气])   False    True\n",
       "                          Equity(601766 [中国中车])   False    True\n",
       "                          Equity(601866 [中远海发])   False    True\n",
       "                          Equity(601877 [正泰电器])    True   False\n",
       "                          Equity(601919 [中远海控])   False    True\n",
       "                          Equity(601989 [中国重工])   False    True\n",
       "                          Equity(603686 [龙马环卫])   False    True\n",
       "                          Equity(603869 [北部湾旅])   False    True\n",
       "\n",
       "[150 rows x 2 columns]"
      ]
     },
     "execution_count": 9,
     "metadata": {},
     "output_type": "execute_result"
    }
   ],
   "source": [
    "result = run_pipeline(make_pipeline(), '2015-05-05', '2015-05-05')\n",
    "result"
   ]
  },
  {
   "cell_type": "markdown",
   "metadata": {},
   "source": [
    "In the next lesson, we'll add this pipeline to an algorithm."
   ]
  }
 ],
 "metadata": {
  "kernelspec": {
   "display_name": "backtest",
   "language": "python",
   "name": "bt36"
  },
  "language_info": {
   "codemirror_mode": {
    "name": "ipython",
    "version": 3
   },
   "file_extension": ".py",
   "mimetype": "text/x-python",
   "name": "python",
   "nbconvert_exporter": "python",
   "pygments_lexer": "ipython3",
   "version": "3.6.3"
  },
  "toc": {
   "nav_menu": {},
   "number_sections": true,
   "sideBar": true,
   "skip_h1_title": false,
   "toc_cell": false,
   "toc_position": {},
   "toc_section_display": "block",
   "toc_window_display": false
  }
 },
 "nbformat": 4,
 "nbformat_minor": 1
}
