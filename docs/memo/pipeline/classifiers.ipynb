{
 "cells": [
  {
   "cell_type": "code",
   "execution_count": 1,
   "metadata": {
    "ExecuteTime": {
     "end_time": "2017-11-28T08:49:11.857681Z",
     "start_time": "2017-11-28T08:49:06.870362Z"
    }
   },
   "outputs": [],
   "source": [
    "%load_ext zipline"
   ]
  },
  {
   "cell_type": "markdown",
   "metadata": {},
   "source": [
    "## `Classifiers`\n",
    "A classifier is a function from an asset and a moment in time to a categorical output such as a string or integer label:\n",
    "> F(asset, timestamp) -> category\n",
    "\n",
    "An example of a classifier producing a string output is the exchange ID of a security. To create this classifier, we'll have to import Fundamentals.exchange_id and use the latest attribute to instantiate our classifier:"
   ]
  },
  {
   "cell_type": "raw",
   "metadata": {},
   "source": [
    "from zipline.pipeline.data import Fundamentals\n",
    "\n",
    "# Since the underlying data of Fundamentals.exchange_id\n",
    "# is of type string, .latest returns a Classifier\n",
    "exchange = Fundamentals.exchange_id.latest"
   ]
  },
  {
   "cell_type": "markdown",
   "metadata": {
    "ExecuteTime": {
     "end_time": "2017-11-23T16:48:56.556640Z",
     "start_time": "2017-11-23T16:48:56.541014Z"
    }
   },
   "source": [
    "Previously, we saw that the `latest` attribute produced an instance of a `Factor`. In this case, since the underlying data is of type `string`, `latest` produces a `Classifier`.\n",
    "\n",
    "Similarly, a computation producing the latest Morningstar sector code of a security is a `Classifier`. In this case, the underlying type is an `int`, but the integer doesn't represent a numerical value (it's a category) so it produces a classifier. To get the latest sector code, we can use the built-in `Sector` classifier.\n",
    "\n",
    "<span class=\"burk\">使用：`Fundamentals.industry.cninfo_sector`（巨潮）和`Fundamentals.industry.csrc_sector`（证监会）</span>"
   ]
  },
  {
   "cell_type": "markdown",
   "metadata": {},
   "source": [
    "### `Building Filters from Classifiers`\n",
    "\n",
    "Classifiers can also be used to produce filters with methods like `isnull`, `eq`, and `startswith`. The full list of `Classifier` methods producing `Filters` can be found here. can be found [here](https://www.quantopian.com/help#quantopian_pipeline_classifiers_Classifier).\n",
    "\n",
    "As an example, if we wanted a filter to select for securities trading on the New York Stock Exchange, we can use the `eq` method of our `exchange` classifier."
   ]
  },
  {
   "cell_type": "code",
   "execution_count": 2,
   "metadata": {
    "ExecuteTime": {
     "end_time": "2017-11-28T08:49:11.873277Z",
     "start_time": "2017-11-28T08:49:11.857681Z"
    }
   },
   "outputs": [],
   "source": [
    "from zipline.pipeline.data.fundamentals import Fundamentals"
   ]
  },
  {
   "cell_type": "code",
   "execution_count": 3,
   "metadata": {
    "ExecuteTime": {
     "end_time": "2017-11-28T08:49:11.982654Z",
     "start_time": "2017-11-28T08:49:11.873277Z"
    }
   },
   "outputs": [],
   "source": [
    "short_name = Fundamentals.short_name.latest"
   ]
  },
  {
   "cell_type": "code",
   "execution_count": 4,
   "metadata": {
    "ExecuteTime": {
     "end_time": "2017-11-28T08:49:12.013906Z",
     "start_time": "2017-11-28T08:49:11.982654Z"
    }
   },
   "outputs": [
    {
     "data": {
      "text/plain": [
       "zipline.pipeline.classifiers.classifier.Latest"
      ]
     },
     "execution_count": 4,
     "metadata": {},
     "output_type": "execute_result"
    }
   ],
   "source": [
    "type(short_name)"
   ]
  },
  {
   "cell_type": "code",
   "execution_count": 5,
   "metadata": {
    "ExecuteTime": {
     "end_time": "2017-11-28T08:49:12.045159Z",
     "start_time": "2017-11-28T08:49:12.013906Z"
    }
   },
   "outputs": [
    {
     "data": {
      "text/html": [
       "<div>\n",
       "<style scoped>\n",
       "    .dataframe tbody tr th:only-of-type {\n",
       "        vertical-align: middle;\n",
       "    }\n",
       "\n",
       "    .dataframe tbody tr th {\n",
       "        vertical-align: top;\n",
       "    }\n",
       "\n",
       "    .dataframe thead th {\n",
       "        text-align: right;\n",
       "    }\n",
       "</style>\n",
       "<table border=\"1\" class=\"dataframe\">\n",
       "  <thead>\n",
       "    <tr style=\"text-align: right;\">\n",
       "      <th></th>\n",
       "      <th>code</th>\n",
       "      <th>name</th>\n",
       "    </tr>\n",
       "  </thead>\n",
       "  <tbody>\n",
       "    <tr>\n",
       "      <th>151</th>\n",
       "      <td>B044</td>\n",
       "      <td>基本每股收益</td>\n",
       "    </tr>\n",
       "    <tr>\n",
       "      <th>152</th>\n",
       "      <td>B045</td>\n",
       "      <td>稀释每股收益</td>\n",
       "    </tr>\n",
       "    <tr>\n",
       "      <th>242</th>\n",
       "      <td>D001</td>\n",
       "      <td>基本每股收益</td>\n",
       "    </tr>\n",
       "    <tr>\n",
       "      <th>243</th>\n",
       "      <td>D002</td>\n",
       "      <td>每股净资产</td>\n",
       "    </tr>\n",
       "    <tr>\n",
       "      <th>244</th>\n",
       "      <td>D003</td>\n",
       "      <td>每股经营活动产生的现金流量净额</td>\n",
       "    </tr>\n",
       "  </tbody>\n",
       "</table>\n",
       "</div>"
      ],
      "text/plain": [
       "     code             name\n",
       "151  B044           基本每股收益\n",
       "152  B045           稀释每股收益\n",
       "242  D001           基本每股收益\n",
       "243  D002            每股净资产\n",
       "244  D003  每股经营活动产生的现金流量净额"
      ]
     },
     "execution_count": 5,
     "metadata": {},
     "output_type": "execute_result"
    }
   ],
   "source": [
    "Fundamentals.query_report_item_code('每股')"
   ]
  },
  {
   "cell_type": "code",
   "execution_count": 6,
   "metadata": {
    "ExecuteTime": {
     "end_time": "2017-11-28T08:49:12.185793Z",
     "start_time": "2017-11-28T08:49:12.045159Z"
    }
   },
   "outputs": [
    {
     "data": {
      "text/plain": [
       "cninfo.industry::object"
      ]
     },
     "execution_count": 6,
     "metadata": {},
     "output_type": "execute_result"
    }
   ],
   "source": [
    "Fundamentals.cninfo.industry"
   ]
  },
  {
   "cell_type": "code",
   "execution_count": 7,
   "metadata": {
    "ExecuteTime": {
     "end_time": "2017-11-28T08:49:12.201412Z",
     "start_time": "2017-11-28T08:49:12.185793Z"
    }
   },
   "outputs": [
    {
     "data": {
      "text/plain": [
       "cninfo.group::object"
      ]
     },
     "execution_count": 7,
     "metadata": {},
     "output_type": "execute_result"
    }
   ],
   "source": [
    "Fundamentals.cninfo.group"
   ]
  },
  {
   "cell_type": "code",
   "execution_count": null,
   "metadata": {},
   "outputs": [],
   "source": []
  }
 ],
 "metadata": {
  "kernelspec": {
   "display_name": "backtest",
   "language": "python",
   "name": "bt36"
  },
  "language_info": {
   "codemirror_mode": {
    "name": "ipython",
    "version": 3
   },
   "file_extension": ".py",
   "mimetype": "text/x-python",
   "name": "python",
   "nbconvert_exporter": "python",
   "pygments_lexer": "ipython3",
   "version": "3.6.3"
  },
  "toc": {
   "nav_menu": {},
   "number_sections": true,
   "sideBar": true,
   "skip_h1_title": false,
   "toc_cell": false,
   "toc_position": {},
   "toc_section_display": "block",
   "toc_window_display": false
  }
 },
 "nbformat": 4,
 "nbformat_minor": 2
}
