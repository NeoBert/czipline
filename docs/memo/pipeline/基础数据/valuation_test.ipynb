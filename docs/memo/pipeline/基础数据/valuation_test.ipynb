{
 "cells": [
  {
   "cell_type": "code",
   "execution_count": 1,
   "metadata": {
    "ExecuteTime": {
     "end_time": "2017-12-10T03:25:34.136476Z",
     "start_time": "2017-12-10T03:25:28.236551Z"
    }
   },
   "outputs": [],
   "source": [
    "from zipline.pipeline import Fundamentals"
   ]
  },
  {
   "cell_type": "code",
   "execution_count": 2,
   "metadata": {
    "ExecuteTime": {
     "end_time": "2017-12-10T03:25:34.152098Z",
     "start_time": "2017-12-10T03:25:34.136476Z"
    }
   },
   "outputs": [],
   "source": [
    "from zipline.pipeline.factors import CustomFactor"
   ]
  },
  {
   "cell_type": "code",
   "execution_count": 3,
   "metadata": {
    "ExecuteTime": {
     "end_time": "2017-12-10T03:25:34.737934Z",
     "start_time": "2017-12-10T03:25:34.152098Z"
    }
   },
   "outputs": [],
   "source": [
    "from zipline.research import run_pipeline"
   ]
  },
  {
   "cell_type": "code",
   "execution_count": 4,
   "metadata": {
    "ExecuteTime": {
     "end_time": "2017-12-10T03:25:34.749621Z",
     "start_time": "2017-12-10T03:25:34.737934Z"
    }
   },
   "outputs": [],
   "source": [
    "from zipline.pipeline import Pipeline"
   ]
  },
  {
   "cell_type": "code",
   "execution_count": 5,
   "metadata": {
    "ExecuteTime": {
     "end_time": "2017-12-10T03:25:36.870253Z",
     "start_time": "2017-12-10T03:25:34.753622Z"
    }
   },
   "outputs": [],
   "source": [
    "from zipline.pipeline.valuation import NOPLAT, FCF"
   ]
  },
  {
   "cell_type": "code",
   "execution_count": 16,
   "metadata": {
    "ExecuteTime": {
     "end_time": "2017-12-10T03:27:53.581350Z",
     "start_time": "2017-12-10T03:27:53.565350Z"
    }
   },
   "outputs": [],
   "source": [
    "def make_pipeline():\n",
    "    not_f = Fundamentals.cninfo.sector.latest != 103\n",
    "    return Pipeline(\n",
    "        columns = {\n",
    "            'asof_date':Fundamentals.income_statement.asof_date.latest,\n",
    "            'noplat':NOPLAT(mask = not_f),\n",
    "            'fcf':FCF()\n",
    "        },\n",
    "        screen = not_f\n",
    "    )"
   ]
  },
  {
   "cell_type": "code",
   "execution_count": 17,
   "metadata": {
    "ExecuteTime": {
     "end_time": "2017-12-10T03:27:59.139545Z",
     "start_time": "2017-12-10T03:27:54.037763Z"
    }
   },
   "outputs": [],
   "source": [
    "df = run_pipeline(make_pipeline(), '2017-8-14','2017-8-15')"
   ]
  },
  {
   "cell_type": "code",
   "execution_count": 18,
   "metadata": {
    "ExecuteTime": {
     "end_time": "2017-12-10T03:28:05.076601Z",
     "start_time": "2017-12-10T03:28:05.064601Z"
    }
   },
   "outputs": [
    {
     "data": {
      "text/plain": [
       "Equity(603998 [方盛制药])"
      ]
     },
     "execution_count": 18,
     "metadata": {},
     "output_type": "execute_result"
    }
   ],
   "source": [
    "sid_idx = df.index.get_level_values(1)[-2]\n",
    "sid_idx"
   ]
  },
  {
   "cell_type": "code",
   "execution_count": 19,
   "metadata": {
    "ExecuteTime": {
     "end_time": "2017-12-10T03:28:06.389507Z",
     "start_time": "2017-12-10T03:28:06.365508Z"
    }
   },
   "outputs": [
    {
     "data": {
      "text/html": [
       "<div>\n",
       "<style scoped>\n",
       "    .dataframe tbody tr th:only-of-type {\n",
       "        vertical-align: middle;\n",
       "    }\n",
       "\n",
       "    .dataframe tbody tr th {\n",
       "        vertical-align: top;\n",
       "    }\n",
       "\n",
       "    .dataframe thead th {\n",
       "        text-align: right;\n",
       "    }\n",
       "</style>\n",
       "<table border=\"1\" class=\"dataframe\">\n",
       "  <thead>\n",
       "    <tr style=\"text-align: right;\">\n",
       "      <th></th>\n",
       "      <th>asof_date</th>\n",
       "      <th>fcf</th>\n",
       "      <th>noplat</th>\n",
       "    </tr>\n",
       "  </thead>\n",
       "  <tbody>\n",
       "    <tr>\n",
       "      <th>2017-08-14 00:00:00+00:00</th>\n",
       "      <td>2017-03-31</td>\n",
       "      <td>6599.413245</td>\n",
       "      <td>1941.413245</td>\n",
       "    </tr>\n",
       "    <tr>\n",
       "      <th>2017-08-15 00:00:00+00:00</th>\n",
       "      <td>2017-06-30</td>\n",
       "      <td>12637.203255</td>\n",
       "      <td>4546.203255</td>\n",
       "    </tr>\n",
       "  </tbody>\n",
       "</table>\n",
       "</div>"
      ],
      "text/plain": [
       "                           asof_date           fcf       noplat\n",
       "2017-08-14 00:00:00+00:00 2017-03-31   6599.413245  1941.413245\n",
       "2017-08-15 00:00:00+00:00 2017-06-30  12637.203255  4546.203255"
      ]
     },
     "execution_count": 19,
     "metadata": {},
     "output_type": "execute_result"
    }
   ],
   "source": [
    "df.xs(sid_idx, level=1)"
   ]
  },
  {
   "cell_type": "code",
   "execution_count": 13,
   "metadata": {
    "ExecuteTime": {
     "end_time": "2017-12-10T03:26:03.375614Z",
     "start_time": "2017-12-10T03:26:03.351612Z"
    }
   },
   "outputs": [
    {
     "data": {
      "text/html": [
       "<div>\n",
       "<style scoped>\n",
       "    .dataframe tbody tr th:only-of-type {\n",
       "        vertical-align: middle;\n",
       "    }\n",
       "\n",
       "    .dataframe tbody tr th {\n",
       "        vertical-align: top;\n",
       "    }\n",
       "\n",
       "    .dataframe thead th {\n",
       "        text-align: right;\n",
       "    }\n",
       "</style>\n",
       "<table border=\"1\" class=\"dataframe\">\n",
       "  <thead>\n",
       "    <tr style=\"text-align: right;\">\n",
       "      <th></th>\n",
       "      <th>code</th>\n",
       "      <th>name</th>\n",
       "    </tr>\n",
       "  </thead>\n",
       "  <tbody>\n",
       "    <tr>\n",
       "      <th>192</th>\n",
       "      <td>C040</td>\n",
       "      <td>投资活动产生的现金流量净额</td>\n",
       "    </tr>\n",
       "  </tbody>\n",
       "</table>\n",
       "</div>"
      ],
      "text/plain": [
       "     code            name\n",
       "192  C040   投资活动产生的现金流量净额"
      ]
     },
     "execution_count": 13,
     "metadata": {},
     "output_type": "execute_result"
    }
   ],
   "source": [
    "Fundamentals.query_report_item_code('投资活动产生的现金流量')"
   ]
  },
  {
   "cell_type": "code",
   "execution_count": null,
   "metadata": {},
   "outputs": [],
   "source": []
  }
 ],
 "metadata": {
  "kernelspec": {
   "display_name": "zipline",
   "language": "python",
   "name": "zipline"
  },
  "language_info": {
   "codemirror_mode": {
    "name": "ipython",
    "version": 3
   },
   "file_extension": ".py",
   "mimetype": "text/x-python",
   "name": "python",
   "nbconvert_exporter": "python",
   "pygments_lexer": "ipython3",
   "version": "3.6.3"
  },
  "toc": {
   "nav_menu": {},
   "number_sections": true,
   "sideBar": true,
   "skip_h1_title": false,
   "toc_cell": false,
   "toc_position": {},
   "toc_section_display": "block",
   "toc_window_display": false
  },
  "varInspector": {
   "cols": {
    "lenName": 16,
    "lenType": 16,
    "lenVar": 40
   },
   "kernels_config": {
    "python": {
     "delete_cmd_postfix": "",
     "delete_cmd_prefix": "del ",
     "library": "var_list.py",
     "varRefreshCmd": "print(var_dic_list())"
    },
    "r": {
     "delete_cmd_postfix": ") ",
     "delete_cmd_prefix": "rm(",
     "library": "var_list.r",
     "varRefreshCmd": "cat(var_dic_list()) "
    }
   },
   "types_to_exclude": [
    "module",
    "function",
    "builtin_function_or_method",
    "instance",
    "_Feature"
   ],
   "window_display": false
  }
 },
 "nbformat": 4,
 "nbformat_minor": 2
}
