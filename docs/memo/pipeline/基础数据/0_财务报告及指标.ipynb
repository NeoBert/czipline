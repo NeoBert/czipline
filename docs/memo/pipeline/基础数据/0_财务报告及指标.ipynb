{
 "cells": [
  {
   "cell_type": "markdown",
   "metadata": {},
   "source": [
    "财务报告及指标说明"
   ]
  },
  {
   "cell_type": "markdown",
   "metadata": {},
   "source": [
    "## 表"
   ]
  },
  {
   "cell_type": "code",
   "execution_count": 1,
   "metadata": {
    "ExecuteTime": {
     "end_time": "2017-12-10T00:51:57.371936Z",
     "start_time": "2017-12-10T00:51:49.634721Z"
    }
   },
   "outputs": [],
   "source": [
    "from zipline.pipeline import Fundamentals"
   ]
  },
  {
   "cell_type": "markdown",
   "metadata": {},
   "source": [
    "### 资产负债表"
   ]
  },
  {
   "cell_type": "code",
   "execution_count": 2,
   "metadata": {
    "ExecuteTime": {
     "end_time": "2017-12-10T00:51:59.543904Z",
     "start_time": "2017-12-10T00:51:57.371936Z"
    }
   },
   "outputs": [
    {
     "data": {
      "text/plain": [
       "<DataSet: 'balance_sheet'>"
      ]
     },
     "execution_count": 2,
     "metadata": {},
     "output_type": "execute_result"
    }
   ],
   "source": [
    "Fundamentals.balance_sheet"
   ]
  },
  {
   "cell_type": "markdown",
   "metadata": {},
   "source": [
    "### 利润表"
   ]
  },
  {
   "cell_type": "code",
   "execution_count": 3,
   "metadata": {
    "ExecuteTime": {
     "end_time": "2017-12-10T00:52:00.668954Z",
     "start_time": "2017-12-10T00:51:59.543904Z"
    }
   },
   "outputs": [
    {
     "data": {
      "text/plain": [
       "<DataSet: 'income_statement'>"
      ]
     },
     "execution_count": 3,
     "metadata": {},
     "output_type": "execute_result"
    }
   ],
   "source": [
    "Fundamentals.income_statement"
   ]
  },
  {
   "cell_type": "markdown",
   "metadata": {},
   "source": [
    "### 现金流量表"
   ]
  },
  {
   "cell_type": "code",
   "execution_count": 4,
   "metadata": {
    "ExecuteTime": {
     "end_time": "2017-12-10T00:52:02.137767Z",
     "start_time": "2017-12-10T00:52:00.668954Z"
    }
   },
   "outputs": [
    {
     "data": {
      "text/plain": [
       "<DataSet: 'cash_flow'>"
      ]
     },
     "execution_count": 4,
     "metadata": {},
     "output_type": "execute_result"
    }
   ],
   "source": [
    "Fundamentals.cash_flow"
   ]
  },
  {
   "cell_type": "markdown",
   "metadata": {},
   "source": [
    "### 主要财务指标"
   ]
  },
  {
   "cell_type": "code",
   "execution_count": 5,
   "metadata": {
    "ExecuteTime": {
     "end_time": "2017-12-10T00:52:03.075320Z",
     "start_time": "2017-12-10T00:52:02.137767Z"
    }
   },
   "outputs": [
    {
     "data": {
      "text/plain": [
       "<DataSet: 'key_financial_indicators'>"
      ]
     },
     "execution_count": 5,
     "metadata": {},
     "output_type": "execute_result"
    }
   ],
   "source": [
    "Fundamentals.key_financial_indicators"
   ]
  },
  {
   "cell_type": "markdown",
   "metadata": {},
   "source": [
    "### 盈利能力"
   ]
  },
  {
   "cell_type": "code",
   "execution_count": 6,
   "metadata": {
    "ExecuteTime": {
     "end_time": "2017-12-10T00:52:03.997224Z",
     "start_time": "2017-12-10T00:52:03.075320Z"
    }
   },
   "outputs": [
    {
     "data": {
      "text/plain": [
       "<DataSet: 'earnings_ratios'>"
      ]
     },
     "execution_count": 6,
     "metadata": {},
     "output_type": "execute_result"
    }
   ],
   "source": [
    "Fundamentals.earnings_ratios"
   ]
  },
  {
   "cell_type": "markdown",
   "metadata": {},
   "source": [
    "### 偿债能力"
   ]
  },
  {
   "cell_type": "code",
   "execution_count": 7,
   "metadata": {
    "ExecuteTime": {
     "end_time": "2017-12-10T00:52:05.106650Z",
     "start_time": "2017-12-10T00:52:03.997224Z"
    }
   },
   "outputs": [
    {
     "data": {
      "text/plain": [
       "<DataSet: 'solvency_ratios'>"
      ]
     },
     "execution_count": 7,
     "metadata": {},
     "output_type": "execute_result"
    }
   ],
   "source": [
    "Fundamentals.solvency_ratios"
   ]
  },
  {
   "cell_type": "markdown",
   "metadata": {},
   "source": [
    "### 成长能力"
   ]
  },
  {
   "cell_type": "code",
   "execution_count": 8,
   "metadata": {
    "ExecuteTime": {
     "end_time": "2017-12-10T00:52:05.919189Z",
     "start_time": "2017-12-10T00:52:05.106650Z"
    }
   },
   "outputs": [
    {
     "data": {
      "text/plain": [
       "<DataSet: 'growth_ratios'>"
      ]
     },
     "execution_count": 8,
     "metadata": {},
     "output_type": "execute_result"
    }
   ],
   "source": [
    "Fundamentals.growth_ratios"
   ]
  },
  {
   "cell_type": "markdown",
   "metadata": {},
   "source": [
    "### 营业能力"
   ]
  },
  {
   "cell_type": "code",
   "execution_count": 9,
   "metadata": {
    "ExecuteTime": {
     "end_time": "2017-12-10T00:52:06.825481Z",
     "start_time": "2017-12-10T00:52:05.919189Z"
    }
   },
   "outputs": [
    {
     "data": {
      "text/plain": [
       "<DataSet: 'operation_ratios'>"
      ]
     },
     "execution_count": 9,
     "metadata": {},
     "output_type": "execute_result"
    }
   ],
   "source": [
    "Fundamentals.operation_ratios"
   ]
  },
  {
   "cell_type": "markdown",
   "metadata": {},
   "source": [
    "## 表包含的列"
   ]
  },
  {
   "cell_type": "code",
   "execution_count": 10,
   "metadata": {
    "ExecuteTime": {
     "end_time": "2017-12-10T00:52:06.856729Z",
     "start_time": "2017-12-10T00:52:06.825481Z"
    }
   },
   "outputs": [
    {
     "data": {
      "text/plain": [
       "frozenset({balance_sheet.A001::float64,\n",
       "           balance_sheet.A002::float64,\n",
       "           balance_sheet.A003::float64,\n",
       "           balance_sheet.A004::float64,\n",
       "           balance_sheet.A005::float64,\n",
       "           balance_sheet.A006::float64,\n",
       "           balance_sheet.A007::float64,\n",
       "           balance_sheet.A008::float64,\n",
       "           balance_sheet.A009::float64,\n",
       "           balance_sheet.A010::float64,\n",
       "           balance_sheet.A011::float64,\n",
       "           balance_sheet.A012::float64,\n",
       "           balance_sheet.A013::float64,\n",
       "           balance_sheet.A014::float64,\n",
       "           balance_sheet.A015::float64,\n",
       "           balance_sheet.A016::float64,\n",
       "           balance_sheet.A017::float64,\n",
       "           balance_sheet.A018::float64,\n",
       "           balance_sheet.A019::float64,\n",
       "           balance_sheet.A020::float64,\n",
       "           balance_sheet.A021::float64,\n",
       "           balance_sheet.A022::float64,\n",
       "           balance_sheet.A023::float64,\n",
       "           balance_sheet.A024::float64,\n",
       "           balance_sheet.A025::float64,\n",
       "           balance_sheet.A026::float64,\n",
       "           balance_sheet.A027::float64,\n",
       "           balance_sheet.A028::float64,\n",
       "           balance_sheet.A029::float64,\n",
       "           balance_sheet.A030::float64,\n",
       "           balance_sheet.A031::float64,\n",
       "           balance_sheet.A032::float64,\n",
       "           balance_sheet.A033::float64,\n",
       "           balance_sheet.A034::float64,\n",
       "           balance_sheet.A035::float64,\n",
       "           balance_sheet.A036::float64,\n",
       "           balance_sheet.A037::float64,\n",
       "           balance_sheet.A038::float64,\n",
       "           balance_sheet.A039::float64,\n",
       "           balance_sheet.A040::float64,\n",
       "           balance_sheet.A041::float64,\n",
       "           balance_sheet.A042::float64,\n",
       "           balance_sheet.A043::float64,\n",
       "           balance_sheet.A044::float64,\n",
       "           balance_sheet.A045::float64,\n",
       "           balance_sheet.A046::float64,\n",
       "           balance_sheet.A047::float64,\n",
       "           balance_sheet.A048::float64,\n",
       "           balance_sheet.A049::float64,\n",
       "           balance_sheet.A050::float64,\n",
       "           balance_sheet.A051::float64,\n",
       "           balance_sheet.A052::float64,\n",
       "           balance_sheet.A053::float64,\n",
       "           balance_sheet.A054::float64,\n",
       "           balance_sheet.A055::float64,\n",
       "           balance_sheet.A056::float64,\n",
       "           balance_sheet.A057::float64,\n",
       "           balance_sheet.A058::float64,\n",
       "           balance_sheet.A059::float64,\n",
       "           balance_sheet.A060::float64,\n",
       "           balance_sheet.A061::float64,\n",
       "           balance_sheet.A062::float64,\n",
       "           balance_sheet.A063::float64,\n",
       "           balance_sheet.A064::float64,\n",
       "           balance_sheet.A065::float64,\n",
       "           balance_sheet.A066::float64,\n",
       "           balance_sheet.A067::float64,\n",
       "           balance_sheet.A068::float64,\n",
       "           balance_sheet.A069::float64,\n",
       "           balance_sheet.A070::float64,\n",
       "           balance_sheet.A071::float64,\n",
       "           balance_sheet.A072::float64,\n",
       "           balance_sheet.A073::float64,\n",
       "           balance_sheet.A074::float64,\n",
       "           balance_sheet.A075::float64,\n",
       "           balance_sheet.A076::float64,\n",
       "           balance_sheet.A077::float64,\n",
       "           balance_sheet.A078::float64,\n",
       "           balance_sheet.A079::float64,\n",
       "           balance_sheet.A080::float64,\n",
       "           balance_sheet.A081::float64,\n",
       "           balance_sheet.A082::float64,\n",
       "           balance_sheet.A083::float64,\n",
       "           balance_sheet.A084::float64,\n",
       "           balance_sheet.A085::float64,\n",
       "           balance_sheet.A086::float64,\n",
       "           balance_sheet.A087::float64,\n",
       "           balance_sheet.A088::float64,\n",
       "           balance_sheet.A089::float64,\n",
       "           balance_sheet.A090::float64,\n",
       "           balance_sheet.A091::float64,\n",
       "           balance_sheet.A092::float64,\n",
       "           balance_sheet.A093::float64,\n",
       "           balance_sheet.A094::float64,\n",
       "           balance_sheet.A095::float64,\n",
       "           balance_sheet.A096::float64,\n",
       "           balance_sheet.A097::float64,\n",
       "           balance_sheet.A098::float64,\n",
       "           balance_sheet.A099::float64,\n",
       "           balance_sheet.A100::float64,\n",
       "           balance_sheet.A101::float64,\n",
       "           balance_sheet.A102::float64,\n",
       "           balance_sheet.A103::float64,\n",
       "           balance_sheet.A104::float64,\n",
       "           balance_sheet.A105::float64,\n",
       "           balance_sheet.A106::float64,\n",
       "           balance_sheet.A107::float64,\n",
       "           balance_sheet.A108::float64,\n",
       "           balance_sheet.asof_date::datetime64[ns]})"
      ]
     },
     "execution_count": 10,
     "metadata": {},
     "output_type": "execute_result"
    }
   ],
   "source": [
    "Fundamentals.balance_sheet.columns"
   ]
  },
  {
   "cell_type": "markdown",
   "metadata": {},
   "source": [
    "## 查询列名称"
   ]
  },
  {
   "cell_type": "code",
   "execution_count": 11,
   "metadata": {
    "ExecuteTime": {
     "end_time": "2017-12-10T00:52:06.934860Z",
     "start_time": "2017-12-10T00:52:06.856729Z"
    }
   },
   "outputs": [],
   "source": [
    "Fundamentals.query_report_item_name??"
   ]
  },
  {
   "cell_type": "code",
   "execution_count": 12,
   "metadata": {
    "ExecuteTime": {
     "end_time": "2017-12-10T00:52:06.966120Z",
     "start_time": "2017-12-10T00:52:06.934860Z"
    }
   },
   "outputs": [
    {
     "data": {
      "text/plain": [
       "'总资产利润率'"
      ]
     },
     "execution_count": 12,
     "metadata": {},
     "output_type": "execute_result"
    }
   ],
   "source": [
    "Fundamentals.query_report_item_name('E001')"
   ]
  },
  {
   "cell_type": "markdown",
   "metadata": {},
   "source": [
    "## 查询科目编码"
   ]
  },
  {
   "cell_type": "code",
   "execution_count": 23,
   "metadata": {
    "ExecuteTime": {
     "end_time": "2017-12-10T03:06:29.509019Z",
     "start_time": "2017-12-10T03:06:29.485020Z"
    }
   },
   "outputs": [
    {
     "data": {
      "text/html": [
       "<div>\n",
       "<style scoped>\n",
       "    .dataframe tbody tr th:only-of-type {\n",
       "        vertical-align: middle;\n",
       "    }\n",
       "\n",
       "    .dataframe tbody tr th {\n",
       "        vertical-align: top;\n",
       "    }\n",
       "\n",
       "    .dataframe thead th {\n",
       "        text-align: right;\n",
       "    }\n",
       "</style>\n",
       "<table border=\"1\" class=\"dataframe\">\n",
       "  <thead>\n",
       "    <tr style=\"text-align: right;\">\n",
       "      <th></th>\n",
       "      <th>code</th>\n",
       "      <th>name</th>\n",
       "    </tr>\n",
       "  </thead>\n",
       "  <tbody>\n",
       "    <tr>\n",
       "      <th>184</th>\n",
       "      <td>C032</td>\n",
       "      <td>投资活动现金流入小计</td>\n",
       "    </tr>\n",
       "    <tr>\n",
       "      <th>191</th>\n",
       "      <td>C039</td>\n",
       "      <td>投资活动现金流出小计</td>\n",
       "    </tr>\n",
       "  </tbody>\n",
       "</table>\n",
       "</div>"
      ],
      "text/plain": [
       "     code         name\n",
       "184  C032   投资活动现金流入小计\n",
       "191  C039   投资活动现金流出小计"
      ]
     },
     "execution_count": 23,
     "metadata": {},
     "output_type": "execute_result"
    }
   ],
   "source": [
    "Fundamentals.query_report_item_code('投资活动现金')"
   ]
  },
  {
   "cell_type": "markdown",
   "metadata": {},
   "source": [
    "## 结构"
   ]
  },
  {
   "cell_type": "markdown",
   "metadata": {},
   "source": [
    "+ `A`开头的列 -> 资产负债表\n",
    "+ `B`开头的列 -> 利润表\n",
    "+ `C`开头的列 -> 现金流量表\n",
    "+ 其余为财务指标"
   ]
  },
  {
   "cell_type": "markdown",
   "metadata": {},
   "source": [
    "默认公告日期为财务报告期后45天。11月14日查询到的数据是二季度报告；<span class=\"girk\">11月15日后，才是三季度报告。</span>"
   ]
  },
  {
   "cell_type": "code",
   "execution_count": null,
   "metadata": {},
   "outputs": [],
   "source": []
  }
 ],
 "metadata": {
  "kernelspec": {
   "display_name": "zipline",
   "language": "python",
   "name": "zipline"
  },
  "language_info": {
   "codemirror_mode": {
    "name": "ipython",
    "version": 3
   },
   "file_extension": ".py",
   "mimetype": "text/x-python",
   "name": "python",
   "nbconvert_exporter": "python",
   "pygments_lexer": "ipython3",
   "version": "3.6.3"
  },
  "toc": {
   "nav_menu": {},
   "number_sections": true,
   "sideBar": true,
   "skip_h1_title": false,
   "toc_cell": false,
   "toc_position": {},
   "toc_section_display": "block",
   "toc_window_display": false
  },
  "varInspector": {
   "cols": {
    "lenName": 16,
    "lenType": 16,
    "lenVar": 40
   },
   "kernels_config": {
    "python": {
     "delete_cmd_postfix": "",
     "delete_cmd_prefix": "del ",
     "library": "var_list.py",
     "varRefreshCmd": "print(var_dic_list())"
    },
    "r": {
     "delete_cmd_postfix": ") ",
     "delete_cmd_prefix": "rm(",
     "library": "var_list.r",
     "varRefreshCmd": "cat(var_dic_list()) "
    }
   },
   "types_to_exclude": [
    "module",
    "function",
    "builtin_function_or_method",
    "instance",
    "_Feature"
   ],
   "window_display": false
  }
 },
 "nbformat": 4,
 "nbformat_minor": 2
}
