{
 "cells": [
  {
   "cell_type": "markdown",
   "metadata": {},
   "source": [
    "仪表板布局扩展是Jupyter仪表板的一部分，旨在解决以下问题：\n",
    "> Alice是Jupyter Notebook用户。 Alice在笔记本电脑中创建数据访问，建模，绘图，交互等。 现在Alice需要为非笔记本用户提供动态仪表板。 今天，Alice必须跨越Jupyter Notebook并构建一个单独的Web应用程序。 Alice不能将笔记本直接转换为安全的独立仪表板应用程序。"
   ]
  },
  {
   "cell_type": "markdown",
   "metadata": {},
   "source": [
    "Dashboards实施的解决方案如下：\n",
    "1. Alice使用Jupyter Notebook制作笔记本文档。 她添加了可视化和交互式小部件。\n",
    "2. Alice将她的笔记本电脑安排在网格或报告式的仪表板布局中。\n",
    "3. Alice单击便可将她的笔记本和相关资产部署到Jupyter仪表板服务器。\n",
    "4. Bob访问仪表板服务器并与Alice的笔记本电脑仪表板应用程序交互。\n",
    "5. Alice使用新功能更新她的笔记本，并将其重新部署到仪表板服务器。"
   ]
  },
  {
   "cell_type": "markdown",
   "metadata": {},
   "source": [
    "![流程](./images/workflow.png)"
   ]
  },
  {
   "cell_type": "markdown",
   "metadata": {},
   "source": [
    "Jupyter Notebook的窗口小部件和可视化库的生态系统包含步骤(1).仪表板布局扩展处理步骤;(2).Jupyter仪表板工作中的其他孵化项目，即仪表板捆绑器和仪表板服务器尝试处理剩下的步骤(3)至(5)。"
   ]
  }
 ],
 "metadata": {
  "kernelspec": {
   "display_name": "zipline",
   "language": "python",
   "name": "zipline"
  },
  "language_info": {
   "codemirror_mode": {
    "name": "ipython",
    "version": 3
   },
   "file_extension": ".py",
   "mimetype": "text/x-python",
   "name": "python",
   "nbconvert_exporter": "python",
   "pygments_lexer": "ipython3",
   "version": "3.6.5"
  },
  "toc": {
   "base_numbering": 1,
   "nav_menu": {},
   "number_sections": true,
   "sideBar": true,
   "skip_h1_title": false,
   "title_cell": "Table of Contents",
   "title_sidebar": "Contents",
   "toc_cell": false,
   "toc_position": {},
   "toc_section_display": true,
   "toc_window_display": false
  }
 },
 "nbformat": 4,
 "nbformat_minor": 2
}
