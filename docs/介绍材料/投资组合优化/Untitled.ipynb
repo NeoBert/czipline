{
 "cells": [
  {
   "cell_type": "code",
   "execution_count": 1,
   "metadata": {
    "ExecuteTime": {
     "end_time": "2018-06-04T06:19:54.113354Z",
     "start_time": "2018-06-04T06:19:54.097934Z"
    }
   },
   "outputs": [],
   "source": [
    "from cvxopt.modeling import op\n",
    "from cvxopt.modeling import variable"
   ]
  },
  {
   "cell_type": "code",
   "execution_count": 2,
   "metadata": {
    "ExecuteTime": {
     "end_time": "2018-06-04T06:19:54.118820Z",
     "start_time": "2018-06-04T06:19:54.115844Z"
    }
   },
   "outputs": [],
   "source": [
    "x = variable()"
   ]
  },
  {
   "cell_type": "code",
   "execution_count": 3,
   "metadata": {
    "ExecuteTime": {
     "end_time": "2018-06-04T06:19:54.125325Z",
     "start_time": "2018-06-04T06:19:54.121955Z"
    }
   },
   "outputs": [],
   "source": [
    "c1 = (x <= 1)\n",
    "c2 = (x >= 2)"
   ]
  },
  {
   "cell_type": "code",
   "execution_count": 4,
   "metadata": {
    "ExecuteTime": {
     "end_time": "2018-06-04T06:19:54.131725Z",
     "start_time": "2018-06-04T06:19:54.128312Z"
    }
   },
   "outputs": [],
   "source": [
    "lp1 = op(-4*x-5, [c1,c2])"
   ]
  },
  {
   "cell_type": "code",
   "execution_count": 5,
   "metadata": {
    "ExecuteTime": {
     "end_time": "2018-06-04T06:19:54.149362Z",
     "start_time": "2018-06-04T06:19:54.136556Z"
    }
   },
   "outputs": [
    {
     "name": "stdout",
     "output_type": "stream",
     "text": [
      "     pcost       dcost       gap    pres   dres   k/t\n",
      " 0: -6.0000e+00 -3.0000e+00  6e+00  9e-01  0e+00  1e+00\n",
      " 1:  8.0316e+01  2.2800e+02  1e+04  2e+01  4e-14  1e+02\n",
      " 2: -6.8682e+00  2.5240e+01  2e+01  5e-01  6e-15  3e+01\n",
      " 3: -6.9750e+00  3.0520e+03  2e+03  6e-01  2e-12  3e+03\n",
      " 4: -6.9750e+00  3.0573e+05  2e+05  6e-01  1e-10  3e+05\n",
      " 5: -6.9750e+00  3.0573e+07  2e+07  6e-01  9e-09  3e+07\n",
      "Certificate of primal infeasibility found.\n"
     ]
    }
   ],
   "source": [
    "lp1.solve()"
   ]
  },
  {
   "cell_type": "code",
   "execution_count": 6,
   "metadata": {
    "ExecuteTime": {
     "end_time": "2018-06-04T06:19:54.157655Z",
     "start_time": "2018-06-04T06:19:54.152550Z"
    }
   },
   "outputs": [
    {
     "name": "stdout",
     "output_type": "stream",
     "text": [
      "None\n"
     ]
    }
   ],
   "source": [
    "print(lp1.objective.value())"
   ]
  },
  {
   "cell_type": "code",
   "execution_count": 7,
   "metadata": {
    "ExecuteTime": {
     "end_time": "2018-06-04T06:19:54.167448Z",
     "start_time": "2018-06-04T06:19:54.161576Z"
    }
   },
   "outputs": [
    {
     "name": "stdout",
     "output_type": "stream",
     "text": [
      "None\n"
     ]
    }
   ],
   "source": [
    "print(x.value)"
   ]
  },
  {
   "cell_type": "code",
   "execution_count": 8,
   "metadata": {
    "ExecuteTime": {
     "end_time": "2018-06-04T06:19:54.175868Z",
     "start_time": "2018-06-04T06:19:54.171233Z"
    }
   },
   "outputs": [
    {
     "name": "stdout",
     "output_type": "stream",
     "text": [
      "[ 1.00e+00]\n",
      "\n"
     ]
    }
   ],
   "source": [
    "print(c1.multiplier.value)"
   ]
  },
  {
   "cell_type": "code",
   "execution_count": 9,
   "metadata": {
    "ExecuteTime": {
     "end_time": "2018-06-04T06:19:54.184315Z",
     "start_time": "2018-06-04T06:19:54.179411Z"
    }
   },
   "outputs": [
    {
     "name": "stdout",
     "output_type": "stream",
     "text": [
      "[ 1.00e+00]\n",
      "\n"
     ]
    }
   ],
   "source": [
    "print(c2.multiplier.value)"
   ]
  }
 ],
 "metadata": {
  "kernelspec": {
   "display_name": "zipline",
   "language": "python",
   "name": "zipline"
  },
  "language_info": {
   "codemirror_mode": {
    "name": "ipython",
    "version": 3
   },
   "file_extension": ".py",
   "mimetype": "text/x-python",
   "name": "python",
   "nbconvert_exporter": "python",
   "pygments_lexer": "ipython3",
   "version": "3.6.5"
  },
  "toc": {
   "base_numbering": 1,
   "nav_menu": {},
   "number_sections": true,
   "sideBar": true,
   "skip_h1_title": false,
   "title_cell": "Table of Contents",
   "title_sidebar": "Contents",
   "toc_cell": false,
   "toc_position": {},
   "toc_section_display": true,
   "toc_window_display": false
  }
 },
 "nbformat": 4,
 "nbformat_minor": 2
}
