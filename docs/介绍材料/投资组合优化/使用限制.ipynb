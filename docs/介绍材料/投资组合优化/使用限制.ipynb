{
 "cells": [
  {
   "cell_type": "code",
   "execution_count": 1,
   "metadata": {
    "ExecuteTime": {
     "end_time": "2018-05-28T06:01:05.322585Z",
     "start_time": "2018-05-28T06:01:04.576153Z"
    }
   },
   "outputs": [],
   "source": [
    "%matplotlib inline\n",
    "import numpy as np\n",
    "import pandas as pd\n",
    "#import quandl\n",
    "\n",
    "import cvxportfolio as cp"
   ]
  },
  {
   "cell_type": "markdown",
   "metadata": {},
   "source": [
    "获取股票价格数据及无风险利率"
   ]
  },
  {
   "cell_type": "code",
   "execution_count": 2,
   "metadata": {
    "ExecuteTime": {
     "end_time": "2018-05-28T06:01:10.455218Z",
     "start_time": "2018-05-28T06:01:07.488132Z"
    }
   },
   "outputs": [],
   "source": [
    "from zipline.research import returns, volumes\n",
    "from zipline.data.treasuries_cn import get_treasury_data"
   ]
  },
  {
   "cell_type": "code",
   "execution_count": 3,
   "metadata": {
    "ExecuteTime": {
     "end_time": "2018-05-28T06:01:10.462145Z",
     "start_time": "2018-05-28T06:01:10.458253Z"
    }
   },
   "outputs": [],
   "source": [
    "# 注意无风险利率选择一年期，然后除每年交易天数244\n",
    "\n",
    "tickers = ['300001', '000333', '600771', '600645']\n",
    "start ='2016-01-01'\n",
    "end ='2018-05-25'"
   ]
  },
  {
   "cell_type": "code",
   "execution_count": 4,
   "metadata": {
    "ExecuteTime": {
     "end_time": "2018-05-28T06:01:11.563753Z",
     "start_time": "2018-05-28T06:01:10.468179Z"
    }
   },
   "outputs": [
    {
     "name": "stdout",
     "output_type": "stream",
     "text": [
      "[2018-05-28 14:01:11.515929] INFO: zipline.finance.metrics.tracker: 模拟1个交易日\n",
      "首个开盘时间: 2018-05-25 01:31:00+00:00\n",
      "最后收盘时间: 2018-05-25 07:00:00+00:00\n"
     ]
    }
   ],
   "source": [
    "advs = volumes(tickers, start, end)"
   ]
  },
  {
   "cell_type": "code",
   "execution_count": 5,
   "metadata": {
    "ExecuteTime": {
     "end_time": "2018-05-28T06:01:11.958499Z",
     "start_time": "2018-05-28T06:01:11.934199Z"
    }
   },
   "outputs": [
    {
     "data": {
      "text/html": [
       "<div>\n",
       "<style scoped>\n",
       "    .dataframe tbody tr th:only-of-type {\n",
       "        vertical-align: middle;\n",
       "    }\n",
       "\n",
       "    .dataframe tbody tr th {\n",
       "        vertical-align: top;\n",
       "    }\n",
       "\n",
       "    .dataframe thead th {\n",
       "        text-align: right;\n",
       "    }\n",
       "</style>\n",
       "<table border=\"1\" class=\"dataframe\">\n",
       "  <thead>\n",
       "    <tr style=\"text-align: right;\">\n",
       "      <th></th>\n",
       "      <th>特锐德(300001)</th>\n",
       "      <th>美的集团(000333)</th>\n",
       "      <th>广誉远(600771)</th>\n",
       "      <th>中源协和(600645)</th>\n",
       "    </tr>\n",
       "  </thead>\n",
       "  <tbody>\n",
       "    <tr>\n",
       "      <th>2018-05-21 00:00:00+00:00</th>\n",
       "      <td>4580000.0</td>\n",
       "      <td>17940000.0</td>\n",
       "      <td>2350000.0</td>\n",
       "      <td>4320000.0</td>\n",
       "    </tr>\n",
       "    <tr>\n",
       "      <th>2018-05-22 00:00:00+00:00</th>\n",
       "      <td>3230000.0</td>\n",
       "      <td>35120000.0</td>\n",
       "      <td>3100000.0</td>\n",
       "      <td>12300000.0</td>\n",
       "    </tr>\n",
       "    <tr>\n",
       "      <th>2018-05-23 00:00:00+00:00</th>\n",
       "      <td>3090000.0</td>\n",
       "      <td>22100000.0</td>\n",
       "      <td>2910000.0</td>\n",
       "      <td>8880000.0</td>\n",
       "    </tr>\n",
       "    <tr>\n",
       "      <th>2018-05-24 00:00:00+00:00</th>\n",
       "      <td>4510000.0</td>\n",
       "      <td>22240000.0</td>\n",
       "      <td>1940000.0</td>\n",
       "      <td>7410000.0</td>\n",
       "    </tr>\n",
       "    <tr>\n",
       "      <th>2018-05-25 00:00:00+00:00</th>\n",
       "      <td>2860000.0</td>\n",
       "      <td>26150000.0</td>\n",
       "      <td>4020000.0</td>\n",
       "      <td>7400000.0</td>\n",
       "    </tr>\n",
       "  </tbody>\n",
       "</table>\n",
       "</div>"
      ],
      "text/plain": [
       "                           特锐德(300001)  美的集团(000333)  广誉远(600771)  \\\n",
       "2018-05-21 00:00:00+00:00    4580000.0    17940000.0    2350000.0   \n",
       "2018-05-22 00:00:00+00:00    3230000.0    35120000.0    3100000.0   \n",
       "2018-05-23 00:00:00+00:00    3090000.0    22100000.0    2910000.0   \n",
       "2018-05-24 00:00:00+00:00    4510000.0    22240000.0    1940000.0   \n",
       "2018-05-25 00:00:00+00:00    2860000.0    26150000.0    4020000.0   \n",
       "\n",
       "                           中源协和(600645)  \n",
       "2018-05-21 00:00:00+00:00     4320000.0  \n",
       "2018-05-22 00:00:00+00:00    12300000.0  \n",
       "2018-05-23 00:00:00+00:00     8880000.0  \n",
       "2018-05-24 00:00:00+00:00     7410000.0  \n",
       "2018-05-25 00:00:00+00:00     7400000.0  "
      ]
     },
     "execution_count": 5,
     "metadata": {},
     "output_type": "execute_result"
    }
   ],
   "source": [
    "advs.tail()"
   ]
  },
  {
   "cell_type": "code",
   "execution_count": 6,
   "metadata": {
    "ExecuteTime": {
     "end_time": "2018-05-28T06:01:13.558042Z",
     "start_time": "2018-05-28T06:01:12.746620Z"
    }
   },
   "outputs": [
    {
     "name": "stdout",
     "output_type": "stream",
     "text": [
      "[2018-05-28 14:01:13.495613] INFO: zipline.finance.metrics.tracker: 模拟1个交易日\n",
      "首个开盘时间: 2018-05-25 01:31:00+00:00\n",
      "最后收盘时间: 2018-05-25 07:00:00+00:00\n"
     ]
    }
   ],
   "source": [
    "rets = returns(tickers, start, end)"
   ]
  },
  {
   "cell_type": "code",
   "execution_count": 7,
   "metadata": {
    "ExecuteTime": {
     "end_time": "2018-05-28T06:01:15.129796Z",
     "start_time": "2018-05-28T06:01:14.993236Z"
    }
   },
   "outputs": [
    {
     "data": {
      "text/html": [
       "<div>\n",
       "<style scoped>\n",
       "    .dataframe tbody tr th:only-of-type {\n",
       "        vertical-align: middle;\n",
       "    }\n",
       "\n",
       "    .dataframe tbody tr th {\n",
       "        vertical-align: top;\n",
       "    }\n",
       "\n",
       "    .dataframe thead th {\n",
       "        text-align: right;\n",
       "    }\n",
       "</style>\n",
       "<table border=\"1\" class=\"dataframe\">\n",
       "  <thead>\n",
       "    <tr style=\"text-align: right;\">\n",
       "      <th></th>\n",
       "      <th>特锐德(300001)</th>\n",
       "      <th>美的集团(000333)</th>\n",
       "      <th>广誉远(600771)</th>\n",
       "      <th>中源协和(600645)</th>\n",
       "      <th>cash</th>\n",
       "    </tr>\n",
       "  </thead>\n",
       "  <tbody>\n",
       "    <tr>\n",
       "      <th>2016-01-04 00:00:00+00:00</th>\n",
       "      <td>-0.099644</td>\n",
       "      <td>-0.094482</td>\n",
       "      <td>0.0</td>\n",
       "      <td>-0.099985</td>\n",
       "      <td>0.000096</td>\n",
       "    </tr>\n",
       "    <tr>\n",
       "      <th>2016-01-05 00:00:00+00:00</th>\n",
       "      <td>-0.055950</td>\n",
       "      <td>0.054211</td>\n",
       "      <td>0.0</td>\n",
       "      <td>-0.032473</td>\n",
       "      <td>0.000097</td>\n",
       "    </tr>\n",
       "    <tr>\n",
       "      <th>2016-01-06 00:00:00+00:00</th>\n",
       "      <td>0.020717</td>\n",
       "      <td>0.008265</td>\n",
       "      <td>0.0</td>\n",
       "      <td>0.047871</td>\n",
       "      <td>0.000097</td>\n",
       "    </tr>\n",
       "    <tr>\n",
       "      <th>2016-01-07 00:00:00+00:00</th>\n",
       "      <td>-0.100167</td>\n",
       "      <td>-0.080731</td>\n",
       "      <td>0.0</td>\n",
       "      <td>-0.099966</td>\n",
       "      <td>0.000097</td>\n",
       "    </tr>\n",
       "    <tr>\n",
       "      <th>2016-01-08 00:00:00+00:00</th>\n",
       "      <td>-0.021627</td>\n",
       "      <td>0.026527</td>\n",
       "      <td>0.0</td>\n",
       "      <td>0.065368</td>\n",
       "      <td>0.000097</td>\n",
       "    </tr>\n",
       "  </tbody>\n",
       "</table>\n",
       "</div>"
      ],
      "text/plain": [
       "                           特锐德(300001)  美的集团(000333)  广誉远(600771)  \\\n",
       "2016-01-04 00:00:00+00:00    -0.099644     -0.094482          0.0   \n",
       "2016-01-05 00:00:00+00:00    -0.055950      0.054211          0.0   \n",
       "2016-01-06 00:00:00+00:00     0.020717      0.008265          0.0   \n",
       "2016-01-07 00:00:00+00:00    -0.100167     -0.080731          0.0   \n",
       "2016-01-08 00:00:00+00:00    -0.021627      0.026527          0.0   \n",
       "\n",
       "                           中源协和(600645)      cash  \n",
       "2016-01-04 00:00:00+00:00     -0.099985  0.000096  \n",
       "2016-01-05 00:00:00+00:00     -0.032473  0.000097  \n",
       "2016-01-06 00:00:00+00:00      0.047871  0.000097  \n",
       "2016-01-07 00:00:00+00:00     -0.099966  0.000097  \n",
       "2016-01-08 00:00:00+00:00      0.065368  0.000097  "
      ]
     },
     "execution_count": 7,
     "metadata": {},
     "output_type": "execute_result"
    }
   ],
   "source": [
    "rets['cash'] = get_treasury_data(start, end)['1year'] / 244.0\n",
    "rets.head()"
   ]
  },
  {
   "cell_type": "markdown",
   "metadata": {},
   "source": [
    "We compute rolling estimates of the first and second moments of the returns using a window of 250 days. We shift them by one unit (so at every day we present the optimizer with only past data).\n",
    "\n",
    "计算滚动244天"
   ]
  },
  {
   "cell_type": "code",
   "execution_count": 8,
   "metadata": {
    "ExecuteTime": {
     "end_time": "2018-05-28T06:01:16.580339Z",
     "start_time": "2018-05-28T06:01:16.314364Z"
    }
   },
   "outputs": [
    {
     "data": {
      "text/html": [
       "<div>\n",
       "<style scoped>\n",
       "    .dataframe tbody tr th:only-of-type {\n",
       "        vertical-align: middle;\n",
       "    }\n",
       "\n",
       "    .dataframe tbody tr th {\n",
       "        vertical-align: top;\n",
       "    }\n",
       "\n",
       "    .dataframe thead th {\n",
       "        text-align: right;\n",
       "    }\n",
       "</style>\n",
       "<table border=\"1\" class=\"dataframe\">\n",
       "  <thead>\n",
       "    <tr style=\"text-align: right;\">\n",
       "      <th></th>\n",
       "      <th>特锐德(300001)</th>\n",
       "      <th>美的集团(000333)</th>\n",
       "      <th>广誉远(600771)</th>\n",
       "      <th>中源协和(600645)</th>\n",
       "      <th>cash</th>\n",
       "    </tr>\n",
       "  </thead>\n",
       "  <tbody>\n",
       "    <tr>\n",
       "      <th>2018-05-21 00:00:00+00:00</th>\n",
       "      <td>-0.001113</td>\n",
       "      <td>0.002156</td>\n",
       "      <td>0.001664</td>\n",
       "      <td>0.000444</td>\n",
       "      <td>0.000141</td>\n",
       "    </tr>\n",
       "    <tr>\n",
       "      <th>2018-05-22 00:00:00+00:00</th>\n",
       "      <td>-0.000842</td>\n",
       "      <td>0.002035</td>\n",
       "      <td>0.001665</td>\n",
       "      <td>0.000487</td>\n",
       "      <td>0.000141</td>\n",
       "    </tr>\n",
       "    <tr>\n",
       "      <th>2018-05-23 00:00:00+00:00</th>\n",
       "      <td>-0.000693</td>\n",
       "      <td>0.001857</td>\n",
       "      <td>0.001810</td>\n",
       "      <td>0.000819</td>\n",
       "      <td>0.000141</td>\n",
       "    </tr>\n",
       "    <tr>\n",
       "      <th>2018-05-24 00:00:00+00:00</th>\n",
       "      <td>-0.000614</td>\n",
       "      <td>0.001780</td>\n",
       "      <td>0.001805</td>\n",
       "      <td>0.000991</td>\n",
       "      <td>0.000141</td>\n",
       "    </tr>\n",
       "    <tr>\n",
       "      <th>2018-05-25 00:00:00+00:00</th>\n",
       "      <td>-0.000689</td>\n",
       "      <td>0.001733</td>\n",
       "      <td>0.001766</td>\n",
       "      <td>0.000936</td>\n",
       "      <td>0.000141</td>\n",
       "    </tr>\n",
       "  </tbody>\n",
       "</table>\n",
       "</div>"
      ],
      "text/plain": [
       "                           特锐德(300001)  美的集团(000333)  广誉远(600771)  \\\n",
       "2018-05-21 00:00:00+00:00    -0.001113      0.002156     0.001664   \n",
       "2018-05-22 00:00:00+00:00    -0.000842      0.002035     0.001665   \n",
       "2018-05-23 00:00:00+00:00    -0.000693      0.001857     0.001810   \n",
       "2018-05-24 00:00:00+00:00    -0.000614      0.001780     0.001805   \n",
       "2018-05-25 00:00:00+00:00    -0.000689      0.001733     0.001766   \n",
       "\n",
       "                           中源协和(600645)      cash  \n",
       "2018-05-21 00:00:00+00:00      0.000444  0.000141  \n",
       "2018-05-22 00:00:00+00:00      0.000487  0.000141  \n",
       "2018-05-23 00:00:00+00:00      0.000819  0.000141  \n",
       "2018-05-24 00:00:00+00:00      0.000991  0.000141  \n",
       "2018-05-25 00:00:00+00:00      0.000936  0.000141  "
      ]
     },
     "execution_count": 8,
     "metadata": {},
     "output_type": "execute_result"
    }
   ],
   "source": [
    "r_hat = rets.rolling(window=244, min_periods=244).mean().shift(1).dropna()\n",
    "Sigma_hat = rets.rolling(window=244, min_periods=244, closed='neither').cov().dropna()\n",
    "\n",
    "r_hat.tail()"
   ]
  },
  {
   "cell_type": "code",
   "execution_count": 9,
   "metadata": {
    "ExecuteTime": {
     "end_time": "2018-05-28T06:01:18.182438Z",
     "start_time": "2018-05-28T06:01:18.158489Z"
    }
   },
   "outputs": [
    {
     "data": {
      "text/html": [
       "<div>\n",
       "<style scoped>\n",
       "    .dataframe tbody tr th:only-of-type {\n",
       "        vertical-align: middle;\n",
       "    }\n",
       "\n",
       "    .dataframe tbody tr th {\n",
       "        vertical-align: top;\n",
       "    }\n",
       "\n",
       "    .dataframe thead th {\n",
       "        text-align: right;\n",
       "    }\n",
       "</style>\n",
       "<table border=\"1\" class=\"dataframe\">\n",
       "  <thead>\n",
       "    <tr style=\"text-align: right;\">\n",
       "      <th></th>\n",
       "      <th></th>\n",
       "      <th>特锐德(300001)</th>\n",
       "      <th>美的集团(000333)</th>\n",
       "      <th>广誉远(600771)</th>\n",
       "      <th>中源协和(600645)</th>\n",
       "      <th>cash</th>\n",
       "    </tr>\n",
       "  </thead>\n",
       "  <tbody>\n",
       "    <tr>\n",
       "      <th rowspan=\"5\" valign=\"top\">2018-05-25 00:00:00+00:00</th>\n",
       "      <th>特锐德(300001)</th>\n",
       "      <td>3.816810e-04</td>\n",
       "      <td>4.955195e-05</td>\n",
       "      <td>6.266618e-05</td>\n",
       "      <td>1.308376e-04</td>\n",
       "      <td>-4.692746e-09</td>\n",
       "    </tr>\n",
       "    <tr>\n",
       "      <th>美的集团(000333)</th>\n",
       "      <td>4.955195e-05</td>\n",
       "      <td>4.643027e-04</td>\n",
       "      <td>5.308990e-05</td>\n",
       "      <td>-1.406242e-05</td>\n",
       "      <td>9.682933e-09</td>\n",
       "    </tr>\n",
       "    <tr>\n",
       "      <th>广誉远(600771)</th>\n",
       "      <td>6.266618e-05</td>\n",
       "      <td>5.308990e-05</td>\n",
       "      <td>3.135805e-04</td>\n",
       "      <td>3.150643e-05</td>\n",
       "      <td>-1.145340e-08</td>\n",
       "    </tr>\n",
       "    <tr>\n",
       "      <th>中源协和(600645)</th>\n",
       "      <td>1.308376e-04</td>\n",
       "      <td>-1.406242e-05</td>\n",
       "      <td>3.150643e-05</td>\n",
       "      <td>7.150218e-04</td>\n",
       "      <td>-5.462981e-09</td>\n",
       "    </tr>\n",
       "    <tr>\n",
       "      <th>cash</th>\n",
       "      <td>-4.692746e-09</td>\n",
       "      <td>9.682933e-09</td>\n",
       "      <td>-1.145340e-08</td>\n",
       "      <td>-5.462981e-09</td>\n",
       "      <td>6.828097e-11</td>\n",
       "    </tr>\n",
       "  </tbody>\n",
       "</table>\n",
       "</div>"
      ],
      "text/plain": [
       "                                         特锐德(300001)  美的集团(000333)  \\\n",
       "2018-05-25 00:00:00+00:00 特锐德(300001)   3.816810e-04  4.955195e-05   \n",
       "                          美的集团(000333)  4.955195e-05  4.643027e-04   \n",
       "                          广誉远(600771)   6.266618e-05  5.308990e-05   \n",
       "                          中源协和(600645)  1.308376e-04 -1.406242e-05   \n",
       "                          cash         -4.692746e-09  9.682933e-09   \n",
       "\n",
       "                                         广誉远(600771)  中源协和(600645)  \\\n",
       "2018-05-25 00:00:00+00:00 特锐德(300001)   6.266618e-05  1.308376e-04   \n",
       "                          美的集团(000333)  5.308990e-05 -1.406242e-05   \n",
       "                          广誉远(600771)   3.135805e-04  3.150643e-05   \n",
       "                          中源协和(600645)  3.150643e-05  7.150218e-04   \n",
       "                          cash         -1.145340e-08 -5.462981e-09   \n",
       "\n",
       "                                                cash  \n",
       "2018-05-25 00:00:00+00:00 特锐德(300001)  -4.692746e-09  \n",
       "                          美的集团(000333)  9.682933e-09  \n",
       "                          广誉远(600771)  -1.145340e-08  \n",
       "                          中源协和(600645) -5.462981e-09  \n",
       "                          cash          6.828097e-11  "
      ]
     },
     "execution_count": 9,
     "metadata": {},
     "output_type": "execute_result"
    }
   ],
   "source": [
    "Sigma_hat.tail()"
   ]
  },
  {
   "cell_type": "markdown",
   "metadata": {},
   "source": [
    "单周期优化可以获取在限制条件下的交易列表，据此可以计算交易后的股票权重。"
   ]
  },
  {
   "cell_type": "markdown",
   "metadata": {},
   "source": [
    "# 交易杠杆限制"
   ]
  },
  {
   "cell_type": "code",
   "execution_count": 47,
   "metadata": {
    "ExecuteTime": {
     "end_time": "2018-05-28T13:39:21.673946Z",
     "start_time": "2018-05-28T13:39:21.667391Z"
    }
   },
   "outputs": [],
   "source": [
    "risk_model = cp.FullSigma(Sigma_hat)\n",
    "leverage_limit = cp.LeverageLimit(2)\n",
    "\n",
    "spo_policy = cp.SinglePeriodOpt(return_forecast=r_hat, \n",
    "                                costs=[],\n",
    "                                constraints=[leverage_limit])"
   ]
  },
  {
   "cell_type": "code",
   "execution_count": 48,
   "metadata": {
    "ExecuteTime": {
     "end_time": "2018-05-28T13:39:22.292651Z",
     "start_time": "2018-05-28T13:39:22.278439Z"
    }
   },
   "outputs": [
    {
     "data": {
      "text/plain": [
       "特锐德(300001)    -10000.000506\n",
       "美的集团(000333)    64999.994332\n",
       "广誉远(600771)     -9999.998198\n",
       "中源协和(600645)   -34999.996423\n",
       "cash            -9999.999205\n",
       "dtype: float64"
      ]
     },
     "execution_count": 48,
     "metadata": {},
     "output_type": "execute_result"
    }
   ],
   "source": [
    "t = r_hat.index[2]\n",
    "p_0 = pd.Series(index=rets.columns, data=10000) # 期初投资组合\n",
    "z = spo_policy.get_trades(p_0, t)\n",
    "z"
   ]
  },
  {
   "cell_type": "code",
   "execution_count": 17,
   "metadata": {
    "ExecuteTime": {
     "end_time": "2018-05-28T06:04:56.322327Z",
     "start_time": "2018-05-28T06:04:56.319548Z"
    }
   },
   "outputs": [],
   "source": [
    "import cvxpy as cvx"
   ]
  },
  {
   "cell_type": "code",
   "execution_count": 18,
   "metadata": {
    "ExecuteTime": {
     "end_time": "2018-05-28T06:04:59.165241Z",
     "start_time": "2018-05-28T06:04:59.161550Z"
    }
   },
   "outputs": [],
   "source": [
    "portfolio = p_0\n",
    "value = sum(portfolio)"
   ]
  },
  {
   "cell_type": "code",
   "execution_count": 19,
   "metadata": {
    "ExecuteTime": {
     "end_time": "2018-05-28T06:04:59.516202Z",
     "start_time": "2018-05-28T06:04:59.508573Z"
    }
   },
   "outputs": [
    {
     "data": {
      "text/plain": [
       "特锐德(300001)     0.2\n",
       "美的集团(000333)    0.2\n",
       "广誉远(600771)     0.2\n",
       "中源协和(600645)    0.2\n",
       "cash            0.2\n",
       "dtype: float64"
      ]
     },
     "execution_count": 19,
     "metadata": {},
     "output_type": "execute_result"
    }
   ],
   "source": [
    "w = portfolio / value\n",
    "w"
   ]
  },
  {
   "cell_type": "code",
   "execution_count": 20,
   "metadata": {
    "ExecuteTime": {
     "end_time": "2018-05-28T06:05:01.372898Z",
     "start_time": "2018-05-28T06:05:01.364036Z"
    }
   },
   "outputs": [],
   "source": [
    "z = cvx.Variable(w.size)  # TODO pass index"
   ]
  },
  {
   "cell_type": "code",
   "execution_count": 26,
   "metadata": {
    "ExecuteTime": {
     "end_time": "2018-05-28T06:06:54.505056Z",
     "start_time": "2018-05-28T06:06:54.494946Z"
    }
   },
   "outputs": [],
   "source": [
    "wplus = w.values + z"
   ]
  },
  {
   "cell_type": "code",
   "execution_count": 30,
   "metadata": {
    "ExecuteTime": {
     "end_time": "2018-05-28T06:09:16.414275Z",
     "start_time": "2018-05-28T06:09:16.410285Z"
    }
   },
   "outputs": [],
   "source": [
    "from cvxportfolio.utils.data_management import time_locator, null_checker"
   ]
  },
  {
   "cell_type": "code",
   "execution_count": 31,
   "metadata": {
    "ExecuteTime": {
     "end_time": "2018-05-28T06:09:17.240890Z",
     "start_time": "2018-05-28T06:09:17.236998Z"
    }
   },
   "outputs": [],
   "source": [
    "alpha_term = cvx.sum_entries(cvx.mul_elemwise(\n",
    "                time_locator(r_hat, t, as_numpy=True), wplus))"
   ]
  },
  {
   "cell_type": "code",
   "execution_count": 32,
   "metadata": {
    "ExecuteTime": {
     "end_time": "2018-05-28T06:09:38.185828Z",
     "start_time": "2018-05-28T06:09:38.171361Z"
    }
   },
   "outputs": [
    {
     "data": {
      "text/plain": [
       "True"
      ]
     },
     "execution_count": 32,
     "metadata": {},
     "output_type": "execute_result"
    }
   ],
   "source": [
    "alpha_term.is_concave()"
   ]
  },
  {
   "cell_type": "code",
   "execution_count": 34,
   "metadata": {
    "ExecuteTime": {
     "end_time": "2018-05-28T06:11:44.827252Z",
     "start_time": "2018-05-28T06:11:44.823315Z"
    }
   },
   "outputs": [],
   "source": [
    "constraints_obj=[leverage_limit]"
   ]
  },
  {
   "cell_type": "code",
   "execution_count": 35,
   "metadata": {
    "ExecuteTime": {
     "end_time": "2018-05-28T06:11:45.255188Z",
     "start_time": "2018-05-28T06:11:45.248928Z"
    }
   },
   "outputs": [],
   "source": [
    "costs, constraints = [], []"
   ]
  },
  {
   "cell_type": "code",
   "execution_count": 36,
   "metadata": {
    "ExecuteTime": {
     "end_time": "2018-05-28T06:11:45.610254Z",
     "start_time": "2018-05-28T06:11:45.606237Z"
    }
   },
   "outputs": [],
   "source": [
    "constraints += [item for item in (con.weight_expr(t, wplus, z, value)\n",
    "                                          for con in constraints_obj)]"
   ]
  },
  {
   "cell_type": "code",
   "execution_count": 37,
   "metadata": {
    "ExecuteTime": {
     "end_time": "2018-05-28T06:12:19.041751Z",
     "start_time": "2018-05-28T06:12:19.034057Z"
    }
   },
   "outputs": [],
   "source": [
    "prob = cvx.Problem(\n",
    "            cvx.Maximize(alpha_term - sum(costs)),\n",
    "            [cvx.sum_entries(z) == 0] + constraints)"
   ]
  },
  {
   "cell_type": "code",
   "execution_count": 38,
   "metadata": {
    "ExecuteTime": {
     "end_time": "2018-05-28T06:12:40.869358Z",
     "start_time": "2018-05-28T06:12:40.852277Z"
    }
   },
   "outputs": [
    {
     "data": {
      "text/plain": [
       "0.0040909289574366774"
      ]
     },
     "execution_count": 38,
     "metadata": {},
     "output_type": "execute_result"
    }
   ],
   "source": [
    "prob.solve()"
   ]
  },
  {
   "cell_type": "code",
   "execution_count": 44,
   "metadata": {
    "ExecuteTime": {
     "end_time": "2018-05-28T09:27:29.099218Z",
     "start_time": "2018-05-28T09:27:29.084946Z"
    }
   },
   "outputs": [
    {
     "data": {
      "text/plain": [
       "matrix([[-0.20000001],\n",
       "        [ 1.29999989],\n",
       "        [-0.19999996],\n",
       "        [-0.69999993],\n",
       "        [-0.19999998]])"
      ]
     },
     "execution_count": 44,
     "metadata": {},
     "output_type": "execute_result"
    }
   ],
   "source": [
    "z.value"
   ]
  },
  {
   "cell_type": "code",
   "execution_count": 46,
   "metadata": {
    "ExecuteTime": {
     "end_time": "2018-05-28T09:27:51.327962Z",
     "start_time": "2018-05-28T09:27:51.322336Z"
    }
   },
   "outputs": [
    {
     "data": {
      "text/plain": [
       "1.3600232051658168e-15"
      ]
     },
     "execution_count": 46,
     "metadata": {},
     "output_type": "execute_result"
    }
   ],
   "source": [
    "sum(z.value.A1)"
   ]
  },
  {
   "cell_type": "code",
   "execution_count": 42,
   "metadata": {
    "ExecuteTime": {
     "end_time": "2018-05-28T09:27:02.017336Z",
     "start_time": "2018-05-28T09:27:02.006359Z"
    }
   },
   "outputs": [
    {
     "data": {
      "text/plain": [
       "特锐德(300001)    -10000.000506\n",
       "美的集团(000333)    64999.994332\n",
       "广誉远(600771)     -9999.998198\n",
       "中源协和(600645)   -34999.996423\n",
       "cash            -9999.999205\n",
       "dtype: float64"
      ]
     },
     "execution_count": 42,
     "metadata": {},
     "output_type": "execute_result"
    }
   ],
   "source": [
    "pd.Series(index=portfolio.index, data=(z.value.A1 * value))"
   ]
  },
  {
   "cell_type": "markdown",
   "metadata": {},
   "source": [
    "# 成交量限制"
   ]
  },
  {
   "cell_type": "code",
   "execution_count": 12,
   "metadata": {
    "ExecuteTime": {
     "end_time": "2018-05-28T06:01:40.611215Z",
     "start_time": "2018-05-28T06:01:40.605585Z"
    }
   },
   "outputs": [],
   "source": [
    "vol_limit = cp.MaxTrade(advs) # 默认最大比例为0.05\n",
    "spo_policy = cp.SinglePeriodOpt(return_forecast=r_hat, \n",
    "                                costs=[],\n",
    "                                constraints=[vol_limit])"
   ]
  },
  {
   "cell_type": "code",
   "execution_count": 13,
   "metadata": {
    "ExecuteTime": {
     "end_time": "2018-05-28T06:01:41.037529Z",
     "start_time": "2018-05-28T06:01:41.017625Z"
    }
   },
   "outputs": [
    {
     "data": {
      "text/plain": [
       "特锐德(300001)    -169497.710290\n",
       "美的集团(000333)    958499.333695\n",
       "广誉远(600771)      89485.389580\n",
       "中源协和(600645)         0.000001\n",
       "cash           -878487.012986\n",
       "dtype: float64"
      ]
     },
     "execution_count": 13,
     "metadata": {},
     "output_type": "execute_result"
    }
   ],
   "source": [
    "t = r_hat.index[2]\n",
    "p_0 = pd.Series(index=rets.columns, data=100000000) # 期初投资组合\n",
    "z = spo_policy.get_trades(p_0, t)\n",
    "z"
   ]
  },
  {
   "cell_type": "code",
   "execution_count": 14,
   "metadata": {
    "ExecuteTime": {
     "end_time": "2018-05-28T06:01:51.500468Z",
     "start_time": "2018-05-28T06:01:51.490436Z"
    }
   },
   "outputs": [
    {
     "data": {
      "text/plain": [
       "特锐德(300001)     169500.0\n",
       "美的集团(000333)    958500.0\n",
       "广誉远(600771)      89500.0\n",
       "中源协和(600645)         0.0\n",
       "Name: 2017-01-05 00:00:00+00:00, dtype: float64"
      ]
     },
     "execution_count": 14,
     "metadata": {},
     "output_type": "execute_result"
    }
   ],
   "source": [
    "advs.loc[t] * 0.05"
   ]
  },
  {
   "cell_type": "markdown",
   "metadata": {},
   "source": [
    "返回的是交易量"
   ]
  },
  {
   "cell_type": "markdown",
   "metadata": {},
   "source": [
    "# 只允许多头"
   ]
  },
  {
   "cell_type": "code",
   "execution_count": 15,
   "metadata": {
    "ExecuteTime": {
     "end_time": "2018-05-28T06:02:01.228813Z",
     "start_time": "2018-05-28T06:02:01.225140Z"
    }
   },
   "outputs": [],
   "source": [
    "only_long = cp.LongOnly()\n",
    "spo_policy = cp.SinglePeriodOpt(return_forecast=r_hat, \n",
    "                                costs=[],\n",
    "                                constraints=[only_long])"
   ]
  },
  {
   "cell_type": "code",
   "execution_count": 16,
   "metadata": {
    "ExecuteTime": {
     "end_time": "2018-05-28T06:02:01.681537Z",
     "start_time": "2018-05-28T06:02:01.651306Z"
    }
   },
   "outputs": [
    {
     "data": {
      "text/plain": [
       "特锐德(300001)     -9999.985985\n",
       "美的集团(000333)    39999.961776\n",
       "广誉远(600771)     -9999.996998\n",
       "中源协和(600645)    -9999.990707\n",
       "cash            -9999.988087\n",
       "dtype: float64"
      ]
     },
     "execution_count": 16,
     "metadata": {},
     "output_type": "execute_result"
    }
   ],
   "source": [
    "t = r_hat.index[2]\n",
    "p_0 = pd.Series(index=rets.columns, data=10000) # 期初投资组合\n",
    "z = spo_policy.get_trades(p_0, t)\n",
    "z"
   ]
  },
  {
   "cell_type": "markdown",
   "metadata": {},
   "source": [
    "# 现金非负"
   ]
  },
  {
   "cell_type": "code",
   "execution_count": 17,
   "metadata": {
    "ExecuteTime": {
     "end_time": "2018-05-27T21:19:14.694378Z",
     "start_time": "2018-05-27T21:19:14.688685Z"
    }
   },
   "outputs": [],
   "source": [
    "cash_limit = cp.LongCash()\n",
    "spo_policy = cp.SinglePeriodOpt(return_forecast=r_hat, \n",
    "                                costs=[],\n",
    "                                constraints=[cash_limit])"
   ]
  },
  {
   "cell_type": "code",
   "execution_count": 18,
   "metadata": {
    "ExecuteTime": {
     "end_time": "2018-05-27T21:19:15.404093Z",
     "start_time": "2018-05-27T21:19:15.388063Z"
    }
   },
   "outputs": [
    {
     "name": "stderr",
     "output_type": "stream",
     "text": [
      "ERROR:root:The problem is unbounded. Defaulting to no trades\n"
     ]
    },
    {
     "data": {
      "text/plain": [
       "特锐德(300001)     0.0\n",
       "美的集团(000333)    0.0\n",
       "广誉远(600771)     0.0\n",
       "中源协和(600645)    0.0\n",
       "cash            0.0\n",
       "dtype: float64"
      ]
     },
     "execution_count": 18,
     "metadata": {},
     "output_type": "execute_result"
    }
   ],
   "source": [
    "t = r_hat.index[2]\n",
    "p_0 = pd.Series(index=rets.columns, data=10000) # 期初投资组合\n",
    "z = spo_policy.get_trades(p_0, t)\n",
    "z"
   ]
  }
 ],
 "metadata": {
  "anaconda-cloud": {},
  "kernelspec": {
   "display_name": "zipline",
   "language": "python",
   "name": "zipline"
  },
  "language_info": {
   "codemirror_mode": {
    "name": "ipython",
    "version": 3
   },
   "file_extension": ".py",
   "mimetype": "text/x-python",
   "name": "python",
   "nbconvert_exporter": "python",
   "pygments_lexer": "ipython3",
   "version": "3.6.5"
  },
  "toc": {
   "base_numbering": 1,
   "nav_menu": {},
   "number_sections": true,
   "sideBar": true,
   "skip_h1_title": false,
   "title_cell": "Table of Contents",
   "title_sidebar": "Contents",
   "toc_cell": false,
   "toc_position": {},
   "toc_section_display": true,
   "toc_window_display": true
  }
 },
 "nbformat": 4,
 "nbformat_minor": 1
}
