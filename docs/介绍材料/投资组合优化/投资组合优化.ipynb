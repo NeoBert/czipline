{
 "cells": [
  {
   "cell_type": "markdown",
   "metadata": {},
   "source": [
    "# 收益率数据"
   ]
  },
  {
   "cell_type": "code",
   "execution_count": 1,
   "metadata": {
    "ExecuteTime": {
     "end_time": "2018-05-23T14:27:56.174782Z",
     "start_time": "2018-05-23T14:27:52.885360Z"
    }
   },
   "outputs": [],
   "source": [
    "from zipline.research import returns"
   ]
  },
  {
   "cell_type": "code",
   "execution_count": 2,
   "metadata": {
    "ExecuteTime": {
     "end_time": "2018-05-23T14:27:56.184195Z",
     "start_time": "2018-05-23T14:27:56.180227Z"
    }
   },
   "outputs": [],
   "source": [
    "assets = ['000001','601118','000333','002024','002273','002030','300159','600771','600649','600866']\n",
    "# 为同步无风险利率，仅选取一年的数据\n",
    "start = '2017-01-01'\n",
    "end = '2018-01-01'"
   ]
  },
  {
   "cell_type": "code",
   "execution_count": 3,
   "metadata": {
    "ExecuteTime": {
     "end_time": "2018-05-23T14:27:57.423687Z",
     "start_time": "2018-05-23T14:27:56.186887Z"
    }
   },
   "outputs": [
    {
     "name": "stdout",
     "output_type": "stream",
     "text": [
      "[2018-05-23 22:27:57.367064] INFO: zipline.finance.metrics.tracker: 模拟1个交易日\n",
      "首个开盘时间: 2017-12-29 01:31:00+00:00\n",
      "最后收盘时间: 2017-12-29 07:00:00+00:00\n"
     ]
    }
   ],
   "source": [
    "df = returns(assets, start, end)"
   ]
  },
  {
   "cell_type": "code",
   "execution_count": 4,
   "metadata": {
    "ExecuteTime": {
     "end_time": "2018-05-23T14:27:57.430744Z",
     "start_time": "2018-05-23T14:27:57.426479Z"
    }
   },
   "outputs": [],
   "source": [
    "n = len(assets)"
   ]
  },
  {
   "cell_type": "code",
   "execution_count": 5,
   "metadata": {
    "ExecuteTime": {
     "end_time": "2018-05-23T14:27:57.440911Z",
     "start_time": "2018-05-23T14:27:57.433892Z"
    }
   },
   "outputs": [],
   "source": [
    "# 转换为百分比，而非小数\n",
    "r = df.multiply(100).values\n",
    "mu = ((1 + df).cumprod().iloc[-1,:] - 1) * 100"
   ]
  },
  {
   "cell_type": "code",
   "execution_count": 6,
   "metadata": {
    "ExecuteTime": {
     "end_time": "2018-05-23T14:27:57.451677Z",
     "start_time": "2018-05-23T14:27:57.445936Z"
    }
   },
   "outputs": [],
   "source": [
    "Sigma = df.multiply(100).cov()"
   ]
  },
  {
   "cell_type": "code",
   "execution_count": 7,
   "metadata": {
    "ExecuteTime": {
     "end_time": "2018-05-23T14:27:57.496995Z",
     "start_time": "2018-05-23T14:27:57.455428Z"
    },
    "scrolled": false
   },
   "outputs": [
    {
     "data": {
      "text/html": [
       "<div>\n",
       "<style scoped>\n",
       "    .dataframe tbody tr th:only-of-type {\n",
       "        vertical-align: middle;\n",
       "    }\n",
       "\n",
       "    .dataframe tbody tr th {\n",
       "        vertical-align: top;\n",
       "    }\n",
       "\n",
       "    .dataframe thead th {\n",
       "        text-align: right;\n",
       "    }\n",
       "</style>\n",
       "<table border=\"1\" class=\"dataframe\">\n",
       "  <thead>\n",
       "    <tr style=\"text-align: right;\">\n",
       "      <th></th>\n",
       "      <th>平安银行(000001)</th>\n",
       "      <th>海南橡胶(601118)</th>\n",
       "      <th>美的集团(000333)</th>\n",
       "      <th>苏宁易购(002024)</th>\n",
       "      <th>水晶光电(002273)</th>\n",
       "      <th>达安基因(002030)</th>\n",
       "      <th>新研股份(300159)</th>\n",
       "      <th>广誉远(600771)</th>\n",
       "      <th>城投控股(600649)</th>\n",
       "      <th>星湖科技(600866)</th>\n",
       "    </tr>\n",
       "  </thead>\n",
       "  <tbody>\n",
       "    <tr>\n",
       "      <th>平安银行(000001)</th>\n",
       "      <td>2.671103</td>\n",
       "      <td>0.466075</td>\n",
       "      <td>0.782444</td>\n",
       "      <td>0.315621</td>\n",
       "      <td>0.170913</td>\n",
       "      <td>0.895665</td>\n",
       "      <td>-0.131870</td>\n",
       "      <td>-0.008981</td>\n",
       "      <td>0.121328</td>\n",
       "      <td>0.071075</td>\n",
       "    </tr>\n",
       "    <tr>\n",
       "      <th>海南橡胶(601118)</th>\n",
       "      <td>0.466075</td>\n",
       "      <td>3.165573</td>\n",
       "      <td>0.332354</td>\n",
       "      <td>0.769448</td>\n",
       "      <td>1.430423</td>\n",
       "      <td>1.050282</td>\n",
       "      <td>0.468688</td>\n",
       "      <td>0.747894</td>\n",
       "      <td>0.598354</td>\n",
       "      <td>1.269866</td>\n",
       "    </tr>\n",
       "    <tr>\n",
       "      <th>美的集团(000333)</th>\n",
       "      <td>0.782444</td>\n",
       "      <td>0.332354</td>\n",
       "      <td>3.546529</td>\n",
       "      <td>0.531199</td>\n",
       "      <td>0.451630</td>\n",
       "      <td>0.397212</td>\n",
       "      <td>0.050970</td>\n",
       "      <td>0.456926</td>\n",
       "      <td>0.232359</td>\n",
       "      <td>0.294287</td>\n",
       "    </tr>\n",
       "    <tr>\n",
       "      <th>苏宁易购(002024)</th>\n",
       "      <td>0.315621</td>\n",
       "      <td>0.769448</td>\n",
       "      <td>0.531199</td>\n",
       "      <td>3.266020</td>\n",
       "      <td>1.229591</td>\n",
       "      <td>1.008920</td>\n",
       "      <td>0.586782</td>\n",
       "      <td>0.784780</td>\n",
       "      <td>0.297031</td>\n",
       "      <td>0.863277</td>\n",
       "    </tr>\n",
       "    <tr>\n",
       "      <th>水晶光电(002273)</th>\n",
       "      <td>0.170913</td>\n",
       "      <td>1.430423</td>\n",
       "      <td>0.451630</td>\n",
       "      <td>1.229591</td>\n",
       "      <td>6.207008</td>\n",
       "      <td>1.336164</td>\n",
       "      <td>0.753826</td>\n",
       "      <td>1.039226</td>\n",
       "      <td>0.685668</td>\n",
       "      <td>2.337563</td>\n",
       "    </tr>\n",
       "    <tr>\n",
       "      <th>达安基因(002030)</th>\n",
       "      <td>0.895665</td>\n",
       "      <td>1.050282</td>\n",
       "      <td>0.397212</td>\n",
       "      <td>1.008920</td>\n",
       "      <td>1.336164</td>\n",
       "      <td>4.111830</td>\n",
       "      <td>0.909172</td>\n",
       "      <td>1.076708</td>\n",
       "      <td>0.622564</td>\n",
       "      <td>1.621048</td>\n",
       "    </tr>\n",
       "    <tr>\n",
       "      <th>新研股份(300159)</th>\n",
       "      <td>-0.131870</td>\n",
       "      <td>0.468688</td>\n",
       "      <td>0.050970</td>\n",
       "      <td>0.586782</td>\n",
       "      <td>0.753826</td>\n",
       "      <td>0.909172</td>\n",
       "      <td>2.484411</td>\n",
       "      <td>0.500198</td>\n",
       "      <td>0.125164</td>\n",
       "      <td>0.972521</td>\n",
       "    </tr>\n",
       "    <tr>\n",
       "      <th>广誉远(600771)</th>\n",
       "      <td>-0.008981</td>\n",
       "      <td>0.747894</td>\n",
       "      <td>0.456926</td>\n",
       "      <td>0.784780</td>\n",
       "      <td>1.039226</td>\n",
       "      <td>1.076708</td>\n",
       "      <td>0.500198</td>\n",
       "      <td>2.649841</td>\n",
       "      <td>0.540677</td>\n",
       "      <td>0.890689</td>\n",
       "    </tr>\n",
       "    <tr>\n",
       "      <th>城投控股(600649)</th>\n",
       "      <td>0.121328</td>\n",
       "      <td>0.598354</td>\n",
       "      <td>0.232359</td>\n",
       "      <td>0.297031</td>\n",
       "      <td>0.685668</td>\n",
       "      <td>0.622564</td>\n",
       "      <td>0.125164</td>\n",
       "      <td>0.540677</td>\n",
       "      <td>2.758139</td>\n",
       "      <td>0.975389</td>\n",
       "    </tr>\n",
       "    <tr>\n",
       "      <th>星湖科技(600866)</th>\n",
       "      <td>0.071075</td>\n",
       "      <td>1.269866</td>\n",
       "      <td>0.294287</td>\n",
       "      <td>0.863277</td>\n",
       "      <td>2.337563</td>\n",
       "      <td>1.621048</td>\n",
       "      <td>0.972521</td>\n",
       "      <td>0.890689</td>\n",
       "      <td>0.975389</td>\n",
       "      <td>3.729393</td>\n",
       "    </tr>\n",
       "  </tbody>\n",
       "</table>\n",
       "</div>"
      ],
      "text/plain": [
       "              平安银行(000001)  海南橡胶(601118)  美的集团(000333)  苏宁易购(002024)  \\\n",
       "平安银行(000001)      2.671103      0.466075      0.782444      0.315621   \n",
       "海南橡胶(601118)      0.466075      3.165573      0.332354      0.769448   \n",
       "美的集团(000333)      0.782444      0.332354      3.546529      0.531199   \n",
       "苏宁易购(002024)      0.315621      0.769448      0.531199      3.266020   \n",
       "水晶光电(002273)      0.170913      1.430423      0.451630      1.229591   \n",
       "达安基因(002030)      0.895665      1.050282      0.397212      1.008920   \n",
       "新研股份(300159)     -0.131870      0.468688      0.050970      0.586782   \n",
       "广誉远(600771)      -0.008981      0.747894      0.456926      0.784780   \n",
       "城投控股(600649)      0.121328      0.598354      0.232359      0.297031   \n",
       "星湖科技(600866)      0.071075      1.269866      0.294287      0.863277   \n",
       "\n",
       "              水晶光电(002273)  达安基因(002030)  新研股份(300159)  广誉远(600771)  \\\n",
       "平安银行(000001)      0.170913      0.895665     -0.131870    -0.008981   \n",
       "海南橡胶(601118)      1.430423      1.050282      0.468688     0.747894   \n",
       "美的集团(000333)      0.451630      0.397212      0.050970     0.456926   \n",
       "苏宁易购(002024)      1.229591      1.008920      0.586782     0.784780   \n",
       "水晶光电(002273)      6.207008      1.336164      0.753826     1.039226   \n",
       "达安基因(002030)      1.336164      4.111830      0.909172     1.076708   \n",
       "新研股份(300159)      0.753826      0.909172      2.484411     0.500198   \n",
       "广誉远(600771)       1.039226      1.076708      0.500198     2.649841   \n",
       "城投控股(600649)      0.685668      0.622564      0.125164     0.540677   \n",
       "星湖科技(600866)      2.337563      1.621048      0.972521     0.890689   \n",
       "\n",
       "              城投控股(600649)  星湖科技(600866)  \n",
       "平安银行(000001)      0.121328      0.071075  \n",
       "海南橡胶(601118)      0.598354      1.269866  \n",
       "美的集团(000333)      0.232359      0.294287  \n",
       "苏宁易购(002024)      0.297031      0.863277  \n",
       "水晶光电(002273)      0.685668      2.337563  \n",
       "达安基因(002030)      0.622564      1.621048  \n",
       "新研股份(300159)      0.125164      0.972521  \n",
       "广誉远(600771)       0.540677      0.890689  \n",
       "城投控股(600649)      2.758139      0.975389  \n",
       "星湖科技(600866)      0.975389      3.729393  "
      ]
     },
     "execution_count": 7,
     "metadata": {},
     "output_type": "execute_result"
    }
   ],
   "source": [
    "Sigma"
   ]
  },
  {
   "cell_type": "code",
   "execution_count": 8,
   "metadata": {
    "ExecuteTime": {
     "end_time": "2018-05-23T14:27:57.514904Z",
     "start_time": "2018-05-23T14:27:57.501494Z"
    }
   },
   "outputs": [
    {
     "data": {
      "text/plain": [
       "平安银行(000001)     48.288549\n",
       "海南橡胶(601118)    -20.258621\n",
       "美的集团(000333)    102.506211\n",
       "苏宁易购(002024)      8.062956\n",
       "水晶光电(002273)     19.123365\n",
       "达安基因(002030)    -19.733886\n",
       "新研股份(300159)    -23.326452\n",
       "广誉远(600771)      21.949761\n",
       "城投控股(600649)    -56.735497\n",
       "星湖科技(600866)    -35.028249\n",
       "Name: 2017-12-29 00:00:00+00:00, dtype: float64"
      ]
     },
     "execution_count": 8,
     "metadata": {},
     "output_type": "execute_result"
    }
   ],
   "source": [
    "mu"
   ]
  },
  {
   "cell_type": "markdown",
   "metadata": {},
   "source": [
    "# 马科维茨模型"
   ]
  },
  {
   "cell_type": "code",
   "execution_count": 9,
   "metadata": {
    "ExecuteTime": {
     "end_time": "2018-05-23T14:27:57.524332Z",
     "start_time": "2018-05-23T14:27:57.519002Z"
    }
   },
   "outputs": [],
   "source": [
    "import numpy as np"
   ]
  },
  {
   "cell_type": "code",
   "execution_count": 10,
   "metadata": {
    "ExecuteTime": {
     "end_time": "2018-05-23T14:27:57.641578Z",
     "start_time": "2018-05-23T14:27:57.527859Z"
    }
   },
   "outputs": [],
   "source": [
    "# Long only portfolio optimization.\n",
    "from cvxpy import *\n",
    "# 投资比例\n",
    "w = Variable(shape=(n, 1))\n",
    "# \n",
    "gamma = Parameter(nonneg=True)\n",
    "# 投资组合收益率\n",
    "ret = mu.values.T * w\n",
    "risk = quad_form(w, Sigma.values)\n",
    "# 杠杆为1，且不得有空头头寸\n",
    "constraints = [sum(w) == 1, w >= 0]\n",
    "prob = Problem(Maximize(ret - gamma * risk), constraints)"
   ]
  },
  {
   "cell_type": "code",
   "execution_count": 11,
   "metadata": {
    "ExecuteTime": {
     "end_time": "2018-05-23T14:27:59.300623Z",
     "start_time": "2018-05-23T14:27:57.647939Z"
    }
   },
   "outputs": [],
   "source": [
    "# Compute trade-off curve.\n",
    "SAMPLES = 100\n",
    "risk_data = np.zeros(SAMPLES)\n",
    "ret_data = np.zeros(SAMPLES)\n",
    "gamma_vals = np.logspace(-2, 3, num=SAMPLES)\n",
    "for i in range(SAMPLES):\n",
    "    gamma.value = gamma_vals[i]\n",
    "    prob.solve()\n",
    "    risk_data[i] = sqrt(risk).value\n",
    "    ret_data[i] = ret.value"
   ]
  },
  {
   "cell_type": "code",
   "execution_count": 12,
   "metadata": {
    "ExecuteTime": {
     "end_time": "2018-05-23T14:27:59.955096Z",
     "start_time": "2018-05-23T14:27:59.302883Z"
    }
   },
   "outputs": [
    {
     "data": {
      "image/png": "[encoded data removed]",
      "text/plain": [
       "<Figure size 432x288 with 1 Axes>"
      ]
     },
     "metadata": {},
     "output_type": "display_data"
    }
   ],
   "source": [
    "# Plot long only trade-off curve.\n",
    "import matplotlib.pyplot as plt\n",
    "%matplotlib inline\n",
    "\n",
    "markers_on = [29, 40]\n",
    "fig = plt.figure()\n",
    "ax = fig.add_subplot(111)\n",
    "plt.plot(risk_data, ret_data, 'g-')\n",
    "for marker in markers_on:\n",
    "    plt.plot(risk_data[marker], ret_data[marker], 'bs')\n",
    "    ax.annotate(r\"$\\gamma = %.2f$\" % gamma_vals[marker], xy=(risk_data[marker]+.08, ret_data[marker]-.03))\n",
    "for i in range(n):\n",
    "    plt.plot(sqrt(Sigma.values[i,i]).value, mu.values[i], 'ro')\n",
    "plt.xlabel('Standard deviation')\n",
    "plt.ylabel('Return')\n",
    "plt.show()"
   ]
  },
  {
   "cell_type": "markdown",
   "metadata": {},
   "source": [
    "在收益率分布下，权衡曲线上标记了两种风险规避值。\n",
    "\n",
    "请注意，对于低风险值，损失概率接近0，而对于高风险值，损失概率高于0。"
   ]
  },
  {
   "cell_type": "markdown",
   "metadata": {},
   "source": [
    "**下图好像不正确**"
   ]
  },
  {
   "cell_type": "code",
   "execution_count": 13,
   "metadata": {
    "ExecuteTime": {
     "end_time": "2018-05-23T14:28:00.280653Z",
     "start_time": "2018-05-23T14:27:59.958729Z"
    }
   },
   "outputs": [
    {
     "name": "stderr",
     "output_type": "stream",
     "text": [
      "/home/ldf/anaconda3/envs/zipline/lib/python3.6/site-packages/ipykernel_launcher.py:8: MatplotlibDeprecationWarning: scipy.stats.norm.pdf\n",
      "  \n"
     ]
    },
    {
     "data": {
      "image/png": "[encoded data removed]",
      "text/plain": [
       "<Figure size 432x288 with 1 Axes>"
      ]
     },
     "metadata": {},
     "output_type": "display_data"
    }
   ],
   "source": [
    "# Plot return distributions for two points on the trade-off curve.\n",
    "import matplotlib.mlab as mlab\n",
    "plt.figure()\n",
    "for midx, idx in enumerate(markers_on):\n",
    "    gamma.value = gamma_vals[idx]\n",
    "    prob.solve()\n",
    "    x = np.linspace(-2, 5, 1000)\n",
    "    plt.plot(x, mlab.normpdf(x, ret.value, risk.value), label=r\"$\\gamma = %.2f$\" % gamma.value)\n",
    "\n",
    "plt.xlabel('Return')\n",
    "plt.ylabel('Density')\n",
    "plt.legend(loc='upper right')\n",
    "plt.show()"
   ]
  },
  {
   "cell_type": "markdown",
   "metadata": {},
   "source": [
    "### 投资组合约束\n",
    "\n",
    "除多头约束外，还有许多其他可能的投资组合约束条件。没有约束(${\\cal W} = {\\bf R}^n$)，优化问题有一个简单的解析解。我们将详细讨论**leverage limit**，或约束$\\|w \\|_1 \\leq L^\\mathrm{max}$。\n",
    "\n",
    "另一个有趣的约束是**market neutral**，约束$m^T \\Sigma w =0$，其中 $m_i$是资产$i$的资本。\n",
    "$M = m^Tr$是**market return**，以及$m^T \\Sigma w = {\\bf cov}(M,R)$。\n",
    "\n",
    "市场中性约束确保投资组合收益与市场收益率无关。"
   ]
  },
  {
   "cell_type": "markdown",
   "metadata": {},
   "source": [
    "### 举例\n",
    "\n",
    "在下面的代码中，我们计算并绘制了杠杆限制1,2和4的最优风险收益权衡曲线。\n",
    "\n",
    "请注意，增大杠杆可以增加收益并允许更大的风险。"
   ]
  },
  {
   "cell_type": "code",
   "execution_count": 14,
   "metadata": {
    "ExecuteTime": {
     "end_time": "2018-05-23T14:28:00.291206Z",
     "start_time": "2018-05-23T14:28:00.283655Z"
    }
   },
   "outputs": [],
   "source": [
    "# Portfolio optimization with leverage limit.\n",
    "Lmax = Parameter()\n",
    "prob = Problem(Maximize(ret - gamma*risk), \n",
    "               [sum(w) == 1, \n",
    "                norm(w, 1) <= Lmax])"
   ]
  },
  {
   "cell_type": "code",
   "execution_count": 15,
   "metadata": {
    "ExecuteTime": {
     "end_time": "2018-05-23T14:28:06.827523Z",
     "start_time": "2018-05-23T14:28:00.295155Z"
    }
   },
   "outputs": [],
   "source": [
    "# Compute trade-off curve for each leverage limit.\n",
    "L_vals = [1, 2, 4]\n",
    "SAMPLES = 100\n",
    "risk_data = np.zeros((len(L_vals), SAMPLES))\n",
    "ret_data = np.zeros((len(L_vals), SAMPLES))\n",
    "gamma_vals = np.logspace(-2, 3, num=SAMPLES)\n",
    "w_vals = []\n",
    "for k, L_val in enumerate(L_vals):\n",
    "    for i in range(SAMPLES):\n",
    "        Lmax.value = L_val\n",
    "        gamma.value = gamma_vals[i]\n",
    "        prob.solve()\n",
    "        risk_data[k, i] = sqrt(risk).value\n",
    "        ret_data[k, i] = ret.value"
   ]
  },
  {
   "cell_type": "code",
   "execution_count": 16,
   "metadata": {
    "ExecuteTime": {
     "end_time": "2018-05-23T14:28:07.048548Z",
     "start_time": "2018-05-23T14:28:06.829873Z"
    }
   },
   "outputs": [
    {
     "data": {
      "image/png": "[encoded data removed]",
      "text/plain": [
       "<Figure size 432x288 with 1 Axes>"
      ]
     },
     "metadata": {},
     "output_type": "display_data"
    }
   ],
   "source": [
    "# Plot trade-off curves for each leverage limit.\n",
    "for idx, L_val in enumerate(L_vals):\n",
    "    plt.plot(risk_data[idx,:], ret_data[idx,:], label=r\"$L^{\\max}$ = %d\" % L_val)\n",
    "for w_val in w_vals:\n",
    "    w.value = w_val\n",
    "    plt.plot(sqrt(risk).value, ret.value, 'bs')\n",
    "plt.xlabel('Standard deviation')\n",
    "plt.ylabel('Return')\n",
    "plt.legend(loc='lower right')\n",
    "plt.show()"
   ]
  },
  {
   "cell_type": "markdown",
   "metadata": {},
   "source": [
    "我们接下来检查$w^T\\Sigma w = 2$权衡曲线上的点。\n",
    "\n",
    "我们将每个资产组合中持有的每项资产的数量绘制为条形图。负数持股表示空头头寸。\n",
    "\n",
    "注意到一些资产对于低杠杆投资组合持有多头头寸，但在较高杠杆组合中处于空头头寸。"
   ]
  },
  {
   "cell_type": "code",
   "execution_count": 17,
   "metadata": {
    "ExecuteTime": {
     "end_time": "2018-05-23T14:28:07.058974Z",
     "start_time": "2018-05-23T14:28:07.052210Z"
    }
   },
   "outputs": [],
   "source": [
    "# Portfolio optimization with a leverage limit and a bound on risk.\n",
    "prob = Problem(Maximize(ret), \n",
    "              [sum(w) == 1, \n",
    "               norm(w, 1) <= Lmax,\n",
    "               risk <= 2])"
   ]
  },
  {
   "cell_type": "code",
   "execution_count": 18,
   "metadata": {
    "ExecuteTime": {
     "end_time": "2018-05-23T14:28:07.166753Z",
     "start_time": "2018-05-23T14:28:07.062983Z"
    }
   },
   "outputs": [],
   "source": [
    "# Compute solution for different leverage limits.\n",
    "for k, L_val in enumerate(L_vals):\n",
    "    Lmax.value = L_val\n",
    "    prob.solve()\n",
    "    w_vals.append( w.value )"
   ]
  },
  {
   "cell_type": "code",
   "execution_count": 19,
   "metadata": {
    "ExecuteTime": {
     "end_time": "2018-05-23T14:28:07.376744Z",
     "start_time": "2018-05-23T14:28:07.169123Z"
    }
   },
   "outputs": [
    {
     "data": {
      "image/png": "[encoded data removed]",
      "text/plain": [
       "<Figure size 432x288 with 1 Axes>"
      ]
     },
     "metadata": {},
     "output_type": "display_data"
    }
   ],
   "source": [
    "# Plot bar graph of holdings for different leverage limits.\n",
    "colors = ['b', 'g', 'r']\n",
    "indices = np.argsort(mu.values.flatten())\n",
    "for idx, L_val in enumerate(L_vals):\n",
    "    plt.bar(\n",
    "        np.arange(1, n + 1) + 0.25 * idx - 0.375,\n",
    "        w_vals[idx][indices].flatten(),\n",
    "        color=colors[idx],\n",
    "        label=r\"$L^{\\max}$ = %d\" % L_val,\n",
    "        width=0.25)\n",
    "plt.ylabel(r\"$w_i$\", fontsize=16)\n",
    "plt.xlabel(r\"$i$\", fontsize=16)\n",
    "plt.xlim([1 - 0.375, 10 + .375])\n",
    "plt.xticks(np.arange(1, n + 1))\n",
    "plt.show()"
   ]
  },
  {
   "cell_type": "markdown",
   "metadata": {},
   "source": [
    "### 变化\n",
    "\n",
    "经典的投资组合优化还有更多的变化。 我们可能需要$\\mu^T w \\geq R^\\mathrm{min}$并最小化$w^T \\Sigma w$ or $\\|\\Sigma ^{1/2} w\\|_2$。\n",
    "\n",
    "我们可以将（经纪人）空头头寸的成本包括在内，对那些$s \\geq 0$的$s^T (w)_-$的惩罚。\n",
    "\n",
    "我们可以包括交易成本（来自之前的投资组合$w^\\mathrm{prev}$作为惩罚\n",
    "\n",
    "$$\n",
    "\\kappa ^T |w-w^\\mathrm{prev}|^\\eta, \\quad\n",
    "\\kappa \\geq 0.\n",
    "$$\n",
    "\n",
    "$\\eta$的常见值是$\\eta =1, ~ 3/2, ~2$。"
   ]
  },
  {
   "cell_type": "markdown",
   "metadata": {},
   "source": [
    "### 因子协方差模型\n",
    "\n",
    "一个特别常见且有用的变化是将协方差矩阵$\\Sigma$建模为因子模型\n",
    "$$\n",
    "\\Sigma  =  F \\tilde \\Sigma F^T + D,\n",
    "$$\n",
    "其中$F \\in {\\bf R}^{n \\times k}$，$k \\ll n$是**因子加载矩阵**。$k$是因子（或部门）的数量（通常为10s）。$F_{ij}$是资产$i$到因子$j$的负载。\n",
    "$D$是一个对角矩阵;$D_{ii}>0$是**特质风险**。$\\tilde \\Sigma > 0$是**因子协方差矩阵**。\n",
    "\n",
    "$F^Tw \\in {\\bf R}^k$给出了投资组合**因子风险敞口**。如果$(F^Tw)_j=0$，则投资组合是*因子$j$中性*。"
   ]
  },
  {
   "cell_type": "markdown",
   "metadata": {},
   "source": [
    "### 使用因子协方差模型进行投资组合优化\n",
    "\n",
    "使用因子协方差模型，我们将投资组合优化问题定义为\n",
    "\n",
    "\\begin{array}{ll} \\mbox{maximize} & \\mu^T w - \\gamma \\left(f^T \\tilde \\Sigma f  + w^TDw \\right) \\\\\n",
    "\\mbox{subject to} & {\\bf 1}^T w = 1, \\quad f=F^Tw\\\\\n",
    "& w \\in {\\cal W}, \\quad f \\in {\\cal F},\n",
    "\\end{array}\n",
    "\n",
    "其中变量是分配比例$w \\in {\\bf R}^n$和因子风险敞口$f\\in {\\bf R}^k$，$\\cal F$限定因子风险敞口。\n",
    "\n",
    "在优化问题中使用因子协方差模型具有计算优势。标准问题的求解时间为$O(nk^2)$与$O(n^3)$。"
   ]
  },
  {
   "cell_type": "markdown",
   "metadata": {},
   "source": [
    "### 例子\n",
    "\n",
    "在以下代码中，我们生成了有50个因子和3000个资产投资组合优化问题，并与以求解。设置杠杆限制$=2$和$\\gamma=0.1$。\n",
    "\n",
    "我们使用二种方法求解，一种为给定单个矩阵的协方差，另外一种为给定因子模型。用ECOS求解器在CVXPY中单线程运行时，单个矩阵公式的求解时间为687.26秒，因子模型公式的求解时间为0.58秒。机器配置为MacBook Pro，处理器为Intel Core i7。"
   ]
  },
  {
   "cell_type": "code",
   "execution_count": 20,
   "metadata": {
    "ExecuteTime": {
     "end_time": "2018-05-23T14:28:07.404597Z",
     "start_time": "2018-05-23T14:28:07.379966Z"
    }
   },
   "outputs": [],
   "source": [
    "# Generate data for factor model.\n",
    "n = 3000\n",
    "m = 50\n",
    "np.random.seed(1)\n",
    "mu = np.abs(np.random.randn(n, 1))\n",
    "Sigma_tilde = np.random.randn(m, m)\n",
    "Sigma_tilde = Sigma_tilde.T.dot(Sigma_tilde)\n",
    "D = np.diag(np.random.uniform(0, 0.9, size=n))\n",
    "F = np.random.randn(n, m)"
   ]
  },
  {
   "cell_type": "code",
   "execution_count": 21,
   "metadata": {
    "ExecuteTime": {
     "end_time": "2018-05-23T14:28:14.301455Z",
     "start_time": "2018-05-23T14:28:07.407535Z"
    }
   },
   "outputs": [
    {
     "name": "stdout",
     "output_type": "stream",
     "text": [
      "\n",
      "ECOS 2.0.4 - (C) embotech GmbH, Zurich Switzerland, 2012-15. Web: www.embotech.com/ECOS\n",
      "\n",
      "It     pcost       dcost      gap   pres   dres    k/t    mu     step   sigma     IR    |   BT\n",
      " 0  -7.950e-01  -1.112e+01  +2e+04  9e-01  1e-01  1e+00  3e+00    ---    ---    1  1  - |  -  - \n",
      " 1  -1.203e+01  -1.321e+01  +2e+03  8e-01  2e-02  5e-01  4e-01  0.9890  1e-01   1  1  1 |  0  0\n",
      " 2  -1.017e+01  -1.030e+01  +2e+02  1e-01  2e-03  5e-03  3e-02  0.9049  8e-04   1  1  1 |  0  0\n",
      " 3  -6.657e+00  -6.724e+00  +2e+02  6e-02  6e-04  7e-03  3e-02  0.2605  4e-01   1  2  2 |  0  0\n",
      " 4  -6.355e+00  -6.401e+00  +1e+02  4e-02  4e-04  1e-02  2e-02  0.6410  7e-01   2  2  2 |  0  0\n",
      " 5  -5.939e+00  -5.971e+00  +1e+02  3e-02  3e-04  8e-03  2e-02  0.3434  4e-01   2  2  2 |  0  0\n",
      " 6  -6.381e+00  -6.414e+00  +1e+02  3e-02  3e-04  1e-02  2e-02  0.2204  9e-01   2  2  2 |  0  0\n",
      " 7  -5.583e+00  -5.601e+00  +7e+01  2e-02  2e-04  7e-03  1e-02  0.7038  5e-01   2  2  2 |  0  0\n",
      " 8  -5.647e+00  -5.664e+00  +7e+01  2e-02  2e-04  7e-03  1e-02  0.2709  9e-01   2  2  2 |  0  0\n",
      " 9  -5.043e+00  -5.052e+00  +4e+01  7e-03  7e-05  3e-03  7e-03  0.5198  1e-01   2  2  2 |  0  0\n",
      "10  -4.922e+00  -4.929e+00  +3e+01  5e-03  5e-05  2e-03  5e-03  0.4534  6e-01   2  2  2 |  0  0\n",
      "11  -4.738e+00  -4.741e+00  +2e+01  2e-03  2e-05  9e-04  3e-03  0.6952  3e-01   2  2  2 |  0  0\n",
      "12  -4.659e+00  -4.661e+00  +8e+00  1e-03  1e-05  4e-04  1e-03  0.6456  3e-01   2  2  2 |  0  0\n",
      "13  -4.638e+00  -4.640e+00  +7e+00  9e-04  9e-06  2e-04  1e-03  0.6180  7e-01   2  2  2 |  0  0\n",
      "14  -4.618e+00  -4.618e+00  +3e+00  5e-04  5e-06  1e-04  6e-04  0.5344  1e-01   2  2  2 |  0  0\n",
      "15  -4.608e+00  -4.608e+00  +2e+00  2e-04  2e-06  5e-05  3e-04  0.7121  3e-01   2  2  2 |  0  0\n",
      "16  -4.604e+00  -4.604e+00  +7e-01  1e-04  9e-07  2e-05  1e-04  0.7086  2e-01   2  2  2 |  0  0\n",
      "17  -4.602e+00  -4.602e+00  +1e-01  2e-05  2e-07  4e-06  2e-05  0.8410  6e-02   2  2  2 |  0  0\n",
      "18  -4.602e+00  -4.602e+00  +2e-02  2e-06  2e-08  4e-07  3e-06  0.9184  3e-02   2  2  2 |  0  0\n",
      "19  -4.601e+00  -4.601e+00  +5e-03  7e-07  6e-09  1e-07  8e-07  0.7997  1e-01   2  2  2 |  0  0\n",
      "20  -4.601e+00  -4.601e+00  +1e-03  2e-07  1e-09  3e-08  2e-07  0.8280  7e-02   2  1  1 |  0  0\n",
      "21  -4.601e+00  -4.601e+00  +7e-04  1e-07  1e-09  2e-08  1e-07  0.5424  4e-01   2  2  2 |  0  0\n",
      "22  -4.601e+00  -4.601e+00  +4e-05  5e-09  5e-11  8e-10  6e-09  0.9531  3e-03   2  1  1 |  0  0\n",
      "23  -4.601e+00  -4.601e+00  +3e-06  4e-10  4e-12  7e-11  5e-10  0.9890  7e-02   2  1  2 |  0  0\n",
      "24  -4.601e+00  -4.601e+00  +2e-07  2e-11  2e-13  4e-12  3e-11  0.9463  3e-04   2  1  1 |  0  0\n",
      "25  -4.601e+00  -4.601e+00  +8e-09  3e-12  1e-14  2e-13  1e-12  0.9890  4e-02   2  1  1 |  0  0\n",
      "\n",
      "OPTIMAL (within feastol=3.1e-12, reltol=1.8e-09, abstol=8.1e-09).\n",
      "Runtime: 0.906957 seconds.\n",
      "\n"
     ]
    },
    {
     "data": {
      "text/plain": [
       "4.6014667426339155"
      ]
     },
     "execution_count": 21,
     "metadata": {},
     "output_type": "execute_result"
    }
   ],
   "source": [
    "# Factor model portfolio optimization.\n",
    "w = Variable(shape=(n,1))\n",
    "f = F.T*w\n",
    "gamma = Parameter(nonneg=True)\n",
    "Lmax = Parameter()\n",
    "ret = mu.T*w \n",
    "risk = quad_form(f, Sigma_tilde) + quad_form(w, D)\n",
    "prob_factor = Problem(Maximize(ret - gamma*risk), \n",
    "                     [sum(w) == 1, \n",
    "                      norm(w, 1) <= Lmax])\n",
    "\n",
    "# Solve the factor model problem.\n",
    "Lmax.value = 2\n",
    "gamma.value = 0.1\n",
    "prob_factor.solve(verbose=True)"
   ]
  },
  {
   "cell_type": "code",
   "execution_count": 32,
   "metadata": {
    "ExecuteTime": {
     "end_time": "2018-05-23T09:14:21.790892Z",
     "start_time": "2018-05-23T08:57:31.595523Z"
    }
   },
   "outputs": [
    {
     "name": "stdout",
     "output_type": "stream",
     "text": [
      "\n",
      "ECOS 2.0.4 - (C) embotech GmbH, Zurich Switzerland, 2012-15. Web: www.embotech.com/ECOS\n",
      "\n",
      "It     pcost       dcost      gap   pres   dres    k/t    mu     step   sigma     IR    |   BT\n",
      " 0  -7.947e-01  -8.986e+00  +2e+05  9e-01  4e-04  1e+00  3e+01    ---    ---    1  1  - |  -  - \n",
      " 1  -3.123e+01  -2.907e+01  +3e+04  9e-01  8e-05  4e+00  5e+00  0.9295  1e-01   1  1  1 |  0  0\n",
      " 2  -2.659e+01  -2.656e+01  +4e+02  4e-02  9e-07  4e-02  6e-02  0.9890  1e-04   1  2  2 |  0  0\n",
      " 3  -1.515e+01  -1.515e+01  +2e+01  4e-04  1e-08  5e-04  3e-03  0.9890  1e-04   1  3  3 |  0  0\n",
      " 4  -8.263e+00  -8.262e+00  +7e+00  2e-04  5e-09  4e-04  1e-03  0.5719  1e-01   1  3  3 |  0  0\n",
      " 5  -8.647e+00  -8.646e+00  +7e+00  2e-04  5e-09  5e-04  1e-03  0.0387  9e-01   2  3  4 |  0  0\n",
      " 6  -8.989e+00  -8.989e+00  +7e+00  2e-04  5e-09  7e-04  1e-03  0.3018  8e-01   2  4  4 |  0  0\n",
      " 7  -6.572e+00  -6.572e+00  +4e+00  1e-04  3e-09  6e-04  7e-04  0.6685  4e-01   2  4  4 |  0  0\n",
      " 8  -6.310e+00  -6.310e+00  +3e+00  8e-05  2e-09  5e-04  5e-04  0.5077  5e-01   2  3  4 |  0  0\n",
      " 9  -5.144e+00  -5.143e+00  +1e+00  4e-05  1e-09  3e-04  2e-04  0.6726  2e-01   2  3  3 |  0  0\n",
      "10  -5.182e+00  -5.182e+00  +1e+00  4e-05  1e-09  3e-04  2e-04  0.0933  9e-01   2  3  4 |  0  0\n",
      "11  -5.081e+00  -5.081e+00  +1e+00  3e-05  8e-10  2e-04  2e-04  0.3436  5e-01   2  3  3 |  0  0\n",
      "12  -4.830e+00  -4.830e+00  +7e-01  2e-05  5e-10  1e-04  1e-04  0.6144  3e-01   2  3  3 |  0  0\n",
      "13  -4.718e+00  -4.718e+00  +4e-01  1e-05  3e-10  8e-05  6e-05  0.5871  3e-01   2  3  3 |  0  0\n",
      "14  -4.681e+00  -4.681e+00  +3e-01  8e-06  2e-10  6e-05  5e-05  0.4756  6e-01   2  3  3 |  0  0\n",
      "15  -4.632e+00  -4.631e+00  +1e-01  4e-06  1e-10  3e-05  2e-05  0.6355  2e-01   1  3  3 |  0  0\n",
      "16  -4.608e+00  -4.608e+00  +8e-02  2e-06  6e-11  2e-05  1e-05  0.9239  5e-01   1  3  3 |  0  0\n",
      "17  -4.603e+00  -4.603e+00  +3e-02  8e-07  2e-11  7e-06  5e-06  0.9261  3e-01   2  3  2 |  0  0\n",
      "18  -4.602e+00  -4.602e+00  +9e-03  2e-07  6e-12  2e-06  1e-06  0.7613  5e-02   1  2  2 |  0  0\n",
      "19  -4.602e+00  -4.602e+00  +1e-03  5e-08  7e-13  2e-07  2e-07  0.9025  2e-02   1  2  2 |  0  0\n",
      "20  -4.601e+00  -4.601e+00  +2e-04  3e-08  2e-13  5e-08  4e-08  0.8357  7e-02   2  3  3 |  0  0\n",
      "21  -4.601e+00  -4.601e+00  +6e-05  9e-09  5e-14  1e-08  1e-08  0.7962  1e-01   2  2  2 |  0  0\n",
      "22  -4.601e+00  -4.601e+00  +4e-05  1e-08  3e-14  8e-09  7e-09  0.5932  4e-01   2  3  3 |  0  0\n",
      "23  -4.601e+00  -4.601e+00  +3e-06  5e-10  2e-15  6e-10  5e-10  0.9890  6e-02   2  2  2 |  0  0\n",
      "24  -4.601e+00  -4.601e+00  +6e-08  3e-10  6e-17  1e-11  1e-11  0.9772  3e-04   2  2  2 |  0  0\n",
      "Slacks/multipliers leaving the cone, recovering best iterate (24) and stopping.\n",
      "\n",
      "Close to OPTIMAL (within feastol=2.9e-10, reltol=1.4e-08, abstol=6.3e-08).\n",
      "Runtime: 976.734842 seconds.\n",
      "\n"
     ]
    },
    {
     "data": {
      "text/plain": [
       "4.601466743363137"
      ]
     },
     "execution_count": 32,
     "metadata": {},
     "output_type": "execute_result"
    }
   ],
   "source": [
    "# Standard portfolio optimization with data from factor model.\n",
    "risk = quad_form(w, F.dot(Sigma_tilde).dot(F.T) + D)\n",
    "prob = Problem(Maximize(ret - gamma*risk), \n",
    "               [sum(w) == 1, \n",
    "                norm(w, 1) <= Lmax])\n",
    "\n",
    "# Uncomment to solve the problem.\n",
    "# WARNING: this will take many minutes to run.\n",
    "# 本机耗时16分钟\n",
    "prob.solve(verbose=True)"
   ]
  }
 ],
 "metadata": {
  "kernelspec": {
   "display_name": "zipline",
   "language": "python",
   "name": "zipline"
  },
  "language_info": {
   "codemirror_mode": {
    "name": "ipython",
    "version": 3
   },
   "file_extension": ".py",
   "mimetype": "text/x-python",
   "name": "python",
   "nbconvert_exporter": "python",
   "pygments_lexer": "ipython3",
   "version": "3.6.5"
  },
  "toc": {
   "base_numbering": 1,
   "nav_menu": {},
   "number_sections": true,
   "sideBar": true,
   "skip_h1_title": false,
   "title_cell": "Table of Contents",
   "title_sidebar": "Contents",
   "toc_cell": false,
   "toc_position": {},
   "toc_section_display": true,
   "toc_window_display": false
  }
 },
 "nbformat": 4,
 "nbformat_minor": 2
}
