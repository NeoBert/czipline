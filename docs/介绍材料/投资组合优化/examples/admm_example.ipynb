{
 "cells": [
  {
   "cell_type": "code",
   "execution_count": 3,
   "metadata": {
    "ExecuteTime": {
     "end_time": "2018-05-24T07:05:59.043449Z",
     "start_time": "2018-05-24T07:05:58.790721Z"
    }
   },
   "outputs": [
    {
     "ename": "IndexError",
     "evalue": "too many indices for array",
     "output_type": "error",
     "traceback": [
      "\u001b[0;31m---------------------------------------------------------------------------\u001b[0m",
      "\u001b[0;31mIndexError\u001b[0m                                Traceback (most recent call last)",
      "\u001b[0;32m<ipython-input-3-f428eb866107>\u001b[0m in \u001b[0;36m<module>\u001b[0;34m()\u001b[0m\n\u001b[1;32m     75\u001b[0m \u001b[0;34m\u001b[0m\u001b[0m\n\u001b[1;32m     76\u001b[0m \u001b[0;32mif\u001b[0m \u001b[0m__name__\u001b[0m \u001b[0;34m==\u001b[0m \u001b[0;34m'__main__'\u001b[0m\u001b[0;34m:\u001b[0m\u001b[0;34m\u001b[0m\u001b[0m\n\u001b[0;32m---> 77\u001b[0;31m     \u001b[0mmain\u001b[0m\u001b[0;34m(\u001b[0m\u001b[0;34m)\u001b[0m\u001b[0;34m\u001b[0m\u001b[0m\n\u001b[0m",
      "\u001b[0;32m<ipython-input-3-f428eb866107>\u001b[0m in \u001b[0;36mmain\u001b[0;34m()\u001b[0m\n\u001b[1;32m     56\u001b[0m         \u001b[0mh\u001b[0m \u001b[0;34m=\u001b[0m \u001b[0;36m0\u001b[0m\u001b[0;34m\u001b[0m\u001b[0m\n\u001b[1;32m     57\u001b[0m         \u001b[0;32mfor\u001b[0m \u001b[0mi\u001b[0m \u001b[0;32min\u001b[0m \u001b[0mrange\u001b[0m\u001b[0;34m(\u001b[0m\u001b[0;36m10\u001b[0m\u001b[0;34m)\u001b[0m\u001b[0;34m:\u001b[0m\u001b[0;34m\u001b[0m\u001b[0m\n\u001b[0;32m---> 58\u001b[0;31m             \u001b[0mh\u001b[0m \u001b[0;34m=\u001b[0m \u001b[0mh\u001b[0m \u001b[0;34m+\u001b[0m \u001b[0mrho\u001b[0m \u001b[0;34m/\u001b[0m \u001b[0;36m2\u001b[0m \u001b[0;34m*\u001b[0m \u001b[0msquare\u001b[0m\u001b[0;34m(\u001b[0m\u001b[0mnorm\u001b[0m\u001b[0;34m(\u001b[0m\u001b[0mx\u001b[0m\u001b[0;34m[\u001b[0m\u001b[0;34m:\u001b[0m\u001b[0;34m,\u001b[0m \u001b[0mi\u001b[0m\u001b[0;34m]\u001b[0m \u001b[0;34m-\u001b[0m \u001b[0mznew\u001b[0m \u001b[0;34m+\u001b[0m \u001b[0mu\u001b[0m\u001b[0;34m[\u001b[0m\u001b[0;34m:\u001b[0m\u001b[0;34m,\u001b[0m \u001b[0mi\u001b[0m\u001b[0;34m]\u001b[0m\u001b[0;34m)\u001b[0m\u001b[0;34m)\u001b[0m\u001b[0;34m\u001b[0m\u001b[0m\n\u001b[0m\u001b[1;32m     59\u001b[0m         \u001b[0mobjective\u001b[0m \u001b[0;34m=\u001b[0m \u001b[0mMinimize\u001b[0m\u001b[0;34m(\u001b[0m\u001b[0mh\u001b[0m\u001b[0;34m)\u001b[0m\u001b[0;34m\u001b[0m\u001b[0m\n\u001b[1;32m     60\u001b[0m         \u001b[0mp\u001b[0m \u001b[0;34m=\u001b[0m \u001b[0mProblem\u001b[0m\u001b[0;34m(\u001b[0m\u001b[0mobjective\u001b[0m\u001b[0;34m,\u001b[0m \u001b[0;34m[\u001b[0m\u001b[0;34m]\u001b[0m\u001b[0;34m)\u001b[0m\u001b[0;34m\u001b[0m\u001b[0m\n",
      "\u001b[0;31mIndexError\u001b[0m: too many indices for array"
     ]
    }
   ],
   "source": [
    "\"\"\"\n",
    "\n",
    "\"\"\"\n",
    "\n",
    "from cvxpy import *\n",
    "from multiprocessing import Pool\n",
    "import matplotlib.pyplot as plt\n",
    "from numpy import linalg as LA\n",
    "import numpy as np\n",
    "import scipy as sp\n",
    "import math\n",
    "\n",
    "\n",
    "def solveX(data):\n",
    "    a = data[0:3]\n",
    "    u = data[3:6]\n",
    "    z = data[6:9]\n",
    "    rho = data[9]\n",
    "    x = Variable(3, 1)\n",
    "    g = square(norm(x - a)) + rho / 2 * square(norm(x - z + u))\n",
    "    objective = Minimize(g)\n",
    "    p = Problem(objective, [])\n",
    "    result = p.solve()\n",
    "    return x.value\n",
    "\n",
    "\n",
    "def main():\n",
    "    #Solve the following consensus problem using ADMM:\n",
    "    #Minimize sum(f_i(x)), where f_i(x) = square(norm(x - a_i))\n",
    "\n",
    "    #Generate a_i's\n",
    "    np.random.seed(0)\n",
    "    a = np.random.randn(3, 10)\n",
    "\n",
    "    #Initialize variables to zero\n",
    "    x = np.zeros((3, 10))\n",
    "    u = np.zeros((3, 10))\n",
    "    z = np.zeros((3, 1))\n",
    "\n",
    "    rho = 5\n",
    "\n",
    "    #Run 50 steps of ADMM\n",
    "    iters = 0\n",
    "    pool = Pool(processes=10)\n",
    "    while (iters < 50):\n",
    "\n",
    "        #x-update: update each x_i in parallel\n",
    "        temp = np.concatenate(\n",
    "            (a, u, np.tile(z, (1, 10)), np.tile(rho, (10, 1)).transpose()),\n",
    "            axis=0)\n",
    "        xnew = pool.map(solveX, temp.transpose())\n",
    "        x = np.array(xnew).transpose()[0]\n",
    "\n",
    "        #z-update\n",
    "        znew = Variable((3, 1))\n",
    "        h = 0\n",
    "        for i in range(10):\n",
    "            h = h + rho / 2 * square(norm(x[:, i] - znew + u[:, i]))\n",
    "        objective = Minimize(h)\n",
    "        p = Problem(objective, [])\n",
    "        result = p.solve()\n",
    "        z = np.array(znew.value)\n",
    "\n",
    "        #u-update\n",
    "        for i in range(10):\n",
    "            u[:, i] = u[:, i] + (x[:, i] - z.transpose())[0]\n",
    "\n",
    "        iters = iters + 1\n",
    "\n",
    "    pool.close()\n",
    "    pool.join()\n",
    "\n",
    "    print(x)\n",
    "\n",
    "\n",
    "if __name__ == '__main__':\n",
    "    main()"
   ]
  },
  {
   "cell_type": "code",
   "execution_count": null,
   "metadata": {},
   "outputs": [],
   "source": []
  }
 ],
 "metadata": {
  "kernelspec": {
   "display_name": "zipline",
   "language": "python",
   "name": "zipline"
  },
  "language_info": {
   "codemirror_mode": {
    "name": "ipython",
    "version": 3
   },
   "file_extension": ".py",
   "mimetype": "text/x-python",
   "name": "python",
   "nbconvert_exporter": "python",
   "pygments_lexer": "ipython3",
   "version": "3.6.5"
  },
  "toc": {
   "base_numbering": 1,
   "nav_menu": {},
   "number_sections": true,
   "sideBar": true,
   "skip_h1_title": false,
   "title_cell": "Table of Contents",
   "title_sidebar": "Contents",
   "toc_cell": false,
   "toc_position": {},
   "toc_section_display": true,
   "toc_window_display": false
  }
 },
 "nbformat": 4,
 "nbformat_minor": 2
}
