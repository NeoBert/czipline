{
 "cells": [
  {
   "cell_type": "code",
   "execution_count": 2,
   "metadata": {
    "ExecuteTime": {
     "end_time": "2018-05-24T07:17:06.182286Z",
     "start_time": "2018-05-24T07:17:05.418716Z"
    }
   },
   "outputs": [
    {
     "name": "stdout",
     "output_type": "stream",
     "text": [
      "Computing p*(epsilon) for -1 <= epsilon <= 1 ...\n",
      "Done!\n"
     ]
    },
    {
     "data": {
      "image/png": "[encoded data removed]",
      "text/plain": [
       "<Figure size 432x288 with 1 Axes>"
      ]
     },
     "metadata": {},
     "output_type": "display_data"
    }
   ],
   "source": [
    "import sys\n",
    "\n",
    "import cvxopt\n",
    "import numpy as np\n",
    "from pylab import *\n",
    "import math\n",
    "\n",
    "from cvxpy import *\n",
    "\n",
    "from multiprocessing import Pool\n",
    "\n",
    "# Taken from CVX website http://cvxr.com/cvx/examples/\n",
    "# Exercise 5.33: Parametrized l1-norm approximation\n",
    "# Ported from cvx matlab to cvxpy by Misrab Faizullah-Khan\n",
    "# Original comments below\n",
    "\n",
    "# Boyd & Vandenberghe \"Convex Optimization\"\n",
    "# Joelle Skaf - 08/29/05\n",
    "# (a figure is generated)\n",
    "#\n",
    "# Let p_star(epsilon) be the optimal value of the following problem:\n",
    "#               minimize    ||Ax + b + epsilon*d||_1\n",
    "# Plots p_star(epsilon) versus epsilon and demonstrates the fact that it's\n",
    "# affine on an interval that includes epsilon = 0.\n",
    "\n",
    "# Input data\n",
    "m = 6\n",
    "n = 3\n",
    "A = cvxopt.matrix(\n",
    "    [-2, 7, 1, -5, -1, 3, -7, 3, -5, -1, 4, -4, 1, 5, 5, 2, -5, -1], (m, n))\n",
    "\n",
    "b = cvxopt.matrix([-4, 3, 9, 0, -11, 5], (m, 1))\n",
    "d = cvxopt.matrix([-10, -13, -27, -10, -7, 14], (m, 1))\n",
    "epsilon = Parameter()\n",
    "\n",
    "# The problem\n",
    "x = Variable((n,1))\n",
    "objective = Minimize(norm(A * x + b + epsilon * d, 1))\n",
    "p = Problem(objective, [])\n",
    "\n",
    "\n",
    "# Assign a value to gamma and find the optimal x\n",
    "def get_p(e_value):\n",
    "    epsilon.value = e_value\n",
    "    result = p.solve()\n",
    "    return result\n",
    "\n",
    "\n",
    "# Range of epsilon values\n",
    "e_values = np.linspace(-1, 1, 41)\n",
    "\n",
    "# Solve serially if desired\n",
    "# x_values = [get_p(value) for value in e_values]\n",
    "\n",
    "# Solve in parallel\n",
    "print('Computing p*(epsilon) for -1 <= epsilon <= 1 ...')\n",
    "pool = Pool(processes=4)\n",
    "p_values = pool.map(get_p, e_values)\n",
    "print('Done!')\n",
    "\n",
    "# Plots\n",
    "plot(e_values, p_values)\n",
    "title('p*($\\epsilon$) vs $\\epsilon$')\n",
    "xlabel('$\\epsilon$')\n",
    "ylabel('p*($\\epsilon$)')\n",
    "show()"
   ]
  }
 ],
 "metadata": {
  "kernelspec": {
   "display_name": "zipline",
   "language": "python",
   "name": "zipline"
  },
  "language_info": {
   "codemirror_mode": {
    "name": "ipython",
    "version": 3
   },
   "file_extension": ".py",
   "mimetype": "text/x-python",
   "name": "python",
   "nbconvert_exporter": "python",
   "pygments_lexer": "ipython3",
   "version": "3.6.5"
  },
  "toc": {
   "base_numbering": 1,
   "nav_menu": {},
   "number_sections": true,
   "sideBar": true,
   "skip_h1_title": false,
   "title_cell": "Table of Contents",
   "title_sidebar": "Contents",
   "toc_cell": false,
   "toc_position": {},
   "toc_section_display": true,
   "toc_window_display": false
  }
 },
 "nbformat": 4,
 "nbformat_minor": 2
}
