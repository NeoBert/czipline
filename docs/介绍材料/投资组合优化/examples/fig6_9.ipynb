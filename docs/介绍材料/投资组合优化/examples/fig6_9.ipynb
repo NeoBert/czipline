{
 "cells": [
  {
   "cell_type": "code",
   "execution_count": 3,
   "metadata": {
    "ExecuteTime": {
     "end_time": "2018-05-24T07:09:13.624732Z",
     "start_time": "2018-05-24T07:09:04.938359Z"
    }
   },
   "outputs": [
    {
     "ename": "MemoryError",
     "evalue": "",
     "output_type": "error",
     "traceback": [
      "\u001b[0;31m---------------------------------------------------------------------------\u001b[0m",
      "\u001b[0;31mRemoteTraceback\u001b[0m                           Traceback (most recent call last)",
      "\u001b[0;31mRemoteTraceback\u001b[0m: \n\"\"\"\nTraceback (most recent call last):\n  File \"/home/ldf/anaconda3/envs/zipline/lib/python3.6/multiprocessing/pool.py\", line 119, in worker\n    result = (True, func(*args, **kwds))\n  File \"/home/ldf/anaconda3/envs/zipline/lib/python3.6/multiprocessing/pool.py\", line 44, in mapstar\n    return list(map(*args))\n  File \"<ipython-input-3-039b22c85a27>\", line 55, in get_value\n    result = p.solve()\n  File \"/home/ldf/pkg_source/cvxpy/build/lib.linux-x86_64-3.6/cvxpy/problems/problem.py\", line 246, in solve\n    return solve_func(self, *args, **kwargs)\n  File \"/home/ldf/pkg_source/cvxpy/build/lib.linux-x86_64-3.6/cvxpy/problems/problem.py\", line 360, in _solve\n    kwargs)\n  File \"/home/ldf/pkg_source/cvxpy/build/lib.linux-x86_64-3.6/cvxpy/reductions/solvers/solving_chain.py\", line 233, in solve_via_data\n    solver_opts, problem._solver_cache)\n  File \"/home/ldf/pkg_source/cvxpy/build/lib.linux-x86_64-3.6/cvxpy/reductions/solvers/conic_solvers/cvxopt_conif.py\", line 108, in solve_via_data\n    solver_opts)\n  File \"/home/ldf/pkg_source/cvxpy/build/lib.linux-x86_64-3.6/cvxpy/problems/solvers/cvxopt_intf.py\", line 158, in solve\n    if self.remove_redundant_rows(data) == s.INFEASIBLE:\n  File \"/home/ldf/pkg_source/cvxpy/build/lib.linux-x86_64-3.6/cvxpy/problems/solvers/cvxopt_intf.py\", line 289, in remove_redundant_rows\n    Q, R, P = scipy.linalg.qr(A.todense(), pivoting=True)\n  File \"/home/ldf/anaconda3/envs/zipline/lib/python3.6/site-packages/scipy/sparse/base.py\", line 846, in todense\n    return np.asmatrix(self.toarray(order=order, out=out))\n  File \"/home/ldf/anaconda3/envs/zipline/lib/python3.6/site-packages/scipy/sparse/compressed.py\", line 947, in toarray\n    out = self._process_toarray_args(order, out)\n  File \"/home/ldf/anaconda3/envs/zipline/lib/python3.6/site-packages/scipy/sparse/base.py\", line 1184, in _process_toarray_args\n    return np.zeros(self.shape, dtype=self.dtype, order=order)\nMemoryError\n\"\"\"",
      "\nThe above exception was the direct cause of the following exception:\n",
      "\u001b[0;31mMemoryError\u001b[0m                               Traceback (most recent call last)",
      "\u001b[0;32m<ipython-input-3-039b22c85a27>\u001b[0m in \u001b[0;36m<module>\u001b[0;34m()\u001b[0m\n\u001b[1;32m     59\u001b[0m \u001b[0mpool\u001b[0m \u001b[0;34m=\u001b[0m \u001b[0mPool\u001b[0m\u001b[0;34m(\u001b[0m\u001b[0mprocesses\u001b[0m\u001b[0;34m=\u001b[0m\u001b[0;36m2\u001b[0m\u001b[0;34m)\u001b[0m\u001b[0;34m\u001b[0m\u001b[0m\n\u001b[1;32m     60\u001b[0m \u001b[0;31m# compute allocation in parallel\u001b[0m\u001b[0;34m\u001b[0m\u001b[0;34m\u001b[0m\u001b[0m\n\u001b[0;32m---> 61\u001b[0;31m \u001b[0mnorms1\u001b[0m\u001b[0;34m,\u001b[0m \u001b[0mnorms2\u001b[0m \u001b[0;34m=\u001b[0m \u001b[0mlist\u001b[0m\u001b[0;34m(\u001b[0m\u001b[0mzip\u001b[0m\u001b[0;34m(\u001b[0m\u001b[0;34m*\u001b[0m\u001b[0mpool\u001b[0m\u001b[0;34m.\u001b[0m\u001b[0mmap\u001b[0m\u001b[0;34m(\u001b[0m\u001b[0mget_value\u001b[0m\u001b[0;34m,\u001b[0m \u001b[0mlambdas\u001b[0m\u001b[0;34m)\u001b[0m\u001b[0;34m)\u001b[0m\u001b[0;34m)\u001b[0m\u001b[0;34m\u001b[0m\u001b[0m\n\u001b[0m\u001b[1;32m     62\u001b[0m \u001b[0;34m\u001b[0m\u001b[0m\n\u001b[1;32m     63\u001b[0m \u001b[0mplot\u001b[0m\u001b[0;34m(\u001b[0m\u001b[0mnorms1\u001b[0m\u001b[0;34m,\u001b[0m \u001b[0mnorms2\u001b[0m\u001b[0;34m)\u001b[0m\u001b[0;34m\u001b[0m\u001b[0m\n",
      "\u001b[0;32m~/anaconda3/envs/zipline/lib/python3.6/multiprocessing/pool.py\u001b[0m in \u001b[0;36mmap\u001b[0;34m(self, func, iterable, chunksize)\u001b[0m\n\u001b[1;32m    264\u001b[0m         \u001b[0;32min\u001b[0m \u001b[0ma\u001b[0m \u001b[0mlist\u001b[0m \u001b[0mthat\u001b[0m \u001b[0;32mis\u001b[0m \u001b[0mreturned\u001b[0m\u001b[0;34m.\u001b[0m\u001b[0;34m\u001b[0m\u001b[0m\n\u001b[1;32m    265\u001b[0m         '''\n\u001b[0;32m--> 266\u001b[0;31m         \u001b[0;32mreturn\u001b[0m \u001b[0mself\u001b[0m\u001b[0;34m.\u001b[0m\u001b[0m_map_async\u001b[0m\u001b[0;34m(\u001b[0m\u001b[0mfunc\u001b[0m\u001b[0;34m,\u001b[0m \u001b[0miterable\u001b[0m\u001b[0;34m,\u001b[0m \u001b[0mmapstar\u001b[0m\u001b[0;34m,\u001b[0m \u001b[0mchunksize\u001b[0m\u001b[0;34m)\u001b[0m\u001b[0;34m.\u001b[0m\u001b[0mget\u001b[0m\u001b[0;34m(\u001b[0m\u001b[0;34m)\u001b[0m\u001b[0;34m\u001b[0m\u001b[0m\n\u001b[0m\u001b[1;32m    267\u001b[0m \u001b[0;34m\u001b[0m\u001b[0m\n\u001b[1;32m    268\u001b[0m     \u001b[0;32mdef\u001b[0m \u001b[0mstarmap\u001b[0m\u001b[0;34m(\u001b[0m\u001b[0mself\u001b[0m\u001b[0;34m,\u001b[0m \u001b[0mfunc\u001b[0m\u001b[0;34m,\u001b[0m \u001b[0miterable\u001b[0m\u001b[0;34m,\u001b[0m \u001b[0mchunksize\u001b[0m\u001b[0;34m=\u001b[0m\u001b[0;32mNone\u001b[0m\u001b[0;34m)\u001b[0m\u001b[0;34m:\u001b[0m\u001b[0;34m\u001b[0m\u001b[0m\n",
      "\u001b[0;32m~/anaconda3/envs/zipline/lib/python3.6/multiprocessing/pool.py\u001b[0m in \u001b[0;36mget\u001b[0;34m(self, timeout)\u001b[0m\n\u001b[1;32m    642\u001b[0m             \u001b[0;32mreturn\u001b[0m \u001b[0mself\u001b[0m\u001b[0;34m.\u001b[0m\u001b[0m_value\u001b[0m\u001b[0;34m\u001b[0m\u001b[0m\n\u001b[1;32m    643\u001b[0m         \u001b[0;32melse\u001b[0m\u001b[0;34m:\u001b[0m\u001b[0;34m\u001b[0m\u001b[0m\n\u001b[0;32m--> 644\u001b[0;31m             \u001b[0;32mraise\u001b[0m \u001b[0mself\u001b[0m\u001b[0;34m.\u001b[0m\u001b[0m_value\u001b[0m\u001b[0;34m\u001b[0m\u001b[0m\n\u001b[0m\u001b[1;32m    645\u001b[0m \u001b[0;34m\u001b[0m\u001b[0m\n\u001b[1;32m    646\u001b[0m     \u001b[0;32mdef\u001b[0m \u001b[0m_set\u001b[0m\u001b[0;34m(\u001b[0m\u001b[0mself\u001b[0m\u001b[0;34m,\u001b[0m \u001b[0mi\u001b[0m\u001b[0;34m,\u001b[0m \u001b[0mobj\u001b[0m\u001b[0;34m)\u001b[0m\u001b[0;34m:\u001b[0m\u001b[0;34m\u001b[0m\u001b[0m\n",
      "\u001b[0;31mMemoryError\u001b[0m: "
     ]
    }
   ],
   "source": [
    "import sys\n",
    "\n",
    "import cvxopt\n",
    "import numpy as np\n",
    "from scipy import sparse\n",
    "from pylab import *\n",
    "import math\n",
    "\n",
    "from cvxpy import *\n",
    "from multiprocessing import Pool\n",
    "\n",
    "# Taken from CVX website http://cvxr.com/cvx/examples/\n",
    "# Figure 6.9: An optimal tradeoff curve\n",
    "# Ported from cvx matlab to cvxpy by Misrab Faizullah-Khan\n",
    "# Original comments below\n",
    "\n",
    "# Section 6.3.3\n",
    "# Boyd & Vandenberghe \"Convex Optimization\"\n",
    "# Original by Lieven Vandenberghe\n",
    "# Adapted for CVX Joelle Skaf - 09/29/05\n",
    "# (a figure is generated)\n",
    "#\n",
    "# Plots the optimal trade-off curve between ||Dx||_2 and ||x-x_cor||_2 by\n",
    "# solving the following problem for different values of delta:\n",
    "#           minimize    ||x - x_cor||^2 + delta*||Dx||^2\n",
    "# where x_cor is the a problem parameter, ||Dx|| is a measure of smoothness\n",
    "\n",
    "# Input data\n",
    "n = 400\n",
    "t = np.array(list(range(0, n)))\n",
    "\n",
    "exact = 0.5 * sin(2 * np.pi * t / n) * sin(0.01 * t)\n",
    "corrupt = exact + 0.05 * np.random.randn(len(exact))\n",
    "corrupt = cvxopt.matrix(corrupt)\n",
    "\n",
    "e = np.ones(n).T\n",
    "ee = np.column_stack((-e, e)).T\n",
    "D = sparse.spdiags(ee, list(range(-1, 1)), n, n)\n",
    "D = D.todense()\n",
    "D = cvxopt.matrix(D)\n",
    "\n",
    "# Solve in parallel\n",
    "nopts = 10\n",
    "lambdas = np.linspace(0, 50, nopts)\n",
    "# Frame the problem with a parameter\n",
    "lamb = Parameter(nonneg=True)\n",
    "x = Variable((n,1))\n",
    "p = Problem(Minimize(norm(x - corrupt) + norm(D * x) * lamb))\n",
    "\n",
    "\n",
    "# For a value of lambda g, we solve the problem\n",
    "# Returns [ ||Dx||_2 and ||x-x_cor||_2 ]\n",
    "def get_value(g):\n",
    "    lamb.value = g\n",
    "    result = p.solve()\n",
    "    return [np.linalg.norm(x.value - corrupt), np.linalg.norm(D * x.value)]\n",
    "\n",
    "\n",
    "pool = Pool(processes=2)\n",
    "# compute allocation in parallel\n",
    "norms1, norms2 = list(zip(*pool.map(get_value, lambdas)))\n",
    "\n",
    "plot(norms1, norms2)\n",
    "xlabel('||x - x_{cor}||_2')\n",
    "ylabel('||Dx||_2')\n",
    "title('Optimal trade-off curve')\n",
    "show()"
   ]
  },
  {
   "cell_type": "code",
   "execution_count": null,
   "metadata": {},
   "outputs": [],
   "source": []
  }
 ],
 "metadata": {
  "kernelspec": {
   "display_name": "zipline",
   "language": "python",
   "name": "zipline"
  },
  "language_info": {
   "codemirror_mode": {
    "name": "ipython",
    "version": 3
   },
   "file_extension": ".py",
   "mimetype": "text/x-python",
   "name": "python",
   "nbconvert_exporter": "python",
   "pygments_lexer": "ipython3",
   "version": "3.6.5"
  },
  "toc": {
   "base_numbering": 1,
   "nav_menu": {},
   "number_sections": true,
   "sideBar": true,
   "skip_h1_title": false,
   "title_cell": "Table of Contents",
   "title_sidebar": "Contents",
   "toc_cell": false,
   "toc_position": {},
   "toc_section_display": true,
   "toc_window_display": false
  }
 },
 "nbformat": 4,
 "nbformat_minor": 2
}
