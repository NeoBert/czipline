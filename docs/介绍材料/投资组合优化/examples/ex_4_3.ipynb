{
 "cells": [
  {
   "cell_type": "code",
   "execution_count": 1,
   "metadata": {
    "ExecuteTime": {
     "end_time": "2018-05-24T07:13:00.563395Z",
     "start_time": "2018-05-24T07:13:00.073166Z"
    }
   },
   "outputs": [],
   "source": [
    "# for decimal division\n",
    "\n",
    "import cvxopt\n",
    "import numpy as np\n",
    "from pylab import *\n",
    "import math\n",
    "\n",
    "from cvxpy import *\n",
    "\n",
    "# Taken from CVX website http://cvxr.com/cvx/examples/\n",
    "# Example: CVX Textbook exercise 4.3: Solve a simple QP with inequality constraints\n",
    "# Ported from cvx matlab to cvxpy by Misrab Faizullah-Khan\n",
    "# Original comments below\n",
    "\n",
    "# From Boyd & Vandenberghe, \"Convex Optimization\"\n",
    "# Joelle Skaf - 09/26/05\n",
    "#\n",
    "# Solves the following QP with inequality constraints:\n",
    "#           minimize    1/2x'*P*x + q'*x + r\n",
    "#               s.t.    -1 <= x_i <= 1      for i = 1,2,3\n",
    "# Also shows that the given x_star is indeed optimal\n",
    "\n",
    "# Generate data\n",
    "n = 3\n",
    "P = cvxopt.matrix([13, 12, -2, 12, 17, 6, -2, 6, 12], (n, n))\n",
    "q = cvxopt.matrix([-22, -14.5, 13], (n, 1))\n",
    "r = 1\n",
    "x_star = cvxopt.matrix([1, 1 / 2, -1], (n, 1))\n",
    "\n",
    "# Frame and solve the problem\n",
    "\n",
    "x = Variable(n)\n",
    "objective = Minimize(0.5 * quad_form(x, P) + q.T * x + r)\n",
    "constraints = [x >= -1, x <= 1]\n",
    "\n",
    "p = Problem(objective, constraints)\n",
    "# The optimal objective is returned by p.solve().\n",
    "result = p.solve()"
   ]
  },
  {
   "cell_type": "code",
   "execution_count": 2,
   "metadata": {
    "ExecuteTime": {
     "end_time": "2018-05-24T07:14:03.293669Z",
     "start_time": "2018-05-24T07:14:03.283620Z"
    }
   },
   "outputs": [
    {
     "data": {
      "text/plain": [
       "-21.625"
      ]
     },
     "execution_count": 2,
     "metadata": {},
     "output_type": "execute_result"
    }
   ],
   "source": [
    "result"
   ]
  }
 ],
 "metadata": {
  "kernelspec": {
   "display_name": "zipline",
   "language": "python",
   "name": "zipline"
  },
  "language_info": {
   "codemirror_mode": {
    "name": "ipython",
    "version": 3
   },
   "file_extension": ".py",
   "mimetype": "text/x-python",
   "name": "python",
   "nbconvert_exporter": "python",
   "pygments_lexer": "ipython3",
   "version": "3.6.5"
  },
  "toc": {
   "base_numbering": 1,
   "nav_menu": {},
   "number_sections": true,
   "sideBar": true,
   "skip_h1_title": false,
   "title_cell": "Table of Contents",
   "title_sidebar": "Contents",
   "toc_cell": false,
   "toc_position": {},
   "toc_section_display": true,
   "toc_window_display": false
  }
 },
 "nbformat": 4,
 "nbformat_minor": 2
}
