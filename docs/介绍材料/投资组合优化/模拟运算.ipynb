{
 "cells": [
  {
   "cell_type": "markdown",
   "metadata": {},
   "source": [
    "# 收益率数据"
   ]
  },
  {
   "cell_type": "code",
   "execution_count": 1,
   "metadata": {
    "ExecuteTime": {
     "end_time": "2018-05-23T19:03:29.754048Z",
     "start_time": "2018-05-23T19:03:26.728465Z"
    }
   },
   "outputs": [],
   "source": [
    "from zipline.research import returns"
   ]
  },
  {
   "cell_type": "code",
   "execution_count": 2,
   "metadata": {
    "ExecuteTime": {
     "end_time": "2018-05-23T19:03:29.762859Z",
     "start_time": "2018-05-23T19:03:29.756459Z"
    }
   },
   "outputs": [],
   "source": [
    "assets = ['000001','601118','000333','002024','002273','002030','300159','600771','600649','600866']\n",
    "start = '2017-01-01'\n",
    "end = '2018-05-18'"
   ]
  },
  {
   "cell_type": "code",
   "execution_count": 3,
   "metadata": {
    "ExecuteTime": {
     "end_time": "2018-05-23T19:03:31.003547Z",
     "start_time": "2018-05-23T19:03:29.765725Z"
    }
   },
   "outputs": [
    {
     "name": "stdout",
     "output_type": "stream",
     "text": [
      "[2018-05-24 03:03:30.938427] INFO: zipline.finance.metrics.tracker: 模拟1个交易日\n",
      "首个开盘时间: 2018-05-18 01:31:00+00:00\n",
      "最后收盘时间: 2018-05-18 07:00:00+00:00\n"
     ]
    }
   ],
   "source": [
    "df = returns(assets, start, end)"
   ]
  },
  {
   "cell_type": "code",
   "execution_count": 4,
   "metadata": {
    "ExecuteTime": {
     "end_time": "2018-05-23T19:03:31.017033Z",
     "start_time": "2018-05-23T19:03:31.005544Z"
    }
   },
   "outputs": [
    {
     "data": {
      "text/plain": [
       "(334, 10)"
      ]
     },
     "execution_count": 4,
     "metadata": {},
     "output_type": "execute_result"
    }
   ],
   "source": [
    "df.shape"
   ]
  },
  {
   "cell_type": "code",
   "execution_count": 5,
   "metadata": {
    "ExecuteTime": {
     "end_time": "2018-05-23T19:03:31.042496Z",
     "start_time": "2018-05-23T19:03:31.019594Z"
    }
   },
   "outputs": [
    {
     "data": {
      "text/html": [
       "<div>\n",
       "<style scoped>\n",
       "    .dataframe tbody tr th:only-of-type {\n",
       "        vertical-align: middle;\n",
       "    }\n",
       "\n",
       "    .dataframe tbody tr th {\n",
       "        vertical-align: top;\n",
       "    }\n",
       "\n",
       "    .dataframe thead th {\n",
       "        text-align: right;\n",
       "    }\n",
       "</style>\n",
       "<table border=\"1\" class=\"dataframe\">\n",
       "  <thead>\n",
       "    <tr style=\"text-align: right;\">\n",
       "      <th></th>\n",
       "      <th>平安银行(000001)</th>\n",
       "      <th>海南橡胶(601118)</th>\n",
       "      <th>美的集团(000333)</th>\n",
       "      <th>苏宁易购(002024)</th>\n",
       "      <th>水晶光电(002273)</th>\n",
       "      <th>达安基因(002030)</th>\n",
       "      <th>新研股份(300159)</th>\n",
       "      <th>广誉远(600771)</th>\n",
       "      <th>城投控股(600649)</th>\n",
       "      <th>星湖科技(600866)</th>\n",
       "    </tr>\n",
       "  </thead>\n",
       "  <tbody>\n",
       "    <tr>\n",
       "      <th>2018-05-14 00:00:00+00:00</th>\n",
       "      <td>1.544051</td>\n",
       "      <td>-3.052065</td>\n",
       "      <td>2.772093</td>\n",
       "      <td>4.101417</td>\n",
       "      <td>0.000000</td>\n",
       "      <td>-1.162791</td>\n",
       "      <td>-2.815534</td>\n",
       "      <td>0.797045</td>\n",
       "      <td>0.268097</td>\n",
       "      <td>-0.468096</td>\n",
       "    </tr>\n",
       "    <tr>\n",
       "      <th>2018-05-15 00:00:00+00:00</th>\n",
       "      <td>-0.536673</td>\n",
       "      <td>3.148148</td>\n",
       "      <td>-0.036206</td>\n",
       "      <td>0.000000</td>\n",
       "      <td>-1.861832</td>\n",
       "      <td>-0.117647</td>\n",
       "      <td>0.000000</td>\n",
       "      <td>6.692382</td>\n",
       "      <td>-0.133690</td>\n",
       "      <td>0.990099</td>\n",
       "    </tr>\n",
       "    <tr>\n",
       "      <th>2018-05-16 00:00:00+00:00</th>\n",
       "      <td>-1.978417</td>\n",
       "      <td>0.897666</td>\n",
       "      <td>-1.484969</td>\n",
       "      <td>-0.429799</td>\n",
       "      <td>-1.997004</td>\n",
       "      <td>3.062426</td>\n",
       "      <td>-1.498501</td>\n",
       "      <td>1.102675</td>\n",
       "      <td>-0.669344</td>\n",
       "      <td>0.980392</td>\n",
       "    </tr>\n",
       "    <tr>\n",
       "      <th>2018-05-17 00:00:00+00:00</th>\n",
       "      <td>-0.733945</td>\n",
       "      <td>-0.533808</td>\n",
       "      <td>-2.352941</td>\n",
       "      <td>-1.582734</td>\n",
       "      <td>-0.203770</td>\n",
       "      <td>-0.857143</td>\n",
       "      <td>0.304260</td>\n",
       "      <td>-0.196674</td>\n",
       "      <td>-0.673854</td>\n",
       "      <td>-1.941748</td>\n",
       "    </tr>\n",
       "    <tr>\n",
       "      <th>2018-05-18 00:00:00+00:00</th>\n",
       "      <td>1.293900</td>\n",
       "      <td>2.325581</td>\n",
       "      <td>1.449548</td>\n",
       "      <td>2.266082</td>\n",
       "      <td>-0.306279</td>\n",
       "      <td>-1.383285</td>\n",
       "      <td>-2.932255</td>\n",
       "      <td>-1.558581</td>\n",
       "      <td>0.814111</td>\n",
       "      <td>0.742574</td>\n",
       "    </tr>\n",
       "  </tbody>\n",
       "</table>\n",
       "</div>"
      ],
      "text/plain": [
       "                           平安银行(000001)  海南橡胶(601118)  美的集团(000333)  \\\n",
       "2018-05-14 00:00:00+00:00      1.544051     -3.052065      2.772093   \n",
       "2018-05-15 00:00:00+00:00     -0.536673      3.148148     -0.036206   \n",
       "2018-05-16 00:00:00+00:00     -1.978417      0.897666     -1.484969   \n",
       "2018-05-17 00:00:00+00:00     -0.733945     -0.533808     -2.352941   \n",
       "2018-05-18 00:00:00+00:00      1.293900      2.325581      1.449548   \n",
       "\n",
       "                           苏宁易购(002024)  水晶光电(002273)  达安基因(002030)  \\\n",
       "2018-05-14 00:00:00+00:00      4.101417      0.000000     -1.162791   \n",
       "2018-05-15 00:00:00+00:00      0.000000     -1.861832     -0.117647   \n",
       "2018-05-16 00:00:00+00:00     -0.429799     -1.997004      3.062426   \n",
       "2018-05-17 00:00:00+00:00     -1.582734     -0.203770     -0.857143   \n",
       "2018-05-18 00:00:00+00:00      2.266082     -0.306279     -1.383285   \n",
       "\n",
       "                           新研股份(300159)  广誉远(600771)  城投控股(600649)  \\\n",
       "2018-05-14 00:00:00+00:00     -2.815534     0.797045      0.268097   \n",
       "2018-05-15 00:00:00+00:00      0.000000     6.692382     -0.133690   \n",
       "2018-05-16 00:00:00+00:00     -1.498501     1.102675     -0.669344   \n",
       "2018-05-17 00:00:00+00:00      0.304260    -0.196674     -0.673854   \n",
       "2018-05-18 00:00:00+00:00     -2.932255    -1.558581      0.814111   \n",
       "\n",
       "                           星湖科技(600866)  \n",
       "2018-05-14 00:00:00+00:00     -0.468096  \n",
       "2018-05-15 00:00:00+00:00      0.990099  \n",
       "2018-05-16 00:00:00+00:00      0.980392  \n",
       "2018-05-17 00:00:00+00:00     -1.941748  \n",
       "2018-05-18 00:00:00+00:00      0.742574  "
      ]
     },
     "execution_count": 5,
     "metadata": {},
     "output_type": "execute_result"
    }
   ],
   "source": [
    "# 转换为百分比，而非小数\n",
    "r = df.multiply(100)\n",
    "r.tail()"
   ]
  },
  {
   "cell_type": "code",
   "execution_count": 6,
   "metadata": {
    "ExecuteTime": {
     "end_time": "2018-05-23T19:03:31.050158Z",
     "start_time": "2018-05-23T19:03:31.045337Z"
    }
   },
   "outputs": [],
   "source": [
    "mus = ((1 + df).cumprod().iloc[-1,:] - 1) * 100"
   ]
  },
  {
   "cell_type": "code",
   "execution_count": 7,
   "metadata": {
    "ExecuteTime": {
     "end_time": "2018-05-23T19:03:31.058427Z",
     "start_time": "2018-05-23T19:03:31.052740Z"
    }
   },
   "outputs": [
    {
     "data": {
      "text/plain": [
       "平安银行(000001)     22.198684\n",
       "海南橡胶(601118)    -17.816092\n",
       "美的集团(000333)    101.420295\n",
       "苏宁易购(002024)     23.010639\n",
       "水晶光电(002273)     -1.378579\n",
       "达安基因(002030)    -26.084327\n",
       "新研股份(300159)    -29.224418\n",
       "广誉远(600771)      64.324163\n",
       "城投控股(600649)    -63.470993\n",
       "星湖科技(600866)    -42.514124\n",
       "Name: 2018-05-18 00:00:00+00:00, dtype: float64"
      ]
     },
     "execution_count": 7,
     "metadata": {},
     "output_type": "execute_result"
    }
   ],
   "source": [
    "mus"
   ]
  },
  {
   "cell_type": "markdown",
   "metadata": {},
   "source": [
    "# 辅助函数"
   ]
  },
  {
   "cell_type": "code",
   "execution_count": 8,
   "metadata": {
    "ExecuteTime": {
     "end_time": "2018-05-23T19:03:31.063521Z",
     "start_time": "2018-05-23T19:03:31.060896Z"
    }
   },
   "outputs": [],
   "source": [
    "import numpy as np"
   ]
  },
  {
   "cell_type": "code",
   "execution_count": 9,
   "metadata": {
    "ExecuteTime": {
     "end_time": "2018-05-23T19:03:31.069900Z",
     "start_time": "2018-05-23T19:03:31.065770Z"
    }
   },
   "outputs": [],
   "source": [
    "def get_annual_returns(daily_returns):\n",
    "    \"\"\"\n",
    "    年化收益率\n",
    "    \n",
    "    daily_returns: pd.DataFrame\n",
    "        非累计小数收益率（不能为百分数）\n",
    "        \n",
    "    输出\n",
    "    ----\n",
    "        pd.Series\n",
    "            各列年化收益率\n",
    "    \n",
    "    说明\n",
    "    ----\n",
    "        A股年均交易天数为244\n",
    "    \"\"\"\n",
    "    # 首先计算对数收益率均值，然后调整为年收益率\n",
    "    return np.log1p(daily_returns).mean() * 244"
   ]
  },
  {
   "cell_type": "code",
   "execution_count": 10,
   "metadata": {
    "ExecuteTime": {
     "end_time": "2018-05-23T19:03:31.076176Z",
     "start_time": "2018-05-23T19:03:31.072123Z"
    }
   },
   "outputs": [],
   "source": [
    "# 产生随机权重的函数\n",
    "def rand_weights(n):\n",
    "    ''' Produces n random weights that sum to 1 '''\n",
    "    k = np.random.rand(n)\n",
    "    return k / sum(k)"
   ]
  },
  {
   "cell_type": "code",
   "execution_count": 11,
   "metadata": {
    "ExecuteTime": {
     "end_time": "2018-05-23T19:03:31.083696Z",
     "start_time": "2018-05-23T19:03:31.079366Z"
    }
   },
   "outputs": [],
   "source": [
    "def compute_expectation(weights, annual_returns):\n",
    "    \"\"\"给定权重和平均收益率，计算期望值\"\"\"\n",
    "    expectation = 0\n",
    "    n = len(weights)\n",
    "    for i in range(n):\n",
    "        expectation += weights[i] * annual_returns[i]\n",
    "    return expectation  "
   ]
  },
  {
   "cell_type": "code",
   "execution_count": 12,
   "metadata": {
    "ExecuteTime": {
     "end_time": "2018-05-23T19:03:31.090626Z",
     "start_time": "2018-05-23T19:03:31.086154Z"
    }
   },
   "outputs": [],
   "source": [
    "def compute_risk(weights, stds, corr):\n",
    "    \"\"\"\n",
    "    给定权重、标准差及相关系数，计算组合方差\n",
    "    \n",
    "    其中:\n",
    "        weights、std为序列\n",
    "        corr为数据框\n",
    "    \"\"\"\n",
    "    risk = 0\n",
    "    n = len(weights)\n",
    "    for i in range(n):\n",
    "        for j in range(n):\n",
    "            # 协方差为相关系数与方差乘积\n",
    "            cov = corr.iloc[i,j] * stds[i] * stds[j]\n",
    "            risk += weights[i]*weights[j]*cov\n",
    "    return risk       "
   ]
  },
  {
   "cell_type": "code",
   "execution_count": 13,
   "metadata": {
    "ExecuteTime": {
     "end_time": "2018-05-23T19:03:31.096382Z",
     "start_time": "2018-05-23T19:03:31.092969Z"
    }
   },
   "outputs": [],
   "source": [
    "import pandas as pd"
   ]
  },
  {
   "cell_type": "code",
   "execution_count": 14,
   "metadata": {
    "ExecuteTime": {
     "end_time": "2018-05-23T19:03:31.102171Z",
     "start_time": "2018-05-23T19:03:31.098797Z"
    }
   },
   "outputs": [],
   "source": [
    "std = pd.Series([21.1,25.0,23.5,26.6,27.6,23.4,26.6])"
   ]
  },
  {
   "cell_type": "code",
   "execution_count": 15,
   "metadata": {
    "ExecuteTime": {
     "end_time": "2018-05-23T19:03:31.110113Z",
     "start_time": "2018-05-23T19:03:31.104457Z"
    }
   },
   "outputs": [],
   "source": [
    "weights = [0.3467,0.1606,0.0520,0.2083,0.1105,0.1068,0.0150]"
   ]
  },
  {
   "cell_type": "code",
   "execution_count": 16,
   "metadata": {
    "ExecuteTime": {
     "end_time": "2018-05-23T19:03:31.123346Z",
     "start_time": "2018-05-23T19:03:31.112391Z"
    }
   },
   "outputs": [],
   "source": [
    "corr = pd.DataFrame([[1.00,0.37,0.53,0.26,0.43,0.73,0.44],\n",
    "                     [0.37,1.00,0.47,0.36,0.29,0.36,0.63],\n",
    "                     [0.53,0.47,1.00,0.43,0.50,0.54,0.51],\n",
    "                     [0.26,0.36,0.43,1.00,0.26,0.29,0.42],\n",
    "                     [0.43,0.29,0.50,0.26,1.00,0.56,0.34],\n",
    "                     [0.73,0.36,0.54,0.29,0.56,1.00,0.39],\n",
    "                     [0.44,0.63,0.51,0.42,0.34,0.39,1.00]])\n"
   ]
  },
  {
   "cell_type": "code",
   "execution_count": 17,
   "metadata": {
    "ExecuteTime": {
     "end_time": "2018-05-23T19:03:31.134567Z",
     "start_time": "2018-05-23T19:03:31.127052Z"
    }
   },
   "outputs": [
    {
     "data": {
      "text/plain": [
       "297.4059670364441"
      ]
     },
     "execution_count": 17,
     "metadata": {},
     "output_type": "execute_result"
    }
   ],
   "source": [
    "compute_risk(weights, std, corr)"
   ]
  },
  {
   "cell_type": "code",
   "execution_count": 18,
   "metadata": {
    "ExecuteTime": {
     "end_time": "2018-05-23T19:03:31.140035Z",
     "start_time": "2018-05-23T19:03:31.136967Z"
    }
   },
   "outputs": [],
   "source": [
    "mus = [15.7,21.7,18.3,17.3,14.8,10.5,17.2]"
   ]
  },
  {
   "cell_type": "code",
   "execution_count": 19,
   "metadata": {
    "ExecuteTime": {
     "end_time": "2018-05-23T19:03:31.146900Z",
     "start_time": "2018-05-23T19:03:31.142290Z"
    }
   },
   "outputs": [
    {
     "data": {
      "text/plain": [
       "16.4982"
      ]
     },
     "execution_count": 19,
     "metadata": {},
     "output_type": "execute_result"
    }
   ],
   "source": [
    "compute_expectation(weights, mus)"
   ]
  },
  {
   "cell_type": "markdown",
   "metadata": {},
   "source": [
    "# 年化与期间收益率"
   ]
  },
  {
   "cell_type": "code",
   "execution_count": 20,
   "metadata": {
    "ExecuteTime": {
     "end_time": "2018-05-23T19:03:31.154682Z",
     "start_time": "2018-05-23T19:03:31.149422Z"
    }
   },
   "outputs": [],
   "source": [
    "# 期间最终收益率\n",
    "final_returns = ((1 + df).cumprod().iloc[-1,:] - 1) * 100\n",
    "# 年化收益率\n",
    "annual_returns = get_annual_returns(df)"
   ]
  },
  {
   "cell_type": "code",
   "execution_count": 21,
   "metadata": {
    "ExecuteTime": {
     "end_time": "2018-05-23T19:03:31.162431Z",
     "start_time": "2018-05-23T19:03:31.157111Z"
    }
   },
   "outputs": [
    {
     "data": {
      "text/plain": [
       "平安银行(000001)     22.198684\n",
       "海南橡胶(601118)    -17.816092\n",
       "美的集团(000333)    101.420295\n",
       "苏宁易购(002024)     23.010639\n",
       "水晶光电(002273)     -1.378579\n",
       "达安基因(002030)    -26.084327\n",
       "新研股份(300159)    -29.224418\n",
       "广誉远(600771)      64.324163\n",
       "城投控股(600649)    -63.470993\n",
       "星湖科技(600866)    -42.514124\n",
       "Name: 2018-05-18 00:00:00+00:00, dtype: float64"
      ]
     },
     "execution_count": 21,
     "metadata": {},
     "output_type": "execute_result"
    }
   ],
   "source": [
    "final_returns"
   ]
  },
  {
   "cell_type": "markdown",
   "metadata": {},
   "source": [
    "## 连续复合收益率转换为简单收益率"
   ]
  },
  {
   "cell_type": "code",
   "execution_count": 22,
   "metadata": {
    "ExecuteTime": {
     "end_time": "2018-05-23T19:03:31.171508Z",
     "start_time": "2018-05-23T19:03:31.164763Z"
    }
   },
   "outputs": [
    {
     "data": {
      "text/plain": [
       "平安银行(000001)    0.221987\n",
       "海南橡胶(601118)   -0.178161\n",
       "美的集团(000333)    1.014203\n",
       "苏宁易购(002024)    0.230106\n",
       "水晶光电(002273)   -0.013786\n",
       "达安基因(002030)   -0.260843\n",
       "新研股份(300159)   -0.292244\n",
       "广誉远(600771)     0.643242\n",
       "城投控股(600649)   -0.634710\n",
       "星湖科技(600866)   -0.425141\n",
       "dtype: float64"
      ]
     },
     "execution_count": 22,
     "metadata": {},
     "output_type": "execute_result"
    }
   ],
   "source": [
    "# 转换后与最终收益率相等\n",
    "np.exp(annual_returns * df.shape[0] / 244) - 1"
   ]
  },
  {
   "cell_type": "markdown",
   "metadata": {},
   "source": [
    "# 模拟"
   ]
  },
  {
   "cell_type": "code",
   "execution_count": 23,
   "metadata": {
    "ExecuteTime": {
     "end_time": "2018-05-23T19:06:05.439829Z",
     "start_time": "2018-05-23T19:03:31.177094Z"
    }
   },
   "outputs": [],
   "source": [
    "# 运行时间大约为2分半钟\n",
    "# Compute trade-off curve.\n",
    "SAMPLES = 30000\n",
    "risk_data = np.zeros(SAMPLES)\n",
    "ret_data = np.zeros(SAMPLES)\n",
    "n = len(assets)\n",
    "annual_returns = get_annual_returns(df)\n",
    "stds = r.std()\n",
    "corr = r.corr()\n",
    "for i in range(SAMPLES):\n",
    "    weights = rand_weights(n)\n",
    "    expectation = compute_expectation(weights, annual_returns)\n",
    "    risk = compute_risk(weights, stds, corr)\n",
    "    risk_data[i] = np.sqrt(risk)\n",
    "    ret_data[i] = expectation"
   ]
  },
  {
   "cell_type": "code",
   "execution_count": 24,
   "metadata": {
    "ExecuteTime": {
     "end_time": "2018-05-23T19:06:06.047005Z",
     "start_time": "2018-05-23T19:06:05.442851Z"
    }
   },
   "outputs": [
    {
     "data": {
      "image/png": "[encoded data removed]",
      "text/plain": [
       "<Figure size 432x288 with 1 Axes>"
      ]
     },
     "metadata": {},
     "output_type": "display_data"
    }
   ],
   "source": [
    "import matplotlib.pyplot as plt\n",
    "%matplotlib inline\n",
    "\n",
    "plt.scatter(risk_data, ret_data)\n",
    "\n",
    "plt.xlabel('Standard deviation')\n",
    "plt.ylabel('Return')\n",
    "plt.show()"
   ]
  },
  {
   "cell_type": "markdown",
   "metadata": {},
   "source": [
    "# 马科维茨模型"
   ]
  },
  {
   "cell_type": "code",
   "execution_count": 25,
   "metadata": {
    "ExecuteTime": {
     "end_time": "2018-05-23T19:06:06.060795Z",
     "start_time": "2018-05-23T19:06:06.050869Z"
    }
   },
   "outputs": [],
   "source": [
    "# 转换为百分数\n",
    "\n",
    "Sigma = (np.log1p(df) * 100).cov().values\n",
    "\n",
    "mus = (annual_returns * 100).values"
   ]
  },
  {
   "cell_type": "code",
   "execution_count": 26,
   "metadata": {
    "ExecuteTime": {
     "end_time": "2018-05-23T19:06:06.173813Z",
     "start_time": "2018-05-23T19:06:06.063768Z"
    }
   },
   "outputs": [],
   "source": [
    "from cvxpy import *\n",
    "# 投资比例\n",
    "w = Variable(shape=(n, 1))\n",
    "\n",
    "gamma = Parameter(nonneg=True)\n",
    "# 投资组合收益率\n",
    "ret = mus.T * w\n",
    "risk = quad_form(w, Sigma)\n",
    "# 杠杆为1，且不得有空头头寸\n",
    "constraints = [sum(w) == 1, w >= 0]\n",
    "prob = Problem(Maximize(ret - gamma * risk), constraints)"
   ]
  },
  {
   "cell_type": "code",
   "execution_count": 27,
   "metadata": {
    "ExecuteTime": {
     "end_time": "2018-05-23T19:06:07.747607Z",
     "start_time": "2018-05-23T19:06:06.178126Z"
    }
   },
   "outputs": [],
   "source": [
    "# Compute trade-off curve.\n",
    "SAMPLES = 100\n",
    "risk_data = np.zeros(SAMPLES)\n",
    "ret_data = np.zeros(SAMPLES)\n",
    "gamma_vals = np.logspace(-2, 3, num=SAMPLES)\n",
    "for i in range(SAMPLES):\n",
    "    gamma.value = gamma_vals[i]\n",
    "    prob.solve()\n",
    "    risk_data[i] = sqrt(risk).value\n",
    "    ret_data[i] = ret.value"
   ]
  },
  {
   "cell_type": "code",
   "execution_count": 42,
   "metadata": {
    "ExecuteTime": {
     "end_time": "2018-05-23T19:11:34.568551Z",
     "start_time": "2018-05-23T19:11:34.348624Z"
    }
   },
   "outputs": [
    {
     "data": {
      "image/png": "[encoded data removed]",
      "text/plain": [
       "<Figure size 432x288 with 1 Axes>"
      ]
     },
     "metadata": {},
     "output_type": "display_data"
    }
   ],
   "source": [
    "markers_on = [55, 75]\n",
    "fig = plt.figure()\n",
    "ax = fig.add_subplot(111)\n",
    "plt.plot(risk_data, ret_data, 'g-')\n",
    "for marker in markers_on:\n",
    "    plt.plot(risk_data[marker], ret_data[marker], 'bs')\n",
    "    ax.annotate(r\"$\\gamma = %.2f$\" % gamma_vals[marker], xy=(risk_data[marker]+.08, ret_data[marker]-.03))\n",
    "for i in range(n):\n",
    "    plt.plot(sqrt(Sigma[i,i]).value, mus[i], 'ro')\n",
    "plt.xlabel('Standard deviation')\n",
    "plt.ylabel('Return')\n",
    "plt.show()"
   ]
  },
  {
   "cell_type": "code",
   "execution_count": 43,
   "metadata": {
    "ExecuteTime": {
     "end_time": "2018-05-23T19:11:49.855061Z",
     "start_time": "2018-05-23T19:11:49.601825Z"
    }
   },
   "outputs": [
    {
     "name": "stderr",
     "output_type": "stream",
     "text": [
      "/home/ldf/anaconda3/envs/zipline/lib/python3.6/site-packages/ipykernel_launcher.py:8: MatplotlibDeprecationWarning: scipy.stats.norm.pdf\n",
      "  \n"
     ]
    },
    {
     "data": {
      "image/png": "[encoded data removed]",
      "text/plain": [
       "<Figure size 432x288 with 1 Axes>"
      ]
     },
     "metadata": {},
     "output_type": "display_data"
    }
   ],
   "source": [
    "# Plot return distributions for two points on the trade-off curve.\n",
    "import matplotlib.mlab as mlab\n",
    "plt.figure()\n",
    "for midx, idx in enumerate(markers_on):\n",
    "    gamma.value = gamma_vals[idx]\n",
    "    prob.solve()\n",
    "    x = np.linspace(-2, 5, 1000)\n",
    "    plt.plot(x, mlab.normpdf(x, ret.value, risk.value), label=r\"$\\gamma = %.2f$\" % gamma.value)\n",
    "\n",
    "plt.xlabel('Return')\n",
    "plt.ylabel('Density')\n",
    "plt.legend(loc='upper right')\n",
    "plt.show()"
   ]
  },
  {
   "cell_type": "code",
   "execution_count": null,
   "metadata": {},
   "outputs": [],
   "source": []
  }
 ],
 "metadata": {
  "kernelspec": {
   "display_name": "zipline",
   "language": "python",
   "name": "zipline"
  },
  "language_info": {
   "codemirror_mode": {
    "name": "ipython",
    "version": 3
   },
   "file_extension": ".py",
   "mimetype": "text/x-python",
   "name": "python",
   "nbconvert_exporter": "python",
   "pygments_lexer": "ipython3",
   "version": "3.6.5"
  },
  "toc": {
   "base_numbering": 1,
   "nav_menu": {},
   "number_sections": true,
   "sideBar": true,
   "skip_h1_title": false,
   "title_cell": "Table of Contents",
   "title_sidebar": "Contents",
   "toc_cell": false,
   "toc_position": {},
   "toc_section_display": true,
   "toc_window_display": true
  }
 },
 "nbformat": 4,
 "nbformat_minor": 2
}
