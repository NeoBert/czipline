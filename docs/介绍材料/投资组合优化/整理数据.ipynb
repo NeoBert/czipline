{
 "cells": [
  {
   "cell_type": "code",
   "execution_count": 2,
   "metadata": {
    "ExecuteTime": {
     "end_time": "2018-05-27T18:10:58.186673Z",
     "start_time": "2018-05-27T18:10:56.660486Z"
    }
   },
   "outputs": [],
   "source": [
    "import os\n",
    "\n",
    "import cvxpy as cvx\n",
    "import numpy as np\n",
    "import pandas as pd\n",
    "\n",
    "from cvxportfolio.policies import SinglePeriodOpt\n",
    "from cvxportfolio.costs import HcostModel, TcostModel\n",
    "from cvxportfolio.returns import ReturnsForecast\n",
    "from cvxportfolio.risks import FullSigma\n",
    "from cvxportfolio.tests.base_test import BaseTest"
   ]
  },
  {
   "cell_type": "code",
   "execution_count": 1,
   "metadata": {
    "ExecuteTime": {
     "end_time": "2018-05-27T18:08:40.430894Z",
     "start_time": "2018-05-27T18:08:40.424894Z"
    }
   },
   "outputs": [],
   "source": [
    "DIR = '/home/ldf/pkg_source/cvxgrp/cvxportfolio/cvxportfolio/tests/'"
   ]
  },
  {
   "cell_type": "code",
   "execution_count": 3,
   "metadata": {
    "ExecuteTime": {
     "end_time": "2018-05-27T18:11:29.326240Z",
     "start_time": "2018-05-27T18:11:29.272893Z"
    }
   },
   "outputs": [],
   "source": [
    "sigma = pd.read_csv(DIR + 'sigmas.csv', index_col=0, parse_dates=[0])"
   ]
  },
  {
   "cell_type": "code",
   "execution_count": 18,
   "metadata": {
    "ExecuteTime": {
     "end_time": "2018-05-27T18:30:00.703229Z",
     "start_time": "2018-05-27T18:30:00.573091Z"
    }
   },
   "outputs": [
    {
     "data": {
      "text/html": [
       "<div>\n",
       "<style scoped>\n",
       "    .dataframe tbody tr th:only-of-type {\n",
       "        vertical-align: middle;\n",
       "    }\n",
       "\n",
       "    .dataframe tbody tr th {\n",
       "        vertical-align: top;\n",
       "    }\n",
       "\n",
       "    .dataframe thead th {\n",
       "        text-align: right;\n",
       "    }\n",
       "</style>\n",
       "<table border=\"1\" class=\"dataframe\">\n",
       "  <thead>\n",
       "    <tr style=\"text-align: right;\">\n",
       "      <th></th>\n",
       "      <th>AAPL</th>\n",
       "      <th>AXP</th>\n",
       "      <th>BA</th>\n",
       "      <th>CAT</th>\n",
       "      <th>CSCO</th>\n",
       "      <th>CVX</th>\n",
       "      <th>DD</th>\n",
       "      <th>DIS</th>\n",
       "      <th>GS</th>\n",
       "      <th>HD</th>\n",
       "      <th>...</th>\n",
       "      <th>MSFT</th>\n",
       "      <th>NKE</th>\n",
       "      <th>PFE</th>\n",
       "      <th>PG</th>\n",
       "      <th>TRV</th>\n",
       "      <th>UNH</th>\n",
       "      <th>UTX</th>\n",
       "      <th>V</th>\n",
       "      <th>VZ</th>\n",
       "      <th>WMT</th>\n",
       "    </tr>\n",
       "    <tr>\n",
       "      <th>Date</th>\n",
       "      <th></th>\n",
       "      <th></th>\n",
       "      <th></th>\n",
       "      <th></th>\n",
       "      <th></th>\n",
       "      <th></th>\n",
       "      <th></th>\n",
       "      <th></th>\n",
       "      <th></th>\n",
       "      <th></th>\n",
       "      <th></th>\n",
       "      <th></th>\n",
       "      <th></th>\n",
       "      <th></th>\n",
       "      <th></th>\n",
       "      <th></th>\n",
       "      <th></th>\n",
       "      <th></th>\n",
       "      <th></th>\n",
       "      <th></th>\n",
       "      <th></th>\n",
       "    </tr>\n",
       "  </thead>\n",
       "  <tbody>\n",
       "    <tr>\n",
       "      <th>2014-12-24</th>\n",
       "      <td>0.006211</td>\n",
       "      <td>0.008756</td>\n",
       "      <td>0.016323</td>\n",
       "      <td>0.007555</td>\n",
       "      <td>0.010493</td>\n",
       "      <td>0.018136</td>\n",
       "      <td>0.008092</td>\n",
       "      <td>0.007885</td>\n",
       "      <td>0.008844</td>\n",
       "      <td>0.007856</td>\n",
       "      <td>...</td>\n",
       "      <td>0.011513</td>\n",
       "      <td>0.012943</td>\n",
       "      <td>0.007899</td>\n",
       "      <td>0.007988</td>\n",
       "      <td>0.007632</td>\n",
       "      <td>0.007549</td>\n",
       "      <td>0.008988</td>\n",
       "      <td>0.012907</td>\n",
       "      <td>0.010236</td>\n",
       "      <td>0.007810</td>\n",
       "    </tr>\n",
       "    <tr>\n",
       "      <th>2014-12-26</th>\n",
       "      <td>0.021918</td>\n",
       "      <td>0.006329</td>\n",
       "      <td>0.012886</td>\n",
       "      <td>0.009930</td>\n",
       "      <td>0.007719</td>\n",
       "      <td>0.013380</td>\n",
       "      <td>0.008877</td>\n",
       "      <td>0.008289</td>\n",
       "      <td>0.005547</td>\n",
       "      <td>0.008052</td>\n",
       "      <td>...</td>\n",
       "      <td>0.012188</td>\n",
       "      <td>0.009876</td>\n",
       "      <td>0.016960</td>\n",
       "      <td>0.007995</td>\n",
       "      <td>0.005592</td>\n",
       "      <td>0.008155</td>\n",
       "      <td>0.005942</td>\n",
       "      <td>0.010025</td>\n",
       "      <td>0.004588</td>\n",
       "      <td>0.012968</td>\n",
       "    </tr>\n",
       "    <tr>\n",
       "      <th>2014-12-29</th>\n",
       "      <td>0.009323</td>\n",
       "      <td>0.009379</td>\n",
       "      <td>0.011753</td>\n",
       "      <td>0.007319</td>\n",
       "      <td>0.008750</td>\n",
       "      <td>0.013988</td>\n",
       "      <td>0.009983</td>\n",
       "      <td>0.012926</td>\n",
       "      <td>0.010865</td>\n",
       "      <td>0.014695</td>\n",
       "      <td>...</td>\n",
       "      <td>0.010883</td>\n",
       "      <td>0.010650</td>\n",
       "      <td>0.007590</td>\n",
       "      <td>0.009954</td>\n",
       "      <td>0.010038</td>\n",
       "      <td>0.011455</td>\n",
       "      <td>0.008437</td>\n",
       "      <td>0.009899</td>\n",
       "      <td>0.010253</td>\n",
       "      <td>0.007695</td>\n",
       "    </tr>\n",
       "    <tr>\n",
       "      <th>2014-12-30</th>\n",
       "      <td>0.015888</td>\n",
       "      <td>0.004552</td>\n",
       "      <td>0.005745</td>\n",
       "      <td>0.011962</td>\n",
       "      <td>0.005969</td>\n",
       "      <td>0.013198</td>\n",
       "      <td>0.007469</td>\n",
       "      <td>0.010471</td>\n",
       "      <td>0.009771</td>\n",
       "      <td>0.008497</td>\n",
       "      <td>...</td>\n",
       "      <td>0.016380</td>\n",
       "      <td>0.006989</td>\n",
       "      <td>0.007939</td>\n",
       "      <td>0.007757</td>\n",
       "      <td>0.006907</td>\n",
       "      <td>0.007859</td>\n",
       "      <td>0.008213</td>\n",
       "      <td>0.008667</td>\n",
       "      <td>0.009246</td>\n",
       "      <td>0.007460</td>\n",
       "    </tr>\n",
       "    <tr>\n",
       "      <th>2014-12-31</th>\n",
       "      <td>0.025811</td>\n",
       "      <td>0.018470</td>\n",
       "      <td>0.018443</td>\n",
       "      <td>0.022657</td>\n",
       "      <td>0.021119</td>\n",
       "      <td>0.015709</td>\n",
       "      <td>0.019124</td>\n",
       "      <td>0.015599</td>\n",
       "      <td>0.015546</td>\n",
       "      <td>0.013771</td>\n",
       "      <td>...</td>\n",
       "      <td>0.020868</td>\n",
       "      <td>0.016084</td>\n",
       "      <td>0.017666</td>\n",
       "      <td>0.016424</td>\n",
       "      <td>0.019455</td>\n",
       "      <td>0.025559</td>\n",
       "      <td>0.016595</td>\n",
       "      <td>0.018971</td>\n",
       "      <td>0.014768</td>\n",
       "      <td>0.018070</td>\n",
       "    </tr>\n",
       "  </tbody>\n",
       "</table>\n",
       "<p>5 rows × 28 columns</p>\n",
       "</div>"
      ],
      "text/plain": [
       "                AAPL       AXP        BA       CAT      CSCO       CVX  \\\n",
       "Date                                                                     \n",
       "2014-12-24  0.006211  0.008756  0.016323  0.007555  0.010493  0.018136   \n",
       "2014-12-26  0.021918  0.006329  0.012886  0.009930  0.007719  0.013380   \n",
       "2014-12-29  0.009323  0.009379  0.011753  0.007319  0.008750  0.013988   \n",
       "2014-12-30  0.015888  0.004552  0.005745  0.011962  0.005969  0.013198   \n",
       "2014-12-31  0.025811  0.018470  0.018443  0.022657  0.021119  0.015709   \n",
       "\n",
       "                  DD       DIS        GS        HD    ...         MSFT  \\\n",
       "Date                                                  ...                \n",
       "2014-12-24  0.008092  0.007885  0.008844  0.007856    ...     0.011513   \n",
       "2014-12-26  0.008877  0.008289  0.005547  0.008052    ...     0.012188   \n",
       "2014-12-29  0.009983  0.012926  0.010865  0.014695    ...     0.010883   \n",
       "2014-12-30  0.007469  0.010471  0.009771  0.008497    ...     0.016380   \n",
       "2014-12-31  0.019124  0.015599  0.015546  0.013771    ...     0.020868   \n",
       "\n",
       "                 NKE       PFE        PG       TRV       UNH       UTX  \\\n",
       "Date                                                                     \n",
       "2014-12-24  0.012943  0.007899  0.007988  0.007632  0.007549  0.008988   \n",
       "2014-12-26  0.009876  0.016960  0.007995  0.005592  0.008155  0.005942   \n",
       "2014-12-29  0.010650  0.007590  0.009954  0.010038  0.011455  0.008437   \n",
       "2014-12-30  0.006989  0.007939  0.007757  0.006907  0.007859  0.008213   \n",
       "2014-12-31  0.016084  0.017666  0.016424  0.019455  0.025559  0.016595   \n",
       "\n",
       "                   V        VZ       WMT  \n",
       "Date                                      \n",
       "2014-12-24  0.012907  0.010236  0.007810  \n",
       "2014-12-26  0.010025  0.004588  0.012968  \n",
       "2014-12-29  0.009899  0.010253  0.007695  \n",
       "2014-12-30  0.008667  0.009246  0.007460  \n",
       "2014-12-31  0.018971  0.014768  0.018070  \n",
       "\n",
       "[5 rows x 28 columns]"
      ]
     },
     "execution_count": 18,
     "metadata": {},
     "output_type": "execute_result"
    }
   ],
   "source": [
    "sigma.tail()"
   ]
  },
  {
   "cell_type": "markdown",
   "metadata": {},
   "source": [
    "# 如何计算sigma"
   ]
  },
  {
   "cell_type": "code",
   "execution_count": 5,
   "metadata": {
    "ExecuteTime": {
     "end_time": "2018-05-27T18:18:37.974957Z",
     "start_time": "2018-05-27T18:18:37.941752Z"
    }
   },
   "outputs": [],
   "source": [
    "returns = pd.read_csv(DIR + 'returns.csv', index_col=0, parse_dates=[0])"
   ]
  },
  {
   "cell_type": "code",
   "execution_count": 6,
   "metadata": {
    "ExecuteTime": {
     "end_time": "2018-05-27T18:18:45.502765Z",
     "start_time": "2018-05-27T18:18:45.393142Z"
    }
   },
   "outputs": [
    {
     "data": {
      "text/html": [
       "<div>\n",
       "<style scoped>\n",
       "    .dataframe tbody tr th:only-of-type {\n",
       "        vertical-align: middle;\n",
       "    }\n",
       "\n",
       "    .dataframe tbody tr th {\n",
       "        vertical-align: top;\n",
       "    }\n",
       "\n",
       "    .dataframe thead th {\n",
       "        text-align: right;\n",
       "    }\n",
       "</style>\n",
       "<table border=\"1\" class=\"dataframe\">\n",
       "  <thead>\n",
       "    <tr style=\"text-align: right;\">\n",
       "      <th></th>\n",
       "      <th>AAPL</th>\n",
       "      <th>AXP</th>\n",
       "      <th>BA</th>\n",
       "      <th>CAT</th>\n",
       "      <th>CSCO</th>\n",
       "      <th>CVX</th>\n",
       "      <th>DD</th>\n",
       "      <th>DIS</th>\n",
       "      <th>GS</th>\n",
       "      <th>HD</th>\n",
       "      <th>...</th>\n",
       "      <th>NKE</th>\n",
       "      <th>PFE</th>\n",
       "      <th>PG</th>\n",
       "      <th>TRV</th>\n",
       "      <th>UNH</th>\n",
       "      <th>UTX</th>\n",
       "      <th>V</th>\n",
       "      <th>VZ</th>\n",
       "      <th>WMT</th>\n",
       "      <th>cash</th>\n",
       "    </tr>\n",
       "    <tr>\n",
       "      <th>Date</th>\n",
       "      <th></th>\n",
       "      <th></th>\n",
       "      <th></th>\n",
       "      <th></th>\n",
       "      <th></th>\n",
       "      <th></th>\n",
       "      <th></th>\n",
       "      <th></th>\n",
       "      <th></th>\n",
       "      <th></th>\n",
       "      <th></th>\n",
       "      <th></th>\n",
       "      <th></th>\n",
       "      <th></th>\n",
       "      <th></th>\n",
       "      <th></th>\n",
       "      <th></th>\n",
       "      <th></th>\n",
       "      <th></th>\n",
       "      <th></th>\n",
       "      <th></th>\n",
       "    </tr>\n",
       "  </thead>\n",
       "  <tbody>\n",
       "    <tr>\n",
       "      <th>2014-12-24</th>\n",
       "      <td>-0.004709</td>\n",
       "      <td>0.002771</td>\n",
       "      <td>0.009306</td>\n",
       "      <td>0.002353</td>\n",
       "      <td>0.001770</td>\n",
       "      <td>-0.004212</td>\n",
       "      <td>-0.005320</td>\n",
       "      <td>-0.002851</td>\n",
       "      <td>0.001995</td>\n",
       "      <td>-0.001928</td>\n",
       "      <td>...</td>\n",
       "      <td>0.003334</td>\n",
       "      <td>-0.000954</td>\n",
       "      <td>-0.001608</td>\n",
       "      <td>-0.002150</td>\n",
       "      <td>-0.001653</td>\n",
       "      <td>-0.002559</td>\n",
       "      <td>0.008935</td>\n",
       "      <td>0.000000</td>\n",
       "      <td>-0.002654</td>\n",
       "      <td>0.000005</td>\n",
       "    </tr>\n",
       "    <tr>\n",
       "      <th>2014-12-26</th>\n",
       "      <td>0.017677</td>\n",
       "      <td>0.002232</td>\n",
       "      <td>0.002972</td>\n",
       "      <td>0.005442</td>\n",
       "      <td>0.001767</td>\n",
       "      <td>-0.001939</td>\n",
       "      <td>0.004546</td>\n",
       "      <td>0.006461</td>\n",
       "      <td>-0.002246</td>\n",
       "      <td>0.001835</td>\n",
       "      <td>...</td>\n",
       "      <td>0.005608</td>\n",
       "      <td>0.007320</td>\n",
       "      <td>0.003436</td>\n",
       "      <td>-0.000187</td>\n",
       "      <td>-0.001266</td>\n",
       "      <td>0.002823</td>\n",
       "      <td>-0.003774</td>\n",
       "      <td>0.003986</td>\n",
       "      <td>0.005554</td>\n",
       "      <td>0.000005</td>\n",
       "    </tr>\n",
       "    <tr>\n",
       "      <th>2014-12-29</th>\n",
       "      <td>-0.000702</td>\n",
       "      <td>-0.000212</td>\n",
       "      <td>0.005014</td>\n",
       "      <td>-0.005518</td>\n",
       "      <td>0.003880</td>\n",
       "      <td>0.000618</td>\n",
       "      <td>-0.003993</td>\n",
       "      <td>0.004946</td>\n",
       "      <td>0.003786</td>\n",
       "      <td>0.007518</td>\n",
       "      <td>...</td>\n",
       "      <td>0.004854</td>\n",
       "      <td>-0.008215</td>\n",
       "      <td>-0.008774</td>\n",
       "      <td>0.002343</td>\n",
       "      <td>-0.002145</td>\n",
       "      <td>-0.003241</td>\n",
       "      <td>-0.004463</td>\n",
       "      <td>-0.006477</td>\n",
       "      <td>-0.003107</td>\n",
       "      <td>0.000005</td>\n",
       "    </tr>\n",
       "    <tr>\n",
       "      <th>2014-12-30</th>\n",
       "      <td>-0.012203</td>\n",
       "      <td>0.000000</td>\n",
       "      <td>-0.003477</td>\n",
       "      <td>-0.011952</td>\n",
       "      <td>-0.003514</td>\n",
       "      <td>-0.001853</td>\n",
       "      <td>-0.003207</td>\n",
       "      <td>-0.008377</td>\n",
       "      <td>-0.002447</td>\n",
       "      <td>-0.002487</td>\n",
       "      <td>...</td>\n",
       "      <td>-0.004317</td>\n",
       "      <td>-0.000319</td>\n",
       "      <td>-0.002591</td>\n",
       "      <td>-0.000187</td>\n",
       "      <td>0.005082</td>\n",
       "      <td>-0.005648</td>\n",
       "      <td>-0.003315</td>\n",
       "      <td>-0.004627</td>\n",
       "      <td>0.001731</td>\n",
       "      <td>0.000005</td>\n",
       "    </tr>\n",
       "    <tr>\n",
       "      <th>2014-12-31</th>\n",
       "      <td>-0.019019</td>\n",
       "      <td>-0.013048</td>\n",
       "      <td>-0.014033</td>\n",
       "      <td>-0.011448</td>\n",
       "      <td>-0.019041</td>\n",
       "      <td>-0.008222</td>\n",
       "      <td>-0.008714</td>\n",
       "      <td>-0.005385</td>\n",
       "      <td>-0.009606</td>\n",
       "      <td>0.006713</td>\n",
       "      <td>...</td>\n",
       "      <td>-0.007535</td>\n",
       "      <td>-0.007330</td>\n",
       "      <td>-0.014178</td>\n",
       "      <td>-0.010100</td>\n",
       "      <td>-0.017112</td>\n",
       "      <td>-0.010327</td>\n",
       "      <td>-0.008883</td>\n",
       "      <td>-0.011621</td>\n",
       "      <td>-0.010485</td>\n",
       "      <td>0.000005</td>\n",
       "    </tr>\n",
       "  </tbody>\n",
       "</table>\n",
       "<p>5 rows × 29 columns</p>\n",
       "</div>"
      ],
      "text/plain": [
       "                AAPL       AXP        BA       CAT      CSCO       CVX  \\\n",
       "Date                                                                     \n",
       "2014-12-24 -0.004709  0.002771  0.009306  0.002353  0.001770 -0.004212   \n",
       "2014-12-26  0.017677  0.002232  0.002972  0.005442  0.001767 -0.001939   \n",
       "2014-12-29 -0.000702 -0.000212  0.005014 -0.005518  0.003880  0.000618   \n",
       "2014-12-30 -0.012203  0.000000 -0.003477 -0.011952 -0.003514 -0.001853   \n",
       "2014-12-31 -0.019019 -0.013048 -0.014033 -0.011448 -0.019041 -0.008222   \n",
       "\n",
       "                  DD       DIS        GS        HD    ...          NKE  \\\n",
       "Date                                                  ...                \n",
       "2014-12-24 -0.005320 -0.002851  0.001995 -0.001928    ...     0.003334   \n",
       "2014-12-26  0.004546  0.006461 -0.002246  0.001835    ...     0.005608   \n",
       "2014-12-29 -0.003993  0.004946  0.003786  0.007518    ...     0.004854   \n",
       "2014-12-30 -0.003207 -0.008377 -0.002447 -0.002487    ...    -0.004317   \n",
       "2014-12-31 -0.008714 -0.005385 -0.009606  0.006713    ...    -0.007535   \n",
       "\n",
       "                 PFE        PG       TRV       UNH       UTX         V  \\\n",
       "Date                                                                     \n",
       "2014-12-24 -0.000954 -0.001608 -0.002150 -0.001653 -0.002559  0.008935   \n",
       "2014-12-26  0.007320  0.003436 -0.000187 -0.001266  0.002823 -0.003774   \n",
       "2014-12-29 -0.008215 -0.008774  0.002343 -0.002145 -0.003241 -0.004463   \n",
       "2014-12-30 -0.000319 -0.002591 -0.000187  0.005082 -0.005648 -0.003315   \n",
       "2014-12-31 -0.007330 -0.014178 -0.010100 -0.017112 -0.010327 -0.008883   \n",
       "\n",
       "                  VZ       WMT      cash  \n",
       "Date                                      \n",
       "2014-12-24  0.000000 -0.002654  0.000005  \n",
       "2014-12-26  0.003986  0.005554  0.000005  \n",
       "2014-12-29 -0.006477 -0.003107  0.000005  \n",
       "2014-12-30 -0.004627  0.001731  0.000005  \n",
       "2014-12-31 -0.011621 -0.010485  0.000005  \n",
       "\n",
       "[5 rows x 29 columns]"
      ]
     },
     "execution_count": 6,
     "metadata": {},
     "output_type": "execute_result"
    }
   ],
   "source": [
    "returns.tail()"
   ]
  },
  {
   "cell_type": "code",
   "execution_count": 7,
   "metadata": {
    "ExecuteTime": {
     "end_time": "2018-05-27T18:19:16.136441Z",
     "start_time": "2018-05-27T18:19:16.086686Z"
    }
   },
   "outputs": [],
   "source": [
    "volume = pd.read_csv(DIR + 'volumes.csv', index_col=0, parse_dates=[0])"
   ]
  },
  {
   "cell_type": "code",
   "execution_count": 8,
   "metadata": {
    "ExecuteTime": {
     "end_time": "2018-05-27T18:19:23.174134Z",
     "start_time": "2018-05-27T18:19:23.047170Z"
    }
   },
   "outputs": [
    {
     "data": {
      "text/html": [
       "<div>\n",
       "<style scoped>\n",
       "    .dataframe tbody tr th:only-of-type {\n",
       "        vertical-align: middle;\n",
       "    }\n",
       "\n",
       "    .dataframe tbody tr th {\n",
       "        vertical-align: top;\n",
       "    }\n",
       "\n",
       "    .dataframe thead th {\n",
       "        text-align: right;\n",
       "    }\n",
       "</style>\n",
       "<table border=\"1\" class=\"dataframe\">\n",
       "  <thead>\n",
       "    <tr style=\"text-align: right;\">\n",
       "      <th></th>\n",
       "      <th>AAPL</th>\n",
       "      <th>AXP</th>\n",
       "      <th>BA</th>\n",
       "      <th>CAT</th>\n",
       "      <th>CSCO</th>\n",
       "      <th>CVX</th>\n",
       "      <th>DD</th>\n",
       "      <th>DIS</th>\n",
       "      <th>GS</th>\n",
       "      <th>HD</th>\n",
       "      <th>...</th>\n",
       "      <th>MSFT</th>\n",
       "      <th>NKE</th>\n",
       "      <th>PFE</th>\n",
       "      <th>PG</th>\n",
       "      <th>TRV</th>\n",
       "      <th>UNH</th>\n",
       "      <th>UTX</th>\n",
       "      <th>V</th>\n",
       "      <th>VZ</th>\n",
       "      <th>WMT</th>\n",
       "    </tr>\n",
       "    <tr>\n",
       "      <th>Date</th>\n",
       "      <th></th>\n",
       "      <th></th>\n",
       "      <th></th>\n",
       "      <th></th>\n",
       "      <th></th>\n",
       "      <th></th>\n",
       "      <th></th>\n",
       "      <th></th>\n",
       "      <th></th>\n",
       "      <th></th>\n",
       "      <th></th>\n",
       "      <th></th>\n",
       "      <th></th>\n",
       "      <th></th>\n",
       "      <th></th>\n",
       "      <th></th>\n",
       "      <th></th>\n",
       "      <th></th>\n",
       "      <th></th>\n",
       "      <th></th>\n",
       "      <th></th>\n",
       "    </tr>\n",
       "  </thead>\n",
       "  <tbody>\n",
       "    <tr>\n",
       "      <th>2014-12-24</th>\n",
       "      <td>1.576484e+09</td>\n",
       "      <td>1.208933e+08</td>\n",
       "      <td>2.662852e+08</td>\n",
       "      <td>1.447736e+08</td>\n",
       "      <td>3.053127e+08</td>\n",
       "      <td>4.811707e+08</td>\n",
       "      <td>8.791111e+07</td>\n",
       "      <td>2.005512e+08</td>\n",
       "      <td>1.330897e+08</td>\n",
       "      <td>1.827034e+08</td>\n",
       "      <td>...</td>\n",
       "      <td>5.285054e+08</td>\n",
       "      <td>1.155824e+08</td>\n",
       "      <td>3.229033e+08</td>\n",
       "      <td>2.114478e+08</td>\n",
       "      <td>5.571465e+07</td>\n",
       "      <td>9.522151e+07</td>\n",
       "      <td>1.145835e+08</td>\n",
       "      <td>3.466391e+08</td>\n",
       "      <td>3.448969e+08</td>\n",
       "      <td>2.064882e+08</td>\n",
       "    </tr>\n",
       "    <tr>\n",
       "      <th>2014-12-26</th>\n",
       "      <td>3.736315e+09</td>\n",
       "      <td>1.320187e+08</td>\n",
       "      <td>2.829731e+08</td>\n",
       "      <td>2.745445e+08</td>\n",
       "      <td>2.610486e+08</td>\n",
       "      <td>4.637129e+08</td>\n",
       "      <td>1.301787e+08</td>\n",
       "      <td>2.927744e+08</td>\n",
       "      <td>1.944040e+08</td>\n",
       "      <td>2.610639e+08</td>\n",
       "      <td>...</td>\n",
       "      <td>6.065360e+08</td>\n",
       "      <td>1.498095e+08</td>\n",
       "      <td>2.586508e+08</td>\n",
       "      <td>2.780162e+08</td>\n",
       "      <td>8.033448e+07</td>\n",
       "      <td>2.020558e+08</td>\n",
       "      <td>1.802454e+08</td>\n",
       "      <td>3.144696e+08</td>\n",
       "      <td>3.108477e+08</td>\n",
       "      <td>2.707554e+08</td>\n",
       "    </tr>\n",
       "    <tr>\n",
       "      <th>2014-12-29</th>\n",
       "      <td>3.055835e+09</td>\n",
       "      <td>1.359416e+08</td>\n",
       "      <td>3.446837e+08</td>\n",
       "      <td>2.091913e+08</td>\n",
       "      <td>3.617781e+08</td>\n",
       "      <td>6.401126e+08</td>\n",
       "      <td>1.435272e+08</td>\n",
       "      <td>3.357244e+08</td>\n",
       "      <td>2.342334e+08</td>\n",
       "      <td>3.540984e+08</td>\n",
       "      <td>...</td>\n",
       "      <td>6.576416e+08</td>\n",
       "      <td>1.923503e+08</td>\n",
       "      <td>3.778113e+08</td>\n",
       "      <td>4.076460e+08</td>\n",
       "      <td>8.517301e+07</td>\n",
       "      <td>1.704991e+08</td>\n",
       "      <td>2.802544e+08</td>\n",
       "      <td>3.454702e+08</td>\n",
       "      <td>3.895651e+08</td>\n",
       "      <td>2.995115e+08</td>\n",
       "    </tr>\n",
       "    <tr>\n",
       "      <th>2014-12-30</th>\n",
       "      <td>3.268198e+09</td>\n",
       "      <td>1.306341e+08</td>\n",
       "      <td>3.092807e+08</td>\n",
       "      <td>2.764586e+08</td>\n",
       "      <td>4.152602e+08</td>\n",
       "      <td>5.983789e+08</td>\n",
       "      <td>1.194224e+08</td>\n",
       "      <td>3.241536e+08</td>\n",
       "      <td>2.176284e+08</td>\n",
       "      <td>2.960892e+08</td>\n",
       "      <td>...</td>\n",
       "      <td>7.394724e+08</td>\n",
       "      <td>1.976692e+08</td>\n",
       "      <td>3.287555e+08</td>\n",
       "      <td>4.129013e+08</td>\n",
       "      <td>9.704932e+07</td>\n",
       "      <td>1.773348e+08</td>\n",
       "      <td>2.436852e+08</td>\n",
       "      <td>3.128656e+08</td>\n",
       "      <td>4.363030e+08</td>\n",
       "      <td>2.717213e+08</td>\n",
       "    </tr>\n",
       "    <tr>\n",
       "      <th>2014-12-31</th>\n",
       "      <td>4.442247e+09</td>\n",
       "      <td>2.086432e+08</td>\n",
       "      <td>3.379175e+08</td>\n",
       "      <td>2.778835e+08</td>\n",
       "      <td>5.649269e+08</td>\n",
       "      <td>6.723457e+08</td>\n",
       "      <td>1.359183e+08</td>\n",
       "      <td>4.431365e+08</td>\n",
       "      <td>2.972229e+08</td>\n",
       "      <td>5.926924e+08</td>\n",
       "      <td>...</td>\n",
       "      <td>9.609134e+08</td>\n",
       "      <td>2.222279e+08</td>\n",
       "      <td>4.416075e+08</td>\n",
       "      <td>4.915635e+08</td>\n",
       "      <td>1.089152e+08</td>\n",
       "      <td>2.281700e+08</td>\n",
       "      <td>2.617090e+08</td>\n",
       "      <td>3.829259e+08</td>\n",
       "      <td>6.056159e+08</td>\n",
       "      <td>3.418253e+08</td>\n",
       "    </tr>\n",
       "  </tbody>\n",
       "</table>\n",
       "<p>5 rows × 28 columns</p>\n",
       "</div>"
      ],
      "text/plain": [
       "                    AAPL           AXP            BA           CAT  \\\n",
       "Date                                                                 \n",
       "2014-12-24  1.576484e+09  1.208933e+08  2.662852e+08  1.447736e+08   \n",
       "2014-12-26  3.736315e+09  1.320187e+08  2.829731e+08  2.745445e+08   \n",
       "2014-12-29  3.055835e+09  1.359416e+08  3.446837e+08  2.091913e+08   \n",
       "2014-12-30  3.268198e+09  1.306341e+08  3.092807e+08  2.764586e+08   \n",
       "2014-12-31  4.442247e+09  2.086432e+08  3.379175e+08  2.778835e+08   \n",
       "\n",
       "                    CSCO           CVX            DD           DIS  \\\n",
       "Date                                                                 \n",
       "2014-12-24  3.053127e+08  4.811707e+08  8.791111e+07  2.005512e+08   \n",
       "2014-12-26  2.610486e+08  4.637129e+08  1.301787e+08  2.927744e+08   \n",
       "2014-12-29  3.617781e+08  6.401126e+08  1.435272e+08  3.357244e+08   \n",
       "2014-12-30  4.152602e+08  5.983789e+08  1.194224e+08  3.241536e+08   \n",
       "2014-12-31  5.649269e+08  6.723457e+08  1.359183e+08  4.431365e+08   \n",
       "\n",
       "                      GS            HD      ...               MSFT  \\\n",
       "Date                                        ...                      \n",
       "2014-12-24  1.330897e+08  1.827034e+08      ...       5.285054e+08   \n",
       "2014-12-26  1.944040e+08  2.610639e+08      ...       6.065360e+08   \n",
       "2014-12-29  2.342334e+08  3.540984e+08      ...       6.576416e+08   \n",
       "2014-12-30  2.176284e+08  2.960892e+08      ...       7.394724e+08   \n",
       "2014-12-31  2.972229e+08  5.926924e+08      ...       9.609134e+08   \n",
       "\n",
       "                     NKE           PFE            PG           TRV  \\\n",
       "Date                                                                 \n",
       "2014-12-24  1.155824e+08  3.229033e+08  2.114478e+08  5.571465e+07   \n",
       "2014-12-26  1.498095e+08  2.586508e+08  2.780162e+08  8.033448e+07   \n",
       "2014-12-29  1.923503e+08  3.778113e+08  4.076460e+08  8.517301e+07   \n",
       "2014-12-30  1.976692e+08  3.287555e+08  4.129013e+08  9.704932e+07   \n",
       "2014-12-31  2.222279e+08  4.416075e+08  4.915635e+08  1.089152e+08   \n",
       "\n",
       "                     UNH           UTX             V            VZ  \\\n",
       "Date                                                                 \n",
       "2014-12-24  9.522151e+07  1.145835e+08  3.466391e+08  3.448969e+08   \n",
       "2014-12-26  2.020558e+08  1.802454e+08  3.144696e+08  3.108477e+08   \n",
       "2014-12-29  1.704991e+08  2.802544e+08  3.454702e+08  3.895651e+08   \n",
       "2014-12-30  1.773348e+08  2.436852e+08  3.128656e+08  4.363030e+08   \n",
       "2014-12-31  2.281700e+08  2.617090e+08  3.829259e+08  6.056159e+08   \n",
       "\n",
       "                     WMT  \n",
       "Date                      \n",
       "2014-12-24  2.064882e+08  \n",
       "2014-12-26  2.707554e+08  \n",
       "2014-12-29  2.995115e+08  \n",
       "2014-12-30  2.717213e+08  \n",
       "2014-12-31  3.418253e+08  \n",
       "\n",
       "[5 rows x 28 columns]"
      ]
     },
     "execution_count": 8,
     "metadata": {},
     "output_type": "execute_result"
    }
   ],
   "source": [
    "volume.tail()"
   ]
  },
  {
   "cell_type": "code",
   "execution_count": 9,
   "metadata": {
    "ExecuteTime": {
     "end_time": "2018-05-27T18:20:07.840663Z",
     "start_time": "2018-05-27T18:20:07.828189Z"
    }
   },
   "outputs": [],
   "source": [
    "a, b, s = 0.0005, 1., 0."
   ]
  },
  {
   "cell_type": "code",
   "execution_count": 10,
   "metadata": {
    "ExecuteTime": {
     "end_time": "2018-05-27T18:20:25.500034Z",
     "start_time": "2018-05-27T18:20:25.494884Z"
    }
   },
   "outputs": [],
   "source": [
    "s = s + 1e-3"
   ]
  },
  {
   "cell_type": "code",
   "execution_count": 11,
   "metadata": {
    "ExecuteTime": {
     "end_time": "2018-05-27T18:20:40.109196Z",
     "start_time": "2018-05-27T18:20:40.103479Z"
    }
   },
   "outputs": [],
   "source": [
    "universe = returns.columns"
   ]
  },
  {
   "cell_type": "code",
   "execution_count": 12,
   "metadata": {
    "ExecuteTime": {
     "end_time": "2018-05-27T18:20:51.446535Z",
     "start_time": "2018-05-27T18:20:51.441393Z"
    }
   },
   "outputs": [],
   "source": [
    "times = returns.index"
   ]
  },
  {
   "cell_type": "code",
   "execution_count": 14,
   "metadata": {
    "ExecuteTime": {
     "end_time": "2018-05-27T18:23:28.863340Z",
     "start_time": "2018-05-27T18:23:28.811086Z"
    }
   },
   "outputs": [],
   "source": [
    "# Alpha source\n",
    "gamma = 100.\n",
    "n = len(universe)\n",
    "alpha_model = ReturnsForecast(returns)\n",
    "emp_Sigma = np.cov(returns.as_matrix().T) + np.eye(n) * 1e-3\n",
    "risk_model = FullSigma(emp_Sigma)\n",
    "tcost_model = TcostModel(0, b, sigma, volume, power=2)\n",
    "hcost_model = HcostModel(s * 0, s)\n",
    "pol = SinglePeriodOpt(\n",
    "    alpha_model, [gamma * risk_model, tcost_model, hcost_model], [],\n",
    "    solver=cvx.ECOS)"
   ]
  },
  {
   "cell_type": "code",
   "execution_count": 28,
   "metadata": {
    "ExecuteTime": {
     "end_time": "2018-05-27T19:03:35.577362Z",
     "start_time": "2018-05-27T19:03:35.551228Z"
    }
   },
   "outputs": [
    {
     "data": {
      "text/plain": [
       "method"
      ]
     },
     "execution_count": 28,
     "metadata": {},
     "output_type": "execute_result"
    }
   ],
   "source": [
    "# 表达式为函数\n",
    "type(alpha_model.weight_expr)"
   ]
  },
  {
   "cell_type": "code",
   "execution_count": 17,
   "metadata": {
    "ExecuteTime": {
     "end_time": "2018-05-27T18:28:10.750305Z",
     "start_time": "2018-05-27T18:28:10.666024Z"
    }
   },
   "outputs": [
    {
     "data": {
      "text/plain": [
       "AAPL    1.114827e+06\n",
       "AXP    -9.450007e+04\n",
       "BA      9.838637e+05\n",
       "CAT    -1.468050e+06\n",
       "CSCO    6.399648e+05\n",
       "CVX     9.050438e+04\n",
       "DD     -1.346487e+06\n",
       "DIS    -3.905080e+05\n",
       "GS      1.092952e+06\n",
       "HD     -8.310433e+05\n",
       "IBM     3.283627e+04\n",
       "INTC   -1.359671e+06\n",
       "JNJ     1.086393e+06\n",
       "JPM     9.260984e+05\n",
       "KO      1.207013e+05\n",
       "MCD    -2.151428e+05\n",
       "MMM    -5.424439e+05\n",
       "MRK     3.973008e+05\n",
       "MSFT   -2.470928e+06\n",
       "NKE    -7.796548e+05\n",
       "PFE     5.122819e+05\n",
       "PG      1.187658e+06\n",
       "TRV     2.858055e+05\n",
       "UNH    -1.197355e+06\n",
       "UTX     2.404410e+05\n",
       "V      -7.523026e+05\n",
       "VZ      1.452169e+06\n",
       "WMT    -7.436850e+04\n",
       "cash    1.358658e+06\n",
       "dtype: float64"
      ]
     },
     "execution_count": 17,
     "metadata": {},
     "output_type": "execute_result"
    }
   ],
   "source": [
    "t = times[1]\n",
    "p_0 = pd.Series(index=universe, data=1E6) # 期初投资组合\n",
    "z = pol.get_trades(p_0, t)\n",
    "z"
   ]
  },
  {
   "cell_type": "code",
   "execution_count": 25,
   "metadata": {
    "ExecuteTime": {
     "end_time": "2018-05-27T18:56:56.430318Z",
     "start_time": "2018-05-27T18:56:56.389493Z"
    }
   },
   "outputs": [
    {
     "data": {
      "text/plain": [
       "1.0"
      ]
     },
     "execution_count": 25,
     "metadata": {},
     "output_type": "execute_result"
    }
   ],
   "source": [
    "# Compare with CP calculation.\n",
    "h = z + p_0\n",
    "rho = b*sigma.loc[t]*(sum(p_0)/volume.loc[t])\n",
    "rho = np.hstack([rho, 0])\n",
    "A = 2*gamma*emp_Sigma + 2*np.diag(rho)\n",
    "s_val = pd.Series(index=returns.columns, data=s)\n",
    "s_val['cash'] = 0.\n",
    "b = returns.loc[t] + 2*rho*(p_0/sum(p_0)) + s_val\n",
    "h0 = np.linalg.solve(A, b)\n",
    "offset = np.linalg.solve(A, np.ones(n))\n",
    "nu = (1 - h0.sum())/offset.sum()\n",
    "hstar = h0 + nu*offset\n",
    "hstar.sum()"
   ]
  },
  {
   "cell_type": "code",
   "execution_count": 26,
   "metadata": {
    "ExecuteTime": {
     "end_time": "2018-05-27T18:57:14.013710Z",
     "start_time": "2018-05-27T18:57:13.997302Z"
    }
   },
   "outputs": [
    {
     "data": {
      "text/plain": [
       "array([ 0.07292508,  0.03122414,  0.06840909, -0.01613966,  0.05655051,\n",
       "        0.03760361, -0.01194783,  0.02101697,  0.07217077,  0.0058261 ,\n",
       "        0.03561498, -0.01240243,  0.07194458,  0.06641718,  0.03864487,\n",
       "        0.02706404,  0.0157778 ,  0.04818279, -0.05072165,  0.00759812,\n",
       "        0.05214765,  0.07543648,  0.04433812, -0.00680534,  0.04277383,\n",
       "        0.00854129,  0.08455755,  0.03191832,  0.08133305])"
      ]
     },
     "execution_count": 26,
     "metadata": {},
     "output_type": "execute_result"
    }
   ],
   "source": [
    "hstar"
   ]
  },
  {
   "cell_type": "code",
   "execution_count": 27,
   "metadata": {
    "ExecuteTime": {
     "end_time": "2018-05-27T18:57:32.217103Z",
     "start_time": "2018-05-27T18:57:32.177997Z"
    }
   },
   "outputs": [
    {
     "data": {
      "text/plain": [
       "AAPL    0.072925\n",
       "AXP     0.031224\n",
       "BA      0.068409\n",
       "CAT    -0.016140\n",
       "CSCO    0.056551\n",
       "CVX     0.037604\n",
       "DD     -0.011948\n",
       "DIS     0.021017\n",
       "GS      0.072171\n",
       "HD      0.005826\n",
       "IBM     0.035615\n",
       "INTC   -0.012402\n",
       "JNJ     0.071945\n",
       "JPM     0.066417\n",
       "KO      0.038645\n",
       "MCD     0.027064\n",
       "MMM     0.015778\n",
       "MRK     0.048183\n",
       "MSFT   -0.050722\n",
       "NKE     0.007598\n",
       "PFE     0.052148\n",
       "PG      0.075436\n",
       "TRV     0.044338\n",
       "UNH    -0.006805\n",
       "UTX     0.042774\n",
       "V       0.008541\n",
       "VZ      0.084558\n",
       "WMT     0.031918\n",
       "cash    0.081333\n",
       "dtype: float64"
      ]
     },
     "execution_count": 27,
     "metadata": {},
     "output_type": "execute_result"
    }
   ],
   "source": [
    "h/sum(p_0)"
   ]
  },
  {
   "cell_type": "code",
   "execution_count": 29,
   "metadata": {
    "ExecuteTime": {
     "end_time": "2018-05-27T19:20:24.254268Z",
     "start_time": "2018-05-27T19:20:24.233155Z"
    }
   },
   "outputs": [],
   "source": [
    "# 理想化，不考虑交易成本、持有成本\n",
    "tcost_model = TcostModel(0)\n",
    "hcost_model = HcostModel(0)\n",
    "pol = SinglePeriodOpt(\n",
    "    alpha_model, [gamma * risk_model, tcost_model, hcost_model], [],\n",
    "    solver=cvx.ECOS)"
   ]
  },
  {
   "cell_type": "code",
   "execution_count": 30,
   "metadata": {
    "ExecuteTime": {
     "end_time": "2018-05-27T19:20:54.222585Z",
     "start_time": "2018-05-27T19:20:54.125864Z"
    }
   },
   "outputs": [
    {
     "data": {
      "text/plain": [
       "AAPL   -1.550660e+06\n",
       "AXP    -1.677341e+06\n",
       "BA      1.189445e+06\n",
       "CAT    -4.649578e+05\n",
       "CSCO    1.098864e+06\n",
       "CVX     3.665051e+05\n",
       "DD     -2.109699e+06\n",
       "DIS    -4.177143e+04\n",
       "GS     -1.744456e+06\n",
       "HD      6.112700e+04\n",
       "IBM     1.943257e+06\n",
       "INTC   -2.930007e+05\n",
       "JNJ     2.103456e+06\n",
       "JPM    -2.521099e+06\n",
       "KO     -1.747604e+04\n",
       "MCD     3.191641e+05\n",
       "MMM    -9.061603e+05\n",
       "MRK     2.659996e+05\n",
       "MSFT    1.676454e+05\n",
       "NKE    -7.550228e+05\n",
       "PFE     1.074799e+05\n",
       "PG      9.984433e+05\n",
       "TRV    -1.285217e+06\n",
       "UNH     3.222326e+06\n",
       "UTX     7.569820e+04\n",
       "V      -2.850865e+04\n",
       "VZ      1.243280e+06\n",
       "WMT    -5.563489e+04\n",
       "cash    2.883134e+05\n",
       "dtype: float64"
      ]
     },
     "execution_count": 30,
     "metadata": {},
     "output_type": "execute_result"
    }
   ],
   "source": [
    "t = times[2]\n",
    "p_0 = pd.Series(index=universe, data=1E6) # 期初投资组合\n",
    "z = pol.get_trades(p_0, t)\n",
    "z"
   ]
  },
  {
   "cell_type": "code",
   "execution_count": null,
   "metadata": {},
   "outputs": [],
   "source": []
  }
 ],
 "metadata": {
  "kernelspec": {
   "display_name": "zipline",
   "language": "python",
   "name": "zipline"
  },
  "language_info": {
   "codemirror_mode": {
    "name": "ipython",
    "version": 3
   },
   "file_extension": ".py",
   "mimetype": "text/x-python",
   "name": "python",
   "nbconvert_exporter": "python",
   "pygments_lexer": "ipython3",
   "version": "3.6.5"
  },
  "toc": {
   "base_numbering": 1,
   "nav_menu": {},
   "number_sections": true,
   "sideBar": true,
   "skip_h1_title": false,
   "title_cell": "Table of Contents",
   "title_sidebar": "Contents",
   "toc_cell": false,
   "toc_position": {},
   "toc_section_display": true,
   "toc_window_display": true
  }
 },
 "nbformat": 4,
 "nbformat_minor": 2
}
