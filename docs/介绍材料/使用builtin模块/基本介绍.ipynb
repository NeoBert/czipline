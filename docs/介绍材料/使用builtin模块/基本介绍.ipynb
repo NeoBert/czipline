{
 "cells": [
  {
   "cell_type": "markdown",
   "metadata": {},
   "source": [
    "## `builtin`"
   ]
  },
  {
   "cell_type": "markdown",
   "metadata": {},
   "source": [
    "除`zipline`标准因子、过滤器、分类器外，增加`builtin`模块，将基础数据与标准`pipeline`整合，修改或模拟`quantopian`IDE功能。主要包括以下部分：\n",
    "+ 自定义因子\n",
    "+ 自定义过滤器\n",
    "+ 自定义分类器"
   ]
  },
  {
   "cell_type": "code",
   "execution_count": 1,
   "metadata": {
    "ExecuteTime": {
     "end_time": "2018-05-02T06:36:47.725408Z",
     "start_time": "2018-05-02T06:36:44.470192Z"
    }
   },
   "outputs": [],
   "source": [
    "from zipline.pipeline.fundamentals.reader import Fundamentals\n",
    "from zipline.pipeline.builtin import TradingDays,QTradableStocks\n",
    "from zipline.research import run_pipeline, select_output_by\n",
    "from zipline.pipeline import Pipeline\n",
    "from zipline.pipeline.data import USEquityPricing\n",
    "from zipline.pipeline.factors import SimpleMovingAverage,Returns"
   ]
  },
  {
   "cell_type": "markdown",
   "metadata": {},
   "source": [
    "### 因子"
   ]
  },
  {
   "cell_type": "markdown",
   "metadata": {},
   "source": [
    "#### `SuccessiveYZ`\n",
    "连续一字板数量（涨停、跌停）\n",
    "\n",
    "**注意**统计连续一字，而非期间一字总数"
   ]
  },
  {
   "cell_type": "code",
   "execution_count": 2,
   "metadata": {
    "ExecuteTime": {
     "end_time": "2018-05-02T06:36:49.119053Z",
     "start_time": "2018-05-02T06:36:47.731604Z"
    }
   },
   "outputs": [
    {
     "data": {
      "text/html": [
       "<div>\n",
       "<style scoped>\n",
       "    .dataframe tbody tr th:only-of-type {\n",
       "        vertical-align: middle;\n",
       "    }\n",
       "\n",
       "    .dataframe tbody tr th {\n",
       "        vertical-align: top;\n",
       "    }\n",
       "\n",
       "    .dataframe thead th {\n",
       "        text-align: right;\n",
       "    }\n",
       "</style>\n",
       "<table border=\"1\" class=\"dataframe\">\n",
       "  <thead>\n",
       "    <tr style=\"text-align: right;\">\n",
       "      <th></th>\n",
       "      <th></th>\n",
       "      <th>期间涨幅</th>\n",
       "      <th>涨停个数</th>\n",
       "      <th>跌停个数</th>\n",
       "    </tr>\n",
       "  </thead>\n",
       "  <tbody>\n",
       "    <tr>\n",
       "      <th rowspan=\"2\" valign=\"top\">2018-04-24 00:00:00+00:00</th>\n",
       "      <th>仙鹤股份(603733)</th>\n",
       "      <td>NaN</td>\n",
       "      <td>1.0</td>\n",
       "      <td>1.0</td>\n",
       "    </tr>\n",
       "    <tr>\n",
       "      <th>鼎胜新材(603876)</th>\n",
       "      <td>NaN</td>\n",
       "      <td>1.0</td>\n",
       "      <td>1.0</td>\n",
       "    </tr>\n",
       "    <tr>\n",
       "      <th rowspan=\"2\" valign=\"top\">2018-04-25 00:00:00+00:00</th>\n",
       "      <th>仙鹤股份(603733)</th>\n",
       "      <td>NaN</td>\n",
       "      <td>1.0</td>\n",
       "      <td>1.0</td>\n",
       "    </tr>\n",
       "    <tr>\n",
       "      <th>鼎胜新材(603876)</th>\n",
       "      <td>NaN</td>\n",
       "      <td>1.0</td>\n",
       "      <td>1.0</td>\n",
       "    </tr>\n",
       "    <tr>\n",
       "      <th rowspan=\"2\" valign=\"top\">2018-04-26 00:00:00+00:00</th>\n",
       "      <th>仙鹤股份(603733)</th>\n",
       "      <td>NaN</td>\n",
       "      <td>1.0</td>\n",
       "      <td>1.0</td>\n",
       "    </tr>\n",
       "    <tr>\n",
       "      <th>鼎胜新材(603876)</th>\n",
       "      <td>NaN</td>\n",
       "      <td>1.0</td>\n",
       "      <td>1.0</td>\n",
       "    </tr>\n",
       "    <tr>\n",
       "      <th rowspan=\"2\" valign=\"top\">2018-04-27 00:00:00+00:00</th>\n",
       "      <th>仙鹤股份(603733)</th>\n",
       "      <td>NaN</td>\n",
       "      <td>1.0</td>\n",
       "      <td>1.0</td>\n",
       "    </tr>\n",
       "    <tr>\n",
       "      <th>鼎胜新材(603876)</th>\n",
       "      <td>NaN</td>\n",
       "      <td>1.0</td>\n",
       "      <td>1.0</td>\n",
       "    </tr>\n",
       "  </tbody>\n",
       "</table>\n",
       "</div>"
      ],
      "text/plain": [
       "                                        期间涨幅  涨停个数  跌停个数\n",
       "2018-04-24 00:00:00+00:00 仙鹤股份(603733)   NaN   1.0   1.0\n",
       "                          鼎胜新材(603876)   NaN   1.0   1.0\n",
       "2018-04-25 00:00:00+00:00 仙鹤股份(603733)   NaN   1.0   1.0\n",
       "                          鼎胜新材(603876)   NaN   1.0   1.0\n",
       "2018-04-26 00:00:00+00:00 仙鹤股份(603733)   NaN   1.0   1.0\n",
       "                          鼎胜新材(603876)   NaN   1.0   1.0\n",
       "2018-04-27 00:00:00+00:00 仙鹤股份(603733)   NaN   1.0   1.0\n",
       "                          鼎胜新材(603876)   NaN   1.0   1.0"
      ]
     },
     "execution_count": 2,
     "metadata": {},
     "output_type": "execute_result"
    }
   ],
   "source": [
    "from zipline.pipeline.builtin import SuccessiveYZ\n",
    "\n",
    "\n",
    "def make_pipeline():\n",
    "    window_length = 100\n",
    "    yzzt, yzdt = SuccessiveYZ()\n",
    "    return Pipeline(columns={\n",
    "        '期间涨幅': Returns(window_length=window_length),\n",
    "        '涨停个数': yzzt,\n",
    "        '跌停个数': yzdt\n",
    "    })\n",
    "\n",
    "\n",
    "result = run_pipeline(make_pipeline(), '2018-4-24', '2018-4-27')\n",
    "select_output_by(result, stock_codes=['603876', '603733'])"
   ]
  },
  {
   "cell_type": "code",
   "execution_count": 3,
   "metadata": {
    "ExecuteTime": {
     "end_time": "2018-05-02T06:36:49.994146Z",
     "start_time": "2018-05-02T06:36:49.122531Z"
    }
   },
   "outputs": [
    {
     "data": {
      "text/html": [
       "<div>\n",
       "<style scoped>\n",
       "    .dataframe tbody tr th:only-of-type {\n",
       "        vertical-align: middle;\n",
       "    }\n",
       "\n",
       "    .dataframe tbody tr th {\n",
       "        vertical-align: top;\n",
       "    }\n",
       "\n",
       "    .dataframe thead th {\n",
       "        text-align: right;\n",
       "    }\n",
       "</style>\n",
       "<table border=\"1\" class=\"dataframe\">\n",
       "  <thead>\n",
       "    <tr style=\"text-align: right;\">\n",
       "      <th></th>\n",
       "      <th></th>\n",
       "      <th>期间涨幅</th>\n",
       "      <th>涨停个数</th>\n",
       "      <th>跌停个数</th>\n",
       "    </tr>\n",
       "  </thead>\n",
       "  <tbody>\n",
       "    <tr>\n",
       "      <th rowspan=\"3\" valign=\"top\">2018-02-05 00:00:00+00:00</th>\n",
       "      <th>*ST华泽(000693)</th>\n",
       "      <td>0.000000</td>\n",
       "      <td>1.0</td>\n",
       "      <td>1.0</td>\n",
       "    </tr>\n",
       "    <tr>\n",
       "      <th>ST保千里(600074)</th>\n",
       "      <td>-0.723773</td>\n",
       "      <td>1.0</td>\n",
       "      <td>1.0</td>\n",
       "    </tr>\n",
       "    <tr>\n",
       "      <th>*ST船舶(600150)</th>\n",
       "      <td>-0.004439</td>\n",
       "      <td>1.0</td>\n",
       "      <td>1.0</td>\n",
       "    </tr>\n",
       "    <tr>\n",
       "      <th rowspan=\"3\" valign=\"top\">2018-02-06 00:00:00+00:00</th>\n",
       "      <th>*ST华泽(000693)</th>\n",
       "      <td>0.000000</td>\n",
       "      <td>1.0</td>\n",
       "      <td>1.0</td>\n",
       "    </tr>\n",
       "    <tr>\n",
       "      <th>ST保千里(600074)</th>\n",
       "      <td>-0.737247</td>\n",
       "      <td>1.0</td>\n",
       "      <td>1.0</td>\n",
       "    </tr>\n",
       "    <tr>\n",
       "      <th>*ST船舶(600150)</th>\n",
       "      <td>-0.010826</td>\n",
       "      <td>1.0</td>\n",
       "      <td>1.0</td>\n",
       "    </tr>\n",
       "    <tr>\n",
       "      <th rowspan=\"3\" valign=\"top\">2018-02-07 00:00:00+00:00</th>\n",
       "      <th>*ST华泽(000693)</th>\n",
       "      <td>0.000000</td>\n",
       "      <td>1.0</td>\n",
       "      <td>1.0</td>\n",
       "    </tr>\n",
       "    <tr>\n",
       "      <th>ST保千里(600074)</th>\n",
       "      <td>-0.750722</td>\n",
       "      <td>1.0</td>\n",
       "      <td>1.0</td>\n",
       "    </tr>\n",
       "    <tr>\n",
       "      <th>*ST船舶(600150)</th>\n",
       "      <td>-0.010826</td>\n",
       "      <td>1.0</td>\n",
       "      <td>1.0</td>\n",
       "    </tr>\n",
       "    <tr>\n",
       "      <th rowspan=\"3\" valign=\"top\">2018-02-08 00:00:00+00:00</th>\n",
       "      <th>*ST华泽(000693)</th>\n",
       "      <td>0.000000</td>\n",
       "      <td>1.0</td>\n",
       "      <td>1.0</td>\n",
       "    </tr>\n",
       "    <tr>\n",
       "      <th>ST保千里(600074)</th>\n",
       "      <td>-0.763234</td>\n",
       "      <td>1.0</td>\n",
       "      <td>1.0</td>\n",
       "    </tr>\n",
       "    <tr>\n",
       "      <th>*ST船舶(600150)</th>\n",
       "      <td>-0.014776</td>\n",
       "      <td>1.0</td>\n",
       "      <td>1.0</td>\n",
       "    </tr>\n",
       "    <tr>\n",
       "      <th rowspan=\"3\" valign=\"top\">2018-02-09 00:00:00+00:00</th>\n",
       "      <th>*ST华泽(000693)</th>\n",
       "      <td>0.000000</td>\n",
       "      <td>1.0</td>\n",
       "      <td>1.0</td>\n",
       "    </tr>\n",
       "    <tr>\n",
       "      <th>ST保千里(600074)</th>\n",
       "      <td>-0.751684</td>\n",
       "      <td>1.0</td>\n",
       "      <td>1.0</td>\n",
       "    </tr>\n",
       "    <tr>\n",
       "      <th>*ST船舶(600150)</th>\n",
       "      <td>0.003253</td>\n",
       "      <td>1.0</td>\n",
       "      <td>1.0</td>\n",
       "    </tr>\n",
       "  </tbody>\n",
       "</table>\n",
       "</div>"
      ],
      "text/plain": [
       "                                             期间涨幅  涨停个数  跌停个数\n",
       "2018-02-05 00:00:00+00:00 *ST华泽(000693)  0.000000   1.0   1.0\n",
       "                          ST保千里(600074) -0.723773   1.0   1.0\n",
       "                          *ST船舶(600150) -0.004439   1.0   1.0\n",
       "2018-02-06 00:00:00+00:00 *ST华泽(000693)  0.000000   1.0   1.0\n",
       "                          ST保千里(600074) -0.737247   1.0   1.0\n",
       "                          *ST船舶(600150) -0.010826   1.0   1.0\n",
       "2018-02-07 00:00:00+00:00 *ST华泽(000693)  0.000000   1.0   1.0\n",
       "                          ST保千里(600074) -0.750722   1.0   1.0\n",
       "                          *ST船舶(600150) -0.010826   1.0   1.0\n",
       "2018-02-08 00:00:00+00:00 *ST华泽(000693)  0.000000   1.0   1.0\n",
       "                          ST保千里(600074) -0.763234   1.0   1.0\n",
       "                          *ST船舶(600150) -0.014776   1.0   1.0\n",
       "2018-02-09 00:00:00+00:00 *ST华泽(000693)  0.000000   1.0   1.0\n",
       "                          ST保千里(600074) -0.751684   1.0   1.0\n",
       "                          *ST船舶(600150)  0.003253   1.0   1.0"
      ]
     },
     "execution_count": 3,
     "metadata": {},
     "output_type": "execute_result"
    }
   ],
   "source": [
    "result = run_pipeline(make_pipeline(), '2018-2-5', '2018-2-9')\n",
    "select_output_by(result, stock_codes=['600150', '000693', '600074'])"
   ]
  },
  {
   "cell_type": "markdown",
   "metadata": {},
   "source": [
    "#### `NDays` 上市天数"
   ]
  },
  {
   "cell_type": "code",
   "execution_count": 4,
   "metadata": {
    "ExecuteTime": {
     "end_time": "2018-05-02T06:36:50.007688Z",
     "start_time": "2018-05-02T06:36:50.004094Z"
    }
   },
   "outputs": [],
   "source": [
    "from zipline.pipeline.builtin import NDays"
   ]
  },
  {
   "cell_type": "code",
   "execution_count": 5,
   "metadata": {
    "ExecuteTime": {
     "end_time": "2018-05-02T06:36:50.015286Z",
     "start_time": "2018-05-02T06:36:50.010887Z"
    }
   },
   "outputs": [],
   "source": [
    "def make_pipeline():\n",
    "    ndays = NDays()\n",
    "    return Pipeline(\n",
    "        columns={\n",
    "            '上市天数': ndays,\n",
    "        }\n",
    "    )"
   ]
  },
  {
   "cell_type": "code",
   "execution_count": 6,
   "metadata": {
    "ExecuteTime": {
     "end_time": "2018-05-02T06:36:51.766434Z",
     "start_time": "2018-05-02T06:36:50.018746Z"
    }
   },
   "outputs": [],
   "source": [
    "result = run_pipeline(make_pipeline(), '2018-1-20', '2018-1-26')"
   ]
  },
  {
   "cell_type": "code",
   "execution_count": 7,
   "metadata": {
    "ExecuteTime": {
     "end_time": "2018-05-02T06:36:51.793901Z",
     "start_time": "2018-05-02T06:36:51.768893Z"
    }
   },
   "outputs": [
    {
     "data": {
      "text/html": [
       "<div>\n",
       "<style scoped>\n",
       "    .dataframe tbody tr th:only-of-type {\n",
       "        vertical-align: middle;\n",
       "    }\n",
       "\n",
       "    .dataframe tbody tr th {\n",
       "        vertical-align: top;\n",
       "    }\n",
       "\n",
       "    .dataframe thead th {\n",
       "        text-align: right;\n",
       "    }\n",
       "</style>\n",
       "<table border=\"1\" class=\"dataframe\">\n",
       "  <thead>\n",
       "    <tr style=\"text-align: right;\">\n",
       "      <th></th>\n",
       "      <th></th>\n",
       "      <th>上市天数</th>\n",
       "    </tr>\n",
       "  </thead>\n",
       "  <tbody>\n",
       "    <tr>\n",
       "      <th rowspan=\"2\" valign=\"top\">2018-01-22 00:00:00+00:00</th>\n",
       "      <th>中源协和(600645)</th>\n",
       "      <td>9029.0</td>\n",
       "    </tr>\n",
       "    <tr>\n",
       "      <th>横店影视(603103)</th>\n",
       "      <td>102.0</td>\n",
       "    </tr>\n",
       "    <tr>\n",
       "      <th rowspan=\"2\" valign=\"top\">2018-01-23 00:00:00+00:00</th>\n",
       "      <th>中源协和(600645)</th>\n",
       "      <td>9030.0</td>\n",
       "    </tr>\n",
       "    <tr>\n",
       "      <th>横店影视(603103)</th>\n",
       "      <td>103.0</td>\n",
       "    </tr>\n",
       "    <tr>\n",
       "      <th rowspan=\"2\" valign=\"top\">2018-01-24 00:00:00+00:00</th>\n",
       "      <th>中源协和(600645)</th>\n",
       "      <td>9031.0</td>\n",
       "    </tr>\n",
       "    <tr>\n",
       "      <th>横店影视(603103)</th>\n",
       "      <td>104.0</td>\n",
       "    </tr>\n",
       "    <tr>\n",
       "      <th rowspan=\"2\" valign=\"top\">2018-01-25 00:00:00+00:00</th>\n",
       "      <th>中源协和(600645)</th>\n",
       "      <td>9032.0</td>\n",
       "    </tr>\n",
       "    <tr>\n",
       "      <th>横店影视(603103)</th>\n",
       "      <td>105.0</td>\n",
       "    </tr>\n",
       "    <tr>\n",
       "      <th rowspan=\"2\" valign=\"top\">2018-01-26 00:00:00+00:00</th>\n",
       "      <th>中源协和(600645)</th>\n",
       "      <td>9033.0</td>\n",
       "    </tr>\n",
       "    <tr>\n",
       "      <th>横店影视(603103)</th>\n",
       "      <td>106.0</td>\n",
       "    </tr>\n",
       "  </tbody>\n",
       "</table>\n",
       "</div>"
      ],
      "text/plain": [
       "                                          上市天数\n",
       "2018-01-22 00:00:00+00:00 中源协和(600645)  9029.0\n",
       "                          横店影视(603103)   102.0\n",
       "2018-01-23 00:00:00+00:00 中源协和(600645)  9030.0\n",
       "                          横店影视(603103)   103.0\n",
       "2018-01-24 00:00:00+00:00 中源协和(600645)  9031.0\n",
       "                          横店影视(603103)   104.0\n",
       "2018-01-25 00:00:00+00:00 中源协和(600645)  9032.0\n",
       "                          横店影视(603103)   105.0\n",
       "2018-01-26 00:00:00+00:00 中源协和(600645)  9033.0\n",
       "                          横店影视(603103)   106.0"
      ]
     },
     "execution_count": 7,
     "metadata": {},
     "output_type": "execute_result"
    }
   ],
   "source": [
    "select_output_by(result,stock_codes=['600645','603103','603214','603876'])"
   ]
  },
  {
   "cell_type": "code",
   "execution_count": 8,
   "metadata": {
    "ExecuteTime": {
     "end_time": "2018-05-02T06:36:51.800529Z",
     "start_time": "2018-05-02T06:36:51.797361Z"
    }
   },
   "outputs": [],
   "source": [
    "from zipline.pipeline.builtin import TradingDays"
   ]
  },
  {
   "cell_type": "markdown",
   "metadata": {},
   "source": [
    "#### `TradingDays` 期间交易天数\n",
    "+ 当天成交量大于0,有效交易\n",
    "+ 需要指定`window_length`"
   ]
  },
  {
   "cell_type": "code",
   "execution_count": 9,
   "metadata": {
    "ExecuteTime": {
     "end_time": "2018-05-02T06:36:51.808036Z",
     "start_time": "2018-05-02T06:36:51.803255Z"
    }
   },
   "outputs": [],
   "source": [
    "def make_pipeline():\n",
    "    t20 = TradingDays(window_length=20)\n",
    "    t200 = TradingDays(window_length=200)\n",
    "    return Pipeline(\n",
    "        columns={\n",
    "            '20天内有效交易天数': t20,\n",
    "            '200天内有效交易天数': t200,           \n",
    "        }, \n",
    "    )"
   ]
  },
  {
   "cell_type": "code",
   "execution_count": 10,
   "metadata": {
    "ExecuteTime": {
     "end_time": "2018-05-02T06:36:52.098694Z",
     "start_time": "2018-05-02T06:36:51.810623Z"
    }
   },
   "outputs": [],
   "source": [
    "result = run_pipeline(make_pipeline(), '2018-4-20', '2018-4-26')"
   ]
  },
  {
   "cell_type": "code",
   "execution_count": 11,
   "metadata": {
    "ExecuteTime": {
     "end_time": "2018-05-02T06:36:52.133633Z",
     "start_time": "2018-05-02T06:36:52.100683Z"
    }
   },
   "outputs": [
    {
     "data": {
      "text/html": [
       "<div>\n",
       "<style scoped>\n",
       "    .dataframe tbody tr th:only-of-type {\n",
       "        vertical-align: middle;\n",
       "    }\n",
       "\n",
       "    .dataframe tbody tr th {\n",
       "        vertical-align: top;\n",
       "    }\n",
       "\n",
       "    .dataframe thead th {\n",
       "        text-align: right;\n",
       "    }\n",
       "</style>\n",
       "<table border=\"1\" class=\"dataframe\">\n",
       "  <thead>\n",
       "    <tr style=\"text-align: right;\">\n",
       "      <th></th>\n",
       "      <th></th>\n",
       "      <th>200天内有效交易天数</th>\n",
       "      <th>20天内有效交易天数</th>\n",
       "    </tr>\n",
       "  </thead>\n",
       "  <tbody>\n",
       "    <tr>\n",
       "      <th rowspan=\"3\" valign=\"top\">2018-04-23 00:00:00+00:00</th>\n",
       "      <th>平安银行(000001)</th>\n",
       "      <td>200.0</td>\n",
       "      <td>20.0</td>\n",
       "    </tr>\n",
       "    <tr>\n",
       "      <th>康欣新材(600076)</th>\n",
       "      <td>151.0</td>\n",
       "      <td>0.0</td>\n",
       "    </tr>\n",
       "    <tr>\n",
       "      <th>中源协和(600645)</th>\n",
       "      <td>127.0</td>\n",
       "      <td>20.0</td>\n",
       "    </tr>\n",
       "    <tr>\n",
       "      <th rowspan=\"3\" valign=\"top\">2018-04-24 00:00:00+00:00</th>\n",
       "      <th>平安银行(000001)</th>\n",
       "      <td>200.0</td>\n",
       "      <td>20.0</td>\n",
       "    </tr>\n",
       "    <tr>\n",
       "      <th>康欣新材(600076)</th>\n",
       "      <td>150.0</td>\n",
       "      <td>0.0</td>\n",
       "    </tr>\n",
       "    <tr>\n",
       "      <th>中源协和(600645)</th>\n",
       "      <td>127.0</td>\n",
       "      <td>20.0</td>\n",
       "    </tr>\n",
       "  </tbody>\n",
       "</table>\n",
       "</div>"
      ],
      "text/plain": [
       "                                        200天内有效交易天数  20天内有效交易天数\n",
       "2018-04-23 00:00:00+00:00 平安银行(000001)        200.0        20.0\n",
       "                          康欣新材(600076)        151.0         0.0\n",
       "                          中源协和(600645)        127.0        20.0\n",
       "2018-04-24 00:00:00+00:00 平安银行(000001)        200.0        20.0\n",
       "                          康欣新材(600076)        150.0         0.0\n",
       "                          中源协和(600645)        127.0        20.0"
      ]
     },
     "execution_count": 11,
     "metadata": {},
     "output_type": "execute_result"
    }
   ],
   "source": [
    "select_output_by(result,'2018-04-23','2018-04-24',stock_codes=['000001','600645','600076'])"
   ]
  },
  {
   "cell_type": "markdown",
   "metadata": {},
   "source": [
    "+ 600076期间停牌三个月，20日内无交易，但200天内存在交易\n",
    "+ 600645在200天内有停牌，有效成交率不足90%\n",
    "+ 000001每天正常交易"
   ]
  },
  {
   "cell_type": "markdown",
   "metadata": {},
   "source": [
    "#### `SuccessiveSuspensionDays`\n",
    "连续停牌天数"
   ]
  },
  {
   "cell_type": "code",
   "execution_count": 12,
   "metadata": {
    "ExecuteTime": {
     "end_time": "2018-05-02T06:36:52.911199Z",
     "start_time": "2018-05-02T06:36:52.136980Z"
    }
   },
   "outputs": [
    {
     "data": {
      "text/html": [
       "<div>\n",
       "<style scoped>\n",
       "    .dataframe tbody tr th:only-of-type {\n",
       "        vertical-align: middle;\n",
       "    }\n",
       "\n",
       "    .dataframe tbody tr th {\n",
       "        vertical-align: top;\n",
       "    }\n",
       "\n",
       "    .dataframe thead th {\n",
       "        text-align: right;\n",
       "    }\n",
       "</style>\n",
       "<table border=\"1\" class=\"dataframe\">\n",
       "  <thead>\n",
       "    <tr style=\"text-align: right;\">\n",
       "      <th></th>\n",
       "      <th></th>\n",
       "      <th>90天内连续停牌天数</th>\n",
       "      <th>成交量</th>\n",
       "    </tr>\n",
       "  </thead>\n",
       "  <tbody>\n",
       "    <tr>\n",
       "      <th rowspan=\"3\" valign=\"top\">2018-04-23 00:00:00+00:00</th>\n",
       "      <th>平安银行(000001)</th>\n",
       "      <td>1.0</td>\n",
       "      <td>95860000.0</td>\n",
       "    </tr>\n",
       "    <tr>\n",
       "      <th>康欣新材(600076)</th>\n",
       "      <td>1.0</td>\n",
       "      <td>0.0</td>\n",
       "    </tr>\n",
       "    <tr>\n",
       "      <th>中源协和(600645)</th>\n",
       "      <td>1.0</td>\n",
       "      <td>6070000.0</td>\n",
       "    </tr>\n",
       "    <tr>\n",
       "      <th rowspan=\"3\" valign=\"top\">2018-04-24 00:00:00+00:00</th>\n",
       "      <th>平安银行(000001)</th>\n",
       "      <td>1.0</td>\n",
       "      <td>107020000.0</td>\n",
       "    </tr>\n",
       "    <tr>\n",
       "      <th>康欣新材(600076)</th>\n",
       "      <td>1.0</td>\n",
       "      <td>0.0</td>\n",
       "    </tr>\n",
       "    <tr>\n",
       "      <th>中源协和(600645)</th>\n",
       "      <td>1.0</td>\n",
       "      <td>4820000.0</td>\n",
       "    </tr>\n",
       "  </tbody>\n",
       "</table>\n",
       "</div>"
      ],
      "text/plain": [
       "                                        90天内连续停牌天数          成交量\n",
       "2018-04-23 00:00:00+00:00 平安银行(000001)         1.0   95860000.0\n",
       "                          康欣新材(600076)         1.0          0.0\n",
       "                          中源协和(600645)         1.0    6070000.0\n",
       "2018-04-24 00:00:00+00:00 平安银行(000001)         1.0  107020000.0\n",
       "                          康欣新材(600076)         1.0          0.0\n",
       "                          中源协和(600645)         1.0    4820000.0"
      ]
     },
     "execution_count": 12,
     "metadata": {},
     "output_type": "execute_result"
    }
   ],
   "source": [
    "from zipline.pipeline.builtin import SuccessiveSuspensionDays\n",
    "\n",
    "def make_pipeline():\n",
    "    days_90 = SuccessiveSuspensionDays(window_length=90)\n",
    "    return Pipeline(\n",
    "        columns={\n",
    "            '90天内连续停牌天数': days_90,\n",
    "            '成交量': USEquityPricing.volume.latest,           \n",
    "        }, \n",
    "    )\n",
    "\n",
    "result = run_pipeline(make_pipeline(), '2018-4-20', '2018-4-27')\n",
    "select_output_by(result,'2018-04-23','2018-04-24',stock_codes=['000001','600645','600076'])"
   ]
  },
  {
   "cell_type": "markdown",
   "metadata": {},
   "source": [
    "### 过滤器"
   ]
  },
  {
   "cell_type": "markdown",
   "metadata": {},
   "source": [
    "#### `IsST`\n",
    "+ 当前是否为ST状态"
   ]
  },
  {
   "cell_type": "code",
   "execution_count": 13,
   "metadata": {
    "ExecuteTime": {
     "end_time": "2018-05-02T06:36:52.917441Z",
     "start_time": "2018-05-02T06:36:52.914320Z"
    }
   },
   "outputs": [],
   "source": [
    "from zipline.pipeline.builtin import IsST"
   ]
  },
  {
   "cell_type": "code",
   "execution_count": 14,
   "metadata": {
    "ExecuteTime": {
     "end_time": "2018-05-02T06:36:52.929848Z",
     "start_time": "2018-05-02T06:36:52.919819Z"
    }
   },
   "outputs": [],
   "source": [
    "def make_pipeline():\n",
    "    is_st = IsST()\n",
    "    # 用于mask参数，非st计算结果为NaN\n",
    "    ma20 = SimpleMovingAverage(\n",
    "        inputs=[USEquityPricing.close], mask=is_st, window_length=200)\n",
    "    return Pipeline(columns={\n",
    "        '平均收盘': ma20,\n",
    "    })"
   ]
  },
  {
   "cell_type": "code",
   "execution_count": 15,
   "metadata": {
    "ExecuteTime": {
     "end_time": "2018-05-02T06:36:53.925463Z",
     "start_time": "2018-05-02T06:36:52.932972Z"
    }
   },
   "outputs": [],
   "source": [
    "result = run_pipeline(make_pipeline(), '2018-4-20', '2018-4-26')"
   ]
  },
  {
   "cell_type": "code",
   "execution_count": 16,
   "metadata": {
    "ExecuteTime": {
     "end_time": "2018-05-02T06:36:53.957539Z",
     "start_time": "2018-05-02T06:36:53.927680Z"
    }
   },
   "outputs": [
    {
     "data": {
      "text/html": [
       "<div>\n",
       "<style scoped>\n",
       "    .dataframe tbody tr th:only-of-type {\n",
       "        vertical-align: middle;\n",
       "    }\n",
       "\n",
       "    .dataframe tbody tr th {\n",
       "        vertical-align: top;\n",
       "    }\n",
       "\n",
       "    .dataframe thead th {\n",
       "        text-align: right;\n",
       "    }\n",
       "</style>\n",
       "<table border=\"1\" class=\"dataframe\">\n",
       "  <thead>\n",
       "    <tr style=\"text-align: right;\">\n",
       "      <th></th>\n",
       "      <th></th>\n",
       "      <th>平均收盘</th>\n",
       "    </tr>\n",
       "  </thead>\n",
       "  <tbody>\n",
       "    <tr>\n",
       "      <th rowspan=\"3\" valign=\"top\">2018-04-23 00:00:00+00:00</th>\n",
       "      <th>康欣新材(600076)</th>\n",
       "      <td>NaN</td>\n",
       "    </tr>\n",
       "    <tr>\n",
       "      <th>*ST安泰(600408)</th>\n",
       "      <td>NaN</td>\n",
       "    </tr>\n",
       "    <tr>\n",
       "      <th>中源协和(600645)</th>\n",
       "      <td>NaN</td>\n",
       "    </tr>\n",
       "    <tr>\n",
       "      <th rowspan=\"3\" valign=\"top\">2018-04-24 00:00:00+00:00</th>\n",
       "      <th>康欣新材(600076)</th>\n",
       "      <td>NaN</td>\n",
       "    </tr>\n",
       "    <tr>\n",
       "      <th>*ST安泰(600408)</th>\n",
       "      <td>3.41749</td>\n",
       "    </tr>\n",
       "    <tr>\n",
       "      <th>中源协和(600645)</th>\n",
       "      <td>NaN</td>\n",
       "    </tr>\n",
       "    <tr>\n",
       "      <th rowspan=\"3\" valign=\"top\">2018-04-25 00:00:00+00:00</th>\n",
       "      <th>康欣新材(600076)</th>\n",
       "      <td>NaN</td>\n",
       "    </tr>\n",
       "    <tr>\n",
       "      <th>*ST安泰(600408)</th>\n",
       "      <td>3.40904</td>\n",
       "    </tr>\n",
       "    <tr>\n",
       "      <th>中源协和(600645)</th>\n",
       "      <td>NaN</td>\n",
       "    </tr>\n",
       "    <tr>\n",
       "      <th rowspan=\"3\" valign=\"top\">2018-04-26 00:00:00+00:00</th>\n",
       "      <th>康欣新材(600076)</th>\n",
       "      <td>NaN</td>\n",
       "    </tr>\n",
       "    <tr>\n",
       "      <th>*ST安泰(600408)</th>\n",
       "      <td>3.39834</td>\n",
       "    </tr>\n",
       "    <tr>\n",
       "      <th>中源协和(600645)</th>\n",
       "      <td>NaN</td>\n",
       "    </tr>\n",
       "  </tbody>\n",
       "</table>\n",
       "</div>"
      ],
      "text/plain": [
       "                                            平均收盘\n",
       "2018-04-23 00:00:00+00:00 康欣新材(600076)       NaN\n",
       "                          *ST安泰(600408)      NaN\n",
       "                          中源协和(600645)       NaN\n",
       "2018-04-24 00:00:00+00:00 康欣新材(600076)       NaN\n",
       "                          *ST安泰(600408)  3.41749\n",
       "                          中源协和(600645)       NaN\n",
       "2018-04-25 00:00:00+00:00 康欣新材(600076)       NaN\n",
       "                          *ST安泰(600408)  3.40904\n",
       "                          中源协和(600645)       NaN\n",
       "2018-04-26 00:00:00+00:00 康欣新材(600076)       NaN\n",
       "                          *ST安泰(600408)  3.39834\n",
       "                          中源协和(600645)       NaN"
      ]
     },
     "execution_count": 16,
     "metadata": {},
     "output_type": "execute_result"
    }
   ],
   "source": [
    "select_output_by(\n",
    "    result, '2018-04-23', stock_codes=['600408', '600645', '600076'])"
   ]
  },
  {
   "cell_type": "code",
   "execution_count": 17,
   "metadata": {
    "ExecuteTime": {
     "end_time": "2018-05-02T06:36:53.974877Z",
     "start_time": "2018-05-02T06:36:53.960445Z"
    }
   },
   "outputs": [],
   "source": [
    "def make_pipeline():\n",
    "    is_st = IsST()\n",
    "    ma20 = SimpleMovingAverage(\n",
    "        inputs=[USEquityPricing.close], window_length=20)\n",
    "    # 用于screen参数，非st不会显示\n",
    "    return Pipeline(\n",
    "        columns={\n",
    "            '平均收盘': ma20,\n",
    "        }, \n",
    "        screen=is_st\n",
    "    )"
   ]
  },
  {
   "cell_type": "code",
   "execution_count": 18,
   "metadata": {
    "ExecuteTime": {
     "end_time": "2018-05-02T06:36:54.372793Z",
     "start_time": "2018-05-02T06:36:53.980537Z"
    }
   },
   "outputs": [],
   "source": [
    "result = run_pipeline(make_pipeline(), '2018-4-20', '2018-4-26')"
   ]
  },
  {
   "cell_type": "code",
   "execution_count": 19,
   "metadata": {
    "ExecuteTime": {
     "end_time": "2018-05-02T06:36:54.393258Z",
     "start_time": "2018-05-02T06:36:54.375340Z"
    }
   },
   "outputs": [
    {
     "data": {
      "text/html": [
       "<div>\n",
       "<style scoped>\n",
       "    .dataframe tbody tr th:only-of-type {\n",
       "        vertical-align: middle;\n",
       "    }\n",
       "\n",
       "    .dataframe tbody tr th {\n",
       "        vertical-align: top;\n",
       "    }\n",
       "\n",
       "    .dataframe thead th {\n",
       "        text-align: right;\n",
       "    }\n",
       "</style>\n",
       "<table border=\"1\" class=\"dataframe\">\n",
       "  <thead>\n",
       "    <tr style=\"text-align: right;\">\n",
       "      <th></th>\n",
       "      <th></th>\n",
       "      <th>平均收盘</th>\n",
       "    </tr>\n",
       "  </thead>\n",
       "  <tbody>\n",
       "    <tr>\n",
       "      <th>2018-04-24 00:00:00+00:00</th>\n",
       "      <th>*ST安泰(600408)</th>\n",
       "      <td>2.3025</td>\n",
       "    </tr>\n",
       "    <tr>\n",
       "      <th>2018-04-25 00:00:00+00:00</th>\n",
       "      <th>*ST安泰(600408)</th>\n",
       "      <td>2.2800</td>\n",
       "    </tr>\n",
       "    <tr>\n",
       "      <th>2018-04-26 00:00:00+00:00</th>\n",
       "      <th>*ST安泰(600408)</th>\n",
       "      <td>2.2620</td>\n",
       "    </tr>\n",
       "  </tbody>\n",
       "</table>\n",
       "</div>"
      ],
      "text/plain": [
       "                                           平均收盘\n",
       "2018-04-24 00:00:00+00:00 *ST安泰(600408)  2.3025\n",
       "2018-04-25 00:00:00+00:00 *ST安泰(600408)  2.2800\n",
       "2018-04-26 00:00:00+00:00 *ST安泰(600408)  2.2620"
      ]
     },
     "execution_count": 19,
     "metadata": {},
     "output_type": "execute_result"
    }
   ],
   "source": [
    "select_output_by(\n",
    "    result, '2018-04-23', stock_codes=['600408', '600645', '600076'])"
   ]
  },
  {
   "cell_type": "markdown",
   "metadata": {},
   "source": [
    "#### `IsNewShare` 次新股\n",
    "+ days：上市天数小于指定天数，判定为次新股，默认90天"
   ]
  },
  {
   "cell_type": "code",
   "execution_count": 20,
   "metadata": {
    "ExecuteTime": {
     "end_time": "2018-05-02T06:36:54.402617Z",
     "start_time": "2018-05-02T06:36:54.398335Z"
    }
   },
   "outputs": [],
   "source": [
    "from zipline.pipeline.builtin import IsNewShare"
   ]
  },
  {
   "cell_type": "code",
   "execution_count": 21,
   "metadata": {
    "ExecuteTime": {
     "end_time": "2018-05-02T06:36:54.416285Z",
     "start_time": "2018-05-02T06:36:54.405455Z"
    }
   },
   "outputs": [],
   "source": [
    "def make_pipeline():\n",
    "    ndays = NDays()\n",
    "    return Pipeline(\n",
    "        columns={\n",
    "            '上市天数': ndays,\n",
    "        }, \n",
    "        screen=IsNewShare()\n",
    "    )"
   ]
  },
  {
   "cell_type": "code",
   "execution_count": 22,
   "metadata": {
    "ExecuteTime": {
     "end_time": "2018-05-02T06:36:55.172288Z",
     "start_time": "2018-05-02T06:36:54.419840Z"
    }
   },
   "outputs": [
    {
     "data": {
      "text/html": [
       "<div>\n",
       "<style scoped>\n",
       "    .dataframe tbody tr th:only-of-type {\n",
       "        vertical-align: middle;\n",
       "    }\n",
       "\n",
       "    .dataframe tbody tr th {\n",
       "        vertical-align: top;\n",
       "    }\n",
       "\n",
       "    .dataframe thead th {\n",
       "        text-align: right;\n",
       "    }\n",
       "</style>\n",
       "<table border=\"1\" class=\"dataframe\">\n",
       "  <thead>\n",
       "    <tr style=\"text-align: right;\">\n",
       "      <th></th>\n",
       "      <th></th>\n",
       "      <th>上市天数</th>\n",
       "    </tr>\n",
       "  </thead>\n",
       "  <tbody>\n",
       "    <tr>\n",
       "      <th rowspan=\"30\" valign=\"top\">2018-04-20 00:00:00+00:00</th>\n",
       "      <th>华西证券(002926)</th>\n",
       "      <td>74.0</td>\n",
       "    </tr>\n",
       "    <tr>\n",
       "      <th>泰永长征(002927)</th>\n",
       "      <td>56.0</td>\n",
       "    </tr>\n",
       "    <tr>\n",
       "      <th>华夏航空(002928)</th>\n",
       "      <td>49.0</td>\n",
       "    </tr>\n",
       "    <tr>\n",
       "      <th>润建通信(002929)</th>\n",
       "      <td>50.0</td>\n",
       "    </tr>\n",
       "    <tr>\n",
       "      <th>宏川智慧(002930)</th>\n",
       "      <td>23.0</td>\n",
       "    </tr>\n",
       "    <tr>\n",
       "      <th>锋龙股份(002931)</th>\n",
       "      <td>17.0</td>\n",
       "    </tr>\n",
       "    <tr>\n",
       "      <th>天邑股份(300504)</th>\n",
       "      <td>21.0</td>\n",
       "    </tr>\n",
       "    <tr>\n",
       "      <th>彩讯股份(300634)</th>\n",
       "      <td>28.0</td>\n",
       "    </tr>\n",
       "    <tr>\n",
       "      <th>南京聚隆(300644)</th>\n",
       "      <td>73.0</td>\n",
       "    </tr>\n",
       "    <tr>\n",
       "      <th>科顺股份(300737)</th>\n",
       "      <td>85.0</td>\n",
       "    </tr>\n",
       "    <tr>\n",
       "      <th>明阳电路(300739)</th>\n",
       "      <td>78.0</td>\n",
       "    </tr>\n",
       "    <tr>\n",
       "      <th>御家汇(300740)</th>\n",
       "      <td>71.0</td>\n",
       "    </tr>\n",
       "    <tr>\n",
       "      <th>华宝股份(300741)</th>\n",
       "      <td>50.0</td>\n",
       "    </tr>\n",
       "    <tr>\n",
       "      <th>江苏租赁(600901)</th>\n",
       "      <td>50.0</td>\n",
       "    </tr>\n",
       "    <tr>\n",
       "      <th>湖南盐业(600929)</th>\n",
       "      <td>25.0</td>\n",
       "    </tr>\n",
       "    <tr>\n",
       "      <th>成都银行(601838)</th>\n",
       "      <td>79.0</td>\n",
       "    </tr>\n",
       "    <tr>\n",
       "      <th>倍加洁(603059)</th>\n",
       "      <td>49.0</td>\n",
       "    </tr>\n",
       "    <tr>\n",
       "      <th>养元饮品(603156)</th>\n",
       "      <td>67.0</td>\n",
       "    </tr>\n",
       "    <tr>\n",
       "      <th>爱婴室(603214)</th>\n",
       "      <td>21.0</td>\n",
       "    </tr>\n",
       "    <tr>\n",
       "      <th>振德医疗(603301)</th>\n",
       "      <td>8.0</td>\n",
       "    </tr>\n",
       "    <tr>\n",
       "      <th>华菱精工(603356)</th>\n",
       "      <td>86.0</td>\n",
       "    </tr>\n",
       "    <tr>\n",
       "      <th>南都物业(603506)</th>\n",
       "      <td>78.0</td>\n",
       "    </tr>\n",
       "    <tr>\n",
       "      <th>淳中科技(603516)</th>\n",
       "      <td>77.0</td>\n",
       "    </tr>\n",
       "    <tr>\n",
       "      <th>今创集团(603680)</th>\n",
       "      <td>52.0</td>\n",
       "    </tr>\n",
       "    <tr>\n",
       "      <th>中源家居(603709)</th>\n",
       "      <td>71.0</td>\n",
       "    </tr>\n",
       "    <tr>\n",
       "      <th>七一二(603712)</th>\n",
       "      <td>53.0</td>\n",
       "    </tr>\n",
       "    <tr>\n",
       "      <th>沃格光电(603773)</th>\n",
       "      <td>3.0</td>\n",
       "    </tr>\n",
       "    <tr>\n",
       "      <th>嘉友国际(603871)</th>\n",
       "      <td>73.0</td>\n",
       "    </tr>\n",
       "    <tr>\n",
       "      <th>鼎胜新材(603876)</th>\n",
       "      <td>2.0</td>\n",
       "    </tr>\n",
       "    <tr>\n",
       "      <th>天永智能(603895)</th>\n",
       "      <td>88.0</td>\n",
       "    </tr>\n",
       "    <tr>\n",
       "      <th>...</th>\n",
       "      <th>...</th>\n",
       "      <td>...</td>\n",
       "    </tr>\n",
       "    <tr>\n",
       "      <th>2018-04-25 00:00:00+00:00</th>\n",
       "      <th>长城科技(603897)</th>\n",
       "      <td>15.0</td>\n",
       "    </tr>\n",
       "    <tr>\n",
       "      <th rowspan=\"29\" valign=\"top\">2018-04-26 00:00:00+00:00</th>\n",
       "      <th>华西证券(002926)</th>\n",
       "      <td>80.0</td>\n",
       "    </tr>\n",
       "    <tr>\n",
       "      <th>泰永长征(002927)</th>\n",
       "      <td>62.0</td>\n",
       "    </tr>\n",
       "    <tr>\n",
       "      <th>华夏航空(002928)</th>\n",
       "      <td>55.0</td>\n",
       "    </tr>\n",
       "    <tr>\n",
       "      <th>润建通信(002929)</th>\n",
       "      <td>56.0</td>\n",
       "    </tr>\n",
       "    <tr>\n",
       "      <th>宏川智慧(002930)</th>\n",
       "      <td>29.0</td>\n",
       "    </tr>\n",
       "    <tr>\n",
       "      <th>锋龙股份(002931)</th>\n",
       "      <td>23.0</td>\n",
       "    </tr>\n",
       "    <tr>\n",
       "      <th>天邑股份(300504)</th>\n",
       "      <td>27.0</td>\n",
       "    </tr>\n",
       "    <tr>\n",
       "      <th>彩讯股份(300634)</th>\n",
       "      <td>34.0</td>\n",
       "    </tr>\n",
       "    <tr>\n",
       "      <th>南京聚隆(300644)</th>\n",
       "      <td>79.0</td>\n",
       "    </tr>\n",
       "    <tr>\n",
       "      <th>明阳电路(300739)</th>\n",
       "      <td>84.0</td>\n",
       "    </tr>\n",
       "    <tr>\n",
       "      <th>御家汇(300740)</th>\n",
       "      <td>77.0</td>\n",
       "    </tr>\n",
       "    <tr>\n",
       "      <th>华宝股份(300741)</th>\n",
       "      <td>56.0</td>\n",
       "    </tr>\n",
       "    <tr>\n",
       "      <th>江苏租赁(600901)</th>\n",
       "      <td>56.0</td>\n",
       "    </tr>\n",
       "    <tr>\n",
       "      <th>湖南盐业(600929)</th>\n",
       "      <td>31.0</td>\n",
       "    </tr>\n",
       "    <tr>\n",
       "      <th>成都银行(601838)</th>\n",
       "      <td>85.0</td>\n",
       "    </tr>\n",
       "    <tr>\n",
       "      <th>倍加洁(603059)</th>\n",
       "      <td>55.0</td>\n",
       "    </tr>\n",
       "    <tr>\n",
       "      <th>养元饮品(603156)</th>\n",
       "      <td>73.0</td>\n",
       "    </tr>\n",
       "    <tr>\n",
       "      <th>爱婴室(603214)</th>\n",
       "      <td>27.0</td>\n",
       "    </tr>\n",
       "    <tr>\n",
       "      <th>振德医疗(603301)</th>\n",
       "      <td>14.0</td>\n",
       "    </tr>\n",
       "    <tr>\n",
       "      <th>南都物业(603506)</th>\n",
       "      <td>84.0</td>\n",
       "    </tr>\n",
       "    <tr>\n",
       "      <th>淳中科技(603516)</th>\n",
       "      <td>83.0</td>\n",
       "    </tr>\n",
       "    <tr>\n",
       "      <th>今创集团(603680)</th>\n",
       "      <td>58.0</td>\n",
       "    </tr>\n",
       "    <tr>\n",
       "      <th>中源家居(603709)</th>\n",
       "      <td>77.0</td>\n",
       "    </tr>\n",
       "    <tr>\n",
       "      <th>七一二(603712)</th>\n",
       "      <td>59.0</td>\n",
       "    </tr>\n",
       "    <tr>\n",
       "      <th>仙鹤股份(603733)</th>\n",
       "      <td>6.0</td>\n",
       "    </tr>\n",
       "    <tr>\n",
       "      <th>沃格光电(603773)</th>\n",
       "      <td>9.0</td>\n",
       "    </tr>\n",
       "    <tr>\n",
       "      <th>嘉友国际(603871)</th>\n",
       "      <td>79.0</td>\n",
       "    </tr>\n",
       "    <tr>\n",
       "      <th>鼎胜新材(603876)</th>\n",
       "      <td>8.0</td>\n",
       "    </tr>\n",
       "    <tr>\n",
       "      <th>长城科技(603897)</th>\n",
       "      <td>16.0</td>\n",
       "    </tr>\n",
       "  </tbody>\n",
       "</table>\n",
       "<p>152 rows × 1 columns</p>\n",
       "</div>"
      ],
      "text/plain": [
       "                                        上市天数\n",
       "2018-04-20 00:00:00+00:00 华西证券(002926)  74.0\n",
       "                          泰永长征(002927)  56.0\n",
       "                          华夏航空(002928)  49.0\n",
       "                          润建通信(002929)  50.0\n",
       "                          宏川智慧(002930)  23.0\n",
       "                          锋龙股份(002931)  17.0\n",
       "                          天邑股份(300504)  21.0\n",
       "                          彩讯股份(300634)  28.0\n",
       "                          南京聚隆(300644)  73.0\n",
       "                          科顺股份(300737)  85.0\n",
       "                          明阳电路(300739)  78.0\n",
       "                          御家汇(300740)   71.0\n",
       "                          华宝股份(300741)  50.0\n",
       "                          江苏租赁(600901)  50.0\n",
       "                          湖南盐业(600929)  25.0\n",
       "                          成都银行(601838)  79.0\n",
       "                          倍加洁(603059)   49.0\n",
       "                          养元饮品(603156)  67.0\n",
       "                          爱婴室(603214)   21.0\n",
       "                          振德医疗(603301)   8.0\n",
       "                          华菱精工(603356)  86.0\n",
       "                          南都物业(603506)  78.0\n",
       "                          淳中科技(603516)  77.0\n",
       "                          今创集团(603680)  52.0\n",
       "                          中源家居(603709)  71.0\n",
       "                          七一二(603712)   53.0\n",
       "                          沃格光电(603773)   3.0\n",
       "                          嘉友国际(603871)  73.0\n",
       "                          鼎胜新材(603876)   2.0\n",
       "                          天永智能(603895)  88.0\n",
       "...                                      ...\n",
       "2018-04-25 00:00:00+00:00 长城科技(603897)  15.0\n",
       "2018-04-26 00:00:00+00:00 华西证券(002926)  80.0\n",
       "                          泰永长征(002927)  62.0\n",
       "                          华夏航空(002928)  55.0\n",
       "                          润建通信(002929)  56.0\n",
       "                          宏川智慧(002930)  29.0\n",
       "                          锋龙股份(002931)  23.0\n",
       "                          天邑股份(300504)  27.0\n",
       "                          彩讯股份(300634)  34.0\n",
       "                          南京聚隆(300644)  79.0\n",
       "                          明阳电路(300739)  84.0\n",
       "                          御家汇(300740)   77.0\n",
       "                          华宝股份(300741)  56.0\n",
       "                          江苏租赁(600901)  56.0\n",
       "                          湖南盐业(600929)  31.0\n",
       "                          成都银行(601838)  85.0\n",
       "                          倍加洁(603059)   55.0\n",
       "                          养元饮品(603156)  73.0\n",
       "                          爱婴室(603214)   27.0\n",
       "                          振德医疗(603301)  14.0\n",
       "                          南都物业(603506)  84.0\n",
       "                          淳中科技(603516)  83.0\n",
       "                          今创集团(603680)  58.0\n",
       "                          中源家居(603709)  77.0\n",
       "                          七一二(603712)   59.0\n",
       "                          仙鹤股份(603733)   6.0\n",
       "                          沃格光电(603773)   9.0\n",
       "                          嘉友国际(603871)  79.0\n",
       "                          鼎胜新材(603876)   8.0\n",
       "                          长城科技(603897)  16.0\n",
       "\n",
       "[152 rows x 1 columns]"
      ]
     },
     "execution_count": 22,
     "metadata": {},
     "output_type": "execute_result"
    }
   ],
   "source": [
    "run_pipeline(make_pipeline(), '2018-4-20', '2018-4-26')"
   ]
  },
  {
   "cell_type": "markdown",
   "metadata": {},
   "source": [
    "#### `QTradableStocks` 量化可交易股票"
   ]
  },
  {
   "cell_type": "code",
   "execution_count": 23,
   "metadata": {
    "ExecuteTime": {
     "end_time": "2018-05-02T06:36:55.179452Z",
     "start_time": "2018-05-02T06:36:55.175316Z"
    }
   },
   "outputs": [],
   "source": [
    "from zipline.pipeline.builtin import QTradableStocks"
   ]
  },
  {
   "cell_type": "code",
   "execution_count": 24,
   "metadata": {
    "ExecuteTime": {
     "end_time": "2018-05-02T06:36:55.192227Z",
     "start_time": "2018-05-02T06:36:55.183330Z"
    }
   },
   "outputs": [],
   "source": [
    "def make_pipeline():\n",
    "    stocks = QTradableStocks()\n",
    "    ma20 = SimpleMovingAverage(\n",
    "        inputs=[USEquityPricing.close], window_length=20)\n",
    "    return Pipeline(\n",
    "        columns={\n",
    "            'ma20': ma20,\n",
    "        }, \n",
    "        screen=stocks\n",
    "    )"
   ]
  },
  {
   "cell_type": "code",
   "execution_count": 25,
   "metadata": {
    "ExecuteTime": {
     "end_time": "2018-05-02T06:36:55.587137Z",
     "start_time": "2018-05-02T06:36:55.194925Z"
    }
   },
   "outputs": [],
   "source": [
    "result = run_pipeline(make_pipeline(), '2018-4-20', '2018-4-26')"
   ]
  },
  {
   "cell_type": "code",
   "execution_count": 26,
   "metadata": {
    "ExecuteTime": {
     "end_time": "2018-05-02T06:36:55.599659Z",
     "start_time": "2018-05-02T06:36:55.588889Z"
    }
   },
   "outputs": [],
   "source": [
    "ds = result.index.get_level_values(0).unique()"
   ]
  },
  {
   "cell_type": "code",
   "execution_count": 27,
   "metadata": {
    "ExecuteTime": {
     "end_time": "2018-05-02T06:36:55.621006Z",
     "start_time": "2018-05-02T06:36:55.602607Z"
    }
   },
   "outputs": [
    {
     "name": "stdout",
     "output_type": "stream",
     "text": [
      "在日期为2018-04-20时，有2620只股票符合\n",
      "在日期为2018-04-23时，有2622只股票符合\n",
      "在日期为2018-04-24时，有2620只股票符合\n",
      "在日期为2018-04-25时，有2622只股票符合\n",
      "在日期为2018-04-26时，有2628只股票符合\n"
     ]
    }
   ],
   "source": [
    "for d in ds:\n",
    "    print('在日期为{}时，有{}只股票符合'.format(d.date(), result.loc[d].shape[0]))"
   ]
  },
  {
   "cell_type": "markdown",
   "metadata": {
    "ExecuteTime": {
     "end_time": "2018-04-27T15:59:06.136214Z",
     "start_time": "2018-04-27T15:59:06.045351Z"
    }
   },
   "source": [
    "#### `TopAverageAmount` & `TAA` 平均成交额前N位\n",
    "+ 平均成交额排名前N位的股票。默认前500位"
   ]
  },
  {
   "cell_type": "code",
   "execution_count": 28,
   "metadata": {
    "ExecuteTime": {
     "end_time": "2018-05-02T06:36:55.961123Z",
     "start_time": "2018-05-02T06:36:55.623562Z"
    }
   },
   "outputs": [
    {
     "data": {
      "text/plain": [
       "True"
      ]
     },
     "execution_count": 28,
     "metadata": {},
     "output_type": "execute_result"
    }
   ],
   "source": [
    "from zipline.pipeline.builtin import TAA\n",
    "\n",
    "def make_pipeline():\n",
    "    stocks = QTradableStocks()\n",
    "    ma20 = SimpleMovingAverage(\n",
    "        inputs=[USEquityPricing.close], window_length=20)\n",
    "    return Pipeline(\n",
    "        columns={\n",
    "            'ma20': ma20,\n",
    "        }, \n",
    "        screen=TAA()\n",
    "    )\n",
    "\n",
    "result = run_pipeline(make_pipeline(), '2018-4-20', '2018-4-26')\n",
    "result.loc['2018-04-20'].shape == (500,1)"
   ]
  },
  {
   "cell_type": "markdown",
   "metadata": {},
   "source": [
    "#### `IsYZZT` & `IsYZDT`\n",
    "+ 默认包含ST一字板\n",
    "+ 如排除，设定`include_st=False`"
   ]
  },
  {
   "cell_type": "code",
   "execution_count": 29,
   "metadata": {
    "ExecuteTime": {
     "end_time": "2018-05-02T06:36:56.419484Z",
     "start_time": "2018-05-02T06:36:55.964472Z"
    }
   },
   "outputs": [
    {
     "data": {
      "text/html": [
       "<div>\n",
       "<style scoped>\n",
       "    .dataframe tbody tr th:only-of-type {\n",
       "        vertical-align: middle;\n",
       "    }\n",
       "\n",
       "    .dataframe tbody tr th {\n",
       "        vertical-align: top;\n",
       "    }\n",
       "\n",
       "    .dataframe thead th {\n",
       "        text-align: right;\n",
       "    }\n",
       "</style>\n",
       "<table border=\"1\" class=\"dataframe\">\n",
       "  <thead>\n",
       "    <tr style=\"text-align: right;\">\n",
       "      <th></th>\n",
       "      <th></th>\n",
       "      <th>ma20</th>\n",
       "      <th>涨幅</th>\n",
       "    </tr>\n",
       "  </thead>\n",
       "  <tbody>\n",
       "    <tr>\n",
       "      <th rowspan=\"2\" valign=\"top\">2017-09-20 00:00:00+00:00</th>\n",
       "      <th>华通热力(002893)</th>\n",
       "      <td>13.603333</td>\n",
       "      <td>0.100295</td>\n",
       "    </tr>\n",
       "    <tr>\n",
       "      <th>光威复材(300699)</th>\n",
       "      <td>30.569231</td>\n",
       "      <td>0.099935</td>\n",
       "    </tr>\n",
       "    <tr>\n",
       "      <th rowspan=\"2\" valign=\"top\">2017-09-21 00:00:00+00:00</th>\n",
       "      <th>华通热力(002893)</th>\n",
       "      <td>14.305000</td>\n",
       "      <td>0.099866</td>\n",
       "    </tr>\n",
       "    <tr>\n",
       "      <th>光威复材(300699)</th>\n",
       "      <td>32.381429</td>\n",
       "      <td>0.100098</td>\n",
       "    </tr>\n",
       "    <tr>\n",
       "      <th rowspan=\"4\" valign=\"top\">2017-09-22 00:00:00+00:00</th>\n",
       "      <th>ST生化(000403)</th>\n",
       "      <td>31.007450</td>\n",
       "      <td>0.050081</td>\n",
       "    </tr>\n",
       "    <tr>\n",
       "      <th>华通热力(002893)</th>\n",
       "      <td>15.054000</td>\n",
       "      <td>0.099939</td>\n",
       "    </tr>\n",
       "    <tr>\n",
       "      <th>光威复材(300699)</th>\n",
       "      <td>34.324667</td>\n",
       "      <td>0.099928</td>\n",
       "    </tr>\n",
       "    <tr>\n",
       "      <th>*ST昌九(600228)</th>\n",
       "      <td>10.235500</td>\n",
       "      <td>0.049951</td>\n",
       "    </tr>\n",
       "  </tbody>\n",
       "</table>\n",
       "</div>"
      ],
      "text/plain": [
       "                                              ma20        涨幅\n",
       "2017-09-20 00:00:00+00:00 华通热力(002893)   13.603333  0.100295\n",
       "                          光威复材(300699)   30.569231  0.099935\n",
       "2017-09-21 00:00:00+00:00 华通热力(002893)   14.305000  0.099866\n",
       "                          光威复材(300699)   32.381429  0.100098\n",
       "2017-09-22 00:00:00+00:00 ST生化(000403)   31.007450  0.050081\n",
       "                          华通热力(002893)   15.054000  0.099939\n",
       "                          光威复材(300699)   34.324667  0.099928\n",
       "                          *ST昌九(600228)  10.235500  0.049951"
      ]
     },
     "execution_count": 29,
     "metadata": {},
     "output_type": "execute_result"
    }
   ],
   "source": [
    "from zipline.pipeline.builtin import IsYZZT\n",
    "from zipline.pipeline.factors import DailyReturns\n",
    "def make_pipeline():\n",
    "    dr = DailyReturns()\n",
    "    ma20 = SimpleMovingAverage(\n",
    "        inputs=[USEquityPricing.close], window_length=20)\n",
    "    return Pipeline(\n",
    "        columns={\n",
    "            '涨幅':dr,\n",
    "            'ma20': ma20,\n",
    "        }, \n",
    "        screen=IsYZZT()\n",
    "    )\n",
    "# 只输出一字涨停部分\n",
    "result = run_pipeline(make_pipeline(), '2017-9-20', '2017-9-24')\n",
    "# 注意其中包含600228、000403等ST股票\n",
    "select_output_by(result, stock_codes=['600228', '000403', '002893','300699'])"
   ]
  },
  {
   "cell_type": "code",
   "execution_count": 30,
   "metadata": {
    "ExecuteTime": {
     "end_time": "2018-05-02T06:36:56.901201Z",
     "start_time": "2018-05-02T06:36:56.422537Z"
    }
   },
   "outputs": [
    {
     "data": {
      "text/html": [
       "<div>\n",
       "<style scoped>\n",
       "    .dataframe tbody tr th:only-of-type {\n",
       "        vertical-align: middle;\n",
       "    }\n",
       "\n",
       "    .dataframe tbody tr th {\n",
       "        vertical-align: top;\n",
       "    }\n",
       "\n",
       "    .dataframe thead th {\n",
       "        text-align: right;\n",
       "    }\n",
       "</style>\n",
       "<table border=\"1\" class=\"dataframe\">\n",
       "  <thead>\n",
       "    <tr style=\"text-align: right;\">\n",
       "      <th></th>\n",
       "      <th></th>\n",
       "      <th>ma20</th>\n",
       "      <th>涨幅</th>\n",
       "    </tr>\n",
       "  </thead>\n",
       "  <tbody>\n",
       "    <tr>\n",
       "      <th rowspan=\"2\" valign=\"top\">2017-09-20 00:00:00+00:00</th>\n",
       "      <th>华通热力(002893)</th>\n",
       "      <td>13.603333</td>\n",
       "      <td>0.100295</td>\n",
       "    </tr>\n",
       "    <tr>\n",
       "      <th>光威复材(300699)</th>\n",
       "      <td>30.569231</td>\n",
       "      <td>0.099935</td>\n",
       "    </tr>\n",
       "    <tr>\n",
       "      <th rowspan=\"2\" valign=\"top\">2017-09-21 00:00:00+00:00</th>\n",
       "      <th>华通热力(002893)</th>\n",
       "      <td>14.305000</td>\n",
       "      <td>0.099866</td>\n",
       "    </tr>\n",
       "    <tr>\n",
       "      <th>光威复材(300699)</th>\n",
       "      <td>32.381429</td>\n",
       "      <td>0.100098</td>\n",
       "    </tr>\n",
       "    <tr>\n",
       "      <th rowspan=\"2\" valign=\"top\">2017-09-22 00:00:00+00:00</th>\n",
       "      <th>华通热力(002893)</th>\n",
       "      <td>15.054000</td>\n",
       "      <td>0.099939</td>\n",
       "    </tr>\n",
       "    <tr>\n",
       "      <th>光威复材(300699)</th>\n",
       "      <td>34.324667</td>\n",
       "      <td>0.099928</td>\n",
       "    </tr>\n",
       "  </tbody>\n",
       "</table>\n",
       "</div>"
      ],
      "text/plain": [
       "                                             ma20        涨幅\n",
       "2017-09-20 00:00:00+00:00 华通热力(002893)  13.603333  0.100295\n",
       "                          光威复材(300699)  30.569231  0.099935\n",
       "2017-09-21 00:00:00+00:00 华通热力(002893)  14.305000  0.099866\n",
       "                          光威复材(300699)  32.381429  0.100098\n",
       "2017-09-22 00:00:00+00:00 华通热力(002893)  15.054000  0.099939\n",
       "                          光威复材(300699)  34.324667  0.099928"
      ]
     },
     "execution_count": 30,
     "metadata": {},
     "output_type": "execute_result"
    }
   ],
   "source": [
    "def make_pipeline():\n",
    "    dr = DailyReturns()\n",
    "    ma20 = SimpleMovingAverage(\n",
    "        inputs=[USEquityPricing.close], window_length=20)\n",
    "    return Pipeline(\n",
    "        columns={\n",
    "            '涨幅':dr,\n",
    "            'ma20': ma20,\n",
    "        }, \n",
    "        # 不包含ST\n",
    "        screen=IsYZZT(include_st=False)\n",
    "    )\n",
    "# 只输出一字涨停部分\n",
    "result = run_pipeline(make_pipeline(), '2017-9-20', '2017-9-24')\n",
    "# 注意，此时没有包含600228、000403等ST股票\n",
    "select_output_by(result, stock_codes=['600228', '000403', '002893','300699'])"
   ]
  },
  {
   "cell_type": "code",
   "execution_count": 31,
   "metadata": {
    "ExecuteTime": {
     "end_time": "2018-05-02T06:36:57.322979Z",
     "start_time": "2018-05-02T06:36:56.905018Z"
    }
   },
   "outputs": [
    {
     "data": {
      "text/html": [
       "<div>\n",
       "<style scoped>\n",
       "    .dataframe tbody tr th:only-of-type {\n",
       "        vertical-align: middle;\n",
       "    }\n",
       "\n",
       "    .dataframe tbody tr th {\n",
       "        vertical-align: top;\n",
       "    }\n",
       "\n",
       "    .dataframe thead th {\n",
       "        text-align: right;\n",
       "    }\n",
       "</style>\n",
       "<table border=\"1\" class=\"dataframe\">\n",
       "  <thead>\n",
       "    <tr style=\"text-align: right;\">\n",
       "      <th></th>\n",
       "      <th></th>\n",
       "      <th>ma20</th>\n",
       "      <th>涨幅</th>\n",
       "    </tr>\n",
       "  </thead>\n",
       "  <tbody>\n",
       "    <tr>\n",
       "      <th rowspan=\"5\" valign=\"top\">2018-04-24 00:00:00+00:00</th>\n",
       "      <th>*ST华泽(000693)</th>\n",
       "      <td>7.1105</td>\n",
       "      <td>-0.049296</td>\n",
       "    </tr>\n",
       "    <tr>\n",
       "      <th>*ST三维(000755)</th>\n",
       "      <td>6.1080</td>\n",
       "      <td>-0.049149</td>\n",
       "    </tr>\n",
       "    <tr>\n",
       "      <th>万丰奥威(002085)</th>\n",
       "      <td>12.3480</td>\n",
       "      <td>-0.099919</td>\n",
       "    </tr>\n",
       "    <tr>\n",
       "      <th>ST尤夫(002427)</th>\n",
       "      <td>17.6160</td>\n",
       "      <td>-0.050237</td>\n",
       "    </tr>\n",
       "    <tr>\n",
       "      <th>ST龙力(002604)</th>\n",
       "      <td>7.8790</td>\n",
       "      <td>-0.050000</td>\n",
       "    </tr>\n",
       "    <tr>\n",
       "      <th rowspan=\"6\" valign=\"top\">2018-04-25 00:00:00+00:00</th>\n",
       "      <th>*ST华泽(000693)</th>\n",
       "      <td>6.7385</td>\n",
       "      <td>-0.049383</td>\n",
       "    </tr>\n",
       "    <tr>\n",
       "      <th>万丰奥威(002085)</th>\n",
       "      <td>12.2300</td>\n",
       "      <td>-0.100269</td>\n",
       "    </tr>\n",
       "    <tr>\n",
       "      <th>ST尤夫(002427)</th>\n",
       "      <td>16.6925</td>\n",
       "      <td>-0.049900</td>\n",
       "    </tr>\n",
       "    <tr>\n",
       "      <th>ST龙力(002604)</th>\n",
       "      <td>7.7035</td>\n",
       "      <td>-0.050817</td>\n",
       "    </tr>\n",
       "    <tr>\n",
       "      <th>*ST船舶(600150)</th>\n",
       "      <td>18.2750</td>\n",
       "      <td>-0.049708</td>\n",
       "    </tr>\n",
       "    <tr>\n",
       "      <th>*ST罗顿(600209)</th>\n",
       "      <td>9.4695</td>\n",
       "      <td>-0.049757</td>\n",
       "    </tr>\n",
       "    <tr>\n",
       "      <th rowspan=\"8\" valign=\"top\">2018-04-26 00:00:00+00:00</th>\n",
       "      <th>*ST华泽(000693)</th>\n",
       "      <td>6.3850</td>\n",
       "      <td>-0.049351</td>\n",
       "    </tr>\n",
       "    <tr>\n",
       "      <th>华信国际(002018)</th>\n",
       "      <td>5.3630</td>\n",
       "      <td>-0.100186</td>\n",
       "    </tr>\n",
       "    <tr>\n",
       "      <th>ST尤夫(002427)</th>\n",
       "      <td>15.8150</td>\n",
       "      <td>-0.050420</td>\n",
       "    </tr>\n",
       "    <tr>\n",
       "      <th>圣阳股份(002580)</th>\n",
       "      <td>8.3280</td>\n",
       "      <td>-0.100358</td>\n",
       "    </tr>\n",
       "    <tr>\n",
       "      <th>ST龙力(002604)</th>\n",
       "      <td>7.5150</td>\n",
       "      <td>-0.049713</td>\n",
       "    </tr>\n",
       "    <tr>\n",
       "      <th>*ST船舶(600150)</th>\n",
       "      <td>18.1480</td>\n",
       "      <td>-0.049846</td>\n",
       "    </tr>\n",
       "    <tr>\n",
       "      <th>*ST哈空(600202)</th>\n",
       "      <td>7.7000</td>\n",
       "      <td>-0.049342</td>\n",
       "    </tr>\n",
       "    <tr>\n",
       "      <th>*ST罗顿(600209)</th>\n",
       "      <td>9.3875</td>\n",
       "      <td>-0.049808</td>\n",
       "    </tr>\n",
       "  </tbody>\n",
       "</table>\n",
       "</div>"
      ],
      "text/plain": [
       "                                            ma20        涨幅\n",
       "2018-04-24 00:00:00+00:00 *ST华泽(000693)   7.1105 -0.049296\n",
       "                          *ST三维(000755)   6.1080 -0.049149\n",
       "                          万丰奥威(002085)   12.3480 -0.099919\n",
       "                          ST尤夫(002427)   17.6160 -0.050237\n",
       "                          ST龙力(002604)    7.8790 -0.050000\n",
       "2018-04-25 00:00:00+00:00 *ST华泽(000693)   6.7385 -0.049383\n",
       "                          万丰奥威(002085)   12.2300 -0.100269\n",
       "                          ST尤夫(002427)   16.6925 -0.049900\n",
       "                          ST龙力(002604)    7.7035 -0.050817\n",
       "                          *ST船舶(600150)  18.2750 -0.049708\n",
       "                          *ST罗顿(600209)   9.4695 -0.049757\n",
       "2018-04-26 00:00:00+00:00 *ST华泽(000693)   6.3850 -0.049351\n",
       "                          华信国际(002018)    5.3630 -0.100186\n",
       "                          ST尤夫(002427)   15.8150 -0.050420\n",
       "                          圣阳股份(002580)    8.3280 -0.100358\n",
       "                          ST龙力(002604)    7.5150 -0.049713\n",
       "                          *ST船舶(600150)  18.1480 -0.049846\n",
       "                          *ST哈空(600202)   7.7000 -0.049342\n",
       "                          *ST罗顿(600209)   9.3875 -0.049808"
      ]
     },
     "execution_count": 31,
     "metadata": {},
     "output_type": "execute_result"
    }
   ],
   "source": [
    "from zipline.pipeline.builtin import IsYZDT\n",
    "\n",
    "\n",
    "def make_pipeline():\n",
    "    dr = DailyReturns()\n",
    "    ma20 = SimpleMovingAverage(\n",
    "        inputs=[USEquityPricing.close], window_length=20)\n",
    "    return Pipeline(\n",
    "        columns={\n",
    "            '涨幅': dr,\n",
    "            'ma20': ma20,\n",
    "        },\n",
    "        screen=IsYZDT())\n",
    "\n",
    "\n",
    "# 只输出一字跌停部分\n",
    "run_pipeline(make_pipeline(), '2018-4-24', '2018-4-26')"
   ]
  },
  {
   "cell_type": "code",
   "execution_count": 32,
   "metadata": {
    "ExecuteTime": {
     "end_time": "2018-05-02T06:36:57.751108Z",
     "start_time": "2018-05-02T06:36:57.325164Z"
    }
   },
   "outputs": [
    {
     "data": {
      "text/html": [
       "<div>\n",
       "<style scoped>\n",
       "    .dataframe tbody tr th:only-of-type {\n",
       "        vertical-align: middle;\n",
       "    }\n",
       "\n",
       "    .dataframe tbody tr th {\n",
       "        vertical-align: top;\n",
       "    }\n",
       "\n",
       "    .dataframe thead th {\n",
       "        text-align: right;\n",
       "    }\n",
       "</style>\n",
       "<table border=\"1\" class=\"dataframe\">\n",
       "  <thead>\n",
       "    <tr style=\"text-align: right;\">\n",
       "      <th></th>\n",
       "      <th></th>\n",
       "      <th>ma20</th>\n",
       "      <th>涨幅</th>\n",
       "    </tr>\n",
       "  </thead>\n",
       "  <tbody>\n",
       "    <tr>\n",
       "      <th>2018-04-24 00:00:00+00:00</th>\n",
       "      <th>万丰奥威(002085)</th>\n",
       "      <td>12.348</td>\n",
       "      <td>-0.099919</td>\n",
       "    </tr>\n",
       "    <tr>\n",
       "      <th>2018-04-25 00:00:00+00:00</th>\n",
       "      <th>万丰奥威(002085)</th>\n",
       "      <td>12.230</td>\n",
       "      <td>-0.100269</td>\n",
       "    </tr>\n",
       "    <tr>\n",
       "      <th rowspan=\"2\" valign=\"top\">2018-04-26 00:00:00+00:00</th>\n",
       "      <th>华信国际(002018)</th>\n",
       "      <td>5.363</td>\n",
       "      <td>-0.100186</td>\n",
       "    </tr>\n",
       "    <tr>\n",
       "      <th>圣阳股份(002580)</th>\n",
       "      <td>8.328</td>\n",
       "      <td>-0.100358</td>\n",
       "    </tr>\n",
       "  </tbody>\n",
       "</table>\n",
       "</div>"
      ],
      "text/plain": [
       "                                          ma20        涨幅\n",
       "2018-04-24 00:00:00+00:00 万丰奥威(002085)  12.348 -0.099919\n",
       "2018-04-25 00:00:00+00:00 万丰奥威(002085)  12.230 -0.100269\n",
       "2018-04-26 00:00:00+00:00 华信国际(002018)   5.363 -0.100186\n",
       "                          圣阳股份(002580)   8.328 -0.100358"
      ]
     },
     "execution_count": 32,
     "metadata": {},
     "output_type": "execute_result"
    }
   ],
   "source": [
    "def make_pipeline():\n",
    "    dr = DailyReturns()\n",
    "    ma20 = SimpleMovingAverage(\n",
    "        inputs=[USEquityPricing.close], window_length=20)\n",
    "    return Pipeline(\n",
    "        columns={\n",
    "            '涨幅': dr,\n",
    "            'ma20': ma20,\n",
    "        },\n",
    "        # 排除st\n",
    "        screen=IsYZDT(include_st=False))\n",
    "\n",
    "\n",
    "# 输出不包含St一字跌停\n",
    "run_pipeline(make_pipeline(), '2018-4-24', '2018-4-26')"
   ]
  },
  {
   "cell_type": "markdown",
   "metadata": {
    "ExecuteTime": {
     "end_time": "2018-05-02T05:27:25.127307Z",
     "start_time": "2018-05-02T05:27:25.020730Z"
    }
   },
   "source": [
    "#### 有关停复牌\n",
    "当日复牌"
   ]
  },
  {
   "cell_type": "markdown",
   "metadata": {},
   "source": [
    "![停牌表](./images/20180426_list.png)"
   ]
  },
  {
   "cell_type": "code",
   "execution_count": 33,
   "metadata": {
    "ExecuteTime": {
     "end_time": "2018-05-02T06:36:57.758682Z",
     "start_time": "2018-05-02T06:36:57.754300Z"
    }
   },
   "outputs": [],
   "source": [
    "# 可用于限定范围\n",
    "from zipline.pipeline.filters import StaticSids"
   ]
  },
  {
   "cell_type": "code",
   "execution_count": 34,
   "metadata": {
    "ExecuteTime": {
     "end_time": "2018-05-02T06:36:58.172010Z",
     "start_time": "2018-05-02T06:36:57.765453Z"
    }
   },
   "outputs": [
    {
     "data": {
      "text/html": [
       "<div>\n",
       "<style scoped>\n",
       "    .dataframe tbody tr th:only-of-type {\n",
       "        vertical-align: middle;\n",
       "    }\n",
       "\n",
       "    .dataframe tbody tr th {\n",
       "        vertical-align: top;\n",
       "    }\n",
       "\n",
       "    .dataframe thead th {\n",
       "        text-align: right;\n",
       "    }\n",
       "</style>\n",
       "<table border=\"1\" class=\"dataframe\">\n",
       "  <thead>\n",
       "    <tr style=\"text-align: right;\">\n",
       "      <th></th>\n",
       "      <th></th>\n",
       "      <th>停牌天数</th>\n",
       "      <th>涨幅</th>\n",
       "    </tr>\n",
       "  </thead>\n",
       "  <tbody>\n",
       "    <tr>\n",
       "      <th rowspan=\"10\" valign=\"top\">2018-04-26 00:00:00+00:00</th>\n",
       "      <th>珠海中富(000659)</th>\n",
       "      <td>1.0</td>\n",
       "      <td>0.005348</td>\n",
       "    </tr>\n",
       "    <tr>\n",
       "      <th>华信国际(002018)</th>\n",
       "      <td>23.0</td>\n",
       "      <td>-0.100186</td>\n",
       "    </tr>\n",
       "    <tr>\n",
       "      <th>圣阳股份(002580)</th>\n",
       "      <td>89.0</td>\n",
       "      <td>-0.100358</td>\n",
       "    </tr>\n",
       "    <tr>\n",
       "      <th>*ST哈空(600202)</th>\n",
       "      <td>1.0</td>\n",
       "      <td>-0.049342</td>\n",
       "    </tr>\n",
       "    <tr>\n",
       "      <th>*ST狮头(600539)</th>\n",
       "      <td>63.0</td>\n",
       "      <td>-0.037037</td>\n",
       "    </tr>\n",
       "    <tr>\n",
       "      <th>苏美达(600710)</th>\n",
       "      <td>6.0</td>\n",
       "      <td>0.100885</td>\n",
       "    </tr>\n",
       "    <tr>\n",
       "      <th>宁波中百(600857)</th>\n",
       "      <td>2.0</td>\n",
       "      <td>0.100284</td>\n",
       "    </tr>\n",
       "    <tr>\n",
       "      <th>星湖科技(600866)</th>\n",
       "      <td>59.0</td>\n",
       "      <td>0.101149</td>\n",
       "    </tr>\n",
       "    <tr>\n",
       "      <th>渤海活塞(600960)</th>\n",
       "      <td>89.0</td>\n",
       "      <td>0.002714</td>\n",
       "    </tr>\n",
       "    <tr>\n",
       "      <th>*ST蓝科(601798)</th>\n",
       "      <td>1.0</td>\n",
       "      <td>-0.050157</td>\n",
       "    </tr>\n",
       "    <tr>\n",
       "      <th rowspan=\"8\" valign=\"top\">2018-04-27 00:00:00+00:00</th>\n",
       "      <th>中航三鑫(002163)</th>\n",
       "      <td>89.0</td>\n",
       "      <td>-0.099476</td>\n",
       "    </tr>\n",
       "    <tr>\n",
       "      <th>艾格拉斯(002619)</th>\n",
       "      <td>50.0</td>\n",
       "      <td>-0.070000</td>\n",
       "    </tr>\n",
       "    <tr>\n",
       "      <th>宁波联合(600051)</th>\n",
       "      <td>69.0</td>\n",
       "      <td>-0.099487</td>\n",
       "    </tr>\n",
       "    <tr>\n",
       "      <th>*ST椰岛(600238)</th>\n",
       "      <td>1.0</td>\n",
       "      <td>-0.050078</td>\n",
       "    </tr>\n",
       "    <tr>\n",
       "      <th>*ST信通(600289)</th>\n",
       "      <td>13.0</td>\n",
       "      <td>0.003021</td>\n",
       "    </tr>\n",
       "    <tr>\n",
       "      <th>鹏起科技(600614)</th>\n",
       "      <td>78.0</td>\n",
       "      <td>-0.100394</td>\n",
       "    </tr>\n",
       "    <tr>\n",
       "      <th>*ST友好(600778)</th>\n",
       "      <td>1.0</td>\n",
       "      <td>-0.045652</td>\n",
       "    </tr>\n",
       "    <tr>\n",
       "      <th>文灿股份(603348)</th>\n",
       "      <td>89.0</td>\n",
       "      <td>NaN</td>\n",
       "    </tr>\n",
       "  </tbody>\n",
       "</table>\n",
       "</div>"
      ],
      "text/plain": [
       "                                         停牌天数        涨幅\n",
       "2018-04-26 00:00:00+00:00 珠海中富(000659)    1.0  0.005348\n",
       "                          华信国际(002018)   23.0 -0.100186\n",
       "                          圣阳股份(002580)   89.0 -0.100358\n",
       "                          *ST哈空(600202)   1.0 -0.049342\n",
       "                          *ST狮头(600539)  63.0 -0.037037\n",
       "                          苏美达(600710)     6.0  0.100885\n",
       "                          宁波中百(600857)    2.0  0.100284\n",
       "                          星湖科技(600866)   59.0  0.101149\n",
       "                          渤海活塞(600960)   89.0  0.002714\n",
       "                          *ST蓝科(601798)   1.0 -0.050157\n",
       "2018-04-27 00:00:00+00:00 中航三鑫(002163)   89.0 -0.099476\n",
       "                          艾格拉斯(002619)   50.0 -0.070000\n",
       "                          宁波联合(600051)   69.0 -0.099487\n",
       "                          *ST椰岛(600238)   1.0 -0.050078\n",
       "                          *ST信通(600289)  13.0  0.003021\n",
       "                          鹏起科技(600614)   78.0 -0.100394\n",
       "                          *ST友好(600778)   1.0 -0.045652\n",
       "                          文灿股份(603348)   89.0       NaN"
      ]
     },
     "execution_count": 34,
     "metadata": {},
     "output_type": "execute_result"
    }
   ],
   "source": [
    "from zipline.pipeline.builtin import IsResumed, SuccessiveSuspensionDays\n",
    "\n",
    "def make_pipeline():\n",
    "    #target = StaticSids([2163,600051])\n",
    "    dr = DailyReturns()\n",
    "    return Pipeline(\n",
    "        columns={\n",
    "            '涨幅': dr,\n",
    "            '停牌天数':SuccessiveSuspensionDays(include=True)\n",
    "        },\n",
    "        screen=IsResumed())\n",
    "\n",
    "\n",
    "# 只输出连续停牌后当日复牌的股票涨跌幅\n",
    "run_pipeline(make_pipeline(), '2018-4-26', '2018-4-27')"
   ]
  },
  {
   "cell_type": "markdown",
   "metadata": {},
   "source": [
    "### 分类器"
   ]
  },
  {
   "cell_type": "markdown",
   "metadata": {},
   "source": [
    "股票分类涉及到地区、行业、概念，为简化处理，不再动态跟踪数据，而是使用静态方式简化。每次回测时，都使用最新的分类数据。如股票在2018-2-1，所处地区为上海，后由于变更注册地，2018-4-1所处地区更改为北京。在2018-2-1回测时，该股票使用的分类数据是最新数据，即上海；而2018-4-1回测时，使用的分类数据为北京。但这会造成一个问题，即在不同的时间，以同样策略回测同一期间的数据时，结果会不一致。请注意此类差异。"
   ]
  },
  {
   "cell_type": "markdown",
   "metadata": {},
   "source": [
    "分类器直接使用`Fundamentals`容器类"
   ]
  },
  {
   "cell_type": "code",
   "execution_count": 35,
   "metadata": {
    "ExecuteTime": {
     "end_time": "2018-05-02T06:36:58.183979Z",
     "start_time": "2018-05-02T06:36:58.174772Z"
    }
   },
   "outputs": [],
   "source": [
    "def make_pipeline():\n",
    "    dqfl = Fundamentals.info.region.latest\n",
    "    return Pipeline(\n",
    "        columns={\n",
    "            'dqfl': dqfl,\n",
    "        }, \n",
    "        screen=dqfl.element_of([0,1,22])\n",
    "    )"
   ]
  },
  {
   "cell_type": "code",
   "execution_count": 36,
   "metadata": {
    "ExecuteTime": {
     "end_time": "2018-05-02T06:36:58.340440Z",
     "start_time": "2018-05-02T06:36:58.188684Z"
    }
   },
   "outputs": [
    {
     "data": {
      "text/html": [
       "<div>\n",
       "<style scoped>\n",
       "    .dataframe tbody tr th:only-of-type {\n",
       "        vertical-align: middle;\n",
       "    }\n",
       "\n",
       "    .dataframe tbody tr th {\n",
       "        vertical-align: top;\n",
       "    }\n",
       "\n",
       "    .dataframe thead th {\n",
       "        text-align: right;\n",
       "    }\n",
       "</style>\n",
       "<table border=\"1\" class=\"dataframe\">\n",
       "  <thead>\n",
       "    <tr style=\"text-align: right;\">\n",
       "      <th></th>\n",
       "      <th></th>\n",
       "      <th>dqfl</th>\n",
       "    </tr>\n",
       "  </thead>\n",
       "  <tbody>\n",
       "    <tr>\n",
       "      <th rowspan=\"30\" valign=\"top\">2018-04-20 00:00:00+00:00</th>\n",
       "      <th>云南白药(000538)</th>\n",
       "      <td>1</td>\n",
       "    </tr>\n",
       "    <tr>\n",
       "      <th>靖远煤电(000552)</th>\n",
       "      <td>22</td>\n",
       "    </tr>\n",
       "    <tr>\n",
       "      <th>昆百大Ａ(000560)</th>\n",
       "      <td>1</td>\n",
       "    </tr>\n",
       "    <tr>\n",
       "      <th>美好置业(000667)</th>\n",
       "      <td>1</td>\n",
       "    </tr>\n",
       "    <tr>\n",
       "      <th>荣丰控股(000668)</th>\n",
       "      <td>0</td>\n",
       "    </tr>\n",
       "    <tr>\n",
       "      <th>三毛派神(000779)</th>\n",
       "      <td>22</td>\n",
       "    </tr>\n",
       "    <tr>\n",
       "      <th>甘肃电投(000791)</th>\n",
       "      <td>22</td>\n",
       "    </tr>\n",
       "    <tr>\n",
       "      <th>云铝股份(000807)</th>\n",
       "      <td>1</td>\n",
       "    </tr>\n",
       "    <tr>\n",
       "      <th>云南铜业(000878)</th>\n",
       "      <td>1</td>\n",
       "    </tr>\n",
       "    <tr>\n",
       "      <th>云内动力(000903)</th>\n",
       "      <td>1</td>\n",
       "    </tr>\n",
       "    <tr>\n",
       "      <th>兰州黄河(000929)</th>\n",
       "      <td>22</td>\n",
       "    </tr>\n",
       "    <tr>\n",
       "      <th>南天信息(000948)</th>\n",
       "      <td>1</td>\n",
       "    </tr>\n",
       "    <tr>\n",
       "      <th>锡业股份(000960)</th>\n",
       "      <td>1</td>\n",
       "    </tr>\n",
       "    <tr>\n",
       "      <th>银亿股份(000981)</th>\n",
       "      <td>22</td>\n",
       "    </tr>\n",
       "    <tr>\n",
       "      <th>皇台酒业(000995)</th>\n",
       "      <td>22</td>\n",
       "    </tr>\n",
       "    <tr>\n",
       "      <th>科华生物(002022)</th>\n",
       "      <td>0</td>\n",
       "    </tr>\n",
       "    <tr>\n",
       "      <th>思源电气(002028)</th>\n",
       "      <td>0</td>\n",
       "    </tr>\n",
       "    <tr>\n",
       "      <th>丽江旅游(002033)</th>\n",
       "      <td>1</td>\n",
       "    </tr>\n",
       "    <tr>\n",
       "      <th>云南能投(002053)</th>\n",
       "      <td>1</td>\n",
       "    </tr>\n",
       "    <tr>\n",
       "      <th>威 尔 泰(002058)</th>\n",
       "      <td>0</td>\n",
       "    </tr>\n",
       "    <tr>\n",
       "      <th>云南旅游(002059)</th>\n",
       "      <td>1</td>\n",
       "    </tr>\n",
       "    <tr>\n",
       "      <th>罗平锌电(002114)</th>\n",
       "      <td>1</td>\n",
       "    </tr>\n",
       "    <tr>\n",
       "      <th>中国海诚(002116)</th>\n",
       "      <td>0</td>\n",
       "    </tr>\n",
       "    <tr>\n",
       "      <th>中核钛白(002145)</th>\n",
       "      <td>22</td>\n",
       "    </tr>\n",
       "    <tr>\n",
       "      <th>汉钟精机(002158)</th>\n",
       "      <td>0</td>\n",
       "    </tr>\n",
       "    <tr>\n",
       "      <th>悦心健康(002162)</th>\n",
       "      <td>0</td>\n",
       "    </tr>\n",
       "    <tr>\n",
       "      <th>延华智能(002178)</th>\n",
       "      <td>0</td>\n",
       "    </tr>\n",
       "    <tr>\n",
       "      <th>海得控制(002184)</th>\n",
       "      <td>0</td>\n",
       "    </tr>\n",
       "    <tr>\n",
       "      <th>华天科技(002185)</th>\n",
       "      <td>22</td>\n",
       "    </tr>\n",
       "    <tr>\n",
       "      <th>二三四五(002195)</th>\n",
       "      <td>0</td>\n",
       "    </tr>\n",
       "    <tr>\n",
       "      <th>...</th>\n",
       "      <th>...</th>\n",
       "      <td>...</td>\n",
       "    </tr>\n",
       "    <tr>\n",
       "      <th rowspan=\"30\" valign=\"top\">2018-04-26 00:00:00+00:00</th>\n",
       "      <th>申通地铁(600834)</th>\n",
       "      <td>0</td>\n",
       "    </tr>\n",
       "    <tr>\n",
       "      <th>上海机电(600835)</th>\n",
       "      <td>0</td>\n",
       "    </tr>\n",
       "    <tr>\n",
       "      <th>界龙实业(600836)</th>\n",
       "      <td>0</td>\n",
       "    </tr>\n",
       "    <tr>\n",
       "      <th>海通证券(600837)</th>\n",
       "      <td>0</td>\n",
       "    </tr>\n",
       "    <tr>\n",
       "      <th>上海九百(600838)</th>\n",
       "      <td>0</td>\n",
       "    </tr>\n",
       "    <tr>\n",
       "      <th>上柴股份(600841)</th>\n",
       "      <td>0</td>\n",
       "    </tr>\n",
       "    <tr>\n",
       "      <th>上工申贝(600843)</th>\n",
       "      <td>0</td>\n",
       "    </tr>\n",
       "    <tr>\n",
       "      <th>丹化科技(600844)</th>\n",
       "      <td>0</td>\n",
       "    </tr>\n",
       "    <tr>\n",
       "      <th>宝信软件(600845)</th>\n",
       "      <td>0</td>\n",
       "    </tr>\n",
       "    <tr>\n",
       "      <th>同济科技(600846)</th>\n",
       "      <td>0</td>\n",
       "    </tr>\n",
       "    <tr>\n",
       "      <th>上海临港(600848)</th>\n",
       "      <td>0</td>\n",
       "    </tr>\n",
       "    <tr>\n",
       "      <th>华东电脑(600850)</th>\n",
       "      <td>0</td>\n",
       "    </tr>\n",
       "    <tr>\n",
       "      <th>海欣股份(600851)</th>\n",
       "      <td>0</td>\n",
       "    </tr>\n",
       "    <tr>\n",
       "      <th>博闻科技(600883)</th>\n",
       "      <td>1</td>\n",
       "    </tr>\n",
       "    <tr>\n",
       "      <th>国投电力(600886)</th>\n",
       "      <td>22</td>\n",
       "    </tr>\n",
       "    <tr>\n",
       "      <th>张江高科(600895)</th>\n",
       "      <td>0</td>\n",
       "    </tr>\n",
       "    <tr>\n",
       "      <th>太平洋(601099)</th>\n",
       "      <td>1</td>\n",
       "    </tr>\n",
       "    <tr>\n",
       "      <th>环旭电子(601231)</th>\n",
       "      <td>0</td>\n",
       "    </tr>\n",
       "    <tr>\n",
       "      <th>交通银行(601328)</th>\n",
       "      <td>0</td>\n",
       "    </tr>\n",
       "    <tr>\n",
       "      <th>*ST智慧(601519)</th>\n",
       "      <td>0</td>\n",
       "    </tr>\n",
       "    <tr>\n",
       "      <th>中国太保(601601)</th>\n",
       "      <td>0</td>\n",
       "    </tr>\n",
       "    <tr>\n",
       "      <th>上海医药(601607)</th>\n",
       "      <td>0</td>\n",
       "    </tr>\n",
       "    <tr>\n",
       "      <th>广电电气(601616)</th>\n",
       "      <td>0</td>\n",
       "    </tr>\n",
       "    <tr>\n",
       "      <th>上海电气(601727)</th>\n",
       "      <td>0</td>\n",
       "    </tr>\n",
       "    <tr>\n",
       "      <th>光大证券(601788)</th>\n",
       "      <td>0</td>\n",
       "    </tr>\n",
       "    <tr>\n",
       "      <th>*ST蓝科(601798)</th>\n",
       "      <td>22</td>\n",
       "    </tr>\n",
       "    <tr>\n",
       "      <th>中远海发(601866)</th>\n",
       "      <td>0</td>\n",
       "    </tr>\n",
       "    <tr>\n",
       "      <th>招商轮船(601872)</th>\n",
       "      <td>0</td>\n",
       "    </tr>\n",
       "    <tr>\n",
       "      <th>龙宇燃油(603003)</th>\n",
       "      <td>0</td>\n",
       "    </tr>\n",
       "    <tr>\n",
       "      <th>华贸物流(603128)</th>\n",
       "      <td>0</td>\n",
       "    </tr>\n",
       "  </tbody>\n",
       "</table>\n",
       "<p>1225 rows × 1 columns</p>\n",
       "</div>"
      ],
      "text/plain": [
       "                                         dqfl\n",
       "2018-04-20 00:00:00+00:00 云南白药(000538)      1\n",
       "                          靖远煤电(000552)     22\n",
       "                          昆百大Ａ(000560)      1\n",
       "                          美好置业(000667)      1\n",
       "                          荣丰控股(000668)      0\n",
       "                          三毛派神(000779)     22\n",
       "                          甘肃电投(000791)     22\n",
       "                          云铝股份(000807)      1\n",
       "                          云南铜业(000878)      1\n",
       "                          云内动力(000903)      1\n",
       "                          兰州黄河(000929)     22\n",
       "                          南天信息(000948)      1\n",
       "                          锡业股份(000960)      1\n",
       "                          银亿股份(000981)     22\n",
       "                          皇台酒业(000995)     22\n",
       "                          科华生物(002022)      0\n",
       "                          思源电气(002028)      0\n",
       "                          丽江旅游(002033)      1\n",
       "                          云南能投(002053)      1\n",
       "                          威 尔 泰(002058)     0\n",
       "                          云南旅游(002059)      1\n",
       "                          罗平锌电(002114)      1\n",
       "                          中国海诚(002116)      0\n",
       "                          中核钛白(002145)     22\n",
       "                          汉钟精机(002158)      0\n",
       "                          悦心健康(002162)      0\n",
       "                          延华智能(002178)      0\n",
       "                          海得控制(002184)      0\n",
       "                          华天科技(002185)     22\n",
       "                          二三四五(002195)      0\n",
       "...                                       ...\n",
       "2018-04-26 00:00:00+00:00 申通地铁(600834)      0\n",
       "                          上海机电(600835)      0\n",
       "                          界龙实业(600836)      0\n",
       "                          海通证券(600837)      0\n",
       "                          上海九百(600838)      0\n",
       "                          上柴股份(600841)      0\n",
       "                          上工申贝(600843)      0\n",
       "                          丹化科技(600844)      0\n",
       "                          宝信软件(600845)      0\n",
       "                          同济科技(600846)      0\n",
       "                          上海临港(600848)      0\n",
       "                          华东电脑(600850)      0\n",
       "                          海欣股份(600851)      0\n",
       "                          博闻科技(600883)      1\n",
       "                          国投电力(600886)     22\n",
       "                          张江高科(600895)      0\n",
       "                          太平洋(601099)       1\n",
       "                          环旭电子(601231)      0\n",
       "                          交通银行(601328)      0\n",
       "                          *ST智慧(601519)     0\n",
       "                          中国太保(601601)      0\n",
       "                          上海医药(601607)      0\n",
       "                          广电电气(601616)      0\n",
       "                          上海电气(601727)      0\n",
       "                          光大证券(601788)      0\n",
       "                          *ST蓝科(601798)    22\n",
       "                          中远海发(601866)      0\n",
       "                          招商轮船(601872)      0\n",
       "                          龙宇燃油(603003)      0\n",
       "                          华贸物流(603128)      0\n",
       "\n",
       "[1225 rows x 1 columns]"
      ]
     },
     "execution_count": 36,
     "metadata": {},
     "output_type": "execute_result"
    }
   ],
   "source": [
    "run_pipeline(make_pipeline(), '2018-4-20', '2018-4-26')"
   ]
  },
  {
   "cell_type": "code",
   "execution_count": 37,
   "metadata": {
    "ExecuteTime": {
     "end_time": "2018-05-02T06:36:58.406495Z",
     "start_time": "2018-05-02T06:36:58.342675Z"
    }
   },
   "outputs": [
    {
     "data": {
      "text/plain": [
       "'上海市'"
      ]
     },
     "execution_count": 37,
     "metadata": {},
     "output_type": "execute_result"
    }
   ],
   "source": [
    "# 通过查询获取分类编码的含义\n",
    "Fundamentals.region_cname(0)"
   ]
  },
  {
   "cell_type": "code",
   "execution_count": 38,
   "metadata": {
    "ExecuteTime": {
     "end_time": "2018-05-02T06:36:58.476821Z",
     "start_time": "2018-05-02T06:36:58.410261Z"
    }
   },
   "outputs": [
    {
     "data": {
      "text/plain": [
       "'甘肃省'"
      ]
     },
     "execution_count": 38,
     "metadata": {},
     "output_type": "execute_result"
    }
   ],
   "source": [
    "Fundamentals.region_cname(22)"
   ]
  }
 ],
 "metadata": {
  "kernelspec": {
   "display_name": "zipline",
   "language": "python",
   "name": "zipline"
  },
  "language_info": {
   "codemirror_mode": {
    "name": "ipython",
    "version": 3
   },
   "file_extension": ".py",
   "mimetype": "text/x-python",
   "name": "python",
   "nbconvert_exporter": "python",
   "pygments_lexer": "ipython3",
   "version": "3.6.5"
  },
  "toc": {
   "base_numbering": 1,
   "nav_menu": {},
   "number_sections": true,
   "sideBar": true,
   "skip_h1_title": false,
   "title_cell": "Table of Contents",
   "title_sidebar": "Contents",
   "toc_cell": false,
   "toc_position": {
    "height": "calc(100% - 180px)",
    "left": "10px",
    "top": "150px",
    "width": "260px"
   },
   "toc_section_display": true,
   "toc_window_display": true
  }
 },
 "nbformat": 4,
 "nbformat_minor": 2
}
