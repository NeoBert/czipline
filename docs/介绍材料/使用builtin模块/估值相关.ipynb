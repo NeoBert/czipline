{
 "cells": [
  {
   "cell_type": "markdown",
   "metadata": {},
   "source": [
    "## 季度调整"
   ]
  },
  {
   "cell_type": "code",
   "execution_count": 1,
   "metadata": {
    "ExecuteTime": {
     "end_time": "2018-05-01T06:28:51.334400Z",
     "start_time": "2018-05-01T06:28:51.004382Z"
    }
   },
   "outputs": [],
   "source": [
    "import pandas as pd"
   ]
  },
  {
   "cell_type": "code",
   "execution_count": 2,
   "metadata": {
    "ExecuteTime": {
     "end_time": "2018-05-01T06:28:53.669662Z",
     "start_time": "2018-05-01T06:28:51.336755Z"
    }
   },
   "outputs": [],
   "source": [
    "from zipline.pipeline.builtin import quarterly_multiplier, changed_locations"
   ]
  },
  {
   "cell_type": "code",
   "execution_count": 3,
   "metadata": {
    "ExecuteTime": {
     "end_time": "2018-05-01T06:28:53.677193Z",
     "start_time": "2018-05-01T06:28:53.672631Z"
    }
   },
   "outputs": [],
   "source": [
    "from pandas.tseries.offsets import QuarterEnd"
   ]
  },
  {
   "cell_type": "code",
   "execution_count": 4,
   "metadata": {
    "ExecuteTime": {
     "end_time": "2018-05-01T06:28:53.686606Z",
     "start_time": "2018-05-01T06:28:53.681546Z"
    }
   },
   "outputs": [],
   "source": [
    "dates = pd.date_range('2016-4-2','2018-5-2')"
   ]
  },
  {
   "cell_type": "code",
   "execution_count": 5,
   "metadata": {
    "ExecuteTime": {
     "end_time": "2018-05-01T06:28:53.699018Z",
     "start_time": "2018-05-01T06:28:53.690753Z"
    }
   },
   "outputs": [],
   "source": [
    "qe = QuarterEnd()"
   ]
  },
  {
   "cell_type": "code",
   "execution_count": 6,
   "metadata": {
    "ExecuteTime": {
     "end_time": "2018-05-01T06:28:53.766929Z",
     "start_time": "2018-05-01T06:28:53.702067Z"
    }
   },
   "outputs": [],
   "source": [
    "q_dates = pd.DatetimeIndex([qe.apply(x) for x in dates])"
   ]
  },
  {
   "cell_type": "code",
   "execution_count": 7,
   "metadata": {
    "ExecuteTime": {
     "end_time": "2018-05-01T06:28:53.774026Z",
     "start_time": "2018-05-01T06:28:53.769834Z"
    }
   },
   "outputs": [],
   "source": [
    "# 选取季度数子发生变化的最近四个季度\n",
    "locs = changed_locations(q_dates, include_first=True)[-4:]"
   ]
  },
  {
   "cell_type": "markdown",
   "metadata": {},
   "source": [
    "**说明**\n",
    "+ 利润表为时期数，各科目为截止报告日期的累计数，以最近四个季度预测全年，简单方法是先将各季度数字转换为年度数，即原始数据乘以乘数，然后四个季度简单平均\n",
    "+ 一季度乘数为4,2季度为2,三季度为4/3,四季度为1\n",
    "+ 数据单位由万元调整到元"
   ]
  },
  {
   "cell_type": "code",
   "execution_count": 8,
   "metadata": {
    "ExecuteTime": {
     "end_time": "2018-05-01T06:28:54.408752Z",
     "start_time": "2018-05-01T06:28:53.778533Z"
    }
   },
   "outputs": [],
   "source": [
    "from zipline.research import run_pipeline, select_output_by\n",
    "from zipline.pipeline import Pipeline"
   ]
  },
  {
   "cell_type": "markdown",
   "metadata": {},
   "source": [
    "## `book_value_per_share`"
   ]
  },
  {
   "cell_type": "code",
   "execution_count": 9,
   "metadata": {
    "ExecuteTime": {
     "end_time": "2018-05-01T06:28:54.417077Z",
     "start_time": "2018-05-01T06:28:54.411409Z"
    }
   },
   "outputs": [],
   "source": [
    "from zipline.pipeline.builtin import book_value_per_share"
   ]
  },
  {
   "cell_type": "code",
   "execution_count": 10,
   "metadata": {
    "ExecuteTime": {
     "end_time": "2018-05-01T06:28:57.175405Z",
     "start_time": "2018-05-01T06:28:54.420147Z"
    }
   },
   "outputs": [
    {
     "data": {
      "text/html": [
       "<div>\n",
       "<style scoped>\n",
       "    .dataframe tbody tr th:only-of-type {\n",
       "        vertical-align: middle;\n",
       "    }\n",
       "\n",
       "    .dataframe tbody tr th {\n",
       "        vertical-align: top;\n",
       "    }\n",
       "\n",
       "    .dataframe thead th {\n",
       "        text-align: right;\n",
       "    }\n",
       "</style>\n",
       "<table border=\"1\" class=\"dataframe\">\n",
       "  <thead>\n",
       "    <tr style=\"text-align: right;\">\n",
       "      <th></th>\n",
       "      <th></th>\n",
       "      <th>每股账面价值</th>\n",
       "    </tr>\n",
       "  </thead>\n",
       "  <tbody>\n",
       "    <tr>\n",
       "      <th rowspan=\"2\" valign=\"top\">2018-02-23 00:00:00+00:00</th>\n",
       "      <th>美的集团(000333)</th>\n",
       "      <td>12.255921</td>\n",
       "    </tr>\n",
       "    <tr>\n",
       "      <th>中源协和(600645)</th>\n",
       "      <td>4.180947</td>\n",
       "    </tr>\n",
       "  </tbody>\n",
       "</table>\n",
       "</div>"
      ],
      "text/plain": [
       "                                           每股账面价值\n",
       "2018-02-23 00:00:00+00:00 美的集团(000333)  12.255921\n",
       "                          中源协和(600645)   4.180947"
      ]
     },
     "execution_count": 10,
     "metadata": {},
     "output_type": "execute_result"
    }
   ],
   "source": [
    "def make_pipeline():\n",
    "    return Pipeline(columns={'每股账面价值': book_value_per_share()})\n",
    "\n",
    "\n",
    "result = run_pipeline(make_pipeline(), '2018-2-23', '2018-2-24')\n",
    "select_output_by(result,stock_codes=['000333','600645'])"
   ]
  },
  {
   "cell_type": "markdown",
   "metadata": {},
   "source": [
    "## `TTMSale` 尾部12个月营业总收入"
   ]
  },
  {
   "cell_type": "code",
   "execution_count": 11,
   "metadata": {
    "ExecuteTime": {
     "end_time": "2018-05-01T06:28:57.182744Z",
     "start_time": "2018-05-01T06:28:57.178951Z"
    }
   },
   "outputs": [],
   "source": [
    "from zipline.pipeline.builtin import TTMSale"
   ]
  },
  {
   "cell_type": "code",
   "execution_count": 12,
   "metadata": {
    "ExecuteTime": {
     "end_time": "2018-05-01T06:28:57.191826Z",
     "start_time": "2018-05-01T06:28:57.186594Z"
    }
   },
   "outputs": [],
   "source": [
    "def make_pipeline():\n",
    "    ts = TTMSale()\n",
    "    return Pipeline(\n",
    "        columns={\n",
    "            'TTM总收入':ts\n",
    "        }, \n",
    "    )"
   ]
  },
  {
   "cell_type": "code",
   "execution_count": 13,
   "metadata": {
    "ExecuteTime": {
     "end_time": "2018-05-01T06:28:58.953407Z",
     "start_time": "2018-05-01T06:28:57.196893Z"
    }
   },
   "outputs": [],
   "source": [
    "result = run_pipeline(make_pipeline(), '2018-2-23', '2018-2-24')"
   ]
  },
  {
   "cell_type": "code",
   "execution_count": 14,
   "metadata": {
    "ExecuteTime": {
     "end_time": "2018-05-01T06:28:58.971706Z",
     "start_time": "2018-05-01T06:28:58.955789Z"
    }
   },
   "outputs": [
    {
     "data": {
      "text/html": [
       "<div>\n",
       "<style scoped>\n",
       "    .dataframe tbody tr th:only-of-type {\n",
       "        vertical-align: middle;\n",
       "    }\n",
       "\n",
       "    .dataframe tbody tr th {\n",
       "        vertical-align: top;\n",
       "    }\n",
       "\n",
       "    .dataframe thead th {\n",
       "        text-align: right;\n",
       "    }\n",
       "</style>\n",
       "<table border=\"1\" class=\"dataframe\">\n",
       "  <thead>\n",
       "    <tr style=\"text-align: right;\">\n",
       "      <th></th>\n",
       "      <th></th>\n",
       "      <th>TTM总收入</th>\n",
       "    </tr>\n",
       "  </thead>\n",
       "  <tbody>\n",
       "    <tr>\n",
       "      <th>2018-02-23 00:00:00+00:00</th>\n",
       "      <th>中源协和(600645)</th>\n",
       "      <td>520365000.0</td>\n",
       "    </tr>\n",
       "  </tbody>\n",
       "</table>\n",
       "</div>"
      ],
      "text/plain": [
       "                                             TTM总收入\n",
       "2018-02-23 00:00:00+00:00 中源协和(600645)  520365000.0"
      ]
     },
     "execution_count": 14,
     "metadata": {},
     "output_type": "execute_result"
    }
   ],
   "source": [
    "select_output_by(result,stock_codes=['600645'])"
   ]
  },
  {
   "cell_type": "code",
   "execution_count": 15,
   "metadata": {
    "ExecuteTime": {
     "end_time": "2018-05-01T06:28:58.980760Z",
     "start_time": "2018-05-01T06:28:58.974749Z"
    }
   },
   "outputs": [
    {
     "name": "stdout",
     "output_type": "stream",
     "text": [
      "预测与实际差异率=-3.67%\n"
     ]
    }
   ],
   "source": [
    "pred = 8.389142e+08\n",
    "actu = 87091 * 10000\n",
    "diff = pred / actu - 1\n",
    "\n",
    "print('预测与实际差异率={}%'.format(round(diff * 100,2)))"
   ]
  },
  {
   "cell_type": "code",
   "execution_count": 16,
   "metadata": {
    "ExecuteTime": {
     "end_time": "2018-05-01T06:28:58.996835Z",
     "start_time": "2018-05-01T06:28:58.983957Z"
    }
   },
   "outputs": [
    {
     "data": {
      "text/html": [
       "<div>\n",
       "<style scoped>\n",
       "    .dataframe tbody tr th:only-of-type {\n",
       "        vertical-align: middle;\n",
       "    }\n",
       "\n",
       "    .dataframe tbody tr th {\n",
       "        vertical-align: top;\n",
       "    }\n",
       "\n",
       "    .dataframe thead th {\n",
       "        text-align: right;\n",
       "    }\n",
       "</style>\n",
       "<table border=\"1\" class=\"dataframe\">\n",
       "  <thead>\n",
       "    <tr style=\"text-align: right;\">\n",
       "      <th></th>\n",
       "      <th></th>\n",
       "      <th>TTM总收入</th>\n",
       "    </tr>\n",
       "  </thead>\n",
       "  <tbody>\n",
       "    <tr>\n",
       "      <th>2018-02-23 00:00:00+00:00</th>\n",
       "      <th>美的集团(000333)</th>\n",
       "      <td>2.607600e+11</td>\n",
       "    </tr>\n",
       "  </tbody>\n",
       "</table>\n",
       "</div>"
      ],
      "text/plain": [
       "                                              TTM总收入\n",
       "2018-02-23 00:00:00+00:00 美的集团(000333)  2.607600e+11"
      ]
     },
     "execution_count": 16,
     "metadata": {},
     "output_type": "execute_result"
    }
   ],
   "source": [
    "select_output_by(result,stock_codes=['000333'])"
   ]
  },
  {
   "cell_type": "code",
   "execution_count": 17,
   "metadata": {
    "ExecuteTime": {
     "end_time": "2018-05-01T06:28:59.004577Z",
     "start_time": "2018-05-01T06:28:58.999960Z"
    }
   },
   "outputs": [
    {
     "name": "stdout",
     "output_type": "stream",
     "text": [
      "预测与实际差异率=1.5%\n"
     ]
    }
   ],
   "source": [
    "pred = 2.455383e+11\n",
    "actu = 24191890 * 10000\n",
    "diff = pred / actu - 1\n",
    "\n",
    "print('预测与实际差异率={}%'.format(round(diff * 100,2)))"
   ]
  },
  {
   "cell_type": "markdown",
   "metadata": {},
   "source": [
    "## `TTMDividend` & `trailing_dividend_yield`\n",
    "+ 尾部12个月股利及股利率"
   ]
  },
  {
   "cell_type": "code",
   "execution_count": 18,
   "metadata": {
    "ExecuteTime": {
     "end_time": "2018-05-01T06:28:59.011447Z",
     "start_time": "2018-05-01T06:28:59.007780Z"
    }
   },
   "outputs": [],
   "source": [
    "from zipline.pipeline.data import USEquityPricing\n",
    "from zipline.pipeline.fundamentals import Fundamentals\n",
    "from zipline.pipeline.builtin import TTMDividend, trailing_dividend_yield"
   ]
  },
  {
   "cell_type": "code",
   "execution_count": 19,
   "metadata": {
    "ExecuteTime": {
     "end_time": "2018-05-01T06:28:59.019381Z",
     "start_time": "2018-05-01T06:28:59.014057Z"
    }
   },
   "outputs": [],
   "source": [
    "def make_pipeline():\n",
    "    return Pipeline(\n",
    "        columns={\n",
    "            '每股股利': Fundamentals.dividend.amount.latest,\n",
    "            '登记日期': Fundamentals.dividend.asof_date.latest,\n",
    "            '收盘价': USEquityPricing.close.latest,\n",
    "            'TTM股利': TTMDividend(),\n",
    "            'TTM每股股利收益率': trailing_dividend_yield()\n",
    "        })"
   ]
  },
  {
   "cell_type": "code",
   "execution_count": 20,
   "metadata": {
    "ExecuteTime": {
     "end_time": "2018-05-01T06:28:59.781560Z",
     "start_time": "2018-05-01T06:28:59.022256Z"
    }
   },
   "outputs": [],
   "source": [
    "result = run_pipeline(make_pipeline(), '2017-5-8', '2017-5-12')"
   ]
  },
  {
   "cell_type": "code",
   "execution_count": 21,
   "metadata": {
    "ExecuteTime": {
     "end_time": "2018-05-01T06:28:59.818379Z",
     "start_time": "2018-05-01T06:28:59.783410Z"
    }
   },
   "outputs": [
    {
     "data": {
      "text/html": [
       "<div>\n",
       "<style scoped>\n",
       "    .dataframe tbody tr th:only-of-type {\n",
       "        vertical-align: middle;\n",
       "    }\n",
       "\n",
       "    .dataframe tbody tr th {\n",
       "        vertical-align: top;\n",
       "    }\n",
       "\n",
       "    .dataframe thead th {\n",
       "        text-align: right;\n",
       "    }\n",
       "</style>\n",
       "<table border=\"1\" class=\"dataframe\">\n",
       "  <thead>\n",
       "    <tr style=\"text-align: right;\">\n",
       "      <th></th>\n",
       "      <th></th>\n",
       "      <th>TTM每股股利收益率</th>\n",
       "      <th>TTM股利</th>\n",
       "      <th>收盘价</th>\n",
       "      <th>每股股利</th>\n",
       "      <th>登记日期</th>\n",
       "    </tr>\n",
       "  </thead>\n",
       "  <tbody>\n",
       "    <tr>\n",
       "      <th>2017-05-08 00:00:00+00:00</th>\n",
       "      <th>美的集团(000333)</th>\n",
       "      <td>0.030429</td>\n",
       "      <td>1.1</td>\n",
       "      <td>36.15</td>\n",
       "      <td>1.2</td>\n",
       "      <td>2016-05-05</td>\n",
       "    </tr>\n",
       "    <tr>\n",
       "      <th>2017-05-09 00:00:00+00:00</th>\n",
       "      <th>美的集团(000333)</th>\n",
       "      <td>0.030830</td>\n",
       "      <td>1.1</td>\n",
       "      <td>35.68</td>\n",
       "      <td>1.2</td>\n",
       "      <td>2016-05-05</td>\n",
       "    </tr>\n",
       "    <tr>\n",
       "      <th>2017-05-10 00:00:00+00:00</th>\n",
       "      <th>美的集团(000333)</th>\n",
       "      <td>0.032070</td>\n",
       "      <td>1.1</td>\n",
       "      <td>34.30</td>\n",
       "      <td>1.0</td>\n",
       "      <td>2017-05-09</td>\n",
       "    </tr>\n",
       "    <tr>\n",
       "      <th>2017-05-11 00:00:00+00:00</th>\n",
       "      <th>美的集团(000333)</th>\n",
       "      <td>0.031294</td>\n",
       "      <td>1.1</td>\n",
       "      <td>35.15</td>\n",
       "      <td>1.0</td>\n",
       "      <td>2017-05-09</td>\n",
       "    </tr>\n",
       "    <tr>\n",
       "      <th>2017-05-12 00:00:00+00:00</th>\n",
       "      <th>美的集团(000333)</th>\n",
       "      <td>0.030709</td>\n",
       "      <td>1.1</td>\n",
       "      <td>35.82</td>\n",
       "      <td>1.0</td>\n",
       "      <td>2017-05-09</td>\n",
       "    </tr>\n",
       "  </tbody>\n",
       "</table>\n",
       "</div>"
      ],
      "text/plain": [
       "                                        TTM每股股利收益率  TTM股利    收盘价  每股股利  \\\n",
       "2017-05-08 00:00:00+00:00 美的集团(000333)    0.030429    1.1  36.15   1.2   \n",
       "2017-05-09 00:00:00+00:00 美的集团(000333)    0.030830    1.1  35.68   1.2   \n",
       "2017-05-10 00:00:00+00:00 美的集团(000333)    0.032070    1.1  34.30   1.0   \n",
       "2017-05-11 00:00:00+00:00 美的集团(000333)    0.031294    1.1  35.15   1.0   \n",
       "2017-05-12 00:00:00+00:00 美的集团(000333)    0.030709    1.1  35.82   1.0   \n",
       "\n",
       "                                             登记日期  \n",
       "2017-05-08 00:00:00+00:00 美的集团(000333) 2016-05-05  \n",
       "2017-05-09 00:00:00+00:00 美的集团(000333) 2016-05-05  \n",
       "2017-05-10 00:00:00+00:00 美的集团(000333) 2017-05-09  \n",
       "2017-05-11 00:00:00+00:00 美的集团(000333) 2017-05-09  \n",
       "2017-05-12 00:00:00+00:00 美的集团(000333) 2017-05-09  "
      ]
     },
     "execution_count": 21,
     "metadata": {},
     "output_type": "execute_result"
    }
   ],
   "source": [
    "select_output_by(result,stock_codes=['000333'])"
   ]
  },
  {
   "cell_type": "markdown",
   "metadata": {},
   "source": [
    "## `earning_yield`"
   ]
  },
  {
   "cell_type": "code",
   "execution_count": 22,
   "metadata": {
    "ExecuteTime": {
     "end_time": "2018-05-01T06:28:59.832065Z",
     "start_time": "2018-05-01T06:28:59.821773Z"
    }
   },
   "outputs": [],
   "source": [
    "from zipline.pipeline.builtin import earning_yield"
   ]
  },
  {
   "cell_type": "code",
   "execution_count": 23,
   "metadata": {
    "ExecuteTime": {
     "end_time": "2018-05-01T06:28:59.842753Z",
     "start_time": "2018-05-01T06:28:59.836228Z"
    }
   },
   "outputs": [],
   "source": [
    "def make_pipeline():\n",
    "    return Pipeline(\n",
    "        columns={\n",
    "            '稀释EPS': Fundamentals.profit_statement.A045.latest,\n",
    "            '收盘价': USEquityPricing.close.latest,\n",
    "            '稀释每股收益率': earning_yield(),\n",
    "        })"
   ]
  },
  {
   "cell_type": "code",
   "execution_count": 24,
   "metadata": {
    "ExecuteTime": {
     "end_time": "2018-05-01T06:29:00.376348Z",
     "start_time": "2018-05-01T06:28:59.845653Z"
    }
   },
   "outputs": [
    {
     "data": {
      "text/html": [
       "<div>\n",
       "<style scoped>\n",
       "    .dataframe tbody tr th:only-of-type {\n",
       "        vertical-align: middle;\n",
       "    }\n",
       "\n",
       "    .dataframe tbody tr th {\n",
       "        vertical-align: top;\n",
       "    }\n",
       "\n",
       "    .dataframe thead th {\n",
       "        text-align: right;\n",
       "    }\n",
       "</style>\n",
       "<table border=\"1\" class=\"dataframe\">\n",
       "  <thead>\n",
       "    <tr style=\"text-align: right;\">\n",
       "      <th></th>\n",
       "      <th></th>\n",
       "      <th>收盘价</th>\n",
       "      <th>稀释EPS</th>\n",
       "      <th>稀释每股收益率</th>\n",
       "    </tr>\n",
       "  </thead>\n",
       "  <tbody>\n",
       "    <tr>\n",
       "      <th>2017-05-08 00:00:00+00:00</th>\n",
       "      <th>美的集团(000333)</th>\n",
       "      <td>36.15</td>\n",
       "      <td>0.67</td>\n",
       "      <td>0.018534</td>\n",
       "    </tr>\n",
       "    <tr>\n",
       "      <th>2017-05-09 00:00:00+00:00</th>\n",
       "      <th>美的集团(000333)</th>\n",
       "      <td>35.68</td>\n",
       "      <td>0.67</td>\n",
       "      <td>0.018778</td>\n",
       "    </tr>\n",
       "    <tr>\n",
       "      <th>2017-05-10 00:00:00+00:00</th>\n",
       "      <th>美的集团(000333)</th>\n",
       "      <td>34.30</td>\n",
       "      <td>0.67</td>\n",
       "      <td>0.019534</td>\n",
       "    </tr>\n",
       "    <tr>\n",
       "      <th>2017-05-11 00:00:00+00:00</th>\n",
       "      <th>美的集团(000333)</th>\n",
       "      <td>35.15</td>\n",
       "      <td>0.67</td>\n",
       "      <td>0.019061</td>\n",
       "    </tr>\n",
       "    <tr>\n",
       "      <th>2017-05-12 00:00:00+00:00</th>\n",
       "      <th>美的集团(000333)</th>\n",
       "      <td>35.82</td>\n",
       "      <td>0.67</td>\n",
       "      <td>0.018705</td>\n",
       "    </tr>\n",
       "  </tbody>\n",
       "</table>\n",
       "</div>"
      ],
      "text/plain": [
       "                                          收盘价  稀释EPS   稀释每股收益率\n",
       "2017-05-08 00:00:00+00:00 美的集团(000333)  36.15   0.67  0.018534\n",
       "2017-05-09 00:00:00+00:00 美的集团(000333)  35.68   0.67  0.018778\n",
       "2017-05-10 00:00:00+00:00 美的集团(000333)  34.30   0.67  0.019534\n",
       "2017-05-11 00:00:00+00:00 美的集团(000333)  35.15   0.67  0.019061\n",
       "2017-05-12 00:00:00+00:00 美的集团(000333)  35.82   0.67  0.018705"
      ]
     },
     "execution_count": 24,
     "metadata": {},
     "output_type": "execute_result"
    }
   ],
   "source": [
    "result = run_pipeline(make_pipeline(), '2017-5-8', '2017-5-12')\n",
    "select_output_by(result,stock_codes=['000333'])"
   ]
  }
 ],
 "metadata": {
  "kernelspec": {
   "display_name": "zipline",
   "language": "python",
   "name": "zipline"
  },
  "language_info": {
   "codemirror_mode": {
    "name": "ipython",
    "version": 3
   },
   "file_extension": ".py",
   "mimetype": "text/x-python",
   "name": "python",
   "nbconvert_exporter": "python",
   "pygments_lexer": "ipython3",
   "version": "3.6.5"
  },
  "toc": {
   "base_numbering": 1,
   "nav_menu": {},
   "number_sections": true,
   "sideBar": true,
   "skip_h1_title": false,
   "title_cell": "Table of Contents",
   "title_sidebar": "Contents",
   "toc_cell": false,
   "toc_position": {
    "height": "calc(100% - 180px)",
    "left": "10px",
    "top": "150px",
    "width": "260px"
   },
   "toc_section_display": true,
   "toc_window_display": true
  }
 },
 "nbformat": 4,
 "nbformat_minor": 2
}
