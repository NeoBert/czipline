{
 "cells": [
  {
   "cell_type": "markdown",
   "metadata": {
    "ExecuteTime": {
     "end_time": "2018-05-13T21:04:32.319227Z",
     "start_time": "2018-05-13T21:04:32.315873Z"
    }
   },
   "source": [
    "### `pipeline`"
   ]
  },
  {
   "cell_type": "raw",
   "metadata": {
    "ExecuteTime": {
     "end_time": "2018-05-13T21:05:08.384238Z",
     "start_time": "2018-05-13T21:05:05.254981Z"
    }
   },
   "source": [
    "# 如果没有转换，使用下列命令准备`pipeline`数据\n",
    "! sql-to-bcolz"
   ]
  },
  {
   "cell_type": "code",
   "execution_count": 1,
   "metadata": {
    "ExecuteTime": {
     "end_time": "2018-05-14T00:03:14.279120Z",
     "start_time": "2018-05-14T00:03:12.155477Z"
    }
   },
   "outputs": [],
   "source": [
    "from zipline.pipeline.data import USEquityPricing\n",
    "from zipline.pipeline.factors import SimpleMovingAverage\n",
    "from zipline.pipeline import Pipeline"
   ]
  },
  {
   "cell_type": "code",
   "execution_count": 2,
   "metadata": {
    "ExecuteTime": {
     "end_time": "2018-05-14T00:03:15.524780Z",
     "start_time": "2018-05-14T00:03:14.282856Z"
    }
   },
   "outputs": [],
   "source": [
    "# 研究环境下使用run_pipeline简化\n",
    "from zipline.research import run_pipeline"
   ]
  },
  {
   "cell_type": "code",
   "execution_count": 3,
   "metadata": {
    "ExecuteTime": {
     "end_time": "2018-05-14T00:03:15.537133Z",
     "start_time": "2018-05-14T00:03:15.527159Z"
    }
   },
   "outputs": [],
   "source": [
    "def make_pipeline():\n",
    "    mean_volume_10 = SimpleMovingAverage(\n",
    "        inputs=[USEquityPricing.volume], window_length=10)\n",
    "    mean_close_10 = SimpleMovingAverage(\n",
    "        inputs=[USEquityPricing.close], window_length=10)\n",
    "    mean_cmv_10 = SimpleMovingAverage(\n",
    "        inputs=[USEquityPricing.cmv], window_length=10)\n",
    "\n",
    "    return Pipeline(\n",
    "        columns={\n",
    "            '10日平均成交股数': mean_volume_10,\n",
    "            '10日平均收盘价格': mean_close_10,\n",
    "            '10日平均流通市值': mean_cmv_10\n",
    "        })"
   ]
  },
  {
   "cell_type": "code",
   "execution_count": 4,
   "metadata": {
    "ExecuteTime": {
     "end_time": "2018-05-14T00:03:16.626250Z",
     "start_time": "2018-05-14T00:03:15.539906Z"
    }
   },
   "outputs": [
    {
     "data": {
      "text/html": [
       "<div>\n",
       "<style scoped>\n",
       "    .dataframe tbody tr th:only-of-type {\n",
       "        vertical-align: middle;\n",
       "    }\n",
       "\n",
       "    .dataframe tbody tr th {\n",
       "        vertical-align: top;\n",
       "    }\n",
       "\n",
       "    .dataframe thead th {\n",
       "        text-align: right;\n",
       "    }\n",
       "</style>\n",
       "<table border=\"1\" class=\"dataframe\">\n",
       "  <thead>\n",
       "    <tr style=\"text-align: right;\">\n",
       "      <th></th>\n",
       "      <th></th>\n",
       "      <th>10日平均成交股数</th>\n",
       "      <th>10日平均收盘价格</th>\n",
       "      <th>10日平均流通市值</th>\n",
       "    </tr>\n",
       "  </thead>\n",
       "  <tbody>\n",
       "    <tr>\n",
       "      <th rowspan=\"5\" valign=\"top\">2018-04-10 00:00:00+00:00</th>\n",
       "      <th>平安银行(000001)</th>\n",
       "      <td>121718000.0</td>\n",
       "      <td>10.921</td>\n",
       "      <td>1.847615e+11</td>\n",
       "    </tr>\n",
       "    <tr>\n",
       "      <th>万 科Ａ(000002)</th>\n",
       "      <td>54472000.0</td>\n",
       "      <td>32.275</td>\n",
       "      <td>3.138484e+11</td>\n",
       "    </tr>\n",
       "    <tr>\n",
       "      <th>国农科技(000004)</th>\n",
       "      <td>687000.0</td>\n",
       "      <td>22.811</td>\n",
       "      <td>1.914446e+09</td>\n",
       "    </tr>\n",
       "    <tr>\n",
       "      <th>世纪星源(000005)</th>\n",
       "      <td>7220000.0</td>\n",
       "      <td>3.790</td>\n",
       "      <td>3.605128e+09</td>\n",
       "    </tr>\n",
       "    <tr>\n",
       "      <th>深振业Ａ(000006)</th>\n",
       "      <td>22180000.0</td>\n",
       "      <td>7.247</td>\n",
       "      <td>9.783410e+09</td>\n",
       "    </tr>\n",
       "  </tbody>\n",
       "</table>\n",
       "</div>"
      ],
      "text/plain": [
       "                                          10日平均成交股数  10日平均收盘价格     10日平均流通市值\n",
       "2018-04-10 00:00:00+00:00 平安银行(000001)  121718000.0     10.921  1.847615e+11\n",
       "                          万 科Ａ(000002)   54472000.0     32.275  3.138484e+11\n",
       "                          国农科技(000004)     687000.0     22.811  1.914446e+09\n",
       "                          世纪星源(000005)    7220000.0      3.790  3.605128e+09\n",
       "                          深振业Ａ(000006)   22180000.0      7.247  9.783410e+09"
      ]
     },
     "execution_count": 4,
     "metadata": {},
     "output_type": "execute_result"
    }
   ],
   "source": [
    "result = run_pipeline(make_pipeline(), '2018-04-10', '2018-04-10')\n",
    "result.head()"
   ]
  }
 ],
 "metadata": {
  "kernelspec": {
   "display_name": "zipline",
   "language": "python",
   "name": "zipline"
  },
  "language_info": {
   "codemirror_mode": {
    "name": "ipython",
    "version": 3
   },
   "file_extension": ".py",
   "mimetype": "text/x-python",
   "name": "python",
   "nbconvert_exporter": "python",
   "pygments_lexer": "ipython3",
   "version": "3.6.5"
  },
  "toc": {
   "base_numbering": 1,
   "nav_menu": {},
   "number_sections": false,
   "sideBar": true,
   "skip_h1_title": false,
   "title_cell": "Table of Contents",
   "title_sidebar": "Contents",
   "toc_cell": false,
   "toc_position": {},
   "toc_section_display": true,
   "toc_window_display": true
  }
 },
 "nbformat": 4,
 "nbformat_minor": 2
}
