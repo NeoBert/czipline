{
 "cells": [
  {
   "cell_type": "code",
   "execution_count": 1,
   "metadata": {
    "ExecuteTime": {
     "end_time": "2018-04-29T01:49:37.066965Z",
     "start_time": "2018-04-29T01:49:34.145100Z"
    }
   },
   "outputs": [],
   "source": [
    "from zipline.pipeline.fundamentals.reader import Fundamentals\n",
    "from zipline.pipeline.builtin import TradingDays,QTradableStocks\n",
    "from zipline.research import run_pipeline, select_output_by\n",
    "from zipline.pipeline import Pipeline\n",
    "from zipline.pipeline.data import USEquityPricing\n",
    "from zipline.pipeline.factors import SimpleMovingAverage"
   ]
  },
  {
   "cell_type": "code",
   "execution_count": null,
   "metadata": {
    "ExecuteTime": {
     "end_time": "2018-04-29T01:24:53.473419Z",
     "start_time": "2018-04-29T01:24:53.466468Z"
    }
   },
   "outputs": [],
   "source": [
    "from zipline.pipeline.builtin import market_cap,market_cap_2,shares_outstanding,shares_outstanding_2"
   ]
  },
  {
   "cell_type": "code",
   "execution_count": null,
   "metadata": {
    "ExecuteTime": {
     "end_time": "2018-04-29T01:24:53.480550Z",
     "start_time": "2018-04-29T01:24:53.476864Z"
    }
   },
   "outputs": [],
   "source": [
    "from zipline.pipeline.factors import DailyReturns"
   ]
  },
  {
   "cell_type": "code",
   "execution_count": null,
   "metadata": {
    "ExecuteTime": {
     "end_time": "2018-04-29T01:31:27.792030Z",
     "start_time": "2018-04-29T01:31:27.778526Z"
    }
   },
   "outputs": [],
   "source": [
    "def make_pipeline():\n",
    "    #td = TTMDividend()\n",
    "    return Pipeline(\n",
    "        columns={\n",
    "            '市值': market_cap(),\n",
    "            '流通市值': market_cap_2(),\n",
    "            '收盘价': USEquityPricing.close.latest,\n",
    "            '总股本':shares_outstanding(),\n",
    "            '流通股本': shares_outstanding_2(),\n",
    "            '计算_总股本':market_cap()/USEquityPricing.close.latest,\n",
    "            '计算_流通股本':market_cap_2()/USEquityPricing.close.latest,\n",
    "        })"
   ]
  },
  {
   "cell_type": "code",
   "execution_count": null,
   "metadata": {
    "ExecuteTime": {
     "end_time": "2018-04-29T01:33:13.937467Z",
     "start_time": "2018-04-29T01:33:12.972521Z"
    }
   },
   "outputs": [],
   "source": [
    "result = run_pipeline(make_pipeline(), '2016-5-5', '2016-5-12')"
   ]
  },
  {
   "cell_type": "code",
   "execution_count": null,
   "metadata": {
    "ExecuteTime": {
     "end_time": "2018-04-29T01:33:13.973908Z",
     "start_time": "2018-04-29T01:33:13.940767Z"
    }
   },
   "outputs": [],
   "source": [
    "select_output_by(result,stock_codes=['000333'])"
   ]
  },
  {
   "cell_type": "code",
   "execution_count": null,
   "metadata": {
    "ExecuteTime": {
     "end_time": "2018-04-28T07:17:41.683960Z",
     "start_time": "2018-04-28T07:17:41.662635Z"
    }
   },
   "outputs": [],
   "source": []
  },
  {
   "cell_type": "code",
   "execution_count": null,
   "metadata": {
    "ExecuteTime": {
     "end_time": "2018-04-28T07:19:48.405981Z",
     "start_time": "2018-04-28T07:19:48.398630Z"
    }
   },
   "outputs": [],
   "source": [
    "from zipline.pipeline.fundamentals.base import STOCK_DB\n",
    "from odo import odo\n",
    "import pandas as pd"
   ]
  },
  {
   "cell_type": "code",
   "execution_count": null,
   "metadata": {
    "ExecuteTime": {
     "end_time": "2018-04-28T07:20:19.763606Z",
     "start_time": "2018-04-28T07:20:19.347225Z"
    }
   },
   "outputs": [],
   "source": [
    "df = odo(STOCK_DB.adjustments, pd.DataFrame)"
   ]
  },
  {
   "cell_type": "code",
   "execution_count": null,
   "metadata": {
    "ExecuteTime": {
     "end_time": "2018-04-28T07:20:33.493736Z",
     "start_time": "2018-04-28T07:20:33.455419Z"
    }
   },
   "outputs": [],
   "source": [
    "df[df['股票代码']=='000333']"
   ]
  },
  {
   "cell_type": "code",
   "execution_count": null,
   "metadata": {
    "ExecuteTime": {
     "end_time": "2018-04-28T05:07:00.526527Z",
     "start_time": "2018-04-28T05:07:00.519222Z"
    }
   },
   "outputs": [],
   "source": [
    "import numpy as np"
   ]
  },
  {
   "cell_type": "code",
   "execution_count": null,
   "metadata": {
    "ExecuteTime": {
     "end_time": "2018-04-28T05:07:00.535037Z",
     "start_time": "2018-04-28T05:07:00.529284Z"
    }
   },
   "outputs": [],
   "source": [
    "def make_pipeline():\n",
    "\n",
    "    income = Fundamentals.profit_statement.A001.latest\n",
    "    return Pipeline(\n",
    "        columns={\n",
    "            '营业总收入':income\n",
    "        }, \n",
    "    )"
   ]
  },
  {
   "cell_type": "code",
   "execution_count": null,
   "metadata": {
    "ExecuteTime": {
     "end_time": "2018-04-28T05:07:01.103604Z",
     "start_time": "2018-04-28T05:07:00.540016Z"
    }
   },
   "outputs": [],
   "source": [
    "result = run_pipeline(make_pipeline(), '2018-4-2', '2018-4-23')"
   ]
  },
  {
   "cell_type": "code",
   "execution_count": null,
   "metadata": {
    "ExecuteTime": {
     "end_time": "2018-04-28T05:07:01.137622Z",
     "start_time": "2018-04-28T05:07:01.107893Z"
    }
   },
   "outputs": [],
   "source": [
    "select_output_by(result,stock_codes=['000333'])"
   ]
  },
  {
   "cell_type": "code",
   "execution_count": null,
   "metadata": {
    "ExecuteTime": {
     "end_time": "2018-04-28T23:45:57.913732Z",
     "start_time": "2018-04-28T23:45:55.796311Z"
    }
   },
   "outputs": [],
   "source": [
    "from zipline.pipeline.fundamentals.base import STOCK_DB\n",
    "from odo import odo\n",
    "import pandas as pd\n",
    "import numpy as np"
   ]
  },
  {
   "cell_type": "code",
   "execution_count": null,
   "metadata": {
    "ExecuteTime": {
     "end_time": "2018-04-28T07:35:48.790344Z",
     "start_time": "2018-04-28T07:35:48.783894Z"
    }
   },
   "outputs": [],
   "source": [
    "df = odo(STOCK_DB.stock_dailies)"
   ]
  }
 ],
 "metadata": {
  "kernelspec": {
   "display_name": "zipline",
   "language": "python",
   "name": "zipline"
  },
  "language_info": {
   "codemirror_mode": {
    "name": "ipython",
    "version": 3
   },
   "file_extension": ".py",
   "mimetype": "text/x-python",
   "name": "python",
   "nbconvert_exporter": "python",
   "pygments_lexer": "ipython3",
   "version": "3.6.5"
  },
  "toc": {
   "base_numbering": 1,
   "nav_menu": {},
   "number_sections": true,
   "sideBar": true,
   "skip_h1_title": false,
   "title_cell": "Table of Contents",
   "title_sidebar": "Contents",
   "toc_cell": false,
   "toc_position": {},
   "toc_section_display": true,
   "toc_window_display": false
  }
 },
 "nbformat": 4,
 "nbformat_minor": 2
}
