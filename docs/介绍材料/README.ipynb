{
 "cells": [
  {
   "cell_type": "markdown",
   "metadata": {},
   "source": [
    "![Zipline](https://media.quantopian.com/logos/open_source/zipline-logo-03_.png)"
   ]
  },
  {
   "cell_type": "markdown",
   "metadata": {},
   "source": [
    "Zipline是QUANTOPIAN开发的算法交易库。这是一个事件驱动，支持回测和实时交易的系统。\n",
    "Zipline目前有一个免费的[回测平台](https://www.quantopian.com)，可以很方便编写交易策略和执行回测。为处理A股数据，增加或修改基础数据相关部分，用于本机策略回测分析。"
   ]
  },
  {
   "cell_type": "markdown",
   "metadata": {},
   "source": [
    "## 功能"
   ]
  },
  {
   "cell_type": "markdown",
   "metadata": {},
   "source": [
    "### 新增`USEquityPricing`数据列"
   ]
  },
  {
   "cell_type": "markdown",
   "metadata": {},
   "source": [
    "+ `prev_close` 前收盘\n",
    "+ `turnover` 换手率\n",
    "+ `amount` 成交额\n",
    "+ `tmv` 总市值\n",
    "+ `cmv` 流通市值\n",
    "+ `circulating_share` 流通股本\n",
    "+ `total_share` 总股本\n",
    "\n",
    "**注意** 以上数据不会因股票分红派息而调整"
   ]
  },
  {
   "cell_type": "markdown",
   "metadata": {},
   "source": [
    "### 新增`Fundamentals`数据容器"
   ]
  },
  {
   "cell_type": "markdown",
   "metadata": {},
   "source": [
    "`Fundamentals`是用于`pipeline`的数据集容器，包括偶发性变化及固定信息数据，如上市日期、行业分类、所属概念、财务数据等信息。"
   ]
  },
  {
   "cell_type": "markdown",
   "metadata": {},
   "source": [
    "### 提供后台自动提取、转换数据脚本"
   ]
  },
  {
   "cell_type": "markdown",
   "metadata": {
    "ExecuteTime": {
     "end_time": "2018-04-29T09:37:53.562138Z",
     "start_time": "2018-04-29T09:37:53.557926Z"
    }
   },
   "source": [
    "通过定时后台计划任务，自动提取回测所需网络数据，并转换为符合`zipline`需求的数据格式，可以更加专注于编写策略及相关分析。"
   ]
  },
  {
   "cell_type": "markdown",
   "metadata": {},
   "source": [
    "## 安装"
   ]
  },
  {
   "cell_type": "markdown",
   "metadata": {
    "ExecuteTime": {
     "end_time": "2018-04-29T09:39:19.189800Z",
     "start_time": "2018-04-29T09:39:19.186564Z"
    }
   },
   "source": [
    "### 克隆"
   ]
  },
  {
   "cell_type": "raw",
   "metadata": {},
   "source": [
    "$ git clone https://github.com/liudengfeng/czipline.git"
   ]
  },
  {
   "cell_type": "markdown",
   "metadata": {},
   "source": [
    "### 安装包"
   ]
  },
  {
   "cell_type": "raw",
   "metadata": {},
   "source": [
    "# 转移至项目安装文件所在目录\n",
    "$ pip install -r ./etc/requirements.txt\n",
    "$ pip install -r ./etc/requirements_add.txt\n",
    "\n",
    "# 下载并安装ta-lib包"
   ]
  },
  {
   "cell_type": "markdown",
   "metadata": {},
   "source": [
    "### 编译`C`扩展库"
   ]
  },
  {
   "cell_type": "raw",
   "metadata": {},
   "source": [
    "$ python setup.py build_ext --inplace"
   ]
  },
  {
   "cell_type": "markdown",
   "metadata": {},
   "source": [
    "### 安装`zipline`"
   ]
  },
  {
   "cell_type": "raw",
   "metadata": {},
   "source": [
    "$ python setup.py install\n",
    "$ # 如需开发安装\n",
    "$ python setup.py develop"
   ]
  },
  {
   "cell_type": "markdown",
   "metadata": {},
   "source": [
    "## 准备数据"
   ]
  },
  {
   "cell_type": "markdown",
   "metadata": {},
   "source": [
    "成功安装`zipline`后，`cswd`包也已经成功安装。在相应环境下，执行以下命令：\n",
    "\n",
    ">$ init-stock-data # 初始化基础数据。首次耗时大约4小时，以后每日后台自动刷新约半小时\n",
    "\n",
    ">$ zipline ingest -b cndaily # 转换日线数据，耗时约10分钟\n",
    "\n",
    ">$ sql-to-bcolz # `Fundamentals`数据，耗时约1.5分钟"
   ]
  },
  {
   "cell_type": "markdown",
   "metadata": {},
   "source": [
    "## 使用"
   ]
  },
  {
   "cell_type": "markdown",
   "metadata": {},
   "source": [
    "## 参考配置"
   ]
  },
  {
   "cell_type": "markdown",
   "metadata": {},
   "source": [
    "![系统](./sys.png)"
   ]
  },
  {
   "cell_type": "markdown",
   "metadata": {},
   "source": [
    "+ Ubuntu 17.10\n",
    "+ Anaconda \n",
    "+ python 3.6"
   ]
  },
  {
   "cell_type": "markdown",
   "metadata": {},
   "source": [
    "## 交流"
   ]
  },
  {
   "cell_type": "markdown",
   "metadata": {},
   "source": [
    "该项目纯属个人爱好，专业水平有限。欢迎加入来一起完善。"
   ]
  },
  {
   "cell_type": "markdown",
   "metadata": {},
   "source": [
    "![联系方式](./ldf.png)"
   ]
  },
  {
   "cell_type": "code",
   "execution_count": null,
   "metadata": {},
   "outputs": [],
   "source": []
  }
 ],
 "metadata": {
  "kernelspec": {
   "display_name": "zipline",
   "language": "python",
   "name": "zipline"
  },
  "language_info": {
   "codemirror_mode": {
    "name": "ipython",
    "version": 3
   },
   "file_extension": ".py",
   "mimetype": "text/x-python",
   "name": "python",
   "nbconvert_exporter": "python",
   "pygments_lexer": "ipython3",
   "version": "3.6.5"
  },
  "toc": {
   "base_numbering": 1,
   "nav_menu": {},
   "number_sections": false,
   "sideBar": true,
   "skip_h1_title": false,
   "title_cell": "Table of Contents",
   "title_sidebar": "Contents",
   "toc_cell": false,
   "toc_position": {
    "height": "calc(100% - 180px)",
    "left": "10px",
    "top": "150px",
    "width": "260px"
   },
   "toc_section_display": true,
   "toc_window_display": true
  }
 },
 "nbformat": 4,
 "nbformat_minor": 2
}
