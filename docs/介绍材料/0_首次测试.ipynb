{
 "cells": [
  {
   "cell_type": "code",
   "execution_count": 1,
   "metadata": {
    "ExecuteTime": {
     "end_time": "2018-05-13T20:57:40.659208Z",
     "start_time": "2018-05-13T20:57:38.730332Z"
    }
   },
   "outputs": [],
   "source": [
    "from zipline import get_calendar"
   ]
  },
  {
   "cell_type": "code",
   "execution_count": 2,
   "metadata": {
    "ExecuteTime": {
     "end_time": "2018-05-13T20:57:41.235067Z",
     "start_time": "2018-05-13T20:57:40.662444Z"
    }
   },
   "outputs": [],
   "source": [
    "c = get_calendar('SZSH')"
   ]
  },
  {
   "cell_type": "code",
   "execution_count": 3,
   "metadata": {
    "ExecuteTime": {
     "end_time": "2018-05-13T20:57:41.252276Z",
     "start_time": "2018-05-13T20:57:41.237298Z"
    }
   },
   "outputs": [
    {
     "data": {
      "text/plain": [
       "Timestamp('1990-12-19 00:00:00+0000', tz='UTC', freq='C')"
      ]
     },
     "execution_count": 3,
     "metadata": {},
     "output_type": "execute_result"
    }
   ],
   "source": [
    "c.first_session"
   ]
  },
  {
   "cell_type": "code",
   "execution_count": 4,
   "metadata": {
    "ExecuteTime": {
     "end_time": "2018-05-13T20:57:41.263671Z",
     "start_time": "2018-05-13T20:57:41.254863Z"
    }
   },
   "outputs": [
    {
     "data": {
      "text/plain": [
       "Timestamp('2018-05-11 00:00:00+0000', tz='UTC', freq='C')"
      ]
     },
     "execution_count": 4,
     "metadata": {},
     "output_type": "execute_result"
    }
   ],
   "source": [
    "c.actual_last_session"
   ]
  },
  {
   "cell_type": "code",
   "execution_count": 5,
   "metadata": {
    "ExecuteTime": {
     "end_time": "2018-05-13T21:02:32.698548Z",
     "start_time": "2018-05-13T20:57:41.265895Z"
    }
   },
   "outputs": [
    {
     "name": "stdout",
     "output_type": "stream",
     "text": [
      "[2018-05-14 04:57:44.663499] INFO: cnquandl: 读取股票元数据......\n",
      "[2018-05-14 04:57:53.298385] INFO: cnquandl: 日线数据集（股票数量：3611）\n",
      "[2018-05-14 04:57:53.298583] INFO: cnquandl: 写入资产元数据\n",
      "\u001b[?25l合并股票文件：  [####################################]        \u001b[?25h\n",
      "/home/ldf/pkg_source/czipline/zipline/data/us_equity_pricing.py:954: FutureWarning: Conversion of the second argument of issubdtype from `float` to `np.floating` is deprecated. In future, it will be treated as `np.float64 == np.dtype(float).type`.\n",
      "  if not issubdtype(actual, expected):\n"
     ]
    }
   ],
   "source": [
    "# 初始化数据后，可执行命令\n",
    "\n",
    "! zipline ingest"
   ]
  }
 ],
 "metadata": {
  "kernelspec": {
   "display_name": "zipline",
   "language": "python",
   "name": "zipline"
  },
  "language_info": {
   "codemirror_mode": {
    "name": "ipython",
    "version": 3
   },
   "file_extension": ".py",
   "mimetype": "text/x-python",
   "name": "python",
   "nbconvert_exporter": "python",
   "pygments_lexer": "ipython3",
   "version": "3.6.5"
  },
  "toc": {
   "base_numbering": 1,
   "nav_menu": {},
   "number_sections": true,
   "sideBar": true,
   "skip_h1_title": false,
   "title_cell": "Table of Contents",
   "title_sidebar": "Contents",
   "toc_cell": false,
   "toc_position": {},
   "toc_section_display": true,
   "toc_window_display": false
  }
 },
 "nbformat": 4,
 "nbformat_minor": 2
}
