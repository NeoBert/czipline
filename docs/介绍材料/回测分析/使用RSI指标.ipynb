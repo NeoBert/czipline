{
 "cells": [
  {
   "cell_type": "markdown",
   "metadata": {},
   "source": [
    "本案例仅仅用于演示和测试`alphalens`包，策略本身并没有实际意义"
   ]
  },
  {
   "cell_type": "code",
   "execution_count": null,
   "metadata": {
    "ExecuteTime": {
     "end_time": "2018-05-07T04:46:59.664857Z",
     "start_time": "2018-05-07T04:46:57.077354Z"
    }
   },
   "outputs": [],
   "source": [
    "%load_ext zipline"
   ]
  },
  {
   "cell_type": "markdown",
   "metadata": {},
   "source": [
    "### 运行策略"
   ]
  },
  {
   "cell_type": "code",
   "execution_count": null,
   "metadata": {
    "ExecuteTime": {
     "end_time": "2018-05-03T21:00:25.170737Z",
     "start_time": "2018-05-03T21:00:04.055746Z"
    }
   },
   "outputs": [],
   "source": [
    "%%zipline --start 2018-1-1 --end 2018-5-2 -o result.pkl\n",
    "\n",
    "import talib\n",
    "import numpy as np\n",
    "import math\n",
    "import logbook\n",
    "\n",
    "from zipline.api import *\n",
    "from zipline.pipeline.fundamentals import Fundamentals\n",
    "from zipline.pipeline import Pipeline\n",
    "from zipline.pipeline.builtin import TopAverageAmount\n",
    "from zipline.pipeline.factors import RSI\n",
    "\n",
    "from zipline.finance import commission, slippage\n",
    "\n",
    "log = logbook.Logger('RSI')\n",
    "\n",
    "\n",
    "def make_pipeline():\n",
    "\n",
    "    return Pipeline(\n",
    "        columns={\n",
    "            'rsi': RSI(window_length=15),\n",
    "            'sector': Fundamentals.info.sector_code.latest,\n",
    "        },\n",
    "        # 只选择成交额前500位的股票\n",
    "        screen=TopAverageAmount(50))\n",
    "\n",
    "\n",
    "# Setup our variables\n",
    "def initialize(context):\n",
    "    # 设置手续费及滑点\n",
    "    set_commission(commission.PerShare(cost=0))\n",
    "    set_slippage(slippage.FixedSlippage(spread=0))\n",
    "    \n",
    "    context.max_notional = 100000\n",
    "    context.intc = sid(333)  #symbols(['000333','000002','300017'])\n",
    "    context.LOW_RSI = 30\n",
    "    context.HIGH_RSI = 70\n",
    "    attach_pipeline(make_pipeline(), 'rsi_pipeline')\n",
    "    schedule_function(rebalance, date_rules.every_day(),\n",
    "                      time_rules.market_open())\n",
    "\n",
    "\n",
    "def before_trading_start(context, data):\n",
    "    #context.output = pipeline_output('rsi_pipeline')\n",
    "    #print(context.output.head())\n",
    "    pass\n",
    "\n",
    "def rebalance(context, data):\n",
    "    # 接收pipeline输出结果\n",
    "    output = pipeline_output('rsi_pipeline')\n",
    "\n",
    "    # Get our current positions\n",
    "    positions = context.portfolio.positions\n",
    "    \n",
    "    # 信号触发可卖出和可买入的股票\n",
    "    signal_sell = output[output['rsi'] > context.HIGH_RSI].index\n",
    "    signal_buy = output[output['rsi'] < context.LOW_RSI].index\n",
    "    \n",
    "    for s in signal_sell:\n",
    "        # 存在于持有的头寸中\n",
    "        if s in positions:\n",
    "            # 清空头寸\n",
    "            order_target(s, 0)\n",
    "            # amount代表持仓数量，而非金额\n",
    "            current_intel_shares = positions[s].amount\n",
    "            log.info('RSI is at ' + str(s) + ', 卖出 ' +\n",
    "                     str(current_intel_shares) + ' shares')\n",
    "            \n",
    "    for s in signal_buy:\n",
    "        # 对于信号提示可买入，但尚未买入的股票，买入固定金额\n",
    "        if s not in positions:\n",
    "            o = order_target_value(s, context.max_notional)\n",
    "            log.info('RSI is at ' + str(s) + ', 买入 ' +\n",
    "                     str(get_order(o).amount) + ' shares')\n",
    "\n",
    "    # record the current RSI value and the current price of INTC.\n",
    "    # record(intcRSI=intc_rsi, intcPRICE=data.current(context.intc, 'close'))"
   ]
  },
  {
   "cell_type": "markdown",
   "metadata": {},
   "source": [
    "### 投资组合分析"
   ]
  },
  {
   "cell_type": "code",
   "execution_count": 1,
   "metadata": {
    "ExecuteTime": {
     "end_time": "2018-05-07T05:13:09.591095Z",
     "start_time": "2018-05-07T05:13:07.336071Z"
    }
   },
   "outputs": [
    {
     "name": "stderr",
     "output_type": "stream",
     "text": [
      "WARNING (theano.configdefaults): install mkl with `conda install mkl-service`: No module named 'mkl'\n",
      "WARNING (theano.tensor.blas): Using NumPy C-API based implementation for BLAS functions.\n",
      "/home/ldf/anaconda3/envs/zipline/lib/python3.6/site-packages/h5py/__init__.py:36: FutureWarning: Conversion of the second argument of issubdtype from `float` to `np.floating` is deprecated. In future, it will be treated as `np.float64 == np.dtype(float).type`.\n",
      "  from ._conv import register_converters as _register_converters\n"
     ]
    }
   ],
   "source": [
    "import pyfolio as pf\n",
    "import pandas as pd\n",
    "#import empyrical as ep"
   ]
  },
  {
   "cell_type": "markdown",
   "metadata": {},
   "source": [
    "#### 提取指标"
   ]
  },
  {
   "cell_type": "code",
   "execution_count": 2,
   "metadata": {
    "ExecuteTime": {
     "end_time": "2018-05-07T05:13:15.108640Z",
     "start_time": "2018-05-07T05:13:13.100316Z"
    }
   },
   "outputs": [],
   "source": [
    "results = pd.read_pickle('result.pkl')\n",
    "returns, positions, transactions = pf.utils.extract_rets_pos_txn_from_zipline(results)"
   ]
  },
  {
   "cell_type": "markdown",
   "metadata": {},
   "source": [
    "#### 单图例子\n",
    "绘制排名前5位的回撤周期"
   ]
  },
  {
   "cell_type": "code",
   "execution_count": 3,
   "metadata": {
    "ExecuteTime": {
     "end_time": "2018-05-07T05:13:19.467436Z",
     "start_time": "2018-05-07T05:13:18.929225Z"
    }
   },
   "outputs": [
    {
     "name": "stderr",
     "output_type": "stream",
     "text": [
      "/home/ldf/anaconda3/envs/zipline/lib/python3.6/site-packages/numpy/core/fromnumeric.py:52: FutureWarning: 'argmin' is deprecated. Use 'idxmin' instead. The behavior of 'argmin' will be corrected to return the positional minimum in the future. Use 'series.values.argmin' to get the position of the minimum now.\n",
      "  return getattr(obj, method)(*args, **kwds)\n"
     ]
    },
    {
     "data": {
      "text/plain": [
       "Text(0.5,0,'日期')"
      ]
     },
     "execution_count": 3,
     "metadata": {},
     "output_type": "execute_result"
    },
    {
     "data": {
      "image/png": "[encoded data removed]",
      "text/plain": [
       "<Figure size 432x288 with 1 Axes>"
      ]
     },
     "metadata": {},
     "output_type": "display_data"
    }
   ],
   "source": [
    "pf.plot_drawdown_periods(returns, top=5).set_xlabel('日期')"
   ]
  },
  {
   "cell_type": "markdown",
   "metadata": {},
   "source": [
    "#### 完整`tear sheet`(工作底稿)示例\n",
    "为算法创建一个完整的工作表。例如，将实时开始日期设置为任意值。\n",
    "\n",
    "**一般而言，`live_start_date`应设置接近回测结束日期**"
   ]
  },
  {
   "cell_type": "code",
   "execution_count": null,
   "metadata": {
    "ExecuteTime": {
     "end_time": "2018-05-04T06:31:47.289504Z",
     "start_time": "2018-05-04T06:31:09.179945Z"
    }
   },
   "outputs": [],
   "source": [
    "pf.create_full_tear_sheet(returns, positions=positions, transactions=transactions,\n",
    "                          live_start_date='2018-04-10', round_trips=True)"
   ]
  },
  {
   "cell_type": "markdown",
   "metadata": {},
   "source": [
    "### 整理及补充数据\n",
    "\n",
    "#### 使用研究模块提取数据\n",
    "+ 如果存在分红派息，自动调整期间股价\n",
    "+ 必须与回测期间相同\n",
    "\n",
    "from zipline.research import run_pipeline\n",
    "\n",
    "from zipline.pipeline.fundamentals import Fundamentals\n",
    "from zipline.pipeline import Pipeline\n",
    "from zipline.pipeline.data import USEquityPricing\n",
    "from zipline.pipeline.builtin import TopAverageAmount\n",
    "\n",
    "def make_pipeline():\n",
    "\n",
    "    return Pipeline(\n",
    "        columns={\n",
    "            'close': USEquityPricing.close.latest,\n",
    "            'sector': Fundamentals.info.sector_code.latest,\n",
    "        },\n",
    "        # 只选择成交额前500位的股票\n",
    "        screen=TopAverageAmount(500))\n",
    "\n",
    "pipe_output = run_pipeline(make_pipeline(), '2018-1-1', '2018-5-2')\n",
    "\n",
    "#### 整理数据\n",
    "\n",
    "# 价格数据必须转换为日期为Index,stock为列名称的宽表\n",
    "prices = pipe_output.unstack()['close']\n",
    "\n",
    "prices.head()\n",
    "\n",
    "factors = pipe_output['sector']\n",
    "# 行业分类因子期间内不会改变，类型为整数\n",
    "factors.fillna(method='bfill',inplace=True)\n",
    "factors.fillna(method='ffill',inplace=True)\n",
    "factors = factors.astype('int64')\n",
    "\n",
    "factors.head()"
   ]
  },
  {
   "cell_type": "markdown",
   "metadata": {},
   "source": [
    "### 因子分析"
   ]
  },
  {
   "cell_type": "code",
   "execution_count": null,
   "metadata": {
    "ExecuteTime": {
     "end_time": "2018-05-03T21:00:25.719449Z",
     "start_time": "2018-05-03T21:00:01.650Z"
    }
   },
   "outputs": [],
   "source": [
    "from alphalens.utils import get_clean_factor_and_forward_returns"
   ]
  },
  {
   "cell_type": "code",
   "execution_count": null,
   "metadata": {
    "ExecuteTime": {
     "end_time": "2018-05-03T21:00:25.721156Z",
     "start_time": "2018-05-03T21:00:01.652Z"
    }
   },
   "outputs": [],
   "source": [
    "get_clean_factor_and_forward_returns(factor=factors, prices=prices,max_loss=0)"
   ]
  },
  {
   "cell_type": "code",
   "execution_count": null,
   "metadata": {},
   "outputs": [],
   "source": []
  }
 ],
 "metadata": {
  "kernelspec": {
   "display_name": "zipline",
   "language": "python",
   "name": "zipline"
  },
  "language_info": {
   "codemirror_mode": {
    "name": "ipython",
    "version": 3
   },
   "file_extension": ".py",
   "mimetype": "text/x-python",
   "name": "python",
   "nbconvert_exporter": "python",
   "pygments_lexer": "ipython3",
   "version": "3.6.5"
  },
  "toc": {
   "base_numbering": 1,
   "nav_menu": {},
   "number_sections": false,
   "sideBar": true,
   "skip_h1_title": false,
   "title_cell": "Table of Contents",
   "title_sidebar": "Contents",
   "toc_cell": false,
   "toc_position": {
    "height": "calc(100% - 180px)",
    "left": "10px",
    "top": "150px",
    "width": "260px"
   },
   "toc_section_display": true,
   "toc_window_display": true
  }
 },
 "nbformat": 4,
 "nbformat_minor": 2
}
