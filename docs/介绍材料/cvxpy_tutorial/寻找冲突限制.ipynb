{
 "cells": [
  {
   "cell_type": "markdown",
   "metadata": {},
   "source": [
    "# alpha"
   ]
  },
  {
   "cell_type": "code",
   "execution_count": 1,
   "metadata": {
    "ExecuteTime": {
     "end_time": "2018-06-04T06:50:26.064583Z",
     "start_time": "2018-06-04T06:50:22.635086Z"
    }
   },
   "outputs": [],
   "source": [
    "import numpy as np\n",
    "import pandas as pd\n",
    "from zipline.research import returns"
   ]
  },
  {
   "cell_type": "code",
   "execution_count": 2,
   "metadata": {
    "ExecuteTime": {
     "end_time": "2018-06-04T06:50:26.070454Z",
     "start_time": "2018-06-04T06:50:26.067086Z"
    }
   },
   "outputs": [],
   "source": [
    "stocks = [str(i) for i in range(300001,300021)]"
   ]
  },
  {
   "cell_type": "code",
   "execution_count": 3,
   "metadata": {
    "ExecuteTime": {
     "end_time": "2018-06-04T06:50:27.301461Z",
     "start_time": "2018-06-04T06:50:26.072907Z"
    }
   },
   "outputs": [
    {
     "name": "stdout",
     "output_type": "stream",
     "text": [
      "[2018-06-04 14:50:27.262232] INFO: zipline.finance.metrics.tracker: 模拟1个交易日\n",
      "首个开盘时间: 2018-05-31 01:31:00+00:00\n",
      "最后收盘时间: 2018-05-31 07:00:00+00:00\n"
     ]
    }
   ],
   "source": [
    "mu = returns(stocks, '2018-3-20','2018-5-31').mean()"
   ]
  },
  {
   "cell_type": "code",
   "execution_count": 4,
   "metadata": {
    "ExecuteTime": {
     "end_time": "2018-06-04T06:50:27.317360Z",
     "start_time": "2018-06-04T06:50:27.303615Z"
    }
   },
   "outputs": [
    {
     "data": {
      "text/plain": [
       "特锐德(300001)    -0.001444\n",
       "神州泰岳(300002)   -0.002906\n",
       "乐普医疗(300003)    0.004536\n",
       "南风股份(300004)   -0.013959\n",
       "探路者(300005)    -0.000831\n",
       "莱美药业(300006)   -0.001242\n",
       "汉威科技(300007)   -0.001003\n",
       "天海防务(300008)   -0.004395\n",
       "安科生物(300009)    0.000766\n",
       "立思辰(300010)     0.006260\n",
       "鼎汉技术(300011)   -0.005505\n",
       "华测检测(300012)    0.003423\n",
       "新宁物流(300013)   -0.002562\n",
       "亿纬锂能(300014)   -0.000749\n",
       "爱尔眼科(300015)    0.004830\n",
       "北陆药业(300016)    0.004430\n",
       "网宿科技(300017)   -0.003557\n",
       "中元股份(300018)   -0.002182\n",
       "硅宝科技(300019)   -0.004257\n",
       "银江股份(300020)   -0.001900\n",
       "dtype: float64"
      ]
     },
     "execution_count": 4,
     "metadata": {},
     "output_type": "execute_result"
    }
   ],
   "source": [
    "mu"
   ]
  },
  {
   "cell_type": "markdown",
   "metadata": {},
   "source": [
    "# 初始权重"
   ]
  },
  {
   "cell_type": "code",
   "execution_count": 5,
   "metadata": {
    "ExecuteTime": {
     "end_time": "2018-06-04T06:50:27.326303Z",
     "start_time": "2018-06-04T06:50:27.321957Z"
    }
   },
   "outputs": [],
   "source": [
    "init_assets = mu.iloc[2:8]"
   ]
  },
  {
   "cell_type": "code",
   "execution_count": 6,
   "metadata": {
    "ExecuteTime": {
     "end_time": "2018-06-04T06:50:27.335041Z",
     "start_time": "2018-06-04T06:50:27.329563Z"
    }
   },
   "outputs": [],
   "source": [
    "w_data = np.random.randn(len(init_assets))"
   ]
  },
  {
   "cell_type": "code",
   "execution_count": 7,
   "metadata": {
    "ExecuteTime": {
     "end_time": "2018-06-04T06:50:27.342910Z",
     "start_time": "2018-06-04T06:50:27.337531Z"
    }
   },
   "outputs": [],
   "source": [
    "init_w = pd.Series(w_data.T / sum(w_data), index = init_assets.index)"
   ]
  },
  {
   "cell_type": "code",
   "execution_count": 8,
   "metadata": {
    "ExecuteTime": {
     "end_time": "2018-06-04T06:50:27.355450Z",
     "start_time": "2018-06-04T06:50:27.345864Z"
    }
   },
   "outputs": [
    {
     "data": {
      "text/plain": [
       "乐普医疗(300003)    0.754246\n",
       "南风股份(300004)    0.842851\n",
       "探路者(300005)    -1.780067\n",
       "莱美药业(300006)   -0.665538\n",
       "汉威科技(300007)    1.233536\n",
       "天海防务(300008)    0.614973\n",
       "dtype: float64"
      ]
     },
     "execution_count": 8,
     "metadata": {},
     "output_type": "execute_result"
    }
   ],
   "source": [
    "init_w"
   ]
  },
  {
   "cell_type": "markdown",
   "metadata": {},
   "source": [
    "# 优化"
   ]
  },
  {
   "cell_type": "code",
   "execution_count": 9,
   "metadata": {
    "ExecuteTime": {
     "end_time": "2018-06-04T06:50:27.693531Z",
     "start_time": "2018-06-04T06:50:27.358156Z"
    }
   },
   "outputs": [],
   "source": [
    "from zipline.optimize.objectives import TargetWeights, MaximizeAlpha\n",
    "from zipline.optimize.constraints import (MaxGrossExposure, NetExposure,\n",
    "                                          NotExceed, NotLessThan,\n",
    "                                          DollarNeutral, FixedWeight)\n",
    "from zipline.optimize.core import run_optimization, calculate_new_weights"
   ]
  },
  {
   "cell_type": "markdown",
   "metadata": {},
   "source": [
    "## 最大alpha"
   ]
  },
  {
   "cell_type": "code",
   "execution_count": 10,
   "metadata": {
    "ExecuteTime": {
     "end_time": "2018-06-04T06:50:27.699906Z",
     "start_time": "2018-06-04T06:50:27.697277Z"
    }
   },
   "outputs": [],
   "source": [
    "obj = MaximizeAlpha(mu)"
   ]
  },
  {
   "cell_type": "code",
   "execution_count": 11,
   "metadata": {
    "ExecuteTime": {
     "end_time": "2018-06-04T06:50:27.713841Z",
     "start_time": "2018-06-04T06:50:27.702521Z"
    }
   },
   "outputs": [],
   "source": [
    "me = MaxGrossExposure(1.5)\n",
    "ne = NotExceed(0.4)\n",
    "fw = FixedWeight(mu.index[2],0.3)"
   ]
  },
  {
   "cell_type": "code",
   "execution_count": 12,
   "metadata": {
    "ExecuteTime": {
     "end_time": "2018-06-04T06:50:27.827974Z",
     "start_time": "2018-06-04T06:50:27.716401Z"
    }
   },
   "outputs": [
    {
     "data": {
      "text/plain": [
       "特锐德(300001)    -0.0\n",
       "神州泰岳(300002)   -0.0\n",
       "乐普医疗(300003)    0.3\n",
       "南风股份(300004)   -0.4\n",
       "探路者(300005)    -0.0\n",
       "莱美药业(300006)   -0.0\n",
       "汉威科技(300007)   -0.0\n",
       "天海防务(300008)   -0.0\n",
       "安科生物(300009)    0.0\n",
       "立思辰(300010)     0.4\n",
       "鼎汉技术(300011)   -0.4\n",
       "华测检测(300012)    0.0\n",
       "新宁物流(300013)   -0.0\n",
       "亿纬锂能(300014)   -0.0\n",
       "爱尔眼科(300015)    0.0\n",
       "北陆药业(300016)    0.0\n",
       "网宿科技(300017)   -0.0\n",
       "中元股份(300018)   -0.0\n",
       "硅宝科技(300019)   -0.0\n",
       "银江股份(300020)   -0.0\n",
       "dtype: float64"
      ]
     },
     "execution_count": 12,
     "metadata": {},
     "output_type": "execute_result"
    }
   ],
   "source": [
    "calculate_new_weights(obj, [me,ne,fw], init_w)"
   ]
  },
  {
   "cell_type": "markdown",
   "metadata": {},
   "source": [
    "## 目标权重"
   ]
  },
  {
   "cell_type": "code",
   "execution_count": 13,
   "metadata": {
    "ExecuteTime": {
     "end_time": "2018-06-04T06:50:27.836414Z",
     "start_time": "2018-06-04T06:50:27.831935Z"
    }
   },
   "outputs": [],
   "source": [
    "target_weights = pd.Series([0.1,-0.3,-0.2,0.7],index=mu.index[4:8])"
   ]
  },
  {
   "cell_type": "code",
   "execution_count": 14,
   "metadata": {
    "ExecuteTime": {
     "end_time": "2018-06-04T06:50:27.847499Z",
     "start_time": "2018-06-04T06:50:27.839699Z"
    }
   },
   "outputs": [
    {
     "data": {
      "text/plain": [
       "探路者(300005)     0.1\n",
       "莱美药业(300006)   -0.3\n",
       "汉威科技(300007)   -0.2\n",
       "天海防务(300008)    0.7\n",
       "dtype: float64"
      ]
     },
     "execution_count": 14,
     "metadata": {},
     "output_type": "execute_result"
    }
   ],
   "source": [
    "target_weights"
   ]
  },
  {
   "cell_type": "code",
   "execution_count": 15,
   "metadata": {
    "ExecuteTime": {
     "end_time": "2018-06-04T06:50:27.855610Z",
     "start_time": "2018-06-04T06:50:27.851328Z"
    }
   },
   "outputs": [],
   "source": [
    "obj = TargetWeights(target_weights)"
   ]
  },
  {
   "cell_type": "code",
   "execution_count": 16,
   "metadata": {
    "ExecuteTime": {
     "end_time": "2018-06-04T06:50:27.912430Z",
     "start_time": "2018-06-04T06:50:27.861506Z"
    }
   },
   "outputs": [
    {
     "data": {
      "text/plain": [
       "乐普医疗(300003)    0.0\n",
       "南风股份(300004)    0.0\n",
       "探路者(300005)     0.1\n",
       "莱美药业(300006)   -0.3\n",
       "汉威科技(300007)   -0.2\n",
       "天海防务(300008)    0.4\n",
       "dtype: float64"
      ]
     },
     "execution_count": 16,
     "metadata": {},
     "output_type": "execute_result"
    }
   ],
   "source": [
    "calculate_new_weights(obj, [me,ne], init_w)"
   ]
  },
  {
   "cell_type": "code",
   "execution_count": 17,
   "metadata": {
    "ExecuteTime": {
     "end_time": "2018-06-04T06:50:27.921389Z",
     "start_time": "2018-06-04T06:50:27.914602Z"
    }
   },
   "outputs": [],
   "source": [
    "from toolz import concat\n",
    "import cvxpy as cvx"
   ]
  },
  {
   "cell_type": "markdown",
   "metadata": {},
   "source": [
    "## 可解情形"
   ]
  },
  {
   "cell_type": "code",
   "execution_count": 18,
   "metadata": {
    "ExecuteTime": {
     "end_time": "2018-06-04T06:50:27.929662Z",
     "start_time": "2018-06-04T06:50:27.923360Z"
    }
   },
   "outputs": [],
   "source": [
    "objective = MaximizeAlpha(mu)\n",
    "me = MaxGrossExposure(1.5)\n",
    "ne = NotExceed(0.4)\n",
    "fw = FixedWeight(mu.index[2],0.3)\n",
    "constraints = [me,ne]"
   ]
  },
  {
   "cell_type": "code",
   "execution_count": 19,
   "metadata": {
    "ExecuteTime": {
     "end_time": "2018-06-04T06:50:27.945634Z",
     "start_time": "2018-06-04T06:50:27.932808Z"
    }
   },
   "outputs": [],
   "source": [
    "cvx_objective = objective.to_cvxpy(init_w)\n",
    "new_weights = objective.new_weights\n",
    "new_weights_series = objective.new_weights_series\n",
    "constraint_map = {\n",
    "    c: c.to_cvxpy(new_weights, new_weights_series, init_w)\n",
    "    for c in constraints\n",
    "}\n",
    "cvx_constraints = list(concat(constraint_map.values()))"
   ]
  },
  {
   "cell_type": "code",
   "execution_count": 23,
   "metadata": {
    "ExecuteTime": {
     "end_time": "2018-06-04T06:51:26.907534Z",
     "start_time": "2018-06-04T06:51:26.780230Z"
    }
   },
   "outputs": [
    {
     "data": {
      "text/plain": [
       "0.01173867217044785"
      ]
     },
     "execution_count": 23,
     "metadata": {},
     "output_type": "execute_result"
    }
   ],
   "source": [
    "problem = cvx.Problem(cvx_objective, cvx_constraints)\n",
    "problem.solve()"
   ]
  },
  {
   "cell_type": "code",
   "execution_count": 24,
   "metadata": {
    "ExecuteTime": {
     "end_time": "2018-06-04T06:51:28.586373Z",
     "start_time": "2018-06-04T06:51:28.580793Z"
    }
   },
   "outputs": [
    {
     "data": {
      "text/plain": [
       "array([-7.85244334e-10, -1.93639781e-09,  1.32003964e-09, -3.99999999e-01,\n",
       "       -4.32292255e-10, -6.63800408e-10, -5.27224512e-10, -2.96415058e-09,\n",
       "        3.97299800e-10,  3.99999992e-01, -3.99999986e-01,  2.49847970e-09,\n",
       "       -1.60897951e-09, -3.88228080e-10,  2.99999962e-01,  2.84048279e-09,\n",
       "       -2.64927256e-09, -1.29377376e-09, -3.10403912e-09, -1.08524316e-09])"
      ]
     },
     "execution_count": 24,
     "metadata": {},
     "output_type": "execute_result"
    }
   ],
   "source": [
    "new_weights.value"
   ]
  },
  {
   "cell_type": "code",
   "execution_count": 25,
   "metadata": {
    "ExecuteTime": {
     "end_time": "2018-06-04T06:51:31.554443Z",
     "start_time": "2018-06-04T06:51:31.548651Z"
    }
   },
   "outputs": [
    {
     "data": {
      "text/plain": [
       "'ECOS'"
      ]
     },
     "execution_count": 25,
     "metadata": {},
     "output_type": "execute_result"
    }
   ],
   "source": [
    "problem.solver_stats.solver_name"
   ]
  },
  {
   "cell_type": "raw",
   "metadata": {
    "ExecuteTime": {
     "end_time": "2018-06-04T06:50:28.247650Z",
     "start_time": "2018-06-04T06:50:22.487Z"
    }
   },
   "source": [
    "prob_data = problem.get_problem_data(cvx.ECOS)"
   ]
  },
  {
   "cell_type": "markdown",
   "metadata": {},
   "source": [
    "# 无解问题"
   ]
  },
  {
   "cell_type": "markdown",
   "metadata": {
    "ExecuteTime": {
     "end_time": "2018-06-04T06:53:53.107921Z",
     "start_time": "2018-06-04T06:53:53.105489Z"
    }
   },
   "source": [
    "## 冲突限制"
   ]
  },
  {
   "cell_type": "code",
   "execution_count": 26,
   "metadata": {
    "ExecuteTime": {
     "end_time": "2018-06-04T06:51:39.949816Z",
     "start_time": "2018-06-04T06:51:39.944157Z"
    }
   },
   "outputs": [],
   "source": [
    "objective = MaximizeAlpha(mu)\n",
    "me = MaxGrossExposure(1.5)\n",
    "dn = DollarNeutral(0.001)\n",
    "nl = NotLessThan(0.5)  # 单个权重不少于0.5与每个权重不得超过0.4矛盾\n",
    "ne = NotExceed(0.4)\n",
    "fw = FixedWeight(mu.index[2],0.3)\n",
    "constraints = [me, dn, ne, nl, fw]"
   ]
  },
  {
   "cell_type": "code",
   "execution_count": 27,
   "metadata": {
    "ExecuteTime": {
     "end_time": "2018-06-04T06:51:39.983028Z",
     "start_time": "2018-06-04T06:51:39.956681Z"
    }
   },
   "outputs": [],
   "source": [
    "cvx_objective = objective.to_cvxpy(init_w)\n",
    "new_weights = objective.new_weights\n",
    "new_weights_series = objective.new_weights_series\n",
    "constraint_map = {\n",
    "    c: c.to_cvxpy(new_weights, new_weights_series, init_w)\n",
    "    for c in constraints\n",
    "}\n",
    "cvx_constraints = list(concat(constraint_map.values()))"
   ]
  },
  {
   "cell_type": "code",
   "execution_count": 28,
   "metadata": {
    "ExecuteTime": {
     "end_time": "2018-06-04T06:51:40.119078Z",
     "start_time": "2018-06-04T06:51:39.985692Z"
    }
   },
   "outputs": [
    {
     "name": "stdout",
     "output_type": "stream",
     "text": [
      "\n",
      "ECOS 2.0.4 - (C) embotech GmbH, Zurich Switzerland, 2012-15. Web: www.embotech.com/ECOS\n",
      "\n",
      "It     pcost       dcost      gap   pres   dres    k/t    mu     step   sigma     IR    |   BT\n",
      " 0  -9.682e-04  -7.519e+00  +2e+02  7e-01  6e-01  1e+00  2e+00    ---    ---    1  1  - |  -  - \n",
      " 1  +4.133e-03  -1.651e+00  +4e+01  7e-01  2e-01  2e+00  4e-01  0.7997  9e-02   1  0  0 |  0  0\n",
      " 2  +1.276e-03  +8.561e+01  +3e+00  6e+00  6e-01  1e+02  3e-02  0.9890  5e-02   1  0  0 |  0  0\n",
      " 3  +1.355e-03  +8.102e+03  +3e-02  6e+00  6e-01  8e+03  3e-04  0.9890  1e-04   1  0  0 |  0  0\n",
      " 4  +1.390e-03  +7.206e+05  +4e-04  6e+00  6e-01  7e+05  3e-06  0.9890  1e-04   2  0  0 |  0  0\n",
      " 5  +1.424e-03  +6.404e+07  +4e-06  6e+00  6e-01  6e+07  4e-08  0.9890  1e-04   1  0  0 |  0  0\n",
      " 6  +1.463e-03  +5.705e+09  +4e-08  6e+00  6e-01  6e+09  4e-10  0.9890  1e-04   0  0  0 |  0  0\n",
      "\n",
      "PRIMAL INFEASIBLE (within feastol=1.2e-10).\n",
      "Runtime: 0.000536 seconds.\n",
      "\n"
     ]
    },
    {
     "data": {
      "text/plain": [
       "-inf"
      ]
     },
     "execution_count": 28,
     "metadata": {},
     "output_type": "execute_result"
    }
   ],
   "source": [
    "infeasible_problem = cvx.Problem(cvx_objective, cvx_constraints)\n",
    "infeasible_problem.solve(verbose=True)"
   ]
  },
  {
   "cell_type": "code",
   "execution_count": 43,
   "metadata": {
    "ExecuteTime": {
     "end_time": "2018-06-04T06:52:15.749842Z",
     "start_time": "2018-06-04T06:52:15.740078Z"
    }
   },
   "outputs": [
    {
     "data": {
      "text/plain": [
       "'infeasible'"
      ]
     },
     "execution_count": 43,
     "metadata": {},
     "output_type": "execute_result"
    }
   ],
   "source": [
    "infeasible_problem.status"
   ]
  },
  {
   "cell_type": "markdown",
   "metadata": {},
   "source": [
    "## 问题数据分析"
   ]
  },
  {
   "cell_type": "code",
   "execution_count": 29,
   "metadata": {
    "ExecuteTime": {
     "end_time": "2018-06-04T06:51:40.251841Z",
     "start_time": "2018-06-04T06:51:40.121044Z"
    }
   },
   "outputs": [],
   "source": [
    "prob_data = infeasible_problem.get_problem_data(cvx.ECOS)"
   ]
  },
  {
   "cell_type": "code",
   "execution_count": 45,
   "metadata": {
    "ExecuteTime": {
     "end_time": "2018-06-04T06:55:09.458575Z",
     "start_time": "2018-06-04T06:55:09.449960Z"
    }
   },
   "outputs": [
    {
     "name": "stdout",
     "output_type": "stream",
     "text": [
      "<class 'dict'>\n",
      "<class 'cvxpy.reductions.solvers.solving_chain.SolvingChain'>\n",
      "<class 'list'>\n"
     ]
    }
   ],
   "source": [
    "for d in prob_data:\n",
    "    print(type(d))"
   ]
  },
  {
   "cell_type": "markdown",
   "metadata": {
    "ExecuteTime": {
     "end_time": "2018-06-04T06:51:40.288833Z",
     "start_time": "2018-06-04T06:51:40.278808Z"
    }
   },
   "source": [
    "### 数据1"
   ]
  },
  {
   "cell_type": "code",
   "execution_count": 46,
   "metadata": {
    "ExecuteTime": {
     "end_time": "2018-06-04T06:56:02.616412Z",
     "start_time": "2018-06-04T06:56:02.606865Z"
    }
   },
   "outputs": [],
   "source": [
    "data_1 = prob_data[0]"
   ]
  },
  {
   "cell_type": "markdown",
   "metadata": {},
   "source": [
    "#### c"
   ]
  },
  {
   "cell_type": "code",
   "execution_count": 61,
   "metadata": {
    "ExecuteTime": {
     "end_time": "2018-06-04T07:15:48.306557Z",
     "start_time": "2018-06-04T07:15:48.299736Z"
    }
   },
   "outputs": [
    {
     "data": {
      "text/plain": [
       "array([ 0.00144354,  0.00290633, -0.00453552,  0.01395945,  0.00083065,\n",
       "        0.00124155,  0.001003  ,  0.00439518, -0.0007659 , -0.00625959,\n",
       "        0.0055054 , -0.00342344,  0.0025617 ,  0.00074902, -0.00482965,\n",
       "       -0.00443037,  0.00355693,  0.0021823 ,  0.00425695,  0.00189981,\n",
       "        0.        ,  0.        ,  0.        ,  0.        ,  0.        ,\n",
       "        0.        ,  0.        ,  0.        ,  0.        ,  0.        ,\n",
       "        0.        ,  0.        ,  0.        ,  0.        ,  0.        ,\n",
       "        0.        ,  0.        ,  0.        ,  0.        ,  0.        ,\n",
       "        0.        ])"
      ]
     },
     "execution_count": 61,
     "metadata": {},
     "output_type": "execute_result"
    }
   ],
   "source": [
    "c = data_1['c']\n",
    "# 长度=41\n",
    "c"
   ]
  },
  {
   "cell_type": "markdown",
   "metadata": {},
   "source": [
    "#### offset"
   ]
  },
  {
   "cell_type": "code",
   "execution_count": 62,
   "metadata": {
    "ExecuteTime": {
     "end_time": "2018-06-04T07:16:43.344909Z",
     "start_time": "2018-06-04T07:16:43.339056Z"
    }
   },
   "outputs": [
    {
     "data": {
      "text/plain": [
       "array([0.])"
      ]
     },
     "execution_count": 62,
     "metadata": {},
     "output_type": "execute_result"
    }
   ],
   "source": [
    "data_1['offset']"
   ]
  },
  {
   "cell_type": "markdown",
   "metadata": {},
   "source": [
    "#### dims"
   ]
  },
  {
   "cell_type": "code",
   "execution_count": 64,
   "metadata": {
    "ExecuteTime": {
     "end_time": "2018-06-04T07:17:12.847560Z",
     "start_time": "2018-06-04T07:17:12.843513Z"
    }
   },
   "outputs": [],
   "source": [
    "dims = data_1['dims']"
   ]
  },
  {
   "cell_type": "code",
   "execution_count": 66,
   "metadata": {
    "ExecuteTime": {
     "end_time": "2018-06-04T07:17:26.017229Z",
     "start_time": "2018-06-04T07:17:26.011648Z"
    }
   },
   "outputs": [
    {
     "data": {
      "text/plain": [
       "1"
      ]
     },
     "execution_count": 66,
     "metadata": {},
     "output_type": "execute_result"
    }
   ],
   "source": [
    "dims.zero"
   ]
  },
  {
   "cell_type": "markdown",
   "metadata": {},
   "source": [
    "#### A"
   ]
  },
  {
   "cell_type": "code",
   "execution_count": 68,
   "metadata": {
    "ExecuteTime": {
     "end_time": "2018-06-04T07:18:07.417383Z",
     "start_time": "2018-06-04T07:18:07.413805Z"
    }
   },
   "outputs": [],
   "source": [
    "A = data_1['A']"
   ]
  },
  {
   "cell_type": "code",
   "execution_count": 69,
   "metadata": {
    "ExecuteTime": {
     "end_time": "2018-06-04T07:18:17.187071Z",
     "start_time": "2018-06-04T07:18:17.179192Z"
    }
   },
   "outputs": [
    {
     "data": {
      "text/plain": [
       "scipy.sparse.csc.csc_matrix"
      ]
     },
     "execution_count": 69,
     "metadata": {},
     "output_type": "execute_result"
    }
   ],
   "source": [
    "type(A)"
   ]
  },
  {
   "cell_type": "code",
   "execution_count": 70,
   "metadata": {
    "ExecuteTime": {
     "end_time": "2018-06-04T07:18:27.027842Z",
     "start_time": "2018-06-04T07:18:27.020675Z"
    }
   },
   "outputs": [
    {
     "data": {
      "text/plain": [
       "array([1.])"
      ]
     },
     "execution_count": 70,
     "metadata": {},
     "output_type": "execute_result"
    }
   ],
   "source": [
    "A.data"
   ]
  },
  {
   "cell_type": "markdown",
   "metadata": {},
   "source": [
    "#### b"
   ]
  },
  {
   "cell_type": "code",
   "execution_count": 71,
   "metadata": {
    "ExecuteTime": {
     "end_time": "2018-06-04T07:18:58.823558Z",
     "start_time": "2018-06-04T07:18:58.820242Z"
    }
   },
   "outputs": [],
   "source": [
    "b = data_1['b']"
   ]
  },
  {
   "cell_type": "code",
   "execution_count": 72,
   "metadata": {
    "ExecuteTime": {
     "end_time": "2018-06-04T07:19:04.617016Z",
     "start_time": "2018-06-04T07:19:04.611715Z"
    }
   },
   "outputs": [
    {
     "data": {
      "text/plain": [
       "array([0.3])"
      ]
     },
     "execution_count": 72,
     "metadata": {},
     "output_type": "execute_result"
    }
   ],
   "source": [
    "b"
   ]
  },
  {
   "cell_type": "markdown",
   "metadata": {},
   "source": [
    "#### G"
   ]
  },
  {
   "cell_type": "code",
   "execution_count": 74,
   "metadata": {
    "ExecuteTime": {
     "end_time": "2018-06-04T07:19:36.141481Z",
     "start_time": "2018-06-04T07:19:36.135865Z"
    }
   },
   "outputs": [],
   "source": [
    "G = data_1['G']"
   ]
  },
  {
   "cell_type": "code",
   "execution_count": 82,
   "metadata": {
    "ExecuteTime": {
     "end_time": "2018-06-04T07:59:30.693834Z",
     "start_time": "2018-06-04T07:59:30.684334Z"
    }
   },
   "outputs": [
    {
     "data": {
      "text/plain": [
       "array([ 1., -1.,  1., -1., -1.,  1., -1.,  1., -1., -1.,  1., -1.,  1.,\n",
       "       -1.,  1., -1., -1.,  1., -1.,  1., -1.,  1., -1., -1.,  1., -1.,\n",
       "        1., -1.,  1., -1., -1.,  1., -1.,  1., -1.,  1., -1., -1.,  1.,\n",
       "       -1.,  1., -1.,  1., -1., -1.,  1., -1.,  1., -1.,  1., -1., -1.,\n",
       "        1., -1.,  1., -1., -1.,  1., -1.,  1., -1., -1.,  1., -1.,  1.,\n",
       "       -1., -1.,  1., -1.,  1., -1., -1.,  1., -1.,  1., -1., -1.,  1.,\n",
       "       -1.,  1., -1., -1.,  1., -1.,  1., -1., -1.,  1., -1.,  1., -1.,\n",
       "       -1.,  1., -1.,  1., -1., -1.,  1., -1.,  1., -1., -1.,  1., -1.,\n",
       "        1., -1., -1.,  1., -1.,  1., -1., -1., -1., -1.,  1., -1., -1.,\n",
       "        1., -1., -1.,  1., -1., -1.,  1., -1., -1.,  1., -1., -1.,  1.,\n",
       "       -1., -1.,  1., -1., -1.,  1., -1., -1.,  1., -1., -1.,  1., -1.,\n",
       "       -1.,  1., -1., -1.,  1., -1., -1.,  1., -1., -1.,  1., -1., -1.,\n",
       "        1., -1., -1.,  1., -1., -1.,  1., -1., -1.,  1., -1., -1.,  1.,\n",
       "       -1., -1.,  1., -1., -1.,  1.])"
      ]
     },
     "execution_count": 82,
     "metadata": {},
     "output_type": "execute_result"
    }
   ],
   "source": [
    "G.data"
   ]
  },
  {
   "cell_type": "code",
   "execution_count": 79,
   "metadata": {
    "ExecuteTime": {
     "end_time": "2018-06-04T07:21:35.462427Z",
     "start_time": "2018-06-04T07:21:35.455668Z"
    }
   },
   "outputs": [
    {
     "data": {
      "text/plain": [
       "(104, 41)"
      ]
     },
     "execution_count": 79,
     "metadata": {},
     "output_type": "execute_result"
    }
   ],
   "source": [
    "G.get_shape()"
   ]
  },
  {
   "cell_type": "code",
   "execution_count": 49,
   "metadata": {
    "ExecuteTime": {
     "end_time": "2018-06-04T06:56:47.175827Z",
     "start_time": "2018-06-04T06:56:47.161569Z"
    }
   },
   "outputs": [
    {
     "name": "stdout",
     "output_type": "stream",
     "text": [
      "c [ 0.00144354  0.00290633 -0.00453552  0.01395945  0.00083065  0.00124155\n",
      "  0.001003    0.00439518 -0.0007659  -0.00625959  0.0055054  -0.00342344\n",
      "  0.0025617   0.00074902 -0.00482965 -0.00443037  0.00355693  0.0021823\n",
      "  0.00425695  0.00189981  0.          0.          0.          0.\n",
      "  0.          0.          0.          0.          0.          0.\n",
      "  0.          0.          0.          0.          0.          0.\n",
      "  0.          0.          0.          0.          0.        ]\n",
      "offset [0.]\n",
      "dims <cvxpy.reductions.solvers.conic_solvers.conic_solver.ConeDims object at 0x7fc02504ed30>\n",
      "A   (0, 2)\t1.0\n",
      "b [0.3]\n",
      "G   (0, 0)\t1.0\n",
      "  (20, 0)\t-1.0\n",
      "  (44, 0)\t1.0\n",
      "  (45, 0)\t-1.0\n",
      "  (84, 0)\t-1.0\n",
      "  (1, 1)\t1.0\n",
      "  (21, 1)\t-1.0\n",
      "  (46, 1)\t1.0\n",
      "  (47, 1)\t-1.0\n",
      "  (85, 1)\t-1.0\n",
      "  (2, 2)\t1.0\n",
      "  (22, 2)\t-1.0\n",
      "  (41, 2)\t1.0\n",
      "  (42, 2)\t-1.0\n",
      "  (48, 2)\t1.0\n",
      "  (49, 2)\t-1.0\n",
      "  (86, 2)\t-1.0\n",
      "  (3, 3)\t1.0\n",
      "  (23, 3)\t-1.0\n",
      "  (41, 3)\t1.0\n",
      "  (42, 3)\t-1.0\n",
      "  (50, 3)\t1.0\n",
      "  (51, 3)\t-1.0\n",
      "  (87, 3)\t-1.0\n",
      "  (4, 4)\t1.0\n",
      "  :\t:\n",
      "  (40, 32)\t1.0\n",
      "  (13, 33)\t-1.0\n",
      "  (33, 33)\t-1.0\n",
      "  (40, 33)\t1.0\n",
      "  (14, 34)\t-1.0\n",
      "  (34, 34)\t-1.0\n",
      "  (40, 34)\t1.0\n",
      "  (15, 35)\t-1.0\n",
      "  (35, 35)\t-1.0\n",
      "  (40, 35)\t1.0\n",
      "  (16, 36)\t-1.0\n",
      "  (36, 36)\t-1.0\n",
      "  (40, 36)\t1.0\n",
      "  (17, 37)\t-1.0\n",
      "  (37, 37)\t-1.0\n",
      "  (40, 37)\t1.0\n",
      "  (18, 38)\t-1.0\n",
      "  (38, 38)\t-1.0\n",
      "  (40, 38)\t1.0\n",
      "  (19, 39)\t-1.0\n",
      "  (39, 39)\t-1.0\n",
      "  (40, 39)\t1.0\n",
      "  (41, 40)\t-1.0\n",
      "  (42, 40)\t-1.0\n",
      "  (43, 40)\t1.0\n",
      "h [-0.0e+00 -0.0e+00 -0.0e+00 -0.0e+00 -0.0e+00 -0.0e+00 -0.0e+00 -0.0e+00\n",
      " -0.0e+00 -0.0e+00 -0.0e+00 -0.0e+00 -0.0e+00 -0.0e+00 -0.0e+00 -0.0e+00\n",
      " -0.0e+00 -0.0e+00 -0.0e+00 -0.0e+00 -0.0e+00 -0.0e+00 -0.0e+00 -0.0e+00\n",
      " -0.0e+00 -0.0e+00 -0.0e+00 -0.0e+00 -0.0e+00 -0.0e+00 -0.0e+00 -0.0e+00\n",
      " -0.0e+00 -0.0e+00 -0.0e+00 -0.0e+00 -0.0e+00 -0.0e+00 -0.0e+00 -0.0e+00\n",
      "  1.5e+00 -0.0e+00 -0.0e+00  1.0e-03  4.0e-01  4.0e-01  4.0e-01  4.0e-01\n",
      "  4.0e-01  4.0e-01  4.0e-01  4.0e-01  4.0e-01  4.0e-01  4.0e-01  4.0e-01\n",
      "  4.0e-01  4.0e-01  4.0e-01  4.0e-01  4.0e-01  4.0e-01  4.0e-01  4.0e-01\n",
      "  4.0e-01  4.0e-01  4.0e-01  4.0e-01  4.0e-01  4.0e-01  4.0e-01  4.0e-01\n",
      "  4.0e-01  4.0e-01  4.0e-01  4.0e-01  4.0e-01  4.0e-01  4.0e-01  4.0e-01\n",
      "  4.0e-01  4.0e-01  4.0e-01  4.0e-01 -5.0e-01 -5.0e-01 -5.0e-01 -5.0e-01\n",
      " -5.0e-01 -5.0e-01 -5.0e-01 -5.0e-01 -5.0e-01 -5.0e-01 -5.0e-01 -5.0e-01\n",
      " -5.0e-01 -5.0e-01 -5.0e-01 -5.0e-01 -5.0e-01 -5.0e-01 -5.0e-01 -5.0e-01]\n"
     ]
    }
   ],
   "source": [
    "for k,v in data_1.items():\n",
    "    print(k,v)"
   ]
  },
  {
   "cell_type": "code",
   "execution_count": 52,
   "metadata": {
    "ExecuteTime": {
     "end_time": "2018-06-04T07:13:49.607890Z",
     "start_time": "2018-06-04T07:13:49.601697Z"
    }
   },
   "outputs": [],
   "source": [
    "dims = data_1['dims']"
   ]
  },
  {
   "cell_type": "code",
   "execution_count": 54,
   "metadata": {
    "ExecuteTime": {
     "end_time": "2018-06-04T07:14:07.415105Z",
     "start_time": "2018-06-04T07:14:07.409644Z"
    }
   },
   "outputs": [
    {
     "data": {
      "text/plain": [
       "104"
      ]
     },
     "execution_count": 54,
     "metadata": {},
     "output_type": "execute_result"
    }
   ],
   "source": [
    "dims.nonpos"
   ]
  },
  {
   "cell_type": "code",
   "execution_count": 56,
   "metadata": {
    "ExecuteTime": {
     "end_time": "2018-06-04T07:14:51.693963Z",
     "start_time": "2018-06-04T07:14:51.686595Z"
    }
   },
   "outputs": [
    {
     "data": {
      "text/plain": [
       "104"
      ]
     },
     "execution_count": 56,
     "metadata": {},
     "output_type": "execute_result"
    }
   ],
   "source": [
    "len(data_1['h'])"
   ]
  },
  {
   "cell_type": "code",
   "execution_count": 34,
   "metadata": {
    "ExecuteTime": {
     "end_time": "2018-06-04T06:51:40.329796Z",
     "start_time": "2018-06-04T06:51:40.323260Z"
    }
   },
   "outputs": [],
   "source": [
    "import re"
   ]
  },
  {
   "cell_type": "code",
   "execution_count": 35,
   "metadata": {
    "ExecuteTime": {
     "end_time": "2018-06-04T06:51:40.337786Z",
     "start_time": "2018-06-04T06:51:40.333631Z"
    }
   },
   "outputs": [],
   "source": [
    "PATTERN = re.compile('new_weights\\[\\d{1,}\\]')"
   ]
  },
  {
   "cell_type": "code",
   "execution_count": 36,
   "metadata": {
    "ExecuteTime": {
     "end_time": "2018-06-04T06:51:40.351875Z",
     "start_time": "2018-06-04T06:51:40.342098Z"
    }
   },
   "outputs": [
    {
     "data": {
      "text/plain": [
       "re.compile(r'(?<=送)(\\d+(?:\\.\\d+)?)\\D', re.UNICODE)"
      ]
     },
     "execution_count": 36,
     "metadata": {},
     "output_type": "execute_result"
    }
   ],
   "source": [
    "re.compile(r'(?<=送)(\\d+(?:\\.\\d+)?)\\D')"
   ]
  },
  {
   "cell_type": "code",
   "execution_count": 37,
   "metadata": {
    "ExecuteTime": {
     "end_time": "2018-06-04T06:51:40.361493Z",
     "start_time": "2018-06-04T06:51:40.355289Z"
    }
   },
   "outputs": [
    {
     "data": {
      "text/plain": [
       "<_sre.SRE_Match object; span=(0, 14), match='new_weights[0]'>"
      ]
     },
     "execution_count": 37,
     "metadata": {},
     "output_type": "execute_result"
    }
   ],
   "source": [
    "re.match(PATTERN, 'new_weights[0] + -0.4 <= 0')"
   ]
  },
  {
   "cell_type": "code",
   "execution_count": 38,
   "metadata": {
    "ExecuteTime": {
     "end_time": "2018-06-04T06:51:40.376982Z",
     "start_time": "2018-06-04T06:51:40.366498Z"
    }
   },
   "outputs": [
    {
     "name": "stdout",
     "output_type": "stream",
     "text": [
      "Sum(abs(new_weights), None, False) + -1.5 <= 0\n",
      "abs(Sum(reshape(  (0, 2)\t1.0\n",
      "  (1, 3)\t1.0\n",
      "  (2, 4)\t1.0\n",
      "  (3, 5)\t1.0\n",
      "  (4, 6)\t1.0\n",
      "  (5, 7)\t1.0 * reshape(new_weights, (20,)), (6,)), None, False)) + -0.001 <= 0\n",
      "new_weights[0] + -0.4 <= 0\n",
      "-0.4 + -new_weights[0] <= 0\n",
      "new_weights[1] + -0.4 <= 0\n",
      "-0.4 + -new_weights[1] <= 0\n",
      "new_weights[2] + -0.4 <= 0\n",
      "-0.4 + -new_weights[2] <= 0\n",
      "new_weights[3] + -0.4 <= 0\n",
      "-0.4 + -new_weights[3] <= 0\n",
      "new_weights[4] + -0.4 <= 0\n",
      "-0.4 + -new_weights[4] <= 0\n",
      "new_weights[5] + -0.4 <= 0\n",
      "-0.4 + -new_weights[5] <= 0\n",
      "new_weights[6] + -0.4 <= 0\n",
      "-0.4 + -new_weights[6] <= 0\n",
      "new_weights[7] + -0.4 <= 0\n",
      "-0.4 + -new_weights[7] <= 0\n",
      "new_weights[8] + -0.4 <= 0\n",
      "-0.4 + -new_weights[8] <= 0\n",
      "new_weights[9] + -0.4 <= 0\n",
      "-0.4 + -new_weights[9] <= 0\n",
      "new_weights[10] + -0.4 <= 0\n",
      "-0.4 + -new_weights[10] <= 0\n",
      "new_weights[11] + -0.4 <= 0\n",
      "-0.4 + -new_weights[11] <= 0\n",
      "new_weights[12] + -0.4 <= 0\n",
      "-0.4 + -new_weights[12] <= 0\n",
      "new_weights[13] + -0.4 <= 0\n",
      "-0.4 + -new_weights[13] <= 0\n",
      "new_weights[14] + -0.4 <= 0\n",
      "-0.4 + -new_weights[14] <= 0\n",
      "new_weights[15] + -0.4 <= 0\n",
      "-0.4 + -new_weights[15] <= 0\n",
      "new_weights[16] + -0.4 <= 0\n",
      "-0.4 + -new_weights[16] <= 0\n",
      "new_weights[17] + -0.4 <= 0\n",
      "-0.4 + -new_weights[17] <= 0\n",
      "new_weights[18] + -0.4 <= 0\n",
      "-0.4 + -new_weights[18] <= 0\n",
      "new_weights[19] + -0.4 <= 0\n",
      "-0.4 + -new_weights[19] <= 0\n",
      "0.5 + -new_weights <= 0\n",
      "new_weights[2] + -0.3 == 0\n"
     ]
    }
   ],
   "source": [
    "for c in problem.constraints:\n",
    "    print(c)"
   ]
  },
  {
   "cell_type": "code",
   "execution_count": 39,
   "metadata": {
    "ExecuteTime": {
     "end_time": "2018-06-04T06:51:40.399235Z",
     "start_time": "2018-06-04T06:51:40.385755Z"
    }
   },
   "outputs": [
    {
     "name": "stdout",
     "output_type": "stream",
     "text": [
      "[-0.00144354 -0.00290633  0.00453552 -0.01395945 -0.00083065 -0.00124155\n",
      " -0.001003   -0.00439518  0.0007659   0.00625959 -0.0055054   0.00342344\n",
      " -0.0025617  -0.00074902  0.00482965  0.00443037 -0.00355693 -0.0021823\n",
      " -0.00425695 -0.00189981]\n",
      "1.5\n",
      "  (0, 2)\t1.0\n",
      "  (1, 3)\t1.0\n",
      "  (2, 4)\t1.0\n",
      "  (3, 5)\t1.0\n",
      "  (4, 6)\t1.0\n",
      "  (5, 7)\t1.0\n",
      "0.001\n",
      "0.4\n",
      "-0.4\n",
      "0.4\n",
      "-0.4\n",
      "0.4\n",
      "-0.4\n",
      "0.4\n",
      "-0.4\n",
      "0.4\n",
      "-0.4\n",
      "0.4\n",
      "-0.4\n",
      "0.4\n",
      "-0.4\n",
      "0.4\n",
      "-0.4\n",
      "0.4\n",
      "-0.4\n",
      "0.4\n",
      "-0.4\n",
      "0.4\n",
      "-0.4\n",
      "0.4\n",
      "-0.4\n",
      "0.4\n",
      "-0.4\n",
      "0.4\n",
      "-0.4\n",
      "0.4\n",
      "-0.4\n",
      "0.4\n",
      "-0.4\n",
      "0.4\n",
      "-0.4\n",
      "0.4\n",
      "-0.4\n",
      "0.4\n",
      "-0.4\n",
      "0.4\n",
      "-0.4\n",
      "0.5\n",
      "0.3\n"
     ]
    }
   ],
   "source": [
    "for c in problem.constants():\n",
    "    print(c.value)"
   ]
  },
  {
   "cell_type": "code",
   "execution_count": 40,
   "metadata": {
    "ExecuteTime": {
     "end_time": "2018-06-04T06:51:40.409086Z",
     "start_time": "2018-06-04T06:51:40.402627Z"
    }
   },
   "outputs": [
    {
     "data": {
      "text/plain": [
       "'0.3'"
      ]
     },
     "execution_count": 40,
     "metadata": {},
     "output_type": "execute_result"
    }
   ],
   "source": [
    "c.expr.name()"
   ]
  },
  {
   "cell_type": "code",
   "execution_count": 41,
   "metadata": {
    "ExecuteTime": {
     "end_time": "2018-06-04T06:51:40.418129Z",
     "start_time": "2018-06-04T06:51:40.414502Z"
    }
   },
   "outputs": [],
   "source": [
    "cv = c.expr.constants()[0]"
   ]
  },
  {
   "cell_type": "code",
   "execution_count": 42,
   "metadata": {
    "ExecuteTime": {
     "end_time": "2018-06-04T06:51:40.433176Z",
     "start_time": "2018-06-04T06:51:40.422259Z"
    }
   },
   "outputs": [
    {
     "data": {
      "text/plain": [
       "array(0.3)"
      ]
     },
     "execution_count": 42,
     "metadata": {},
     "output_type": "execute_result"
    }
   ],
   "source": [
    "cv.value"
   ]
  },
  {
   "cell_type": "code",
   "execution_count": null,
   "metadata": {},
   "outputs": [],
   "source": []
  }
 ],
 "metadata": {
  "kernelspec": {
   "display_name": "zipline",
   "language": "python",
   "name": "zipline"
  },
  "language_info": {
   "codemirror_mode": {
    "name": "ipython",
    "version": 3
   },
   "file_extension": ".py",
   "mimetype": "text/x-python",
   "name": "python",
   "nbconvert_exporter": "python",
   "pygments_lexer": "ipython3",
   "version": "3.6.5"
  },
  "toc": {
   "base_numbering": 1,
   "nav_menu": {},
   "number_sections": true,
   "sideBar": true,
   "skip_h1_title": false,
   "title_cell": "Table of Contents",
   "title_sidebar": "Contents",
   "toc_cell": false,
   "toc_position": {
    "height": "calc(100% - 180px)",
    "left": "10px",
    "top": "150px",
    "width": "260px"
   },
   "toc_section_display": true,
   "toc_window_display": true
  }
 },
 "nbformat": 4,
 "nbformat_minor": 2
}
