{
 "cells": [
  {
   "cell_type": "markdown",
   "metadata": {},
   "source": [
    "CVXPY是一个用于凸优化问题的Python嵌入式建模语言。 它会自动将问题转换为标准形式，调用求解器并解开结果。\n",
    "\n",
    "下面的代码解决了CVXPY中的一个简单的优化问题："
   ]
  },
  {
   "cell_type": "code",
   "execution_count": 1,
   "metadata": {
    "ExecuteTime": {
     "end_time": "2018-05-24T15:41:52.379490Z",
     "start_time": "2018-05-24T15:41:52.076392Z"
    }
   },
   "outputs": [
    {
     "name": "stdout",
     "output_type": "stream",
     "text": [
      "status: optimal\n",
      "optimal value 1.0\n",
      "optimal var 1.0 1.570086213240983e-22\n"
     ]
    }
   ],
   "source": [
    "import cvxpy as cvx\n",
    "\n",
    "# Create two scalar optimization variables.\n",
    "x = cvx.Variable()\n",
    "y = cvx.Variable()\n",
    "\n",
    "# Create two constraints.\n",
    "constraints = [x + y == 1,\n",
    "               x - y >= 1]\n",
    "\n",
    "# Form objective.\n",
    "obj = cvx.Minimize((x - y)**2)\n",
    "\n",
    "# Form and solve problem.\n",
    "prob = cvx.Problem(obj, constraints)\n",
    "prob.solve()  # Returns the optimal value.\n",
    "print(\"status:\", prob.status)\n",
    "print(\"optimal value\", prob.value)\n",
    "print(\"optimal var\", x.value, y.value)"
   ]
  },
  {
   "cell_type": "markdown",
   "metadata": {},
   "source": [
    "“最优”的状态告诉我们问题已成功解决。最优值（这里基本上是1）是满足约束的目标其最小值。最后打印给出取得最优目标的x和y值(分别为1和0)。\n",
    "\n",
    "`prob.solve()`返回最优值,并更新问题中的所有变量的`prob.status`，`prob.value`和`value`字段。"
   ]
  },
  {
   "cell_type": "markdown",
   "metadata": {},
   "source": [
    "# 改变问题"
   ]
  },
  {
   "cell_type": "markdown",
   "metadata": {},
   "source": [
    "`Problems`是不可改变的，这意味着它们在创建后无法更改。要改变目标或约束，请创建一个新问题。"
   ]
  },
  {
   "cell_type": "code",
   "execution_count": 2,
   "metadata": {
    "ExecuteTime": {
     "end_time": "2018-05-24T15:41:52.419202Z",
     "start_time": "2018-05-24T15:41:52.382561Z"
    }
   },
   "outputs": [
    {
     "name": "stdout",
     "output_type": "stream",
     "text": [
      "optimal value 0.9996939016105757\n",
      "optimal value 1.0\n"
     ]
    }
   ],
   "source": [
    "# Replace the objective.\n",
    "prob2 = cvx.Problem(cvx.Maximize(x + y), prob.constraints)\n",
    "print(\"optimal value\", prob2.solve())\n",
    "\n",
    "# Replace the constraint (x + y == 1).\n",
    "constraints = [x + y <= 3] + prob.constraints[1:]\n",
    "prob2 = cvx.Problem(prob.objective, constraints)\n",
    "print(\"optimal value\", prob2.solve())"
   ]
  },
  {
   "cell_type": "markdown",
   "metadata": {},
   "source": [
    "# 不可行和无界的问题"
   ]
  },
  {
   "cell_type": "markdown",
   "metadata": {},
   "source": [
    "如果问题不可行或无界，状态字段将分别设置为“不可行”或“无界”。 问题变量的值字段未更新。"
   ]
  },
  {
   "cell_type": "code",
   "execution_count": 3,
   "metadata": {
    "ExecuteTime": {
     "end_time": "2018-05-24T15:41:52.446759Z",
     "start_time": "2018-05-24T15:41:52.422143Z"
    }
   },
   "outputs": [
    {
     "name": "stdout",
     "output_type": "stream",
     "text": [
      "status: infeasible\n",
      "optimal value inf\n",
      "status: unbounded\n",
      "optimal value -inf\n"
     ]
    }
   ],
   "source": [
    "import cvxpy as cvx\n",
    "\n",
    "x = cvx.Variable()\n",
    "\n",
    "# An infeasible problem.\n",
    "prob = cvx.Problem(cvx.Minimize(x), [x >= 1, x <= 0])\n",
    "prob.solve()\n",
    "print(\"status:\", prob.status)\n",
    "print(\"optimal value\", prob.value)\n",
    "\n",
    "# An unbounded problem.\n",
    "prob = cvx.Problem(cvx.Minimize(x))\n",
    "prob.solve()\n",
    "print(\"status:\", prob.status)\n",
    "print(\"optimal value\", prob.value)"
   ]
  },
  {
   "cell_type": "markdown",
   "metadata": {},
   "source": [
    "请注意，对于最小化问题，如果不可行，最优值将为inf，如果无界为-inf。 对于最大化问题，情况恰恰相反。"
   ]
  },
  {
   "cell_type": "markdown",
   "metadata": {},
   "source": [
    "## 其他问题状态"
   ]
  },
  {
   "cell_type": "markdown",
   "metadata": {},
   "source": [
    "如果由CVXPY调用的解算器解决了问题，但准确度低于所需的值，则问题状态表示实现的准确度较低。 表示较低准确度的状态是：\n",
    "\n",
    "+ “optimal_inaccurate”\n",
    "+ “unbounded_inaccurate”\n",
    "+ “infeasible_inaccurate”"
   ]
  },
  {
   "cell_type": "markdown",
   "metadata": {},
   "source": [
    "对于找到的解决方案类型（即，最优，无限或不可行），问题变量将照常更新。\n",
    "\n",
    "如果解算器完全无法解决问题，则CVXPY将抛出`SolverError`异常。如果发生这种情况，你应该尝试使用其他求解器。 有关详细信息，请参阅[选择求解器](http://www.cvxpy.org/tutorial/advanced/index.html#solvers)的讨论。\n",
    "\n",
    "CVXPY提供以下常量作为不同状态字符串的别名：\n",
    "+ OPTIMAL\n",
    "+ INFEASIBLE\n",
    "+ UNBOUNDED\n",
    "+ OPTIMAL_INACCURATE\n",
    "+ INFEASIBLE_INACCURATE\n",
    "+ UNBOUNDED_INACCURATE\n",
    "\n",
    "例如，要测试问题是否成功解决，您可以使用"
   ]
  },
  {
   "cell_type": "code",
   "execution_count": 4,
   "metadata": {
    "ExecuteTime": {
     "end_time": "2018-05-24T15:41:52.469425Z",
     "start_time": "2018-05-24T15:41:52.449526Z"
    }
   },
   "outputs": [
    {
     "data": {
      "text/plain": [
       "False"
      ]
     },
     "execution_count": 4,
     "metadata": {},
     "output_type": "execute_result"
    }
   ],
   "source": [
    "prob.status == cvx.OPTIMAL"
   ]
  },
  {
   "cell_type": "markdown",
   "metadata": {},
   "source": [
    "# 矢量与矩阵"
   ]
  },
  {
   "cell_type": "markdown",
   "metadata": {},
   "source": [
    "`Variables`可以是标量，矢量或矩阵，也就是说它们是0,1或2维。"
   ]
  },
  {
   "cell_type": "code",
   "execution_count": 5,
   "metadata": {
    "ExecuteTime": {
     "end_time": "2018-05-24T15:41:52.476094Z",
     "start_time": "2018-05-24T15:41:52.471560Z"
    }
   },
   "outputs": [],
   "source": [
    "# A scalar variable.\n",
    "a = cvx.Variable()\n",
    "\n",
    "# Vector variable with shape (5,).\n",
    "x = cvx.Variable(5)\n",
    "\n",
    "# Matrix variable with shape (5, 1).\n",
    "x = cvx.Variable((5, 1))\n",
    "\n",
    "# Matrix variable with shape (4, 7).\n",
    "A = cvx.Variable((4, 7))"
   ]
  },
  {
   "cell_type": "markdown",
   "metadata": {},
   "source": [
    "你可以使用你选择的数字库来构造矩阵和向量常量。例如，如果`x`是表达式`A * x + b`中的一个CVXPY变量，则`A`和`b`可以是Numpy，Ruby，SciPy稀疏矩阵等.`A`和`b`甚至可以是不同的类型。\n",
    "\n",
    "目前，以下类型可以用作常量：\n",
    "+ NumPy ndarrays\n",
    "+ NumPy matrices\n",
    "+ SciPy sparse matrices"
   ]
  },
  {
   "cell_type": "markdown",
   "metadata": {},
   "source": [
    "下面是向量和矩阵的CVXPY问题的一个例子："
   ]
  },
  {
   "cell_type": "code",
   "execution_count": 6,
   "metadata": {
    "ExecuteTime": {
     "end_time": "2018-05-24T15:41:52.516807Z",
     "start_time": "2018-05-24T15:41:52.480251Z"
    }
   },
   "outputs": [
    {
     "name": "stdout",
     "output_type": "stream",
     "text": [
      "Optimal value 4.141338603672536\n",
      "Optimal var\n",
      "[-4.80085741e-21  5.90994300e-21  1.34643668e-01  1.24976681e-01\n",
      " -4.69974639e-21]\n"
     ]
    }
   ],
   "source": [
    "# Solves a bounded least-squares problem.\n",
    "\n",
    "import cvxpy as cvx\n",
    "import numpy\n",
    "\n",
    "# Problem data.\n",
    "m = 10\n",
    "n = 5\n",
    "numpy.random.seed(1)\n",
    "A = numpy.random.randn(m, n)\n",
    "b = numpy.random.randn(m)\n",
    "\n",
    "# Construct the problem.\n",
    "x = cvx.Variable(n)\n",
    "objective = cvx.Minimize(cvx.sum_squares(A*x - b))\n",
    "constraints = [0 <= x, x <= 1]\n",
    "prob = cvx.Problem(objective, constraints)\n",
    "\n",
    "print(\"Optimal value\", prob.solve())\n",
    "print(\"Optimal var\")\n",
    "print(x.value) # A numpy ndarray."
   ]
  },
  {
   "cell_type": "markdown",
   "metadata": {},
   "source": [
    "# `限定`(`Constraints`)"
   ]
  },
  {
   "cell_type": "markdown",
   "metadata": {},
   "source": [
    "如示例代码所示，可以使用`==`，`<=`和`>=`在CVXPY中构造约束。等于和不等于约束是元素的，无论它们涉及标量，向量还是矩阵。 例如，`0 <= x`和`x <= 1`意味着x的每个条目都在0和1之间。\n",
    "\n",
    "如果想要表示半定锥体约束的矩阵不等式，请参阅[半定矩阵](http://www.cvxpy.org/tutorial/advanced/index.html#semidefinite)。此部分解释如何表达半定锥不等式。\n",
    "\n",
    "你不能用`<`和`>`构造不等式。严格的不等在现实世界中是没有意义的。此外，您不能将约束链接在一起，例如`0 <= x <= 1`或`x == y == 2`。Python解释器以此方式处理链式约束，而CVXPY无法捕获。如果您编写链式约束，CVXPY将引发异常。"
   ]
  },
  {
   "cell_type": "markdown",
   "metadata": {},
   "source": [
    "# `参数`(`Parameters`)"
   ]
  },
  {
   "cell_type": "markdown",
   "metadata": {},
   "source": [
    "**Parameters**是常量的符号表示。 参数的目的是在不重构整个问题的情况下改变问题中常量的值。\n",
    "\n",
    "参数可以是矢量或矩阵，就像变量一样。创建参数时，您可以选择指定属性，如参数实体的符号，参数是否对称等。这些属性用于[Disciplined Convex Programming](http://www.cvxpy.org/tutorial/dcp/index.html#dcp)中，除非指定，否则它们是未知的。参数可以在创建后随时分配一个常量值。常量值的维度和属性必须与创建参数时指定的维度和属性相同。"
   ]
  },
  {
   "cell_type": "code",
   "execution_count": 7,
   "metadata": {
    "ExecuteTime": {
     "end_time": "2018-05-24T15:41:52.527836Z",
     "start_time": "2018-05-24T15:41:52.522144Z"
    }
   },
   "outputs": [],
   "source": [
    "# Positive scalar parameter.\n",
    "m = cvx.Parameter(nonneg=True)\n",
    "\n",
    "# Column vector parameter with unknown sign (by default).\n",
    "c = cvx.Parameter(5)\n",
    "\n",
    "# Matrix parameter with negative entries.\n",
    "G = cvx.Parameter((4, 7), nonpos=True)\n",
    "\n",
    "# Assigns a constant value to G.\n",
    "G.value = -numpy.ones((4, 7))"
   ]
  },
  {
   "cell_type": "markdown",
   "metadata": {},
   "source": [
    "你可以用一个值初始化一个参数。 以下代码段是等效的："
   ]
  },
  {
   "cell_type": "code",
   "execution_count": 8,
   "metadata": {
    "ExecuteTime": {
     "end_time": "2018-05-24T15:41:52.537137Z",
     "start_time": "2018-05-24T15:41:52.532026Z"
    }
   },
   "outputs": [],
   "source": [
    "# Create parameter, then assign value.\n",
    "rho = cvx.Parameter(nonneg=True)\n",
    "rho.value = 2\n",
    "\n",
    "# Initialize parameter with a value.\n",
    "rho = cvx.Parameter(nonneg=True, value=2)"
   ]
  },
  {
   "cell_type": "markdown",
   "metadata": {},
   "source": [
    "参数在计算折衷曲线中很常见。下面的例子计算了LASSO问题的权衡曲线。"
   ]
  },
  {
   "cell_type": "code",
   "execution_count": 9,
   "metadata": {
    "ExecuteTime": {
     "end_time": "2018-05-24T15:41:52.841756Z",
     "start_time": "2018-05-24T15:41:52.540431Z"
    }
   },
   "outputs": [],
   "source": [
    "%matplotlib inline"
   ]
  },
  {
   "cell_type": "code",
   "execution_count": 10,
   "metadata": {
    "ExecuteTime": {
     "end_time": "2018-05-24T15:41:54.588846Z",
     "start_time": "2018-05-24T15:41:52.845536Z"
    }
   },
   "outputs": [
    {
     "data": {
      "image/png": "[encoded data removed]",
      "text/plain": [
       "<Figure size 432x720 with 2 Axes>"
      ]
     },
     "metadata": {},
     "output_type": "display_data"
    }
   ],
   "source": [
    "import cvxpy as cvx\n",
    "import numpy\n",
    "import matplotlib.pyplot as plt\n",
    "\n",
    "# Problem data.\n",
    "n = 15\n",
    "m = 10\n",
    "numpy.random.seed(1)\n",
    "A = numpy.random.randn(n, m)\n",
    "b = numpy.random.randn(n)\n",
    "# gamma must be nonnegative due to DCP rules.\n",
    "gamma = cvx.Parameter(nonneg=True)\n",
    "\n",
    "# Construct the problem.\n",
    "x = cvx.Variable(m)\n",
    "error = cvx.sum_squares(A*x - b)\n",
    "obj = cvx.Minimize(error + gamma*cvx.norm(x, 1))\n",
    "prob = cvx.Problem(obj)\n",
    "\n",
    "# Construct a trade-off curve of ||Ax-b||^2 vs. ||x||_1\n",
    "sq_penalty = []\n",
    "l1_penalty = []\n",
    "x_values = []\n",
    "gamma_vals = numpy.logspace(-4, 6)\n",
    "for val in gamma_vals:\n",
    "    gamma.value = val\n",
    "    prob.solve()\n",
    "    # Use expr.value to get the numerical value of\n",
    "    # an expression in the problem.\n",
    "    sq_penalty.append(error.value)\n",
    "    l1_penalty.append(cvx.norm(x, 1).value)\n",
    "    x_values.append(x.value)\n",
    "\n",
    "#plt.rc('text', usetex=True)\n",
    "#plt.rc('font', family='serif')\n",
    "plt.figure(figsize=(6,10))\n",
    "\n",
    "# Plot trade-off curve.\n",
    "plt.subplot(211)\n",
    "plt.plot(l1_penalty, sq_penalty)\n",
    "plt.xlabel('$x_1$', fontsize=16)\n",
    "plt.ylabel('$|Ax-b\\|^2$', fontsize=16)\n",
    "plt.title('Trade-Off Curve for LASSO', fontsize=16)\n",
    "\n",
    "# Plot entries of x vs. gamma.\n",
    "plt.subplot(212)\n",
    "for i in range(m):\n",
    "    plt.plot(gamma_vals, [xi[i] for xi in x_values])\n",
    "plt.xlabel('$\\gamma$', fontsize=16)\n",
    "plt.ylabel('$x_i$', fontsize=16)\n",
    "plt.xscale('log')\n",
    "plt.title('Entries of x vs.$\\gamma$', fontsize=16)\n",
    "\n",
    "plt.tight_layout()\n",
    "plt.show()"
   ]
  },
  {
   "cell_type": "code",
   "execution_count": 37,
   "metadata": {
    "ExecuteTime": {
     "end_time": "2018-05-24T16:00:06.916451Z",
     "start_time": "2018-05-24T16:00:06.909921Z"
    }
   },
   "outputs": [
    {
     "data": {
      "text/plain": [
       "'OSQP'"
      ]
     },
     "execution_count": 37,
     "metadata": {},
     "output_type": "execute_result"
    }
   ],
   "source": [
    "prob.solver_stats.solver_name"
   ]
  },
  {
   "cell_type": "markdown",
   "metadata": {},
   "source": [
    "权衡曲线可以很容易地并行计算。 以下代码并行计算上面LASSO问题中每个`γ`的最优`x`。"
   ]
  },
  {
   "cell_type": "code",
   "execution_count": 11,
   "metadata": {
    "ExecuteTime": {
     "end_time": "2018-05-24T14:40:33.620187Z",
     "start_time": "2018-05-24T14:40:32.776659Z"
    }
   },
   "outputs": [],
   "source": [
    "from multiprocessing import Pool\n",
    "\n",
    "# Assign a value to gamma and find the optimal x.\n",
    "def get_x(gamma_value):\n",
    "    gamma.value = gamma_value\n",
    "    result = prob.solve()\n",
    "    return x.value\n",
    "\n",
    "# Parallel computation (set to 1 process here).\n",
    "pool = Pool(processes = 1)\n",
    "x_values = pool.map(get_x, gamma_vals)"
   ]
  }
 ],
 "metadata": {
  "kernelspec": {
   "display_name": "zipline",
   "language": "python",
   "name": "zipline"
  },
  "language_info": {
   "codemirror_mode": {
    "name": "ipython",
    "version": 3
   },
   "file_extension": ".py",
   "mimetype": "text/x-python",
   "name": "python",
   "nbconvert_exporter": "python",
   "pygments_lexer": "ipython3",
   "version": "3.6.5"
  },
  "toc": {
   "base_numbering": 1,
   "nav_menu": {},
   "number_sections": true,
   "sideBar": true,
   "skip_h1_title": false,
   "title_cell": "Table of Contents",
   "title_sidebar": "Contents",
   "toc_cell": false,
   "toc_position": {
    "height": "calc(100% - 180px)",
    "left": "10px",
    "top": "150px",
    "width": "260px"
   },
   "toc_section_display": true,
   "toc_window_display": true
  }
 },
 "nbformat": 4,
 "nbformat_minor": 2
}
