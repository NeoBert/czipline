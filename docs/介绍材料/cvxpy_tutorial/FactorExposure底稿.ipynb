{
 "cells": [
  {
   "cell_type": "code",
   "execution_count": 10,
   "metadata": {
    "ExecuteTime": {
     "end_time": "2018-05-31T16:34:53.574478Z",
     "start_time": "2018-05-31T16:34:53.568535Z"
    }
   },
   "outputs": [],
   "source": [
    "import pandas as pd\n",
    "import cvxpy as cvx\n",
    "import numpy as np"
   ]
  },
  {
   "cell_type": "code",
   "execution_count": 27,
   "metadata": {
    "ExecuteTime": {
     "end_time": "2018-05-31T18:35:20.911965Z",
     "start_time": "2018-05-31T18:35:20.898504Z"
    }
   },
   "outputs": [
    {
     "data": {
      "text/html": [
       "<div>\n",
       "<style scoped>\n",
       "    .dataframe tbody tr th:only-of-type {\n",
       "        vertical-align: middle;\n",
       "    }\n",
       "\n",
       "    .dataframe tbody tr th {\n",
       "        vertical-align: top;\n",
       "    }\n",
       "\n",
       "    .dataframe thead th {\n",
       "        text-align: right;\n",
       "    }\n",
       "</style>\n",
       "<table border=\"1\" class=\"dataframe\">\n",
       "  <thead>\n",
       "    <tr style=\"text-align: right;\">\n",
       "      <th></th>\n",
       "      <th>0</th>\n",
       "      <th>1</th>\n",
       "      <th>2</th>\n",
       "    </tr>\n",
       "  </thead>\n",
       "  <tbody>\n",
       "    <tr>\n",
       "      <th>0</th>\n",
       "      <td>1</td>\n",
       "      <td>2</td>\n",
       "      <td>3</td>\n",
       "    </tr>\n",
       "    <tr>\n",
       "      <th>1</th>\n",
       "      <td>23</td>\n",
       "      <td>34</td>\n",
       "      <td>35</td>\n",
       "    </tr>\n",
       "  </tbody>\n",
       "</table>\n",
       "</div>"
      ],
      "text/plain": [
       "    0   1   2\n",
       "0   1   2   3\n",
       "1  23  34  35"
      ]
     },
     "execution_count": 27,
     "metadata": {},
     "output_type": "execute_result"
    }
   ],
   "source": [
    "pd.DataFrame([[1,2,3],[23,34,35]])"
   ]
  },
  {
   "cell_type": "markdown",
   "metadata": {},
   "source": [
    "# 准备数据"
   ]
  },
  {
   "cell_type": "code",
   "execution_count": 22,
   "metadata": {
    "ExecuteTime": {
     "end_time": "2018-05-31T17:50:01.582785Z",
     "start_time": "2018-05-31T17:50:01.578850Z"
    }
   },
   "outputs": [],
   "source": [
    "stocks = ['000001', '000002', '000003', '000004', '000005', '000006','000007']\n",
    "factors = ['A','B','C']"
   ]
  },
  {
   "cell_type": "code",
   "execution_count": 23,
   "metadata": {
    "ExecuteTime": {
     "end_time": "2018-05-31T17:50:02.084906Z",
     "start_time": "2018-05-31T17:50:02.071510Z"
    }
   },
   "outputs": [],
   "source": [
    "loadings = pd.DataFrame(data=np.arange(1,22).reshape(3,7).T, index=stocks, columns=factors)"
   ]
  },
  {
   "cell_type": "code",
   "execution_count": 26,
   "metadata": {
    "ExecuteTime": {
     "end_time": "2018-05-31T17:50:39.358214Z",
     "start_time": "2018-05-31T17:50:39.296120Z"
    }
   },
   "outputs": [
    {
     "data": {
      "text/html": [
       "<div>\n",
       "<style scoped>\n",
       "    .dataframe tbody tr th:only-of-type {\n",
       "        vertical-align: middle;\n",
       "    }\n",
       "\n",
       "    .dataframe tbody tr th {\n",
       "        vertical-align: top;\n",
       "    }\n",
       "\n",
       "    .dataframe thead th {\n",
       "        text-align: right;\n",
       "    }\n",
       "</style>\n",
       "<table border=\"1\" class=\"dataframe\">\n",
       "  <thead>\n",
       "    <tr style=\"text-align: right;\">\n",
       "      <th></th>\n",
       "      <th>A</th>\n",
       "      <th>B</th>\n",
       "      <th>C</th>\n",
       "    </tr>\n",
       "  </thead>\n",
       "  <tbody>\n",
       "    <tr>\n",
       "      <th>count</th>\n",
       "      <td>7.000000</td>\n",
       "      <td>7.000000</td>\n",
       "      <td>7.000000</td>\n",
       "    </tr>\n",
       "    <tr>\n",
       "      <th>mean</th>\n",
       "      <td>4.000000</td>\n",
       "      <td>11.000000</td>\n",
       "      <td>18.000000</td>\n",
       "    </tr>\n",
       "    <tr>\n",
       "      <th>std</th>\n",
       "      <td>2.160247</td>\n",
       "      <td>2.160247</td>\n",
       "      <td>2.160247</td>\n",
       "    </tr>\n",
       "    <tr>\n",
       "      <th>min</th>\n",
       "      <td>1.000000</td>\n",
       "      <td>8.000000</td>\n",
       "      <td>15.000000</td>\n",
       "    </tr>\n",
       "    <tr>\n",
       "      <th>25%</th>\n",
       "      <td>2.500000</td>\n",
       "      <td>9.500000</td>\n",
       "      <td>16.500000</td>\n",
       "    </tr>\n",
       "    <tr>\n",
       "      <th>50%</th>\n",
       "      <td>4.000000</td>\n",
       "      <td>11.000000</td>\n",
       "      <td>18.000000</td>\n",
       "    </tr>\n",
       "    <tr>\n",
       "      <th>75%</th>\n",
       "      <td>5.500000</td>\n",
       "      <td>12.500000</td>\n",
       "      <td>19.500000</td>\n",
       "    </tr>\n",
       "    <tr>\n",
       "      <th>max</th>\n",
       "      <td>7.000000</td>\n",
       "      <td>14.000000</td>\n",
       "      <td>21.000000</td>\n",
       "    </tr>\n",
       "  </tbody>\n",
       "</table>\n",
       "</div>"
      ],
      "text/plain": [
       "              A          B          C\n",
       "count  7.000000   7.000000   7.000000\n",
       "mean   4.000000  11.000000  18.000000\n",
       "std    2.160247   2.160247   2.160247\n",
       "min    1.000000   8.000000  15.000000\n",
       "25%    2.500000   9.500000  16.500000\n",
       "50%    4.000000  11.000000  18.000000\n",
       "75%    5.500000  12.500000  19.500000\n",
       "max    7.000000  14.000000  21.000000"
      ]
     },
     "execution_count": 26,
     "metadata": {},
     "output_type": "execute_result"
    }
   ],
   "source": [
    "loadings.describe()"
   ]
  },
  {
   "cell_type": "code",
   "execution_count": 4,
   "metadata": {
    "ExecuteTime": {
     "end_time": "2018-05-31T16:00:55.515241Z",
     "start_time": "2018-05-31T16:00:55.498294Z"
    }
   },
   "outputs": [],
   "source": [
    "loadings /= loadings.sum()"
   ]
  },
  {
   "cell_type": "code",
   "execution_count": 5,
   "metadata": {
    "ExecuteTime": {
     "end_time": "2018-05-31T16:00:55.566970Z",
     "start_time": "2018-05-31T16:00:55.517847Z"
    }
   },
   "outputs": [
    {
     "data": {
      "text/html": [
       "<div>\n",
       "<style scoped>\n",
       "    .dataframe tbody tr th:only-of-type {\n",
       "        vertical-align: middle;\n",
       "    }\n",
       "\n",
       "    .dataframe tbody tr th {\n",
       "        vertical-align: top;\n",
       "    }\n",
       "\n",
       "    .dataframe thead th {\n",
       "        text-align: right;\n",
       "    }\n",
       "</style>\n",
       "<table border=\"1\" class=\"dataframe\">\n",
       "  <thead>\n",
       "    <tr style=\"text-align: right;\">\n",
       "      <th></th>\n",
       "      <th>A</th>\n",
       "      <th>B</th>\n",
       "      <th>C</th>\n",
       "    </tr>\n",
       "  </thead>\n",
       "  <tbody>\n",
       "    <tr>\n",
       "      <th>000001</th>\n",
       "      <td>0.019608</td>\n",
       "      <td>0.035088</td>\n",
       "      <td>0.047619</td>\n",
       "    </tr>\n",
       "    <tr>\n",
       "      <th>000002</th>\n",
       "      <td>0.078431</td>\n",
       "      <td>0.087719</td>\n",
       "      <td>0.095238</td>\n",
       "    </tr>\n",
       "    <tr>\n",
       "      <th>000003</th>\n",
       "      <td>0.137255</td>\n",
       "      <td>0.140351</td>\n",
       "      <td>0.142857</td>\n",
       "    </tr>\n",
       "    <tr>\n",
       "      <th>000004</th>\n",
       "      <td>0.196078</td>\n",
       "      <td>0.192982</td>\n",
       "      <td>0.190476</td>\n",
       "    </tr>\n",
       "    <tr>\n",
       "      <th>000005</th>\n",
       "      <td>0.254902</td>\n",
       "      <td>0.245614</td>\n",
       "      <td>0.238095</td>\n",
       "    </tr>\n",
       "    <tr>\n",
       "      <th>000006</th>\n",
       "      <td>0.313725</td>\n",
       "      <td>0.298246</td>\n",
       "      <td>0.285714</td>\n",
       "    </tr>\n",
       "  </tbody>\n",
       "</table>\n",
       "</div>"
      ],
      "text/plain": [
       "               A         B         C\n",
       "000001  0.019608  0.035088  0.047619\n",
       "000002  0.078431  0.087719  0.095238\n",
       "000003  0.137255  0.140351  0.142857\n",
       "000004  0.196078  0.192982  0.190476\n",
       "000005  0.254902  0.245614  0.238095\n",
       "000006  0.313725  0.298246  0.285714"
      ]
     },
     "execution_count": 5,
     "metadata": {},
     "output_type": "execute_result"
    }
   ],
   "source": [
    "loadings"
   ]
  },
  {
   "cell_type": "code",
   "execution_count": 7,
   "metadata": {
    "ExecuteTime": {
     "end_time": "2018-05-31T16:01:03.671587Z",
     "start_time": "2018-05-31T16:01:03.667798Z"
    }
   },
   "outputs": [],
   "source": [
    "min_exposures = pd.Series([-0.3,-0.1,-0.6], index=factors)\n",
    "max_exposures = pd.Series([0.2,0.5,0.3], index=factors)"
   ]
  },
  {
   "cell_type": "code",
   "execution_count": 8,
   "metadata": {
    "ExecuteTime": {
     "end_time": "2018-05-31T16:01:50.723436Z",
     "start_time": "2018-05-31T16:01:50.716446Z"
    }
   },
   "outputs": [
    {
     "data": {
      "text/plain": [
       "A   -0.3\n",
       "B   -0.1\n",
       "C   -0.6\n",
       "dtype: float64"
      ]
     },
     "execution_count": 8,
     "metadata": {},
     "output_type": "execute_result"
    }
   ],
   "source": [
    "min_exposures"
   ]
  },
  {
   "cell_type": "code",
   "execution_count": 9,
   "metadata": {
    "ExecuteTime": {
     "end_time": "2018-05-31T16:01:56.742478Z",
     "start_time": "2018-05-31T16:01:56.734183Z"
    }
   },
   "outputs": [
    {
     "data": {
      "text/plain": [
       "A    0.2\n",
       "B    0.5\n",
       "C    0.3\n",
       "dtype: float64"
      ]
     },
     "execution_count": 9,
     "metadata": {},
     "output_type": "execute_result"
    }
   ],
   "source": [
    "max_exposures"
   ]
  },
  {
   "cell_type": "code",
   "execution_count": null,
   "metadata": {},
   "outputs": [],
   "source": []
  },
  {
   "cell_type": "markdown",
   "metadata": {},
   "source": [
    "# 模拟"
   ]
  },
  {
   "cell_type": "code",
   "execution_count": 11,
   "metadata": {
    "ExecuteTime": {
     "end_time": "2018-05-31T02:36:36.280681Z",
     "start_time": "2018-05-31T02:36:36.277316Z"
    }
   },
   "outputs": [],
   "source": [
    "n = len(stocks)"
   ]
  },
  {
   "cell_type": "code",
   "execution_count": 12,
   "metadata": {
    "ExecuteTime": {
     "end_time": "2018-05-31T02:38:22.514958Z",
     "start_time": "2018-05-31T02:38:22.509858Z"
    }
   },
   "outputs": [],
   "source": [
    "w_long = cvx.Variable(n,nonneg=True)\n",
    "w_short = cvx.Variable(n,nonpos=True)"
   ]
  },
  {
   "cell_type": "code",
   "execution_count": 15,
   "metadata": {
    "ExecuteTime": {
     "end_time": "2018-05-31T02:42:04.079993Z",
     "start_time": "2018-05-31T02:42:04.068493Z"
    }
   },
   "outputs": [],
   "source": [
    "long_df_w = pd.Series([w_long[i] for i in range(n)], index = stocks)\n",
    "short_df_w = pd.Series([w_short[i] for i in range(n)], index = stocks)"
   ]
  },
  {
   "cell_type": "code",
   "execution_count": 44,
   "metadata": {
    "ExecuteTime": {
     "end_time": "2018-05-31T03:04:49.821800Z",
     "start_time": "2018-05-31T03:04:49.817944Z"
    }
   },
   "outputs": [],
   "source": [
    "df_w = long_df_w - short_df_w"
   ]
  },
  {
   "cell_type": "code",
   "execution_count": 16,
   "metadata": {
    "ExecuteTime": {
     "end_time": "2018-05-31T02:44:47.797538Z",
     "start_time": "2018-05-31T02:44:47.790251Z"
    }
   },
   "outputs": [],
   "source": [
    "returns = pd.Series([0.1,0.2,0.3,0.4,0.4,-0.2], index=stocks)"
   ]
  },
  {
   "cell_type": "code",
   "execution_count": 27,
   "metadata": {
    "ExecuteTime": {
     "end_time": "2018-05-31T02:49:40.967099Z",
     "start_time": "2018-05-31T02:49:40.958400Z"
    }
   },
   "outputs": [],
   "source": [
    "obj = cvx.Maximize(cvx.sum((returns * long_df_w + returns * short_df_w).tolist()))"
   ]
  },
  {
   "cell_type": "code",
   "execution_count": 32,
   "metadata": {
    "ExecuteTime": {
     "end_time": "2018-05-31T02:52:54.384209Z",
     "start_time": "2018-05-31T02:52:54.379181Z"
    }
   },
   "outputs": [],
   "source": [
    "min_limit = pd.Series([0.1,0.3], index=['000002','000004'])\n",
    "max_limit = pd.Series([0.1,0.3], index=['000001','000003'])"
   ]
  },
  {
   "cell_type": "code",
   "execution_count": 31,
   "metadata": {
    "ExecuteTime": {
     "end_time": "2018-05-31T02:52:52.609966Z",
     "start_time": "2018-05-31T02:52:52.605725Z"
    }
   },
   "outputs": [],
   "source": [
    "default_min = 0.1\n",
    "default_max = 0.5"
   ]
  },
  {
   "cell_type": "code",
   "execution_count": 34,
   "metadata": {
    "ExecuteTime": {
     "end_time": "2018-05-31T02:53:59.080262Z",
     "start_time": "2018-05-31T02:53:59.069672Z"
    }
   },
   "outputs": [],
   "source": [
    "min_limit = min_limit.loc[stocks]\n",
    "max_limit = max_limit.loc[stocks]"
   ]
  },
  {
   "cell_type": "code",
   "execution_count": 36,
   "metadata": {
    "ExecuteTime": {
     "end_time": "2018-05-31T02:54:46.652201Z",
     "start_time": "2018-05-31T02:54:46.644916Z"
    }
   },
   "outputs": [],
   "source": [
    "min_limit.fillna(default_min, inplace=True)\n",
    "max_limit.fillna(default_max, inplace=True)"
   ]
  },
  {
   "cell_type": "code",
   "execution_count": 37,
   "metadata": {
    "ExecuteTime": {
     "end_time": "2018-05-31T02:54:50.279690Z",
     "start_time": "2018-05-31T02:54:50.269825Z"
    }
   },
   "outputs": [
    {
     "data": {
      "text/plain": [
       "000001    0.1\n",
       "000002    0.1\n",
       "000003    0.1\n",
       "000004    0.3\n",
       "000005    0.1\n",
       "000006    0.1\n",
       "dtype: float64"
      ]
     },
     "execution_count": 37,
     "metadata": {},
     "output_type": "execute_result"
    }
   ],
   "source": [
    "min_limit"
   ]
  },
  {
   "cell_type": "code",
   "execution_count": 38,
   "metadata": {
    "ExecuteTime": {
     "end_time": "2018-05-31T03:01:06.406060Z",
     "start_time": "2018-05-31T03:01:06.391858Z"
    }
   },
   "outputs": [],
   "source": [
    "min_limit_cons = [long_df_w[idx] >= min_limit[idx] for idx in long_df_w.index]"
   ]
  },
  {
   "cell_type": "code",
   "execution_count": 39,
   "metadata": {
    "ExecuteTime": {
     "end_time": "2018-05-31T03:01:29.437946Z",
     "start_time": "2018-05-31T03:01:29.430340Z"
    }
   },
   "outputs": [],
   "source": [
    "max_limit_cons = [long_df_w[idx] >= max_limit[idx] for idx in long_df_w.index]"
   ]
  },
  {
   "cell_type": "code",
   "execution_count": 41,
   "metadata": {
    "ExecuteTime": {
     "end_time": "2018-05-31T03:02:45.343667Z",
     "start_time": "2018-05-31T03:02:45.332794Z"
    }
   },
   "outputs": [],
   "source": [
    "short_cons = [short_df_w[idx] >= 0 for idx in short_df_w.index]"
   ]
  },
  {
   "cell_type": "code",
   "execution_count": 50,
   "metadata": {
    "ExecuteTime": {
     "end_time": "2018-05-31T03:10:34.928881Z",
     "start_time": "2018-05-31T03:10:34.923990Z"
    }
   },
   "outputs": [],
   "source": [
    "long_cons = [cvx.sum(long_df_w.tolist()) <= 1.0]"
   ]
  },
  {
   "cell_type": "code",
   "execution_count": 51,
   "metadata": {
    "ExecuteTime": {
     "end_time": "2018-05-31T03:10:40.544971Z",
     "start_time": "2018-05-31T03:10:40.535924Z"
    }
   },
   "outputs": [],
   "source": [
    "prob = cvx.Problem(obj, min_limit_cons + max_limit_cons + short_cons + long_cons)"
   ]
  },
  {
   "cell_type": "code",
   "execution_count": 52,
   "metadata": {
    "ExecuteTime": {
     "end_time": "2018-05-31T03:10:41.343704Z",
     "start_time": "2018-05-31T03:10:41.268712Z"
    }
   },
   "outputs": [
    {
     "data": {
      "text/plain": [
       "-inf"
      ]
     },
     "execution_count": 52,
     "metadata": {},
     "output_type": "execute_result"
    }
   ],
   "source": [
    "prob.solve()"
   ]
  },
  {
   "cell_type": "code",
   "execution_count": 49,
   "metadata": {
    "ExecuteTime": {
     "end_time": "2018-05-31T03:08:42.032425Z",
     "start_time": "2018-05-31T03:08:42.025492Z"
    }
   },
   "outputs": [
    {
     "data": {
      "text/plain": [
       "True"
      ]
     },
     "execution_count": 49,
     "metadata": {},
     "output_type": "execute_result"
    }
   ],
   "source": [
    "prob.is_dcp()"
   ]
  },
  {
   "cell_type": "code",
   "execution_count": 76,
   "metadata": {
    "ExecuteTime": {
     "end_time": "2018-05-31T03:26:02.838241Z",
     "start_time": "2018-05-31T03:26:02.831551Z"
    }
   },
   "outputs": [],
   "source": [
    "x = cvx.Variable(10, nonneg=True)"
   ]
  },
  {
   "cell_type": "code",
   "execution_count": 77,
   "metadata": {
    "ExecuteTime": {
     "end_time": "2018-05-31T03:26:39.260928Z",
     "start_time": "2018-05-31T03:26:39.256824Z"
    }
   },
   "outputs": [],
   "source": [
    "obj = cvx.Maximize(cvx.sum(x))"
   ]
  },
  {
   "cell_type": "code",
   "execution_count": 79,
   "metadata": {
    "ExecuteTime": {
     "end_time": "2018-05-31T03:27:53.947353Z",
     "start_time": "2018-05-31T03:27:53.942208Z"
    }
   },
   "outputs": [],
   "source": [
    "cons = [x <= 10,\n",
    "        x[0] <= 1,\n",
    "        x[3] == 3]"
   ]
  },
  {
   "cell_type": "code",
   "execution_count": 80,
   "metadata": {
    "ExecuteTime": {
     "end_time": "2018-05-31T03:28:07.493822Z",
     "start_time": "2018-05-31T03:28:07.490189Z"
    }
   },
   "outputs": [],
   "source": [
    "prob = cvx.Problem(obj, cons)"
   ]
  },
  {
   "cell_type": "code",
   "execution_count": 81,
   "metadata": {
    "ExecuteTime": {
     "end_time": "2018-05-31T03:28:12.956480Z",
     "start_time": "2018-05-31T03:28:12.924121Z"
    }
   },
   "outputs": [
    {
     "data": {
      "text/plain": [
       "84.0"
      ]
     },
     "execution_count": 81,
     "metadata": {},
     "output_type": "execute_result"
    }
   ],
   "source": [
    "prob.solve()"
   ]
  },
  {
   "cell_type": "code",
   "execution_count": 82,
   "metadata": {
    "ExecuteTime": {
     "end_time": "2018-05-31T03:28:26.816688Z",
     "start_time": "2018-05-31T03:28:26.809582Z"
    }
   },
   "outputs": [
    {
     "data": {
      "text/plain": [
       "array([ 1., 10., 10.,  3., 10., 10., 10., 10., 10., 10.])"
      ]
     },
     "execution_count": 82,
     "metadata": {},
     "output_type": "execute_result"
    }
   ],
   "source": [
    "x.value"
   ]
  },
  {
   "cell_type": "code",
   "execution_count": null,
   "metadata": {},
   "outputs": [],
   "source": []
  }
 ],
 "metadata": {
  "kernelspec": {
   "display_name": "zipline",
   "language": "python",
   "name": "zipline"
  },
  "language_info": {
   "codemirror_mode": {
    "name": "ipython",
    "version": 3
   },
   "file_extension": ".py",
   "mimetype": "text/x-python",
   "name": "python",
   "nbconvert_exporter": "python",
   "pygments_lexer": "ipython3",
   "version": "3.6.5"
  },
  "toc": {
   "base_numbering": 1,
   "nav_menu": {},
   "number_sections": true,
   "sideBar": true,
   "skip_h1_title": false,
   "title_cell": "Table of Contents",
   "title_sidebar": "Contents",
   "toc_cell": false,
   "toc_position": {},
   "toc_section_display": true,
   "toc_window_display": true
  }
 },
 "nbformat": 4,
 "nbformat_minor": 2
}
