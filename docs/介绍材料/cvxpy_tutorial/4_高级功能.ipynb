{
 "cells": [
  {
   "cell_type": "markdown",
   "metadata": {},
   "source": [
    "本教程的这一部分介绍了面向具有凸面优化高级知识的用户的CVXPY功能。我们推荐Boyd和Vandenberghe的[凸优化](http://www.stanford.edu/~boyd/cvxbook/)作为您不熟悉的任何术语的参考。"
   ]
  },
  {
   "cell_type": "markdown",
   "metadata": {},
   "source": [
    "# 双变量"
   ]
  },
  {
   "cell_type": "markdown",
   "metadata": {},
   "source": [
    "您可以使用CVXPY查找问题的最优双变量。当您调用`prob.solve()`时，解决方案中的每个双变量都存储在它所对应的约束的`dual_value`字段中。"
   ]
  },
  {
   "cell_type": "code",
   "execution_count": 1,
   "metadata": {
    "ExecuteTime": {
     "end_time": "2018-06-04T06:47:00.521502Z",
     "start_time": "2018-06-04T06:47:00.157150Z"
    }
   },
   "outputs": [
    {
     "name": "stdout",
     "output_type": "stream",
     "text": [
      "optimal (x + y == 1) dual variable 2.0\n",
      "optimal (x - y >= 1) dual variable 2.0\n",
      "x - y value: 1.0\n"
     ]
    }
   ],
   "source": [
    "import cvxpy as cvx\n",
    "\n",
    "# Create two scalar optimization variables.\n",
    "x = cvx.Variable()\n",
    "y = cvx.Variable()\n",
    "\n",
    "# Create two constraints.\n",
    "constraints = [x + y == 1,\n",
    "               x - y >= 1]\n",
    "\n",
    "# Form objective.\n",
    "obj = cvx.Minimize((x - y)**2)\n",
    "\n",
    "# Form and solve problem.\n",
    "prob = cvx.Problem(obj, constraints)\n",
    "prob.solve()\n",
    "\n",
    "# The optimal dual variable (Lagrange multiplier) for\n",
    "# a constraint is stored in constraint.dual_value.\n",
    "print(\"optimal (x + y == 1) dual variable\", constraints[0].dual_value)\n",
    "print(\"optimal (x - y >= 1) dual variable\", constraints[1].dual_value)\n",
    "print(\"x - y value:\", (x - y).value)"
   ]
  },
  {
   "cell_type": "markdown",
   "metadata": {},
   "source": [
    "`x - y >= 1`的双变量是2。通过互补性，这意味着`x - y`是1，我们可以看到这是正确的。事实上双变量非零也告诉我们，如果我们收紧`x - y >= 1`（即增加右边），问题的最优值将会增加。"
   ]
  },
  {
   "cell_type": "markdown",
   "metadata": {},
   "source": [
    "# 属性"
   ]
  },
  {
   "cell_type": "markdown",
   "metadata": {},
   "source": [
    "可以使用指定其他属性的属性创建变量和参数。 例如，`Variable(nonneg=True)`是一个被限制为非负的标量变量。 类似地，`Parameter(nonpos=True)`是一个被限制为非正的标量参数。 Leaf的完整构造函数（变量和参数的父类）如下所示。"
   ]
  },
  {
   "cell_type": "raw",
   "metadata": {
    "ExecuteTime": {
     "end_time": "2018-05-21T17:43:54.585932Z",
     "start_time": "2018-05-21T17:43:54.503427Z"
    }
   },
   "source": [
    "Leaf(shape, value=None, nonneg=False, nonpos=False, \n",
    "     complex=False, imag=False, symmetric=False, \n",
    "     diag=False, PSD=False, NSD=False, hermitian=False, \n",
    "     boolean=False, integer=False, sparsity=None)\n",
    "   \n",
    "    A leaf node of an expression tree; i.e., a Variable, Constant, or Parameter.\n",
    "\n",
    "    A leaf may carry *attributes* that constrain the set values permissible\n",
    "    for it. Leafs can have no more than one attribute, with the exception\n",
    "    that a leaf may be both ``nonpos`` and ``nonneg`` or both ``boolean``\n",
    "    in some indices and ``integer`` in others.\n",
    "\n",
    "    An error is raised if a leaf is assigned a value that contradicts\n",
    "    one or more of its attributes. See the ``project`` method for a convenient\n",
    "    way to project a value onto a leaf's domain.\n",
    "\n",
    "    Parameters\n",
    "    ----------\n",
    "    shape : tuple or int\n",
    "        The leaf dimensions. Either an integer n for a 1D shape, or a\n",
    "        tuple where the semantics are the same as NumPy ndarray shapes.\n",
    "        **Shapes cannot be more than 2D**.\n",
    "    value : numeric type\n",
    "        A value to assign to the leaf.\n",
    "    nonneg : bool\n",
    "        Is the variable constrained to be nonnegative?\n",
    "    nonpos : bool\n",
    "        Is the variable constrained to be nonpositive?\n",
    "    complex : bool\n",
    "        Is the variable complex valued?\n",
    "    symmetric : bool\n",
    "        Is the variable symmetric?\n",
    "    diag : bool\n",
    "        Is the variable diagonal?\n",
    "    PSD : bool\n",
    "        Is the variable constrained to be positive semidefinite?\n",
    "    NSD : bool\n",
    "        Is the variable constrained to be negative semidefinite?\n",
    "    Hermitian : bool\n",
    "        Is the variable Hermitian?\n",
    "    boolean : bool or list of tuple\n",
    "        Is the variable boolean? True, which constrains\n",
    "        the entire Variable to be boolean, False, or a list of\n",
    "        indices which should be constrained as boolean, where each\n",
    "        index is a tuple of length exactly equal to the\n",
    "        length of shape.\n",
    "    integer : bool or list of tuple\n",
    "        Is the variable integer? The semantics are the same as the\n",
    "        boolean argument.\n",
    "    sparsity : list of tuplewith\n",
    "        Fixed sparsity pattern for the variable."
   ]
  },
  {
   "cell_type": "markdown",
   "metadata": {},
   "source": [
    "The value field of Variables and Parameters can be assigned a value after construction, but the assigned value must satisfy the object attributes. A Euclidean projection onto the set defined by the attributes is given by the project method.\n",
    "\n",
    "变量和参数的`value`字段可以在构建后赋值，但分配的值必须满足对象属性。由投影方法给出由属性定义的集合上的欧几里德投影。"
   ]
  },
  {
   "cell_type": "code",
   "execution_count": 2,
   "metadata": {
    "ExecuteTime": {
     "end_time": "2018-06-04T06:47:00.532958Z",
     "start_time": "2018-06-04T06:47:00.524447Z"
    }
   },
   "outputs": [
    {
     "name": "stdout",
     "output_type": "stream",
     "text": [
      "Parameter value must be nonnegative.\n",
      "Projection: 0.0\n"
     ]
    }
   ],
   "source": [
    "p = cvx.Parameter(nonneg=True)\n",
    "try:\n",
    "    p.value = -1\n",
    "except Exception as e:\n",
    "    print(e)\n",
    "\n",
    "print(\"Projection:\", p.project(-1))"
   ]
  },
  {
   "cell_type": "markdown",
   "metadata": {},
   "source": [
    "为叶赋值的一个明智习惯是`leaf.value = leaf.project(val)`，以确保赋值满足叶的属性。一个稍微有效的变体是`leaf.project_and_assign(val)`，它直接投影和赋值，而不另外检查该值是否满足叶的属性。在大多数情况下，投影和检查值满足叶的属性是廉价操作（即O(n)），但是对于对称正半定或负半定叶，这些操作计算特征值分解。\n",
    "\n",
    "许多属性，如非负性和对称性，都可以通过约束轻松指定。在变量中指定属性有什么优势？主要优点是指定属性可实现更细粒度的DCP分析。例如，通过`x = Variable(nonpos=True)`创建变量`x`，通知DCP分析器`x`是非正的。通过`x = Variable()`创建变量`x`并单独添加约束`x >= 0`则不会提供任何关于`x`的符号信息到DCP分析器。"
   ]
  },
  {
   "cell_type": "markdown",
   "metadata": {},
   "source": [
    "# 半定矩阵"
   ]
  },
  {
   "cell_type": "markdown",
   "metadata": {},
   "source": [
    "许多凸优化问题都涉及到正或负半定矩阵约束(即，SDPs)。您可以通过两种方式在CVXPY中执行此操作。第一种方法是使用`Variable((n, n), PSD=True)`创建一个n乘n变量，约束为对称半正定。 例如，"
   ]
  },
  {
   "cell_type": "code",
   "execution_count": 3,
   "metadata": {
    "ExecuteTime": {
     "end_time": "2018-06-04T06:47:00.542573Z",
     "start_time": "2018-06-04T06:47:00.536564Z"
    }
   },
   "outputs": [],
   "source": [
    "# Creates a 100 by 100 positive semidefinite variable.\n",
    "X = cvx.Variable((100, 100), PSD=True)\n",
    "\n",
    "# You can use X anywhere you would use\n",
    "# a normal CVXPY variable.\n",
    "obj = cvx.Minimize(cvx.norm(X) + cvx.sum(X))"
   ]
  },
  {
   "cell_type": "markdown",
   "metadata": {},
   "source": [
    "第二种方法是使用`>>`或`<<`运算符创建一个半正定锥约束。如果`X`和`Y`是`n*n`变量，则约束`X >> Y`意味着对于所有$z \\in \\mathcal{R}^n$，$z^T(X - Y)z \\geq 0$。 换句话说$X + X^T$是半正定的。约束不要求`X`和`Y`是对称的。正半定锥约束的两边必须是平方矩阵和仿射。\n",
    "\n",
    "以下代码显示如何将矩阵表达式约束为正半负或负半确定（但不一定对称）。"
   ]
  },
  {
   "cell_type": "raw",
   "metadata": {},
   "source": [
    "# expr1 must be positive semidefinite.\n",
    "constr1 = (expr1 >> 0)\n",
    "\n",
    "# expr2 must be negative semidefinite.\n",
    "constr2 = (expr2 << 0)"
   ]
  },
  {
   "cell_type": "markdown",
   "metadata": {},
   "source": [
    "为了限制矩阵表达式是对称的，只需写"
   ]
  },
  {
   "cell_type": "raw",
   "metadata": {},
   "source": [
    "# expr must be symmetric.\n",
    "constr = (expr == expr.T)"
   ]
  },
  {
   "cell_type": "markdown",
   "metadata": {},
   "source": [
    "You can also use Variable((n, n), symmetric=True) to create an n by n variable constrained to be symmetric. The difference between specifying that a variable is symmetric via attributes and adding the constraint X == X.T is that attributes are parsed for DCP information and a symmetric variable is defined over the (lower dimensional) vector space of symmetric matrices.\n",
    "\n",
    "你也可以使用`Variable((n, n), symmetric=True)`来创建一个`n*n`的变量，约束为对称的。指定变量对称通过属性定义与添加约束`X == X.T`的区别在于：DCP信息解析属性，并在对称矩阵的（低维）向量空间上定义对称变量。"
   ]
  },
  {
   "cell_type": "markdown",
   "metadata": {},
   "source": [
    "# 混合整数程序"
   ]
  },
  {
   "cell_type": "markdown",
   "metadata": {},
   "source": [
    "在混合整数程序中，某些变量被约束为布尔值（即0或1）或整数值。可以通过创建仅有布尔或整数值条目的属性的变量来构造混合整数程序："
   ]
  },
  {
   "cell_type": "raw",
   "metadata": {
    "ExecuteTime": {
     "end_time": "2018-05-22T04:47:48.650890Z",
     "start_time": "2018-05-22T04:47:48.515731Z"
    }
   },
   "source": [
    "# Creates a 10-vector constrained to have boolean valued entries.\n",
    "x = cvx.Variable(10, boolean=True)\n",
    "\n",
    "# expr1 must be boolean valued.\n",
    "constr1 = (expr1 == x)\n",
    "\n",
    "# Creates a 5 by 7 matrix constrained to have integer valued entries.\n",
    "Z = cvx.Variable((5, 7), integer=True)\n",
    "\n",
    "# expr2 must be integer valued.\n",
    "constr2 = (expr2 == Z)"
   ]
  },
  {
   "cell_type": "markdown",
   "metadata": {},
   "source": [
    "# 复数值表达式"
   ]
  },
  {
   "cell_type": "markdown",
   "metadata": {},
   "source": [
    "默认情况下，变量和参数是真数。复数值变量和参数可以通过设置属性`complex=True`来创建。 同样，通过设置属性`imag=True`可以创建纯虚构的变量和参数。包含复数变量，参数或常量的表达式可能是复数值。函数`is_real`，`is_complex`和`is_imag`分别返回一个表达式是纯粹真实的，复数的还是纯虚的。"
   ]
  },
  {
   "cell_type": "code",
   "execution_count": 4,
   "metadata": {
    "ExecuteTime": {
     "end_time": "2018-06-04T06:47:00.556102Z",
     "start_time": "2018-06-04T06:47:00.547821Z"
    }
   },
   "outputs": [
    {
     "name": "stdout",
     "output_type": "stream",
     "text": [
      "p.is_imag() =  True\n",
      "(x + 2).is_real() =  False\n"
     ]
    }
   ],
   "source": [
    "# A complex valued variable.\n",
    "x = cvx.Variable(complex=True)\n",
    "# A purely imaginary parameter.\n",
    "p = cvx.Parameter(imag=True)\n",
    "\n",
    "print(\"p.is_imag() = \", p.is_imag())\n",
    "print(\"(x + 2).is_real() = \", (x + 2).is_real())"
   ]
  },
  {
   "cell_type": "markdown",
   "metadata": {},
   "source": [
    "问题目标和不等式约束中的顶级表达式必须是实值的，但子表达式可能是复值。算术和所有线性原子可以定义复值表达式。所有非线性原子`abs`以及除`norm(X, p)`(`p < 1`)的所有`norms`都可用于复值表达式。所有域是对称矩阵的原子定义为Hermitian矩阵。类似地，为复数`x`和`Hermitian P`定义了原子`quad_form(x, P)`和`matrix_frac(x, P)`。最后，为复数表达式定义了等式和正定半定义约束。\n",
    "\n",
    "提供以下附加原子用于处理复杂表达式：\n",
    "\n",
    "+ `real(expr)` 给出了`expr`的真值部分\n",
    "+ `imag(expr)` 给出了`expr`的虚部(即：`expr = real(expr) + 1j*imag(expr)`)\n",
    "+ `conj(expr)` 给出`expr`的复共轭\n",
    "+ `expr.H` 给出`expr`的Hermitian(共轭)转置\n"
   ]
  },
  {
   "cell_type": "markdown",
   "metadata": {},
   "source": [
    "# 变换"
   ]
  },
  {
   "cell_type": "markdown",
   "metadata": {},
   "source": [
    "变换提供了操作原子函数之外CVXPY对象的其他方法。例如，`indicator`变换将约束列表转换为表示凸函数的表达式，该函数在约束条件成立时取值0，违反条件时取$\\infty$。"
   ]
  },
  {
   "cell_type": "code",
   "execution_count": 5,
   "metadata": {
    "ExecuteTime": {
     "end_time": "2018-06-04T06:47:00.573351Z",
     "start_time": "2018-06-04T06:47:00.563051Z"
    }
   },
   "outputs": [
    {
     "name": "stdout",
     "output_type": "stream",
     "text": [
      "expr.value =  0\n",
      "expr.value =  0\n"
     ]
    }
   ],
   "source": [
    "x = cvx.Variable()\n",
    "constraints = [0 <= x, x <= 1]\n",
    "expr = cvx.transforms.indicator(constraints)\n",
    "x.value = .5\n",
    "print(\"expr.value = \", expr.value)\n",
    "x.value = 2\n",
    "print(\"expr.value = \", expr.value)"
   ]
  },
  {
   "cell_type": "markdown",
   "metadata": {},
   "source": [
    "[Transforms](http://www.cvxpy.org/api_reference/cvxpy.transforms.html#transforms-api)中讨论了可用的全套转换。"
   ]
  },
  {
   "cell_type": "markdown",
   "metadata": {},
   "source": [
    "# 问题算术"
   ]
  },
  {
   "cell_type": "markdown",
   "metadata": {},
   "source": [
    "为了方便起见，算术运算对于问题和目标已经超载。问题算术很有用，因为它可以让你将问题写成一个小问题的总和。下面给出了增加，减少和乘以目标的规则。"
   ]
  },
  {
   "cell_type": "raw",
   "metadata": {},
   "source": [
    "# Addition and subtraction.\n",
    "\n",
    "Minimize(expr1) + Minimize(expr2) == Minimize(expr1 + expr2)\n",
    "\n",
    "Maximize(expr1) + Maximize(expr2) == Maximize(expr1 + expr2)\n",
    "\n",
    "Minimize(expr1) + Maximize(expr2) # Not allowed.\n",
    "\n",
    "Minimize(expr1) - Maximize(expr2) == Minimize(expr1 - expr2)\n",
    "\n",
    "# Multiplication (alpha is a positive scalar).\n",
    "\n",
    "alpha*Minimize(expr) == Minimize(alpha*expr)\n",
    "\n",
    "alpha*Maximize(expr) == Maximize(alpha*expr)\n",
    "\n",
    "-alpha*Minimize(expr) == Maximize(-alpha*expr)\n",
    "\n",
    "-alpha*Maximize(expr) == Minimize(-alpha*expr)"
   ]
  },
  {
   "cell_type": "markdown",
   "metadata": {},
   "source": [
    "增加和增加问题的规则同样简单："
   ]
  },
  {
   "cell_type": "raw",
   "metadata": {},
   "source": [
    "# Addition and subtraction.\n",
    "\n",
    "prob1 + prob2 == Problem(prob1.objective + prob2.objective,\n",
    "                         prob1.constraints + prob2.constraints)\n",
    "\n",
    "prob1 - prob2 == Problem(prob1.objective - prob2.objective,\n",
    "                         prob1.constraints + prob2.constraints)\n",
    "\n",
    "# Multiplication (alpha is any scalar).\n",
    "\n",
    "alpha*prob == Problem(alpha*prob.objective, prob.constraints)\n"
   ]
  },
  {
   "cell_type": "markdown",
   "metadata": {},
   "source": [
    "请注意，`+`运算符连接约束列表，因为这是Python列表的默认行为。就地操作符`+=`，`-=`和`*=`也支持目标和问题，并遵循上述相同的规则。"
   ]
  },
  {
   "cell_type": "markdown",
   "metadata": {},
   "source": [
    "# 求解方法选项"
   ]
  },
  {
   "cell_type": "markdown",
   "metadata": {},
   "source": [
    "`solve`方法带有可选参数，可以让您更改CVXPY如何求解问题。这是求解方法的签名："
   ]
  },
  {
   "cell_type": "raw",
   "metadata": {
    "ExecuteTime": {
     "end_time": "2018-05-22T05:33:13.891698Z",
     "start_time": "2018-05-22T05:33:13.885875Z"
    }
   },
   "source": [
    " solve(solver=None, verbose=False, **kwargs)\n",
    "\n",
    "    Solves a DCP compliant optimization problem.\n",
    "    Parameters:\t\n",
    "\n",
    "        solver (str, optional) – The solver to use.\n",
    "        verbose (bool, optional) – Overrides the default of hiding solver output.\n",
    "        kwargs – Additional keyword arguments specifying solver specific options.\n",
    "\n",
    "    Returns:\t\n",
    "\n",
    "    The optimal value for the problem, or a string indicating why the problem could not be solved."
   ]
  },
  {
   "cell_type": "markdown",
   "metadata": {},
   "source": [
    "我们将在下面详细讨论可选参数。"
   ]
  },
  {
   "cell_type": "markdown",
   "metadata": {},
   "source": [
    "## 选择求解器"
   ]
  },
  {
   "cell_type": "markdown",
   "metadata": {},
   "source": [
    "CVXPY与开源求解器[ECOS](https://www.embotech.com/ECOS)，[ECOS_BB](https://github.com/embotech/ecos#mixed-integer-socps-ecos_bb)，[OSQP](http://osqp.readthedocs.io/)和[SCS](http://github.com/cvxgrp/scs)一起发布。如果单独安装，许多其他求解器可以由CVXPY调用。 下表显示了支持的求解器可以处理的问题类型。"
   ]
  },
  {
   "cell_type": "markdown",
   "metadata": {},
   "source": [
    "![支持的求解器](solver.png)"
   ]
  },
  {
   "cell_type": "markdown",
   "metadata": {},
   "source": [
    "这里EXP指的是指数圆锥约束的问题。 指数锥被定义为$$\\{(x,y,z) \\mid y > 0, y\\exp(x/y) \\leq z \\} \\cup \\{ (x,y,z) \\mid x \\leq 0, y = 0, z \\geq 0\\}$$。\n",
    "\n",
    "您不能在CVXPY中明确指定圆锥约束，但当CVXPY将问题转换为标准形式时，会添加圆锥约束。\n",
    "\n",
    "默认情况下，CVXPY调用最专门针对问题类型的求解器。例如，SOCPs调用ECOS。 SCS可以处理所有问题（混合整数程序除外）。混合整数LP和SOCP调用ECOS_BB。如果问题是QP，CVXPY将使用OSQP。\n",
    "\n",
    "您可以使用solver关键字参数来更改由CVXPY调用的求解器。 如果您选择的求解器无法解决问题，CVXPY将引发异常。 以下是使用不同解算器解决相同问题的示例代码。"
   ]
  },
  {
   "cell_type": "code",
   "execution_count": 6,
   "metadata": {
    "ExecuteTime": {
     "end_time": "2018-06-04T06:47:00.701255Z",
     "start_time": "2018-06-04T06:47:00.577151Z"
    }
   },
   "outputs": [
    {
     "name": "stdout",
     "output_type": "stream",
     "text": [
      "('optimal value with OSQP:', 6.0)\n",
      "('optimal value with ECOS:', 5.999999995510096)\n",
      "('optimal value with ECOS_BB:', 5.999999995510096)\n",
      "('optimal value with CVXOPT:', 6.000000005119901)\n",
      "('optimal value with GLPK:', 6.0)\n",
      "('optimal value with GLPK_MI:', 6.0)\n"
     ]
    }
   ],
   "source": [
    "# 当本地没有安装相应求解器时，以下部分可能触发异常\n",
    "\n",
    "# Solving a problem with different solvers.\n",
    "x = cvx.Variable(2)\n",
    "obj = cvx.Minimize(x[0] + cvx.norm(x, 1))\n",
    "constraints = [x >= 2]\n",
    "prob = cvx.Problem(obj, constraints)\n",
    "\n",
    "# Solve with OSQP.\n",
    "prob.solve(solver=cvx.OSQP)\n",
    "print((\"optimal value with OSQP:\", prob.value))\n",
    "\n",
    "# Solve with ECOS.\n",
    "prob.solve(solver=cvx.ECOS)\n",
    "print((\"optimal value with ECOS:\", prob.value))\n",
    "\n",
    "# Solve with ECOS_BB.\n",
    "prob.solve(solver=cvx.ECOS_BB)\n",
    "print((\"optimal value with ECOS_BB:\", prob.value))\n",
    "\n",
    "# Solve with CVXOPT.\n",
    "prob.solve(solver=cvx.CVXOPT)\n",
    "print((\"optimal value with CVXOPT:\", prob.value))\n",
    "\n",
    "# Solve with SCS.\n",
    "#prob.solve(solver=cvx.SCS)\n",
    "#print((\"optimal value with SCS:\", prob.value))\n",
    "\n",
    "# Solve with GLPK.\n",
    "prob.solve(solver=cvx.GLPK)\n",
    "print((\"optimal value with GLPK:\", prob.value))\n",
    "\n",
    "# Solve with GLPK_MI.\n",
    "prob.solve(solver=cvx.GLPK_MI)\n",
    "print((\"optimal value with GLPK_MI:\", prob.value))\n",
    "\n",
    "# Solve with GUROBI.\n",
    "#prob.solve(solver=cvx.GUROBI)\n",
    "#print((\"optimal value with GUROBI:\", prob.value))\n",
    "\n",
    "# Solve with MOSEK.\n",
    "#prob.solve(solver=cvx.MOSEK)\n",
    "#print((\"optimal value with MOSEK:\", prob.value))\n",
    "\n",
    "# Solve with Elemental.\n",
    "#prob.solve(solver=cvx.ELEMENTAL)\n",
    "#print((\"optimal value with Elemental:\", prob.value))\n",
    "\n",
    "# Solve with CBC.\n",
    "#prob.solve(solver=cvx.CBC)\n",
    "#print((\"optimal value with CBC:\", prob.value))"
   ]
  },
  {
   "cell_type": "markdown",
   "metadata": {},
   "source": [
    "使用installed_solvers实用程序函数获取CVXPY支持的解决方案列表。"
   ]
  },
  {
   "cell_type": "code",
   "execution_count": 7,
   "metadata": {
    "ExecuteTime": {
     "end_time": "2018-06-04T06:47:00.722222Z",
     "start_time": "2018-06-04T06:47:00.705719Z"
    }
   },
   "outputs": [
    {
     "name": "stdout",
     "output_type": "stream",
     "text": [
      "['ECOS', 'ECOS_BB', 'CVXOPT', 'GLPK', 'GLPK_MI', 'OSQP']\n"
     ]
    }
   ],
   "source": [
    "print(cvx.installed_solvers())"
   ]
  },
  {
   "cell_type": "markdown",
   "metadata": {},
   "source": [
    "## 查看求解器输出"
   ]
  },
  {
   "cell_type": "markdown",
   "metadata": {},
   "source": [
    "所有求解器可以在求解问题的同时打印进度的信息。这些信息可以用于调试求解器错误。要查看解算器的输出，请在solve方法中设置`verbose=True`。"
   ]
  },
  {
   "cell_type": "code",
   "execution_count": 8,
   "metadata": {
    "ExecuteTime": {
     "end_time": "2018-06-04T06:47:00.750294Z",
     "start_time": "2018-06-04T06:47:00.726909Z"
    }
   },
   "outputs": [
    {
     "name": "stdout",
     "output_type": "stream",
     "text": [
      "\n",
      "ECOS 2.0.4 - (C) embotech GmbH, Zurich Switzerland, 2012-15. Web: www.embotech.com/ECOS\n",
      "\n",
      "It     pcost       dcost      gap   pres   dres    k/t    mu     step   sigma     IR    |   BT\n",
      " 0  +6.667e-01  +7.067e-01  +6e+00  6e-01  1e-02  1e+00  9e-01    ---    ---    1  1  - |  -  - \n",
      " 1  +3.500e+00  +3.925e+00  +1e+00  3e-01  4e-03  8e-01  2e-01  0.9890  2e-01   1  1  1 |  0  0\n",
      " 2  +5.716e+00  +5.825e+00  +2e-01  6e-02  8e-04  2e-01  4e-02  0.9091  8e-02   1  1  1 |  0  0\n",
      " 3  +5.997e+00  +5.998e+00  +3e-03  7e-04  1e-05  2e-03  5e-04  0.9881  1e-04   1  1  1 |  0  0\n",
      " 4  +6.000e+00  +6.000e+00  +3e-05  8e-06  1e-07  3e-05  5e-06  0.9890  1e-04   1  1  1 |  0  0\n",
      " 5  +6.000e+00  +6.000e+00  +3e-07  9e-08  1e-09  3e-07  6e-08  0.9890  1e-04   1  0  0 |  0  0\n",
      " 6  +6.000e+00  +6.000e+00  +4e-09  1e-09  1e-11  3e-09  6e-10  0.9890  1e-04   1  0  0 |  0  0\n",
      "\n",
      "OPTIMAL (within feastol=9.9e-10, reltol=6.2e-10, abstol=3.7e-09).\n",
      "Runtime: 0.000741 seconds.\n",
      "\n",
      "optimal value with ECOS: 5.999999995510096\n"
     ]
    }
   ],
   "source": [
    "# Solve with ECOS and display output.\n",
    "prob.solve(solver=cvx.ECOS, verbose=True)\n",
    "print(\"optimal value with ECOS:\", prob.value)"
   ]
  },
  {
   "cell_type": "markdown",
   "metadata": {
    "ExecuteTime": {
     "end_time": "2018-05-22T05:54:17.372518Z",
     "start_time": "2018-05-22T05:54:17.368642Z"
    }
   },
   "source": [
    "## 求解统计"
   ]
  },
  {
   "cell_type": "markdown",
   "metadata": {},
   "source": [
    "当在问题对象上调用求解方法时，调用求解器，问题对象将记录最优值，原始和双重变量的值以及多个求解器统计量。我们已经讨论过如何查看最佳值和变量值。求解器统计信息通过`problem.solver_stats`属性访问，该属性返回`SolverStats`对象。例如，`problem.solver_stats.solve_time`给出求解器求解的时间。"
   ]
  },
  {
   "cell_type": "markdown",
   "metadata": {},
   "source": [
    "## 热启动"
   ]
  },
  {
   "cell_type": "markdown",
   "metadata": {},
   "source": [
    "当为多个参数值解决相同的问题时，许多解算器可以利用以前解决方案中的工作（即热启动）。例如，解算器可能会将以前的解决方案用作初始点或重新使用缓存的矩阵分解。 默认启用热启动，并使用`warm_start`求解器选项进行控制。下面的代码显示了热启动如何加速求解一系列相关的最小二乘问题。"
   ]
  },
  {
   "cell_type": "code",
   "execution_count": 9,
   "metadata": {
    "ExecuteTime": {
     "end_time": "2018-06-04T06:47:31.564518Z",
     "start_time": "2018-06-04T06:47:00.753759Z"
    }
   },
   "outputs": [
    {
     "name": "stdout",
     "output_type": "stream",
     "text": [
      "('First solve time:', 25.75594788)\n",
      "('Second solve time:', 1.875382336)\n"
     ]
    }
   ],
   "source": [
    "import cvxpy as cvx\n",
    "import numpy\n",
    "\n",
    "# Problem data.\n",
    "m = 2000\n",
    "n = 1000\n",
    "numpy.random.seed(1)\n",
    "A = numpy.random.randn(m, n)\n",
    "b = cvx.Parameter(shape=(m,))\n",
    "\n",
    "# Construct the problem.\n",
    "x = cvx.Variable(shape=(n,))\n",
    "prob = cvx.Problem(cvx.Minimize(cvx.sum_squares(A * x - b)), [x >= 0])\n",
    "\n",
    "b.value = numpy.random.randn(m)\n",
    "prob.solve()\n",
    "print((\"First solve time:\", prob.solver_stats.solve_time))\n",
    "\n",
    "b.value = numpy.random.randn(m)\n",
    "prob.solve(warm_start=True)\n",
    "print((\"Second solve time:\", prob.solver_stats.solve_time))"
   ]
  },
  {
   "cell_type": "markdown",
   "metadata": {},
   "source": [
    "在这种情况下，加速来自缓存KKT矩阵分解。如果`A`是一个参数，分解缓存将不可能，而热启动的好处只是一个很好的初始点。"
   ]
  },
  {
   "cell_type": "markdown",
   "metadata": {},
   "source": [
    "## 设置求解器选项"
   ]
  },
  {
   "cell_type": "markdown",
   "metadata": {},
   "source": [
    "对于OSQP，ECOS，ECOS_BB，MOSEK，CBC，CVXOPT和SCS，Python接口允许您设置求解器选项，如最大迭代次数。您可以通过CVXPY作为关键字参数传递这些选项。\n",
    "\n",
    "例如，这里我们告诉SCS使用间接方法求解线性方程而不是直接方法。"
   ]
  },
  {
   "cell_type": "code",
   "execution_count": 11,
   "metadata": {
    "ExecuteTime": {
     "end_time": "2018-06-04T06:47:41.515721Z",
     "start_time": "2018-06-04T06:47:41.512563Z"
    }
   },
   "outputs": [],
   "source": [
    "# Solve with SCS, use sparse-indirect method.\n",
    "#prob.solve(solver=cvx.SCS, verbose=True, use_indirect=True)\n",
    "#print(\"optimal value with SCS:\", prob.value)"
   ]
  },
  {
   "cell_type": "markdown",
   "metadata": {},
   "source": [
    "此处省略翻译。参见[详细选项列表](http://www.cvxpy.org/tutorial/advanced/index.html#warm-start)"
   ]
  },
  {
   "cell_type": "markdown",
   "metadata": {},
   "source": [
    "# 获得标准格式"
   ]
  },
  {
   "cell_type": "markdown",
   "metadata": {},
   "source": [
    "如果您有兴趣获取CVXPY针对问题生成的标准表单，则可以使用`get_problem_data`方法。 在问题对象上调用`get_problem_data(solver)`会返回CVXPY传递给解算器的参数的字典。如果您选择的求解器无法解决问题，CVXPY将引发异常。"
   ]
  },
  {
   "cell_type": "code",
   "execution_count": 12,
   "metadata": {
    "ExecuteTime": {
     "end_time": "2018-06-04T06:47:46.689965Z",
     "start_time": "2018-06-04T06:47:45.558637Z"
    }
   },
   "outputs": [],
   "source": [
    "# Get OSQP arguments.\n",
    "#data = prob.get_problem_data(cvx.OSQP)\n",
    "\n",
    "# Get ECOS arguments.\n",
    "data = prob.get_problem_data(cvx.ECOS)\n",
    "\n",
    "# Get ECOS_BB arguments.\n",
    "#data = prob.get_problem_data(cvx.ECOS_BB)\n",
    "\n",
    "# Get CVXOPT arguments.\n",
    "#data = prob.get_problem_data(cvx.CVXOPT)\n",
    "\n",
    "# Get SCS arguments.\n",
    "#data = prob.get_problem_data(cvx.SCS)"
   ]
  },
  {
   "cell_type": "code",
   "execution_count": 13,
   "metadata": {
    "ExecuteTime": {
     "end_time": "2018-06-04T06:47:46.716958Z",
     "start_time": "2018-06-04T06:47:46.692580Z"
    }
   },
   "outputs": [
    {
     "data": {
      "text/plain": [
       "({'c': array([1., 0., 0., ..., 0., 0., 0.]),\n",
       "  'offset': array([0.]),\n",
       "  'dims': <cvxpy.reductions.solvers.conic_solvers.conic_solver.ConeDims at 0x7fda32cfbe10>,\n",
       "  'A': None,\n",
       "  'b': None,\n",
       "  'G': <3003x1001 sparse matrix of type '<class 'numpy.float64'>'\n",
       "  \twith 2001002 stored elements in Compressed Sparse Column format>,\n",
       "  'h': array([ 1.        , -0.        , -0.        , ...,  2.0726169 ,\n",
       "         -3.6091971 ,  0.96813862])},\n",
       " <cvxpy.reductions.solvers.solving_chain.SolvingChain at 0x7fda700778d0>,\n",
       " [[],\n",
       "  <cvxpy.reductions.inverse_data.InverseData at 0x7fda307be588>,\n",
       "  (),\n",
       "  <cvxpy.reductions.inverse_data.InverseData at 0x7fda307be710>,\n",
       "  {'var_id': 177,\n",
       "   'offset': 0.0,\n",
       "   'eq_constr': [],\n",
       "   'other_constr': [NonPos(Expression(AFFINE, NONPOSITIVE, (1,))),\n",
       "    NonPos(Expression(AFFINE, UNKNOWN, (1000,))),\n",
       "    SOC(Expression(AFFINE, UNKNOWN, (1,)))]}])"
      ]
     },
     "execution_count": 13,
     "metadata": {},
     "output_type": "execute_result"
    }
   ],
   "source": [
    "data"
   ]
  },
  {
   "cell_type": "markdown",
   "metadata": {},
   "source": [
    "求解标准圆锥形问题后，由`get_problem_data`返回结果，可以使用`unpack_results`方法解压缩原始求解器输出。在一个问题上调用`unpack_results(solver, solver_output)`将更新所有原始和双重变量的值以及问题值和状态。\n",
    "\n",
    "例如，以下代码等同于直接使用CVXPY解决问题："
   ]
  },
  {
   "cell_type": "code",
   "execution_count": 14,
   "metadata": {
    "ExecuteTime": {
     "end_time": "2018-06-04T06:47:47.967455Z",
     "start_time": "2018-06-04T06:47:46.720117Z"
    }
   },
   "outputs": [
    {
     "ename": "NameError",
     "evalue": "name 'ecos' is not defined",
     "output_type": "error",
     "traceback": [
      "\u001b[0;31m---------------------------------------------------------------------------\u001b[0m",
      "\u001b[0;31mNameError\u001b[0m                                 Traceback (most recent call last)",
      "\u001b[0;32m<ipython-input-14-243d43afc9c9>\u001b[0m in \u001b[0;36m<module>\u001b[0;34m()\u001b[0m\n\u001b[1;32m      2\u001b[0m \u001b[0mdata\u001b[0m \u001b[0;34m=\u001b[0m \u001b[0mprob\u001b[0m\u001b[0;34m.\u001b[0m\u001b[0mget_problem_data\u001b[0m\u001b[0;34m(\u001b[0m\u001b[0mcvx\u001b[0m\u001b[0;34m.\u001b[0m\u001b[0mECOS\u001b[0m\u001b[0;34m)\u001b[0m\u001b[0;34m\u001b[0m\u001b[0m\n\u001b[1;32m      3\u001b[0m \u001b[0;31m# Call ECOS solver.\u001b[0m\u001b[0;34m\u001b[0m\u001b[0;34m\u001b[0m\u001b[0m\n\u001b[0;32m----> 4\u001b[0;31m solver_output = ecos.solve(data[\"c\"], data[\"G\"], data[\"h\"],\n\u001b[0m\u001b[1;32m      5\u001b[0m                            data[\"dims\"], data[\"A\"], data[\"b\"])\n\u001b[1;32m      6\u001b[0m \u001b[0;31m# Unpack raw solver output.\u001b[0m\u001b[0;34m\u001b[0m\u001b[0;34m\u001b[0m\u001b[0m\n",
      "\u001b[0;31mNameError\u001b[0m: name 'ecos' is not defined"
     ]
    }
   ],
   "source": [
    "# Get ECOS arguments.\n",
    "data = prob.get_problem_data(cvx.ECOS)\n",
    "# Call ECOS solver.\n",
    "solver_output = ecos.solve(data[\"c\"], data[\"G\"], data[\"h\"],\n",
    "                           data[\"dims\"], data[\"A\"], data[\"b\"])\n",
    "# Unpack raw solver output.\n",
    "prob.unpack_results(cvx.ECOS, solver_output)"
   ]
  },
  {
   "cell_type": "markdown",
   "metadata": {},
   "source": [
    "# Reductions"
   ]
  },
  {
   "cell_type": "markdown",
   "metadata": {},
   "source": [
    "CVXPY使用reductions系统将用户提出的问题形式重新写入解算器将接受的标准形式。reduction是从一个问题向同等问题的转变。如果一个解决方案可以有效地转换为另一个解决方案，那么两个问题是等价的。reduction将CVXPY问题作为输入并输出CVXPY问题。[Reductions](http://www.cvxpy.org/api_reference/cvxpy.reductions.html#reductions-api)中讨论了可用的全套Reductions。"
   ]
  }
 ],
 "metadata": {
  "kernelspec": {
   "display_name": "zipline",
   "language": "python",
   "name": "zipline"
  },
  "language_info": {
   "codemirror_mode": {
    "name": "ipython",
    "version": 3
   },
   "file_extension": ".py",
   "mimetype": "text/x-python",
   "name": "python",
   "nbconvert_exporter": "python",
   "pygments_lexer": "ipython3",
   "version": "3.6.5"
  },
  "toc": {
   "base_numbering": 1,
   "nav_menu": {},
   "number_sections": true,
   "sideBar": true,
   "skip_h1_title": false,
   "title_cell": "Table of Contents",
   "title_sidebar": "Contents",
   "toc_cell": false,
   "toc_position": {
    "height": "calc(100% - 180px)",
    "left": "10px",
    "top": "150px",
    "width": "260px"
   },
   "toc_section_display": true,
   "toc_window_display": true
  }
 },
 "nbformat": 4,
 "nbformat_minor": 2
}
