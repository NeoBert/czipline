{
 "cells": [
  {
   "cell_type": "code",
   "execution_count": 1,
   "metadata": {
    "ExecuteTime": {
     "end_time": "2018-06-02T18:50:25.141495Z",
     "start_time": "2018-06-02T18:50:24.837164Z"
    }
   },
   "outputs": [],
   "source": [
    "import cvxpy as cvx"
   ]
  },
  {
   "cell_type": "code",
   "execution_count": 2,
   "metadata": {
    "ExecuteTime": {
     "end_time": "2018-06-02T18:50:25.438785Z",
     "start_time": "2018-06-02T18:50:25.144357Z"
    }
   },
   "outputs": [],
   "source": [
    "import numpy as np\n",
    "import pandas as pd\n",
    "from numpy.testing import assert_almost_equal"
   ]
  },
  {
   "cell_type": "markdown",
   "metadata": {
    "ExecuteTime": {
     "end_time": "2018-06-02T17:24:53.052806Z",
     "start_time": "2018-06-02T17:24:53.046575Z"
    }
   },
   "source": [
    "# 均匀分布权重问题"
   ]
  },
  {
   "cell_type": "code",
   "execution_count": 3,
   "metadata": {
    "ExecuteTime": {
     "end_time": "2018-06-02T18:50:25.448139Z",
     "start_time": "2018-06-02T18:50:25.441662Z"
    }
   },
   "outputs": [],
   "source": [
    "stocks = ['000001', '000002', '000003', '000004', '000005']\n",
    "alphas = pd.Series([0.1, 0.2, 0., -0.1, -0.2], index=stocks)"
   ]
  },
  {
   "cell_type": "code",
   "execution_count": 4,
   "metadata": {
    "ExecuteTime": {
     "end_time": "2018-06-02T18:50:25.456725Z",
     "start_time": "2018-06-02T18:50:25.450277Z"
    }
   },
   "outputs": [],
   "source": [
    "w = cvx.Variable(5)"
   ]
  },
  {
   "cell_type": "code",
   "execution_count": 5,
   "metadata": {
    "ExecuteTime": {
     "end_time": "2018-06-02T18:50:25.468397Z",
     "start_time": "2018-06-02T18:50:25.461541Z"
    }
   },
   "outputs": [],
   "source": [
    "obj = cvx.Maximize(alphas.values.T * w)"
   ]
  },
  {
   "cell_type": "code",
   "execution_count": 6,
   "metadata": {
    "ExecuteTime": {
     "end_time": "2018-06-02T18:50:25.481958Z",
     "start_time": "2018-06-02T18:50:25.471596Z"
    }
   },
   "outputs": [],
   "source": [
    "cons = [w <= 0.5, w >= -1, cvx.sum(cvx.abs(w)) <= 1]"
   ]
  },
  {
   "cell_type": "code",
   "execution_count": 7,
   "metadata": {
    "ExecuteTime": {
     "end_time": "2018-06-02T18:50:25.492261Z",
     "start_time": "2018-06-02T18:50:25.485461Z"
    }
   },
   "outputs": [],
   "source": [
    "prob = cvx.Problem(obj, cons)"
   ]
  },
  {
   "cell_type": "code",
   "execution_count": 8,
   "metadata": {
    "ExecuteTime": {
     "end_time": "2018-06-02T18:50:25.547832Z",
     "start_time": "2018-06-02T18:50:25.499036Z"
    }
   },
   "outputs": [
    {
     "data": {
      "text/plain": [
       "0.19999999996286677"
      ]
     },
     "execution_count": 8,
     "metadata": {},
     "output_type": "execute_result"
    }
   ],
   "source": [
    "prob.solve()"
   ]
  },
  {
   "cell_type": "code",
   "execution_count": 9,
   "metadata": {
    "ExecuteTime": {
     "end_time": "2018-06-02T18:50:25.559336Z",
     "start_time": "2018-06-02T18:50:25.552397Z"
    }
   },
   "outputs": [
    {
     "data": {
      "text/plain": [
       "array([-0.    ,  0.3641, -0.    ,  0.    , -0.6359])"
      ]
     },
     "execution_count": 9,
     "metadata": {},
     "output_type": "execute_result"
    }
   ],
   "source": [
    "np.round(w.value, 4)"
   ]
  },
  {
   "cell_type": "markdown",
   "metadata": {},
   "source": [
    "# 结构"
   ]
  },
  {
   "cell_type": "code",
   "execution_count": 15,
   "metadata": {
    "ExecuteTime": {
     "end_time": "2018-06-02T18:55:10.136606Z",
     "start_time": "2018-06-02T18:55:10.127941Z"
    }
   },
   "outputs": [
    {
     "data": {
      "text/plain": [
       "'ECOS'"
      ]
     },
     "execution_count": 15,
     "metadata": {},
     "output_type": "execute_result"
    }
   ],
   "source": [
    "prob.solver_stats.solver_name"
   ]
  },
  {
   "cell_type": "code",
   "execution_count": 17,
   "metadata": {
    "ExecuteTime": {
     "end_time": "2018-06-02T18:55:40.313230Z",
     "start_time": "2018-06-02T18:55:40.272803Z"
    }
   },
   "outputs": [
    {
     "data": {
      "text/plain": [
       "({'c': array([-0.1, -0.2,  0. ,  0.1,  0.2,  0. ,  0. ,  0. ,  0. ,  0. ]),\n",
       "  'offset': array([0.]),\n",
       "  'dims': <cvxpy.reductions.solvers.conic_solvers.conic_solver.ConeDims at 0x7f7219327588>,\n",
       "  'A': None,\n",
       "  'b': None,\n",
       "  'G': <21x10 sparse matrix of type '<class 'numpy.float64'>'\n",
       "  \twith 35 stored elements in Compressed Sparse Column format>,\n",
       "  'h': array([ 0.5,  0.5,  0.5,  0.5,  0.5,  1. ,  1. ,  1. ,  1. ,  1. , -0. ,\n",
       "         -0. , -0. , -0. , -0. , -0. , -0. , -0. , -0. , -0. ,  1. ])},\n",
       " <cvxpy.reductions.solvers.solving_chain.SolvingChain at 0x7f7219584518>,\n",
       " [[],\n",
       "  <cvxpy.reductions.inverse_data.InverseData at 0x7f7219584940>,\n",
       "  (),\n",
       "  <cvxpy.reductions.inverse_data.InverseData at 0x7f7219584da0>,\n",
       "  {'var_id': 36,\n",
       "   'offset': 0.0,\n",
       "   'eq_constr': [],\n",
       "   'other_constr': [NonPos(Expression(AFFINE, UNKNOWN, (5,))),\n",
       "    NonPos(Expression(AFFINE, UNKNOWN, (5,))),\n",
       "    NonPos(Expression(AFFINE, UNKNOWN, (5,))),\n",
       "    NonPos(Expression(AFFINE, UNKNOWN, (5,))),\n",
       "    NonPos(Expression(AFFINE, UNKNOWN, ()))]}])"
      ]
     },
     "execution_count": 17,
     "metadata": {},
     "output_type": "execute_result"
    }
   ],
   "source": [
    "prob.get_problem_data(cvx.ECOS)"
   ]
  },
  {
   "cell_type": "code",
   "execution_count": null,
   "metadata": {},
   "outputs": [],
   "source": []
  }
 ],
 "metadata": {
  "kernelspec": {
   "display_name": "zipline",
   "language": "python",
   "name": "zipline"
  },
  "language_info": {
   "codemirror_mode": {
    "name": "ipython",
    "version": 3
   },
   "file_extension": ".py",
   "mimetype": "text/x-python",
   "name": "python",
   "nbconvert_exporter": "python",
   "pygments_lexer": "ipython3",
   "version": "3.6.5"
  },
  "toc": {
   "base_numbering": 1,
   "nav_menu": {},
   "number_sections": true,
   "sideBar": true,
   "skip_h1_title": false,
   "title_cell": "Table of Contents",
   "title_sidebar": "Contents",
   "toc_cell": false,
   "toc_position": {},
   "toc_section_display": true,
   "toc_window_display": false
  }
 },
 "nbformat": 4,
 "nbformat_minor": 2
}
