{
 "cells": [
  {
   "cell_type": "code",
   "execution_count": 1,
   "metadata": {
    "ExecuteTime": {
     "end_time": "2018-06-02T17:24:32.501624Z",
     "start_time": "2018-06-02T17:24:32.129330Z"
    }
   },
   "outputs": [],
   "source": [
    "import cvxpy as cvx"
   ]
  },
  {
   "cell_type": "code",
   "execution_count": 2,
   "metadata": {
    "ExecuteTime": {
     "end_time": "2018-06-02T17:24:35.930858Z",
     "start_time": "2018-06-02T17:24:35.647631Z"
    }
   },
   "outputs": [],
   "source": [
    "import numpy as np\n",
    "import pandas as pd\n",
    "from numpy.testing import assert_almost_equal"
   ]
  },
  {
   "cell_type": "markdown",
   "metadata": {
    "ExecuteTime": {
     "end_time": "2018-06-02T17:24:53.052806Z",
     "start_time": "2018-06-02T17:24:53.046575Z"
    }
   },
   "source": [
    "# 均匀分布权重问题"
   ]
  },
  {
   "cell_type": "code",
   "execution_count": 4,
   "metadata": {
    "ExecuteTime": {
     "end_time": "2018-06-02T17:25:24.184104Z",
     "start_time": "2018-06-02T17:25:24.179925Z"
    }
   },
   "outputs": [],
   "source": [
    "stocks = ['000001', '000002', '000003', '000004', '000005']\n",
    "alphas = pd.Series([0.1, 0.2, 0., -0.1, -0.2], index=stocks)"
   ]
  },
  {
   "cell_type": "code",
   "execution_count": 5,
   "metadata": {
    "ExecuteTime": {
     "end_time": "2018-06-02T17:26:14.970771Z",
     "start_time": "2018-06-02T17:26:14.966360Z"
    }
   },
   "outputs": [],
   "source": [
    "w = cvx.Variable(5)"
   ]
  },
  {
   "cell_type": "code",
   "execution_count": 6,
   "metadata": {
    "ExecuteTime": {
     "end_time": "2018-06-02T17:27:07.027621Z",
     "start_time": "2018-06-02T17:27:07.022151Z"
    }
   },
   "outputs": [],
   "source": [
    "obj = cvx.Maximize(alphas.values.T * w)"
   ]
  },
  {
   "cell_type": "code",
   "execution_count": 26,
   "metadata": {
    "ExecuteTime": {
     "end_time": "2018-06-02T17:48:04.438951Z",
     "start_time": "2018-06-02T17:48:04.435236Z"
    }
   },
   "outputs": [],
   "source": [
    "cons = [w <= 0.5, w >= -1, cvx.sum(cvx.abs(w)) <= 1]"
   ]
  },
  {
   "cell_type": "code",
   "execution_count": 27,
   "metadata": {
    "ExecuteTime": {
     "end_time": "2018-06-02T17:48:04.920047Z",
     "start_time": "2018-06-02T17:48:04.916474Z"
    }
   },
   "outputs": [],
   "source": [
    "prob = cvx.Problem(obj, cons)"
   ]
  },
  {
   "cell_type": "code",
   "execution_count": 28,
   "metadata": {
    "ExecuteTime": {
     "end_time": "2018-06-02T17:48:05.480934Z",
     "start_time": "2018-06-02T17:48:05.456582Z"
    }
   },
   "outputs": [
    {
     "data": {
      "text/plain": [
       "0.19999999996286677"
      ]
     },
     "execution_count": 28,
     "metadata": {},
     "output_type": "execute_result"
    }
   ],
   "source": [
    "prob.solve()"
   ]
  },
  {
   "cell_type": "code",
   "execution_count": 29,
   "metadata": {
    "ExecuteTime": {
     "end_time": "2018-06-02T17:48:07.601862Z",
     "start_time": "2018-06-02T17:48:07.595862Z"
    }
   },
   "outputs": [
    {
     "data": {
      "text/plain": [
       "array([-0.    ,  0.3641, -0.    ,  0.    , -0.6359])"
      ]
     },
     "execution_count": 29,
     "metadata": {},
     "output_type": "execute_result"
    }
   ],
   "source": [
    "np.round(w.value, 4)"
   ]
  },
  {
   "cell_type": "code",
   "execution_count": null,
   "metadata": {},
   "outputs": [],
   "source": []
  }
 ],
 "metadata": {
  "kernelspec": {
   "display_name": "zipline",
   "language": "python",
   "name": "zipline"
  },
  "language_info": {
   "codemirror_mode": {
    "name": "ipython",
    "version": 3
   },
   "file_extension": ".py",
   "mimetype": "text/x-python",
   "name": "python",
   "nbconvert_exporter": "python",
   "pygments_lexer": "ipython3",
   "version": "3.6.5"
  },
  "toc": {
   "base_numbering": 1,
   "nav_menu": {},
   "number_sections": true,
   "sideBar": true,
   "skip_h1_title": false,
   "title_cell": "Table of Contents",
   "title_sidebar": "Contents",
   "toc_cell": false,
   "toc_position": {},
   "toc_section_display": true,
   "toc_window_display": false
  }
 },
 "nbformat": 4,
 "nbformat_minor": 2
}
