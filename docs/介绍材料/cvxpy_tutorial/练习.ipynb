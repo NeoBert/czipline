{
 "cells": [
  {
   "cell_type": "code",
   "execution_count": 1,
   "metadata": {
    "ExecuteTime": {
     "end_time": "2018-05-31T10:20:13.544766Z",
     "start_time": "2018-05-31T10:20:11.227123Z"
    }
   },
   "outputs": [],
   "source": [
    "import cvxpy as cvx\n",
    "from zipline.optimize import MaximizeAlpha, TargetWeights\n",
    "from zipline.optimize.constraints import MaxGrossExposure"
   ]
  },
  {
   "cell_type": "code",
   "execution_count": 2,
   "metadata": {
    "ExecuteTime": {
     "end_time": "2018-05-31T10:20:13.559986Z",
     "start_time": "2018-05-31T10:20:13.552562Z"
    }
   },
   "outputs": [],
   "source": [
    "import numpy as np\n",
    "import pandas as pd\n",
    "from numpy.testing import assert_almost_equal"
   ]
  },
  {
   "cell_type": "code",
   "execution_count": 3,
   "metadata": {
    "ExecuteTime": {
     "end_time": "2018-05-31T10:20:13.573283Z",
     "start_time": "2018-05-31T10:20:13.562955Z"
    }
   },
   "outputs": [],
   "source": [
    "stocks = ['000001', '000002', '000003', '000004', '000005']\n",
    "alphas = pd.Series([0.1, 0.2, 0.3, -0.1, -0.4], index=stocks)\n",
    "weights = pd.Series([-0.2, -0.2, 0.5, 0.5, 0.4], index=stocks)"
   ]
  },
  {
   "cell_type": "markdown",
   "metadata": {},
   "source": [
    "# 测试"
   ]
  },
  {
   "cell_type": "code",
   "execution_count": 4,
   "metadata": {
    "ExecuteTime": {
     "end_time": "2018-05-31T10:20:13.583903Z",
     "start_time": "2018-05-31T10:20:13.577092Z"
    }
   },
   "outputs": [],
   "source": [
    "from zipline.optimize.constraints import CannotHold"
   ]
  },
  {
   "cell_type": "code",
   "execution_count": 5,
   "metadata": {
    "ExecuteTime": {
     "end_time": "2018-05-31T10:20:13.596634Z",
     "start_time": "2018-05-31T10:20:13.586645Z"
    }
   },
   "outputs": [],
   "source": [
    "obj = MaximizeAlpha(alphas)"
   ]
  },
  {
   "cell_type": "code",
   "execution_count": 6,
   "metadata": {
    "ExecuteTime": {
     "end_time": "2018-05-31T10:20:13.607208Z",
     "start_time": "2018-05-31T10:20:13.599781Z"
    }
   },
   "outputs": [],
   "source": [
    "l_w = obj.long_w\n",
    "s_w = obj.short_w\n",
    "w = obj.w\n",
    "l_w_s = obj.long_weights_series\n",
    "s_w_s = obj.short_weights_series"
   ]
  },
  {
   "cell_type": "code",
   "execution_count": 8,
   "metadata": {
    "ExecuteTime": {
     "end_time": "2018-05-31T10:20:13.621632Z",
     "start_time": "2018-05-31T10:20:13.617625Z"
    }
   },
   "outputs": [],
   "source": [
    "cnthd = CannotHold(stocks[2:4])"
   ]
  },
  {
   "cell_type": "code",
   "execution_count": 9,
   "metadata": {
    "ExecuteTime": {
     "end_time": "2018-05-31T10:20:13.635655Z",
     "start_time": "2018-05-31T10:20:13.625642Z"
    }
   },
   "outputs": [],
   "source": [
    "constraints = [con for con in cnthd.gen_constraints(l_w, s_w, l_w_s, s_w_s)]"
   ]
  },
  {
   "cell_type": "code",
   "execution_count": 10,
   "metadata": {
    "ExecuteTime": {
     "end_time": "2018-05-31T10:20:13.645922Z",
     "start_time": "2018-05-31T10:20:13.639710Z"
    }
   },
   "outputs": [],
   "source": [
    "constraints += [cvx.norm(w, 1) <= 1.5, l_w <= 0.5]"
   ]
  },
  {
   "cell_type": "code",
   "execution_count": 11,
   "metadata": {
    "ExecuteTime": {
     "end_time": "2018-05-31T10:20:13.720238Z",
     "start_time": "2018-05-31T10:20:13.650172Z"
    }
   },
   "outputs": [
    {
     "name": "stdout",
     "output_type": "stream",
     "text": [
      "\n",
      "ECOS 2.0.4 - (C) embotech GmbH, Zurich Switzerland, 2012-15. Web: www.embotech.com/ECOS\n",
      "\n",
      "It     pcost       dcost      gap   pres   dres    k/t    mu     step   sigma     IR    |   BT\n",
      " 0  +3.125e-02  -5.169e+00  +4e+01  6e-01  5e-01  1e+00  2e+00    ---    ---    1  1  - |  -  - \n",
      " 1  -2.194e-01  -3.586e-01  +1e+01  7e-02  6e-02  7e-01  7e-01  0.8012  2e-01   0  0  0 |  0  0\n",
      " 2  -7.578e-01  -8.575e-01  +6e+00  3e-02  4e-02  4e-01  3e-01  0.8154  3e-01   0  0  0 |  0  0\n",
      " 3  -5.947e-01  -6.001e-01  +3e-01  1e-03  2e-03  2e-02  1e-02  0.9545  2e-03   0  0  0 |  0  0\n",
      " 4  -5.999e-01  -6.000e-01  +3e-03  1e-05  2e-05  2e-04  2e-04  0.9890  1e-04   0  0  0 |  0  0\n",
      " 5  -6.000e-01  -6.000e-01  +4e-05  1e-07  2e-07  2e-06  2e-06  0.9890  1e-04   1  0  0 |  0  0\n",
      " 6  -6.000e-01  -6.000e-01  +4e-07  2e-09  2e-09  2e-08  2e-08  0.9890  1e-04   1  0  0 |  0  0\n",
      " 7  -6.000e-01  -6.000e-01  +4e-09  2e-11  3e-11  2e-10  2e-10  0.9890  1e-04   1  0  0 |  0  0\n",
      "\n",
      "OPTIMAL (within feastol=2.5e-11, reltol=7.4e-09, abstol=4.5e-09).\n",
      "Runtime: 0.001035 seconds.\n",
      "\n"
     ]
    },
    {
     "data": {
      "text/plain": [
       "0.5999999999161069"
      ]
     },
     "execution_count": 11,
     "metadata": {},
     "output_type": "execute_result"
    }
   ],
   "source": [
    "prob = cvx.Problem(obj.objective, constraints)\n",
    "prob.solve(verbose=True)"
   ]
  },
  {
   "cell_type": "code",
   "execution_count": 12,
   "metadata": {
    "ExecuteTime": {
     "end_time": "2018-05-31T10:20:13.728024Z",
     "start_time": "2018-05-31T10:20:13.723103Z"
    }
   },
   "outputs": [
    {
     "data": {
      "text/plain": [
       "1.5000000000097775"
      ]
     },
     "execution_count": 12,
     "metadata": {},
     "output_type": "execute_result"
    }
   ],
   "source": [
    "sum(l_w.value) - sum(s_w.value)"
   ]
  },
  {
   "cell_type": "code",
   "execution_count": 13,
   "metadata": {
    "ExecuteTime": {
     "end_time": "2018-05-31T10:20:13.742012Z",
     "start_time": "2018-05-31T10:20:13.731002Z"
    }
   },
   "outputs": [
    {
     "data": {
      "text/plain": [
       "000001   -0.0\n",
       "000002    0.0\n",
       "000003   -0.0\n",
       "000004   -0.0\n",
       "000005   -1.5\n",
       "dtype: float64"
      ]
     },
     "execution_count": 13,
     "metadata": {},
     "output_type": "execute_result"
    }
   ],
   "source": [
    "obj.short_weights_value"
   ]
  },
  {
   "cell_type": "code",
   "execution_count": 14,
   "metadata": {
    "ExecuteTime": {
     "end_time": "2018-05-31T10:20:13.753095Z",
     "start_time": "2018-05-31T10:20:13.744660Z"
    }
   },
   "outputs": [
    {
     "data": {
      "text/plain": [
       "000001    0.0\n",
       "000002    0.0\n",
       "000003    0.0\n",
       "000004    0.0\n",
       "000005    0.0\n",
       "dtype: float64"
      ]
     },
     "execution_count": 14,
     "metadata": {},
     "output_type": "execute_result"
    }
   ],
   "source": [
    "obj.long_weights_value"
   ]
  }
 ],
 "metadata": {
  "kernelspec": {
   "display_name": "zipline",
   "language": "python",
   "name": "zipline"
  },
  "language_info": {
   "codemirror_mode": {
    "name": "ipython",
    "version": 3
   },
   "file_extension": ".py",
   "mimetype": "text/x-python",
   "name": "python",
   "nbconvert_exporter": "python",
   "pygments_lexer": "ipython3",
   "version": "3.6.5"
  },
  "toc": {
   "base_numbering": 1,
   "nav_menu": {},
   "number_sections": true,
   "sideBar": true,
   "skip_h1_title": false,
   "title_cell": "Table of Contents",
   "title_sidebar": "Contents",
   "toc_cell": false,
   "toc_position": {},
   "toc_section_display": true,
   "toc_window_display": false
  }
 },
 "nbformat": 4,
 "nbformat_minor": 2
}
