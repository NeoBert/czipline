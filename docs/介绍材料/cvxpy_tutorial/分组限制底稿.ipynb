{
 "cells": [
  {
   "cell_type": "code",
   "execution_count": 1,
   "metadata": {
    "ExecuteTime": {
     "end_time": "2018-06-03T03:32:09.443255Z",
     "start_time": "2018-06-03T03:32:08.866545Z"
    }
   },
   "outputs": [],
   "source": [
    "import cvxpy as cvx\n",
    "import pandas as pd\n",
    "import numpy as np"
   ]
  },
  {
   "cell_type": "code",
   "execution_count": 2,
   "metadata": {
    "ExecuteTime": {
     "end_time": "2018-06-03T03:32:09.449898Z",
     "start_time": "2018-06-03T03:32:09.445580Z"
    }
   },
   "outputs": [],
   "source": [
    "stocks = ['000001', '000002', '000003', '000004', '000005', '000006']\n",
    "rets = pd.Series([-0.15, 0.25, 0.3, -0.1, -0.1, 0.2], index=stocks)"
   ]
  },
  {
   "cell_type": "code",
   "execution_count": 3,
   "metadata": {
    "ExecuteTime": {
     "end_time": "2018-06-03T03:32:09.459486Z",
     "start_time": "2018-06-03T03:32:09.453057Z"
    }
   },
   "outputs": [],
   "source": [
    "labels = {\n",
    "    '000001': 'A',\n",
    "    '000002': 'A',\n",
    "    '000003': 'B',\n",
    "    '000004': 'B',\n",
    "    '000005': 'C',\n",
    "    '000006': 'C',\n",
    "}\n",
    "min_weights = {'A': -0.2, 'B': -0.1, 'C': -0.4}\n",
    "max_weights = {'A': 0.5, 'B': 0.1, 'C': 0.2}"
   ]
  },
  {
   "cell_type": "code",
   "execution_count": 4,
   "metadata": {
    "ExecuteTime": {
     "end_time": "2018-06-03T03:32:09.467628Z",
     "start_time": "2018-06-03T03:32:09.462568Z"
    }
   },
   "outputs": [],
   "source": [
    "labels = pd.Series(labels)\n",
    "min_weights = pd.Series(min_weights)\n",
    "max_weights = pd.Series(max_weights)"
   ]
  },
  {
   "cell_type": "code",
   "execution_count": 5,
   "metadata": {
    "ExecuteTime": {
     "end_time": "2018-06-03T03:32:09.475115Z",
     "start_time": "2018-06-03T03:32:09.471246Z"
    }
   },
   "outputs": [],
   "source": [
    "n = len(stocks)\n",
    "assets = stocks"
   ]
  },
  {
   "cell_type": "code",
   "execution_count": 6,
   "metadata": {
    "ExecuteTime": {
     "end_time": "2018-06-03T03:32:09.484147Z",
     "start_time": "2018-06-03T03:32:09.478656Z"
    }
   },
   "outputs": [],
   "source": [
    "w = cvx.Variable(n)"
   ]
  },
  {
   "cell_type": "code",
   "execution_count": 7,
   "metadata": {
    "ExecuteTime": {
     "end_time": "2018-06-03T03:32:09.494604Z",
     "start_time": "2018-06-03T03:32:09.487506Z"
    }
   },
   "outputs": [],
   "source": [
    "alphas = rets.values\n",
    "long_profit = alphas.T * long_w  # 多头加权收益\n",
    "short_profit = alphas.T * short_w  # 空头加权收益\n",
    "obj = cvx.Maximize(cvx.sum(long_profit + short_profit))"
   ]
  },
  {
   "cell_type": "code",
   "execution_count": 8,
   "metadata": {
    "ExecuteTime": {
     "end_time": "2018-06-03T03:32:09.505159Z",
     "start_time": "2018-06-03T03:32:09.497595Z"
    }
   },
   "outputs": [],
   "source": [
    "base_cons = []\n",
    "if long_w:\n",
    "    base_cons.append(long_w >= 0)\n",
    "if short_w:\n",
    "    base_cons.append(short_w <= 0)"
   ]
  },
  {
   "cell_type": "code",
   "execution_count": 9,
   "metadata": {
    "ExecuteTime": {
     "end_time": "2018-06-03T03:32:09.514410Z",
     "start_time": "2018-06-03T03:32:09.507873Z"
    }
   },
   "outputs": [],
   "source": [
    "group_a = long_w[0] + long_w[1] + short_w[0] + short_w[1]\n",
    "group_b = long_w[2] + long_w[3] + short_w[2] + short_w[3]\n",
    "group_c = long_w[4] + long_w[5] + short_w[4] + short_w[5]"
   ]
  },
  {
   "cell_type": "code",
   "execution_count": 10,
   "metadata": {
    "ExecuteTime": {
     "end_time": "2018-06-03T03:32:09.522945Z",
     "start_time": "2018-06-03T03:32:09.518173Z"
    }
   },
   "outputs": [],
   "source": [
    "constraints = []"
   ]
  },
  {
   "cell_type": "code",
   "execution_count": 11,
   "metadata": {
    "ExecuteTime": {
     "end_time": "2018-06-03T03:32:09.537471Z",
     "start_time": "2018-06-03T03:32:09.526967Z"
    }
   },
   "outputs": [],
   "source": [
    "for g, e in zip(['A','B','C'], (group_a,group_b,group_c)):\n",
    "    constraints.extend([cvx.sum(e) >= min_weights[g],\n",
    "                        cvx.sum(e) <= max_weights[g]])"
   ]
  },
  {
   "cell_type": "code",
   "execution_count": 12,
   "metadata": {
    "ExecuteTime": {
     "end_time": "2018-06-03T03:32:09.545339Z",
     "start_time": "2018-06-03T03:32:09.539496Z"
    }
   },
   "outputs": [],
   "source": [
    "constraints = constraints + base_cons + [cvx.sum(w) <= 2.0]"
   ]
  },
  {
   "cell_type": "code",
   "execution_count": 13,
   "metadata": {
    "ExecuteTime": {
     "end_time": "2018-06-03T03:32:09.552300Z",
     "start_time": "2018-06-03T03:32:09.547709Z"
    }
   },
   "outputs": [],
   "source": [
    "prob = cvx.Problem(obj, constraints)"
   ]
  },
  {
   "cell_type": "code",
   "execution_count": 14,
   "metadata": {
    "ExecuteTime": {
     "end_time": "2018-06-03T03:32:09.569454Z",
     "start_time": "2018-06-03T03:32:09.555573Z"
    }
   },
   "outputs": [
    {
     "data": {
      "text/plain": [
       "True"
      ]
     },
     "execution_count": 14,
     "metadata": {},
     "output_type": "execute_result"
    }
   ],
   "source": [
    "prob.is_dcp()"
   ]
  },
  {
   "cell_type": "code",
   "execution_count": 15,
   "metadata": {
    "ExecuteTime": {
     "end_time": "2018-06-03T03:32:09.638338Z",
     "start_time": "2018-06-03T03:32:09.572707Z"
    }
   },
   "outputs": [
    {
     "data": {
      "text/plain": [
       "0.4352783398124776"
      ]
     },
     "execution_count": 15,
     "metadata": {},
     "output_type": "execute_result"
    }
   ],
   "source": [
    "prob.solve()"
   ]
  },
  {
   "cell_type": "code",
   "execution_count": 16,
   "metadata": {
    "ExecuteTime": {
     "end_time": "2018-06-03T03:32:09.647928Z",
     "start_time": "2018-06-03T03:32:09.641422Z"
    }
   },
   "outputs": [
    {
     "data": {
      "text/plain": [
       "'OSQP'"
      ]
     },
     "execution_count": 16,
     "metadata": {},
     "output_type": "execute_result"
    }
   ],
   "source": [
    "prob.solver_stats.solver_name"
   ]
  },
  {
   "cell_type": "code",
   "execution_count": 17,
   "metadata": {
    "ExecuteTime": {
     "end_time": "2018-06-03T03:32:09.656176Z",
     "start_time": "2018-06-03T03:32:09.651074Z"
    }
   },
   "outputs": [
    {
     "data": {
      "text/plain": [
       "'optimal'"
      ]
     },
     "execution_count": 17,
     "metadata": {},
     "output_type": "execute_result"
    }
   ],
   "source": [
    "prob.status"
   ]
  },
  {
   "cell_type": "code",
   "execution_count": 18,
   "metadata": {
    "ExecuteTime": {
     "end_time": "2018-06-03T03:32:09.667461Z",
     "start_time": "2018-06-03T03:32:09.659843Z"
    }
   },
   "outputs": [
    {
     "data": {
      "text/plain": [
       "array([0.  , 0.97, 0.3 , 0.  , 0.  , 0.06])"
      ]
     },
     "execution_count": 18,
     "metadata": {},
     "output_type": "execute_result"
    }
   ],
   "source": [
    "np.round(long_w.value, 2)"
   ]
  },
  {
   "cell_type": "code",
   "execution_count": 19,
   "metadata": {
    "ExecuteTime": {
     "end_time": "2018-06-03T03:32:09.683413Z",
     "start_time": "2018-06-03T03:32:09.673609Z"
    }
   },
   "outputs": [
    {
     "data": {
      "text/plain": [
       "array([-0.47, -0.  , -0.  , -0.2 ,  0.  ,  0.  ])"
      ]
     },
     "execution_count": 19,
     "metadata": {},
     "output_type": "execute_result"
    }
   ],
   "source": [
    "np.round(short_w.value, 2)"
   ]
  },
  {
   "cell_type": "code",
   "execution_count": 20,
   "metadata": {
    "ExecuteTime": {
     "end_time": "2018-06-03T03:32:09.692923Z",
     "start_time": "2018-06-03T03:32:09.686416Z"
    }
   },
   "outputs": [
    {
     "data": {
      "text/plain": [
       "array([0.47, 0.97, 0.3 , 0.2 , 0.  , 0.06])"
      ]
     },
     "execution_count": 20,
     "metadata": {},
     "output_type": "execute_result"
    }
   ],
   "source": [
    "np.round(w.value, 2)"
   ]
  },
  {
   "cell_type": "code",
   "execution_count": 21,
   "metadata": {
    "ExecuteTime": {
     "end_time": "2018-06-03T03:32:09.700685Z",
     "start_time": "2018-06-03T03:32:09.696462Z"
    }
   },
   "outputs": [],
   "source": [
    "long_profit = alphas.T * long_w.value  # 多头加权收益\n",
    "short_profit = alphas.T * short_w.value  # 空头加权收益"
   ]
  },
  {
   "cell_type": "code",
   "execution_count": 22,
   "metadata": {
    "ExecuteTime": {
     "end_time": "2018-06-03T03:32:09.713141Z",
     "start_time": "2018-06-03T03:32:09.704182Z"
    }
   },
   "outputs": [
    {
     "data": {
      "text/plain": [
       "0.4351840600624567"
      ]
     },
     "execution_count": 22,
     "metadata": {},
     "output_type": "execute_result"
    }
   ],
   "source": [
    "sum(long_profit + short_profit)"
   ]
  },
  {
   "cell_type": "code",
   "execution_count": 23,
   "metadata": {
    "ExecuteTime": {
     "end_time": "2018-06-03T03:32:09.723972Z",
     "start_time": "2018-06-03T03:32:09.716133Z"
    }
   },
   "outputs": [
    {
     "name": "stdout",
     "output_type": "stream",
     "text": [
      "0.5015360517960552\n",
      "0.10064467768920698\n",
      "0.06023509390946014\n"
     ]
    }
   ],
   "source": [
    "for i in range(0,6,2):\n",
    "    print(sum(short_w.value[i:i+2] + long_w.value[i:i+2]))"
   ]
  },
  {
   "cell_type": "code",
   "execution_count": 24,
   "metadata": {
    "ExecuteTime": {
     "end_time": "2018-06-03T03:32:11.679676Z",
     "start_time": "2018-06-03T03:32:09.727454Z"
    }
   },
   "outputs": [],
   "source": [
    "from zipline.optimize import NotConstrained"
   ]
  },
  {
   "cell_type": "code",
   "execution_count": 25,
   "metadata": {
    "ExecuteTime": {
     "end_time": "2018-06-03T03:32:11.687497Z",
     "start_time": "2018-06-03T03:32:11.681795Z"
    }
   },
   "outputs": [
    {
     "data": {
      "text/plain": [
       "'NotConstrained'"
      ]
     },
     "execution_count": 25,
     "metadata": {},
     "output_type": "execute_result"
    }
   ],
   "source": [
    "NotConstrained"
   ]
  },
  {
   "cell_type": "code",
   "execution_count": 26,
   "metadata": {
    "ExecuteTime": {
     "end_time": "2018-06-03T03:32:12.080514Z",
     "start_time": "2018-06-03T03:32:11.690836Z"
    }
   },
   "outputs": [
    {
     "name": "stdout",
     "output_type": "stream",
     "text": [
      "optimal\n",
      "最优解 0.4353\n",
      "绝对值权重\n",
      " [0.4713 0.9734 0.2985 0.1976 0.     0.0602]\n"
     ]
    },
    {
     "ename": "NameError",
     "evalue": "name 'l_w' is not defined",
     "output_type": "error",
     "traceback": [
      "\u001b[0;31m---------------------------------------------------------------------------\u001b[0m",
      "\u001b[0;31mNameError\u001b[0m                                 Traceback (most recent call last)",
      "\u001b[0;32m<ipython-input-26-7d0e76783310>\u001b[0m in \u001b[0;36m<module>\u001b[0;34m()\u001b[0m\n\u001b[1;32m      2\u001b[0m \u001b[0mprint\u001b[0m\u001b[0;34m(\u001b[0m\u001b[0;34m'最优解'\u001b[0m\u001b[0;34m,\u001b[0m \u001b[0mnp\u001b[0m\u001b[0;34m.\u001b[0m\u001b[0mround\u001b[0m\u001b[0;34m(\u001b[0m\u001b[0mprob\u001b[0m\u001b[0;34m.\u001b[0m\u001b[0mvalue\u001b[0m\u001b[0;34m,\u001b[0m \u001b[0;36m4\u001b[0m\u001b[0;34m)\u001b[0m\u001b[0;34m)\u001b[0m\u001b[0;34m\u001b[0m\u001b[0m\n\u001b[1;32m      3\u001b[0m \u001b[0mprint\u001b[0m\u001b[0;34m(\u001b[0m\u001b[0;34m'绝对值权重\\n'\u001b[0m\u001b[0;34m,\u001b[0m\u001b[0mnp\u001b[0m\u001b[0;34m.\u001b[0m\u001b[0mround\u001b[0m\u001b[0;34m(\u001b[0m\u001b[0mw\u001b[0m\u001b[0;34m.\u001b[0m\u001b[0mvalue\u001b[0m\u001b[0;34m,\u001b[0m \u001b[0;36m4\u001b[0m\u001b[0;34m)\u001b[0m\u001b[0;34m)\u001b[0m\u001b[0;34m\u001b[0m\u001b[0m\n\u001b[0;32m----> 4\u001b[0;31m \u001b[0mprint\u001b[0m\u001b[0;34m(\u001b[0m\u001b[0;34m'多头权重\\n'\u001b[0m\u001b[0;34m,\u001b[0m\u001b[0mnp\u001b[0m\u001b[0;34m.\u001b[0m\u001b[0mround\u001b[0m\u001b[0;34m(\u001b[0m\u001b[0ml_w\u001b[0m\u001b[0;34m.\u001b[0m\u001b[0mvalue\u001b[0m\u001b[0;34m,\u001b[0m \u001b[0;36m4\u001b[0m\u001b[0;34m)\u001b[0m\u001b[0;34m)\u001b[0m\u001b[0;34m\u001b[0m\u001b[0m\n\u001b[0m\u001b[1;32m      5\u001b[0m \u001b[0mprint\u001b[0m\u001b[0;34m(\u001b[0m\u001b[0;34m'空头权重\\n'\u001b[0m\u001b[0;34m,\u001b[0m\u001b[0mnp\u001b[0m\u001b[0;34m.\u001b[0m\u001b[0mround\u001b[0m\u001b[0;34m(\u001b[0m\u001b[0ms_w\u001b[0m\u001b[0;34m.\u001b[0m\u001b[0mvalue\u001b[0m\u001b[0;34m,\u001b[0m \u001b[0;36m4\u001b[0m\u001b[0;34m)\u001b[0m\u001b[0;34m)\u001b[0m\u001b[0;34m\u001b[0m\u001b[0m\n",
      "\u001b[0;31mNameError\u001b[0m: name 'l_w' is not defined"
     ]
    }
   ],
   "source": [
    "print(prob.status)\n",
    "print('最优解', np.round(prob.value, 4))\n",
    "print('绝对值权重\\n',np.round(w.value, 4))\n",
    "print('多头权重\\n',np.round(l_w.value, 4))\n",
    "print('空头权重\\n',np.round(s_w.value, 4))"
   ]
  },
  {
   "cell_type": "code",
   "execution_count": null,
   "metadata": {
    "ExecuteTime": {
     "end_time": "2018-06-03T03:32:12.082033Z",
     "start_time": "2018-06-03T03:32:08.730Z"
    }
   },
   "outputs": [],
   "source": [
    "s = pd.Series([np.nan, 1,2])"
   ]
  },
  {
   "cell_type": "code",
   "execution_count": null,
   "metadata": {
    "ExecuteTime": {
     "end_time": "2018-06-03T03:32:12.083959Z",
     "start_time": "2018-06-03T03:32:08.733Z"
    }
   },
   "outputs": [],
   "source": [
    "s.values"
   ]
  },
  {
   "cell_type": "code",
   "execution_count": null,
   "metadata": {},
   "outputs": [],
   "source": []
  }
 ],
 "metadata": {
  "kernelspec": {
   "display_name": "zipline",
   "language": "python",
   "name": "zipline"
  },
  "language_info": {
   "codemirror_mode": {
    "name": "ipython",
    "version": 3
   },
   "file_extension": ".py",
   "mimetype": "text/x-python",
   "name": "python",
   "nbconvert_exporter": "python",
   "pygments_lexer": "ipython3",
   "version": "3.6.5"
  },
  "toc": {
   "base_numbering": 1,
   "nav_menu": {},
   "number_sections": true,
   "sideBar": true,
   "skip_h1_title": false,
   "title_cell": "Table of Contents",
   "title_sidebar": "Contents",
   "toc_cell": false,
   "toc_position": {},
   "toc_section_display": true,
   "toc_window_display": false
  }
 },
 "nbformat": 4,
 "nbformat_minor": 2
}
