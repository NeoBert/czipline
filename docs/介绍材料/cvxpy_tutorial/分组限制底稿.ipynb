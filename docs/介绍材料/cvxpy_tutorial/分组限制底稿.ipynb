{
 "cells": [
  {
   "cell_type": "code",
   "execution_count": 1,
   "metadata": {
    "ExecuteTime": {
     "end_time": "2018-05-30T16:04:54.981362Z",
     "start_time": "2018-05-30T16:04:54.377090Z"
    }
   },
   "outputs": [],
   "source": [
    "import cvxpy as cvx\n",
    "import pandas as pd\n",
    "import numpy as np"
   ]
  },
  {
   "cell_type": "code",
   "execution_count": 2,
   "metadata": {
    "ExecuteTime": {
     "end_time": "2018-05-30T16:04:54.989221Z",
     "start_time": "2018-05-30T16:04:54.984326Z"
    }
   },
   "outputs": [],
   "source": [
    "stocks = ['000001', '000002', '000003', '000004', '000005', '000006']\n",
    "rets = pd.Series([-0.15, 0.25, 0.3, -0.1, -0.1, 0.2], index=stocks)"
   ]
  },
  {
   "cell_type": "code",
   "execution_count": 3,
   "metadata": {
    "ExecuteTime": {
     "end_time": "2018-05-30T16:04:55.003514Z",
     "start_time": "2018-05-30T16:04:54.992608Z"
    }
   },
   "outputs": [],
   "source": [
    "labels = {\n",
    "    '000001': 'A',\n",
    "    '000002': 'A',\n",
    "    '000003': 'B',\n",
    "    '000004': 'B',\n",
    "    '000005': 'C',\n",
    "    '000006': 'C',\n",
    "}\n",
    "min_weights = {'A': -0.2, 'B': -0.1, 'C': -0.4}\n",
    "max_weights = {'A': 0.5, 'B': 0.1, 'C': 0.2}"
   ]
  },
  {
   "cell_type": "code",
   "execution_count": 4,
   "metadata": {
    "ExecuteTime": {
     "end_time": "2018-05-30T16:04:55.013917Z",
     "start_time": "2018-05-30T16:04:55.006723Z"
    }
   },
   "outputs": [],
   "source": [
    "labels = pd.Series(labels)\n",
    "min_weights = pd.Series(min_weights)\n",
    "max_weights = pd.Series(max_weights)"
   ]
  },
  {
   "cell_type": "code",
   "execution_count": 5,
   "metadata": {
    "ExecuteTime": {
     "end_time": "2018-05-30T16:04:55.021058Z",
     "start_time": "2018-05-30T16:04:55.017689Z"
    }
   },
   "outputs": [],
   "source": [
    "n = len(stocks)\n",
    "assets = stocks"
   ]
  },
  {
   "cell_type": "code",
   "execution_count": 6,
   "metadata": {
    "ExecuteTime": {
     "end_time": "2018-05-30T16:04:55.031053Z",
     "start_time": "2018-05-30T16:04:55.024541Z"
    }
   },
   "outputs": [],
   "source": [
    "long_w = cvx.Variable(n, nonneg=True)\n",
    "# 空头权重(数字非正)\n",
    "short_w = cvx.Variable(n, nonpos=True)\n",
    "# 绝对值权重\n",
    "w = long_w - short_w\n",
    "# 资产索引(用于调整限定条件多空权重变量参数位置"
   ]
  },
  {
   "cell_type": "code",
   "execution_count": 7,
   "metadata": {
    "ExecuteTime": {
     "end_time": "2018-05-30T16:04:55.042905Z",
     "start_time": "2018-05-30T16:04:55.034579Z"
    }
   },
   "outputs": [],
   "source": [
    "alphas = rets.values\n",
    "long_profit = alphas.T * long_w  # 多头加权收益\n",
    "short_profit = alphas.T * short_w  # 空头加权收益\n",
    "obj = cvx.Maximize(cvx.sum(long_profit + short_profit))"
   ]
  },
  {
   "cell_type": "code",
   "execution_count": 8,
   "metadata": {
    "ExecuteTime": {
     "end_time": "2018-05-30T16:04:55.052622Z",
     "start_time": "2018-05-30T16:04:55.046399Z"
    }
   },
   "outputs": [],
   "source": [
    "base_cons = []\n",
    "if long_w:\n",
    "    base_cons.append(long_w >= 0)\n",
    "if short_w:\n",
    "    base_cons.append(short_w <= 0)"
   ]
  },
  {
   "cell_type": "code",
   "execution_count": 9,
   "metadata": {
    "ExecuteTime": {
     "end_time": "2018-05-30T16:04:55.062787Z",
     "start_time": "2018-05-30T16:04:55.056683Z"
    }
   },
   "outputs": [],
   "source": [
    "group_a = long_w[0] + long_w[1] + short_w[0] + short_w[1]\n",
    "group_b = long_w[2] + long_w[3] + short_w[2] + short_w[3]\n",
    "group_c = long_w[4] + long_w[5] + short_w[4] + short_w[5]"
   ]
  },
  {
   "cell_type": "code",
   "execution_count": 10,
   "metadata": {
    "ExecuteTime": {
     "end_time": "2018-05-30T16:04:55.069522Z",
     "start_time": "2018-05-30T16:04:55.066320Z"
    }
   },
   "outputs": [],
   "source": [
    "constraints = []"
   ]
  },
  {
   "cell_type": "code",
   "execution_count": 11,
   "metadata": {
    "ExecuteTime": {
     "end_time": "2018-05-30T16:04:55.082848Z",
     "start_time": "2018-05-30T16:04:55.073986Z"
    }
   },
   "outputs": [],
   "source": [
    "for g, e in zip(['A','B','C'], (group_a,group_b,group_c)):\n",
    "    constraints.extend([cvx.sum(e) >= min_weights[g],\n",
    "                        cvx.sum(e) <= max_weights[g]])"
   ]
  },
  {
   "cell_type": "code",
   "execution_count": 12,
   "metadata": {
    "ExecuteTime": {
     "end_time": "2018-05-30T16:04:55.092910Z",
     "start_time": "2018-05-30T16:04:55.086463Z"
    }
   },
   "outputs": [],
   "source": [
    "constraints = constraints + base_cons + [cvx.sum(w) <= 2.0]"
   ]
  },
  {
   "cell_type": "code",
   "execution_count": 13,
   "metadata": {
    "ExecuteTime": {
     "end_time": "2018-05-30T16:04:55.102383Z",
     "start_time": "2018-05-30T16:04:55.096054Z"
    }
   },
   "outputs": [],
   "source": [
    "prob = cvx.Problem(obj, constraints)"
   ]
  },
  {
   "cell_type": "code",
   "execution_count": 14,
   "metadata": {
    "ExecuteTime": {
     "end_time": "2018-05-30T16:04:55.126061Z",
     "start_time": "2018-05-30T16:04:55.105077Z"
    }
   },
   "outputs": [
    {
     "data": {
      "text/plain": [
       "True"
      ]
     },
     "execution_count": 14,
     "metadata": {},
     "output_type": "execute_result"
    }
   ],
   "source": [
    "prob.is_dcp()"
   ]
  },
  {
   "cell_type": "code",
   "execution_count": 15,
   "metadata": {
    "ExecuteTime": {
     "end_time": "2018-05-30T16:04:55.190132Z",
     "start_time": "2018-05-30T16:04:55.129044Z"
    }
   },
   "outputs": [
    {
     "data": {
      "text/plain": [
       "0.4352783398124776"
      ]
     },
     "execution_count": 15,
     "metadata": {},
     "output_type": "execute_result"
    }
   ],
   "source": [
    "prob.solve()"
   ]
  },
  {
   "cell_type": "code",
   "execution_count": 16,
   "metadata": {
    "ExecuteTime": {
     "end_time": "2018-05-30T16:04:55.198560Z",
     "start_time": "2018-05-30T16:04:55.193892Z"
    }
   },
   "outputs": [
    {
     "data": {
      "text/plain": [
       "'OSQP'"
      ]
     },
     "execution_count": 16,
     "metadata": {},
     "output_type": "execute_result"
    }
   ],
   "source": [
    "prob.solver_stats.solver_name"
   ]
  },
  {
   "cell_type": "code",
   "execution_count": 17,
   "metadata": {
    "ExecuteTime": {
     "end_time": "2018-05-30T16:04:55.205839Z",
     "start_time": "2018-05-30T16:04:55.201483Z"
    }
   },
   "outputs": [
    {
     "data": {
      "text/plain": [
       "'optimal'"
      ]
     },
     "execution_count": 17,
     "metadata": {},
     "output_type": "execute_result"
    }
   ],
   "source": [
    "prob.status"
   ]
  },
  {
   "cell_type": "code",
   "execution_count": 18,
   "metadata": {
    "ExecuteTime": {
     "end_time": "2018-05-30T16:04:55.219888Z",
     "start_time": "2018-05-30T16:04:55.208187Z"
    }
   },
   "outputs": [
    {
     "data": {
      "text/plain": [
       "array([0.  , 0.97, 0.3 , 0.  , 0.  , 0.06])"
      ]
     },
     "execution_count": 18,
     "metadata": {},
     "output_type": "execute_result"
    }
   ],
   "source": [
    "np.round(long_w.value, 2)"
   ]
  },
  {
   "cell_type": "code",
   "execution_count": 19,
   "metadata": {
    "ExecuteTime": {
     "end_time": "2018-05-30T16:04:55.227980Z",
     "start_time": "2018-05-30T16:04:55.222355Z"
    }
   },
   "outputs": [
    {
     "data": {
      "text/plain": [
       "array([-0.47, -0.  , -0.  , -0.2 ,  0.  ,  0.  ])"
      ]
     },
     "execution_count": 19,
     "metadata": {},
     "output_type": "execute_result"
    }
   ],
   "source": [
    "np.round(short_w.value, 2)"
   ]
  },
  {
   "cell_type": "code",
   "execution_count": 20,
   "metadata": {
    "ExecuteTime": {
     "end_time": "2018-05-30T16:04:55.235150Z",
     "start_time": "2018-05-30T16:04:55.230473Z"
    }
   },
   "outputs": [
    {
     "data": {
      "text/plain": [
       "array([0.47, 0.97, 0.3 , 0.2 , 0.  , 0.06])"
      ]
     },
     "execution_count": 20,
     "metadata": {},
     "output_type": "execute_result"
    }
   ],
   "source": [
    "np.round(w.value, 2)"
   ]
  },
  {
   "cell_type": "code",
   "execution_count": 21,
   "metadata": {
    "ExecuteTime": {
     "end_time": "2018-05-30T16:04:55.240699Z",
     "start_time": "2018-05-30T16:04:55.237685Z"
    }
   },
   "outputs": [],
   "source": [
    "long_profit = alphas.T * long_w.value  # 多头加权收益\n",
    "short_profit = alphas.T * short_w.value  # 空头加权收益"
   ]
  },
  {
   "cell_type": "code",
   "execution_count": 22,
   "metadata": {
    "ExecuteTime": {
     "end_time": "2018-05-30T16:04:55.253383Z",
     "start_time": "2018-05-30T16:04:55.243037Z"
    }
   },
   "outputs": [
    {
     "data": {
      "text/plain": [
       "0.4351840600624567"
      ]
     },
     "execution_count": 22,
     "metadata": {},
     "output_type": "execute_result"
    }
   ],
   "source": [
    "sum(long_profit + short_profit)"
   ]
  },
  {
   "cell_type": "code",
   "execution_count": 23,
   "metadata": {
    "ExecuteTime": {
     "end_time": "2018-05-30T16:04:55.260884Z",
     "start_time": "2018-05-30T16:04:55.255857Z"
    }
   },
   "outputs": [
    {
     "name": "stdout",
     "output_type": "stream",
     "text": [
      "0.5015360517960552\n",
      "0.10064467768920698\n",
      "0.06023509390946014\n"
     ]
    }
   ],
   "source": [
    "for i in range(0,6,2):\n",
    "    print(sum(short_w.value[i:i+2] + long_w.value[i:i+2]))"
   ]
  },
  {
   "cell_type": "code",
   "execution_count": 25,
   "metadata": {
    "ExecuteTime": {
     "end_time": "2018-05-30T16:16:22.107289Z",
     "start_time": "2018-05-30T16:16:21.862659Z"
    }
   },
   "outputs": [],
   "source": [
    "from zipline.optimize import NotConstrained"
   ]
  },
  {
   "cell_type": "code",
   "execution_count": 26,
   "metadata": {
    "ExecuteTime": {
     "end_time": "2018-05-30T16:16:25.824976Z",
     "start_time": "2018-05-30T16:16:25.818238Z"
    }
   },
   "outputs": [
    {
     "data": {
      "text/plain": [
       "'NotConstrained'"
      ]
     },
     "execution_count": 26,
     "metadata": {},
     "output_type": "execute_result"
    }
   ],
   "source": [
    "NotConstrained"
   ]
  },
  {
   "cell_type": "code",
   "execution_count": null,
   "metadata": {},
   "outputs": [],
   "source": [
    "print(prob.status)\n",
    "print('最优解', np.round(prob.value, 4))\n",
    "print('绝对值权重\\n',np.round(w.value, 4))\n",
    "print('多头权重\\n',np.round(l_w.value, 4))\n",
    "print('空头权重\\n',np.round(s_w.value, 4))"
   ]
  },
  {
   "cell_type": "code",
   "execution_count": 30,
   "metadata": {
    "ExecuteTime": {
     "end_time": "2018-05-30T19:58:24.789102Z",
     "start_time": "2018-05-30T19:58:24.784616Z"
    }
   },
   "outputs": [],
   "source": [
    "s = pd.Series([np.nan, 1,2])"
   ]
  },
  {
   "cell_type": "code",
   "execution_count": 33,
   "metadata": {
    "ExecuteTime": {
     "end_time": "2018-05-30T20:12:59.717327Z",
     "start_time": "2018-05-30T20:12:59.711588Z"
    }
   },
   "outputs": [
    {
     "data": {
      "text/plain": [
       "array([nan,  1.,  2.])"
      ]
     },
     "execution_count": 33,
     "metadata": {},
     "output_type": "execute_result"
    }
   ],
   "source": [
    "s.values"
   ]
  },
  {
   "cell_type": "code",
   "execution_count": null,
   "metadata": {},
   "outputs": [],
   "source": []
  }
 ],
 "metadata": {
  "kernelspec": {
   "display_name": "zipline",
   "language": "python",
   "name": "zipline"
  },
  "language_info": {
   "codemirror_mode": {
    "name": "ipython",
    "version": 3
   },
   "file_extension": ".py",
   "mimetype": "text/x-python",
   "name": "python",
   "nbconvert_exporter": "python",
   "pygments_lexer": "ipython3",
   "version": "3.6.5"
  },
  "toc": {
   "base_numbering": 1,
   "nav_menu": {},
   "number_sections": true,
   "sideBar": true,
   "skip_h1_title": false,
   "title_cell": "Table of Contents",
   "title_sidebar": "Contents",
   "toc_cell": false,
   "toc_position": {},
   "toc_section_display": true,
   "toc_window_display": false
  }
 },
 "nbformat": 4,
 "nbformat_minor": 2
}
