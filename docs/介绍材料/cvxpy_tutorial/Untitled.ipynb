{
 "cells": [
  {
   "cell_type": "code",
   "execution_count": 2,
   "metadata": {
    "ExecuteTime": {
     "end_time": "2018-05-25T08:22:27.594535Z",
     "start_time": "2018-05-25T08:22:27.528210Z"
    }
   },
   "outputs": [
    {
     "name": "stdout",
     "output_type": "stream",
     "text": [
      "多头头寸 [0.49999927 0.04999927 0.14999927 0.24999927 0.04999927]\n",
      "空头头寸 [-0.3  -0.05 -0.1  -0.25 -0.05]\n"
     ]
    }
   ],
   "source": [
    "import cvxpy as cvx\n",
    "import numpy as np\n",
    "import pandas as pd\n",
    "\n",
    "\n",
    "# 原始数据\n",
    "long = {'000333':0.2,'002024':0.05,'300001':0.15,'600645':0.1,'600771':0.1}\n",
    "short = {'000333':-0.2,'002024':-0.15}\n",
    "\n",
    "# 每个资产收益率唯一\n",
    "alphas = pd.Series({'000333':0.5,'002024':0.05,'300001':-0.15,'600645':-0.3,'600771':0.4})\n",
    "\n",
    "target_long_weights = pd.Series({'000333':0.5,'002024':0.05,'300001':0.15,'600645':0.25,'600771':0.05})\n",
    "target_short_weights = -pd.Series({'000333':0.3,'002024':0.05,'300001':0.10,'600645':0.25,'600771':0.05})\n",
    "\n",
    "long_weights = cvx.Variable((5), nonneg=True)\n",
    "short_weights = cvx.Variable((5), nonpos=True)\n",
    "\n",
    "long_diff = cvx.sum_squares(long_weights - target_long_weights)\n",
    "short_diff = cvx.sum_squares(short_weights - target_short_weights)\n",
    "\n",
    "objective = cvx.Minimize(long_diff + short_diff)\n",
    "# objective = cvx.Maximize()\n",
    "prob = cvx.Problem(objective, [cvx.sum(long_weights) <= 1.0,\n",
    "                               cvx.sum(cvx.abs(short_weights)) <= 1.0])\n",
    "prob.solve()\n",
    "\n",
    "print('多头头寸',long_weights.value)\n",
    "print('空头头寸',short_weights.value)"
   ]
  },
  {
   "cell_type": "code",
   "execution_count": null,
   "metadata": {},
   "outputs": [],
   "source": []
  }
 ],
 "metadata": {
  "kernelspec": {
   "display_name": "zipline",
   "language": "python",
   "name": "zipline"
  },
  "language_info": {
   "codemirror_mode": {
    "name": "ipython",
    "version": 3
   },
   "file_extension": ".py",
   "mimetype": "text/x-python",
   "name": "python",
   "nbconvert_exporter": "python",
   "pygments_lexer": "ipython3",
   "version": "3.6.5"
  },
  "toc": {
   "base_numbering": 1,
   "nav_menu": {},
   "number_sections": true,
   "sideBar": true,
   "skip_h1_title": false,
   "title_cell": "Table of Contents",
   "title_sidebar": "Contents",
   "toc_cell": false,
   "toc_position": {},
   "toc_section_display": true,
   "toc_window_display": false
  }
 },
 "nbformat": 4,
 "nbformat_minor": 2
}
