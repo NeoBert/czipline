{
 "cells": [
  {
   "cell_type": "markdown",
   "metadata": {},
   "source": [
    "# alpha"
   ]
  },
  {
   "cell_type": "code",
   "execution_count": 1,
   "metadata": {
    "ExecuteTime": {
     "end_time": "2018-06-04T19:00:07.645681Z",
     "start_time": "2018-06-04T19:00:07.641930Z"
    }
   },
   "outputs": [],
   "source": [
    "from itertools import combinations"
   ]
  },
  {
   "cell_type": "code",
   "execution_count": 2,
   "metadata": {
    "ExecuteTime": {
     "end_time": "2018-06-04T19:00:10.917505Z",
     "start_time": "2018-06-04T19:00:07.649266Z"
    }
   },
   "outputs": [],
   "source": [
    "import numpy as np\n",
    "import pandas as pd\n",
    "from zipline.research import returns"
   ]
  },
  {
   "cell_type": "code",
   "execution_count": 3,
   "metadata": {
    "ExecuteTime": {
     "end_time": "2018-06-04T19:00:10.923550Z",
     "start_time": "2018-06-04T19:00:10.920459Z"
    }
   },
   "outputs": [],
   "source": [
    "stocks = [str(i) for i in range(300001,300021)]"
   ]
  },
  {
   "cell_type": "code",
   "execution_count": 4,
   "metadata": {
    "ExecuteTime": {
     "end_time": "2018-06-04T19:00:12.147419Z",
     "start_time": "2018-06-04T19:00:10.926243Z"
    }
   },
   "outputs": [
    {
     "name": "stdout",
     "output_type": "stream",
     "text": [
      "[2018-06-05 03:00:12.086822] INFO: zipline.finance.metrics.tracker: 模拟1个交易日\n",
      "首个开盘时间: 2018-05-31 01:31:00+00:00\n",
      "最后收盘时间: 2018-05-31 07:00:00+00:00\n"
     ]
    }
   ],
   "source": [
    "mu = returns(stocks, '2018-3-20','2018-5-31').mean()"
   ]
  },
  {
   "cell_type": "code",
   "execution_count": 5,
   "metadata": {
    "ExecuteTime": {
     "end_time": "2018-06-04T19:00:12.168383Z",
     "start_time": "2018-06-04T19:00:12.151494Z"
    }
   },
   "outputs": [
    {
     "data": {
      "text/plain": [
       "特锐德(300001)    -0.001444\n",
       "神州泰岳(300002)   -0.002906\n",
       "乐普医疗(300003)    0.004536\n",
       "南风股份(300004)   -0.013959\n",
       "探路者(300005)    -0.000831\n",
       "莱美药业(300006)   -0.001242\n",
       "汉威科技(300007)   -0.001003\n",
       "天海防务(300008)   -0.004395\n",
       "安科生物(300009)    0.000766\n",
       "立思辰(300010)     0.006260\n",
       "鼎汉技术(300011)   -0.005505\n",
       "华测检测(300012)    0.003423\n",
       "新宁物流(300013)   -0.002562\n",
       "亿纬锂能(300014)   -0.000749\n",
       "爱尔眼科(300015)    0.004830\n",
       "北陆药业(300016)    0.004430\n",
       "网宿科技(300017)   -0.003557\n",
       "中元股份(300018)   -0.002182\n",
       "硅宝科技(300019)   -0.004257\n",
       "银江股份(300020)   -0.001900\n",
       "dtype: float64"
      ]
     },
     "execution_count": 5,
     "metadata": {},
     "output_type": "execute_result"
    }
   ],
   "source": [
    "mu"
   ]
  },
  {
   "cell_type": "markdown",
   "metadata": {},
   "source": [
    "# 初始权重"
   ]
  },
  {
   "cell_type": "code",
   "execution_count": 6,
   "metadata": {
    "ExecuteTime": {
     "end_time": "2018-06-04T19:00:12.177556Z",
     "start_time": "2018-06-04T19:00:12.172256Z"
    }
   },
   "outputs": [],
   "source": [
    "init_assets = mu.iloc[2:8]"
   ]
  },
  {
   "cell_type": "code",
   "execution_count": 7,
   "metadata": {
    "ExecuteTime": {
     "end_time": "2018-06-04T19:00:12.189429Z",
     "start_time": "2018-06-04T19:00:12.181932Z"
    }
   },
   "outputs": [],
   "source": [
    "w_data = np.random.randn(len(init_assets))"
   ]
  },
  {
   "cell_type": "code",
   "execution_count": 8,
   "metadata": {
    "ExecuteTime": {
     "end_time": "2018-06-04T19:00:12.196897Z",
     "start_time": "2018-06-04T19:00:12.191762Z"
    }
   },
   "outputs": [],
   "source": [
    "init_w = pd.Series(w_data.T / sum(w_data), index = init_assets.index)"
   ]
  },
  {
   "cell_type": "code",
   "execution_count": 9,
   "metadata": {
    "ExecuteTime": {
     "end_time": "2018-06-04T19:00:12.213196Z",
     "start_time": "2018-06-04T19:00:12.205282Z"
    }
   },
   "outputs": [
    {
     "data": {
      "text/plain": [
       "乐普医疗(300003)    0.404753\n",
       "南风股份(300004)   -1.104706\n",
       "探路者(300005)     1.083933\n",
       "莱美药业(300006)   -2.098114\n",
       "汉威科技(300007)    3.449065\n",
       "天海防务(300008)   -0.734932\n",
       "dtype: float64"
      ]
     },
     "execution_count": 9,
     "metadata": {},
     "output_type": "execute_result"
    }
   ],
   "source": [
    "init_w"
   ]
  },
  {
   "cell_type": "markdown",
   "metadata": {},
   "source": [
    "# 优化"
   ]
  },
  {
   "cell_type": "code",
   "execution_count": 10,
   "metadata": {
    "ExecuteTime": {
     "end_time": "2018-06-04T19:00:12.559915Z",
     "start_time": "2018-06-04T19:00:12.219120Z"
    }
   },
   "outputs": [],
   "source": [
    "from zipline.optimize.objectives import TargetWeights, MaximizeAlpha\n",
    "from zipline.optimize.constraints import (MaxGrossExposure, NetExposure,\n",
    "                                          NotExceed, NotLessThan,\n",
    "                                          DollarNeutral, FixedWeight)\n",
    "from zipline.optimize.core import run_optimization, calculate_new_weights"
   ]
  },
  {
   "cell_type": "markdown",
   "metadata": {},
   "source": [
    "## 最大alpha"
   ]
  },
  {
   "cell_type": "code",
   "execution_count": 11,
   "metadata": {
    "ExecuteTime": {
     "end_time": "2018-06-04T19:00:12.566513Z",
     "start_time": "2018-06-04T19:00:12.562653Z"
    }
   },
   "outputs": [],
   "source": [
    "obj = MaximizeAlpha(mu)"
   ]
  },
  {
   "cell_type": "code",
   "execution_count": 12,
   "metadata": {
    "ExecuteTime": {
     "end_time": "2018-06-04T19:00:12.574744Z",
     "start_time": "2018-06-04T19:00:12.570216Z"
    }
   },
   "outputs": [],
   "source": [
    "me = MaxGrossExposure(1.5)\n",
    "ne = NotExceed(0.4)\n",
    "fw = FixedWeight(mu.index[2],0.3)"
   ]
  },
  {
   "cell_type": "code",
   "execution_count": 13,
   "metadata": {
    "ExecuteTime": {
     "end_time": "2018-06-04T19:00:12.717072Z",
     "start_time": "2018-06-04T19:00:12.578028Z"
    }
   },
   "outputs": [
    {
     "data": {
      "text/plain": [
       "特锐德(300001)    -0.0\n",
       "神州泰岳(300002)   -0.0\n",
       "乐普医疗(300003)    0.3\n",
       "南风股份(300004)   -0.4\n",
       "探路者(300005)    -0.0\n",
       "莱美药业(300006)   -0.0\n",
       "汉威科技(300007)   -0.0\n",
       "天海防务(300008)   -0.0\n",
       "安科生物(300009)    0.0\n",
       "立思辰(300010)     0.4\n",
       "鼎汉技术(300011)   -0.4\n",
       "华测检测(300012)    0.0\n",
       "新宁物流(300013)   -0.0\n",
       "亿纬锂能(300014)   -0.0\n",
       "爱尔眼科(300015)    0.0\n",
       "北陆药业(300016)    0.0\n",
       "网宿科技(300017)   -0.0\n",
       "中元股份(300018)   -0.0\n",
       "硅宝科技(300019)   -0.0\n",
       "银江股份(300020)   -0.0\n",
       "dtype: float64"
      ]
     },
     "execution_count": 13,
     "metadata": {},
     "output_type": "execute_result"
    }
   ],
   "source": [
    "calculate_new_weights(obj, [me,ne,fw], init_w)"
   ]
  },
  {
   "cell_type": "markdown",
   "metadata": {},
   "source": [
    "## 目标权重"
   ]
  },
  {
   "cell_type": "code",
   "execution_count": 14,
   "metadata": {
    "ExecuteTime": {
     "end_time": "2018-06-04T19:00:12.722905Z",
     "start_time": "2018-06-04T19:00:12.719374Z"
    }
   },
   "outputs": [],
   "source": [
    "target_weights = pd.Series([0.1,-0.3,-0.2,0.7],index=mu.index[14:18])"
   ]
  },
  {
   "cell_type": "code",
   "execution_count": 15,
   "metadata": {
    "ExecuteTime": {
     "end_time": "2018-06-04T19:00:12.737760Z",
     "start_time": "2018-06-04T19:00:12.731019Z"
    }
   },
   "outputs": [
    {
     "data": {
      "text/plain": [
       "爱尔眼科(300015)    0.1\n",
       "北陆药业(300016)   -0.3\n",
       "网宿科技(300017)   -0.2\n",
       "中元股份(300018)    0.7\n",
       "dtype: float64"
      ]
     },
     "execution_count": 15,
     "metadata": {},
     "output_type": "execute_result"
    }
   ],
   "source": [
    "target_weights"
   ]
  },
  {
   "cell_type": "code",
   "execution_count": 16,
   "metadata": {
    "ExecuteTime": {
     "end_time": "2018-06-04T19:00:12.743295Z",
     "start_time": "2018-06-04T19:00:12.740368Z"
    }
   },
   "outputs": [],
   "source": [
    "obj = TargetWeights(target_weights)"
   ]
  },
  {
   "cell_type": "code",
   "execution_count": 17,
   "metadata": {
    "ExecuteTime": {
     "end_time": "2018-06-04T19:00:12.868331Z",
     "start_time": "2018-06-04T19:00:12.750280Z"
    }
   },
   "outputs": [
    {
     "data": {
      "text/plain": [
       "乐普医疗(300003)    0.0\n",
       "南风股份(300004)    0.0\n",
       "探路者(300005)     0.0\n",
       "莱美药业(300006)    0.0\n",
       "汉威科技(300007)    0.0\n",
       "天海防务(300008)    0.0\n",
       "爱尔眼科(300015)    0.1\n",
       "北陆药业(300016)   -0.3\n",
       "网宿科技(300017)   -0.2\n",
       "中元股份(300018)    0.4\n",
       "dtype: float64"
      ]
     },
     "execution_count": 17,
     "metadata": {},
     "output_type": "execute_result"
    }
   ],
   "source": [
    "calculate_new_weights(obj, [me,ne], init_w)"
   ]
  },
  {
   "cell_type": "code",
   "execution_count": 18,
   "metadata": {
    "ExecuteTime": {
     "end_time": "2018-06-04T19:00:12.875435Z",
     "start_time": "2018-06-04T19:00:12.871609Z"
    }
   },
   "outputs": [],
   "source": [
    "from toolz import concat\n",
    "import cvxpy as cvx"
   ]
  },
  {
   "cell_type": "markdown",
   "metadata": {},
   "source": [
    "## 可解情形"
   ]
  },
  {
   "cell_type": "code",
   "execution_count": 19,
   "metadata": {
    "ExecuteTime": {
     "end_time": "2018-06-04T19:00:12.885396Z",
     "start_time": "2018-06-04T19:00:12.880105Z"
    }
   },
   "outputs": [],
   "source": [
    "objective = MaximizeAlpha(mu)\n",
    "me = MaxGrossExposure(1.5)\n",
    "ne = NotExceed(0.4)\n",
    "fw = FixedWeight(mu.index[2],0.3)\n",
    "constraints = [me,ne]"
   ]
  },
  {
   "cell_type": "code",
   "execution_count": 20,
   "metadata": {
    "ExecuteTime": {
     "end_time": "2018-06-04T19:00:12.909114Z",
     "start_time": "2018-06-04T19:00:12.888594Z"
    }
   },
   "outputs": [],
   "source": [
    "cvx_objective = objective.to_cvxpy(init_w)\n",
    "new_weights = objective.new_weights\n",
    "new_weights_series = objective.new_weights_series\n",
    "constraint_map = {\n",
    "    c: c.to_cvxpy(new_weights, new_weights_series, init_w)\n",
    "    for c in constraints\n",
    "}\n",
    "cvx_constraints = list(concat(constraint_map.values()))"
   ]
  },
  {
   "cell_type": "code",
   "execution_count": 21,
   "metadata": {
    "ExecuteTime": {
     "end_time": "2018-06-04T19:00:13.034310Z",
     "start_time": "2018-06-04T19:00:12.911228Z"
    }
   },
   "outputs": [
    {
     "data": {
      "text/plain": [
       "0.01173867217044785"
      ]
     },
     "execution_count": 21,
     "metadata": {},
     "output_type": "execute_result"
    }
   ],
   "source": [
    "problem = cvx.Problem(cvx_objective, cvx_constraints)\n",
    "problem.solve()"
   ]
  },
  {
   "cell_type": "code",
   "execution_count": 22,
   "metadata": {
    "ExecuteTime": {
     "end_time": "2018-06-04T19:00:13.045185Z",
     "start_time": "2018-06-04T19:00:13.039721Z"
    }
   },
   "outputs": [
    {
     "data": {
      "text/plain": [
       "array([-7.85244334e-10, -1.93639781e-09,  1.32003964e-09, -3.99999999e-01,\n",
       "       -4.32292255e-10, -6.63800408e-10, -5.27224512e-10, -2.96415058e-09,\n",
       "        3.97299800e-10,  3.99999992e-01, -3.99999986e-01,  2.49847970e-09,\n",
       "       -1.60897951e-09, -3.88228080e-10,  2.99999962e-01,  2.84048279e-09,\n",
       "       -2.64927256e-09, -1.29377376e-09, -3.10403912e-09, -1.08524316e-09])"
      ]
     },
     "execution_count": 22,
     "metadata": {},
     "output_type": "execute_result"
    }
   ],
   "source": [
    "new_weights.value"
   ]
  },
  {
   "cell_type": "code",
   "execution_count": 23,
   "metadata": {
    "ExecuteTime": {
     "end_time": "2018-06-04T19:00:13.056161Z",
     "start_time": "2018-06-04T19:00:13.049697Z"
    }
   },
   "outputs": [
    {
     "data": {
      "text/plain": [
       "'ECOS'"
      ]
     },
     "execution_count": 23,
     "metadata": {},
     "output_type": "execute_result"
    }
   ],
   "source": [
    "problem.solver_stats.solver_name"
   ]
  },
  {
   "cell_type": "raw",
   "metadata": {
    "ExecuteTime": {
     "end_time": "2018-06-04T06:50:28.247650Z",
     "start_time": "2018-06-04T06:50:22.487Z"
    }
   },
   "source": [
    "prob_data = problem.get_problem_data(cvx.ECOS)"
   ]
  },
  {
   "cell_type": "markdown",
   "metadata": {},
   "source": [
    "# 无解问题"
   ]
  },
  {
   "cell_type": "markdown",
   "metadata": {
    "ExecuteTime": {
     "end_time": "2018-06-04T06:53:53.107921Z",
     "start_time": "2018-06-04T06:53:53.105489Z"
    }
   },
   "source": [
    "## 冲突限制"
   ]
  },
  {
   "cell_type": "code",
   "execution_count": 24,
   "metadata": {
    "ExecuteTime": {
     "end_time": "2018-06-04T19:00:13.064170Z",
     "start_time": "2018-06-04T19:00:13.059478Z"
    }
   },
   "outputs": [],
   "source": [
    "objective = MaximizeAlpha(mu)\n",
    "me = MaxGrossExposure(1.5)\n",
    "dn = DollarNeutral(0.001)\n",
    "nl = NotLessThan(0.5)  # 单个权重不少于0.5与每个权重不得超过0.4矛盾\n",
    "ne = NotExceed(0.4)\n",
    "fw = FixedWeight(mu.index[2], 0.3)\n",
    "constraints = [me, dn, ne, nl, fw]"
   ]
  },
  {
   "cell_type": "code",
   "execution_count": 25,
   "metadata": {
    "ExecuteTime": {
     "end_time": "2018-06-04T19:00:13.095668Z",
     "start_time": "2018-06-04T19:00:13.067806Z"
    }
   },
   "outputs": [],
   "source": [
    "cvx_objective = objective.to_cvxpy(init_w)\n",
    "new_weights = objective.new_weights\n",
    "new_weights_series = objective.new_weights_series\n",
    "constraint_map = {\n",
    "    c: c.to_cvxpy(new_weights, new_weights_series, init_w)\n",
    "    for c in constraints\n",
    "}\n",
    "cvx_constraints = list(concat(constraint_map.values()))"
   ]
  },
  {
   "cell_type": "code",
   "execution_count": 26,
   "metadata": {
    "ExecuteTime": {
     "end_time": "2018-06-04T19:00:13.235390Z",
     "start_time": "2018-06-04T19:00:13.099448Z"
    }
   },
   "outputs": [
    {
     "name": "stdout",
     "output_type": "stream",
     "text": [
      "\n",
      "ECOS 2.0.4 - (C) embotech GmbH, Zurich Switzerland, 2012-15. Web: www.embotech.com/ECOS\n",
      "\n",
      "It     pcost       dcost      gap   pres   dres    k/t    mu     step   sigma     IR    |   BT\n",
      " 0  -9.682e-04  -7.519e+00  +2e+02  7e-01  6e-01  1e+00  2e+00    ---    ---    1  1  - |  -  - \n",
      " 1  +4.133e-03  -1.651e+00  +4e+01  7e-01  2e-01  2e+00  4e-01  0.7997  9e-02   1  0  0 |  0  0\n",
      " 2  +1.276e-03  +8.561e+01  +3e+00  6e+00  6e-01  1e+02  3e-02  0.9890  5e-02   1  0  0 |  0  0\n",
      " 3  +1.355e-03  +8.102e+03  +3e-02  6e+00  6e-01  8e+03  3e-04  0.9890  1e-04   1  0  0 |  0  0\n",
      " 4  +1.390e-03  +7.206e+05  +4e-04  6e+00  6e-01  7e+05  3e-06  0.9890  1e-04   2  0  0 |  0  0\n",
      " 5  +1.424e-03  +6.404e+07  +4e-06  6e+00  6e-01  6e+07  4e-08  0.9890  1e-04   1  0  0 |  0  0\n",
      " 6  +1.463e-03  +5.705e+09  +4e-08  6e+00  6e-01  6e+09  4e-10  0.9890  1e-04   0  0  0 |  0  0\n",
      "\n",
      "PRIMAL INFEASIBLE (within feastol=1.2e-10).\n",
      "Runtime: 0.000535 seconds.\n",
      "\n"
     ]
    },
    {
     "data": {
      "text/plain": [
       "-inf"
      ]
     },
     "execution_count": 26,
     "metadata": {},
     "output_type": "execute_result"
    }
   ],
   "source": [
    "infeasible_problem = cvx.Problem(cvx_objective, cvx_constraints)\n",
    "infeasible_problem.solve(verbose=True)"
   ]
  },
  {
   "cell_type": "code",
   "execution_count": 27,
   "metadata": {
    "ExecuteTime": {
     "end_time": "2018-06-04T19:00:13.245328Z",
     "start_time": "2018-06-04T19:00:13.239265Z"
    }
   },
   "outputs": [
    {
     "data": {
      "text/plain": [
       "'infeasible'"
      ]
     },
     "execution_count": 27,
     "metadata": {},
     "output_type": "execute_result"
    }
   ],
   "source": [
    "infeasible_problem.status"
   ]
  },
  {
   "cell_type": "markdown",
   "metadata": {},
   "source": [
    "## 解析限定范围"
   ]
  },
  {
   "cell_type": "markdown",
   "metadata": {},
   "source": [
    "### 限定对象"
   ]
  },
  {
   "cell_type": "markdown",
   "metadata": {},
   "source": [
    "### 限定对象的常量"
   ]
  },
  {
   "cell_type": "code",
   "execution_count": 28,
   "metadata": {
    "ExecuteTime": {
     "end_time": "2018-06-04T19:00:13.253307Z",
     "start_time": "2018-06-04T19:00:13.249572Z"
    }
   },
   "outputs": [],
   "source": [
    "import re"
   ]
  },
  {
   "cell_type": "code",
   "execution_count": 29,
   "metadata": {
    "ExecuteTime": {
     "end_time": "2018-06-04T19:00:13.265928Z",
     "start_time": "2018-06-04T19:00:13.260766Z"
    }
   },
   "outputs": [],
   "source": [
    "NUM_SIGN_PATTERN = re.compile(r'(-)\\d{1,}.\\d{1,}')\n",
    "VAR_SIGN_PATTERN = re.compile(r'(-)new_weights')\n",
    "INVALID_PATTERN = re.compile(r'\\((new_weights)')\n",
    "NUM_PATTERN = re.compile(r'[-]?(\\d{1,}.\\d{1,})')\n",
    "VAR_ID_PATTERN = re.compile(r'.*?\\[(\\d{1,})\\]')"
   ]
  },
  {
   "cell_type": "code",
   "execution_count": 30,
   "metadata": {
    "ExecuteTime": {
     "end_time": "2018-06-04T19:00:13.272223Z",
     "start_time": "2018-06-04T19:00:13.268543Z"
    }
   },
   "outputs": [],
   "source": [
    "def search_v(expr, pat):\n",
    "    s = re.search(pat, expr)\n",
    "    if s is None:\n",
    "        return None\n",
    "    else:\n",
    "        return s.groups()[0]"
   ]
  },
  {
   "cell_type": "code",
   "execution_count": 31,
   "metadata": {
    "ExecuteTime": {
     "end_time": "2018-06-04T19:00:13.282321Z",
     "start_time": "2018-06-04T19:00:13.274732Z"
    }
   },
   "outputs": [],
   "source": [
    "def parse_constraint_range(constraint):\n",
    "    \"\"\"解析单个限制其权重范围信息\"\"\"\n",
    "    min_, max_ = -np.inf, np.inf\n",
    "    expr = str(constraint)\n",
    "    # 忽略\n",
    "    invalid = search_v(expr, INVALID_PATTERN)\n",
    "    if invalid:\n",
    "        invalid = True\n",
    "    else:\n",
    "        invalid = False\n",
    "    # 常量符号\n",
    "    c_sign = search_v(expr, NUM_SIGN_PATTERN)\n",
    "    if c_sign is None:\n",
    "        c_sign = 1\n",
    "    else:\n",
    "        c_sign = -1\n",
    "    # 变量符号\n",
    "    v_sign = search_v(expr, VAR_SIGN_PATTERN)\n",
    "    if v_sign is None:\n",
    "        v_sign = 1\n",
    "    else:\n",
    "        v_sign = -1\n",
    "    \n",
    "    # 系数值\n",
    "    c_num = search_v(expr, NUM_PATTERN)\n",
    "    if c_num is not None:\n",
    "        c_num = c_sign * float(c_num)\n",
    "        \n",
    "    # 变量切片序号\n",
    "    id_num = search_v(expr, VAR_ID_PATTERN)\n",
    "    if id_num is not None:\n",
    "        id_num =  int(id_num)\n",
    "    \n",
    "    if invalid:\n",
    "        return (None, None, None)\n",
    "    else:\n",
    "        if isinstance(constraint, cvx.Zero):\n",
    "            min_ = -c_num #* c_sign #* v_sign\n",
    "            max_ = -c_num #* c_sign #* v_sign\n",
    "        elif isinstance(constraint, cvx.NonPos):\n",
    "            if v_sign == -1:\n",
    "                min_ = c_num\n",
    "            else:\n",
    "                max_ = -c_num\n",
    "    return (id_num, min_, max_)"
   ]
  },
  {
   "cell_type": "code",
   "execution_count": 32,
   "metadata": {
    "ExecuteTime": {
     "end_time": "2018-06-04T19:00:13.291239Z",
     "start_time": "2018-06-04T19:00:13.284838Z"
    }
   },
   "outputs": [],
   "source": [
    "def gen_ranges(n, rngs):\n",
    "    res = {k: [-np.inf, np.inf] for k in range(n)}\n",
    "    for r in rngs:\n",
    "        if r[0] is not None:\n",
    "            # 更新下限\n",
    "            old = res[r[0]][0]\n",
    "            new = r[1]\n",
    "            res[r[0]][0] = max(old, new)\n",
    "            # 更新上限\n",
    "            old = res[r[0]][1]\n",
    "            new = r[2]\n",
    "            res[r[0]][1] = min(old, new)\n",
    "        else:\n",
    "            for i in range(n):\n",
    "                res[i][0] = -np.inf if r[1] is None else r[1]\n",
    "                res[i][1] = np.inf if r[2] is None else r[2]\n",
    "    return res"
   ]
  },
  {
   "cell_type": "code",
   "execution_count": 33,
   "metadata": {
    "ExecuteTime": {
     "end_time": "2018-06-04T19:00:13.299512Z",
     "start_time": "2018-06-04T19:00:13.294750Z"
    }
   },
   "outputs": [],
   "source": [
    "def check_violate(limit_a, limit_b):\n",
    "    \"\"\"如不相交，违背\"\"\"\n",
    "    if (limit_a[0] > limit_b[1]) or (limit_b[0] > limit_a[1]):\n",
    "        return True\n",
    "    return False"
   ]
  },
  {
   "cell_type": "code",
   "execution_count": 34,
   "metadata": {
    "ExecuteTime": {
     "end_time": "2018-06-04T19:00:13.311859Z",
     "start_time": "2018-06-04T19:00:13.302874Z"
    }
   },
   "outputs": [],
   "source": [
    "def run_diagnostics(objective, new_weights, cvx_objective, constraint_map):\n",
    "    info = '没有找到满足所有必需约束的投资组合，尝试优化失败。'\n",
    "    info += '检查以下投资组合，发现违背约束条件：\\n'\n",
    "    asstes = objective.new_weights_series.index\n",
    "    diagnostics = {}\n",
    "    n = new_weights.size\n",
    "    for k, cons in constraint_map.items():\n",
    "        rngs = []\n",
    "        for c in cons:\n",
    "            rngs.append(parse_constraint_range(c))\n",
    "        diagnostics[k] = gen_ranges(n, rngs)\n",
    "    for k1, k2 in combinations(diagnostics.keys(), 2):\n",
    "        limit_as = diagnostics[k1]\n",
    "        limit_bs = diagnostics[k2]\n",
    "        for i, (limit_a, limit_b) in enumerate(\n",
    "                zip(limit_as.values(), limit_bs.values())):\n",
    "            if check_violate(limit_a, limit_b):\n",
    "                asset = asstes[i]\n",
    "                #msg  = '{}不可能同时满足{}和{}约束'.format(asset，k1, k2)\n",
    "                msg = '{}不可能同时满足{}和{}\\n'.format(asset, k1, k2)\n",
    "                info += msg\n",
    "    return info"
   ]
  },
  {
   "cell_type": "code",
   "execution_count": 35,
   "metadata": {
    "ExecuteTime": {
     "end_time": "2018-06-04T19:00:13.326263Z",
     "start_time": "2018-06-04T19:00:13.315375Z"
    }
   },
   "outputs": [
    {
     "name": "stdout",
     "output_type": "stream",
     "text": [
      "没有找到满足所有必需约束的投资组合，尝试优化失败。检查以下投资组合，发现违背约束条件：\n",
      "特锐德(300001)不可能同时满足NotExceed(区间[-0.4,+0.4])和NotLessThan(权重>=0.5)\n",
      "神州泰岳(300002)不可能同时满足NotExceed(区间[-0.4,+0.4])和NotLessThan(权重>=0.5)\n",
      "乐普医疗(300003)不可能同时满足NotExceed(区间[-0.4,+0.4])和NotLessThan(权重>=0.5)\n",
      "南风股份(300004)不可能同时满足NotExceed(区间[-0.4,+0.4])和NotLessThan(权重>=0.5)\n",
      "探路者(300005)不可能同时满足NotExceed(区间[-0.4,+0.4])和NotLessThan(权重>=0.5)\n",
      "莱美药业(300006)不可能同时满足NotExceed(区间[-0.4,+0.4])和NotLessThan(权重>=0.5)\n",
      "汉威科技(300007)不可能同时满足NotExceed(区间[-0.4,+0.4])和NotLessThan(权重>=0.5)\n",
      "天海防务(300008)不可能同时满足NotExceed(区间[-0.4,+0.4])和NotLessThan(权重>=0.5)\n",
      "安科生物(300009)不可能同时满足NotExceed(区间[-0.4,+0.4])和NotLessThan(权重>=0.5)\n",
      "立思辰(300010)不可能同时满足NotExceed(区间[-0.4,+0.4])和NotLessThan(权重>=0.5)\n",
      "鼎汉技术(300011)不可能同时满足NotExceed(区间[-0.4,+0.4])和NotLessThan(权重>=0.5)\n",
      "华测检测(300012)不可能同时满足NotExceed(区间[-0.4,+0.4])和NotLessThan(权重>=0.5)\n",
      "新宁物流(300013)不可能同时满足NotExceed(区间[-0.4,+0.4])和NotLessThan(权重>=0.5)\n",
      "亿纬锂能(300014)不可能同时满足NotExceed(区间[-0.4,+0.4])和NotLessThan(权重>=0.5)\n",
      "爱尔眼科(300015)不可能同时满足NotExceed(区间[-0.4,+0.4])和NotLessThan(权重>=0.5)\n",
      "北陆药业(300016)不可能同时满足NotExceed(区间[-0.4,+0.4])和NotLessThan(权重>=0.5)\n",
      "网宿科技(300017)不可能同时满足NotExceed(区间[-0.4,+0.4])和NotLessThan(权重>=0.5)\n",
      "中元股份(300018)不可能同时满足NotExceed(区间[-0.4,+0.4])和NotLessThan(权重>=0.5)\n",
      "硅宝科技(300019)不可能同时满足NotExceed(区间[-0.4,+0.4])和NotLessThan(权重>=0.5)\n",
      "银江股份(300020)不可能同时满足NotExceed(区间[-0.4,+0.4])和NotLessThan(权重>=0.5)\n",
      "乐普医疗(300003)不可能同时满足NotLessThan(权重>=0.5)和FixedWeight(限定乐普医疗(300003)权重为0.3)\n",
      "\n"
     ]
    }
   ],
   "source": [
    "print(run_diagnostics(objective, new_weights, cvx_objective, constraint_map))"
   ]
  }
 ],
 "metadata": {
  "kernelspec": {
   "display_name": "zipline",
   "language": "python",
   "name": "zipline"
  },
  "language_info": {
   "codemirror_mode": {
    "name": "ipython",
    "version": 3
   },
   "file_extension": ".py",
   "mimetype": "text/x-python",
   "name": "python",
   "nbconvert_exporter": "python",
   "pygments_lexer": "ipython3",
   "version": "3.6.5"
  },
  "toc": {
   "base_numbering": 1,
   "nav_menu": {},
   "number_sections": true,
   "sideBar": true,
   "skip_h1_title": false,
   "title_cell": "Table of Contents",
   "title_sidebar": "Contents",
   "toc_cell": false,
   "toc_position": {
    "height": "calc(100% - 180px)",
    "left": "10px",
    "top": "150px",
    "width": "260px"
   },
   "toc_section_display": true,
   "toc_window_display": true
  }
 },
 "nbformat": 4,
 "nbformat_minor": 2
}
