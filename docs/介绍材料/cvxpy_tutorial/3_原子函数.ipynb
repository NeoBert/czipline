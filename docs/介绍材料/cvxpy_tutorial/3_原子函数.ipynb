{
 "cells": [
  {
   "cell_type": "markdown",
   "metadata": {},
   "source": [
    "教程的这一部分描述了可以应用于CVXPY表达式的原子函数。 CVXPY使用本节中的函数信息和DCP规则来标记具有符号和曲率的表达式。"
   ]
  },
  {
   "cell_type": "markdown",
   "metadata": {},
   "source": [
    "# `Operators`"
   ]
  },
  {
   "cell_type": "markdown",
   "metadata": {},
   "source": [
    "中缀运算符`+`，`-` ，`*`，`/`被视为函数。`+`和`-`是仿射函数。`*`和`/`在CVXPY中是仿射的，因为只有当其中一个表达式是常量时才允许`expr1 * expr2`，并且只有当`expr2`是标量常量时才允许`expr1 / expr2`。"
   ]
  },
  {
   "cell_type": "markdown",
   "metadata": {},
   "source": [
    "## 索引和切片"
   ]
  },
  {
   "cell_type": "markdown",
   "metadata": {},
   "source": [
    "CVXPY中的索引与`NumPy ndarrays`具有完全相同的语义。例如，如果`expr`具有shape`(5,)`，则`expr[1]`会给出第二个条目。更一般地说，`expr[i:j:k]`选择`expr`的每`k`个元素，从`i`开始到`j-1`结束。如果expr是一个矩阵，那么`expr[i:j:k]`选择行，而`expr[i:j:k, r:s:t]`选择行和列。索引降低维度，而切片保留维度。 例如，"
   ]
  },
  {
   "cell_type": "code",
   "execution_count": 1,
   "metadata": {
    "ExecuteTime": {
     "end_time": "2018-05-21T17:23:07.178068Z",
     "start_time": "2018-05-21T17:23:06.846552Z"
    }
   },
   "outputs": [],
   "source": [
    "import cvxpy as cvx"
   ]
  },
  {
   "cell_type": "code",
   "execution_count": 2,
   "metadata": {
    "ExecuteTime": {
     "end_time": "2018-05-21T17:23:07.187816Z",
     "start_time": "2018-05-21T17:23:07.181153Z"
    }
   },
   "outputs": [
    {
     "name": "stdout",
     "output_type": "stream",
     "text": [
      "0 dimensional ()\n",
      "1 dimensional (1,)\n"
     ]
    }
   ],
   "source": [
    "x = cvx.Variable(5)\n",
    "print(\"0 dimensional\", x[0].shape)\n",
    "print(\"1 dimensional\", x[0:1].shape)"
   ]
  },
  {
   "cell_type": "markdown",
   "metadata": {},
   "source": [
    "## 转置"
   ]
  },
  {
   "cell_type": "markdown",
   "metadata": {},
   "source": [
    "任何表达式的转置都可以使用语法`expr.T`获得。转置是仿射函数。"
   ]
  },
  {
   "cell_type": "markdown",
   "metadata": {},
   "source": [
    "## 幂"
   ]
  },
  {
   "cell_type": "markdown",
   "metadata": {},
   "source": [
    "对于任何CVXPY表达式`expr`，幂操作`expr**p`等价于函数`power(expr, p)`。"
   ]
  },
  {
   "cell_type": "markdown",
   "metadata": {},
   "source": [
    "# 标量函数"
   ]
  },
  {
   "cell_type": "markdown",
   "metadata": {},
   "source": [
    "标量函数使用一个或多个标量，矢量或矩阵作为参数并返回一个标量。"
   ]
  },
  {
   "cell_type": "markdown",
   "metadata": {},
   "source": [
    "![标量函数](scalar_functions.png)"
   ]
  },
  {
   "cell_type": "markdown",
   "metadata": {},
   "source": [
    "## 澄清"
   ]
  },
  {
   "cell_type": "markdown",
   "metadata": {},
   "source": [
    "域$\\mathbf{S}^n$指的是一组对称矩阵。 域$\\mathbf{S}^n_+$和$\\mathbf{S}^n_-$分别表示正半定矩阵和负半定矩阵的集合。同样，$\\mathbf{S}^n_{++}$和$\\mathbf{S}^n_{--}$分别指正定矩阵和负定矩阵的集合。\n",
    "\n",
    "对于向量表达式`x`，`norm(x)`和`norm(x, 2)`给出欧几里得范数。然而，对于矩阵表达式`X`，`norm(X)`和`norm(X, 2)`给出谱范数。\n",
    "\n",
    "函数`norm(X, \"fro\")`被称为[Frobenius norm](http://en.wikipedia.org/wiki/Matrix_norm#Frobenius_norm)和`norm(X, \"nuc\")`核范数。核范数也可以定义为`X`的奇异值的和。\n",
    "\n",
    "The functions max and min give the largest and smallest entry, respectively, in a single expression. These functions should not be confused with maximum and minimum (see Elementwise functions). Use maximum and minimum to find the max or min of a list of scalar expressions.\n",
    "\n",
    "函数`max`和`min`分别在单个表达式中给出最大和最小条目。这些函数不应与最大值和最小值混淆（请参阅[Elementwise函数](http://www.cvxpy.org/tutorial/functions/index.html#elementwise)）。使用`maximum`和`minimum`来查找表达式列表的最大或最小值。\n",
    "\n",
    "The CVXPY function sum sums all the entries in a single expression. The built-in Python sum should be used to add together a list of expressions. For example, the following code sums a list of three expressions:\n",
    "\n",
    "CVXPY函数`sum`将单个表达式中的所有条目相加。Python内置函数`sum`应该用来将表达式列表加在一起。例如，以下代码汇总了三个表达式列表："
   ]
  },
  {
   "cell_type": "raw",
   "metadata": {
    "ExecuteTime": {
     "end_time": "2018-05-21T16:48:18.039189Z",
     "start_time": "2018-05-21T16:48:17.959472Z"
    }
   },
   "source": [
    "expr_list = [expr1, expr2, expr3]\n",
    "expr_sum = sum(expr_list)"
   ]
  },
  {
   "cell_type": "markdown",
   "metadata": {},
   "source": [
    "## 函数沿轴"
   ]
  },
  {
   "cell_type": "markdown",
   "metadata": {},
   "source": [
    "函数`sum`，`norm`，`max`和`min`可以沿轴应用。给定一个`m`乘`n`表达式`expr`，语法`func(expr, axis=0, keepdims=True)`将`func`应用于每列，并返回1乘`n`的表达式。 语法`func(expr, axis=1, keepdims=True) `将`func`应用于每行，并返回一个m乘1的表达式。默认情况下，`keepdims=False`，这意味着长度为1的维度被删除。 例如，以下代码沿矩阵变量的列和行进行求和："
   ]
  },
  {
   "cell_type": "raw",
   "metadata": {},
   "source": [
    "X = cvx.Variable((5, 4)) \n",
    "col_sums = cvx.sum(X, axis=0, keepdims=True) # Has size (1, 4) \n",
    "col_sums = cvx.sum(X, axis=0) # Has size (4,) \n",
    "row_sums = cvx.sum(X, axis=1) # Has size (5,)"
   ]
  },
  {
   "cell_type": "markdown",
   "metadata": {},
   "source": [
    "# 元素函数"
   ]
  },
  {
   "cell_type": "markdown",
   "metadata": {},
   "source": [
    "这些函数对其参数的每个元素进行操作。例如，如果`X`是5×4矩阵变量，则`abs(X)`是5×4矩阵表达式。`abs(X)[1, 2]`等价`abs(X[1, 2])`。\n",
    "\n",
    "元素函数使用多个参数，对每个参数的相应元素进行操作，如`maximum`和`multiply`。 例如，如果`X`和`Y`都是3乘3矩阵变量，则`maximum(X, Y)`是3乘3矩阵表达式` maximum(X, Y)[2, 0] `等于`maximum(X[2, 0], Y[2, 0])`。这意味着所有参数必须具有相同的维度或可提升的标量。"
   ]
  },
  {
   "cell_type": "markdown",
   "metadata": {
    "ExecuteTime": {
     "end_time": "2018-05-21T17:11:15.079912Z",
     "start_time": "2018-05-21T17:11:14.959336Z"
    }
   },
   "source": [
    "![元素函数](elementwise_functions.png)"
   ]
  },
  {
   "cell_type": "markdown",
   "metadata": {},
   "source": [
    "# 向量/矩阵函数"
   ]
  },
  {
   "cell_type": "markdown",
   "metadata": {},
   "source": [
    "矢量/矩阵函数使用一个或多个标量，矢量或矩阵作为参数，并返回矢量或矩阵。"
   ]
  },
  {
   "cell_type": "markdown",
   "metadata": {},
   "source": [
    "![向量或矩阵函数](vector_matrix_functions.png)"
   ]
  },
  {
   "cell_type": "markdown",
   "metadata": {},
   "source": [
    "## 澄清"
   ]
  },
  {
   "cell_type": "markdown",
   "metadata": {},
   "source": [
    "`bmat`的输入是CVXPY表达式列表。它构造了一个块矩阵。 每个内部列表的元素水平堆叠，然后生成的块矩阵垂直堆叠。\n",
    "\n",
    "`conv(c, x)`的输出`y`大小为$n+m-1$，定义为$y[k]=\\sum_{j=0}^k c[j]x[k-j]$\n",
    "\n",
    "`vec(X)`的输出$x'$是矩阵X按列主要顺序展平为向量。正式表达：$x'_i = X_{i \\bmod{m}, \\left \\lfloor{i/m}\\right \\rfloor }$\n",
    "\n",
    "`reshape(X, (m', n'))`的输出$X'$是将矩阵`X`投射到$m' \\times n'$矩阵中，这些条目以列主要顺序从`X`取得，并以列主要顺序存储在$X'$中。正式表达：$X'_{ij} = \\mathbf{vec}(X)_{m'j + i}$"
   ]
  }
 ],
 "metadata": {
  "kernelspec": {
   "display_name": "zipline",
   "language": "python",
   "name": "zipline"
  },
  "language_info": {
   "codemirror_mode": {
    "name": "ipython",
    "version": 3
   },
   "file_extension": ".py",
   "mimetype": "text/x-python",
   "name": "python",
   "nbconvert_exporter": "python",
   "pygments_lexer": "ipython3",
   "version": "3.6.5"
  },
  "toc": {
   "base_numbering": 1,
   "nav_menu": {},
   "number_sections": true,
   "sideBar": true,
   "skip_h1_title": false,
   "title_cell": "Table of Contents",
   "title_sidebar": "Contents",
   "toc_cell": false,
   "toc_position": {},
   "toc_section_display": true,
   "toc_window_display": true
  }
 },
 "nbformat": 4,
 "nbformat_minor": 2
}
