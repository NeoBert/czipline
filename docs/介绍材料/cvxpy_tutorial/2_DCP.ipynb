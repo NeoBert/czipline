{
 "cells": [
  {
   "cell_type": "markdown",
   "metadata": {},
   "source": [
    "凸编程规则(DCP)是一种用于从给定的基函数库构造具有已知曲率的数学表达式的系统。CVXPY使用DCP来确保指定的优化问题是凸的。\n",
    "\n",
    "本教程的这一部分解释了DCP的规则以及它们在CVXPY中的应用。\n",
    "\n",
    "请访问[网址](http://dcp.stanford.edu)以获取更多交互式DCP介绍。"
   ]
  },
  {
   "cell_type": "markdown",
   "metadata": {},
   "source": [
    "# `Expressions`"
   ]
  },
  {
   "cell_type": "markdown",
   "metadata": {},
   "source": [
    "CVXPY中的表达式由变量，参数，数值常量（如Python浮点数和Numpy矩阵），标准算术运算符`+`， `-` ，`*`，`/`和一个函数库组成。 以下是CVXPY表达式的一些示例："
   ]
  },
  {
   "cell_type": "code",
   "execution_count": 1,
   "metadata": {
    "ExecuteTime": {
     "end_time": "2018-05-21T15:55:11.529918Z",
     "start_time": "2018-05-21T15:55:11.274473Z"
    }
   },
   "outputs": [
    {
     "data": {
      "text/plain": [
       "Expression(CONVEX, NONNEGATIVE, ())"
      ]
     },
     "execution_count": 1,
     "metadata": {},
     "output_type": "execute_result"
    }
   ],
   "source": [
    "import cvxpy as cvx\n",
    "\n",
    "# Create variables and parameters.\n",
    "x, y = cvx.Variable(), cvx.Variable()\n",
    "a, b = cvx.Parameter(), cvx.Parameter()\n",
    "\n",
    "# Examples of CVXPY expressions.\n",
    "3.69 + b/3\n",
    "x - 4*a\n",
    "cvx.sqrt(x) - cvx.minimum(y, x - a)\n",
    "cvx.maximum(2.66 - cvx.sqrt(y), cvx.square(x + 2*y))"
   ]
  },
  {
   "cell_type": "markdown",
   "metadata": {},
   "source": [
    "表达式可以是标量，向量或矩阵。 表达式的维度存储为`expr.shape`。条目总数由`expr.size`给出，而维数由`expr.ndim`给出。如果表达式的使用方式在给定维度时没有意义，例如添加不同大小的矩阵，则CVXPY将引发异常。shapes行为在算术运算下的语义与NumPy ndarrays相同（除了某些广播被禁止）。"
   ]
  },
  {
   "cell_type": "code",
   "execution_count": 2,
   "metadata": {
    "ExecuteTime": {
     "end_time": "2018-05-21T15:55:11.539889Z",
     "start_time": "2018-05-21T15:55:11.532278Z"
    }
   },
   "outputs": [
    {
     "name": "stdout",
     "output_type": "stream",
     "text": [
      "('dimensions of X:', (5, 4))\n",
      "('size of X:', 20)\n",
      "('number of dimensions:', 2)\n",
      "('dimensions of sum(X):', ())\n",
      "('dimensions of A*X:', (3, 4))\n",
      "Cannot broadcast dimensions  (3, 5) (5, 4)\n"
     ]
    }
   ],
   "source": [
    "import numpy\n",
    "\n",
    "X = cvx.Variable((5, 4))\n",
    "A = numpy.ones((3, 5))\n",
    "\n",
    "# Use expr.shape to get the dimensions.\n",
    "print((\"dimensions of X:\", X.shape))\n",
    "print((\"size of X:\", X.size))\n",
    "print((\"number of dimensions:\", X.ndim))\n",
    "print((\"dimensions of sum(X):\", cvx.sum(X).shape))\n",
    "print((\"dimensions of A*X:\", (A*X).shape))\n",
    "\n",
    "# ValueError raised for invalid dimensions.\n",
    "try:\n",
    "    A + X\n",
    "except ValueError as e:\n",
    "    print(e)"
   ]
  },
  {
   "cell_type": "markdown",
   "metadata": {},
   "source": [
    "CVXPY使用DCP分析来确定每个表达式的符号和曲率。"
   ]
  },
  {
   "cell_type": "markdown",
   "metadata": {},
   "source": [
    "# `Sign`"
   ]
  },
  {
   "cell_type": "markdown",
   "metadata": {},
   "source": [
    "每个(子)表达式被标记为正(非负)，负(非正)，零或未知。\n",
    "\n",
    "较大表达式的符号由其子表达的符号确定。例如，表达式`expr1 * expr2`的符号是：\n",
    "+ `Zero` 如果任一表达式的符号为零\n",
    "+ `Positive` 如果expr1和expr2具有相同（已知）的符号\n",
    "+ `Negative` 如果expr1和expr2有相反的（已知）符号\n",
    "+ `Unknown` 如果任一表达式具有未知符号\n",
    "\n",
    "给定表达式的符号总是正确的。但是当通过更复杂的分析计算出符号时，DCP符号分析可能将表达标记为未知符号。例如，根据上述规则，`x * x`符号为`Positive`，但DCP分析为`Unknown`符号。\n",
    "\n",
    "CVXPY通过查看它们的值来确定常量的符号。对于标量常量，这很简单。所有正（负）条目的矢量和矩阵常数标记为正（负）。同时有正负项的向量和矩阵常量标记为未知符号。\n",
    "\n",
    "表达式的符号存储在`expr.sign`："
   ]
  },
  {
   "cell_type": "code",
   "execution_count": 3,
   "metadata": {
    "ExecuteTime": {
     "end_time": "2018-05-21T15:55:11.559080Z",
     "start_time": "2018-05-21T15:55:11.542620Z"
    }
   },
   "outputs": [
    {
     "name": "stdout",
     "output_type": "stream",
     "text": [
      "sign of x: UNKNOWN\n",
      "sign of a: NONPOSITIVE\n",
      "sign of square(x): NONNEGATIVE\n",
      "sign of c*a: UNKNOWN\n"
     ]
    }
   ],
   "source": [
    "x = cvx.Variable()\n",
    "a = cvx.Parameter(nonpos=True)\n",
    "c = numpy.array([1, -1])\n",
    "\n",
    "print(\"sign of x:\", x.sign)\n",
    "print(\"sign of a:\", a.sign)\n",
    "print(\"sign of square(x):\", cvx.square(x).sign)\n",
    "print(\"sign of c*a:\", (c*a).sign)"
   ]
  },
  {
   "cell_type": "markdown",
   "metadata": {},
   "source": [
    "# `Curvature`"
   ]
  },
  {
   "cell_type": "markdown",
   "metadata": {},
   "source": [
    "每个（子）表达式被标记为以下曲线之一（就其变量而言）:"
   ]
  },
  {
   "cell_type": "markdown",
   "metadata": {},
   "source": [
    "![curvature](curvature.png)"
   ]
  },
  {
   "cell_type": "markdown",
   "metadata": {},
   "source": [
    "使用下面给出的曲率规则。与符号分析一样，结论总是正确的，但简单的分析可以将表达标记为未知，即使它们是凸的或凹的。请注意，任何常量表达式都是仿射的，并且任何仿射表达式都是凸凹的。"
   ]
  },
  {
   "cell_type": "markdown",
   "metadata": {},
   "source": [
    "## `Curvature`规则"
   ]
  },
  {
   "cell_type": "markdown",
   "metadata": {},
   "source": [
    "DCP分析基于将凸分析应用于每个（子）表达式的通用组合定理。"
   ]
  },
  {
   "cell_type": "markdown",
   "metadata": {},
   "source": [
    "1. $f(expr_1, expr_2, ..., expr_n)$是凸的， 如果$f$是一个凸函数，并且对于每个$expr_i$，下列条件之一成立：\n",
    " + $f$随参数$i$递增且$expr_i$是凸的\n",
    " + $f$随参数$i$递减且$expr_i$是凹的\n",
    " + $expr_i$是仿射或常量\n",
    "\n",
    "2. $f(expr_1, expr_2, ..., expr_n)$是凹的， 如果$f$是一个凹函数，并且对于每个$expr_i$，下列条件之一成立：\n",
    " + $f$随参数$i$递增且$expr_i$是凹的\n",
    " + $f$随参数$i$递减且$expr_i$是凸的\n",
    " + $expr_i$是仿射或常量\n",
    "\n",
    "3. $f(expr_1, expr_2, ..., expr_n)$是仿射，如果$f$是仿射且每个$expr_i$都是仿射。\n",
    "\n",
    "如果以上三个规则都不适用，则表达式$f(expr_1, expr_2, ..., expr_n)$被标记为未知曲率。\n",
    "\n",
    "函数随参数变化是增加还是减少可能取决于参数的符号。例如，对于正参数平方增加，而对于负数平方减少。\n",
    "\n",
    "表达式的曲率存储为`expr.curvature`："
   ]
  },
  {
   "cell_type": "code",
   "execution_count": 4,
   "metadata": {
    "ExecuteTime": {
     "end_time": "2018-05-21T15:55:11.567645Z",
     "start_time": "2018-05-21T15:55:11.561771Z"
    }
   },
   "outputs": [
    {
     "name": "stdout",
     "output_type": "stream",
     "text": [
      "curvature of x: AFFINE\n",
      "curvature of a: CONSTANT\n",
      "curvature of square(x): CONVEX\n",
      "curvature of sqrt(x): CONCAVE\n"
     ]
    }
   ],
   "source": [
    "x = cvx.Variable()\n",
    "a = cvx.Parameter(nonneg=True)\n",
    "\n",
    "print(\"curvature of x:\", x.curvature)\n",
    "print(\"curvature of a:\", a.curvature)\n",
    "print(\"curvature of square(x):\", cvx.square(x).curvature)\n",
    "print(\"curvature of sqrt(x):\", cvx.sqrt(x).curvature)"
   ]
  },
  {
   "cell_type": "markdown",
   "metadata": {},
   "source": [
    "# 中缀操作"
   ]
  },
  {
   "cell_type": "markdown",
   "metadata": {},
   "source": [
    "中缀运算符`+`，`-` ，`*`，`/`的处理方式与函数完全相同。中缀运算符`+`和`-`是仿射的，所以上面的规则适用于标记曲率。例如，如果`expr1`和`expr2`是凸的，`expr1 + expr2`被标记为凸。\n",
    "\n",
    "只有当其中一个表达式为常量时，才允许`expr1 * expr2`。如果两个表达式都是非常量，则CVXPY将引发异常。`expr1 / expr2`仅当`expr2`是标量常量时才被允许。上面的曲率规则同样适用。例如，当`expr1`是凹的，`expr2`是负常数时，`expr1 / expr2`是凸的。"
   ]
  },
  {
   "cell_type": "markdown",
   "metadata": {},
   "source": [
    "## 例1"
   ]
  },
  {
   "cell_type": "markdown",
   "metadata": {},
   "source": [
    "DCP分析将表达式分解为子表达式。下面的树形视图显示了这个表达式如何用于表达式`2 * square(x）+ 3`。每个子表达式都显示在一个蓝色框中。 我们将其曲率标记在左侧，其符号标记在右侧。"
   ]
  },
  {
   "cell_type": "markdown",
   "metadata": {},
   "source": [
    "![例子1](example1.png)"
   ]
  },
  {
   "cell_type": "markdown",
   "metadata": {},
   "source": [
    "## 例2"
   ]
  },
  {
   "cell_type": "markdown",
   "metadata": {},
   "source": [
    "将DCP规则应用到`sqrt(1 + square(x))`表达式。"
   ]
  },
  {
   "cell_type": "markdown",
   "metadata": {},
   "source": [
    "![例子2](example2.png)"
   ]
  },
  {
   "cell_type": "markdown",
   "metadata": {},
   "source": [
    "变量`x`具有仿射曲率和未知符号。平方函数是凸的，对于未知符号的参数是非单调的。它可以将仿射表达式`x`作为参数; 结果`square(x)`是凸的。\n",
    "\n",
    "算术运算符`+`是仿射和增加的，所以对于凸函数，由曲率规则，组合`1 + square(x)`是凸的。函数`sqrt`是凹的并且增加，这意味着它只能采用凹面参数。由于`1 + square(x)`是凸的，因此`sqrt(1 + square(x))`违反DCP规则，不能验证为凸。\n",
    "\n",
    "实际上，`sqrt(1 + square(x))`是x的凸函数，但是DCP规则不能验证凸性。如果表达式被写为`norm(vstack(1, x), 2)`，则该向量`[1，x]`的L2范数与`sqrt(1 + square(x))`具有相同的值，那么它将使用DCP规则认证为凸。"
   ]
  },
  {
   "cell_type": "code",
   "execution_count": 5,
   "metadata": {
    "ExecuteTime": {
     "end_time": "2018-05-21T15:55:11.578245Z",
     "start_time": "2018-05-21T15:55:11.571808Z"
    }
   },
   "outputs": [
    {
     "name": "stdout",
     "output_type": "stream",
     "text": [
      "sqrt(1 + square(x)) curvature: UNKNOWN\n",
      "norm(hstack([1, x]), 2) curvature: CONVEX\n"
     ]
    }
   ],
   "source": [
    "print(\"sqrt(1 + square(x)) curvature:\",\n",
    "      cvx.sqrt(1 + cvx.square(x)).curvature)\n",
    "print(\"norm(hstack([1, x]), 2) curvature:\",\n",
    "      cvx.norm(cvx.hstack([1, x]), 2).curvature)"
   ]
  },
  {
   "cell_type": "markdown",
   "metadata": {},
   "source": [
    "# DCP问题"
   ]
  },
  {
   "cell_type": "markdown",
   "metadata": {},
   "source": [
    "一个问题由一个目标和一系列约束构成的。如果问题遵循DCP规则，那么CVXPY保证是凸的且可解。DCP规则要求问题目标有以下两种形式之一：\n",
    "+ Minimize(凸)\n",
    "+ Maximize(凹)\n",
    "\n",
    "DCP规则下唯一有效的限制是：\n",
    "+ affine == affine\n",
    "+ convex <= concave\n",
    "+ concave >= convex\n",
    "\n",
    "您可以通过调用`object.is_dcp()`来检查问题，约束或目标是否满足DCP规则。以下是DCP和非DCP问题的一些示例："
   ]
  },
  {
   "cell_type": "code",
   "execution_count": 6,
   "metadata": {
    "ExecuteTime": {
     "end_time": "2018-05-21T15:55:11.592276Z",
     "start_time": "2018-05-21T15:55:11.580702Z"
    },
    "scrolled": true
   },
   "outputs": [
    {
     "name": "stdout",
     "output_type": "stream",
     "text": [
      "('prob1 is DCP:', True)\n",
      "('prob2 is DCP:', True)\n",
      "('prob3 is DCP:', False)\n",
      "('Maximize(square(x)) is DCP:', False)\n",
      "prob4 is DCP: False\n",
      "sqrt(x) <= 2 is DCP: False\n"
     ]
    }
   ],
   "source": [
    "x = cvx.Variable()\n",
    "y = cvx.Variable()\n",
    "\n",
    "# DCP problems.\n",
    "prob1 = cvx.Problem(cvx.Minimize(cvx.square(x - y)), [x + y >= 0])\n",
    "prob2 = cvx.Problem(\n",
    "    cvx.Maximize(cvx.sqrt(x - y)),\n",
    "    [2 * x - 3 == y, cvx.square(x) <= 2])\n",
    "\n",
    "print((\"prob1 is DCP:\", prob1.is_dcp()))\n",
    "print((\"prob2 is DCP:\", prob2.is_dcp()))\n",
    "\n",
    "# Non-DCP problems.\n",
    "\n",
    "# A non-DCP objective.\n",
    "obj = cvx.Maximize(cvx.square(x))\n",
    "prob3 = cvx.Problem(obj)\n",
    "\n",
    "print((\"prob3 is DCP:\", prob3.is_dcp()))\n",
    "print((\"Maximize(square(x)) is DCP:\", obj.is_dcp()))\n",
    "\n",
    "# A non-DCP constraint.\n",
    "prob4 = cvx.Problem(cvx.Minimize(cvx.square(x)), [cvx.sqrt(x) <= 2])\n",
    "\n",
    "print(\"prob4 is DCP:\", prob4.is_dcp())\n",
    "print(\"sqrt(x) <= 2 is DCP:\", (cvx.sqrt(x) <= 2).is_dcp())"
   ]
  },
  {
   "cell_type": "markdown",
   "metadata": {},
   "source": [
    "如果在非DCP问题上调用p`problem.solve()`，则CVXPY将引发异常。"
   ]
  },
  {
   "cell_type": "code",
   "execution_count": 7,
   "metadata": {
    "ExecuteTime": {
     "end_time": "2018-05-21T15:55:11.603380Z",
     "start_time": "2018-05-21T15:55:11.596231Z"
    }
   },
   "outputs": [
    {
     "name": "stdout",
     "output_type": "stream",
     "text": [
      "Problem does not follow DCP rules.\n"
     ]
    }
   ],
   "source": [
    "# A non-DCP problem.\n",
    "prob = cvx.Problem(cvx.Minimize(cvx.sqrt(x)))\n",
    "\n",
    "try:\n",
    "    prob.solve()\n",
    "except Exception as e:\n",
    "    print(e)"
   ]
  }
 ],
 "metadata": {
  "kernelspec": {
   "display_name": "zipline",
   "language": "python",
   "name": "zipline"
  },
  "language_info": {
   "codemirror_mode": {
    "name": "ipython",
    "version": 3
   },
   "file_extension": ".py",
   "mimetype": "text/x-python",
   "name": "python",
   "nbconvert_exporter": "python",
   "pygments_lexer": "ipython3",
   "version": "3.6.5"
  },
  "toc": {
   "base_numbering": 1,
   "nav_menu": {},
   "number_sections": true,
   "sideBar": true,
   "skip_h1_title": false,
   "title_cell": "Table of Contents",
   "title_sidebar": "Contents",
   "toc_cell": false,
   "toc_position": {
    "height": "calc(100% - 180px)",
    "left": "10px",
    "top": "150px",
    "width": "260px"
   },
   "toc_section_display": true,
   "toc_window_display": true
  }
 },
 "nbformat": 4,
 "nbformat_minor": 2
}
