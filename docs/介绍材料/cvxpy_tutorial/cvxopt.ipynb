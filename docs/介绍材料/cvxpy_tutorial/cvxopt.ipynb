{
 "cells": [
  {
   "cell_type": "code",
   "execution_count": 1,
   "metadata": {
    "ExecuteTime": {
     "end_time": "2018-06-04T05:38:14.174791Z",
     "start_time": "2018-06-04T05:38:14.148096Z"
    }
   },
   "outputs": [],
   "source": [
    "from cvxopt import matrix"
   ]
  },
  {
   "cell_type": "code",
   "execution_count": 2,
   "metadata": {
    "ExecuteTime": {
     "end_time": "2018-06-04T05:38:14.187075Z",
     "start_time": "2018-06-04T05:38:14.179509Z"
    }
   },
   "outputs": [],
   "source": [
    "from cvxopt.modeling import variable"
   ]
  },
  {
   "cell_type": "code",
   "execution_count": 3,
   "metadata": {
    "ExecuteTime": {
     "end_time": "2018-06-04T05:38:14.196473Z",
     "start_time": "2018-06-04T05:38:14.190698Z"
    }
   },
   "outputs": [],
   "source": [
    "x = variable(3,'a')"
   ]
  },
  {
   "cell_type": "code",
   "execution_count": 4,
   "metadata": {
    "ExecuteTime": {
     "end_time": "2018-06-04T05:38:14.249122Z",
     "start_time": "2018-06-04T05:38:14.203515Z"
    }
   },
   "outputs": [
    {
     "data": {
      "text/plain": [
       "3"
      ]
     },
     "execution_count": 4,
     "metadata": {},
     "output_type": "execute_result"
    }
   ],
   "source": [
    "len(x)"
   ]
  },
  {
   "cell_type": "code",
   "execution_count": 5,
   "metadata": {
    "ExecuteTime": {
     "end_time": "2018-06-04T05:38:14.266360Z",
     "start_time": "2018-06-04T05:38:14.255075Z"
    }
   },
   "outputs": [
    {
     "data": {
      "text/plain": [
       "'a'"
      ]
     },
     "execution_count": 5,
     "metadata": {},
     "output_type": "execute_result"
    }
   ],
   "source": [
    "x.name"
   ]
  },
  {
   "cell_type": "code",
   "execution_count": 6,
   "metadata": {
    "ExecuteTime": {
     "end_time": "2018-06-04T05:38:14.273699Z",
     "start_time": "2018-06-04T05:38:14.270469Z"
    }
   },
   "outputs": [],
   "source": [
    "x.value"
   ]
  },
  {
   "cell_type": "code",
   "execution_count": 7,
   "metadata": {
    "ExecuteTime": {
     "end_time": "2018-06-04T05:38:14.286844Z",
     "start_time": "2018-06-04T05:38:14.277895Z"
    }
   },
   "outputs": [],
   "source": [
    "x.value = matrix([1.,2.,3.])"
   ]
  },
  {
   "cell_type": "code",
   "execution_count": 8,
   "metadata": {
    "ExecuteTime": {
     "end_time": "2018-06-04T05:38:14.297349Z",
     "start_time": "2018-06-04T05:38:14.289688Z"
    }
   },
   "outputs": [
    {
     "name": "stdout",
     "output_type": "stream",
     "text": [
      "[ 1.00e+00]\n",
      "[ 2.00e+00]\n",
      "[ 3.00e+00]\n",
      "\n"
     ]
    }
   ],
   "source": [
    "print(x.value)"
   ]
  },
  {
   "cell_type": "code",
   "execution_count": 9,
   "metadata": {
    "ExecuteTime": {
     "end_time": "2018-06-04T05:38:14.311741Z",
     "start_time": "2018-06-04T05:38:14.300943Z"
    }
   },
   "outputs": [],
   "source": [
    "from cvxopt.modeling import variable"
   ]
  },
  {
   "cell_type": "code",
   "execution_count": 10,
   "metadata": {
    "ExecuteTime": {
     "end_time": "2018-06-04T05:38:14.320091Z",
     "start_time": "2018-06-04T05:38:14.315375Z"
    }
   },
   "outputs": [],
   "source": [
    "x = variable(1,'x')"
   ]
  },
  {
   "cell_type": "code",
   "execution_count": 11,
   "metadata": {
    "ExecuteTime": {
     "end_time": "2018-06-04T05:38:14.330008Z",
     "start_time": "2018-06-04T05:38:14.323446Z"
    }
   },
   "outputs": [],
   "source": [
    "y = variable(2,'y')"
   ]
  },
  {
   "cell_type": "code",
   "execution_count": 12,
   "metadata": {
    "ExecuteTime": {
     "end_time": "2018-06-04T05:38:14.341927Z",
     "start_time": "2018-06-04T05:38:14.338178Z"
    }
   },
   "outputs": [],
   "source": [
    "f = 2*x + y + 3"
   ]
  },
  {
   "cell_type": "code",
   "execution_count": 13,
   "metadata": {
    "ExecuteTime": {
     "end_time": "2018-06-04T05:38:14.353721Z",
     "start_time": "2018-06-04T05:38:14.347026Z"
    }
   },
   "outputs": [],
   "source": [
    "A = matrix([[1., 2.], [3.,4.]])"
   ]
  },
  {
   "cell_type": "code",
   "execution_count": 14,
   "metadata": {
    "ExecuteTime": {
     "end_time": "2018-06-04T05:38:14.359340Z",
     "start_time": "2018-06-04T05:38:14.356063Z"
    }
   },
   "outputs": [],
   "source": [
    "b = matrix([1.,-1.])"
   ]
  },
  {
   "cell_type": "code",
   "execution_count": 15,
   "metadata": {
    "ExecuteTime": {
     "end_time": "2018-06-04T05:38:14.366950Z",
     "start_time": "2018-06-04T05:38:14.362901Z"
    }
   },
   "outputs": [],
   "source": [
    "g = A*f + sum(y) + b"
   ]
  },
  {
   "cell_type": "code",
   "execution_count": 16,
   "metadata": {
    "ExecuteTime": {
     "end_time": "2018-06-04T05:38:14.374208Z",
     "start_time": "2018-06-04T05:38:14.369997Z"
    }
   },
   "outputs": [
    {
     "name": "stdout",
     "output_type": "stream",
     "text": [
      "affine function of length 2\n",
      "constant term:\n",
      "[ 1.30e+01]\n",
      "[ 1.70e+01]\n",
      "linear term: linear function of length 2\n",
      "coefficient of variable(1,'x'):\n",
      "[ 8.00e+00]\n",
      "[ 1.20e+01]\n",
      "coefficient of variable(2,'y'):\n",
      "[ 2.00e+00  4.00e+00]\n",
      "[ 3.00e+00  5.00e+00]\n",
      "\n"
     ]
    }
   ],
   "source": [
    "print(g)"
   ]
  },
  {
   "cell_type": "code",
   "execution_count": 17,
   "metadata": {
    "ExecuteTime": {
     "end_time": "2018-06-04T05:38:14.381783Z",
     "start_time": "2018-06-04T05:38:14.377967Z"
    }
   },
   "outputs": [],
   "source": [
    "x = variable(4,'x')"
   ]
  },
  {
   "cell_type": "code",
   "execution_count": 18,
   "metadata": {
    "ExecuteTime": {
     "end_time": "2018-06-04T05:38:14.389489Z",
     "start_time": "2018-06-04T05:38:14.386322Z"
    }
   },
   "outputs": [],
   "source": [
    "f = x[::2]"
   ]
  },
  {
   "cell_type": "code",
   "execution_count": 19,
   "metadata": {
    "ExecuteTime": {
     "end_time": "2018-06-04T05:38:14.397517Z",
     "start_time": "2018-06-04T05:38:14.392049Z"
    }
   },
   "outputs": [
    {
     "name": "stdout",
     "output_type": "stream",
     "text": [
      "linear function of length 2\n",
      "linear term: linear function of length 2\n",
      "coefficient of variable(4,'x'):\n",
      "[ 1.00e+00     0         0         0    ]\n",
      "[    0         0      1.00e+00     0    ]\n",
      "\n"
     ]
    }
   ],
   "source": [
    "print(f)"
   ]
  },
  {
   "cell_type": "code",
   "execution_count": 20,
   "metadata": {
    "ExecuteTime": {
     "end_time": "2018-06-04T05:38:14.407380Z",
     "start_time": "2018-06-04T05:38:14.400068Z"
    }
   },
   "outputs": [],
   "source": [
    "y = variable(3,'x')"
   ]
  },
  {
   "cell_type": "code",
   "execution_count": 21,
   "metadata": {
    "ExecuteTime": {
     "end_time": "2018-06-04T05:38:14.415392Z",
     "start_time": "2018-06-04T05:38:14.410951Z"
    }
   },
   "outputs": [],
   "source": [
    "g = matrix(range(12),(3,4),'d')*x - 3*y + 1"
   ]
  },
  {
   "cell_type": "code",
   "execution_count": 22,
   "metadata": {
    "ExecuteTime": {
     "end_time": "2018-06-04T05:38:14.421557Z",
     "start_time": "2018-06-04T05:38:14.417908Z"
    }
   },
   "outputs": [
    {
     "name": "stdout",
     "output_type": "stream",
     "text": [
      "affine function of length 1\n",
      "constant term:\n",
      "[ 2.00e+00]\n",
      "linear term: linear function of length 1\n",
      "coefficient of variable(4,'x'):\n",
      "[ 2.00e+00  8.00e+00  1.40e+01  2.00e+01]\n",
      "coefficient of variable(3,'x'):\n",
      "[-3.00e+00     0     -3.00e+00]\n",
      "\n"
     ]
    }
   ],
   "source": [
    "print(g[0] + g[2])"
   ]
  },
  {
   "cell_type": "code",
   "execution_count": 23,
   "metadata": {
    "ExecuteTime": {
     "end_time": "2018-06-04T05:38:14.428785Z",
     "start_time": "2018-06-04T05:38:14.423894Z"
    }
   },
   "outputs": [
    {
     "name": "stdout",
     "output_type": "stream",
     "text": [
      "affine function of length 3\n",
      "constant term:\n",
      "[ 1.00e+00]\n",
      "linear term: linear function of length 3\n",
      "coefficient of variable(4,'x'):\n",
      "[ 0.00e+00  3.00e+00  6.00e+00  9.00e+00]\n",
      "[ 1.00e+00  4.00e+00  7.00e+00  1.00e+01]\n",
      "[ 2.00e+00  5.00e+00  8.00e+00  1.10e+01]\n",
      "coefficient of variable(3,'x'):\n",
      "[-3.00e+00]\n",
      "\n"
     ]
    }
   ],
   "source": [
    "print(g)"
   ]
  },
  {
   "cell_type": "code",
   "execution_count": 24,
   "metadata": {
    "ExecuteTime": {
     "end_time": "2018-06-04T05:38:14.435789Z",
     "start_time": "2018-06-04T05:38:14.432939Z"
    }
   },
   "outputs": [],
   "source": [
    "from cvxopt.modeling import variable, max"
   ]
  },
  {
   "cell_type": "code",
   "execution_count": 25,
   "metadata": {
    "ExecuteTime": {
     "end_time": "2018-06-04T05:38:14.441366Z",
     "start_time": "2018-06-04T05:38:14.438155Z"
    }
   },
   "outputs": [],
   "source": [
    "x = variable(10, 'x')"
   ]
  },
  {
   "cell_type": "code",
   "execution_count": 26,
   "metadata": {
    "ExecuteTime": {
     "end_time": "2018-06-04T05:38:14.451979Z",
     "start_time": "2018-06-04T05:38:14.444888Z"
    }
   },
   "outputs": [],
   "source": [
    "f = sum(abs(x))"
   ]
  },
  {
   "cell_type": "code",
   "execution_count": 27,
   "metadata": {
    "ExecuteTime": {
     "end_time": "2018-06-04T05:38:14.462108Z",
     "start_time": "2018-06-04T05:38:14.454434Z"
    }
   },
   "outputs": [],
   "source": [
    "g = max(abs(x))"
   ]
  },
  {
   "cell_type": "code",
   "execution_count": 28,
   "metadata": {
    "ExecuteTime": {
     "end_time": "2018-06-04T05:38:14.496240Z",
     "start_time": "2018-06-04T05:38:14.466201Z"
    }
   },
   "outputs": [],
   "source": [
    "h = sum(max(0, abs(x)-1, 2*abs(x)-3))"
   ]
  },
  {
   "cell_type": "markdown",
   "metadata": {},
   "source": [
    "## Constraints"
   ]
  },
  {
   "cell_type": "code",
   "execution_count": 29,
   "metadata": {
    "ExecuteTime": {
     "end_time": "2018-06-04T05:38:14.508424Z",
     "start_time": "2018-06-04T05:38:14.499549Z"
    }
   },
   "outputs": [],
   "source": [
    "x = variable(5,'x')"
   ]
  },
  {
   "cell_type": "code",
   "execution_count": 30,
   "metadata": {
    "ExecuteTime": {
     "end_time": "2018-06-04T05:38:14.517081Z",
     "start_time": "2018-06-04T05:38:14.511410Z"
    }
   },
   "outputs": [],
   "source": [
    "c1 = (x <= 1)"
   ]
  },
  {
   "cell_type": "code",
   "execution_count": 31,
   "metadata": {
    "ExecuteTime": {
     "end_time": "2018-06-04T05:38:14.534931Z",
     "start_time": "2018-06-04T05:38:14.528374Z"
    }
   },
   "outputs": [],
   "source": [
    "c2 = (x >= 0)"
   ]
  },
  {
   "cell_type": "code",
   "execution_count": 32,
   "metadata": {
    "ExecuteTime": {
     "end_time": "2018-06-04T05:38:14.541894Z",
     "start_time": "2018-06-04T05:38:14.537765Z"
    }
   },
   "outputs": [],
   "source": [
    "c3 = (sum(x) == 2)"
   ]
  },
  {
   "cell_type": "markdown",
   "metadata": {},
   "source": [
    "## Optimization Problems"
   ]
  },
  {
   "cell_type": "code",
   "execution_count": 65,
   "metadata": {
    "ExecuteTime": {
     "end_time": "2018-06-04T05:40:30.841770Z",
     "start_time": "2018-06-04T05:40:30.837409Z"
    }
   },
   "outputs": [],
   "source": [
    "from cvxopt.modeling import op"
   ]
  },
  {
   "cell_type": "code",
   "execution_count": 66,
   "metadata": {
    "ExecuteTime": {
     "end_time": "2018-06-04T05:40:31.117125Z",
     "start_time": "2018-06-04T05:40:31.114492Z"
    }
   },
   "outputs": [],
   "source": [
    "x = variable()"
   ]
  },
  {
   "cell_type": "code",
   "execution_count": 67,
   "metadata": {
    "ExecuteTime": {
     "end_time": "2018-06-04T05:40:31.381295Z",
     "start_time": "2018-06-04T05:40:31.375372Z"
    }
   },
   "outputs": [],
   "source": [
    "y = variable()"
   ]
  },
  {
   "cell_type": "code",
   "execution_count": 81,
   "metadata": {
    "ExecuteTime": {
     "end_time": "2018-06-04T05:41:08.315913Z",
     "start_time": "2018-06-04T05:41:08.311866Z"
    }
   },
   "outputs": [],
   "source": [
    "c1 = ( 2*x+y >= 3 )"
   ]
  },
  {
   "cell_type": "code",
   "execution_count": 82,
   "metadata": {
    "ExecuteTime": {
     "end_time": "2018-06-04T05:41:08.849903Z",
     "start_time": "2018-06-04T05:41:08.845925Z"
    }
   },
   "outputs": [],
   "source": [
    "c2 = ( x+2*y >= 3 )"
   ]
  },
  {
   "cell_type": "code",
   "execution_count": 83,
   "metadata": {
    "ExecuteTime": {
     "end_time": "2018-06-04T05:41:09.179468Z",
     "start_time": "2018-06-04T05:41:09.175811Z"
    }
   },
   "outputs": [],
   "source": [
    "c3 = ( x >= 0 )"
   ]
  },
  {
   "cell_type": "code",
   "execution_count": 84,
   "metadata": {
    "ExecuteTime": {
     "end_time": "2018-06-04T05:41:09.624954Z",
     "start_time": "2018-06-04T05:41:09.621029Z"
    }
   },
   "outputs": [],
   "source": [
    "c4 = ( y >= 0 )"
   ]
  },
  {
   "cell_type": "code",
   "execution_count": 85,
   "metadata": {
    "ExecuteTime": {
     "end_time": "2018-06-04T05:41:10.372750Z",
     "start_time": "2018-06-04T05:41:10.368683Z"
    }
   },
   "outputs": [],
   "source": [
    "lp1 = op(-4*x-5*y, [c1,c2,c3,c4])"
   ]
  },
  {
   "cell_type": "code",
   "execution_count": 90,
   "metadata": {
    "ExecuteTime": {
     "end_time": "2018-06-04T05:54:27.109150Z",
     "start_time": "2018-06-04T05:54:27.098942Z"
    }
   },
   "outputs": [
    {
     "name": "stdout",
     "output_type": "stream",
     "text": [
      "     pcost       dcost       gap    pres   dres   k/t\n",
      " 0: -8.1000e+00  7.5000e+00  1e+01  6e-01  2e+00  1e+00\n",
      " 1: -3.0563e+02  2.6519e+02  4e+04  2e+01  7e+01  1e+02\n",
      " 2: -3.6231e+01  8.4525e+00  4e+01  6e-01  2e+00  3e+01\n",
      " 3: -3.1584e+03  1.7687e+01  9e+03  1e+00  4e+00  3e+03\n",
      " 4: -3.1598e+05  1.7704e+01  9e+05  1e+00  4e+00  3e+05\n",
      " 5: -3.1598e+07  1.7704e+01  9e+07  1e+00  4e+00  3e+07\n",
      "Certificate of dual infeasibility found.\n"
     ]
    }
   ],
   "source": [
    "lp1.solve()"
   ]
  },
  {
   "cell_type": "code",
   "execution_count": 74,
   "metadata": {
    "ExecuteTime": {
     "end_time": "2018-06-04T05:40:39.715360Z",
     "start_time": "2018-06-04T05:40:39.711740Z"
    }
   },
   "outputs": [
    {
     "data": {
      "text/plain": [
       "'optimal'"
      ]
     },
     "execution_count": 74,
     "metadata": {},
     "output_type": "execute_result"
    }
   ],
   "source": []
  },
  {
   "cell_type": "code",
   "execution_count": 91,
   "metadata": {
    "ExecuteTime": {
     "end_time": "2018-06-04T05:54:34.987253Z",
     "start_time": "2018-06-04T05:54:34.983118Z"
    }
   },
   "outputs": [
    {
     "name": "stdout",
     "output_type": "stream",
     "text": [
      "[-1.00e+00]\n",
      "\n"
     ]
    }
   ],
   "source": [
    "print(lp1.objective.value())"
   ]
  },
  {
   "cell_type": "code",
   "execution_count": 92,
   "metadata": {
    "ExecuteTime": {
     "end_time": "2018-06-04T05:54:38.589419Z",
     "start_time": "2018-06-04T05:54:38.583962Z"
    }
   },
   "outputs": [
    {
     "name": "stdout",
     "output_type": "stream",
     "text": [
      "[ 1.60e-01]\n",
      "\n"
     ]
    }
   ],
   "source": [
    "print(x.value)"
   ]
  },
  {
   "cell_type": "code",
   "execution_count": 93,
   "metadata": {
    "ExecuteTime": {
     "end_time": "2018-06-04T05:54:40.653741Z",
     "start_time": "2018-06-04T05:54:40.649093Z"
    }
   },
   "outputs": [
    {
     "name": "stdout",
     "output_type": "stream",
     "text": [
      "[ 7.19e-02]\n",
      "\n"
     ]
    }
   ],
   "source": [
    "print(y.value)"
   ]
  },
  {
   "cell_type": "code",
   "execution_count": 94,
   "metadata": {
    "ExecuteTime": {
     "end_time": "2018-06-04T05:54:42.651871Z",
     "start_time": "2018-06-04T05:54:42.647324Z"
    }
   },
   "outputs": [
    {
     "name": "stdout",
     "output_type": "stream",
     "text": [
      "None\n"
     ]
    }
   ],
   "source": [
    "print(c1.multiplier.value)"
   ]
  },
  {
   "cell_type": "code",
   "execution_count": 95,
   "metadata": {
    "ExecuteTime": {
     "end_time": "2018-06-04T05:54:44.695566Z",
     "start_time": "2018-06-04T05:54:44.690796Z"
    }
   },
   "outputs": [
    {
     "name": "stdout",
     "output_type": "stream",
     "text": [
      "None\n"
     ]
    }
   ],
   "source": [
    "print(c2.multiplier.value)"
   ]
  },
  {
   "cell_type": "code",
   "execution_count": 96,
   "metadata": {
    "ExecuteTime": {
     "end_time": "2018-06-04T05:54:46.675135Z",
     "start_time": "2018-06-04T05:54:46.670768Z"
    }
   },
   "outputs": [
    {
     "name": "stdout",
     "output_type": "stream",
     "text": [
      "None\n"
     ]
    }
   ],
   "source": [
    "print(c3.multiplier.value)"
   ]
  },
  {
   "cell_type": "code",
   "execution_count": 97,
   "metadata": {
    "ExecuteTime": {
     "end_time": "2018-06-04T05:54:48.779258Z",
     "start_time": "2018-06-04T05:54:48.775208Z"
    }
   },
   "outputs": [
    {
     "name": "stdout",
     "output_type": "stream",
     "text": [
      "None\n"
     ]
    }
   ],
   "source": [
    "print(c4.multiplier.value)"
   ]
  },
  {
   "cell_type": "markdown",
   "metadata": {},
   "source": [
    "### matrix form "
   ]
  },
  {
   "cell_type": "code",
   "execution_count": 50,
   "metadata": {
    "ExecuteTime": {
     "end_time": "2018-06-04T05:38:14.727613Z",
     "start_time": "2018-06-04T05:38:14.723121Z"
    }
   },
   "outputs": [],
   "source": [
    "from cvxopt.modeling import op, dot"
   ]
  },
  {
   "cell_type": "code",
   "execution_count": 51,
   "metadata": {
    "ExecuteTime": {
     "end_time": "2018-06-04T05:38:14.735810Z",
     "start_time": "2018-06-04T05:38:14.731382Z"
    }
   },
   "outputs": [],
   "source": [
    "x = variable(2)"
   ]
  },
  {
   "cell_type": "code",
   "execution_count": 52,
   "metadata": {
    "ExecuteTime": {
     "end_time": "2018-06-04T05:38:14.743542Z",
     "start_time": "2018-06-04T05:38:14.739497Z"
    }
   },
   "outputs": [],
   "source": [
    "A = matrix([[2.,1.,-1.,0.], [1.,2.,0.,-1.]])"
   ]
  },
  {
   "cell_type": "code",
   "execution_count": 53,
   "metadata": {
    "ExecuteTime": {
     "end_time": "2018-06-04T05:38:14.751647Z",
     "start_time": "2018-06-04T05:38:14.747742Z"
    }
   },
   "outputs": [],
   "source": [
    "b = matrix([3.,3.,0.,0.])"
   ]
  },
  {
   "cell_type": "code",
   "execution_count": 54,
   "metadata": {
    "ExecuteTime": {
     "end_time": "2018-06-04T05:38:14.760134Z",
     "start_time": "2018-06-04T05:38:14.756098Z"
    }
   },
   "outputs": [],
   "source": [
    "c = matrix([-4.,-5.])"
   ]
  },
  {
   "cell_type": "code",
   "execution_count": 55,
   "metadata": {
    "ExecuteTime": {
     "end_time": "2018-06-04T05:38:14.768128Z",
     "start_time": "2018-06-04T05:38:14.764243Z"
    }
   },
   "outputs": [],
   "source": [
    "ineq = ( A*x <= b )"
   ]
  },
  {
   "cell_type": "code",
   "execution_count": 56,
   "metadata": {
    "ExecuteTime": {
     "end_time": "2018-06-04T05:38:14.775466Z",
     "start_time": "2018-06-04T05:38:14.771823Z"
    }
   },
   "outputs": [],
   "source": [
    "lp2 = op(dot(c,x), ineq)"
   ]
  },
  {
   "cell_type": "code",
   "execution_count": 98,
   "metadata": {
    "ExecuteTime": {
     "end_time": "2018-06-04T06:11:07.853693Z",
     "start_time": "2018-06-04T06:11:07.844058Z"
    }
   },
   "outputs": [
    {
     "name": "stdout",
     "output_type": "stream",
     "text": [
      "     pcost       dcost       gap    pres   dres   k/t\n",
      " 0: -8.1000e+00 -1.8300e+01  4e+00  0e+00  8e-01  1e+00\n",
      " 1: -8.8055e+00 -9.4357e+00  2e-01  4e-16  4e-02  3e-02\n",
      " 2: -8.9981e+00 -9.0049e+00  2e-03  2e-16  5e-04  4e-04\n",
      " 3: -9.0000e+00 -9.0000e+00  2e-05  6e-16  5e-06  4e-06\n",
      " 4: -9.0000e+00 -9.0000e+00  2e-07  1e-16  5e-08  4e-08\n",
      "Optimal solution found.\n"
     ]
    }
   ],
   "source": [
    "lp2.solve()"
   ]
  },
  {
   "cell_type": "code",
   "execution_count": 58,
   "metadata": {
    "ExecuteTime": {
     "end_time": "2018-06-04T05:38:14.811737Z",
     "start_time": "2018-06-04T05:38:14.802190Z"
    }
   },
   "outputs": [
    {
     "name": "stdout",
     "output_type": "stream",
     "text": [
      "[-9.00e+00]\n",
      "\n"
     ]
    }
   ],
   "source": [
    "print(lp2.objective.value())"
   ]
  },
  {
   "cell_type": "code",
   "execution_count": 59,
   "metadata": {
    "ExecuteTime": {
     "end_time": "2018-06-04T05:38:14.822248Z",
     "start_time": "2018-06-04T05:38:14.815467Z"
    }
   },
   "outputs": [
    {
     "name": "stdout",
     "output_type": "stream",
     "text": [
      "[ 1.00e+00]\n",
      "[ 1.00e+00]\n",
      "\n"
     ]
    }
   ],
   "source": [
    "print(x.value)"
   ]
  },
  {
   "cell_type": "code",
   "execution_count": 99,
   "metadata": {
    "ExecuteTime": {
     "end_time": "2018-06-04T06:11:59.248814Z",
     "start_time": "2018-06-04T06:11:59.244056Z"
    }
   },
   "outputs": [
    {
     "name": "stdout",
     "output_type": "stream",
     "text": [
      "[ 1.00e+00]\n",
      "[ 2.00e+00]\n",
      "[ 2.87e-08]\n",
      "[ 2.80e-08]\n",
      "\n"
     ]
    }
   ],
   "source": [
    "print(ineq.multiplier.value)"
   ]
  },
  {
   "cell_type": "code",
   "execution_count": null,
   "metadata": {},
   "outputs": [],
   "source": []
  }
 ],
 "metadata": {
  "kernelspec": {
   "display_name": "zipline",
   "language": "python",
   "name": "zipline"
  },
  "language_info": {
   "codemirror_mode": {
    "name": "ipython",
    "version": 3
   },
   "file_extension": ".py",
   "mimetype": "text/x-python",
   "name": "python",
   "nbconvert_exporter": "python",
   "pygments_lexer": "ipython3",
   "version": "3.6.5"
  },
  "toc": {
   "base_numbering": 1,
   "nav_menu": {},
   "number_sections": true,
   "sideBar": true,
   "skip_h1_title": false,
   "title_cell": "Table of Contents",
   "title_sidebar": "Contents",
   "toc_cell": false,
   "toc_position": {},
   "toc_section_display": true,
   "toc_window_display": true
  }
 },
 "nbformat": 4,
 "nbformat_minor": 2
}
