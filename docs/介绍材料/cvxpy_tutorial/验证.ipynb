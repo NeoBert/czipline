{
 "cells": [
  {
   "cell_type": "markdown",
   "metadata": {
    "ExecuteTime": {
     "end_time": "2018-06-03T03:35:36.190736Z",
     "start_time": "2018-06-03T03:35:36.188525Z"
    }
   },
   "source": [
    "# 准备数据\n",
    "\n",
    "只需涨跌幅分布不要太偏即可"
   ]
  },
  {
   "cell_type": "markdown",
   "metadata": {},
   "source": [
    "## alpha"
   ]
  },
  {
   "cell_type": "code",
   "execution_count": 1,
   "metadata": {
    "ExecuteTime": {
     "end_time": "2018-06-03T04:16:18.504401Z",
     "start_time": "2018-06-03T04:16:15.288225Z"
    }
   },
   "outputs": [],
   "source": [
    "import numpy as np\n",
    "import pandas as pd\n",
    "from zipline.research import returns"
   ]
  },
  {
   "cell_type": "code",
   "execution_count": 2,
   "metadata": {
    "ExecuteTime": {
     "end_time": "2018-06-03T04:16:18.512142Z",
     "start_time": "2018-06-03T04:16:18.507612Z"
    }
   },
   "outputs": [],
   "source": [
    "stocks = [str(i) for i in range(300001,300021)]"
   ]
  },
  {
   "cell_type": "code",
   "execution_count": 3,
   "metadata": {
    "ExecuteTime": {
     "end_time": "2018-06-03T04:16:19.639043Z",
     "start_time": "2018-06-03T04:16:18.515568Z"
    }
   },
   "outputs": [
    {
     "name": "stdout",
     "output_type": "stream",
     "text": [
      "[2018-06-03 12:16:19.598454] INFO: zipline.finance.metrics.tracker: 模拟1个交易日\n",
      "首个开盘时间: 2018-05-31 01:31:00+00:00\n",
      "最后收盘时间: 2018-05-31 07:00:00+00:00\n"
     ]
    }
   ],
   "source": [
    "mu = returns(stocks, '2018-3-20','2018-5-31').mean()"
   ]
  },
  {
   "cell_type": "code",
   "execution_count": 4,
   "metadata": {
    "ExecuteTime": {
     "end_time": "2018-06-03T04:16:19.660996Z",
     "start_time": "2018-06-03T04:16:19.641351Z"
    }
   },
   "outputs": [
    {
     "data": {
      "text/plain": [
       "特锐德(300001)    -0.001444\n",
       "神州泰岳(300002)   -0.002906\n",
       "乐普医疗(300003)    0.004536\n",
       "南风股份(300004)   -0.013959\n",
       "探路者(300005)    -0.000831\n",
       "莱美药业(300006)   -0.001242\n",
       "汉威科技(300007)   -0.001003\n",
       "天海防务(300008)   -0.004395\n",
       "安科生物(300009)    0.000766\n",
       "立思辰(300010)     0.006260\n",
       "鼎汉技术(300011)   -0.005505\n",
       "华测检测(300012)    0.003423\n",
       "新宁物流(300013)   -0.002562\n",
       "亿纬锂能(300014)   -0.000749\n",
       "爱尔眼科(300015)    0.004830\n",
       "北陆药业(300016)    0.004430\n",
       "网宿科技(300017)   -0.003557\n",
       "中元股份(300018)   -0.002182\n",
       "硅宝科技(300019)   -0.004257\n",
       "银江股份(300020)   -0.001900\n",
       "dtype: float64"
      ]
     },
     "execution_count": 4,
     "metadata": {},
     "output_type": "execute_result"
    }
   ],
   "source": [
    "mu"
   ]
  },
  {
   "cell_type": "markdown",
   "metadata": {},
   "source": [
    "## 初始权重"
   ]
  },
  {
   "cell_type": "code",
   "execution_count": 5,
   "metadata": {
    "ExecuteTime": {
     "end_time": "2018-06-03T04:16:19.679633Z",
     "start_time": "2018-06-03T04:16:19.664323Z"
    }
   },
   "outputs": [],
   "source": [
    "w_data = np.random.randn(len(mu))"
   ]
  },
  {
   "cell_type": "code",
   "execution_count": 6,
   "metadata": {
    "ExecuteTime": {
     "end_time": "2018-06-03T04:16:19.694368Z",
     "start_time": "2018-06-03T04:16:19.688708Z"
    }
   },
   "outputs": [],
   "source": [
    "init_w = pd.Series(w_data.T / sum(w_data), index = mu.index)"
   ]
  },
  {
   "cell_type": "code",
   "execution_count": 7,
   "metadata": {
    "ExecuteTime": {
     "end_time": "2018-06-03T04:16:19.716545Z",
     "start_time": "2018-06-03T04:16:19.698402Z"
    }
   },
   "outputs": [
    {
     "data": {
      "text/plain": [
       "特锐德(300001)     0.061399\n",
       "神州泰岳(300002)    0.124444\n",
       "乐普医疗(300003)    0.136597\n",
       "南风股份(300004)    0.067565\n",
       "探路者(300005)    -0.064252\n",
       "莱美药业(300006)    0.041499\n",
       "汉威科技(300007)    0.090945\n",
       "天海防务(300008)   -0.022135\n",
       "安科生物(300009)    0.011002\n",
       "立思辰(300010)     0.018829\n",
       "鼎汉技术(300011)    0.055991\n",
       "华测检测(300012)    0.078213\n",
       "新宁物流(300013)    0.315074\n",
       "亿纬锂能(300014)    0.169822\n",
       "爱尔眼科(300015)    0.055208\n",
       "北陆药业(300016)   -0.064064\n",
       "网宿科技(300017)   -0.076460\n",
       "中元股份(300018)   -0.040232\n",
       "硅宝科技(300019)   -0.002682\n",
       "银江股份(300020)    0.043237\n",
       "dtype: float64"
      ]
     },
     "execution_count": 7,
     "metadata": {},
     "output_type": "execute_result"
    }
   ],
   "source": [
    "init_w"
   ]
  },
  {
   "cell_type": "markdown",
   "metadata": {},
   "source": [
    "# 优化"
   ]
  },
  {
   "cell_type": "code",
   "execution_count": 8,
   "metadata": {
    "ExecuteTime": {
     "end_time": "2018-06-03T04:16:20.054351Z",
     "start_time": "2018-06-03T04:16:19.719366Z"
    }
   },
   "outputs": [],
   "source": [
    "from zipline.optimize.objectives import TargetWeights, MaximizeAlpha\n",
    "from zipline.optimize.constraints import MaxGrossExposure, NetExposure, NotExceed\n",
    "from zipline.optimize.core import run_optimization"
   ]
  },
  {
   "cell_type": "code",
   "execution_count": 9,
   "metadata": {
    "ExecuteTime": {
     "end_time": "2018-06-03T04:16:20.060790Z",
     "start_time": "2018-06-03T04:16:20.056411Z"
    }
   },
   "outputs": [],
   "source": [
    "obj = MaximizeAlpha(mu)\n",
    "w = obj.new_weights"
   ]
  },
  {
   "cell_type": "code",
   "execution_count": 10,
   "metadata": {
    "ExecuteTime": {
     "end_time": "2018-06-03T04:16:20.074191Z",
     "start_time": "2018-06-03T04:16:20.064031Z"
    }
   },
   "outputs": [],
   "source": [
    "con_obj = MaxGrossExposure(1.5)\n",
    "ne = NotExceed(0.4)"
   ]
  },
  {
   "cell_type": "code",
   "execution_count": 11,
   "metadata": {
    "ExecuteTime": {
     "end_time": "2018-06-03T04:16:20.221570Z",
     "start_time": "2018-06-03T04:16:20.077413Z"
    }
   },
   "outputs": [],
   "source": [
    "result = run_optimization(obj, [con_obj, ne], init_w)"
   ]
  },
  {
   "cell_type": "code",
   "execution_count": 12,
   "metadata": {
    "ExecuteTime": {
     "end_time": "2018-06-03T04:16:20.229687Z",
     "start_time": "2018-06-03T04:16:20.223821Z"
    }
   },
   "outputs": [
    {
     "data": {
      "text/plain": [
       "特锐德(300001)     0.061399\n",
       "神州泰岳(300002)    0.124444\n",
       "乐普医疗(300003)    0.136597\n",
       "南风股份(300004)    0.067565\n",
       "探路者(300005)    -0.064252\n",
       "莱美药业(300006)    0.041499\n",
       "汉威科技(300007)    0.090945\n",
       "天海防务(300008)   -0.022135\n",
       "安科生物(300009)    0.011002\n",
       "立思辰(300010)     0.018829\n",
       "鼎汉技术(300011)    0.055991\n",
       "华测检测(300012)    0.078213\n",
       "新宁物流(300013)    0.315074\n",
       "亿纬锂能(300014)    0.169822\n",
       "爱尔眼科(300015)    0.055208\n",
       "北陆药业(300016)   -0.064064\n",
       "网宿科技(300017)   -0.076460\n",
       "中元股份(300018)   -0.040232\n",
       "硅宝科技(300019)   -0.002682\n",
       "银江股份(300020)    0.043237\n",
       "dtype: float64"
      ]
     },
     "execution_count": 12,
     "metadata": {},
     "output_type": "execute_result"
    }
   ],
   "source": [
    "result.old_weights"
   ]
  },
  {
   "cell_type": "code",
   "execution_count": 13,
   "metadata": {
    "ExecuteTime": {
     "end_time": "2018-06-03T04:16:20.240111Z",
     "start_time": "2018-06-03T04:16:20.232360Z"
    }
   },
   "outputs": [
    {
     "data": {
      "text/plain": [
       "特锐德(300001)    -0.0\n",
       "神州泰岳(300002)   -0.0\n",
       "乐普医疗(300003)    0.0\n",
       "南风股份(300004)   -0.4\n",
       "探路者(300005)    -0.0\n",
       "莱美药业(300006)   -0.0\n",
       "汉威科技(300007)   -0.0\n",
       "天海防务(300008)   -0.0\n",
       "安科生物(300009)    0.0\n",
       "立思辰(300010)     0.4\n",
       "鼎汉技术(300011)   -0.4\n",
       "华测检测(300012)    0.0\n",
       "新宁物流(300013)   -0.0\n",
       "亿纬锂能(300014)   -0.0\n",
       "爱尔眼科(300015)    0.3\n",
       "北陆药业(300016)    0.0\n",
       "网宿科技(300017)   -0.0\n",
       "中元股份(300018)   -0.0\n",
       "硅宝科技(300019)   -0.0\n",
       "银江股份(300020)   -0.0\n",
       "dtype: float64"
      ]
     },
     "execution_count": 13,
     "metadata": {},
     "output_type": "execute_result"
    }
   ],
   "source": [
    "result.new_weights"
   ]
  },
  {
   "cell_type": "markdown",
   "metadata": {},
   "source": [
    "# 寻找限制冲突"
   ]
  },
  {
   "cell_type": "code",
   "execution_count": 18,
   "metadata": {
    "ExecuteTime": {
     "end_time": "2018-06-03T19:27:45.376071Z",
     "start_time": "2018-06-03T19:27:45.372201Z"
    }
   },
   "outputs": [],
   "source": [
    "c = result.prob.constraints[0]"
   ]
  },
  {
   "cell_type": "code",
   "execution_count": 25,
   "metadata": {
    "ExecuteTime": {
     "end_time": "2018-06-03T19:29:40.869642Z",
     "start_time": "2018-06-03T19:29:40.854829Z"
    }
   },
   "outputs": [
    {
     "data": {
      "text/plain": [
       "{MaxGrossExposure(1.5): [NonPos(Expression(CONVEX, UNKNOWN, ()))],\n",
       " NotExceed(区间[-0.4,+0.4]): [NonPos(Expression(AFFINE, UNKNOWN, ())),\n",
       "  NonPos(Expression(AFFINE, UNKNOWN, ())),\n",
       "  NonPos(Expression(AFFINE, UNKNOWN, ())),\n",
       "  NonPos(Expression(AFFINE, UNKNOWN, ())),\n",
       "  NonPos(Expression(AFFINE, UNKNOWN, ())),\n",
       "  NonPos(Expression(AFFINE, UNKNOWN, ())),\n",
       "  NonPos(Expression(AFFINE, UNKNOWN, ())),\n",
       "  NonPos(Expression(AFFINE, UNKNOWN, ())),\n",
       "  NonPos(Expression(AFFINE, UNKNOWN, ())),\n",
       "  NonPos(Expression(AFFINE, UNKNOWN, ())),\n",
       "  NonPos(Expression(AFFINE, UNKNOWN, ())),\n",
       "  NonPos(Expression(AFFINE, UNKNOWN, ())),\n",
       "  NonPos(Expression(AFFINE, UNKNOWN, ())),\n",
       "  NonPos(Expression(AFFINE, UNKNOWN, ())),\n",
       "  NonPos(Expression(AFFINE, UNKNOWN, ())),\n",
       "  NonPos(Expression(AFFINE, UNKNOWN, ())),\n",
       "  NonPos(Expression(AFFINE, UNKNOWN, ())),\n",
       "  NonPos(Expression(AFFINE, UNKNOWN, ())),\n",
       "  NonPos(Expression(AFFINE, UNKNOWN, ())),\n",
       "  NonPos(Expression(AFFINE, UNKNOWN, ())),\n",
       "  NonPos(Expression(AFFINE, UNKNOWN, ())),\n",
       "  NonPos(Expression(AFFINE, UNKNOWN, ())),\n",
       "  NonPos(Expression(AFFINE, UNKNOWN, ())),\n",
       "  NonPos(Expression(AFFINE, UNKNOWN, ())),\n",
       "  NonPos(Expression(AFFINE, UNKNOWN, ())),\n",
       "  NonPos(Expression(AFFINE, UNKNOWN, ())),\n",
       "  NonPos(Expression(AFFINE, UNKNOWN, ())),\n",
       "  NonPos(Expression(AFFINE, UNKNOWN, ())),\n",
       "  NonPos(Expression(AFFINE, UNKNOWN, ())),\n",
       "  NonPos(Expression(AFFINE, UNKNOWN, ())),\n",
       "  NonPos(Expression(AFFINE, UNKNOWN, ())),\n",
       "  NonPos(Expression(AFFINE, UNKNOWN, ())),\n",
       "  NonPos(Expression(AFFINE, UNKNOWN, ())),\n",
       "  NonPos(Expression(AFFINE, UNKNOWN, ())),\n",
       "  NonPos(Expression(AFFINE, UNKNOWN, ())),\n",
       "  NonPos(Expression(AFFINE, UNKNOWN, ())),\n",
       "  NonPos(Expression(AFFINE, UNKNOWN, ())),\n",
       "  NonPos(Expression(AFFINE, UNKNOWN, ())),\n",
       "  NonPos(Expression(AFFINE, UNKNOWN, ())),\n",
       "  NonPos(Expression(AFFINE, UNKNOWN, ()))]}"
      ]
     },
     "execution_count": 25,
     "metadata": {},
     "output_type": "execute_result"
    }
   ],
   "source": [
    "result.constraint_map"
   ]
  },
  {
   "cell_type": "code",
   "execution_count": null,
   "metadata": {},
   "outputs": [],
   "source": []
  }
 ],
 "metadata": {
  "kernelspec": {
   "display_name": "zipline",
   "language": "python",
   "name": "zipline"
  },
  "language_info": {
   "codemirror_mode": {
    "name": "ipython",
    "version": 3
   },
   "file_extension": ".py",
   "mimetype": "text/x-python",
   "name": "python",
   "nbconvert_exporter": "python",
   "pygments_lexer": "ipython3",
   "version": "3.6.5"
  },
  "toc": {
   "base_numbering": 1,
   "nav_menu": {},
   "number_sections": true,
   "sideBar": true,
   "skip_h1_title": false,
   "title_cell": "Table of Contents",
   "title_sidebar": "Contents",
   "toc_cell": false,
   "toc_position": {},
   "toc_section_display": true,
   "toc_window_display": true
  }
 },
 "nbformat": 4,
 "nbformat_minor": 2
}
