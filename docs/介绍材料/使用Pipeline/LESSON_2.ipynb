{
 "cells": [
  {
   "cell_type": "markdown",
   "metadata": {},
   "source": [
    "第2-11课将在研究环境中进行。 要设置研究，请创建一个新的Jupyter笔记本或通过单击Get Notebook来克隆本课的笔记本版本。 如果您还不熟悉研究，我们建议您阅读研究Jupyter笔记本教程。"
   ]
  },
  {
   "cell_type": "markdown",
   "metadata": {},
   "source": [
    "## Creating a Pipeline"
   ]
  },
  {
   "cell_type": "markdown",
   "metadata": {},
   "source": [
    "我们首先添加一些导入语句。 首先让我们导入`Pipeline`类："
   ]
  },
  {
   "cell_type": "code",
   "execution_count": 1,
   "metadata": {
    "ExecuteTime": {
     "end_time": "2018-06-12T07:44:40.047290Z",
     "start_time": "2018-06-12T07:44:37.856818Z"
    }
   },
   "outputs": [],
   "source": [
    "from zipline.pipeline import Pipeline"
   ]
  },
  {
   "cell_type": "markdown",
   "metadata": {},
   "source": [
    "在一个新的单元中，让我们定义一个函数来创建我们的管线。 在一个函数中包装我们的管道创建为更复杂的管道建立了一个结构，我们将在后面看到。 现在，这个函数只是返回一个空管道："
   ]
  },
  {
   "cell_type": "code",
   "execution_count": 2,
   "metadata": {
    "ExecuteTime": {
     "end_time": "2018-06-12T07:44:40.054574Z",
     "start_time": "2018-06-12T07:44:40.050141Z"
    }
   },
   "outputs": [],
   "source": [
    "def make_pipeline():\n",
    "    return Pipeline()"
   ]
  },
  {
   "cell_type": "markdown",
   "metadata": {},
   "source": [
    "在一个新的单元中，让我们通过运行`make_pipeline()`来实例化我们的管道："
   ]
  },
  {
   "cell_type": "code",
   "execution_count": 3,
   "metadata": {
    "ExecuteTime": {
     "end_time": "2018-06-12T07:44:40.065468Z",
     "start_time": "2018-06-12T07:44:40.059236Z"
    }
   },
   "outputs": [],
   "source": [
    "my_pipe = make_pipeline()"
   ]
  },
  {
   "cell_type": "markdown",
   "metadata": {},
   "source": [
    "## Running a Pipeline"
   ]
  },
  {
   "cell_type": "markdown",
   "metadata": {},
   "source": [
    "现在我们有一个空管道的引用，my_pipe让我们运行它来看看它的样子。 在运行我们的管道之前，我们首先需要导入run_pipeline，这是一项仅供研究的功能，它允许我们在指定的时间段内运行管道。"
   ]
  },
  {
   "cell_type": "code",
   "execution_count": 4,
   "metadata": {
    "ExecuteTime": {
     "end_time": "2018-06-12T07:44:42.615046Z",
     "start_time": "2018-06-12T07:44:40.069250Z"
    }
   },
   "outputs": [],
   "source": [
    "from zipline.research import run_pipeline"
   ]
  },
  {
   "cell_type": "markdown",
   "metadata": {},
   "source": [
    "让我们用run_pipeline运行我们的管道一天（2015-05-05）并显示它。 请注意，第二个和第三个参数分别是模拟的开始和结束日期。"
   ]
  },
  {
   "cell_type": "code",
   "execution_count": 5,
   "metadata": {
    "ExecuteTime": {
     "end_time": "2018-06-12T07:44:43.244901Z",
     "start_time": "2018-06-12T07:44:42.617624Z"
    }
   },
   "outputs": [],
   "source": [
    "result = run_pipeline(my_pipe, '2015-05-05', '2015-05-05')"
   ]
  },
  {
   "cell_type": "markdown",
   "metadata": {},
   "source": [
    "对run_pipeline的调用返回按日期和证券索引的pandas DataFrame。 让我们看看我们的空管道的前几行是什么样的："
   ]
  },
  {
   "cell_type": "code",
   "execution_count": 6,
   "metadata": {
    "ExecuteTime": {
     "end_time": "2018-06-12T07:44:43.263003Z",
     "start_time": "2018-06-12T07:44:43.247746Z"
    }
   },
   "outputs": [
    {
     "data": {
      "text/html": [
       "<div>\n",
       "<style scoped>\n",
       "    .dataframe tbody tr th:only-of-type {\n",
       "        vertical-align: middle;\n",
       "    }\n",
       "\n",
       "    .dataframe tbody tr th {\n",
       "        vertical-align: top;\n",
       "    }\n",
       "\n",
       "    .dataframe thead th {\n",
       "        text-align: right;\n",
       "    }\n",
       "</style>\n",
       "<table border=\"1\" class=\"dataframe\">\n",
       "  <thead>\n",
       "    <tr style=\"text-align: right;\">\n",
       "      <th></th>\n",
       "      <th></th>\n",
       "    </tr>\n",
       "  </thead>\n",
       "  <tbody>\n",
       "    <tr>\n",
       "      <th rowspan=\"5\" valign=\"top\">2015-05-05 00:00:00+00:00</th>\n",
       "      <th>平安银行(000001)</th>\n",
       "    </tr>\n",
       "    <tr>\n",
       "      <th>万 科Ａ(000002)</th>\n",
       "    </tr>\n",
       "    <tr>\n",
       "      <th>国农科技(000004)</th>\n",
       "    </tr>\n",
       "    <tr>\n",
       "      <th>世纪星源(000005)</th>\n",
       "    </tr>\n",
       "    <tr>\n",
       "      <th>深振业Ａ(000006)</th>\n",
       "    </tr>\n",
       "  </tbody>\n",
       "</table>\n",
       "</div>"
      ],
      "text/plain": [
       "Empty DataFrame\n",
       "Columns: []\n",
       "Index: [(2015-05-05 00:00:00+00:00, 平安银行(000001)), (2015-05-05 00:00:00+00:00, 万 科Ａ(000002)), (2015-05-05 00:00:00+00:00, 国农科技(000004)), (2015-05-05 00:00:00+00:00, 世纪星源(000005)), (2015-05-05 00:00:00+00:00, 深振业Ａ(000006))]"
      ]
     },
     "execution_count": 6,
     "metadata": {},
     "output_type": "execute_result"
    }
   ],
   "source": [
    "result.head()"
   ]
  },
  {
   "cell_type": "markdown",
   "metadata": {},
   "source": [
    "空管道的输出是一个没有列的`DataFrame`。在这个例子中，2015年5月5日，我们的管道有一个包含所有2600多种证券（图中只显示5行）的索引，但没有任何列。\n",
    "\n",
    "在接下来的课程中，我们将介绍如何将列添加到管道输出中，以及如何过滤到证券的子集。"
   ]
  }
 ],
 "metadata": {
  "kernelspec": {
   "display_name": "zipline",
   "language": "python",
   "name": "zipline"
  },
  "language_info": {
   "codemirror_mode": {
    "name": "ipython",
    "version": 3
   },
   "file_extension": ".py",
   "mimetype": "text/x-python",
   "name": "python",
   "nbconvert_exporter": "python",
   "pygments_lexer": "ipython3",
   "version": "3.6.5"
  },
  "toc": {
   "base_numbering": 1,
   "nav_menu": {},
   "number_sections": true,
   "sideBar": true,
   "skip_h1_title": false,
   "title_cell": "Table of Contents",
   "title_sidebar": "Contents",
   "toc_cell": false,
   "toc_position": {},
   "toc_section_display": true,
   "toc_window_display": false
  }
 },
 "nbformat": 4,
 "nbformat_minor": 2
}
