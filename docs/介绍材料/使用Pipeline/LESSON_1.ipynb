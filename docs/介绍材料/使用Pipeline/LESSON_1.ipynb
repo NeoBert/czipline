{
 "cells": [
  {
   "cell_type": "markdown",
   "metadata": {},
   "source": [
    "欢迎来到Quantopian管道教程！本教程将作为Pipeline API的介绍。如果您是Quantopian的新手，建议您从入门教程开始，至少掌握Python的相关知识。本教程分为一系列课程，每个课程重点介绍Pipeline API的不同部分。 第2-11课将在研究环境中运作，第12课将在IDE中完成。"
   ]
  },
  {
   "cell_type": "markdown",
   "metadata": {},
   "source": [
    "## Why Pipeline?"
   ]
  },
  {
   "cell_type": "markdown",
   "metadata": {},
   "source": [
    "许多交易算法具有以下结构：\n",
    "1. 对于已知（大）集合中的每个资产，基于数据的尾随窗口计算资产的N个标量值。\n",
    "2. 根据（1）中计算的值选择较小的可交易资产组。\n",
    "3. 计算（2）中选择的资产组合的期望组合权重。\n",
    "4. 将算法的当前投资组合分配转换为（3）中计算出的期望权重。"
   ]
  },
  {
   "cell_type": "markdown",
   "metadata": {},
   "source": [
    "做这些有几个技术挑战。 这些包括：\n",
    "1. 有效地查询大量资产\n",
    "2. 对大量资产基础上的高性能计算\n",
    "3. 处理调整（分割和分红）\n",
    "4. 资产退市"
   ]
  },
  {
   "cell_type": "markdown",
   "metadata": {},
   "source": [
    "Pipeline的存在是为了解决这些挑战，它提供了一个统一的API来表达对各种数据集的计算。"
   ]
  },
  {
   "cell_type": "markdown",
   "metadata": {},
   "source": [
    "## Computations"
   ]
  },
  {
   "cell_type": "markdown",
   "metadata": {},
   "source": [
    "有三种类型的计算可以在管道中表示：因子(`factors`)，过滤器(`filters`)和分类器(`classifiers`)。"
   ]
  },
  {
   "cell_type": "markdown",
   "metadata": {},
   "source": [
    "抽象地说，因子，过滤器和分类器都代表从资产和时刻产生值的函数。 因子，过滤器和分类器以它们产生的值类型来区分。"
   ]
  },
  {
   "cell_type": "markdown",
   "metadata": {},
   "source": [
    "### Factors"
   ]
  },
  {
   "cell_type": "markdown",
   "metadata": {},
   "source": [
    "一个因子是从资产和时刻到数值的函数。\n",
    "\n",
    "一个简单的例子是证券的最新价格。 鉴于证券和特定时间点，最近的价格是一个数字。 另一个例子是证券的10天平均交易量。因子最常用于为证券赋值，然后以多种方式使用。可以在以下每个过程中使用一个因子：\n",
    "+ 计算目标权重\n",
    "+ 生成alpha信号\n",
    "+ 构建其他更复杂的因子\n",
    "+ 构建过滤器"
   ]
  },
  {
   "cell_type": "markdown",
   "metadata": {},
   "source": [
    "### Filters"
   ]
  },
  {
   "cell_type": "markdown",
   "metadata": {},
   "source": [
    "过滤器是资产和时刻到布尔值的函数。"
   ]
  },
  {
   "cell_type": "markdown",
   "metadata": {},
   "source": [
    "过滤器的一个例子是一个函数，指出证券的价格是否低于$ 10。 给定一个证券和一个时间点，评估True或False。过滤器最常用于描述为了某些特定目的而包含或排除的资产集合。"
   ]
  },
  {
   "cell_type": "markdown",
   "metadata": {},
   "source": [
    "### Classifiers"
   ]
  },
  {
   "cell_type": "markdown",
   "metadata": {},
   "source": [
    "分类器是从资产和时刻到分类输出的函数。"
   ]
  },
  {
   "cell_type": "markdown",
   "metadata": {},
   "source": [
    "更具体地说，分类器产生不代表数字值的字符串或整数（例如，诸如部门代码的整数标签）。分类器最常用于对因子输出进行复杂转换的资产分组。分类器的一个例子是证券目前交易所在的交易所。"
   ]
  },
  {
   "cell_type": "markdown",
   "metadata": {},
   "source": [
    "### Datasets"
   ]
  },
  {
   "cell_type": "markdown",
   "metadata": {},
   "source": [
    "管道计算可以使用价格(OHLC)和成交量数据，基础数据或合作伙伴数据（如情绪，收益日历等）来执行。 我们将在稍后的课程中探索这些数据集。"
   ]
  },
  {
   "cell_type": "markdown",
   "metadata": {},
   "source": [
    "典型的流水线通常涉及多个计算和数据集。在本教程中，我们将建立一个管道，选择10天至30天平均价格之间变化较大的流动性证券。"
   ]
  }
 ],
 "metadata": {
  "kernelspec": {
   "display_name": "zipline",
   "language": "python",
   "name": "zipline"
  },
  "language_info": {
   "codemirror_mode": {
    "name": "ipython",
    "version": 3
   },
   "file_extension": ".py",
   "mimetype": "text/x-python",
   "name": "python",
   "nbconvert_exporter": "python",
   "pygments_lexer": "ipython3",
   "version": "3.6.5"
  },
  "toc": {
   "base_numbering": 1,
   "nav_menu": {},
   "number_sections": true,
   "sideBar": true,
   "skip_h1_title": false,
   "title_cell": "Table of Contents",
   "title_sidebar": "Contents",
   "toc_cell": false,
   "toc_position": {},
   "toc_section_display": true,
   "toc_window_display": false
  }
 },
 "nbformat": 4,
 "nbformat_minor": 2
}
