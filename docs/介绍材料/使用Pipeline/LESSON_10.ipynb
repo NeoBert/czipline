{
 "cells": [
  {
   "cell_type": "markdown",
   "metadata": {},
   "source": [
    "## Custom Factors"
   ]
  },
  {
   "cell_type": "markdown",
   "metadata": {},
   "source": [
    "当我们首先查看因子时，我们探索了一系列内置因子。通常，所需的计算不一定全部包含在内置因子内。`Pipeline API`最强大的功能之一是它允许我们定义我们自己的自定义因子。当所需计算内置函数不存在时，我们可以定义一个自定义因子。"
   ]
  },
  {
   "cell_type": "markdown",
   "metadata": {},
   "source": [
    "从概念上讲，自定义因子与内置银子等同。它接受`inputs`、`window_length`和`mask`作为构造函数参数，并且每天返回一个`Factor`对象。"
   ]
  },
  {
   "cell_type": "markdown",
   "metadata": {},
   "source": [
    "我们以一个不存在的计算为例：标准偏差。要创建计算尾随窗口上标准差的因子，我们可以子类化`CustomFactor`并实现一个计算方法，其签名为："
   ]
  },
  {
   "cell_type": "raw",
   "metadata": {},
   "source": [
    "def compute(self, today, asset_ids, out, *inputs):\n",
    "    ..."
   ]
  },
  {
   "cell_type": "markdown",
   "metadata": {},
   "source": [
    "+ *`inputs`是M×N`numpy`数组，其中M是窗口长度，N是证券数量（除非提供掩码，通常约为全部股票数量，大A约3500）。`inputs`是尾随数据窗口。请注意，银子输入列表中提供的每个`BoundColumn`都有一个M×N数组。 每个数组的数据类型将是相应的`BoundColumn`的`dtype`。\n",
    "+ `out`是一个长度为N的空数组。out将是我们每天定制因子的输出。计算的任务就是将输出值写入到`out`中。\n",
    "+ `asset_ids`是一个长度为N的整数数组，其中包含与我们的*`inputs`中的列相对应的证券ID\n",
    "+ `today`是一个`pandas Timestamp`，表示要计算的那一天"
   ]
  },
  {
   "cell_type": "markdown",
   "metadata": {},
   "source": [
    "其中，*`inputs`和`out`是最常用的。"
   ]
  },
  {
   "cell_type": "markdown",
   "metadata": {},
   "source": [
    "已添加到管道中的`CustomFactor`实例将每天调用其计算方法。例如，我们定义一个自定义因子，计算过去5天收盘价的标准偏差。首先，让我们将`CustomFactor`和`numpy`添加到我们的导入语句中。"
   ]
  },
  {
   "cell_type": "code",
   "execution_count": 1,
   "metadata": {
    "ExecuteTime": {
     "end_time": "2018-04-25T17:57:50.721886Z",
     "start_time": "2018-04-25T17:57:48.897937Z"
    }
   },
   "outputs": [],
   "source": [
    "from zipline.pipeline import CustomFactor, Pipeline\n",
    "import numpy"
   ]
  },
  {
   "cell_type": "markdown",
   "metadata": {},
   "source": [
    "接下来，定义自定义因子，以使用`numpy.nanstd`计算尾随窗口上的标准偏差："
   ]
  },
  {
   "cell_type": "code",
   "execution_count": 2,
   "metadata": {
    "ExecuteTime": {
     "end_time": "2018-04-25T17:57:50.732234Z",
     "start_time": "2018-04-25T17:57:50.727151Z"
    }
   },
   "outputs": [],
   "source": [
    "class StdDev(CustomFactor):\n",
    "    def compute(self, today, asset_ids, out, values):\n",
    "        # Calculates the column-wise standard deviation, ignoring NaNs\n",
    "        out[:] = numpy.nanstd(values, axis=0)"
   ]
  },
  {
   "cell_type": "code",
   "execution_count": 3,
   "metadata": {
    "ExecuteTime": {
     "end_time": "2018-04-25T17:57:52.063524Z",
     "start_time": "2018-04-25T17:57:50.738437Z"
    }
   },
   "outputs": [],
   "source": [
    "from zipline.pipeline import Pipeline\n",
    "from zipline.pipeline.data import USEquityPricing\n",
    "from zipline.research import run_pipeline"
   ]
  },
  {
   "cell_type": "code",
   "execution_count": 4,
   "metadata": {
    "ExecuteTime": {
     "end_time": "2018-04-25T17:57:52.090518Z",
     "start_time": "2018-04-25T17:57:52.076136Z"
    }
   },
   "outputs": [],
   "source": [
    "def make_pipeline():\n",
    "    std_dev = StdDev(inputs=[USEquityPricing.close], window_length=5)\n",
    "\n",
    "    return Pipeline(columns={'std_dev': std_dev})"
   ]
  },
  {
   "cell_type": "markdown",
   "metadata": {},
   "source": [
    "最后，让我们在`make_pipeline()`中实例化我们的因子："
   ]
  },
  {
   "cell_type": "markdown",
   "metadata": {},
   "source": [
    "当此管道运行时，`StdDev.compute()`将每天通过数据调用，如下所示："
   ]
  },
  {
   "cell_type": "markdown",
   "metadata": {},
   "source": [
    "+ values:一个M×N的`numpy`数组，其中M是5（window_length），N是〜4000（当天数据库中证券的数量）\n",
    "+ out：一个长度为N（〜4000）的空数组。在这个例子中，计算的工作是使用5天收盘价标准差的数组来填充。"
   ]
  },
  {
   "cell_type": "code",
   "execution_count": 5,
   "metadata": {
    "ExecuteTime": {
     "end_time": "2018-04-25T17:57:53.163228Z",
     "start_time": "2018-04-25T17:57:52.094409Z"
    }
   },
   "outputs": [
    {
     "name": "stderr",
     "output_type": "stream",
     "text": [
      "/home/ldf/anaconda3/envs/zipline/lib/python3.6/site-packages/numpy/lib/nanfunctions.py:1434: RuntimeWarning: Degrees of freedom <= 0 for slice.\n",
      "  keepdims=keepdims)\n"
     ]
    },
    {
     "data": {
      "text/html": [
       "<div>\n",
       "<style scoped>\n",
       "    .dataframe tbody tr th:only-of-type {\n",
       "        vertical-align: middle;\n",
       "    }\n",
       "\n",
       "    .dataframe tbody tr th {\n",
       "        vertical-align: top;\n",
       "    }\n",
       "\n",
       "    .dataframe thead th {\n",
       "        text-align: right;\n",
       "    }\n",
       "</style>\n",
       "<table border=\"1\" class=\"dataframe\">\n",
       "  <thead>\n",
       "    <tr style=\"text-align: right;\">\n",
       "      <th></th>\n",
       "      <th></th>\n",
       "      <th>std_dev</th>\n",
       "    </tr>\n",
       "  </thead>\n",
       "  <tbody>\n",
       "    <tr>\n",
       "      <th rowspan=\"5\" valign=\"top\">2015-05-05 00:00:00+00:00</th>\n",
       "      <th>平安银行(000001)</th>\n",
       "      <td>0.110707</td>\n",
       "    </tr>\n",
       "    <tr>\n",
       "      <th>万 科Ａ(000002)</th>\n",
       "      <td>0.203234</td>\n",
       "    </tr>\n",
       "    <tr>\n",
       "      <th>国农科技(000004)</th>\n",
       "      <td>0.556072</td>\n",
       "    </tr>\n",
       "    <tr>\n",
       "      <th>世纪星源(000005)</th>\n",
       "      <td>0.000000</td>\n",
       "    </tr>\n",
       "    <tr>\n",
       "      <th>深振业Ａ(000006)</th>\n",
       "      <td>0.275899</td>\n",
       "    </tr>\n",
       "  </tbody>\n",
       "</table>\n",
       "</div>"
      ],
      "text/plain": [
       "                                         std_dev\n",
       "2015-05-05 00:00:00+00:00 平安银行(000001)  0.110707\n",
       "                          万 科Ａ(000002)  0.203234\n",
       "                          国农科技(000004)  0.556072\n",
       "                          世纪星源(000005)  0.000000\n",
       "                          深振业Ａ(000006)  0.275899"
      ]
     },
     "execution_count": 5,
     "metadata": {},
     "output_type": "execute_result"
    }
   ],
   "source": [
    "result = run_pipeline(make_pipeline(), '2015-05-05', '2015-05-05')\n",
    "result.head()"
   ]
  },
  {
   "cell_type": "markdown",
   "metadata": {},
   "source": [
    "## Default Inputs"
   ]
  },
  {
   "cell_type": "markdown",
   "metadata": {},
   "source": [
    "在编写自定义因子时，我们可以在我们的`CustomFactor`子类中设置默认`inputs`和`window_length`。例如，定义`TenDayMeanDifference`自定义因子，以使用`numpy.nanmean`计算尾随窗口上两个数据列之间的平均差异。 我们将默认`inputs`设置为`[USEquityPricing.close，USEquityPricing.open]`并将默认`window_length`设置为10："
   ]
  },
  {
   "cell_type": "code",
   "execution_count": 6,
   "metadata": {
    "ExecuteTime": {
     "end_time": "2018-04-25T17:57:53.169486Z",
     "start_time": "2018-04-25T17:57:53.165676Z"
    }
   },
   "outputs": [],
   "source": [
    "class TenDayMeanDifference(CustomFactor):\n",
    "    # Default inputs.\n",
    "    inputs = [USEquityPricing.close, USEquityPricing.open]\n",
    "    window_length = 10\n",
    "    def compute(self, today, asset_ids, out, close, open):\n",
    "        # Calculates the column-wise mean difference, ignoring NaNs\n",
    "        out[:] = numpy.nanmean(close - open, axis=0)"
   ]
  },
  {
   "cell_type": "markdown",
   "metadata": {},
   "source": [
    "请记住，在这种情况下，`close`和`open`每个都是10 x〜3000的`2D numpy`阵列。"
   ]
  },
  {
   "cell_type": "markdown",
   "metadata": {},
   "source": [
    "现在，如果我们在不提供任何参数的情况下调用`TenDayMeanDifference`，它将使用默认值。"
   ]
  },
  {
   "cell_type": "code",
   "execution_count": 7,
   "metadata": {
    "ExecuteTime": {
     "end_time": "2018-04-25T17:57:53.177615Z",
     "start_time": "2018-04-25T17:57:53.172334Z"
    }
   },
   "outputs": [],
   "source": [
    "# Computes the 10-day mean difference between the daily open and close prices.\n",
    "close_open_diff = TenDayMeanDifference()"
   ]
  },
  {
   "cell_type": "markdown",
   "metadata": {},
   "source": [
    "默认值可以通过在构造函数调用中指定参数来手动覆盖。"
   ]
  },
  {
   "cell_type": "code",
   "execution_count": 8,
   "metadata": {
    "ExecuteTime": {
     "end_time": "2018-04-25T17:57:53.187071Z",
     "start_time": "2018-04-25T17:57:53.182536Z"
    }
   },
   "outputs": [],
   "source": [
    "# Computes the 10-day mean difference between the daily high and low prices.\n",
    "high_low_diff = TenDayMeanDifference(inputs=[USEquityPricing.high, USEquityPricing.low])"
   ]
  },
  {
   "cell_type": "markdown",
   "metadata": {},
   "source": [
    "## Further Example"
   ]
  },
  {
   "cell_type": "markdown",
   "metadata": {},
   "source": [
    "让我们举另一个例子，我们建立一个动量自定义因子并用它来创建一个过滤器。然后，我们将使用该过滤器作为我们管线上的`screen`。"
   ]
  },
  {
   "cell_type": "markdown",
   "metadata": {
    "ExecuteTime": {
     "end_time": "2018-04-25T16:48:22.010585Z",
     "start_time": "2018-04-25T16:48:22.004711Z"
    }
   },
   "source": [
    "首先定义一个动量因子，以n日前收盘价除以最近收盘价，其中n是window_length。"
   ]
  },
  {
   "cell_type": "code",
   "execution_count": 9,
   "metadata": {
    "ExecuteTime": {
     "end_time": "2018-04-25T17:57:53.195862Z",
     "start_time": "2018-04-25T17:57:53.190861Z"
    }
   },
   "outputs": [],
   "source": [
    "class Momentum(CustomFactor):\n",
    "    # Default inputs\n",
    "    inputs = [USEquityPricing.close]\n",
    "\n",
    "    # Compute momentum\n",
    "    def compute(self, today, assets, out, close):\n",
    "        out[:] = close[-1] / close[0]"
   ]
  },
  {
   "cell_type": "markdown",
   "metadata": {
    "ExecuteTime": {
     "end_time": "2018-04-25T15:51:58.475341Z",
     "start_time": "2018-04-25T15:51:58.246953Z"
    }
   },
   "source": [
    "现在，实例化动量因子两次，来创建10天的动量因子和20天的动量因子。我们还要创建一个`positive_momentum`过滤器，当证券10日因子为正且20日因子为正时，返回True。"
   ]
  },
  {
   "cell_type": "code",
   "execution_count": 10,
   "metadata": {
    "ExecuteTime": {
     "end_time": "2018-04-25T17:57:53.210090Z",
     "start_time": "2018-04-25T17:57:53.200021Z"
    }
   },
   "outputs": [],
   "source": [
    "ten_day_momentum = Momentum(window_length=10)\n",
    "twenty_day_momentum = Momentum(window_length=20)\n",
    "\n",
    "positive_momentum = ((ten_day_momentum > 1) & (twenty_day_momentum > 1))"
   ]
  },
  {
   "cell_type": "markdown",
   "metadata": {},
   "source": [
    "接下来，将动量因子和`positive_momentum`过滤器添加到`make_pipeline`。设置`positive_momentum`作为我们管道的`screen`。"
   ]
  },
  {
   "cell_type": "code",
   "execution_count": 11,
   "metadata": {
    "ExecuteTime": {
     "end_time": "2018-04-25T17:57:53.222461Z",
     "start_time": "2018-04-25T17:57:53.214413Z"
    }
   },
   "outputs": [],
   "source": [
    "def make_pipeline():\n",
    "\n",
    "    ten_day_momentum = Momentum(window_length=10)\n",
    "    twenty_day_momentum = Momentum(window_length=20)\n",
    "\n",
    "    positive_momentum = ((ten_day_momentum > 1) & (twenty_day_momentum > 1))\n",
    "\n",
    "    std_dev = StdDev(inputs=[USEquityPricing.close], window_length=5)\n",
    "\n",
    "    return Pipeline(\n",
    "        columns={\n",
    "            'std_dev': std_dev,\n",
    "            'ten_day_momentum': ten_day_momentum,\n",
    "            'twenty_day_momentum': twenty_day_momentum\n",
    "        },\n",
    "        screen=positive_momentum)"
   ]
  },
  {
   "cell_type": "markdown",
   "metadata": {},
   "source": [
    "运行这条管道可以输出标准偏差和每个动量计算中的10天和20天正向动量。"
   ]
  },
  {
   "cell_type": "code",
   "execution_count": 12,
   "metadata": {
    "ExecuteTime": {
     "end_time": "2018-04-25T17:57:53.808575Z",
     "start_time": "2018-04-25T17:57:53.227910Z"
    }
   },
   "outputs": [
    {
     "data": {
      "text/html": [
       "<div>\n",
       "<style scoped>\n",
       "    .dataframe tbody tr th:only-of-type {\n",
       "        vertical-align: middle;\n",
       "    }\n",
       "\n",
       "    .dataframe tbody tr th {\n",
       "        vertical-align: top;\n",
       "    }\n",
       "\n",
       "    .dataframe thead th {\n",
       "        text-align: right;\n",
       "    }\n",
       "</style>\n",
       "<table border=\"1\" class=\"dataframe\">\n",
       "  <thead>\n",
       "    <tr style=\"text-align: right;\">\n",
       "      <th></th>\n",
       "      <th></th>\n",
       "      <th>std_dev</th>\n",
       "      <th>ten_day_momentum</th>\n",
       "      <th>twenty_day_momentum</th>\n",
       "    </tr>\n",
       "  </thead>\n",
       "  <tbody>\n",
       "    <tr>\n",
       "      <th rowspan=\"5\" valign=\"top\">2018-04-10 00:00:00+00:00</th>\n",
       "      <th>沙河股份(000014)</th>\n",
       "      <td>0.317238</td>\n",
       "      <td>1.067873</td>\n",
       "      <td>1.033275</td>\n",
       "    </tr>\n",
       "    <tr>\n",
       "      <th>深康佳Ａ(000016)</th>\n",
       "      <td>0.075895</td>\n",
       "      <td>1.051699</td>\n",
       "      <td>1.115987</td>\n",
       "    </tr>\n",
       "    <tr>\n",
       "      <th>深深宝Ａ(000019)</th>\n",
       "      <td>0.488000</td>\n",
       "      <td>1.100412</td>\n",
       "      <td>1.100412</td>\n",
       "    </tr>\n",
       "    <tr>\n",
       "      <th>飞亚达Ａ(000026)</th>\n",
       "      <td>0.236440</td>\n",
       "      <td>1.055126</td>\n",
       "      <td>1.038059</td>\n",
       "    </tr>\n",
       "    <tr>\n",
       "      <th>国药一致(000028)</th>\n",
       "      <td>0.749896</td>\n",
       "      <td>1.012248</td>\n",
       "      <td>1.034997</td>\n",
       "    </tr>\n",
       "  </tbody>\n",
       "</table>\n",
       "</div>"
      ],
      "text/plain": [
       "                                         std_dev  ten_day_momentum  \\\n",
       "2018-04-10 00:00:00+00:00 沙河股份(000014)  0.317238          1.067873   \n",
       "                          深康佳Ａ(000016)  0.075895          1.051699   \n",
       "                          深深宝Ａ(000019)  0.488000          1.100412   \n",
       "                          飞亚达Ａ(000026)  0.236440          1.055126   \n",
       "                          国药一致(000028)  0.749896          1.012248   \n",
       "\n",
       "                                        twenty_day_momentum  \n",
       "2018-04-10 00:00:00+00:00 沙河股份(000014)             1.033275  \n",
       "                          深康佳Ａ(000016)             1.115987  \n",
       "                          深深宝Ａ(000019)             1.100412  \n",
       "                          飞亚达Ａ(000026)             1.038059  \n",
       "                          国药一致(000028)             1.034997  "
      ]
     },
     "execution_count": 12,
     "metadata": {},
     "output_type": "execute_result"
    }
   ],
   "source": [
    "result = run_pipeline(make_pipeline(), '2018-04-05', '2018-05-15')\n",
    "result.head()"
   ]
  },
  {
   "cell_type": "markdown",
   "metadata": {},
   "source": [
    "自定义因子允许我们在流水线中定义自定义计算。 它们通常是在合作伙伴数据集或多个数据列上执行计算的最佳方式。`CustomFactors`的完整文档可以在[这里](https://www.quantopian.com/help#custom-factors)找到。"
   ]
  },
  {
   "cell_type": "markdown",
   "metadata": {},
   "source": [
    "在下一课中，我们将使用迄今为止学到的一切来为算法创建一个流水线。"
   ]
  }
 ],
 "metadata": {
  "kernelspec": {
   "display_name": "zipline",
   "language": "python",
   "name": "zipline"
  },
  "language_info": {
   "codemirror_mode": {
    "name": "ipython",
    "version": 3
   },
   "file_extension": ".py",
   "mimetype": "text/x-python",
   "name": "python",
   "nbconvert_exporter": "python",
   "pygments_lexer": "ipython3",
   "version": "3.6.5"
  }
 },
 "nbformat": 4,
 "nbformat_minor": 2
}
