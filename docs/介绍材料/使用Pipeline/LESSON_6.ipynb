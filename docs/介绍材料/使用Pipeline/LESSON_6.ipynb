{
 "cells": [
  {
   "cell_type": "markdown",
   "metadata": {},
   "source": [
    "## Combining Filters"
   ]
  },
  {
   "cell_type": "markdown",
   "metadata": {},
   "source": [
    "像因子一样，过滤器可以结合使用。组合过滤器使用`&`(与）和`|`（或）运算。例如，假设我们想要筛选平均美元数量前10%并且最近收盘价在20美元以上的证券。首先，让我们使用`AverageDollarVolume`因子和`percentile_between`创建高美元成交过滤器："
   ]
  },
  {
   "cell_type": "raw",
   "metadata": {},
   "source": [
    "high_dollar_volume = dollar_volume.percentile_between(90, 100)"
   ]
  },
  {
   "cell_type": "markdown",
   "metadata": {},
   "source": [
    "注意：`percentile_between`是返回过滤器的因子方法。"
   ]
  },
  {
   "cell_type": "markdown",
   "metadata": {},
   "source": [
    "接下来，让我们创建一个`latest_close`因子并为收盘价高于20美元的证券定义一个过滤器："
   ]
  },
  {
   "cell_type": "raw",
   "metadata": {},
   "source": [
    "latest_close = USEquityPricing.close.latest\n",
    "above_20 = latest_close > 20"
   ]
  },
  {
   "cell_type": "markdown",
   "metadata": {},
   "source": [
    "现在我们可以使用`&`运算符将我们的`high_dollar_volume`过滤器与我们的`above_20`过滤器结合起来："
   ]
  },
  {
   "cell_type": "markdown",
   "metadata": {},
   "source": [
    "is_tradeable = high_dollar_volume & above_20"
   ]
  },
  {
   "cell_type": "markdown",
   "metadata": {},
   "source": [
    "对于`high_dollar_volume`和`above_20`均为`True`的证券，此过滤器将评估为`True`。否则，它将评估为`False`。类似的计算可以用`|`（或）操作符。"
   ]
  },
  {
   "cell_type": "markdown",
   "metadata": {},
   "source": [
    "如果我们想在流水线中使用这个过滤器作为`screen`参数值，我们可以将`screen`设置为`is_tradeable`。"
   ]
  },
  {
   "cell_type": "code",
   "execution_count": 1,
   "metadata": {
    "ExecuteTime": {
     "end_time": "2018-04-24T16:31:39.782246Z",
     "start_time": "2018-04-24T16:31:37.081092Z"
    }
   },
   "outputs": [],
   "source": [
    "from zipline.pipeline.factors import AverageDollarVolume, SimpleMovingAverage\n",
    "from zipline.pipeline import Pipeline\n",
    "from zipline.pipeline.data import USEquityPricing\n",
    "from zipline.research import run_pipeline"
   ]
  },
  {
   "cell_type": "code",
   "execution_count": 2,
   "metadata": {
    "ExecuteTime": {
     "end_time": "2018-04-24T16:31:39.794366Z",
     "start_time": "2018-04-24T16:31:39.784949Z"
    }
   },
   "outputs": [],
   "source": [
    "def make_pipeline():\n",
    "\n",
    "    mean_close_10 = SimpleMovingAverage(\n",
    "        inputs=[USEquityPricing.close], window_length=10)\n",
    "    mean_close_30 = SimpleMovingAverage(\n",
    "        inputs=[USEquityPricing.close], window_length=30)\n",
    "\n",
    "    percent_difference = (mean_close_10 - mean_close_30) / mean_close_30\n",
    "\n",
    "    dollar_volume = AverageDollarVolume(\n",
    "        window_length=30,\n",
    "        inputs=[USEquityPricing.close, USEquityPricing.volume])\n",
    "    high_dollar_volume = dollar_volume.percentile_between(90, 100)\n",
    "\n",
    "    latest_close = USEquityPricing.close.latest\n",
    "    above_20 = latest_close > 20\n",
    "\n",
    "    is_tradeable = high_dollar_volume & above_20\n",
    "\n",
    "    return Pipeline(\n",
    "        columns={'percent_difference': percent_difference},\n",
    "        screen=is_tradeable)"
   ]
  },
  {
   "cell_type": "markdown",
   "metadata": {},
   "source": [
    "运行这条管道，2015年5月5日产出约130个证券。"
   ]
  },
  {
   "cell_type": "code",
   "execution_count": 3,
   "metadata": {
    "ExecuteTime": {
     "end_time": "2018-04-24T16:31:41.046489Z",
     "start_time": "2018-04-24T16:31:39.797673Z"
    }
   },
   "outputs": [
    {
     "name": "stdout",
     "output_type": "stream",
     "text": [
      "Number of securities that passed the filter: 130\n"
     ]
    }
   ],
   "source": [
    "result = run_pipeline(make_pipeline(), '2015-05-05', '2015-05-05')\n",
    "print('Number of securities that passed the filter: %d' % len(result))"
   ]
  },
  {
   "cell_type": "markdown",
   "metadata": {},
   "source": [
    "在下一课中，我们将看看掩蔽因素和过滤器。"
   ]
  }
 ],
 "metadata": {
  "kernelspec": {
   "display_name": "zipline",
   "language": "python",
   "name": "zipline"
  },
  "language_info": {
   "codemirror_mode": {
    "name": "ipython",
    "version": 3
   },
   "file_extension": ".py",
   "mimetype": "text/x-python",
   "name": "python",
   "nbconvert_exporter": "python",
   "pygments_lexer": "ipython3",
   "version": "3.6.5"
  }
 },
 "nbformat": 4,
 "nbformat_minor": 2
}
