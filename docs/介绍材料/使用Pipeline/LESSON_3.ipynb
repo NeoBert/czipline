{
 "cells": [
  {
   "cell_type": "markdown",
   "metadata": {},
   "source": [
    "## Factors"
   ]
  },
  {
   "cell_type": "markdown",
   "metadata": {},
   "source": [
    "一个因子是从资产和时刻到数字的函数。"
   ]
  },
  {
   "cell_type": "markdown",
   "metadata": {
    "ExecuteTime": {
     "end_time": "2018-04-24T16:00:47.404365Z",
     "start_time": "2018-04-24T16:00:47.282324Z"
    }
   },
   "source": [
    "![因子函数](./factor_fun.png)"
   ]
  },
  {
   "cell_type": "markdown",
   "metadata": {},
   "source": [
    "在管道中，因子是最常用的术语，表示任何计算产生数值结果的结果。因素需要一列数据以及窗口长度作为输入。"
   ]
  },
  {
   "cell_type": "markdown",
   "metadata": {},
   "source": [
    "管道中最简单的因子是内置因子。内置因子是预先构建的，可执行常用计算。作为第一个例子，我们来制定一个因子，计算每个资产在10天后窗口的平均收盘价。我们可以使用`SimpleMovingAverage`内置因子计算指定窗口长度（10天）内输入数据的平均值（收盘价格）。为此，我们需要导入我们的内置`SimpleMovingAverage`因子和`USEquityPricing`数据集。"
   ]
  },
  {
   "cell_type": "code",
   "execution_count": 1,
   "metadata": {
    "ExecuteTime": {
     "end_time": "2018-04-26T06:14:08.283414Z",
     "start_time": "2018-04-26T06:14:06.544623Z"
    }
   },
   "outputs": [],
   "source": [
    "from zipline.pipeline.data import USEquityPricing\n",
    "from zipline.pipeline.factors import SimpleMovingAverage"
   ]
  },
  {
   "cell_type": "markdown",
   "metadata": {},
   "source": [
    "## Creating a Factor"
   ]
  },
  {
   "cell_type": "markdown",
   "metadata": {},
   "source": [
    "让我们回到上一课的`make_pipeline`函数，并实例化一个`SimpleMovingAverage`因子。 要创建`SimpleMovingAverage`因子，我们可以使用两个参数调用`SimpleMovingAverage`构造函数：`inputs`（它必须是BoundColumn对象的列表）和`window_length`（必须是一个整数，指示我们的移动平均值计算应该接收多少天的数据）。\n",
    "\n",
    "我们稍后将更深入地讨论`BoundColumn`;现在我们只需要知道`BoundColumn`是一个对象，指示应将哪种数据传递给我们的因子。"
   ]
  },
  {
   "cell_type": "markdown",
   "metadata": {},
   "source": [
    "以下线为计算证券10日平均收盘价创造了一个因子。"
   ]
  },
  {
   "cell_type": "code",
   "execution_count": 2,
   "metadata": {
    "ExecuteTime": {
     "end_time": "2018-04-26T06:14:08.295190Z",
     "start_time": "2018-04-26T06:14:08.286944Z"
    }
   },
   "outputs": [],
   "source": [
    "mean_close_10 = SimpleMovingAverage(\n",
    "    inputs=[USEquityPricing.close],\n",
    "    window_length=10\n",
    ")"
   ]
  },
  {
   "cell_type": "markdown",
   "metadata": {},
   "source": [
    "重要的是要注意创建该因子并不实际执行计算。创建一个因子就像定义函数一样。为了执行计算，我们需要将该因子添加到我们的管道并运行它。"
   ]
  },
  {
   "cell_type": "markdown",
   "metadata": {},
   "source": [
    "## Adding a Factor to a Pipeline"
   ]
  },
  {
   "cell_type": "markdown",
   "metadata": {},
   "source": [
    "让我们更新我们原来的空管道，使其计算我们的新移动平均因子。首先，让我们将我们的因子移动至`make_pipeline`中。 接下来，我们可以告诉我们的管道通过传递一个`columns`参数来计算我们的因子，这个列参数应该是一个将列名映射到因子，过滤器或分类器的字典。 我们更新的`make_pipeline`函数应该是这样的："
   ]
  },
  {
   "cell_type": "code",
   "execution_count": 3,
   "metadata": {
    "ExecuteTime": {
     "end_time": "2018-04-26T06:14:08.305850Z",
     "start_time": "2018-04-26T06:14:08.301960Z"
    }
   },
   "outputs": [],
   "source": [
    "from zipline.pipeline import Pipeline"
   ]
  },
  {
   "cell_type": "code",
   "execution_count": 4,
   "metadata": {
    "ExecuteTime": {
     "end_time": "2018-04-26T06:14:08.314572Z",
     "start_time": "2018-04-26T06:14:08.309610Z"
    }
   },
   "outputs": [],
   "source": [
    "def make_pipeline():\n",
    "    mean_volume_10 = SimpleMovingAverage(\n",
    "        inputs=[USEquityPricing.volume], window_length=10)\n",
    "    mean_close_10 = SimpleMovingAverage(\n",
    "        inputs=[USEquityPricing.close], window_length=10)\n",
    "    mean_cmv_10 = SimpleMovingAverage(\n",
    "        inputs=[USEquityPricing.cmv], window_length=10)\n",
    "\n",
    "    return Pipeline(\n",
    "        columns={\n",
    "            '10日平均成交量': mean_volume_10,\n",
    "            '10_day_mean_close': mean_close_10,\n",
    "            '10日平均流通市值': mean_cmv_10\n",
    "        })"
   ]
  },
  {
   "cell_type": "markdown",
   "metadata": {},
   "source": [
    "为了看看这个样子，让我们制作我们的管道，运行它，并显示结果的前几行。"
   ]
  },
  {
   "cell_type": "code",
   "execution_count": 5,
   "metadata": {
    "ExecuteTime": {
     "end_time": "2018-04-26T06:14:09.439377Z",
     "start_time": "2018-04-26T06:14:08.316775Z"
    }
   },
   "outputs": [],
   "source": [
    "from zipline.research import run_pipeline"
   ]
  },
  {
   "cell_type": "code",
   "execution_count": 6,
   "metadata": {
    "ExecuteTime": {
     "end_time": "2018-04-26T06:14:09.588255Z",
     "start_time": "2018-04-26T06:14:09.441437Z"
    }
   },
   "outputs": [
    {
     "data": {
      "text/html": [
       "<div>\n",
       "<style scoped>\n",
       "    .dataframe tbody tr th:only-of-type {\n",
       "        vertical-align: middle;\n",
       "    }\n",
       "\n",
       "    .dataframe tbody tr th {\n",
       "        vertical-align: top;\n",
       "    }\n",
       "\n",
       "    .dataframe thead th {\n",
       "        text-align: right;\n",
       "    }\n",
       "</style>\n",
       "<table border=\"1\" class=\"dataframe\">\n",
       "  <thead>\n",
       "    <tr style=\"text-align: right;\">\n",
       "      <th></th>\n",
       "      <th></th>\n",
       "      <th>10_day_mean_close</th>\n",
       "      <th>10日平均成交量</th>\n",
       "      <th>10日平均流通市值</th>\n",
       "    </tr>\n",
       "  </thead>\n",
       "  <tbody>\n",
       "    <tr>\n",
       "      <th rowspan=\"5\" valign=\"top\">2018-04-10 00:00:00+00:00</th>\n",
       "      <th>平安银行(000001)</th>\n",
       "      <td>10.985</td>\n",
       "      <td>120813000.0</td>\n",
       "      <td>1.858443e+11</td>\n",
       "    </tr>\n",
       "    <tr>\n",
       "      <th>川化股份(000155)</th>\n",
       "      <td>6.868</td>\n",
       "      <td>26163000.0</td>\n",
       "      <td>8.722360e+09</td>\n",
       "    </tr>\n",
       "    <tr>\n",
       "      <th>美的集团(000333)</th>\n",
       "      <td>54.434</td>\n",
       "      <td>41545000.0</td>\n",
       "      <td>3.520207e+11</td>\n",
       "    </tr>\n",
       "    <tr>\n",
       "      <th>盐湖股份(000792)</th>\n",
       "      <td>12.969</td>\n",
       "      <td>41509000.0</td>\n",
       "      <td>3.566345e+10</td>\n",
       "    </tr>\n",
       "    <tr>\n",
       "      <th>精功科技(002006)</th>\n",
       "      <td>6.371</td>\n",
       "      <td>3322000.0</td>\n",
       "      <td>2.899818e+09</td>\n",
       "    </tr>\n",
       "  </tbody>\n",
       "</table>\n",
       "</div>"
      ],
      "text/plain": [
       "                                        10_day_mean_close     10日平均成交量  \\\n",
       "2018-04-10 00:00:00+00:00 平安银行(000001)             10.985  120813000.0   \n",
       "                          川化股份(000155)              6.868   26163000.0   \n",
       "                          美的集团(000333)             54.434   41545000.0   \n",
       "                          盐湖股份(000792)             12.969   41509000.0   \n",
       "                          精功科技(002006)              6.371    3322000.0   \n",
       "\n",
       "                                           10日平均流通市值  \n",
       "2018-04-10 00:00:00+00:00 平安银行(000001)  1.858443e+11  \n",
       "                          川化股份(000155)  8.722360e+09  \n",
       "                          美的集团(000333)  3.520207e+11  \n",
       "                          盐湖股份(000792)  3.566345e+10  \n",
       "                          精功科技(002006)  2.899818e+09  "
      ]
     },
     "execution_count": 6,
     "metadata": {},
     "output_type": "execute_result"
    }
   ],
   "source": [
    "result = run_pipeline(make_pipeline(), '2018-04-10', '2018-04-10')\n",
    "result.head()"
   ]
  },
  {
   "cell_type": "markdown",
   "metadata": {},
   "source": [
    "现在我们在管道输出中有一列，所有证券的10天平均收盘价格（显示截断）。请注意，每行对应于我们对给定日期存储的给定证券的计算结果。DataFrame有一个`MultiIndex`，其中第一个级别是表示计算日期的日期时间，第二个级别是与证券相对应的`Equity`对象。例如，上面DataFrame中的第一行（2018-04-10 00:00:00+00:00，`平安银行(000001)`包含4月10日平安银行的`mean_close_10`因子结果。"
   ]
  },
  {
   "cell_type": "markdown",
   "metadata": {},
   "source": [
    "注意：也可以使用`Pipeline.add`方法将因子添加到现有的`Pipeline`实例中。使用添加看起来像这样："
   ]
  },
  {
   "cell_type": "raw",
   "metadata": {},
   "source": [
    ">>> my_pipe = Pipeline()\n",
    ">>> f1 = SomeFactor(...)\n",
    ">>> my_pipe.add(f1)"
   ]
  },
  {
   "cell_type": "markdown",
   "metadata": {},
   "source": [
    "## Latest"
   ]
  },
  {
   "cell_type": "code",
   "execution_count": 7,
   "metadata": {
    "ExecuteTime": {
     "end_time": "2018-04-26T06:14:09.597232Z",
     "start_time": "2018-04-26T06:14:09.591440Z"
    }
   },
   "outputs": [],
   "source": [
    "def make_pipeline():\n",
    "\n",
    "    mean_close_10 = SimpleMovingAverage(\n",
    "        inputs=[USEquityPricing.close], window_length=10)\n",
    "    latest_close = USEquityPricing.close.latest\n",
    "\n",
    "    return Pipeline(columns={\n",
    "        '10_day_mean_close': mean_close_10,\n",
    "        'latest_close_price': latest_close\n",
    "    })"
   ]
  },
  {
   "cell_type": "markdown",
   "metadata": {},
   "source": [
    "现在，当我们再次制作并运行我们的管线时，我们的输出数据框中有两列。 一列有每个证券的10日平均收盘价，另一列有最新收盘价。"
   ]
  },
  {
   "cell_type": "code",
   "execution_count": 8,
   "metadata": {
    "ExecuteTime": {
     "end_time": "2018-04-26T06:14:09.727494Z",
     "start_time": "2018-04-26T06:14:09.601677Z"
    }
   },
   "outputs": [
    {
     "data": {
      "text/html": [
       "<div>\n",
       "<style scoped>\n",
       "    .dataframe tbody tr th:only-of-type {\n",
       "        vertical-align: middle;\n",
       "    }\n",
       "\n",
       "    .dataframe tbody tr th {\n",
       "        vertical-align: top;\n",
       "    }\n",
       "\n",
       "    .dataframe thead th {\n",
       "        text-align: right;\n",
       "    }\n",
       "</style>\n",
       "<table border=\"1\" class=\"dataframe\">\n",
       "  <thead>\n",
       "    <tr style=\"text-align: right;\">\n",
       "      <th></th>\n",
       "      <th></th>\n",
       "      <th>10_day_mean_close</th>\n",
       "      <th>latest_close_price</th>\n",
       "    </tr>\n",
       "  </thead>\n",
       "  <tbody>\n",
       "    <tr>\n",
       "      <th rowspan=\"5\" valign=\"top\">2018-04-10 00:00:00+00:00</th>\n",
       "      <th>平安银行(000001)</th>\n",
       "      <td>10.985</td>\n",
       "      <td>10.87</td>\n",
       "    </tr>\n",
       "    <tr>\n",
       "      <th>川化股份(000155)</th>\n",
       "      <td>6.868</td>\n",
       "      <td>7.03</td>\n",
       "    </tr>\n",
       "    <tr>\n",
       "      <th>美的集团(000333)</th>\n",
       "      <td>54.434</td>\n",
       "      <td>53.01</td>\n",
       "    </tr>\n",
       "    <tr>\n",
       "      <th>盐湖股份(000792)</th>\n",
       "      <td>12.969</td>\n",
       "      <td>14.03</td>\n",
       "    </tr>\n",
       "    <tr>\n",
       "      <th>精功科技(002006)</th>\n",
       "      <td>6.371</td>\n",
       "      <td>6.48</td>\n",
       "    </tr>\n",
       "  </tbody>\n",
       "</table>\n",
       "</div>"
      ],
      "text/plain": [
       "                                        10_day_mean_close  latest_close_price\n",
       "2018-04-10 00:00:00+00:00 平安银行(000001)             10.985               10.87\n",
       "                          川化股份(000155)              6.868                7.03\n",
       "                          美的集团(000333)             54.434               53.01\n",
       "                          盐湖股份(000792)             12.969               14.03\n",
       "                          精功科技(002006)              6.371                6.48"
      ]
     },
     "execution_count": 8,
     "metadata": {},
     "output_type": "execute_result"
    }
   ],
   "source": [
    "result = run_pipeline(make_pipeline(), '2018-04-10', '2018-04-10')\n",
    "result.head()"
   ]
  },
  {
   "cell_type": "markdown",
   "metadata": {},
   "source": [
    "## Default Inputs"
   ]
  },
  {
   "cell_type": "markdown",
   "metadata": {},
   "source": [
    "一些因子具有不应改变的默认输入。例如，`VWAP`内置因子总是通过`USEquityPricing.close`和`USEquityPricing.volume`进行计算。当总是从相同的`BoundColumns`计算出因子时，我们可以在不指定输入的情况下调用构造函数。"
   ]
  },
  {
   "cell_type": "code",
   "execution_count": 9,
   "metadata": {
    "ExecuteTime": {
     "end_time": "2018-04-26T06:14:09.737430Z",
     "start_time": "2018-04-26T06:14:09.730479Z"
    }
   },
   "outputs": [],
   "source": [
    "from zipline.pipeline.factors import VWAP\n",
    "vwap = VWAP(inputs=[USEquityPricing.close], window_length=10)"
   ]
  }
 ],
 "metadata": {
  "kernelspec": {
   "display_name": "zipline",
   "language": "python",
   "name": "zipline"
  },
  "language_info": {
   "codemirror_mode": {
    "name": "ipython",
    "version": 3
   },
   "file_extension": ".py",
   "mimetype": "text/x-python",
   "name": "python",
   "nbconvert_exporter": "python",
   "pygments_lexer": "ipython3",
   "version": "3.6.5"
  }
 },
 "nbformat": 4,
 "nbformat_minor": 2
}
