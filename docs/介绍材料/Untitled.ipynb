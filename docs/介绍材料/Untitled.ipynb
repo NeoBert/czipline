{
 "cells": [
  {
   "cell_type": "markdown",
   "metadata": {},
   "source": [
    "补充财务报告公告日期"
   ]
  },
  {
   "cell_type": "code",
   "execution_count": 1,
   "metadata": {
    "ExecuteTime": {
     "end_time": "2018-05-01T05:29:16.763630Z",
     "start_time": "2018-05-01T05:29:16.448081Z"
    }
   },
   "outputs": [],
   "source": [
    "import pandas as pd"
   ]
  },
  {
   "cell_type": "code",
   "execution_count": 2,
   "metadata": {
    "ExecuteTime": {
     "end_time": "2018-05-01T05:29:17.196971Z",
     "start_time": "2018-05-01T05:29:16.767228Z"
    }
   },
   "outputs": [],
   "source": [
    "from cswd.tasks.report_dates import BookReportDate"
   ]
  },
  {
   "cell_type": "code",
   "execution_count": 3,
   "metadata": {
    "ExecuteTime": {
     "end_time": "2018-05-01T05:29:17.205381Z",
     "start_time": "2018-05-01T05:29:17.200916Z"
    }
   },
   "outputs": [],
   "source": [
    "brd = BookReportDate()"
   ]
  },
  {
   "cell_type": "code",
   "execution_count": 4,
   "metadata": {
    "ExecuteTime": {
     "end_time": "2018-05-01T05:29:17.453704Z",
     "start_time": "2018-05-01T05:29:17.208150Z"
    }
   },
   "outputs": [],
   "source": [
    "dates = brd.data"
   ]
  },
  {
   "cell_type": "code",
   "execution_count": 5,
   "metadata": {
    "ExecuteTime": {
     "end_time": "2018-05-01T05:29:17.470566Z",
     "start_time": "2018-05-01T05:29:17.456202Z"
    }
   },
   "outputs": [
    {
     "data": {
      "text/plain": [
       "Index(['报告期', '首次预约', '第一次变更', '第二次变更', '第三次变更', '实际披露', 'orgId', '股票代码',\n",
       "       '股票简称'],\n",
       "      dtype='object')"
      ]
     },
     "execution_count": 5,
     "metadata": {},
     "output_type": "execute_result"
    }
   ],
   "source": [
    "dates.columns"
   ]
  },
  {
   "cell_type": "code",
   "execution_count": 6,
   "metadata": {
    "ExecuteTime": {
     "end_time": "2018-05-01T05:29:17.478578Z",
     "start_time": "2018-05-01T05:29:17.474406Z"
    }
   },
   "outputs": [],
   "source": [
    "col_names = ['report_end_date','b0_date','b1_date','b2_date','b3_date','timestamp','code']"
   ]
  },
  {
   "cell_type": "code",
   "execution_count": 7,
   "metadata": {
    "ExecuteTime": {
     "end_time": "2018-05-01T05:29:17.511701Z",
     "start_time": "2018-05-01T05:29:17.481960Z"
    }
   },
   "outputs": [],
   "source": [
    "dates.drop(['orgId','股票简称'], axis=1, inplace=True)"
   ]
  },
  {
   "cell_type": "code",
   "execution_count": 8,
   "metadata": {
    "ExecuteTime": {
     "end_time": "2018-05-01T05:29:17.518839Z",
     "start_time": "2018-05-01T05:29:17.514831Z"
    }
   },
   "outputs": [],
   "source": [
    "dates.columns = col_names"
   ]
  },
  {
   "cell_type": "code",
   "execution_count": 9,
   "metadata": {
    "ExecuteTime": {
     "end_time": "2018-05-01T05:29:18.976093Z",
     "start_time": "2018-05-01T05:29:17.522720Z"
    }
   },
   "outputs": [],
   "source": [
    "for col in col_names:\n",
    "    if col != 'code':\n",
    "        dates[col] = dates[col].map(lambda x : pd.Timestamp(x).date())"
   ]
  },
  {
   "cell_type": "code",
   "execution_count": 10,
   "metadata": {
    "ExecuteTime": {
     "end_time": "2018-05-01T05:29:19.003652Z",
     "start_time": "2018-05-01T05:29:18.978549Z"
    }
   },
   "outputs": [
    {
     "data": {
      "text/html": [
       "<div>\n",
       "<style scoped>\n",
       "    .dataframe tbody tr th:only-of-type {\n",
       "        vertical-align: middle;\n",
       "    }\n",
       "\n",
       "    .dataframe tbody tr th {\n",
       "        vertical-align: top;\n",
       "    }\n",
       "\n",
       "    .dataframe thead th {\n",
       "        text-align: right;\n",
       "    }\n",
       "</style>\n",
       "<table border=\"1\" class=\"dataframe\">\n",
       "  <thead>\n",
       "    <tr style=\"text-align: right;\">\n",
       "      <th></th>\n",
       "      <th>report_end_date</th>\n",
       "      <th>b0_date</th>\n",
       "      <th>b1_date</th>\n",
       "      <th>b2_date</th>\n",
       "      <th>b3_date</th>\n",
       "      <th>timestamp</th>\n",
       "      <th>code</th>\n",
       "    </tr>\n",
       "  </thead>\n",
       "  <tbody>\n",
       "    <tr>\n",
       "      <th>0</th>\n",
       "      <td>2009-06-30</td>\n",
       "      <td>2009-08-21</td>\n",
       "      <td>NaT</td>\n",
       "      <td>NaT</td>\n",
       "      <td>NaT</td>\n",
       "      <td>2009-08-21</td>\n",
       "      <td>000001</td>\n",
       "    </tr>\n",
       "    <tr>\n",
       "      <th>1</th>\n",
       "      <td>2009-06-30</td>\n",
       "      <td>2009-08-04</td>\n",
       "      <td>NaT</td>\n",
       "      <td>NaT</td>\n",
       "      <td>NaT</td>\n",
       "      <td>2009-08-04</td>\n",
       "      <td>000002</td>\n",
       "    </tr>\n",
       "    <tr>\n",
       "      <th>2</th>\n",
       "      <td>2009-06-30</td>\n",
       "      <td>2009-08-15</td>\n",
       "      <td>NaT</td>\n",
       "      <td>NaT</td>\n",
       "      <td>NaT</td>\n",
       "      <td>2009-08-15</td>\n",
       "      <td>000004</td>\n",
       "    </tr>\n",
       "    <tr>\n",
       "      <th>3</th>\n",
       "      <td>2009-06-30</td>\n",
       "      <td>2009-08-28</td>\n",
       "      <td>NaT</td>\n",
       "      <td>NaT</td>\n",
       "      <td>NaT</td>\n",
       "      <td>2009-08-28</td>\n",
       "      <td>000005</td>\n",
       "    </tr>\n",
       "    <tr>\n",
       "      <th>4</th>\n",
       "      <td>2009-06-30</td>\n",
       "      <td>2009-08-01</td>\n",
       "      <td>2009-08-12</td>\n",
       "      <td>NaT</td>\n",
       "      <td>NaT</td>\n",
       "      <td>2009-08-12</td>\n",
       "      <td>000006</td>\n",
       "    </tr>\n",
       "  </tbody>\n",
       "</table>\n",
       "</div>"
      ],
      "text/plain": [
       "  report_end_date     b0_date     b1_date b2_date b3_date   timestamp    code\n",
       "0      2009-06-30  2009-08-21         NaT     NaT     NaT  2009-08-21  000001\n",
       "1      2009-06-30  2009-08-04         NaT     NaT     NaT  2009-08-04  000002\n",
       "2      2009-06-30  2009-08-15         NaT     NaT     NaT  2009-08-15  000004\n",
       "3      2009-06-30  2009-08-28         NaT     NaT     NaT  2009-08-28  000005\n",
       "4      2009-06-30  2009-08-01  2009-08-12     NaT     NaT  2009-08-12  000006"
      ]
     },
     "execution_count": 10,
     "metadata": {},
     "output_type": "execute_result"
    }
   ],
   "source": [
    "dates.head()"
   ]
  },
  {
   "cell_type": "code",
   "execution_count": 11,
   "metadata": {
    "ExecuteTime": {
     "end_time": "2018-05-01T05:38:05.660803Z",
     "start_time": "2018-05-01T05:38:05.657430Z"
    }
   },
   "outputs": [],
   "source": [
    "preprocessed_dates = dates"
   ]
  },
  {
   "cell_type": "code",
   "execution_count": 20,
   "metadata": {
    "ExecuteTime": {
     "end_time": "2018-05-01T05:40:49.718403Z",
     "start_time": "2018-05-01T05:40:49.712665Z"
    }
   },
   "outputs": [],
   "source": [
    "from zipline.pipeline.fundamentals.base import STOCK_DB\n",
    "from odo import odo\n",
    "from cswd.sql.constants import BALANCESHEET_ITEM_MAPS"
   ]
  },
  {
   "cell_type": "code",
   "execution_count": 21,
   "metadata": {
    "ExecuteTime": {
     "end_time": "2018-05-01T05:41:00.713322Z",
     "start_time": "2018-05-01T05:41:00.703789Z"
    }
   },
   "outputs": [],
   "source": [
    "table = 'balance_sheets'\n",
    "maps = BALANCESHEET_ITEM_MAPS"
   ]
  },
  {
   "cell_type": "code",
   "execution_count": 16,
   "metadata": {
    "ExecuteTime": {
     "end_time": "2018-05-01T05:39:01.000290Z",
     "start_time": "2018-05-01T05:39:00.996804Z"
    }
   },
   "outputs": [],
   "source": [
    "expr = STOCK_DB[table]"
   ]
  },
  {
   "cell_type": "code",
   "execution_count": 18,
   "metadata": {
    "ExecuteTime": {
     "end_time": "2018-05-01T05:39:35.105399Z",
     "start_time": "2018-05-01T05:39:30.467959Z"
    }
   },
   "outputs": [],
   "source": [
    "df = odo(expr, pd.DataFrame)"
   ]
  },
  {
   "cell_type": "code",
   "execution_count": 22,
   "metadata": {
    "ExecuteTime": {
     "end_time": "2018-05-01T05:41:03.905347Z",
     "start_time": "2018-05-01T05:41:03.752725Z"
    }
   },
   "outputs": [],
   "source": [
    "df.drop(['更新时间', '序号', '公告日期'], axis=1, inplace=True)\n",
    "df.rename(columns={'股票代码': 'code', '报告日期': 'report_end_date'}, inplace=True)\n",
    "df.rename(columns={v: k for k, v in maps.items()}, inplace=True)"
   ]
  },
  {
   "cell_type": "code",
   "execution_count": 28,
   "metadata": {
    "ExecuteTime": {
     "end_time": "2018-05-01T05:44:24.001994Z",
     "start_time": "2018-05-01T05:44:23.852499Z"
    }
   },
   "outputs": [],
   "source": [
    "out = df.merge(preprocessed_dates, how='left', on=['code','report_end_date'])"
   ]
  },
  {
   "cell_type": "code",
   "execution_count": 44,
   "metadata": {
    "ExecuteTime": {
     "end_time": "2018-05-01T05:58:12.090289Z",
     "start_time": "2018-05-01T05:58:12.037796Z"
    }
   },
   "outputs": [
    {
     "data": {
      "text/html": [
       "<div>\n",
       "<style scoped>\n",
       "    .dataframe tbody tr th:only-of-type {\n",
       "        vertical-align: middle;\n",
       "    }\n",
       "\n",
       "    .dataframe tbody tr th {\n",
       "        vertical-align: top;\n",
       "    }\n",
       "\n",
       "    .dataframe thead th {\n",
       "        text-align: right;\n",
       "    }\n",
       "</style>\n",
       "<table border=\"1\" class=\"dataframe\">\n",
       "  <thead>\n",
       "    <tr style=\"text-align: right;\">\n",
       "      <th></th>\n",
       "      <th>report_end_date</th>\n",
       "      <th>b0_date</th>\n",
       "      <th>b1_date</th>\n",
       "      <th>timestamp</th>\n",
       "      <th>asof_date</th>\n",
       "    </tr>\n",
       "  </thead>\n",
       "  <tbody>\n",
       "    <tr>\n",
       "      <th>82034</th>\n",
       "      <td>2006-12-31</td>\n",
       "      <td>NaN</td>\n",
       "      <td>NaN</td>\n",
       "      <td>NaN</td>\n",
       "      <td>2007-02-14</td>\n",
       "    </tr>\n",
       "    <tr>\n",
       "      <th>82035</th>\n",
       "      <td>2007-03-31</td>\n",
       "      <td>NaN</td>\n",
       "      <td>NaN</td>\n",
       "      <td>NaN</td>\n",
       "      <td>2007-05-15</td>\n",
       "    </tr>\n",
       "    <tr>\n",
       "      <th>82036</th>\n",
       "      <td>2007-06-30</td>\n",
       "      <td>NaN</td>\n",
       "      <td>NaN</td>\n",
       "      <td>NaN</td>\n",
       "      <td>2007-08-14</td>\n",
       "    </tr>\n",
       "    <tr>\n",
       "      <th>82037</th>\n",
       "      <td>2007-09-30</td>\n",
       "      <td>NaN</td>\n",
       "      <td>NaN</td>\n",
       "      <td>NaN</td>\n",
       "      <td>2007-11-14</td>\n",
       "    </tr>\n",
       "    <tr>\n",
       "      <th>82038</th>\n",
       "      <td>2007-12-31</td>\n",
       "      <td>NaN</td>\n",
       "      <td>NaN</td>\n",
       "      <td>NaN</td>\n",
       "      <td>2008-02-14</td>\n",
       "    </tr>\n",
       "    <tr>\n",
       "      <th>82039</th>\n",
       "      <td>2008-03-31</td>\n",
       "      <td>2008-04-21</td>\n",
       "      <td>2008-04-30</td>\n",
       "      <td>2008-04-30</td>\n",
       "      <td>2008-04-30</td>\n",
       "    </tr>\n",
       "    <tr>\n",
       "      <th>82040</th>\n",
       "      <td>2008-06-30</td>\n",
       "      <td>2008-08-18</td>\n",
       "      <td>2008-08-30</td>\n",
       "      <td>2008-08-30</td>\n",
       "      <td>2008-08-30</td>\n",
       "    </tr>\n",
       "    <tr>\n",
       "      <th>82041</th>\n",
       "      <td>2008-09-30</td>\n",
       "      <td>2008-10-30</td>\n",
       "      <td>NaT</td>\n",
       "      <td>2008-10-30</td>\n",
       "      <td>2008-10-30</td>\n",
       "    </tr>\n",
       "    <tr>\n",
       "      <th>82042</th>\n",
       "      <td>2008-12-31</td>\n",
       "      <td>2009-03-30</td>\n",
       "      <td>NaT</td>\n",
       "      <td>2009-03-30</td>\n",
       "      <td>2009-03-30</td>\n",
       "    </tr>\n",
       "    <tr>\n",
       "      <th>82043</th>\n",
       "      <td>2009-03-31</td>\n",
       "      <td>2009-04-21</td>\n",
       "      <td>2009-04-29</td>\n",
       "      <td>2009-04-29</td>\n",
       "      <td>2009-04-29</td>\n",
       "    </tr>\n",
       "    <tr>\n",
       "      <th>82044</th>\n",
       "      <td>2009-06-30</td>\n",
       "      <td>2009-08-31</td>\n",
       "      <td>NaT</td>\n",
       "      <td>2009-08-31</td>\n",
       "      <td>2009-08-31</td>\n",
       "    </tr>\n",
       "    <tr>\n",
       "      <th>82045</th>\n",
       "      <td>2009-09-30</td>\n",
       "      <td>2009-10-26</td>\n",
       "      <td>2009-10-30</td>\n",
       "      <td>2009-10-30</td>\n",
       "      <td>2009-10-30</td>\n",
       "    </tr>\n",
       "    <tr>\n",
       "      <th>82046</th>\n",
       "      <td>2009-12-31</td>\n",
       "      <td>2010-04-29</td>\n",
       "      <td>NaT</td>\n",
       "      <td>2010-04-29</td>\n",
       "      <td>2010-04-29</td>\n",
       "    </tr>\n",
       "    <tr>\n",
       "      <th>82047</th>\n",
       "      <td>2010-03-31</td>\n",
       "      <td>2010-04-29</td>\n",
       "      <td>NaT</td>\n",
       "      <td>2010-04-29</td>\n",
       "      <td>2010-04-29</td>\n",
       "    </tr>\n",
       "    <tr>\n",
       "      <th>82048</th>\n",
       "      <td>2010-06-30</td>\n",
       "      <td>2010-08-23</td>\n",
       "      <td>NaT</td>\n",
       "      <td>2010-08-23</td>\n",
       "      <td>2010-08-23</td>\n",
       "    </tr>\n",
       "    <tr>\n",
       "      <th>82049</th>\n",
       "      <td>2010-09-30</td>\n",
       "      <td>2010-10-25</td>\n",
       "      <td>2010-10-30</td>\n",
       "      <td>2010-10-30</td>\n",
       "      <td>2010-10-30</td>\n",
       "    </tr>\n",
       "    <tr>\n",
       "      <th>82050</th>\n",
       "      <td>2010-12-31</td>\n",
       "      <td>2011-04-16</td>\n",
       "      <td>2011-04-30</td>\n",
       "      <td>2011-04-30</td>\n",
       "      <td>2011-04-30</td>\n",
       "    </tr>\n",
       "    <tr>\n",
       "      <th>82051</th>\n",
       "      <td>2011-03-31</td>\n",
       "      <td>2011-04-30</td>\n",
       "      <td>NaT</td>\n",
       "      <td>2011-04-30</td>\n",
       "      <td>2011-04-30</td>\n",
       "    </tr>\n",
       "    <tr>\n",
       "      <th>82052</th>\n",
       "      <td>2011-06-30</td>\n",
       "      <td>2011-08-27</td>\n",
       "      <td>NaT</td>\n",
       "      <td>2011-08-27</td>\n",
       "      <td>2011-08-27</td>\n",
       "    </tr>\n",
       "    <tr>\n",
       "      <th>82053</th>\n",
       "      <td>2011-09-30</td>\n",
       "      <td>2011-10-29</td>\n",
       "      <td>NaT</td>\n",
       "      <td>2011-10-29</td>\n",
       "      <td>2011-10-29</td>\n",
       "    </tr>\n",
       "    <tr>\n",
       "      <th>82054</th>\n",
       "      <td>2011-12-31</td>\n",
       "      <td>2012-01-20</td>\n",
       "      <td>2012-02-18</td>\n",
       "      <td>2012-02-18</td>\n",
       "      <td>2012-02-18</td>\n",
       "    </tr>\n",
       "    <tr>\n",
       "      <th>82055</th>\n",
       "      <td>2012-03-31</td>\n",
       "      <td>2012-04-23</td>\n",
       "      <td>2012-04-28</td>\n",
       "      <td>2012-04-28</td>\n",
       "      <td>2012-04-28</td>\n",
       "    </tr>\n",
       "    <tr>\n",
       "      <th>82056</th>\n",
       "      <td>2012-06-30</td>\n",
       "      <td>2012-08-31</td>\n",
       "      <td>NaT</td>\n",
       "      <td>2012-08-31</td>\n",
       "      <td>2012-08-31</td>\n",
       "    </tr>\n",
       "    <tr>\n",
       "      <th>82057</th>\n",
       "      <td>2012-09-30</td>\n",
       "      <td>2012-10-31</td>\n",
       "      <td>2012-10-20</td>\n",
       "      <td>2012-10-20</td>\n",
       "      <td>2012-10-20</td>\n",
       "    </tr>\n",
       "    <tr>\n",
       "      <th>82058</th>\n",
       "      <td>2012-12-31</td>\n",
       "      <td>2013-03-30</td>\n",
       "      <td>2013-04-13</td>\n",
       "      <td>2013-04-13</td>\n",
       "      <td>2013-04-13</td>\n",
       "    </tr>\n",
       "    <tr>\n",
       "      <th>82059</th>\n",
       "      <td>2013-03-31</td>\n",
       "      <td>2013-04-27</td>\n",
       "      <td>NaT</td>\n",
       "      <td>2013-04-27</td>\n",
       "      <td>2013-04-27</td>\n",
       "    </tr>\n",
       "    <tr>\n",
       "      <th>82060</th>\n",
       "      <td>2013-06-30</td>\n",
       "      <td>2013-08-24</td>\n",
       "      <td>2013-08-17</td>\n",
       "      <td>2013-08-17</td>\n",
       "      <td>2013-08-17</td>\n",
       "    </tr>\n",
       "    <tr>\n",
       "      <th>82061</th>\n",
       "      <td>2013-09-30</td>\n",
       "      <td>2013-10-31</td>\n",
       "      <td>NaT</td>\n",
       "      <td>2013-10-31</td>\n",
       "      <td>2013-10-31</td>\n",
       "    </tr>\n",
       "    <tr>\n",
       "      <th>82062</th>\n",
       "      <td>2013-12-31</td>\n",
       "      <td>2014-04-26</td>\n",
       "      <td>2014-04-18</td>\n",
       "      <td>2014-04-18</td>\n",
       "      <td>2014-04-18</td>\n",
       "    </tr>\n",
       "    <tr>\n",
       "      <th>82063</th>\n",
       "      <td>2014-03-31</td>\n",
       "      <td>2014-04-30</td>\n",
       "      <td>2014-04-18</td>\n",
       "      <td>2014-04-18</td>\n",
       "      <td>2014-04-18</td>\n",
       "    </tr>\n",
       "    <tr>\n",
       "      <th>82064</th>\n",
       "      <td>2014-06-30</td>\n",
       "      <td>2014-08-09</td>\n",
       "      <td>2014-08-20</td>\n",
       "      <td>2014-08-20</td>\n",
       "      <td>2014-08-20</td>\n",
       "    </tr>\n",
       "    <tr>\n",
       "      <th>82065</th>\n",
       "      <td>2014-09-30</td>\n",
       "      <td>2014-10-25</td>\n",
       "      <td>NaT</td>\n",
       "      <td>2014-10-25</td>\n",
       "      <td>2014-10-25</td>\n",
       "    </tr>\n",
       "    <tr>\n",
       "      <th>82066</th>\n",
       "      <td>2014-12-31</td>\n",
       "      <td>2015-04-18</td>\n",
       "      <td>2015-04-28</td>\n",
       "      <td>2015-04-28</td>\n",
       "      <td>2015-04-28</td>\n",
       "    </tr>\n",
       "    <tr>\n",
       "      <th>82067</th>\n",
       "      <td>2015-03-31</td>\n",
       "      <td>2015-04-25</td>\n",
       "      <td>2015-04-28</td>\n",
       "      <td>2015-04-28</td>\n",
       "      <td>2015-04-28</td>\n",
       "    </tr>\n",
       "    <tr>\n",
       "      <th>82068</th>\n",
       "      <td>2015-06-30</td>\n",
       "      <td>2015-08-29</td>\n",
       "      <td>NaT</td>\n",
       "      <td>2015-08-29</td>\n",
       "      <td>2015-08-29</td>\n",
       "    </tr>\n",
       "    <tr>\n",
       "      <th>82069</th>\n",
       "      <td>2015-09-30</td>\n",
       "      <td>2015-10-31</td>\n",
       "      <td>NaT</td>\n",
       "      <td>2015-10-31</td>\n",
       "      <td>2015-10-31</td>\n",
       "    </tr>\n",
       "    <tr>\n",
       "      <th>82070</th>\n",
       "      <td>2015-12-31</td>\n",
       "      <td>2016-04-23</td>\n",
       "      <td>2016-04-30</td>\n",
       "      <td>2016-04-30</td>\n",
       "      <td>2016-04-30</td>\n",
       "    </tr>\n",
       "    <tr>\n",
       "      <th>82071</th>\n",
       "      <td>2016-03-31</td>\n",
       "      <td>2016-04-23</td>\n",
       "      <td>2016-04-30</td>\n",
       "      <td>2016-04-30</td>\n",
       "      <td>2016-04-30</td>\n",
       "    </tr>\n",
       "    <tr>\n",
       "      <th>82072</th>\n",
       "      <td>2016-06-30</td>\n",
       "      <td>2016-08-26</td>\n",
       "      <td>NaT</td>\n",
       "      <td>2016-08-26</td>\n",
       "      <td>2016-08-26</td>\n",
       "    </tr>\n",
       "    <tr>\n",
       "      <th>82073</th>\n",
       "      <td>2016-09-30</td>\n",
       "      <td>2016-10-28</td>\n",
       "      <td>NaT</td>\n",
       "      <td>2016-10-28</td>\n",
       "      <td>2016-10-28</td>\n",
       "    </tr>\n",
       "    <tr>\n",
       "      <th>82074</th>\n",
       "      <td>2016-12-31</td>\n",
       "      <td>2017-04-13</td>\n",
       "      <td>2017-04-29</td>\n",
       "      <td>2017-04-29</td>\n",
       "      <td>2017-04-29</td>\n",
       "    </tr>\n",
       "    <tr>\n",
       "      <th>82075</th>\n",
       "      <td>2017-03-31</td>\n",
       "      <td>2017-04-29</td>\n",
       "      <td>NaT</td>\n",
       "      <td>2017-04-29</td>\n",
       "      <td>2017-04-29</td>\n",
       "    </tr>\n",
       "    <tr>\n",
       "      <th>82076</th>\n",
       "      <td>2017-06-30</td>\n",
       "      <td>2017-08-31</td>\n",
       "      <td>NaT</td>\n",
       "      <td>2017-08-31</td>\n",
       "      <td>2017-08-31</td>\n",
       "    </tr>\n",
       "    <tr>\n",
       "      <th>82077</th>\n",
       "      <td>2017-09-30</td>\n",
       "      <td>2017-10-31</td>\n",
       "      <td>NaT</td>\n",
       "      <td>2017-10-31</td>\n",
       "      <td>2017-10-31</td>\n",
       "    </tr>\n",
       "    <tr>\n",
       "      <th>101503</th>\n",
       "      <td>2017-12-31</td>\n",
       "      <td>2018-04-18</td>\n",
       "      <td>2018-04-26</td>\n",
       "      <td>2018-04-26</td>\n",
       "      <td>2018-04-26</td>\n",
       "    </tr>\n",
       "    <tr>\n",
       "      <th>101504</th>\n",
       "      <td>2018-03-31</td>\n",
       "      <td>2018-04-28</td>\n",
       "      <td>2018-04-26</td>\n",
       "      <td>2018-04-26</td>\n",
       "      <td>2018-04-26</td>\n",
       "    </tr>\n",
       "  </tbody>\n",
       "</table>\n",
       "</div>"
      ],
      "text/plain": [
       "       report_end_date     b0_date     b1_date   timestamp   asof_date\n",
       "82034       2006-12-31         NaN         NaN         NaN  2007-02-14\n",
       "82035       2007-03-31         NaN         NaN         NaN  2007-05-15\n",
       "82036       2007-06-30         NaN         NaN         NaN  2007-08-14\n",
       "82037       2007-09-30         NaN         NaN         NaN  2007-11-14\n",
       "82038       2007-12-31         NaN         NaN         NaN  2008-02-14\n",
       "82039       2008-03-31  2008-04-21  2008-04-30  2008-04-30  2008-04-30\n",
       "82040       2008-06-30  2008-08-18  2008-08-30  2008-08-30  2008-08-30\n",
       "82041       2008-09-30  2008-10-30         NaT  2008-10-30  2008-10-30\n",
       "82042       2008-12-31  2009-03-30         NaT  2009-03-30  2009-03-30\n",
       "82043       2009-03-31  2009-04-21  2009-04-29  2009-04-29  2009-04-29\n",
       "82044       2009-06-30  2009-08-31         NaT  2009-08-31  2009-08-31\n",
       "82045       2009-09-30  2009-10-26  2009-10-30  2009-10-30  2009-10-30\n",
       "82046       2009-12-31  2010-04-29         NaT  2010-04-29  2010-04-29\n",
       "82047       2010-03-31  2010-04-29         NaT  2010-04-29  2010-04-29\n",
       "82048       2010-06-30  2010-08-23         NaT  2010-08-23  2010-08-23\n",
       "82049       2010-09-30  2010-10-25  2010-10-30  2010-10-30  2010-10-30\n",
       "82050       2010-12-31  2011-04-16  2011-04-30  2011-04-30  2011-04-30\n",
       "82051       2011-03-31  2011-04-30         NaT  2011-04-30  2011-04-30\n",
       "82052       2011-06-30  2011-08-27         NaT  2011-08-27  2011-08-27\n",
       "82053       2011-09-30  2011-10-29         NaT  2011-10-29  2011-10-29\n",
       "82054       2011-12-31  2012-01-20  2012-02-18  2012-02-18  2012-02-18\n",
       "82055       2012-03-31  2012-04-23  2012-04-28  2012-04-28  2012-04-28\n",
       "82056       2012-06-30  2012-08-31         NaT  2012-08-31  2012-08-31\n",
       "82057       2012-09-30  2012-10-31  2012-10-20  2012-10-20  2012-10-20\n",
       "82058       2012-12-31  2013-03-30  2013-04-13  2013-04-13  2013-04-13\n",
       "82059       2013-03-31  2013-04-27         NaT  2013-04-27  2013-04-27\n",
       "82060       2013-06-30  2013-08-24  2013-08-17  2013-08-17  2013-08-17\n",
       "82061       2013-09-30  2013-10-31         NaT  2013-10-31  2013-10-31\n",
       "82062       2013-12-31  2014-04-26  2014-04-18  2014-04-18  2014-04-18\n",
       "82063       2014-03-31  2014-04-30  2014-04-18  2014-04-18  2014-04-18\n",
       "82064       2014-06-30  2014-08-09  2014-08-20  2014-08-20  2014-08-20\n",
       "82065       2014-09-30  2014-10-25         NaT  2014-10-25  2014-10-25\n",
       "82066       2014-12-31  2015-04-18  2015-04-28  2015-04-28  2015-04-28\n",
       "82067       2015-03-31  2015-04-25  2015-04-28  2015-04-28  2015-04-28\n",
       "82068       2015-06-30  2015-08-29         NaT  2015-08-29  2015-08-29\n",
       "82069       2015-09-30  2015-10-31         NaT  2015-10-31  2015-10-31\n",
       "82070       2015-12-31  2016-04-23  2016-04-30  2016-04-30  2016-04-30\n",
       "82071       2016-03-31  2016-04-23  2016-04-30  2016-04-30  2016-04-30\n",
       "82072       2016-06-30  2016-08-26         NaT  2016-08-26  2016-08-26\n",
       "82073       2016-09-30  2016-10-28         NaT  2016-10-28  2016-10-28\n",
       "82074       2016-12-31  2017-04-13  2017-04-29  2017-04-29  2017-04-29\n",
       "82075       2017-03-31  2017-04-29         NaT  2017-04-29  2017-04-29\n",
       "82076       2017-06-30  2017-08-31         NaT  2017-08-31  2017-08-31\n",
       "82077       2017-09-30  2017-10-31         NaT  2017-10-31  2017-10-31\n",
       "101503      2017-12-31  2018-04-18  2018-04-26  2018-04-26  2018-04-26\n",
       "101504      2018-03-31  2018-04-28  2018-04-26  2018-04-26  2018-04-26"
      ]
     },
     "execution_count": 44,
     "metadata": {},
     "output_type": "execute_result"
    }
   ],
   "source": [
    "out.loc[out.code == '600645',['report_end_date','b0_date','b1_date','timestamp','asof_date']]"
   ]
  },
  {
   "cell_type": "code",
   "execution_count": 38,
   "metadata": {
    "ExecuteTime": {
     "end_time": "2018-05-01T05:53:03.561150Z",
     "start_time": "2018-05-01T05:53:03.546856Z"
    }
   },
   "outputs": [],
   "source": [
    "has_announcement_date = ~out['timestamp'].isna()"
   ]
  },
  {
   "cell_type": "code",
   "execution_count": 39,
   "metadata": {
    "ExecuteTime": {
     "end_time": "2018-05-01T05:55:28.728540Z",
     "start_time": "2018-05-01T05:55:28.673899Z"
    }
   },
   "outputs": [],
   "source": [
    "# 先赋值为报告截止日期后45天\n",
    "out['asof_date'] = out['report_end_date'] + pd.Timedelta(days=45)"
   ]
  },
  {
   "cell_type": "code",
   "execution_count": 40,
   "metadata": {
    "ExecuteTime": {
     "end_time": "2018-05-01T05:56:26.795248Z",
     "start_time": "2018-05-01T05:56:26.690204Z"
    }
   },
   "outputs": [],
   "source": [
    "# 修正实际公告日期\n",
    "out.loc[has_announcement_date, 'asof_date'] = out.loc[has_announcement_date,'timestamp']"
   ]
  },
  {
   "cell_type": "code",
   "execution_count": 41,
   "metadata": {
    "ExecuteTime": {
     "end_time": "2018-05-01T05:56:36.786166Z",
     "start_time": "2018-05-01T05:56:36.735865Z"
    }
   },
   "outputs": [
    {
     "data": {
      "text/html": [
       "<div>\n",
       "<style scoped>\n",
       "    .dataframe tbody tr th:only-of-type {\n",
       "        vertical-align: middle;\n",
       "    }\n",
       "\n",
       "    .dataframe tbody tr th {\n",
       "        vertical-align: top;\n",
       "    }\n",
       "\n",
       "    .dataframe thead th {\n",
       "        text-align: right;\n",
       "    }\n",
       "</style>\n",
       "<table border=\"1\" class=\"dataframe\">\n",
       "  <thead>\n",
       "    <tr style=\"text-align: right;\">\n",
       "      <th></th>\n",
       "      <th>code</th>\n",
       "      <th>report_end_date</th>\n",
       "      <th>A001</th>\n",
       "      <th>A002</th>\n",
       "      <th>A003</th>\n",
       "      <th>A004</th>\n",
       "      <th>A005</th>\n",
       "      <th>A006</th>\n",
       "      <th>A007</th>\n",
       "      <th>A008</th>\n",
       "      <th>...</th>\n",
       "      <th>A105</th>\n",
       "      <th>A106</th>\n",
       "      <th>A107</th>\n",
       "      <th>A108</th>\n",
       "      <th>b0_date</th>\n",
       "      <th>b1_date</th>\n",
       "      <th>b2_date</th>\n",
       "      <th>b3_date</th>\n",
       "      <th>timestamp</th>\n",
       "      <th>asof_date</th>\n",
       "    </tr>\n",
       "  </thead>\n",
       "  <tbody>\n",
       "    <tr>\n",
       "      <th>0</th>\n",
       "      <td>000001</td>\n",
       "      <td>2004-12-31</td>\n",
       "      <td>1910729.0</td>\n",
       "      <td>NaN</td>\n",
       "      <td>269145.0</td>\n",
       "      <td>95961.0</td>\n",
       "      <td>NaN</td>\n",
       "      <td>NaN</td>\n",
       "      <td>NaN</td>\n",
       "      <td>NaN</td>\n",
       "      <td>...</td>\n",
       "      <td>429677.0</td>\n",
       "      <td>NaN</td>\n",
       "      <td>429677.0</td>\n",
       "      <td>19785560.0</td>\n",
       "      <td>2005-04-15</td>\n",
       "      <td>2005-04-29</td>\n",
       "      <td>2005-04-26</td>\n",
       "      <td>NaT</td>\n",
       "      <td>2005-04-27</td>\n",
       "      <td>2005-04-27</td>\n",
       "    </tr>\n",
       "    <tr>\n",
       "      <th>1</th>\n",
       "      <td>000001</td>\n",
       "      <td>2005-12-31</td>\n",
       "      <td>2175970.0</td>\n",
       "      <td>NaN</td>\n",
       "      <td>328495.0</td>\n",
       "      <td>84759.0</td>\n",
       "      <td>573.0</td>\n",
       "      <td>NaN</td>\n",
       "      <td>NaN</td>\n",
       "      <td>NaN</td>\n",
       "      <td>...</td>\n",
       "      <td>505441.0</td>\n",
       "      <td>NaN</td>\n",
       "      <td>505441.0</td>\n",
       "      <td>22232469.0</td>\n",
       "      <td>2006-04-01</td>\n",
       "      <td>NaT</td>\n",
       "      <td>NaT</td>\n",
       "      <td>NaT</td>\n",
       "      <td>2006-04-01</td>\n",
       "      <td>2006-04-01</td>\n",
       "    </tr>\n",
       "    <tr>\n",
       "      <th>2</th>\n",
       "      <td>000001</td>\n",
       "      <td>2006-06-30</td>\n",
       "      <td>1778042.0</td>\n",
       "      <td>0.0</td>\n",
       "      <td>510777.0</td>\n",
       "      <td>88909.0</td>\n",
       "      <td>74.0</td>\n",
       "      <td>0.0</td>\n",
       "      <td>0.0</td>\n",
       "      <td>0.0</td>\n",
       "      <td>...</td>\n",
       "      <td>559204.0</td>\n",
       "      <td>0.0</td>\n",
       "      <td>559204.0</td>\n",
       "      <td>24282388.0</td>\n",
       "      <td>NaN</td>\n",
       "      <td>NaN</td>\n",
       "      <td>NaN</td>\n",
       "      <td>NaN</td>\n",
       "      <td>NaN</td>\n",
       "      <td>2006-08-14</td>\n",
       "    </tr>\n",
       "    <tr>\n",
       "      <th>3</th>\n",
       "      <td>000001</td>\n",
       "      <td>2006-09-30</td>\n",
       "      <td>1962680.0</td>\n",
       "      <td>0.0</td>\n",
       "      <td>474736.0</td>\n",
       "      <td>53638.0</td>\n",
       "      <td>153.0</td>\n",
       "      <td>0.0</td>\n",
       "      <td>0.0</td>\n",
       "      <td>0.0</td>\n",
       "      <td>...</td>\n",
       "      <td>605395.0</td>\n",
       "      <td>0.0</td>\n",
       "      <td>605395.0</td>\n",
       "      <td>24623028.0</td>\n",
       "      <td>NaN</td>\n",
       "      <td>NaN</td>\n",
       "      <td>NaN</td>\n",
       "      <td>NaN</td>\n",
       "      <td>NaN</td>\n",
       "      <td>2006-11-14</td>\n",
       "    </tr>\n",
       "    <tr>\n",
       "      <th>4</th>\n",
       "      <td>000001</td>\n",
       "      <td>2006-12-31</td>\n",
       "      <td>2628818.0</td>\n",
       "      <td>NaN</td>\n",
       "      <td>336918.0</td>\n",
       "      <td>42736.0</td>\n",
       "      <td>2276.0</td>\n",
       "      <td>NaN</td>\n",
       "      <td>NaN</td>\n",
       "      <td>NaN</td>\n",
       "      <td>...</td>\n",
       "      <td>659704.0</td>\n",
       "      <td>NaN</td>\n",
       "      <td>659704.0</td>\n",
       "      <td>26076069.0</td>\n",
       "      <td>NaN</td>\n",
       "      <td>NaN</td>\n",
       "      <td>NaN</td>\n",
       "      <td>NaN</td>\n",
       "      <td>NaN</td>\n",
       "      <td>2007-02-14</td>\n",
       "    </tr>\n",
       "  </tbody>\n",
       "</table>\n",
       "<p>5 rows × 116 columns</p>\n",
       "</div>"
      ],
      "text/plain": [
       "     code report_end_date       A001  A002      A003     A004    A005  A006  \\\n",
       "0  000001      2004-12-31  1910729.0   NaN  269145.0  95961.0     NaN   NaN   \n",
       "1  000001      2005-12-31  2175970.0   NaN  328495.0  84759.0   573.0   NaN   \n",
       "2  000001      2006-06-30  1778042.0   0.0  510777.0  88909.0    74.0   0.0   \n",
       "3  000001      2006-09-30  1962680.0   0.0  474736.0  53638.0   153.0   0.0   \n",
       "4  000001      2006-12-31  2628818.0   NaN  336918.0  42736.0  2276.0   NaN   \n",
       "\n",
       "   A007  A008     ...          A105  A106      A107        A108     b0_date  \\\n",
       "0   NaN   NaN     ...      429677.0   NaN  429677.0  19785560.0  2005-04-15   \n",
       "1   NaN   NaN     ...      505441.0   NaN  505441.0  22232469.0  2006-04-01   \n",
       "2   0.0   0.0     ...      559204.0   0.0  559204.0  24282388.0         NaN   \n",
       "3   0.0   0.0     ...      605395.0   0.0  605395.0  24623028.0         NaN   \n",
       "4   NaN   NaN     ...      659704.0   NaN  659704.0  26076069.0         NaN   \n",
       "\n",
       "      b1_date     b2_date  b3_date   timestamp   asof_date  \n",
       "0  2005-04-29  2005-04-26      NaT  2005-04-27  2005-04-27  \n",
       "1         NaT         NaT      NaT  2006-04-01  2006-04-01  \n",
       "2         NaN         NaN      NaN         NaN  2006-08-14  \n",
       "3         NaN         NaN      NaN         NaN  2006-11-14  \n",
       "4         NaN         NaN      NaN         NaN  2007-02-14  \n",
       "\n",
       "[5 rows x 116 columns]"
      ]
     },
     "execution_count": 41,
     "metadata": {},
     "output_type": "execute_result"
    }
   ],
   "source": [
    "out.head()"
   ]
  },
  {
   "cell_type": "code",
   "execution_count": null,
   "metadata": {},
   "outputs": [],
   "source": []
  }
 ],
 "metadata": {
  "kernelspec": {
   "display_name": "zipline",
   "language": "python",
   "name": "zipline"
  },
  "language_info": {
   "codemirror_mode": {
    "name": "ipython",
    "version": 3
   },
   "file_extension": ".py",
   "mimetype": "text/x-python",
   "name": "python",
   "nbconvert_exporter": "python",
   "pygments_lexer": "ipython3",
   "version": "3.6.5"
  },
  "toc": {
   "base_numbering": 1,
   "nav_menu": {},
   "number_sections": true,
   "sideBar": true,
   "skip_h1_title": false,
   "title_cell": "Table of Contents",
   "title_sidebar": "Contents",
   "toc_cell": false,
   "toc_position": {},
   "toc_section_display": true,
   "toc_window_display": false
  }
 },
 "nbformat": 4,
 "nbformat_minor": 2
}
