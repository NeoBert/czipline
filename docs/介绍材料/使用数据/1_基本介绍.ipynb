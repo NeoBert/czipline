{
 "cells": [
  {
   "cell_type": "markdown",
   "metadata": {},
   "source": [
    "## 介绍"
   ]
  },
  {
   "cell_type": "markdown",
   "metadata": {
    "ExecuteTime": {
     "end_time": "2018-04-25T05:52:18.993997Z",
     "start_time": "2018-04-25T05:52:18.988476Z"
    }
   },
   "source": [
    "回测使用的数据按变化频率划分三类。第一类为密集型，即`CNEquityPricing`(或`USEquityPricing`)，特点是变化频率高，频率或是每日或是分钟级别。另一部分是偶发性，如季度报告，公司更名，其特点是变化频率不快，或是季度性，或是不定期偶发。另外一部分为固定信息，如IPO日期，一旦上市，其日期永远不会发生变化。为简化处理，对于股票概念、地区、行业等分类信息，也划归此类处理。\n",
    "\n",
    "`Fundamentals`是用于`pipeline`的数据集容器，包括上述二、三类数据，如上市日期、行业分类、所属概念、财务数据、融资融券（数据量小，并入处理）等信息。"
   ]
  },
  {
   "cell_type": "markdown",
   "metadata": {},
   "source": [
    "## `CNEquityPricing`"
   ]
  },
  {
   "cell_type": "markdown",
   "metadata": {},
   "source": [
    "### 调整列\n",
    "此类数据当股票发生分红派息时，为保持数据纵向一致性及满足账户管理要求，数据会自动调整。调整列包括：\n",
    "+ close\n",
    "+ open\n",
    "+ high\n",
    "+ low\n",
    "+ volume"
   ]
  },
  {
   "cell_type": "markdown",
   "metadata": {},
   "source": [
    "![分红派息](./images/000333_adj.png)"
   ]
  },
  {
   "cell_type": "markdown",
   "metadata": {},
   "source": [
    "![000333_adj.png](attachment:000333_his.png)"
   ]
  },
  {
   "cell_type": "code",
   "execution_count": 1,
   "metadata": {
    "ExecuteTime": {
     "end_time": "2018-05-01T07:41:44.124836Z",
     "start_time": "2018-05-01T07:41:41.459063Z"
    }
   },
   "outputs": [],
   "source": [
    "from zipline.research import run_pipeline, select_output_by\n",
    "from zipline.pipeline import Pipeline\n",
    "from zipline.pipeline.data import CNEquityPricing"
   ]
  },
  {
   "cell_type": "code",
   "execution_count": 2,
   "metadata": {
    "ExecuteTime": {
     "end_time": "2018-05-01T07:41:44.138189Z",
     "start_time": "2018-05-01T07:41:44.127335Z"
    }
   },
   "outputs": [],
   "source": [
    "def make_pipeline():\n",
    "\n",
    "    return Pipeline(\n",
    "        columns={\n",
    "            '收盘价': CNEquityPricing.close.latest,\n",
    "            '成交量': CNEquityPricing.volume.latest,\n",
    "        })"
   ]
  },
  {
   "cell_type": "markdown",
   "metadata": {},
   "source": [
    "#### 分红派息"
   ]
  },
  {
   "cell_type": "code",
   "execution_count": 3,
   "metadata": {
    "ExecuteTime": {
     "end_time": "2018-05-01T07:41:45.490658Z",
     "start_time": "2018-05-01T07:41:44.141928Z"
    }
   },
   "outputs": [],
   "source": [
    "result = run_pipeline(make_pipeline(), '2016-5-4', '2016-5-13')"
   ]
  },
  {
   "cell_type": "code",
   "execution_count": 4,
   "metadata": {
    "ExecuteTime": {
     "end_time": "2018-05-01T07:41:45.524654Z",
     "start_time": "2018-05-01T07:41:45.493087Z"
    }
   },
   "outputs": [
    {
     "data": {
      "text/html": [
       "<div>\n",
       "<style scoped>\n",
       "    .dataframe tbody tr th:only-of-type {\n",
       "        vertical-align: middle;\n",
       "    }\n",
       "\n",
       "    .dataframe tbody tr th {\n",
       "        vertical-align: top;\n",
       "    }\n",
       "\n",
       "    .dataframe thead th {\n",
       "        text-align: right;\n",
       "    }\n",
       "</style>\n",
       "<table border=\"1\" class=\"dataframe\">\n",
       "  <thead>\n",
       "    <tr style=\"text-align: right;\">\n",
       "      <th></th>\n",
       "      <th></th>\n",
       "      <th>成交量</th>\n",
       "      <th>收盘价</th>\n",
       "    </tr>\n",
       "  </thead>\n",
       "  <tbody>\n",
       "    <tr>\n",
       "      <th>2016-05-04 00:00:00+00:00</th>\n",
       "      <th>美的集团(000333)</th>\n",
       "      <td>29620000.0</td>\n",
       "      <td>33.840000</td>\n",
       "    </tr>\n",
       "    <tr>\n",
       "      <th>2016-05-05 00:00:00+00:00</th>\n",
       "      <th>美的集团(000333)</th>\n",
       "      <td>27680000.0</td>\n",
       "      <td>32.960000</td>\n",
       "    </tr>\n",
       "    <tr>\n",
       "      <th>2016-05-06 00:00:00+00:00</th>\n",
       "      <th>美的集团(000333)</th>\n",
       "      <td>29310000.0</td>\n",
       "      <td>21.193333</td>\n",
       "    </tr>\n",
       "    <tr>\n",
       "      <th>2016-05-09 00:00:00+00:00</th>\n",
       "      <th>美的集团(000333)</th>\n",
       "      <td>38780000.0</td>\n",
       "      <td>20.350000</td>\n",
       "    </tr>\n",
       "    <tr>\n",
       "      <th>2016-05-10 00:00:00+00:00</th>\n",
       "      <th>美的集团(000333)</th>\n",
       "      <td>32280000.0</td>\n",
       "      <td>20.350000</td>\n",
       "    </tr>\n",
       "    <tr>\n",
       "      <th>2016-05-11 00:00:00+00:00</th>\n",
       "      <th>美的集团(000333)</th>\n",
       "      <td>48140000.0</td>\n",
       "      <td>21.080000</td>\n",
       "    </tr>\n",
       "    <tr>\n",
       "      <th>2016-05-12 00:00:00+00:00</th>\n",
       "      <th>美的集团(000333)</th>\n",
       "      <td>58910000.0</td>\n",
       "      <td>21.960000</td>\n",
       "    </tr>\n",
       "    <tr>\n",
       "      <th>2016-05-13 00:00:00+00:00</th>\n",
       "      <th>美的集团(000333)</th>\n",
       "      <td>40700000.0</td>\n",
       "      <td>21.900000</td>\n",
       "    </tr>\n",
       "  </tbody>\n",
       "</table>\n",
       "</div>"
      ],
      "text/plain": [
       "                                               成交量        收盘价\n",
       "2016-05-04 00:00:00+00:00 美的集团(000333)  29620000.0  33.840000\n",
       "2016-05-05 00:00:00+00:00 美的集团(000333)  27680000.0  32.960000\n",
       "2016-05-06 00:00:00+00:00 美的集团(000333)  29310000.0  21.193333\n",
       "2016-05-09 00:00:00+00:00 美的集团(000333)  38780000.0  20.350000\n",
       "2016-05-10 00:00:00+00:00 美的集团(000333)  32280000.0  20.350000\n",
       "2016-05-11 00:00:00+00:00 美的集团(000333)  48140000.0  21.080000\n",
       "2016-05-12 00:00:00+00:00 美的集团(000333)  58910000.0  21.960000\n",
       "2016-05-13 00:00:00+00:00 美的集团(000333)  40700000.0  21.900000"
      ]
     },
     "execution_count": 4,
     "metadata": {},
     "output_type": "execute_result"
    }
   ],
   "source": [
    "select_output_by(result,stock_codes=['000333']) #,'000001'])"
   ]
  },
  {
   "cell_type": "markdown",
   "metadata": {},
   "source": [
    "![日线数据](./images/000333_his.png)"
   ]
  },
  {
   "cell_type": "markdown",
   "metadata": {},
   "source": [
    "当回测日期为5月5日时，尾部窗口日期为其上一个交易日，即5月4日，其实际收盘价为32.96，观测期间未发生分红送配，所以不会存在调整。`pipeline`输出结果也为32.96。\n",
    "\n",
    "当回测日期为5月6日时，尾部窗口日期为其上一个交易日，即5月5日，其实际收盘价为32.99，观测期间发生分红送配，每股派息1.2元，转赠0.5股，收盘价调整为21.193333。\n",
    "\n",
    "$$adjusted = \\frac{price - div}{1 + split}$$\n",
    "\n",
    "同理，成交量在送转时也会调整。5月5日实际成交量为19547683(存储数据时，成交量调整为万股，即1954,读取时还原为19540000,损失一点精度)，调整后的成交量为2931。\n",
    "\n",
    "$$adjusted = volume * (1 + split)$$"
   ]
  },
  {
   "cell_type": "code",
   "execution_count": 5,
   "metadata": {
    "ExecuteTime": {
     "end_time": "2018-05-01T07:41:45.532287Z",
     "start_time": "2018-05-01T07:41:45.528259Z"
    }
   },
   "outputs": [],
   "source": [
    "from numpy.testing import assert_almost_equal"
   ]
  },
  {
   "cell_type": "code",
   "execution_count": 6,
   "metadata": {
    "ExecuteTime": {
     "end_time": "2018-05-01T07:41:45.565833Z",
     "start_time": "2018-05-01T07:41:45.537277Z"
    }
   },
   "outputs": [],
   "source": [
    "df = select_output_by(result, stock_codes=['000333'])\n",
    "assert_almost_equal(df.loc['2016-05-05']['收盘价'][0], 32.96)\n",
    "assert_almost_equal(df.loc['2016-05-06']['收盘价'][0], (32.99 - 1.2) / (1 + 0.5), 2)\n",
    "assert_almost_equal(df.loc['2016-05-06']['成交量'][0], 1954 * 10000 * (1 + 0.5), 2)"
   ]
  },
  {
   "cell_type": "markdown",
   "metadata": {},
   "source": [
    "#### 仅派息"
   ]
  },
  {
   "cell_type": "code",
   "execution_count": 7,
   "metadata": {
    "ExecuteTime": {
     "end_time": "2018-05-01T07:41:46.035904Z",
     "start_time": "2018-05-01T07:41:45.569209Z"
    }
   },
   "outputs": [],
   "source": [
    "result = run_pipeline(make_pipeline(), '2017-5-8', '2017-5-13')"
   ]
  },
  {
   "cell_type": "code",
   "execution_count": 8,
   "metadata": {
    "ExecuteTime": {
     "end_time": "2018-05-01T07:41:46.062438Z",
     "start_time": "2018-05-01T07:41:46.038715Z"
    }
   },
   "outputs": [
    {
     "data": {
      "text/html": [
       "<div>\n",
       "<style scoped>\n",
       "    .dataframe tbody tr th:only-of-type {\n",
       "        vertical-align: middle;\n",
       "    }\n",
       "\n",
       "    .dataframe tbody tr th {\n",
       "        vertical-align: top;\n",
       "    }\n",
       "\n",
       "    .dataframe thead th {\n",
       "        text-align: right;\n",
       "    }\n",
       "</style>\n",
       "<table border=\"1\" class=\"dataframe\">\n",
       "  <thead>\n",
       "    <tr style=\"text-align: right;\">\n",
       "      <th></th>\n",
       "      <th></th>\n",
       "      <th>成交量</th>\n",
       "      <th>收盘价</th>\n",
       "    </tr>\n",
       "  </thead>\n",
       "  <tbody>\n",
       "    <tr>\n",
       "      <th>2017-05-08 00:00:00+00:00</th>\n",
       "      <th>美的集团(000333)</th>\n",
       "      <td>55050000.0</td>\n",
       "      <td>36.15</td>\n",
       "    </tr>\n",
       "    <tr>\n",
       "      <th>2017-05-09 00:00:00+00:00</th>\n",
       "      <th>美的集团(000333)</th>\n",
       "      <td>31840000.0</td>\n",
       "      <td>35.68</td>\n",
       "    </tr>\n",
       "    <tr>\n",
       "      <th>2017-05-10 00:00:00+00:00</th>\n",
       "      <th>美的集团(000333)</th>\n",
       "      <td>38160000.0</td>\n",
       "      <td>34.30</td>\n",
       "    </tr>\n",
       "    <tr>\n",
       "      <th>2017-05-11 00:00:00+00:00</th>\n",
       "      <th>美的集团(000333)</th>\n",
       "      <td>39320000.0</td>\n",
       "      <td>35.15</td>\n",
       "    </tr>\n",
       "    <tr>\n",
       "      <th>2017-05-12 00:00:00+00:00</th>\n",
       "      <th>美的集团(000333)</th>\n",
       "      <td>40890000.0</td>\n",
       "      <td>35.82</td>\n",
       "    </tr>\n",
       "  </tbody>\n",
       "</table>\n",
       "</div>"
      ],
      "text/plain": [
       "                                               成交量    收盘价\n",
       "2017-05-08 00:00:00+00:00 美的集团(000333)  55050000.0  36.15\n",
       "2017-05-09 00:00:00+00:00 美的集团(000333)  31840000.0  35.68\n",
       "2017-05-10 00:00:00+00:00 美的集团(000333)  38160000.0  34.30\n",
       "2017-05-11 00:00:00+00:00 美的集团(000333)  39320000.0  35.15\n",
       "2017-05-12 00:00:00+00:00 美的集团(000333)  40890000.0  35.82"
      ]
     },
     "execution_count": 8,
     "metadata": {},
     "output_type": "execute_result"
    }
   ],
   "source": [
    "select_output_by(result,stock_codes=['000333'])"
   ]
  },
  {
   "cell_type": "markdown",
   "metadata": {},
   "source": [
    "![历史股价](./images/000333_his_2017_05.png)"
   ]
  },
  {
   "cell_type": "code",
   "execution_count": 9,
   "metadata": {
    "ExecuteTime": {
     "end_time": "2018-05-01T07:41:46.092533Z",
     "start_time": "2018-05-01T07:41:46.064928Z"
    }
   },
   "outputs": [],
   "source": [
    "df = select_output_by(result, stock_codes=['000333'])\n",
    "assert_almost_equal(df.loc['2017-05-10']['收盘价'][0], 35.30 - 1.0)\n",
    "assert_almost_equal(df.loc['2017-05-10']['成交量'][0], 38160000, 2)"
   ]
  },
  {
   "cell_type": "markdown",
   "metadata": {
    "ExecuteTime": {
     "end_time": "2018-04-29T03:10:43.175098Z",
     "start_time": "2018-04-29T03:10:43.171877Z"
    }
   },
   "source": [
    "### 非调整列\n",
    "成交额、换手率、总市值、流通市值等数据不会因分红派息发生调整。"
   ]
  },
  {
   "cell_type": "code",
   "execution_count": 10,
   "metadata": {
    "ExecuteTime": {
     "end_time": "2018-05-01T07:41:46.102426Z",
     "start_time": "2018-05-01T07:41:46.096533Z"
    }
   },
   "outputs": [],
   "source": [
    "def make_pipeline():\n",
    "\n",
    "    return Pipeline(\n",
    "        columns={\n",
    "            '成交额': CNEquityPricing.amount.latest,\n",
    "            '换手率': CNEquityPricing.turnover.latest,\n",
    "            '总市值': CNEquityPricing.tmv.latest,\n",
    "            '流通市值': CNEquityPricing.cmv.latest,\n",
    "            '流通股本': CNEquityPricing.circulating_share.latest,\n",
    "            '总股本': CNEquityPricing.total_share.latest,\n",
    "        })"
   ]
  },
  {
   "cell_type": "code",
   "execution_count": 11,
   "metadata": {
    "ExecuteTime": {
     "end_time": "2018-05-01T07:41:47.939064Z",
     "start_time": "2018-05-01T07:41:46.104696Z"
    }
   },
   "outputs": [],
   "source": [
    "result = run_pipeline(make_pipeline(), '2016-5-4', '2016-5-9')"
   ]
  },
  {
   "cell_type": "code",
   "execution_count": 12,
   "metadata": {
    "ExecuteTime": {
     "end_time": "2018-05-01T07:41:47.969525Z",
     "start_time": "2018-05-01T07:41:47.942305Z"
    }
   },
   "outputs": [
    {
     "data": {
      "text/html": [
       "<div>\n",
       "<style scoped>\n",
       "    .dataframe tbody tr th:only-of-type {\n",
       "        vertical-align: middle;\n",
       "    }\n",
       "\n",
       "    .dataframe tbody tr th {\n",
       "        vertical-align: top;\n",
       "    }\n",
       "\n",
       "    .dataframe thead th {\n",
       "        text-align: right;\n",
       "    }\n",
       "</style>\n",
       "<table border=\"1\" class=\"dataframe\">\n",
       "  <thead>\n",
       "    <tr style=\"text-align: right;\">\n",
       "      <th></th>\n",
       "      <th></th>\n",
       "      <th>总市值</th>\n",
       "      <th>总股本</th>\n",
       "      <th>成交额</th>\n",
       "      <th>换手率</th>\n",
       "      <th>流通市值</th>\n",
       "      <th>流通股本</th>\n",
       "    </tr>\n",
       "  </thead>\n",
       "  <tbody>\n",
       "    <tr>\n",
       "      <th>2016-05-04 00:00:00+00:00</th>\n",
       "      <th>美的集团(000333)</th>\n",
       "      <td>1.444085e+11</td>\n",
       "      <td>4.267390e+09</td>\n",
       "      <td>991400000.0</td>\n",
       "      <td>0.013220</td>\n",
       "      <td>7.584021e+10</td>\n",
       "      <td>2.241140e+09</td>\n",
       "    </tr>\n",
       "    <tr>\n",
       "      <th>2016-05-05 00:00:00+00:00</th>\n",
       "      <th>美的集团(000333)</th>\n",
       "      <td>1.406532e+11</td>\n",
       "      <td>4.267390e+09</td>\n",
       "      <td>917910000.0</td>\n",
       "      <td>0.012352</td>\n",
       "      <td>7.386801e+10</td>\n",
       "      <td>2.241140e+09</td>\n",
       "    </tr>\n",
       "    <tr>\n",
       "      <th>2016-05-06 00:00:00+00:00</th>\n",
       "      <th>美的集团(000333)</th>\n",
       "      <td>1.407812e+11</td>\n",
       "      <td>4.267390e+09</td>\n",
       "      <td>644930000.0</td>\n",
       "      <td>0.008722</td>\n",
       "      <td>7.393524e+10</td>\n",
       "      <td>2.241140e+09</td>\n",
       "    </tr>\n",
       "    <tr>\n",
       "      <th>2016-05-09 00:00:00+00:00</th>\n",
       "      <th>美的集团(000333)</th>\n",
       "      <td>1.302621e+11</td>\n",
       "      <td>6.401080e+09</td>\n",
       "      <td>804150000.0</td>\n",
       "      <td>0.011538</td>\n",
       "      <td>6.841083e+10</td>\n",
       "      <td>3.361710e+09</td>\n",
       "    </tr>\n",
       "  </tbody>\n",
       "</table>\n",
       "</div>"
      ],
      "text/plain": [
       "                                                 总市值           总股本  \\\n",
       "2016-05-04 00:00:00+00:00 美的集团(000333)  1.444085e+11  4.267390e+09   \n",
       "2016-05-05 00:00:00+00:00 美的集团(000333)  1.406532e+11  4.267390e+09   \n",
       "2016-05-06 00:00:00+00:00 美的集团(000333)  1.407812e+11  4.267390e+09   \n",
       "2016-05-09 00:00:00+00:00 美的集团(000333)  1.302621e+11  6.401080e+09   \n",
       "\n",
       "                                                成交额       换手率          流通市值  \\\n",
       "2016-05-04 00:00:00+00:00 美的集团(000333)  991400000.0  0.013220  7.584021e+10   \n",
       "2016-05-05 00:00:00+00:00 美的集团(000333)  917910000.0  0.012352  7.386801e+10   \n",
       "2016-05-06 00:00:00+00:00 美的集团(000333)  644930000.0  0.008722  7.393524e+10   \n",
       "2016-05-09 00:00:00+00:00 美的集团(000333)  804150000.0  0.011538  6.841083e+10   \n",
       "\n",
       "                                                流通股本  \n",
       "2016-05-04 00:00:00+00:00 美的集团(000333)  2.241140e+09  \n",
       "2016-05-05 00:00:00+00:00 美的集团(000333)  2.241140e+09  \n",
       "2016-05-06 00:00:00+00:00 美的集团(000333)  2.241140e+09  \n",
       "2016-05-09 00:00:00+00:00 美的集团(000333)  3.361710e+09  "
      ]
     },
     "execution_count": 12,
     "metadata": {},
     "output_type": "execute_result"
    }
   ],
   "source": [
    "select_output_by(result,stock_codes=['000333']) #,'000001'])"
   ]
  },
  {
   "cell_type": "markdown",
   "metadata": {},
   "source": [
    "![历史股价](./images/000333_his.png)"
   ]
  },
  {
   "cell_type": "code",
   "execution_count": 13,
   "metadata": {
    "ExecuteTime": {
     "end_time": "2018-05-01T07:41:48.001407Z",
     "start_time": "2018-05-01T07:41:47.972595Z"
    }
   },
   "outputs": [],
   "source": [
    "df = select_output_by(result, stock_codes=['000333'])\n",
    "assert_almost_equal(df.loc['2016-05-05']['总市值'][0], int(140653214875 / 10000) * 10000)\n",
    "assert_almost_equal(df.loc['2016-05-05']['换手率'][0], 0.012352)\n",
    "assert_almost_equal(df.loc['2016-05-05']['流通股本'][0], int(73868014874 / 32.96 / 10000) * 10000)"
   ]
  },
  {
   "cell_type": "markdown",
   "metadata": {},
   "source": [
    "## `Fundamentals`"
   ]
  },
  {
   "cell_type": "code",
   "execution_count": 14,
   "metadata": {
    "ExecuteTime": {
     "end_time": "2018-05-01T07:41:48.008573Z",
     "start_time": "2018-05-01T07:41:48.004063Z"
    }
   },
   "outputs": [],
   "source": [
    "from zipline.pipeline.fundamentals import Fundamentals"
   ]
  },
  {
   "cell_type": "markdown",
   "metadata": {
    "ExecuteTime": {
     "end_time": "2018-04-25T05:54:37.634942Z",
     "start_time": "2018-04-25T05:54:37.628435Z"
    }
   },
   "source": [
    "### 查询数据集列编码\n",
    "+ 输入数据集列名称所包含关键字\n",
    "+ 返回列编码字典（A + 三位整数）"
   ]
  },
  {
   "cell_type": "code",
   "execution_count": 15,
   "metadata": {
    "ExecuteTime": {
     "end_time": "2018-05-01T07:41:48.021680Z",
     "start_time": "2018-05-01T07:41:48.012843Z"
    }
   },
   "outputs": [
    {
     "data": {
      "text/plain": [
       "{'A004': '向其他金融机构拆入资金净增加额', 'A010': '拆入资金净增加额', 'A011': '回购业务资金净增加额'}"
      ]
     },
     "execution_count": 15,
     "metadata": {},
     "output_type": "execute_result"
    }
   ],
   "source": [
    "Fundamentals.cashflow_col_code('资金')"
   ]
  },
  {
   "cell_type": "code",
   "execution_count": 16,
   "metadata": {
    "ExecuteTime": {
     "end_time": "2018-05-01T07:41:48.096033Z",
     "start_time": "2018-05-01T07:41:48.025449Z"
    }
   },
   "outputs": [
    {
     "data": {
      "text/plain": [
       "{'A048': '生物质能', 'A124': '生物燃料概念', 'A190': '生物医药'}"
      ]
     },
     "execution_count": 16,
     "metadata": {},
     "output_type": "execute_result"
    }
   ],
   "source": [
    "Fundamentals.concept_col_code('生物')"
   ]
  },
  {
   "cell_type": "code",
   "execution_count": 17,
   "metadata": {
    "ExecuteTime": {
     "end_time": "2018-05-01T07:41:48.168116Z",
     "start_time": "2018-05-01T07:41:48.098461Z"
    }
   },
   "outputs": [
    {
     "data": {
      "text/plain": [
       "{}"
      ]
     },
     "execution_count": 17,
     "metadata": {},
     "output_type": "execute_result"
    }
   ],
   "source": [
    "# 无数据，返回空字典\n",
    "Fundamentals.concept_col_code('oo')"
   ]
  },
  {
   "cell_type": "markdown",
   "metadata": {},
   "source": [
    "### 数据集列名称"
   ]
  },
  {
   "cell_type": "code",
   "execution_count": 18,
   "metadata": {
    "ExecuteTime": {
     "end_time": "2018-05-01T07:41:48.177063Z",
     "start_time": "2018-05-01T07:41:48.170649Z"
    }
   },
   "outputs": [
    {
     "data": {
      "text/plain": [
       "'货币资金'"
      ]
     },
     "execution_count": 18,
     "metadata": {},
     "output_type": "execute_result"
    }
   ],
   "source": [
    "Fundamentals.balancesheet_col_name('A001')"
   ]
  },
  {
   "cell_type": "code",
   "execution_count": 19,
   "metadata": {
    "ExecuteTime": {
     "end_time": "2018-05-01T07:41:48.188809Z",
     "start_time": "2018-05-01T07:41:48.181004Z"
    }
   },
   "outputs": [
    {
     "data": {
      "text/plain": [
       "'财务费用'"
      ]
     },
     "execution_count": 19,
     "metadata": {},
     "output_type": "execute_result"
    }
   ],
   "source": [
    "Fundamentals.profit_col_name('A023')"
   ]
  },
  {
   "cell_type": "code",
   "execution_count": 20,
   "metadata": {
    "ExecuteTime": {
     "end_time": "2018-05-01T07:41:48.197061Z",
     "start_time": "2018-05-01T07:41:48.192610Z"
    }
   },
   "outputs": [
    {
     "data": {
      "text/plain": [
       "'拆入资金净增加额'"
      ]
     },
     "execution_count": 20,
     "metadata": {},
     "output_type": "execute_result"
    }
   ],
   "source": [
    "Fundamentals.cashflow_col_name('A010')"
   ]
  },
  {
   "cell_type": "code",
   "execution_count": 21,
   "metadata": {
    "ExecuteTime": {
     "end_time": "2018-05-01T07:41:48.204672Z",
     "start_time": "2018-05-01T07:41:48.200458Z"
    }
   },
   "outputs": [],
   "source": [
    "# 超出数据集列长度，触发KeyError\n",
    "# Fundamentals.query_profit_name('A123')"
   ]
  },
  {
   "cell_type": "markdown",
   "metadata": {},
   "source": [
    "### 查询编码含义"
   ]
  },
  {
   "cell_type": "code",
   "execution_count": 22,
   "metadata": {
    "ExecuteTime": {
     "end_time": "2018-05-01T07:41:48.293777Z",
     "start_time": "2018-05-01T07:41:48.208732Z"
    }
   },
   "outputs": [
    {
     "data": {
      "text/plain": [
       "'深圳主板'"
      ]
     },
     "execution_count": 22,
     "metadata": {},
     "output_type": "execute_result"
    }
   ],
   "source": [
    "Fundamentals.market_cname(3)"
   ]
  },
  {
   "cell_type": "code",
   "execution_count": 23,
   "metadata": {
    "ExecuteTime": {
     "end_time": "2018-05-01T07:41:48.367602Z",
     "start_time": "2018-05-01T07:41:48.297306Z"
    }
   },
   "outputs": [
    {
     "data": {
      "text/plain": [
       "'金融服务'"
      ]
     },
     "execution_count": 23,
     "metadata": {},
     "output_type": "execute_result"
    }
   ],
   "source": [
    "Fundamentals.sector_cname(9)"
   ]
  },
  {
   "cell_type": "code",
   "execution_count": 24,
   "metadata": {
    "ExecuteTime": {
     "end_time": "2018-05-01T07:41:48.436691Z",
     "start_time": "2018-05-01T07:41:48.370555Z"
    }
   },
   "outputs": [
    {
     "data": {
      "text/plain": [
       "'工程技术'"
      ]
     },
     "execution_count": 24,
     "metadata": {},
     "output_type": "execute_result"
    }
   ],
   "source": [
    "Fundamentals.sector_cname(6)"
   ]
  },
  {
   "cell_type": "code",
   "execution_count": 25,
   "metadata": {
    "ExecuteTime": {
     "end_time": "2018-05-01T07:41:48.445906Z",
     "start_time": "2018-05-01T07:41:48.440867Z"
    }
   },
   "outputs": [],
   "source": [
    "from zipline.pipeline.data import USEquityPricing\n",
    "from zipline.pipeline.factors import SimpleMovingAverage\n",
    "from zipline.pipeline import Pipeline\n",
    "from zipline.research import run_pipeline"
   ]
  },
  {
   "cell_type": "markdown",
   "metadata": {},
   "source": [
    "### 案例"
   ]
  },
  {
   "cell_type": "code",
   "execution_count": 26,
   "metadata": {
    "ExecuteTime": {
     "end_time": "2018-05-01T07:41:48.453688Z",
     "start_time": "2018-05-01T07:41:48.448758Z"
    }
   },
   "outputs": [],
   "source": [
    "def make_pipeline():\n",
    "    market = Fundamentals.info.market.latest\n",
    "    sector_code = Fundamentals.info.sector_code.latest\n",
    "    mean_close_10 = SimpleMovingAverage(\n",
    "        inputs=[USEquityPricing.close], window_length=10)\n",
    "    return Pipeline(columns={\n",
    "        '10_day_mean_close': mean_close_10,\n",
    "        'market': market,\n",
    "        'sector_code': sector_code,\n",
    "    })"
   ]
  },
  {
   "cell_type": "code",
   "execution_count": 27,
   "metadata": {
    "ExecuteTime": {
     "end_time": "2018-05-01T07:41:50.034758Z",
     "start_time": "2018-05-01T07:41:48.455836Z"
    }
   },
   "outputs": [
    {
     "data": {
      "text/html": [
       "<div>\n",
       "<style scoped>\n",
       "    .dataframe tbody tr th:only-of-type {\n",
       "        vertical-align: middle;\n",
       "    }\n",
       "\n",
       "    .dataframe tbody tr th {\n",
       "        vertical-align: top;\n",
       "    }\n",
       "\n",
       "    .dataframe thead th {\n",
       "        text-align: right;\n",
       "    }\n",
       "</style>\n",
       "<table border=\"1\" class=\"dataframe\">\n",
       "  <thead>\n",
       "    <tr style=\"text-align: right;\">\n",
       "      <th></th>\n",
       "      <th></th>\n",
       "      <th>10_day_mean_close</th>\n",
       "      <th>market</th>\n",
       "      <th>sector_code</th>\n",
       "    </tr>\n",
       "  </thead>\n",
       "  <tbody>\n",
       "    <tr>\n",
       "      <th rowspan=\"5\" valign=\"top\">2018-04-10 00:00:00+00:00</th>\n",
       "      <th>平安银行(000001)</th>\n",
       "      <td>10.985</td>\n",
       "      <td>3</td>\n",
       "      <td>9</td>\n",
       "    </tr>\n",
       "    <tr>\n",
       "      <th>万 科Ａ(000002)</th>\n",
       "      <td>32.231</td>\n",
       "      <td>3</td>\n",
       "      <td>9</td>\n",
       "    </tr>\n",
       "    <tr>\n",
       "      <th>国农科技(000004)</th>\n",
       "      <td>22.823</td>\n",
       "      <td>3</td>\n",
       "      <td>2</td>\n",
       "    </tr>\n",
       "    <tr>\n",
       "      <th>世纪星源(000005)</th>\n",
       "      <td>3.806</td>\n",
       "      <td>3</td>\n",
       "      <td>5</td>\n",
       "    </tr>\n",
       "    <tr>\n",
       "      <th>深振业Ａ(000006)</th>\n",
       "      <td>7.314</td>\n",
       "      <td>3</td>\n",
       "      <td>9</td>\n",
       "    </tr>\n",
       "  </tbody>\n",
       "</table>\n",
       "</div>"
      ],
      "text/plain": [
       "                                        10_day_mean_close  market  sector_code\n",
       "2018-04-10 00:00:00+00:00 平安银行(000001)             10.985       3            9\n",
       "                          万 科Ａ(000002)             32.231       3            9\n",
       "                          国农科技(000004)             22.823       3            2\n",
       "                          世纪星源(000005)              3.806       3            5\n",
       "                          深振业Ａ(000006)              7.314       3            9"
      ]
     },
     "execution_count": 27,
     "metadata": {},
     "output_type": "execute_result"
    }
   ],
   "source": [
    "result = run_pipeline(make_pipeline(), '2018-04-10', '2018-04-10')\n",
    "result.head(5)"
   ]
  },
  {
   "cell_type": "code",
   "execution_count": 28,
   "metadata": {
    "ExecuteTime": {
     "end_time": "2018-05-01T07:41:50.091662Z",
     "start_time": "2018-05-01T07:41:50.037284Z"
    }
   },
   "outputs": [
    {
     "data": {
      "text/plain": [
       "'金融服务'"
      ]
     },
     "execution_count": 28,
     "metadata": {},
     "output_type": "execute_result"
    }
   ],
   "source": [
    "Fundamentals.sector_cname(9)"
   ]
  },
  {
   "cell_type": "code",
   "execution_count": 29,
   "metadata": {
    "ExecuteTime": {
     "end_time": "2018-05-01T07:41:50.154653Z",
     "start_time": "2018-05-01T07:41:50.094666Z"
    }
   },
   "outputs": [
    {
     "data": {
      "text/plain": [
       "'医疗保健'"
      ]
     },
     "execution_count": 29,
     "metadata": {},
     "output_type": "execute_result"
    }
   ],
   "source": [
    "Fundamentals.sector_cname(2)"
   ]
  },
  {
   "cell_type": "code",
   "execution_count": 30,
   "metadata": {
    "ExecuteTime": {
     "end_time": "2018-05-01T07:41:50.215246Z",
     "start_time": "2018-05-01T07:41:50.157830Z"
    }
   },
   "outputs": [
    {
     "data": {
      "text/plain": [
       "'工业领域'"
      ]
     },
     "execution_count": 30,
     "metadata": {},
     "output_type": "execute_result"
    }
   ],
   "source": [
    "Fundamentals.sector_cname(5)"
   ]
  },
  {
   "cell_type": "code",
   "execution_count": 31,
   "metadata": {
    "ExecuteTime": {
     "end_time": "2018-05-01T07:41:50.257337Z",
     "start_time": "2018-05-01T07:41:50.218536Z"
    }
   },
   "outputs": [],
   "source": [
    "Fundamentals.sector_cname?"
   ]
  }
 ],
 "metadata": {
  "kernelspec": {
   "display_name": "zipline",
   "language": "python",
   "name": "zipline"
  },
  "language_info": {
   "codemirror_mode": {
    "name": "ipython",
    "version": 3
   },
   "file_extension": ".py",
   "mimetype": "text/x-python",
   "name": "python",
   "nbconvert_exporter": "python",
   "pygments_lexer": "ipython3",
   "version": "3.6.5"
  },
  "toc": {
   "base_numbering": 1,
   "nav_menu": {},
   "number_sections": true,
   "sideBar": true,
   "skip_h1_title": false,
   "title_cell": "Table of Contents",
   "title_sidebar": "Contents",
   "toc_cell": false,
   "toc_position": {
    "height": "calc(100% - 180px)",
    "left": "10px",
    "top": "150px",
    "width": "260px"
   },
   "toc_section_display": true,
   "toc_window_display": true
  }
 },
 "nbformat": 4,
 "nbformat_minor": 2
}
