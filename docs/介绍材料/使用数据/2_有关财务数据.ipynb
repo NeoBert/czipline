{
 "cells": [
  {
   "cell_type": "markdown",
   "metadata": {},
   "source": [
    "# 财务数据"
   ]
  },
  {
   "cell_type": "markdown",
   "metadata": {},
   "source": [
    "**由于数据采集原因，对于没有财务公告日期的，设置为报告期后45天。即模拟回测时钟日期超过报告截止日期，才可读取到该季度的财务报告**"
   ]
  },
  {
   "cell_type": "code",
   "execution_count": 1,
   "metadata": {
    "ExecuteTime": {
     "end_time": "2018-05-16T06:07:38.410922Z",
     "start_time": "2018-05-16T06:07:34.954456Z"
    }
   },
   "outputs": [],
   "source": [
    "from zipline.pipeline.fundamentals import Fundamentals\n",
    "from zipline.research import run_pipeline, select_output_by\n",
    "from zipline.pipeline import Pipeline"
   ]
  },
  {
   "cell_type": "markdown",
   "metadata": {},
   "source": [
    "**所有数据集科目编码规则都相同，A001->A(N)(连续三位整数）**"
   ]
  },
  {
   "cell_type": "markdown",
   "metadata": {},
   "source": [
    "## 资产负债表"
   ]
  },
  {
   "cell_type": "markdown",
   "metadata": {},
   "source": [
    "### 科目含义"
   ]
  },
  {
   "cell_type": "code",
   "execution_count": 2,
   "metadata": {
    "ExecuteTime": {
     "end_time": "2018-05-16T06:07:38.434338Z",
     "start_time": "2018-05-16T06:07:38.414152Z"
    }
   },
   "outputs": [
    {
     "data": {
      "text/plain": [
       "'货币资金'"
      ]
     },
     "execution_count": 2,
     "metadata": {},
     "output_type": "execute_result"
    }
   ],
   "source": [
    "# 查询列所对应的科目全称\n",
    "Fundamentals.balancesheet_col_name('A001')"
   ]
  },
  {
   "cell_type": "code",
   "execution_count": 3,
   "metadata": {
    "ExecuteTime": {
     "end_time": "2018-05-16T06:07:38.447870Z",
     "start_time": "2018-05-16T06:07:38.437685Z"
    }
   },
   "outputs": [
    {
     "data": {
      "text/plain": [
       "'负债和所有者权益或股东权益总计'"
      ]
     },
     "execution_count": 3,
     "metadata": {},
     "output_type": "execute_result"
    }
   ],
   "source": [
    "Fundamentals.balancesheet_col_name('A108')"
   ]
  },
  {
   "cell_type": "markdown",
   "metadata": {},
   "source": [
    "### 科目编码"
   ]
  },
  {
   "cell_type": "code",
   "execution_count": 4,
   "metadata": {
    "ExecuteTime": {
     "end_time": "2018-05-16T06:07:38.456780Z",
     "start_time": "2018-05-16T06:07:38.451906Z"
    }
   },
   "outputs": [
    {
     "data": {
      "text/plain": [
       "{'A028': '持有至到期投资',\n",
       " 'A030': '长期股权投资',\n",
       " 'A031': '其他长期投资',\n",
       " 'A032': '投资性房地产',\n",
       " 'A101': '未确定的投资损失'}"
      ]
     },
     "execution_count": 4,
     "metadata": {},
     "output_type": "execute_result"
    }
   ],
   "source": [
    "# 模糊查询科目编码\n",
    "Fundamentals.balancesheet_col_code('投资')"
   ]
  },
  {
   "cell_type": "markdown",
   "metadata": {},
   "source": [
    "### 运行"
   ]
  },
  {
   "cell_type": "code",
   "execution_count": 5,
   "metadata": {
    "ExecuteTime": {
     "end_time": "2018-05-16T06:07:38.466589Z",
     "start_time": "2018-05-16T06:07:38.461906Z"
    }
   },
   "outputs": [],
   "source": [
    "def make_pipeline():\n",
    "\n",
    "    latest_fund = Fundamentals.balance_sheet.A001.latest\n",
    "    total_asset = Fundamentals.balance_sheet.A108.latest\n",
    "\n",
    "    return Pipeline(columns={\n",
    "        '货币资金': latest_fund,\n",
    "        '负债和所有者权益或股东权益总计': total_asset\n",
    "    })"
   ]
  },
  {
   "cell_type": "code",
   "execution_count": 6,
   "metadata": {
    "ExecuteTime": {
     "end_time": "2018-05-16T06:07:41.172747Z",
     "start_time": "2018-05-16T06:07:38.469417Z"
    }
   },
   "outputs": [
    {
     "data": {
      "text/html": [
       "<div>\n",
       "<style scoped>\n",
       "    .dataframe tbody tr th:only-of-type {\n",
       "        vertical-align: middle;\n",
       "    }\n",
       "\n",
       "    .dataframe tbody tr th {\n",
       "        vertical-align: top;\n",
       "    }\n",
       "\n",
       "    .dataframe thead th {\n",
       "        text-align: right;\n",
       "    }\n",
       "</style>\n",
       "<table border=\"1\" class=\"dataframe\">\n",
       "  <thead>\n",
       "    <tr style=\"text-align: right;\">\n",
       "      <th></th>\n",
       "      <th></th>\n",
       "      <th>负债和所有者权益或股东权益总计</th>\n",
       "      <th>货币资金</th>\n",
       "    </tr>\n",
       "  </thead>\n",
       "  <tbody>\n",
       "    <tr>\n",
       "      <th rowspan=\"5\" valign=\"top\">2017-12-29 00:00:00+00:00</th>\n",
       "      <th>平安银行(000001)</th>\n",
       "      <td>313748100.0</td>\n",
       "      <td>27970600.0</td>\n",
       "    </tr>\n",
       "    <tr>\n",
       "      <th>万 科Ａ(000002)</th>\n",
       "      <td>101838199.0</td>\n",
       "      <td>9435263.0</td>\n",
       "    </tr>\n",
       "    <tr>\n",
       "      <th>国农科技(000004)</th>\n",
       "      <td>24121.0</td>\n",
       "      <td>11831.0</td>\n",
       "    </tr>\n",
       "    <tr>\n",
       "      <th>世纪星源(000005)</th>\n",
       "      <td>279287.0</td>\n",
       "      <td>5850.0</td>\n",
       "    </tr>\n",
       "    <tr>\n",
       "      <th>深振业Ａ(000006)</th>\n",
       "      <td>1322269.0</td>\n",
       "      <td>387660.0</td>\n",
       "    </tr>\n",
       "  </tbody>\n",
       "</table>\n",
       "</div>"
      ],
      "text/plain": [
       "                                        负债和所有者权益或股东权益总计        货币资金\n",
       "2017-12-29 00:00:00+00:00 平安银行(000001)      313748100.0  27970600.0\n",
       "                          万 科Ａ(000002)      101838199.0   9435263.0\n",
       "                          国农科技(000004)          24121.0     11831.0\n",
       "                          世纪星源(000005)         279287.0      5850.0\n",
       "                          深振业Ａ(000006)        1322269.0    387660.0"
      ]
     },
     "execution_count": 6,
     "metadata": {},
     "output_type": "execute_result"
    }
   ],
   "source": [
    "# 此时返回2017年三季度数据\n",
    "result = run_pipeline(make_pipeline(), '2017-12-29', '2017-12-31')\n",
    "result.head()"
   ]
  },
  {
   "cell_type": "markdown",
   "metadata": {},
   "source": [
    "### `截止日期`(`asof_date`) & `知晓日期`(`timestamp`)"
   ]
  },
  {
   "cell_type": "markdown",
   "metadata": {},
   "source": [
    "万科A(000002)于2018年3月27日披露年度，回测时钟当日即知晓2017年年报。此前回测时钟日期，最后的数据为2017年三季度报告。(注意`pipeline`特点，只能查询尾部窗口数据，28日实际获取的是28日前的尾部窗口，在此即27日）"
   ]
  },
  {
   "cell_type": "code",
   "execution_count": 7,
   "metadata": {
    "ExecuteTime": {
     "end_time": "2018-05-16T06:07:42.055486Z",
     "start_time": "2018-05-16T06:07:41.176016Z"
    }
   },
   "outputs": [
    {
     "data": {
      "text/html": [
       "<div>\n",
       "<style scoped>\n",
       "    .dataframe tbody tr th:only-of-type {\n",
       "        vertical-align: middle;\n",
       "    }\n",
       "\n",
       "    .dataframe tbody tr th {\n",
       "        vertical-align: top;\n",
       "    }\n",
       "\n",
       "    .dataframe thead th {\n",
       "        text-align: right;\n",
       "    }\n",
       "</style>\n",
       "<table border=\"1\" class=\"dataframe\">\n",
       "  <thead>\n",
       "    <tr style=\"text-align: right;\">\n",
       "      <th></th>\n",
       "      <th></th>\n",
       "      <th>负债和所有者权益或股东权益总计</th>\n",
       "      <th>货币资金</th>\n",
       "    </tr>\n",
       "  </thead>\n",
       "  <tbody>\n",
       "    <tr>\n",
       "      <th>2018-03-26 00:00:00+00:00</th>\n",
       "      <th>万 科Ａ(000002)</th>\n",
       "      <td>101838199.0</td>\n",
       "      <td>9435263.0</td>\n",
       "    </tr>\n",
       "    <tr>\n",
       "      <th>2018-03-27 00:00:00+00:00</th>\n",
       "      <th>万 科Ａ(000002)</th>\n",
       "      <td>101838199.0</td>\n",
       "      <td>9435263.0</td>\n",
       "    </tr>\n",
       "    <tr>\n",
       "      <th>2018-03-28 00:00:00+00:00</th>\n",
       "      <th>万 科Ａ(000002)</th>\n",
       "      <td>116534692.0</td>\n",
       "      <td>17412101.0</td>\n",
       "    </tr>\n",
       "  </tbody>\n",
       "</table>\n",
       "</div>"
      ],
      "text/plain": [
       "                                        负债和所有者权益或股东权益总计        货币资金\n",
       "2018-03-26 00:00:00+00:00 万 科Ａ(000002)      101838199.0   9435263.0\n",
       "2018-03-27 00:00:00+00:00 万 科Ａ(000002)      101838199.0   9435263.0\n",
       "2018-03-28 00:00:00+00:00 万 科Ａ(000002)      116534692.0  17412101.0"
      ]
     },
     "execution_count": 7,
     "metadata": {},
     "output_type": "execute_result"
    }
   ],
   "source": [
    "# 此时返回2017年年度数据\n",
    "result = run_pipeline(make_pipeline(), '2018-3-25', '2018-3-28')\n",
    "select_output_by(result, stock_codes=['000002'])"
   ]
  },
  {
   "cell_type": "markdown",
   "metadata": {},
   "source": [
    "美的集团（000333)于2018年3月31日公布年报，注意观察以下二者的输出结果"
   ]
  },
  {
   "cell_type": "code",
   "execution_count": 8,
   "metadata": {
    "ExecuteTime": {
     "end_time": "2018-05-16T06:07:42.080604Z",
     "start_time": "2018-05-16T06:07:42.058934Z"
    }
   },
   "outputs": [
    {
     "data": {
      "text/html": [
       "<div>\n",
       "<style scoped>\n",
       "    .dataframe tbody tr th:only-of-type {\n",
       "        vertical-align: middle;\n",
       "    }\n",
       "\n",
       "    .dataframe tbody tr th {\n",
       "        vertical-align: top;\n",
       "    }\n",
       "\n",
       "    .dataframe thead th {\n",
       "        text-align: right;\n",
       "    }\n",
       "</style>\n",
       "<table border=\"1\" class=\"dataframe\">\n",
       "  <thead>\n",
       "    <tr style=\"text-align: right;\">\n",
       "      <th></th>\n",
       "      <th></th>\n",
       "      <th>负债和所有者权益或股东权益总计</th>\n",
       "      <th>货币资金</th>\n",
       "    </tr>\n",
       "  </thead>\n",
       "  <tbody>\n",
       "    <tr>\n",
       "      <th rowspan=\"2\" valign=\"top\">2018-03-26 00:00:00+00:00</th>\n",
       "      <th>万 科Ａ(000002)</th>\n",
       "      <td>101838199.0</td>\n",
       "      <td>9435263.0</td>\n",
       "    </tr>\n",
       "    <tr>\n",
       "      <th>美的集团(000333)</th>\n",
       "      <td>24218328.0</td>\n",
       "      <td>4165744.0</td>\n",
       "    </tr>\n",
       "    <tr>\n",
       "      <th rowspan=\"2\" valign=\"top\">2018-03-27 00:00:00+00:00</th>\n",
       "      <th>万 科Ａ(000002)</th>\n",
       "      <td>101838199.0</td>\n",
       "      <td>9435263.0</td>\n",
       "    </tr>\n",
       "    <tr>\n",
       "      <th>美的集团(000333)</th>\n",
       "      <td>24218328.0</td>\n",
       "      <td>4165744.0</td>\n",
       "    </tr>\n",
       "    <tr>\n",
       "      <th rowspan=\"2\" valign=\"top\">2018-03-28 00:00:00+00:00</th>\n",
       "      <th>万 科Ａ(000002)</th>\n",
       "      <td>116534692.0</td>\n",
       "      <td>17412101.0</td>\n",
       "    </tr>\n",
       "    <tr>\n",
       "      <th>美的集团(000333)</th>\n",
       "      <td>24218328.0</td>\n",
       "      <td>4165744.0</td>\n",
       "    </tr>\n",
       "  </tbody>\n",
       "</table>\n",
       "</div>"
      ],
      "text/plain": [
       "                                        负债和所有者权益或股东权益总计        货币资金\n",
       "2018-03-26 00:00:00+00:00 万 科Ａ(000002)      101838199.0   9435263.0\n",
       "                          美的集团(000333)       24218328.0   4165744.0\n",
       "2018-03-27 00:00:00+00:00 万 科Ａ(000002)      101838199.0   9435263.0\n",
       "                          美的集团(000333)       24218328.0   4165744.0\n",
       "2018-03-28 00:00:00+00:00 万 科Ａ(000002)      116534692.0  17412101.0\n",
       "                          美的集团(000333)       24218328.0   4165744.0"
      ]
     },
     "execution_count": 8,
     "metadata": {},
     "output_type": "execute_result"
    }
   ],
   "source": [
    "select_output_by(result, stock_codes=['000333','000002'])"
   ]
  },
  {
   "cell_type": "code",
   "execution_count": 9,
   "metadata": {
    "ExecuteTime": {
     "end_time": "2018-05-16T06:07:42.921944Z",
     "start_time": "2018-05-16T06:07:42.083149Z"
    }
   },
   "outputs": [
    {
     "data": {
      "text/html": [
       "<div>\n",
       "<style scoped>\n",
       "    .dataframe tbody tr th:only-of-type {\n",
       "        vertical-align: middle;\n",
       "    }\n",
       "\n",
       "    .dataframe tbody tr th {\n",
       "        vertical-align: top;\n",
       "    }\n",
       "\n",
       "    .dataframe thead th {\n",
       "        text-align: right;\n",
       "    }\n",
       "</style>\n",
       "<table border=\"1\" class=\"dataframe\">\n",
       "  <thead>\n",
       "    <tr style=\"text-align: right;\">\n",
       "      <th></th>\n",
       "      <th></th>\n",
       "      <th>负债和所有者权益或股东权益总计</th>\n",
       "      <th>货币资金</th>\n",
       "    </tr>\n",
       "  </thead>\n",
       "  <tbody>\n",
       "    <tr>\n",
       "      <th rowspan=\"2\" valign=\"top\">2018-03-28 00:00:00+00:00</th>\n",
       "      <th>万 科Ａ(000002)</th>\n",
       "      <td>116534692.0</td>\n",
       "      <td>17412101.0</td>\n",
       "    </tr>\n",
       "    <tr>\n",
       "      <th>美的集团(000333)</th>\n",
       "      <td>24218328.0</td>\n",
       "      <td>4165744.0</td>\n",
       "    </tr>\n",
       "    <tr>\n",
       "      <th rowspan=\"2\" valign=\"top\">2018-03-29 00:00:00+00:00</th>\n",
       "      <th>万 科Ａ(000002)</th>\n",
       "      <td>116534692.0</td>\n",
       "      <td>17412101.0</td>\n",
       "    </tr>\n",
       "    <tr>\n",
       "      <th>美的集团(000333)</th>\n",
       "      <td>24218328.0</td>\n",
       "      <td>4165744.0</td>\n",
       "    </tr>\n",
       "    <tr>\n",
       "      <th rowspan=\"2\" valign=\"top\">2018-03-30 00:00:00+00:00</th>\n",
       "      <th>万 科Ａ(000002)</th>\n",
       "      <td>116534692.0</td>\n",
       "      <td>17412101.0</td>\n",
       "    </tr>\n",
       "    <tr>\n",
       "      <th>美的集团(000333)</th>\n",
       "      <td>24218328.0</td>\n",
       "      <td>4165744.0</td>\n",
       "    </tr>\n",
       "    <tr>\n",
       "      <th rowspan=\"2\" valign=\"top\">2018-04-02 00:00:00+00:00</th>\n",
       "      <th>万 科Ａ(000002)</th>\n",
       "      <td>116534692.0</td>\n",
       "      <td>17412101.0</td>\n",
       "    </tr>\n",
       "    <tr>\n",
       "      <th>美的集团(000333)</th>\n",
       "      <td>24810686.0</td>\n",
       "      <td>4827420.0</td>\n",
       "    </tr>\n",
       "  </tbody>\n",
       "</table>\n",
       "</div>"
      ],
      "text/plain": [
       "                                        负债和所有者权益或股东权益总计        货币资金\n",
       "2018-03-28 00:00:00+00:00 万 科Ａ(000002)      116534692.0  17412101.0\n",
       "                          美的集团(000333)       24218328.0   4165744.0\n",
       "2018-03-29 00:00:00+00:00 万 科Ａ(000002)      116534692.0  17412101.0\n",
       "                          美的集团(000333)       24218328.0   4165744.0\n",
       "2018-03-30 00:00:00+00:00 万 科Ａ(000002)      116534692.0  17412101.0\n",
       "                          美的集团(000333)       24218328.0   4165744.0\n",
       "2018-04-02 00:00:00+00:00 万 科Ａ(000002)      116534692.0  17412101.0\n",
       "                          美的集团(000333)       24810686.0   4827420.0"
      ]
     },
     "execution_count": 9,
     "metadata": {},
     "output_type": "execute_result"
    }
   ],
   "source": [
    "result = run_pipeline(make_pipeline(), '2018-3-28', '2018-4-2')\n",
    "select_output_by(result, stock_codes=['000333','000002'])"
   ]
  },
  {
   "cell_type": "markdown",
   "metadata": {},
   "source": [
    "美的集团公布年报后的第一个交易日为4月2日，上一交易日为3月30日。回测时钟日期4月2日尾部1个窗口，其货币资金为年报公布数4827420元。"
   ]
  },
  {
   "cell_type": "markdown",
   "metadata": {},
   "source": [
    "这与实际情形一致，您不可能预知，只能通过公开发布获取信息。"
   ]
  },
  {
   "cell_type": "markdown",
   "metadata": {},
   "source": [
    "## 利润表"
   ]
  },
  {
   "cell_type": "code",
   "execution_count": 10,
   "metadata": {
    "ExecuteTime": {
     "end_time": "2018-05-16T06:07:42.930595Z",
     "start_time": "2018-05-16T06:07:42.924931Z"
    }
   },
   "outputs": [
    {
     "data": {
      "text/plain": [
       "'营业总收入'"
      ]
     },
     "execution_count": 10,
     "metadata": {},
     "output_type": "execute_result"
    }
   ],
   "source": [
    "Fundamentals.profit_col_name('A001')"
   ]
  },
  {
   "cell_type": "code",
   "execution_count": 11,
   "metadata": {
    "ExecuteTime": {
     "end_time": "2018-05-16T06:07:42.945628Z",
     "start_time": "2018-05-16T06:07:42.935120Z"
    }
   },
   "outputs": [
    {
     "data": {
      "text/plain": [
       "{'A044': '基本每股收益', 'A045': '稀释每股收益'}"
      ]
     },
     "execution_count": 11,
     "metadata": {},
     "output_type": "execute_result"
    }
   ],
   "source": [
    "Fundamentals.profit_col_code('每股')"
   ]
  },
  {
   "cell_type": "code",
   "execution_count": 12,
   "metadata": {
    "ExecuteTime": {
     "end_time": "2018-05-16T06:07:42.954831Z",
     "start_time": "2018-05-16T06:07:42.948624Z"
    }
   },
   "outputs": [],
   "source": [
    "def make_pipeline():\n",
    "\n",
    "    eps = Fundamentals.profit_statement.A044.latest\n",
    "    income = Fundamentals.balance_sheet.A001.latest\n",
    "\n",
    "    return Pipeline(columns={\n",
    "        '基本每股收益': eps,\n",
    "        '营业总收入': income\n",
    "    })"
   ]
  },
  {
   "cell_type": "code",
   "execution_count": 13,
   "metadata": {
    "ExecuteTime": {
     "end_time": "2018-05-16T06:07:44.501916Z",
     "start_time": "2018-05-16T06:07:42.957414Z"
    }
   },
   "outputs": [
    {
     "data": {
      "text/html": [
       "<div>\n",
       "<style scoped>\n",
       "    .dataframe tbody tr th:only-of-type {\n",
       "        vertical-align: middle;\n",
       "    }\n",
       "\n",
       "    .dataframe tbody tr th {\n",
       "        vertical-align: top;\n",
       "    }\n",
       "\n",
       "    .dataframe thead th {\n",
       "        text-align: right;\n",
       "    }\n",
       "</style>\n",
       "<table border=\"1\" class=\"dataframe\">\n",
       "  <thead>\n",
       "    <tr style=\"text-align: right;\">\n",
       "      <th></th>\n",
       "      <th></th>\n",
       "      <th>基本每股收益</th>\n",
       "      <th>营业总收入</th>\n",
       "    </tr>\n",
       "  </thead>\n",
       "  <tbody>\n",
       "    <tr>\n",
       "      <th rowspan=\"5\" valign=\"top\">2016-04-11 00:00:00+00:00</th>\n",
       "      <th>平安银行(000001)</th>\n",
       "      <td>1.56</td>\n",
       "      <td>29171500.0</td>\n",
       "    </tr>\n",
       "    <tr>\n",
       "      <th>万 科Ａ(000002)</th>\n",
       "      <td>1.64</td>\n",
       "      <td>5318038.0</td>\n",
       "    </tr>\n",
       "    <tr>\n",
       "      <th>国农科技(000004)</th>\n",
       "      <td>0.03</td>\n",
       "      <td>3571.0</td>\n",
       "    </tr>\n",
       "    <tr>\n",
       "      <th>世纪星源(000005)</th>\n",
       "      <td>-0.03</td>\n",
       "      <td>3282.0</td>\n",
       "    </tr>\n",
       "    <tr>\n",
       "      <th>深振业Ａ(000006)</th>\n",
       "      <td>0.31</td>\n",
       "      <td>177870.0</td>\n",
       "    </tr>\n",
       "  </tbody>\n",
       "</table>\n",
       "</div>"
      ],
      "text/plain": [
       "                                        基本每股收益       营业总收入\n",
       "2016-04-11 00:00:00+00:00 平安银行(000001)    1.56  29171500.0\n",
       "                          万 科Ａ(000002)    1.64   5318038.0\n",
       "                          国农科技(000004)    0.03      3571.0\n",
       "                          世纪星源(000005)   -0.03      3282.0\n",
       "                          深振业Ａ(000006)    0.31    177870.0"
      ]
     },
     "execution_count": 13,
     "metadata": {},
     "output_type": "execute_result"
    }
   ],
   "source": [
    "result = run_pipeline(make_pipeline(), '2016-04-10', '2018-04-10')\n",
    "result.head()"
   ]
  },
  {
   "cell_type": "markdown",
   "metadata": {},
   "source": [
    "## 现金流量表"
   ]
  },
  {
   "cell_type": "code",
   "execution_count": 14,
   "metadata": {
    "ExecuteTime": {
     "end_time": "2018-05-16T06:07:44.509601Z",
     "start_time": "2018-05-16T06:07:44.504660Z"
    }
   },
   "outputs": [
    {
     "data": {
      "text/plain": [
       "'支付给职工以及为职工支付的现金'"
      ]
     },
     "execution_count": 14,
     "metadata": {},
     "output_type": "execute_result"
    }
   ],
   "source": [
    "Fundamentals.cashflow_col_name('A021')"
   ]
  },
  {
   "cell_type": "code",
   "execution_count": 15,
   "metadata": {
    "ExecuteTime": {
     "end_time": "2018-05-16T06:07:44.519730Z",
     "start_time": "2018-05-16T06:07:44.513320Z"
    }
   },
   "outputs": [
    {
     "data": {
      "text/plain": [
       "{'A061': '固定资产折旧及油气资产折耗及生产性物资折旧'}"
      ]
     },
     "execution_count": 15,
     "metadata": {},
     "output_type": "execute_result"
    }
   ],
   "source": [
    "Fundamentals.cashflow_col_code('折旧')"
   ]
  },
  {
   "cell_type": "code",
   "execution_count": 16,
   "metadata": {
    "ExecuteTime": {
     "end_time": "2018-05-16T06:07:44.525822Z",
     "start_time": "2018-05-16T06:07:44.521986Z"
    }
   },
   "outputs": [],
   "source": [
    "def make_pipeline():\n",
    "\n",
    "    return Pipeline(columns={\n",
    "        '支付给职工以及为职工支付的现金': Fundamentals.cash_flow.A021.latest,\n",
    "        '固定资产折旧及油气资产折耗及生产性物资折旧': Fundamentals.cash_flow.A061.latest\n",
    "    })"
   ]
  },
  {
   "cell_type": "code",
   "execution_count": 17,
   "metadata": {
    "ExecuteTime": {
     "end_time": "2018-05-16T06:07:45.357021Z",
     "start_time": "2018-05-16T06:07:44.529545Z"
    }
   },
   "outputs": [
    {
     "data": {
      "text/html": [
       "<div>\n",
       "<style scoped>\n",
       "    .dataframe tbody tr th:only-of-type {\n",
       "        vertical-align: middle;\n",
       "    }\n",
       "\n",
       "    .dataframe tbody tr th {\n",
       "        vertical-align: top;\n",
       "    }\n",
       "\n",
       "    .dataframe thead th {\n",
       "        text-align: right;\n",
       "    }\n",
       "</style>\n",
       "<table border=\"1\" class=\"dataframe\">\n",
       "  <thead>\n",
       "    <tr style=\"text-align: right;\">\n",
       "      <th></th>\n",
       "      <th></th>\n",
       "      <th>固定资产折旧及油气资产折耗及生产性物资折旧</th>\n",
       "      <th>支付给职工以及为职工支付的现金</th>\n",
       "    </tr>\n",
       "  </thead>\n",
       "  <tbody>\n",
       "    <tr>\n",
       "      <th rowspan=\"2\" valign=\"top\">2018-04-02 00:00:00+00:00</th>\n",
       "      <th>美的集团(000333)</th>\n",
       "      <td>669588.0</td>\n",
       "      <td>2274054.0</td>\n",
       "    </tr>\n",
       "    <tr>\n",
       "      <th>康欣新材(600076)</th>\n",
       "      <td>6494.0</td>\n",
       "      <td>9152.0</td>\n",
       "    </tr>\n",
       "    <tr>\n",
       "      <th rowspan=\"2\" valign=\"top\">2018-04-03 00:00:00+00:00</th>\n",
       "      <th>美的集团(000333)</th>\n",
       "      <td>669588.0</td>\n",
       "      <td>2274054.0</td>\n",
       "    </tr>\n",
       "    <tr>\n",
       "      <th>康欣新材(600076)</th>\n",
       "      <td>6494.0</td>\n",
       "      <td>9152.0</td>\n",
       "    </tr>\n",
       "    <tr>\n",
       "      <th rowspan=\"2\" valign=\"top\">2018-04-04 00:00:00+00:00</th>\n",
       "      <th>美的集团(000333)</th>\n",
       "      <td>669588.0</td>\n",
       "      <td>2274054.0</td>\n",
       "    </tr>\n",
       "    <tr>\n",
       "      <th>康欣新材(600076)</th>\n",
       "      <td>6494.0</td>\n",
       "      <td>9152.0</td>\n",
       "    </tr>\n",
       "    <tr>\n",
       "      <th rowspan=\"2\" valign=\"top\">2018-04-09 00:00:00+00:00</th>\n",
       "      <th>美的集团(000333)</th>\n",
       "      <td>669588.0</td>\n",
       "      <td>2274054.0</td>\n",
       "    </tr>\n",
       "    <tr>\n",
       "      <th>康欣新材(600076)</th>\n",
       "      <td>6494.0</td>\n",
       "      <td>9152.0</td>\n",
       "    </tr>\n",
       "    <tr>\n",
       "      <th rowspan=\"2\" valign=\"top\">2018-04-10 00:00:00+00:00</th>\n",
       "      <th>美的集团(000333)</th>\n",
       "      <td>669588.0</td>\n",
       "      <td>2274054.0</td>\n",
       "    </tr>\n",
       "    <tr>\n",
       "      <th>康欣新材(600076)</th>\n",
       "      <td>6494.0</td>\n",
       "      <td>9152.0</td>\n",
       "    </tr>\n",
       "  </tbody>\n",
       "</table>\n",
       "</div>"
      ],
      "text/plain": [
       "                                        固定资产折旧及油气资产折耗及生产性物资折旧  支付给职工以及为职工支付的现金\n",
       "2018-04-02 00:00:00+00:00 美的集团(000333)               669588.0        2274054.0\n",
       "                          康欣新材(600076)                 6494.0           9152.0\n",
       "2018-04-03 00:00:00+00:00 美的集团(000333)               669588.0        2274054.0\n",
       "                          康欣新材(600076)                 6494.0           9152.0\n",
       "2018-04-04 00:00:00+00:00 美的集团(000333)               669588.0        2274054.0\n",
       "                          康欣新材(600076)                 6494.0           9152.0\n",
       "2018-04-09 00:00:00+00:00 美的集团(000333)               669588.0        2274054.0\n",
       "                          康欣新材(600076)                 6494.0           9152.0\n",
       "2018-04-10 00:00:00+00:00 美的集团(000333)               669588.0        2274054.0\n",
       "                          康欣新材(600076)                 6494.0           9152.0"
      ]
     },
     "execution_count": 17,
     "metadata": {},
     "output_type": "execute_result"
    }
   ],
   "source": [
    "result = run_pipeline(make_pipeline(), '2018-04-01', '2018-04-10')\n",
    "select_output_by(result, stock_codes=['000333','600076'])"
   ]
  },
  {
   "cell_type": "markdown",
   "metadata": {},
   "source": [
    "### 财务指标"
   ]
  },
  {
   "cell_type": "code",
   "execution_count": 18,
   "metadata": {
    "ExecuteTime": {
     "end_time": "2018-05-16T06:07:45.372611Z",
     "start_time": "2018-05-16T06:07:45.362450Z"
    }
   },
   "outputs": [
    {
     "data": {
      "text/plain": [
       "'利润总额'"
      ]
     },
     "execution_count": 18,
     "metadata": {},
     "output_type": "execute_result"
    }
   ],
   "source": [
    "Fundamentals.key_financial_indicator_col_name('A009')"
   ]
  },
  {
   "cell_type": "code",
   "execution_count": 19,
   "metadata": {
    "ExecuteTime": {
     "end_time": "2018-05-16T06:07:45.385910Z",
     "start_time": "2018-05-16T06:07:45.375182Z"
    }
   },
   "outputs": [
    {
     "data": {
      "text/plain": [
       "'股本报酬率'"
      ]
     },
     "execution_count": 19,
     "metadata": {},
     "output_type": "execute_result"
    }
   ],
   "source": [
    "Fundamentals.earnings_ratio_col_name('A009')"
   ]
  },
  {
   "cell_type": "code",
   "execution_count": 20,
   "metadata": {
    "ExecuteTime": {
     "end_time": "2018-05-16T06:07:45.395198Z",
     "start_time": "2018-05-16T06:07:45.388796Z"
    }
   },
   "outputs": [
    {
     "data": {
      "text/plain": [
       "'净利润增长率'"
      ]
     },
     "execution_count": 20,
     "metadata": {},
     "output_type": "execute_result"
    }
   ],
   "source": [
    "Fundamentals.growth_ratio_col_name('A002')"
   ]
  },
  {
   "cell_type": "code",
   "execution_count": 21,
   "metadata": {
    "ExecuteTime": {
     "end_time": "2018-05-16T06:07:45.405720Z",
     "start_time": "2018-05-16T06:07:45.398680Z"
    }
   },
   "outputs": [],
   "source": [
    "def make_pipeline():\n",
    "\n",
    "    return Pipeline(\n",
    "        columns={\n",
    "            '利润总额': Fundamentals.key_financial_indicator.A009.latest,\n",
    "            '股本报酬率': Fundamentals.cash_flow.A009.latest,\n",
    "            '净利润增长率': Fundamentals.growth_ratio.A002.latest,\n",
    "        })"
   ]
  },
  {
   "cell_type": "code",
   "execution_count": 22,
   "metadata": {
    "ExecuteTime": {
     "end_time": "2018-05-16T06:07:46.522126Z",
     "start_time": "2018-05-16T06:07:45.412525Z"
    }
   },
   "outputs": [
    {
     "data": {
      "text/html": [
       "<div>\n",
       "<style scoped>\n",
       "    .dataframe tbody tr th:only-of-type {\n",
       "        vertical-align: middle;\n",
       "    }\n",
       "\n",
       "    .dataframe tbody tr th {\n",
       "        vertical-align: top;\n",
       "    }\n",
       "\n",
       "    .dataframe thead th {\n",
       "        text-align: right;\n",
       "    }\n",
       "</style>\n",
       "<table border=\"1\" class=\"dataframe\">\n",
       "  <thead>\n",
       "    <tr style=\"text-align: right;\">\n",
       "      <th></th>\n",
       "      <th></th>\n",
       "      <th>净利润增长率</th>\n",
       "      <th>利润总额</th>\n",
       "      <th>股本报酬率</th>\n",
       "    </tr>\n",
       "  </thead>\n",
       "  <tbody>\n",
       "    <tr>\n",
       "      <th rowspan=\"10\" valign=\"top\">2018-04-10 00:00:00+00:00</th>\n",
       "      <th>康德莱(603987)</th>\n",
       "      <td>19.36</td>\n",
       "      <td>12934.0</td>\n",
       "      <td>NaN</td>\n",
       "    </tr>\n",
       "    <tr>\n",
       "      <th>中电电机(603988)</th>\n",
       "      <td>-2.10</td>\n",
       "      <td>2836.0</td>\n",
       "      <td>NaN</td>\n",
       "    </tr>\n",
       "    <tr>\n",
       "      <th>艾华集团(603989)</th>\n",
       "      <td>12.40</td>\n",
       "      <td>26330.0</td>\n",
       "      <td>NaN</td>\n",
       "    </tr>\n",
       "    <tr>\n",
       "      <th>麦迪科技(603990)</th>\n",
       "      <td>13.06</td>\n",
       "      <td>5552.0</td>\n",
       "      <td>NaN</td>\n",
       "    </tr>\n",
       "    <tr>\n",
       "      <th>至正股份(603991)</th>\n",
       "      <td>1.33</td>\n",
       "      <td>2417.0</td>\n",
       "      <td>NaN</td>\n",
       "    </tr>\n",
       "    <tr>\n",
       "      <th>洛阳钼业(603993)</th>\n",
       "      <td>252.77</td>\n",
       "      <td>538182.0</td>\n",
       "      <td>NaN</td>\n",
       "    </tr>\n",
       "    <tr>\n",
       "      <th>中新科技(603996)</th>\n",
       "      <td>14.95</td>\n",
       "      <td>8703.0</td>\n",
       "      <td>NaN</td>\n",
       "    </tr>\n",
       "    <tr>\n",
       "      <th>继峰股份(603997)</th>\n",
       "      <td>24.28</td>\n",
       "      <td>26339.0</td>\n",
       "      <td>NaN</td>\n",
       "    </tr>\n",
       "    <tr>\n",
       "      <th>方盛制药(603998)</th>\n",
       "      <td>30.79</td>\n",
       "      <td>9472.0</td>\n",
       "      <td>NaN</td>\n",
       "    </tr>\n",
       "    <tr>\n",
       "      <th>读者传媒(603999)</th>\n",
       "      <td>-15.74</td>\n",
       "      <td>5171.0</td>\n",
       "      <td>NaN</td>\n",
       "    </tr>\n",
       "  </tbody>\n",
       "</table>\n",
       "</div>"
      ],
      "text/plain": [
       "                                        净利润增长率      利润总额  股本报酬率\n",
       "2018-04-10 00:00:00+00:00 康德莱(603987)    19.36   12934.0    NaN\n",
       "                          中电电机(603988)   -2.10    2836.0    NaN\n",
       "                          艾华集团(603989)   12.40   26330.0    NaN\n",
       "                          麦迪科技(603990)   13.06    5552.0    NaN\n",
       "                          至正股份(603991)    1.33    2417.0    NaN\n",
       "                          洛阳钼业(603993)  252.77  538182.0    NaN\n",
       "                          中新科技(603996)   14.95    8703.0    NaN\n",
       "                          继峰股份(603997)   24.28   26339.0    NaN\n",
       "                          方盛制药(603998)   30.79    9472.0    NaN\n",
       "                          读者传媒(603999)  -15.74    5171.0    NaN"
      ]
     },
     "execution_count": 22,
     "metadata": {},
     "output_type": "execute_result"
    }
   ],
   "source": [
    "result = run_pipeline(make_pipeline(), '2018-04-01', '2018-04-10')\n",
    "result.tail(10)"
   ]
  }
 ],
 "metadata": {
  "kernelspec": {
   "display_name": "zipline",
   "language": "python",
   "name": "zipline"
  },
  "language_info": {
   "codemirror_mode": {
    "name": "ipython",
    "version": 3
   },
   "file_extension": ".py",
   "mimetype": "text/x-python",
   "name": "python",
   "nbconvert_exporter": "python",
   "pygments_lexer": "ipython3",
   "version": "3.6.5"
  },
  "toc": {
   "base_numbering": 1,
   "nav_menu": {},
   "number_sections": true,
   "sideBar": true,
   "skip_h1_title": false,
   "title_cell": "Table of Contents",
   "title_sidebar": "Contents",
   "toc_cell": false,
   "toc_position": {
    "height": "calc(100% - 180px)",
    "left": "10px",
    "top": "150px",
    "width": "260px"
   },
   "toc_section_display": true,
   "toc_window_display": true
  }
 },
 "nbformat": 4,
 "nbformat_minor": 2
}
