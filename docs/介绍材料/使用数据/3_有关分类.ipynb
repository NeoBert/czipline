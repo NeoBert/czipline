{
 "cells": [
  {
   "cell_type": "markdown",
   "metadata": {},
   "source": [
    "## 地域分类"
   ]
  },
  {
   "cell_type": "code",
   "execution_count": 1,
   "metadata": {
    "ExecuteTime": {
     "end_time": "2018-05-01T15:13:56.251114Z",
     "start_time": "2018-05-01T15:13:53.252204Z"
    }
   },
   "outputs": [],
   "source": [
    "from zipline.research import run_pipeline, select_output_by\n",
    "from zipline.pipeline import Pipeline\n",
    "from zipline.pipeline.data import CNEquityPricing"
   ]
  },
  {
   "cell_type": "code",
   "execution_count": 2,
   "metadata": {
    "ExecuteTime": {
     "end_time": "2018-05-01T15:13:56.258359Z",
     "start_time": "2018-05-01T15:13:56.254252Z"
    }
   },
   "outputs": [],
   "source": [
    "from zipline.pipeline.fundamentals import Fundamentals"
   ]
  },
  {
   "cell_type": "markdown",
   "metadata": {},
   "source": [
    "### 映射表"
   ]
  },
  {
   "cell_type": "code",
   "execution_count": 3,
   "metadata": {
    "ExecuteTime": {
     "end_time": "2018-05-01T15:13:56.282890Z",
     "start_time": "2018-05-01T15:13:56.261965Z"
    }
   },
   "outputs": [
    {
     "data": {
      "text/plain": [
       "{'0': '上海市',\n",
       " '1': '云南省',\n",
       " '2': '内蒙古自治区',\n",
       " '3': '北京市',\n",
       " '4': '吉林省',\n",
       " '5': '四川省',\n",
       " '6': '天津市',\n",
       " '7': '宁夏回族自治区',\n",
       " '8': '安徽省',\n",
       " '9': '山东省',\n",
       " '10': '山西省',\n",
       " '11': '广东省',\n",
       " '12': '广西壮族自治区',\n",
       " '13': '新疆维吾尔自治区',\n",
       " '14': '江苏省',\n",
       " '15': '江西省',\n",
       " '16': '河北省',\n",
       " '17': '河南省',\n",
       " '18': '浙江省',\n",
       " '19': '海南省',\n",
       " '20': '湖北省',\n",
       " '21': '湖南省',\n",
       " '22': '甘肃省',\n",
       " '23': '福建省',\n",
       " '24': '西藏自治区',\n",
       " '25': '贵州省',\n",
       " '26': '辽宁省',\n",
       " '27': '重庆市',\n",
       " '28': '陕西省',\n",
       " '29': '青海省',\n",
       " '30': '黑龙江省'}"
      ]
     },
     "execution_count": 3,
     "metadata": {},
     "output_type": "execute_result"
    }
   ],
   "source": [
    "Fundamentals.region_maps"
   ]
  },
  {
   "cell_type": "markdown",
   "metadata": {},
   "source": [
    "### 基础"
   ]
  },
  {
   "cell_type": "code",
   "execution_count": 4,
   "metadata": {
    "ExecuteTime": {
     "end_time": "2018-05-01T15:13:56.290355Z",
     "start_time": "2018-05-01T15:13:56.285709Z"
    }
   },
   "outputs": [],
   "source": [
    "def make_pipeline():\n",
    "\n",
    "    return Pipeline(\n",
    "        columns={\n",
    "            '地区编码': Fundamentals.info.region.latest,\n",
    "            '收盘价': CNEquityPricing.close.latest,\n",
    "        })"
   ]
  },
  {
   "cell_type": "code",
   "execution_count": 5,
   "metadata": {
    "ExecuteTime": {
     "end_time": "2018-05-01T15:13:58.463176Z",
     "start_time": "2018-05-01T15:13:56.293375Z"
    }
   },
   "outputs": [
    {
     "data": {
      "text/html": [
       "<div>\n",
       "<style scoped>\n",
       "    .dataframe tbody tr th:only-of-type {\n",
       "        vertical-align: middle;\n",
       "    }\n",
       "\n",
       "    .dataframe tbody tr th {\n",
       "        vertical-align: top;\n",
       "    }\n",
       "\n",
       "    .dataframe thead th {\n",
       "        text-align: right;\n",
       "    }\n",
       "</style>\n",
       "<table border=\"1\" class=\"dataframe\">\n",
       "  <thead>\n",
       "    <tr style=\"text-align: right;\">\n",
       "      <th></th>\n",
       "      <th></th>\n",
       "      <th>地区编码</th>\n",
       "      <th>收盘价</th>\n",
       "    </tr>\n",
       "  </thead>\n",
       "  <tbody>\n",
       "    <tr>\n",
       "      <th rowspan=\"5\" valign=\"top\">2018-04-10 00:00:00+00:00</th>\n",
       "      <th>平安银行(000001)</th>\n",
       "      <td>11</td>\n",
       "      <td>10.87</td>\n",
       "    </tr>\n",
       "    <tr>\n",
       "      <th>万 科Ａ(000002)</th>\n",
       "      <td>11</td>\n",
       "      <td>32.80</td>\n",
       "    </tr>\n",
       "    <tr>\n",
       "      <th>国农科技(000004)</th>\n",
       "      <td>11</td>\n",
       "      <td>22.67</td>\n",
       "    </tr>\n",
       "    <tr>\n",
       "      <th>世纪星源(000005)</th>\n",
       "      <td>11</td>\n",
       "      <td>3.76</td>\n",
       "    </tr>\n",
       "    <tr>\n",
       "      <th>深振业Ａ(000006)</th>\n",
       "      <td>11</td>\n",
       "      <td>7.15</td>\n",
       "    </tr>\n",
       "  </tbody>\n",
       "</table>\n",
       "</div>"
      ],
      "text/plain": [
       "                                        地区编码    收盘价\n",
       "2018-04-10 00:00:00+00:00 平安银行(000001)    11  10.87\n",
       "                          万 科Ａ(000002)    11  32.80\n",
       "                          国农科技(000004)    11  22.67\n",
       "                          世纪星源(000005)    11   3.76\n",
       "                          深振业Ａ(000006)    11   7.15"
      ]
     },
     "execution_count": 5,
     "metadata": {},
     "output_type": "execute_result"
    }
   ],
   "source": [
    "result = run_pipeline(make_pipeline(), '2018-04-10', '2018-04-10')\n",
    "result.head(5)"
   ]
  },
  {
   "cell_type": "markdown",
   "metadata": {},
   "source": [
    "### 编码含义"
   ]
  },
  {
   "cell_type": "code",
   "execution_count": 6,
   "metadata": {
    "ExecuteTime": {
     "end_time": "2018-05-01T15:13:58.536438Z",
     "start_time": "2018-05-01T15:13:58.466487Z"
    }
   },
   "outputs": [
    {
     "data": {
      "text/plain": [
       "'广东省'"
      ]
     },
     "execution_count": 6,
     "metadata": {},
     "output_type": "execute_result"
    }
   ],
   "source": [
    "# 查询编码含义\n",
    "Fundamentals.region_cname(11)"
   ]
  },
  {
   "cell_type": "markdown",
   "metadata": {
    "ExecuteTime": {
     "end_time": "2018-05-01T08:37:27.278499Z",
     "start_time": "2018-05-01T08:37:27.272636Z"
    }
   },
   "source": [
    "### 模糊查询编码"
   ]
  },
  {
   "cell_type": "code",
   "execution_count": 7,
   "metadata": {
    "ExecuteTime": {
     "end_time": "2018-05-01T15:13:58.611770Z",
     "start_time": "2018-05-01T15:13:58.539031Z"
    }
   },
   "outputs": [
    {
     "data": {
      "text/plain": [
       "{'13': '新疆维吾尔自治区'}"
      ]
     },
     "execution_count": 7,
     "metadata": {},
     "output_type": "execute_result"
    }
   ],
   "source": [
    "Fundamentals.region_code('新疆')"
   ]
  },
  {
   "cell_type": "markdown",
   "metadata": {},
   "source": [
    "### 过滤器"
   ]
  },
  {
   "cell_type": "code",
   "execution_count": 8,
   "metadata": {
    "ExecuteTime": {
     "end_time": "2018-05-01T15:13:58.622488Z",
     "start_time": "2018-05-01T15:13:58.615226Z"
    }
   },
   "outputs": [],
   "source": [
    "def make_pipeline():\n",
    "    gd_filter = Fundamentals.info.region.latest.eq(13)\n",
    "    return Pipeline(\n",
    "        columns={\n",
    "            '地区编码': Fundamentals.info.region.latest,\n",
    "            '收盘价': CNEquityPricing.close.latest,\n",
    "        },\n",
    "        screen=gd_filter\n",
    "    )"
   ]
  },
  {
   "cell_type": "code",
   "execution_count": 9,
   "metadata": {
    "ExecuteTime": {
     "end_time": "2018-05-01T15:13:58.966075Z",
     "start_time": "2018-05-01T15:13:58.626067Z"
    }
   },
   "outputs": [
    {
     "data": {
      "text/html": [
       "<div>\n",
       "<style scoped>\n",
       "    .dataframe tbody tr th:only-of-type {\n",
       "        vertical-align: middle;\n",
       "    }\n",
       "\n",
       "    .dataframe tbody tr th {\n",
       "        vertical-align: top;\n",
       "    }\n",
       "\n",
       "    .dataframe thead th {\n",
       "        text-align: right;\n",
       "    }\n",
       "</style>\n",
       "<table border=\"1\" class=\"dataframe\">\n",
       "  <thead>\n",
       "    <tr style=\"text-align: right;\">\n",
       "      <th></th>\n",
       "      <th></th>\n",
       "      <th>地区编码</th>\n",
       "      <th>收盘价</th>\n",
       "    </tr>\n",
       "  </thead>\n",
       "  <tbody>\n",
       "    <tr>\n",
       "      <th rowspan=\"38\" valign=\"top\">2018-04-10 00:00:00+00:00</th>\n",
       "      <th>国际实业(000159)</th>\n",
       "      <td>13</td>\n",
       "      <td>4.57</td>\n",
       "    </tr>\n",
       "    <tr>\n",
       "      <th>渤海金控(000415)</th>\n",
       "      <td>13</td>\n",
       "      <td>5.84</td>\n",
       "    </tr>\n",
       "    <tr>\n",
       "      <th>德展健康(000813)</th>\n",
       "      <td>13</td>\n",
       "      <td>9.34</td>\n",
       "    </tr>\n",
       "    <tr>\n",
       "      <th>天山股份(000877)</th>\n",
       "      <td>13</td>\n",
       "      <td>10.24</td>\n",
       "    </tr>\n",
       "    <tr>\n",
       "      <th>*ST中基(000972)</th>\n",
       "      <td>13</td>\n",
       "      <td>4.04</td>\n",
       "    </tr>\n",
       "    <tr>\n",
       "      <th>中泰化学(002092)</th>\n",
       "      <td>13</td>\n",
       "      <td>11.67</td>\n",
       "    </tr>\n",
       "    <tr>\n",
       "      <th>天康生物(002100)</th>\n",
       "      <td>13</td>\n",
       "      <td>7.80</td>\n",
       "    </tr>\n",
       "    <tr>\n",
       "      <th>金风科技(002202)</th>\n",
       "      <td>13</td>\n",
       "      <td>16.99</td>\n",
       "    </tr>\n",
       "    <tr>\n",
       "      <th>国统股份(002205)</th>\n",
       "      <td>13</td>\n",
       "      <td>15.96</td>\n",
       "    </tr>\n",
       "    <tr>\n",
       "      <th>*ST准油(002207)</th>\n",
       "      <td>13</td>\n",
       "      <td>7.50</td>\n",
       "    </tr>\n",
       "    <tr>\n",
       "      <th>西部建设(002302)</th>\n",
       "      <td>13</td>\n",
       "      <td>15.39</td>\n",
       "    </tr>\n",
       "    <tr>\n",
       "      <th>北新路桥(002307)</th>\n",
       "      <td>13</td>\n",
       "      <td>10.25</td>\n",
       "    </tr>\n",
       "    <tr>\n",
       "      <th>光正集团(002524)</th>\n",
       "      <td>13</td>\n",
       "      <td>6.35</td>\n",
       "    </tr>\n",
       "    <tr>\n",
       "      <th>新疆浩源(002700)</th>\n",
       "      <td>13</td>\n",
       "      <td>8.23</td>\n",
       "    </tr>\n",
       "    <tr>\n",
       "      <th>西部牧业(300106)</th>\n",
       "      <td>13</td>\n",
       "      <td>6.85</td>\n",
       "    </tr>\n",
       "    <tr>\n",
       "      <th>新研股份(300159)</th>\n",
       "      <td>13</td>\n",
       "      <td>9.98</td>\n",
       "    </tr>\n",
       "    <tr>\n",
       "      <th>天山生物(300313)</th>\n",
       "      <td>13</td>\n",
       "      <td>10.08</td>\n",
       "    </tr>\n",
       "    <tr>\n",
       "      <th>新疆天业(600075)</th>\n",
       "      <td>13</td>\n",
       "      <td>6.82</td>\n",
       "    </tr>\n",
       "    <tr>\n",
       "      <th>中葡股份(600084)</th>\n",
       "      <td>13</td>\n",
       "      <td>7.52</td>\n",
       "    </tr>\n",
       "    <tr>\n",
       "      <th>特变电工(600089)</th>\n",
       "      <td>13</td>\n",
       "      <td>8.72</td>\n",
       "    </tr>\n",
       "    <tr>\n",
       "      <th>同济堂(600090)</th>\n",
       "      <td>13</td>\n",
       "      <td>7.78</td>\n",
       "    </tr>\n",
       "    <tr>\n",
       "      <th>伊力特(600197)</th>\n",
       "      <td>13</td>\n",
       "      <td>19.30</td>\n",
       "    </tr>\n",
       "    <tr>\n",
       "      <th>冠农股份(600251)</th>\n",
       "      <td>13</td>\n",
       "      <td>7.54</td>\n",
       "    </tr>\n",
       "    <tr>\n",
       "      <th>广汇能源(600256)</th>\n",
       "      <td>13</td>\n",
       "      <td>4.19</td>\n",
       "    </tr>\n",
       "    <tr>\n",
       "      <th>美克家居(600337)</th>\n",
       "      <td>13</td>\n",
       "      <td>5.33</td>\n",
       "    </tr>\n",
       "    <tr>\n",
       "      <th>中油工程(600339)</th>\n",
       "      <td>13</td>\n",
       "      <td>4.05</td>\n",
       "    </tr>\n",
       "    <tr>\n",
       "      <th>新农开发(600359)</th>\n",
       "      <td>13</td>\n",
       "      <td>7.20</td>\n",
       "    </tr>\n",
       "    <tr>\n",
       "      <th>天润乳业(600419)</th>\n",
       "      <td>13</td>\n",
       "      <td>42.82</td>\n",
       "    </tr>\n",
       "    <tr>\n",
       "      <th>*ST青松(600425)</th>\n",
       "      <td>13</td>\n",
       "      <td>3.56</td>\n",
       "    </tr>\n",
       "    <tr>\n",
       "      <th>香梨股份(600506)</th>\n",
       "      <td>13</td>\n",
       "      <td>14.72</td>\n",
       "    </tr>\n",
       "    <tr>\n",
       "      <th>天富能源(600509)</th>\n",
       "      <td>13</td>\n",
       "      <td>5.95</td>\n",
       "    </tr>\n",
       "    <tr>\n",
       "      <th>新赛股份(600540)</th>\n",
       "      <td>13</td>\n",
       "      <td>4.95</td>\n",
       "    </tr>\n",
       "    <tr>\n",
       "      <th>卓郎智能(600545)</th>\n",
       "      <td>13</td>\n",
       "      <td>9.24</td>\n",
       "    </tr>\n",
       "    <tr>\n",
       "      <th>八一钢铁(600581)</th>\n",
       "      <td>13</td>\n",
       "      <td>12.09</td>\n",
       "    </tr>\n",
       "    <tr>\n",
       "      <th>百花村(600721)</th>\n",
       "      <td>13</td>\n",
       "      <td>10.75</td>\n",
       "    </tr>\n",
       "    <tr>\n",
       "      <th>中粮糖业(600737)</th>\n",
       "      <td>13</td>\n",
       "      <td>7.72</td>\n",
       "    </tr>\n",
       "    <tr>\n",
       "      <th>*ST友好(600778)</th>\n",
       "      <td>13</td>\n",
       "      <td>5.04</td>\n",
       "    </tr>\n",
       "    <tr>\n",
       "      <th>新疆众和(600888)</th>\n",
       "      <td>13</td>\n",
       "      <td>5.71</td>\n",
       "    </tr>\n",
       "  </tbody>\n",
       "</table>\n",
       "</div>"
      ],
      "text/plain": [
       "                                         地区编码    收盘价\n",
       "2018-04-10 00:00:00+00:00 国际实业(000159)     13   4.57\n",
       "                          渤海金控(000415)     13   5.84\n",
       "                          德展健康(000813)     13   9.34\n",
       "                          天山股份(000877)     13  10.24\n",
       "                          *ST中基(000972)    13   4.04\n",
       "                          中泰化学(002092)     13  11.67\n",
       "                          天康生物(002100)     13   7.80\n",
       "                          金风科技(002202)     13  16.99\n",
       "                          国统股份(002205)     13  15.96\n",
       "                          *ST准油(002207)    13   7.50\n",
       "                          西部建设(002302)     13  15.39\n",
       "                          北新路桥(002307)     13  10.25\n",
       "                          光正集团(002524)     13   6.35\n",
       "                          新疆浩源(002700)     13   8.23\n",
       "                          西部牧业(300106)     13   6.85\n",
       "                          新研股份(300159)     13   9.98\n",
       "                          天山生物(300313)     13  10.08\n",
       "                          新疆天业(600075)     13   6.82\n",
       "                          中葡股份(600084)     13   7.52\n",
       "                          特变电工(600089)     13   8.72\n",
       "                          同济堂(600090)      13   7.78\n",
       "                          伊力特(600197)      13  19.30\n",
       "                          冠农股份(600251)     13   7.54\n",
       "                          广汇能源(600256)     13   4.19\n",
       "                          美克家居(600337)     13   5.33\n",
       "                          中油工程(600339)     13   4.05\n",
       "                          新农开发(600359)     13   7.20\n",
       "                          天润乳业(600419)     13  42.82\n",
       "                          *ST青松(600425)    13   3.56\n",
       "                          香梨股份(600506)     13  14.72\n",
       "                          天富能源(600509)     13   5.95\n",
       "                          新赛股份(600540)     13   4.95\n",
       "                          卓郎智能(600545)     13   9.24\n",
       "                          八一钢铁(600581)     13  12.09\n",
       "                          百花村(600721)      13  10.75\n",
       "                          中粮糖业(600737)     13   7.72\n",
       "                          *ST友好(600778)    13   5.04\n",
       "                          新疆众和(600888)     13   5.71"
      ]
     },
     "execution_count": 9,
     "metadata": {},
     "output_type": "execute_result"
    }
   ],
   "source": [
    "result = run_pipeline(make_pipeline(), '2018-04-10', '2018-04-10')\n",
    "result"
   ]
  },
  {
   "cell_type": "markdown",
   "metadata": {},
   "source": [
    "## 行业分类"
   ]
  },
  {
   "cell_type": "markdown",
   "metadata": {},
   "source": [
    "### 证监会行业分类"
   ]
  },
  {
   "cell_type": "markdown",
   "metadata": {},
   "source": [
    "#### 映射表"
   ]
  },
  {
   "cell_type": "code",
   "execution_count": 10,
   "metadata": {
    "ExecuteTime": {
     "end_time": "2018-05-01T15:13:58.983488Z",
     "start_time": "2018-05-01T15:13:58.970652Z"
    }
   },
   "outputs": [
    {
     "data": {
      "text/plain": [
       "{'0': '交通运输、仓储业',\n",
       " '1': '传播与文化产业',\n",
       " '2': '信息技术业',\n",
       " '3': '农、林、牧、渔业',\n",
       " '4': '制造业',\n",
       " '5': '建筑业',\n",
       " '6': '房地产业',\n",
       " '7': '批发和零售贸易',\n",
       " '8': '电力、煤气及水的生产和供应业',\n",
       " '9': '社会服务业',\n",
       " '10': '综合类',\n",
       " '11': '采掘业',\n",
       " '12': '金融、保险业'}"
      ]
     },
     "execution_count": 10,
     "metadata": {},
     "output_type": "execute_result"
    }
   ],
   "source": [
    "Fundamentals.csrc_industry_maps"
   ]
  },
  {
   "cell_type": "markdown",
   "metadata": {},
   "source": [
    "#### 查询编码含义"
   ]
  },
  {
   "cell_type": "code",
   "execution_count": 11,
   "metadata": {
    "ExecuteTime": {
     "end_time": "2018-05-01T15:13:59.063424Z",
     "start_time": "2018-05-01T15:13:58.989776Z"
    }
   },
   "outputs": [
    {
     "data": {
      "text/plain": [
       "'交通运输、仓储业'"
      ]
     },
     "execution_count": 11,
     "metadata": {},
     "output_type": "execute_result"
    }
   ],
   "source": [
    "# 编码从0开始\n",
    "\n",
    "Fundamentals.csrc_industry_cname(0)"
   ]
  },
  {
   "cell_type": "markdown",
   "metadata": {},
   "source": [
    "#### 模糊查询编码"
   ]
  },
  {
   "cell_type": "code",
   "execution_count": 12,
   "metadata": {
    "ExecuteTime": {
     "end_time": "2018-05-01T15:13:59.139267Z",
     "start_time": "2018-05-01T15:13:59.066432Z"
    }
   },
   "outputs": [
    {
     "data": {
      "text/plain": [
       "{'10': '综合类'}"
      ]
     },
     "execution_count": 12,
     "metadata": {},
     "output_type": "execute_result"
    }
   ],
   "source": [
    "Fundamentals.csrc_industry_code('综合类')"
   ]
  },
  {
   "cell_type": "markdown",
   "metadata": {},
   "source": [
    "#### 过滤器"
   ]
  },
  {
   "cell_type": "code",
   "execution_count": 13,
   "metadata": {
    "ExecuteTime": {
     "end_time": "2018-05-01T15:13:59.424883Z",
     "start_time": "2018-05-01T15:13:59.141764Z"
    }
   },
   "outputs": [
    {
     "data": {
      "text/html": [
       "<div>\n",
       "<style scoped>\n",
       "    .dataframe tbody tr th:only-of-type {\n",
       "        vertical-align: middle;\n",
       "    }\n",
       "\n",
       "    .dataframe tbody tr th {\n",
       "        vertical-align: top;\n",
       "    }\n",
       "\n",
       "    .dataframe thead th {\n",
       "        text-align: right;\n",
       "    }\n",
       "</style>\n",
       "<table border=\"1\" class=\"dataframe\">\n",
       "  <thead>\n",
       "    <tr style=\"text-align: right;\">\n",
       "      <th></th>\n",
       "      <th></th>\n",
       "      <th>收盘价</th>\n",
       "    </tr>\n",
       "  </thead>\n",
       "  <tbody>\n",
       "    <tr>\n",
       "      <th rowspan=\"61\" valign=\"top\">2018-04-10 00:00:00+00:00</th>\n",
       "      <th>世纪星源(000005)</th>\n",
       "      <td>3.76</td>\n",
       "    </tr>\n",
       "    <tr>\n",
       "      <th>中国宝安(000009)</th>\n",
       "      <td>6.26</td>\n",
       "    </tr>\n",
       "    <tr>\n",
       "      <th>深物业A(000011)</th>\n",
       "      <td>15.29</td>\n",
       "    </tr>\n",
       "    <tr>\n",
       "      <th>特 力Ａ(000025)</th>\n",
       "      <td>36.75</td>\n",
       "    </tr>\n",
       "    <tr>\n",
       "      <th>神州数码(000034)</th>\n",
       "      <td>21.60</td>\n",
       "    </tr>\n",
       "    <tr>\n",
       "      <th>东旭蓝天(000040)</th>\n",
       "      <td>11.65</td>\n",
       "    </tr>\n",
       "    <tr>\n",
       "      <th>中航地产(000043)</th>\n",
       "      <td>9.10</td>\n",
       "    </tr>\n",
       "    <tr>\n",
       "      <th>深 赛 格(000058)</th>\n",
       "      <td>6.33</td>\n",
       "    </tr>\n",
       "    <tr>\n",
       "      <th>深圳华强(000062)</th>\n",
       "      <td>18.91</td>\n",
       "    </tr>\n",
       "    <tr>\n",
       "      <th>东方市场(000301)</th>\n",
       "      <td>6.75</td>\n",
       "    </tr>\n",
       "    <tr>\n",
       "      <th>海虹控股(000503)</th>\n",
       "      <td>42.31</td>\n",
       "    </tr>\n",
       "    <tr>\n",
       "      <th>珠海港(000507)</th>\n",
       "      <td>9.32</td>\n",
       "    </tr>\n",
       "    <tr>\n",
       "      <th>*ST紫学(000526)</th>\n",
       "      <td>28.18</td>\n",
       "    </tr>\n",
       "    <tr>\n",
       "      <th>华金资本(000532)</th>\n",
       "      <td>13.48</td>\n",
       "    </tr>\n",
       "    <tr>\n",
       "      <th>广宇发展(000537)</th>\n",
       "      <td>12.36</td>\n",
       "    </tr>\n",
       "    <tr>\n",
       "      <th>中天金融(000540)</th>\n",
       "      <td>7.35</td>\n",
       "    </tr>\n",
       "    <tr>\n",
       "      <th>海德股份(000567)</th>\n",
       "      <td>26.90</td>\n",
       "    </tr>\n",
       "    <tr>\n",
       "      <th>海马汽车(000572)</th>\n",
       "      <td>4.04</td>\n",
       "    </tr>\n",
       "    <tr>\n",
       "      <th>粤宏远Ａ(000573)</th>\n",
       "      <td>4.70</td>\n",
       "    </tr>\n",
       "    <tr>\n",
       "      <th>广东甘化(000576)</th>\n",
       "      <td>20.33</td>\n",
       "    </tr>\n",
       "    <tr>\n",
       "      <th>哈工智能(000584)</th>\n",
       "      <td>13.89</td>\n",
       "    </tr>\n",
       "    <tr>\n",
       "      <th>建投能源(000600)</th>\n",
       "      <td>6.78</td>\n",
       "    </tr>\n",
       "    <tr>\n",
       "      <th>远大控股(000626)</th>\n",
       "      <td>11.29</td>\n",
       "    </tr>\n",
       "    <tr>\n",
       "      <th>三木集团(000632)</th>\n",
       "      <td>5.85</td>\n",
       "    </tr>\n",
       "    <tr>\n",
       "      <th>合金投资(000633)</th>\n",
       "      <td>8.33</td>\n",
       "    </tr>\n",
       "    <tr>\n",
       "      <th>万方发展(000638)</th>\n",
       "      <td>8.78</td>\n",
       "    </tr>\n",
       "    <tr>\n",
       "      <th>泰达股份(000652)</th>\n",
       "      <td>4.45</td>\n",
       "    </tr>\n",
       "    <tr>\n",
       "      <th>天夏智慧(000662)</th>\n",
       "      <td>13.21</td>\n",
       "    </tr>\n",
       "    <tr>\n",
       "      <th>阳 光 城(000671)</th>\n",
       "      <td>7.69</td>\n",
       "    </tr>\n",
       "    <tr>\n",
       "      <th>东北证券(000686)</th>\n",
       "      <td>7.85</td>\n",
       "    </tr>\n",
       "    <tr>\n",
       "      <th>...</th>\n",
       "      <td>...</td>\n",
       "    </tr>\n",
       "    <tr>\n",
       "      <th>游久游戏(600652)</th>\n",
       "      <td>6.96</td>\n",
       "    </tr>\n",
       "    <tr>\n",
       "      <th>申华控股(600653)</th>\n",
       "      <td>2.29</td>\n",
       "    </tr>\n",
       "    <tr>\n",
       "      <th>新南洋(600661)</th>\n",
       "      <td>27.47</td>\n",
       "    </tr>\n",
       "    <tr>\n",
       "      <th>刚泰控股(600687)</th>\n",
       "      <td>10.72</td>\n",
       "    </tr>\n",
       "    <tr>\n",
       "      <th>工大高新(600701)</th>\n",
       "      <td>9.22</td>\n",
       "    </tr>\n",
       "    <tr>\n",
       "      <th>中航资本(600705)</th>\n",
       "      <td>5.28</td>\n",
       "    </tr>\n",
       "    <tr>\n",
       "      <th>光明地产(600708)</th>\n",
       "      <td>6.76</td>\n",
       "    </tr>\n",
       "    <tr>\n",
       "      <th>盛屯矿业(600711)</th>\n",
       "      <td>8.65</td>\n",
       "    </tr>\n",
       "    <tr>\n",
       "      <th>中国高科(600730)</th>\n",
       "      <td>6.14</td>\n",
       "    </tr>\n",
       "    <tr>\n",
       "      <th>华远地产(600743)</th>\n",
       "      <td>3.36</td>\n",
       "    </tr>\n",
       "    <tr>\n",
       "      <th>闻泰科技(600745)</th>\n",
       "      <td>28.61</td>\n",
       "    </tr>\n",
       "    <tr>\n",
       "      <th>洲际油气(600759)</th>\n",
       "      <td>3.94</td>\n",
       "    </tr>\n",
       "    <tr>\n",
       "      <th>综艺股份(600770)</th>\n",
       "      <td>6.96</td>\n",
       "    </tr>\n",
       "    <tr>\n",
       "      <th>新潮能源(600777)</th>\n",
       "      <td>3.25</td>\n",
       "    </tr>\n",
       "    <tr>\n",
       "      <th>鲁银投资(600784)</th>\n",
       "      <td>5.46</td>\n",
       "    </tr>\n",
       "    <tr>\n",
       "      <th>轻纺城(600790)</th>\n",
       "      <td>5.60</td>\n",
       "    </tr>\n",
       "    <tr>\n",
       "      <th>悦达投资(600805)</th>\n",
       "      <td>5.60</td>\n",
       "    </tr>\n",
       "    <tr>\n",
       "      <th>东方集团(600811)</th>\n",
       "      <td>4.50</td>\n",
       "    </tr>\n",
       "    <tr>\n",
       "      <th>同济科技(600846)</th>\n",
       "      <td>8.83</td>\n",
       "    </tr>\n",
       "    <tr>\n",
       "      <th>银座股份(600858)</th>\n",
       "      <td>7.25</td>\n",
       "    </tr>\n",
       "    <tr>\n",
       "      <th>梅雁吉祥(600868)</th>\n",
       "      <td>4.33</td>\n",
       "    </tr>\n",
       "    <tr>\n",
       "      <th>中炬高新(600872)</th>\n",
       "      <td>25.75</td>\n",
       "    </tr>\n",
       "    <tr>\n",
       "      <th>亚泰集团(600881)</th>\n",
       "      <td>4.57</td>\n",
       "    </tr>\n",
       "    <tr>\n",
       "      <th>博闻科技(600883)</th>\n",
       "      <td>9.28</td>\n",
       "    </tr>\n",
       "    <tr>\n",
       "      <th>大晟文化(600892)</th>\n",
       "      <td>9.54</td>\n",
       "    </tr>\n",
       "    <tr>\n",
       "      <th>张江高科(600895)</th>\n",
       "      <td>13.70</td>\n",
       "    </tr>\n",
       "    <tr>\n",
       "      <th>中国中冶(601618)</th>\n",
       "      <td>3.80</td>\n",
       "    </tr>\n",
       "    <tr>\n",
       "      <th>滨化股份(601678)</th>\n",
       "      <td>8.69</td>\n",
       "    </tr>\n",
       "    <tr>\n",
       "      <th>际华集团(601718)</th>\n",
       "      <td>5.32</td>\n",
       "    </tr>\n",
       "    <tr>\n",
       "      <th>人民网(603000)</th>\n",
       "      <td>10.96</td>\n",
       "    </tr>\n",
       "  </tbody>\n",
       "</table>\n",
       "<p>104 rows × 1 columns</p>\n",
       "</div>"
      ],
      "text/plain": [
       "                                           收盘价\n",
       "2018-04-10 00:00:00+00:00 世纪星源(000005)    3.76\n",
       "                          中国宝安(000009)    6.26\n",
       "                          深物业A(000011)   15.29\n",
       "                          特 力Ａ(000025)   36.75\n",
       "                          神州数码(000034)   21.60\n",
       "                          东旭蓝天(000040)   11.65\n",
       "                          中航地产(000043)    9.10\n",
       "                          深 赛 格(000058)   6.33\n",
       "                          深圳华强(000062)   18.91\n",
       "                          东方市场(000301)    6.75\n",
       "                          海虹控股(000503)   42.31\n",
       "                          珠海港(000507)     9.32\n",
       "                          *ST紫学(000526)  28.18\n",
       "                          华金资本(000532)   13.48\n",
       "                          广宇发展(000537)   12.36\n",
       "                          中天金融(000540)    7.35\n",
       "                          海德股份(000567)   26.90\n",
       "                          海马汽车(000572)    4.04\n",
       "                          粤宏远Ａ(000573)    4.70\n",
       "                          广东甘化(000576)   20.33\n",
       "                          哈工智能(000584)   13.89\n",
       "                          建投能源(000600)    6.78\n",
       "                          远大控股(000626)   11.29\n",
       "                          三木集团(000632)    5.85\n",
       "                          合金投资(000633)    8.33\n",
       "                          万方发展(000638)    8.78\n",
       "                          泰达股份(000652)    4.45\n",
       "                          天夏智慧(000662)   13.21\n",
       "                          阳 光 城(000671)   7.69\n",
       "                          东北证券(000686)    7.85\n",
       "...                                        ...\n",
       "                          游久游戏(600652)    6.96\n",
       "                          申华控股(600653)    2.29\n",
       "                          新南洋(600661)    27.47\n",
       "                          刚泰控股(600687)   10.72\n",
       "                          工大高新(600701)    9.22\n",
       "                          中航资本(600705)    5.28\n",
       "                          光明地产(600708)    6.76\n",
       "                          盛屯矿业(600711)    8.65\n",
       "                          中国高科(600730)    6.14\n",
       "                          华远地产(600743)    3.36\n",
       "                          闻泰科技(600745)   28.61\n",
       "                          洲际油气(600759)    3.94\n",
       "                          综艺股份(600770)    6.96\n",
       "                          新潮能源(600777)    3.25\n",
       "                          鲁银投资(600784)    5.46\n",
       "                          轻纺城(600790)     5.60\n",
       "                          悦达投资(600805)    5.60\n",
       "                          东方集团(600811)    4.50\n",
       "                          同济科技(600846)    8.83\n",
       "                          银座股份(600858)    7.25\n",
       "                          梅雁吉祥(600868)    4.33\n",
       "                          中炬高新(600872)   25.75\n",
       "                          亚泰集团(600881)    4.57\n",
       "                          博闻科技(600883)    9.28\n",
       "                          大晟文化(600892)    9.54\n",
       "                          张江高科(600895)   13.70\n",
       "                          中国中冶(601618)    3.80\n",
       "                          滨化股份(601678)    8.69\n",
       "                          际华集团(601718)    5.32\n",
       "                          人民网(603000)    10.96\n",
       "\n",
       "[104 rows x 1 columns]"
      ]
     },
     "execution_count": 13,
     "metadata": {},
     "output_type": "execute_result"
    }
   ],
   "source": [
    "def make_pipeline():\n",
    "    zh_filter = Fundamentals.info.csrc_industry.latest.eq(10)\n",
    "    return Pipeline(\n",
    "        columns={\n",
    "            '收盘价': CNEquityPricing.close.latest,\n",
    "        }, screen=zh_filter)\n",
    "\n",
    "\n",
    "run_pipeline(make_pipeline(), '2018-04-10', '2018-04-10')"
   ]
  },
  {
   "cell_type": "markdown",
   "metadata": {},
   "source": [
    "### 同花顺行业分类"
   ]
  },
  {
   "cell_type": "markdown",
   "metadata": {},
   "source": [
    "#### 映射表"
   ]
  },
  {
   "cell_type": "code",
   "execution_count": 14,
   "metadata": {
    "ExecuteTime": {
     "end_time": "2018-05-01T15:13:59.435882Z",
     "start_time": "2018-05-01T15:13:59.428369Z"
    }
   },
   "outputs": [
    {
     "data": {
      "text/plain": [
       "{'0': '专用设备',\n",
       " '1': '中药',\n",
       " '2': '交运设备服务',\n",
       " '3': '传媒',\n",
       " '4': '保险及其他',\n",
       " '5': '光学光电子',\n",
       " '6': '公交',\n",
       " '7': '公路铁路运输',\n",
       " '8': '其他电子',\n",
       " '9': '养殖业',\n",
       " '10': '农业服务',\n",
       " '11': '农产品加工',\n",
       " '12': '包装印刷',\n",
       " '13': '化学制品',\n",
       " '14': '化学制药',\n",
       " '15': '化工合成材料',\n",
       " '16': '化工新材料',\n",
       " '17': '医疗器械服务',\n",
       " '18': '医药商业',\n",
       " '19': '半导体及元件',\n",
       " '20': '园区开发',\n",
       " '21': '基础化学',\n",
       " '22': '家用轻工',\n",
       " '23': '建筑材料',\n",
       " '24': '建筑装饰',\n",
       " '25': '房地产开发',\n",
       " '26': '新材料',\n",
       " '27': '景点及旅游',\n",
       " '28': '有色冶炼加工',\n",
       " '29': '服装家纺',\n",
       " '30': '机场航运',\n",
       " '31': '汽车整车',\n",
       " '32': '汽车零部件',\n",
       " '33': '港口航运',\n",
       " '34': '煤炭开采',\n",
       " '35': '燃气水务',\n",
       " '36': '物流',\n",
       " '37': '环保工程',\n",
       " '38': '生物制品',\n",
       " '39': '电力',\n",
       " '40': '电子制造',\n",
       " '41': '电气设备',\n",
       " '42': '白色家电',\n",
       " '43': '石油矿业开采',\n",
       " '44': '种植业与林业',\n",
       " '45': '纺织制造',\n",
       " '46': '综合',\n",
       " '47': '视听器材',\n",
       " '48': '计算机应用',\n",
       " '49': '计算机设备',\n",
       " '50': '证券',\n",
       " '51': '贸易',\n",
       " '52': '通信服务',\n",
       " '53': '通信设备',\n",
       " '54': '通用机械',\n",
       " '55': '造纸',\n",
       " '56': '酒店及餐饮',\n",
       " '57': '采掘服务',\n",
       " '58': '金属制品',\n",
       " '59': '钢铁',\n",
       " '60': '银行',\n",
       " '61': '零售',\n",
       " '62': '非汽车交运',\n",
       " '63': '食品加工制造',\n",
       " '64': '饮料制造'}"
      ]
     },
     "execution_count": 14,
     "metadata": {},
     "output_type": "execute_result"
    }
   ],
   "source": [
    "Fundamentals.ths_industry_maps"
   ]
  },
  {
   "cell_type": "markdown",
   "metadata": {},
   "source": [
    "#### 查询编码含义"
   ]
  },
  {
   "cell_type": "code",
   "execution_count": 15,
   "metadata": {
    "ExecuteTime": {
     "end_time": "2018-05-01T15:13:59.546566Z",
     "start_time": "2018-05-01T15:13:59.439998Z"
    }
   },
   "outputs": [
    {
     "data": {
      "text/plain": [
       "'交运设备服务'"
      ]
     },
     "execution_count": 15,
     "metadata": {},
     "output_type": "execute_result"
    }
   ],
   "source": [
    "Fundamentals.ths_industry_cname(2)"
   ]
  },
  {
   "cell_type": "markdown",
   "metadata": {},
   "source": [
    "#### 模糊查询编码"
   ]
  },
  {
   "cell_type": "code",
   "execution_count": 16,
   "metadata": {
    "ExecuteTime": {
     "end_time": "2018-05-01T15:13:59.630867Z",
     "start_time": "2018-05-01T15:13:59.550479Z"
    }
   },
   "outputs": [
    {
     "data": {
      "text/plain": [
       "{'51': '贸易'}"
      ]
     },
     "execution_count": 16,
     "metadata": {},
     "output_type": "execute_result"
    }
   ],
   "source": [
    "Fundamentals.ths_industry_code('贸')"
   ]
  },
  {
   "cell_type": "markdown",
   "metadata": {},
   "source": [
    "#### 过滤器"
   ]
  },
  {
   "cell_type": "code",
   "execution_count": 17,
   "metadata": {
    "ExecuteTime": {
     "end_time": "2018-05-01T15:13:59.962199Z",
     "start_time": "2018-05-01T15:13:59.634574Z"
    }
   },
   "outputs": [
    {
     "data": {
      "text/html": [
       "<div>\n",
       "<style scoped>\n",
       "    .dataframe tbody tr th:only-of-type {\n",
       "        vertical-align: middle;\n",
       "    }\n",
       "\n",
       "    .dataframe tbody tr th {\n",
       "        vertical-align: top;\n",
       "    }\n",
       "\n",
       "    .dataframe thead th {\n",
       "        text-align: right;\n",
       "    }\n",
       "</style>\n",
       "<table border=\"1\" class=\"dataframe\">\n",
       "  <thead>\n",
       "    <tr style=\"text-align: right;\">\n",
       "      <th></th>\n",
       "      <th></th>\n",
       "      <th>收盘价</th>\n",
       "    </tr>\n",
       "  </thead>\n",
       "  <tbody>\n",
       "    <tr>\n",
       "      <th rowspan=\"19\" valign=\"top\">2018-04-10 00:00:00+00:00</th>\n",
       "      <th>张家界(000430)</th>\n",
       "      <td>8.29</td>\n",
       "    </tr>\n",
       "    <tr>\n",
       "      <th>西安旅游(000610)</th>\n",
       "      <td>10.13</td>\n",
       "    </tr>\n",
       "    <tr>\n",
       "      <th>北京文化(000802)</th>\n",
       "      <td>11.56</td>\n",
       "    </tr>\n",
       "    <tr>\n",
       "      <th>峨眉山Ａ(000888)</th>\n",
       "      <td>9.62</td>\n",
       "    </tr>\n",
       "    <tr>\n",
       "      <th>桂林旅游(000978)</th>\n",
       "      <td>7.56</td>\n",
       "    </tr>\n",
       "    <tr>\n",
       "      <th>丽江旅游(002033)</th>\n",
       "      <td>8.40</td>\n",
       "    </tr>\n",
       "    <tr>\n",
       "      <th>三特索道(002159)</th>\n",
       "      <td>19.41</td>\n",
       "    </tr>\n",
       "    <tr>\n",
       "      <th>巨人网络(002558)</th>\n",
       "      <td>31.17</td>\n",
       "    </tr>\n",
       "    <tr>\n",
       "      <th>宋城演艺(300144)</th>\n",
       "      <td>20.53</td>\n",
       "    </tr>\n",
       "    <tr>\n",
       "      <th>黄山旅游(600054)</th>\n",
       "      <td>13.01</td>\n",
       "    </tr>\n",
       "    <tr>\n",
       "      <th>中青旅(600138)</th>\n",
       "      <td>23.70</td>\n",
       "    </tr>\n",
       "    <tr>\n",
       "      <th>*ST罗顿(600209)</th>\n",
       "      <td>10.41</td>\n",
       "    </tr>\n",
       "    <tr>\n",
       "      <th>首旅酒店(600258)</th>\n",
       "      <td>29.02</td>\n",
       "    </tr>\n",
       "    <tr>\n",
       "      <th>国旅联合(600358)</th>\n",
       "      <td>6.84</td>\n",
       "    </tr>\n",
       "    <tr>\n",
       "      <th>海航创新(600555)</th>\n",
       "      <td>5.07</td>\n",
       "    </tr>\n",
       "    <tr>\n",
       "      <th>大连圣亚(600593)</th>\n",
       "      <td>31.58</td>\n",
       "    </tr>\n",
       "    <tr>\n",
       "      <th>曲江文旅(600706)</th>\n",
       "      <td>17.93</td>\n",
       "    </tr>\n",
       "    <tr>\n",
       "      <th>西藏旅游(600749)</th>\n",
       "      <td>16.01</td>\n",
       "    </tr>\n",
       "    <tr>\n",
       "      <th>中国国旅(601888)</th>\n",
       "      <td>52.98</td>\n",
       "    </tr>\n",
       "  </tbody>\n",
       "</table>\n",
       "</div>"
      ],
      "text/plain": [
       "                                           收盘价\n",
       "2018-04-10 00:00:00+00:00 张家界(000430)     8.29\n",
       "                          西安旅游(000610)   10.13\n",
       "                          北京文化(000802)   11.56\n",
       "                          峨眉山Ａ(000888)    9.62\n",
       "                          桂林旅游(000978)    7.56\n",
       "                          丽江旅游(002033)    8.40\n",
       "                          三特索道(002159)   19.41\n",
       "                          巨人网络(002558)   31.17\n",
       "                          宋城演艺(300144)   20.53\n",
       "                          黄山旅游(600054)   13.01\n",
       "                          中青旅(600138)    23.70\n",
       "                          *ST罗顿(600209)  10.41\n",
       "                          首旅酒店(600258)   29.02\n",
       "                          国旅联合(600358)    6.84\n",
       "                          海航创新(600555)    5.07\n",
       "                          大连圣亚(600593)   31.58\n",
       "                          曲江文旅(600706)   17.93\n",
       "                          西藏旅游(600749)   16.01\n",
       "                          中国国旅(601888)   52.98"
      ]
     },
     "execution_count": 17,
     "metadata": {},
     "output_type": "execute_result"
    }
   ],
   "source": [
    "def make_pipeline():\n",
    "    yy_filter = Fundamentals.info.ths_industry.latest.eq(27)\n",
    "    return Pipeline(\n",
    "        columns={\n",
    "            '收盘价': CNEquityPricing.close.latest,\n",
    "        }, screen=yy_filter)\n",
    "\n",
    "\n",
    "run_pipeline(make_pipeline(), '2018-04-10', '2018-04-10')"
   ]
  },
  {
   "cell_type": "markdown",
   "metadata": {},
   "source": [
    "### 国证行业分类"
   ]
  },
  {
   "cell_type": "markdown",
   "metadata": {},
   "source": [
    "#### 映射"
   ]
  },
  {
   "cell_type": "markdown",
   "metadata": {},
   "source": [
    "#### 查询编码含义"
   ]
  },
  {
   "cell_type": "code",
   "execution_count": 18,
   "metadata": {
    "ExecuteTime": {
     "end_time": "2018-05-01T15:14:00.045454Z",
     "start_time": "2018-05-01T15:13:59.965003Z"
    }
   },
   "outputs": [
    {
     "data": {
      "text/plain": [
       "'个人用品'"
      ]
     },
     "execution_count": 18,
     "metadata": {},
     "output_type": "execute_result"
    }
   ],
   "source": [
    "Fundamentals.cn_industry_cname(2)"
   ]
  },
  {
   "cell_type": "markdown",
   "metadata": {},
   "source": [
    "#### 模糊查询编码"
   ]
  },
  {
   "cell_type": "code",
   "execution_count": 19,
   "metadata": {
    "ExecuteTime": {
     "end_time": "2018-05-01T15:14:00.148577Z",
     "start_time": "2018-05-01T15:14:00.048682Z"
    }
   },
   "outputs": [
    {
     "data": {
      "text/plain": [
       "{'10': '光电子器件',\n",
       " '27': '家用电器',\n",
       " '48': '电信增值服务',\n",
       " '49': '电信运营',\n",
       " '50': '电力公用事业',\n",
       " '51': '电子元器件',\n",
       " '52': '电子设备及服务',\n",
       " '53': '电气部件与设备',\n",
       " '54': '电脑与外围设备',\n",
       " '70': '重型电气设备'}"
      ]
     },
     "execution_count": 19,
     "metadata": {},
     "output_type": "execute_result"
    }
   ],
   "source": [
    "Fundamentals.cn_industry_code('电')"
   ]
  },
  {
   "cell_type": "markdown",
   "metadata": {},
   "source": [
    "#### 过滤器"
   ]
  },
  {
   "cell_type": "code",
   "execution_count": 20,
   "metadata": {
    "ExecuteTime": {
     "end_time": "2018-05-01T15:14:00.528073Z",
     "start_time": "2018-05-01T15:14:00.151617Z"
    }
   },
   "outputs": [
    {
     "data": {
      "text/html": [
       "<div>\n",
       "<style scoped>\n",
       "    .dataframe tbody tr th:only-of-type {\n",
       "        vertical-align: middle;\n",
       "    }\n",
       "\n",
       "    .dataframe tbody tr th {\n",
       "        vertical-align: top;\n",
       "    }\n",
       "\n",
       "    .dataframe thead th {\n",
       "        text-align: right;\n",
       "    }\n",
       "</style>\n",
       "<table border=\"1\" class=\"dataframe\">\n",
       "  <thead>\n",
       "    <tr style=\"text-align: right;\">\n",
       "      <th></th>\n",
       "      <th></th>\n",
       "      <th>收盘价</th>\n",
       "    </tr>\n",
       "  </thead>\n",
       "  <tbody>\n",
       "    <tr>\n",
       "      <th rowspan=\"5\" valign=\"top\">2018-04-10 00:00:00+00:00</th>\n",
       "      <th>许继电气(000400)</th>\n",
       "      <td>10.96</td>\n",
       "    </tr>\n",
       "    <tr>\n",
       "      <th>*ST东电(000585)</th>\n",
       "      <td>2.87</td>\n",
       "    </tr>\n",
       "    <tr>\n",
       "      <th>东方电子(000682)</th>\n",
       "      <td>4.41</td>\n",
       "    </tr>\n",
       "    <tr>\n",
       "      <th>银河生物(000806)</th>\n",
       "      <td>7.62</td>\n",
       "    </tr>\n",
       "    <tr>\n",
       "      <th>思源电气(002028)</th>\n",
       "      <td>16.67</td>\n",
       "    </tr>\n",
       "  </tbody>\n",
       "</table>\n",
       "</div>"
      ],
      "text/plain": [
       "                                           收盘价\n",
       "2018-04-10 00:00:00+00:00 许继电气(000400)   10.96\n",
       "                          *ST东电(000585)   2.87\n",
       "                          东方电子(000682)    4.41\n",
       "                          银河生物(000806)    7.62\n",
       "                          思源电气(002028)   16.67"
      ]
     },
     "execution_count": 20,
     "metadata": {},
     "output_type": "execute_result"
    }
   ],
   "source": [
    "def make_pipeline():\n",
    "    yy_filter = Fundamentals.info.cn_industry.latest.eq(70)\n",
    "    return Pipeline(\n",
    "        columns={\n",
    "            '收盘价': CNEquityPricing.close.latest,\n",
    "        }, screen=yy_filter)\n",
    "\n",
    "\n",
    "run_pipeline(make_pipeline(), '2018-04-10', '2018-04-10').head()"
   ]
  },
  {
   "cell_type": "markdown",
   "metadata": {},
   "source": [
    "## `Sector` & `SuperSector`\n",
    "类似晨星分类，根据行业组特点，行业整合成为11片(`Sector`)，进一步组成三大片(`Super_sector`)。国证行业分类标准与此类似，`Sector`是在国证行业分类基础上的映射。"
   ]
  },
  {
   "cell_type": "markdown",
   "metadata": {},
   "source": [
    "### 映射"
   ]
  },
  {
   "cell_type": "code",
   "execution_count": 21,
   "metadata": {
    "ExecuteTime": {
     "end_time": "2018-05-01T15:14:00.541142Z",
     "start_time": "2018-05-01T15:14:00.531316Z"
    }
   },
   "outputs": [
    {
     "data": {
      "text/plain": [
       "{'101': '基本材料',\n",
       " '102': '主要消费',\n",
       " '103': '金融服务',\n",
       " '104': '房地产',\n",
       " '205': '可选消费',\n",
       " '206': '医疗保健',\n",
       " '207': '公用事业',\n",
       " '308': '通讯服务',\n",
       " '309': '能源',\n",
       " '310': '工业领域',\n",
       " '311': '工程技术'}"
      ]
     },
     "execution_count": 21,
     "metadata": {},
     "output_type": "execute_result"
    }
   ],
   "source": [
    "Fundamentals.sector_maps"
   ]
  },
  {
   "cell_type": "code",
   "execution_count": 22,
   "metadata": {
    "ExecuteTime": {
     "end_time": "2018-05-01T15:14:00.551792Z",
     "start_time": "2018-05-01T15:14:00.544515Z"
    }
   },
   "outputs": [
    {
     "data": {
      "text/plain": [
       "{'1': '周期', '2': '防御', '3': '敏感'}"
      ]
     },
     "execution_count": 22,
     "metadata": {},
     "output_type": "execute_result"
    }
   ],
   "source": [
    "Fundamentals.supper_sector_maps"
   ]
  },
  {
   "cell_type": "markdown",
   "metadata": {},
   "source": [
    "### 查询编码含义"
   ]
  },
  {
   "cell_type": "code",
   "execution_count": 23,
   "metadata": {
    "ExecuteTime": {
     "end_time": "2018-05-01T15:14:00.634973Z",
     "start_time": "2018-05-01T15:14:00.555165Z"
    }
   },
   "outputs": [
    {
     "data": {
      "text/plain": [
       "'可选消费'"
      ]
     },
     "execution_count": 23,
     "metadata": {},
     "output_type": "execute_result"
    }
   ],
   "source": [
    "Fundamentals.sector_cname(205)"
   ]
  },
  {
   "cell_type": "code",
   "execution_count": 24,
   "metadata": {
    "ExecuteTime": {
     "end_time": "2018-05-01T15:14:00.722022Z",
     "start_time": "2018-05-01T15:14:00.641368Z"
    }
   },
   "outputs": [
    {
     "data": {
      "text/plain": [
       "'防御'"
      ]
     },
     "execution_count": 24,
     "metadata": {},
     "output_type": "execute_result"
    }
   ],
   "source": [
    "Fundamentals.supper_sector_cname(2)"
   ]
  },
  {
   "cell_type": "markdown",
   "metadata": {},
   "source": [
    "### 模糊查询编码"
   ]
  },
  {
   "cell_type": "code",
   "execution_count": 25,
   "metadata": {
    "ExecuteTime": {
     "end_time": "2018-05-01T15:14:00.894103Z",
     "start_time": "2018-05-01T15:14:00.726582Z"
    }
   },
   "outputs": [
    {
     "data": {
      "text/plain": [
       "{'310': '工业领域', '311': '工程技术'}"
      ]
     },
     "execution_count": 25,
     "metadata": {},
     "output_type": "execute_result"
    }
   ],
   "source": [
    "Fundamentals.sector_code('工')"
   ]
  },
  {
   "cell_type": "markdown",
   "metadata": {},
   "source": [
    "### 过滤器"
   ]
  },
  {
   "cell_type": "code",
   "execution_count": 26,
   "metadata": {
    "ExecuteTime": {
     "end_time": "2018-05-01T15:14:01.257681Z",
     "start_time": "2018-05-01T15:14:00.896682Z"
    }
   },
   "outputs": [
    {
     "data": {
      "text/html": [
       "<div>\n",
       "<style scoped>\n",
       "    .dataframe tbody tr th:only-of-type {\n",
       "        vertical-align: middle;\n",
       "    }\n",
       "\n",
       "    .dataframe tbody tr th {\n",
       "        vertical-align: top;\n",
       "    }\n",
       "\n",
       "    .dataframe thead th {\n",
       "        text-align: right;\n",
       "    }\n",
       "</style>\n",
       "<table border=\"1\" class=\"dataframe\">\n",
       "  <thead>\n",
       "    <tr style=\"text-align: right;\">\n",
       "      <th></th>\n",
       "      <th></th>\n",
       "      <th>国证行业</th>\n",
       "      <th>收盘价</th>\n",
       "    </tr>\n",
       "  </thead>\n",
       "  <tbody>\n",
       "    <tr>\n",
       "      <th rowspan=\"5\" valign=\"top\">2018-04-10 00:00:00+00:00</th>\n",
       "      <th>恒为科技(603496)</th>\n",
       "      <td>67</td>\n",
       "      <td>35.34</td>\n",
       "    </tr>\n",
       "    <tr>\n",
       "      <th>中通国脉(603559)</th>\n",
       "      <td>67</td>\n",
       "      <td>34.93</td>\n",
       "    </tr>\n",
       "    <tr>\n",
       "      <th>纵横通信(603602)</th>\n",
       "      <td>66</td>\n",
       "      <td>49.92</td>\n",
       "    </tr>\n",
       "    <tr>\n",
       "      <th>七一二(603712)</th>\n",
       "      <td>67</td>\n",
       "      <td>43.81</td>\n",
       "    </tr>\n",
       "    <tr>\n",
       "      <th>瑞斯康达(603803)</th>\n",
       "      <td>67</td>\n",
       "      <td>23.76</td>\n",
       "    </tr>\n",
       "  </tbody>\n",
       "</table>\n",
       "</div>"
      ],
      "text/plain": [
       "                                        国证行业    收盘价\n",
       "2018-04-10 00:00:00+00:00 恒为科技(603496)    67  35.34\n",
       "                          中通国脉(603559)    67  34.93\n",
       "                          纵横通信(603602)    66  49.92\n",
       "                          七一二(603712)     67  43.81\n",
       "                          瑞斯康达(603803)    67  23.76"
      ]
     },
     "execution_count": 26,
     "metadata": {},
     "output_type": "execute_result"
    }
   ],
   "source": [
    "def make_pipeline():\n",
    "    tx_filter = Fundamentals.info.sector_code.latest.eq(308)\n",
    "    return Pipeline(\n",
    "        columns={\n",
    "            '收盘价': CNEquityPricing.close.latest,\n",
    "            '国证行业': Fundamentals.info.cn_industry.latest,\n",
    "        },\n",
    "        screen=tx_filter)\n",
    "\n",
    "\n",
    "run_pipeline(make_pipeline(), '2018-04-10', '2018-04-10').tail()"
   ]
  },
  {
   "cell_type": "code",
   "execution_count": 27,
   "metadata": {
    "ExecuteTime": {
     "end_time": "2018-05-01T15:14:01.340546Z",
     "start_time": "2018-05-01T15:14:01.262621Z"
    }
   },
   "outputs": [
    {
     "data": {
      "text/plain": [
       "'通信设备'"
      ]
     },
     "execution_count": 27,
     "metadata": {},
     "output_type": "execute_result"
    }
   ],
   "source": [
    "Fundamentals.cn_industry_cname(67)"
   ]
  },
  {
   "cell_type": "markdown",
   "metadata": {},
   "source": [
    "## 概念\n",
    "概念在`Fundamentals.info`数据集中，每个概念为一列。其输出值类型为`bool`，所以直接可以用做过滤器。"
   ]
  },
  {
   "cell_type": "markdown",
   "metadata": {},
   "source": [
    "### 映射表"
   ]
  },
  {
   "cell_type": "code",
   "execution_count": 28,
   "metadata": {
    "ExecuteTime": {
     "end_time": "2018-05-01T15:14:01.359554Z",
     "start_time": "2018-05-01T15:14:01.342935Z"
    }
   },
   "outputs": [
    {
     "data": {
      "text/plain": [
       "{'A001': '参股金融',\n",
       " 'A002': '可转债',\n",
       " 'A003': '上证红利',\n",
       " 'A004': '整体上市',\n",
       " 'A005': '网络游戏',\n",
       " 'A006': '循环经济',\n",
       " 'A007': 'H股概念',\n",
       " 'A008': '股权投资概念',\n",
       " 'A009': '股权激励',\n",
       " 'A010': '数字电视',\n",
       " 'A011': '航天军工',\n",
       " 'A012': '3G概念',\n",
       " 'A013': 'ST概念',\n",
       " 'A014': '新材料',\n",
       " 'A015': '外资并购',\n",
       " 'A016': '稀缺资源',\n",
       " 'A017': '节能环保',\n",
       " 'A018': '外资概念',\n",
       " 'A019': '振兴东北',\n",
       " 'A020': '并购重组',\n",
       " 'A021': 'B股概念',\n",
       " 'A022': '纳米概念',\n",
       " 'A023': '三通概念',\n",
       " 'A024': '高校概念',\n",
       " 'A025': '禽流感',\n",
       " 'A026': '铁路板块',\n",
       " 'A027': '农业龙头',\n",
       " 'A028': '公司债',\n",
       " 'A029': '创投概念',\n",
       " 'A030': 'CDM概念',\n",
       " 'A031': '股改承诺',\n",
       " 'A032': '税收优惠',\n",
       " 'A033': '券商概念',\n",
       " 'A034': '教育传媒',\n",
       " 'A035': '成渝特区',\n",
       " 'A036': '智能电网',\n",
       " 'A037': '*ST概念',\n",
       " 'A038': 'S板块',\n",
       " 'A039': '滨海概念',\n",
       " 'A040': '亚运概念',\n",
       " 'A041': '医改概念',\n",
       " 'A042': '股指期货',\n",
       " 'A043': '甲型流感',\n",
       " 'A044': '增发概念',\n",
       " 'A045': '太阳能',\n",
       " 'A046': '风能概念',\n",
       " 'A047': '核能概念',\n",
       " 'A048': '生物质能',\n",
       " 'A049': '氢能概念',\n",
       " 'A050': '新能源电池',\n",
       " 'A051': '公司回购',\n",
       " 'A052': '海西概念',\n",
       " 'A053': '长株潭',\n",
       " 'A054': '关中天水',\n",
       " 'A055': '北部湾',\n",
       " 'A056': '交叉持股',\n",
       " 'A057': '辽宁沿海',\n",
       " 'A058': '江苏沿海',\n",
       " 'A059': '武汉经济圈',\n",
       " 'A060': '横琴岛',\n",
       " 'A061': '深圳综改',\n",
       " 'A062': '海外收购',\n",
       " 'A063': '大额再融资',\n",
       " 'A064': '两江新区',\n",
       " 'A065': '物联网概念',\n",
       " 'A066': '文化传媒',\n",
       " 'A067': '央企整合',\n",
       " 'A068': 'LED概念',\n",
       " 'A069': '反倾销概念',\n",
       " 'A070': '创业板概念',\n",
       " 'A071': '迪斯尼概念',\n",
       " 'A072': '海南旅游岛',\n",
       " 'A073': '低碳概念',\n",
       " 'A074': '证券信息',\n",
       " 'A075': '3D',\n",
       " 'A076': '次新股',\n",
       " 'A077': '图们江区域',\n",
       " 'A078': '皖江区域',\n",
       " 'A079': '湘潭区域',\n",
       " 'A080': '新疆区域',\n",
       " 'A081': '西藏区域',\n",
       " 'A082': '黄三角区域',\n",
       " 'A083': 'QFII概念',\n",
       " 'A084': '基金重仓',\n",
       " 'A085': '社保重仓',\n",
       " 'A086': '三网融合',\n",
       " 'A087': '手机支付概念',\n",
       " 'A088': 'ipv6概念',\n",
       " 'A089': '前海新区',\n",
       " 'A090': '融资融券标的股',\n",
       " 'A091': '分拆概念',\n",
       " 'A092': '新医药概念',\n",
       " 'A093': '业绩大幅上升',\n",
       " 'A094': '业绩大幅下跌',\n",
       " 'A095': '大股东高管增持',\n",
       " 'A096': '大股东高管减持',\n",
       " 'A097': '高送配潜力概念',\n",
       " 'A098': '稀土永磁概念',\n",
       " 'A099': '锂电概念',\n",
       " 'A100': '新疆开发概念',\n",
       " 'A101': '超级细菌',\n",
       " 'A102': '券商重仓',\n",
       " 'A103': '信托重仓',\n",
       " 'A104': '摘帽预期',\n",
       " 'A105': '触摸屏概念',\n",
       " 'A106': '基金独门股',\n",
       " 'A107': '新三板概念',\n",
       " 'A108': '石墨烯概念',\n",
       " 'A109': '保障房概念',\n",
       " 'A110': '黄金概念',\n",
       " 'A111': '国际板概念',\n",
       " 'A112': '猪肉概念',\n",
       " 'A113': '水利概念',\n",
       " 'A114': '航母概念',\n",
       " 'A115': '云计算',\n",
       " 'A116': '舟山新区',\n",
       " 'A117': '抗癌概念',\n",
       " 'A118': '高铁概念股',\n",
       " 'A119': '涉矿概念',\n",
       " 'A120': '页岩气',\n",
       " 'A121': '金融改革',\n",
       " 'A122': '奢侈品',\n",
       " 'A123': '三沙概念',\n",
       " 'A124': '生物燃料概念',\n",
       " 'A125': '南沙新区概念',\n",
       " 'A126': '页岩气概念',\n",
       " 'A127': '苹果概念',\n",
       " 'A128': '3D概念',\n",
       " 'A129': 'NFC概念',\n",
       " 'A130': '智慧城市概念',\n",
       " 'A131': '玻璃概念',\n",
       " 'A132': '地热能概念',\n",
       " 'A133': '美丽中国概念',\n",
       " 'A134': '自贸区概念',\n",
       " 'A135': '新型城镇化概念',\n",
       " 'A136': '基因芯片',\n",
       " 'A137': '建筑节能概念',\n",
       " 'A138': '空气污染',\n",
       " 'A139': '北斗导航概念',\n",
       " 'A140': '融资标的证券',\n",
       " 'A141': '融券标的证券',\n",
       " 'A142': '民营企业概念股',\n",
       " 'A143': '金改',\n",
       " 'A144': '新三板',\n",
       " 'A145': '海洋经济',\n",
       " 'A146': '保障房',\n",
       " 'A147': '西气东输',\n",
       " 'A148': '人民币升值',\n",
       " 'A149': '收入改革',\n",
       " 'A150': '南海',\n",
       " 'A151': '海军军工',\n",
       " 'A152': '维稳',\n",
       " 'A153': '低碳',\n",
       " 'A154': '节能照明',\n",
       " 'A155': 'PM2.5',\n",
       " 'A156': '污水处理',\n",
       " 'A157': '建筑节能',\n",
       " 'A158': '重金属治理',\n",
       " 'A159': '固废处理',\n",
       " 'A160': '脱硫脱硝',\n",
       " 'A161': '新能源',\n",
       " 'A162': '新能源汽车',\n",
       " 'A163': '天然气',\n",
       " 'A164': '核电核能',\n",
       " 'A165': '锂电池',\n",
       " 'A166': '地热',\n",
       " 'A167': '稀土永磁',\n",
       " 'A168': '石墨烯',\n",
       " 'A169': '碳纤维',\n",
       " 'A170': '特钢',\n",
       " 'A171': '3D打印',\n",
       " 'A172': '特高压',\n",
       " 'A173': '智能制造',\n",
       " 'A174': '美丽中国',\n",
       " 'A175': '物联网',\n",
       " 'A176': '宽带中国',\n",
       " 'A177': '智慧城市',\n",
       " 'A178': '安防',\n",
       " 'A179': '3G',\n",
       " 'A180': '触摸屏',\n",
       " 'A181': '移动支付',\n",
       " 'A182': '苹果',\n",
       " 'A183': 'win8',\n",
       " 'A184': '家电下乡',\n",
       " 'A185': '汽车下乡',\n",
       " 'A186': '食品安全',\n",
       " 'A187': '猪肉',\n",
       " 'A188': '游艇',\n",
       " 'A189': '电子商务',\n",
       " 'A190': '生物医药',\n",
       " 'A191': '医改',\n",
       " 'A192': '智能医疗',\n",
       " 'A193': '老龄化',\n",
       " 'A194': '抗癌',\n",
       " 'A195': 'tdi',\n",
       " 'A196': '航母',\n",
       " 'A197': '海工装备',\n",
       " 'A198': '黄金',\n",
       " 'A199': '煤化工',\n",
       " 'A200': '水价改革',\n",
       " 'A201': '新疆振兴',\n",
       " 'A202': '海峡西岸',\n",
       " 'A203': '三沙',\n",
       " 'A204': '重组',\n",
       " 'A205': '涉矿',\n",
       " 'A206': '摘帽',\n",
       " 'A207': '4G',\n",
       " 'A208': '酒类',\n",
       " 'A209': '*st板块',\n",
       " 'A210': 'st板块',\n",
       " 'A211': '低价股',\n",
       " 'A212': '增持',\n",
       " 'A213': '业绩预增',\n",
       " 'A214': '中日韩自贸区',\n",
       " 'A215': '新型城镇化',\n",
       " 'A216': '高送转',\n",
       " 'A217': '国际板',\n",
       " 'A218': '合同能源管理',\n",
       " 'A219': '风能',\n",
       " 'A220': 'IPV6',\n",
       " 'A221': '军工',\n",
       " 'A222': '轨道交通',\n",
       " 'A223': '水利',\n",
       " 'A224': '创投'}"
      ]
     },
     "execution_count": 28,
     "metadata": {},
     "output_type": "execute_result"
    }
   ],
   "source": [
    "Fundamentals.concept_maps"
   ]
  },
  {
   "cell_type": "markdown",
   "metadata": {},
   "source": [
    "### 查询概念含义"
   ]
  },
  {
   "cell_type": "code",
   "execution_count": 29,
   "metadata": {
    "ExecuteTime": {
     "end_time": "2018-05-01T15:14:01.446163Z",
     "start_time": "2018-05-01T15:14:01.363184Z"
    }
   },
   "outputs": [
    {
     "data": {
      "text/plain": [
       "'海军军工'"
      ]
     },
     "execution_count": 29,
     "metadata": {},
     "output_type": "execute_result"
    }
   ],
   "source": [
    "Fundamentals.concept_col_name('A151')"
   ]
  },
  {
   "cell_type": "markdown",
   "metadata": {},
   "source": [
    "### 模糊查询概念编码"
   ]
  },
  {
   "cell_type": "code",
   "execution_count": 30,
   "metadata": {
    "ExecuteTime": {
     "end_time": "2018-05-01T15:14:01.522036Z",
     "start_time": "2018-05-01T15:14:01.448875Z"
    }
   },
   "outputs": [
    {
     "data": {
      "text/plain": [
       "{'A039': '滨海概念',\n",
       " 'A052': '海西概念',\n",
       " 'A057': '辽宁沿海',\n",
       " 'A058': '江苏沿海',\n",
       " 'A062': '海外收购',\n",
       " 'A072': '海南旅游岛',\n",
       " 'A089': '前海新区',\n",
       " 'A145': '海洋经济',\n",
       " 'A150': '南海',\n",
       " 'A151': '海军军工',\n",
       " 'A197': '海工装备',\n",
       " 'A202': '海峡西岸'}"
      ]
     },
     "execution_count": 30,
     "metadata": {},
     "output_type": "execute_result"
    }
   ],
   "source": [
    "Fundamentals.concept_col_code('海')"
   ]
  },
  {
   "cell_type": "markdown",
   "metadata": {
    "ExecuteTime": {
     "end_time": "2018-05-01T15:05:42.953922Z",
     "start_time": "2018-05-01T15:05:42.951089Z"
    }
   },
   "source": [
    "### 用法"
   ]
  },
  {
   "cell_type": "code",
   "execution_count": 31,
   "metadata": {
    "ExecuteTime": {
     "end_time": "2018-05-01T15:14:01.851103Z",
     "start_time": "2018-05-01T15:14:01.524153Z"
    }
   },
   "outputs": [
    {
     "data": {
      "text/html": [
       "<div>\n",
       "<style scoped>\n",
       "    .dataframe tbody tr th:only-of-type {\n",
       "        vertical-align: middle;\n",
       "    }\n",
       "\n",
       "    .dataframe tbody tr th {\n",
       "        vertical-align: top;\n",
       "    }\n",
       "\n",
       "    .dataframe thead th {\n",
       "        text-align: right;\n",
       "    }\n",
       "</style>\n",
       "<table border=\"1\" class=\"dataframe\">\n",
       "  <thead>\n",
       "    <tr style=\"text-align: right;\">\n",
       "      <th></th>\n",
       "      <th></th>\n",
       "      <th>收盘价</th>\n",
       "      <th>海军军工概念</th>\n",
       "    </tr>\n",
       "  </thead>\n",
       "  <tbody>\n",
       "    <tr>\n",
       "      <th rowspan=\"15\" valign=\"top\">2018-04-04 00:00:00+00:00</th>\n",
       "      <th>航发控制(000738)</th>\n",
       "      <td>16.50</td>\n",
       "      <td>True</td>\n",
       "    </tr>\n",
       "    <tr>\n",
       "      <th>中航飞机(000768)</th>\n",
       "      <td>18.55</td>\n",
       "      <td>True</td>\n",
       "    </tr>\n",
       "    <tr>\n",
       "      <th>中航机电(002013)</th>\n",
       "      <td>11.72</td>\n",
       "      <td>True</td>\n",
       "    </tr>\n",
       "    <tr>\n",
       "      <th>中直股份(600038)</th>\n",
       "      <td>49.76</td>\n",
       "      <td>True</td>\n",
       "    </tr>\n",
       "    <tr>\n",
       "      <th>中船科技(600072)</th>\n",
       "      <td>13.24</td>\n",
       "      <td>True</td>\n",
       "    </tr>\n",
       "    <tr>\n",
       "      <th>中国卫星(600118)</th>\n",
       "      <td>23.04</td>\n",
       "      <td>True</td>\n",
       "    </tr>\n",
       "    <tr>\n",
       "      <th>*ST船舶(600150)</th>\n",
       "      <td>20.13</td>\n",
       "      <td>True</td>\n",
       "    </tr>\n",
       "    <tr>\n",
       "      <th>洪都航空(600316)</th>\n",
       "      <td>13.25</td>\n",
       "      <td>True</td>\n",
       "    </tr>\n",
       "    <tr>\n",
       "      <th>中航电子(600372)</th>\n",
       "      <td>15.89</td>\n",
       "      <td>True</td>\n",
       "    </tr>\n",
       "    <tr>\n",
       "      <th>航发科技(600391)</th>\n",
       "      <td>20.30</td>\n",
       "      <td>True</td>\n",
       "    </tr>\n",
       "    <tr>\n",
       "      <th>北方导航(600435)</th>\n",
       "      <td>10.93</td>\n",
       "      <td>True</td>\n",
       "    </tr>\n",
       "    <tr>\n",
       "      <th>国睿科技(600562)</th>\n",
       "      <td>24.62</td>\n",
       "      <td>True</td>\n",
       "    </tr>\n",
       "    <tr>\n",
       "      <th>航发动力(600893)</th>\n",
       "      <td>28.22</td>\n",
       "      <td>True</td>\n",
       "    </tr>\n",
       "    <tr>\n",
       "      <th>四创电子(600990)</th>\n",
       "      <td>57.64</td>\n",
       "      <td>True</td>\n",
       "    </tr>\n",
       "    <tr>\n",
       "      <th>中国重工(601989)</th>\n",
       "      <td>5.40</td>\n",
       "      <td>True</td>\n",
       "    </tr>\n",
       "    <tr>\n",
       "      <th rowspan=\"15\" valign=\"top\">2018-04-10 00:00:00+00:00</th>\n",
       "      <th>航发控制(000738)</th>\n",
       "      <td>16.97</td>\n",
       "      <td>True</td>\n",
       "    </tr>\n",
       "    <tr>\n",
       "      <th>中航飞机(000768)</th>\n",
       "      <td>18.47</td>\n",
       "      <td>True</td>\n",
       "    </tr>\n",
       "    <tr>\n",
       "      <th>中航机电(002013)</th>\n",
       "      <td>11.68</td>\n",
       "      <td>True</td>\n",
       "    </tr>\n",
       "    <tr>\n",
       "      <th>中直股份(600038)</th>\n",
       "      <td>47.89</td>\n",
       "      <td>True</td>\n",
       "    </tr>\n",
       "    <tr>\n",
       "      <th>中船科技(600072)</th>\n",
       "      <td>13.75</td>\n",
       "      <td>True</td>\n",
       "    </tr>\n",
       "    <tr>\n",
       "      <th>中国卫星(600118)</th>\n",
       "      <td>23.06</td>\n",
       "      <td>True</td>\n",
       "    </tr>\n",
       "    <tr>\n",
       "      <th>*ST船舶(600150)</th>\n",
       "      <td>20.45</td>\n",
       "      <td>True</td>\n",
       "    </tr>\n",
       "    <tr>\n",
       "      <th>洪都航空(600316)</th>\n",
       "      <td>13.86</td>\n",
       "      <td>True</td>\n",
       "    </tr>\n",
       "    <tr>\n",
       "      <th>中航电子(600372)</th>\n",
       "      <td>15.76</td>\n",
       "      <td>True</td>\n",
       "    </tr>\n",
       "    <tr>\n",
       "      <th>航发科技(600391)</th>\n",
       "      <td>21.68</td>\n",
       "      <td>True</td>\n",
       "    </tr>\n",
       "    <tr>\n",
       "      <th>北方导航(600435)</th>\n",
       "      <td>10.99</td>\n",
       "      <td>True</td>\n",
       "    </tr>\n",
       "    <tr>\n",
       "      <th>国睿科技(600562)</th>\n",
       "      <td>24.60</td>\n",
       "      <td>True</td>\n",
       "    </tr>\n",
       "    <tr>\n",
       "      <th>航发动力(600893)</th>\n",
       "      <td>28.63</td>\n",
       "      <td>True</td>\n",
       "    </tr>\n",
       "    <tr>\n",
       "      <th>四创电子(600990)</th>\n",
       "      <td>57.62</td>\n",
       "      <td>True</td>\n",
       "    </tr>\n",
       "    <tr>\n",
       "      <th>中国重工(601989)</th>\n",
       "      <td>5.50</td>\n",
       "      <td>True</td>\n",
       "    </tr>\n",
       "  </tbody>\n",
       "</table>\n",
       "</div>"
      ],
      "text/plain": [
       "                                           收盘价  海军军工概念\n",
       "2018-04-04 00:00:00+00:00 航发控制(000738)   16.50    True\n",
       "                          中航飞机(000768)   18.55    True\n",
       "                          中航机电(002013)   11.72    True\n",
       "                          中直股份(600038)   49.76    True\n",
       "                          中船科技(600072)   13.24    True\n",
       "                          中国卫星(600118)   23.04    True\n",
       "                          *ST船舶(600150)  20.13    True\n",
       "                          洪都航空(600316)   13.25    True\n",
       "                          中航电子(600372)   15.89    True\n",
       "                          航发科技(600391)   20.30    True\n",
       "                          北方导航(600435)   10.93    True\n",
       "                          国睿科技(600562)   24.62    True\n",
       "                          航发动力(600893)   28.22    True\n",
       "                          四创电子(600990)   57.64    True\n",
       "                          中国重工(601989)    5.40    True\n",
       "2018-04-10 00:00:00+00:00 航发控制(000738)   16.97    True\n",
       "                          中航飞机(000768)   18.47    True\n",
       "                          中航机电(002013)   11.68    True\n",
       "                          中直股份(600038)   47.89    True\n",
       "                          中船科技(600072)   13.75    True\n",
       "                          中国卫星(600118)   23.06    True\n",
       "                          *ST船舶(600150)  20.45    True\n",
       "                          洪都航空(600316)   13.86    True\n",
       "                          中航电子(600372)   15.76    True\n",
       "                          航发科技(600391)   21.68    True\n",
       "                          北方导航(600435)   10.99    True\n",
       "                          国睿科技(600562)   24.60    True\n",
       "                          航发动力(600893)   28.63    True\n",
       "                          四创电子(600990)   57.62    True\n",
       "                          中国重工(601989)    5.50    True"
      ]
     },
     "execution_count": 31,
     "metadata": {},
     "output_type": "execute_result"
    }
   ],
   "source": [
    "def make_pipeline():\n",
    "    hjjg = Fundamentals.info.A151.latest\n",
    "    return Pipeline(\n",
    "        columns={\n",
    "            '收盘价': CNEquityPricing.close.latest,\n",
    "            '海军军工概念': hjjg\n",
    "        },\n",
    "        screen=hjjg)\n",
    "\n",
    "\n",
    "run_pipeline(make_pipeline(), '2018-04-04', '2018-04-10')"
   ]
  }
 ],
 "metadata": {
  "kernelspec": {
   "display_name": "zipline",
   "language": "python",
   "name": "zipline"
  },
  "language_info": {
   "codemirror_mode": {
    "name": "ipython",
    "version": 3
   },
   "file_extension": ".py",
   "mimetype": "text/x-python",
   "name": "python",
   "nbconvert_exporter": "python",
   "pygments_lexer": "ipython3",
   "version": "3.6.5"
  },
  "toc": {
   "base_numbering": 1,
   "nav_menu": {},
   "number_sections": false,
   "sideBar": true,
   "skip_h1_title": false,
   "title_cell": "Table of Contents",
   "title_sidebar": "Contents",
   "toc_cell": false,
   "toc_position": {
    "height": "calc(100% - 180px)",
    "left": "10px",
    "top": "150px",
    "width": "260px"
   },
   "toc_section_display": true,
   "toc_window_display": true
  }
 },
 "nbformat": 4,
 "nbformat_minor": 2
}
