{
 "cells": [
  {
   "cell_type": "markdown",
   "metadata": {},
   "source": [
    "## 地域分类"
   ]
  },
  {
   "cell_type": "code",
   "execution_count": null,
   "metadata": {
    "ExecuteTime": {
     "end_time": "2018-05-01T11:20:00.122454Z",
     "start_time": "2018-05-01T11:19:56.912461Z"
    }
   },
   "outputs": [],
   "source": [
    "from zipline.research import run_pipeline, select_output_by\n",
    "from zipline.pipeline import Pipeline\n",
    "from zipline.pipeline.data import CNEquityPricing"
   ]
  },
  {
   "cell_type": "code",
   "execution_count": null,
   "metadata": {
    "ExecuteTime": {
     "end_time": "2018-05-01T11:20:00.128771Z",
     "start_time": "2018-05-01T11:20:00.124614Z"
    }
   },
   "outputs": [],
   "source": [
    "from zipline.pipeline.fundamentals import Fundamentals"
   ]
  },
  {
   "cell_type": "markdown",
   "metadata": {},
   "source": [
    "### 映射表"
   ]
  },
  {
   "cell_type": "code",
   "execution_count": null,
   "metadata": {
    "ExecuteTime": {
     "end_time": "2018-05-01T11:20:00.152708Z",
     "start_time": "2018-05-01T11:20:00.132197Z"
    }
   },
   "outputs": [],
   "source": [
    "Fundamentals.region_maps"
   ]
  },
  {
   "cell_type": "markdown",
   "metadata": {},
   "source": [
    "### 基础"
   ]
  },
  {
   "cell_type": "code",
   "execution_count": null,
   "metadata": {
    "ExecuteTime": {
     "end_time": "2018-05-01T11:20:00.161888Z",
     "start_time": "2018-05-01T11:20:00.156254Z"
    }
   },
   "outputs": [],
   "source": [
    "def make_pipeline():\n",
    "\n",
    "    return Pipeline(\n",
    "        columns={\n",
    "            '地区编码': Fundamentals.info.region.latest,\n",
    "            '收盘价': CNEquityPricing.close.latest,\n",
    "        })"
   ]
  },
  {
   "cell_type": "code",
   "execution_count": null,
   "metadata": {
    "ExecuteTime": {
     "end_time": "2018-05-01T11:20:02.709697Z",
     "start_time": "2018-05-01T11:20:00.165291Z"
    }
   },
   "outputs": [],
   "source": [
    "result = run_pipeline(make_pipeline(), '2018-04-10', '2018-04-10')\n",
    "result.head(5)"
   ]
  },
  {
   "cell_type": "markdown",
   "metadata": {},
   "source": [
    "### 编码含义"
   ]
  },
  {
   "cell_type": "code",
   "execution_count": null,
   "metadata": {
    "ExecuteTime": {
     "end_time": "2018-05-01T11:20:02.813683Z",
     "start_time": "2018-05-01T11:20:02.713232Z"
    }
   },
   "outputs": [],
   "source": [
    "# 查询编码含义\n",
    "Fundamentals.region_cname(11)"
   ]
  },
  {
   "cell_type": "markdown",
   "metadata": {
    "ExecuteTime": {
     "end_time": "2018-05-01T08:37:27.278499Z",
     "start_time": "2018-05-01T08:37:27.272636Z"
    }
   },
   "source": [
    "### 模糊查询编码"
   ]
  },
  {
   "cell_type": "code",
   "execution_count": null,
   "metadata": {
    "ExecuteTime": {
     "end_time": "2018-05-01T11:20:02.920801Z",
     "start_time": "2018-05-01T11:20:02.816685Z"
    }
   },
   "outputs": [],
   "source": [
    "Fundamentals.region_code('新疆')"
   ]
  },
  {
   "cell_type": "markdown",
   "metadata": {},
   "source": [
    "### 过滤器"
   ]
  },
  {
   "cell_type": "code",
   "execution_count": null,
   "metadata": {
    "ExecuteTime": {
     "end_time": "2018-05-01T11:20:02.932587Z",
     "start_time": "2018-05-01T11:20:02.926061Z"
    }
   },
   "outputs": [],
   "source": [
    "def make_pipeline():\n",
    "    gd_filter = Fundamentals.info.region.latest.eq(13)\n",
    "    return Pipeline(\n",
    "        columns={\n",
    "            '地区编码': Fundamentals.info.region.latest,\n",
    "            '收盘价': CNEquityPricing.close.latest,\n",
    "        },\n",
    "        screen=gd_filter\n",
    "    )"
   ]
  },
  {
   "cell_type": "code",
   "execution_count": null,
   "metadata": {
    "ExecuteTime": {
     "end_time": "2018-05-01T11:20:03.217799Z",
     "start_time": "2018-05-01T11:20:02.935879Z"
    }
   },
   "outputs": [],
   "source": [
    "result = run_pipeline(make_pipeline(), '2018-04-10', '2018-04-10')\n",
    "result"
   ]
  },
  {
   "cell_type": "markdown",
   "metadata": {},
   "source": [
    "## 行业分类"
   ]
  },
  {
   "cell_type": "markdown",
   "metadata": {},
   "source": [
    "### 证监会行业分类"
   ]
  },
  {
   "cell_type": "markdown",
   "metadata": {},
   "source": [
    "#### 映射表"
   ]
  },
  {
   "cell_type": "code",
   "execution_count": null,
   "metadata": {
    "ExecuteTime": {
     "end_time": "2018-05-01T11:20:03.228992Z",
     "start_time": "2018-05-01T11:20:03.223014Z"
    }
   },
   "outputs": [],
   "source": [
    "Fundamentals.csrc_industry_maps"
   ]
  },
  {
   "cell_type": "markdown",
   "metadata": {},
   "source": [
    "#### 查询编码含义"
   ]
  },
  {
   "cell_type": "code",
   "execution_count": null,
   "metadata": {
    "ExecuteTime": {
     "end_time": "2018-05-01T11:20:03.302036Z",
     "start_time": "2018-05-01T11:20:03.233785Z"
    }
   },
   "outputs": [],
   "source": [
    "# 编码从0开始\n",
    "\n",
    "Fundamentals.csrc_industry_cname(0)"
   ]
  },
  {
   "cell_type": "markdown",
   "metadata": {},
   "source": [
    "#### 模糊查询编码"
   ]
  },
  {
   "cell_type": "code",
   "execution_count": null,
   "metadata": {
    "ExecuteTime": {
     "end_time": "2018-05-01T11:20:03.382167Z",
     "start_time": "2018-05-01T11:20:03.305833Z"
    }
   },
   "outputs": [],
   "source": [
    "Fundamentals.csrc_industry_code('综合类')"
   ]
  },
  {
   "cell_type": "markdown",
   "metadata": {},
   "source": [
    "#### 过滤器"
   ]
  },
  {
   "cell_type": "code",
   "execution_count": null,
   "metadata": {
    "ExecuteTime": {
     "end_time": "2018-05-01T11:20:03.708395Z",
     "start_time": "2018-05-01T11:20:03.387951Z"
    }
   },
   "outputs": [],
   "source": [
    "def make_pipeline():\n",
    "    zh_filter = Fundamentals.info.csrc_industry.latest.eq(10)\n",
    "    return Pipeline(\n",
    "        columns={\n",
    "            '收盘价': CNEquityPricing.close.latest,\n",
    "        }, screen=zh_filter)\n",
    "\n",
    "\n",
    "run_pipeline(make_pipeline(), '2018-04-10', '2018-04-10')"
   ]
  },
  {
   "cell_type": "markdown",
   "metadata": {},
   "source": [
    "### 同花顺行业分类"
   ]
  },
  {
   "cell_type": "markdown",
   "metadata": {},
   "source": [
    "#### 映射表"
   ]
  },
  {
   "cell_type": "code",
   "execution_count": null,
   "metadata": {
    "ExecuteTime": {
     "end_time": "2018-05-01T11:20:03.720367Z",
     "start_time": "2018-05-01T11:20:03.711699Z"
    }
   },
   "outputs": [],
   "source": [
    "Fundamentals.ths_industry_maps"
   ]
  },
  {
   "cell_type": "markdown",
   "metadata": {},
   "source": [
    "#### 查询编码含义"
   ]
  },
  {
   "cell_type": "code",
   "execution_count": null,
   "metadata": {
    "ExecuteTime": {
     "end_time": "2018-05-01T11:20:03.792070Z",
     "start_time": "2018-05-01T11:20:03.722997Z"
    }
   },
   "outputs": [],
   "source": [
    "Fundamentals.ths_industry_cname(2)"
   ]
  },
  {
   "cell_type": "markdown",
   "metadata": {},
   "source": [
    "#### 模糊查询编码"
   ]
  },
  {
   "cell_type": "code",
   "execution_count": null,
   "metadata": {
    "ExecuteTime": {
     "end_time": "2018-05-01T11:20:03.858920Z",
     "start_time": "2018-05-01T11:20:03.794225Z"
    }
   },
   "outputs": [],
   "source": [
    "Fundamentals.ths_industry_code('贸')"
   ]
  },
  {
   "cell_type": "markdown",
   "metadata": {},
   "source": [
    "#### 过滤器"
   ]
  },
  {
   "cell_type": "code",
   "execution_count": null,
   "metadata": {
    "ExecuteTime": {
     "end_time": "2018-05-01T11:20:04.137977Z",
     "start_time": "2018-05-01T11:20:03.862717Z"
    }
   },
   "outputs": [],
   "source": [
    "def make_pipeline():\n",
    "    yy_filter = Fundamentals.info.ths_industry.latest.eq(27)\n",
    "    return Pipeline(\n",
    "        columns={\n",
    "            '收盘价': CNEquityPricing.close.latest,\n",
    "        }, screen=yy_filter)\n",
    "\n",
    "\n",
    "run_pipeline(make_pipeline(), '2018-04-10', '2018-04-10')"
   ]
  },
  {
   "cell_type": "markdown",
   "metadata": {},
   "source": [
    "### 国证行业分类"
   ]
  },
  {
   "cell_type": "markdown",
   "metadata": {},
   "source": [
    "#### 映射"
   ]
  },
  {
   "cell_type": "markdown",
   "metadata": {},
   "source": [
    "#### 查询编码含义"
   ]
  },
  {
   "cell_type": "code",
   "execution_count": null,
   "metadata": {
    "ExecuteTime": {
     "end_time": "2018-05-01T11:20:04.209428Z",
     "start_time": "2018-05-01T11:20:04.141255Z"
    }
   },
   "outputs": [],
   "source": [
    "Fundamentals.cn_industry_cname(2)"
   ]
  },
  {
   "cell_type": "markdown",
   "metadata": {},
   "source": [
    "#### 模糊查询编码"
   ]
  },
  {
   "cell_type": "code",
   "execution_count": null,
   "metadata": {
    "ExecuteTime": {
     "end_time": "2018-05-01T11:20:04.277566Z",
     "start_time": "2018-05-01T11:20:04.212747Z"
    }
   },
   "outputs": [],
   "source": [
    "Fundamentals.cn_industry_code('电')"
   ]
  },
  {
   "cell_type": "markdown",
   "metadata": {},
   "source": [
    "#### 过滤器"
   ]
  },
  {
   "cell_type": "code",
   "execution_count": null,
   "metadata": {
    "ExecuteTime": {
     "end_time": "2018-05-01T11:20:04.612074Z",
     "start_time": "2018-05-01T11:20:04.279827Z"
    }
   },
   "outputs": [],
   "source": [
    "def make_pipeline():\n",
    "    yy_filter = Fundamentals.info.cn_industry.latest.eq(70)\n",
    "    return Pipeline(\n",
    "        columns={\n",
    "            '收盘价': CNEquityPricing.close.latest,\n",
    "        }, screen=yy_filter)\n",
    "\n",
    "\n",
    "run_pipeline(make_pipeline(), '2018-04-10', '2018-04-10').head()"
   ]
  },
  {
   "cell_type": "markdown",
   "metadata": {},
   "source": [
    "## `Sector`\n",
    "类似晨星分类，根据行业组特点，行业整合成为11片(`Sector`)，进一步组成三大片(`Super_sector`)。国证行业分类标准与此类似，`Sector`是在国证行业分类基础上的映射。"
   ]
  },
  {
   "cell_type": "code",
   "execution_count": null,
   "metadata": {
    "ExecuteTime": {
     "end_time": "2018-05-01T11:20:04.626168Z",
     "start_time": "2018-05-01T11:20:04.614872Z"
    }
   },
   "outputs": [],
   "source": [
    "Fundamentals.sector_maps"
   ]
  },
  {
   "cell_type": "code",
   "execution_count": 1,
   "metadata": {
    "ExecuteTime": {
     "end_time": "2018-05-01T13:44:00.571979Z",
     "start_time": "2018-05-01T13:43:59.871348Z"
    }
   },
   "outputs": [],
   "source": [
    "from cswd.websource.juchao import fetch_industry_stocks"
   ]
  },
  {
   "cell_type": "code",
   "execution_count": 2,
   "metadata": {
    "ExecuteTime": {
     "end_time": "2018-05-01T13:44:21.403110Z",
     "start_time": "2018-05-01T13:44:00.574764Z"
    }
   },
   "outputs": [
    {
     "name": "stdout",
     "output_type": "stream",
     "text": [
      "[2018-05-01 21:44:01.408742] INFO: 巨潮行业分类: 部门：cninfo，日期：2017-04-27，编码:C01\n",
      "[2018-05-01 21:44:04.965552] INFO: 巨潮行业分类: 部门：cninfo，日期：2017-04-27，编码:C02\n",
      "[2018-05-01 21:44:09.725850] INFO: 巨潮行业分类: 部门：cninfo，日期：2017-04-27，编码:C03\n",
      "[2018-05-01 21:44:12.885687] INFO: 巨潮行业分类: 部门：cninfo，日期：2017-04-27，编码:C04\n",
      "[2018-05-01 21:44:14.238663] INFO: 巨潮行业分类: 部门：cninfo，日期：2017-04-27，编码:C05\n",
      "[2018-05-01 21:44:15.712379] INFO: 巨潮行业分类: 部门：cninfo，日期：2017-04-27，编码:C06\n",
      "[2018-05-01 21:44:17.059042] INFO: 巨潮行业分类: 部门：cninfo，日期：2017-04-27，编码:C07\n",
      "[2018-05-01 21:44:19.914120] INFO: 巨潮行业分类: 部门：cninfo，日期：2017-04-27，编码:C08\n",
      "[2018-05-01 21:44:20.611152] INFO: 巨潮行业分类: 部门：cninfo，日期：2017-04-27，编码:C09\n",
      "[2018-05-01 21:44:21.302931] INFO: 巨潮行业分类: 部门：cninfo，日期：2017-04-27，编码:C10\n"
     ]
    }
   ],
   "source": [
    "df = fetch_industry_stocks('2017-04-27')"
   ]
  },
  {
   "cell_type": "code",
   "execution_count": 4,
   "metadata": {
    "ExecuteTime": {
     "end_time": "2018-05-01T14:23:02.551203Z",
     "start_time": "2018-05-01T14:23:02.514419Z"
    }
   },
   "outputs": [
    {
     "data": {
      "text/html": [
       "<div>\n",
       "<style scoped>\n",
       "    .dataframe tbody tr th:only-of-type {\n",
       "        vertical-align: middle;\n",
       "    }\n",
       "\n",
       "    .dataframe tbody tr th {\n",
       "        vertical-align: top;\n",
       "    }\n",
       "\n",
       "    .dataframe thead th {\n",
       "        text-align: right;\n",
       "    }\n",
       "</style>\n",
       "<table border=\"1\" class=\"dataframe\">\n",
       "  <thead>\n",
       "    <tr style=\"text-align: right;\">\n",
       "      <th></th>\n",
       "      <th>code</th>\n",
       "      <th>short_name</th>\n",
       "      <th>b_code</th>\n",
       "      <th>b_short_name</th>\n",
       "      <th>sector_code</th>\n",
       "      <th>sector_name</th>\n",
       "      <th>group_code</th>\n",
       "      <th>group_name</th>\n",
       "      <th>industry_code</th>\n",
       "      <th>industry_name</th>\n",
       "      <th>a_static_pe</th>\n",
       "      <th>a_roll_pe</th>\n",
       "      <th>b_static_pe</th>\n",
       "      <th>b_roll_pe</th>\n",
       "      <th>ab_static_pe</th>\n",
       "      <th>ab_roll_pe</th>\n",
       "    </tr>\n",
       "  </thead>\n",
       "  <tbody>\n",
       "    <tr>\n",
       "      <th>0</th>\n",
       "      <td>000059</td>\n",
       "      <td>华锦股份</td>\n",
       "      <td>NaN</td>\n",
       "      <td>NaN</td>\n",
       "      <td>C01</td>\n",
       "      <td>能源</td>\n",
       "      <td>C0101</td>\n",
       "      <td>能源</td>\n",
       "      <td>C010102</td>\n",
       "      <td>石油天然气</td>\n",
       "      <td>50.71</td>\n",
       "      <td>11.62</td>\n",
       "      <td>NaN</td>\n",
       "      <td>NaN</td>\n",
       "      <td>50.71</td>\n",
       "      <td>11.62</td>\n",
       "    </tr>\n",
       "    <tr>\n",
       "      <th>1</th>\n",
       "      <td>000096</td>\n",
       "      <td>广聚能源</td>\n",
       "      <td>NaN</td>\n",
       "      <td>NaN</td>\n",
       "      <td>C01</td>\n",
       "      <td>能源</td>\n",
       "      <td>C0101</td>\n",
       "      <td>能源</td>\n",
       "      <td>C010102</td>\n",
       "      <td>石油天然气</td>\n",
       "      <td>56.33</td>\n",
       "      <td>200.54</td>\n",
       "      <td>NaN</td>\n",
       "      <td>NaN</td>\n",
       "      <td>56.33</td>\n",
       "      <td>200.54</td>\n",
       "    </tr>\n",
       "    <tr>\n",
       "      <th>2</th>\n",
       "      <td>000159</td>\n",
       "      <td>国际实业</td>\n",
       "      <td>NaN</td>\n",
       "      <td>NaN</td>\n",
       "      <td>C01</td>\n",
       "      <td>能源</td>\n",
       "      <td>C0101</td>\n",
       "      <td>能源</td>\n",
       "      <td>C010102</td>\n",
       "      <td>石油天然气</td>\n",
       "      <td>67.33</td>\n",
       "      <td>34.53</td>\n",
       "      <td>NaN</td>\n",
       "      <td>NaN</td>\n",
       "      <td>67.33</td>\n",
       "      <td>34.53</td>\n",
       "    </tr>\n",
       "    <tr>\n",
       "      <th>3</th>\n",
       "      <td>000552</td>\n",
       "      <td>靖远煤电</td>\n",
       "      <td>NaN</td>\n",
       "      <td>NaN</td>\n",
       "      <td>C01</td>\n",
       "      <td>能源</td>\n",
       "      <td>C0101</td>\n",
       "      <td>能源</td>\n",
       "      <td>C010103</td>\n",
       "      <td>煤炭</td>\n",
       "      <td>45.78</td>\n",
       "      <td>61.17</td>\n",
       "      <td>NaN</td>\n",
       "      <td>NaN</td>\n",
       "      <td>45.78</td>\n",
       "      <td>61.17</td>\n",
       "    </tr>\n",
       "    <tr>\n",
       "      <th>4</th>\n",
       "      <td>000554</td>\n",
       "      <td>泰山石油</td>\n",
       "      <td>NaN</td>\n",
       "      <td>NaN</td>\n",
       "      <td>C01</td>\n",
       "      <td>能源</td>\n",
       "      <td>C0101</td>\n",
       "      <td>能源</td>\n",
       "      <td>C010102</td>\n",
       "      <td>石油天然气</td>\n",
       "      <td>1495.42</td>\n",
       "      <td>3757.55</td>\n",
       "      <td>NaN</td>\n",
       "      <td>NaN</td>\n",
       "      <td>1495.42</td>\n",
       "      <td>3757.55</td>\n",
       "    </tr>\n",
       "  </tbody>\n",
       "</table>\n",
       "</div>"
      ],
      "text/plain": [
       "     code short_name  b_code b_short_name sector_code sector_name group_code  \\\n",
       "0  000059       华锦股份     NaN          NaN         C01          能源      C0101   \n",
       "1  000096       广聚能源     NaN          NaN         C01          能源      C0101   \n",
       "2  000159       国际实业     NaN          NaN         C01          能源      C0101   \n",
       "3  000552       靖远煤电     NaN          NaN         C01          能源      C0101   \n",
       "4  000554       泰山石油     NaN          NaN         C01          能源      C0101   \n",
       "\n",
       "  group_name industry_code industry_name  a_static_pe  a_roll_pe  b_static_pe  \\\n",
       "0         能源       C010102         石油天然气        50.71      11.62          NaN   \n",
       "1         能源       C010102         石油天然气        56.33     200.54          NaN   \n",
       "2         能源       C010102         石油天然气        67.33      34.53          NaN   \n",
       "3         能源       C010103            煤炭        45.78      61.17          NaN   \n",
       "4         能源       C010102         石油天然气      1495.42    3757.55          NaN   \n",
       "\n",
       "   b_roll_pe  ab_static_pe  ab_roll_pe  \n",
       "0        NaN         50.71       11.62  \n",
       "1        NaN         56.33      200.54  \n",
       "2        NaN         67.33       34.53  \n",
       "3        NaN         45.78       61.17  \n",
       "4        NaN       1495.42     3757.55  "
      ]
     },
     "execution_count": 4,
     "metadata": {},
     "output_type": "execute_result"
    }
   ],
   "source": [
    "df.head()"
   ]
  },
  {
   "cell_type": "code",
   "execution_count": 5,
   "metadata": {
    "ExecuteTime": {
     "end_time": "2018-05-01T14:24:14.358369Z",
     "start_time": "2018-05-01T14:24:14.351900Z"
    }
   },
   "outputs": [
    {
     "data": {
      "text/plain": [
       "array(['石油天然气', '石油天然气', '石油天然气', ..., '水公用事业', '水公用事业', '水公用事业'],\n",
       "      dtype=object)"
      ]
     },
     "execution_count": 5,
     "metadata": {},
     "output_type": "execute_result"
    }
   ],
   "source": [
    "df.industry_name.values"
   ]
  },
  {
   "cell_type": "code",
   "execution_count": 6,
   "metadata": {
    "ExecuteTime": {
     "end_time": "2018-05-01T14:25:15.303488Z",
     "start_time": "2018-05-01T14:25:15.287208Z"
    }
   },
   "outputs": [
    {
     "data": {
      "text/plain": [
       "array(['C010102', 'C010102', 'C010102', ..., 'C100103', 'C100103',\n",
       "       'C100103'], dtype=object)"
      ]
     },
     "execution_count": 6,
     "metadata": {},
     "output_type": "execute_result"
    }
   ],
   "source": [
    "df.industry_code.values"
   ]
  },
  {
   "cell_type": "code",
   "execution_count": 7,
   "metadata": {
    "ExecuteTime": {
     "end_time": "2018-05-01T14:30:02.829492Z",
     "start_time": "2018-05-01T14:30:02.819446Z"
    }
   },
   "outputs": [],
   "source": [
    "from zipline.pipeline.fundamentals.static import sector_code_map, supper_sector_code_map"
   ]
  },
  {
   "cell_type": "code",
   "execution_count": 9,
   "metadata": {
    "ExecuteTime": {
     "end_time": "2018-05-01T14:30:37.067759Z",
     "start_time": "2018-05-01T14:30:37.052993Z"
    }
   },
   "outputs": [],
   "source": [
    "df['sector_code'] = df['industry_code'].map(sector_code_map)"
   ]
  },
  {
   "cell_type": "code",
   "execution_count": 14,
   "metadata": {
    "ExecuteTime": {
     "end_time": "2018-05-01T14:31:29.636235Z",
     "start_time": "2018-05-01T14:31:29.627234Z"
    }
   },
   "outputs": [],
   "source": [
    "a = df['sector_code']"
   ]
  },
  {
   "cell_type": "code",
   "execution_count": 16,
   "metadata": {
    "ExecuteTime": {
     "end_time": "2018-05-01T14:31:58.891704Z",
     "start_time": "2018-05-01T14:31:58.880805Z"
    }
   },
   "outputs": [],
   "source": [
    "df['super_sector_code'] = df['sector_code'].map(supper_sector_code_map)"
   ]
  },
  {
   "cell_type": "code",
   "execution_count": 17,
   "metadata": {
    "ExecuteTime": {
     "end_time": "2018-05-01T14:32:05.866764Z",
     "start_time": "2018-05-01T14:32:05.846035Z"
    }
   },
   "outputs": [
    {
     "data": {
      "text/plain": [
       "0       3\n",
       "1       3\n",
       "2       3\n",
       "3       3\n",
       "4       3\n",
       "5       3\n",
       "6       3\n",
       "7       3\n",
       "8       3\n",
       "9       3\n",
       "10      3\n",
       "11      3\n",
       "12      3\n",
       "13      3\n",
       "14      3\n",
       "15      3\n",
       "16      3\n",
       "17      3\n",
       "18      3\n",
       "19      3\n",
       "20      3\n",
       "21      3\n",
       "22      3\n",
       "23      3\n",
       "24      3\n",
       "25      3\n",
       "26      3\n",
       "27      3\n",
       "28      3\n",
       "29      3\n",
       "       ..\n",
       "3193    2\n",
       "3194    2\n",
       "3195    2\n",
       "3196    2\n",
       "3197    2\n",
       "3198    2\n",
       "3199    2\n",
       "3200    2\n",
       "3201    2\n",
       "3202    2\n",
       "3203    2\n",
       "3204    2\n",
       "3205    2\n",
       "3206    2\n",
       "3207    2\n",
       "3208    2\n",
       "3209    2\n",
       "3210    2\n",
       "3211    2\n",
       "3212    2\n",
       "3213    2\n",
       "3214    2\n",
       "3215    2\n",
       "3216    2\n",
       "3217    2\n",
       "3218    2\n",
       "3219    2\n",
       "3220    2\n",
       "3221    2\n",
       "3222    2\n",
       "Name: super_sector_code, Length: 3205, dtype: int64"
      ]
     },
     "execution_count": 17,
     "metadata": {},
     "output_type": "execute_result"
    }
   ],
   "source": [
    "df['super_sector_code'] "
   ]
  },
  {
   "cell_type": "code",
   "execution_count": null,
   "metadata": {},
   "outputs": [],
   "source": []
  }
 ],
 "metadata": {
  "kernelspec": {
   "display_name": "zipline",
   "language": "python",
   "name": "zipline"
  },
  "language_info": {
   "codemirror_mode": {
    "name": "ipython",
    "version": 3
   },
   "file_extension": ".py",
   "mimetype": "text/x-python",
   "name": "python",
   "nbconvert_exporter": "python",
   "pygments_lexer": "ipython3",
   "version": "3.6.5"
  },
  "toc": {
   "base_numbering": 1,
   "nav_menu": {},
   "number_sections": false,
   "sideBar": true,
   "skip_h1_title": false,
   "title_cell": "Table of Contents",
   "title_sidebar": "Contents",
   "toc_cell": false,
   "toc_position": {
    "height": "calc(100% - 180px)",
    "left": "10px",
    "top": "150px",
    "width": "260px"
   },
   "toc_section_display": true,
   "toc_window_display": true
  }
 },
 "nbformat": 4,
 "nbformat_minor": 2
}
