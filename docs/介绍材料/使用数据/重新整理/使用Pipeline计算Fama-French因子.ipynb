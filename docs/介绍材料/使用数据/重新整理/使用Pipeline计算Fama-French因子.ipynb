{
 "cells": [
  {
   "cell_type": "markdown",
   "metadata": {},
   "source": [
    "`Fama-French`因子是`empyrical`包计算的基础数据，用于投资组合风险和绩效分析。`empyrical`包的数据取材于美国市场，不适用A股投资组合分析。本文尝试使用`Pipeline`，基于[Fama-French三因子模型](https://www.bogleheads.org/wiki/Fama_and_French_three-factor_model)，参考论文作者提供的[构造方法](http://mba.tuck.dartmouth.edu/pages/faculty/ken.french/Data_Library/f-f_factors.html)每天定期运行计算出相应数据，修改`empyrical`包即可使用源于A股市场的因子数据，使得真正能用于A股投资组合分析。相关[代码](https://www.quantopian.com/posts/computing-the-fama-french-factors-with-pipeline-1)及[材料](http://mba.tuck.dartmouth.edu/pages/faculty/ken.french/Data_Library/f-f_factors.html)，主要来自于`quantopian`论坛。"
   ]
  },
  {
   "cell_type": "markdown",
   "metadata": {},
   "source": [
    "quantopian最近发布的`pipeline`API可以快速运行大型股票的计算。这创造了一个广阔的世界，其中之一就是[Fama-French Three Factor Model](https://www.bogleheads.org/wiki/Fama_and_French_three-factor_model)。计算这些因子需要划分大量的股票，这些涉及数以千计的股票：在`Pipeline`之前，这在Quantopian平台上是不可能的。现在它变成了可能。"
   ]
  },
  {
   "cell_type": "markdown",
   "metadata": {},
   "source": [
    "## 原始5因子数据"
   ]
  },
  {
   "cell_type": "markdown",
   "metadata": {},
   "source": [
    "### `quantopian/empyrical`数据"
   ]
  },
  {
   "cell_type": "raw",
   "metadata": {
    "ExecuteTime": {
     "end_time": "2018-05-07T16:06:38.373796Z",
     "start_time": "2018-05-07T16:06:28.281159Z"
    }
   },
   "source": [
    "# 以后会更改，先保存结果，供调用分析\n",
    "from empyrical.utils import get_fama_french\n",
    "# http://mba.tuck.dartmouth.edu/pages/faculty/ken.french/ftp/F-F_Research_Data_Factors_daily_CSV.zip\n",
    "# http://mba.tuck.dartmouth.edu/pages/faculty/ken.french/ftp/F-F_Momentum_Factor_daily_CSV.zip\n",
    "df = get_fama_french()\n",
    "\n",
    "df.to_pickle('fama_french_5.pkl')"
   ]
  },
  {
   "cell_type": "code",
   "execution_count": null,
   "metadata": {
    "ExecuteTime": {
     "end_time": "2018-05-07T16:06:42.212959Z",
     "start_time": "2018-05-07T16:06:42.209591Z"
    }
   },
   "outputs": [],
   "source": [
    "### 调用数据\n",
    "import pandas as pd"
   ]
  },
  {
   "cell_type": "code",
   "execution_count": null,
   "metadata": {
    "ExecuteTime": {
     "end_time": "2018-05-07T16:06:42.465374Z",
     "start_time": "2018-05-07T16:06:42.455612Z"
    }
   },
   "outputs": [],
   "source": [
    "fama_french = pd.read_pickle('fama_french_5.pkl')"
   ]
  },
  {
   "cell_type": "code",
   "execution_count": null,
   "metadata": {
    "ExecuteTime": {
     "end_time": "2018-05-07T16:06:42.719249Z",
     "start_time": "2018-05-07T16:06:42.697578Z"
    }
   },
   "outputs": [],
   "source": [
    "fama_french.tail()"
   ]
  },
  {
   "cell_type": "markdown",
   "metadata": {},
   "source": [
    "## 背景"
   ]
  },
  {
   "cell_type": "markdown",
   "metadata": {},
   "source": [
    "### 三因子"
   ]
  },
  {
   "cell_type": "markdown",
   "metadata": {},
   "source": [
    "据[因子构造方法](http://mba.tuck.dartmouth.edu/pages/faculty/ken.french/Data_Library/f-f_factors.html)："
   ]
  },
  {
   "cell_type": "markdown",
   "metadata": {},
   "source": [
    "+ Fama-French因子是由6个根据市值和账面价值划分，等权重资产组合构建形成的。请参阅6个市值/账面价值资产组合的描述。"
   ]
  },
  {
   "cell_type": "markdown",
   "metadata": {},
   "source": [
    "+ SMB(Small Minus Big)为三个等权重小市值投资组合的平均回报减去三个大市值等权投资组合的平均回报。$$SMB = \\frac{1}{3}*(Small Value + Small Neutral + Small Growth)\n",
    " - \\frac{1}{3}*(Big Value + Big Neutral + Big Growth) $$"
   ]
  },
  {
   "cell_type": "markdown",
   "metadata": {
    "ExecuteTime": {
     "end_time": "2018-05-07T13:41:33.752277Z",
     "start_time": "2018-05-07T13:41:33.747294Z"
    }
   },
   "source": [
    "+ HML(High Minus Low)是两个等权市值组合的平均收益减去两个等权增长组合的平均收益。$$HML = \\frac{1}{2}*(Small Value + Big Value)\n",
    " - \\frac{1}{2}*(Small Growth + Big Growth)$$"
   ]
  },
  {
   "cell_type": "markdown",
   "metadata": {},
   "source": [
    "+ `Rm-Rf`为市场超额收益，为股票收益率减去一个月国库券资金成本。"
   ]
  },
  {
   "cell_type": "markdown",
   "metadata": {},
   "source": [
    "股票范围：\n",
    " + `Rm-Rf`包含所有股票\n",
    " + `SMB和HML`要求`t-1年`账面价值为正数；`t-1年12月`至`t年6月`有市值数据"
   ]
  },
  {
   "cell_type": "markdown",
   "metadata": {},
   "source": [
    "### 五因子"
   ]
  },
  {
   "cell_type": "markdown",
   "metadata": {},
   "source": [
    "[因子构造方法](http://mba.tuck.dartmouth.edu/pages/faculty/ken.french/Data_Library/f-f_5developed.html)："
   ]
  },
  {
   "cell_type": "markdown",
   "metadata": {},
   "source": [
    "+ 所有回报包括股息和资本收益，且不会持续复合计算。`Market`是一个地区的等权重股票组合的收益减去一个月的国库券利率。"
   ]
  },
  {
   "cell_type": "markdown",
   "metadata": {},
   "source": [
    "`Fama/French 5 因子(2x3)`使用(1)市值和账面价值基础上构造的6个等权组合；(2)市值和营运盈利能力基础上构造的6个等权组合；(3)市值和投资基础上构造的6个等权组合等三项来构造。"
   ]
  },
  {
   "cell_type": "markdown",
   "metadata": {},
   "source": [
    "为了构建`SMB`、`HML`、`RMW`和`CMA`因子，在每年六月底，我们将一个地区的股票分为两类市值和三个相应的账面市值(B/M)，运营盈利能力（OP）和投资（INV）组。大型股票指的是该地区6月份市值位于最高90％以上的股票，而小型股票指的是市值位于底部10％以下的股票。一个地区的B/M，OP和INV断点是该地区大型股票的相应比率的第30和第70百分位。"
   ]
  },
  {
   "cell_type": "markdown",
   "metadata": {},
   "source": [
    "SMB(Small Minus Big)是九个小型股票投资组合的平均回报减去九个大股票投资组合的平均回报：$$SMB_{(B/M)} = \\frac{1}{3} * (Small Value + Small Neutral + Small Growth) - \\frac{1}{3} * (Big Value + Big Neutral + Big Growth)$$ \n",
    "$$SMB_{(OP)} = \\frac{1}{3} * (Small Robust + Small Neutral + Small Weak) - \\frac{1}{3} * (Big Robust + Big Neutral + Big Weak)$$ \n",
    "$$SMB_{(INV)} = \\frac{1}{3} * (Small Conservative + Small Neutral + Small Aggressive) - \\frac{1}{3} * (Big Conservative + Big Neutral + Big Aggressive)$$ \n",
    "$$SMB = \\frac{1}{3} *  (SMB_{(B/M)} + SMB_{(OP)} + SMB_{(INV)})$$"
   ]
  },
  {
   "cell_type": "markdown",
   "metadata": {},
   "source": [
    "`HML(High Minus Low)`是两个价值组合的平均收益减去两个增长组合的平均收益:\n",
    "\n",
    "$$HML = \\frac{1}{2} *  (Small Value + Big Value) - \\frac{1}{2} *  (Small Growth + Big Growth)$$"
   ]
  },
  {
   "cell_type": "markdown",
   "metadata": {},
   "source": [
    "`RMW(Robust Minus Weak)`是两个强劲的运营盈利能力组合的平均回报减去两个疲软的运营盈利能力组合的平均回报：$$RMW = \\frac{1}{2} *  (Small Robust + Big Robust) - \\frac{1}{2} *  (Small Weak + Big Weak)$$"
   ]
  },
  {
   "cell_type": "markdown",
   "metadata": {},
   "source": [
    "`CMA(Conservative Minus Aggressive)`是两个保守投资组合（此处指选取公司投资风格保守的股票作为投资组合）的平均回报减去两个积极投资组合的平均回报：$$CMA = \\frac{1}{2} *  (Small Conservative + Big Conservative) - \\frac{1}{2} *  (Small Aggressive + Big Aggressive)$$"
   ]
  },
  {
   "cell_type": "markdown",
   "metadata": {},
   "source": [
    "### 有关取样细节"
   ]
  },
  {
   "cell_type": "markdown",
   "metadata": {},
   "source": [
    "+ Detail for Portfolios Formed on Size 排除ME < 0"
   ]
  },
  {
   "cell_type": "markdown",
   "metadata": {},
   "source": [
    "## 构造因子"
   ]
  },
  {
   "cell_type": "code",
   "execution_count": 1,
   "metadata": {
    "ExecuteTime": {
     "end_time": "2018-05-08T11:06:35.281608Z",
     "start_time": "2018-05-08T11:06:32.299934Z"
    }
   },
   "outputs": [
    {
     "name": "stderr",
     "output_type": "stream",
     "text": [
      "/home/ldf/anaconda3/envs/zipline/lib/python3.6/site-packages/h5py/__init__.py:36: FutureWarning: Conversion of the second argument of issubdtype from `float` to `np.floating` is deprecated. In future, it will be treated as `np.float64 == np.dtype(float).type`.\n",
      "  from ._conv import register_converters as _register_converters\n"
     ]
    }
   ],
   "source": [
    "#%%prun\n",
    "from zipline.pipeline import Pipeline\n",
    "from zipline.pipeline.fundamentals import Fundamentals"
   ]
  },
  {
   "cell_type": "markdown",
   "metadata": {},
   "source": [
    "### 辅助函数"
   ]
  },
  {
   "cell_type": "markdown",
   "metadata": {},
   "source": [
    "### 三因子"
   ]
  },
  {
   "cell_type": "markdown",
   "metadata": {},
   "source": [
    "### 五因子"
   ]
  },
  {
   "cell_type": "code",
   "execution_count": null,
   "metadata": {},
   "outputs": [],
   "source": [
    "import pandas as pd\n",
    "import numpy as np\n",
    "from quantopian.algorithm import attach_pipeline, pipeline_output\n",
    "from quantopian.pipeline import Pipeline\n",
    "from quantopian.pipeline import CustomFactor\n",
    "from quantopian.pipeline.data.builtin import USEquityPricing\n",
    "from quantopian.pipeline.data import morningstar\n",
    "\n",
    "# time frame on which we want to compute Fama-French\n",
    "normal_days = 31\n",
    "# approximate the number of trading days in that period\n",
    "# this is the number of trading days we'll look back on,\n",
    "# on every trading day.\n",
    "business_days = int(0.69 * normal_days)\n",
    "\n",
    "class Returns(CustomFactor):\n",
    "    \"\"\"\n",
    "    this factor outputs the returns over the period defined by \n",
    "    business_days, ending on the previous trading day, for every security.\n",
    "    \"\"\"\n",
    "    window_length = business_days\n",
    "    inputs = [USEquityPricing.close]\n",
    "    def compute(self,today,assets,out,price):\n",
    "        out[:] = (price[-1] - price[0]) / price[0] * 100\n",
    "\n",
    "class MarketEquity(CustomFactor):\n",
    "    \"\"\"\n",
    "    this factor outputs the market cap of every security on the day.\n",
    "    \"\"\"\n",
    "    window_length = business_days\n",
    "    inputs = [morningstar.valuation.market_cap]\n",
    "    def compute(self,today,assets,out,mcap):\n",
    "        out[:] = mcap[0]\n",
    "\n",
    "class BookEquity(CustomFactor):\n",
    "    \"\"\"\n",
    "    this factor outputs the book value of every security on the day.\n",
    "    \"\"\"\n",
    "    window_length = business_days\n",
    "    inputs = [morningstar.balance_sheet.tangible_book_value]\n",
    "    def compute(self,today,assets,out,book):\n",
    "        out[:] = book[0]\n",
    "                                        \n",
    "class CommonStock(CustomFactor):\n",
    "    \"\"\"\n",
    "    this factor outputs 1.0 for all securities that are either common stock or SPY,\n",
    "    and outputs 0.0 for all other securities. This is to filter out ETFs and other\n",
    "    types of share that we do not wish to consider.\n",
    "    \"\"\"\n",
    "    window_length = business_days\n",
    "    inputs = [morningstar.share_class_reference.is_primary_share]\n",
    "    def compute(self,today,assets,out, share_class):\n",
    "        out[:] = ((share_class[-1].astype(bool)) | (assets == 8554)).astype(float)                                     \n",
    "        \n",
    "def initialize(context):\n",
    "    \"\"\"\n",
    "    use our factors to add our pipes and screens.\n",
    "    \"\"\"\n",
    "    pipe = Pipeline()\n",
    "    attach_pipeline(pipe, 'ff_example')\n",
    "    \n",
    "    common_stock = CommonStock()\n",
    "    # filter down to securities that are either common stock or SPY\n",
    "    pipe.set_screen(common_stock.eq(1))\n",
    "    mkt_cap = MarketEquity()\n",
    "    pipe.add(mkt_cap,'market_cap')\n",
    "    \n",
    "    book_equity = BookEquity()\n",
    "    # book equity over market equity\n",
    "    be_me = book_equity/mkt_cap\n",
    "    pipe.add(be_me,'be_me')\n",
    "\n",
    "    returns = Returns()\n",
    "    pipe.add(returns,'returns')\n",
    "    schedule_function(func=print_fama_french, date_rule=date_rules.every_day())\n",
    "\n",
    "def print_fama_french(context, data):\n",
    "    # print the Fama-French factors for the period defined by business_days\n",
    "    # ending on the previous trading day.\n",
    "    print(context.rm_rf, context.smb, context.hml)\n",
    "    \n",
    "def before_trading_start(context,data):\n",
    "    \"\"\"\n",
    "    every trading day, we use our pipes to construct the Fama-French\n",
    "    portfolios, and then calculate the Fama-French factors appropriately.\n",
    "    \"\"\"\n",
    "    spy = sid(8554)\n",
    "    \n",
    "    factors = pipeline_output('ff_example')\n",
    "    \n",
    "    # get the data we're going to use\n",
    "    returns = factors['returns']\n",
    "    mkt_cap = factors.sort(['market_cap'], ascending=True)\n",
    "    be_me = factors.sort(['be_me'], ascending=True)\n",
    "    \n",
    "    # to compose the six portfolios, split our universe into portions\n",
    "    half = int(len(mkt_cap)*0.5)\n",
    "    small_caps = mkt_cap[:half]\n",
    "    big_caps = mkt_cap[half:]\n",
    "    \n",
    "    thirty = int(len(be_me)*0.3)\n",
    "    seventy = int(len(be_me)*0.7)\n",
    "    growth = be_me[:thirty]\n",
    "    neutral = be_me[thirty:seventy]\n",
    "    value = be_me[seventy:]\n",
    "    \n",
    "    # now use the portions to construct the portfolios.\n",
    "    # note: these portfolios are just lists (indices) of equities\n",
    "    small_value = small_caps.index.intersection(value.index)\n",
    "    small_neutral = small_caps.index.intersection(neutral.index)\n",
    "    small_growth = small_caps.index.intersection(growth.index)\n",
    "    \n",
    "    big_value = big_caps.index.intersection(value.index)\n",
    "    big_neutral = big_caps.index.intersection(neutral.index)\n",
    "    big_growth = big_caps.index.intersection(growth.index)\n",
    "    \n",
    "    # take the mean to get the portfolio return, assuming uniform\n",
    "    # allocation to its constituent equities.\n",
    "    sv = returns[small_value].mean()\n",
    "    sn = returns[small_neutral].mean()\n",
    "    sg = returns[small_growth].mean()\n",
    "    \n",
    "    bv = returns[big_value].mean()\n",
    "    bn = returns[big_neutral].mean()\n",
    "    bg = returns[big_growth].mean()\n",
    "    \n",
    "    # computing Rm-Rf (Market Returns - Risk-Free Returns). we take the \n",
    "    # rate of risk-free returns to be zero, so this is simply SPY's returns.\n",
    "    # have to set an initial dummy value\n",
    "    context.rm_rf = float('nan')\n",
    "    if spy in returns.index:\n",
    "        context.rm_rf = returns.loc[spy]\n",
    "    \n",
    "    # computing SMB\n",
    "    context.smb = (sv + sn + sg)/3 - (bv + bn + bg)/3\n",
    "    \n",
    "    # computing HML\n",
    "    context.hml = (sv + bv)/2 - (sg + bg)/2"
   ]
  },
  {
   "cell_type": "code",
   "execution_count": null,
   "metadata": {},
   "outputs": [],
   "source": [
    "from zipline.api import symbol, sid, get_datetime\n",
    "\n",
    "import pandas as pd\n",
    "import numpy as np\n",
    "from zipline.api import attach_pipeline, pipeline_output\n",
    "from zipline.pipeline import Pipeline\n",
    "from zipline.pipeline import CustomFactor\n",
    "from zipline.pipeline.data import USEquityPricing\n",
    "from zipline.pipeline.fundamentals import Fundamentals\n",
    "\n",
    "# time frame on which we want to compute Fama-French\n",
    "normal_days = 31\n",
    "# approximate the number of trading days in that period\n",
    "# this is the number of trading days we'll look back on,\n",
    "# on every trading day.\n",
    "business_days = int(0.69 * normal_days)\n",
    "\n",
    "# 以下自定义因子选取期初数\n",
    "class Returns(CustomFactor):\n",
    "    \"\"\"\n",
    "    每个交易日每个股票窗口长度\"business_days\"期间收益率\n",
    "    \"\"\"\n",
    "    window_length = business_days\n",
    "    inputs = [USEquityPricing.close]\n",
    "    def compute(self, today, assets, out, price):\n",
    "        out[:] = (price[-1] - price[0]) / price[0] * 100\n",
    "\n",
    "class MarketEquity(CustomFactor):\n",
    "    \"\"\"\n",
    "    每个交易日每只股票所对应的总市值\n",
    "    \"\"\"\n",
    "    window_length = business_days\n",
    "    inputs = [USEquityPricing.tmv]\n",
    "    def compute(self,today,assets,out,mcap):\n",
    "        out[:] = mcap[0]\n",
    "\n",
    "class BookEquity(CustomFactor):\n",
    "    \"\"\"\n",
    "    每个交易日每只股票所对应的账面价值（所有者权益）\n",
    "    \"\"\"\n",
    "    window_length = business_days\n",
    "    inputs = [Fundamentals.balance_sheet.A107]\n",
    "    def compute(self, today, assets, out, book):\n",
    "        out[:] = book[0]\n",
    "                                                                             \n",
    "def initialize(context):\n",
    "    \"\"\"\n",
    "    use our factors to add our pipes and screens.\n",
    "    \"\"\"\n",
    "    pipe = Pipeline()\n",
    "    mkt_cap = MarketEquity()\n",
    "    pipe.add(mkt_cap,'market_cap')\n",
    "    \n",
    "    book_equity = BookEquity()\n",
    "    # book equity over market equity\n",
    "    be_me = book_equity / mkt_cap\n",
    "    pipe.add(be_me,'be_me')\n",
    "\n",
    "    returns = Returns()\n",
    "    pipe.add(returns,'returns')\n",
    "\n",
    "    attach_pipeline(pipe, 'ff_example')\n",
    "\n",
    "    \n",
    "def before_trading_start(context,data):\n",
    "    \"\"\"\n",
    "    every trading day, we use our pipes to construct the Fama-French\n",
    "    portfolios, and then calculate the Fama-French factors appropriately.\n",
    "    \"\"\"\n",
    "     \n",
    "    factors = pipeline_output('ff_example')\n",
    "    \n",
    "    # get the data we're going to use\n",
    "    returns = factors['returns']\n",
    "    mkt_cap = factors.sort_values(['market_cap'], ascending=True)\n",
    "    be_me = factors.sort_values(['be_me'], ascending=True)\n",
    "    \n",
    "    # to compose the six portfolios, split our universe into portions\n",
    "    half = int(len(mkt_cap) * 0.5)\n",
    "    small_caps = mkt_cap[:half]\n",
    "    big_caps = mkt_cap[half:]\n",
    "    \n",
    "    thirty = int(len(be_me) * 0.3)\n",
    "    seventy = int(len(be_me) * 0.7)\n",
    "    growth = be_me[:thirty]\n",
    "    neutral = be_me[thirty:seventy]\n",
    "    value = be_me[seventy:]\n",
    "    \n",
    "    # now use the portions to construct the portfolios.\n",
    "    # note: these portfolios are just lists (indices) of equities\n",
    "    small_value = small_caps.index.intersection(value.index)\n",
    "    small_neutral = small_caps.index.intersection(neutral.index)\n",
    "    small_growth = small_caps.index.intersection(growth.index)\n",
    "    \n",
    "    big_value = big_caps.index.intersection(value.index)\n",
    "    big_neutral = big_caps.index.intersection(neutral.index)\n",
    "    big_growth = big_caps.index.intersection(growth.index)\n",
    "    \n",
    "    # take the mean to get the portfolio return, assuming uniform\n",
    "    # allocation to its constituent equities.\n",
    "    sv = returns[small_value].mean()\n",
    "    sn = returns[small_neutral].mean()\n",
    "    sg = returns[small_growth].mean()\n",
    "    \n",
    "    bv = returns[big_value].mean()\n",
    "    bn = returns[big_neutral].mean()\n",
    "    bg = returns[big_growth].mean()\n",
    "    \n",
    "    # computing Rm-Rf (Market Returns - Risk-Free Returns).  we take the\n",
    "    # rate of risk-free returns to be zero, so this is simply SPY's returns.\n",
    "    # have to set an initial dummy value\n",
    "    #context.rm_rf = float('nan')\n",
    "    #if spy in returns.index:\n",
    "        #context.rm_rf = returns.loc[spy]\n",
    "    \n",
    "    # computing SMB\n",
    "    context.smb = (sv + sn + sg) / 3 - (bv + bn + bg) / 3\n",
    "    \n",
    "    # computing HML\n",
    "    context.hml = (sv + bv) / 2 - (sg + bg) / 2\n",
    "\n",
    "def handle_data(context, data):\n",
    "    # print the Fama-French factors for the period defined by business_days\n",
    "    # ending on the previous trading day.\n",
    "    print(context.smb, context.hml)"
   ]
  },
  {
   "cell_type": "code",
   "execution_count": 2,
   "metadata": {
    "ExecuteTime": {
     "end_time": "2018-05-08T11:09:18.471939Z",
     "start_time": "2018-05-08T11:09:18.463287Z"
    }
   },
   "outputs": [],
   "source": [
    "import numpy as np"
   ]
  },
  {
   "cell_type": "code",
   "execution_count": 3,
   "metadata": {
    "ExecuteTime": {
     "end_time": "2018-05-08T11:09:31.317410Z",
     "start_time": "2018-05-08T11:09:31.312821Z"
    }
   },
   "outputs": [],
   "source": [
    "x = [1,2,3,4]"
   ]
  },
  {
   "cell_type": "code",
   "execution_count": 4,
   "metadata": {
    "ExecuteTime": {
     "end_time": "2018-05-08T11:09:39.114292Z",
     "start_time": "2018-05-08T11:09:39.090109Z"
    }
   },
   "outputs": [
    {
     "data": {
      "text/plain": [
       "2.5"
      ]
     },
     "execution_count": 4,
     "metadata": {},
     "output_type": "execute_result"
    }
   ],
   "source": [
    "np.average(x)"
   ]
  },
  {
   "cell_type": "code",
   "execution_count": 5,
   "metadata": {
    "ExecuteTime": {
     "end_time": "2018-05-08T11:09:50.381931Z",
     "start_time": "2018-05-08T11:09:50.377752Z"
    }
   },
   "outputs": [],
   "source": [
    "x = [1,2,0,3,4]"
   ]
  },
  {
   "cell_type": "code",
   "execution_count": 6,
   "metadata": {
    "ExecuteTime": {
     "end_time": "2018-05-08T11:09:55.414765Z",
     "start_time": "2018-05-08T11:09:55.408527Z"
    }
   },
   "outputs": [
    {
     "data": {
      "text/plain": [
       "2.0"
      ]
     },
     "execution_count": 6,
     "metadata": {},
     "output_type": "execute_result"
    }
   ],
   "source": [
    "np.average(x)"
   ]
  },
  {
   "cell_type": "code",
   "execution_count": null,
   "metadata": {},
   "outputs": [],
   "source": []
  }
 ],
 "metadata": {
  "kernelspec": {
   "display_name": "zipline",
   "language": "python",
   "name": "zipline"
  },
  "language_info": {
   "codemirror_mode": {
    "name": "ipython",
    "version": 3
   },
   "file_extension": ".py",
   "mimetype": "text/x-python",
   "name": "python",
   "nbconvert_exporter": "python",
   "pygments_lexer": "ipython3",
   "version": "3.6.5"
  },
  "toc": {
   "base_numbering": 1,
   "nav_menu": {},
   "number_sections": true,
   "sideBar": true,
   "skip_h1_title": false,
   "title_cell": "Table of Contents",
   "title_sidebar": "Contents",
   "toc_cell": false,
   "toc_position": {},
   "toc_section_display": true,
   "toc_window_display": true
  }
 },
 "nbformat": 4,
 "nbformat_minor": 2
}
