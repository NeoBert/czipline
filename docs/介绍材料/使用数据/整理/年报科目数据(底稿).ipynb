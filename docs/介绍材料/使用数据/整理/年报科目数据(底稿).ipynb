{
 "cells": [
  {
   "cell_type": "markdown",
   "metadata": {},
   "source": [
    "上市公司经常会将年报与一季度报告一起发布，这样`pipeline`就无法有效获取上一年度的数据。为解决此问题，在`Fundamentals`中新增年报数据集，即筛选出年末部分的报告。名称与原财报类似，尾缀加'yearly'。"
   ]
  },
  {
   "cell_type": "code",
   "execution_count": 1,
   "metadata": {
    "ExecuteTime": {
     "end_time": "2018-05-16T10:16:27.937299Z",
     "start_time": "2018-05-16T10:16:25.873467Z"
    }
   },
   "outputs": [],
   "source": [
    "from zipline.pipeline.factors import CustomFactor"
   ]
  },
  {
   "cell_type": "code",
   "execution_count": 2,
   "metadata": {
    "ExecuteTime": {
     "end_time": "2018-05-16T10:16:28.665074Z",
     "start_time": "2018-05-16T10:16:27.941615Z"
    }
   },
   "outputs": [],
   "source": [
    "from zipline.pipeline.fundamentals import Fundamentals"
   ]
  },
  {
   "cell_type": "code",
   "execution_count": 3,
   "metadata": {
    "ExecuteTime": {
     "end_time": "2018-05-16T10:16:28.671628Z",
     "start_time": "2018-05-16T10:16:28.667974Z"
    }
   },
   "outputs": [],
   "source": [
    "from zipline.pipeline import CustomFactor, Pipeline"
   ]
  },
  {
   "cell_type": "code",
   "execution_count": 4,
   "metadata": {
    "ExecuteTime": {
     "end_time": "2018-05-16T10:16:28.681380Z",
     "start_time": "2018-05-16T10:16:28.675797Z"
    }
   },
   "outputs": [],
   "source": [
    "from zipline.utils.numpy_utils import changed_locations"
   ]
  },
  {
   "cell_type": "code",
   "execution_count": 5,
   "metadata": {
    "ExecuteTime": {
     "end_time": "2018-05-16T10:16:28.689373Z",
     "start_time": "2018-05-16T10:16:28.685178Z"
    }
   },
   "outputs": [],
   "source": [
    "import pandas as pd\n",
    "import numpy as np"
   ]
  },
  {
   "cell_type": "markdown",
   "metadata": {},
   "source": [
    "## 辅助区"
   ]
  },
  {
   "cell_type": "code",
   "execution_count": 6,
   "metadata": {
    "ExecuteTime": {
     "end_time": "2018-05-16T10:16:28.717019Z",
     "start_time": "2018-05-16T10:16:28.694912Z"
    }
   },
   "outputs": [
    {
     "data": {
      "text/plain": [
       "{'A033': '营业利润'}"
      ]
     },
     "execution_count": 6,
     "metadata": {},
     "output_type": "execute_result"
    }
   ],
   "source": [
    "Fundamentals.profit_col_code('营业利润')"
   ]
  },
  {
   "cell_type": "code",
   "execution_count": 7,
   "metadata": {
    "ExecuteTime": {
     "end_time": "2018-05-16T10:16:28.724057Z",
     "start_time": "2018-05-16T10:16:28.720119Z"
    }
   },
   "outputs": [],
   "source": [
    "from zipline.pipeline.filters import StaticSids"
   ]
  },
  {
   "cell_type": "code",
   "execution_count": 8,
   "metadata": {
    "ExecuteTime": {
     "end_time": "2018-05-16T10:16:29.155011Z",
     "start_time": "2018-05-16T10:16:28.731042Z"
    }
   },
   "outputs": [],
   "source": [
    "from zipline.pipeline.builtin import QTradableStocks"
   ]
  },
  {
   "cell_type": "markdown",
   "metadata": {},
   "source": [
    "## 使用年报数据"
   ]
  },
  {
   "cell_type": "code",
   "execution_count": 9,
   "metadata": {
    "ExecuteTime": {
     "end_time": "2018-05-16T10:16:29.164828Z",
     "start_time": "2018-05-16T10:16:29.159302Z"
    }
   },
   "outputs": [],
   "source": [
    "def _select_annual_indices(dates):\n",
    "    \"\"\"选取最近第n年年末财务报告位置辅助函数\"\"\"\n",
    "    col_num = dates.shape[1]\n",
    "    locs = []\n",
    "\n",
    "    for col in range(col_num):\n",
    "        singal_dates = dates[:,col]\n",
    "        loc = changed_locations(singal_dates, True)\n",
    "        locs.append(loc)\n",
    "        \n",
    "    return locs"
   ]
  },
  {
   "cell_type": "code",
   "execution_count": 10,
   "metadata": {
    "ExecuteTime": {
     "end_time": "2018-05-16T10:16:32.145720Z",
     "start_time": "2018-05-16T10:16:29.167680Z"
    }
   },
   "outputs": [],
   "source": [
    "class AnnualFinancalData(CustomFactor):\n",
    "    \"\"\"\n",
    "    选取当前时间为t,t-n年的年度科目数据\n",
    "    \"\"\"\n",
    "    inputs = [Fundamentals.profit_statement_yearly.A033, \n",
    "              Fundamentals.profit_statement_yearly.report_end_date]\n",
    "    window_length = 250\n",
    "    params = {'t_n': 1}\n",
    "    window_safe = True\n",
    "    def _validate(self):\n",
    "        super(AnnualFinancalData, self)._validate()\n",
    "        if len(self.inputs) != 2:\n",
    "            raise ValueError('inputs列表长度只能为2')\n",
    "        t_n = self.params.get('t_n')\n",
    "        win = self.window_length\n",
    "        at_least = t_n * 245\n",
    "        if win < at_least:\n",
    "            raise ValueError('window_length值至少应为t_n*245，即{}'.format(t_n*245))\n",
    "        last_col = self.inputs[-1]\n",
    "        if last_col.name != 'report_end_date':\n",
    "            raise ValueError('inputs列表最后一项必须为\"report_end_date\"')\n",
    "            \n",
    "    def compute(self, today, assets, out, values, dates, t_n):\n",
    "        locs = _select_annual_indices(dates)\n",
    "        for col_loc, row_locs in enumerate(locs):\n",
    "            row_loc = row_locs[-t_n]\n",
    "            out[col_loc] = values[row_loc, col_loc]"
   ]
  },
  {
   "cell_type": "markdown",
   "metadata": {},
   "source": [
    "## `t-1`期"
   ]
  },
  {
   "cell_type": "code",
   "execution_count": 11,
   "metadata": {
    "ExecuteTime": {
     "end_time": "2018-05-16T10:16:32.770243Z",
     "start_time": "2018-05-16T10:16:32.150030Z"
    }
   },
   "outputs": [],
   "source": [
    "from zipline.research import run_pipeline\n",
    "from zipline.research import select_output_by"
   ]
  },
  {
   "cell_type": "code",
   "execution_count": 12,
   "metadata": {
    "ExecuteTime": {
     "end_time": "2018-05-16T10:16:32.778388Z",
     "start_time": "2018-05-16T10:16:32.772905Z"
    }
   },
   "outputs": [],
   "source": [
    "def make_pipeline():\n",
    "    \"\"\"构造pipeline\"\"\"\n",
    "    return Pipeline(\n",
    "        columns={\n",
    "            't-1营业利润': AnnualFinancalData(),\n",
    "            '最近一期营业利润':Fundamentals.profit_statement.A033.latest,\n",
    "            '公告日期':Fundamentals.profit_statement.asof_date.latest,\n",
    "            '报告截至日期':Fundamentals.profit_statement.report_end_date.latest,\n",
    "        })\n"
   ]
  },
  {
   "cell_type": "code",
   "execution_count": 13,
   "metadata": {
    "ExecuteTime": {
     "end_time": "2018-05-16T10:16:35.708161Z",
     "start_time": "2018-05-16T10:16:32.782434Z"
    }
   },
   "outputs": [
    {
     "data": {
      "text/html": [
       "<div>\n",
       "<style scoped>\n",
       "    .dataframe tbody tr th:only-of-type {\n",
       "        vertical-align: middle;\n",
       "    }\n",
       "\n",
       "    .dataframe tbody tr th {\n",
       "        vertical-align: top;\n",
       "    }\n",
       "\n",
       "    .dataframe thead th {\n",
       "        text-align: right;\n",
       "    }\n",
       "</style>\n",
       "<table border=\"1\" class=\"dataframe\">\n",
       "  <thead>\n",
       "    <tr style=\"text-align: right;\">\n",
       "      <th></th>\n",
       "      <th></th>\n",
       "      <th>t-1营业利润</th>\n",
       "      <th>公告日期</th>\n",
       "      <th>报告截至日期</th>\n",
       "      <th>最近一期营业利润</th>\n",
       "    </tr>\n",
       "  </thead>\n",
       "  <tbody>\n",
       "    <tr>\n",
       "      <th rowspan=\"3\" valign=\"top\">2018-05-11 00:00:00+00:00</th>\n",
       "      <th>平安银行(000001)</th>\n",
       "      <td>3022300.0</td>\n",
       "      <td>2018-04-19</td>\n",
       "      <td>2018-03-31</td>\n",
       "      <td>858400.0</td>\n",
       "    </tr>\n",
       "    <tr>\n",
       "      <th>华联控股(000036)</th>\n",
       "      <td>161003.0</td>\n",
       "      <td>2018-04-27</td>\n",
       "      <td>2018-03-31</td>\n",
       "      <td>16203.0</td>\n",
       "    </tr>\n",
       "    <tr>\n",
       "      <th>浦发银行(600000)</th>\n",
       "      <td>7027500.0</td>\n",
       "      <td>2018-04-27</td>\n",
       "      <td>2018-03-31</td>\n",
       "      <td>1710500.0</td>\n",
       "    </tr>\n",
       "  </tbody>\n",
       "</table>\n",
       "</div>"
      ],
      "text/plain": [
       "                                          t-1营业利润       公告日期     报告截至日期  \\\n",
       "2018-05-11 00:00:00+00:00 平安银行(000001)  3022300.0 2018-04-19 2018-03-31   \n",
       "                          华联控股(000036)   161003.0 2018-04-27 2018-03-31   \n",
       "                          浦发银行(600000)  7027500.0 2018-04-27 2018-03-31   \n",
       "\n",
       "                                         最近一期营业利润  \n",
       "2018-05-11 00:00:00+00:00 平安银行(000001)   858400.0  \n",
       "                          华联控股(000036)    16203.0  \n",
       "                          浦发银行(600000)  1710500.0  "
      ]
     },
     "execution_count": 13,
     "metadata": {},
     "output_type": "execute_result"
    }
   ],
   "source": [
    "df = run_pipeline(make_pipeline(), '2018-5-11','2018-5-11')\n",
    "select_output_by(df, stock_codes=['000001','600000','000036'])"
   ]
  },
  {
   "cell_type": "markdown",
   "metadata": {},
   "source": [
    "## `t-2`期"
   ]
  },
  {
   "cell_type": "code",
   "execution_count": 14,
   "metadata": {
    "ExecuteTime": {
     "end_time": "2018-05-16T10:16:35.720150Z",
     "start_time": "2018-05-16T10:16:35.710727Z"
    }
   },
   "outputs": [],
   "source": [
    "def make_pipeline():\n",
    "    \"\"\"构造pipeline\"\"\"\n",
    "    return Pipeline(\n",
    "        columns={\n",
    "            't-2营业利润': AnnualFinancalData(t_n=2,window_length=500), #mask=StaticSids([1,333,600000])),\n",
    "            '最近一期营业利润':Fundamentals.profit_statement.A033.latest,\n",
    "            '公告日期':Fundamentals.profit_statement.asof_date.latest,\n",
    "            '报告截至日期':Fundamentals.profit_statement.report_end_date.latest,\n",
    "        })"
   ]
  },
  {
   "cell_type": "code",
   "execution_count": 15,
   "metadata": {
    "ExecuteTime": {
     "end_time": "2018-05-16T10:16:37.273719Z",
     "start_time": "2018-05-16T10:16:35.728574Z"
    }
   },
   "outputs": [
    {
     "data": {
      "text/html": [
       "<div>\n",
       "<style scoped>\n",
       "    .dataframe tbody tr th:only-of-type {\n",
       "        vertical-align: middle;\n",
       "    }\n",
       "\n",
       "    .dataframe tbody tr th {\n",
       "        vertical-align: top;\n",
       "    }\n",
       "\n",
       "    .dataframe thead th {\n",
       "        text-align: right;\n",
       "    }\n",
       "</style>\n",
       "<table border=\"1\" class=\"dataframe\">\n",
       "  <thead>\n",
       "    <tr style=\"text-align: right;\">\n",
       "      <th></th>\n",
       "      <th></th>\n",
       "      <th>t-2营业利润</th>\n",
       "      <th>公告日期</th>\n",
       "      <th>报告截至日期</th>\n",
       "      <th>最近一期营业利润</th>\n",
       "    </tr>\n",
       "  </thead>\n",
       "  <tbody>\n",
       "    <tr>\n",
       "      <th rowspan=\"3\" valign=\"top\">2018-05-11 00:00:00+00:00</th>\n",
       "      <th>平安银行(000001)</th>\n",
       "      <td>2977900.0</td>\n",
       "      <td>2018-04-19</td>\n",
       "      <td>2018-03-31</td>\n",
       "      <td>858400.0</td>\n",
       "    </tr>\n",
       "    <tr>\n",
       "      <th>华联控股(000036)</th>\n",
       "      <td>179037.0</td>\n",
       "      <td>2018-04-27</td>\n",
       "      <td>2018-03-31</td>\n",
       "      <td>16203.0</td>\n",
       "    </tr>\n",
       "    <tr>\n",
       "      <th>浦发银行(600000)</th>\n",
       "      <td>6966000.0</td>\n",
       "      <td>2018-04-27</td>\n",
       "      <td>2018-03-31</td>\n",
       "      <td>1710500.0</td>\n",
       "    </tr>\n",
       "  </tbody>\n",
       "</table>\n",
       "</div>"
      ],
      "text/plain": [
       "                                          t-2营业利润       公告日期     报告截至日期  \\\n",
       "2018-05-11 00:00:00+00:00 平安银行(000001)  2977900.0 2018-04-19 2018-03-31   \n",
       "                          华联控股(000036)   179037.0 2018-04-27 2018-03-31   \n",
       "                          浦发银行(600000)  6966000.0 2018-04-27 2018-03-31   \n",
       "\n",
       "                                         最近一期营业利润  \n",
       "2018-05-11 00:00:00+00:00 平安银行(000001)   858400.0  \n",
       "                          华联控股(000036)    16203.0  \n",
       "                          浦发银行(600000)  1710500.0  "
      ]
     },
     "execution_count": 15,
     "metadata": {},
     "output_type": "execute_result"
    }
   ],
   "source": [
    "df = run_pipeline(make_pipeline(), '2018-5-11','2018-5-11')\n",
    "select_output_by(df, stock_codes=['000001','600000','000036'])"
   ]
  },
  {
   "cell_type": "markdown",
   "metadata": {},
   "source": [
    "## 原始数据"
   ]
  },
  {
   "cell_type": "code",
   "execution_count": 16,
   "metadata": {
    "ExecuteTime": {
     "end_time": "2018-05-16T10:16:37.280853Z",
     "start_time": "2018-05-16T10:16:37.277091Z"
    }
   },
   "outputs": [],
   "source": [
    "from odo import odo\n",
    "from zipline.pipeline.fundamentals.base import STOCK_DB"
   ]
  },
  {
   "cell_type": "code",
   "execution_count": 17,
   "metadata": {
    "ExecuteTime": {
     "end_time": "2018-05-16T10:16:39.982297Z",
     "start_time": "2018-05-16T10:16:37.283681Z"
    }
   },
   "outputs": [],
   "source": [
    "profit = odo(STOCK_DB.profit_statements, pd.DataFrame)"
   ]
  },
  {
   "cell_type": "code",
   "execution_count": 18,
   "metadata": {
    "ExecuteTime": {
     "end_time": "2018-05-16T10:16:40.025431Z",
     "start_time": "2018-05-16T10:16:39.984976Z"
    }
   },
   "outputs": [
    {
     "data": {
      "text/html": [
       "<div>\n",
       "<style scoped>\n",
       "    .dataframe tbody tr th:only-of-type {\n",
       "        vertical-align: middle;\n",
       "    }\n",
       "\n",
       "    .dataframe tbody tr th {\n",
       "        vertical-align: top;\n",
       "    }\n",
       "\n",
       "    .dataframe thead th {\n",
       "        text-align: right;\n",
       "    }\n",
       "</style>\n",
       "<table border=\"1\" class=\"dataframe\">\n",
       "  <thead>\n",
       "    <tr style=\"text-align: right;\">\n",
       "      <th></th>\n",
       "      <th>报告日期</th>\n",
       "      <th>营业利润</th>\n",
       "    </tr>\n",
       "  </thead>\n",
       "  <tbody>\n",
       "    <tr>\n",
       "      <th>63114</th>\n",
       "      <td>2015-12-31</td>\n",
       "      <td>6606700.0</td>\n",
       "    </tr>\n",
       "    <tr>\n",
       "      <th>63115</th>\n",
       "      <td>2016-03-31</td>\n",
       "      <td>1843300.0</td>\n",
       "    </tr>\n",
       "    <tr>\n",
       "      <th>63116</th>\n",
       "      <td>2016-06-30</td>\n",
       "      <td>3523900.0</td>\n",
       "    </tr>\n",
       "    <tr>\n",
       "      <th>63117</th>\n",
       "      <td>2016-09-30</td>\n",
       "      <td>5351200.0</td>\n",
       "    </tr>\n",
       "    <tr>\n",
       "      <th>63118</th>\n",
       "      <td>2016-12-31</td>\n",
       "      <td>6966000.0</td>\n",
       "    </tr>\n",
       "    <tr>\n",
       "      <th>63119</th>\n",
       "      <td>2017-03-31</td>\n",
       "      <td>1839700.0</td>\n",
       "    </tr>\n",
       "    <tr>\n",
       "      <th>63120</th>\n",
       "      <td>2017-06-30</td>\n",
       "      <td>3598000.0</td>\n",
       "    </tr>\n",
       "    <tr>\n",
       "      <th>63121</th>\n",
       "      <td>2017-09-30</td>\n",
       "      <td>5391800.0</td>\n",
       "    </tr>\n",
       "    <tr>\n",
       "      <th>63122</th>\n",
       "      <td>2017-12-31</td>\n",
       "      <td>7027500.0</td>\n",
       "    </tr>\n",
       "    <tr>\n",
       "      <th>63123</th>\n",
       "      <td>2018-03-31</td>\n",
       "      <td>1710500.0</td>\n",
       "    </tr>\n",
       "  </tbody>\n",
       "</table>\n",
       "</div>"
      ],
      "text/plain": [
       "             报告日期       营业利润\n",
       "63114  2015-12-31  6606700.0\n",
       "63115  2016-03-31  1843300.0\n",
       "63116  2016-06-30  3523900.0\n",
       "63117  2016-09-30  5351200.0\n",
       "63118  2016-12-31  6966000.0\n",
       "63119  2017-03-31  1839700.0\n",
       "63120  2017-06-30  3598000.0\n",
       "63121  2017-09-30  5391800.0\n",
       "63122  2017-12-31  7027500.0\n",
       "63123  2018-03-31  1710500.0"
      ]
     },
     "execution_count": 18,
     "metadata": {},
     "output_type": "execute_result"
    }
   ],
   "source": [
    "pf = profit[profit.股票代码=='600000']\n",
    "\n",
    "pf[['报告日期','营业利润']].tail(10)"
   ]
  },
  {
   "cell_type": "code",
   "execution_count": 19,
   "metadata": {
    "ExecuteTime": {
     "end_time": "2018-05-16T10:16:40.066562Z",
     "start_time": "2018-05-16T10:16:40.028820Z"
    }
   },
   "outputs": [
    {
     "data": {
      "text/html": [
       "<div>\n",
       "<style scoped>\n",
       "    .dataframe tbody tr th:only-of-type {\n",
       "        vertical-align: middle;\n",
       "    }\n",
       "\n",
       "    .dataframe tbody tr th {\n",
       "        vertical-align: top;\n",
       "    }\n",
       "\n",
       "    .dataframe thead th {\n",
       "        text-align: right;\n",
       "    }\n",
       "</style>\n",
       "<table border=\"1\" class=\"dataframe\">\n",
       "  <thead>\n",
       "    <tr style=\"text-align: right;\">\n",
       "      <th></th>\n",
       "      <th>报告日期</th>\n",
       "      <th>营业利润</th>\n",
       "    </tr>\n",
       "  </thead>\n",
       "  <tbody>\n",
       "    <tr>\n",
       "      <th>43</th>\n",
       "      <td>2015-12-31</td>\n",
       "      <td>2889500.0</td>\n",
       "    </tr>\n",
       "    <tr>\n",
       "      <th>44</th>\n",
       "      <td>2016-03-31</td>\n",
       "      <td>801400.0</td>\n",
       "    </tr>\n",
       "    <tr>\n",
       "      <th>45</th>\n",
       "      <td>2016-06-30</td>\n",
       "      <td>1615600.0</td>\n",
       "    </tr>\n",
       "    <tr>\n",
       "      <th>46</th>\n",
       "      <td>2016-09-30</td>\n",
       "      <td>2454500.0</td>\n",
       "    </tr>\n",
       "    <tr>\n",
       "      <th>47</th>\n",
       "      <td>2016-12-31</td>\n",
       "      <td>2977900.0</td>\n",
       "    </tr>\n",
       "    <tr>\n",
       "      <th>48</th>\n",
       "      <td>2017-03-31</td>\n",
       "      <td>822800.0</td>\n",
       "    </tr>\n",
       "    <tr>\n",
       "      <th>49</th>\n",
       "      <td>2017-06-30</td>\n",
       "      <td>1646800.0</td>\n",
       "    </tr>\n",
       "    <tr>\n",
       "      <th>50</th>\n",
       "      <td>2017-09-30</td>\n",
       "      <td>2500000.0</td>\n",
       "    </tr>\n",
       "    <tr>\n",
       "      <th>51</th>\n",
       "      <td>2017-12-31</td>\n",
       "      <td>3022300.0</td>\n",
       "    </tr>\n",
       "    <tr>\n",
       "      <th>52</th>\n",
       "      <td>2018-03-31</td>\n",
       "      <td>858400.0</td>\n",
       "    </tr>\n",
       "  </tbody>\n",
       "</table>\n",
       "</div>"
      ],
      "text/plain": [
       "          报告日期       营业利润\n",
       "43  2015-12-31  2889500.0\n",
       "44  2016-03-31   801400.0\n",
       "45  2016-06-30  1615600.0\n",
       "46  2016-09-30  2454500.0\n",
       "47  2016-12-31  2977900.0\n",
       "48  2017-03-31   822800.0\n",
       "49  2017-06-30  1646800.0\n",
       "50  2017-09-30  2500000.0\n",
       "51  2017-12-31  3022300.0\n",
       "52  2018-03-31   858400.0"
      ]
     },
     "execution_count": 19,
     "metadata": {},
     "output_type": "execute_result"
    }
   ],
   "source": [
    "pa = profit[profit.股票代码=='000001']\n",
    "\n",
    "pa[['报告日期','营业利润']].tail(10)"
   ]
  }
 ],
 "metadata": {
  "kernelspec": {
   "display_name": "zipline",
   "language": "python",
   "name": "zipline"
  },
  "language_info": {
   "codemirror_mode": {
    "name": "ipython",
    "version": 3
   },
   "file_extension": ".py",
   "mimetype": "text/x-python",
   "name": "python",
   "nbconvert_exporter": "python",
   "pygments_lexer": "ipython3",
   "version": "3.6.5"
  },
  "toc": {
   "base_numbering": 1,
   "nav_menu": {},
   "number_sections": true,
   "sideBar": true,
   "skip_h1_title": false,
   "title_cell": "Table of Contents",
   "title_sidebar": "Contents",
   "toc_cell": false,
   "toc_position": {},
   "toc_section_display": true,
   "toc_window_display": true
  }
 },
 "nbformat": 4,
 "nbformat_minor": 2
}
