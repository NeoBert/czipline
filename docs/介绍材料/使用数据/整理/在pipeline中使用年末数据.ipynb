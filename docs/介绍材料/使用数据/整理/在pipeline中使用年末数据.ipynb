{
 "cells": [
  {
   "cell_type": "markdown",
   "metadata": {},
   "source": [
    "上市公司经常会将年报与一季度报告一起发布，这样`pipeline`就无法有效获取上一年度的数据。为解决此问题，在`Fundamentals`中新增年报数据集，即筛选出年末部分的报告。名称与原财报类似，尾缀加'yearly'。演示如下："
   ]
  },
  {
   "cell_type": "code",
   "execution_count": 1,
   "metadata": {
    "ExecuteTime": {
     "end_time": "2018-05-16T12:59:27.048688Z",
     "start_time": "2018-05-16T12:59:24.342794Z"
    }
   },
   "outputs": [],
   "source": [
    "from zipline.pipeline.fundamentals import Fundamentals"
   ]
  },
  {
   "cell_type": "code",
   "execution_count": 2,
   "metadata": {
    "ExecuteTime": {
     "end_time": "2018-05-16T12:59:27.354675Z",
     "start_time": "2018-05-16T12:59:27.051693Z"
    }
   },
   "outputs": [],
   "source": [
    "from zipline.pipeline.builtin import AnnualFinancalData\n",
    "from zipline.pipeline import Pipeline"
   ]
  },
  {
   "cell_type": "markdown",
   "metadata": {},
   "source": [
    "## `t-1`期年度数据"
   ]
  },
  {
   "cell_type": "code",
   "execution_count": 3,
   "metadata": {
    "ExecuteTime": {
     "end_time": "2018-05-16T12:59:27.992929Z",
     "start_time": "2018-05-16T12:59:27.357290Z"
    }
   },
   "outputs": [],
   "source": [
    "from zipline.research import run_pipeline\n",
    "from zipline.research import select_output_by"
   ]
  },
  {
   "cell_type": "code",
   "execution_count": 4,
   "metadata": {
    "ExecuteTime": {
     "end_time": "2018-05-16T12:59:28.002711Z",
     "start_time": "2018-05-16T12:59:27.995124Z"
    }
   },
   "outputs": [],
   "source": [
    "def make_pipeline():\n",
    "    \"\"\"构造pipeline\"\"\"\n",
    "    return Pipeline(\n",
    "        columns={\n",
    "            't-1营业利润': AnnualFinancalData(inputs=[Fundamentals.profit_statement_yearly.A033,\n",
    "                                                     Fundamentals.profit_statement_yearly.report_end_date]),\n",
    "            '最近一期营业利润':Fundamentals.profit_statement.A033.latest,\n",
    "            '公告日期':Fundamentals.profit_statement.asof_date.latest,\n",
    "            '报告截至日期':Fundamentals.profit_statement.report_end_date.latest,\n",
    "        })"
   ]
  },
  {
   "cell_type": "code",
   "execution_count": 5,
   "metadata": {
    "ExecuteTime": {
     "end_time": "2018-05-16T12:59:34.443663Z",
     "start_time": "2018-05-16T12:59:28.005246Z"
    }
   },
   "outputs": [
    {
     "data": {
      "text/html": [
       "<div>\n",
       "<style scoped>\n",
       "    .dataframe tbody tr th:only-of-type {\n",
       "        vertical-align: middle;\n",
       "    }\n",
       "\n",
       "    .dataframe tbody tr th {\n",
       "        vertical-align: top;\n",
       "    }\n",
       "\n",
       "    .dataframe thead th {\n",
       "        text-align: right;\n",
       "    }\n",
       "</style>\n",
       "<table border=\"1\" class=\"dataframe\">\n",
       "  <thead>\n",
       "    <tr style=\"text-align: right;\">\n",
       "      <th></th>\n",
       "      <th></th>\n",
       "      <th>t-1营业利润</th>\n",
       "      <th>公告日期</th>\n",
       "      <th>报告截至日期</th>\n",
       "      <th>最近一期营业利润</th>\n",
       "    </tr>\n",
       "  </thead>\n",
       "  <tbody>\n",
       "    <tr>\n",
       "      <th rowspan=\"4\" valign=\"top\">2018-05-11 00:00:00+00:00</th>\n",
       "      <th>平安银行(000001)</th>\n",
       "      <td>3022300.0</td>\n",
       "      <td>2018-04-19</td>\n",
       "      <td>2018-03-31</td>\n",
       "      <td>858400.0</td>\n",
       "    </tr>\n",
       "    <tr>\n",
       "      <th>苏宁易购(002024)</th>\n",
       "      <td>407610.0</td>\n",
       "      <td>2018-04-27</td>\n",
       "      <td>2018-03-31</td>\n",
       "      <td>10936.0</td>\n",
       "    </tr>\n",
       "    <tr>\n",
       "      <th>特锐德(300001)</th>\n",
       "      <td>23242.0</td>\n",
       "      <td>2018-04-20</td>\n",
       "      <td>2018-03-31</td>\n",
       "      <td>4138.0</td>\n",
       "    </tr>\n",
       "    <tr>\n",
       "      <th>浦发银行(600000)</th>\n",
       "      <td>7027500.0</td>\n",
       "      <td>2018-04-27</td>\n",
       "      <td>2018-03-31</td>\n",
       "      <td>1710500.0</td>\n",
       "    </tr>\n",
       "  </tbody>\n",
       "</table>\n",
       "</div>"
      ],
      "text/plain": [
       "                                          t-1营业利润       公告日期     报告截至日期  \\\n",
       "2018-05-11 00:00:00+00:00 平安银行(000001)  3022300.0 2018-04-19 2018-03-31   \n",
       "                          苏宁易购(002024)   407610.0 2018-04-27 2018-03-31   \n",
       "                          特锐德(300001)     23242.0 2018-04-20 2018-03-31   \n",
       "                          浦发银行(600000)  7027500.0 2018-04-27 2018-03-31   \n",
       "\n",
       "                                         最近一期营业利润  \n",
       "2018-05-11 00:00:00+00:00 平安银行(000001)   858400.0  \n",
       "                          苏宁易购(002024)    10936.0  \n",
       "                          特锐德(300001)      4138.0  \n",
       "                          浦发银行(600000)  1710500.0  "
      ]
     },
     "execution_count": 5,
     "metadata": {},
     "output_type": "execute_result"
    }
   ],
   "source": [
    "df = run_pipeline(make_pipeline(), '2018-5-11','2018-5-11')\n",
    "select_output_by(df, stock_codes=['000001','002024','300001','600000'])"
   ]
  },
  {
   "cell_type": "markdown",
   "metadata": {},
   "source": [
    "## `t-2`期年度数据\n",
    "\n",
    "默认为`t_n`等于1期，`window_length`默认值245（超过一年的有效交易天数）；如需查询1期以上，需要设置`t_n`和`window_length`，按每增加1期窗口长度至少增加245。"
   ]
  },
  {
   "cell_type": "code",
   "execution_count": 6,
   "metadata": {
    "ExecuteTime": {
     "end_time": "2018-05-16T12:59:34.454571Z",
     "start_time": "2018-05-16T12:59:34.447018Z"
    }
   },
   "outputs": [],
   "source": [
    "def make_pipeline():\n",
    "    \"\"\"构造pipeline\"\"\"\n",
    "    p = AnnualFinancalData(inputs=[Fundamentals.profit_statement_yearly.A033,\n",
    "                                   Fundamentals.profit_statement_yearly.report_end_date],\n",
    "                           window_length=500,\n",
    "                           t_n=2)\n",
    "    return Pipeline(\n",
    "        columns={\n",
    "            't-2营业利润': p,\n",
    "            '最近一期营业利润':Fundamentals.profit_statement.A033.latest,\n",
    "            '公告日期':Fundamentals.profit_statement.asof_date.latest,\n",
    "            '报告截至日期':Fundamentals.profit_statement.report_end_date.latest,\n",
    "        })"
   ]
  },
  {
   "cell_type": "code",
   "execution_count": 7,
   "metadata": {
    "ExecuteTime": {
     "end_time": "2018-05-16T12:59:36.980379Z",
     "start_time": "2018-05-16T12:59:34.458360Z"
    }
   },
   "outputs": [
    {
     "data": {
      "text/html": [
       "<div>\n",
       "<style scoped>\n",
       "    .dataframe tbody tr th:only-of-type {\n",
       "        vertical-align: middle;\n",
       "    }\n",
       "\n",
       "    .dataframe tbody tr th {\n",
       "        vertical-align: top;\n",
       "    }\n",
       "\n",
       "    .dataframe thead th {\n",
       "        text-align: right;\n",
       "    }\n",
       "</style>\n",
       "<table border=\"1\" class=\"dataframe\">\n",
       "  <thead>\n",
       "    <tr style=\"text-align: right;\">\n",
       "      <th></th>\n",
       "      <th></th>\n",
       "      <th>t-2营业利润</th>\n",
       "      <th>公告日期</th>\n",
       "      <th>报告截至日期</th>\n",
       "      <th>最近一期营业利润</th>\n",
       "    </tr>\n",
       "  </thead>\n",
       "  <tbody>\n",
       "    <tr>\n",
       "      <th rowspan=\"4\" valign=\"top\">2018-05-11 00:00:00+00:00</th>\n",
       "      <th>平安银行(000001)</th>\n",
       "      <td>2977900.0</td>\n",
       "      <td>2018-04-19</td>\n",
       "      <td>2018-03-31</td>\n",
       "      <td>858400.0</td>\n",
       "    </tr>\n",
       "    <tr>\n",
       "      <th>苏宁易购(002024)</th>\n",
       "      <td>205.0</td>\n",
       "      <td>2018-04-27</td>\n",
       "      <td>2018-03-31</td>\n",
       "      <td>10936.0</td>\n",
       "    </tr>\n",
       "    <tr>\n",
       "      <th>特锐德(300001)</th>\n",
       "      <td>17531.0</td>\n",
       "      <td>2018-04-20</td>\n",
       "      <td>2018-03-31</td>\n",
       "      <td>4138.0</td>\n",
       "    </tr>\n",
       "    <tr>\n",
       "      <th>浦发银行(600000)</th>\n",
       "      <td>6966000.0</td>\n",
       "      <td>2018-04-27</td>\n",
       "      <td>2018-03-31</td>\n",
       "      <td>1710500.0</td>\n",
       "    </tr>\n",
       "  </tbody>\n",
       "</table>\n",
       "</div>"
      ],
      "text/plain": [
       "                                          t-2营业利润       公告日期     报告截至日期  \\\n",
       "2018-05-11 00:00:00+00:00 平安银行(000001)  2977900.0 2018-04-19 2018-03-31   \n",
       "                          苏宁易购(002024)      205.0 2018-04-27 2018-03-31   \n",
       "                          特锐德(300001)     17531.0 2018-04-20 2018-03-31   \n",
       "                          浦发银行(600000)  6966000.0 2018-04-27 2018-03-31   \n",
       "\n",
       "                                         最近一期营业利润  \n",
       "2018-05-11 00:00:00+00:00 平安银行(000001)   858400.0  \n",
       "                          苏宁易购(002024)    10936.0  \n",
       "                          特锐德(300001)      4138.0  \n",
       "                          浦发银行(600000)  1710500.0  "
      ]
     },
     "execution_count": 7,
     "metadata": {},
     "output_type": "execute_result"
    }
   ],
   "source": [
    "df = run_pipeline(make_pipeline(), '2018-5-11','2018-5-11')\n",
    "select_output_by(df, stock_codes=['000001','002024','300001','600000'])"
   ]
  }
 ],
 "metadata": {
  "kernelspec": {
   "display_name": "zipline",
   "language": "python",
   "name": "zipline"
  },
  "language_info": {
   "codemirror_mode": {
    "name": "ipython",
    "version": 3
   },
   "file_extension": ".py",
   "mimetype": "text/x-python",
   "name": "python",
   "nbconvert_exporter": "python",
   "pygments_lexer": "ipython3",
   "version": "3.6.5"
  },
  "toc": {
   "base_numbering": 1,
   "nav_menu": {},
   "number_sections": true,
   "sideBar": true,
   "skip_h1_title": false,
   "title_cell": "Table of Contents",
   "title_sidebar": "Contents",
   "toc_cell": false,
   "toc_position": {},
   "toc_section_display": true,
   "toc_window_display": false
  }
 },
 "nbformat": 4,
 "nbformat_minor": 2
}
