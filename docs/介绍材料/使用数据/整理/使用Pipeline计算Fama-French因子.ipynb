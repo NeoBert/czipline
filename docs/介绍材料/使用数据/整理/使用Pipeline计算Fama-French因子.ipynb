{
 "cells": [
  {
   "cell_type": "markdown",
   "metadata": {},
   "source": [
    "`Fama-French`因子是`empyrical`包计算的基础数据，用于投资组合风险和绩效分析。`empyrical`包的数据取材于美国市场，不适用A股投资组合分析。本文尝试使用`Pipeline`，基于[Fama-French三因子模型](https://www.bogleheads.org/wiki/Fama_and_French_three-factor_model)，参考论文作者提供的[构造方法](http://mba.tuck.dartmouth.edu/pages/faculty/ken.french/Data_Library/f-f_factors.html)每天定期运行计算出相应数据，修改`empyrical`包即可使用源于A股市场的因子数据，使得真正能用于A股投资组合分析。相关[代码](https://www.quantopian.com/posts/computing-the-fama-french-factors-with-pipeline-1)及[材料](http://mba.tuck.dartmouth.edu/pages/faculty/ken.french/Data_Library/f-f_factors.html)，主要来自于`quantopian`论坛。"
   ]
  },
  {
   "cell_type": "markdown",
   "metadata": {},
   "source": [
    "quantopian最近发布的`pipeline`API可以快速运行大型股票的计算。这创造了一个广阔的世界，其中之一就是[Fama-French Three Factor Model](https://www.bogleheads.org/wiki/Fama_and_French_three-factor_model)。计算这些因子需要划分大量的股票，这些涉及数以千计的股票：在`Pipeline`之前，这在Quantopian平台上是不可能的。现在它变成了可能。"
   ]
  },
  {
   "cell_type": "markdown",
   "metadata": {},
   "source": [
    "本文目的是生成`empyrical`包中`get_fama_french`函数所要获取的数据源，使其能用于A股投资分析。"
   ]
  },
  {
   "cell_type": "markdown",
   "metadata": {},
   "source": [
    "## 原始5因子数据"
   ]
  },
  {
   "cell_type": "markdown",
   "metadata": {},
   "source": [
    "### `quantopian/empyrical`数据"
   ]
  },
  {
   "cell_type": "raw",
   "metadata": {
    "ExecuteTime": {
     "end_time": "2018-05-09T12:37:14.395347Z",
     "start_time": "2018-05-09T12:31:53.181808Z"
    }
   },
   "source": [
    "# 以后会更改，先保存结果，供调用分析\n",
    "from empyrical.utils import get_fama_french\n",
    "# http://mba.tuck.dartmouth.edu/pages/faculty/ken.french/ftp/F-F_Research_Data_Factors_daily_CSV.zip\n",
    "# http://mba.tuck.dartmouth.edu/pages/faculty/ken.french/ftp/F-F_Momentum_Factor_daily_CSV.zip\n",
    "df = get_fama_french()\n",
    "\n",
    "df.to_pickle('fama_french_5.pkl')"
   ]
  },
  {
   "cell_type": "code",
   "execution_count": 1,
   "metadata": {
    "ExecuteTime": {
     "end_time": "2018-05-09T13:58:50.497148Z",
     "start_time": "2018-05-09T13:58:50.100999Z"
    }
   },
   "outputs": [],
   "source": [
    "### 调用数据\n",
    "import pandas as pd"
   ]
  },
  {
   "cell_type": "code",
   "execution_count": 2,
   "metadata": {
    "ExecuteTime": {
     "end_time": "2018-05-09T13:58:50.509608Z",
     "start_time": "2018-05-09T13:58:50.499598Z"
    }
   },
   "outputs": [],
   "source": [
    "fama_french = pd.read_pickle('fama_french_5.pkl')"
   ]
  },
  {
   "cell_type": "code",
   "execution_count": 3,
   "metadata": {
    "ExecuteTime": {
     "end_time": "2018-05-09T13:58:50.556992Z",
     "start_time": "2018-05-09T13:58:50.513627Z"
    }
   },
   "outputs": [
    {
     "data": {
      "text/html": [
       "<div>\n",
       "<style scoped>\n",
       "    .dataframe tbody tr th:only-of-type {\n",
       "        vertical-align: middle;\n",
       "    }\n",
       "\n",
       "    .dataframe tbody tr th {\n",
       "        vertical-align: top;\n",
       "    }\n",
       "\n",
       "    .dataframe thead th {\n",
       "        text-align: right;\n",
       "    }\n",
       "</style>\n",
       "<table border=\"1\" class=\"dataframe\">\n",
       "  <thead>\n",
       "    <tr style=\"text-align: right;\">\n",
       "      <th></th>\n",
       "      <th>Mkt-RF</th>\n",
       "      <th>SMB</th>\n",
       "      <th>HML</th>\n",
       "      <th>RF</th>\n",
       "      <th>Mom</th>\n",
       "    </tr>\n",
       "    <tr>\n",
       "      <th>Date</th>\n",
       "      <th></th>\n",
       "      <th></th>\n",
       "      <th></th>\n",
       "      <th></th>\n",
       "      <th></th>\n",
       "    </tr>\n",
       "  </thead>\n",
       "  <tbody>\n",
       "    <tr>\n",
       "      <th>2018-03-23 00:00:00+00:00</th>\n",
       "      <td>-0.0209</td>\n",
       "      <td>0.0021</td>\n",
       "      <td>-0.0019</td>\n",
       "      <td>0.00006</td>\n",
       "      <td>-0.0036</td>\n",
       "    </tr>\n",
       "    <tr>\n",
       "      <th>2018-03-26 00:00:00+00:00</th>\n",
       "      <td>0.0267</td>\n",
       "      <td>-0.0069</td>\n",
       "      <td>0.0002</td>\n",
       "      <td>0.00006</td>\n",
       "      <td>0.0132</td>\n",
       "    </tr>\n",
       "    <tr>\n",
       "      <th>2018-03-27 00:00:00+00:00</th>\n",
       "      <td>-0.0187</td>\n",
       "      <td>-0.0024</td>\n",
       "      <td>0.0040</td>\n",
       "      <td>0.00006</td>\n",
       "      <td>-0.0179</td>\n",
       "    </tr>\n",
       "    <tr>\n",
       "      <th>2018-03-28 00:00:00+00:00</th>\n",
       "      <td>-0.0035</td>\n",
       "      <td>0.0010</td>\n",
       "      <td>0.0064</td>\n",
       "      <td>0.00006</td>\n",
       "      <td>-0.0117</td>\n",
       "    </tr>\n",
       "    <tr>\n",
       "      <th>2018-03-29 00:00:00+00:00</th>\n",
       "      <td>0.0141</td>\n",
       "      <td>-0.0029</td>\n",
       "      <td>-0.0022</td>\n",
       "      <td>0.00006</td>\n",
       "      <td>0.0060</td>\n",
       "    </tr>\n",
       "  </tbody>\n",
       "</table>\n",
       "</div>"
      ],
      "text/plain": [
       "                           Mkt-RF     SMB     HML       RF     Mom\n",
       "Date                                                              \n",
       "2018-03-23 00:00:00+00:00 -0.0209  0.0021 -0.0019  0.00006 -0.0036\n",
       "2018-03-26 00:00:00+00:00  0.0267 -0.0069  0.0002  0.00006  0.0132\n",
       "2018-03-27 00:00:00+00:00 -0.0187 -0.0024  0.0040  0.00006 -0.0179\n",
       "2018-03-28 00:00:00+00:00 -0.0035  0.0010  0.0064  0.00006 -0.0117\n",
       "2018-03-29 00:00:00+00:00  0.0141 -0.0029 -0.0022  0.00006  0.0060"
      ]
     },
     "execution_count": 3,
     "metadata": {},
     "output_type": "execute_result"
    }
   ],
   "source": [
    "fama_french.tail()"
   ]
  },
  {
   "cell_type": "markdown",
   "metadata": {},
   "source": [
    "## 背景"
   ]
  },
  {
   "cell_type": "markdown",
   "metadata": {},
   "source": [
    "### 三因子"
   ]
  },
  {
   "cell_type": "markdown",
   "metadata": {},
   "source": [
    "<img src=\"images/median_me.gif\">"
   ]
  },
  {
   "cell_type": "markdown",
   "metadata": {},
   "source": [
    "<table>\n",
    "<tr>\n",
    "<td><img src=\"images/bh_small_v.gif\" style=\"height:120px\"></td>\n",
    "<td><img src=\"images/bh_big_v.gif\" style=\"height:120px\"></td>\n",
    "</tr>\n",
    "<tr>\n",
    "<td><img src=\"images/bh_small_n.gif\" style=\"height:120px\"></td>\n",
    "<td><img src=\"images/bh_big_n.gif\" style=\"height:120px\"></td>\n",
    "</tr>\n",
    "<tr>\n",
    "<td><img src=\"images/bh_small_g.gif\" style=\"height:120px\"></td>\n",
    "<td><img src=\"images/bh_big_g.gif\" style=\"height:120px\"></td>\n",
    "</tr>\n",
    "</table>"
   ]
  },
  {
   "cell_type": "markdown",
   "metadata": {},
   "source": [
    "据[因子构造方法](http://mba.tuck.dartmouth.edu/pages/faculty/ken.french/Data_Library/f-f_factors.html)："
   ]
  },
  {
   "cell_type": "markdown",
   "metadata": {},
   "source": [
    "+ Fama-French因子是由6个根据市值和账面价值划分，等权重资产组合构建形成的。请参阅6个市值/账面价值资产组合的描述。"
   ]
  },
  {
   "cell_type": "markdown",
   "metadata": {},
   "source": [
    "+ SMB(Small Minus Big)为三个等权重小市值投资组合的平均回报减去三个大市值等权投资组合的平均回报。$$SMB = \\frac{1}{3}*(Small Value + Small Neutral + Small Growth)\n",
    " - \\frac{1}{3}*(Big Value + Big Neutral + Big Growth) $$"
   ]
  },
  {
   "cell_type": "markdown",
   "metadata": {
    "ExecuteTime": {
     "end_time": "2018-05-07T13:41:33.752277Z",
     "start_time": "2018-05-07T13:41:33.747294Z"
    }
   },
   "source": [
    "+ HML(High Minus Low)是两个等权市值组合的平均收益减去两个等权增长组合的平均收益。$$HML = \\frac{1}{2}*(Small Value + Big Value)\n",
    " - \\frac{1}{2}*(Small Growth + Big Growth)$$"
   ]
  },
  {
   "cell_type": "markdown",
   "metadata": {},
   "source": [
    "+ `Rm-Rf`为市场超额收益，为股票收益率减去一个月国库券资金成本。"
   ]
  },
  {
   "cell_type": "markdown",
   "metadata": {},
   "source": [
    "股票范围：\n",
    " + `Rm-Rf`包含所有股票\n",
    " + `SMB和HML`要求`t-1年`账面价值为正数；`t-1年12月`至`t年6月`有市值数据"
   ]
  },
  {
   "cell_type": "markdown",
   "metadata": {},
   "source": [
    "### 五因子"
   ]
  },
  {
   "cell_type": "markdown",
   "metadata": {},
   "source": [
    "五因子模型是在三因子的基础上加上了盈利因子`RMW`和投资因子`CMA`。\n",
    "\n",
    "1. 盈利因子`RMW`：盈利好和盈利差的多元化股票组合收益之间的差异。其中盈利定义为年营业收入减去营业成本、利息费用、销售费用和管理费用后再除以t-1财年末的账面权益。\n",
    "\n",
    "2. 投资因子CMA：投资高和投资低的多元化股票组合收益之间的差异。其中投资定义为 t-1财年的新增总资产除以t-2财年末的总资产 。\n",
    "\n",
    "作者：小官大人\n",
    "链接：https://www.zhihu.com/question/29558634/answer/257089971"
   ]
  },
  {
   "cell_type": "markdown",
   "metadata": {},
   "source": [
    "[因子构造方法](http://mba.tuck.dartmouth.edu/pages/faculty/ken.french/Data_Library/f-f_5developed.html)："
   ]
  },
  {
   "cell_type": "markdown",
   "metadata": {},
   "source": [
    "+ 所有回报包括股息和资本收益，且不会持续复合计算。`Market`是一个地区的等权重股票组合的收益减去一个月的国库券利率。"
   ]
  },
  {
   "cell_type": "markdown",
   "metadata": {},
   "source": [
    "`Fama/French 5 因子(2x3)`使用(1)市值和账面价值基础上构造的6个等权组合；(2)市值和营运盈利能力基础上构造的6个等权组合；(3)市值和投资基础上构造的6个等权组合等三项来构造。"
   ]
  },
  {
   "cell_type": "markdown",
   "metadata": {},
   "source": [
    "为了构建`SMB`、`HML`、`RMW`和`CMA`因子，在每年六月底，我们将一个地区的股票分为两类市值和三个相应的账面市值(B/M)，运营盈利能力（OP）和投资（INV）组。大型股票指的是该地区6月份市值位于最高90％以上的股票，而小型股票指的是市值位于底部10％以下的股票。一个地区的B/M，OP和INV断点是该地区大型股票的相应比率的第30和第70百分位。"
   ]
  },
  {
   "cell_type": "markdown",
   "metadata": {},
   "source": [
    "SMB(Small Minus Big)是九个小型股票投资组合的平均回报减去九个大股票投资组合的平均回报：$$SMB_{(B/M)} = \\frac{1}{3} * (Small Value + Small Neutral + Small Growth) - \\frac{1}{3} * (Big Value + Big Neutral + Big Growth)$$ \n",
    "$$SMB_{(OP)} = \\frac{1}{3} * (Small Robust + Small Neutral + Small Weak) - \\frac{1}{3} * (Big Robust + Big Neutral + Big Weak)$$ \n",
    "$$SMB_{(INV)} = \\frac{1}{3} * (Small Conservative + Small Neutral + Small Aggressive) - \\frac{1}{3} * (Big Conservative + Big Neutral + Big Aggressive)$$ \n",
    "$$SMB = \\frac{1}{3} *  (SMB_{(B/M)} + SMB_{(OP)} + SMB_{(INV)})$$"
   ]
  },
  {
   "cell_type": "markdown",
   "metadata": {},
   "source": [
    "`HML(High Minus Low)`是两个价值组合的平均收益减去两个增长组合的平均收益:\n",
    "\n",
    "$$HML = \\frac{1}{2} *  (Small Value + Big Value) - \\frac{1}{2} *  (Small Growth + Big Growth)$$"
   ]
  },
  {
   "cell_type": "markdown",
   "metadata": {},
   "source": [
    "`RMW(Robust Minus Weak)`是两个强劲的运营盈利能力组合的平均回报减去两个疲软的运营盈利能力组合的平均回报：$$RMW = \\frac{1}{2} *  (Small Robust + Big Robust) - \\frac{1}{2} *  (Small Weak + Big Weak)$$"
   ]
  },
  {
   "cell_type": "markdown",
   "metadata": {},
   "source": [
    "`CMA(Conservative Minus Aggressive)`是两个保守投资组合（此处指选取公司投资风格保守的股票作为投资组合）的平均回报减去两个积极投资组合的平均回报：$$CMA = \\frac{1}{2} *  (Small Conservative + Big Conservative) - \\frac{1}{2} *  (Small Aggressive + Big Aggressive)$$"
   ]
  },
  {
   "cell_type": "markdown",
   "metadata": {},
   "source": [
    "### 函数所需数据\n",
    "函数`get_fama_french`中描述`five_factors`实际上并非上文说所说五因子，而是三因子加`MOM`组成。这点从`pyfolio`包中`rolling_regression`函数可以验证。实际上，该函数也仅仅使用了\"SMB, HML, Mom\"三列数据。"
   ]
  },
  {
   "cell_type": "markdown",
   "metadata": {},
   "source": [
    "[每日动量因子的详细信息](http://mba.tuck.dartmouth.edu/pages/faculty/ken.french/Data_Library/det_mom_factor_daily.html)原文大致翻译："
   ]
  },
  {
   "cell_type": "markdown",
   "metadata": {},
   "source": [
    "我们使用在规模与(2-12)先前收益率基础上划分的六个价值加权组合来构建`Mom`。每天形成的投资组合是两个投资组合(market equity, ME)和3个投资组合（2-12）形成的投资组合的交集。每日规模的断点是纽约证券交易所的市场资产的中位数。每日先前（2-12）收益率断点是纽约证券交易所第30和第70个百分点。\n",
    "\n",
    "`Mom`是两个高先前收益率组合的平均减去两个低先前收益率组合的平均回报之后的平均值。"
   ]
  },
  {
   "cell_type": "markdown",
   "metadata": {},
   "source": [
    "+ SMB、HML同2.1节所述；\n",
    "+ Mom定义如下：\n",
    "$$Mom = \\frac{1}{2} *  (Small High Prior + Big High Prior) - \\frac{1}{2} *  (Small Low Prior + Big Low prior)$$\n",
    "\n",
    "其中：\n",
    "    1. `Big`意味着公司市值大于中位数，`Small`意味着公司市值低于中位数；\n",
    "    2. `Prior return`计算`t-250`到`t-21`期间的收益率；\n",
    "    3. `Low`意味着30%以下排位；`High`意味着70%以上排位。"
   ]
  },
  {
   "cell_type": "markdown",
   "metadata": {},
   "source": [
    "用于构造`Mon`的六个投资组合包括纽约证券交易所，美国证券交易所和纳斯达克股票，股票必须有先前收益率数据。在第t天（在t-1日结束时形成）包含在投资组合中的股票必须具有t-251日结束时的价格和t-21的收益率。此外，从t-250至t-22的任何缺失收益率标记为-99.0，即CRSP的缺失价格代码。每个包含的股票在第t-1日结束时也必须有ME。"
   ]
  },
  {
   "cell_type": "markdown",
   "metadata": {},
   "source": [
    "## 构造因子"
   ]
  },
  {
   "cell_type": "markdown",
   "metadata": {},
   "source": [
    "### 常数"
   ]
  },
  {
   "cell_type": "code",
   "execution_count": 4,
   "metadata": {
    "ExecuteTime": {
     "end_time": "2018-05-09T13:58:50.563874Z",
     "start_time": "2018-05-09T13:58:50.560185Z"
    }
   },
   "outputs": [],
   "source": [
    "# 每月交易天数（近似值20，不同于美国股市，A股每年交易天数大约为244天）\n",
    "normal_days = 31\n",
    "business_days = int(0.66 * normal_days)"
   ]
  },
  {
   "cell_type": "markdown",
   "metadata": {},
   "source": [
    "### 辅助函数"
   ]
  },
  {
   "cell_type": "code",
   "execution_count": 5,
   "metadata": {
    "ExecuteTime": {
     "end_time": "2018-05-09T13:58:52.893567Z",
     "start_time": "2018-05-09T13:58:50.567406Z"
    }
   },
   "outputs": [
    {
     "name": "stderr",
     "output_type": "stream",
     "text": [
      "/home/ldf/anaconda3/envs/zipline/lib/python3.6/site-packages/h5py/__init__.py:36: FutureWarning: Conversion of the second argument of issubdtype from `float` to `np.floating` is deprecated. In future, it will be treated as `np.float64 == np.dtype(float).type`.\n",
      "  from ._conv import register_converters as _register_converters\n"
     ]
    }
   ],
   "source": [
    "from zipline import get_calendar\n",
    "\n",
    "calendar = get_calendar('SZSH')\n",
    "\n",
    "all_trading_days = calendar.schedule.index\n",
    "all_trading_days = all_trading_days[all_trading_days <= calendar.actual_last_session]\n",
    "# 交易日期包含当天，但此时并没有当天的数据\n",
    "#all_trading_days = all_trading_days[:-1]"
   ]
  },
  {
   "cell_type": "code",
   "execution_count": 6,
   "metadata": {
    "ExecuteTime": {
     "end_time": "2018-05-09T13:58:53.494852Z",
     "start_time": "2018-05-09T13:58:52.897268Z"
    }
   },
   "outputs": [],
   "source": [
    "from zipline.pipeline import Pipeline, CustomFactor\n",
    "from zipline.pipeline.data import USEquityPricing\n",
    "from zipline.pipeline.fundamentals import Fundamentals"
   ]
  },
  {
   "cell_type": "code",
   "execution_count": 7,
   "metadata": {
    "ExecuteTime": {
     "end_time": "2018-05-09T13:58:53.762409Z",
     "start_time": "2018-05-09T13:58:53.498306Z"
    }
   },
   "outputs": [],
   "source": [
    "class Returns(CustomFactor):\n",
    "    \"\"\"\n",
    "    每个交易日每个股票窗口长度\"business_days\"期间收益率\n",
    "    \"\"\"\n",
    "    window_length = business_days\n",
    "    inputs = [USEquityPricing.close]\n",
    "\n",
    "    def compute(self, today, assets, out, price):\n",
    "        out[:] = (price[-1] - price[0]) / price[0]\n",
    "\n",
    "\n",
    "class PriorReturns(CustomFactor):\n",
    "    \"\"\"\n",
    "    每个交易日每个股票窗口长度250的先前收益率\n",
    "    \n",
    "    p[-21] / p[-250] - 1\n",
    "    \"\"\"\n",
    "    window_length = 250\n",
    "    inputs = [USEquityPricing.close]\n",
    "\n",
    "    def compute(self, today, assets, out, price):\n",
    "        out[:] = (price[-21] - price[0]) / price[0]\n",
    "\n",
    "\n",
    "class MarketEquity(CustomFactor):\n",
    "    \"\"\"\n",
    "    每个交易日每只股票所对应的总市值(取期初数)\n",
    "    \"\"\"\n",
    "    window_length = business_days\n",
    "    inputs = [USEquityPricing.tmv]\n",
    "\n",
    "    def compute(self, today, assets, out, mcap):\n",
    "        out[:] = mcap[0]\n",
    "\n",
    "\n",
    "class BookEquity(CustomFactor):\n",
    "    \"\"\"\n",
    "    每个交易日每只股票所对应的账面价值（所有者权益）(取期初数)\n",
    "    \"\"\"\n",
    "    window_length = business_days\n",
    "    inputs = [Fundamentals.balance_sheet.A107]\n",
    "\n",
    "    def compute(self, today, assets, out, book):\n",
    "        out[:] = book[0]"
   ]
  },
  {
   "cell_type": "markdown",
   "metadata": {},
   "source": [
    "以下需要关注：\n",
    " 1. 是否将停牌的股票排除（停牌期间收益率为0，影响各组合的平均值。是否排除，取决于拟合优度。后续再进行验证。)\n",
    " 2. "
   ]
  },
  {
   "cell_type": "code",
   "execution_count": 8,
   "metadata": {
    "ExecuteTime": {
     "end_time": "2018-05-09T13:58:53.777838Z",
     "start_time": "2018-05-09T13:58:53.769728Z"
    }
   },
   "outputs": [],
   "source": [
    "def make_3_pipeline():\n",
    "    \"\"\"构造3因子pipeline\"\"\"\n",
    "    mkt_cap = MarketEquity()\n",
    "    book_equity = BookEquity()\n",
    "    returns = Returns()\n",
    "    be_me = book_equity / mkt_cap\n",
    "    return Pipeline(\n",
    "        columns={\n",
    "            'market_cap': mkt_cap,\n",
    "            'be_me': be_me,\n",
    "            'returns': returns,\n",
    "            'prior_returns': PriorReturns()\n",
    "        })"
   ]
  },
  {
   "cell_type": "code",
   "execution_count": 9,
   "metadata": {
    "ExecuteTime": {
     "end_time": "2018-05-09T13:58:53.787295Z",
     "start_time": "2018-05-09T13:58:53.782511Z"
    }
   },
   "outputs": [],
   "source": [
    "from zipline.data.benchmarks_cn import get_cn_benchmark_returns\n",
    "from zipline.data.treasuries_cn import get_treasury_data"
   ]
  },
  {
   "cell_type": "code",
   "execution_count": 10,
   "metadata": {
    "ExecuteTime": {
     "end_time": "2018-05-09T13:58:53.799621Z",
     "start_time": "2018-05-09T13:58:53.791225Z"
    }
   },
   "outputs": [],
   "source": [
    "def get_rm_rf(earliest_date, symbol='000300'):\n",
    "    \"\"\"\n",
    "    Rm-Rf(市场收益 - 无风险收益)\n",
    "    基准股票指数收益率 - 国库券1个月收益率\n",
    "    \n",
    "    输出pd.Series(日期为Index), 'Mkt-RF', 'RF'二元组\n",
    "    \"\"\"\n",
    "    start = '1990-1-1'\n",
    "    end = pd.Timestamp('today')\n",
    "    benchmark_returns = get_cn_benchmark_returns(symbol).loc[earliest_date:]\n",
    "    treasury_returns = get_treasury_data(start,end)['1month'][earliest_date:]\n",
    "    # 补齐缺省值\n",
    "    treasury_returns = treasury_returns.reindex(benchmark_returns.index, method='ffill')\n",
    "    return benchmark_returns, treasury_returns"
   ]
  },
  {
   "cell_type": "code",
   "execution_count": 11,
   "metadata": {
    "ExecuteTime": {
     "end_time": "2018-05-09T13:58:53.849605Z",
     "start_time": "2018-05-09T13:58:53.803763Z"
    }
   },
   "outputs": [],
   "source": [
    "from zipline.research import run_pipeline"
   ]
  },
  {
   "cell_type": "code",
   "execution_count": 12,
   "metadata": {
    "ExecuteTime": {
     "end_time": "2018-05-09T13:58:53.865337Z",
     "start_time": "2018-05-09T13:58:53.852646Z"
    }
   },
   "outputs": [],
   "source": [
    "def compute_3_factors(one_day):\n",
    "    \"\"\"\n",
    "    根据每天运行的pipeline结果，近似计算Fama-French 因子\n",
    "    \"\"\"\n",
    "    factors = run_pipeline(make_3_pipeline(), one_day, one_day)\n",
    "    # 获取后续使用的值\n",
    "    returns = factors['returns']\n",
    "    mkt_cap = factors.sort_values(['market_cap'], ascending=True)\n",
    "    be_me = factors.sort_values(['be_me'], ascending=True)\n",
    "    prior_returns = factors['prior_returns']\n",
    "\n",
    "    # 根据市值划分总体，构造6个资产组合\n",
    "    half = int(len(mkt_cap) * 0.5)\n",
    "    small_caps = mkt_cap[:half]\n",
    "    big_caps = mkt_cap[half:]\n",
    "\n",
    "    thirty = int(len(be_me) * 0.3)\n",
    "    seventy = int(len(be_me) * 0.7)\n",
    "    growth = be_me[:thirty]\n",
    "    neutral = be_me[thirty:seventy]\n",
    "    value = be_me[seventy:]\n",
    "    \n",
    "\n",
    "    small_value = small_caps.index.intersection(value.index)\n",
    "    small_neutral = small_caps.index.intersection(neutral.index)\n",
    "    small_growth = small_caps.index.intersection(growth.index)\n",
    "\n",
    "    big_value = big_caps.index.intersection(value.index)\n",
    "    big_neutral = big_caps.index.intersection(neutral.index)\n",
    "    big_growth = big_caps.index.intersection(growth.index)\n",
    "\n",
    "    # 假设等权分配资金，取其投资组合回报率平均值\n",
    "    sv = returns[small_value].mean()\n",
    "    sn = returns[small_neutral].mean()\n",
    "    sg = returns[small_growth].mean()\n",
    "\n",
    "    bv = returns[big_value].mean()\n",
    "    bn = returns[big_neutral].mean()\n",
    "    bg = returns[big_growth].mean()\n",
    "    \n",
    "    # 按降序排列\n",
    "    # 小市值组合收益率（序列没有列可以指定)\n",
    "    s_p = prior_returns.loc[small_caps.index].sort_values(ascending=False)\n",
    "    \n",
    "    # 大市值组合收益率\n",
    "    b_p = prior_returns.loc[big_caps.index].sort_values(ascending=False)\n",
    "       \n",
    "    shp = s_p.iloc[:int(len(s_p) * 0.3)].mean() # 小市值组合收益率前70%的均值\n",
    "    bhp = b_p.iloc[:int(len(b_p) * 0.3)].mean() # 大市值组合收益率前70%的均值\n",
    "    slp = s_p.iloc[int(len(s_p) * 0.7):].mean() # 小市值组合收益率后30%的均值\n",
    "    blp = b_p.iloc[int(len(b_p) * 0.7):].mean() # 大市值组合收益率后30%的均值\n",
    "       \n",
    "    # 计算 SMB\n",
    "    smb = (sv + sn + sg) / 3 - (bv + bn + bg) / 3\n",
    "\n",
    "    # 计算 HML\n",
    "    hml = (sv + bv) / 2 - (sg + bg) / 2\n",
    "    \n",
    "    # 计算 MOM\n",
    "    mom = (shp + bhp) / 2 - (slp + blp) / 2\n",
    "\n",
    "    return smb, hml, mom"
   ]
  },
  {
   "cell_type": "code",
   "execution_count": 13,
   "metadata": {
    "ExecuteTime": {
     "end_time": "2018-05-09T13:58:53.876772Z",
     "start_time": "2018-05-09T13:58:53.869112Z"
    }
   },
   "outputs": [],
   "source": [
    "def get_3_factors_data(dates, symbol):\n",
    "    \"\"\"计算指定日期列表\"\"\"\n",
    "    start = dates[0]\n",
    "    benchmark_returns, treasury_returns = get_rm_rf(start, symbol)\n",
    "    res = []\n",
    "    for d in dates:\n",
    "        smb, hml, mom = compute_3_factors(d)\n",
    "        mkt_rf = benchmark_returns.loc[d]\n",
    "        rf = treasury_returns.loc[d]\n",
    "        res.append((d, smb, hml, mom, mkt_rf, rf))\n",
    "    df = pd.DataFrame.from_records(\n",
    "        res, columns=['date', 'SMB', 'HML', 'Mom', 'Mkt-RF', 'RF'])\n",
    "    df.set_index('date', inplace=True)\n",
    "    return df"
   ]
  },
  {
   "cell_type": "markdown",
   "metadata": {},
   "source": [
    "### 处理三因子数据"
   ]
  },
  {
   "cell_type": "markdown",
   "metadata": {},
   "source": [
    "处理方式：\n",
    " 1. 数据以'pkl'格式保存在本地文件，默认路径'~/stockdata/ff_factors/ff.pkl'\n",
    " 2. 初始化时计算所有交易日的数据\n",
    " 3. 以后每日刷新数据\n",
    " 4. 修改`empyrical`包读取五因子部分，更改为从本地读取"
   ]
  },
  {
   "cell_type": "code",
   "execution_count": 14,
   "metadata": {
    "ExecuteTime": {
     "end_time": "2018-05-09T13:58:53.884421Z",
     "start_time": "2018-05-09T13:58:53.881057Z"
    }
   },
   "outputs": [],
   "source": [
    "from cswd.common.utils import data_root\n",
    "import os\n",
    "import pandas as pd"
   ]
  },
  {
   "cell_type": "code",
   "execution_count": 16,
   "metadata": {
    "ExecuteTime": {
     "end_time": "2018-05-09T13:58:53.908809Z",
     "start_time": "2018-05-09T13:58:53.900867Z"
    }
   },
   "outputs": [],
   "source": [
    "class FFFactor(object):\n",
    "    # 沪深300指数自2002-01-07开始\n",
    "    # 国库券数据1个月资金成本自2013-4-26开始\n",
    "    # 数据最早开始日期设定为2013-5-1之后的最早交易日期\n",
    "    earliest_date = pd.Timestamp('2013-05-01').tz_localize('UTC')\n",
    "\n",
    "    def __init__(self, benchmark_symbol='000300', file_path=None):\n",
    "        if file_path:\n",
    "            self.file_path = file_path\n",
    "        else:\n",
    "            self.file_path = os.path.join(data_root('ff_factors'), 'ff.pkl')\n",
    "        self.benchmark_symbol = benchmark_symbol\n",
    "\n",
    "    def _read(self):\n",
    "        try:\n",
    "            return pd.read_pickle(self.file_path)\n",
    "        except FileNotFoundError:\n",
    "            return None\n",
    "\n",
    "    def refresh(self):\n",
    "        local_df = self._read()\n",
    "        if local_df is None:\n",
    "            dates = all_trading_days[all_trading_days > self.earliest_date]\n",
    "            data = get_3_factors_data(dates, self.benchmark_symbol)\n",
    "            data.to_pickle(self.file_path)\n",
    "        else:\n",
    "            last_date = local_df.index[-1]\n",
    "            if last_date < all_trading_days[-1]:\n",
    "                dates = all_trading_days[all_trading_days > last_date]\n",
    "                data = get_3_factors_data(dates, self.benchmark_symbol)\n",
    "                data = pd.concat([local_df, data])\n",
    "                data.to_pickle(self.file_path)\n",
    "\n",
    "    @property\n",
    "    def data(self):\n",
    "        print('正在整理三因子数据，请耐心等待......')\n",
    "        self.refresh()\n",
    "        return self._read()"
   ]
  },
  {
   "cell_type": "code",
   "execution_count": 17,
   "metadata": {
    "ExecuteTime": {
     "end_time": "2018-05-09T14:26:10.837637Z",
     "start_time": "2018-05-09T13:58:53.912340Z"
    }
   },
   "outputs": [
    {
     "name": "stdout",
     "output_type": "stream",
     "text": [
      "正在整理三因子数据，请耐心等待......\n"
     ]
    }
   ],
   "source": [
    "ff = FFFactor()\n",
    "df = ff.data"
   ]
  }
 ],
 "metadata": {
  "kernelspec": {
   "display_name": "zipline",
   "language": "python",
   "name": "zipline"
  },
  "language_info": {
   "codemirror_mode": {
    "name": "ipython",
    "version": 3
   },
   "file_extension": ".py",
   "mimetype": "text/x-python",
   "name": "python",
   "nbconvert_exporter": "python",
   "pygments_lexer": "ipython3",
   "version": "3.6.4"
  },
  "toc": {
   "base_numbering": 1,
   "nav_menu": {},
   "number_sections": true,
   "sideBar": true,
   "skip_h1_title": false,
   "title_cell": "Table of Contents",
   "title_sidebar": "Contents",
   "toc_cell": false,
   "toc_position": {
    "height": "calc(100% - 180px)",
    "left": "10px",
    "top": "150px",
    "width": "260px"
   },
   "toc_section_display": true,
   "toc_window_display": true
  }
 },
 "nbformat": 4,
 "nbformat_minor": 2
}
