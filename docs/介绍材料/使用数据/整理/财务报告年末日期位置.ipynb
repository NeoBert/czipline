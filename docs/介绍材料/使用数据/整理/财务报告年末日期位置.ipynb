{
 "cells": [
  {
   "cell_type": "markdown",
   "metadata": {},
   "source": [
    "**废弃**\n",
    "\n",
    "通过年报数据解决问题\n",
    "\n",
    "财务报告年末日期"
   ]
  },
  {
   "cell_type": "code",
   "execution_count": 1,
   "metadata": {},
   "outputs": [],
   "source": [
    "import pandas as pd\n",
    "import numpy as np\n",
    "\n",
    "from zipline.utils.numpy_utils import changed_locations"
   ]
  },
  {
   "cell_type": "raw",
   "metadata": {},
   "source": [
    "def _select_annual_indices(dates):\n",
    "    \"\"\"选取最近第n年年末财务报告位置辅助函数\"\"\"\n",
    "    col_num = dates.shape[1]\n",
    "\n",
    "    def get_first_annual_loc(col):\n",
    "        is_year_end = pd.to_datetime(col).is_year_end\n",
    "        y_e_loc = np.argwhere(is_year_end).flatten()\n",
    "        loc = changed_locations(is_year_end, True)\n",
    "        return np.array(list(set(y_e_loc).intersection(loc)))\n",
    "\n",
    "    locs = []\n",
    "\n",
    "    for col in range(col_num):\n",
    "        singal_dates = dates[:,col]\n",
    "        loc = get_first_annual_loc(singal_dates)\n",
    "        locs.append(loc)\n",
    "        \n",
    "    return locs"
   ]
  },
  {
   "cell_type": "code",
   "execution_count": 2,
   "metadata": {},
   "outputs": [],
   "source": [
    "s1 = ['2016-12-31']*2 + ['2017-03-31']*2 + ['2017-06-30']*3 + ['2017-09-30']*2 + ['2017-12-31']*3 + ['2018-03-31']*3\n",
    "s2 = ['2017-03-31']*2 + ['2017-06-30']*2 + ['2017-09-30']*3 + ['2017-12-31']*2 + ['2018-03-31']*3 + ['2018-06-30']*3\n",
    "s3 = ['2016-12-31']*1 + ['2017-03-31']*3 + ['2017-06-30']*3 + ['2017-09-30']*2 + ['2017-12-31']*3 + ['2018-03-31']*3"
   ]
  },
  {
   "cell_type": "code",
   "execution_count": 3,
   "metadata": {},
   "outputs": [],
   "source": [
    "dts1 = pd.to_datetime(s1)\n",
    "dts2 = pd.to_datetime(s2)\n",
    "dts3 = pd.to_datetime(s3)"
   ]
  },
  {
   "cell_type": "code",
   "execution_count": 4,
   "metadata": {},
   "outputs": [],
   "source": [
    "df = pd.DataFrame([dts1,dts2,dts3]).T\n",
    "dates = df.values"
   ]
  },
  {
   "cell_type": "code",
   "execution_count": 5,
   "metadata": {},
   "outputs": [
    {
     "data": {
      "text/plain": [
       "array([['2016-12-31T00:00:00.000000000', '2017-03-31T00:00:00.000000000',\n",
       "        '2016-12-31T00:00:00.000000000'],\n",
       "       ['2016-12-31T00:00:00.000000000', '2017-03-31T00:00:00.000000000',\n",
       "        '2017-03-31T00:00:00.000000000'],\n",
       "       ['2017-03-31T00:00:00.000000000', '2017-06-30T00:00:00.000000000',\n",
       "        '2017-03-31T00:00:00.000000000'],\n",
       "       ['2017-03-31T00:00:00.000000000', '2017-06-30T00:00:00.000000000',\n",
       "        '2017-03-31T00:00:00.000000000'],\n",
       "       ['2017-06-30T00:00:00.000000000', '2017-09-30T00:00:00.000000000',\n",
       "        '2017-06-30T00:00:00.000000000'],\n",
       "       ['2017-06-30T00:00:00.000000000', '2017-09-30T00:00:00.000000000',\n",
       "        '2017-06-30T00:00:00.000000000'],\n",
       "       ['2017-06-30T00:00:00.000000000', '2017-09-30T00:00:00.000000000',\n",
       "        '2017-06-30T00:00:00.000000000'],\n",
       "       ['2017-09-30T00:00:00.000000000', '2017-12-31T00:00:00.000000000',\n",
       "        '2017-09-30T00:00:00.000000000'],\n",
       "       ['2017-09-30T00:00:00.000000000', '2017-12-31T00:00:00.000000000',\n",
       "        '2017-09-30T00:00:00.000000000'],\n",
       "       ['2017-12-31T00:00:00.000000000', '2018-03-31T00:00:00.000000000',\n",
       "        '2017-12-31T00:00:00.000000000'],\n",
       "       ['2017-12-31T00:00:00.000000000', '2018-03-31T00:00:00.000000000',\n",
       "        '2017-12-31T00:00:00.000000000'],\n",
       "       ['2017-12-31T00:00:00.000000000', '2018-03-31T00:00:00.000000000',\n",
       "        '2017-12-31T00:00:00.000000000'],\n",
       "       ['2018-03-31T00:00:00.000000000', '2018-06-30T00:00:00.000000000',\n",
       "        '2018-03-31T00:00:00.000000000'],\n",
       "       ['2018-03-31T00:00:00.000000000', '2018-06-30T00:00:00.000000000',\n",
       "        '2018-03-31T00:00:00.000000000'],\n",
       "       ['2018-03-31T00:00:00.000000000', '2018-06-30T00:00:00.000000000',\n",
       "        '2018-03-31T00:00:00.000000000']], dtype='datetime64[ns]')"
      ]
     },
     "execution_count": 5,
     "metadata": {},
     "output_type": "execute_result"
    }
   ],
   "source": [
    "dates"
   ]
  },
  {
   "cell_type": "raw",
   "metadata": {},
   "source": [
    "locs = _select_annual_indices(dates)"
   ]
  },
  {
   "cell_type": "raw",
   "metadata": {},
   "source": [
    "for i, loc in enumerate(locs):\n",
    "    print(dates[:,i][loc[-1]])"
   ]
  },
  {
   "cell_type": "raw",
   "metadata": {},
   "source": [
    "for i, loc in enumerate(locs):\n",
    "    print(dates[:,i][loc[-2]])"
   ]
  },
  {
   "cell_type": "code",
   "execution_count": 6,
   "metadata": {},
   "outputs": [],
   "source": [
    "def _select_annual_indices(dates):\n",
    "    \"\"\"选取最近第n年年末财务报告位置辅助函数\"\"\"\n",
    "    col_num = dates.shape[1]\n",
    "\n",
    "    def get_annual_changed_locs(col_dates):\n",
    "        is_year_end = pd.to_datetime(col_dates).is_year_end\n",
    "        y_e_loc = np.argwhere(is_year_end).flatten()\n",
    "        locs = changed_locations(np.diff(y_e_loc), True)\n",
    "        print(y_e_loc[locs])\n",
    "        return y_e_loc[locs]\n",
    "\n",
    "    locs = []\n",
    "\n",
    "    for col in range(col_num):\n",
    "        singal_dates = dates[:,col]\n",
    "        loc = get_annual_changed_locs(singal_dates)\n",
    "        locs.append(loc)\n",
    "        \n",
    "    return locs"
   ]
  },
  {
   "cell_type": "code",
   "execution_count": 7,
   "metadata": {},
   "outputs": [],
   "source": [
    "expect = np.array([[0,9],[7],[0,10]])"
   ]
  },
  {
   "cell_type": "code",
   "execution_count": 8,
   "metadata": {},
   "outputs": [
    {
     "name": "stdout",
     "output_type": "stream",
     "text": [
      "[0, 9]\n",
      "[7]\n",
      "[0, 10]\n"
     ]
    }
   ],
   "source": [
    "for e in expect:\n",
    "    print(e)"
   ]
  },
  {
   "cell_type": "code",
   "execution_count": 9,
   "metadata": {},
   "outputs": [
    {
     "name": "stdout",
     "output_type": "stream",
     "text": [
      "[0 1 9]\n",
      "[7]\n",
      "[0 9]\n"
     ]
    },
    {
     "data": {
      "text/plain": [
       "[array([0, 1, 9]), array([7]), array([0, 9])]"
      ]
     },
     "execution_count": 9,
     "metadata": {},
     "output_type": "execute_result"
    }
   ],
   "source": [
    "_select_annual_indices(dates)"
   ]
  },
  {
   "cell_type": "code",
   "execution_count": 10,
   "metadata": {},
   "outputs": [
    {
     "data": {
      "text/html": [
       "<div>\n",
       "<style scoped>\n",
       "    .dataframe tbody tr th:only-of-type {\n",
       "        vertical-align: middle;\n",
       "    }\n",
       "\n",
       "    .dataframe tbody tr th {\n",
       "        vertical-align: top;\n",
       "    }\n",
       "\n",
       "    .dataframe thead th {\n",
       "        text-align: right;\n",
       "    }\n",
       "</style>\n",
       "<table border=\"1\" class=\"dataframe\">\n",
       "  <thead>\n",
       "    <tr style=\"text-align: right;\">\n",
       "      <th></th>\n",
       "      <th>0</th>\n",
       "      <th>1</th>\n",
       "      <th>2</th>\n",
       "    </tr>\n",
       "  </thead>\n",
       "  <tbody>\n",
       "    <tr>\n",
       "      <th>0</th>\n",
       "      <td>2016-12-31</td>\n",
       "      <td>2017-03-31</td>\n",
       "      <td>2016-12-31</td>\n",
       "    </tr>\n",
       "    <tr>\n",
       "      <th>1</th>\n",
       "      <td>2016-12-31</td>\n",
       "      <td>2017-03-31</td>\n",
       "      <td>2017-03-31</td>\n",
       "    </tr>\n",
       "    <tr>\n",
       "      <th>2</th>\n",
       "      <td>2017-03-31</td>\n",
       "      <td>2017-06-30</td>\n",
       "      <td>2017-03-31</td>\n",
       "    </tr>\n",
       "    <tr>\n",
       "      <th>3</th>\n",
       "      <td>2017-03-31</td>\n",
       "      <td>2017-06-30</td>\n",
       "      <td>2017-03-31</td>\n",
       "    </tr>\n",
       "    <tr>\n",
       "      <th>4</th>\n",
       "      <td>2017-06-30</td>\n",
       "      <td>2017-09-30</td>\n",
       "      <td>2017-06-30</td>\n",
       "    </tr>\n",
       "    <tr>\n",
       "      <th>5</th>\n",
       "      <td>2017-06-30</td>\n",
       "      <td>2017-09-30</td>\n",
       "      <td>2017-06-30</td>\n",
       "    </tr>\n",
       "    <tr>\n",
       "      <th>6</th>\n",
       "      <td>2017-06-30</td>\n",
       "      <td>2017-09-30</td>\n",
       "      <td>2017-06-30</td>\n",
       "    </tr>\n",
       "    <tr>\n",
       "      <th>7</th>\n",
       "      <td>2017-09-30</td>\n",
       "      <td>2017-12-31</td>\n",
       "      <td>2017-09-30</td>\n",
       "    </tr>\n",
       "    <tr>\n",
       "      <th>8</th>\n",
       "      <td>2017-09-30</td>\n",
       "      <td>2017-12-31</td>\n",
       "      <td>2017-09-30</td>\n",
       "    </tr>\n",
       "    <tr>\n",
       "      <th>9</th>\n",
       "      <td>2017-12-31</td>\n",
       "      <td>2018-03-31</td>\n",
       "      <td>2017-12-31</td>\n",
       "    </tr>\n",
       "    <tr>\n",
       "      <th>10</th>\n",
       "      <td>2017-12-31</td>\n",
       "      <td>2018-03-31</td>\n",
       "      <td>2017-12-31</td>\n",
       "    </tr>\n",
       "    <tr>\n",
       "      <th>11</th>\n",
       "      <td>2017-12-31</td>\n",
       "      <td>2018-03-31</td>\n",
       "      <td>2017-12-31</td>\n",
       "    </tr>\n",
       "    <tr>\n",
       "      <th>12</th>\n",
       "      <td>2018-03-31</td>\n",
       "      <td>2018-06-30</td>\n",
       "      <td>2018-03-31</td>\n",
       "    </tr>\n",
       "    <tr>\n",
       "      <th>13</th>\n",
       "      <td>2018-03-31</td>\n",
       "      <td>2018-06-30</td>\n",
       "      <td>2018-03-31</td>\n",
       "    </tr>\n",
       "    <tr>\n",
       "      <th>14</th>\n",
       "      <td>2018-03-31</td>\n",
       "      <td>2018-06-30</td>\n",
       "      <td>2018-03-31</td>\n",
       "    </tr>\n",
       "  </tbody>\n",
       "</table>\n",
       "</div>"
      ],
      "text/plain": [
       "            0          1          2\n",
       "0  2016-12-31 2017-03-31 2016-12-31\n",
       "1  2016-12-31 2017-03-31 2017-03-31\n",
       "2  2017-03-31 2017-06-30 2017-03-31\n",
       "3  2017-03-31 2017-06-30 2017-03-31\n",
       "4  2017-06-30 2017-09-30 2017-06-30\n",
       "5  2017-06-30 2017-09-30 2017-06-30\n",
       "6  2017-06-30 2017-09-30 2017-06-30\n",
       "7  2017-09-30 2017-12-31 2017-09-30\n",
       "8  2017-09-30 2017-12-31 2017-09-30\n",
       "9  2017-12-31 2018-03-31 2017-12-31\n",
       "10 2017-12-31 2018-03-31 2017-12-31\n",
       "11 2017-12-31 2018-03-31 2017-12-31\n",
       "12 2018-03-31 2018-06-30 2018-03-31\n",
       "13 2018-03-31 2018-06-30 2018-03-31\n",
       "14 2018-03-31 2018-06-30 2018-03-31"
      ]
     },
     "execution_count": 10,
     "metadata": {},
     "output_type": "execute_result"
    }
   ],
   "source": [
    "df"
   ]
  },
  {
   "cell_type": "code",
   "execution_count": 11,
   "metadata": {},
   "outputs": [],
   "source": [
    "is_year_end = df.applymap(lambda x:pd.to_datetime(x).is_year_end)"
   ]
  },
  {
   "cell_type": "code",
   "execution_count": 12,
   "metadata": {},
   "outputs": [],
   "source": [
    "def _last(x):\n",
    "    \"\"\"给定位置序列，选取位置差为1的最后一个位置\"\"\"\n",
    "    res = []\n",
    "    num = len(x)\n",
    "    selected = False\n",
    "    for i in range(num-1, 0, -1):\n",
    "        diff = x[i] - x[i-1]\n",
    "        if x[i] - x[i-1] > 1:\n",
    "            selected = False\n",
    "        if (diff == 1) and (not selected):\n",
    "            res.append(x[i])\n",
    "            selected = True\n",
    "    return list(reversed(res))       "
   ]
  },
  {
   "cell_type": "code",
   "execution_count": 13,
   "metadata": {},
   "outputs": [
    {
     "name": "stdout",
     "output_type": "stream",
     "text": [
      "[[1, 11], [8], [11]]\n"
     ]
    }
   ],
   "source": [
    "res = []\n",
    "for _, s in is_year_end.items():\n",
    "    # 年末位置\n",
    "    year_end_loc = np.argwhere(s).flatten()\n",
    "    res.append(_last(year_end_loc))\n",
    "print(res)"
   ]
  }
 ],
 "metadata": {
  "kernelspec": {
   "display_name": "zipline",
   "language": "python",
   "name": "zipline"
  },
  "language_info": {
   "codemirror_mode": {
    "name": "ipython",
    "version": 3
   },
   "file_extension": ".py",
   "mimetype": "text/x-python",
   "name": "python",
   "nbconvert_exporter": "python",
   "pygments_lexer": "ipython3",
   "version": "3.6.5"
  },
  "toc": {
   "base_numbering": 1,
   "nav_menu": {},
   "number_sections": true,
   "sideBar": true,
   "skip_h1_title": false,
   "title_cell": "Table of Contents",
   "title_sidebar": "Contents",
   "toc_cell": false,
   "toc_position": {},
   "toc_section_display": true,
   "toc_window_display": false
  }
 },
 "nbformat": 4,
 "nbformat_minor": 2
}
