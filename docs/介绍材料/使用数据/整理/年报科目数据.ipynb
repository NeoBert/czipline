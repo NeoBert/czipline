{
 "cells": [
  {
   "cell_type": "code",
   "execution_count": 1,
   "metadata": {},
   "outputs": [],
   "source": [
    "from zipline.pipeline.factors import CustomFactor"
   ]
  },
  {
   "cell_type": "code",
   "execution_count": 2,
   "metadata": {},
   "outputs": [],
   "source": [
    "from zipline.pipeline.fundamentals import Fundamentals"
   ]
  },
  {
   "cell_type": "code",
   "execution_count": 5,
   "metadata": {},
   "outputs": [
    {
     "data": {
      "text/plain": [
       "{'A033': '营业利润'}"
      ]
     },
     "execution_count": 5,
     "metadata": {},
     "output_type": "execute_result"
    }
   ],
   "source": [
    "Fundamentals.profit_col_code('营业利润')"
   ]
  },
  {
   "cell_type": "code",
   "execution_count": null,
   "metadata": {},
   "outputs": [],
   "source": [
    "class AnnualData(CustomFactor):\n",
    "    \"\"\"\n",
    "    最近n年年度科目数据\n",
    "    \"\"\"\n",
    "\n",
    "    inputs = [Fundamentals.profit_statement.A033, Fundamentals.profit_statement.asof_date]\n",
    "    window_length = 250\n",
    "\n",
    "    def compute(self, today, assets, out, *inputs):\n",
    "        from numpy import nanmin, nanmax\n",
    "\n",
    "        highest_highs = nanmax(highs, axis=0)\n",
    "        lowest_lows = nanmin(lows, axis=0)\n",
    "        out[:] = highest_highs - lowest_lows"
   ]
  }
 ],
 "metadata": {
  "kernelspec": {
   "display_name": "zipline",
   "language": "python",
   "name": "zipline"
  },
  "language_info": {
   "codemirror_mode": {
    "name": "ipython",
    "version": 3
   },
   "file_extension": ".py",
   "mimetype": "text/x-python",
   "name": "python",
   "nbconvert_exporter": "python",
   "pygments_lexer": "ipython3",
   "version": "3.6.5"
  }
 },
 "nbformat": 4,
 "nbformat_minor": 2
}
