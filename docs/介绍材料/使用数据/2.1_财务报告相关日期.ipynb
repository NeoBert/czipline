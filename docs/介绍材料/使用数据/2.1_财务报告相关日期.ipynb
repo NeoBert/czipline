{
 "cells": [
  {
   "cell_type": "code",
   "execution_count": 1,
   "metadata": {
    "ExecuteTime": {
     "end_time": "2018-05-16T08:01:27.326195Z",
     "start_time": "2018-05-16T08:01:24.174285Z"
    }
   },
   "outputs": [],
   "source": [
    "from zipline.pipeline.fundamentals import Fundamentals\n",
    "from zipline.research import run_pipeline, select_output_by\n",
    "from zipline.pipeline import Pipeline"
   ]
  },
  {
   "cell_type": "markdown",
   "metadata": {},
   "source": [
    "## 辅助数据\n",
    "\n",
    "财务报告公告日期"
   ]
  },
  {
   "cell_type": "code",
   "execution_count": 2,
   "metadata": {
    "ExecuteTime": {
     "end_time": "2018-05-16T08:01:27.394410Z",
     "start_time": "2018-05-16T08:01:27.330798Z"
    }
   },
   "outputs": [],
   "source": [
    "from cswd.tasks.report_dates import BookReportDate"
   ]
  },
  {
   "cell_type": "code",
   "execution_count": 3,
   "metadata": {
    "ExecuteTime": {
     "end_time": "2018-05-16T08:01:27.684783Z",
     "start_time": "2018-05-16T08:01:27.396491Z"
    }
   },
   "outputs": [],
   "source": [
    "brd = BookReportDate()\n",
    "dates = brd.data"
   ]
  },
  {
   "cell_type": "code",
   "execution_count": 4,
   "metadata": {
    "ExecuteTime": {
     "end_time": "2018-05-16T08:01:27.717632Z",
     "start_time": "2018-05-16T08:01:27.688085Z"
    }
   },
   "outputs": [
    {
     "data": {
      "text/plain": [
       "(97799, 9)"
      ]
     },
     "execution_count": 4,
     "metadata": {},
     "output_type": "execute_result"
    }
   ],
   "source": [
    "dates.shape"
   ]
  },
  {
   "cell_type": "markdown",
   "metadata": {},
   "source": [
    "## 预处理的公告日期\n",
    "\n",
    "采集的财务报告公告日期存放在本地文件"
   ]
  },
  {
   "cell_type": "code",
   "execution_count": 5,
   "metadata": {
    "ExecuteTime": {
     "end_time": "2018-05-16T08:01:27.731188Z",
     "start_time": "2018-05-16T08:01:27.721204Z"
    }
   },
   "outputs": [],
   "source": [
    "from zipline.pipeline.fundamentals.financal import get_preprocessed_dates"
   ]
  },
  {
   "cell_type": "code",
   "execution_count": 6,
   "metadata": {
    "ExecuteTime": {
     "end_time": "2018-05-16T08:01:27.738929Z",
     "start_time": "2018-05-16T08:01:27.735226Z"
    }
   },
   "outputs": [],
   "source": [
    "import pandas as pd"
   ]
  },
  {
   "cell_type": "code",
   "execution_count": 7,
   "metadata": {
    "ExecuteTime": {
     "end_time": "2018-05-16T08:01:28.889546Z",
     "start_time": "2018-05-16T08:01:27.742872Z"
    }
   },
   "outputs": [],
   "source": [
    "df = get_preprocessed_dates()\n",
    "df = df[df.report_end_date >= pd.Timestamp('2016-12-31').date()]"
   ]
  },
  {
   "cell_type": "code",
   "execution_count": 8,
   "metadata": {
    "ExecuteTime": {
     "end_time": "2018-05-16T08:01:28.922199Z",
     "start_time": "2018-05-16T08:01:28.892158Z"
    }
   },
   "outputs": [
    {
     "data": {
      "text/html": [
       "<div>\n",
       "<style scoped>\n",
       "    .dataframe tbody tr th:only-of-type {\n",
       "        vertical-align: middle;\n",
       "    }\n",
       "\n",
       "    .dataframe tbody tr th {\n",
       "        vertical-align: top;\n",
       "    }\n",
       "\n",
       "    .dataframe thead th {\n",
       "        text-align: right;\n",
       "    }\n",
       "</style>\n",
       "<table border=\"1\" class=\"dataframe\">\n",
       "  <thead>\n",
       "    <tr style=\"text-align: right;\">\n",
       "      <th></th>\n",
       "      <th>report_end_date</th>\n",
       "      <th>timestamp</th>\n",
       "      <th>code</th>\n",
       "    </tr>\n",
       "  </thead>\n",
       "  <tbody>\n",
       "    <tr>\n",
       "      <th>1296</th>\n",
       "      <td>2016-12-31</td>\n",
       "      <td>2017-03-31</td>\n",
       "      <td>000333</td>\n",
       "    </tr>\n",
       "    <tr>\n",
       "      <th>1327</th>\n",
       "      <td>2017-03-31</td>\n",
       "      <td>2017-04-29</td>\n",
       "      <td>000333</td>\n",
       "    </tr>\n",
       "    <tr>\n",
       "      <th>1388</th>\n",
       "      <td>2017-06-30</td>\n",
       "      <td>2017-08-31</td>\n",
       "      <td>000333</td>\n",
       "    </tr>\n",
       "    <tr>\n",
       "      <th>1433</th>\n",
       "      <td>2017-09-30</td>\n",
       "      <td>2017-10-31</td>\n",
       "      <td>000333</td>\n",
       "    </tr>\n",
       "    <tr>\n",
       "      <th>1483</th>\n",
       "      <td>2017-12-31</td>\n",
       "      <td>2018-03-31</td>\n",
       "      <td>000333</td>\n",
       "    </tr>\n",
       "    <tr>\n",
       "      <th>1490</th>\n",
       "      <td>2018-03-31</td>\n",
       "      <td>2018-04-28</td>\n",
       "      <td>000333</td>\n",
       "    </tr>\n",
       "    <tr>\n",
       "      <th>532</th>\n",
       "      <td>2016-12-31</td>\n",
       "      <td>2017-04-29</td>\n",
       "      <td>600645</td>\n",
       "    </tr>\n",
       "    <tr>\n",
       "      <th>532</th>\n",
       "      <td>2017-03-31</td>\n",
       "      <td>2017-04-29</td>\n",
       "      <td>600645</td>\n",
       "    </tr>\n",
       "    <tr>\n",
       "      <th>532</th>\n",
       "      <td>2017-06-30</td>\n",
       "      <td>2017-08-31</td>\n",
       "      <td>600645</td>\n",
       "    </tr>\n",
       "    <tr>\n",
       "      <th>532</th>\n",
       "      <td>2017-09-30</td>\n",
       "      <td>2017-10-31</td>\n",
       "      <td>600645</td>\n",
       "    </tr>\n",
       "    <tr>\n",
       "      <th>533</th>\n",
       "      <td>2017-12-31</td>\n",
       "      <td>2018-04-26</td>\n",
       "      <td>600645</td>\n",
       "    </tr>\n",
       "    <tr>\n",
       "      <th>533</th>\n",
       "      <td>2018-03-31</td>\n",
       "      <td>2018-04-26</td>\n",
       "      <td>600645</td>\n",
       "    </tr>\n",
       "  </tbody>\n",
       "</table>\n",
       "</div>"
      ],
      "text/plain": [
       "     report_end_date  timestamp    code\n",
       "1296      2016-12-31 2017-03-31  000333\n",
       "1327      2017-03-31 2017-04-29  000333\n",
       "1388      2017-06-30 2017-08-31  000333\n",
       "1433      2017-09-30 2017-10-31  000333\n",
       "1483      2017-12-31 2018-03-31  000333\n",
       "1490      2018-03-31 2018-04-28  000333\n",
       "532       2016-12-31 2017-04-29  600645\n",
       "532       2017-03-31 2017-04-29  600645\n",
       "532       2017-06-30 2017-08-31  600645\n",
       "532       2017-09-30 2017-10-31  600645\n",
       "533       2017-12-31 2018-04-26  600645\n",
       "533       2018-03-31 2018-04-26  600645"
      ]
     },
     "execution_count": 8,
     "metadata": {},
     "output_type": "execute_result"
    }
   ],
   "source": [
    "df[df.code.isin(['000333','600645'])].sort_values(['code','report_end_date'])"
   ]
  },
  {
   "cell_type": "markdown",
   "metadata": {},
   "source": [
    "## `pipeline`"
   ]
  },
  {
   "cell_type": "code",
   "execution_count": 9,
   "metadata": {
    "ExecuteTime": {
     "end_time": "2018-05-16T08:01:28.934412Z",
     "start_time": "2018-05-16T08:01:28.926943Z"
    }
   },
   "outputs": [],
   "source": [
    "def make_pipeline():\n",
    "\n",
    "    eps = Fundamentals.profit_statement.A044.latest\n",
    "\n",
    "    return Pipeline(columns={\n",
    "        '基本每股收益': eps,\n",
    "        '报告日期': Fundamentals.profit_statement.report_end_date.latest,\n",
    "        '公告日期':Fundamentals.profit_statement.asof_date.latest,\n",
    "    })"
   ]
  },
  {
   "cell_type": "code",
   "execution_count": 10,
   "metadata": {
    "ExecuteTime": {
     "end_time": "2018-05-16T08:01:31.569941Z",
     "start_time": "2018-05-16T08:01:28.937187Z"
    }
   },
   "outputs": [],
   "source": [
    "result = run_pipeline(make_pipeline(), '2018-04-24', '2018-05-02')"
   ]
  },
  {
   "cell_type": "code",
   "execution_count": 11,
   "metadata": {
    "ExecuteTime": {
     "end_time": "2018-05-16T08:01:31.601618Z",
     "start_time": "2018-05-16T08:01:31.571896Z"
    }
   },
   "outputs": [
    {
     "data": {
      "text/html": [
       "<div>\n",
       "<style scoped>\n",
       "    .dataframe tbody tr th:only-of-type {\n",
       "        vertical-align: middle;\n",
       "    }\n",
       "\n",
       "    .dataframe tbody tr th {\n",
       "        vertical-align: top;\n",
       "    }\n",
       "\n",
       "    .dataframe thead th {\n",
       "        text-align: right;\n",
       "    }\n",
       "</style>\n",
       "<table border=\"1\" class=\"dataframe\">\n",
       "  <thead>\n",
       "    <tr style=\"text-align: right;\">\n",
       "      <th></th>\n",
       "      <th></th>\n",
       "      <th>公告日期</th>\n",
       "      <th>基本每股收益</th>\n",
       "      <th>报告日期</th>\n",
       "    </tr>\n",
       "  </thead>\n",
       "  <tbody>\n",
       "    <tr>\n",
       "      <th rowspan=\"2\" valign=\"top\">2018-04-24 00:00:00+00:00</th>\n",
       "      <th>美的集团(000333)</th>\n",
       "      <td>2018-03-30</td>\n",
       "      <td>2.66</td>\n",
       "      <td>2017-12-31</td>\n",
       "    </tr>\n",
       "    <tr>\n",
       "      <th>中源协和(600645)</th>\n",
       "      <td>2017-10-30</td>\n",
       "      <td>0.01</td>\n",
       "      <td>2017-09-30</td>\n",
       "    </tr>\n",
       "    <tr>\n",
       "      <th rowspan=\"2\" valign=\"top\">2018-04-25 00:00:00+00:00</th>\n",
       "      <th>美的集团(000333)</th>\n",
       "      <td>2018-03-30</td>\n",
       "      <td>2.66</td>\n",
       "      <td>2017-12-31</td>\n",
       "    </tr>\n",
       "    <tr>\n",
       "      <th>中源协和(600645)</th>\n",
       "      <td>2017-10-30</td>\n",
       "      <td>0.01</td>\n",
       "      <td>2017-09-30</td>\n",
       "    </tr>\n",
       "    <tr>\n",
       "      <th rowspan=\"2\" valign=\"top\">2018-04-26 00:00:00+00:00</th>\n",
       "      <th>美的集团(000333)</th>\n",
       "      <td>2018-03-30</td>\n",
       "      <td>2.66</td>\n",
       "      <td>2017-12-31</td>\n",
       "    </tr>\n",
       "    <tr>\n",
       "      <th>中源协和(600645)</th>\n",
       "      <td>2017-10-30</td>\n",
       "      <td>0.01</td>\n",
       "      <td>2017-09-30</td>\n",
       "    </tr>\n",
       "    <tr>\n",
       "      <th rowspan=\"2\" valign=\"top\">2018-04-27 00:00:00+00:00</th>\n",
       "      <th>美的集团(000333)</th>\n",
       "      <td>2018-03-30</td>\n",
       "      <td>2.66</td>\n",
       "      <td>2017-12-31</td>\n",
       "    </tr>\n",
       "    <tr>\n",
       "      <th>中源协和(600645)</th>\n",
       "      <td>2018-04-25</td>\n",
       "      <td>0.30</td>\n",
       "      <td>2018-03-31</td>\n",
       "    </tr>\n",
       "    <tr>\n",
       "      <th rowspan=\"2\" valign=\"top\">2018-05-02 00:00:00+00:00</th>\n",
       "      <th>美的集团(000333)</th>\n",
       "      <td>2018-04-27</td>\n",
       "      <td>0.80</td>\n",
       "      <td>2018-03-31</td>\n",
       "    </tr>\n",
       "    <tr>\n",
       "      <th>中源协和(600645)</th>\n",
       "      <td>2018-04-25</td>\n",
       "      <td>0.30</td>\n",
       "      <td>2018-03-31</td>\n",
       "    </tr>\n",
       "  </tbody>\n",
       "</table>\n",
       "</div>"
      ],
      "text/plain": [
       "                                             公告日期  基本每股收益       报告日期\n",
       "2018-04-24 00:00:00+00:00 美的集团(000333) 2018-03-30    2.66 2017-12-31\n",
       "                          中源协和(600645) 2017-10-30    0.01 2017-09-30\n",
       "2018-04-25 00:00:00+00:00 美的集团(000333) 2018-03-30    2.66 2017-12-31\n",
       "                          中源协和(600645) 2017-10-30    0.01 2017-09-30\n",
       "2018-04-26 00:00:00+00:00 美的集团(000333) 2018-03-30    2.66 2017-12-31\n",
       "                          中源协和(600645) 2017-10-30    0.01 2017-09-30\n",
       "2018-04-27 00:00:00+00:00 美的集团(000333) 2018-03-30    2.66 2017-12-31\n",
       "                          中源协和(600645) 2018-04-25    0.30 2018-03-31\n",
       "2018-05-02 00:00:00+00:00 美的集团(000333) 2018-04-27    0.80 2018-03-31\n",
       "                          中源协和(600645) 2018-04-25    0.30 2018-03-31"
      ]
     },
     "execution_count": 11,
     "metadata": {},
     "output_type": "execute_result"
    }
   ],
   "source": [
    "select_output_by(result, stock_codes=['600645','000333'])"
   ]
  },
  {
   "cell_type": "markdown",
   "metadata": {},
   "source": [
    "**由于年报与第一季度报告同时公布，`pipeline`处理时有断层。即会跳过年报，至今到三季度**"
   ]
  }
 ],
 "metadata": {
  "kernelspec": {
   "display_name": "zipline",
   "language": "python",
   "name": "zipline"
  },
  "language_info": {
   "codemirror_mode": {
    "name": "ipython",
    "version": 3
   },
   "file_extension": ".py",
   "mimetype": "text/x-python",
   "name": "python",
   "nbconvert_exporter": "python",
   "pygments_lexer": "ipython3",
   "version": "3.6.5"
  },
  "toc": {
   "base_numbering": 1,
   "nav_menu": {},
   "number_sections": true,
   "sideBar": true,
   "skip_h1_title": false,
   "title_cell": "Table of Contents",
   "title_sidebar": "Contents",
   "toc_cell": false,
   "toc_position": {},
   "toc_section_display": true,
   "toc_window_display": true
  }
 },
 "nbformat": 4,
 "nbformat_minor": 2
}
