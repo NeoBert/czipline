{
 "cells": [
  {
   "cell_type": "markdown",
   "metadata": {},
   "source": [
    "# alpha"
   ]
  },
  {
   "cell_type": "code",
   "execution_count": 1,
   "metadata": {
    "ExecuteTime": {
     "end_time": "2018-06-01T07:04:01.534300Z",
     "start_time": "2018-06-01T07:04:01.196425Z"
    }
   },
   "outputs": [],
   "source": [
    "import pandas as pd"
   ]
  },
  {
   "cell_type": "code",
   "execution_count": 2,
   "metadata": {
    "ExecuteTime": {
     "end_time": "2018-06-01T07:04:04.477694Z",
     "start_time": "2018-06-01T07:04:01.536261Z"
    }
   },
   "outputs": [],
   "source": [
    "from zipline.research import prices"
   ]
  },
  {
   "cell_type": "code",
   "execution_count": 3,
   "metadata": {
    "ExecuteTime": {
     "end_time": "2018-06-01T07:04:05.541386Z",
     "start_time": "2018-06-01T07:04:04.480849Z"
    }
   },
   "outputs": [
    {
     "name": "stdout",
     "output_type": "stream",
     "text": [
      "[2018-06-01 15:04:05.503512] INFO: zipline.finance.metrics.tracker: 模拟1个交易日\n",
      "首个开盘时间: 2018-05-29 01:31:00+00:00\n",
      "最后收盘时间: 2018-05-29 07:00:00+00:00\n"
     ]
    }
   ],
   "source": [
    "# 尽量选择同时包含正负收益的股票列表\n",
    "ps = prices(['000001','000002','000333','600645','600771'],'2018-5-19','2018-5-29')"
   ]
  },
  {
   "cell_type": "code",
   "execution_count": 4,
   "metadata": {
    "ExecuteTime": {
     "end_time": "2018-06-01T07:04:05.550912Z",
     "start_time": "2018-06-01T07:04:05.543725Z"
    }
   },
   "outputs": [],
   "source": [
    "alphas = ps.pct_change(6).iloc[-1]"
   ]
  },
  {
   "cell_type": "markdown",
   "metadata": {},
   "source": [
    "## 修改数据以利更好观察"
   ]
  },
  {
   "cell_type": "code",
   "execution_count": 5,
   "metadata": {
    "ExecuteTime": {
     "end_time": "2018-06-01T07:04:05.557102Z",
     "start_time": "2018-06-01T07:04:05.553212Z"
    }
   },
   "outputs": [],
   "source": [
    "alphas = pd.Series([-0.1,-0.05,-0.02,0,0.07],index=alphas.index)"
   ]
  },
  {
   "cell_type": "code",
   "execution_count": 6,
   "metadata": {
    "ExecuteTime": {
     "end_time": "2018-06-01T07:04:05.580393Z",
     "start_time": "2018-06-01T07:04:05.559307Z"
    }
   },
   "outputs": [
    {
     "data": {
      "text/plain": [
       "平安银行(000001)   -0.10\n",
       "万 科Ａ(000002)   -0.05\n",
       "美的集团(000333)   -0.02\n",
       "中源协和(600645)    0.00\n",
       "广誉远(600771)     0.07\n",
       "dtype: float64"
      ]
     },
     "execution_count": 6,
     "metadata": {},
     "output_type": "execute_result"
    }
   ],
   "source": [
    "alphas"
   ]
  },
  {
   "cell_type": "code",
   "execution_count": 7,
   "metadata": {
    "ExecuteTime": {
     "end_time": "2018-06-01T07:04:05.589731Z",
     "start_time": "2018-06-01T07:04:05.584894Z"
    }
   },
   "outputs": [],
   "source": [
    "_long, _short = alphas.index[-1], alphas.index[0]"
   ]
  },
  {
   "cell_type": "markdown",
   "metadata": {},
   "source": [
    "# 优化"
   ]
  },
  {
   "cell_type": "markdown",
   "metadata": {},
   "source": [
    "## 期初投资组合"
   ]
  },
  {
   "cell_type": "code",
   "execution_count": 8,
   "metadata": {
    "ExecuteTime": {
     "end_time": "2018-06-01T07:04:05.598278Z",
     "start_time": "2018-06-01T07:04:05.593335Z"
    }
   },
   "outputs": [],
   "source": [
    "current_portfolio = pd.Series([0.2] * 5, index=alphas.index)"
   ]
  },
  {
   "cell_type": "code",
   "execution_count": 9,
   "metadata": {
    "ExecuteTime": {
     "end_time": "2018-06-01T07:04:05.609164Z",
     "start_time": "2018-06-01T07:04:05.602329Z"
    }
   },
   "outputs": [
    {
     "data": {
      "text/plain": [
       "平安银行(000001)    0.2\n",
       "万 科Ａ(000002)    0.2\n",
       "美的集团(000333)    0.2\n",
       "中源协和(600645)    0.2\n",
       "广誉远(600771)     0.2\n",
       "dtype: float64"
      ]
     },
     "execution_count": 9,
     "metadata": {},
     "output_type": "execute_result"
    }
   ],
   "source": [
    "current_portfolio"
   ]
  },
  {
   "cell_type": "code",
   "execution_count": 10,
   "metadata": {
    "ExecuteTime": {
     "end_time": "2018-06-01T07:04:05.618743Z",
     "start_time": "2018-06-01T07:04:05.613420Z"
    }
   },
   "outputs": [],
   "source": [
    "universe = current_portfolio.index"
   ]
  },
  {
   "cell_type": "code",
   "execution_count": 11,
   "metadata": {
    "ExecuteTime": {
     "end_time": "2018-06-01T07:04:05.630569Z",
     "start_time": "2018-06-01T07:04:05.623341Z"
    }
   },
   "outputs": [
    {
     "data": {
      "text/plain": [
       "array([4, 0])"
      ]
     },
     "execution_count": 11,
     "metadata": {},
     "output_type": "execute_result"
    }
   ],
   "source": [
    "universe.get_indexer([_long,_short])"
   ]
  },
  {
   "cell_type": "markdown",
   "metadata": {},
   "source": [
    "## 最大alpha"
   ]
  },
  {
   "cell_type": "code",
   "execution_count": 12,
   "metadata": {
    "ExecuteTime": {
     "end_time": "2018-06-01T07:04:05.952528Z",
     "start_time": "2018-06-01T07:04:05.637068Z"
    }
   },
   "outputs": [],
   "source": [
    "from zipline import optimize as opt"
   ]
  },
  {
   "cell_type": "code",
   "execution_count": 13,
   "metadata": {
    "ExecuteTime": {
     "end_time": "2018-06-01T07:04:05.961201Z",
     "start_time": "2018-06-01T07:04:05.956994Z"
    }
   },
   "outputs": [],
   "source": [
    "objective = opt.MaximizeAlpha(alphas)"
   ]
  },
  {
   "cell_type": "code",
   "execution_count": 19,
   "metadata": {
    "ExecuteTime": {
     "end_time": "2018-06-01T07:04:43.361257Z",
     "start_time": "2018-06-01T07:04:43.354484Z"
    }
   },
   "outputs": [],
   "source": [
    "constraints = [\n",
    "    opt.MaxGrossExposure(3),\n",
    "    #opt.Frozen(current_portfolio.index[2:4]),\n",
    "    #opt.NotLessThan(0.1),\n",
    "    opt.NotExceed(1.0),\n",
    "    opt.Pair(_long, _short, 2),\n",
    "]"
   ]
  },
  {
   "cell_type": "code",
   "execution_count": 20,
   "metadata": {
    "ExecuteTime": {
     "end_time": "2018-06-01T07:04:43.725739Z",
     "start_time": "2018-06-01T07:04:43.667414Z"
    }
   },
   "outputs": [],
   "source": [
    "result = opt.run_optimization(objective, constraints, current_portfolio)"
   ]
  },
  {
   "cell_type": "code",
   "execution_count": 21,
   "metadata": {
    "ExecuteTime": {
     "end_time": "2018-06-01T07:04:44.086233Z",
     "start_time": "2018-06-01T07:04:44.080920Z"
    }
   },
   "outputs": [
    {
     "name": "stdout",
     "output_type": "stream",
     "text": [
      "求解状态              成功\n",
      "最优解         0.180000\n",
      "迭代次数              10\n",
      "设立问题用时(s)   0.000060\n",
      "求解问题用时(s)   0.000112\n",
      "求解器名称           ECOS\n"
     ]
    }
   ],
   "source": [
    "result.print_diagnostics()"
   ]
  },
  {
   "cell_type": "code",
   "execution_count": 22,
   "metadata": {
    "ExecuteTime": {
     "end_time": "2018-06-01T07:04:44.765225Z",
     "start_time": "2018-06-01T07:04:44.748838Z"
    }
   },
   "outputs": [
    {
     "data": {
      "text/html": [
       "<div>\n",
       "<style scoped>\n",
       "    .dataframe tbody tr th:only-of-type {\n",
       "        vertical-align: middle;\n",
       "    }\n",
       "\n",
       "    .dataframe tbody tr th {\n",
       "        vertical-align: top;\n",
       "    }\n",
       "\n",
       "    .dataframe thead th {\n",
       "        text-align: right;\n",
       "    }\n",
       "</style>\n",
       "<table border=\"1\" class=\"dataframe\">\n",
       "  <thead>\n",
       "    <tr style=\"text-align: right;\">\n",
       "      <th></th>\n",
       "      <th>long</th>\n",
       "      <th>short</th>\n",
       "      <th>total</th>\n",
       "    </tr>\n",
       "  </thead>\n",
       "  <tbody>\n",
       "    <tr>\n",
       "      <th>平安银行(000001)</th>\n",
       "      <td>0.0</td>\n",
       "      <td>-0.5</td>\n",
       "      <td>0.5</td>\n",
       "    </tr>\n",
       "    <tr>\n",
       "      <th>万 科Ａ(000002)</th>\n",
       "      <td>0.0</td>\n",
       "      <td>-1.0</td>\n",
       "      <td>1.0</td>\n",
       "    </tr>\n",
       "    <tr>\n",
       "      <th>美的集团(000333)</th>\n",
       "      <td>0.0</td>\n",
       "      <td>-0.5</td>\n",
       "      <td>0.5</td>\n",
       "    </tr>\n",
       "    <tr>\n",
       "      <th>中源协和(600645)</th>\n",
       "      <td>0.0</td>\n",
       "      <td>-0.0</td>\n",
       "      <td>0.0</td>\n",
       "    </tr>\n",
       "    <tr>\n",
       "      <th>广誉远(600771)</th>\n",
       "      <td>1.0</td>\n",
       "      <td>-0.0</td>\n",
       "      <td>1.0</td>\n",
       "    </tr>\n",
       "  </tbody>\n",
       "</table>\n",
       "</div>"
      ],
      "text/plain": [
       "              long  short  total\n",
       "平安银行(000001)   0.0   -0.5    0.5\n",
       "万 科Ａ(000002)   0.0   -1.0    1.0\n",
       "美的集团(000333)   0.0   -0.5    0.5\n",
       "中源协和(600645)   0.0   -0.0    0.0\n",
       "广誉远(600771)    1.0   -0.0    1.0"
      ]
     },
     "execution_count": 22,
     "metadata": {},
     "output_type": "execute_result"
    }
   ],
   "source": [
    "result.new_weights"
   ]
  },
  {
   "cell_type": "code",
   "execution_count": 23,
   "metadata": {
    "ExecuteTime": {
     "end_time": "2018-06-01T07:04:45.534143Z",
     "start_time": "2018-06-01T07:04:45.477052Z"
    }
   },
   "outputs": [
    {
     "data": {
      "text/html": [
       "<div>\n",
       "<style scoped>\n",
       "    .dataframe tbody tr th:only-of-type {\n",
       "        vertical-align: middle;\n",
       "    }\n",
       "\n",
       "    .dataframe tbody tr th {\n",
       "        vertical-align: top;\n",
       "    }\n",
       "\n",
       "    .dataframe thead th {\n",
       "        text-align: right;\n",
       "    }\n",
       "</style>\n",
       "<table border=\"1\" class=\"dataframe\">\n",
       "  <thead>\n",
       "    <tr style=\"text-align: right;\">\n",
       "      <th></th>\n",
       "      <th>long</th>\n",
       "      <th>short</th>\n",
       "      <th>total</th>\n",
       "    </tr>\n",
       "  </thead>\n",
       "  <tbody>\n",
       "    <tr>\n",
       "      <th>平安银行(000001)</th>\n",
       "      <td>0.0</td>\n",
       "      <td>-0.5</td>\n",
       "      <td>0.5</td>\n",
       "    </tr>\n",
       "    <tr>\n",
       "      <th>万 科Ａ(000002)</th>\n",
       "      <td>0.0</td>\n",
       "      <td>-1.0</td>\n",
       "      <td>1.0</td>\n",
       "    </tr>\n",
       "    <tr>\n",
       "      <th>美的集团(000333)</th>\n",
       "      <td>0.0</td>\n",
       "      <td>-0.5</td>\n",
       "      <td>0.5</td>\n",
       "    </tr>\n",
       "    <tr>\n",
       "      <th>中源协和(600645)</th>\n",
       "      <td>0.0</td>\n",
       "      <td>-0.0</td>\n",
       "      <td>0.0</td>\n",
       "    </tr>\n",
       "    <tr>\n",
       "      <th>广誉远(600771)</th>\n",
       "      <td>1.0</td>\n",
       "      <td>-0.0</td>\n",
       "      <td>1.0</td>\n",
       "    </tr>\n",
       "  </tbody>\n",
       "</table>\n",
       "</div>"
      ],
      "text/plain": [
       "              long  short  total\n",
       "平安银行(000001)   0.0   -0.5    0.5\n",
       "万 科Ａ(000002)   0.0   -1.0    1.0\n",
       "美的集团(000333)   0.0   -0.5    0.5\n",
       "中源协和(600645)   0.0   -0.0    0.0\n",
       "广誉远(600771)    1.0   -0.0    1.0"
      ]
     },
     "execution_count": 23,
     "metadata": {},
     "output_type": "execute_result"
    }
   ],
   "source": [
    "opt.calculate_optimal_portfolio(objective, constraints, current_portfolio)"
   ]
  }
 ],
 "metadata": {
  "kernelspec": {
   "display_name": "zipline",
   "language": "python",
   "name": "zipline"
  },
  "language_info": {
   "codemirror_mode": {
    "name": "ipython",
    "version": 3
   },
   "file_extension": ".py",
   "mimetype": "text/x-python",
   "name": "python",
   "nbconvert_exporter": "python",
   "pygments_lexer": "ipython3",
   "version": "3.6.5"
  },
  "toc": {
   "base_numbering": 1,
   "nav_menu": {},
   "number_sections": true,
   "sideBar": true,
   "skip_h1_title": false,
   "title_cell": "Table of Contents",
   "title_sidebar": "Contents",
   "toc_cell": false,
   "toc_position": {},
   "toc_section_display": true,
   "toc_window_display": true
  }
 },
 "nbformat": 4,
 "nbformat_minor": 2
}
