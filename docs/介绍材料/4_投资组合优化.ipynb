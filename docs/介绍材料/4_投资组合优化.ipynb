{
 "cells": [
  {
   "cell_type": "markdown",
   "metadata": {},
   "source": [
    "注:相对原版本，未完成关于限制冲突分析检查"
   ]
  },
  {
   "cell_type": "markdown",
   "metadata": {},
   "source": [
    "# alpha"
   ]
  },
  {
   "cell_type": "code",
   "execution_count": 1,
   "metadata": {
    "ExecuteTime": {
     "end_time": "2018-06-01T22:19:40.748673Z",
     "start_time": "2018-06-01T22:19:36.617822Z"
    }
   },
   "outputs": [],
   "source": [
    "import pandas as pd\n",
    "\n",
    "from zipline import optimize as opt\n",
    "\n",
    "from zipline.research import prices"
   ]
  },
  {
   "cell_type": "code",
   "execution_count": 2,
   "metadata": {
    "ExecuteTime": {
     "end_time": "2018-06-01T22:19:41.990600Z",
     "start_time": "2018-06-01T22:19:40.751766Z"
    }
   },
   "outputs": [
    {
     "name": "stdout",
     "output_type": "stream",
     "text": [
      "[2018-06-02 06:19:41.945549] INFO: zipline.finance.metrics.tracker: 模拟1个交易日\n",
      "首个开盘时间: 2018-05-29 01:31:00+00:00\n",
      "最后收盘时间: 2018-05-29 07:00:00+00:00\n"
     ]
    }
   ],
   "source": [
    "# 尽量选择同时包含正负收益的股票列表\n",
    "ps = prices(['000001','000002','000333','600645','600771'],'2018-5-19','2018-5-29')"
   ]
  },
  {
   "cell_type": "code",
   "execution_count": 3,
   "metadata": {
    "ExecuteTime": {
     "end_time": "2018-06-01T22:19:42.001262Z",
     "start_time": "2018-06-01T22:19:41.994139Z"
    }
   },
   "outputs": [],
   "source": [
    "alphas = ps.pct_change(6).iloc[-1]"
   ]
  },
  {
   "cell_type": "code",
   "execution_count": null,
   "metadata": {},
   "outputs": [],
   "source": [
    "alphas.index.difference"
   ]
  },
  {
   "cell_type": "code",
   "execution_count": 34,
   "metadata": {
    "ExecuteTime": {
     "end_time": "2018-06-02T05:07:05.415407Z",
     "start_time": "2018-06-02T05:07:05.409120Z"
    }
   },
   "outputs": [],
   "source": [
    "import numpy as np"
   ]
  },
  {
   "cell_type": "code",
   "execution_count": 31,
   "metadata": {
    "ExecuteTime": {
     "end_time": "2018-06-02T05:06:29.360312Z",
     "start_time": "2018-06-02T05:06:29.355261Z"
    }
   },
   "outputs": [],
   "source": [
    "class NotFoundAsset(Exception):\n",
    "    \"\"\"找不到对应资产异常\"\"\"\n",
    "    pass"
   ]
  },
  {
   "cell_type": "markdown",
   "metadata": {},
   "source": [
    "## 修改数据以利更好观察"
   ]
  },
  {
   "cell_type": "code",
   "execution_count": 4,
   "metadata": {
    "ExecuteTime": {
     "end_time": "2018-06-01T22:19:42.019357Z",
     "start_time": "2018-06-01T22:19:42.004968Z"
    }
   },
   "outputs": [],
   "source": [
    "alphas = pd.Series([-0.03,-0.10,-0.,0.03,0.11],index=alphas.index)"
   ]
  },
  {
   "cell_type": "code",
   "execution_count": 16,
   "metadata": {
    "ExecuteTime": {
     "end_time": "2018-06-02T03:49:44.635374Z",
     "start_time": "2018-06-02T03:49:44.617891Z"
    }
   },
   "outputs": [
    {
     "data": {
      "text/plain": [
       "平安银行(000001)   -0.03\n",
       "万 科Ａ(000002)   -0.10\n",
       "美的集团(000333)   -0.00\n",
       "中源协和(600645)    0.03\n",
       "广誉远(600771)     0.11\n",
       "dtype: float64"
      ]
     },
     "execution_count": 16,
     "metadata": {},
     "output_type": "execute_result"
    }
   ],
   "source": [
    "alphas"
   ]
  },
  {
   "cell_type": "code",
   "execution_count": 6,
   "metadata": {
    "ExecuteTime": {
     "end_time": "2018-06-01T22:19:42.049963Z",
     "start_time": "2018-06-01T22:19:42.043068Z"
    }
   },
   "outputs": [],
   "source": [
    "_long, _short = alphas.index[4], alphas.index[1]"
   ]
  },
  {
   "cell_type": "markdown",
   "metadata": {},
   "source": [
    "# 优化"
   ]
  },
  {
   "cell_type": "markdown",
   "metadata": {},
   "source": [
    "## 期初投资组合"
   ]
  },
  {
   "cell_type": "code",
   "execution_count": 7,
   "metadata": {
    "ExecuteTime": {
     "end_time": "2018-06-01T22:19:42.059163Z",
     "start_time": "2018-06-01T22:19:42.054189Z"
    }
   },
   "outputs": [],
   "source": [
    "current_portfolio = pd.Series([-0.2,-0.1,0.0001,0.1,0.2], index=alphas.index)"
   ]
  },
  {
   "cell_type": "code",
   "execution_count": 8,
   "metadata": {
    "ExecuteTime": {
     "end_time": "2018-06-01T22:19:42.072655Z",
     "start_time": "2018-06-01T22:19:42.063396Z"
    }
   },
   "outputs": [
    {
     "data": {
      "text/plain": [
       "平安银行(000001)   -0.2000\n",
       "万 科Ａ(000002)   -0.1000\n",
       "美的集团(000333)    0.0001\n",
       "中源协和(600645)    0.1000\n",
       "广誉远(600771)     0.2000\n",
       "dtype: float64"
      ]
     },
     "execution_count": 8,
     "metadata": {},
     "output_type": "execute_result"
    }
   ],
   "source": [
    "current_portfolio"
   ]
  },
  {
   "cell_type": "markdown",
   "metadata": {},
   "source": [
    "## 最大alpha"
   ]
  },
  {
   "cell_type": "code",
   "execution_count": 9,
   "metadata": {
    "ExecuteTime": {
     "end_time": "2018-06-01T22:19:42.081023Z",
     "start_time": "2018-06-01T22:19:42.076567Z"
    }
   },
   "outputs": [],
   "source": [
    "objective = opt.MaximizeAlpha(alphas)"
   ]
  },
  {
   "cell_type": "code",
   "execution_count": 10,
   "metadata": {
    "ExecuteTime": {
     "end_time": "2018-06-01T22:19:42.091966Z",
     "start_time": "2018-06-01T22:19:42.084836Z"
    }
   },
   "outputs": [],
   "source": [
    "constraints = [\n",
    "    #opt.MaxGrossExposure(3.0),\n",
    "    #opt.NetExposure(-0.2,0.2),\n",
    "    #opt.DollarNeutral(),\n",
    "    #opt.Pair(_long, _short, 2),\n",
    "    #opt.Basket(current_portfolio.index[:3],-0.3,-0.1),\n",
    "    #opt.Frozen(current_portfolio.index[2]),\n",
    "    #opt.ReduceOnly(current_portfolio.index[:3]),\n",
    "    #opt.LongOnly(current_portfolio.index[:2]),\n",
    "    #opt.NotLessThan(0.1),\n",
    "    opt.NotExceed(0.5),\n",
    "    #opt.FixedWeight(current_portfolio.index[2],0.3),\n",
    "    #opt.Basket(current_portfolio.index[:3],-0.3,-0.1),\n",
    "]"
   ]
  },
  {
   "cell_type": "code",
   "execution_count": 11,
   "metadata": {
    "ExecuteTime": {
     "end_time": "2018-06-01T22:19:42.147498Z",
     "start_time": "2018-06-01T22:19:42.096540Z"
    }
   },
   "outputs": [],
   "source": [
    "result = opt.run_optimization(objective, constraints, current_portfolio)"
   ]
  },
  {
   "cell_type": "code",
   "execution_count": 12,
   "metadata": {
    "ExecuteTime": {
     "end_time": "2018-06-01T22:19:42.157909Z",
     "start_time": "2018-06-01T22:19:42.150794Z"
    }
   },
   "outputs": [
    {
     "data": {
      "text/plain": [
       "'optimal'"
      ]
     },
     "execution_count": 12,
     "metadata": {},
     "output_type": "execute_result"
    }
   ],
   "source": [
    "result.prob.status"
   ]
  },
  {
   "cell_type": "code",
   "execution_count": 13,
   "metadata": {
    "ExecuteTime": {
     "end_time": "2018-06-01T22:19:42.170472Z",
     "start_time": "2018-06-01T22:19:42.166670Z"
    }
   },
   "outputs": [],
   "source": [
    "# opt.MaxGrossExposure(3.0)与opt.NotExceed(0.6)组合时，出现没有意义的权重?\n",
    "# 估计是收益率为0，计算精度问题?\n",
    "# 如果分配完权重，则不受影响"
   ]
  },
  {
   "cell_type": "code",
   "execution_count": 14,
   "metadata": {
    "ExecuteTime": {
     "end_time": "2018-06-01T22:19:42.199130Z",
     "start_time": "2018-06-01T22:19:42.174470Z"
    }
   },
   "outputs": [
    {
     "data": {
      "text/html": [
       "<div>\n",
       "<style scoped>\n",
       "    .dataframe tbody tr th:only-of-type {\n",
       "        vertical-align: middle;\n",
       "    }\n",
       "\n",
       "    .dataframe tbody tr th {\n",
       "        vertical-align: top;\n",
       "    }\n",
       "\n",
       "    .dataframe thead th {\n",
       "        text-align: right;\n",
       "    }\n",
       "</style>\n",
       "<table border=\"1\" class=\"dataframe\">\n",
       "  <thead>\n",
       "    <tr style=\"text-align: right;\">\n",
       "      <th></th>\n",
       "      <th>long</th>\n",
       "      <th>short</th>\n",
       "      <th>total</th>\n",
       "    </tr>\n",
       "  </thead>\n",
       "  <tbody>\n",
       "    <tr>\n",
       "      <th>平安银行(000001)</th>\n",
       "      <td>0.00</td>\n",
       "      <td>-0.5000</td>\n",
       "      <td>0.5000</td>\n",
       "    </tr>\n",
       "    <tr>\n",
       "      <th>万 科Ａ(000002)</th>\n",
       "      <td>0.00</td>\n",
       "      <td>-0.5000</td>\n",
       "      <td>0.5000</td>\n",
       "    </tr>\n",
       "    <tr>\n",
       "      <th>美的集团(000333)</th>\n",
       "      <td>0.25</td>\n",
       "      <td>-0.1409</td>\n",
       "      <td>0.3909</td>\n",
       "    </tr>\n",
       "    <tr>\n",
       "      <th>中源协和(600645)</th>\n",
       "      <td>0.50</td>\n",
       "      <td>-0.0000</td>\n",
       "      <td>0.5000</td>\n",
       "    </tr>\n",
       "    <tr>\n",
       "      <th>广誉远(600771)</th>\n",
       "      <td>0.50</td>\n",
       "      <td>-0.0000</td>\n",
       "      <td>0.5000</td>\n",
       "    </tr>\n",
       "  </tbody>\n",
       "</table>\n",
       "</div>"
      ],
      "text/plain": [
       "              long   short   total\n",
       "平安银行(000001)  0.00 -0.5000  0.5000\n",
       "万 科Ａ(000002)  0.00 -0.5000  0.5000\n",
       "美的集团(000333)  0.25 -0.1409  0.3909\n",
       "中源协和(600645)  0.50 -0.0000  0.5000\n",
       "广誉远(600771)   0.50 -0.0000  0.5000"
      ]
     },
     "execution_count": 14,
     "metadata": {},
     "output_type": "execute_result"
    }
   ],
   "source": [
    "result.new_weights"
   ]
  },
  {
   "cell_type": "markdown",
   "metadata": {},
   "source": [
    "# 单变量求解"
   ]
  },
  {
   "cell_type": "code",
   "execution_count": 15,
   "metadata": {
    "ExecuteTime": {
     "end_time": "2018-06-02T03:49:32.098435Z",
     "start_time": "2018-06-02T03:49:32.095152Z"
    }
   },
   "outputs": [],
   "source": [
    "import cvxpy as cvx"
   ]
  },
  {
   "cell_type": "code",
   "execution_count": 17,
   "metadata": {
    "ExecuteTime": {
     "end_time": "2018-06-02T03:50:08.504918Z",
     "start_time": "2018-06-02T03:50:08.496214Z"
    }
   },
   "outputs": [],
   "source": [
    "w = cvx.Variable(5)"
   ]
  },
  {
   "cell_type": "code",
   "execution_count": 18,
   "metadata": {
    "ExecuteTime": {
     "end_time": "2018-06-02T03:50:50.227488Z",
     "start_time": "2018-06-02T03:50:50.221390Z"
    }
   },
   "outputs": [],
   "source": [
    "obj = cvx.Maximize(alphas.values.T * w)"
   ]
  },
  {
   "cell_type": "code",
   "execution_count": 19,
   "metadata": {
    "ExecuteTime": {
     "end_time": "2018-06-02T03:51:51.020702Z",
     "start_time": "2018-06-02T03:51:51.009852Z"
    }
   },
   "outputs": [],
   "source": [
    "cons = [w >= -0.5, w <= 0.5]"
   ]
  },
  {
   "cell_type": "code",
   "execution_count": 20,
   "metadata": {
    "ExecuteTime": {
     "end_time": "2018-06-02T03:52:05.762214Z",
     "start_time": "2018-06-02T03:52:05.755796Z"
    }
   },
   "outputs": [],
   "source": [
    "prob = cvx.Problem(obj, cons)"
   ]
  },
  {
   "cell_type": "code",
   "execution_count": 21,
   "metadata": {
    "ExecuteTime": {
     "end_time": "2018-06-02T03:52:11.295473Z",
     "start_time": "2018-06-02T03:52:11.266759Z"
    }
   },
   "outputs": [
    {
     "data": {
      "text/plain": [
       "0.13499999999999998"
      ]
     },
     "execution_count": 21,
     "metadata": {},
     "output_type": "execute_result"
    }
   ],
   "source": [
    "prob.solve()"
   ]
  },
  {
   "cell_type": "code",
   "execution_count": 22,
   "metadata": {
    "ExecuteTime": {
     "end_time": "2018-06-02T03:52:18.344842Z",
     "start_time": "2018-06-02T03:52:18.333302Z"
    }
   },
   "outputs": [
    {
     "data": {
      "text/plain": [
       "array([-0.5, -0.5, -0. ,  0.5,  0.5])"
      ]
     },
     "execution_count": 22,
     "metadata": {},
     "output_type": "execute_result"
    }
   ],
   "source": [
    "w.value"
   ]
  },
  {
   "cell_type": "code",
   "execution_count": null,
   "metadata": {},
   "outputs": [],
   "source": []
  }
 ],
 "metadata": {
  "kernelspec": {
   "display_name": "zipline",
   "language": "python",
   "name": "zipline"
  },
  "language_info": {
   "codemirror_mode": {
    "name": "ipython",
    "version": 3
   },
   "file_extension": ".py",
   "mimetype": "text/x-python",
   "name": "python",
   "nbconvert_exporter": "python",
   "pygments_lexer": "ipython3",
   "version": "3.6.5"
  },
  "toc": {
   "base_numbering": 1,
   "nav_menu": {},
   "number_sections": true,
   "sideBar": true,
   "skip_h1_title": false,
   "title_cell": "Table of Contents",
   "title_sidebar": "Contents",
   "toc_cell": false,
   "toc_position": {
    "height": "calc(100% - 180px)",
    "left": "10px",
    "top": "150px",
    "width": "260px"
   },
   "toc_section_display": true,
   "toc_window_display": true
  }
 },
 "nbformat": 4,
 "nbformat_minor": 2
}
