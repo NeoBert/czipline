{
 "cells": [
  {
   "cell_type": "markdown",
   "metadata": {},
   "source": [
    "注:相对原版本，未完成关于限制冲突分析检查"
   ]
  },
  {
   "cell_type": "markdown",
   "metadata": {},
   "source": [
    "# alpha"
   ]
  },
  {
   "cell_type": "code",
   "execution_count": 1,
   "metadata": {
    "ExecuteTime": {
     "end_time": "2018-06-01T21:21:25.403119Z",
     "start_time": "2018-06-01T21:21:21.489612Z"
    }
   },
   "outputs": [],
   "source": [
    "import pandas as pd\n",
    "\n",
    "from zipline import optimize as opt\n",
    "\n",
    "from zipline.research import prices"
   ]
  },
  {
   "cell_type": "code",
   "execution_count": 2,
   "metadata": {
    "ExecuteTime": {
     "end_time": "2018-06-01T21:21:26.579480Z",
     "start_time": "2018-06-01T21:21:25.405696Z"
    }
   },
   "outputs": [
    {
     "name": "stdout",
     "output_type": "stream",
     "text": [
      "[2018-06-02 05:21:26.535145] INFO: zipline.finance.metrics.tracker: 模拟1个交易日\n",
      "首个开盘时间: 2018-05-29 01:31:00+00:00\n",
      "最后收盘时间: 2018-05-29 07:00:00+00:00\n"
     ]
    }
   ],
   "source": [
    "# 尽量选择同时包含正负收益的股票列表\n",
    "ps = prices(['000001','000002','000333','600645','600771'],'2018-5-19','2018-5-29')"
   ]
  },
  {
   "cell_type": "code",
   "execution_count": 3,
   "metadata": {
    "ExecuteTime": {
     "end_time": "2018-06-01T21:21:26.592597Z",
     "start_time": "2018-06-01T21:21:26.582176Z"
    }
   },
   "outputs": [],
   "source": [
    "alphas = ps.pct_change(6).iloc[-1]"
   ]
  },
  {
   "cell_type": "markdown",
   "metadata": {},
   "source": [
    "## 修改数据以利更好观察"
   ]
  },
  {
   "cell_type": "code",
   "execution_count": 4,
   "metadata": {
    "ExecuteTime": {
     "end_time": "2018-06-01T21:21:26.600320Z",
     "start_time": "2018-06-01T21:21:26.595075Z"
    }
   },
   "outputs": [],
   "source": [
    "alphas = pd.Series([-0.03,-0.10,-0.02,0,0.11],index=alphas.index)"
   ]
  },
  {
   "cell_type": "code",
   "execution_count": 5,
   "metadata": {
    "ExecuteTime": {
     "end_time": "2018-06-01T21:21:26.618099Z",
     "start_time": "2018-06-01T21:21:26.604877Z"
    }
   },
   "outputs": [
    {
     "data": {
      "text/plain": [
       "平安银行(000001)   -0.03\n",
       "万 科Ａ(000002)   -0.10\n",
       "美的集团(000333)   -0.02\n",
       "中源协和(600645)    0.00\n",
       "广誉远(600771)     0.11\n",
       "dtype: float64"
      ]
     },
     "execution_count": 5,
     "metadata": {},
     "output_type": "execute_result"
    }
   ],
   "source": [
    "alphas"
   ]
  },
  {
   "cell_type": "code",
   "execution_count": 6,
   "metadata": {
    "ExecuteTime": {
     "end_time": "2018-06-01T21:21:26.629291Z",
     "start_time": "2018-06-01T21:21:26.623186Z"
    }
   },
   "outputs": [],
   "source": [
    "_long, _short = alphas.index[4], alphas.index[1]"
   ]
  },
  {
   "cell_type": "markdown",
   "metadata": {},
   "source": [
    "# 优化"
   ]
  },
  {
   "cell_type": "markdown",
   "metadata": {},
   "source": [
    "## 期初投资组合"
   ]
  },
  {
   "cell_type": "code",
   "execution_count": 7,
   "metadata": {
    "ExecuteTime": {
     "end_time": "2018-06-01T21:21:26.638249Z",
     "start_time": "2018-06-01T21:21:26.633516Z"
    }
   },
   "outputs": [],
   "source": [
    "current_portfolio = pd.Series([-0.2,-0.1,.0,0.1,0.2], index=alphas.index)"
   ]
  },
  {
   "cell_type": "code",
   "execution_count": 8,
   "metadata": {
    "ExecuteTime": {
     "end_time": "2018-06-01T21:21:26.650133Z",
     "start_time": "2018-06-01T21:21:26.641897Z"
    }
   },
   "outputs": [
    {
     "data": {
      "text/plain": [
       "平安银行(000001)   -0.2\n",
       "万 科Ａ(000002)   -0.1\n",
       "美的集团(000333)    0.0\n",
       "中源协和(600645)    0.1\n",
       "广誉远(600771)     0.2\n",
       "dtype: float64"
      ]
     },
     "execution_count": 8,
     "metadata": {},
     "output_type": "execute_result"
    }
   ],
   "source": [
    "current_portfolio"
   ]
  },
  {
   "cell_type": "markdown",
   "metadata": {},
   "source": [
    "## 最大alpha"
   ]
  },
  {
   "cell_type": "code",
   "execution_count": 9,
   "metadata": {
    "ExecuteTime": {
     "end_time": "2018-06-01T21:21:26.660129Z",
     "start_time": "2018-06-01T21:21:26.655615Z"
    }
   },
   "outputs": [],
   "source": [
    "objective = opt.MaximizeAlpha(alphas)"
   ]
  },
  {
   "cell_type": "code",
   "execution_count": 10,
   "metadata": {
    "ExecuteTime": {
     "end_time": "2018-06-01T21:21:26.672301Z",
     "start_time": "2018-06-01T21:21:26.664888Z"
    }
   },
   "outputs": [],
   "source": [
    "constraints = [\n",
    "    opt.MaxGrossExposure(3.0),\n",
    "    #opt.NetExposure(-0.2,0.2),\n",
    "    #opt.DollarNeutral(),\n",
    "    #opt.Pair(_long, _short, 2),\n",
    "    #opt.Basket(current_portfolio.index[:3],-0.3,-0.1),\n",
    "    #opt.Frozen(current_portfolio.index[2]),\n",
    "    #opt.ReduceOnly(current_portfolio.index[:3]),\n",
    "    #opt.LongOnly(current_portfolio.index[:2]),\n",
    "    #opt.NotLessThan(0.1),\n",
    "    #opt.NotExceed(0.6),\n",
    "    opt.FixedWeight(current_portfolio.index[2],0.3),\n",
    "    #opt.Basket(current_portfolio.index[:3],-0.3,-0.1),\n",
    "]"
   ]
  },
  {
   "cell_type": "code",
   "execution_count": 11,
   "metadata": {
    "ExecuteTime": {
     "end_time": "2018-06-01T21:21:26.715620Z",
     "start_time": "2018-06-01T21:21:26.676040Z"
    }
   },
   "outputs": [],
   "source": [
    "result = opt.run_optimization(objective, constraints, current_portfolio)"
   ]
  },
  {
   "cell_type": "code",
   "execution_count": 12,
   "metadata": {
    "ExecuteTime": {
     "end_time": "2018-06-01T21:21:26.726061Z",
     "start_time": "2018-06-01T21:21:26.718984Z"
    }
   },
   "outputs": [
    {
     "data": {
      "text/plain": [
       "'optimal'"
      ]
     },
     "execution_count": 12,
     "metadata": {},
     "output_type": "execute_result"
    }
   ],
   "source": [
    "result.prob.status"
   ]
  },
  {
   "cell_type": "code",
   "execution_count": 13,
   "metadata": {
    "ExecuteTime": {
     "end_time": "2018-06-01T21:21:26.752435Z",
     "start_time": "2018-06-01T21:21:26.729934Z"
    }
   },
   "outputs": [
    {
     "data": {
      "text/html": [
       "<div>\n",
       "<style scoped>\n",
       "    .dataframe tbody tr th:only-of-type {\n",
       "        vertical-align: middle;\n",
       "    }\n",
       "\n",
       "    .dataframe tbody tr th {\n",
       "        vertical-align: top;\n",
       "    }\n",
       "\n",
       "    .dataframe thead th {\n",
       "        text-align: right;\n",
       "    }\n",
       "</style>\n",
       "<table border=\"1\" class=\"dataframe\">\n",
       "  <thead>\n",
       "    <tr style=\"text-align: right;\">\n",
       "      <th></th>\n",
       "      <th>long</th>\n",
       "      <th>short</th>\n",
       "      <th>total</th>\n",
       "    </tr>\n",
       "  </thead>\n",
       "  <tbody>\n",
       "    <tr>\n",
       "      <th>平安银行(000001)</th>\n",
       "      <td>0.0</td>\n",
       "      <td>-0.0</td>\n",
       "      <td>0.0</td>\n",
       "    </tr>\n",
       "    <tr>\n",
       "      <th>万 科Ａ(000002)</th>\n",
       "      <td>0.0</td>\n",
       "      <td>-0.0</td>\n",
       "      <td>0.0</td>\n",
       "    </tr>\n",
       "    <tr>\n",
       "      <th>美的集团(000333)</th>\n",
       "      <td>0.3</td>\n",
       "      <td>-0.0</td>\n",
       "      <td>0.3</td>\n",
       "    </tr>\n",
       "    <tr>\n",
       "      <th>中源协和(600645)</th>\n",
       "      <td>0.0</td>\n",
       "      <td>-0.0</td>\n",
       "      <td>0.0</td>\n",
       "    </tr>\n",
       "    <tr>\n",
       "      <th>广誉远(600771)</th>\n",
       "      <td>2.7</td>\n",
       "      <td>-0.0</td>\n",
       "      <td>2.7</td>\n",
       "    </tr>\n",
       "  </tbody>\n",
       "</table>\n",
       "</div>"
      ],
      "text/plain": [
       "              long  short  total\n",
       "平安银行(000001)   0.0   -0.0    0.0\n",
       "万 科Ａ(000002)   0.0   -0.0    0.0\n",
       "美的集团(000333)   0.3   -0.0    0.3\n",
       "中源协和(600645)   0.0   -0.0    0.0\n",
       "广誉远(600771)    2.7   -0.0    2.7"
      ]
     },
     "execution_count": 13,
     "metadata": {},
     "output_type": "execute_result"
    }
   ],
   "source": [
    "result.new_weights"
   ]
  }
 ],
 "metadata": {
  "kernelspec": {
   "display_name": "zipline",
   "language": "python",
   "name": "zipline"
  },
  "language_info": {
   "codemirror_mode": {
    "name": "ipython",
    "version": 3
   },
   "file_extension": ".py",
   "mimetype": "text/x-python",
   "name": "python",
   "nbconvert_exporter": "python",
   "pygments_lexer": "ipython3",
   "version": "3.6.5"
  },
  "toc": {
   "base_numbering": 1,
   "nav_menu": {},
   "number_sections": true,
   "sideBar": true,
   "skip_h1_title": false,
   "title_cell": "Table of Contents",
   "title_sidebar": "Contents",
   "toc_cell": false,
   "toc_position": {
    "height": "calc(100% - 180px)",
    "left": "10px",
    "top": "150px",
    "width": "260px"
   },
   "toc_section_display": true,
   "toc_window_display": true
  }
 },
 "nbformat": 4,
 "nbformat_minor": 2
}
