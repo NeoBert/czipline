{
 "cells": [
  {
   "cell_type": "markdown",
   "metadata": {},
   "source": [
    "第2-4课将在研究环境中进行。 要在Research中设置，请创建一个新`Notebook`。"
   ]
  },
  {
   "cell_type": "code",
   "execution_count": 1,
   "metadata": {
    "ExecuteTime": {
     "end_time": "2018-05-21T03:18:53.834602Z",
     "start_time": "2018-05-21T03:18:53.474786Z"
    }
   },
   "outputs": [],
   "source": [
    "%matplotlib inline"
   ]
  },
  {
   "cell_type": "markdown",
   "metadata": {},
   "source": [
    "# 数据探索"
   ]
  },
  {
   "cell_type": "markdown",
   "metadata": {},
   "source": [
    "Research从1991年到最近完成的交易日提供了函数来查询3000多个股票的定价，成交量和收益率数据。这些函数接收资产（或资产列表）以及开始和结束日期等参数，返回按日期索引的`pandas Series`（或`DataFrame`）。\n",
    "\n",
    "定义我们想要探索的时间段，并使用`returns`函数来查询MDJT('000333')的数据："
   ]
  },
  {
   "cell_type": "markdown",
   "metadata": {},
   "source": [
    "## 当天涨跌幅"
   ]
  },
  {
   "cell_type": "code",
   "execution_count": 2,
   "metadata": {
    "ExecuteTime": {
     "end_time": "2018-05-21T03:18:58.132286Z",
     "start_time": "2018-05-21T03:18:53.837856Z"
    }
   },
   "outputs": [
    {
     "name": "stdout",
     "output_type": "stream",
     "text": [
      "[2018-05-21 11:18:58.054662] INFO: zipline.finance.metrics.tracker: Simulated 1 trading days\n",
      "first open: 2018-05-18 01:31:00+00:00\n",
      "last close: 2018-05-18 07:00:00+00:00\n"
     ]
    },
    {
     "data": {
      "text/plain": [
       "2018-01-02 00:00:00+00:00    0.017128\n",
       "2018-01-03 00:00:00+00:00   -0.010289\n",
       "2018-01-04 00:00:00+00:00    0.026714\n",
       "2018-01-05 00:00:00+00:00    0.011697\n",
       "2018-01-08 00:00:00+00:00   -0.005189\n",
       "2018-01-09 00:00:00+00:00    0.031565\n",
       "2018-01-10 00:00:00+00:00    0.018164\n",
       "2018-01-11 00:00:00+00:00   -0.015525\n",
       "2018-01-12 00:00:00+00:00    0.019803\n",
       "2018-01-15 00:00:00+00:00    0.005906\n",
       "Freq: C, Name: 美的集团(000333), dtype: float64"
      ]
     },
     "execution_count": 2,
     "metadata": {},
     "output_type": "execute_result"
    }
   ],
   "source": [
    "# Research environment functions\n",
    "from zipline.research import returns, symbols\n",
    "\n",
    "# Select a time range to inspect\n",
    "period_start = '2018-01-01'\n",
    "period_end = '2018-5-18'\n",
    "\n",
    "# Query returns data for AAPL\n",
    "# over the selected time range\n",
    "mdjt_returns = returns(\n",
    "    '000333',\n",
    "    start=period_start,\n",
    "    end=period_end,\n",
    ")\n",
    "\n",
    "# Display first 10 rows\n",
    "mdjt_returns.head(10)"
   ]
  },
  {
   "cell_type": "markdown",
   "metadata": {},
   "source": [
    "## 设置`periods`值，查询多日涨跌幅"
   ]
  },
  {
   "cell_type": "code",
   "execution_count": 3,
   "metadata": {
    "ExecuteTime": {
     "end_time": "2018-05-21T03:18:59.141246Z",
     "start_time": "2018-05-21T03:18:58.137019Z"
    }
   },
   "outputs": [
    {
     "name": "stdout",
     "output_type": "stream",
     "text": [
      "[2018-05-21 11:18:59.040528] INFO: zipline.finance.metrics.tracker: Simulated 1 trading days\n",
      "first open: 2018-05-18 01:31:00+00:00\n",
      "last close: 2018-05-18 07:00:00+00:00\n"
     ]
    },
    {
     "data": {
      "text/plain": [
       "2018-01-02 00:00:00+00:00    0.014936\n",
       "2018-01-03 00:00:00+00:00    0.006663\n",
       "2018-01-04 00:00:00+00:00    0.016150\n",
       "2018-01-05 00:00:00+00:00    0.038723\n",
       "2018-01-08 00:00:00+00:00    0.006447\n",
       "2018-01-09 00:00:00+00:00    0.026212\n",
       "2018-01-10 00:00:00+00:00    0.050303\n",
       "2018-01-11 00:00:00+00:00    0.002356\n",
       "2018-01-12 00:00:00+00:00    0.003970\n",
       "2018-01-15 00:00:00+00:00    0.025826\n",
       "Freq: C, Name: 美的集团(000333), dtype: float64"
      ]
     },
     "execution_count": 3,
     "metadata": {},
     "output_type": "execute_result"
    }
   ],
   "source": [
    "mdjt_returns = returns(\n",
    "    ['000333'],\n",
    "    start=period_start,\n",
    "    end=period_end,\n",
    "    periods=2,\n",
    ")\n",
    "\n",
    "# Display first 10 rows\n",
    "mdjt_returns.head(10)"
   ]
  },
  {
   "cell_type": "markdown",
   "metadata": {},
   "source": [
    "## 多只股票"
   ]
  },
  {
   "cell_type": "code",
   "execution_count": 4,
   "metadata": {
    "ExecuteTime": {
     "end_time": "2018-05-21T03:19:00.090774Z",
     "start_time": "2018-05-21T03:18:59.144302Z"
    }
   },
   "outputs": [
    {
     "name": "stdout",
     "output_type": "stream",
     "text": [
      "[2018-05-21 11:19:00.033738] INFO: zipline.finance.metrics.tracker: Simulated 1 trading days\n",
      "first open: 2018-05-18 01:31:00+00:00\n",
      "last close: 2018-05-18 07:00:00+00:00\n"
     ]
    },
    {
     "data": {
      "text/html": [
       "<div>\n",
       "<style scoped>\n",
       "    .dataframe tbody tr th:only-of-type {\n",
       "        vertical-align: middle;\n",
       "    }\n",
       "\n",
       "    .dataframe tbody tr th {\n",
       "        vertical-align: top;\n",
       "    }\n",
       "\n",
       "    .dataframe thead th {\n",
       "        text-align: right;\n",
       "    }\n",
       "</style>\n",
       "<table border=\"1\" class=\"dataframe\">\n",
       "  <thead>\n",
       "    <tr style=\"text-align: right;\">\n",
       "      <th></th>\n",
       "      <th>美的集团(000333)</th>\n",
       "      <th>中源协和(600645)</th>\n",
       "    </tr>\n",
       "  </thead>\n",
       "  <tbody>\n",
       "    <tr>\n",
       "      <th>2018-05-07 00:00:00+00:00</th>\n",
       "      <td>0.007692</td>\n",
       "      <td>0.051522</td>\n",
       "    </tr>\n",
       "    <tr>\n",
       "      <th>2018-05-08 00:00:00+00:00</th>\n",
       "      <td>0.054795</td>\n",
       "      <td>0.043478</td>\n",
       "    </tr>\n",
       "    <tr>\n",
       "      <th>2018-05-09 00:00:00+00:00</th>\n",
       "      <td>0.029580</td>\n",
       "      <td>0.037416</td>\n",
       "    </tr>\n",
       "    <tr>\n",
       "      <th>2018-05-10 00:00:00+00:00</th>\n",
       "      <td>0.008905</td>\n",
       "      <td>0.015789</td>\n",
       "    </tr>\n",
       "    <tr>\n",
       "      <th>2018-05-11 00:00:00+00:00</th>\n",
       "      <td>-0.003707</td>\n",
       "      <td>-0.020610</td>\n",
       "    </tr>\n",
       "    <tr>\n",
       "      <th>2018-05-14 00:00:00+00:00</th>\n",
       "      <td>0.015815</td>\n",
       "      <td>-0.098446</td>\n",
       "    </tr>\n",
       "    <tr>\n",
       "      <th>2018-05-15 00:00:00+00:00</th>\n",
       "      <td>0.027349</td>\n",
       "      <td>-0.074967</td>\n",
       "    </tr>\n",
       "    <tr>\n",
       "      <th>2018-05-16 00:00:00+00:00</th>\n",
       "      <td>-0.015206</td>\n",
       "      <td>0.031130</td>\n",
       "    </tr>\n",
       "    <tr>\n",
       "      <th>2018-05-17 00:00:00+00:00</th>\n",
       "      <td>-0.038030</td>\n",
       "      <td>0.025118</td>\n",
       "    </tr>\n",
       "    <tr>\n",
       "      <th>2018-05-18 00:00:00+00:00</th>\n",
       "      <td>-0.009375</td>\n",
       "      <td>-0.010683</td>\n",
       "    </tr>\n",
       "  </tbody>\n",
       "</table>\n",
       "</div>"
      ],
      "text/plain": [
       "                           美的集团(000333)  中源协和(600645)\n",
       "2018-05-07 00:00:00+00:00      0.007692      0.051522\n",
       "2018-05-08 00:00:00+00:00      0.054795      0.043478\n",
       "2018-05-09 00:00:00+00:00      0.029580      0.037416\n",
       "2018-05-10 00:00:00+00:00      0.008905      0.015789\n",
       "2018-05-11 00:00:00+00:00     -0.003707     -0.020610\n",
       "2018-05-14 00:00:00+00:00      0.015815     -0.098446\n",
       "2018-05-15 00:00:00+00:00      0.027349     -0.074967\n",
       "2018-05-16 00:00:00+00:00     -0.015206      0.031130\n",
       "2018-05-17 00:00:00+00:00     -0.038030      0.025118\n",
       "2018-05-18 00:00:00+00:00     -0.009375     -0.010683"
      ]
     },
     "execution_count": 4,
     "metadata": {},
     "output_type": "execute_result"
    }
   ],
   "source": [
    "mdjt_returns = returns(\n",
    "    ['000333','600645'],\n",
    "    start=period_start,\n",
    "    end=period_end,\n",
    "    periods=2,\n",
    ")\n",
    "\n",
    "# Display first 10 rows\n",
    "mdjt_returns.tail(10)"
   ]
  },
  {
   "cell_type": "markdown",
   "metadata": {},
   "source": [
    "# 替代数据"
   ]
  },
  {
   "cell_type": "markdown",
   "metadata": {},
   "source": [
    "除定价和交易量数据外，Quantopian还整合了包括企业基本面，股票情绪分析和宏观经济指标等在内的大量替代数据集。您可以在Quantopian的数据页面找到50多个数据集的完整列表。\n",
    "\n",
    "我们在本教程中的目标是建立一个基于情绪数据选择和交易资产的算法，因此我们来看看PsychSignal的StockTwits Trader Mood数据集。 PsychSignal的数据集根据发布在股票交易平台Stocktwits上的消息的总体情绪，每天为股票分配牛熊分数。\n",
    "\n",
    "我们可以从stocktwits数据集中检查消息量和情绪得分（公牛减去熊）列。我们将使用Quantopian的Pipeline API查询数据，这是一个反复使用的功能强大的工具，用于访问和分析Research中的数据。您将在下一课和稍后的教程中了解更多有关Pipeline API的内容。现在，您只需要知道以下代码使用数据管道查询stocktwits并返回数据，并绘制AAPL的结果：\n",
    "\n",
    "**没有市场情绪得分，用股票评级数据替代演示**"
   ]
  },
  {
   "cell_type": "code",
   "execution_count": 5,
   "metadata": {
    "ExecuteTime": {
     "end_time": "2018-05-21T03:19:02.771269Z",
     "start_time": "2018-05-21T03:19:00.093981Z"
    }
   },
   "outputs": [
    {
     "data": {
      "text/html": [
       "<div>\n",
       "<style scoped>\n",
       "    .dataframe tbody tr th:only-of-type {\n",
       "        vertical-align: middle;\n",
       "    }\n",
       "\n",
       "    .dataframe tbody tr th {\n",
       "        vertical-align: top;\n",
       "    }\n",
       "\n",
       "    .dataframe thead th {\n",
       "        text-align: right;\n",
       "    }\n",
       "</style>\n",
       "<table border=\"1\" class=\"dataframe\">\n",
       "  <thead>\n",
       "    <tr style=\"text-align: right;\">\n",
       "      <th></th>\n",
       "      <th></th>\n",
       "      <th>daily_returns</th>\n",
       "      <th>rating</th>\n",
       "    </tr>\n",
       "  </thead>\n",
       "  <tbody>\n",
       "    <tr>\n",
       "      <th rowspan=\"5\" valign=\"top\">2018-05-18 00:00:00+00:00</th>\n",
       "      <th>洛阳钼业(603993)</th>\n",
       "      <td>-0.009780</td>\n",
       "      <td>4.0</td>\n",
       "    </tr>\n",
       "    <tr>\n",
       "      <th>中新科技(603996)</th>\n",
       "      <td>-0.003151</td>\n",
       "      <td>NaN</td>\n",
       "    </tr>\n",
       "    <tr>\n",
       "      <th>继峰股份(603997)</th>\n",
       "      <td>0.000000</td>\n",
       "      <td>4.0</td>\n",
       "    </tr>\n",
       "    <tr>\n",
       "      <th>方盛制药(603998)</th>\n",
       "      <td>0.012060</td>\n",
       "      <td>NaN</td>\n",
       "    </tr>\n",
       "    <tr>\n",
       "      <th>读者传媒(603999)</th>\n",
       "      <td>-0.002703</td>\n",
       "      <td>NaN</td>\n",
       "    </tr>\n",
       "  </tbody>\n",
       "</table>\n",
       "</div>"
      ],
      "text/plain": [
       "                                        daily_returns  rating\n",
       "2018-05-18 00:00:00+00:00 洛阳钼业(603993)      -0.009780     4.0\n",
       "                          中新科技(603996)      -0.003151     NaN\n",
       "                          继峰股份(603997)       0.000000     4.0\n",
       "                          方盛制药(603998)       0.012060     NaN\n",
       "                          读者传媒(603999)      -0.002703     NaN"
      ]
     },
     "execution_count": 5,
     "metadata": {},
     "output_type": "execute_result"
    }
   ],
   "source": [
    "# Pipeline imports\n",
    "from zipline.research import run_pipeline\n",
    "from zipline.pipeline import Pipeline\n",
    "from zipline.pipeline.factors import Returns\n",
    "from zipline.pipeline.fundamentals import Fundamentals\n",
    "\n",
    "# Pipeline definition\n",
    "def make_pipeline():\n",
    "\n",
    "    returns = Returns(window_length=2)\n",
    "    rating = Fundamentals.rating.latest\n",
    "\n",
    "    return Pipeline(\n",
    "        columns={\n",
    "            'daily_returns': returns,\n",
    "            'rating': rating,\n",
    "        },\n",
    "    )\n",
    "\n",
    "# Pipeline execution\n",
    "data_output = run_pipeline(\n",
    "    make_pipeline(),\n",
    "    period_start,\n",
    "    period_end\n",
    ")\n",
    "\n",
    "data_output.tail()"
   ]
  },
  {
   "cell_type": "code",
   "execution_count": 6,
   "metadata": {
    "ExecuteTime": {
     "end_time": "2018-05-21T03:19:03.688596Z",
     "start_time": "2018-05-21T03:19:02.780822Z"
    }
   },
   "outputs": [
    {
     "data": {
      "image/png": "[encoded data removed]",
      "text/plain": [
       "<Figure size 864x576 with 2 Axes>"
      ]
     },
     "metadata": {},
     "output_type": "display_data"
    }
   ],
   "source": [
    "# 过滤出美的集团\n",
    "aapl_output = data_output.xs(\n",
    "    symbols('000333'),\n",
    "    level=1\n",
    ")\n",
    "\n",
    "# Plot results for AAPL\n",
    "aapl_output.plot(subplots=True,figsize=(12,8));"
   ]
  },
  {
   "cell_type": "markdown",
   "metadata": {},
   "source": [
    "在探索数据集时，尝试寻找可能成为交易策略基础的模式。 例如，上面的图表显示了日常回报和stocktwits消息量之间的一些匹配峰值，在某些情况下，回报峰值的方向与AAPL的情绪分数的方向相匹配。 这看起来很有趣，我们应该进行更严格的统计测试来确认我们的假设。\n",
    "在下一课中，我们将更深入地介绍Pipeline API。"
   ]
  }
 ],
 "metadata": {
  "kernelspec": {
   "display_name": "zipline",
   "language": "python",
   "name": "zipline"
  },
  "language_info": {
   "codemirror_mode": {
    "name": "ipython",
    "version": 3
   },
   "file_extension": ".py",
   "mimetype": "text/x-python",
   "name": "python",
   "nbconvert_exporter": "python",
   "pygments_lexer": "ipython3",
   "version": "3.6.5"
  },
  "toc": {
   "base_numbering": 1,
   "nav_menu": {},
   "number_sections": true,
   "sideBar": true,
   "skip_h1_title": false,
   "title_cell": "Table of Contents",
   "title_sidebar": "Contents",
   "toc_cell": false,
   "toc_position": {},
   "toc_section_display": true,
   "toc_window_display": false
  }
 },
 "nbformat": 4,
 "nbformat_minor": 2
}
