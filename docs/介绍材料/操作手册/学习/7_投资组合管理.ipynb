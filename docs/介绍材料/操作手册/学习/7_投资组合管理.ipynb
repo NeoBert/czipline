{
 "cells": [
  {
   "cell_type": "markdown",
   "metadata": {},
   "source": [
    "在上一课中，将数据管道纳入了交易算法。现在是时候定义算法如何将使用流水线生成的数据来重新平衡投资组合。我们的目标是根据尾部12个月股利与股价比率找到最大化回报的目标投资组合，同时保持由一组规则或约束条件定义的特定结构。这通常被称为投资组合优化问题。\n",
    "\n",
    "`Optimize API`使我们能够轻松地将管道输出转化为目标和一组约束条件。 然后，我们可以使用`order_optimal_portfolio`将当前的投资组合转换为符合规范的目标投资组合。\n",
    "\n",
    "第一步是定义一个目标。我们将使用`MaximizeAlpha`，它将尝试将资金分配给与尾部12个月股利与股价比率成比例的资产。"
   ]
  },
  {
   "cell_type": "code",
   "execution_count": 2,
   "metadata": {
    "ExecuteTime": {
     "end_time": "2018-05-31T21:19:43.830489Z",
     "start_time": "2018-05-31T21:19:41.600935Z"
    }
   },
   "outputs": [],
   "source": [
    "# Import Optimize API module\n",
    "import zipline.optimize as opt\n",
    "\n",
    "\n",
    "def rebalance(context, data):\n",
    "    # Create MaximizeAlpha objective using\n",
    "    # sentiment_score data from pipeline output\n",
    "    objective = opt.MaximizeAlpha(\n",
    "        context.output.sentiment_score\n",
    "    )"
   ]
  },
  {
   "cell_type": "markdown",
   "metadata": {},
   "source": [
    "接下来，我们需要指定我们希望目标投资组合满足的约束列表。 我们首先在初始化时定义一些阈值并将它们存储在我们的上下文变量中："
   ]
  },
  {
   "cell_type": "raw",
   "metadata": {
    "ExecuteTime": {
     "end_time": "2018-05-31T21:20:41.580734Z",
     "start_time": "2018-05-31T21:20:41.237181Z"
    }
   },
   "source": [
    "# Constraint parameters\n",
    "context.max_leverage = 1.0\n",
    "context.max_pos_size = 0.015\n",
    "context.max_turnover = 0.95"
   ]
  },
  {
   "cell_type": "markdown",
   "metadata": {},
   "source": [
    "现在，我们可以使用我们上面定义的阈值来指定`rebalance`中的约束条件："
   ]
  },
  {
   "cell_type": "raw",
   "metadata": {},
   "source": [
    "# Import Optimize API module\n",
    "import zipline.optimize as opt\n",
    "\n",
    "\n",
    "def rebalance(context, data):\n",
    "    # Create MaximizeAlpha objective using \n",
    "    # sentiment_score data from pipeline output\n",
    "    objective = opt.MaximizeAlpha(\n",
    "      context.output.sentiment_score\n",
    "    )\n",
    "\n",
    "    # Create position size constraint\n",
    "    constrain_pos_size = opt.PositionConcentration.with_equal_bounds(\n",
    "        -context.max_pos_size,\n",
    "        context.max_pos_size\n",
    "    )\n",
    "\n",
    "    # Ensure long and short books\n",
    "    # are roughly the same size\n",
    "    dollar_neutral = opt.DollarNeutral()\n",
    "\n",
    "    # Constrain target portfolio's leverage\n",
    "    max_leverage = opt.MaxGrossExposure(context.max_leverage)\n",
    "    # 没有完成\n",
    "    # Constrain portfolio turnover\n",
    "    #max_turnover = opt.MaxTurnover(context.max_turnover)"
   ]
  },
  {
   "cell_type": "markdown",
   "metadata": {},
   "source": [
    "最后，我们可以将我们的目标和约束列表传递给`order_optimal_portfolio`以计算目标投资组合，并发布将我们当前投资组合转换为最佳状态所需的订单："
   ]
  },
  {
   "cell_type": "raw",
   "metadata": {},
   "source": [
    "# Import Algorithm API functions\n",
    "from quantopian.algorithm import order_optimal_portfolio\n",
    "\n",
    "# Import Optimize API module\n",
    "import quantopian.optimize as opt\n",
    "\n",
    "\n",
    "def rebalance(context, data):\n",
    "    # Create MaximizeAlpha objective using \n",
    "    # sentiment_score data from pipeline output\n",
    "    objective = opt.MaximizeAlpha(\n",
    "      context.output.sentiment_score\n",
    "    )\n",
    "\n",
    "    # Create position size constraint\n",
    "    constrain_pos_size = opt.PositionConcentration.with_equal_bounds(\n",
    "        -context.max_pos_size,\n",
    "        context.max_pos_size\n",
    "    )\n",
    "\n",
    "    # Ensure long and short books\n",
    "    # are roughly the same size\n",
    "    dollar_neutral = opt.DollarNeutral()\n",
    "\n",
    "    # Constrain target portfolio's leverage\n",
    "    max_leverage = opt.MaxGrossExposure(context.max_leverage)\n",
    "\n",
    "    # Constrain portfolio turnover\n",
    "    max_turnover = opt.MaxTurnover(context.max_turnover)\n",
    "\n",
    "    # Rebalance portfolio using objective\n",
    "    # and list of constraints\n",
    "    order_optimal_portfolio(\n",
    "        objective=objective,\n",
    "        constraints=[\n",
    "            max_leverage,\n",
    "            dollar_neutral,\n",
    "            constrain_pos_size,\n",
    "            max_turnover,\n",
    "        ]\n",
    "    )"
   ]
  },
  {
   "cell_type": "markdown",
   "metadata": {},
   "source": [
    "# 风险管理"
   ]
  },
  {
   "cell_type": "code",
   "execution_count": null,
   "metadata": {},
   "outputs": [],
   "source": []
  }
 ],
 "metadata": {
  "kernelspec": {
   "display_name": "zipline",
   "language": "python",
   "name": "zipline"
  },
  "language_info": {
   "codemirror_mode": {
    "name": "ipython",
    "version": 3
   },
   "file_extension": ".py",
   "mimetype": "text/x-python",
   "name": "python",
   "nbconvert_exporter": "python",
   "pygments_lexer": "ipython3",
   "version": "3.6.5"
  },
  "toc": {
   "base_numbering": 1,
   "nav_menu": {},
   "number_sections": true,
   "sideBar": true,
   "skip_h1_title": false,
   "title_cell": "Table of Contents",
   "title_sidebar": "Contents",
   "toc_cell": false,
   "toc_position": {},
   "toc_section_display": true,
   "toc_window_display": false
  }
 },
 "nbformat": 4,
 "nbformat_minor": 2
}
