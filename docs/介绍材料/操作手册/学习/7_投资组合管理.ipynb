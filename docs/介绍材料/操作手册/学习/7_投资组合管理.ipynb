{
 "cells": [
  {
   "cell_type": "markdown",
   "metadata": {},
   "source": [
    "在上一课中，将数据管道纳入了交易算法。现在是时候定义算法如何将使用流水线生成的数据来重新平衡投资组合。我们的目标是根据尾部12个月股利与股价比率找到最大化回报的目标投资组合，同时保持由一组规则或约束条件定义的特定结构。这通常被称为投资组合优化问题。\n",
    "\n",
    "`Optimize API`使我们能够轻松地将管道输出转化为目标和一组约束条件。 然后，我们可以使用`order_optimal_portfolio`将当前的投资组合转换为符合规范的目标投资组合。\n",
    "\n",
    "第一步是定义一个目标。我们将使用`MaximizeAlpha`，它将尝试将资金分配给与尾部12个月股利与股价比率成比例的资产。"
   ]
  },
  {
   "cell_type": "raw",
   "metadata": {
    "ExecuteTime": {
     "end_time": "2018-05-31T21:19:43.830489Z",
     "start_time": "2018-05-31T21:19:41.600935Z"
    }
   },
   "source": [
    "# Import Optimize API module\n",
    "import zipline.optimize as opt\n",
    "\n",
    "\n",
    "def rebalance(context, data):\n",
    "    # Create MaximizeAlpha objective using\n",
    "    # sentiment_score data from pipeline output\n",
    "    objective = opt.MaximizeAlpha(\n",
    "        context.output.sentiment_score\n",
    "    )"
   ]
  },
  {
   "cell_type": "markdown",
   "metadata": {},
   "source": [
    "接下来，我们需要指定我们希望目标投资组合满足的约束列表。 我们首先在初始化时定义一些阈值并将它们存储在我们的上下文变量中："
   ]
  },
  {
   "cell_type": "raw",
   "metadata": {
    "ExecuteTime": {
     "end_time": "2018-05-31T21:20:41.580734Z",
     "start_time": "2018-05-31T21:20:41.237181Z"
    }
   },
   "source": [
    "# Constraint parameters\n",
    "context.max_leverage = 1.0\n",
    "context.max_pos_size = 0.015\n",
    "context.max_turnover = 0.95"
   ]
  },
  {
   "cell_type": "markdown",
   "metadata": {},
   "source": [
    "现在，我们可以使用我们上面定义的阈值来指定`rebalance`中的约束条件："
   ]
  },
  {
   "cell_type": "raw",
   "metadata": {},
   "source": [
    "# Import Optimize API module\n",
    "import zipline.optimize as opt\n",
    "\n",
    "\n",
    "def rebalance(context, data):\n",
    "    # Create MaximizeAlpha objective using \n",
    "    # sentiment_score data from pipeline output\n",
    "    objective = opt.MaximizeAlpha(\n",
    "      context.output.sentiment_score\n",
    "    )\n",
    "\n",
    "    # Create position size constraint\n",
    "    constrain_pos_size = opt.PositionConcentration.with_equal_bounds(\n",
    "        -context.max_pos_size,\n",
    "        context.max_pos_size\n",
    "    )\n",
    "\n",
    "    # Ensure long and short books\n",
    "    # are roughly the same size\n",
    "    dollar_neutral = opt.DollarNeutral()\n",
    "\n",
    "    # Constrain target portfolio's leverage\n",
    "    max_leverage = opt.MaxGrossExposure(context.max_leverage)\n",
    "    # 没有完成\n",
    "    # Constrain portfolio turnover\n",
    "    #max_turnover = opt.MaxTurnover(context.max_turnover)"
   ]
  },
  {
   "cell_type": "markdown",
   "metadata": {},
   "source": [
    "最后，我们可以将我们的目标和约束列表传递给`order_optimal_portfolio`以计算目标投资组合，并发布将我们当前投资组合转换为最佳状态所需的订单："
   ]
  },
  {
   "cell_type": "raw",
   "metadata": {},
   "source": [
    "# Import Algorithm API functions\n",
    "from quantopian.algorithm import order_optimal_portfolio\n",
    "\n",
    "# Import Optimize API module\n",
    "import quantopian.optimize as opt\n",
    "\n",
    "\n",
    "def rebalance(context, data):\n",
    "    # Create MaximizeAlpha objective using \n",
    "    # sentiment_score data from pipeline output\n",
    "    objective = opt.MaximizeAlpha(\n",
    "      context.output.sentiment_score\n",
    "    )\n",
    "\n",
    "    # Create position size constraint\n",
    "    constrain_pos_size = opt.PositionConcentration.with_equal_bounds(\n",
    "        -context.max_pos_size,\n",
    "        context.max_pos_size\n",
    "    )\n",
    "\n",
    "    # Ensure long and short books\n",
    "    # are roughly the same size\n",
    "    dollar_neutral = opt.DollarNeutral()\n",
    "\n",
    "    # Constrain target portfolio's leverage\n",
    "    max_leverage = opt.MaxGrossExposure(context.max_leverage)\n",
    "\n",
    "    # Constrain portfolio turnover\n",
    "    # max_turnover = opt.MaxTurnover(context.max_turnover)\n",
    "\n",
    "    # Rebalance portfolio using objective\n",
    "    # and list of constraints\n",
    "    order_optimal_portfolio(\n",
    "        objective=objective,\n",
    "        constraints=[\n",
    "            max_leverage,\n",
    "            dollar_neutral,\n",
    "            constrain_pos_size,\n",
    "            # max_turnover,\n",
    "        ]\n",
    "    )"
   ]
  },
  {
   "cell_type": "markdown",
   "metadata": {},
   "source": [
    "# 风险管理"
   ]
  },
  {
   "cell_type": "markdown",
   "metadata": {},
   "source": [
    "除了对目标投资组合的结构设置限制外，我们还希望限制可能影响其业绩的共同风险因子敞口。例如，由于stocktwits的情绪数据具有短暂性，我们打算利用情绪分数高峰期，算法可能会面临短期逆转风险。\n",
    "\n",
    "我们将使用Quantopian的风险模型来管理我们投资组合的共同风险因子。风险模型计算资产的16种不同风险因子敞口：11个部门因子和5个主题因子（包括短期逆转）。我们可以使用`risk_loading_pipeline`函数在算法中使用这些数据，该函数返回一个数据管道，该数据管道为风险模型中的每个因子生成一列输出。\n",
    "\n",
    "与数据管道类似，需要将风险数据管道附加到我们的算法，并提供一个名称来识别它。 然后，在`before_trading_start`中获取它的输出并将其存储在`context`中："
   ]
  },
  {
   "cell_type": "raw",
   "metadata": {},
   "source": [
    "# Import Algorithm API functions\n",
    "from quantopian.algorithm import (\n",
    "    attach_pipeline,\n",
    "    pipeline_output,\n",
    ")\n",
    "\n",
    "# Import Risk API method\n",
    "from quantopian.pipeline.experimental import risk_loading_pipeline\n",
    "\n",
    "def initialize(context):\n",
    "    # Constraint parameters\n",
    "    context.max_leverage = 1.0\n",
    "    context.max_pos_size = 0.015\n",
    "    context.max_turnover = 0.95\n",
    "\n",
    "    # Attach data pipelines\n",
    "    attach_pipeline(\n",
    "        make_pipeline(),\n",
    "        'data_pipe'\n",
    "    )\n",
    "    attach_pipeline(\n",
    "        risk_loading_pipeline(),\n",
    "        'risk_pipe'\n",
    "    )\n",
    "\n",
    "    # Schedule rebalance function\n",
    "    schedule_function(\n",
    "        rebalance,\n",
    "        date_rules.week_start(),\n",
    "        time_rules.market_open(),\n",
    "    )\n",
    "\n",
    "\n",
    "def before_trading_start(context, data):\n",
    "    # Get pipeline outputs and\n",
    "    # store them in context\n",
    "    context.output = pipeline_output(\n",
    "      'data_pipe'\n",
    "    )\n",
    "\n",
    "    context.risk_factor_betas = pipeline_output(\n",
    "      'risk_pipe'\n",
    "    )"
   ]
  },
  {
   "cell_type": "markdown",
   "metadata": {},
   "source": [
    "下一步是将`RiskModelExposure`约束添加到我们的投资组合优化逻辑。 该约束采用风险模型生成的数据，并对模型中包含的每个因子设置目标投资组合的整体风险敞口限制。"
   ]
  },
  {
   "cell_type": "raw",
   "metadata": {},
   "source": [
    "# Constrain target portfolio's risk exposure\n",
    "# By default, max sector exposure is set at\n",
    "# 0.2, and max style exposure is set at 0.4\n",
    "factor_risk_constraints = opt.experimental.RiskModelExposure(\n",
    "    context.risk_factor_betas,\n",
    "    version=opt.Newest\n",
    ")"
   ]
  },
  {
   "cell_type": "code",
   "execution_count": 1,
   "metadata": {
    "ExecuteTime": {
     "end_time": "2018-06-11T03:21:03.852991Z",
     "start_time": "2018-06-11T03:21:03.449698Z"
    }
   },
   "outputs": [],
   "source": [
    "import pandas as pd"
   ]
  },
  {
   "cell_type": "code",
   "execution_count": 2,
   "metadata": {
    "ExecuteTime": {
     "end_time": "2018-06-11T03:21:48.300867Z",
     "start_time": "2018-06-11T03:21:48.294681Z"
    }
   },
   "outputs": [],
   "source": [
    "loadings = pd.DataFrame({'A':[1,2,3]}, index=['000001','000002','000003'])"
   ]
  },
  {
   "cell_type": "code",
   "execution_count": 3,
   "metadata": {
    "ExecuteTime": {
     "end_time": "2018-06-11T03:21:51.985377Z",
     "start_time": "2018-06-11T03:21:51.953569Z"
    }
   },
   "outputs": [
    {
     "data": {
      "text/html": [
       "<div>\n",
       "<style scoped>\n",
       "    .dataframe tbody tr th:only-of-type {\n",
       "        vertical-align: middle;\n",
       "    }\n",
       "\n",
       "    .dataframe tbody tr th {\n",
       "        vertical-align: top;\n",
       "    }\n",
       "\n",
       "    .dataframe thead th {\n",
       "        text-align: right;\n",
       "    }\n",
       "</style>\n",
       "<table border=\"1\" class=\"dataframe\">\n",
       "  <thead>\n",
       "    <tr style=\"text-align: right;\">\n",
       "      <th></th>\n",
       "      <th>A</th>\n",
       "    </tr>\n",
       "  </thead>\n",
       "  <tbody>\n",
       "    <tr>\n",
       "      <th>000001</th>\n",
       "      <td>1</td>\n",
       "    </tr>\n",
       "    <tr>\n",
       "      <th>000002</th>\n",
       "      <td>2</td>\n",
       "    </tr>\n",
       "    <tr>\n",
       "      <th>000003</th>\n",
       "      <td>3</td>\n",
       "    </tr>\n",
       "  </tbody>\n",
       "</table>\n",
       "</div>"
      ],
      "text/plain": [
       "        A\n",
       "000001  1\n",
       "000002  2\n",
       "000003  3"
      ]
     },
     "execution_count": 3,
     "metadata": {},
     "output_type": "execute_result"
    }
   ],
   "source": [
    "loadings"
   ]
  },
  {
   "cell_type": "code",
   "execution_count": 4,
   "metadata": {
    "ExecuteTime": {
     "end_time": "2018-06-11T03:22:26.152640Z",
     "start_time": "2018-06-11T03:22:26.148908Z"
    }
   },
   "outputs": [],
   "source": [
    "stocks = pd.Index(['000003','000002','000001'])"
   ]
  },
  {
   "cell_type": "code",
   "execution_count": 5,
   "metadata": {
    "ExecuteTime": {
     "end_time": "2018-06-11T03:22:39.479945Z",
     "start_time": "2018-06-11T03:22:39.472813Z"
    }
   },
   "outputs": [
    {
     "data": {
      "text/plain": [
       "array([2, 1, 0])"
      ]
     },
     "execution_count": 5,
     "metadata": {},
     "output_type": "execute_result"
    }
   ],
   "source": [
    "loadings.index.get_indexer(stocks)"
   ]
  },
  {
   "cell_type": "code",
   "execution_count": 6,
   "metadata": {
    "ExecuteTime": {
     "end_time": "2018-06-11T03:23:04.275856Z",
     "start_time": "2018-06-11T03:23:04.267806Z"
    }
   },
   "outputs": [
    {
     "data": {
      "text/plain": [
       "array([3, 2, 1])"
      ]
     },
     "execution_count": 6,
     "metadata": {},
     "output_type": "execute_result"
    }
   ],
   "source": [
    "loadings.A.values[loadings.index.get_indexer(stocks)]"
   ]
  },
  {
   "cell_type": "code",
   "execution_count": null,
   "metadata": {},
   "outputs": [],
   "source": []
  }
 ],
 "metadata": {
  "kernelspec": {
   "display_name": "zipline",
   "language": "python",
   "name": "zipline"
  },
  "language_info": {
   "codemirror_mode": {
    "name": "ipython",
    "version": 3
   },
   "file_extension": ".py",
   "mimetype": "text/x-python",
   "name": "python",
   "nbconvert_exporter": "python",
   "pygments_lexer": "ipython3",
   "version": "3.6.5"
  },
  "toc": {
   "base_numbering": 1,
   "nav_menu": {},
   "number_sections": true,
   "sideBar": true,
   "skip_h1_title": false,
   "title_cell": "Table of Contents",
   "title_sidebar": "Contents",
   "toc_cell": false,
   "toc_position": {},
   "toc_section_display": true,
   "toc_window_display": false
  }
 },
 "nbformat": 4,
 "nbformat_minor": 2
}
