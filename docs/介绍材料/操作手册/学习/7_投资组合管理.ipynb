{
 "cells": [
  {
   "cell_type": "markdown",
   "metadata": {},
   "source": [
    "在上一课中，将数据管道纳入了交易算法。现在是时候定义算法如何将使用流水线生成的数据来重新平衡投资组合。我们的目标是根据尾部12个月股利与股价比率找到最大化回报的目标投资组合，同时保持由一组规则或约束条件定义的特定结构。这通常被称为投资组合优化问题。\n",
    "\n",
    "`Optimize API`使我们能够轻松地将管道输出转化为目标和一组约束条件。 然后，我们可以使用`order_optimal_portfolio`将当前的投资组合转换为符合规范的目标投资组合。\n",
    "\n",
    "第一步是定义一个目标。我们将使用`MaximizeAlpha`，它将尝试将资金分配给与尾部12个月股利与股价比率成比例的资产。"
   ]
  },
  {
   "cell_type": "code",
   "execution_count": null,
   "metadata": {},
   "outputs": [],
   "source": []
  }
 ],
 "metadata": {
  "kernelspec": {
   "display_name": "zipline",
   "language": "python",
   "name": "zipline"
  },
  "language_info": {
   "codemirror_mode": {
    "name": "ipython",
    "version": 3
   },
   "file_extension": ".py",
   "mimetype": "text/x-python",
   "name": "python",
   "nbconvert_exporter": "python",
   "pygments_lexer": "ipython3",
   "version": "3.6.5"
  },
  "toc": {
   "base_numbering": 1,
   "nav_menu": {},
   "number_sections": true,
   "sideBar": true,
   "skip_h1_title": false,
   "title_cell": "Table of Contents",
   "title_sidebar": "Contents",
   "toc_cell": false,
   "toc_position": {},
   "toc_section_display": true,
   "toc_window_display": false
  }
 },
 "nbformat": 4,
 "nbformat_minor": 2
}
