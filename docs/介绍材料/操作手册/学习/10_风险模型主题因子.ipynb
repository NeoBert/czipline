{
 "cells": [
  {
   "cell_type": "code",
   "execution_count": 1,
   "metadata": {
    "ExecuteTime": {
     "end_time": "2018-06-11T05:02:49.442198Z",
     "start_time": "2018-06-11T05:02:45.957671Z"
    }
   },
   "outputs": [],
   "source": [
    "from zipline.pipeline import Pipeline\n",
    "from zipline.research import run_pipeline\n",
    "from zipline.pipeline.risk import *"
   ]
  },
  {
   "cell_type": "markdown",
   "metadata": {},
   "source": [
    "# `style`"
   ]
  },
  {
   "cell_type": "markdown",
   "metadata": {},
   "source": [
    "## `Momentum`"
   ]
  },
  {
   "cell_type": "code",
   "execution_count": 2,
   "metadata": {
    "ExecuteTime": {
     "end_time": "2018-06-11T05:02:49.450025Z",
     "start_time": "2018-06-11T05:02:49.445211Z"
    }
   },
   "outputs": [],
   "source": [
    "def make_pipeline():\n",
    "    return Pipeline(\n",
    "        columns={\n",
    "            'momentum': Momentum(),\n",
    "        },\n",
    "    )"
   ]
  },
  {
   "cell_type": "code",
   "execution_count": 3,
   "metadata": {
    "ExecuteTime": {
     "end_time": "2018-06-11T05:02:50.552073Z",
     "start_time": "2018-06-11T05:02:49.453773Z"
    }
   },
   "outputs": [
    {
     "data": {
      "text/html": [
       "<div>\n",
       "<style scoped>\n",
       "    .dataframe tbody tr th:only-of-type {\n",
       "        vertical-align: middle;\n",
       "    }\n",
       "\n",
       "    .dataframe tbody tr th {\n",
       "        vertical-align: top;\n",
       "    }\n",
       "\n",
       "    .dataframe thead th {\n",
       "        text-align: right;\n",
       "    }\n",
       "</style>\n",
       "<table border=\"1\" class=\"dataframe\">\n",
       "  <thead>\n",
       "    <tr style=\"text-align: right;\">\n",
       "      <th></th>\n",
       "      <th></th>\n",
       "      <th>momentum</th>\n",
       "    </tr>\n",
       "  </thead>\n",
       "  <tbody>\n",
       "    <tr>\n",
       "      <th rowspan=\"10\" valign=\"top\">2018-06-06 00:00:00+00:00</th>\n",
       "      <th>康德莱(603987)</th>\n",
       "      <td>-0.265193</td>\n",
       "    </tr>\n",
       "    <tr>\n",
       "      <th>中电电机(603988)</th>\n",
       "      <td>-0.823939</td>\n",
       "    </tr>\n",
       "    <tr>\n",
       "      <th>艾华集团(603989)</th>\n",
       "      <td>0.292458</td>\n",
       "    </tr>\n",
       "    <tr>\n",
       "      <th>麦迪科技(603990)</th>\n",
       "      <td>0.443645</td>\n",
       "    </tr>\n",
       "    <tr>\n",
       "      <th>至正股份(603991)</th>\n",
       "      <td>-1.099575</td>\n",
       "    </tr>\n",
       "    <tr>\n",
       "      <th>洛阳钼业(603993)</th>\n",
       "      <td>1.057861</td>\n",
       "    </tr>\n",
       "    <tr>\n",
       "      <th>中新科技(603996)</th>\n",
       "      <td>0.449543</td>\n",
       "    </tr>\n",
       "    <tr>\n",
       "      <th>继峰股份(603997)</th>\n",
       "      <td>-0.099504</td>\n",
       "    </tr>\n",
       "    <tr>\n",
       "      <th>方盛制药(603998)</th>\n",
       "      <td>-0.481445</td>\n",
       "    </tr>\n",
       "    <tr>\n",
       "      <th>读者传媒(603999)</th>\n",
       "      <td>-0.729058</td>\n",
       "    </tr>\n",
       "  </tbody>\n",
       "</table>\n",
       "</div>"
      ],
      "text/plain": [
       "                                        momentum\n",
       "2018-06-06 00:00:00+00:00 康德莱(603987)  -0.265193\n",
       "                          中电电机(603988) -0.823939\n",
       "                          艾华集团(603989)  0.292458\n",
       "                          麦迪科技(603990)  0.443645\n",
       "                          至正股份(603991) -1.099575\n",
       "                          洛阳钼业(603993)  1.057861\n",
       "                          中新科技(603996)  0.449543\n",
       "                          继峰股份(603997) -0.099504\n",
       "                          方盛制药(603998) -0.481445\n",
       "                          读者传媒(603999) -0.729058"
      ]
     },
     "execution_count": 3,
     "metadata": {},
     "output_type": "execute_result"
    }
   ],
   "source": [
    "pipeline_output = run_pipeline(\n",
    "    make_pipeline(),\n",
    "    '2018-5-31',\n",
    "    '2018-6-6'\n",
    ")\n",
    "\n",
    "pipeline_output.tail(10)"
   ]
  },
  {
   "cell_type": "markdown",
   "metadata": {},
   "source": [
    "## `Value`"
   ]
  },
  {
   "cell_type": "code",
   "execution_count": 4,
   "metadata": {
    "ExecuteTime": {
     "end_time": "2018-06-11T05:02:50.561083Z",
     "start_time": "2018-06-11T05:02:50.555552Z"
    }
   },
   "outputs": [],
   "source": [
    "def make_pipeline():\n",
    "    return Pipeline(\n",
    "        columns={\n",
    "            'value': Value(),\n",
    "        },\n",
    "    )"
   ]
  },
  {
   "cell_type": "code",
   "execution_count": 5,
   "metadata": {
    "ExecuteTime": {
     "end_time": "2018-06-11T05:02:52.210369Z",
     "start_time": "2018-06-11T05:02:50.565202Z"
    }
   },
   "outputs": [
    {
     "data": {
      "text/html": [
       "<div>\n",
       "<style scoped>\n",
       "    .dataframe tbody tr th:only-of-type {\n",
       "        vertical-align: middle;\n",
       "    }\n",
       "\n",
       "    .dataframe tbody tr th {\n",
       "        vertical-align: top;\n",
       "    }\n",
       "\n",
       "    .dataframe thead th {\n",
       "        text-align: right;\n",
       "    }\n",
       "</style>\n",
       "<table border=\"1\" class=\"dataframe\">\n",
       "  <thead>\n",
       "    <tr style=\"text-align: right;\">\n",
       "      <th></th>\n",
       "      <th></th>\n",
       "      <th>value</th>\n",
       "    </tr>\n",
       "  </thead>\n",
       "  <tbody>\n",
       "    <tr>\n",
       "      <th rowspan=\"10\" valign=\"top\">2018-06-06 00:00:00+00:00</th>\n",
       "      <th>康德莱(603987)</th>\n",
       "      <td>-0.247011</td>\n",
       "    </tr>\n",
       "    <tr>\n",
       "      <th>中电电机(603988)</th>\n",
       "      <td>-0.692728</td>\n",
       "    </tr>\n",
       "    <tr>\n",
       "      <th>艾华集团(603989)</th>\n",
       "      <td>-0.833929</td>\n",
       "    </tr>\n",
       "    <tr>\n",
       "      <th>麦迪科技(603990)</th>\n",
       "      <td>-1.013699</td>\n",
       "    </tr>\n",
       "    <tr>\n",
       "      <th>至正股份(603991)</th>\n",
       "      <td>-0.693963</td>\n",
       "    </tr>\n",
       "    <tr>\n",
       "      <th>洛阳钼业(603993)</th>\n",
       "      <td>-0.485634</td>\n",
       "    </tr>\n",
       "    <tr>\n",
       "      <th>中新科技(603996)</th>\n",
       "      <td>-0.617470</td>\n",
       "    </tr>\n",
       "    <tr>\n",
       "      <th>继峰股份(603997)</th>\n",
       "      <td>-0.601636</td>\n",
       "    </tr>\n",
       "    <tr>\n",
       "      <th>方盛制药(603998)</th>\n",
       "      <td>-0.716772</td>\n",
       "    </tr>\n",
       "    <tr>\n",
       "      <th>读者传媒(603999)</th>\n",
       "      <td>-0.076669</td>\n",
       "    </tr>\n",
       "  </tbody>\n",
       "</table>\n",
       "</div>"
      ],
      "text/plain": [
       "                                           value\n",
       "2018-06-06 00:00:00+00:00 康德莱(603987)  -0.247011\n",
       "                          中电电机(603988) -0.692728\n",
       "                          艾华集团(603989) -0.833929\n",
       "                          麦迪科技(603990) -1.013699\n",
       "                          至正股份(603991) -0.693963\n",
       "                          洛阳钼业(603993) -0.485634\n",
       "                          中新科技(603996) -0.617470\n",
       "                          继峰股份(603997) -0.601636\n",
       "                          方盛制药(603998) -0.716772\n",
       "                          读者传媒(603999) -0.076669"
      ]
     },
     "execution_count": 5,
     "metadata": {},
     "output_type": "execute_result"
    }
   ],
   "source": [
    "pipeline_output = run_pipeline(\n",
    "    make_pipeline(),\n",
    "    '2018-5-31',\n",
    "    '2018-6-6'\n",
    ")\n",
    "\n",
    "pipeline_output.tail(10)"
   ]
  },
  {
   "cell_type": "markdown",
   "metadata": {},
   "source": [
    "## `Size`"
   ]
  },
  {
   "cell_type": "code",
   "execution_count": 6,
   "metadata": {
    "ExecuteTime": {
     "end_time": "2018-06-11T05:02:52.221432Z",
     "start_time": "2018-06-11T05:02:52.215170Z"
    }
   },
   "outputs": [],
   "source": [
    "def make_pipeline():\n",
    "    return Pipeline(\n",
    "        columns={\n",
    "            'size': Size(),\n",
    "        },\n",
    "    )"
   ]
  },
  {
   "cell_type": "code",
   "execution_count": 7,
   "metadata": {
    "ExecuteTime": {
     "end_time": "2018-06-11T05:02:52.475178Z",
     "start_time": "2018-06-11T05:02:52.225195Z"
    }
   },
   "outputs": [
    {
     "data": {
      "text/html": [
       "<div>\n",
       "<style scoped>\n",
       "    .dataframe tbody tr th:only-of-type {\n",
       "        vertical-align: middle;\n",
       "    }\n",
       "\n",
       "    .dataframe tbody tr th {\n",
       "        vertical-align: top;\n",
       "    }\n",
       "\n",
       "    .dataframe thead th {\n",
       "        text-align: right;\n",
       "    }\n",
       "</style>\n",
       "<table border=\"1\" class=\"dataframe\">\n",
       "  <thead>\n",
       "    <tr style=\"text-align: right;\">\n",
       "      <th></th>\n",
       "      <th></th>\n",
       "      <th>size</th>\n",
       "    </tr>\n",
       "  </thead>\n",
       "  <tbody>\n",
       "    <tr>\n",
       "      <th rowspan=\"10\" valign=\"top\">2018-06-06 00:00:00+00:00</th>\n",
       "      <th>康德莱(603987)</th>\n",
       "      <td>-0.708839</td>\n",
       "    </tr>\n",
       "    <tr>\n",
       "      <th>中电电机(603988)</th>\n",
       "      <td>-0.502002</td>\n",
       "    </tr>\n",
       "    <tr>\n",
       "      <th>艾华集团(603989)</th>\n",
       "      <td>0.683398</td>\n",
       "    </tr>\n",
       "    <tr>\n",
       "      <th>麦迪科技(603990)</th>\n",
       "      <td>-0.722520</td>\n",
       "    </tr>\n",
       "    <tr>\n",
       "      <th>至正股份(603991)</th>\n",
       "      <td>-1.361441</td>\n",
       "    </tr>\n",
       "    <tr>\n",
       "      <th>洛阳钼业(603993)</th>\n",
       "      <td>2.637209</td>\n",
       "    </tr>\n",
       "    <tr>\n",
       "      <th>中新科技(603996)</th>\n",
       "      <td>-0.814134</td>\n",
       "    </tr>\n",
       "    <tr>\n",
       "      <th>继峰股份(603997)</th>\n",
       "      <td>0.298122</td>\n",
       "    </tr>\n",
       "    <tr>\n",
       "      <th>方盛制药(603998)</th>\n",
       "      <td>-0.078657</td>\n",
       "    </tr>\n",
       "    <tr>\n",
       "      <th>读者传媒(603999)</th>\n",
       "      <td>-0.974416</td>\n",
       "    </tr>\n",
       "  </tbody>\n",
       "</table>\n",
       "</div>"
      ],
      "text/plain": [
       "                                            size\n",
       "2018-06-06 00:00:00+00:00 康德莱(603987)  -0.708839\n",
       "                          中电电机(603988) -0.502002\n",
       "                          艾华集团(603989)  0.683398\n",
       "                          麦迪科技(603990) -0.722520\n",
       "                          至正股份(603991) -1.361441\n",
       "                          洛阳钼业(603993)  2.637209\n",
       "                          中新科技(603996) -0.814134\n",
       "                          继峰股份(603997)  0.298122\n",
       "                          方盛制药(603998) -0.078657\n",
       "                          读者传媒(603999) -0.974416"
      ]
     },
     "execution_count": 7,
     "metadata": {},
     "output_type": "execute_result"
    }
   ],
   "source": [
    "pipeline_output = run_pipeline(\n",
    "    make_pipeline(),\n",
    "    '2018-5-31',\n",
    "    '2018-6-6'\n",
    ")\n",
    "\n",
    "pipeline_output.tail(10)"
   ]
  },
  {
   "cell_type": "markdown",
   "metadata": {},
   "source": [
    "## `ShortTermReversal`"
   ]
  },
  {
   "cell_type": "code",
   "execution_count": 8,
   "metadata": {
    "ExecuteTime": {
     "end_time": "2018-06-11T05:02:52.483006Z",
     "start_time": "2018-06-11T05:02:52.477942Z"
    }
   },
   "outputs": [],
   "source": [
    "def make_pipeline():\n",
    "    return Pipeline(\n",
    "        columns={\n",
    "            'ShortTermReversal': ShortTermReversal(),\n",
    "        },\n",
    "    )"
   ]
  },
  {
   "cell_type": "code",
   "execution_count": 9,
   "metadata": {
    "ExecuteTime": {
     "end_time": "2018-06-11T05:02:52.742112Z",
     "start_time": "2018-06-11T05:02:52.486932Z"
    }
   },
   "outputs": [
    {
     "data": {
      "text/html": [
       "<div>\n",
       "<style scoped>\n",
       "    .dataframe tbody tr th:only-of-type {\n",
       "        vertical-align: middle;\n",
       "    }\n",
       "\n",
       "    .dataframe tbody tr th {\n",
       "        vertical-align: top;\n",
       "    }\n",
       "\n",
       "    .dataframe thead th {\n",
       "        text-align: right;\n",
       "    }\n",
       "</style>\n",
       "<table border=\"1\" class=\"dataframe\">\n",
       "  <thead>\n",
       "    <tr style=\"text-align: right;\">\n",
       "      <th></th>\n",
       "      <th></th>\n",
       "      <th>ShortTermReversal</th>\n",
       "    </tr>\n",
       "  </thead>\n",
       "  <tbody>\n",
       "    <tr>\n",
       "      <th rowspan=\"10\" valign=\"top\">2018-06-06 00:00:00+00:00</th>\n",
       "      <th>康德莱(603987)</th>\n",
       "      <td>0.324477</td>\n",
       "    </tr>\n",
       "    <tr>\n",
       "      <th>中电电机(603988)</th>\n",
       "      <td>1.502790</td>\n",
       "    </tr>\n",
       "    <tr>\n",
       "      <th>艾华集团(603989)</th>\n",
       "      <td>0.102061</td>\n",
       "    </tr>\n",
       "    <tr>\n",
       "      <th>麦迪科技(603990)</th>\n",
       "      <td>0.698906</td>\n",
       "    </tr>\n",
       "    <tr>\n",
       "      <th>至正股份(603991)</th>\n",
       "      <td>-0.166149</td>\n",
       "    </tr>\n",
       "    <tr>\n",
       "      <th>洛阳钼业(603993)</th>\n",
       "      <td>1.140472</td>\n",
       "    </tr>\n",
       "    <tr>\n",
       "      <th>中新科技(603996)</th>\n",
       "      <td>-0.672325</td>\n",
       "    </tr>\n",
       "    <tr>\n",
       "      <th>继峰股份(603997)</th>\n",
       "      <td>0.344931</td>\n",
       "    </tr>\n",
       "    <tr>\n",
       "      <th>方盛制药(603998)</th>\n",
       "      <td>-1.025768</td>\n",
       "    </tr>\n",
       "    <tr>\n",
       "      <th>读者传媒(603999)</th>\n",
       "      <td>-0.126208</td>\n",
       "    </tr>\n",
       "  </tbody>\n",
       "</table>\n",
       "</div>"
      ],
      "text/plain": [
       "                                        ShortTermReversal\n",
       "2018-06-06 00:00:00+00:00 康德莱(603987)            0.324477\n",
       "                          中电电机(603988)           1.502790\n",
       "                          艾华集团(603989)           0.102061\n",
       "                          麦迪科技(603990)           0.698906\n",
       "                          至正股份(603991)          -0.166149\n",
       "                          洛阳钼业(603993)           1.140472\n",
       "                          中新科技(603996)          -0.672325\n",
       "                          继峰股份(603997)           0.344931\n",
       "                          方盛制药(603998)          -1.025768\n",
       "                          读者传媒(603999)          -0.126208"
      ]
     },
     "execution_count": 9,
     "metadata": {},
     "output_type": "execute_result"
    }
   ],
   "source": [
    "pipeline_output = run_pipeline(\n",
    "    make_pipeline(),\n",
    "    '2018-5-31',\n",
    "    '2018-6-6'\n",
    ")\n",
    "\n",
    "pipeline_output.tail(10)"
   ]
  },
  {
   "cell_type": "markdown",
   "metadata": {},
   "source": [
    "## `Volatility`"
   ]
  },
  {
   "cell_type": "code",
   "execution_count": 10,
   "metadata": {
    "ExecuteTime": {
     "end_time": "2018-06-11T05:02:52.750336Z",
     "start_time": "2018-06-11T05:02:52.746683Z"
    }
   },
   "outputs": [],
   "source": [
    "def make_pipeline():\n",
    "    return Pipeline(\n",
    "        columns={\n",
    "            'Volatility': Volatility(),\n",
    "        },\n",
    "    )"
   ]
  },
  {
   "cell_type": "code",
   "execution_count": 11,
   "metadata": {
    "ExecuteTime": {
     "end_time": "2018-06-11T05:02:53.131507Z",
     "start_time": "2018-06-11T05:02:52.753132Z"
    }
   },
   "outputs": [
    {
     "data": {
      "text/html": [
       "<div>\n",
       "<style scoped>\n",
       "    .dataframe tbody tr th:only-of-type {\n",
       "        vertical-align: middle;\n",
       "    }\n",
       "\n",
       "    .dataframe tbody tr th {\n",
       "        vertical-align: top;\n",
       "    }\n",
       "\n",
       "    .dataframe thead th {\n",
       "        text-align: right;\n",
       "    }\n",
       "</style>\n",
       "<table border=\"1\" class=\"dataframe\">\n",
       "  <thead>\n",
       "    <tr style=\"text-align: right;\">\n",
       "      <th></th>\n",
       "      <th></th>\n",
       "      <th>Volatility</th>\n",
       "    </tr>\n",
       "  </thead>\n",
       "  <tbody>\n",
       "    <tr>\n",
       "      <th rowspan=\"10\" valign=\"top\">2018-06-06 00:00:00+00:00</th>\n",
       "      <th>康德莱(603987)</th>\n",
       "      <td>-0.214684</td>\n",
       "    </tr>\n",
       "    <tr>\n",
       "      <th>中电电机(603988)</th>\n",
       "      <td>0.807666</td>\n",
       "    </tr>\n",
       "    <tr>\n",
       "      <th>艾华集团(603989)</th>\n",
       "      <td>-0.078732</td>\n",
       "    </tr>\n",
       "    <tr>\n",
       "      <th>麦迪科技(603990)</th>\n",
       "      <td>-0.729436</td>\n",
       "    </tr>\n",
       "    <tr>\n",
       "      <th>至正股份(603991)</th>\n",
       "      <td>0.492890</td>\n",
       "    </tr>\n",
       "    <tr>\n",
       "      <th>洛阳钼业(603993)</th>\n",
       "      <td>1.013742</td>\n",
       "    </tr>\n",
       "    <tr>\n",
       "      <th>中新科技(603996)</th>\n",
       "      <td>-0.835229</td>\n",
       "    </tr>\n",
       "    <tr>\n",
       "      <th>继峰股份(603997)</th>\n",
       "      <td>-1.197707</td>\n",
       "    </tr>\n",
       "    <tr>\n",
       "      <th>方盛制药(603998)</th>\n",
       "      <td>-0.234967</td>\n",
       "    </tr>\n",
       "    <tr>\n",
       "      <th>读者传媒(603999)</th>\n",
       "      <td>-0.034444</td>\n",
       "    </tr>\n",
       "  </tbody>\n",
       "</table>\n",
       "</div>"
      ],
      "text/plain": [
       "                                        Volatility\n",
       "2018-06-06 00:00:00+00:00 康德莱(603987)    -0.214684\n",
       "                          中电电机(603988)    0.807666\n",
       "                          艾华集团(603989)   -0.078732\n",
       "                          麦迪科技(603990)   -0.729436\n",
       "                          至正股份(603991)    0.492890\n",
       "                          洛阳钼业(603993)    1.013742\n",
       "                          中新科技(603996)   -0.835229\n",
       "                          继峰股份(603997)   -1.197707\n",
       "                          方盛制药(603998)   -0.234967\n",
       "                          读者传媒(603999)   -0.034444"
      ]
     },
     "execution_count": 11,
     "metadata": {},
     "output_type": "execute_result"
    }
   ],
   "source": [
    "pipeline_output = run_pipeline(\n",
    "    make_pipeline(),\n",
    "    '2018-5-31',\n",
    "    '2018-6-6'\n",
    ")\n",
    "\n",
    "pipeline_output.tail(10)"
   ]
  }
 ],
 "metadata": {
  "kernelspec": {
   "display_name": "zipline",
   "language": "python",
   "name": "zipline"
  },
  "language_info": {
   "codemirror_mode": {
    "name": "ipython",
    "version": 3
   },
   "file_extension": ".py",
   "mimetype": "text/x-python",
   "name": "python",
   "nbconvert_exporter": "python",
   "pygments_lexer": "ipython3",
   "version": "3.6.5"
  },
  "toc": {
   "base_numbering": 1,
   "nav_menu": {},
   "number_sections": true,
   "sideBar": true,
   "skip_h1_title": false,
   "title_cell": "Table of Contents",
   "title_sidebar": "Contents",
   "toc_cell": false,
   "toc_position": {
    "height": "calc(100% - 180px)",
    "left": "10px",
    "top": "150px",
    "width": "260px"
   },
   "toc_section_display": true,
   "toc_window_display": true
  }
 },
 "nbformat": 4,
 "nbformat_minor": 2
}
