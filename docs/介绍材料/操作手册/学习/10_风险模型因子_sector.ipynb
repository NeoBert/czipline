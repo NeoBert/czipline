{
 "cells": [
  {
   "cell_type": "code",
   "execution_count": 1,
   "metadata": {
    "ExecuteTime": {
     "end_time": "2018-06-07T17:10:08.341852Z",
     "start_time": "2018-06-07T17:10:04.785174Z"
    }
   },
   "outputs": [],
   "source": [
    "from zipline.pipeline import Pipeline\n",
    "from zipline.research import run_pipeline\n",
    "from zipline.pipeline.fundamentals import Fundamentals\n",
    "from zipline.pipeline.risk import *"
   ]
  },
  {
   "cell_type": "markdown",
   "metadata": {},
   "source": [
    "# `BasicMaterials`"
   ]
  },
  {
   "cell_type": "code",
   "execution_count": 2,
   "metadata": {
    "ExecuteTime": {
     "end_time": "2018-06-07T17:10:10.856536Z",
     "start_time": "2018-06-07T17:10:08.344112Z"
    }
   },
   "outputs": [
    {
     "data": {
      "text/html": [
       "<div>\n",
       "<style scoped>\n",
       "    .dataframe tbody tr th:only-of-type {\n",
       "        vertical-align: middle;\n",
       "    }\n",
       "\n",
       "    .dataframe tbody tr th {\n",
       "        vertical-align: top;\n",
       "    }\n",
       "\n",
       "    .dataframe thead th {\n",
       "        text-align: right;\n",
       "    }\n",
       "</style>\n",
       "<table border=\"1\" class=\"dataframe\">\n",
       "  <thead>\n",
       "    <tr style=\"text-align: right;\">\n",
       "      <th></th>\n",
       "      <th></th>\n",
       "      <th>BasicMaterials</th>\n",
       "    </tr>\n",
       "  </thead>\n",
       "  <tbody>\n",
       "    <tr>\n",
       "      <th rowspan=\"10\" valign=\"top\">2018-06-06 00:00:00+00:00</th>\n",
       "      <th>兴业股份(603928)</th>\n",
       "      <td>NaN</td>\n",
       "    </tr>\n",
       "    <tr>\n",
       "      <th>丽岛新材(603937)</th>\n",
       "      <td>NaN</td>\n",
       "    </tr>\n",
       "    <tr>\n",
       "      <th>三孚股份(603938)</th>\n",
       "      <td>NaN</td>\n",
       "    </tr>\n",
       "    <tr>\n",
       "      <th>醋化股份(603968)</th>\n",
       "      <td>-0.157303</td>\n",
       "    </tr>\n",
       "    <tr>\n",
       "      <th>银龙股份(603969)</th>\n",
       "      <td>0.009129</td>\n",
       "    </tr>\n",
       "    <tr>\n",
       "      <th>国泰集团(603977)</th>\n",
       "      <td>0.004650</td>\n",
       "    </tr>\n",
       "    <tr>\n",
       "      <th>深圳新星(603978)</th>\n",
       "      <td>NaN</td>\n",
       "    </tr>\n",
       "    <tr>\n",
       "      <th>吉华集团(603980)</th>\n",
       "      <td>NaN</td>\n",
       "    </tr>\n",
       "    <tr>\n",
       "      <th>至正股份(603991)</th>\n",
       "      <td>NaN</td>\n",
       "    </tr>\n",
       "    <tr>\n",
       "      <th>洛阳钼业(603993)</th>\n",
       "      <td>-0.008996</td>\n",
       "    </tr>\n",
       "  </tbody>\n",
       "</table>\n",
       "</div>"
      ],
      "text/plain": [
       "                                        BasicMaterials\n",
       "2018-06-06 00:00:00+00:00 兴业股份(603928)             NaN\n",
       "                          丽岛新材(603937)             NaN\n",
       "                          三孚股份(603938)             NaN\n",
       "                          醋化股份(603968)       -0.157303\n",
       "                          银龙股份(603969)        0.009129\n",
       "                          国泰集团(603977)        0.004650\n",
       "                          深圳新星(603978)             NaN\n",
       "                          吉华集团(603980)             NaN\n",
       "                          至正股份(603991)             NaN\n",
       "                          洛阳钼业(603993)       -0.008996"
      ]
     },
     "execution_count": 2,
     "metadata": {},
     "output_type": "execute_result"
    }
   ],
   "source": [
    "def make_pipeline():\n",
    "    return Pipeline(\n",
    "        columns={\n",
    "            'BasicMaterials': BasicMaterials(),\n",
    "        },\n",
    "        screen=Fundamentals.info.sector_code.latest.eq(101)\n",
    "    )\n",
    "\n",
    "pipeline_output = run_pipeline(\n",
    "    make_pipeline(),\n",
    "    '2018-6-5',\n",
    "    '2018-6-6'\n",
    ")\n",
    "\n",
    "pipeline_output.tail(10)"
   ]
  },
  {
   "cell_type": "markdown",
   "metadata": {
    "ExecuteTime": {
     "end_time": "2018-06-07T17:06:49.381122Z",
     "start_time": "2018-06-07T17:06:49.374868Z"
    }
   },
   "source": [
    "# `ConsumerCyclical`"
   ]
  },
  {
   "cell_type": "code",
   "execution_count": 3,
   "metadata": {
    "ExecuteTime": {
     "end_time": "2018-06-07T17:10:11.616573Z",
     "start_time": "2018-06-07T17:10:10.860037Z"
    }
   },
   "outputs": [
    {
     "data": {
      "text/html": [
       "<div>\n",
       "<style scoped>\n",
       "    .dataframe tbody tr th:only-of-type {\n",
       "        vertical-align: middle;\n",
       "    }\n",
       "\n",
       "    .dataframe tbody tr th {\n",
       "        vertical-align: top;\n",
       "    }\n",
       "\n",
       "    .dataframe thead th {\n",
       "        text-align: right;\n",
       "    }\n",
       "</style>\n",
       "<table border=\"1\" class=\"dataframe\">\n",
       "  <thead>\n",
       "    <tr style=\"text-align: right;\">\n",
       "      <th></th>\n",
       "      <th></th>\n",
       "      <th>ConsumerCyclical</th>\n",
       "    </tr>\n",
       "  </thead>\n",
       "  <tbody>\n",
       "    <tr>\n",
       "      <th rowspan=\"10\" valign=\"top\">2018-06-06 00:00:00+00:00</th>\n",
       "      <th>安记食品(603696)</th>\n",
       "      <td>-0.006165</td>\n",
       "    </tr>\n",
       "    <tr>\n",
       "      <th>家家悦(603708)</th>\n",
       "      <td>NaN</td>\n",
       "    </tr>\n",
       "    <tr>\n",
       "      <th>香飘飘(603711)</th>\n",
       "      <td>NaN</td>\n",
       "    </tr>\n",
       "    <tr>\n",
       "      <th>来伊份(603777)</th>\n",
       "      <td>0.111771</td>\n",
       "    </tr>\n",
       "    <tr>\n",
       "      <th>威龙股份(603779)</th>\n",
       "      <td>-0.056727</td>\n",
       "    </tr>\n",
       "    <tr>\n",
       "      <th>桃李面包(603866)</th>\n",
       "      <td>-0.074288</td>\n",
       "    </tr>\n",
       "    <tr>\n",
       "      <th>老百姓(603883)</th>\n",
       "      <td>-0.080747</td>\n",
       "    </tr>\n",
       "    <tr>\n",
       "      <th>元祖股份(603886)</th>\n",
       "      <td>NaN</td>\n",
       "    </tr>\n",
       "    <tr>\n",
       "      <th>金徽酒(603919)</th>\n",
       "      <td>0.058772</td>\n",
       "    </tr>\n",
       "    <tr>\n",
       "      <th>益丰药房(603939)</th>\n",
       "      <td>-0.197859</td>\n",
       "    </tr>\n",
       "  </tbody>\n",
       "</table>\n",
       "</div>"
      ],
      "text/plain": [
       "                                        ConsumerCyclical\n",
       "2018-06-06 00:00:00+00:00 安记食品(603696)         -0.006165\n",
       "                          家家悦(603708)                NaN\n",
       "                          香飘飘(603711)                NaN\n",
       "                          来伊份(603777)           0.111771\n",
       "                          威龙股份(603779)         -0.056727\n",
       "                          桃李面包(603866)         -0.074288\n",
       "                          老百姓(603883)          -0.080747\n",
       "                          元祖股份(603886)               NaN\n",
       "                          金徽酒(603919)           0.058772\n",
       "                          益丰药房(603939)         -0.197859"
      ]
     },
     "execution_count": 3,
     "metadata": {},
     "output_type": "execute_result"
    }
   ],
   "source": [
    "def make_pipeline():\n",
    "    return Pipeline(\n",
    "        columns={\n",
    "            'ConsumerCyclical': ConsumerCyclical(),\n",
    "        },\n",
    "        screen=Fundamentals.info.sector_code.latest.eq(102)\n",
    "    )\n",
    "\n",
    "pipeline_output = run_pipeline(\n",
    "    make_pipeline(),\n",
    "    '2018-6-5',\n",
    "    '2018-6-6'\n",
    ")\n",
    "\n",
    "pipeline_output.tail(10)"
   ]
  }
 ],
 "metadata": {
  "kernelspec": {
   "display_name": "zipline",
   "language": "python",
   "name": "zipline"
  },
  "language_info": {
   "codemirror_mode": {
    "name": "ipython",
    "version": 3
   },
   "file_extension": ".py",
   "mimetype": "text/x-python",
   "name": "python",
   "nbconvert_exporter": "python",
   "pygments_lexer": "ipython3",
   "version": "3.6.5"
  },
  "toc": {
   "base_numbering": 1,
   "nav_menu": {},
   "number_sections": true,
   "sideBar": true,
   "skip_h1_title": false,
   "title_cell": "Table of Contents",
   "title_sidebar": "Contents",
   "toc_cell": false,
   "toc_position": {},
   "toc_section_display": true,
   "toc_window_display": true
  }
 },
 "nbformat": 4,
 "nbformat_minor": 2
}
