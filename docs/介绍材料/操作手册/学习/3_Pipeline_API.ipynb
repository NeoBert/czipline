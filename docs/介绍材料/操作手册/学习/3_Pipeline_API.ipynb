{
 "cells": [
  {
   "cell_type": "markdown",
   "metadata": {},
   "source": [
    "Pipeline API是用于对资产数据进行横截面分析的强大工具。它使我们能够定义一组关于多个数据输入的计算，并一次分析大量股票。Pipeline API的一些常见用途包括：\n",
    "+ 根据过滤规则选择资产\n",
    "+ 根据评分函数对资产进行排名\n",
    "+ 计算投资组合分配"
   ]
  },
  {
   "cell_type": "markdown",
   "metadata": {},
   "source": [
    "首先，我们导入Pipeline类并创建一个返回空`pipeline`的函数。将`pipeline`定义放入一个函数中，可以帮助我们随着`pipeline`复杂度的增长保持组织的有序性。在Research和IDE之间传输数据管道时，这特别有用。"
   ]
  },
  {
   "cell_type": "code",
   "execution_count": 1,
   "metadata": {
    "ExecuteTime": {
     "end_time": "2018-05-21T03:19:27.609411Z",
     "start_time": "2018-05-21T03:19:25.558233Z"
    }
   },
   "outputs": [],
   "source": [
    "# Pipeline class\n",
    "from zipline.pipeline import Pipeline\n",
    "\n",
    "def make_pipeline():\n",
    "    # Create and return an empty Pipeline\n",
    "    return Pipeline()"
   ]
  },
  {
   "cell_type": "markdown",
   "metadata": {},
   "source": [
    "要将输出添加到`pipeline`中，我们需要包含对数据集的引用，并指定要对这些数据执行的计算。 例如，我们将添加对`USEquityPricing`数据集中的`close`列的引用。 然后，我们可以将输出定义为该列中的最新值，如下所示："
   ]
  },
  {
   "cell_type": "code",
   "execution_count": 2,
   "metadata": {
    "ExecuteTime": {
     "end_time": "2018-05-21T03:19:27.618666Z",
     "start_time": "2018-05-21T03:19:27.612523Z"
    }
   },
   "outputs": [],
   "source": [
    "# Import Pipeline class and USEquityPricing dataset\n",
    "from zipline.pipeline import Pipeline\n",
    "from zipline.pipeline.data import USEquityPricing\n",
    "\n",
    "def make_pipeline():\n",
    "    # Get latest closing price\n",
    "    close_price = USEquityPricing.close.latest\n",
    "\n",
    "    # Return Pipeline containing latest closing price\n",
    "    return Pipeline(\n",
    "        columns={\n",
    "            'close_price': close_price,\n",
    "        }\n",
    "    )"
   ]
  },
  {
   "cell_type": "code",
   "execution_count": 3,
   "metadata": {
    "ExecuteTime": {
     "end_time": "2018-05-21T03:19:28.373812Z",
     "start_time": "2018-05-21T03:19:27.621931Z"
    }
   },
   "outputs": [],
   "source": [
    "from zipline.pipeline.fundamentals import Fundamentals"
   ]
  },
  {
   "cell_type": "markdown",
   "metadata": {},
   "source": [
    "Pipeline API还提供了一些内置的计算，其中一些计算是在数据的尾随窗口上计算的。例如，以下代码导入数据列rating并将输出定义为rating的3天移动平均数："
   ]
  },
  {
   "cell_type": "code",
   "execution_count": 4,
   "metadata": {
    "ExecuteTime": {
     "end_time": "2018-05-21T03:19:28.383323Z",
     "start_time": "2018-05-21T03:19:28.377483Z"
    }
   },
   "outputs": [],
   "source": [
    "# Import Pipeline class and datasets\n",
    "from zipline.pipeline import Pipeline\n",
    "from zipline.pipeline.data import USEquityPricing\n",
    "\n",
    "# Import built-in moving average calculation\n",
    "from zipline.pipeline.factors import SimpleMovingAverage\n",
    "\n",
    "\n",
    "def make_pipeline():\n",
    "    # Get latest closing price\n",
    "    close_price = USEquityPricing.close.latest\n",
    "\n",
    "    # Calculate 3 day average of bull_minus_bear scores\n",
    "    rating_score = SimpleMovingAverage(\n",
    "        inputs=[Fundamentals.rating],\n",
    "        window_length=3,\n",
    "    )\n",
    "\n",
    "    # Return Pipeline containing close_price\n",
    "    # and sentiment_score\n",
    "    return Pipeline(\n",
    "        columns={\n",
    "            'close_price': close_price,\n",
    "            'rating_score': rating_score,\n",
    "        }\n",
    "    )"
   ]
  },
  {
   "cell_type": "markdown",
   "metadata": {},
   "source": [
    "## 总体选择"
   ]
  },
  {
   "cell_type": "markdown",
   "metadata": {},
   "source": [
    "制定策略的一个重要部分是定义投资组合中进行交易的一组资产。我们通常将这组资产称为我们的交易总体。\n",
    "\n",
    "交易范围应尽可能大，同时也要排除不适合投资组合的资产。例如，我们想排除流动性不强或难以交易的股票。`QTradableStocksUS`总体提供这个功能。可以使用`pipeline`构造函数的`screen`参数将`QTradableStocksUS`设置为交易范围："
   ]
  },
  {
   "cell_type": "code",
   "execution_count": 5,
   "metadata": {
    "ExecuteTime": {
     "end_time": "2018-05-21T03:19:28.696757Z",
     "start_time": "2018-05-21T03:19:28.386242Z"
    }
   },
   "outputs": [],
   "source": [
    "# Import Pipeline class and datasets\n",
    "from zipline.pipeline import Pipeline\n",
    "from zipline.pipeline.data import USEquityPricing\n",
    "\n",
    "# Import built-in moving average calculation\n",
    "from zipline.pipeline.factors import SimpleMovingAverage\n",
    "\n",
    "# Import built-in trading universe\n",
    "from zipline.pipeline.builtin import QTradableStocksUS\n",
    "\n",
    "\n",
    "def make_pipeline():\n",
    "    # Create a reference to our trading universe\n",
    "    base_universe = QTradableStocksUS()\n",
    "\n",
    "    # Get latest closing price\n",
    "    close_price = USEquityPricing.close.latest\n",
    "\n",
    "    # Calculate 3 day average of bull_minus_bear scores\n",
    "    rating_score = SimpleMovingAverage(\n",
    "        inputs=[Fundamentals.rating],\n",
    "        window_length=3,\n",
    "    )\n",
    "\n",
    "    # Return Pipeline containing close_price and\n",
    "    # sentiment_score that has our trading universe as screen\n",
    "    return Pipeline(\n",
    "        columns={\n",
    "            'close_price': close_price,\n",
    "            'rating_score': rating_score,\n",
    "        },\n",
    "        screen=base_universe\n",
    "    )"
   ]
  },
  {
   "cell_type": "markdown",
   "metadata": {},
   "source": [
    "现在`pipeline`定义已经完成，可以使用`run_pipeline`在特定的时间段内执行它。输出将是按日期和资产索引的`pandas.DataFrame`，其中的列对应于我们添加到管道定义中的输出："
   ]
  },
  {
   "cell_type": "code",
   "execution_count": 6,
   "metadata": {
    "ExecuteTime": {
     "end_time": "2018-05-21T03:19:33.425350Z",
     "start_time": "2018-05-21T03:19:28.699341Z"
    }
   },
   "outputs": [
    {
     "data": {
      "text/html": [
       "<div>\n",
       "<style scoped>\n",
       "    .dataframe tbody tr th:only-of-type {\n",
       "        vertical-align: middle;\n",
       "    }\n",
       "\n",
       "    .dataframe tbody tr th {\n",
       "        vertical-align: top;\n",
       "    }\n",
       "\n",
       "    .dataframe thead th {\n",
       "        text-align: right;\n",
       "    }\n",
       "</style>\n",
       "<table border=\"1\" class=\"dataframe\">\n",
       "  <thead>\n",
       "    <tr style=\"text-align: right;\">\n",
       "      <th></th>\n",
       "      <th></th>\n",
       "      <th>close_price</th>\n",
       "      <th>rating_score</th>\n",
       "    </tr>\n",
       "  </thead>\n",
       "  <tbody>\n",
       "    <tr>\n",
       "      <th rowspan=\"10\" valign=\"top\">2018-04-27 00:00:00+00:00</th>\n",
       "      <th>恒润股份(603985)</th>\n",
       "      <td>32.14</td>\n",
       "      <td>NaN</td>\n",
       "    </tr>\n",
       "    <tr>\n",
       "      <th>康德莱(603987)</th>\n",
       "      <td>12.21</td>\n",
       "      <td>NaN</td>\n",
       "    </tr>\n",
       "    <tr>\n",
       "      <th>中电电机(603988)</th>\n",
       "      <td>26.76</td>\n",
       "      <td>NaN</td>\n",
       "    </tr>\n",
       "    <tr>\n",
       "      <th>艾华集团(603989)</th>\n",
       "      <td>35.17</td>\n",
       "      <td>4.0</td>\n",
       "    </tr>\n",
       "    <tr>\n",
       "      <th>麦迪科技(603990)</th>\n",
       "      <td>40.16</td>\n",
       "      <td>NaN</td>\n",
       "    </tr>\n",
       "    <tr>\n",
       "      <th>至正股份(603991)</th>\n",
       "      <td>25.65</td>\n",
       "      <td>NaN</td>\n",
       "    </tr>\n",
       "    <tr>\n",
       "      <th>洛阳钼业(603993)</th>\n",
       "      <td>7.57</td>\n",
       "      <td>4.0</td>\n",
       "    </tr>\n",
       "    <tr>\n",
       "      <th>中新科技(603996)</th>\n",
       "      <td>16.46</td>\n",
       "      <td>NaN</td>\n",
       "    </tr>\n",
       "    <tr>\n",
       "      <th>继峰股份(603997)</th>\n",
       "      <td>12.00</td>\n",
       "      <td>4.0</td>\n",
       "    </tr>\n",
       "    <tr>\n",
       "      <th>读者传媒(603999)</th>\n",
       "      <td>7.08</td>\n",
       "      <td>NaN</td>\n",
       "    </tr>\n",
       "  </tbody>\n",
       "</table>\n",
       "</div>"
      ],
      "text/plain": [
       "                                        close_price  rating_score\n",
       "2018-04-27 00:00:00+00:00 恒润股份(603985)        32.14           NaN\n",
       "                          康德莱(603987)         12.21           NaN\n",
       "                          中电电机(603988)        26.76           NaN\n",
       "                          艾华集团(603989)        35.17           4.0\n",
       "                          麦迪科技(603990)        40.16           NaN\n",
       "                          至正股份(603991)        25.65           NaN\n",
       "                          洛阳钼业(603993)         7.57           4.0\n",
       "                          中新科技(603996)        16.46           NaN\n",
       "                          继峰股份(603997)        12.00           4.0\n",
       "                          读者传媒(603999)         7.08           NaN"
      ]
     },
     "execution_count": 6,
     "metadata": {},
     "output_type": "execute_result"
    }
   ],
   "source": [
    "# Import run_pipeline method\n",
    "from zipline.research import run_pipeline\n",
    "\n",
    "# Execute pipeline created by make_pipeline\n",
    "# between start_date and end_date\n",
    "pipeline_output = run_pipeline(\n",
    "    make_pipeline(),\n",
    "    '2017-01-01',\n",
    "    '2018-04-30'\n",
    ")\n",
    "\n",
    "# Display last 10 rows\n",
    "pipeline_output.tail(10)"
   ]
  },
  {
   "cell_type": "markdown",
   "metadata": {},
   "source": [
    "在下一课中，我们将使用正式确定的策略，以选择要交易的资产。 然后，我们将使用因子分析工具来评估我们策略对历史数据的预测能力。"
   ]
  }
 ],
 "metadata": {
  "kernelspec": {
   "display_name": "zipline",
   "language": "python",
   "name": "zipline"
  },
  "language_info": {
   "codemirror_mode": {
    "name": "ipython",
    "version": 3
   },
   "file_extension": ".py",
   "mimetype": "text/x-python",
   "name": "python",
   "nbconvert_exporter": "python",
   "pygments_lexer": "ipython3",
   "version": "3.6.5"
  },
  "toc": {
   "base_numbering": 1,
   "nav_menu": {},
   "number_sections": true,
   "sideBar": true,
   "skip_h1_title": false,
   "title_cell": "Table of Contents",
   "title_sidebar": "Contents",
   "toc_cell": false,
   "toc_position": {},
   "toc_section_display": true,
   "toc_window_display": false
  }
 },
 "nbformat": 4,
 "nbformat_minor": 2
}
