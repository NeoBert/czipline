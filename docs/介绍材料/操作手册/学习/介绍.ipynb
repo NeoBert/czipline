{
 "cells": [
  {
   "cell_type": "markdown",
   "metadata": {},
   "source": [
    "欢迎来到Quantopian！ 入门教程将指导您在Quantopian中研究和开发量化交易策略。 它涵盖了Quantopian API的许多基础知识，并且专为那些对该平台不熟悉的人士而设计。 你只需要学习一些基本的Python编程技巧就可以开始本教程。"
   ]
  },
  {
   "cell_type": "markdown",
   "metadata": {},
   "source": [
    "# 什么是交易算法？"
   ]
  },
  {
   "cell_type": "markdown",
   "metadata": {},
   "source": [
    "交易算法是一个计算机程序，它定义了一系列买卖资产的规则。大多数交易算法都是基于从历史数据上进行的研究得出的数学或统计模型做出决策。"
   ]
  },
  {
   "cell_type": "markdown",
   "metadata": {},
   "source": [
    "## 从哪开始呢？"
   ]
  },
  {
   "cell_type": "markdown",
   "metadata": {},
   "source": [
    "编写交易算法的第一步是找到一个经济或统计关系，我们可以根据这个关系来制定我们的战略。 为此，我们可以使用Quantopian的研究环境来访问和分析平台中可用的历史数据集。 Research是Jupyter Notebook环境，它允许我们以称为“单元”的单位运行Python代码。 例如，以下代码绘制了Apple Inc.（AAPL）的每日收盘价以及20和50日移动平均线：\n",
    "(更改为美的集团)"
   ]
  },
  {
   "cell_type": "code",
   "execution_count": 4,
   "metadata": {
    "ExecuteTime": {
     "end_time": "2018-05-20T06:59:59.631236Z",
     "start_time": "2018-05-20T06:59:58.699469Z"
    }
   },
   "outputs": [
    {
     "name": "stdout",
     "output_type": "stream",
     "text": [
      "[2018-05-20 14:59:59.591826] INFO: zipline.finance.metrics.tracker: Simulated 1 trading days\n",
      "first open: 2018-05-18 01:31:00+00:00\n",
      "last close: 2018-05-18 07:00:00+00:00\n"
     ]
    }
   ],
   "source": [
    "# Research environment functions\n",
    "from zipline.research import prices\n",
    "\n",
    "# Pandas library: https://pandas.pydata.org/\n",
    "import pandas as pd\n",
    "\n",
    "# Query historical pricing data for AAPL\n",
    "aapl_close = prices(\n",
    "    ['000333',600645],\n",
    "    start='2018-01-01',\n",
    "    end='2018-05-18',\n",
    ")"
   ]
  },
  {
   "cell_type": "code",
   "execution_count": 5,
   "metadata": {
    "ExecuteTime": {
     "end_time": "2018-05-20T06:59:59.788108Z",
     "start_time": "2018-05-20T06:59:59.777800Z"
    }
   },
   "outputs": [
    {
     "data": {
      "text/html": [
       "<div>\n",
       "<style scoped>\n",
       "    .dataframe tbody tr th:only-of-type {\n",
       "        vertical-align: middle;\n",
       "    }\n",
       "\n",
       "    .dataframe tbody tr th {\n",
       "        vertical-align: top;\n",
       "    }\n",
       "\n",
       "    .dataframe thead th {\n",
       "        text-align: right;\n",
       "    }\n",
       "</style>\n",
       "<table border=\"1\" class=\"dataframe\">\n",
       "  <thead>\n",
       "    <tr style=\"text-align: right;\">\n",
       "      <th></th>\n",
       "      <th>美的集团(000333)</th>\n",
       "      <th>中源协和(600645)</th>\n",
       "    </tr>\n",
       "  </thead>\n",
       "  <tbody>\n",
       "    <tr>\n",
       "      <th>2018-05-14 00:00:00+00:00</th>\n",
       "      <td>55.24</td>\n",
       "      <td>20.88</td>\n",
       "    </tr>\n",
       "    <tr>\n",
       "      <th>2018-05-15 00:00:00+00:00</th>\n",
       "      <td>55.22</td>\n",
       "      <td>21.10</td>\n",
       "    </tr>\n",
       "    <tr>\n",
       "      <th>2018-05-16 00:00:00+00:00</th>\n",
       "      <td>54.40</td>\n",
       "      <td>21.53</td>\n",
       "    </tr>\n",
       "    <tr>\n",
       "      <th>2018-05-17 00:00:00+00:00</th>\n",
       "      <td>53.12</td>\n",
       "      <td>21.63</td>\n",
       "    </tr>\n",
       "    <tr>\n",
       "      <th>2018-05-18 00:00:00+00:00</th>\n",
       "      <td>53.89</td>\n",
       "      <td>21.30</td>\n",
       "    </tr>\n",
       "  </tbody>\n",
       "</table>\n",
       "</div>"
      ],
      "text/plain": [
       "                           美的集团(000333)  中源协和(600645)\n",
       "2018-05-14 00:00:00+00:00         55.24         20.88\n",
       "2018-05-15 00:00:00+00:00         55.22         21.10\n",
       "2018-05-16 00:00:00+00:00         54.40         21.53\n",
       "2018-05-17 00:00:00+00:00         53.12         21.63\n",
       "2018-05-18 00:00:00+00:00         53.89         21.30"
      ]
     },
     "execution_count": 5,
     "metadata": {},
     "output_type": "execute_result"
    }
   ],
   "source": [
    "aapl_close.tail()"
   ]
  },
  {
   "cell_type": "code",
   "execution_count": null,
   "metadata": {},
   "outputs": [],
   "source": [
    "# Compute 20 and 50 day moving averages on\n",
    "# AAPL's pricing data\n",
    "aapl_sma20 = aapl_close.rolling(20).mean()\n",
    "aapl_sma50 = aapl_close.rolling(50).mean()\n",
    "\n",
    "# Combine results into a pandas DataFrame and plot\n",
    "\n",
    "pd.DataFrame({   \n",
    "    'AAPL': aapl_close,\n",
    "    'SMA20': aapl_sma20,\n",
    "    'SMA50': aapl_sma50\n",
    "}).plot(\n",
    "    title='AAPL Close Price / SMA Crossover'\n",
    ");"
   ]
  }
 ],
 "metadata": {
  "kernelspec": {
   "display_name": "zipline",
   "language": "python",
   "name": "zipline"
  },
  "language_info": {
   "codemirror_mode": {
    "name": "ipython",
    "version": 3
   },
   "file_extension": ".py",
   "mimetype": "text/x-python",
   "name": "python",
   "nbconvert_exporter": "python",
   "pygments_lexer": "ipython3",
   "version": "3.6.5"
  },
  "toc": {
   "base_numbering": 1,
   "nav_menu": {},
   "number_sections": true,
   "sideBar": true,
   "skip_h1_title": false,
   "title_cell": "Table of Contents",
   "title_sidebar": "Contents",
   "toc_cell": false,
   "toc_position": {},
   "toc_section_display": true,
   "toc_window_display": false
  }
 },
 "nbformat": 4,
 "nbformat_minor": 2
}
