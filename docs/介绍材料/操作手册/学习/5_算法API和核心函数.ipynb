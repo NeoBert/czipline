{
 "cells": [
  {
   "cell_type": "markdown",
   "metadata": {},
   "source": [
    "在上一课中，我们创建了一个数据管道，用于选择投资组合考虑的资产，并计算这些资产的情绪分数。剩下的课程将在Quantopian的交互式开发环境（IDE）中进行，我们将在其中构建交易算法，附加数据管道，并使用情绪分数构建投资组合。 然后，我们将通过对历史数据的模拟来分析算法在更真实条件下的绩效。这种类型的历史模拟通常称为“回测”。"
   ]
  },
  {
   "cell_type": "markdown",
   "metadata": {},
   "source": [
    "# 算法API及核心函数"
   ]
  },
  {
   "cell_type": "markdown",
   "metadata": {},
   "source": [
    "下一步将是使用Quantopian的算法API为我们的交易算法建立一个基本结构。算法API提供了便于订单调度和执行的功能，并允许我们初始化和管理算法中的参数。\n",
    "我们来看看在算法中使用的一些核心函数："
   ]
  },
  {
   "cell_type": "markdown",
   "metadata": {},
   "source": [
    "## `initialize(context)`"
   ]
  },
  {
   "cell_type": "markdown",
   "metadata": {},
   "source": [
    "当算法开始运行时，`initialize`只会被调用一次，且需要`context`为输入。任何参数初始化和一次性启动逻辑都应该放在这里。\n",
    "\n",
    "上下文是一个增强的Python字典，用于在整个仿真过程中维护状态，并可在算法期内引用。我们想要在函数调用之间保留的任何变量都应该存储在`context`中，而不是使用全局变量。 上下文变量可以使用点符号（`context.some_attribute`）来访问和初始化。"
   ]
  },
  {
   "cell_type": "markdown",
   "metadata": {},
   "source": [
    "## `before_trading_start(context, data)`"
   ]
  },
  {
   "cell_type": "markdown",
   "metadata": {},
   "source": [
    "`before_trading_start`在开盘前每天调用一次，并且需要`context`和`data`作为输入参数。`context`是对来自`initialize`的相同字典的引用，而`data`是存储多个API函数的对象，这些函数允许我们查找任何资产的当前或历史股价和成交量数据（**拓展后的数据还包含换手率、流通市值、总市值等**）。\n",
    "\n",
    "before_trading_start也是我们获得`pipeline`输出的地方，并且在其用于投资组合建造之前，可对数据进行预处理。我们将在下一课中介绍这一点。"
   ]
  },
  {
   "cell_type": "markdown",
   "metadata": {},
   "source": [
    "## `schedule_function(func, day_rule, time_rule)`"
   ]
  },
  {
   "cell_type": "markdown",
   "metadata": {},
   "source": [
    "在改版`zipline`上，算法可以在沪深交所交易日历的正常交易日上午9:30至下午15：00之间进行股票交易。 \n",
    "\n",
    "`schedule_function`允许我们在指定的日期和时间执行自定义函数。例如，我们可以安排一项功能，以在每周的第一天在市场开盘时重新平衡我们的投资组合，如下所示："
   ]
  },
  {
   "cell_type": "raw",
   "metadata": {},
   "source": [
    "schedule_function(\n",
    "    rebalance,                          # 要执行的任务：自定义函数\n",
    "    date_rule=date_rules.week_start(),  # 日期规则：每周开始时\n",
    "    time_rule=time_rules.market_open()  # 时间规则：市场开盘时\n",
    ")         "
   ]
  },
  {
   "cell_type": "markdown",
   "metadata": {},
   "source": [
    "调度函数应该在`initialize`函数中完成，且自定义函数需要将`context`和`data`作为参数。有关`date_rules`和`time_rules`的完整列表，请查看[文档](https://www.quantopian.com/help#ide-schedulefunction)。\n",
    "\n",
    "接下来，为交易算法构建一个框架。现在我们将在算法中跟踪模拟经过的天数，并根据日期和时间记录不同的消息。在接下来的几节课中，将整合数据管道并添加交易逻辑。"
   ]
  },
  {
   "cell_type": "raw",
   "metadata": {},
   "source": [
    "def initialize(context):\n",
    "    # Initialize algorithm parameters\n",
    "    context.day_count = 0\n",
    "    context.daily_message = \"Day {}.\"\n",
    "    context.weekly_message = \"Time to place some trades!\"\n",
    "\n",
    "    # Schedule rebalance function\n",
    "    schedule_function(\n",
    "        rebalance,\n",
    "        date_rule=date_rules.week_start(),\n",
    "        time_rule=time_rules.market_open()\n",
    "    )\n",
    "\n",
    "\n",
    "def before_trading_start(context, data):\n",
    "    # Execute any daily actions that need to happen\n",
    "    # before the start of a trading session\n",
    "    context.day_count += 1\n",
    "    log.info(\n",
    "        context.daily_message.format(\n",
    "            context.day_count\n",
    "        )\n",
    "    )\n",
    "\n",
    "\n",
    "def rebalance(context, data):\n",
    "    # Execute rebalance logic\n",
    "    log.info(context.weekly_message)"
   ]
  },
  {
   "cell_type": "markdown",
   "metadata": {},
   "source": [
    "现在我们有一个交易算法的基本结构，让我们整合我们的数据管道，将情绪数据并入我们的算法。"
   ]
  }
 ],
 "metadata": {
  "kernelspec": {
   "display_name": "zipline",
   "language": "python",
   "name": "zipline"
  },
  "language_info": {
   "codemirror_mode": {
    "name": "ipython",
    "version": 3
   },
   "file_extension": ".py",
   "mimetype": "text/x-python",
   "name": "python",
   "nbconvert_exporter": "python",
   "pygments_lexer": "ipython3",
   "version": "3.6.5"
  },
  "toc": {
   "base_numbering": 1,
   "nav_menu": {},
   "number_sections": true,
   "sideBar": true,
   "skip_h1_title": false,
   "title_cell": "Table of Contents",
   "title_sidebar": "Contents",
   "toc_cell": false,
   "toc_position": {},
   "toc_section_display": true,
   "toc_window_display": true
  }
 },
 "nbformat": 4,
 "nbformat_minor": 2
}
