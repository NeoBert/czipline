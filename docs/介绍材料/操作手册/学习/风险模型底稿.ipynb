{
 "cells": [
  {
   "cell_type": "code",
   "execution_count": 28,
   "metadata": {
    "ExecuteTime": {
     "end_time": "2018-06-05T12:55:21.355653Z",
     "start_time": "2018-06-05T12:55:21.345936Z"
    }
   },
   "outputs": [],
   "source": [
    "import numpy as np\n",
    "import pandas as pd\n",
    "from scipy import stats\n",
    "\n",
    "from zipline import get_calendar\n",
    "from zipline.pipeline.fundamentals import Fundamentals\n",
    "from zipline.research import returns, select_output_by\n",
    "from zipline.data.benchmarks_cn import get_cn_benchmark_returns\n",
    "\n",
    "from zipline.pipeline import Pipeline\n",
    "from zipline.research import run_pipeline"
   ]
  },
  {
   "cell_type": "markdown",
   "metadata": {},
   "source": [
    "# 部门因子"
   ]
  },
  {
   "cell_type": "markdown",
   "metadata": {},
   "source": [
    "## 期间"
   ]
  },
  {
   "cell_type": "code",
   "execution_count": 2,
   "metadata": {
    "ExecuteTime": {
     "end_time": "2018-06-05T12:50:59.979406Z",
     "start_time": "2018-06-05T12:50:59.969112Z"
    }
   },
   "outputs": [],
   "source": [
    "start = '2010-01-01' # 整理风险模型数据最早日期\n",
    "\n",
    "c = get_calendar('SZSH')\n",
    "\n",
    "end = c.actual_last_session\n",
    "\n",
    "dates = c.sessions_in_range(start, end)"
   ]
  },
  {
   "cell_type": "markdown",
   "metadata": {},
   "source": [
    "## 基础数据"
   ]
  },
  {
   "cell_type": "code",
   "execution_count": 3,
   "metadata": {
    "ExecuteTime": {
     "end_time": "2018-06-05T12:50:59.995612Z",
     "start_time": "2018-06-05T12:50:59.981676Z"
    }
   },
   "outputs": [
    {
     "data": {
      "text/plain": [
       "{101: '基本材料',\n",
       " 102: '主要消费',\n",
       " 103: '金融服务',\n",
       " 104: '房地产',\n",
       " 205: '可选消费',\n",
       " 206: '医疗保健',\n",
       " 207: '公用事业',\n",
       " 308: '通讯服务',\n",
       " 309: '能源',\n",
       " 310: '工业领域',\n",
       " 311: '工程技术'}"
      ]
     },
     "execution_count": 3,
     "metadata": {},
     "output_type": "execute_result"
    }
   ],
   "source": [
    "Fundamentals.sector_maps"
   ]
  },
  {
   "cell_type": "code",
   "execution_count": 4,
   "metadata": {
    "ExecuteTime": {
     "end_time": "2018-06-05T12:51:00.008334Z",
     "start_time": "2018-06-05T12:50:59.998183Z"
    }
   },
   "outputs": [],
   "source": [
    "# 顺序再编码\n",
    "SECTOR_MAPS = {\n",
    "    101: 1,\n",
    "    102: 2,\n",
    "    103: 3,\n",
    "    104: 4,\n",
    "    205: 5,\n",
    "    206: 6,\n",
    "    207: 7,\n",
    "    308: 8,\n",
    "    309: 9,\n",
    "    310: 10,\n",
    "    311: 11\n",
    "}"
   ]
  },
  {
   "cell_type": "code",
   "execution_count": 5,
   "metadata": {
    "ExecuteTime": {
     "end_time": "2018-06-05T12:51:00.021523Z",
     "start_time": "2018-06-05T12:51:00.012316Z"
    }
   },
   "outputs": [],
   "source": [
    "# 部门影射指数代码\n",
    "# 把工程技术影射为信息技术\n",
    "SECTOR_INDEX_MAPS = {101:'399614',102:'399617',103:'399619',\n",
    "                     104:'399241',205:'399616',206:'399618',\n",
    "                     207:'399622',308:'399621',309:'399613',\n",
    "                     310:'399615',311:'399620'}"
   ]
  },
  {
   "cell_type": "markdown",
   "metadata": {},
   "source": [
    "# 指数收益"
   ]
  },
  {
   "cell_type": "code",
   "execution_count": 6,
   "metadata": {
    "ExecuteTime": {
     "end_time": "2018-06-05T12:51:00.047849Z",
     "start_time": "2018-06-05T12:51:00.024688Z"
    }
   },
   "outputs": [],
   "source": [
    "index_rets = get_cn_benchmark_returns('399241')"
   ]
  },
  {
   "cell_type": "code",
   "execution_count": 7,
   "metadata": {
    "ExecuteTime": {
     "end_time": "2018-06-05T12:51:00.075808Z",
     "start_time": "2018-06-05T12:51:00.050465Z"
    }
   },
   "outputs": [
    {
     "data": {
      "text/plain": [
       "2018-05-30 00:00:00+00:00   -0.026863\n",
       "2018-05-31 00:00:00+00:00    0.016891\n",
       "2018-06-01 00:00:00+00:00    0.001059\n",
       "2018-06-04 00:00:00+00:00    0.020132\n",
       "2018-06-05 00:00:00+00:00    0.006109\n",
       "dtype: float64"
      ]
     },
     "execution_count": 7,
     "metadata": {},
     "output_type": "execute_result"
    }
   ],
   "source": [
    "index_rets.tail()"
   ]
  },
  {
   "cell_type": "markdown",
   "metadata": {},
   "source": [
    "# 计算部门因子"
   ]
  },
  {
   "cell_type": "markdown",
   "metadata": {},
   "source": [
    "## 常量"
   ]
  },
  {
   "cell_type": "code",
   "execution_count": 8,
   "metadata": {
    "ExecuteTime": {
     "end_time": "2018-06-05T12:51:00.080423Z",
     "start_time": "2018-06-05T12:51:00.078111Z"
    }
   },
   "outputs": [],
   "source": [
    "PPY = 244 # 每年约244个交易日"
   ]
  },
  {
   "cell_type": "markdown",
   "metadata": {},
   "source": [
    "## 参数"
   ]
  },
  {
   "cell_type": "code",
   "execution_count": 9,
   "metadata": {
    "ExecuteTime": {
     "end_time": "2018-06-05T12:51:00.091955Z",
     "start_time": "2018-06-05T12:51:00.082691Z"
    }
   },
   "outputs": [],
   "source": [
    "stock_code = '000001'\n",
    "\n",
    "one_day = pd.Timestamp('2018-6-5')\n",
    "\n",
    "start_date = one_day - c.day * PPY * 2 # 前偏2年的日期， 以此为起点"
   ]
  },
  {
   "cell_type": "markdown",
   "metadata": {},
   "source": [
    "## 准备数据"
   ]
  },
  {
   "cell_type": "markdown",
   "metadata": {
    "ExecuteTime": {
     "end_time": "2018-06-05T12:08:42.306098Z",
     "start_time": "2018-06-05T12:08:42.303348Z"
    }
   },
   "source": [
    "### sector\n",
    "\n",
    "部门为静态，使用最新值"
   ]
  },
  {
   "cell_type": "code",
   "execution_count": 10,
   "metadata": {
    "ExecuteTime": {
     "end_time": "2018-06-05T12:51:00.098432Z",
     "start_time": "2018-06-05T12:51:00.094716Z"
    }
   },
   "outputs": [],
   "source": [
    "def make_pipeline():\n",
    "    return Pipeline(columns={\n",
    "        'sector': Fundamentals.info.sector_code.latest,\n",
    "    })"
   ]
  },
  {
   "cell_type": "code",
   "execution_count": 11,
   "metadata": {
    "ExecuteTime": {
     "end_time": "2018-06-05T12:51:02.345560Z",
     "start_time": "2018-06-05T12:51:00.101315Z"
    }
   },
   "outputs": [],
   "source": [
    "result = run_pipeline(make_pipeline(), '2018-5-31', '2018-5-31')"
   ]
  },
  {
   "cell_type": "code",
   "execution_count": 12,
   "metadata": {
    "ExecuteTime": {
     "end_time": "2018-06-05T12:51:02.366860Z",
     "start_time": "2018-06-05T12:51:02.347880Z"
    }
   },
   "outputs": [
    {
     "data": {
      "text/html": [
       "<div>\n",
       "<style scoped>\n",
       "    .dataframe tbody tr th:only-of-type {\n",
       "        vertical-align: middle;\n",
       "    }\n",
       "\n",
       "    .dataframe tbody tr th {\n",
       "        vertical-align: top;\n",
       "    }\n",
       "\n",
       "    .dataframe thead th {\n",
       "        text-align: right;\n",
       "    }\n",
       "</style>\n",
       "<table border=\"1\" class=\"dataframe\">\n",
       "  <thead>\n",
       "    <tr style=\"text-align: right;\">\n",
       "      <th></th>\n",
       "      <th></th>\n",
       "      <th>sector</th>\n",
       "    </tr>\n",
       "  </thead>\n",
       "  <tbody>\n",
       "    <tr>\n",
       "      <th rowspan=\"5\" valign=\"top\">2018-05-31 00:00:00+00:00</th>\n",
       "      <th>洛阳钼业(603993)</th>\n",
       "      <td>101.0</td>\n",
       "    </tr>\n",
       "    <tr>\n",
       "      <th>中新科技(603996)</th>\n",
       "      <td>205.0</td>\n",
       "    </tr>\n",
       "    <tr>\n",
       "      <th>继峰股份(603997)</th>\n",
       "      <td>205.0</td>\n",
       "    </tr>\n",
       "    <tr>\n",
       "      <th>方盛制药(603998)</th>\n",
       "      <td>206.0</td>\n",
       "    </tr>\n",
       "    <tr>\n",
       "      <th>读者传媒(603999)</th>\n",
       "      <td>205.0</td>\n",
       "    </tr>\n",
       "  </tbody>\n",
       "</table>\n",
       "</div>"
      ],
      "text/plain": [
       "                                        sector\n",
       "2018-05-31 00:00:00+00:00 洛阳钼业(603993)   101.0\n",
       "                          中新科技(603996)   205.0\n",
       "                          继峰股份(603997)   205.0\n",
       "                          方盛制药(603998)   206.0\n",
       "                          读者传媒(603999)   205.0"
      ]
     },
     "execution_count": 12,
     "metadata": {},
     "output_type": "execute_result"
    }
   ],
   "source": [
    "result.tail()"
   ]
  },
  {
   "cell_type": "markdown",
   "metadata": {},
   "source": [
    "### pct"
   ]
  },
  {
   "cell_type": "code",
   "execution_count": null,
   "metadata": {},
   "outputs": [],
   "source": [
    "# 获取股票收益率数据\n",
    "\n",
    "pct = returns('000001', start_date, one_day)"
   ]
  },
  {
   "cell_type": "code",
   "execution_count": 15,
   "metadata": {
    "ExecuteTime": {
     "end_time": "2018-06-05T12:51:03.772807Z",
     "start_time": "2018-06-05T12:51:03.734758Z"
    }
   },
   "outputs": [
    {
     "data": {
      "text/plain": [
       "2016-06-02 00:00:00+00:00   -0.001887\n",
       "2016-06-03 00:00:00+00:00    0.003898\n",
       "2016-06-06 00:00:00+00:00    0.000941\n",
       "2016-06-07 00:00:00+00:00    0.000941\n",
       "2016-06-08 00:00:00+00:00   -0.001879\n",
       "Freq: C, Name: 平安银行(000001), dtype: float64"
      ]
     },
     "execution_count": 15,
     "metadata": {},
     "output_type": "execute_result"
    }
   ],
   "source": [
    "pct.head()"
   ]
  },
  {
   "cell_type": "code",
   "execution_count": 16,
   "metadata": {
    "ExecuteTime": {
     "end_time": "2018-06-05T12:51:03.880351Z",
     "start_time": "2018-06-05T12:51:03.775388Z"
    }
   },
   "outputs": [],
   "source": [
    "sector_code = int(select_output_by(result, assets=[stock_code])['sector'])"
   ]
  },
  {
   "cell_type": "code",
   "execution_count": 17,
   "metadata": {
    "ExecuteTime": {
     "end_time": "2018-06-05T12:51:03.888648Z",
     "start_time": "2018-06-05T12:51:03.882908Z"
    }
   },
   "outputs": [
    {
     "data": {
      "text/plain": [
       "103"
      ]
     },
     "execution_count": 17,
     "metadata": {},
     "output_type": "execute_result"
    }
   ],
   "source": [
    "sector_code"
   ]
  },
  {
   "cell_type": "code",
   "execution_count": 18,
   "metadata": {
    "ExecuteTime": {
     "end_time": "2018-06-05T12:51:03.896183Z",
     "start_time": "2018-06-05T12:51:03.892281Z"
    }
   },
   "outputs": [],
   "source": [
    "# 对应指数代码\n",
    "index_code = SECTOR_INDEX_MAPS[sector_code]"
   ]
  },
  {
   "cell_type": "code",
   "execution_count": 19,
   "metadata": {
    "ExecuteTime": {
     "end_time": "2018-06-05T12:51:03.926163Z",
     "start_time": "2018-06-05T12:51:03.900120Z"
    }
   },
   "outputs": [],
   "source": [
    "# 指数收益率\n",
    "index_rets = get_cn_benchmark_returns(index_code).loc[start_date:one_day]"
   ]
  },
  {
   "cell_type": "code",
   "execution_count": 20,
   "metadata": {
    "ExecuteTime": {
     "end_time": "2018-06-05T12:51:03.940249Z",
     "start_time": "2018-06-05T12:51:03.930250Z"
    }
   },
   "outputs": [
    {
     "data": {
      "text/plain": [
       "(489,)"
      ]
     },
     "execution_count": 20,
     "metadata": {},
     "output_type": "execute_result"
    }
   ],
   "source": [
    "index_rets.shape"
   ]
  },
  {
   "cell_type": "code",
   "execution_count": 21,
   "metadata": {
    "ExecuteTime": {
     "end_time": "2018-06-05T12:51:03.950514Z",
     "start_time": "2018-06-05T12:51:03.943513Z"
    }
   },
   "outputs": [
    {
     "data": {
      "text/plain": [
       "(488,)"
      ]
     },
     "execution_count": 21,
     "metadata": {},
     "output_type": "execute_result"
    }
   ],
   "source": [
    "pct.shape"
   ]
  },
  {
   "cell_type": "code",
   "execution_count": null,
   "metadata": {},
   "outputs": [],
   "source": [
    "# 数据形态保持一致"
   ]
  },
  {
   "cell_type": "code",
   "execution_count": 22,
   "metadata": {
    "ExecuteTime": {
     "end_time": "2018-06-05T12:51:03.963544Z",
     "start_time": "2018-06-05T12:51:03.957514Z"
    }
   },
   "outputs": [],
   "source": [
    "common_index = pct.index.intersection(index_rets.index)"
   ]
  },
  {
   "cell_type": "code",
   "execution_count": 23,
   "metadata": {
    "ExecuteTime": {
     "end_time": "2018-06-05T12:51:03.976427Z",
     "start_time": "2018-06-05T12:51:03.967708Z"
    }
   },
   "outputs": [],
   "source": [
    "r = index_rets[common_index].values # 股票收益率，非累计"
   ]
  },
  {
   "cell_type": "code",
   "execution_count": 24,
   "metadata": {
    "ExecuteTime": {
     "end_time": "2018-06-05T12:51:03.985735Z",
     "start_time": "2018-06-05T12:51:03.979951Z"
    }
   },
   "outputs": [],
   "source": [
    "f = pct[common_index].values # 指数收益率，非累计"
   ]
  },
  {
   "cell_type": "markdown",
   "metadata": {},
   "source": [
    "## 回归"
   ]
  },
  {
   "cell_type": "code",
   "execution_count": 25,
   "metadata": {
    "ExecuteTime": {
     "end_time": "2018-06-05T12:51:03.996959Z",
     "start_time": "2018-06-05T12:51:03.990164Z"
    }
   },
   "outputs": [],
   "source": [
    "# 此处应为通过指数收益来预测股票收益，所以自变量为指数收益率，因变量为股票收益率\n",
    "slope, intercept, r_value, p_value, std_err = stats.linregress(f, r)"
   ]
  },
  {
   "cell_type": "code",
   "execution_count": 26,
   "metadata": {
    "ExecuteTime": {
     "end_time": "2018-06-05T12:51:04.006906Z",
     "start_time": "2018-06-05T12:51:04.000083Z"
    }
   },
   "outputs": [],
   "source": [
    "err = r - slope * f # 此处存疑？严格来说，误差要么以标准差代表，要么绝对值差异。怎么会少截距？"
   ]
  },
  {
   "cell_type": "code",
   "execution_count": null,
   "metadata": {},
   "outputs": [],
   "source": [
    "# 取最后一项\n",
    "err = err[-1]"
   ]
  },
  {
   "cell_type": "markdown",
   "metadata": {},
   "source": [
    "## 保存相对于部门sector的beta值"
   ]
  },
  {
   "cell_type": "code",
   "execution_count": 29,
   "metadata": {
    "ExecuteTime": {
     "end_time": "2018-06-05T12:55:58.946473Z",
     "start_time": "2018-06-05T12:55:58.943791Z"
    }
   },
   "outputs": [],
   "source": [
    "beta = np.zeros(len(SECTOR_MAPS))"
   ]
  },
  {
   "cell_type": "code",
   "execution_count": 30,
   "metadata": {
    "ExecuteTime": {
     "end_time": "2018-06-05T12:56:24.625254Z",
     "start_time": "2018-06-05T12:56:24.621335Z"
    }
   },
   "outputs": [],
   "source": [
    "beta[SECTOR_MAPS[sector_code]] = slope # 除股票所属部门外，其余全为0"
   ]
  },
  {
   "cell_type": "code",
   "execution_count": 31,
   "metadata": {
    "ExecuteTime": {
     "end_time": "2018-06-05T12:56:28.394704Z",
     "start_time": "2018-06-05T12:56:28.387624Z"
    }
   },
   "outputs": [
    {
     "data": {
      "text/plain": [
       "array([0.        , 0.        , 0.        , 0.46411184, 0.        ,\n",
       "       0.        , 0.        , 0.        , 0.        , 0.        ,\n",
       "       0.        ])"
      ]
     },
     "execution_count": 31,
     "metadata": {},
     "output_type": "execute_result"
    }
   ],
   "source": [
    "beta"
   ]
  },
  {
   "cell_type": "code",
   "execution_count": 33,
   "metadata": {
    "ExecuteTime": {
     "end_time": "2018-06-05T13:04:51.435967Z",
     "start_time": "2018-06-05T13:04:51.426793Z"
    }
   },
   "outputs": [],
   "source": [
    "r = beta * f[-1] + err[-1] # 如果按材料说明，此处应为标量！即用部门因子预测结果+未解释部分残余。但结果为向量"
   ]
  },
  {
   "cell_type": "code",
   "execution_count": null,
   "metadata": {},
   "outputs": [],
   "source": [
    "def get_sector_beta_t(t):\n",
    "    pass"
   ]
  },
  {
   "cell_type": "code",
   "execution_count": null,
   "metadata": {},
   "outputs": [],
   "source": [
    "def get_epsilon_t(t):\n",
    "    pass"
   ]
  }
 ],
 "metadata": {
  "kernelspec": {
   "display_name": "zipline",
   "language": "python",
   "name": "zipline"
  },
  "language_info": {
   "codemirror_mode": {
    "name": "ipython",
    "version": 3
   },
   "file_extension": ".py",
   "mimetype": "text/x-python",
   "name": "python",
   "nbconvert_exporter": "python",
   "pygments_lexer": "ipython3",
   "version": "3.6.5"
  },
  "toc": {
   "base_numbering": 1,
   "nav_menu": {},
   "number_sections": true,
   "sideBar": true,
   "skip_h1_title": false,
   "title_cell": "Table of Contents",
   "title_sidebar": "Contents",
   "toc_cell": false,
   "toc_position": {
    "height": "calc(100% - 180px)",
    "left": "10px",
    "top": "150px",
    "width": "260px"
   },
   "toc_section_display": true,
   "toc_window_display": true
  }
 },
 "nbformat": 4,
 "nbformat_minor": 2
}
