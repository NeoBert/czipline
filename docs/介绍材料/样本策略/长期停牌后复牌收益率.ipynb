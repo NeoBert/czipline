{
 "cells": [
  {
   "cell_type": "code",
   "execution_count": 1,
   "metadata": {
    "ExecuteTime": {
     "end_time": "2018-05-02T14:01:38.061097Z",
     "start_time": "2018-05-02T14:01:35.682812Z"
    }
   },
   "outputs": [],
   "source": [
    "%matplotlib inline\n",
    "%load_ext zipline"
   ]
  },
  {
   "cell_type": "markdown",
   "metadata": {},
   "source": [
    "**注意**，使用`data.history`时，`price`会前向填充，但其他字段`(\"open\", \"high\", \"low\", \"close\", \"volume\")`则不会。"
   ]
  },
  {
   "cell_type": "code",
   "execution_count": 2,
   "metadata": {
    "ExecuteTime": {
     "end_time": "2018-05-02T14:01:39.211211Z",
     "start_time": "2018-05-02T14:01:38.064845Z"
    }
   },
   "outputs": [
    {
     "ename": "ValueError",
     "evalue": "SQLite file '/home/ldf/.zipline/data/cndaily/2018-05-02T14;00;03.669934/assets-6.sqlite' doesn't exist.",
     "output_type": "error",
     "traceback": [
      "\u001b[0;31m---------------------------------------------------------------------------\u001b[0m",
      "\u001b[0;31mValueError\u001b[0m                                Traceback (most recent call last)",
      "\u001b[0;32m<ipython-input-2-bbd22b9526d7>\u001b[0m in \u001b[0;36m<module>\u001b[0;34m()\u001b[0m\n\u001b[0;32m----> 1\u001b[0;31m \u001b[0mget_ipython\u001b[0m\u001b[0;34m(\u001b[0m\u001b[0;34m)\u001b[0m\u001b[0;34m.\u001b[0m\u001b[0mrun_cell_magic\u001b[0m\u001b[0;34m(\u001b[0m\u001b[0;34m'zipline'\u001b[0m\u001b[0;34m,\u001b[0m \u001b[0;34m'--start 2018-1-1 --end 2018-4-27'\u001b[0m\u001b[0;34m,\u001b[0m \u001b[0;34m'\\nfrom zipline import get_calendar\\nfrom logbook import Logger\\nfrom zipline.api import (symbols, time_rules, schedule_function, date_rules,\\n                         attach_pipeline, pipeline_output,\\n                         order_target_percent, get_datetime, calendars)\\nfrom zipline.pipeline import Pipeline\\nfrom zipline.pipeline.factors import DailyReturns, Returns\\nfrom zipline.pipeline.builtin import IsResumed, SuccessiveSuspensionDays\\n\\nimport datetime\\nimport pandas as pd\\nimport numpy as np\\n\\nlog = Logger(\\'回测\\')\\nday = get_calendar(\\'SZSH\\').day\\nMIN_DAYS = 30 # 最少连续停牌交易日数量\\n\\ndef make_pipeline():\\n\\n    return Pipeline(\\n        columns={\\n            \\'pct\\': DailyReturns(),\\n            \\'days\\': SuccessiveSuspensionDays(include=True)\\n        },\\n        screen=IsResumed())\\n\\n\\ndef initialize(context):\\n    # 保存复牌股票清单，主键为asset，值为复牌后的天数\\n    context.resumed_assets = {}\\n    context.output = None\\n    context.report = None\\n    my_pipe = make_pipeline()\\n    attach_pipeline(my_pipe, \\'my_pipeline\\')\\n    # 每天收盘后，处理报告\\n    schedule_function(\\n        handle_report,\\n        date_rules.every_day(),\\n        time_rules.market_close(minutes=1),\\n        calendar=calendars.US_EQUITIES)\\n\\n\\ndef handle_data(context, data):\\n    #print(context.resumed_assets)\\n    pass\\n\\n\\ndef update_roc(context, data, num):\\n    \"\"\"更新roc列数值\"\"\"\\n    # 找出复牌后num天的股票\\n    stocks = []\\n    for stock, days in context.resumed_assets.items():\\n        if days == num:\\n            stocks.append(stock)\\n    # 不存在符合条件的，返回即可\\n    if len(stocks) == 0:\\n        return\\n    # 要想获得完整数据，需要多加1个交易日\\n    history = data.history(\\n        stocks, fields=\"close\", bar_count=num + 1, frequency=\"1d\")\\n    # 取最后一行，转置为以股票作为index\\n    roc = history.pct_change(num).iloc[-1, :].T\\n    col_name = \\'afer_{}_days\\'.format(num)\\n    context.report.loc[roc.index, col_name] = roc.values\\n\\n\\ndef update_report(context, data, df):\\n    \"\"\"更新复牌后交易天数,整理报告\"\"\"\\n    # 添加新增复牌股票到上下文字典\\n    cond = df[\\'days\\'] >= MIN_DAYS\\n    gt_30_stocks = df[cond].index\\n    \\n    # 如不在字典中，添加并赋值天数为0\\n    for stock in gt_30_stocks:\\n        if stock not in context.resumed_assets.keys():\\n            context.resumed_assets[stock] = 0\\n\\n    # 更新字典中股票复牌后成交天数\\n    for stock in context.resumed_assets.keys():\\n        days = context.resumed_assets[stock] + 1\\n        context.resumed_assets[stock] = days\\n    \\n    to_add = df.loc[gt_30_stocks]\\n    # 如原始数据非空, 增加2列\\n    if not to_add.empty:\\n        to_add[\\'afer_5_days\\'] = np.nan\\n        to_add[\\'afer_10_days\\'] = np.nan\\n        # 添加停牌分析报告\\n        if context.report is None:\\n            # 如空，则直接赋值\\n            context.report = to_add\\n        else:\\n            # 如已有数据，行合并\\n            # 防止重复，只能添加新增加的股票，已经存在的无需添加\\n            # 这样，如果股票复牌后再次停牌，则只会统计前次停牌的数据，忽略后续停牌\\n            old_stocks = context.report.index\\n            new_add_stocks = to_add.index.difference(old_stocks)\\n            context.report = pd.concat([context.report, to_add.loc[new_add_stocks]], verify_integrity=True)\\n\\n    # 更新复牌5天股票收益率\\n    update_roc(context, data, 5)\\n    # 更新复牌10天股票收益率\\n    update_roc(context, data, 10)\\n\\n\\ndef handle_report(context, data):\\n    \"\"\"处理分析报告\"\"\"\\n    output = pipeline_output(\\'my_pipeline\\')\\n    d = get_datetime(\\'Asia/Shanghai\\')\\n    if output is not None:\\n        #log.info(\\'日期:{},复牌家数:{}\\'.format(d.date(), output.shape[0]))\\n        output[\\'begin_date\\'] = (d - day).date()\\n        update_report(context, data, output)\\n        # 重复保存，只需要最终结果\\n        context.report.to_pickle(\\'report.pkl\\')'\u001b[0m\u001b[0;34m)\u001b[0m\u001b[0;34m\u001b[0m\u001b[0m\n\u001b[0m",
      "\u001b[0;32m~/anaconda3/envs/zipline/lib/python3.6/site-packages/IPython/core/interactiveshell.py\u001b[0m in \u001b[0;36mrun_cell_magic\u001b[0;34m(self, magic_name, line, cell)\u001b[0m\n\u001b[1;32m   2165\u001b[0m             \u001b[0mmagic_arg_s\u001b[0m \u001b[0;34m=\u001b[0m \u001b[0mself\u001b[0m\u001b[0;34m.\u001b[0m\u001b[0mvar_expand\u001b[0m\u001b[0;34m(\u001b[0m\u001b[0mline\u001b[0m\u001b[0;34m,\u001b[0m \u001b[0mstack_depth\u001b[0m\u001b[0;34m)\u001b[0m\u001b[0;34m\u001b[0m\u001b[0m\n\u001b[1;32m   2166\u001b[0m             \u001b[0;32mwith\u001b[0m \u001b[0mself\u001b[0m\u001b[0;34m.\u001b[0m\u001b[0mbuiltin_trap\u001b[0m\u001b[0;34m:\u001b[0m\u001b[0;34m\u001b[0m\u001b[0m\n\u001b[0;32m-> 2167\u001b[0;31m                 \u001b[0mresult\u001b[0m \u001b[0;34m=\u001b[0m \u001b[0mfn\u001b[0m\u001b[0;34m(\u001b[0m\u001b[0mmagic_arg_s\u001b[0m\u001b[0;34m,\u001b[0m \u001b[0mcell\u001b[0m\u001b[0;34m)\u001b[0m\u001b[0;34m\u001b[0m\u001b[0m\n\u001b[0m\u001b[1;32m   2168\u001b[0m             \u001b[0;32mreturn\u001b[0m \u001b[0mresult\u001b[0m\u001b[0;34m\u001b[0m\u001b[0m\n\u001b[1;32m   2169\u001b[0m \u001b[0;34m\u001b[0m\u001b[0m\n",
      "\u001b[0;32m~/source/czipline/zipline/__main__.py\u001b[0m in \u001b[0;36mzipline_magic\u001b[0;34m(line, cell)\u001b[0m\n\u001b[1;32m    303\u001b[0m             \u001b[0;34m'%s%%zipline'\u001b[0m \u001b[0;34m%\u001b[0m \u001b[0;34m(\u001b[0m\u001b[0;34m(\u001b[0m\u001b[0mcell\u001b[0m \u001b[0;32mor\u001b[0m \u001b[0;34m''\u001b[0m\u001b[0;34m)\u001b[0m \u001b[0;32mand\u001b[0m \u001b[0;34m'%'\u001b[0m\u001b[0;34m)\u001b[0m\u001b[0;34m,\u001b[0m\u001b[0;34m\u001b[0m\u001b[0m\n\u001b[1;32m    304\u001b[0m             \u001b[0;31m# don't use system exit and propogate errors to the caller\u001b[0m\u001b[0;34m\u001b[0m\u001b[0;34m\u001b[0m\u001b[0m\n\u001b[0;32m--> 305\u001b[0;31m             \u001b[0mstandalone_mode\u001b[0m\u001b[0;34m=\u001b[0m\u001b[0;32mFalse\u001b[0m\u001b[0;34m,\u001b[0m\u001b[0;34m\u001b[0m\u001b[0m\n\u001b[0m\u001b[1;32m    306\u001b[0m         )\n\u001b[1;32m    307\u001b[0m     \u001b[0;32mexcept\u001b[0m \u001b[0mSystemExit\u001b[0m \u001b[0;32mas\u001b[0m \u001b[0me\u001b[0m\u001b[0;34m:\u001b[0m\u001b[0;34m\u001b[0m\u001b[0m\n",
      "\u001b[0;32m~/anaconda3/envs/zipline/lib/python3.6/site-packages/click-6.7-py3.6.egg/click/core.py\u001b[0m in \u001b[0;36mmain\u001b[0;34m(self, args, prog_name, complete_var, standalone_mode, **extra)\u001b[0m\n\u001b[1;32m    695\u001b[0m             \u001b[0;32mtry\u001b[0m\u001b[0;34m:\u001b[0m\u001b[0;34m\u001b[0m\u001b[0m\n\u001b[1;32m    696\u001b[0m                 \u001b[0;32mwith\u001b[0m \u001b[0mself\u001b[0m\u001b[0;34m.\u001b[0m\u001b[0mmake_context\u001b[0m\u001b[0;34m(\u001b[0m\u001b[0mprog_name\u001b[0m\u001b[0;34m,\u001b[0m \u001b[0margs\u001b[0m\u001b[0;34m,\u001b[0m \u001b[0;34m**\u001b[0m\u001b[0mextra\u001b[0m\u001b[0;34m)\u001b[0m \u001b[0;32mas\u001b[0m \u001b[0mctx\u001b[0m\u001b[0;34m:\u001b[0m\u001b[0;34m\u001b[0m\u001b[0m\n\u001b[0;32m--> 697\u001b[0;31m                     \u001b[0mrv\u001b[0m \u001b[0;34m=\u001b[0m \u001b[0mself\u001b[0m\u001b[0;34m.\u001b[0m\u001b[0minvoke\u001b[0m\u001b[0;34m(\u001b[0m\u001b[0mctx\u001b[0m\u001b[0;34m)\u001b[0m\u001b[0;34m\u001b[0m\u001b[0m\n\u001b[0m\u001b[1;32m    698\u001b[0m                     \u001b[0;32mif\u001b[0m \u001b[0;32mnot\u001b[0m \u001b[0mstandalone_mode\u001b[0m\u001b[0;34m:\u001b[0m\u001b[0;34m\u001b[0m\u001b[0m\n\u001b[1;32m    699\u001b[0m                         \u001b[0;32mreturn\u001b[0m \u001b[0mrv\u001b[0m\u001b[0;34m\u001b[0m\u001b[0m\n",
      "\u001b[0;32m~/anaconda3/envs/zipline/lib/python3.6/site-packages/click-6.7-py3.6.egg/click/core.py\u001b[0m in \u001b[0;36minvoke\u001b[0;34m(self, ctx)\u001b[0m\n\u001b[1;32m    893\u001b[0m         \"\"\"\n\u001b[1;32m    894\u001b[0m         \u001b[0;32mif\u001b[0m \u001b[0mself\u001b[0m\u001b[0;34m.\u001b[0m\u001b[0mcallback\u001b[0m \u001b[0;32mis\u001b[0m \u001b[0;32mnot\u001b[0m \u001b[0;32mNone\u001b[0m\u001b[0;34m:\u001b[0m\u001b[0;34m\u001b[0m\u001b[0m\n\u001b[0;32m--> 895\u001b[0;31m             \u001b[0;32mreturn\u001b[0m \u001b[0mctx\u001b[0m\u001b[0;34m.\u001b[0m\u001b[0minvoke\u001b[0m\u001b[0;34m(\u001b[0m\u001b[0mself\u001b[0m\u001b[0;34m.\u001b[0m\u001b[0mcallback\u001b[0m\u001b[0;34m,\u001b[0m \u001b[0;34m**\u001b[0m\u001b[0mctx\u001b[0m\u001b[0;34m.\u001b[0m\u001b[0mparams\u001b[0m\u001b[0;34m)\u001b[0m\u001b[0;34m\u001b[0m\u001b[0m\n\u001b[0m\u001b[1;32m    896\u001b[0m \u001b[0;34m\u001b[0m\u001b[0m\n\u001b[1;32m    897\u001b[0m \u001b[0;34m\u001b[0m\u001b[0m\n",
      "\u001b[0;32m~/anaconda3/envs/zipline/lib/python3.6/site-packages/click-6.7-py3.6.egg/click/core.py\u001b[0m in \u001b[0;36minvoke\u001b[0;34m(*args, **kwargs)\u001b[0m\n\u001b[1;32m    533\u001b[0m         \u001b[0;32mwith\u001b[0m \u001b[0maugment_usage_errors\u001b[0m\u001b[0;34m(\u001b[0m\u001b[0mself\u001b[0m\u001b[0;34m)\u001b[0m\u001b[0;34m:\u001b[0m\u001b[0;34m\u001b[0m\u001b[0m\n\u001b[1;32m    534\u001b[0m             \u001b[0;32mwith\u001b[0m \u001b[0mctx\u001b[0m\u001b[0;34m:\u001b[0m\u001b[0;34m\u001b[0m\u001b[0m\n\u001b[0;32m--> 535\u001b[0;31m                 \u001b[0;32mreturn\u001b[0m \u001b[0mcallback\u001b[0m\u001b[0;34m(\u001b[0m\u001b[0;34m*\u001b[0m\u001b[0margs\u001b[0m\u001b[0;34m,\u001b[0m \u001b[0;34m**\u001b[0m\u001b[0mkwargs\u001b[0m\u001b[0;34m)\u001b[0m\u001b[0;34m\u001b[0m\u001b[0m\n\u001b[0m\u001b[1;32m    536\u001b[0m \u001b[0;34m\u001b[0m\u001b[0m\n\u001b[1;32m    537\u001b[0m     \u001b[0;32mdef\u001b[0m \u001b[0mforward\u001b[0m\u001b[0;34m(\u001b[0m\u001b[0;34m*\u001b[0m\u001b[0margs\u001b[0m\u001b[0;34m,\u001b[0m \u001b[0;34m**\u001b[0m\u001b[0mkwargs\u001b[0m\u001b[0;34m)\u001b[0m\u001b[0;34m:\u001b[0m\u001b[0;34m\u001b[0m\u001b[0m\n",
      "\u001b[0;32m~/anaconda3/envs/zipline/lib/python3.6/site-packages/click-6.7-py3.6.egg/click/decorators.py\u001b[0m in \u001b[0;36mnew_func\u001b[0;34m(*args, **kwargs)\u001b[0m\n\u001b[1;32m     15\u001b[0m     \"\"\"\n\u001b[1;32m     16\u001b[0m     \u001b[0;32mdef\u001b[0m \u001b[0mnew_func\u001b[0m\u001b[0;34m(\u001b[0m\u001b[0;34m*\u001b[0m\u001b[0margs\u001b[0m\u001b[0;34m,\u001b[0m \u001b[0;34m**\u001b[0m\u001b[0mkwargs\u001b[0m\u001b[0;34m)\u001b[0m\u001b[0;34m:\u001b[0m\u001b[0;34m\u001b[0m\u001b[0m\n\u001b[0;32m---> 17\u001b[0;31m         \u001b[0;32mreturn\u001b[0m \u001b[0mf\u001b[0m\u001b[0;34m(\u001b[0m\u001b[0mget_current_context\u001b[0m\u001b[0;34m(\u001b[0m\u001b[0;34m)\u001b[0m\u001b[0;34m,\u001b[0m \u001b[0;34m*\u001b[0m\u001b[0margs\u001b[0m\u001b[0;34m,\u001b[0m \u001b[0;34m**\u001b[0m\u001b[0mkwargs\u001b[0m\u001b[0;34m)\u001b[0m\u001b[0;34m\u001b[0m\u001b[0m\n\u001b[0m\u001b[1;32m     18\u001b[0m     \u001b[0;32mreturn\u001b[0m \u001b[0mupdate_wrapper\u001b[0m\u001b[0;34m(\u001b[0m\u001b[0mnew_func\u001b[0m\u001b[0;34m,\u001b[0m \u001b[0mf\u001b[0m\u001b[0;34m)\u001b[0m\u001b[0;34m\u001b[0m\u001b[0m\n\u001b[1;32m     19\u001b[0m \u001b[0;34m\u001b[0m\u001b[0m\n",
      "\u001b[0;32m~/source/czipline/zipline/__main__.py\u001b[0m in \u001b[0;36mrun\u001b[0;34m(ctx, algofile, algotext, define, data_frequency, capital_base, bundle, bundle_timestamp, start, end, output, trading_calendar, print_algo, metrics_set, local_namespace, bm_symbol)\u001b[0m\n\u001b[1;32m    268\u001b[0m         \u001b[0mlocal_namespace\u001b[0m\u001b[0;34m=\u001b[0m\u001b[0mlocal_namespace\u001b[0m\u001b[0;34m,\u001b[0m\u001b[0;34m\u001b[0m\u001b[0m\n\u001b[1;32m    269\u001b[0m         \u001b[0menviron\u001b[0m\u001b[0;34m=\u001b[0m\u001b[0mos\u001b[0m\u001b[0;34m.\u001b[0m\u001b[0menviron\u001b[0m\u001b[0;34m,\u001b[0m\u001b[0;34m\u001b[0m\u001b[0m\n\u001b[0;32m--> 270\u001b[0;31m         \u001b[0mbm_symbol\u001b[0m\u001b[0;34m=\u001b[0m\u001b[0mbm_symbol\u001b[0m\u001b[0;34m,\u001b[0m\u001b[0;34m\u001b[0m\u001b[0m\n\u001b[0m\u001b[1;32m    271\u001b[0m     )\n\u001b[1;32m    272\u001b[0m \u001b[0;34m\u001b[0m\u001b[0m\n",
      "\u001b[0;32m~/source/czipline/zipline/utils/run_algo.py\u001b[0m in \u001b[0;36m_run\u001b[0;34m(handle_data, initialize, before_trading_start, analyze, algofile, algotext, defines, data_frequency, capital_base, data, bundle, bundle_timestamp, start, end, output, trading_calendar, print_algo, metrics_set, local_namespace, environ, bm_symbol)\u001b[0m\n\u001b[1;32m    140\u001b[0m             \u001b[0mbundle\u001b[0m\u001b[0;34m,\u001b[0m\u001b[0;34m\u001b[0m\u001b[0m\n\u001b[1;32m    141\u001b[0m             \u001b[0menviron\u001b[0m\u001b[0;34m,\u001b[0m\u001b[0;34m\u001b[0m\u001b[0m\n\u001b[0;32m--> 142\u001b[0;31m             \u001b[0mbundle_timestamp\u001b[0m\u001b[0;34m,\u001b[0m\u001b[0;34m\u001b[0m\u001b[0m\n\u001b[0m\u001b[1;32m    143\u001b[0m         )\n\u001b[1;32m    144\u001b[0m \u001b[0;34m\u001b[0m\u001b[0m\n",
      "\u001b[0;32m~/source/czipline/zipline/data/bundles/core.py\u001b[0m in \u001b[0;36mload\u001b[0;34m(name, environ, timestamp)\u001b[0m\n\u001b[1;32m    522\u001b[0m         return BundleData(\n\u001b[1;32m    523\u001b[0m             asset_finder=AssetFinder(\n\u001b[0;32m--> 524\u001b[0;31m                 \u001b[0masset_db_path\u001b[0m\u001b[0;34m(\u001b[0m\u001b[0mname\u001b[0m\u001b[0;34m,\u001b[0m \u001b[0mtimestr\u001b[0m\u001b[0;34m,\u001b[0m \u001b[0menviron\u001b[0m\u001b[0;34m=\u001b[0m\u001b[0menviron\u001b[0m\u001b[0;34m)\u001b[0m\u001b[0;34m,\u001b[0m\u001b[0;34m\u001b[0m\u001b[0m\n\u001b[0m\u001b[1;32m    525\u001b[0m             ),\n\u001b[1;32m    526\u001b[0m             equity_minute_bar_reader=BcolzMinuteBarReader(\n",
      "\u001b[0;32m~/source/czipline/zipline/assets/assets.py\u001b[0m in \u001b[0;36m__init__\u001b[0;34m(self, engine, future_chain_predicates)\u001b[0m\n\u001b[1;32m    269\u001b[0m     \u001b[0;34m@\u001b[0m\u001b[0mpreprocess\u001b[0m\u001b[0;34m(\u001b[0m\u001b[0mengine\u001b[0m\u001b[0;34m=\u001b[0m\u001b[0mcoerce_string_to_eng\u001b[0m\u001b[0;34m(\u001b[0m\u001b[0mrequire_exists\u001b[0m\u001b[0;34m=\u001b[0m\u001b[0;32mTrue\u001b[0m\u001b[0;34m)\u001b[0m\u001b[0;34m)\u001b[0m\u001b[0;34m\u001b[0m\u001b[0m\n\u001b[1;32m    270\u001b[0m     \u001b[0;32mdef\u001b[0m \u001b[0m__init__\u001b[0m\u001b[0;34m(\u001b[0m\u001b[0mself\u001b[0m\u001b[0;34m,\u001b[0m \u001b[0mengine\u001b[0m\u001b[0;34m,\u001b[0m \u001b[0mfuture_chain_predicates\u001b[0m\u001b[0;34m=\u001b[0m\u001b[0mCHAIN_PREDICATES\u001b[0m\u001b[0;34m)\u001b[0m\u001b[0;34m:\u001b[0m\u001b[0;34m\u001b[0m\u001b[0m\n\u001b[0;32m--> 271\u001b[0;31m         \u001b[0mself\u001b[0m\u001b[0;34m.\u001b[0m\u001b[0mengine\u001b[0m \u001b[0;34m=\u001b[0m \u001b[0mengine\u001b[0m\u001b[0;34m\u001b[0m\u001b[0m\n\u001b[0m\u001b[1;32m    272\u001b[0m         \u001b[0mmetadata\u001b[0m \u001b[0;34m=\u001b[0m \u001b[0msa\u001b[0m\u001b[0;34m.\u001b[0m\u001b[0mMetaData\u001b[0m\u001b[0;34m(\u001b[0m\u001b[0mbind\u001b[0m\u001b[0;34m=\u001b[0m\u001b[0mengine\u001b[0m\u001b[0;34m)\u001b[0m\u001b[0;34m\u001b[0m\u001b[0m\n\u001b[1;32m    273\u001b[0m         \u001b[0mmetadata\u001b[0m\u001b[0;34m.\u001b[0m\u001b[0mreflect\u001b[0m\u001b[0;34m(\u001b[0m\u001b[0monly\u001b[0m\u001b[0;34m=\u001b[0m\u001b[0masset_db_table_names\u001b[0m\u001b[0;34m)\u001b[0m\u001b[0;34m\u001b[0m\u001b[0m\n",
      "\u001b[0;32m~/source/czipline/zipline/utils/input_validation.py\u001b[0m in \u001b[0;36mpreprocessor\u001b[0;34m(func, argname, arg)\u001b[0m\n\u001b[1;32m    790\u001b[0m     \u001b[0;32mdef\u001b[0m \u001b[0mpreprocessor\u001b[0m\u001b[0;34m(\u001b[0m\u001b[0mfunc\u001b[0m\u001b[0;34m,\u001b[0m \u001b[0margname\u001b[0m\u001b[0;34m,\u001b[0m \u001b[0marg\u001b[0m\u001b[0;34m)\u001b[0m\u001b[0;34m:\u001b[0m\u001b[0;34m\u001b[0m\u001b[0m\n\u001b[1;32m    791\u001b[0m         \u001b[0;32mif\u001b[0m \u001b[0misinstance\u001b[0m\u001b[0;34m(\u001b[0m\u001b[0marg\u001b[0m\u001b[0;34m,\u001b[0m \u001b[0mfrom_\u001b[0m\u001b[0;34m)\u001b[0m\u001b[0;34m:\u001b[0m\u001b[0;34m\u001b[0m\u001b[0m\n\u001b[0;32m--> 792\u001b[0;31m             \u001b[0;32mreturn\u001b[0m \u001b[0mto\u001b[0m\u001b[0;34m(\u001b[0m\u001b[0marg\u001b[0m\u001b[0;34m,\u001b[0m \u001b[0;34m**\u001b[0m\u001b[0mto_kwargs\u001b[0m\u001b[0;34m)\u001b[0m\u001b[0;34m\u001b[0m\u001b[0m\n\u001b[0m\u001b[1;32m    793\u001b[0m         \u001b[0;32mreturn\u001b[0m \u001b[0marg\u001b[0m\u001b[0;34m\u001b[0m\u001b[0m\n\u001b[1;32m    794\u001b[0m     \u001b[0;32mreturn\u001b[0m \u001b[0mpreprocessor\u001b[0m\u001b[0;34m\u001b[0m\u001b[0m\n",
      "\u001b[0;32m~/source/czipline/zipline/utils/sqlite_utils.py\u001b[0m in \u001b[0;36mcheck_and_create_engine\u001b[0;34m(path, require_exists)\u001b[0m\n\u001b[1;32m     44\u001b[0m \u001b[0;32mdef\u001b[0m \u001b[0mcheck_and_create_engine\u001b[0m\u001b[0;34m(\u001b[0m\u001b[0mpath\u001b[0m\u001b[0;34m,\u001b[0m \u001b[0mrequire_exists\u001b[0m\u001b[0;34m)\u001b[0m\u001b[0;34m:\u001b[0m\u001b[0;34m\u001b[0m\u001b[0m\n\u001b[1;32m     45\u001b[0m     \u001b[0;32mif\u001b[0m \u001b[0mrequire_exists\u001b[0m\u001b[0;34m:\u001b[0m\u001b[0;34m\u001b[0m\u001b[0m\n\u001b[0;32m---> 46\u001b[0;31m         \u001b[0mverify_sqlite_path_exists\u001b[0m\u001b[0;34m(\u001b[0m\u001b[0mpath\u001b[0m\u001b[0;34m)\u001b[0m\u001b[0;34m\u001b[0m\u001b[0m\n\u001b[0m\u001b[1;32m     47\u001b[0m     \u001b[0;32mreturn\u001b[0m \u001b[0msa\u001b[0m\u001b[0;34m.\u001b[0m\u001b[0mcreate_engine\u001b[0m\u001b[0;34m(\u001b[0m\u001b[0;34m'sqlite:///'\u001b[0m \u001b[0;34m+\u001b[0m \u001b[0mpath\u001b[0m\u001b[0;34m)\u001b[0m\u001b[0;34m\u001b[0m\u001b[0m\n\u001b[1;32m     48\u001b[0m \u001b[0;34m\u001b[0m\u001b[0m\n",
      "\u001b[0;32m~/source/czipline/zipline/utils/sqlite_utils.py\u001b[0m in \u001b[0;36mverify_sqlite_path_exists\u001b[0;34m(path)\u001b[0m\n\u001b[1;32m     33\u001b[0m \u001b[0;32mdef\u001b[0m \u001b[0mverify_sqlite_path_exists\u001b[0m\u001b[0;34m(\u001b[0m\u001b[0mpath\u001b[0m\u001b[0;34m)\u001b[0m\u001b[0;34m:\u001b[0m\u001b[0;34m\u001b[0m\u001b[0m\n\u001b[1;32m     34\u001b[0m     \u001b[0;32mif\u001b[0m \u001b[0mpath\u001b[0m \u001b[0;34m!=\u001b[0m \u001b[0;34m':memory:'\u001b[0m \u001b[0;32mand\u001b[0m \u001b[0;32mnot\u001b[0m \u001b[0mos\u001b[0m\u001b[0;34m.\u001b[0m\u001b[0mpath\u001b[0m\u001b[0;34m.\u001b[0m\u001b[0mexists\u001b[0m\u001b[0;34m(\u001b[0m\u001b[0mpath\u001b[0m\u001b[0;34m)\u001b[0m\u001b[0;34m:\u001b[0m\u001b[0;34m\u001b[0m\u001b[0m\n\u001b[0;32m---> 35\u001b[0;31m         \u001b[0;32mraise\u001b[0m \u001b[0mValueError\u001b[0m\u001b[0;34m(\u001b[0m\u001b[0;34m\"SQLite file {!r} doesn't exist.\"\u001b[0m\u001b[0;34m.\u001b[0m\u001b[0mformat\u001b[0m\u001b[0;34m(\u001b[0m\u001b[0mpath\u001b[0m\u001b[0;34m)\u001b[0m\u001b[0;34m)\u001b[0m\u001b[0;34m\u001b[0m\u001b[0m\n\u001b[0m\u001b[1;32m     36\u001b[0m \u001b[0;34m\u001b[0m\u001b[0m\n\u001b[1;32m     37\u001b[0m \u001b[0;34m\u001b[0m\u001b[0m\n",
      "\u001b[0;31mValueError\u001b[0m: SQLite file '/home/ldf/.zipline/data/cndaily/2018-05-02T14;00;03.669934/assets-6.sqlite' doesn't exist."
     ]
    }
   ],
   "source": [
    "%%zipline --start 2018-1-1 --end 2018-4-27\n",
    "\n",
    "from zipline import get_calendar\n",
    "from logbook import Logger\n",
    "from zipline.api import (symbols, time_rules, schedule_function, date_rules,\n",
    "                         attach_pipeline, pipeline_output,\n",
    "                         order_target_percent, get_datetime, calendars)\n",
    "from zipline.pipeline import Pipeline\n",
    "from zipline.pipeline.factors import DailyReturns, Returns\n",
    "from zipline.pipeline.builtin import IsResumed, SuccessiveSuspensionDays\n",
    "\n",
    "import datetime\n",
    "import pandas as pd\n",
    "import numpy as np\n",
    "\n",
    "log = Logger('回测')\n",
    "day = get_calendar('SZSH').day\n",
    "MIN_DAYS = 30 # 最少连续停牌交易日数量\n",
    "\n",
    "def make_pipeline():\n",
    "\n",
    "    return Pipeline(\n",
    "        columns={\n",
    "            'pct': DailyReturns(),\n",
    "            'days': SuccessiveSuspensionDays(include=True)\n",
    "        },\n",
    "        screen=IsResumed())\n",
    "\n",
    "\n",
    "def initialize(context):\n",
    "    # 保存复牌股票清单，主键为asset，值为复牌后的天数\n",
    "    context.resumed_assets = {}\n",
    "    context.output = None\n",
    "    context.report = None\n",
    "    my_pipe = make_pipeline()\n",
    "    attach_pipeline(my_pipe, 'my_pipeline')\n",
    "    # 每天收盘后，处理报告\n",
    "    schedule_function(\n",
    "        handle_report,\n",
    "        date_rules.every_day(),\n",
    "        time_rules.market_close(minutes=1),\n",
    "        calendar=calendars.US_EQUITIES)\n",
    "\n",
    "\n",
    "def handle_data(context, data):\n",
    "    #print(context.resumed_assets)\n",
    "    pass\n",
    "\n",
    "\n",
    "def update_roc(context, data, num):\n",
    "    \"\"\"更新roc列数值\"\"\"\n",
    "    # 找出复牌后num天的股票\n",
    "    stocks = []\n",
    "    for stock, days in context.resumed_assets.items():\n",
    "        if days == num:\n",
    "            stocks.append(stock)\n",
    "    # 不存在符合条件的，返回即可\n",
    "    if len(stocks) == 0:\n",
    "        return\n",
    "    # 要想获得完整数据，需要多加1个交易日\n",
    "    history = data.history(\n",
    "        stocks, fields=\"close\", bar_count=num + 1, frequency=\"1d\")\n",
    "    # 取最后一行，转置为以股票作为index\n",
    "    roc = history.pct_change(num).iloc[-1, :].T\n",
    "    col_name = 'afer_{}_days'.format(num)\n",
    "    context.report.loc[roc.index, col_name] = roc.values\n",
    "\n",
    "\n",
    "def update_report(context, data, df):\n",
    "    \"\"\"更新复牌后交易天数,整理报告\"\"\"\n",
    "    # 添加新增复牌股票到上下文字典\n",
    "    cond = df['days'] >= MIN_DAYS\n",
    "    gt_30_stocks = df[cond].index\n",
    "    \n",
    "    # 如不在字典中，添加并赋值天数为0\n",
    "    for stock in gt_30_stocks:\n",
    "        if stock not in context.resumed_assets.keys():\n",
    "            context.resumed_assets[stock] = 0\n",
    "\n",
    "    # 更新字典中股票复牌后成交天数\n",
    "    for stock in context.resumed_assets.keys():\n",
    "        days = context.resumed_assets[stock] + 1\n",
    "        context.resumed_assets[stock] = days\n",
    "    \n",
    "    to_add = df.loc[gt_30_stocks]\n",
    "    # 如原始数据非空, 增加2列\n",
    "    if not to_add.empty:\n",
    "        to_add['afer_5_days'] = np.nan\n",
    "        to_add['afer_10_days'] = np.nan\n",
    "        # 添加停牌分析报告\n",
    "        if context.report is None:\n",
    "            # 如空，则直接赋值\n",
    "            context.report = to_add\n",
    "        else:\n",
    "            # 如已有数据，行合并\n",
    "            # 防止重复，只能添加新增加的股票，已经存在的无需添加\n",
    "            # 这样，如果股票复牌后再次停牌，则只会统计前次停牌的数据，忽略后续停牌\n",
    "            old_stocks = context.report.index\n",
    "            new_add_stocks = to_add.index.difference(old_stocks)\n",
    "            context.report = pd.concat([context.report, to_add.loc[new_add_stocks]], verify_integrity=True)\n",
    "\n",
    "    # 更新复牌5天股票收益率\n",
    "    update_roc(context, data, 5)\n",
    "    # 更新复牌10天股票收益率\n",
    "    update_roc(context, data, 10)\n",
    "\n",
    "\n",
    "def handle_report(context, data):\n",
    "    \"\"\"处理分析报告\"\"\"\n",
    "    output = pipeline_output('my_pipeline')\n",
    "    d = get_datetime('Asia/Shanghai')\n",
    "    if output is not None:\n",
    "        #log.info('日期:{},复牌家数:{}'.format(d.date(), output.shape[0]))\n",
    "        output['begin_date'] = (d - day).date()\n",
    "        update_report(context, data, output)\n",
    "        # 重复保存，只需要最终结果\n",
    "        context.report.to_pickle('report.pkl')"
   ]
  },
  {
   "cell_type": "code",
   "execution_count": null,
   "metadata": {
    "ExecuteTime": {
     "end_time": "2018-05-02T14:01:39.212663Z",
     "start_time": "2018-05-02T14:01:35.408Z"
    }
   },
   "outputs": [],
   "source": [
    "import pandas as pd"
   ]
  },
  {
   "cell_type": "code",
   "execution_count": null,
   "metadata": {
    "ExecuteTime": {
     "end_time": "2018-05-02T14:01:39.214958Z",
     "start_time": "2018-05-02T14:01:35.412Z"
    }
   },
   "outputs": [],
   "source": [
    "df = pd.read_pickle('report.pkl')"
   ]
  },
  {
   "cell_type": "code",
   "execution_count": null,
   "metadata": {
    "ExecuteTime": {
     "end_time": "2018-05-02T14:01:39.217353Z",
     "start_time": "2018-05-02T14:01:35.424Z"
    }
   },
   "outputs": [],
   "source": [
    "df.sort_values('begin_date')"
   ]
  },
  {
   "cell_type": "code",
   "execution_count": null,
   "metadata": {
    "ExecuteTime": {
     "end_time": "2018-05-02T14:01:39.221493Z",
     "start_time": "2018-05-02T14:01:35.438Z"
    }
   },
   "outputs": [],
   "source": [
    "df.plot(y='pct',kind='hist',figsize=(8,6))"
   ]
  },
  {
   "cell_type": "code",
   "execution_count": null,
   "metadata": {
    "ExecuteTime": {
     "end_time": "2018-05-02T14:01:39.226190Z",
     "start_time": "2018-05-02T14:01:35.444Z"
    }
   },
   "outputs": [],
   "source": [
    "df.plot(y='afer_5_days',kind='hist',figsize=(8,6))"
   ]
  },
  {
   "cell_type": "code",
   "execution_count": null,
   "metadata": {
    "ExecuteTime": {
     "end_time": "2018-05-02T14:01:39.229736Z",
     "start_time": "2018-05-02T14:01:35.452Z"
    }
   },
   "outputs": [],
   "source": [
    "df.plot(y='afer_10_days',kind='hist',figsize=(8,6))"
   ]
  }
 ],
 "metadata": {
  "kernelspec": {
   "display_name": "zipline",
   "language": "python",
   "name": "zipline"
  },
  "language_info": {
   "codemirror_mode": {
    "name": "ipython",
    "version": 3
   },
   "file_extension": ".py",
   "mimetype": "text/x-python",
   "name": "python",
   "nbconvert_exporter": "python",
   "pygments_lexer": "ipython3",
   "version": "3.6.5"
  },
  "toc": {
   "base_numbering": 1,
   "nav_menu": {},
   "number_sections": true,
   "sideBar": true,
   "skip_h1_title": false,
   "title_cell": "Table of Contents",
   "title_sidebar": "Contents",
   "toc_cell": false,
   "toc_position": {},
   "toc_section_display": true,
   "toc_window_display": false
  }
 },
 "nbformat": 4,
 "nbformat_minor": 2
}
