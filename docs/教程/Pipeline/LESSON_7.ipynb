{
 "cells": [
  {
   "cell_type": "markdown",
   "metadata": {},
   "source": [
    "## Masking"
   ]
  },
  {
   "cell_type": "markdown",
   "metadata": {},
   "source": [
    "有时我们想要在计算管道表达式时忽略某些资产。忽略资产有两种常见情况是有用的：\n",
    "1. 我们想计算一个计算成本很高的表达式，我们知道我们只关心某些资产的结果。这种昂贵的表达式的常见例子是计算回归系数的因子（`RollingLinearRegressionOfReturns`）。\n",
    "2. 我们想要计算一个表达式来执行资产之间的比较，但我们只希望针对所有资产的子集执行这些比较。例如，我们可能想使用因子的`top`方法来计算收益率最高的200个资产，忽略不符合某些流动性约束的资产。\n",
    "\n",
    "为了支持这两种用例，所有因子和许多因子方法都可以接受一个掩码参数，该参数必须是一个`Filter`，用于指示计算时要考虑的资产。"
   ]
  },
  {
   "cell_type": "markdown",
   "metadata": {},
   "source": [
    "## Masking Factors"
   ]
  },
  {
   "cell_type": "markdown",
   "metadata": {},
   "source": [
    "比方说，我们希望我们的管道能够输出具有高或低百分比差异的证券，但我们也只想考虑价值超过10,000,000美元的证券。为此，我们重新安排我们的`make_pipeline`函数，以便我们首先创建`high_dollar_volume`过滤器。然后，我们可以使用此过滤器作为移动平均因子的掩码，方法是将`high_dollar_volume`作为掩码参数传递给`SimpleMovingAverage`。"
   ]
  },
  {
   "cell_type": "code",
   "execution_count": 1,
   "metadata": {
    "ExecuteTime": {
     "end_time": "2018-04-24T17:59:57.152735Z",
     "start_time": "2018-04-24T17:59:54.344975Z"
    }
   },
   "outputs": [],
   "source": [
    "from zipline.pipeline.factors import AverageDollarVolume, SimpleMovingAverage\n",
    "from zipline.pipeline import Pipeline\n",
    "from zipline.pipeline.data import CNEquityPricing\n",
    "from zipline.research import run_pipeline"
   ]
  },
  {
   "cell_type": "code",
   "execution_count": 2,
   "metadata": {
    "ExecuteTime": {
     "end_time": "2018-04-24T17:59:57.169666Z",
     "start_time": "2018-04-24T17:59:57.155755Z"
    }
   },
   "outputs": [],
   "source": [
    "# Dollar volume factor\n",
    "dollar_volume = AverageDollarVolume(\n",
    "    window_length=30,\n",
    "    inputs=[CNEquityPricing.close, CNEquityPricing.volume])\n",
    "\n",
    "# High dollar volume filter\n",
    "high_dollar_volume = (dollar_volume > 10000000)\n",
    "\n",
    "# Average close price factors\n",
    "mean_close_10 = SimpleMovingAverage(\n",
    "    inputs=[CNEquityPricing.close],\n",
    "    window_length=10,\n",
    "    mask=high_dollar_volume\n",
    ")\n",
    "mean_close_30 = SimpleMovingAverage(\n",
    "    inputs=[CNEquityPricing.close],\n",
    "    window_length=30,\n",
    "    mask=high_dollar_volume\n",
    ")\n",
    "\n",
    "# Relative difference factor\n",
    "percent_difference = (mean_close_10 - mean_close_30) / mean_close_30"
   ]
  },
  {
   "cell_type": "markdown",
   "metadata": {},
   "source": [
    "将掩码应用于`SimpleMovingAverage`将平均收盘价格因子限制在通过`high_dollar_volume`过滤器的约2000只证券的计算上，而不是没有掩码的约8000只证券。当我们将`mean_close_10`和`mean_close_30`组合形成`percent_difference`时，计算在相同的约2000只证券上执行。"
   ]
  },
  {
   "cell_type": "markdown",
   "metadata": {},
   "source": [
    "## Masking Filters"
   ]
  },
  {
   "cell_type": "markdown",
   "metadata": {},
   "source": [
    "Masks也可以应用于返回过滤器的`top`，`bottom`和`percentile_between`之类方法上。"
   ]
  },
  {
   "cell_type": "markdown",
   "metadata": {},
   "source": [
    "当我们想要在组合计算的早期步骤中应用过滤时，Masks是最有用的。例如，假设我们想要获得最高开盘价的50种证券，这些证券也是美元数量的前10%。假设我们然后希望通过收盘价获得这些证券的90-100百分位数。我们可以通过以下方式做到这一点："
   ]
  },
  {
   "cell_type": "code",
   "execution_count": 3,
   "metadata": {
    "ExecuteTime": {
     "end_time": "2018-04-24T17:59:57.181504Z",
     "start_time": "2018-04-24T17:59:57.173007Z"
    }
   },
   "outputs": [],
   "source": [
    "# Dollar volume factor\n",
    "dollar_volume = AverageDollarVolume(\n",
    "    window_length=30,\n",
    "    inputs=[CNEquityPricing.close, CNEquityPricing.volume])\n",
    "\n",
    "# High dollar volume filter\n",
    "high_dollar_volume = dollar_volume.percentile_between(90,100)\n",
    "\n",
    "# Top open price filter (high dollar volume securities)\n",
    "top_open_price = CNEquityPricing.open.latest.top(50, mask=high_dollar_volume)\n",
    "\n",
    "# Top percentile close price filter (high dollar volume, top 50 open price)\n",
    "high_close_price = CNEquityPricing.close.latest.percentile_between(90, 100, mask=top_open_price)"
   ]
  },
  {
   "cell_type": "markdown",
   "metadata": {
    "ExecuteTime": {
     "end_time": "2018-04-24T17:59:57.191014Z",
     "start_time": "2018-04-24T17:59:57.185568Z"
    }
   },
   "source": [
    "我们把它放到`make_pipeline`中，并输出一个用我们的`high_close_price`筛选器筛选出的空管道。"
   ]
  },
  {
   "cell_type": "code",
   "execution_count": 5,
   "metadata": {
    "ExecuteTime": {
     "end_time": "2018-04-24T18:00:15.439931Z",
     "start_time": "2018-04-24T18:00:15.432540Z"
    }
   },
   "outputs": [],
   "source": [
    "def make_pipeline():\n",
    "\n",
    "    # Dollar volume factor\n",
    "    dollar_volume = AverageDollarVolume(\n",
    "        window_length=30,\n",
    "        inputs=[CNEquityPricing.close, CNEquityPricing.volume])\n",
    "\n",
    "    # High dollar volume filter\n",
    "    high_dollar_volume = dollar_volume.percentile_between(90, 100)\n",
    "\n",
    "    # Top open securities filter (high dollar volume securities)\n",
    "    top_open_price = CNEquityPricing.open.latest.top(\n",
    "        50, mask=high_dollar_volume)\n",
    "\n",
    "    # Top percentile close price filter (high dollar volume, top 50 open price)\n",
    "    high_close_price = CNEquityPricing.close.latest.percentile_between(\n",
    "        90, 100, mask=top_open_price)\n",
    "\n",
    "    return Pipeline(screen=high_close_price)"
   ]
  },
  {
   "cell_type": "markdown",
   "metadata": {},
   "source": [
    "运行这条管道，2015年5月5日产出约5个证券。"
   ]
  },
  {
   "cell_type": "code",
   "execution_count": 6,
   "metadata": {
    "ExecuteTime": {
     "end_time": "2018-04-24T18:00:21.749414Z",
     "start_time": "2018-04-24T18:00:20.227986Z"
    }
   },
   "outputs": [
    {
     "name": "stderr",
     "output_type": "stream",
     "text": [
      "/home/ldf/source/czipline/zipline/pipeline/filters/filter.py:380: RuntimeWarning: invalid value encountered in less_equal\n",
      "  return (lower_bounds <= data) & (data <= upper_bounds)\n"
     ]
    },
    {
     "name": "stdout",
     "output_type": "stream",
     "text": [
      "Number of securities that passed the filter: 5\n"
     ]
    }
   ],
   "source": [
    "result = run_pipeline(make_pipeline(), '2015-05-05', '2015-05-05')\n",
    "print('Number of securities that passed the filter: %d' % len(result))"
   ]
  },
  {
   "cell_type": "markdown",
   "metadata": {},
   "source": [
    "请注意，如上所述应用图层中的蒙版可以被认为是“资产漏斗”。"
   ]
  },
  {
   "cell_type": "markdown",
   "metadata": {},
   "source": [
    "在下一课中，我们将看看分类器。"
   ]
  }
 ],
 "metadata": {
  "kernelspec": {
   "display_name": "zipline",
   "language": "python",
   "name": "zipline"
  },
  "language_info": {
   "codemirror_mode": {
    "name": "ipython",
    "version": 3
   },
   "file_extension": ".py",
   "mimetype": "text/x-python",
   "name": "python",
   "nbconvert_exporter": "python",
   "pygments_lexer": "ipython3",
   "version": "3.6.5"
  }
 },
 "nbformat": 4,
 "nbformat_minor": 2
}
