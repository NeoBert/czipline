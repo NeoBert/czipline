{
 "cells": [
  {
   "cell_type": "markdown",
   "metadata": {},
   "source": [
    "## Factors"
   ]
  },
  {
   "cell_type": "code",
   "execution_count": 1,
   "metadata": {
    "ExecuteTime": {
     "end_time": "2018-04-24T14:07:05.364254Z",
     "start_time": "2018-04-24T14:07:03.799496Z"
    }
   },
   "outputs": [],
   "source": [
    "from zipline.pipeline.data import CNEquityPricing\n",
    "from zipline.pipeline.factors import SimpleMovingAverage"
   ]
  },
  {
   "cell_type": "markdown",
   "metadata": {},
   "source": [
    "## Creating a Factor"
   ]
  },
  {
   "cell_type": "code",
   "execution_count": 2,
   "metadata": {
    "ExecuteTime": {
     "end_time": "2018-04-24T14:07:05.374550Z",
     "start_time": "2018-04-24T14:07:05.368405Z"
    }
   },
   "outputs": [],
   "source": [
    "mean_close_10 = SimpleMovingAverage(\n",
    "    inputs=[CNEquityPricing.close],\n",
    "    window_length=10\n",
    ")"
   ]
  },
  {
   "cell_type": "markdown",
   "metadata": {},
   "source": [
    "## Adding a Factor to a Pipeline"
   ]
  },
  {
   "cell_type": "code",
   "execution_count": 3,
   "metadata": {
    "ExecuteTime": {
     "end_time": "2018-04-24T14:07:05.381761Z",
     "start_time": "2018-04-24T14:07:05.378632Z"
    }
   },
   "outputs": [],
   "source": [
    "from zipline.pipeline import Pipeline"
   ]
  },
  {
   "cell_type": "code",
   "execution_count": 4,
   "metadata": {
    "ExecuteTime": {
     "end_time": "2018-04-24T14:07:05.389773Z",
     "start_time": "2018-04-24T14:07:05.385901Z"
    }
   },
   "outputs": [],
   "source": [
    "def make_pipeline():\n",
    "\n",
    "    mean_close_10 = SimpleMovingAverage(\n",
    "        inputs=[CNEquityPricing.close], window_length=10)\n",
    "\n",
    "    return Pipeline(columns={'10_day_mean_close': mean_close_10})"
   ]
  },
  {
   "cell_type": "code",
   "execution_count": 5,
   "metadata": {
    "ExecuteTime": {
     "end_time": "2018-04-24T14:07:06.541855Z",
     "start_time": "2018-04-24T14:07:05.393158Z"
    }
   },
   "outputs": [],
   "source": [
    "from zipline.research import run_pipeline"
   ]
  },
  {
   "cell_type": "code",
   "execution_count": 6,
   "metadata": {
    "ExecuteTime": {
     "end_time": "2018-04-24T14:07:06.724440Z",
     "start_time": "2018-04-24T14:07:06.546649Z"
    }
   },
   "outputs": [
    {
     "data": {
      "text/html": [
       "<div>\n",
       "<style scoped>\n",
       "    .dataframe tbody tr th:only-of-type {\n",
       "        vertical-align: middle;\n",
       "    }\n",
       "\n",
       "    .dataframe tbody tr th {\n",
       "        vertical-align: top;\n",
       "    }\n",
       "\n",
       "    .dataframe thead th {\n",
       "        text-align: right;\n",
       "    }\n",
       "</style>\n",
       "<table border=\"1\" class=\"dataframe\">\n",
       "  <thead>\n",
       "    <tr style=\"text-align: right;\">\n",
       "      <th></th>\n",
       "      <th></th>\n",
       "      <th>10_day_mean_close</th>\n",
       "    </tr>\n",
       "  </thead>\n",
       "  <tbody>\n",
       "    <tr>\n",
       "      <th rowspan=\"5\" valign=\"top\">2018-04-10 00:00:00+00:00</th>\n",
       "      <th>平安银行(000001)</th>\n",
       "      <td>10.985</td>\n",
       "    </tr>\n",
       "    <tr>\n",
       "      <th>川化股份(000155)</th>\n",
       "      <td>6.868</td>\n",
       "    </tr>\n",
       "    <tr>\n",
       "      <th>美的集团(000333)</th>\n",
       "      <td>54.434</td>\n",
       "    </tr>\n",
       "    <tr>\n",
       "      <th>盐湖股份(000792)</th>\n",
       "      <td>12.969</td>\n",
       "    </tr>\n",
       "    <tr>\n",
       "      <th>精功科技(002006)</th>\n",
       "      <td>6.371</td>\n",
       "    </tr>\n",
       "  </tbody>\n",
       "</table>\n",
       "</div>"
      ],
      "text/plain": [
       "                                        10_day_mean_close\n",
       "2018-04-10 00:00:00+00:00 平安银行(000001)             10.985\n",
       "                          川化股份(000155)              6.868\n",
       "                          美的集团(000333)             54.434\n",
       "                          盐湖股份(000792)             12.969\n",
       "                          精功科技(002006)              6.371"
      ]
     },
     "execution_count": 6,
     "metadata": {},
     "output_type": "execute_result"
    }
   ],
   "source": [
    "result = run_pipeline(make_pipeline(), '2018-04-10', '2018-04-10')\n",
    "result.head()"
   ]
  },
  {
   "cell_type": "markdown",
   "metadata": {},
   "source": [
    "注意：也可以使用`Pipeline.add`方法将因子添加到现有的`Pipeline`实例中。使用添加看起来像这样："
   ]
  },
  {
   "cell_type": "raw",
   "metadata": {},
   "source": [
    ">>> my_pipe = Pipeline()\n",
    ">>> f1 = SomeFactor(...)\n",
    ">>> my_pipe.add(f1)"
   ]
  },
  {
   "cell_type": "markdown",
   "metadata": {},
   "source": [
    "## Latest"
   ]
  },
  {
   "cell_type": "code",
   "execution_count": 7,
   "metadata": {
    "ExecuteTime": {
     "end_time": "2018-04-24T14:07:06.734520Z",
     "start_time": "2018-04-24T14:07:06.727920Z"
    }
   },
   "outputs": [],
   "source": [
    "def make_pipeline():\n",
    "\n",
    "    mean_close_10 = SimpleMovingAverage(\n",
    "        inputs=[CNEquityPricing.close], window_length=10)\n",
    "    latest_close = CNEquityPricing.close.latest\n",
    "\n",
    "    return Pipeline(columns={\n",
    "        '10_day_mean_close': mean_close_10,\n",
    "        'latest_close_price': latest_close\n",
    "    })"
   ]
  },
  {
   "cell_type": "markdown",
   "metadata": {},
   "source": [
    "现在，当我们再次制作并运行我们的管线时，我们的输出数据框中有两列。 一列有每个证券的10日平均收盘价，另一列有最新收盘价。"
   ]
  },
  {
   "cell_type": "code",
   "execution_count": 8,
   "metadata": {
    "ExecuteTime": {
     "end_time": "2018-04-24T14:07:06.839747Z",
     "start_time": "2018-04-24T14:07:06.738106Z"
    }
   },
   "outputs": [
    {
     "data": {
      "text/html": [
       "<div>\n",
       "<style scoped>\n",
       "    .dataframe tbody tr th:only-of-type {\n",
       "        vertical-align: middle;\n",
       "    }\n",
       "\n",
       "    .dataframe tbody tr th {\n",
       "        vertical-align: top;\n",
       "    }\n",
       "\n",
       "    .dataframe thead th {\n",
       "        text-align: right;\n",
       "    }\n",
       "</style>\n",
       "<table border=\"1\" class=\"dataframe\">\n",
       "  <thead>\n",
       "    <tr style=\"text-align: right;\">\n",
       "      <th></th>\n",
       "      <th></th>\n",
       "      <th>10_day_mean_close</th>\n",
       "      <th>latest_close_price</th>\n",
       "    </tr>\n",
       "  </thead>\n",
       "  <tbody>\n",
       "    <tr>\n",
       "      <th rowspan=\"5\" valign=\"top\">2018-04-10 00:00:00+00:00</th>\n",
       "      <th>平安银行(000001)</th>\n",
       "      <td>10.985</td>\n",
       "      <td>10.87</td>\n",
       "    </tr>\n",
       "    <tr>\n",
       "      <th>川化股份(000155)</th>\n",
       "      <td>6.868</td>\n",
       "      <td>7.03</td>\n",
       "    </tr>\n",
       "    <tr>\n",
       "      <th>美的集团(000333)</th>\n",
       "      <td>54.434</td>\n",
       "      <td>53.01</td>\n",
       "    </tr>\n",
       "    <tr>\n",
       "      <th>盐湖股份(000792)</th>\n",
       "      <td>12.969</td>\n",
       "      <td>14.03</td>\n",
       "    </tr>\n",
       "    <tr>\n",
       "      <th>精功科技(002006)</th>\n",
       "      <td>6.371</td>\n",
       "      <td>6.48</td>\n",
       "    </tr>\n",
       "  </tbody>\n",
       "</table>\n",
       "</div>"
      ],
      "text/plain": [
       "                                        10_day_mean_close  latest_close_price\n",
       "2018-04-10 00:00:00+00:00 平安银行(000001)             10.985               10.87\n",
       "                          川化股份(000155)              6.868                7.03\n",
       "                          美的集团(000333)             54.434               53.01\n",
       "                          盐湖股份(000792)             12.969               14.03\n",
       "                          精功科技(002006)              6.371                6.48"
      ]
     },
     "execution_count": 8,
     "metadata": {},
     "output_type": "execute_result"
    }
   ],
   "source": [
    "result = run_pipeline(make_pipeline(), '2018-04-10', '2018-04-10')\n",
    "result.head()"
   ]
  },
  {
   "cell_type": "markdown",
   "metadata": {},
   "source": [
    "## Default Inputs"
   ]
  },
  {
   "cell_type": "markdown",
   "metadata": {},
   "source": [
    "一些因子具有不应改变的默认输入。例如，`VWAP`内置因子总是通过`USEquityPricing.close`和`USEquityPricing.volume`进行计算。当总是从相同的`BoundColumns`计算出因子时，我们可以在不指定输入的情况下调用构造函数。"
   ]
  },
  {
   "cell_type": "code",
   "execution_count": 9,
   "metadata": {
    "ExecuteTime": {
     "end_time": "2018-04-24T14:07:06.848489Z",
     "start_time": "2018-04-24T14:07:06.843689Z"
    }
   },
   "outputs": [],
   "source": [
    "from zipline.pipeline.factors import VWAP\n",
    "vwap = VWAP(inputs=[CNEquityPricing.close], window_length=10)"
   ]
  }
 ],
 "metadata": {
  "kernelspec": {
   "display_name": "zipline",
   "language": "python",
   "name": "zipline"
  },
  "language_info": {
   "codemirror_mode": {
    "name": "ipython",
    "version": 3
   },
   "file_extension": ".py",
   "mimetype": "text/x-python",
   "name": "python",
   "nbconvert_exporter": "python",
   "pygments_lexer": "ipython3",
   "version": "3.6.5"
  }
 },
 "nbformat": 4,
 "nbformat_minor": 2
}
