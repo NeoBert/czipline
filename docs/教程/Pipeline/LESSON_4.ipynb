{
 "cells": [
  {
   "cell_type": "markdown",
   "metadata": {},
   "source": [
    "## Combining Factors"
   ]
  },
  {
   "cell_type": "markdown",
   "metadata": {},
   "source": [
    "可以通过任何内置数学运算符(+,-,*等)，将因子与其他因子和标量值结合起来。这使得编写组合多个因子的复杂表达式变得很容易。例如，构建计算其他两个因子平均值的因子很简单："
   ]
  },
  {
   "cell_type": "raw",
   "metadata": {},
   "source": [
    ">>> f1 = SomeFactor(...)\n",
    ">>> f2 = SomeOtherFactor(...)\n",
    ">>> average = (f1 + f2) / 2.0"
   ]
  },
  {
   "cell_type": "markdown",
   "metadata": {},
   "source": [
    "在本课中，我们将创建一个管道，通过将10天平均价格因子与30天平均价格因子相结合来创建percent_difference因子。让我们开始生成这两个因子。"
   ]
  },
  {
   "cell_type": "code",
   "execution_count": 1,
   "metadata": {
    "ExecuteTime": {
     "end_time": "2018-04-24T14:17:23.972236Z",
     "start_time": "2018-04-24T14:17:22.434296Z"
    }
   },
   "outputs": [],
   "source": [
    "from zipline.pipeline.data import CNEquityPricing\n",
    "from zipline.pipeline.factors import SimpleMovingAverage"
   ]
  },
  {
   "cell_type": "code",
   "execution_count": 2,
   "metadata": {
    "ExecuteTime": {
     "end_time": "2018-04-24T14:17:23.982296Z",
     "start_time": "2018-04-24T14:17:23.974911Z"
    }
   },
   "outputs": [],
   "source": [
    "mean_close_10 = SimpleMovingAverage(\n",
    "    inputs=[CNEquityPricing.close],\n",
    "    window_length=10\n",
    ")\n",
    "mean_close_30 = SimpleMovingAverage(\n",
    "    inputs=[CNEquityPricing.close],\n",
    "    window_length=30\n",
    ")"
   ]
  },
  {
   "cell_type": "markdown",
   "metadata": {},
   "source": [
    "然后，通过将我们的mean_close_30因子与我们的mean_close_10因子相结合来创建百分比差异因子。"
   ]
  },
  {
   "cell_type": "code",
   "execution_count": 3,
   "metadata": {
    "ExecuteTime": {
     "end_time": "2018-04-24T14:17:23.991602Z",
     "start_time": "2018-04-24T14:17:23.985331Z"
    }
   },
   "outputs": [],
   "source": [
    "percent_difference = (mean_close_10 - mean_close_30) / mean_close_30"
   ]
  },
  {
   "cell_type": "markdown",
   "metadata": {},
   "source": [
    "在这个例子中，percent_difference仍然是一个因子，即使它是由更多的原始因子组合而成的。我们可以在我们的管道中添加percent_difference作为列。让我们定义make_pipeline来创建一个带有percent_difference的管道作为列（而不是平均收盘因子）："
   ]
  },
  {
   "cell_type": "code",
   "execution_count": 4,
   "metadata": {
    "ExecuteTime": {
     "end_time": "2018-04-24T14:17:25.134388Z",
     "start_time": "2018-04-24T14:17:23.994951Z"
    }
   },
   "outputs": [],
   "source": [
    "from zipline.pipeline import Pipeline\n",
    "\n",
    "from zipline.research import run_pipeline"
   ]
  },
  {
   "cell_type": "code",
   "execution_count": 5,
   "metadata": {
    "ExecuteTime": {
     "end_time": "2018-04-24T14:17:25.142335Z",
     "start_time": "2018-04-24T14:17:25.136459Z"
    }
   },
   "outputs": [],
   "source": [
    "def make_pipeline():\n",
    "\n",
    "    mean_close_10 = SimpleMovingAverage(\n",
    "        inputs=[CNEquityPricing.close], window_length=10)\n",
    "    mean_close_30 = SimpleMovingAverage(\n",
    "        inputs=[CNEquityPricing.close], window_length=30)\n",
    "\n",
    "    percent_difference = (mean_close_10 - mean_close_30) / mean_close_30\n",
    "\n",
    "    return Pipeline(columns={'percent_difference': percent_difference})"
   ]
  },
  {
   "cell_type": "code",
   "execution_count": 6,
   "metadata": {
    "ExecuteTime": {
     "end_time": "2018-04-24T14:17:25.995348Z",
     "start_time": "2018-04-24T14:17:25.145735Z"
    }
   },
   "outputs": [
    {
     "data": {
      "text/html": [
       "<div>\n",
       "<style scoped>\n",
       "    .dataframe tbody tr th:only-of-type {\n",
       "        vertical-align: middle;\n",
       "    }\n",
       "\n",
       "    .dataframe tbody tr th {\n",
       "        vertical-align: top;\n",
       "    }\n",
       "\n",
       "    .dataframe thead th {\n",
       "        text-align: right;\n",
       "    }\n",
       "</style>\n",
       "<table border=\"1\" class=\"dataframe\">\n",
       "  <thead>\n",
       "    <tr style=\"text-align: right;\">\n",
       "      <th></th>\n",
       "      <th></th>\n",
       "      <th>percent_difference</th>\n",
       "    </tr>\n",
       "  </thead>\n",
       "  <tbody>\n",
       "    <tr>\n",
       "      <th rowspan=\"5\" valign=\"top\">2018-04-10 00:00:00+00:00</th>\n",
       "      <th>平安银行(000001)</th>\n",
       "      <td>-0.060977</td>\n",
       "    </tr>\n",
       "    <tr>\n",
       "      <th>万 科Ａ(000002)</th>\n",
       "      <td>-0.012042</td>\n",
       "    </tr>\n",
       "    <tr>\n",
       "      <th>国农科技(000004)</th>\n",
       "      <td>0.039646</td>\n",
       "    </tr>\n",
       "    <tr>\n",
       "      <th>世纪星源(000005)</th>\n",
       "      <td>-0.025269</td>\n",
       "    </tr>\n",
       "    <tr>\n",
       "      <th>深振业Ａ(000006)</th>\n",
       "      <td>-0.137636</td>\n",
       "    </tr>\n",
       "  </tbody>\n",
       "</table>\n",
       "</div>"
      ],
      "text/plain": [
       "                                        percent_difference\n",
       "2018-04-10 00:00:00+00:00 平安银行(000001)           -0.060977\n",
       "                          万 科Ａ(000002)           -0.012042\n",
       "                          国农科技(000004)            0.039646\n",
       "                          世纪星源(000005)           -0.025269\n",
       "                          深振业Ａ(000006)           -0.137636"
      ]
     },
     "execution_count": 6,
     "metadata": {},
     "output_type": "execute_result"
    }
   ],
   "source": [
    "result = run_pipeline(make_pipeline(), '2018-04-10', '2018-04-10')\n",
    "result.head()"
   ]
  }
 ],
 "metadata": {
  "kernelspec": {
   "display_name": "zipline",
   "language": "python",
   "name": "zipline"
  },
  "language_info": {
   "codemirror_mode": {
    "name": "ipython",
    "version": 3
   },
   "file_extension": ".py",
   "mimetype": "text/x-python",
   "name": "python",
   "nbconvert_exporter": "python",
   "pygments_lexer": "ipython3",
   "version": "3.6.5"
  }
 },
 "nbformat": 4,
 "nbformat_minor": 2
}
