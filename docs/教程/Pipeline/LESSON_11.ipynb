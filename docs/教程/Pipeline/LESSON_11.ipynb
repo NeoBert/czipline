{
 "cells": [
  {
   "cell_type": "markdown",
   "metadata": {},
   "source": [
    "## Putting It All Together"
   ]
  },
  {
   "cell_type": "markdown",
   "metadata": {},
   "source": [
    "现在我们已经介绍了Pipeline API的基本组件，让我们构建一个我们可能想要在算法中使用的管道。\n",
    "首先，我们首先创建一个过滤器来缩小我们管道中出现的证券类型。 在这个例子中，我们将创建一个过滤器来选择符合以下标准的证券：\n",
    "+ 是主要的股票\n",
    "+ 被列为普通股\n",
    "+ 不是存托凭证（ADR / GDR）\n",
    "+ 不在场外交易（OTC）\n",
    "+ 不是 when-issued (WI) \n",
    "+ 没有名称表明它是有限合伙企业（LP）\n",
    "+ 不是ETF（有晨星基本面数据）"
   ]
  },
  {
   "cell_type": "markdown",
   "metadata": {},
   "source": [
    "### Why These Criteria?"
   ]
  },
  {
   "cell_type": "markdown",
   "metadata": {},
   "source": [
    "选择主要股票和普通股有助于我们为每家公司选择一种单一的证券。 一般来说，主要股份是公司的一个很好的代表资产，所以我们将在我们的管道中选择这些资产。\n",
    "\n",
    "ADR和GDR是美国股票市场上发行的在其他交易所交易的股票。 由于货币波动，存托凭证通常存在固有的风险，所以我们将其排除在我们的管道之外。\n",
    "OTC，WI和LP证券不能与大多数经纪商进行交易。 因此，我们将其排除在我们的管道之外。\n",
    "\n",
    "在对证券进行排名和比较时，将ETF与常规股票进行比较是很有意义的。 ETF是没有基本数据的复合材料。 他们从一大群证券中获得价值。 为了避免比较苹果和橙子，我们将它们排除在我们的管道之外。"
   ]
  },
  {
   "cell_type": "markdown",
   "metadata": {},
   "source": [
    "## Creating Our Pipeline"
   ]
  },
  {
   "cell_type": "markdown",
   "metadata": {},
   "source": [
    "我们为每个标准创建一个过滤器，并将它们组合在一起以创建一个tradeable_stocks过滤器。 首先，我们需要导入Morningstar DataSet以及IsPrimaryShare内置过滤器。"
   ]
  },
  {
   "cell_type": "raw",
   "metadata": {},
   "source": [
    "from quantopian.pipeline.data import Fundamentals\n",
    "from quantopian.pipeline.filters.fundamentals import IsPrimaryShare\n",
    "# Filter for primary share equities. IsPrimaryShare is a built-in filter.\n",
    "primary_share = IsPrimaryShare()\n",
    "\n",
    "# Equities listed as common stock (as opposed to, say, preferred stock).\n",
    "# 'ST00000001' indicates common stock.\n",
    "common_stock = Fundamentals.security_type.latest.eq('ST00000001')\n",
    "\n",
    "# Non-depositary receipts. Recall that the ~ operator inverts filters,\n",
    "# turning Trues into Falses and vice versa\n",
    "not_depositary = ~Fundamentals.is_depositary_receipt.latest\n",
    "\n",
    "# Equities not trading over-the-counter.\n",
    "not_otc = ~Fundamentals.exchange_id.latest.startswith('OTC')\n",
    "\n",
    "# Not when-issued equities.\n",
    "not_wi = ~Fundamentals.symbol.latest.endswith('.WI')\n",
    "\n",
    "# Equities without LP in their name, .matches does a match using a regular\n",
    "# expression\n",
    "not_lp_name = ~Fundamentals.standard_name.latest.matches('.* L[. ]?P.?$')\n",
    "\n",
    "# Equities whose most recent Morningstar market cap is not null have\n",
    "# fundamental data and therefore are not ETFs.\n",
    "have_market_cap = Fundamentals.market_cap.latest.notnull()\n",
    "\n",
    "# Filter for stocks that pass all of our previous filters.\n",
    "tradeable_stocks = (\n",
    "    primary_share\n",
    "    & common_stock\n",
    "    & not_depositary\n",
    "    & not_otc\n",
    "    & not_wi\n",
    "    & not_lp_name\n",
    "    & have_market_cap\n",
    ")"
   ]
  },
  {
   "cell_type": "markdown",
   "metadata": {},
   "source": [
    "请注意，在定义我们的过滤器时，我们使用了几个尚未见过的`Classifier`方法，包括`notnull`，`startswith`，`endswith`和`matches`。这些方法的文档可以在[这里](https://www.quantopian.com/help#quantopian_pipeline_classifiers_Classifier)找到。"
   ]
  },
  {
   "cell_type": "code",
   "execution_count": 1,
   "metadata": {
    "ExecuteTime": {
     "end_time": "2018-04-25T17:56:25.692427Z",
     "start_time": "2018-04-25T17:56:22.115976Z"
    }
   },
   "outputs": [],
   "source": [
    "from zipline.pipeline.fundamentals import Fundamentals\n",
    "from zipline.pipeline.data import USEquityPricing\n",
    "from zipline.pipeline.factors import AverageDollarVolume, SimpleMovingAverage\n",
    "from zipline.pipeline import Pipeline\n",
    "from zipline.research import run_pipeline"
   ]
  },
  {
   "cell_type": "code",
   "execution_count": 2,
   "metadata": {
    "ExecuteTime": {
     "end_time": "2018-04-25T17:56:27.191283Z",
     "start_time": "2018-04-25T17:56:25.695554Z"
    }
   },
   "outputs": [],
   "source": [
    "# 下列用处不大，主要是熟悉用法\n",
    "not_st = ~Fundamentals.short_name.latest.has_substring('ST')\n",
    "normal_stock = ~Fundamentals.treatment.latest.element_of(['new','ST','delisting'])\n",
    "have_market_cap = USEquityPricing.cmv.latest.notnull()\n",
    "tradeable_stocks = (\n",
    "    not_st\n",
    "    & normal_stock\n",
    "    & have_market_cap\n",
    ")"
   ]
  },
  {
   "cell_type": "markdown",
   "metadata": {},
   "source": [
    "接下来，让我们以20天的平均美元成交量为前30％的可交易股票创建一个过滤器。 我们将这称为我们的base_universe。"
   ]
  },
  {
   "cell_type": "code",
   "execution_count": 3,
   "metadata": {
    "ExecuteTime": {
     "end_time": "2018-04-25T17:56:27.198391Z",
     "start_time": "2018-04-25T17:56:27.194955Z"
    }
   },
   "outputs": [],
   "source": [
    "# 放大到60-100\n",
    "base_universe = AverageDollarVolume(window_length=20, mask=tradeable_stocks).percentile_between(60, 100)"
   ]
  },
  {
   "cell_type": "markdown",
   "metadata": {},
   "source": [
    "### Mean Reversion Factors"
   ]
  },
  {
   "cell_type": "markdown",
   "metadata": {},
   "source": [
    "现在我们有一个可用于选择证券子集的过滤器`base_universe`，让我们专注于为这个子集创建因子。对于这个例子，我们来创建一个平均反转策略的流水线。 这个策略中，我们将观察10天和30天移动平均线（收盘价）。我们计划在最小百分比差异的75个证券下达等权多头头寸，而百分比差异最大75个证券下达等权空头头寸。 为此，使用`base_universe`过滤器作为掩码创建两个移动平均因子。然后我们将它们组合成一个计算百分比差异的因子。"
   ]
  },
  {
   "cell_type": "code",
   "execution_count": 4,
   "metadata": {
    "ExecuteTime": {
     "end_time": "2018-04-25T17:56:27.208657Z",
     "start_time": "2018-04-25T17:56:27.200835Z"
    }
   },
   "outputs": [],
   "source": [
    "def make_pipeline():\n",
    "\n",
    "    # Base universe filter.\n",
    "    base_universe = AverageDollarVolume(window_length=20, mask=tradeable_stocks).percentile_between(60, 100)\n",
    "\n",
    "    # 10-day close price average.\n",
    "    mean_10 = SimpleMovingAverage(\n",
    "        inputs=[USEquityPricing.close], window_length=10, mask=base_universe)\n",
    "\n",
    "    # 30-day close price average.\n",
    "    mean_30 = SimpleMovingAverage(\n",
    "        inputs=[USEquityPricing.close], window_length=30, mask=base_universe)\n",
    "\n",
    "    # Percent difference factor.\n",
    "    percent_difference = (mean_10 - mean_30) / mean_30\n",
    "\n",
    "    # Create a filter to select securities to short.\n",
    "    shorts = percent_difference.top(75)\n",
    "\n",
    "    # Create a filter to select securities to long.\n",
    "    longs = percent_difference.bottom(75)\n",
    "\n",
    "    # Filter for the securities that we want to trade.\n",
    "    securities_to_trade = (shorts | longs)\n",
    "\n",
    "    return Pipeline(\n",
    "        columns={\n",
    "            'longs': longs,\n",
    "            'shorts': shorts\n",
    "        }, screen=securities_to_trade)"
   ]
  },
  {
   "cell_type": "markdown",
   "metadata": {},
   "source": [
    "运行此管道将导致包含2列的DataFrame。 每天，这些列将包含布尔值，我们可以使用这些值来决定是否要在每个证券中打开多头头寸或空头头寸。"
   ]
  },
  {
   "cell_type": "code",
   "execution_count": 5,
   "metadata": {
    "ExecuteTime": {
     "end_time": "2018-04-25T17:56:30.911109Z",
     "start_time": "2018-04-25T17:56:27.213255Z"
    }
   },
   "outputs": [
    {
     "name": "stderr",
     "output_type": "stream",
     "text": [
      "/home/ldf/source/czipline/zipline/pipeline/filters/filter.py:380: RuntimeWarning: invalid value encountered in less_equal\n",
      "  return (lower_bounds <= data) & (data <= upper_bounds)\n"
     ]
    },
    {
     "data": {
      "text/html": [
       "<div>\n",
       "<style scoped>\n",
       "    .dataframe tbody tr th:only-of-type {\n",
       "        vertical-align: middle;\n",
       "    }\n",
       "\n",
       "    .dataframe tbody tr th {\n",
       "        vertical-align: top;\n",
       "    }\n",
       "\n",
       "    .dataframe thead th {\n",
       "        text-align: right;\n",
       "    }\n",
       "</style>\n",
       "<table border=\"1\" class=\"dataframe\">\n",
       "  <thead>\n",
       "    <tr style=\"text-align: right;\">\n",
       "      <th></th>\n",
       "      <th></th>\n",
       "      <th>longs</th>\n",
       "      <th>shorts</th>\n",
       "    </tr>\n",
       "  </thead>\n",
       "  <tbody>\n",
       "    <tr>\n",
       "      <th rowspan=\"5\" valign=\"top\">2018-04-10 00:00:00+00:00</th>\n",
       "      <th>全新好(000007)</th>\n",
       "      <td>True</td>\n",
       "      <td>False</td>\n",
       "    </tr>\n",
       "    <tr>\n",
       "      <th>神州高铁(000008)</th>\n",
       "      <td>True</td>\n",
       "      <td>False</td>\n",
       "    </tr>\n",
       "    <tr>\n",
       "      <th>沙河股份(000014)</th>\n",
       "      <td>False</td>\n",
       "      <td>True</td>\n",
       "    </tr>\n",
       "    <tr>\n",
       "      <th>神州长城(000018)</th>\n",
       "      <td>False</td>\n",
       "      <td>True</td>\n",
       "    </tr>\n",
       "    <tr>\n",
       "      <th>特 力Ａ(000025)</th>\n",
       "      <td>True</td>\n",
       "      <td>False</td>\n",
       "    </tr>\n",
       "  </tbody>\n",
       "</table>\n",
       "</div>"
      ],
      "text/plain": [
       "                                        longs  shorts\n",
       "2018-04-10 00:00:00+00:00 全新好(000007)    True   False\n",
       "                          神州高铁(000008)   True   False\n",
       "                          沙河股份(000014)  False    True\n",
       "                          神州长城(000018)  False    True\n",
       "                          特 力Ａ(000025)   True   False"
      ]
     },
     "execution_count": 5,
     "metadata": {},
     "output_type": "execute_result"
    }
   ],
   "source": [
    "result = run_pipeline(make_pipeline(), '2018-04-05', '2018-04-15')\n",
    "result.head()"
   ]
  },
  {
   "cell_type": "markdown",
   "metadata": {},
   "source": [
    "在下一课中，我们将把这个管道添加到算法中。"
   ]
  }
 ],
 "metadata": {
  "kernelspec": {
   "display_name": "zipline",
   "language": "python",
   "name": "zipline"
  },
  "language_info": {
   "codemirror_mode": {
    "name": "ipython",
    "version": 3
   },
   "file_extension": ".py",
   "mimetype": "text/x-python",
   "name": "python",
   "nbconvert_exporter": "python",
   "pygments_lexer": "ipython3",
   "version": "3.6.5"
  }
 },
 "nbformat": 4,
 "nbformat_minor": 2
}
