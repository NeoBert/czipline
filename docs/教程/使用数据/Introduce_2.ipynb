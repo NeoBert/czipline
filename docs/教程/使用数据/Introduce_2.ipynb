{
 "cells": [
  {
   "cell_type": "markdown",
   "metadata": {},
   "source": [
    "# 财务数据"
   ]
  },
  {
   "cell_type": "markdown",
   "metadata": {},
   "source": [
    "**财务数据默认为报告期后45天为公布日期**"
   ]
  },
  {
   "cell_type": "code",
   "execution_count": 1,
   "metadata": {
    "ExecuteTime": {
     "end_time": "2018-04-25T14:36:51.973814Z",
     "start_time": "2018-04-25T14:36:48.979686Z"
    }
   },
   "outputs": [],
   "source": [
    "from zipline.pipeline.fundamentals import Fundamentals\n",
    "from zipline.research import run_pipeline\n",
    "from zipline.pipeline import Pipeline"
   ]
  },
  {
   "cell_type": "markdown",
   "metadata": {},
   "source": [
    "## 资产负债表"
   ]
  },
  {
   "cell_type": "markdown",
   "metadata": {},
   "source": [
    "### 科目含义"
   ]
  },
  {
   "cell_type": "code",
   "execution_count": 2,
   "metadata": {
    "ExecuteTime": {
     "end_time": "2018-04-25T14:36:51.999386Z",
     "start_time": "2018-04-25T14:36:51.976173Z"
    }
   },
   "outputs": [
    {
     "data": {
      "text/plain": [
       "'货币资金'"
      ]
     },
     "execution_count": 2,
     "metadata": {},
     "output_type": "execute_result"
    }
   ],
   "source": [
    "Fundamentals.balancesheet_col_name('A001')"
   ]
  },
  {
   "cell_type": "code",
   "execution_count": 3,
   "metadata": {
    "ExecuteTime": {
     "end_time": "2018-04-25T14:36:52.010029Z",
     "start_time": "2018-04-25T14:36:52.004758Z"
    }
   },
   "outputs": [
    {
     "data": {
      "text/plain": [
       "'负债和所有者权益或股东权益总计'"
      ]
     },
     "execution_count": 3,
     "metadata": {},
     "output_type": "execute_result"
    }
   ],
   "source": [
    "Fundamentals.balancesheet_col_name('A108')"
   ]
  },
  {
   "cell_type": "markdown",
   "metadata": {},
   "source": [
    "### 科目编码"
   ]
  },
  {
   "cell_type": "code",
   "execution_count": 4,
   "metadata": {
    "ExecuteTime": {
     "end_time": "2018-04-25T14:36:52.022049Z",
     "start_time": "2018-04-25T14:36:52.013412Z"
    }
   },
   "outputs": [
    {
     "data": {
      "text/plain": [
       "{'A028': '持有至到期投资',\n",
       " 'A030': '长期股权投资',\n",
       " 'A031': '其他长期投资',\n",
       " 'A032': '投资性房地产',\n",
       " 'A101': '未确定的投资损失'}"
      ]
     },
     "execution_count": 4,
     "metadata": {},
     "output_type": "execute_result"
    }
   ],
   "source": [
    "Fundamentals.query_balancesheet_code('投资')"
   ]
  },
  {
   "cell_type": "markdown",
   "metadata": {},
   "source": [
    "### 运行"
   ]
  },
  {
   "cell_type": "code",
   "execution_count": 5,
   "metadata": {
    "ExecuteTime": {
     "end_time": "2018-04-25T14:36:52.037726Z",
     "start_time": "2018-04-25T14:36:52.025638Z"
    }
   },
   "outputs": [],
   "source": [
    "def make_pipeline():\n",
    "\n",
    "    latest_fund = Fundamentals.balance_sheet.A001.latest\n",
    "    total_asset = Fundamentals.balance_sheet.A108.latest\n",
    "\n",
    "    return Pipeline(columns={\n",
    "        'latest_fund': latest_fund,\n",
    "        'total_asset': total_asset\n",
    "    })"
   ]
  },
  {
   "cell_type": "code",
   "execution_count": 6,
   "metadata": {
    "ExecuteTime": {
     "end_time": "2018-04-25T14:36:54.701780Z",
     "start_time": "2018-04-25T14:36:52.042248Z"
    }
   },
   "outputs": [
    {
     "data": {
      "text/html": [
       "<div>\n",
       "<style scoped>\n",
       "    .dataframe tbody tr th:only-of-type {\n",
       "        vertical-align: middle;\n",
       "    }\n",
       "\n",
       "    .dataframe tbody tr th {\n",
       "        vertical-align: top;\n",
       "    }\n",
       "\n",
       "    .dataframe thead th {\n",
       "        text-align: right;\n",
       "    }\n",
       "</style>\n",
       "<table border=\"1\" class=\"dataframe\">\n",
       "  <thead>\n",
       "    <tr style=\"text-align: right;\">\n",
       "      <th></th>\n",
       "      <th></th>\n",
       "      <th>latest_fund</th>\n",
       "      <th>total_asset</th>\n",
       "    </tr>\n",
       "  </thead>\n",
       "  <tbody>\n",
       "    <tr>\n",
       "      <th rowspan=\"5\" valign=\"top\">2017-12-29 00:00:00+00:00</th>\n",
       "      <th>平安银行(000001)</th>\n",
       "      <td>27970600.0</td>\n",
       "      <td>313748100.0</td>\n",
       "    </tr>\n",
       "    <tr>\n",
       "      <th>万 科Ａ(000002)</th>\n",
       "      <td>9435263.0</td>\n",
       "      <td>101838199.0</td>\n",
       "    </tr>\n",
       "    <tr>\n",
       "      <th>国农科技(000004)</th>\n",
       "      <td>11831.0</td>\n",
       "      <td>24121.0</td>\n",
       "    </tr>\n",
       "    <tr>\n",
       "      <th>世纪星源(000005)</th>\n",
       "      <td>5850.0</td>\n",
       "      <td>279287.0</td>\n",
       "    </tr>\n",
       "    <tr>\n",
       "      <th>深振业Ａ(000006)</th>\n",
       "      <td>387660.0</td>\n",
       "      <td>1322269.0</td>\n",
       "    </tr>\n",
       "  </tbody>\n",
       "</table>\n",
       "</div>"
      ],
      "text/plain": [
       "                                        latest_fund  total_asset\n",
       "2017-12-29 00:00:00+00:00 平安银行(000001)   27970600.0  313748100.0\n",
       "                          万 科Ａ(000002)    9435263.0  101838199.0\n",
       "                          国农科技(000004)      11831.0      24121.0\n",
       "                          世纪星源(000005)       5850.0     279287.0\n",
       "                          深振业Ａ(000006)     387660.0    1322269.0"
      ]
     },
     "execution_count": 6,
     "metadata": {},
     "output_type": "execute_result"
    }
   ],
   "source": [
    "# 此时返回2017年三季度数据\n",
    "result = run_pipeline(make_pipeline(), '2017-12-29', '2017-12-31')\n",
    "result.head()"
   ]
  },
  {
   "cell_type": "code",
   "execution_count": 7,
   "metadata": {
    "ExecuteTime": {
     "end_time": "2018-04-25T14:36:55.488359Z",
     "start_time": "2018-04-25T14:36:54.705066Z"
    }
   },
   "outputs": [
    {
     "data": {
      "text/html": [
       "<div>\n",
       "<style scoped>\n",
       "    .dataframe tbody tr th:only-of-type {\n",
       "        vertical-align: middle;\n",
       "    }\n",
       "\n",
       "    .dataframe tbody tr th {\n",
       "        vertical-align: top;\n",
       "    }\n",
       "\n",
       "    .dataframe thead th {\n",
       "        text-align: right;\n",
       "    }\n",
       "</style>\n",
       "<table border=\"1\" class=\"dataframe\">\n",
       "  <thead>\n",
       "    <tr style=\"text-align: right;\">\n",
       "      <th></th>\n",
       "      <th></th>\n",
       "      <th>latest_fund</th>\n",
       "      <th>total_asset</th>\n",
       "    </tr>\n",
       "  </thead>\n",
       "  <tbody>\n",
       "    <tr>\n",
       "      <th rowspan=\"5\" valign=\"top\">2018-02-22 00:00:00+00:00</th>\n",
       "      <th>平安银行(000001)</th>\n",
       "      <td>31021200.0</td>\n",
       "      <td>324847400.0</td>\n",
       "    </tr>\n",
       "    <tr>\n",
       "      <th>万 科Ａ(000002)</th>\n",
       "      <td>17412101.0</td>\n",
       "      <td>116534692.0</td>\n",
       "    </tr>\n",
       "    <tr>\n",
       "      <th>国农科技(000004)</th>\n",
       "      <td>11831.0</td>\n",
       "      <td>24121.0</td>\n",
       "    </tr>\n",
       "    <tr>\n",
       "      <th>世纪星源(000005)</th>\n",
       "      <td>5850.0</td>\n",
       "      <td>279287.0</td>\n",
       "    </tr>\n",
       "    <tr>\n",
       "      <th>深振业Ａ(000006)</th>\n",
       "      <td>302413.0</td>\n",
       "      <td>1313993.0</td>\n",
       "    </tr>\n",
       "  </tbody>\n",
       "</table>\n",
       "</div>"
      ],
      "text/plain": [
       "                                        latest_fund  total_asset\n",
       "2018-02-22 00:00:00+00:00 平安银行(000001)   31021200.0  324847400.0\n",
       "                          万 科Ａ(000002)   17412101.0  116534692.0\n",
       "                          国农科技(000004)      11831.0      24121.0\n",
       "                          世纪星源(000005)       5850.0     279287.0\n",
       "                          深振业Ａ(000006)     302413.0    1313993.0"
      ]
     },
     "execution_count": 7,
     "metadata": {},
     "output_type": "execute_result"
    }
   ],
   "source": [
    "# 此时返回2017年年度数据\n",
    "result = run_pipeline(make_pipeline(), '2018-2-15', '2018-3-30')\n",
    "result.head()"
   ]
  },
  {
   "cell_type": "markdown",
   "metadata": {},
   "source": [
    "## 利润表"
   ]
  },
  {
   "cell_type": "code",
   "execution_count": 8,
   "metadata": {
    "ExecuteTime": {
     "end_time": "2018-04-25T14:36:55.497818Z",
     "start_time": "2018-04-25T14:36:55.491952Z"
    }
   },
   "outputs": [
    {
     "data": {
      "text/plain": [
       "'营业总收入'"
      ]
     },
     "execution_count": 8,
     "metadata": {},
     "output_type": "execute_result"
    }
   ],
   "source": [
    "Fundamentals.profit_col_name('A001')"
   ]
  },
  {
   "cell_type": "code",
   "execution_count": 9,
   "metadata": {
    "ExecuteTime": {
     "end_time": "2018-04-25T14:36:55.507680Z",
     "start_time": "2018-04-25T14:36:55.501837Z"
    }
   },
   "outputs": [
    {
     "data": {
      "text/plain": [
       "{'A044': '基本每股收益', 'A045': '稀释每股收益'}"
      ]
     },
     "execution_count": 9,
     "metadata": {},
     "output_type": "execute_result"
    }
   ],
   "source": [
    "Fundamentals.query_profit_code('每股')"
   ]
  },
  {
   "cell_type": "code",
   "execution_count": 10,
   "metadata": {
    "ExecuteTime": {
     "end_time": "2018-04-25T14:36:55.516833Z",
     "start_time": "2018-04-25T14:36:55.511532Z"
    }
   },
   "outputs": [],
   "source": [
    "def make_pipeline():\n",
    "\n",
    "    eps = Fundamentals.profit_statement.A044.latest\n",
    "    income = Fundamentals.balance_sheet.A001.latest\n",
    "\n",
    "    return Pipeline(columns={\n",
    "        '基本每股收益': eps,\n",
    "        '营业总收入': income\n",
    "    })"
   ]
  },
  {
   "cell_type": "code",
   "execution_count": 11,
   "metadata": {
    "ExecuteTime": {
     "end_time": "2018-04-25T14:36:56.949841Z",
     "start_time": "2018-04-25T14:36:55.520868Z"
    }
   },
   "outputs": [
    {
     "data": {
      "text/html": [
       "<div>\n",
       "<style scoped>\n",
       "    .dataframe tbody tr th:only-of-type {\n",
       "        vertical-align: middle;\n",
       "    }\n",
       "\n",
       "    .dataframe tbody tr th {\n",
       "        vertical-align: top;\n",
       "    }\n",
       "\n",
       "    .dataframe thead th {\n",
       "        text-align: right;\n",
       "    }\n",
       "</style>\n",
       "<table border=\"1\" class=\"dataframe\">\n",
       "  <thead>\n",
       "    <tr style=\"text-align: right;\">\n",
       "      <th></th>\n",
       "      <th></th>\n",
       "      <th>基本每股收益</th>\n",
       "      <th>营业总收入</th>\n",
       "    </tr>\n",
       "  </thead>\n",
       "  <tbody>\n",
       "    <tr>\n",
       "      <th rowspan=\"5\" valign=\"top\">2016-04-11 00:00:00+00:00</th>\n",
       "      <th>平安银行(000001)</th>\n",
       "      <td>1.56</td>\n",
       "      <td>29171500.0</td>\n",
       "    </tr>\n",
       "    <tr>\n",
       "      <th>万 科Ａ(000002)</th>\n",
       "      <td>1.64</td>\n",
       "      <td>5318038.0</td>\n",
       "    </tr>\n",
       "    <tr>\n",
       "      <th>国农科技(000004)</th>\n",
       "      <td>0.01</td>\n",
       "      <td>5152.0</td>\n",
       "    </tr>\n",
       "    <tr>\n",
       "      <th>世纪星源(000005)</th>\n",
       "      <td>-0.06</td>\n",
       "      <td>16299.0</td>\n",
       "    </tr>\n",
       "    <tr>\n",
       "      <th>深振业Ａ(000006)</th>\n",
       "      <td>0.31</td>\n",
       "      <td>177870.0</td>\n",
       "    </tr>\n",
       "  </tbody>\n",
       "</table>\n",
       "</div>"
      ],
      "text/plain": [
       "                                        基本每股收益       营业总收入\n",
       "2016-04-11 00:00:00+00:00 平安银行(000001)    1.56  29171500.0\n",
       "                          万 科Ａ(000002)    1.64   5318038.0\n",
       "                          国农科技(000004)    0.01      5152.0\n",
       "                          世纪星源(000005)   -0.06     16299.0\n",
       "                          深振业Ａ(000006)    0.31    177870.0"
      ]
     },
     "execution_count": 11,
     "metadata": {},
     "output_type": "execute_result"
    }
   ],
   "source": [
    "result = run_pipeline(make_pipeline(), '2016-04-10', '2018-04-10')\n",
    "result.head()"
   ]
  },
  {
   "cell_type": "code",
   "execution_count": null,
   "metadata": {},
   "outputs": [],
   "source": []
  }
 ],
 "metadata": {
  "kernelspec": {
   "display_name": "zipline",
   "language": "python",
   "name": "zipline"
  },
  "language_info": {
   "codemirror_mode": {
    "name": "ipython",
    "version": 3
   },
   "file_extension": ".py",
   "mimetype": "text/x-python",
   "name": "python",
   "nbconvert_exporter": "python",
   "pygments_lexer": "ipython3",
   "version": "3.6.5"
  }
 },
 "nbformat": 4,
 "nbformat_minor": 2
}
