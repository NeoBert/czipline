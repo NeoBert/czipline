{
 "cells": [
  {
   "cell_type": "markdown",
   "metadata": {},
   "source": [
    "## 季度调整"
   ]
  },
  {
   "cell_type": "code",
   "execution_count": 1,
   "metadata": {
    "ExecuteTime": {
     "end_time": "2018-04-28T05:02:48.979279Z",
     "start_time": "2018-04-28T05:02:48.658682Z"
    }
   },
   "outputs": [],
   "source": [
    "import pandas as pd"
   ]
  },
  {
   "cell_type": "code",
   "execution_count": 2,
   "metadata": {
    "ExecuteTime": {
     "end_time": "2018-04-28T05:02:51.019925Z",
     "start_time": "2018-04-28T05:02:48.982721Z"
    }
   },
   "outputs": [],
   "source": [
    "from zipline.pipeline.builtin import quarterly_multiplier, changed_locations"
   ]
  },
  {
   "cell_type": "code",
   "execution_count": 3,
   "metadata": {
    "ExecuteTime": {
     "end_time": "2018-04-28T05:02:51.026906Z",
     "start_time": "2018-04-28T05:02:51.023274Z"
    }
   },
   "outputs": [],
   "source": [
    "from pandas.tseries.offsets import QuarterEnd"
   ]
  },
  {
   "cell_type": "code",
   "execution_count": 4,
   "metadata": {
    "ExecuteTime": {
     "end_time": "2018-04-28T05:02:51.041580Z",
     "start_time": "2018-04-28T05:02:51.030298Z"
    }
   },
   "outputs": [],
   "source": [
    "dates = pd.date_range('2016-4-2','2018-5-2')"
   ]
  },
  {
   "cell_type": "code",
   "execution_count": 5,
   "metadata": {
    "ExecuteTime": {
     "end_time": "2018-04-28T05:02:51.048801Z",
     "start_time": "2018-04-28T05:02:51.045123Z"
    }
   },
   "outputs": [],
   "source": [
    "qe = QuarterEnd()"
   ]
  },
  {
   "cell_type": "code",
   "execution_count": 6,
   "metadata": {
    "ExecuteTime": {
     "end_time": "2018-04-28T05:02:51.101567Z",
     "start_time": "2018-04-28T05:02:51.051858Z"
    }
   },
   "outputs": [],
   "source": [
    "q_dates = pd.DatetimeIndex([qe.apply(x) for x in dates])"
   ]
  },
  {
   "cell_type": "code",
   "execution_count": 10,
   "metadata": {
    "ExecuteTime": {
     "end_time": "2018-04-28T05:03:53.984794Z",
     "start_time": "2018-04-28T05:03:53.980708Z"
    }
   },
   "outputs": [],
   "source": [
    "# 选取季度数子发生变化的最近四个季度\n",
    "locs = changed_locations(q_dates, include_first=True)[-4:]"
   ]
  },
  {
   "cell_type": "markdown",
   "metadata": {},
   "source": [
    "**说明**\n",
    "+ 利润表为时期数，各科目为截止报告日期的累计数，以最近四个季度预测全年，简单方法是先将各季度数字转换为年度数，即原始数据乘以乘数，然后四个季度简单平均\n",
    "+ 一季度乘数为4,2季度为2,三季度为4/3,四季度为1\n",
    "+ 数据单位由万元调整到元"
   ]
  },
  {
   "cell_type": "markdown",
   "metadata": {},
   "source": [
    "## `TTMSales` 尾部12个月营业总收入"
   ]
  },
  {
   "cell_type": "code",
   "execution_count": 15,
   "metadata": {
    "ExecuteTime": {
     "end_time": "2018-04-28T05:16:40.853949Z",
     "start_time": "2018-04-28T05:16:40.281316Z"
    }
   },
   "outputs": [],
   "source": [
    "from zipline.research import run_pipeline, select_output_by\n",
    "from zipline.pipeline import Pipeline"
   ]
  },
  {
   "cell_type": "code",
   "execution_count": 14,
   "metadata": {
    "ExecuteTime": {
     "end_time": "2018-04-28T05:16:20.431787Z",
     "start_time": "2018-04-28T05:16:20.421623Z"
    }
   },
   "outputs": [],
   "source": [
    "from zipline.pipeline.builtin import TTMSales"
   ]
  },
  {
   "cell_type": "code",
   "execution_count": 16,
   "metadata": {
    "ExecuteTime": {
     "end_time": "2018-04-28T05:17:12.027520Z",
     "start_time": "2018-04-28T05:17:12.021955Z"
    }
   },
   "outputs": [],
   "source": [
    "def make_pipeline():\n",
    "    ts = TTMSales()\n",
    "    return Pipeline(\n",
    "        columns={\n",
    "            'TTM总收入':ts\n",
    "        }, \n",
    "    )"
   ]
  },
  {
   "cell_type": "code",
   "execution_count": 17,
   "metadata": {
    "ExecuteTime": {
     "end_time": "2018-04-28T05:17:25.256204Z",
     "start_time": "2018-04-28T05:17:21.767883Z"
    }
   },
   "outputs": [],
   "source": [
    "result = run_pipeline(make_pipeline(), '2018-2-23', '2018-2-24')"
   ]
  },
  {
   "cell_type": "code",
   "execution_count": 18,
   "metadata": {
    "ExecuteTime": {
     "end_time": "2018-04-28T05:17:31.693430Z",
     "start_time": "2018-04-28T05:17:31.670227Z"
    }
   },
   "outputs": [
    {
     "data": {
      "text/html": [
       "<div>\n",
       "<style scoped>\n",
       "    .dataframe tbody tr th:only-of-type {\n",
       "        vertical-align: middle;\n",
       "    }\n",
       "\n",
       "    .dataframe tbody tr th {\n",
       "        vertical-align: top;\n",
       "    }\n",
       "\n",
       "    .dataframe thead th {\n",
       "        text-align: right;\n",
       "    }\n",
       "</style>\n",
       "<table border=\"1\" class=\"dataframe\">\n",
       "  <thead>\n",
       "    <tr style=\"text-align: right;\">\n",
       "      <th></th>\n",
       "      <th></th>\n",
       "      <th>TTM总收入</th>\n",
       "    </tr>\n",
       "  </thead>\n",
       "  <tbody>\n",
       "    <tr>\n",
       "      <th>2018-02-23 00:00:00+00:00</th>\n",
       "      <th>中源协和(600645)</th>\n",
       "      <td>8.389142e+08</td>\n",
       "    </tr>\n",
       "  </tbody>\n",
       "</table>\n",
       "</div>"
      ],
      "text/plain": [
       "                                              TTM总收入\n",
       "2018-02-23 00:00:00+00:00 中源协和(600645)  8.389142e+08"
      ]
     },
     "execution_count": 18,
     "metadata": {},
     "output_type": "execute_result"
    }
   ],
   "source": [
    "select_output_by(result,stock_codes=['600645'])"
   ]
  },
  {
   "cell_type": "code",
   "execution_count": 19,
   "metadata": {
    "ExecuteTime": {
     "end_time": "2018-04-28T05:18:56.176576Z",
     "start_time": "2018-04-28T05:18:56.172049Z"
    }
   },
   "outputs": [],
   "source": [
    "pred = 8.389142e+08\n",
    "actu = 87091 * 10000\n",
    "diff = pred / actu - 1\n",
    "\n",
    "print('预测与实际差异率={}%'.format(round(diff * 100,2)))"
   ]
  },
  {
   "cell_type": "code",
   "execution_count": 25,
   "metadata": {
    "ExecuteTime": {
     "end_time": "2018-04-28T05:21:00.432446Z",
     "start_time": "2018-04-28T05:21:00.412044Z"
    }
   },
   "outputs": [
    {
     "data": {
      "text/html": [
       "<div>\n",
       "<style scoped>\n",
       "    .dataframe tbody tr th:only-of-type {\n",
       "        vertical-align: middle;\n",
       "    }\n",
       "\n",
       "    .dataframe tbody tr th {\n",
       "        vertical-align: top;\n",
       "    }\n",
       "\n",
       "    .dataframe thead th {\n",
       "        text-align: right;\n",
       "    }\n",
       "</style>\n",
       "<table border=\"1\" class=\"dataframe\">\n",
       "  <thead>\n",
       "    <tr style=\"text-align: right;\">\n",
       "      <th></th>\n",
       "      <th></th>\n",
       "      <th>TTM总收入</th>\n",
       "    </tr>\n",
       "  </thead>\n",
       "  <tbody>\n",
       "    <tr>\n",
       "      <th>2018-02-23 00:00:00+00:00</th>\n",
       "      <th>美的集团(000333)</th>\n",
       "      <td>2.455383e+11</td>\n",
       "    </tr>\n",
       "  </tbody>\n",
       "</table>\n",
       "</div>"
      ],
      "text/plain": [
       "                                              TTM总收入\n",
       "2018-02-23 00:00:00+00:00 美的集团(000333)  2.455383e+11"
      ]
     },
     "execution_count": 25,
     "metadata": {},
     "output_type": "execute_result"
    }
   ],
   "source": [
    "select_output_by(result,stock_codes=['000333'])"
   ]
  },
  {
   "cell_type": "code",
   "execution_count": 26,
   "metadata": {
    "ExecuteTime": {
     "end_time": "2018-04-28T05:22:02.390363Z",
     "start_time": "2018-04-28T05:22:02.381204Z"
    }
   },
   "outputs": [
    {
     "name": "stdout",
     "output_type": "stream",
     "text": [
      "预测与实际差异率=1.5%\n"
     ]
    }
   ],
   "source": [
    "pred = 2.455383e+11\n",
    "actu = 24191890 * 10000\n",
    "diff = pred / actu - 1\n",
    "\n",
    "print('预测与实际差异率={}%'.format(round(diff * 100,2)))"
   ]
  },
  {
   "cell_type": "code",
   "execution_count": null,
   "metadata": {},
   "outputs": [],
   "source": []
  }
 ],
 "metadata": {
  "kernelspec": {
   "display_name": "zipline",
   "language": "python",
   "name": "zipline"
  },
  "language_info": {
   "codemirror_mode": {
    "name": "ipython",
    "version": 3
   },
   "file_extension": ".py",
   "mimetype": "text/x-python",
   "name": "python",
   "nbconvert_exporter": "python",
   "pygments_lexer": "ipython3",
   "version": "3.6.5"
  },
  "toc": {
   "base_numbering": 1,
   "nav_menu": {},
   "number_sections": true,
   "sideBar": true,
   "skip_h1_title": false,
   "title_cell": "Table of Contents",
   "title_sidebar": "Contents",
   "toc_cell": false,
   "toc_position": {},
   "toc_section_display": true,
   "toc_window_display": true
  }
 },
 "nbformat": 4,
 "nbformat_minor": 2
}
