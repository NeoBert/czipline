{
 "cells": [
  {
   "cell_type": "markdown",
   "metadata": {},
   "source": [
    "## `builtin`"
   ]
  },
  {
   "cell_type": "markdown",
   "metadata": {},
   "source": [
    "除`zipline`标准因子、过滤器、分类器外，增加`builtin`模块，将基础数据与标准`pipeline`整合，修改或模拟`quantopian`IDE功能。主要包括以下部分：\n",
    "+ 自定义因子\n",
    "+ 自定义过滤器\n",
    "+ 自定义分类器"
   ]
  },
  {
   "cell_type": "code",
   "execution_count": 1,
   "metadata": {
    "ExecuteTime": {
     "end_time": "2018-04-27T12:48:25.762943Z",
     "start_time": "2018-04-27T12:48:22.850767Z"
    }
   },
   "outputs": [],
   "source": [
    "from zipline.pipeline.fundamentals.reader import Fundamentals\n",
    "from zipline.pipeline.builtin import TradingDays,QTradableStocks\n",
    "from zipline.research import run_pipeline, select_output_by\n",
    "from zipline.pipeline import Pipeline\n",
    "from zipline.pipeline.data import USEquityPricing\n",
    "from zipline.pipeline.factors import SimpleMovingAverage"
   ]
  },
  {
   "cell_type": "markdown",
   "metadata": {},
   "source": [
    "### 因子"
   ]
  },
  {
   "cell_type": "code",
   "execution_count": 2,
   "metadata": {
    "ExecuteTime": {
     "end_time": "2018-04-27T12:48:25.770816Z",
     "start_time": "2018-04-27T12:48:25.766105Z"
    }
   },
   "outputs": [],
   "source": [
    "from zipline.pipeline.builtin import TradingDays"
   ]
  },
  {
   "cell_type": "markdown",
   "metadata": {},
   "source": [
    "#### `TradingDays` 期间交易天数\n",
    "+ 当天成交量大约0,有效交易\n",
    "+ 需要指定`window_length`"
   ]
  },
  {
   "cell_type": "code",
   "execution_count": 3,
   "metadata": {
    "ExecuteTime": {
     "end_time": "2018-04-27T12:48:25.780399Z",
     "start_time": "2018-04-27T12:48:25.774476Z"
    }
   },
   "outputs": [],
   "source": [
    "def make_pipeline():\n",
    "    t20 = TradingDays(window_length=20)\n",
    "    t200 = TradingDays(window_length=200)\n",
    "    return Pipeline(\n",
    "        columns={\n",
    "            '20天内有效交易天数': t20,\n",
    "            '200天内有效交易天数': t200,           \n",
    "        }, \n",
    "    )"
   ]
  },
  {
   "cell_type": "code",
   "execution_count": 4,
   "metadata": {
    "ExecuteTime": {
     "end_time": "2018-04-27T12:48:26.949369Z",
     "start_time": "2018-04-27T12:48:25.784189Z"
    }
   },
   "outputs": [],
   "source": [
    "result = run_pipeline(make_pipeline(), '2018-4-20', '2018-4-26')"
   ]
  },
  {
   "cell_type": "code",
   "execution_count": 5,
   "metadata": {
    "ExecuteTime": {
     "end_time": "2018-04-27T12:48:27.012174Z",
     "start_time": "2018-04-27T12:48:26.953173Z"
    }
   },
   "outputs": [
    {
     "data": {
      "text/html": [
       "<div>\n",
       "<style scoped>\n",
       "    .dataframe tbody tr th:only-of-type {\n",
       "        vertical-align: middle;\n",
       "    }\n",
       "\n",
       "    .dataframe tbody tr th {\n",
       "        vertical-align: top;\n",
       "    }\n",
       "\n",
       "    .dataframe thead th {\n",
       "        text-align: right;\n",
       "    }\n",
       "</style>\n",
       "<table border=\"1\" class=\"dataframe\">\n",
       "  <thead>\n",
       "    <tr style=\"text-align: right;\">\n",
       "      <th></th>\n",
       "      <th></th>\n",
       "      <th>200天内有效交易天数</th>\n",
       "      <th>20天内有效交易天数</th>\n",
       "    </tr>\n",
       "  </thead>\n",
       "  <tbody>\n",
       "    <tr>\n",
       "      <th rowspan=\"3\" valign=\"top\">2018-04-23 00:00:00+00:00</th>\n",
       "      <th>平安银行(000001)</th>\n",
       "      <td>200.0</td>\n",
       "      <td>20.0</td>\n",
       "    </tr>\n",
       "    <tr>\n",
       "      <th>康欣新材(600076)</th>\n",
       "      <td>151.0</td>\n",
       "      <td>0.0</td>\n",
       "    </tr>\n",
       "    <tr>\n",
       "      <th>中源协和(600645)</th>\n",
       "      <td>127.0</td>\n",
       "      <td>20.0</td>\n",
       "    </tr>\n",
       "    <tr>\n",
       "      <th rowspan=\"3\" valign=\"top\">2018-04-24 00:00:00+00:00</th>\n",
       "      <th>平安银行(000001)</th>\n",
       "      <td>200.0</td>\n",
       "      <td>20.0</td>\n",
       "    </tr>\n",
       "    <tr>\n",
       "      <th>康欣新材(600076)</th>\n",
       "      <td>150.0</td>\n",
       "      <td>0.0</td>\n",
       "    </tr>\n",
       "    <tr>\n",
       "      <th>中源协和(600645)</th>\n",
       "      <td>127.0</td>\n",
       "      <td>20.0</td>\n",
       "    </tr>\n",
       "  </tbody>\n",
       "</table>\n",
       "</div>"
      ],
      "text/plain": [
       "                                        200天内有效交易天数  20天内有效交易天数\n",
       "2018-04-23 00:00:00+00:00 平安银行(000001)        200.0        20.0\n",
       "                          康欣新材(600076)        151.0         0.0\n",
       "                          中源协和(600645)        127.0        20.0\n",
       "2018-04-24 00:00:00+00:00 平安银行(000001)        200.0        20.0\n",
       "                          康欣新材(600076)        150.0         0.0\n",
       "                          中源协和(600645)        127.0        20.0"
      ]
     },
     "execution_count": 5,
     "metadata": {},
     "output_type": "execute_result"
    }
   ],
   "source": [
    "select_output_by(result,'2018-04-23','2018-04-24',stock_codes=['000001','600645','600076'])"
   ]
  },
  {
   "cell_type": "markdown",
   "metadata": {},
   "source": [
    "+ 600076期间停牌三个月，20日内无交易，但200天内存在交易\n",
    "+ 600645在200天内有停牌，有效成交率不足90%\n",
    "+ 000001每天正常交易"
   ]
  },
  {
   "cell_type": "markdown",
   "metadata": {},
   "source": [
    "### 过滤器"
   ]
  },
  {
   "cell_type": "markdown",
   "metadata": {},
   "source": [
    "#### `IsST`\n",
    "+ 当前是否为ST状态"
   ]
  },
  {
   "cell_type": "code",
   "execution_count": 6,
   "metadata": {
    "ExecuteTime": {
     "end_time": "2018-04-27T12:48:27.026270Z",
     "start_time": "2018-04-27T12:48:27.015708Z"
    }
   },
   "outputs": [],
   "source": [
    "from zipline.pipeline.builtin import IsST"
   ]
  },
  {
   "cell_type": "code",
   "execution_count": 7,
   "metadata": {
    "ExecuteTime": {
     "end_time": "2018-04-27T12:48:27.038978Z",
     "start_time": "2018-04-27T12:48:27.029896Z"
    }
   },
   "outputs": [],
   "source": [
    "def make_pipeline():\n",
    "    is_st = IsST()\n",
    "    # 用于mask参数，非st计算结果为NaN\n",
    "    ma20 = SimpleMovingAverage(\n",
    "        inputs=[USEquityPricing.close], mask=is_st, window_length=200)\n",
    "    return Pipeline(\n",
    "        columns={\n",
    "            '平均收盘': ma20,\n",
    "        }, )"
   ]
  },
  {
   "cell_type": "code",
   "execution_count": 8,
   "metadata": {
    "ExecuteTime": {
     "end_time": "2018-04-27T12:48:29.855778Z",
     "start_time": "2018-04-27T12:48:27.042581Z"
    }
   },
   "outputs": [],
   "source": [
    "result = run_pipeline(make_pipeline(), '2018-4-20', '2018-4-26')"
   ]
  },
  {
   "cell_type": "code",
   "execution_count": 9,
   "metadata": {
    "ExecuteTime": {
     "end_time": "2018-04-27T12:48:29.892482Z",
     "start_time": "2018-04-27T12:48:29.860529Z"
    }
   },
   "outputs": [
    {
     "data": {
      "text/html": [
       "<div>\n",
       "<style scoped>\n",
       "    .dataframe tbody tr th:only-of-type {\n",
       "        vertical-align: middle;\n",
       "    }\n",
       "\n",
       "    .dataframe tbody tr th {\n",
       "        vertical-align: top;\n",
       "    }\n",
       "\n",
       "    .dataframe thead th {\n",
       "        text-align: right;\n",
       "    }\n",
       "</style>\n",
       "<table border=\"1\" class=\"dataframe\">\n",
       "  <thead>\n",
       "    <tr style=\"text-align: right;\">\n",
       "      <th></th>\n",
       "      <th></th>\n",
       "      <th>平均收盘</th>\n",
       "    </tr>\n",
       "  </thead>\n",
       "  <tbody>\n",
       "    <tr>\n",
       "      <th rowspan=\"3\" valign=\"top\">2018-04-23 00:00:00+00:00</th>\n",
       "      <th>康欣新材(600076)</th>\n",
       "      <td>NaN</td>\n",
       "    </tr>\n",
       "    <tr>\n",
       "      <th>*ST安泰(600408)</th>\n",
       "      <td>NaN</td>\n",
       "    </tr>\n",
       "    <tr>\n",
       "      <th>中源协和(600645)</th>\n",
       "      <td>NaN</td>\n",
       "    </tr>\n",
       "    <tr>\n",
       "      <th rowspan=\"3\" valign=\"top\">2018-04-24 00:00:00+00:00</th>\n",
       "      <th>康欣新材(600076)</th>\n",
       "      <td>NaN</td>\n",
       "    </tr>\n",
       "    <tr>\n",
       "      <th>*ST安泰(600408)</th>\n",
       "      <td>3.41749</td>\n",
       "    </tr>\n",
       "    <tr>\n",
       "      <th>中源协和(600645)</th>\n",
       "      <td>NaN</td>\n",
       "    </tr>\n",
       "    <tr>\n",
       "      <th rowspan=\"3\" valign=\"top\">2018-04-25 00:00:00+00:00</th>\n",
       "      <th>康欣新材(600076)</th>\n",
       "      <td>NaN</td>\n",
       "    </tr>\n",
       "    <tr>\n",
       "      <th>*ST安泰(600408)</th>\n",
       "      <td>3.40904</td>\n",
       "    </tr>\n",
       "    <tr>\n",
       "      <th>中源协和(600645)</th>\n",
       "      <td>NaN</td>\n",
       "    </tr>\n",
       "  </tbody>\n",
       "</table>\n",
       "</div>"
      ],
      "text/plain": [
       "                                            平均收盘\n",
       "2018-04-23 00:00:00+00:00 康欣新材(600076)       NaN\n",
       "                          *ST安泰(600408)      NaN\n",
       "                          中源协和(600645)       NaN\n",
       "2018-04-24 00:00:00+00:00 康欣新材(600076)       NaN\n",
       "                          *ST安泰(600408)  3.41749\n",
       "                          中源协和(600645)       NaN\n",
       "2018-04-25 00:00:00+00:00 康欣新材(600076)       NaN\n",
       "                          *ST安泰(600408)  3.40904\n",
       "                          中源协和(600645)       NaN"
      ]
     },
     "execution_count": 9,
     "metadata": {},
     "output_type": "execute_result"
    }
   ],
   "source": [
    "select_output_by(\n",
    "    result, '2018-04-23', stock_codes=['600408', '600645', '600076'])"
   ]
  },
  {
   "cell_type": "code",
   "execution_count": 10,
   "metadata": {
    "ExecuteTime": {
     "end_time": "2018-04-27T12:48:29.908918Z",
     "start_time": "2018-04-27T12:48:29.896120Z"
    }
   },
   "outputs": [],
   "source": [
    "def make_pipeline():\n",
    "    is_st = IsST()\n",
    "    ma20 = SimpleMovingAverage(\n",
    "        inputs=[USEquityPricing.close], window_length=200)\n",
    "    # 用于screen参数，非st不会显示\n",
    "    return Pipeline(\n",
    "        columns={\n",
    "            '平均收盘': ma20,\n",
    "        }, \n",
    "        screen=is_st\n",
    "    )"
   ]
  },
  {
   "cell_type": "code",
   "execution_count": 11,
   "metadata": {
    "ExecuteTime": {
     "end_time": "2018-04-27T12:48:30.500085Z",
     "start_time": "2018-04-27T12:48:29.913750Z"
    }
   },
   "outputs": [],
   "source": [
    "result = run_pipeline(make_pipeline(), '2018-4-20', '2018-4-26')"
   ]
  },
  {
   "cell_type": "code",
   "execution_count": 12,
   "metadata": {
    "ExecuteTime": {
     "end_time": "2018-04-27T12:48:30.536622Z",
     "start_time": "2018-04-27T12:48:30.503362Z"
    }
   },
   "outputs": [
    {
     "data": {
      "text/html": [
       "<div>\n",
       "<style scoped>\n",
       "    .dataframe tbody tr th:only-of-type {\n",
       "        vertical-align: middle;\n",
       "    }\n",
       "\n",
       "    .dataframe tbody tr th {\n",
       "        vertical-align: top;\n",
       "    }\n",
       "\n",
       "    .dataframe thead th {\n",
       "        text-align: right;\n",
       "    }\n",
       "</style>\n",
       "<table border=\"1\" class=\"dataframe\">\n",
       "  <thead>\n",
       "    <tr style=\"text-align: right;\">\n",
       "      <th></th>\n",
       "      <th></th>\n",
       "      <th>平均收盘</th>\n",
       "    </tr>\n",
       "  </thead>\n",
       "  <tbody>\n",
       "    <tr>\n",
       "      <th>2018-04-24 00:00:00+00:00</th>\n",
       "      <th>*ST安泰(600408)</th>\n",
       "      <td>3.41749</td>\n",
       "    </tr>\n",
       "    <tr>\n",
       "      <th>2018-04-25 00:00:00+00:00</th>\n",
       "      <th>*ST安泰(600408)</th>\n",
       "      <td>3.40904</td>\n",
       "    </tr>\n",
       "  </tbody>\n",
       "</table>\n",
       "</div>"
      ],
      "text/plain": [
       "                                            平均收盘\n",
       "2018-04-24 00:00:00+00:00 *ST安泰(600408)  3.41749\n",
       "2018-04-25 00:00:00+00:00 *ST安泰(600408)  3.40904"
      ]
     },
     "execution_count": 12,
     "metadata": {},
     "output_type": "execute_result"
    }
   ],
   "source": [
    "select_output_by(\n",
    "    result, '2018-04-23', stock_codes=['600408', '600645', '600076'])"
   ]
  },
  {
   "cell_type": "code",
   "execution_count": null,
   "metadata": {},
   "outputs": [],
   "source": []
  }
 ],
 "metadata": {
  "kernelspec": {
   "display_name": "zipline",
   "language": "python",
   "name": "zipline"
  },
  "language_info": {
   "codemirror_mode": {
    "name": "ipython",
    "version": 3
   },
   "file_extension": ".py",
   "mimetype": "text/x-python",
   "name": "python",
   "nbconvert_exporter": "python",
   "pygments_lexer": "ipython3",
   "version": "3.6.5"
  }
 },
 "nbformat": 4,
 "nbformat_minor": 2
}
