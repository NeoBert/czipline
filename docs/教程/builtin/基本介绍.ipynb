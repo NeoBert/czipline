{
 "cells": [
  {
   "cell_type": "markdown",
   "metadata": {},
   "source": [
    "## `builtin`"
   ]
  },
  {
   "cell_type": "markdown",
   "metadata": {},
   "source": [
    "除`zipline`标准因子、过滤器、分类器外，增加`builtin`模块，将基础数据与标准`pipeline`整合，修改或模拟`quantopian`IDE功能。主要包括以下部分：\n",
    "+ 自定义因子\n",
    "+ 自定义过滤器\n",
    "+ 自定义分类器"
   ]
  },
  {
   "cell_type": "code",
   "execution_count": 1,
   "metadata": {
    "ExecuteTime": {
     "end_time": "2018-04-28T00:51:15.442650Z",
     "start_time": "2018-04-28T00:51:12.739913Z"
    }
   },
   "outputs": [],
   "source": [
    "from zipline.pipeline.fundamentals.reader import Fundamentals\n",
    "from zipline.pipeline.builtin import TradingDays,QTradableStocks\n",
    "from zipline.research import run_pipeline, select_output_by\n",
    "from zipline.pipeline import Pipeline\n",
    "from zipline.pipeline.data import USEquityPricing\n",
    "from zipline.pipeline.factors import SimpleMovingAverage"
   ]
  },
  {
   "cell_type": "markdown",
   "metadata": {},
   "source": [
    "### 因子"
   ]
  },
  {
   "cell_type": "markdown",
   "metadata": {},
   "source": [
    "#### `NDays` 上市天数"
   ]
  },
  {
   "cell_type": "code",
   "execution_count": 2,
   "metadata": {
    "ExecuteTime": {
     "end_time": "2018-04-28T00:51:15.449572Z",
     "start_time": "2018-04-28T00:51:15.445530Z"
    }
   },
   "outputs": [],
   "source": [
    "from zipline.pipeline.builtin import NDays"
   ]
  },
  {
   "cell_type": "code",
   "execution_count": 3,
   "metadata": {
    "ExecuteTime": {
     "end_time": "2018-04-28T00:51:15.458229Z",
     "start_time": "2018-04-28T00:51:15.453034Z"
    }
   },
   "outputs": [],
   "source": [
    "def make_pipeline():\n",
    "    ndays = NDays()\n",
    "    return Pipeline(\n",
    "        columns={\n",
    "            '上市天数': ndays,\n",
    "        }\n",
    "    )"
   ]
  },
  {
   "cell_type": "code",
   "execution_count": 4,
   "metadata": {
    "ExecuteTime": {
     "end_time": "2018-04-28T00:51:17.851697Z",
     "start_time": "2018-04-28T00:51:15.462007Z"
    }
   },
   "outputs": [],
   "source": [
    "result = run_pipeline(make_pipeline(), '2018-1-20', '2018-1-26')"
   ]
  },
  {
   "cell_type": "code",
   "execution_count": 5,
   "metadata": {
    "ExecuteTime": {
     "end_time": "2018-04-28T00:51:17.887284Z",
     "start_time": "2018-04-28T00:51:17.854555Z"
    }
   },
   "outputs": [
    {
     "data": {
      "text/html": [
       "<div>\n",
       "<style scoped>\n",
       "    .dataframe tbody tr th:only-of-type {\n",
       "        vertical-align: middle;\n",
       "    }\n",
       "\n",
       "    .dataframe tbody tr th {\n",
       "        vertical-align: top;\n",
       "    }\n",
       "\n",
       "    .dataframe thead th {\n",
       "        text-align: right;\n",
       "    }\n",
       "</style>\n",
       "<table border=\"1\" class=\"dataframe\">\n",
       "  <thead>\n",
       "    <tr style=\"text-align: right;\">\n",
       "      <th></th>\n",
       "      <th></th>\n",
       "      <th>上市天数</th>\n",
       "    </tr>\n",
       "  </thead>\n",
       "  <tbody>\n",
       "    <tr>\n",
       "      <th rowspan=\"2\" valign=\"top\">2018-01-22 00:00:00+00:00</th>\n",
       "      <th>中源协和(600645)</th>\n",
       "      <td>9029.0</td>\n",
       "    </tr>\n",
       "    <tr>\n",
       "      <th>横店影视(603103)</th>\n",
       "      <td>102.0</td>\n",
       "    </tr>\n",
       "    <tr>\n",
       "      <th rowspan=\"2\" valign=\"top\">2018-01-23 00:00:00+00:00</th>\n",
       "      <th>中源协和(600645)</th>\n",
       "      <td>9030.0</td>\n",
       "    </tr>\n",
       "    <tr>\n",
       "      <th>横店影视(603103)</th>\n",
       "      <td>103.0</td>\n",
       "    </tr>\n",
       "    <tr>\n",
       "      <th rowspan=\"2\" valign=\"top\">2018-01-24 00:00:00+00:00</th>\n",
       "      <th>中源协和(600645)</th>\n",
       "      <td>9031.0</td>\n",
       "    </tr>\n",
       "    <tr>\n",
       "      <th>横店影视(603103)</th>\n",
       "      <td>104.0</td>\n",
       "    </tr>\n",
       "    <tr>\n",
       "      <th rowspan=\"2\" valign=\"top\">2018-01-25 00:00:00+00:00</th>\n",
       "      <th>中源协和(600645)</th>\n",
       "      <td>9032.0</td>\n",
       "    </tr>\n",
       "    <tr>\n",
       "      <th>横店影视(603103)</th>\n",
       "      <td>105.0</td>\n",
       "    </tr>\n",
       "    <tr>\n",
       "      <th rowspan=\"2\" valign=\"top\">2018-01-26 00:00:00+00:00</th>\n",
       "      <th>中源协和(600645)</th>\n",
       "      <td>9033.0</td>\n",
       "    </tr>\n",
       "    <tr>\n",
       "      <th>横店影视(603103)</th>\n",
       "      <td>106.0</td>\n",
       "    </tr>\n",
       "  </tbody>\n",
       "</table>\n",
       "</div>"
      ],
      "text/plain": [
       "                                          上市天数\n",
       "2018-01-22 00:00:00+00:00 中源协和(600645)  9029.0\n",
       "                          横店影视(603103)   102.0\n",
       "2018-01-23 00:00:00+00:00 中源协和(600645)  9030.0\n",
       "                          横店影视(603103)   103.0\n",
       "2018-01-24 00:00:00+00:00 中源协和(600645)  9031.0\n",
       "                          横店影视(603103)   104.0\n",
       "2018-01-25 00:00:00+00:00 中源协和(600645)  9032.0\n",
       "                          横店影视(603103)   105.0\n",
       "2018-01-26 00:00:00+00:00 中源协和(600645)  9033.0\n",
       "                          横店影视(603103)   106.0"
      ]
     },
     "execution_count": 5,
     "metadata": {},
     "output_type": "execute_result"
    }
   ],
   "source": [
    "select_output_by(result,stock_codes=['600645','603103','603214','603876'])"
   ]
  },
  {
   "cell_type": "code",
   "execution_count": 6,
   "metadata": {
    "ExecuteTime": {
     "end_time": "2018-04-28T00:51:17.894720Z",
     "start_time": "2018-04-28T00:51:17.890682Z"
    }
   },
   "outputs": [],
   "source": [
    "from zipline.pipeline.builtin import TradingDays"
   ]
  },
  {
   "cell_type": "markdown",
   "metadata": {},
   "source": [
    "#### `TradingDays` 期间交易天数\n",
    "+ 当天成交量大于0,有效交易\n",
    "+ 需要指定`window_length`"
   ]
  },
  {
   "cell_type": "code",
   "execution_count": 7,
   "metadata": {
    "ExecuteTime": {
     "end_time": "2018-04-28T00:51:17.905006Z",
     "start_time": "2018-04-28T00:51:17.898251Z"
    }
   },
   "outputs": [],
   "source": [
    "def make_pipeline():\n",
    "    t20 = TradingDays(window_length=20)\n",
    "    t200 = TradingDays(window_length=200)\n",
    "    return Pipeline(\n",
    "        columns={\n",
    "            '20天内有效交易天数': t20,\n",
    "            '200天内有效交易天数': t200,           \n",
    "        }, \n",
    "    )"
   ]
  },
  {
   "cell_type": "code",
   "execution_count": 8,
   "metadata": {
    "ExecuteTime": {
     "end_time": "2018-04-28T00:51:18.247859Z",
     "start_time": "2018-04-28T00:51:17.908487Z"
    }
   },
   "outputs": [],
   "source": [
    "result = run_pipeline(make_pipeline(), '2018-4-20', '2018-4-26')"
   ]
  },
  {
   "cell_type": "code",
   "execution_count": 9,
   "metadata": {
    "ExecuteTime": {
     "end_time": "2018-04-28T00:51:18.303990Z",
     "start_time": "2018-04-28T00:51:18.254777Z"
    }
   },
   "outputs": [
    {
     "data": {
      "text/html": [
       "<div>\n",
       "<style scoped>\n",
       "    .dataframe tbody tr th:only-of-type {\n",
       "        vertical-align: middle;\n",
       "    }\n",
       "\n",
       "    .dataframe tbody tr th {\n",
       "        vertical-align: top;\n",
       "    }\n",
       "\n",
       "    .dataframe thead th {\n",
       "        text-align: right;\n",
       "    }\n",
       "</style>\n",
       "<table border=\"1\" class=\"dataframe\">\n",
       "  <thead>\n",
       "    <tr style=\"text-align: right;\">\n",
       "      <th></th>\n",
       "      <th></th>\n",
       "      <th>200天内有效交易天数</th>\n",
       "      <th>20天内有效交易天数</th>\n",
       "    </tr>\n",
       "  </thead>\n",
       "  <tbody>\n",
       "    <tr>\n",
       "      <th rowspan=\"3\" valign=\"top\">2018-04-23 00:00:00+00:00</th>\n",
       "      <th>平安银行(000001)</th>\n",
       "      <td>200.0</td>\n",
       "      <td>20.0</td>\n",
       "    </tr>\n",
       "    <tr>\n",
       "      <th>康欣新材(600076)</th>\n",
       "      <td>151.0</td>\n",
       "      <td>0.0</td>\n",
       "    </tr>\n",
       "    <tr>\n",
       "      <th>中源协和(600645)</th>\n",
       "      <td>127.0</td>\n",
       "      <td>20.0</td>\n",
       "    </tr>\n",
       "    <tr>\n",
       "      <th rowspan=\"3\" valign=\"top\">2018-04-24 00:00:00+00:00</th>\n",
       "      <th>平安银行(000001)</th>\n",
       "      <td>200.0</td>\n",
       "      <td>20.0</td>\n",
       "    </tr>\n",
       "    <tr>\n",
       "      <th>康欣新材(600076)</th>\n",
       "      <td>150.0</td>\n",
       "      <td>0.0</td>\n",
       "    </tr>\n",
       "    <tr>\n",
       "      <th>中源协和(600645)</th>\n",
       "      <td>127.0</td>\n",
       "      <td>20.0</td>\n",
       "    </tr>\n",
       "  </tbody>\n",
       "</table>\n",
       "</div>"
      ],
      "text/plain": [
       "                                        200天内有效交易天数  20天内有效交易天数\n",
       "2018-04-23 00:00:00+00:00 平安银行(000001)        200.0        20.0\n",
       "                          康欣新材(600076)        151.0         0.0\n",
       "                          中源协和(600645)        127.0        20.0\n",
       "2018-04-24 00:00:00+00:00 平安银行(000001)        200.0        20.0\n",
       "                          康欣新材(600076)        150.0         0.0\n",
       "                          中源协和(600645)        127.0        20.0"
      ]
     },
     "execution_count": 9,
     "metadata": {},
     "output_type": "execute_result"
    }
   ],
   "source": [
    "select_output_by(result,'2018-04-23','2018-04-24',stock_codes=['000001','600645','600076'])"
   ]
  },
  {
   "cell_type": "markdown",
   "metadata": {},
   "source": [
    "+ 600076期间停牌三个月，20日内无交易，但200天内存在交易\n",
    "+ 600645在200天内有停牌，有效成交率不足90%\n",
    "+ 000001每天正常交易"
   ]
  },
  {
   "cell_type": "markdown",
   "metadata": {},
   "source": [
    "### 过滤器"
   ]
  },
  {
   "cell_type": "markdown",
   "metadata": {},
   "source": [
    "#### `IsST`\n",
    "+ 当前是否为ST状态"
   ]
  },
  {
   "cell_type": "code",
   "execution_count": 10,
   "metadata": {
    "ExecuteTime": {
     "end_time": "2018-04-28T00:51:18.317451Z",
     "start_time": "2018-04-28T00:51:18.311747Z"
    }
   },
   "outputs": [],
   "source": [
    "from zipline.pipeline.builtin import IsST"
   ]
  },
  {
   "cell_type": "code",
   "execution_count": 11,
   "metadata": {
    "ExecuteTime": {
     "end_time": "2018-04-28T00:51:18.333780Z",
     "start_time": "2018-04-28T00:51:18.322580Z"
    }
   },
   "outputs": [],
   "source": [
    "def make_pipeline():\n",
    "    is_st = IsST()\n",
    "    # 用于mask参数，非st计算结果为NaN\n",
    "    ma20 = SimpleMovingAverage(\n",
    "        inputs=[USEquityPricing.close], mask=is_st, window_length=200)\n",
    "    return Pipeline(\n",
    "        columns={\n",
    "            '平均收盘': ma20,\n",
    "        }, )"
   ]
  },
  {
   "cell_type": "code",
   "execution_count": 12,
   "metadata": {
    "ExecuteTime": {
     "end_time": "2018-04-28T00:51:19.163064Z",
     "start_time": "2018-04-28T00:51:18.340494Z"
    }
   },
   "outputs": [],
   "source": [
    "result = run_pipeline(make_pipeline(), '2018-4-20', '2018-4-26')"
   ]
  },
  {
   "cell_type": "code",
   "execution_count": 13,
   "metadata": {
    "ExecuteTime": {
     "end_time": "2018-04-28T00:51:19.196244Z",
     "start_time": "2018-04-28T00:51:19.164939Z"
    }
   },
   "outputs": [
    {
     "data": {
      "text/html": [
       "<div>\n",
       "<style scoped>\n",
       "    .dataframe tbody tr th:only-of-type {\n",
       "        vertical-align: middle;\n",
       "    }\n",
       "\n",
       "    .dataframe tbody tr th {\n",
       "        vertical-align: top;\n",
       "    }\n",
       "\n",
       "    .dataframe thead th {\n",
       "        text-align: right;\n",
       "    }\n",
       "</style>\n",
       "<table border=\"1\" class=\"dataframe\">\n",
       "  <thead>\n",
       "    <tr style=\"text-align: right;\">\n",
       "      <th></th>\n",
       "      <th></th>\n",
       "      <th>平均收盘</th>\n",
       "    </tr>\n",
       "  </thead>\n",
       "  <tbody>\n",
       "    <tr>\n",
       "      <th rowspan=\"3\" valign=\"top\">2018-04-23 00:00:00+00:00</th>\n",
       "      <th>康欣新材(600076)</th>\n",
       "      <td>NaN</td>\n",
       "    </tr>\n",
       "    <tr>\n",
       "      <th>*ST安泰(600408)</th>\n",
       "      <td>NaN</td>\n",
       "    </tr>\n",
       "    <tr>\n",
       "      <th>中源协和(600645)</th>\n",
       "      <td>NaN</td>\n",
       "    </tr>\n",
       "    <tr>\n",
       "      <th rowspan=\"3\" valign=\"top\">2018-04-24 00:00:00+00:00</th>\n",
       "      <th>康欣新材(600076)</th>\n",
       "      <td>NaN</td>\n",
       "    </tr>\n",
       "    <tr>\n",
       "      <th>*ST安泰(600408)</th>\n",
       "      <td>3.41749</td>\n",
       "    </tr>\n",
       "    <tr>\n",
       "      <th>中源协和(600645)</th>\n",
       "      <td>NaN</td>\n",
       "    </tr>\n",
       "    <tr>\n",
       "      <th rowspan=\"3\" valign=\"top\">2018-04-25 00:00:00+00:00</th>\n",
       "      <th>康欣新材(600076)</th>\n",
       "      <td>NaN</td>\n",
       "    </tr>\n",
       "    <tr>\n",
       "      <th>*ST安泰(600408)</th>\n",
       "      <td>3.40904</td>\n",
       "    </tr>\n",
       "    <tr>\n",
       "      <th>中源协和(600645)</th>\n",
       "      <td>NaN</td>\n",
       "    </tr>\n",
       "    <tr>\n",
       "      <th rowspan=\"3\" valign=\"top\">2018-04-26 00:00:00+00:00</th>\n",
       "      <th>康欣新材(600076)</th>\n",
       "      <td>NaN</td>\n",
       "    </tr>\n",
       "    <tr>\n",
       "      <th>*ST安泰(600408)</th>\n",
       "      <td>3.39834</td>\n",
       "    </tr>\n",
       "    <tr>\n",
       "      <th>中源协和(600645)</th>\n",
       "      <td>NaN</td>\n",
       "    </tr>\n",
       "  </tbody>\n",
       "</table>\n",
       "</div>"
      ],
      "text/plain": [
       "                                            平均收盘\n",
       "2018-04-23 00:00:00+00:00 康欣新材(600076)       NaN\n",
       "                          *ST安泰(600408)      NaN\n",
       "                          中源协和(600645)       NaN\n",
       "2018-04-24 00:00:00+00:00 康欣新材(600076)       NaN\n",
       "                          *ST安泰(600408)  3.41749\n",
       "                          中源协和(600645)       NaN\n",
       "2018-04-25 00:00:00+00:00 康欣新材(600076)       NaN\n",
       "                          *ST安泰(600408)  3.40904\n",
       "                          中源协和(600645)       NaN\n",
       "2018-04-26 00:00:00+00:00 康欣新材(600076)       NaN\n",
       "                          *ST安泰(600408)  3.39834\n",
       "                          中源协和(600645)       NaN"
      ]
     },
     "execution_count": 13,
     "metadata": {},
     "output_type": "execute_result"
    }
   ],
   "source": [
    "select_output_by(\n",
    "    result, '2018-04-23', stock_codes=['600408', '600645', '600076'])"
   ]
  },
  {
   "cell_type": "code",
   "execution_count": 14,
   "metadata": {
    "ExecuteTime": {
     "end_time": "2018-04-28T00:51:19.206741Z",
     "start_time": "2018-04-28T00:51:19.199072Z"
    }
   },
   "outputs": [],
   "source": [
    "def make_pipeline():\n",
    "    is_st = IsST()\n",
    "    ma20 = SimpleMovingAverage(\n",
    "        inputs=[USEquityPricing.close], window_length=20)\n",
    "    # 用于screen参数，非st不会显示\n",
    "    return Pipeline(\n",
    "        columns={\n",
    "            '平均收盘': ma20,\n",
    "        }, \n",
    "        screen=is_st\n",
    "    )"
   ]
  },
  {
   "cell_type": "code",
   "execution_count": 15,
   "metadata": {
    "ExecuteTime": {
     "end_time": "2018-04-28T00:51:19.652833Z",
     "start_time": "2018-04-28T00:51:19.213821Z"
    }
   },
   "outputs": [],
   "source": [
    "result = run_pipeline(make_pipeline(), '2018-4-20', '2018-4-26')"
   ]
  },
  {
   "cell_type": "code",
   "execution_count": 16,
   "metadata": {
    "ExecuteTime": {
     "end_time": "2018-04-28T00:51:19.672416Z",
     "start_time": "2018-04-28T00:51:19.655498Z"
    }
   },
   "outputs": [
    {
     "data": {
      "text/html": [
       "<div>\n",
       "<style scoped>\n",
       "    .dataframe tbody tr th:only-of-type {\n",
       "        vertical-align: middle;\n",
       "    }\n",
       "\n",
       "    .dataframe tbody tr th {\n",
       "        vertical-align: top;\n",
       "    }\n",
       "\n",
       "    .dataframe thead th {\n",
       "        text-align: right;\n",
       "    }\n",
       "</style>\n",
       "<table border=\"1\" class=\"dataframe\">\n",
       "  <thead>\n",
       "    <tr style=\"text-align: right;\">\n",
       "      <th></th>\n",
       "      <th></th>\n",
       "      <th>平均收盘</th>\n",
       "    </tr>\n",
       "  </thead>\n",
       "  <tbody>\n",
       "    <tr>\n",
       "      <th>2018-04-24 00:00:00+00:00</th>\n",
       "      <th>*ST安泰(600408)</th>\n",
       "      <td>2.3025</td>\n",
       "    </tr>\n",
       "    <tr>\n",
       "      <th>2018-04-25 00:00:00+00:00</th>\n",
       "      <th>*ST安泰(600408)</th>\n",
       "      <td>2.2800</td>\n",
       "    </tr>\n",
       "    <tr>\n",
       "      <th>2018-04-26 00:00:00+00:00</th>\n",
       "      <th>*ST安泰(600408)</th>\n",
       "      <td>2.2620</td>\n",
       "    </tr>\n",
       "  </tbody>\n",
       "</table>\n",
       "</div>"
      ],
      "text/plain": [
       "                                           平均收盘\n",
       "2018-04-24 00:00:00+00:00 *ST安泰(600408)  2.3025\n",
       "2018-04-25 00:00:00+00:00 *ST安泰(600408)  2.2800\n",
       "2018-04-26 00:00:00+00:00 *ST安泰(600408)  2.2620"
      ]
     },
     "execution_count": 16,
     "metadata": {},
     "output_type": "execute_result"
    }
   ],
   "source": [
    "select_output_by(\n",
    "    result, '2018-04-23', stock_codes=['600408', '600645', '600076'])"
   ]
  },
  {
   "cell_type": "markdown",
   "metadata": {},
   "source": [
    "#### `IsNewShare` 次新股\n",
    "+ days：上市天数小于指定天数，判定为次新股，默认90天"
   ]
  },
  {
   "cell_type": "code",
   "execution_count": 17,
   "metadata": {
    "ExecuteTime": {
     "end_time": "2018-04-28T00:51:19.679447Z",
     "start_time": "2018-04-28T00:51:19.675756Z"
    }
   },
   "outputs": [],
   "source": [
    "from zipline.pipeline.builtin import IsNewShare"
   ]
  },
  {
   "cell_type": "code",
   "execution_count": 18,
   "metadata": {
    "ExecuteTime": {
     "end_time": "2018-04-28T00:51:19.688753Z",
     "start_time": "2018-04-28T00:51:19.682785Z"
    }
   },
   "outputs": [],
   "source": [
    "def make_pipeline():\n",
    "    ndays = NDays()\n",
    "    return Pipeline(\n",
    "        columns={\n",
    "            '上市天数': ndays,\n",
    "        }, \n",
    "        screen=IsNewShare()\n",
    "    )"
   ]
  },
  {
   "cell_type": "code",
   "execution_count": 19,
   "metadata": {
    "ExecuteTime": {
     "end_time": "2018-04-28T00:51:20.469669Z",
     "start_time": "2018-04-28T00:51:19.692539Z"
    }
   },
   "outputs": [
    {
     "data": {
      "text/html": [
       "<div>\n",
       "<style scoped>\n",
       "    .dataframe tbody tr th:only-of-type {\n",
       "        vertical-align: middle;\n",
       "    }\n",
       "\n",
       "    .dataframe tbody tr th {\n",
       "        vertical-align: top;\n",
       "    }\n",
       "\n",
       "    .dataframe thead th {\n",
       "        text-align: right;\n",
       "    }\n",
       "</style>\n",
       "<table border=\"1\" class=\"dataframe\">\n",
       "  <thead>\n",
       "    <tr style=\"text-align: right;\">\n",
       "      <th></th>\n",
       "      <th></th>\n",
       "      <th>上市天数</th>\n",
       "    </tr>\n",
       "  </thead>\n",
       "  <tbody>\n",
       "    <tr>\n",
       "      <th rowspan=\"30\" valign=\"top\">2018-04-20 00:00:00+00:00</th>\n",
       "      <th>华西证券(002926)</th>\n",
       "      <td>74.0</td>\n",
       "    </tr>\n",
       "    <tr>\n",
       "      <th>泰永长征(002927)</th>\n",
       "      <td>56.0</td>\n",
       "    </tr>\n",
       "    <tr>\n",
       "      <th>华夏航空(002928)</th>\n",
       "      <td>49.0</td>\n",
       "    </tr>\n",
       "    <tr>\n",
       "      <th>润建通信(002929)</th>\n",
       "      <td>50.0</td>\n",
       "    </tr>\n",
       "    <tr>\n",
       "      <th>宏川智慧(002930)</th>\n",
       "      <td>23.0</td>\n",
       "    </tr>\n",
       "    <tr>\n",
       "      <th>锋龙股份(002931)</th>\n",
       "      <td>17.0</td>\n",
       "    </tr>\n",
       "    <tr>\n",
       "      <th>天邑股份(300504)</th>\n",
       "      <td>21.0</td>\n",
       "    </tr>\n",
       "    <tr>\n",
       "      <th>彩讯股份(300634)</th>\n",
       "      <td>28.0</td>\n",
       "    </tr>\n",
       "    <tr>\n",
       "      <th>南京聚隆(300644)</th>\n",
       "      <td>73.0</td>\n",
       "    </tr>\n",
       "    <tr>\n",
       "      <th>科顺股份(300737)</th>\n",
       "      <td>85.0</td>\n",
       "    </tr>\n",
       "    <tr>\n",
       "      <th>明阳电路(300739)</th>\n",
       "      <td>78.0</td>\n",
       "    </tr>\n",
       "    <tr>\n",
       "      <th>御家汇(300740)</th>\n",
       "      <td>71.0</td>\n",
       "    </tr>\n",
       "    <tr>\n",
       "      <th>华宝股份(300741)</th>\n",
       "      <td>50.0</td>\n",
       "    </tr>\n",
       "    <tr>\n",
       "      <th>江苏租赁(600901)</th>\n",
       "      <td>50.0</td>\n",
       "    </tr>\n",
       "    <tr>\n",
       "      <th>湖南盐业(600929)</th>\n",
       "      <td>25.0</td>\n",
       "    </tr>\n",
       "    <tr>\n",
       "      <th>成都银行(601838)</th>\n",
       "      <td>79.0</td>\n",
       "    </tr>\n",
       "    <tr>\n",
       "      <th>倍加洁(603059)</th>\n",
       "      <td>49.0</td>\n",
       "    </tr>\n",
       "    <tr>\n",
       "      <th>养元饮品(603156)</th>\n",
       "      <td>67.0</td>\n",
       "    </tr>\n",
       "    <tr>\n",
       "      <th>爱婴室(603214)</th>\n",
       "      <td>21.0</td>\n",
       "    </tr>\n",
       "    <tr>\n",
       "      <th>振德医疗(603301)</th>\n",
       "      <td>8.0</td>\n",
       "    </tr>\n",
       "    <tr>\n",
       "      <th>华菱精工(603356)</th>\n",
       "      <td>86.0</td>\n",
       "    </tr>\n",
       "    <tr>\n",
       "      <th>南都物业(603506)</th>\n",
       "      <td>78.0</td>\n",
       "    </tr>\n",
       "    <tr>\n",
       "      <th>淳中科技(603516)</th>\n",
       "      <td>77.0</td>\n",
       "    </tr>\n",
       "    <tr>\n",
       "      <th>今创集团(603680)</th>\n",
       "      <td>52.0</td>\n",
       "    </tr>\n",
       "    <tr>\n",
       "      <th>中源家居(603709)</th>\n",
       "      <td>71.0</td>\n",
       "    </tr>\n",
       "    <tr>\n",
       "      <th>七一二(603712)</th>\n",
       "      <td>53.0</td>\n",
       "    </tr>\n",
       "    <tr>\n",
       "      <th>沃格光电(603773)</th>\n",
       "      <td>3.0</td>\n",
       "    </tr>\n",
       "    <tr>\n",
       "      <th>嘉友国际(603871)</th>\n",
       "      <td>73.0</td>\n",
       "    </tr>\n",
       "    <tr>\n",
       "      <th>鼎胜新材(603876)</th>\n",
       "      <td>2.0</td>\n",
       "    </tr>\n",
       "    <tr>\n",
       "      <th>天永智能(603895)</th>\n",
       "      <td>88.0</td>\n",
       "    </tr>\n",
       "    <tr>\n",
       "      <th>...</th>\n",
       "      <th>...</th>\n",
       "      <td>...</td>\n",
       "    </tr>\n",
       "    <tr>\n",
       "      <th>2018-04-25 00:00:00+00:00</th>\n",
       "      <th>长城科技(603897)</th>\n",
       "      <td>15.0</td>\n",
       "    </tr>\n",
       "    <tr>\n",
       "      <th rowspan=\"29\" valign=\"top\">2018-04-26 00:00:00+00:00</th>\n",
       "      <th>华西证券(002926)</th>\n",
       "      <td>80.0</td>\n",
       "    </tr>\n",
       "    <tr>\n",
       "      <th>泰永长征(002927)</th>\n",
       "      <td>62.0</td>\n",
       "    </tr>\n",
       "    <tr>\n",
       "      <th>华夏航空(002928)</th>\n",
       "      <td>55.0</td>\n",
       "    </tr>\n",
       "    <tr>\n",
       "      <th>润建通信(002929)</th>\n",
       "      <td>56.0</td>\n",
       "    </tr>\n",
       "    <tr>\n",
       "      <th>宏川智慧(002930)</th>\n",
       "      <td>29.0</td>\n",
       "    </tr>\n",
       "    <tr>\n",
       "      <th>锋龙股份(002931)</th>\n",
       "      <td>23.0</td>\n",
       "    </tr>\n",
       "    <tr>\n",
       "      <th>天邑股份(300504)</th>\n",
       "      <td>27.0</td>\n",
       "    </tr>\n",
       "    <tr>\n",
       "      <th>彩讯股份(300634)</th>\n",
       "      <td>34.0</td>\n",
       "    </tr>\n",
       "    <tr>\n",
       "      <th>南京聚隆(300644)</th>\n",
       "      <td>79.0</td>\n",
       "    </tr>\n",
       "    <tr>\n",
       "      <th>明阳电路(300739)</th>\n",
       "      <td>84.0</td>\n",
       "    </tr>\n",
       "    <tr>\n",
       "      <th>御家汇(300740)</th>\n",
       "      <td>77.0</td>\n",
       "    </tr>\n",
       "    <tr>\n",
       "      <th>华宝股份(300741)</th>\n",
       "      <td>56.0</td>\n",
       "    </tr>\n",
       "    <tr>\n",
       "      <th>江苏租赁(600901)</th>\n",
       "      <td>56.0</td>\n",
       "    </tr>\n",
       "    <tr>\n",
       "      <th>湖南盐业(600929)</th>\n",
       "      <td>31.0</td>\n",
       "    </tr>\n",
       "    <tr>\n",
       "      <th>成都银行(601838)</th>\n",
       "      <td>85.0</td>\n",
       "    </tr>\n",
       "    <tr>\n",
       "      <th>倍加洁(603059)</th>\n",
       "      <td>55.0</td>\n",
       "    </tr>\n",
       "    <tr>\n",
       "      <th>养元饮品(603156)</th>\n",
       "      <td>73.0</td>\n",
       "    </tr>\n",
       "    <tr>\n",
       "      <th>爱婴室(603214)</th>\n",
       "      <td>27.0</td>\n",
       "    </tr>\n",
       "    <tr>\n",
       "      <th>振德医疗(603301)</th>\n",
       "      <td>14.0</td>\n",
       "    </tr>\n",
       "    <tr>\n",
       "      <th>南都物业(603506)</th>\n",
       "      <td>84.0</td>\n",
       "    </tr>\n",
       "    <tr>\n",
       "      <th>淳中科技(603516)</th>\n",
       "      <td>83.0</td>\n",
       "    </tr>\n",
       "    <tr>\n",
       "      <th>今创集团(603680)</th>\n",
       "      <td>58.0</td>\n",
       "    </tr>\n",
       "    <tr>\n",
       "      <th>中源家居(603709)</th>\n",
       "      <td>77.0</td>\n",
       "    </tr>\n",
       "    <tr>\n",
       "      <th>七一二(603712)</th>\n",
       "      <td>59.0</td>\n",
       "    </tr>\n",
       "    <tr>\n",
       "      <th>仙鹤股份(603733)</th>\n",
       "      <td>6.0</td>\n",
       "    </tr>\n",
       "    <tr>\n",
       "      <th>沃格光电(603773)</th>\n",
       "      <td>9.0</td>\n",
       "    </tr>\n",
       "    <tr>\n",
       "      <th>嘉友国际(603871)</th>\n",
       "      <td>79.0</td>\n",
       "    </tr>\n",
       "    <tr>\n",
       "      <th>鼎胜新材(603876)</th>\n",
       "      <td>8.0</td>\n",
       "    </tr>\n",
       "    <tr>\n",
       "      <th>长城科技(603897)</th>\n",
       "      <td>16.0</td>\n",
       "    </tr>\n",
       "  </tbody>\n",
       "</table>\n",
       "<p>152 rows × 1 columns</p>\n",
       "</div>"
      ],
      "text/plain": [
       "                                        上市天数\n",
       "2018-04-20 00:00:00+00:00 华西证券(002926)  74.0\n",
       "                          泰永长征(002927)  56.0\n",
       "                          华夏航空(002928)  49.0\n",
       "                          润建通信(002929)  50.0\n",
       "                          宏川智慧(002930)  23.0\n",
       "                          锋龙股份(002931)  17.0\n",
       "                          天邑股份(300504)  21.0\n",
       "                          彩讯股份(300634)  28.0\n",
       "                          南京聚隆(300644)  73.0\n",
       "                          科顺股份(300737)  85.0\n",
       "                          明阳电路(300739)  78.0\n",
       "                          御家汇(300740)   71.0\n",
       "                          华宝股份(300741)  50.0\n",
       "                          江苏租赁(600901)  50.0\n",
       "                          湖南盐业(600929)  25.0\n",
       "                          成都银行(601838)  79.0\n",
       "                          倍加洁(603059)   49.0\n",
       "                          养元饮品(603156)  67.0\n",
       "                          爱婴室(603214)   21.0\n",
       "                          振德医疗(603301)   8.0\n",
       "                          华菱精工(603356)  86.0\n",
       "                          南都物业(603506)  78.0\n",
       "                          淳中科技(603516)  77.0\n",
       "                          今创集团(603680)  52.0\n",
       "                          中源家居(603709)  71.0\n",
       "                          七一二(603712)   53.0\n",
       "                          沃格光电(603773)   3.0\n",
       "                          嘉友国际(603871)  73.0\n",
       "                          鼎胜新材(603876)   2.0\n",
       "                          天永智能(603895)  88.0\n",
       "...                                      ...\n",
       "2018-04-25 00:00:00+00:00 长城科技(603897)  15.0\n",
       "2018-04-26 00:00:00+00:00 华西证券(002926)  80.0\n",
       "                          泰永长征(002927)  62.0\n",
       "                          华夏航空(002928)  55.0\n",
       "                          润建通信(002929)  56.0\n",
       "                          宏川智慧(002930)  29.0\n",
       "                          锋龙股份(002931)  23.0\n",
       "                          天邑股份(300504)  27.0\n",
       "                          彩讯股份(300634)  34.0\n",
       "                          南京聚隆(300644)  79.0\n",
       "                          明阳电路(300739)  84.0\n",
       "                          御家汇(300740)   77.0\n",
       "                          华宝股份(300741)  56.0\n",
       "                          江苏租赁(600901)  56.0\n",
       "                          湖南盐业(600929)  31.0\n",
       "                          成都银行(601838)  85.0\n",
       "                          倍加洁(603059)   55.0\n",
       "                          养元饮品(603156)  73.0\n",
       "                          爱婴室(603214)   27.0\n",
       "                          振德医疗(603301)  14.0\n",
       "                          南都物业(603506)  84.0\n",
       "                          淳中科技(603516)  83.0\n",
       "                          今创集团(603680)  58.0\n",
       "                          中源家居(603709)  77.0\n",
       "                          七一二(603712)   59.0\n",
       "                          仙鹤股份(603733)   6.0\n",
       "                          沃格光电(603773)   9.0\n",
       "                          嘉友国际(603871)  79.0\n",
       "                          鼎胜新材(603876)   8.0\n",
       "                          长城科技(603897)  16.0\n",
       "\n",
       "[152 rows x 1 columns]"
      ]
     },
     "execution_count": 19,
     "metadata": {},
     "output_type": "execute_result"
    }
   ],
   "source": [
    "run_pipeline(make_pipeline(), '2018-4-20', '2018-4-26')"
   ]
  },
  {
   "cell_type": "markdown",
   "metadata": {},
   "source": [
    "#### `QTradableStocks` 量化可交易股票"
   ]
  },
  {
   "cell_type": "code",
   "execution_count": 20,
   "metadata": {
    "ExecuteTime": {
     "end_time": "2018-04-28T00:51:20.476153Z",
     "start_time": "2018-04-28T00:51:20.473060Z"
    }
   },
   "outputs": [],
   "source": [
    "from zipline.pipeline.builtin import QTradableStocks"
   ]
  },
  {
   "cell_type": "code",
   "execution_count": 21,
   "metadata": {
    "ExecuteTime": {
     "end_time": "2018-04-28T00:51:20.484531Z",
     "start_time": "2018-04-28T00:51:20.478476Z"
    }
   },
   "outputs": [],
   "source": [
    "def make_pipeline():\n",
    "    stocks = QTradableStocks()\n",
    "    ma20 = SimpleMovingAverage(\n",
    "        inputs=[USEquityPricing.close], window_length=20)\n",
    "    return Pipeline(\n",
    "        columns={\n",
    "            'ma20': ma20,\n",
    "        }, \n",
    "        screen=stocks\n",
    "    )"
   ]
  },
  {
   "cell_type": "code",
   "execution_count": 22,
   "metadata": {
    "ExecuteTime": {
     "end_time": "2018-04-28T00:51:20.934726Z",
     "start_time": "2018-04-28T00:51:20.487099Z"
    }
   },
   "outputs": [],
   "source": [
    "result = run_pipeline(make_pipeline(), '2018-4-20', '2018-4-26')"
   ]
  },
  {
   "cell_type": "code",
   "execution_count": 23,
   "metadata": {
    "ExecuteTime": {
     "end_time": "2018-04-28T00:51:20.940342Z",
     "start_time": "2018-04-28T00:51:20.936724Z"
    }
   },
   "outputs": [],
   "source": [
    "ds = result.index.get_level_values(0).unique()"
   ]
  },
  {
   "cell_type": "code",
   "execution_count": 24,
   "metadata": {
    "ExecuteTime": {
     "end_time": "2018-04-28T00:51:20.964411Z",
     "start_time": "2018-04-28T00:51:20.948418Z"
    }
   },
   "outputs": [
    {
     "name": "stdout",
     "output_type": "stream",
     "text": [
      "在日期为2018-04-20时，有2620只股票符合\n",
      "在日期为2018-04-23时，有2622只股票符合\n",
      "在日期为2018-04-24时，有2620只股票符合\n",
      "在日期为2018-04-25时，有2622只股票符合\n",
      "在日期为2018-04-26时，有2628只股票符合\n"
     ]
    }
   ],
   "source": [
    "for d in ds:\n",
    "    print('在日期为{}时，有{}只股票符合'.format(d.date(), result.loc[d].shape[0]))"
   ]
  },
  {
   "cell_type": "markdown",
   "metadata": {
    "ExecuteTime": {
     "end_time": "2018-04-27T15:59:06.136214Z",
     "start_time": "2018-04-27T15:59:06.045351Z"
    }
   },
   "source": [
    "#### `TopAverageAmount` & `TAA` 平均成交额前N位\n",
    "+ 平均成交额排名前N位的股票。默认前500位"
   ]
  },
  {
   "cell_type": "code",
   "execution_count": 25,
   "metadata": {
    "ExecuteTime": {
     "end_time": "2018-04-28T00:51:21.339396Z",
     "start_time": "2018-04-28T00:51:20.970173Z"
    }
   },
   "outputs": [
    {
     "data": {
      "text/plain": [
       "True"
      ]
     },
     "execution_count": 25,
     "metadata": {},
     "output_type": "execute_result"
    }
   ],
   "source": [
    "from zipline.pipeline.builtin import TAA\n",
    "\n",
    "def make_pipeline():\n",
    "    stocks = QTradableStocks()\n",
    "    ma20 = SimpleMovingAverage(\n",
    "        inputs=[USEquityPricing.close], window_length=20)\n",
    "    return Pipeline(\n",
    "        columns={\n",
    "            'ma20': ma20,\n",
    "        }, \n",
    "        screen=TAA()\n",
    "    )\n",
    "\n",
    "result = run_pipeline(make_pipeline(), '2018-4-20', '2018-4-26')\n",
    "result.loc['2018-04-20'].shape == (500,1)"
   ]
  },
  {
   "cell_type": "markdown",
   "metadata": {},
   "source": [
    "#### `IsYZZT` & `IsYZDT`"
   ]
  },
  {
   "cell_type": "code",
   "execution_count": 26,
   "metadata": {
    "ExecuteTime": {
     "end_time": "2018-04-28T00:51:21.762841Z",
     "start_time": "2018-04-28T00:51:21.342247Z"
    }
   },
   "outputs": [
    {
     "data": {
      "text/html": [
       "<div>\n",
       "<style scoped>\n",
       "    .dataframe tbody tr th:only-of-type {\n",
       "        vertical-align: middle;\n",
       "    }\n",
       "\n",
       "    .dataframe tbody tr th {\n",
       "        vertical-align: top;\n",
       "    }\n",
       "\n",
       "    .dataframe thead th {\n",
       "        text-align: right;\n",
       "    }\n",
       "</style>\n",
       "<table border=\"1\" class=\"dataframe\">\n",
       "  <thead>\n",
       "    <tr style=\"text-align: right;\">\n",
       "      <th></th>\n",
       "      <th></th>\n",
       "      <th>ma20</th>\n",
       "    </tr>\n",
       "  </thead>\n",
       "  <tbody>\n",
       "    <tr>\n",
       "      <th rowspan=\"6\" valign=\"top\">2018-04-20 00:00:00+00:00</th>\n",
       "      <th>华锋股份(002806)</th>\n",
       "      <td>18.429500</td>\n",
       "    </tr>\n",
       "    <tr>\n",
       "      <th>锋龙股份(002931)</th>\n",
       "      <td>28.957000</td>\n",
       "    </tr>\n",
       "    <tr>\n",
       "      <th>国民技术(300077)</th>\n",
       "      <td>8.778500</td>\n",
       "    </tr>\n",
       "    <tr>\n",
       "      <th>振德医疗(603301)</th>\n",
       "      <td>36.696667</td>\n",
       "    </tr>\n",
       "    <tr>\n",
       "      <th>沃格光电(603773)</th>\n",
       "      <td>53.020000</td>\n",
       "    </tr>\n",
       "    <tr>\n",
       "      <th>鼎胜新材(603876)</th>\n",
       "      <td>20.475000</td>\n",
       "    </tr>\n",
       "  </tbody>\n",
       "</table>\n",
       "</div>"
      ],
      "text/plain": [
       "                                             ma20\n",
       "2018-04-20 00:00:00+00:00 华锋股份(002806)  18.429500\n",
       "                          锋龙股份(002931)  28.957000\n",
       "                          国民技术(300077)   8.778500\n",
       "                          振德医疗(603301)  36.696667\n",
       "                          沃格光电(603773)  53.020000\n",
       "                          鼎胜新材(603876)  20.475000"
      ]
     },
     "execution_count": 26,
     "metadata": {},
     "output_type": "execute_result"
    }
   ],
   "source": [
    "from zipline.pipeline.builtin import IsYZZT\n",
    "\n",
    "def make_pipeline():\n",
    "    ma20 = SimpleMovingAverage(\n",
    "        inputs=[USEquityPricing.close], window_length=20)\n",
    "    return Pipeline(\n",
    "        columns={\n",
    "            'ma20': ma20,\n",
    "        }, \n",
    "        screen=IsYZZT()\n",
    "    )\n",
    "# 只输出一字涨停部分\n",
    "run_pipeline(make_pipeline(), '2018-4-20', '2018-4-22')"
   ]
  },
  {
   "cell_type": "code",
   "execution_count": 27,
   "metadata": {
    "ExecuteTime": {
     "end_time": "2018-04-28T00:51:22.179751Z",
     "start_time": "2018-04-28T00:51:21.765522Z"
    }
   },
   "outputs": [
    {
     "data": {
      "text/html": [
       "<div>\n",
       "<style scoped>\n",
       "    .dataframe tbody tr th:only-of-type {\n",
       "        vertical-align: middle;\n",
       "    }\n",
       "\n",
       "    .dataframe tbody tr th {\n",
       "        vertical-align: top;\n",
       "    }\n",
       "\n",
       "    .dataframe thead th {\n",
       "        text-align: right;\n",
       "    }\n",
       "</style>\n",
       "<table border=\"1\" class=\"dataframe\">\n",
       "  <thead>\n",
       "    <tr style=\"text-align: right;\">\n",
       "      <th></th>\n",
       "      <th></th>\n",
       "      <th>ma20</th>\n",
       "    </tr>\n",
       "  </thead>\n",
       "  <tbody>\n",
       "    <tr>\n",
       "      <th rowspan=\"4\" valign=\"top\">2018-04-20 00:00:00+00:00</th>\n",
       "      <th>*ST华泽(000693)</th>\n",
       "      <td>7.9140</td>\n",
       "    </tr>\n",
       "    <tr>\n",
       "      <th>*ST三维(000755)</th>\n",
       "      <td>6.2410</td>\n",
       "    </tr>\n",
       "    <tr>\n",
       "      <th>ST尤夫(002427)</th>\n",
       "      <td>19.3865</td>\n",
       "    </tr>\n",
       "    <tr>\n",
       "      <th>ST龙力(002604)</th>\n",
       "      <td>8.1875</td>\n",
       "    </tr>\n",
       "  </tbody>\n",
       "</table>\n",
       "</div>"
      ],
      "text/plain": [
       "                                            ma20\n",
       "2018-04-20 00:00:00+00:00 *ST华泽(000693)   7.9140\n",
       "                          *ST三维(000755)   6.2410\n",
       "                          ST尤夫(002427)   19.3865\n",
       "                          ST龙力(002604)    8.1875"
      ]
     },
     "execution_count": 27,
     "metadata": {},
     "output_type": "execute_result"
    }
   ],
   "source": [
    "from zipline.pipeline.builtin import IsYZDT\n",
    "\n",
    "def make_pipeline():\n",
    "    ma20 = SimpleMovingAverage(\n",
    "        inputs=[USEquityPricing.close], window_length=20)\n",
    "    return Pipeline(\n",
    "        columns={\n",
    "            'ma20': ma20,\n",
    "        }, \n",
    "        screen=IsYZDT()\n",
    "    )\n",
    "# 只输出一字跌停部分\n",
    "run_pipeline(make_pipeline(), '2018-4-20', '2018-4-22')"
   ]
  },
  {
   "cell_type": "markdown",
   "metadata": {},
   "source": [
    "### 分类器"
   ]
  },
  {
   "cell_type": "markdown",
   "metadata": {},
   "source": [
    "股票分类涉及到地区、行业、概念，为简化处理，不再动态跟踪数据，而是使用静态方式简化。每次回测时，都使用最新的分类数据。如股票在2018-2-1，所处地区为上海，后由于变更注册地，2018-4-1所处地区更改为北京。在2018-2-1回测时，该股票使用的分类数据是最新数据，即上海；而2018-4-1回测时，使用的分类数据为北京。但这会造成一个问题，即在不同的时间，以同样策略回测同一期间的数据时，结果会不一致。请注意此类差异。"
   ]
  },
  {
   "cell_type": "markdown",
   "metadata": {},
   "source": [
    "分类器直接使用`Fundamentals`容器类"
   ]
  },
  {
   "cell_type": "code",
   "execution_count": 28,
   "metadata": {
    "ExecuteTime": {
     "end_time": "2018-04-28T00:51:22.188406Z",
     "start_time": "2018-04-28T00:51:22.183139Z"
    }
   },
   "outputs": [],
   "source": [
    "def make_pipeline():\n",
    "    dqfl = Fundamentals.info.region.latest\n",
    "    return Pipeline(\n",
    "        columns={\n",
    "            'dqfl': dqfl,\n",
    "        }, \n",
    "        screen=dqfl.element_of([0,1,22])\n",
    "    )"
   ]
  },
  {
   "cell_type": "code",
   "execution_count": 29,
   "metadata": {
    "ExecuteTime": {
     "end_time": "2018-04-28T00:51:22.344742Z",
     "start_time": "2018-04-28T00:51:22.190773Z"
    }
   },
   "outputs": [
    {
     "data": {
      "text/html": [
       "<div>\n",
       "<style scoped>\n",
       "    .dataframe tbody tr th:only-of-type {\n",
       "        vertical-align: middle;\n",
       "    }\n",
       "\n",
       "    .dataframe tbody tr th {\n",
       "        vertical-align: top;\n",
       "    }\n",
       "\n",
       "    .dataframe thead th {\n",
       "        text-align: right;\n",
       "    }\n",
       "</style>\n",
       "<table border=\"1\" class=\"dataframe\">\n",
       "  <thead>\n",
       "    <tr style=\"text-align: right;\">\n",
       "      <th></th>\n",
       "      <th></th>\n",
       "      <th>dqfl</th>\n",
       "    </tr>\n",
       "  </thead>\n",
       "  <tbody>\n",
       "    <tr>\n",
       "      <th rowspan=\"30\" valign=\"top\">2018-04-20 00:00:00+00:00</th>\n",
       "      <th>云南白药(000538)</th>\n",
       "      <td>1</td>\n",
       "    </tr>\n",
       "    <tr>\n",
       "      <th>靖远煤电(000552)</th>\n",
       "      <td>22</td>\n",
       "    </tr>\n",
       "    <tr>\n",
       "      <th>昆百大Ａ(000560)</th>\n",
       "      <td>1</td>\n",
       "    </tr>\n",
       "    <tr>\n",
       "      <th>美好置业(000667)</th>\n",
       "      <td>1</td>\n",
       "    </tr>\n",
       "    <tr>\n",
       "      <th>荣丰控股(000668)</th>\n",
       "      <td>0</td>\n",
       "    </tr>\n",
       "    <tr>\n",
       "      <th>三毛派神(000779)</th>\n",
       "      <td>22</td>\n",
       "    </tr>\n",
       "    <tr>\n",
       "      <th>甘肃电投(000791)</th>\n",
       "      <td>22</td>\n",
       "    </tr>\n",
       "    <tr>\n",
       "      <th>云铝股份(000807)</th>\n",
       "      <td>1</td>\n",
       "    </tr>\n",
       "    <tr>\n",
       "      <th>云南铜业(000878)</th>\n",
       "      <td>1</td>\n",
       "    </tr>\n",
       "    <tr>\n",
       "      <th>云内动力(000903)</th>\n",
       "      <td>1</td>\n",
       "    </tr>\n",
       "    <tr>\n",
       "      <th>兰州黄河(000929)</th>\n",
       "      <td>22</td>\n",
       "    </tr>\n",
       "    <tr>\n",
       "      <th>南天信息(000948)</th>\n",
       "      <td>1</td>\n",
       "    </tr>\n",
       "    <tr>\n",
       "      <th>锡业股份(000960)</th>\n",
       "      <td>1</td>\n",
       "    </tr>\n",
       "    <tr>\n",
       "      <th>银亿股份(000981)</th>\n",
       "      <td>22</td>\n",
       "    </tr>\n",
       "    <tr>\n",
       "      <th>皇台酒业(000995)</th>\n",
       "      <td>22</td>\n",
       "    </tr>\n",
       "    <tr>\n",
       "      <th>科华生物(002022)</th>\n",
       "      <td>0</td>\n",
       "    </tr>\n",
       "    <tr>\n",
       "      <th>思源电气(002028)</th>\n",
       "      <td>0</td>\n",
       "    </tr>\n",
       "    <tr>\n",
       "      <th>丽江旅游(002033)</th>\n",
       "      <td>1</td>\n",
       "    </tr>\n",
       "    <tr>\n",
       "      <th>云南能投(002053)</th>\n",
       "      <td>1</td>\n",
       "    </tr>\n",
       "    <tr>\n",
       "      <th>威 尔 泰(002058)</th>\n",
       "      <td>0</td>\n",
       "    </tr>\n",
       "    <tr>\n",
       "      <th>云南旅游(002059)</th>\n",
       "      <td>1</td>\n",
       "    </tr>\n",
       "    <tr>\n",
       "      <th>罗平锌电(002114)</th>\n",
       "      <td>1</td>\n",
       "    </tr>\n",
       "    <tr>\n",
       "      <th>中国海诚(002116)</th>\n",
       "      <td>0</td>\n",
       "    </tr>\n",
       "    <tr>\n",
       "      <th>中核钛白(002145)</th>\n",
       "      <td>22</td>\n",
       "    </tr>\n",
       "    <tr>\n",
       "      <th>汉钟精机(002158)</th>\n",
       "      <td>0</td>\n",
       "    </tr>\n",
       "    <tr>\n",
       "      <th>悦心健康(002162)</th>\n",
       "      <td>0</td>\n",
       "    </tr>\n",
       "    <tr>\n",
       "      <th>延华智能(002178)</th>\n",
       "      <td>0</td>\n",
       "    </tr>\n",
       "    <tr>\n",
       "      <th>海得控制(002184)</th>\n",
       "      <td>0</td>\n",
       "    </tr>\n",
       "    <tr>\n",
       "      <th>华天科技(002185)</th>\n",
       "      <td>22</td>\n",
       "    </tr>\n",
       "    <tr>\n",
       "      <th>二三四五(002195)</th>\n",
       "      <td>0</td>\n",
       "    </tr>\n",
       "    <tr>\n",
       "      <th>...</th>\n",
       "      <th>...</th>\n",
       "      <td>...</td>\n",
       "    </tr>\n",
       "    <tr>\n",
       "      <th rowspan=\"30\" valign=\"top\">2018-04-26 00:00:00+00:00</th>\n",
       "      <th>申通地铁(600834)</th>\n",
       "      <td>0</td>\n",
       "    </tr>\n",
       "    <tr>\n",
       "      <th>上海机电(600835)</th>\n",
       "      <td>0</td>\n",
       "    </tr>\n",
       "    <tr>\n",
       "      <th>界龙实业(600836)</th>\n",
       "      <td>0</td>\n",
       "    </tr>\n",
       "    <tr>\n",
       "      <th>海通证券(600837)</th>\n",
       "      <td>0</td>\n",
       "    </tr>\n",
       "    <tr>\n",
       "      <th>上海九百(600838)</th>\n",
       "      <td>0</td>\n",
       "    </tr>\n",
       "    <tr>\n",
       "      <th>上柴股份(600841)</th>\n",
       "      <td>0</td>\n",
       "    </tr>\n",
       "    <tr>\n",
       "      <th>上工申贝(600843)</th>\n",
       "      <td>0</td>\n",
       "    </tr>\n",
       "    <tr>\n",
       "      <th>丹化科技(600844)</th>\n",
       "      <td>0</td>\n",
       "    </tr>\n",
       "    <tr>\n",
       "      <th>宝信软件(600845)</th>\n",
       "      <td>0</td>\n",
       "    </tr>\n",
       "    <tr>\n",
       "      <th>同济科技(600846)</th>\n",
       "      <td>0</td>\n",
       "    </tr>\n",
       "    <tr>\n",
       "      <th>上海临港(600848)</th>\n",
       "      <td>0</td>\n",
       "    </tr>\n",
       "    <tr>\n",
       "      <th>华东电脑(600850)</th>\n",
       "      <td>0</td>\n",
       "    </tr>\n",
       "    <tr>\n",
       "      <th>海欣股份(600851)</th>\n",
       "      <td>0</td>\n",
       "    </tr>\n",
       "    <tr>\n",
       "      <th>博闻科技(600883)</th>\n",
       "      <td>1</td>\n",
       "    </tr>\n",
       "    <tr>\n",
       "      <th>国投电力(600886)</th>\n",
       "      <td>22</td>\n",
       "    </tr>\n",
       "    <tr>\n",
       "      <th>张江高科(600895)</th>\n",
       "      <td>0</td>\n",
       "    </tr>\n",
       "    <tr>\n",
       "      <th>太平洋(601099)</th>\n",
       "      <td>1</td>\n",
       "    </tr>\n",
       "    <tr>\n",
       "      <th>环旭电子(601231)</th>\n",
       "      <td>0</td>\n",
       "    </tr>\n",
       "    <tr>\n",
       "      <th>交通银行(601328)</th>\n",
       "      <td>0</td>\n",
       "    </tr>\n",
       "    <tr>\n",
       "      <th>*ST智慧(601519)</th>\n",
       "      <td>0</td>\n",
       "    </tr>\n",
       "    <tr>\n",
       "      <th>中国太保(601601)</th>\n",
       "      <td>0</td>\n",
       "    </tr>\n",
       "    <tr>\n",
       "      <th>上海医药(601607)</th>\n",
       "      <td>0</td>\n",
       "    </tr>\n",
       "    <tr>\n",
       "      <th>广电电气(601616)</th>\n",
       "      <td>0</td>\n",
       "    </tr>\n",
       "    <tr>\n",
       "      <th>上海电气(601727)</th>\n",
       "      <td>0</td>\n",
       "    </tr>\n",
       "    <tr>\n",
       "      <th>光大证券(601788)</th>\n",
       "      <td>0</td>\n",
       "    </tr>\n",
       "    <tr>\n",
       "      <th>*ST蓝科(601798)</th>\n",
       "      <td>22</td>\n",
       "    </tr>\n",
       "    <tr>\n",
       "      <th>中远海发(601866)</th>\n",
       "      <td>0</td>\n",
       "    </tr>\n",
       "    <tr>\n",
       "      <th>招商轮船(601872)</th>\n",
       "      <td>0</td>\n",
       "    </tr>\n",
       "    <tr>\n",
       "      <th>龙宇燃油(603003)</th>\n",
       "      <td>0</td>\n",
       "    </tr>\n",
       "    <tr>\n",
       "      <th>华贸物流(603128)</th>\n",
       "      <td>0</td>\n",
       "    </tr>\n",
       "  </tbody>\n",
       "</table>\n",
       "<p>1225 rows × 1 columns</p>\n",
       "</div>"
      ],
      "text/plain": [
       "                                         dqfl\n",
       "2018-04-20 00:00:00+00:00 云南白药(000538)      1\n",
       "                          靖远煤电(000552)     22\n",
       "                          昆百大Ａ(000560)      1\n",
       "                          美好置业(000667)      1\n",
       "                          荣丰控股(000668)      0\n",
       "                          三毛派神(000779)     22\n",
       "                          甘肃电投(000791)     22\n",
       "                          云铝股份(000807)      1\n",
       "                          云南铜业(000878)      1\n",
       "                          云内动力(000903)      1\n",
       "                          兰州黄河(000929)     22\n",
       "                          南天信息(000948)      1\n",
       "                          锡业股份(000960)      1\n",
       "                          银亿股份(000981)     22\n",
       "                          皇台酒业(000995)     22\n",
       "                          科华生物(002022)      0\n",
       "                          思源电气(002028)      0\n",
       "                          丽江旅游(002033)      1\n",
       "                          云南能投(002053)      1\n",
       "                          威 尔 泰(002058)     0\n",
       "                          云南旅游(002059)      1\n",
       "                          罗平锌电(002114)      1\n",
       "                          中国海诚(002116)      0\n",
       "                          中核钛白(002145)     22\n",
       "                          汉钟精机(002158)      0\n",
       "                          悦心健康(002162)      0\n",
       "                          延华智能(002178)      0\n",
       "                          海得控制(002184)      0\n",
       "                          华天科技(002185)     22\n",
       "                          二三四五(002195)      0\n",
       "...                                       ...\n",
       "2018-04-26 00:00:00+00:00 申通地铁(600834)      0\n",
       "                          上海机电(600835)      0\n",
       "                          界龙实业(600836)      0\n",
       "                          海通证券(600837)      0\n",
       "                          上海九百(600838)      0\n",
       "                          上柴股份(600841)      0\n",
       "                          上工申贝(600843)      0\n",
       "                          丹化科技(600844)      0\n",
       "                          宝信软件(600845)      0\n",
       "                          同济科技(600846)      0\n",
       "                          上海临港(600848)      0\n",
       "                          华东电脑(600850)      0\n",
       "                          海欣股份(600851)      0\n",
       "                          博闻科技(600883)      1\n",
       "                          国投电力(600886)     22\n",
       "                          张江高科(600895)      0\n",
       "                          太平洋(601099)       1\n",
       "                          环旭电子(601231)      0\n",
       "                          交通银行(601328)      0\n",
       "                          *ST智慧(601519)     0\n",
       "                          中国太保(601601)      0\n",
       "                          上海医药(601607)      0\n",
       "                          广电电气(601616)      0\n",
       "                          上海电气(601727)      0\n",
       "                          光大证券(601788)      0\n",
       "                          *ST蓝科(601798)    22\n",
       "                          中远海发(601866)      0\n",
       "                          招商轮船(601872)      0\n",
       "                          龙宇燃油(603003)      0\n",
       "                          华贸物流(603128)      0\n",
       "\n",
       "[1225 rows x 1 columns]"
      ]
     },
     "execution_count": 29,
     "metadata": {},
     "output_type": "execute_result"
    }
   ],
   "source": [
    "run_pipeline(make_pipeline(), '2018-4-20', '2018-4-26')"
   ]
  },
  {
   "cell_type": "code",
   "execution_count": 30,
   "metadata": {
    "ExecuteTime": {
     "end_time": "2018-04-28T00:51:22.411351Z",
     "start_time": "2018-04-28T00:51:22.347926Z"
    }
   },
   "outputs": [
    {
     "data": {
      "text/plain": [
       "'上海市'"
      ]
     },
     "execution_count": 30,
     "metadata": {},
     "output_type": "execute_result"
    }
   ],
   "source": [
    "# 通过查询获取分类编码的含义\n",
    "Fundamentals.region_cname(0)"
   ]
  },
  {
   "cell_type": "code",
   "execution_count": 31,
   "metadata": {
    "ExecuteTime": {
     "end_time": "2018-04-28T00:51:22.478370Z",
     "start_time": "2018-04-28T00:51:22.415228Z"
    }
   },
   "outputs": [
    {
     "data": {
      "text/plain": [
       "'甘肃省'"
      ]
     },
     "execution_count": 31,
     "metadata": {},
     "output_type": "execute_result"
    }
   ],
   "source": [
    "Fundamentals.region_cname(22)"
   ]
  }
 ],
 "metadata": {
  "kernelspec": {
   "display_name": "zipline",
   "language": "python",
   "name": "zipline"
  },
  "language_info": {
   "codemirror_mode": {
    "name": "ipython",
    "version": 3
   },
   "file_extension": ".py",
   "mimetype": "text/x-python",
   "name": "python",
   "nbconvert_exporter": "python",
   "pygments_lexer": "ipython3",
   "version": "3.6.5"
  },
  "toc": {
   "base_numbering": 1,
   "nav_menu": {},
   "number_sections": true,
   "sideBar": true,
   "skip_h1_title": false,
   "title_cell": "Table of Contents",
   "title_sidebar": "Contents",
   "toc_cell": false,
   "toc_position": {},
   "toc_section_display": true,
   "toc_window_display": true
  }
 },
 "nbformat": 4,
 "nbformat_minor": 2
}
