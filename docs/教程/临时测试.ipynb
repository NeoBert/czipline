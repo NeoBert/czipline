{
 "cells": [
  {
   "cell_type": "code",
   "execution_count": 1,
   "metadata": {
    "ExecuteTime": {
     "end_time": "2018-04-27T14:29:02.290294Z",
     "start_time": "2018-04-27T14:28:59.394390Z"
    }
   },
   "outputs": [],
   "source": [
    "from zipline.pipeline.fundamentals.reader import Fundamentals\n",
    "from zipline.pipeline.builtin import TradingDays,QTradableStocks\n",
    "from zipline.research import run_pipeline, select_output_by\n",
    "from zipline.pipeline import Pipeline\n",
    "from zipline.pipeline.data import USEquityPricing\n",
    "from zipline.pipeline.factors import SimpleMovingAverage"
   ]
  },
  {
   "cell_type": "code",
   "execution_count": 2,
   "metadata": {
    "ExecuteTime": {
     "end_time": "2018-04-27T14:29:02.309908Z",
     "start_time": "2018-04-27T14:29:02.302456Z"
    }
   },
   "outputs": [],
   "source": [
    "from zipline.pipeline.builtin import IsNewShare,NDays"
   ]
  },
  {
   "cell_type": "code",
   "execution_count": 3,
   "metadata": {
    "ExecuteTime": {
     "end_time": "2018-04-27T14:29:02.331202Z",
     "start_time": "2018-04-27T14:29:02.322050Z"
    }
   },
   "outputs": [],
   "source": [
    "def make_pipeline():\n",
    "    #base_universe = QTradableStocks()\n",
    "    ndays = NDays()\n",
    "\n",
    "    return Pipeline(\n",
    "        columns={\n",
    "            '上市天数': ndays,\n",
    "        }, \n",
    "        screen=IsNewShare()\n",
    "    )"
   ]
  },
  {
   "cell_type": "code",
   "execution_count": 4,
   "metadata": {
    "ExecuteTime": {
     "end_time": "2018-04-27T14:29:10.976013Z",
     "start_time": "2018-04-27T14:29:02.344105Z"
    }
   },
   "outputs": [],
   "source": [
    "result = run_pipeline(make_pipeline(), '2018-1-20', '2018-4-26')"
   ]
  },
  {
   "cell_type": "code",
   "execution_count": 10,
   "metadata": {
    "ExecuteTime": {
     "end_time": "2018-04-27T14:30:29.434247Z",
     "start_time": "2018-04-27T14:30:29.410476Z"
    }
   },
   "outputs": [
    {
     "data": {
      "text/html": [
       "<div>\n",
       "<style scoped>\n",
       "    .dataframe tbody tr th:only-of-type {\n",
       "        vertical-align: middle;\n",
       "    }\n",
       "\n",
       "    .dataframe tbody tr th {\n",
       "        vertical-align: top;\n",
       "    }\n",
       "\n",
       "    .dataframe thead th {\n",
       "        text-align: right;\n",
       "    }\n",
       "</style>\n",
       "<table border=\"1\" class=\"dataframe\">\n",
       "  <thead>\n",
       "    <tr style=\"text-align: right;\">\n",
       "      <th></th>\n",
       "      <th></th>\n",
       "      <th>上市天数</th>\n",
       "    </tr>\n",
       "  </thead>\n",
       "  <tbody>\n",
       "    <tr>\n",
       "      <th>2018-04-02 00:00:00+00:00</th>\n",
       "      <th>爱婴室(603214)</th>\n",
       "      <td>3.0</td>\n",
       "    </tr>\n",
       "    <tr>\n",
       "      <th>2018-04-03 00:00:00+00:00</th>\n",
       "      <th>爱婴室(603214)</th>\n",
       "      <td>4.0</td>\n",
       "    </tr>\n",
       "    <tr>\n",
       "      <th>2018-04-04 00:00:00+00:00</th>\n",
       "      <th>爱婴室(603214)</th>\n",
       "      <td>5.0</td>\n",
       "    </tr>\n",
       "    <tr>\n",
       "      <th>2018-04-10 00:00:00+00:00</th>\n",
       "      <th>爱婴室(603214)</th>\n",
       "      <td>11.0</td>\n",
       "    </tr>\n",
       "    <tr>\n",
       "      <th>2018-04-11 00:00:00+00:00</th>\n",
       "      <th>爱婴室(603214)</th>\n",
       "      <td>12.0</td>\n",
       "    </tr>\n",
       "    <tr>\n",
       "      <th>2018-04-12 00:00:00+00:00</th>\n",
       "      <th>爱婴室(603214)</th>\n",
       "      <td>13.0</td>\n",
       "    </tr>\n",
       "    <tr>\n",
       "      <th>2018-04-13 00:00:00+00:00</th>\n",
       "      <th>爱婴室(603214)</th>\n",
       "      <td>14.0</td>\n",
       "    </tr>\n",
       "    <tr>\n",
       "      <th>2018-04-16 00:00:00+00:00</th>\n",
       "      <th>爱婴室(603214)</th>\n",
       "      <td>17.0</td>\n",
       "    </tr>\n",
       "    <tr>\n",
       "      <th>2018-04-17 00:00:00+00:00</th>\n",
       "      <th>爱婴室(603214)</th>\n",
       "      <td>18.0</td>\n",
       "    </tr>\n",
       "    <tr>\n",
       "      <th>2018-04-18 00:00:00+00:00</th>\n",
       "      <th>爱婴室(603214)</th>\n",
       "      <td>19.0</td>\n",
       "    </tr>\n",
       "    <tr>\n",
       "      <th>2018-04-19 00:00:00+00:00</th>\n",
       "      <th>爱婴室(603214)</th>\n",
       "      <td>20.0</td>\n",
       "    </tr>\n",
       "    <tr>\n",
       "      <th>2018-04-20 00:00:00+00:00</th>\n",
       "      <th>爱婴室(603214)</th>\n",
       "      <td>21.0</td>\n",
       "    </tr>\n",
       "    <tr>\n",
       "      <th>2018-04-23 00:00:00+00:00</th>\n",
       "      <th>爱婴室(603214)</th>\n",
       "      <td>24.0</td>\n",
       "    </tr>\n",
       "    <tr>\n",
       "      <th>2018-04-24 00:00:00+00:00</th>\n",
       "      <th>爱婴室(603214)</th>\n",
       "      <td>25.0</td>\n",
       "    </tr>\n",
       "    <tr>\n",
       "      <th>2018-04-25 00:00:00+00:00</th>\n",
       "      <th>爱婴室(603214)</th>\n",
       "      <td>26.0</td>\n",
       "    </tr>\n",
       "    <tr>\n",
       "      <th>2018-04-26 00:00:00+00:00</th>\n",
       "      <th>爱婴室(603214)</th>\n",
       "      <td>27.0</td>\n",
       "    </tr>\n",
       "  </tbody>\n",
       "</table>\n",
       "</div>"
      ],
      "text/plain": [
       "                                       上市天数\n",
       "2018-04-02 00:00:00+00:00 爱婴室(603214)   3.0\n",
       "2018-04-03 00:00:00+00:00 爱婴室(603214)   4.0\n",
       "2018-04-04 00:00:00+00:00 爱婴室(603214)   5.0\n",
       "2018-04-10 00:00:00+00:00 爱婴室(603214)  11.0\n",
       "2018-04-11 00:00:00+00:00 爱婴室(603214)  12.0\n",
       "2018-04-12 00:00:00+00:00 爱婴室(603214)  13.0\n",
       "2018-04-13 00:00:00+00:00 爱婴室(603214)  14.0\n",
       "2018-04-16 00:00:00+00:00 爱婴室(603214)  17.0\n",
       "2018-04-17 00:00:00+00:00 爱婴室(603214)  18.0\n",
       "2018-04-18 00:00:00+00:00 爱婴室(603214)  19.0\n",
       "2018-04-19 00:00:00+00:00 爱婴室(603214)  20.0\n",
       "2018-04-20 00:00:00+00:00 爱婴室(603214)  21.0\n",
       "2018-04-23 00:00:00+00:00 爱婴室(603214)  24.0\n",
       "2018-04-24 00:00:00+00:00 爱婴室(603214)  25.0\n",
       "2018-04-25 00:00:00+00:00 爱婴室(603214)  26.0\n",
       "2018-04-26 00:00:00+00:00 爱婴室(603214)  27.0"
      ]
     },
     "execution_count": 10,
     "metadata": {},
     "output_type": "execute_result"
    }
   ],
   "source": [
    "select_output_by(result,stock_codes='603214') #['600645','603103','603214','603876'])"
   ]
  },
  {
   "cell_type": "code",
   "execution_count": 6,
   "metadata": {
    "ExecuteTime": {
     "end_time": "2018-04-27T14:29:11.021542Z",
     "start_time": "2018-04-27T14:29:11.017483Z"
    }
   },
   "outputs": [],
   "source": [
    "import pandas as pd"
   ]
  },
  {
   "cell_type": "code",
   "execution_count": 7,
   "metadata": {
    "ExecuteTime": {
     "end_time": "2018-04-27T14:29:11.026403Z",
     "start_time": "2018-04-27T14:29:11.023796Z"
    }
   },
   "outputs": [],
   "source": [
    "ipo = pd.Timestamp('2009-10-30')"
   ]
  },
  {
   "cell_type": "code",
   "execution_count": 8,
   "metadata": {
    "ExecuteTime": {
     "end_time": "2018-04-27T14:29:11.042502Z",
     "start_time": "2018-04-27T14:29:11.028816Z"
    }
   },
   "outputs": [
    {
     "data": {
      "text/plain": [
       "Timedelta('3101 days 22:29:11.034301')"
      ]
     },
     "execution_count": 8,
     "metadata": {},
     "output_type": "execute_result"
    }
   ],
   "source": [
    "pd.Timestamp('today') - ipo"
   ]
  },
  {
   "cell_type": "code",
   "execution_count": null,
   "metadata": {},
   "outputs": [],
   "source": []
  }
 ],
 "metadata": {
  "kernelspec": {
   "display_name": "zipline",
   "language": "python",
   "name": "zipline"
  },
  "language_info": {
   "codemirror_mode": {
    "name": "ipython",
    "version": 3
   },
   "file_extension": ".py",
   "mimetype": "text/x-python",
   "name": "python",
   "nbconvert_exporter": "python",
   "pygments_lexer": "ipython3",
   "version": "3.6.5"
  }
 },
 "nbformat": 4,
 "nbformat_minor": 2
}
