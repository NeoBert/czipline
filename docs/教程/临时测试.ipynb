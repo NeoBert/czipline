{
 "cells": [
  {
   "cell_type": "code",
   "execution_count": 1,
   "metadata": {
    "ExecuteTime": {
     "end_time": "2018-04-26T16:41:24.673314Z",
     "start_time": "2018-04-26T16:41:22.998694Z"
    }
   },
   "outputs": [],
   "source": [
    "from zipline.data.loader import load_market_data"
   ]
  },
  {
   "cell_type": "code",
   "execution_count": 3,
   "metadata": {
    "ExecuteTime": {
     "end_time": "2018-04-26T16:41:35.033390Z",
     "start_time": "2018-04-26T16:41:34.959510Z"
    }
   },
   "outputs": [],
   "source": [
    "a,b = load_market_data(bm_symbol='000300')"
   ]
  },
  {
   "cell_type": "code",
   "execution_count": 4,
   "metadata": {
    "ExecuteTime": {
     "end_time": "2018-04-26T16:41:39.857214Z",
     "start_time": "2018-04-26T16:41:39.828780Z"
    }
   },
   "outputs": [
    {
     "data": {
      "text/plain": [
       "2002-01-07 00:00:00+00:00   -0.010923\n",
       "2002-01-08 00:00:00+00:00   -0.007196\n",
       "2002-01-09 00:00:00+00:00   -0.015518\n",
       "2002-01-10 00:00:00+00:00    0.006765\n",
       "2002-01-11 00:00:00+00:00   -0.024546\n",
       "dtype: float64"
      ]
     },
     "execution_count": 4,
     "metadata": {},
     "output_type": "execute_result"
    }
   ],
   "source": [
    "a.head()"
   ]
  },
  {
   "cell_type": "code",
   "execution_count": 5,
   "metadata": {
    "ExecuteTime": {
     "end_time": "2018-04-26T16:41:46.209055Z",
     "start_time": "2018-04-26T16:41:46.174563Z"
    }
   },
   "outputs": [
    {
     "data": {
      "text/html": [
       "<div>\n",
       "<style scoped>\n",
       "    .dataframe tbody tr th:only-of-type {\n",
       "        vertical-align: middle;\n",
       "    }\n",
       "\n",
       "    .dataframe tbody tr th {\n",
       "        vertical-align: top;\n",
       "    }\n",
       "\n",
       "    .dataframe thead th {\n",
       "        text-align: right;\n",
       "    }\n",
       "</style>\n",
       "<table border=\"1\" class=\"dataframe\">\n",
       "  <thead>\n",
       "    <tr style=\"text-align: right;\">\n",
       "      <th></th>\n",
       "      <th>1month</th>\n",
       "      <th>3month</th>\n",
       "      <th>6month</th>\n",
       "      <th>1year</th>\n",
       "      <th>2year</th>\n",
       "      <th>3year</th>\n",
       "      <th>5year</th>\n",
       "      <th>7year</th>\n",
       "      <th>10year</th>\n",
       "      <th>20year</th>\n",
       "      <th>30year</th>\n",
       "    </tr>\n",
       "  </thead>\n",
       "  <tbody>\n",
       "    <tr>\n",
       "      <th>2002-01-07 00:00:00+00:00</th>\n",
       "      <td>0.028534</td>\n",
       "      <td>0.017577</td>\n",
       "      <td>0.015891</td>\n",
       "      <td>0.0168</td>\n",
       "      <td>0.018426</td>\n",
       "      <td>0.020052</td>\n",
       "      <td>0.02364</td>\n",
       "      <td>0.02632</td>\n",
       "      <td>0.029</td>\n",
       "      <td>0.0346</td>\n",
       "      <td>0.035</td>\n",
       "    </tr>\n",
       "    <tr>\n",
       "      <th>2002-01-08 00:00:00+00:00</th>\n",
       "      <td>0.028534</td>\n",
       "      <td>0.017577</td>\n",
       "      <td>0.015891</td>\n",
       "      <td>0.0168</td>\n",
       "      <td>0.018426</td>\n",
       "      <td>0.020052</td>\n",
       "      <td>0.02364</td>\n",
       "      <td>0.02632</td>\n",
       "      <td>0.029</td>\n",
       "      <td>0.0346</td>\n",
       "      <td>0.035</td>\n",
       "    </tr>\n",
       "    <tr>\n",
       "      <th>2002-01-09 00:00:00+00:00</th>\n",
       "      <td>0.028534</td>\n",
       "      <td>0.017577</td>\n",
       "      <td>0.015891</td>\n",
       "      <td>0.0168</td>\n",
       "      <td>0.018426</td>\n",
       "      <td>0.020052</td>\n",
       "      <td>0.02364</td>\n",
       "      <td>0.02632</td>\n",
       "      <td>0.029</td>\n",
       "      <td>0.0346</td>\n",
       "      <td>0.035</td>\n",
       "    </tr>\n",
       "    <tr>\n",
       "      <th>2002-01-10 00:00:00+00:00</th>\n",
       "      <td>0.028534</td>\n",
       "      <td>0.017577</td>\n",
       "      <td>0.015891</td>\n",
       "      <td>0.0168</td>\n",
       "      <td>0.018426</td>\n",
       "      <td>0.020052</td>\n",
       "      <td>0.02364</td>\n",
       "      <td>0.02632</td>\n",
       "      <td>0.029</td>\n",
       "      <td>0.0346</td>\n",
       "      <td>0.035</td>\n",
       "    </tr>\n",
       "    <tr>\n",
       "      <th>2002-01-11 00:00:00+00:00</th>\n",
       "      <td>0.028534</td>\n",
       "      <td>0.017577</td>\n",
       "      <td>0.015891</td>\n",
       "      <td>0.0168</td>\n",
       "      <td>0.018426</td>\n",
       "      <td>0.020052</td>\n",
       "      <td>0.02364</td>\n",
       "      <td>0.02632</td>\n",
       "      <td>0.029</td>\n",
       "      <td>0.0346</td>\n",
       "      <td>0.035</td>\n",
       "    </tr>\n",
       "  </tbody>\n",
       "</table>\n",
       "</div>"
      ],
      "text/plain": [
       "                             1month    3month    6month   1year     2year  \\\n",
       "2002-01-07 00:00:00+00:00  0.028534  0.017577  0.015891  0.0168  0.018426   \n",
       "2002-01-08 00:00:00+00:00  0.028534  0.017577  0.015891  0.0168  0.018426   \n",
       "2002-01-09 00:00:00+00:00  0.028534  0.017577  0.015891  0.0168  0.018426   \n",
       "2002-01-10 00:00:00+00:00  0.028534  0.017577  0.015891  0.0168  0.018426   \n",
       "2002-01-11 00:00:00+00:00  0.028534  0.017577  0.015891  0.0168  0.018426   \n",
       "\n",
       "                              3year    5year    7year  10year  20year  30year  \n",
       "2002-01-07 00:00:00+00:00  0.020052  0.02364  0.02632   0.029  0.0346   0.035  \n",
       "2002-01-08 00:00:00+00:00  0.020052  0.02364  0.02632   0.029  0.0346   0.035  \n",
       "2002-01-09 00:00:00+00:00  0.020052  0.02364  0.02632   0.029  0.0346   0.035  \n",
       "2002-01-10 00:00:00+00:00  0.020052  0.02364  0.02632   0.029  0.0346   0.035  \n",
       "2002-01-11 00:00:00+00:00  0.020052  0.02364  0.02632   0.029  0.0346   0.035  "
      ]
     },
     "execution_count": 5,
     "metadata": {},
     "output_type": "execute_result"
    }
   ],
   "source": [
    "b.head()"
   ]
  },
  {
   "cell_type": "code",
   "execution_count": null,
   "metadata": {},
   "outputs": [],
   "source": []
  }
 ],
 "metadata": {
  "kernelspec": {
   "display_name": "zipline",
   "language": "python",
   "name": "zipline"
  },
  "language_info": {
   "codemirror_mode": {
    "name": "ipython",
    "version": 3
   },
   "file_extension": ".py",
   "mimetype": "text/x-python",
   "name": "python",
   "nbconvert_exporter": "python",
   "pygments_lexer": "ipython3",
   "version": "3.6.5"
  }
 },
 "nbformat": 4,
 "nbformat_minor": 2
}
