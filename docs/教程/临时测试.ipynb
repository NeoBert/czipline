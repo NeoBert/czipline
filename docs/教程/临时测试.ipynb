{
 "cells": [
  {
   "cell_type": "code",
   "execution_count": 1,
   "metadata": {
    "ExecuteTime": {
     "end_time": "2018-04-28T07:39:41.549707Z",
     "start_time": "2018-04-28T07:39:38.562600Z"
    }
   },
   "outputs": [],
   "source": [
    "from zipline.pipeline.fundamentals.reader import Fundamentals\n",
    "from zipline.pipeline.builtin import TradingDays,QTradableStocks\n",
    "from zipline.research import run_pipeline, select_output_by\n",
    "from zipline.pipeline import Pipeline\n",
    "from zipline.pipeline.data import USEquityPricing\n",
    "from zipline.pipeline.factors import SimpleMovingAverage"
   ]
  },
  {
   "cell_type": "code",
   "execution_count": 2,
   "metadata": {
    "ExecuteTime": {
     "end_time": "2018-04-28T07:39:41.557111Z",
     "start_time": "2018-04-28T07:39:41.552430Z"
    }
   },
   "outputs": [],
   "source": [
    "from zipline.pipeline.builtin import TTMDividend, trailing_dividend_yield"
   ]
  },
  {
   "cell_type": "code",
   "execution_count": 3,
   "metadata": {
    "ExecuteTime": {
     "end_time": "2018-04-28T07:39:41.565279Z",
     "start_time": "2018-04-28T07:39:41.561363Z"
    }
   },
   "outputs": [],
   "source": [
    "from zipline.pipeline.factors import DailyReturns"
   ]
  },
  {
   "cell_type": "code",
   "execution_count": 9,
   "metadata": {
    "ExecuteTime": {
     "end_time": "2018-04-28T07:41:34.238133Z",
     "start_time": "2018-04-28T07:41:34.224403Z"
    }
   },
   "outputs": [],
   "source": [
    "def make_pipeline():\n",
    "    #td = TTMDividend()\n",
    "    return Pipeline(\n",
    "        columns={\n",
    "            '每股股利': Fundamentals.dividend.amount.latest,\n",
    "            '日期': Fundamentals.dividend.asof_date.latest,\n",
    "            '收盘价':USEquityPricing.close.latest,\n",
    "            'TTM股利': TTMDividend(),\n",
    "            'TTM每股股利收益率': trailing_dividend_yield()\n",
    "        })"
   ]
  },
  {
   "cell_type": "code",
   "execution_count": 10,
   "metadata": {
    "ExecuteTime": {
     "end_time": "2018-04-28T07:41:35.979827Z",
     "start_time": "2018-04-28T07:41:35.460226Z"
    }
   },
   "outputs": [
    {
     "name": "stdout",
     "output_type": "stream",
     "text": [
      "(260,)\n",
      "(260,)\n",
      "(260,)\n"
     ]
    }
   ],
   "source": [
    "result = run_pipeline(make_pipeline(), '2018-4-10', '2018-4-12')"
   ]
  },
  {
   "cell_type": "code",
   "execution_count": 11,
   "metadata": {
    "ExecuteTime": {
     "end_time": "2018-04-28T07:41:37.569356Z",
     "start_time": "2018-04-28T07:41:37.542628Z"
    }
   },
   "outputs": [
    {
     "data": {
      "text/html": [
       "<div>\n",
       "<style scoped>\n",
       "    .dataframe tbody tr th:only-of-type {\n",
       "        vertical-align: middle;\n",
       "    }\n",
       "\n",
       "    .dataframe tbody tr th {\n",
       "        vertical-align: top;\n",
       "    }\n",
       "\n",
       "    .dataframe thead th {\n",
       "        text-align: right;\n",
       "    }\n",
       "</style>\n",
       "<table border=\"1\" class=\"dataframe\">\n",
       "  <thead>\n",
       "    <tr style=\"text-align: right;\">\n",
       "      <th></th>\n",
       "      <th></th>\n",
       "      <th>TTM每股股利收益率</th>\n",
       "      <th>TTM股利</th>\n",
       "      <th>收盘价</th>\n",
       "      <th>日期</th>\n",
       "      <th>每股股利</th>\n",
       "    </tr>\n",
       "  </thead>\n",
       "  <tbody>\n",
       "    <tr>\n",
       "      <th>2018-04-10 00:00:00+00:00</th>\n",
       "      <th>美的集团(000333)</th>\n",
       "      <td>0.020751</td>\n",
       "      <td>1.1</td>\n",
       "      <td>53.01</td>\n",
       "      <td>2017-05-09</td>\n",
       "      <td>1.0</td>\n",
       "    </tr>\n",
       "    <tr>\n",
       "      <th>2018-04-11 00:00:00+00:00</th>\n",
       "      <th>美的集团(000333)</th>\n",
       "      <td>0.020845</td>\n",
       "      <td>1.1</td>\n",
       "      <td>52.77</td>\n",
       "      <td>2017-05-09</td>\n",
       "      <td>1.0</td>\n",
       "    </tr>\n",
       "    <tr>\n",
       "      <th>2018-04-12 00:00:00+00:00</th>\n",
       "      <th>美的集团(000333)</th>\n",
       "      <td>0.020763</td>\n",
       "      <td>1.1</td>\n",
       "      <td>52.98</td>\n",
       "      <td>2017-05-09</td>\n",
       "      <td>1.0</td>\n",
       "    </tr>\n",
       "  </tbody>\n",
       "</table>\n",
       "</div>"
      ],
      "text/plain": [
       "                                        TTM每股股利收益率  TTM股利    收盘价         日期  \\\n",
       "2018-04-10 00:00:00+00:00 美的集团(000333)    0.020751    1.1  53.01 2017-05-09   \n",
       "2018-04-11 00:00:00+00:00 美的集团(000333)    0.020845    1.1  52.77 2017-05-09   \n",
       "2018-04-12 00:00:00+00:00 美的集团(000333)    0.020763    1.1  52.98 2017-05-09   \n",
       "\n",
       "                                        每股股利  \n",
       "2018-04-10 00:00:00+00:00 美的集团(000333)   1.0  \n",
       "2018-04-11 00:00:00+00:00 美的集团(000333)   1.0  \n",
       "2018-04-12 00:00:00+00:00 美的集团(000333)   1.0  "
      ]
     },
     "execution_count": 11,
     "metadata": {},
     "output_type": "execute_result"
    }
   ],
   "source": [
    "select_output_by(result,stock_codes=['000333'])"
   ]
  },
  {
   "cell_type": "code",
   "execution_count": null,
   "metadata": {
    "ExecuteTime": {
     "end_time": "2018-04-28T07:17:41.683960Z",
     "start_time": "2018-04-28T07:17:41.662635Z"
    }
   },
   "outputs": [],
   "source": [
    "result['TTM股利'].unique()"
   ]
  },
  {
   "cell_type": "code",
   "execution_count": null,
   "metadata": {
    "ExecuteTime": {
     "end_time": "2018-04-28T07:19:48.405981Z",
     "start_time": "2018-04-28T07:19:48.398630Z"
    }
   },
   "outputs": [],
   "source": [
    "from zipline.pipeline.fundamentals.base import STOCK_DB\n",
    "from odo import odo\n",
    "import pandas as pd"
   ]
  },
  {
   "cell_type": "code",
   "execution_count": null,
   "metadata": {
    "ExecuteTime": {
     "end_time": "2018-04-28T07:20:19.763606Z",
     "start_time": "2018-04-28T07:20:19.347225Z"
    }
   },
   "outputs": [],
   "source": [
    "df = odo(STOCK_DB.adjustments, pd.DataFrame)"
   ]
  },
  {
   "cell_type": "code",
   "execution_count": null,
   "metadata": {
    "ExecuteTime": {
     "end_time": "2018-04-28T07:20:33.493736Z",
     "start_time": "2018-04-28T07:20:33.455419Z"
    }
   },
   "outputs": [],
   "source": [
    "df[df['股票代码']=='000333']"
   ]
  },
  {
   "cell_type": "code",
   "execution_count": null,
   "metadata": {
    "ExecuteTime": {
     "end_time": "2018-04-28T05:07:00.526527Z",
     "start_time": "2018-04-28T05:07:00.519222Z"
    }
   },
   "outputs": [],
   "source": [
    "import numpy as np"
   ]
  },
  {
   "cell_type": "code",
   "execution_count": null,
   "metadata": {
    "ExecuteTime": {
     "end_time": "2018-04-28T05:07:00.535037Z",
     "start_time": "2018-04-28T05:07:00.529284Z"
    }
   },
   "outputs": [],
   "source": [
    "def make_pipeline():\n",
    "\n",
    "    income = Fundamentals.profit_statement.A001.latest\n",
    "    return Pipeline(\n",
    "        columns={\n",
    "            '营业总收入':income\n",
    "        }, \n",
    "    )"
   ]
  },
  {
   "cell_type": "code",
   "execution_count": null,
   "metadata": {
    "ExecuteTime": {
     "end_time": "2018-04-28T05:07:01.103604Z",
     "start_time": "2018-04-28T05:07:00.540016Z"
    }
   },
   "outputs": [],
   "source": [
    "result = run_pipeline(make_pipeline(), '2018-4-2', '2018-4-23')"
   ]
  },
  {
   "cell_type": "code",
   "execution_count": null,
   "metadata": {
    "ExecuteTime": {
     "end_time": "2018-04-28T05:07:01.137622Z",
     "start_time": "2018-04-28T05:07:01.107893Z"
    }
   },
   "outputs": [],
   "source": [
    "select_output_by(result,stock_codes=['000333'])"
   ]
  },
  {
   "cell_type": "code",
   "execution_count": null,
   "metadata": {
    "ExecuteTime": {
     "end_time": "2018-04-28T07:35:26.504197Z",
     "start_time": "2018-04-28T07:35:26.493618Z"
    }
   },
   "outputs": [],
   "source": [
    "from zipline.pipeline.fundamentals.base import STOCK_DB\n",
    "from odo import odo\n",
    "import pandas as pd\n",
    "import numpy as np"
   ]
  },
  {
   "cell_type": "code",
   "execution_count": null,
   "metadata": {
    "ExecuteTime": {
     "end_time": "2018-04-28T07:35:48.790344Z",
     "start_time": "2018-04-28T07:35:48.783894Z"
    }
   },
   "outputs": [],
   "source": [
    "d = np.arange(12).reshape(3,4)"
   ]
  },
  {
   "cell_type": "code",
   "execution_count": null,
   "metadata": {
    "ExecuteTime": {
     "end_time": "2018-04-28T07:35:52.498867Z",
     "start_time": "2018-04-28T07:35:52.491457Z"
    }
   },
   "outputs": [],
   "source": [
    "d"
   ]
  },
  {
   "cell_type": "code",
   "execution_count": null,
   "metadata": {
    "ExecuteTime": {
     "end_time": "2018-04-28T07:36:11.987370Z",
     "start_time": "2018-04-28T07:36:11.980616Z"
    }
   },
   "outputs": [],
   "source": [
    "d[:,0]"
   ]
  },
  {
   "cell_type": "code",
   "execution_count": 15,
   "metadata": {
    "ExecuteTime": {
     "end_time": "2018-04-28T08:11:06.166872Z",
     "start_time": "2018-04-28T08:11:06.159853Z"
    }
   },
   "outputs": [
    {
     "data": {
      "text/plain": [
       "{'A107': '所有者权益或股东权益合计', 'A108': '负债和所有者权益或股东权益总计'}"
      ]
     },
     "execution_count": 15,
     "metadata": {},
     "output_type": "execute_result"
    }
   ],
   "source": [
    "Fundamentals.query_balancesheet_code('所有者权益')"
   ]
  },
  {
   "cell_type": "code",
   "execution_count": null,
   "metadata": {},
   "outputs": [],
   "source": []
  }
 ],
 "metadata": {
  "kernelspec": {
   "display_name": "zipline",
   "language": "python",
   "name": "zipline"
  },
  "language_info": {
   "codemirror_mode": {
    "name": "ipython",
    "version": 3
   },
   "file_extension": ".py",
   "mimetype": "text/x-python",
   "name": "python",
   "nbconvert_exporter": "python",
   "pygments_lexer": "ipython3",
   "version": "3.6.5"
  },
  "toc": {
   "base_numbering": 1,
   "nav_menu": {},
   "number_sections": true,
   "sideBar": true,
   "skip_h1_title": false,
   "title_cell": "Table of Contents",
   "title_sidebar": "Contents",
   "toc_cell": false,
   "toc_position": {},
   "toc_section_display": true,
   "toc_window_display": false
  }
 },
 "nbformat": 4,
 "nbformat_minor": 2
}
