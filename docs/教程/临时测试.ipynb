{
 "cells": [
  {
   "cell_type": "code",
   "execution_count": 1,
   "metadata": {
    "ExecuteTime": {
     "end_time": "2018-04-27T11:13:28.227121Z",
     "start_time": "2018-04-27T11:13:28.132072Z"
    }
   },
   "outputs": [],
   "source": [
    "import numpy as np"
   ]
  },
  {
   "cell_type": "code",
   "execution_count": 2,
   "metadata": {
    "ExecuteTime": {
     "end_time": "2018-04-27T11:13:51.789280Z",
     "start_time": "2018-04-27T11:13:51.782998Z"
    }
   },
   "outputs": [],
   "source": [
    "data = np.random.randn?"
   ]
  },
  {
   "cell_type": "code",
   "execution_count": 3,
   "metadata": {
    "ExecuteTime": {
     "end_time": "2018-04-27T11:14:05.201805Z",
     "start_time": "2018-04-27T11:14:05.198213Z"
    }
   },
   "outputs": [],
   "source": [
    "data = np.random.randn(3,50)"
   ]
  },
  {
   "cell_type": "code",
   "execution_count": 8,
   "metadata": {
    "ExecuteTime": {
     "end_time": "2018-04-27T11:15:14.493793Z",
     "start_time": "2018-04-27T11:15:14.481637Z"
    }
   },
   "outputs": [
    {
     "data": {
      "text/plain": [
       "array([False, False, False, False, False, False, False, False, False,\n",
       "       False, False, False, False, False, False, False, False, False,\n",
       "       False,  True, False,  True, False, False, False, False, False,\n",
       "       False, False, False, False, False, False, False, False, False,\n",
       "       False, False, False, False, False, False, False, False, False,\n",
       "       False, False,  True, False, False])"
      ]
     },
     "execution_count": 8,
     "metadata": {},
     "output_type": "execute_result"
    }
   ],
   "source": [
    "np.alltrue(data > 0, axis = 0)"
   ]
  },
  {
   "cell_type": "code",
   "execution_count": 12,
   "metadata": {
    "ExecuteTime": {
     "end_time": "2018-04-27T11:38:23.228424Z",
     "start_time": "2018-04-27T11:38:23.218914Z"
    }
   },
   "outputs": [
    {
     "data": {
      "text/plain": [
       "array([3, 3, 3, 3, 3, 3, 3, 3, 3, 3, 3, 3, 3, 3, 3, 3, 3, 3, 3, 3, 3, 3,\n",
       "       3, 3, 3, 3, 3, 3, 3, 3, 3, 3, 3, 3, 3, 3, 3, 3, 3, 3, 3, 3, 3, 3,\n",
       "       3, 3, 3, 3, 3, 3])"
      ]
     },
     "execution_count": 12,
     "metadata": {},
     "output_type": "execute_result"
    }
   ],
   "source": [
    "np.count_nonzero(data, 0)"
   ]
  },
  {
   "cell_type": "code",
   "execution_count": 10,
   "metadata": {
    "ExecuteTime": {
     "end_time": "2018-04-27T11:26:17.349295Z",
     "start_time": "2018-04-27T11:26:17.334830Z"
    }
   },
   "outputs": [
    {
     "data": {
      "text/plain": [
       "array([ 0.06918108, -1.64174207, -0.3753262 , -0.20022818, -0.56983012,\n",
       "        0.4092829 ,  1.13923872,  1.00669558,  0.79773119, -0.38283425,\n",
       "       -0.17219441, -0.06135774, -0.97580586,  0.39128276, -1.76576682,\n",
       "       -0.81089776, -0.92573403,  0.94154128, -1.85911348,  0.28142125,\n",
       "       -0.33485176,  1.4613996 ,  0.23777239, -1.83087957, -0.80301427,\n",
       "        0.83007153,  0.74293623,  0.07338203, -0.31092265, -0.55891138,\n",
       "       -0.54791732,  2.18357896,  0.44802169,  0.36781076, -0.6838105 ,\n",
       "       -1.73880086, -0.05396723,  1.35593384, -0.08085876,  0.67437283,\n",
       "        1.77657802, -0.54861899, -0.6123747 ,  0.87557376, -1.27180235,\n",
       "       -0.64944952,  1.5315908 ,  2.62015865,  2.03850718,  0.58239833])"
      ]
     },
     "execution_count": 10,
     "metadata": {},
     "output_type": "execute_result"
    }
   ],
   "source": [
    "data[0]"
   ]
  },
  {
   "cell_type": "code",
   "execution_count": 25,
   "metadata": {
    "ExecuteTime": {
     "end_time": "2018-04-27T12:06:10.523126Z",
     "start_time": "2018-04-27T12:06:10.510405Z"
    }
   },
   "outputs": [],
   "source": [
    "from zipline.pipeline.fundamentals.reader import Fundamentals\n",
    "from zipline.pipeline.builtin import TradingDays,QTradableStocks\n",
    "from zipline.research import run_pipeline, select_output_by\n",
    "from zipline.pipeline import Pipeline\n",
    "from zipline.pipeline.data import USEquityPricing\n",
    "from zipline.pipeline.factors import SimpleMovingAverage"
   ]
  },
  {
   "cell_type": "code",
   "execution_count": 33,
   "metadata": {
    "ExecuteTime": {
     "end_time": "2018-04-27T12:08:55.981407Z",
     "start_time": "2018-04-27T12:08:55.975692Z"
    }
   },
   "outputs": [],
   "source": [
    "def make_pipeline():\n",
    "    base_universe = QTradableStocks()\n",
    "    # 10-day close price average.\n",
    "    mean_10 = SimpleMovingAverage(\n",
    "        inputs=[USEquityPricing.close], window_length=10, mask=base_universe)\n",
    "\n",
    "    return Pipeline(\n",
    "        columns={\n",
    "            'mean_10': mean_10,\n",
    "        }, \n",
    "        #screen=base_universe\n",
    "    )"
   ]
  },
  {
   "cell_type": "code",
   "execution_count": 34,
   "metadata": {
    "ExecuteTime": {
     "end_time": "2018-04-27T12:08:56.875129Z",
     "start_time": "2018-04-27T12:08:56.435378Z"
    }
   },
   "outputs": [],
   "source": [
    "result = run_pipeline(make_pipeline(), '2018-4-20', '2018-4-26')"
   ]
  },
  {
   "cell_type": "code",
   "execution_count": 35,
   "metadata": {
    "ExecuteTime": {
     "end_time": "2018-04-27T12:08:56.936485Z",
     "start_time": "2018-04-27T12:08:56.907954Z"
    }
   },
   "outputs": [
    {
     "data": {
      "text/html": [
       "<div>\n",
       "<style scoped>\n",
       "    .dataframe tbody tr th:only-of-type {\n",
       "        vertical-align: middle;\n",
       "    }\n",
       "\n",
       "    .dataframe tbody tr th {\n",
       "        vertical-align: top;\n",
       "    }\n",
       "\n",
       "    .dataframe thead th {\n",
       "        text-align: right;\n",
       "    }\n",
       "</style>\n",
       "<table border=\"1\" class=\"dataframe\">\n",
       "  <thead>\n",
       "    <tr style=\"text-align: right;\">\n",
       "      <th></th>\n",
       "      <th></th>\n",
       "      <th>mean_10</th>\n",
       "    </tr>\n",
       "  </thead>\n",
       "  <tbody>\n",
       "    <tr>\n",
       "      <th rowspan=\"4\" valign=\"top\">2018-04-20 00:00:00+00:00</th>\n",
       "      <th>特锐德(300001)</th>\n",
       "      <td>13.098</td>\n",
       "    </tr>\n",
       "    <tr>\n",
       "      <th>康欣新材(600076)</th>\n",
       "      <td>NaN</td>\n",
       "    </tr>\n",
       "    <tr>\n",
       "      <th>中源协和(600645)</th>\n",
       "      <td>NaN</td>\n",
       "    </tr>\n",
       "    <tr>\n",
       "      <th>广誉远(600771)</th>\n",
       "      <td>49.842</td>\n",
       "    </tr>\n",
       "    <tr>\n",
       "      <th rowspan=\"4\" valign=\"top\">2018-04-23 00:00:00+00:00</th>\n",
       "      <th>特锐德(300001)</th>\n",
       "      <td>13.093</td>\n",
       "    </tr>\n",
       "    <tr>\n",
       "      <th>康欣新材(600076)</th>\n",
       "      <td>NaN</td>\n",
       "    </tr>\n",
       "    <tr>\n",
       "      <th>中源协和(600645)</th>\n",
       "      <td>NaN</td>\n",
       "    </tr>\n",
       "    <tr>\n",
       "      <th>广誉远(600771)</th>\n",
       "      <td>49.759</td>\n",
       "    </tr>\n",
       "    <tr>\n",
       "      <th rowspan=\"4\" valign=\"top\">2018-04-24 00:00:00+00:00</th>\n",
       "      <th>特锐德(300001)</th>\n",
       "      <td>13.078</td>\n",
       "    </tr>\n",
       "    <tr>\n",
       "      <th>康欣新材(600076)</th>\n",
       "      <td>NaN</td>\n",
       "    </tr>\n",
       "    <tr>\n",
       "      <th>中源协和(600645)</th>\n",
       "      <td>NaN</td>\n",
       "    </tr>\n",
       "    <tr>\n",
       "      <th>广誉远(600771)</th>\n",
       "      <td>49.561</td>\n",
       "    </tr>\n",
       "    <tr>\n",
       "      <th rowspan=\"4\" valign=\"top\">2018-04-25 00:00:00+00:00</th>\n",
       "      <th>特锐德(300001)</th>\n",
       "      <td>13.076</td>\n",
       "    </tr>\n",
       "    <tr>\n",
       "      <th>康欣新材(600076)</th>\n",
       "      <td>NaN</td>\n",
       "    </tr>\n",
       "    <tr>\n",
       "      <th>中源协和(600645)</th>\n",
       "      <td>NaN</td>\n",
       "    </tr>\n",
       "    <tr>\n",
       "      <th>广誉远(600771)</th>\n",
       "      <td>49.684</td>\n",
       "    </tr>\n",
       "  </tbody>\n",
       "</table>\n",
       "</div>"
      ],
      "text/plain": [
       "                                        mean_10\n",
       "2018-04-20 00:00:00+00:00 特锐德(300001)    13.098\n",
       "                          康欣新材(600076)      NaN\n",
       "                          中源协和(600645)      NaN\n",
       "                          广誉远(600771)    49.842\n",
       "2018-04-23 00:00:00+00:00 特锐德(300001)    13.093\n",
       "                          康欣新材(600076)      NaN\n",
       "                          中源协和(600645)      NaN\n",
       "                          广誉远(600771)    49.759\n",
       "2018-04-24 00:00:00+00:00 特锐德(300001)    13.078\n",
       "                          康欣新材(600076)      NaN\n",
       "                          中源协和(600645)      NaN\n",
       "                          广誉远(600771)    49.561\n",
       "2018-04-25 00:00:00+00:00 特锐德(300001)    13.076\n",
       "                          康欣新材(600076)      NaN\n",
       "                          中源协和(600645)      NaN\n",
       "                          广誉远(600771)    49.684"
      ]
     },
     "execution_count": 35,
     "metadata": {},
     "output_type": "execute_result"
    }
   ],
   "source": [
    "select_output_by(result,stock_codes=['600645','600771','300001','600076'])"
   ]
  },
  {
   "cell_type": "code",
   "execution_count": null,
   "metadata": {},
   "outputs": [],
   "source": []
  }
 ],
 "metadata": {
  "kernelspec": {
   "display_name": "zipline",
   "language": "python",
   "name": "zipline"
  },
  "language_info": {
   "codemirror_mode": {
    "name": "ipython",
    "version": 3
   },
   "file_extension": ".py",
   "mimetype": "text/x-python",
   "name": "python",
   "nbconvert_exporter": "python",
   "pygments_lexer": "ipython3",
   "version": "3.6.5"
  }
 },
 "nbformat": 4,
 "nbformat_minor": 2
}
