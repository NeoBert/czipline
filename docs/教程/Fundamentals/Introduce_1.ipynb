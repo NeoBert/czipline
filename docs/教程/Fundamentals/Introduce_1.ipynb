{
 "cells": [
  {
   "cell_type": "markdown",
   "metadata": {},
   "source": [
    "## 介绍"
   ]
  },
  {
   "cell_type": "markdown",
   "metadata": {
    "ExecuteTime": {
     "end_time": "2018-04-25T05:52:18.993997Z",
     "start_time": "2018-04-25T05:52:18.988476Z"
    }
   },
   "source": [
    "`Fundamentals`是用于`pipeline`的数据集容器，包括上市日期、行业分类、所属概念、财务数据、融资融券等信息。"
   ]
  },
  {
   "cell_type": "markdown",
   "metadata": {},
   "source": [
    "## 信息查询"
   ]
  },
  {
   "cell_type": "code",
   "execution_count": 1,
   "metadata": {
    "ExecuteTime": {
     "end_time": "2018-04-25T14:08:02.639727Z",
     "start_time": "2018-04-25T14:08:00.398706Z"
    }
   },
   "outputs": [],
   "source": [
    "from zipline.pipeline.fundamentals import Fundamentals"
   ]
  },
  {
   "cell_type": "markdown",
   "metadata": {
    "ExecuteTime": {
     "end_time": "2018-04-25T05:54:37.634942Z",
     "start_time": "2018-04-25T05:54:37.628435Z"
    }
   },
   "source": [
    "### 查询数据集列编码\n",
    "+ 输入数据集列名称所包含关键字\n",
    "+ 返回列编码字典（A + 三位整数）"
   ]
  },
  {
   "cell_type": "code",
   "execution_count": 2,
   "metadata": {
    "ExecuteTime": {
     "end_time": "2018-04-25T14:08:02.657815Z",
     "start_time": "2018-04-25T14:08:02.642876Z"
    }
   },
   "outputs": [
    {
     "data": {
      "text/plain": [
       "{'A004': '向其他金融机构拆入资金净增加额', 'A010': '拆入资金净增加额', 'A011': '回购业务资金净增加额'}"
      ]
     },
     "execution_count": 2,
     "metadata": {},
     "output_type": "execute_result"
    }
   ],
   "source": [
    "Fundamentals.query_cashflow_code('资金')"
   ]
  },
  {
   "cell_type": "code",
   "execution_count": 3,
   "metadata": {
    "ExecuteTime": {
     "end_time": "2018-04-25T14:08:02.749121Z",
     "start_time": "2018-04-25T14:08:02.661096Z"
    }
   },
   "outputs": [
    {
     "data": {
      "text/plain": [
       "{'A048': '生物质能', 'A124': '生物燃料概念', 'A190': '生物医药'}"
      ]
     },
     "execution_count": 3,
     "metadata": {},
     "output_type": "execute_result"
    }
   ],
   "source": [
    "Fundamentals.query_concept_code('生物')"
   ]
  },
  {
   "cell_type": "code",
   "execution_count": 4,
   "metadata": {
    "ExecuteTime": {
     "end_time": "2018-04-25T14:08:02.876399Z",
     "start_time": "2018-04-25T14:08:02.757329Z"
    }
   },
   "outputs": [
    {
     "data": {
      "text/plain": [
       "{}"
      ]
     },
     "execution_count": 4,
     "metadata": {},
     "output_type": "execute_result"
    }
   ],
   "source": [
    "# 无数据，返回空字典\n",
    "Fundamentals.query_concept_code('oo')"
   ]
  },
  {
   "cell_type": "markdown",
   "metadata": {},
   "source": [
    "### 数据集列名称"
   ]
  },
  {
   "cell_type": "code",
   "execution_count": 5,
   "metadata": {
    "ExecuteTime": {
     "end_time": "2018-04-25T14:08:02.897658Z",
     "start_time": "2018-04-25T14:08:02.887933Z"
    }
   },
   "outputs": [
    {
     "data": {
      "text/plain": [
       "'货币资金'"
      ]
     },
     "execution_count": 5,
     "metadata": {},
     "output_type": "execute_result"
    }
   ],
   "source": [
    "Fundamentals.balancesheet_col_name('A001')"
   ]
  },
  {
   "cell_type": "code",
   "execution_count": 6,
   "metadata": {
    "ExecuteTime": {
     "end_time": "2018-04-25T14:08:02.912308Z",
     "start_time": "2018-04-25T14:08:02.904515Z"
    }
   },
   "outputs": [
    {
     "data": {
      "text/plain": [
       "'财务费用'"
      ]
     },
     "execution_count": 6,
     "metadata": {},
     "output_type": "execute_result"
    }
   ],
   "source": [
    "Fundamentals.profit_col_name('A023')"
   ]
  },
  {
   "cell_type": "code",
   "execution_count": 7,
   "metadata": {
    "ExecuteTime": {
     "end_time": "2018-04-25T14:08:02.927242Z",
     "start_time": "2018-04-25T14:08:02.918727Z"
    }
   },
   "outputs": [
    {
     "data": {
      "text/plain": [
       "'拆入资金净增加额'"
      ]
     },
     "execution_count": 7,
     "metadata": {},
     "output_type": "execute_result"
    }
   ],
   "source": [
    "Fundamentals.cashflow_col_name('A010')"
   ]
  },
  {
   "cell_type": "code",
   "execution_count": 8,
   "metadata": {
    "ExecuteTime": {
     "end_time": "2018-04-25T14:08:02.939134Z",
     "start_time": "2018-04-25T14:08:02.930908Z"
    }
   },
   "outputs": [],
   "source": [
    "# 超出数据集列长度，触发KeyError\n",
    "# Fundamentals.query_profit_name('A123')"
   ]
  },
  {
   "cell_type": "markdown",
   "metadata": {},
   "source": [
    "### 查询编码含义"
   ]
  },
  {
   "cell_type": "code",
   "execution_count": 9,
   "metadata": {
    "ExecuteTime": {
     "end_time": "2018-04-25T14:08:03.034624Z",
     "start_time": "2018-04-25T14:08:02.942931Z"
    }
   },
   "outputs": [
    {
     "data": {
      "text/plain": [
       "'深圳主板'"
      ]
     },
     "execution_count": 9,
     "metadata": {},
     "output_type": "execute_result"
    }
   ],
   "source": [
    "Fundamentals.market_cname(3)"
   ]
  },
  {
   "cell_type": "code",
   "execution_count": 10,
   "metadata": {
    "ExecuteTime": {
     "end_time": "2018-04-25T14:08:03.131215Z",
     "start_time": "2018-04-25T14:08:03.037936Z"
    }
   },
   "outputs": [
    {
     "data": {
      "text/plain": [
       "'金融服务'"
      ]
     },
     "execution_count": 10,
     "metadata": {},
     "output_type": "execute_result"
    }
   ],
   "source": [
    "Fundamentals.sector_cname(9)"
   ]
  },
  {
   "cell_type": "code",
   "execution_count": 11,
   "metadata": {
    "ExecuteTime": {
     "end_time": "2018-04-25T14:08:03.215762Z",
     "start_time": "2018-04-25T14:08:03.135664Z"
    }
   },
   "outputs": [
    {
     "data": {
      "text/plain": [
       "'工程技术'"
      ]
     },
     "execution_count": 11,
     "metadata": {},
     "output_type": "execute_result"
    }
   ],
   "source": [
    "Fundamentals.sector_cname(6)"
   ]
  },
  {
   "cell_type": "code",
   "execution_count": 12,
   "metadata": {
    "ExecuteTime": {
     "end_time": "2018-04-25T14:08:03.984436Z",
     "start_time": "2018-04-25T14:08:03.222612Z"
    }
   },
   "outputs": [],
   "source": [
    "from zipline.pipeline.data import CNEquityPricing\n",
    "from zipline.pipeline.factors import SimpleMovingAverage\n",
    "from zipline.pipeline import Pipeline\n",
    "from zipline.research import run_pipeline"
   ]
  },
  {
   "cell_type": "markdown",
   "metadata": {},
   "source": [
    "## 因子"
   ]
  },
  {
   "cell_type": "code",
   "execution_count": 13,
   "metadata": {
    "ExecuteTime": {
     "end_time": "2018-04-25T14:08:03.996717Z",
     "start_time": "2018-04-25T14:08:03.989147Z"
    }
   },
   "outputs": [],
   "source": [
    "def make_pipeline():\n",
    "    market = Fundamentals.info.market.latest\n",
    "    sector_code = Fundamentals.info.sector_code.latest\n",
    "    mean_close_10 = SimpleMovingAverage(\n",
    "        inputs=[CNEquityPricing.close], window_length=10)\n",
    "    return Pipeline(columns={\n",
    "        '10_day_mean_close': mean_close_10,\n",
    "        'market': market,\n",
    "        'sector_code': sector_code,\n",
    "    })"
   ]
  },
  {
   "cell_type": "code",
   "execution_count": 15,
   "metadata": {
    "ExecuteTime": {
     "end_time": "2018-04-25T14:08:13.175861Z",
     "start_time": "2018-04-25T14:08:12.869172Z"
    }
   },
   "outputs": [
    {
     "data": {
      "text/html": [
       "<div>\n",
       "<style scoped>\n",
       "    .dataframe tbody tr th:only-of-type {\n",
       "        vertical-align: middle;\n",
       "    }\n",
       "\n",
       "    .dataframe tbody tr th {\n",
       "        vertical-align: top;\n",
       "    }\n",
       "\n",
       "    .dataframe thead th {\n",
       "        text-align: right;\n",
       "    }\n",
       "</style>\n",
       "<table border=\"1\" class=\"dataframe\">\n",
       "  <thead>\n",
       "    <tr style=\"text-align: right;\">\n",
       "      <th></th>\n",
       "      <th></th>\n",
       "      <th>10_day_mean_close</th>\n",
       "      <th>market</th>\n",
       "      <th>sector_code</th>\n",
       "    </tr>\n",
       "  </thead>\n",
       "  <tbody>\n",
       "    <tr>\n",
       "      <th rowspan=\"5\" valign=\"top\">2018-04-10 00:00:00+00:00</th>\n",
       "      <th>平安银行(000001)</th>\n",
       "      <td>10.985</td>\n",
       "      <td>3</td>\n",
       "      <td>9</td>\n",
       "    </tr>\n",
       "    <tr>\n",
       "      <th>万 科Ａ(000002)</th>\n",
       "      <td>32.231</td>\n",
       "      <td>3</td>\n",
       "      <td>9</td>\n",
       "    </tr>\n",
       "    <tr>\n",
       "      <th>国农科技(000004)</th>\n",
       "      <td>22.823</td>\n",
       "      <td>3</td>\n",
       "      <td>2</td>\n",
       "    </tr>\n",
       "    <tr>\n",
       "      <th>世纪星源(000005)</th>\n",
       "      <td>3.806</td>\n",
       "      <td>3</td>\n",
       "      <td>5</td>\n",
       "    </tr>\n",
       "    <tr>\n",
       "      <th>深振业Ａ(000006)</th>\n",
       "      <td>7.314</td>\n",
       "      <td>3</td>\n",
       "      <td>9</td>\n",
       "    </tr>\n",
       "  </tbody>\n",
       "</table>\n",
       "</div>"
      ],
      "text/plain": [
       "                                        10_day_mean_close  market  sector_code\n",
       "2018-04-10 00:00:00+00:00 平安银行(000001)             10.985       3            9\n",
       "                          万 科Ａ(000002)             32.231       3            9\n",
       "                          国农科技(000004)             22.823       3            2\n",
       "                          世纪星源(000005)              3.806       3            5\n",
       "                          深振业Ａ(000006)              7.314       3            9"
      ]
     },
     "execution_count": 15,
     "metadata": {},
     "output_type": "execute_result"
    }
   ],
   "source": [
    "result = run_pipeline(make_pipeline(), '2018-04-10', '2018-04-10')\n",
    "result.head(5)"
   ]
  },
  {
   "cell_type": "code",
   "execution_count": null,
   "metadata": {},
   "outputs": [],
   "source": []
  }
 ],
 "metadata": {
  "kernelspec": {
   "display_name": "zipline",
   "language": "python",
   "name": "zipline"
  },
  "language_info": {
   "codemirror_mode": {
    "name": "ipython",
    "version": 3
   },
   "file_extension": ".py",
   "mimetype": "text/x-python",
   "name": "python",
   "nbconvert_exporter": "python",
   "pygments_lexer": "ipython3",
   "version": "3.6.5"
  }
 },
 "nbformat": 4,
 "nbformat_minor": 2
}
