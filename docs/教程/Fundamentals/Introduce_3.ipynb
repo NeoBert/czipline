{
 "cells": [
  {
   "cell_type": "markdown",
   "metadata": {},
   "source": [
    "# 筛选股票\n",
    "+ `IsST` 特别处理过滤器\n",
    "+ `QTradableStocks` 可交易股票过滤器"
   ]
  },
  {
   "cell_type": "code",
   "execution_count": 1,
   "metadata": {
    "ExecuteTime": {
     "end_time": "2018-04-27T12:27:06.304297Z",
     "start_time": "2018-04-27T12:27:02.394631Z"
    }
   },
   "outputs": [],
   "source": [
    "from zipline.pipeline.fundamentals.reader import Fundamentals\n",
    "from zipline.research import run_pipeline, select_output_by\n",
    "from zipline.pipeline import Pipeline"
   ]
  },
  {
   "cell_type": "markdown",
   "metadata": {},
   "source": [
    "### `IsST`"
   ]
  },
  {
   "cell_type": "markdown",
   "metadata": {},
   "source": [
    "#### 数据"
   ]
  },
  {
   "cell_type": "markdown",
   "metadata": {},
   "source": [
    "![特别处理列表](./st_list.png)\n",
    "\n",
    "**注意，以上截取自同花顺网页信息有误**\n",
    "+ 600321自4月12日起撤销退市风险警示\n",
    "+ 600121自4月12日起撤销退市风险警示\n",
    "+ 600403自4月12日起撤销退市风险警示"
   ]
  },
  {
   "cell_type": "code",
   "execution_count": 2,
   "metadata": {
    "ExecuteTime": {
     "end_time": "2018-04-27T12:27:06.315322Z",
     "start_time": "2018-04-27T12:27:06.309439Z"
    }
   },
   "outputs": [],
   "source": [
    "def make_pipeline():\n",
    "\n",
    "    latest_short_name = Fundamentals.short_name.latest\n",
    "\n",
    "    return Pipeline(columns={\n",
    "        '股票简称': latest_short_name,\n",
    "    })"
   ]
  },
  {
   "cell_type": "code",
   "execution_count": 3,
   "metadata": {
    "ExecuteTime": {
     "end_time": "2018-04-27T12:27:09.505028Z",
     "start_time": "2018-04-27T12:27:06.325725Z"
    }
   },
   "outputs": [],
   "source": [
    "result = run_pipeline(make_pipeline(), '2018-4-10', '2018-4-13')"
   ]
  },
  {
   "cell_type": "code",
   "execution_count": 4,
   "metadata": {
    "ExecuteTime": {
     "end_time": "2018-04-27T12:27:09.543328Z",
     "start_time": "2018-04-27T12:27:09.508837Z"
    }
   },
   "outputs": [
    {
     "data": {
      "text/html": [
       "<div>\n",
       "<style scoped>\n",
       "    .dataframe tbody tr th:only-of-type {\n",
       "        vertical-align: middle;\n",
       "    }\n",
       "\n",
       "    .dataframe tbody tr th {\n",
       "        vertical-align: top;\n",
       "    }\n",
       "\n",
       "    .dataframe thead th {\n",
       "        text-align: right;\n",
       "    }\n",
       "</style>\n",
       "<table border=\"1\" class=\"dataframe\">\n",
       "  <thead>\n",
       "    <tr style=\"text-align: right;\">\n",
       "      <th></th>\n",
       "      <th></th>\n",
       "      <th>股票简称</th>\n",
       "    </tr>\n",
       "  </thead>\n",
       "  <tbody>\n",
       "    <tr>\n",
       "      <th rowspan=\"3\" valign=\"top\">2018-04-10 00:00:00+00:00</th>\n",
       "      <th>郑州煤电(600121)</th>\n",
       "      <td>*ST郑煤</td>\n",
       "    </tr>\n",
       "    <tr>\n",
       "      <th>*ST正源(600321)</th>\n",
       "      <td>正源股份</td>\n",
       "    </tr>\n",
       "    <tr>\n",
       "      <th>大有能源(600403)</th>\n",
       "      <td>*ST大有</td>\n",
       "    </tr>\n",
       "    <tr>\n",
       "      <th rowspan=\"3\" valign=\"top\">2018-04-11 00:00:00+00:00</th>\n",
       "      <th>郑州煤电(600121)</th>\n",
       "      <td>*ST郑煤</td>\n",
       "    </tr>\n",
       "    <tr>\n",
       "      <th>*ST正源(600321)</th>\n",
       "      <td>正源股份</td>\n",
       "    </tr>\n",
       "    <tr>\n",
       "      <th>大有能源(600403)</th>\n",
       "      <td>*ST大有</td>\n",
       "    </tr>\n",
       "    <tr>\n",
       "      <th rowspan=\"3\" valign=\"top\">2018-04-12 00:00:00+00:00</th>\n",
       "      <th>郑州煤电(600121)</th>\n",
       "      <td>郑州煤电</td>\n",
       "    </tr>\n",
       "    <tr>\n",
       "      <th>*ST正源(600321)</th>\n",
       "      <td>*ST正源</td>\n",
       "    </tr>\n",
       "    <tr>\n",
       "      <th>大有能源(600403)</th>\n",
       "      <td>大有能源</td>\n",
       "    </tr>\n",
       "    <tr>\n",
       "      <th rowspan=\"3\" valign=\"top\">2018-04-13 00:00:00+00:00</th>\n",
       "      <th>郑州煤电(600121)</th>\n",
       "      <td>郑州煤电</td>\n",
       "    </tr>\n",
       "    <tr>\n",
       "      <th>*ST正源(600321)</th>\n",
       "      <td>*ST正源</td>\n",
       "    </tr>\n",
       "    <tr>\n",
       "      <th>大有能源(600403)</th>\n",
       "      <td>大有能源</td>\n",
       "    </tr>\n",
       "  </tbody>\n",
       "</table>\n",
       "</div>"
      ],
      "text/plain": [
       "                                          股票简称\n",
       "2018-04-10 00:00:00+00:00 郑州煤电(600121)   *ST郑煤\n",
       "                          *ST正源(600321)   正源股份\n",
       "                          大有能源(600403)   *ST大有\n",
       "2018-04-11 00:00:00+00:00 郑州煤电(600121)   *ST郑煤\n",
       "                          *ST正源(600321)   正源股份\n",
       "                          大有能源(600403)   *ST大有\n",
       "2018-04-12 00:00:00+00:00 郑州煤电(600121)    郑州煤电\n",
       "                          *ST正源(600321)  *ST正源\n",
       "                          大有能源(600403)    大有能源\n",
       "2018-04-13 00:00:00+00:00 郑州煤电(600121)    郑州煤电\n",
       "                          *ST正源(600321)  *ST正源\n",
       "                          大有能源(600403)    大有能源"
      ]
     },
     "execution_count": 4,
     "metadata": {},
     "output_type": "execute_result"
    }
   ],
   "source": [
    "select_output_by(result,stock_codes=['600321','600121','600403'])"
   ]
  },
  {
   "cell_type": "markdown",
   "metadata": {},
   "source": [
    "注意上表中各股票简称的变化。另外，由于股票表达方式是名称+代码，取自股票简称，各时点上并未完全一致。"
   ]
  },
  {
   "cell_type": "code",
   "execution_count": null,
   "metadata": {},
   "outputs": [],
   "source": []
  }
 ],
 "metadata": {
  "kernelspec": {
   "display_name": "zipline",
   "language": "python",
   "name": "zipline"
  },
  "language_info": {
   "codemirror_mode": {
    "name": "ipython",
    "version": 3
   },
   "file_extension": ".py",
   "mimetype": "text/x-python",
   "name": "python",
   "nbconvert_exporter": "python",
   "pygments_lexer": "ipython3",
   "version": "3.6.5"
  }
 },
 "nbformat": 4,
 "nbformat_minor": 2
}
