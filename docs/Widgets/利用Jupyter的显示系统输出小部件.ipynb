{
 "cells": [
  {
   "cell_type": "code",
   "execution_count": 1,
   "metadata": {
    "ExecuteTime": {
     "end_time": "2018-05-17T07:32:40.965881Z",
     "start_time": "2018-05-17T07:32:40.962473Z"
    }
   },
   "outputs": [],
   "source": [
    "import ipywidgets as widgets"
   ]
  },
  {
   "cell_type": "markdown",
   "metadata": {},
   "source": [
    "`Output`小部件可以捕获并显示由IPython生成的stdout，stderr和丰富的输出。也可以将输出直接附加到输出窗口小部件，或以编程方式清除输出。"
   ]
  },
  {
   "cell_type": "code",
   "execution_count": 2,
   "metadata": {
    "ExecuteTime": {
     "end_time": "2018-05-17T07:32:40.980787Z",
     "start_time": "2018-05-17T07:32:40.968062Z"
    }
   },
   "outputs": [
    {
     "data": {
      "application/vnd.jupyter.widget-view+json": {
       "model_id": "f52a26418fa04bfda9fe07659e2726b6",
       "version_major": 2,
       "version_minor": 0
      },
      "text/plain": [
       "Output(layout=Layout(border='1px solid black'))"
      ]
     },
     "metadata": {},
     "output_type": "display_data"
    }
   ],
   "source": [
    "out = widgets.Output(layout={'border': '1px solid black'})\n",
    "out"
   ]
  },
  {
   "cell_type": "markdown",
   "metadata": {},
   "source": [
    "小部件创建完成后，使用上下文管理器直接输出到它。 您可以将文本打印到输出区域："
   ]
  },
  {
   "cell_type": "code",
   "execution_count": 3,
   "metadata": {
    "ExecuteTime": {
     "end_time": "2018-05-17T07:32:40.989943Z",
     "start_time": "2018-05-17T07:32:40.982997Z"
    }
   },
   "outputs": [],
   "source": [
    "with out:\n",
    "    for i in range(10):\n",
    "        print(i, 'Hello world!')"
   ]
  },
  {
   "cell_type": "code",
   "execution_count": 4,
   "metadata": {
    "ExecuteTime": {
     "end_time": "2018-05-17T07:33:41.047403Z",
     "start_time": "2018-05-17T07:32:40.992140Z"
    }
   },
   "outputs": [],
   "source": [
    "import time\n",
    "time.sleep(60)\n",
    "out.clear_output()"
   ]
  },
  {
   "cell_type": "markdown",
   "metadata": {},
   "source": [
    "丰富的输出也可以指向输出区域。 在Jupyter笔记本中很好地显示的任何内容也都可以很好地显示在输出`Output`小部件中。"
   ]
  },
  {
   "cell_type": "code",
   "execution_count": 5,
   "metadata": {
    "ExecuteTime": {
     "end_time": "2018-05-17T07:35:50.531466Z",
     "start_time": "2018-05-17T07:33:41.050042Z"
    }
   },
   "outputs": [],
   "source": [
    "from IPython.display import YouTubeVideo\n",
    "with out:\n",
    "    display(YouTubeVideo('eWzY2nGfkXk'))"
   ]
  },
  {
   "cell_type": "markdown",
   "metadata": {},
   "source": [
    "我们甚至可以在输出小部件中显示复杂的mimetypes，例如嵌套小部件。"
   ]
  },
  {
   "cell_type": "code",
   "execution_count": 6,
   "metadata": {
    "ExecuteTime": {
     "end_time": "2018-05-17T07:35:50.563822Z",
     "start_time": "2018-05-17T07:35:50.536884Z"
    }
   },
   "outputs": [],
   "source": [
    "with out:\n",
    "    display(widgets.IntSlider())"
   ]
  },
  {
   "cell_type": "markdown",
   "metadata": {},
   "source": [
    "我们还可以直接使用便捷方法`append_stdout`，`append_stderr`或`append_display_data`将输出附加到输出窗口小部件。"
   ]
  },
  {
   "cell_type": "code",
   "execution_count": 7,
   "metadata": {
    "ExecuteTime": {
     "end_time": "2018-05-17T07:35:50.604344Z",
     "start_time": "2018-05-17T07:35:50.567509Z"
    }
   },
   "outputs": [
    {
     "data": {
      "application/vnd.jupyter.widget-view+json": {
       "model_id": "cf9e60cc60d34134b1e7aa7236045596",
       "version_major": 2,
       "version_minor": 0
      },
      "text/plain": [
       "Output(layout=Layout(border='1px solid black'), outputs=({'output_type': 'stream', 'name': 'stdout', 'text': '…"
      ]
     },
     "metadata": {},
     "output_type": "display_data"
    }
   ],
   "source": [
    "out = widgets.Output(layout={'border': '1px solid black'})\n",
    "out.append_stdout('Output appended with append_stdout')\n",
    "out.append_display_data(YouTubeVideo('eWzY2nGfkXk'))\n",
    "out"
   ]
  },
  {
   "cell_type": "markdown",
   "metadata": {},
   "source": [
    "请注意，`append_display_data`目前无法用于显示小部件。可以在这个[主题](https://github.com/jupyter-widgets/ipywidgets/issues/1811)中跟踪这个错误的状态。\n",
    "\n",
    "我们可以通过在上下文管理器中使用`IPython.display.clear_output`来清除输出，或者我们可以直接调用小部件的`clear_output`方法。"
   ]
  },
  {
   "cell_type": "code",
   "execution_count": 8,
   "metadata": {
    "ExecuteTime": {
     "end_time": "2018-05-17T07:35:50.617733Z",
     "start_time": "2018-05-17T07:35:50.607714Z"
    }
   },
   "outputs": [],
   "source": [
    "out.clear_output()"
   ]
  },
  {
   "cell_type": "markdown",
   "metadata": {},
   "source": [
    "`clear_output`支持关键字参数`wait`。将此设置为`True`，小部件内容不会立即清除。相反，它们在小部件下次收到要显示的内容时被清除。在替换输出小部件中的内容时，这可能很有用：它可以避免在调用`clear_output`之后调整小部件的大小，从而实现更平滑的转换。\n",
    "\n",
    "最后，我们可以使用输出小部件来捕获使用`capture`装饰器的函数产生的所有输出。"
   ]
  },
  {
   "cell_type": "code",
   "execution_count": 9,
   "metadata": {
    "ExecuteTime": {
     "end_time": "2018-05-17T07:36:20.037216Z",
     "start_time": "2018-05-17T07:36:19.928485Z"
    }
   },
   "outputs": [],
   "source": [
    "@out.capture()\n",
    "def function_with_captured_output():\n",
    "    print('This goes into the output widget')\n",
    "    raise Exception('As does this')\n",
    "\n",
    "function_with_captured_output()"
   ]
  },
  {
   "cell_type": "markdown",
   "metadata": {},
   "source": [
    "`out.capture`支持关键字参数`clear_output`。如果将此设置为`True`，则每次调用该函数时都会清除输出窗口小部件，以便您只能看到最后一次调用的输出。将`clear_output`设置为True时，也可以传递`wait = True`参数，以便只有在新输出可用时清除输出。当然，您也可以随时手动清除输出。"
   ]
  },
  {
   "cell_type": "code",
   "execution_count": 10,
   "metadata": {
    "ExecuteTime": {
     "end_time": "2018-05-17T07:38:11.523942Z",
     "start_time": "2018-05-17T07:38:11.508921Z"
    }
   },
   "outputs": [],
   "source": [
    "out.clear_output()"
   ]
  },
  {
   "cell_type": "markdown",
   "metadata": {},
   "source": [
    "## 输出小部件作为交互的基础"
   ]
  },
  {
   "cell_type": "markdown",
   "metadata": {},
   "source": [
    "输出小部件构成了如何实现交互和相关方法的基础。它也可以用于创建带有小部件和代码输出的丰富布局。定制交互式用户界面看起来如何的一个简单方法是使用`interactive_output`函数将控件挂接到其输出在返回的输出小部件中捕获的函数。在下一个示例中，我们垂直堆叠控件，然后将函数的输出放在右侧。"
   ]
  },
  {
   "cell_type": "code",
   "execution_count": 11,
   "metadata": {
    "ExecuteTime": {
     "end_time": "2018-05-17T07:40:54.392961Z",
     "start_time": "2018-05-17T07:40:54.305217Z"
    }
   },
   "outputs": [
    {
     "data": {
      "application/vnd.jupyter.widget-view+json": {
       "model_id": "613e7fc3a00044e6a08150f489764265",
       "version_major": 2,
       "version_minor": 0
      },
      "text/plain": [
       "HBox(children=(VBox(children=(IntSlider(value=0, description='a'), IntSlider(value=0, description='b'), IntSli…"
      ]
     },
     "metadata": {},
     "output_type": "display_data"
    }
   ],
   "source": [
    "a = widgets.IntSlider(description='a')\n",
    "b = widgets.IntSlider(description='b')\n",
    "c = widgets.IntSlider(description='c')\n",
    "def f(a, b, c):\n",
    "    print('{}*{}*{}={}'.format(a, b, c, a*b*c))\n",
    "\n",
    "out = widgets.interactive_output(f, {'a': a, 'b': b, 'c': c})\n",
    "\n",
    "widgets.HBox([widgets.VBox([a, b, c]), out])"
   ]
  },
  {
   "cell_type": "markdown",
   "metadata": {},
   "source": [
    "## 使用输出小部件调试回调中的错误"
   ]
  },
  {
   "cell_type": "markdown",
   "metadata": {},
   "source": [
    "在某些平台上，如JupyterLab，由窗口小部件回调生成的输出（例如，附加到小部件特征上的`.observe`方法的函数或按钮小部件上的`.on_click`方法）不会显示在任何位置。即使在其他平台上，也不清楚此输出应该出现在什么单元中。这可能会使回调函数中的调试错误更具挑战性。\n",
    "\n",
    "访问小部件回调输出的有效工具是使用输出小部件的捕获方法来装饰回调。然后，您可以在新单元中显示该小部件以查看回调输出。"
   ]
  },
  {
   "cell_type": "code",
   "execution_count": 12,
   "metadata": {
    "ExecuteTime": {
     "end_time": "2018-05-17T07:46:53.957561Z",
     "start_time": "2018-05-17T07:46:53.916963Z"
    }
   },
   "outputs": [
    {
     "data": {
      "application/vnd.jupyter.widget-view+json": {
       "model_id": "ec4418ca659d4cde927ce632dd28758d",
       "version_major": 2,
       "version_minor": 0
      },
      "text/plain": [
       "Button(description='click me to raise an exception', layout=Layout(width='300px'), style=ButtonStyle())"
      ]
     },
     "metadata": {},
     "output_type": "display_data"
    }
   ],
   "source": [
    "debug_view = widgets.Output(layout={'border': '1px solid black'})\n",
    "\n",
    "@debug_view.capture(clear_output=True)\n",
    "def bad_callback(event):\n",
    "    print('This is about to explode')\n",
    "    return 1.0 / 0.0\n",
    "\n",
    "button = widgets.Button(\n",
    "    description='click me to raise an exception',\n",
    "    layout={'width': '300px'}\n",
    ")\n",
    "button.on_click(bad_callback)\n",
    "button"
   ]
  },
  {
   "cell_type": "code",
   "execution_count": 13,
   "metadata": {
    "ExecuteTime": {
     "end_time": "2018-05-17T07:47:30.899151Z",
     "start_time": "2018-05-17T07:47:30.889977Z"
    }
   },
   "outputs": [
    {
     "data": {
      "application/vnd.jupyter.widget-view+json": {
       "model_id": "6e405c4b74af4b3d995ab74e536c1341",
       "version_major": 2,
       "version_minor": 0
      },
      "text/plain": [
       "Output(layout=Layout(border='1px solid black'), outputs=({'output_type': 'stream', 'text': 'This is about to e…"
      ]
     },
     "metadata": {},
     "output_type": "display_data"
    }
   ],
   "source": [
    "debug_view"
   ]
  },
  {
   "cell_type": "markdown",
   "metadata": {},
   "source": [
    "## 将输出小部件与日志记录模块集成"
   ]
  },
  {
   "cell_type": "markdown",
   "metadata": {},
   "source": [
    "While using the .capture decorator works well for understanding and debugging single callbacks, it does not scale to larger applications. Typically, in larger applications, one might use the logging module to print information on the status of the program. However, in the case of widget applications, it is unclear where the logging output should go.\n",
    "\n",
    "A useful pattern is to create a custom handler that redirects logs to an output widget. The output widget can then be displayed in a new cell to monitor the application while it runs.\n",
    "\n",
    "虽然使用`.capture`修饰器可以很好地理解和调试单个回调，但它不会扩展到更大的应用程序。通常，在较大的应用程序中，可以使用日志记录模块打印有关程序状态的信息。但是，在小部件应用程序的情况下，不清楚日志记录输出的位置。\n",
    "\n",
    "一个有用的模式是创建一个将日志重定向到输出小部件的自定义处理程序。然后可以将输出小部件显示在新单元中，以在运行时监视应用程序。"
   ]
  },
  {
   "cell_type": "code",
   "execution_count": 14,
   "metadata": {
    "ExecuteTime": {
     "end_time": "2018-05-17T07:50:35.756622Z",
     "start_time": "2018-05-17T07:50:35.729510Z"
    }
   },
   "outputs": [],
   "source": [
    "import ipywidgets as widgets\n",
    "import logging\n",
    "\n",
    "class OutputWidgetHandler(logging.Handler):\n",
    "    \"\"\" Custom logging handler sending logs to an output widget \"\"\"\n",
    "\n",
    "    def __init__(self, *args, **kwargs):\n",
    "        super(OutputWidgetHandler, self).__init__(*args, **kwargs)\n",
    "        layout = {\n",
    "            'width': '100%',\n",
    "            'height': '160px',\n",
    "            'border': '1px solid black'\n",
    "        }\n",
    "        self.out = widgets.Output(layout=layout)\n",
    "\n",
    "    def emit(self, record):\n",
    "        \"\"\" Overload of logging.Handler method \"\"\"\n",
    "        formatted_record = self.format(record)\n",
    "        new_output = {\n",
    "            'name': 'stdout',\n",
    "            'output_type': 'stream',\n",
    "            'text': formatted_record+'\\n'\n",
    "        }\n",
    "        self.out.outputs = (new_output, ) + self.out.outputs\n",
    "\n",
    "    def show_logs(self):\n",
    "        \"\"\" Show the logs \"\"\"\n",
    "        display(self.out)\n",
    "\n",
    "    def clear_logs(self):\n",
    "        \"\"\" Clear the current logs \"\"\"\n",
    "        self.out.clear_output()\n",
    "\n",
    "\n",
    "logger = logging.getLogger(__name__)\n",
    "handler = OutputWidgetHandler()\n",
    "handler.setFormatter(logging.Formatter('%(asctime)s  - [%(levelname)s] %(message)s'))\n",
    "logger.addHandler(handler)\n",
    "logger.setLevel(logging.INFO)"
   ]
  },
  {
   "cell_type": "code",
   "execution_count": 15,
   "metadata": {
    "ExecuteTime": {
     "end_time": "2018-05-17T07:50:46.219555Z",
     "start_time": "2018-05-17T07:50:46.212228Z"
    }
   },
   "outputs": [
    {
     "data": {
      "application/vnd.jupyter.widget-view+json": {
       "model_id": "43bc634a305e449c979791892129f744",
       "version_major": 2,
       "version_minor": 0
      },
      "text/plain": [
       "Output(layout=Layout(border='1px solid black', height='160px', width='100%'))"
      ]
     },
     "metadata": {},
     "output_type": "display_data"
    }
   ],
   "source": [
    "handler.show_logs()"
   ]
  },
  {
   "cell_type": "code",
   "execution_count": 16,
   "metadata": {
    "ExecuteTime": {
     "end_time": "2018-05-17T07:51:06.986911Z",
     "start_time": "2018-05-17T07:51:06.961970Z"
    }
   },
   "outputs": [],
   "source": [
    "handler.clear_logs()\n",
    "logger.info('Starting program')\n",
    "\n",
    "try:\n",
    "    logger.info('About to try something dangerous...')\n",
    "    1.0/0.0\n",
    "except Exception as e:\n",
    "    logger.exception('An error occurred!')"
   ]
  },
  {
   "cell_type": "markdown",
   "metadata": {},
   "source": [
    "## 与来自后台线程的输出小部件交互"
   ]
  },
  {
   "cell_type": "markdown",
   "metadata": {},
   "source": [
    "当显示后台线程产生的输出时，Jupyter的`display`机制可能不直观。后台线程的输出被打印到主线程正在写入的任何单元格中。要直接看到这个，创建一个重复打印到标准输出的线程："
   ]
  },
  {
   "cell_type": "code",
   "execution_count": 19,
   "metadata": {
    "ExecuteTime": {
     "end_time": "2018-05-17T07:54:14.077064Z",
     "start_time": "2018-05-17T07:54:14.068001Z"
    }
   },
   "outputs": [
    {
     "name": "stdout",
     "output_type": "stream",
     "text": [
      "output from background 0\n",
      "output from background 1\n",
      "output from background 2\n",
      "output from background 3\n",
      "output from background 4\n",
      "output from background 5\n",
      "output from background 6\n",
      "output from background 7\n",
      "output from background 8\n",
      "output from background 9\n",
      "output from background 10\n",
      "output from background 11\n",
      "output from background 12\n",
      "output from background 13\n",
      "output from background 14\n",
      "output from background 15\n",
      "output from background 16\n",
      "output from background 17\n",
      "output from background 18\n",
      "output from background 19\n",
      "output from background 20\n",
      "output from background 21\n",
      "output from background 22\n",
      "output from background 23\n",
      "output from background 24\n",
      "output from background 25\n",
      "output from background 26\n",
      "output from background 27\n",
      "output from background 28\n",
      "output from background 29\n",
      "output from background 30\n",
      "output from background 31\n",
      "output from background 32\n",
      "output from background 33\n",
      "output from background 34\n",
      "output from background 35\n",
      "output from background 36\n",
      "output from background 37\n",
      "output from background 38\n",
      "output from background 39\n",
      "output from background 40\n",
      "output from background 41\n",
      "output from background 42\n",
      "output from background 43\n",
      "output from background 44\n"
     ]
    }
   ],
   "source": [
    "import threading\n",
    "import time\n",
    "import itertools\n",
    "\n",
    "def run():\n",
    "    for i in itertools.count(0):\n",
    "        time.sleep(1)\n",
    "        print(('output from background {}'.format(i)))\n",
    "\n",
    "\n",
    "t = threading.Thread(target=run)\n",
    "t.start()"
   ]
  },
  {
   "cell_type": "markdown",
   "metadata": {},
   "source": [
    "这总是打印在当前活动的单元格中，而不是启动后台线程的单元格。\n",
    "\n",
    "这可能会导致输出小部件中令人惊讶的行为。 在输出窗口小部件捕获输出的期间，无论线程如何，笔记本中生成的任何输出都将进入输出窗口小部件。\n",
    "\n",
    "避免意外的最好方法是不要在多线程生成输出的上下文中使用输出窗口小部件的上下文管理器。 相反，我们可以将输出小部件传递给在线程中执行的函数，并使用`append_display_data()`，`append_stdout()`或`append_stderr()`方法将可显示的输出附加到输出小部件。"
   ]
  },
  {
   "cell_type": "code",
   "execution_count": 20,
   "metadata": {
    "ExecuteTime": {
     "end_time": "2018-05-17T07:57:06.569683Z",
     "start_time": "2018-05-17T07:57:06.544154Z"
    }
   },
   "outputs": [
    {
     "data": {
      "text/plain": [
       "'Display in main thread'"
      ]
     },
     "metadata": {},
     "output_type": "display_data"
    },
    {
     "data": {
      "application/vnd.jupyter.widget-view+json": {
       "model_id": "4ea096e722c842dfb8fc4b907b678c48",
       "version_major": 2,
       "version_minor": 0
      },
      "text/plain": [
       "Output()"
      ]
     },
     "metadata": {},
     "output_type": "display_data"
    },
    {
     "name": "stdout",
     "output_type": "stream",
     "text": [
      "output from background 172\n",
      "output from background 173\n",
      "output from background 174\n",
      "output from background 175\n",
      "output from background 176\n",
      "output from background 177\n",
      "output from background 178\n",
      "output from background 179\n",
      "output from background 180\n",
      "output from background 181\n",
      "output from background 182\n",
      "output from background 183\n",
      "output from background 184\n",
      "output from background 185\n",
      "output from background 186\n",
      "output from background 187\n",
      "output from background 188\n",
      "output from background 189\n",
      "output from background 190\n",
      "output from background 191\n",
      "output from background 192\n",
      "output from background 193\n",
      "output from background 194\n",
      "output from background 195\n",
      "output from background 196\n",
      "output from background 197\n",
      "output from background 198\n",
      "output from background 199\n",
      "output from background 200\n",
      "output from background 201\n",
      "output from background 202\n",
      "output from background 203\n",
      "output from background 204\n",
      "output from background 205\n",
      "output from background 206\n",
      "output from background 207\n",
      "output from background 208\n",
      "output from background 209\n",
      "output from background 210\n",
      "output from background 211\n",
      "output from background 212\n",
      "output from background 213\n",
      "output from background 214\n",
      "output from background 215\n",
      "output from background 216\n",
      "output from background 217\n",
      "output from background 218\n",
      "output from background 219\n",
      "output from background 220\n",
      "output from background 221\n",
      "output from background 222\n",
      "output from background 223\n",
      "output from background 224\n",
      "output from background 225\n",
      "output from background 226\n",
      "output from background 227\n",
      "output from background 228\n",
      "output from background 229\n",
      "output from background 230\n",
      "output from background 231\n",
      "output from background 232\n",
      "output from background 233\n",
      "output from background 234\n",
      "output from background 235\n",
      "output from background 236\n",
      "output from background 237\n",
      "output from background 238\n",
      "output from background 239\n",
      "output from background 240\n",
      "output from background 241\n",
      "output from background 242\n",
      "output from background 243\n",
      "output from background 244\n",
      "output from background 245\n",
      "output from background 246\n",
      "output from background 247\n",
      "output from background 248\n",
      "output from background 249\n",
      "output from background 250\n",
      "output from background 251\n",
      "output from background 252\n",
      "output from background 253\n",
      "output from background 254\n",
      "output from background 255\n"
     ]
    }
   ],
   "source": [
    "import threading\n",
    "from IPython.display import display, HTML\n",
    "import ipywidgets as widgets\n",
    "import time\n",
    "\n",
    "def thread_func(something, out):\n",
    "    for i in range(1, 5):\n",
    "        time.sleep(0.3)\n",
    "        out.append_stdout('{} {} {}\\n'.format(i, '**'*i, something))\n",
    "    out.append_display_data(HTML(\"<em>All done!</em>\"))\n",
    "\n",
    "display('Display in main thread')\n",
    "out = widgets.Output()\n",
    "# Now the key: the container is displayed (while empty) in the main thread\n",
    "display(out)\n",
    "\n",
    "thread = threading.Thread(\n",
    "    target=thread_func,\n",
    "    args=(\"some text\", out))\n",
    "thread.start()"
   ]
  },
  {
   "cell_type": "code",
   "execution_count": null,
   "metadata": {},
   "outputs": [],
   "source": []
  }
 ],
 "metadata": {
  "kernelspec": {
   "display_name": "zipline",
   "language": "python",
   "name": "zipline"
  },
  "language_info": {
   "codemirror_mode": {
    "name": "ipython",
    "version": 3
   },
   "file_extension": ".py",
   "mimetype": "text/x-python",
   "name": "python",
   "nbconvert_exporter": "python",
   "pygments_lexer": "ipython3",
   "version": "3.6.5"
  },
  "toc": {
   "base_numbering": 1,
   "nav_menu": {},
   "number_sections": true,
   "sideBar": true,
   "skip_h1_title": false,
   "title_cell": "Table of Contents",
   "title_sidebar": "Contents",
   "toc_cell": false,
   "toc_position": {},
   "toc_section_display": true,
   "toc_window_display": true
  }
 },
 "nbformat": 4,
 "nbformat_minor": 2
}
