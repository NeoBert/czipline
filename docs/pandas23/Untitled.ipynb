{
 "cells": [
  {
   "cell_type": "markdown",
   "metadata": {},
   "source": [
    "适应`pandas0.23`修订记录"
   ]
  },
  {
   "cell_type": "markdown",
   "metadata": {},
   "source": [
    "## `pandas`"
   ]
  },
  {
   "cell_type": "markdown",
   "metadata": {},
   "source": [
    "### `normalize_date`"
   ]
  },
  {
   "cell_type": "raw",
   "metadata": {},
   "source": [
    "from pandas.core.tools.datetimes import normalize_date -> from pandas._libs.tslib import normalize_date"
   ]
  },
  {
   "cell_type": "code",
   "execution_count": 1,
   "metadata": {
    "ExecuteTime": {
     "end_time": "2018-06-18T14:33:58.362149Z",
     "start_time": "2018-06-18T14:33:57.989046Z"
    }
   },
   "outputs": [],
   "source": [
    "from pandas._libs.tslib import normalize_date"
   ]
  },
  {
   "cell_type": "markdown",
   "metadata": {
    "ExecuteTime": {
     "end_time": "2018-06-18T14:31:14.894032Z",
     "start_time": "2018-06-18T14:31:14.887213Z"
    }
   },
   "source": [
    "### `index must be monotonic increasing or decreasing`"
   ]
  },
  {
   "cell_type": "code",
   "execution_count": 3,
   "metadata": {
    "ExecuteTime": {
     "end_time": "2018-06-18T14:33:58.405609Z",
     "start_time": "2018-06-18T14:33:58.391667Z"
    }
   },
   "outputs": [],
   "source": [
    "from ctypes import (\n",
    "    Structure,\n",
    "    c_ubyte,\n",
    "    c_uint,\n",
    "    c_ulong,\n",
    "    c_ulonglong,\n",
    "    c_ushort,\n",
    "    sizeof,\n",
    ")\n",
    "\n",
    "import numpy as np\n",
    "import pandas as pd\n",
    "# from six.moves import range\n",
    "\n",
    "\n",
    "_inttypes_map = {\n",
    "    sizeof(t) - 1: t for t in {\n",
    "        c_ubyte,\n",
    "        c_uint,\n",
    "        c_ulong,\n",
    "        c_ulonglong,\n",
    "        c_ushort\n",
    "    }\n",
    "}\n",
    "_inttypes = list(\n",
    "    # # 必须先排序\n",
    "    pd.Series(_inttypes_map).sort_index().reindex(\n",
    "        range(max(_inttypes_map.keys())),\n",
    "        method='bfill',\n",
    "    ),\n",
    ")"
   ]
  },
  {
   "cell_type": "code",
   "execution_count": 4,
   "metadata": {
    "ExecuteTime": {
     "end_time": "2018-06-18T14:33:58.416796Z",
     "start_time": "2018-06-18T14:33:58.408960Z"
    }
   },
   "outputs": [
    {
     "data": {
      "text/plain": [
       "[ctypes.c_ubyte,\n",
       " ctypes.c_ushort,\n",
       " ctypes.c_uint,\n",
       " ctypes.c_uint,\n",
       " ctypes.c_ulong,\n",
       " ctypes.c_ulong,\n",
       " ctypes.c_ulong]"
      ]
     },
     "execution_count": 4,
     "metadata": {},
     "output_type": "execute_result"
    }
   ],
   "source": [
    "_inttypes"
   ]
  },
  {
   "cell_type": "code",
   "execution_count": null,
   "metadata": {},
   "outputs": [],
   "source": []
  }
 ],
 "metadata": {
  "kernelspec": {
   "display_name": "zipline23",
   "language": "python",
   "name": "zipline23"
  },
  "language_info": {
   "codemirror_mode": {
    "name": "ipython",
    "version": 3
   },
   "file_extension": ".py",
   "mimetype": "text/x-python",
   "name": "python",
   "nbconvert_exporter": "python",
   "pygments_lexer": "ipython3",
   "version": "3.6.5"
  },
  "toc": {
   "base_numbering": 1,
   "nav_menu": {},
   "number_sections": true,
   "sideBar": true,
   "skip_h1_title": false,
   "title_cell": "Table of Contents",
   "title_sidebar": "Contents",
   "toc_cell": false,
   "toc_position": {},
   "toc_section_display": true,
   "toc_window_display": true
  }
 },
 "nbformat": 4,
 "nbformat_minor": 2
}
