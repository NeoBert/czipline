{
 "cells": [
  {
   "cell_type": "markdown",
   "metadata": {},
   "source": [
    "[自定义`matplotlib`](https://matplotlib.org/users/customizing.html)译文"
   ]
  },
  {
   "cell_type": "markdown",
   "metadata": {},
   "source": [
    "## 使用`style sheets`"
   ]
  },
  {
   "cell_type": "markdown",
   "metadata": {},
   "source": [
    "样式包增加了快速切换“样式”的支持，它具有与`matplotlibrc`文件（在启动时读取以配置`matplotlib`）相同的参数。"
   ]
  },
  {
   "cell_type": "markdown",
   "metadata": {},
   "source": [
    "`matplotlib`提供了许多预定义的样式。例如，有一个名为“ggplot”的预定义样式，它模拟`ggplot`（`R`的流行绘图包）的美学风格。要使用这种样式风格，只需添加："
   ]
  },
  {
   "cell_type": "code",
   "execution_count": 1,
   "metadata": {
    "ExecuteTime": {
     "end_time": "2018-05-04T16:40:42.671902Z",
     "start_time": "2018-05-04T16:40:42.358779Z"
    }
   },
   "outputs": [],
   "source": [
    "import matplotlib.pyplot as plt\n",
    "plt.style.use('ggplot')"
   ]
  },
  {
   "cell_type": "markdown",
   "metadata": {},
   "source": [
    "要列出所有可用的样式，请使用："
   ]
  },
  {
   "cell_type": "code",
   "execution_count": 2,
   "metadata": {
    "ExecuteTime": {
     "end_time": "2018-05-04T16:40:42.680967Z",
     "start_time": "2018-05-04T16:40:42.676428Z"
    }
   },
   "outputs": [
    {
     "name": "stdout",
     "output_type": "stream",
     "text": [
      "['fast', 'seaborn-poster', 'seaborn-ticks', 'seaborn-whitegrid', 'classic', 'ggplot', 'seaborn-darkgrid', 'seaborn-muted', 'seaborn-dark', 'seaborn-bright', 'bmh', 'Solarize_Light2', 'fivethirtyeight', 'seaborn-deep', 'seaborn', 'seaborn-notebook', 'seaborn-white', '_classic_test', 'grayscale', 'seaborn-paper', 'seaborn-talk', 'dark_background', 'seaborn-colorblind', 'tableau-colorblind10', 'seaborn-dark-palette', 'seaborn-pastel']\n"
     ]
    }
   ],
   "source": [
    "print(plt.style.available)"
   ]
  },
  {
   "cell_type": "markdown",
   "metadata": {},
   "source": [
    "### 定义你自己的风格"
   ]
  },
  {
   "cell_type": "markdown",
   "metadata": {},
   "source": [
    "您可以创建自定义样式，并通过调用`style.use`来使用样式表的路径或URL。另外，如果将`<style-name> .mplstyle`文件添加到`mpl_configdir / stylelib`中，则可以通过调用`style.use（<style-name>）`来重新使用自定义样式表。 默认情况下，mpl_configdir应该是`~/ .config / matplotlib`，但你可以用`matplotlib.get_configdir()`来检查你的位置。你可能需要创建这个目录。 您还可以通过设置`MPLCONFIGDIR`环境变量来更改matplotlib查找`stylelib /文件夹`的目录，请参阅[matplotlib配置和缓存目录位置](https://matplotlib.org/faq/troubleshooting_faq.html#locating-matplotlib-config-dir)。"
   ]
  },
  {
   "cell_type": "code",
   "execution_count": 7,
   "metadata": {
    "ExecuteTime": {
     "end_time": "2018-05-04T16:40:42.694044Z",
     "start_time": "2018-05-04T16:40:42.684290Z"
    }
   },
   "outputs": [
    {
     "data": {
      "text/plain": [
       "'/home/ldf/.config/matplotlib'"
      ]
     },
     "execution_count": 7,
     "metadata": {},
     "output_type": "execute_result"
    }
   ],
   "source": [
    "import matplotlib\n",
    "matplotlib.get_configdir()"
   ]
  },
  {
   "cell_type": "markdown",
   "metadata": {},
   "source": [
    "请注意，如果样式具有相同的名称，`mpl_configdir / stylelib`中的自定义样式表将覆盖由`matplotlib`定义的样式表。"
   ]
  },
  {
   "cell_type": "markdown",
   "metadata": {},
   "source": [
    "例如，您可能希望创建`mpl_configdir / stylelib / presentation.mplstyle`文件，类似以下内容："
   ]
  },
  {
   "cell_type": "raw",
   "metadata": {},
   "source": [
    "axes.titlesize : 24\n",
    "axes.labelsize : 20\n",
    "lines.linewidth : 3\n",
    "lines.markersize : 10\n",
    "xtick.labelsize : 16\n",
    "ytick.labelsize : 16"
   ]
  },
  {
   "cell_type": "markdown",
   "metadata": {
    "ExecuteTime": {
     "end_time": "2018-05-04T15:48:40.501242Z",
     "start_time": "2018-05-04T15:48:40.491362Z"
    }
   },
   "source": [
    "然后，当您想要调整绘图，更好展现时，您仅仅需要添加："
   ]
  },
  {
   "cell_type": "raw",
   "metadata": {},
   "source": [
    ">>> import matplotlib.pyplot as plt\n",
    ">>> plt.style.use('presentation') # 参数为文件名称"
   ]
  },
  {
   "cell_type": "markdown",
   "metadata": {},
   "source": [
    "### 组合风格"
   ]
  },
  {
   "cell_type": "markdown",
   "metadata": {},
   "source": [
    "样式标可以组和。所以你可以有一个自定义颜色的样式表，以及一个单独用于改变演示文稿元素大小的样式表来。通过传递样式列表轻松地组合这些样式："
   ]
  },
  {
   "cell_type": "raw",
   "metadata": {},
   "source": [
    ">>> import matplotlib.pyplot as plt\n",
    ">>> plt.style.use(['dark_background', 'presentation'])"
   ]
  },
  {
   "cell_type": "markdown",
   "metadata": {},
   "source": [
    "请注意，右侧的样式将覆盖已由左侧样式定义的值。"
   ]
  },
  {
   "cell_type": "markdown",
   "metadata": {},
   "source": [
    "### 临时样式"
   ]
  },
  {
   "cell_type": "markdown",
   "metadata": {},
   "source": [
    "如果您只想为特定代码块使用样式，但不希望更改全局样式，样式包提供了一个上下文管理器，用于限制特定范围。类似如下所示的内容："
   ]
  },
  {
   "cell_type": "raw",
   "metadata": {},
   "source": [
    ">>> import numpy as np\n",
    ">>> import matplotlib.pyplot as plt\n",
    ">>>\n",
    ">>> with plt.style.context(('dark_background')):\n",
    ">>>     plt.plot(np.sin(np.linspace(0, 2 * np.pi)), 'r-o')\n",
    ">>>\n",
    ">>> # Some plotting code with the default style\n",
    ">>>\n",
    ">>> plt.show()"
   ]
  },
  {
   "cell_type": "markdown",
   "metadata": {},
   "source": [
    "## `matplotlib rcParams`"
   ]
  },
  {
   "cell_type": "markdown",
   "metadata": {},
   "source": [
    "### 动态`rc`设置"
   ]
  },
  {
   "cell_type": "markdown",
   "metadata": {},
   "source": [
    "您还可从`python`脚本或`python shell`中动态更改`rc`的默认设置。所有`rc`设置都存储在名为`matplotlib.rcParams`类似字典的变量中，该变量对`matplotlib`包是全局的。`rcParams`可以直接修改，例如："
   ]
  },
  {
   "cell_type": "code",
   "execution_count": 4,
   "metadata": {
    "ExecuteTime": {
     "end_time": "2018-05-04T16:40:42.704409Z",
     "start_time": "2018-05-04T16:40:42.697930Z"
    }
   },
   "outputs": [],
   "source": [
    "import matplotlib as mpl\n",
    "mpl.rcParams['lines.linewidth'] = 2\n",
    "mpl.rcParams['lines.color'] = 'r'"
   ]
  },
  {
   "cell_type": "markdown",
   "metadata": {},
   "source": [
    "`Matplotlib`还为修改`rc`设置提供了一些便利的函数。`matplotlib.rc()`命令可用于使用关键字参数一次性修改一组`rc`设置中的多个属性："
   ]
  },
  {
   "cell_type": "code",
   "execution_count": 5,
   "metadata": {
    "ExecuteTime": {
     "end_time": "2018-05-04T16:40:42.712811Z",
     "start_time": "2018-05-04T16:40:42.707673Z"
    }
   },
   "outputs": [],
   "source": [
    "import matplotlib as mpl\n",
    "mpl.rc('lines', linewidth=2, color='r')"
   ]
  },
  {
   "cell_type": "markdown",
   "metadata": {},
   "source": [
    "`matplotlib.rcdefaults()`命令将恢复标准的`matplotlib`默认设置。\n",
    "\n",
    "设置`rcParams`的值时有一定程度的验证，请参阅[matplotlib.rcsetup](https://matplotlib.org/api/rcsetup_api.html#module-matplotlib.rcsetup)以获取详细信息。"
   ]
  },
  {
   "cell_type": "markdown",
   "metadata": {
    "ExecuteTime": {
     "end_time": "2018-05-04T16:11:10.535373Z",
     "start_time": "2018-05-04T16:11:10.532022Z"
    }
   },
   "source": [
    "### `matplotlibrc`文件"
   ]
  },
  {
   "cell_type": "markdown",
   "metadata": {},
   "source": [
    "`matplotlib`使用`matplotlibrc`配置文件来定制各种属性，我们称之为`rc`设置或`rc`参数。您可以控制`matplotlib`中几乎所有属性的默认值：图形大小和dpi，线宽，颜色和样式，坐标，坐标轴和网格属性，文本和字体属性等等。`matplotlib`在四个位置按以下顺序查找`matplotlibrc`："
   ]
  },
  {
   "cell_type": "markdown",
   "metadata": {},
   "source": [
    "1. 当前工作目录下的`matplotlibrc`，通常用于您不想用于别处的特定自定义项。\n",
    "2. `$MATPLOTLIBRC`/`matplotlibrc`\n",
    "3. 接下来看用户特定位置，具体取决于您的平台：\n",
    " \n",
    " + 在Linux和FreeBSD上，如果您定制了您的环境，它将在`.config/matplotlib/matplotlibrc`或`$XDG_CONFIG_HOME/matplotlib/matplotlibrc`中查找\n",
    " + 在其他平台上，它在`.matplotlib/matplotlibrc`中查找\n",
    "\n",
    " 请参阅[matplotlib配置和缓存目录位置](https://matplotlib.org/faq/troubleshooting_faq.html#locating-matplotlib-config-dir)。\n",
    "\n",
    "4. `INSTALL/matplotlib/mpl-data/matplotlibrc`，其中`INSTALL`类似于`Linux`上的`/usr/lib/python3.5/site-packages`，也可能是`Windows`上的`C:\\Python35\\Lib\\site-packages`。每次安装`matplotlib`时，这个文件都会被覆盖，所以如果你想保存你的自定义文件，请把这个文件移动到你的用户特定的`matplotlib`目录下。"
   ]
  },
  {
   "cell_type": "markdown",
   "metadata": {},
   "source": [
    "要显示当前活动的`matplotlibrc`文件从哪里加载，可以执行以下操作："
   ]
  },
  {
   "cell_type": "code",
   "execution_count": 6,
   "metadata": {
    "ExecuteTime": {
     "end_time": "2018-05-04T16:40:42.723259Z",
     "start_time": "2018-05-04T16:40:42.716675Z"
    }
   },
   "outputs": [
    {
     "data": {
      "text/plain": [
       "'/home/ldf/.config/matplotlib/matplotlibrc'"
      ]
     },
     "execution_count": 6,
     "metadata": {},
     "output_type": "execute_result"
    }
   ],
   "source": [
    "import matplotlib\n",
    "matplotlib.matplotlib_fname()"
   ]
  },
  {
   "cell_type": "markdown",
   "metadata": {},
   "source": [
    "请参阅下面的示例matplotlibrc文件。"
   ]
  },
  {
   "cell_type": "raw",
   "metadata": {},
   "source": [
    "#### MATPLOTLIBRC FORMAT\n",
    "\n",
    "## This is a sample matplotlib configuration file - you can find a copy\n",
    "## of it on your system in\n",
    "## site-packages/matplotlib/mpl-data/matplotlibrc.  If you edit it\n",
    "## there, please note that it will be overwritten in your next install.\n",
    "## If you want to keep a permanent local copy that will not be\n",
    "## overwritten, place it in the following location:\n",
    "## unix/linux:\n",
    "##      $HOME/.config/matplotlib/matplotlibrc or\n",
    "##      $XDG_CONFIG_HOME/matplotlib/matplotlibrc (if $XDG_CONFIG_HOME is set)\n",
    "## other platforms:\n",
    "##      $HOME/.matplotlib/matplotlibrc\n",
    "##\n",
    "## See http://matplotlib.org/users/customizing.html#the-matplotlibrc-file for\n",
    "## more details on the paths which are checked for the configuration file.\n",
    "##\n",
    "## This file is best viewed in a editor which supports python mode\n",
    "## syntax highlighting. Blank lines, or lines starting with a comment\n",
    "## symbol, are ignored, as are trailing comments.  Other lines must\n",
    "## have the format\n",
    "##     key : val ## optional comment\n",
    "##\n",
    "## Colors: for the color values below, you can either use - a\n",
    "## matplotlib color string, such as r, k, or b - an rgb tuple, such as\n",
    "## (1.0, 0.5, 0.0) - a hex string, such as ff00ff - a scalar\n",
    "## grayscale intensity such as 0.75 - a legal html color name, e.g., red,\n",
    "## blue, darkslategray\n",
    "\n",
    "##### CONFIGURATION BEGINS HERE\n",
    "\n",
    "## The default backend; one of GTK GTKAgg GTKCairo GTK3Agg GTK3Cairo\n",
    "## MacOSX Qt4Agg Qt5Agg TkAgg WX WXAgg Agg Cairo GDK PS PDF SVG\n",
    "## Template.\n",
    "## You can also deploy your own backend outside of matplotlib by\n",
    "## referring to the module name (which must be in the PYTHONPATH) as\n",
    "## 'module://my_backend'.\n",
    "##\n",
    "## If you omit this parameter, it will always default to \"Agg\", which is a\n",
    "## non-interactive backend.\n",
    "backend      : TkAgg\n",
    "\n",
    "## Note that this can be overridden by the environment variable\n",
    "## QT_API used by Enthought Tool Suite (ETS); valid values are\n",
    "## \"pyqt\" and \"pyside\".  The \"pyqt\" setting has the side effect of\n",
    "## forcing the use of Version 2 API for QString and QVariant.\n",
    "\n",
    "## The port to use for the web server in the WebAgg backend.\n",
    "#webagg.port : 8988\n",
    "\n",
    "## The address on which the WebAgg web server should be reachable\n",
    "#webagg.address : 127.0.0.1\n",
    "\n",
    "## If webagg.port is unavailable, a number of other random ports will\n",
    "## be tried until one that is available is found.\n",
    "#webagg.port_retries : 50\n",
    "\n",
    "## When True, open the webbrowser to the plot that is shown\n",
    "#webagg.open_in_browser : True\n",
    "\n",
    "## if you are running pyplot inside a GUI and your backend choice\n",
    "## conflicts, we will automatically try to find a compatible one for\n",
    "## you if backend_fallback is True\n",
    "#backend_fallback: True\n",
    "\n",
    "#interactive  : False\n",
    "#toolbar      : toolbar2   ## None | toolbar2  (\"classic\" is deprecated)\n",
    "#timezone     : UTC        ## a pytz timezone string, e.g., US/Central or Europe/Paris\n",
    "\n",
    "## Where your matplotlib data lives if you installed to a non-default\n",
    "## location.  This is where the matplotlib fonts, bitmaps, etc reside\n",
    "#datapath : /home/jdhunter/mpldata\n",
    "\n",
    "\n",
    "#### LINES\n",
    "## See http://matplotlib.org/api/artist_api.html#module-matplotlib.lines for more\n",
    "## information on line properties.\n",
    "#lines.linewidth   : 1.5     ## line width in points\n",
    "#lines.linestyle   : -       ## solid line\n",
    "#lines.color       : C0      ## has no affect on plot(); see axes.prop_cycle\n",
    "#lines.marker      : None    ## the default marker\n",
    "#lines.markeredgewidth  : 1.0     ## the line width around the marker symbol\n",
    "#lines.markersize  : 6            ## markersize, in points\n",
    "#lines.dash_joinstyle : round        ## miter|round|bevel\n",
    "#lines.dash_capstyle : butt          ## butt|round|projecting\n",
    "#lines.solid_joinstyle : round       ## miter|round|bevel\n",
    "#lines.solid_capstyle : projecting   ## butt|round|projecting\n",
    "#lines.antialiased : True         ## render lines in antialiased (no jaggies)\n",
    "\n",
    "## The three standard dash patterns.  These are scaled by the linewidth.\n",
    "#lines.dashed_pattern : 3.7, 1.6\n",
    "#lines.dashdot_pattern : 6.4, 1.6, 1, 1.6\n",
    "#lines.dotted_pattern : 1, 1.65\n",
    "#lines.scale_dashes : True\n",
    "\n",
    "#markers.fillstyle: full ## full|left|right|bottom|top|none\n",
    "\n",
    "#### PATCHES\n",
    "## Patches are graphical objects that fill 2D space, like polygons or\n",
    "## circles.  See\n",
    "## http://matplotlib.org/api/artist_api.html#module-matplotlib.patches\n",
    "## information on patch properties\n",
    "#patch.linewidth        : 1        ## edge width in points.\n",
    "#patch.facecolor        : C0\n",
    "#patch.edgecolor        : k       ## if forced, or patch is not filled\n",
    "#patch.force_edgecolor  : False   ## True to always use edgecolor\n",
    "#patch.antialiased      : True    ## render patches in antialiased (no jaggies)\n",
    "\n",
    "#### HATCHES\n",
    "#hatch.color     : k\n",
    "#hatch.linewidth : 1.0\n",
    "\n",
    "#### Boxplot\n",
    "#boxplot.notch       : False\n",
    "#boxplot.vertical    : True\n",
    "#boxplot.whiskers    : 1.5\n",
    "#boxplot.bootstrap   : None\n",
    "#boxplot.patchartist : False\n",
    "#boxplot.showmeans   : False\n",
    "#boxplot.showcaps    : True\n",
    "#boxplot.showbox     : True\n",
    "#boxplot.showfliers  : True\n",
    "#boxplot.meanline    : False\n",
    "\n",
    "#boxplot.flierprops.color           : k\n",
    "#boxplot.flierprops.marker          : o\n",
    "#boxplot.flierprops.markerfacecolor : none\n",
    "#boxplot.flierprops.markeredgecolor : k\n",
    "#boxplot.flierprops.markersize      : 6\n",
    "#boxplot.flierprops.linestyle       : none\n",
    "#boxplot.flierprops.linewidth       : 1.0\n",
    "\n",
    "#boxplot.boxprops.color     : k\n",
    "#boxplot.boxprops.linewidth : 1.0\n",
    "#boxplot.boxprops.linestyle : -\n",
    "\n",
    "#boxplot.whiskerprops.color     : k\n",
    "#boxplot.whiskerprops.linewidth : 1.0\n",
    "#boxplot.whiskerprops.linestyle : -\n",
    "\n",
    "#boxplot.capprops.color     : k\n",
    "#boxplot.capprops.linewidth : 1.0\n",
    "#boxplot.capprops.linestyle : -\n",
    "\n",
    "#boxplot.medianprops.color     : C1\n",
    "#boxplot.medianprops.linewidth : 1.0\n",
    "#boxplot.medianprops.linestyle : -\n",
    "\n",
    "#boxplot.meanprops.color           : C2\n",
    "#boxplot.meanprops.marker          : ^\n",
    "#boxplot.meanprops.markerfacecolor : C2\n",
    "#boxplot.meanprops.markeredgecolor : C2\n",
    "#boxplot.meanprops.markersize      :  6\n",
    "#boxplot.meanprops.linestyle       : --\n",
    "#boxplot.meanprops.linewidth       : 1.0\n",
    "\n",
    "\n",
    "#### FONT 字体\n",
    "\n",
    "## text.Text使用字体属性，详见\n",
    "## http://matplotlib.org/api/font_manager_api.html\n",
    "## 获取更详细的信息  \n",
    "## 以下所列这6个字体属性用于字体匹配，每个都有其默认值\n",
    "## \n",
    "## `font.family`属性有五个值: \n",
    "##     1. 'serif' (e.g., Times)【衬线体】\n",
    "##     2. 'sans-serif' (e.g., Helzhiica)【无衬线体】\n",
    "##     3. 'cursive' (e.g., Zapf-Chancery)【草书】\n",
    "##     4. 'fantasy' (e.g., Western)【梦幻字体】\n",
    "##     5. 'monospace' (e.g., Courier)【等宽字体】\n",
    "## 每个字体族都有一个默认字体列表，优先度按降序排列。当`text.usetex`为`False`,\n",
    "## `font.family`使用最近的字体\n",
    "##\n",
    "## `font.style`属性有三个值:\n",
    "##     1. normal【正常】或roman【罗马】\n",
    "##     2. italic【意大利】\n",
    "##     3. oblique【斜体】\n",
    "##  如italic【意大利】当前不存在，则用oblique【斜体】代替\n",
    "##\n",
    "## The font.variant property has two values: normal or small-caps.  For\n",
    "## TrueType fonts, which are scalable fonts, small-caps is equivalent\n",
    "## to using a font size of 'smaller', or about 83%% of the current font\n",
    "## size.\n",
    "##\n",
    "## The font.weight property has effectively 13 values: normal, bold,\n",
    "## bolder, lighter, 100, 200, 300, ..., 900.  Normal is the same as\n",
    "## 400, and bold is 700.  bolder and lighter are relative values with\n",
    "## respect to the current weight.\n",
    "##\n",
    "## The font.stretch property has 11 values: ultra-condensed,\n",
    "## extra-condensed, condensed, semi-condensed, normal, semi-expanded,\n",
    "## expanded, extra-expanded, ultra-expanded, wider, and narrower.  This\n",
    "## property is not currently implemented.\n",
    "##\n",
    "## The font.size property is the default font size for text, given in pts.\n",
    "## 10 pt is the standard value.\n",
    "\n",
    "font.family          : sans-serif # 无衬线体\n",
    "#font.style          : normal\n",
    "#font.variant        : normal\n",
    "#font.weight         : normal\n",
    "#font.stretch        : normal\n",
    "## note that font.size controls default text sizes.  To configure\n",
    "## special text sizes tick labels, axes, labels, title, etc, see the rc\n",
    "## settings for axes and ticks. Special text sizes can be defined\n",
    "## relative to font.size, using the following values: xx-small, x-small,\n",
    "## small, medium, large, x-large, xx-large, larger, or smaller\n",
    "#font.size           : 10.0\n",
    "#font.serif          : DejaVu Serif, Bitstream Vera Serif, Computer Modern Roman, New Century Schoolbook, Century Schoolbook L, Utopia, ITC Bookman, Bookman, Nimbus Roman No9 L, Times New Roman, Times, Palatino, Charter, serif\n",
    "font.sans-serif      : Droid Sans Fallback, DejaVu Sans, Bitstream Vera Sans, Computer Modern Sans Serif, Lucida Grande, Verdana, Geneva, Lucid, Arial, Helvetica, Avant Garde, sans-serif\n",
    "#font.cursive        : Apple Chancery, Textile, Zapf Chancery, Sand, Script MT, Felipa, cursive\n",
    "#font.fantasy        : Comic Sans MS, Chicago, Charcoal, ImpactWestern, Humor Sans, xkcd, fantasy\n",
    "#font.monospace      : DejaVu Sans Mono, Bitstream Vera Sans Mono, Computer Modern Typewriter, Andale Mono, Nimbus Mono L, Courier New, Courier, Fixed, Terminal, monospace\n",
    "\n",
    "#### TEXT\n",
    "## text properties used by text.Text.  See\n",
    "## http://matplotlib.org/api/artist_api.html#module-matplotlib.text for more\n",
    "## information on text properties\n",
    "#text.color          : k\n",
    "\n",
    "#### LaTeX customizations. See http://wiki.scipy.org/Cookbook/Matplotlib/UsingTex\n",
    "#text.usetex         : False  ## use latex for all text handling. The following fonts\n",
    "                              ## are supported through the usual rc parameter settings:\n",
    "                              ## new century schoolbook, bookman, times, palatino,\n",
    "                              ## zapf chancery, charter, serif, sans-serif, helvetica,\n",
    "                              ## avant garde, courier, monospace, computer modern roman,\n",
    "                              ## computer modern sans serif, computer modern typewriter\n",
    "                              ## If another font is desired which can loaded using the\n",
    "                              ## LaTeX \\usepackage command, please inquire at the\n",
    "                              ## matplotlib mailing list\n",
    "#text.latex.unicode : False ## use \"ucs\" and \"inputenc\" LaTeX packages for handling\n",
    "                            ## unicode strings.\n",
    "#text.latex.preamble :      ## IMPROPER USE OF THIS FEATURE WILL LEAD TO LATEX FAILURES\n",
    "                            ## AND IS THEREFORE UNSUPPORTED. PLEASE DO NOT ASK FOR HELP\n",
    "                            ## IF THIS FEATURE DOES NOT DO WHAT YOU EXPECT IT TO.\n",
    "                            ## preamble is a comma separated list of LaTeX statements\n",
    "                            ## that are included in the LaTeX document preamble.\n",
    "                            ## An example:\n",
    "                            ## text.latex.preamble : \\usepackage{bm},\\usepackage{euler}\n",
    "                            ## The following packages are always loaded with usetex, so\n",
    "                            ## beware of package collisions: color, geometry, graphicx,\n",
    "                            ## type1cm, textcomp. Adobe Postscript (PSSNFS) font packages\n",
    "                            ## may also be loaded, depending on your font settings\n",
    "#text.latex.preview : False\n",
    "\n",
    "#text.hinting : auto   ## May be one of the following:\n",
    "                       ##   none: Perform no hinting\n",
    "                       ##   auto: Use FreeType's autohinter\n",
    "                       ##   native: Use the hinting information in the\n",
    "                       #              font file, if available, and if your\n",
    "                       #              FreeType library supports it\n",
    "                       ##   either: Use the native hinting information,\n",
    "                       #              or the autohinter if none is available.\n",
    "                       ## For backward compatibility, this value may also be\n",
    "                       ## True === 'auto' or False === 'none'.\n",
    "#text.hinting_factor : 8 ## Specifies the amount of softness for hinting in the\n",
    "                         ## horizontal direction.  A value of 1 will hint to full\n",
    "                         ## pixels.  A value of 2 will hint to half pixels etc.\n",
    "#text.antialiased : True ## If True (default), the text will be antialiased.\n",
    "                         ## This only affects the Agg backend.\n",
    "\n",
    "## The following settings allow you to select the fonts in math mode.\n",
    "## They map from a TeX font name to a fontconfig font pattern.\n",
    "## These settings are only used if mathtext.fontset is 'custom'.\n",
    "## Note that this \"custom\" mode is unsupported and may go away in the\n",
    "## future.\n",
    "#mathtext.cal : cursive\n",
    "#mathtext.rm  : sans\n",
    "#mathtext.tt  : monospace\n",
    "#mathtext.it  : sans:italic\n",
    "#mathtext.bf  : sans:bold\n",
    "#mathtext.sf  : sans\n",
    "#mathtext.fontset : dejavusans ## Should be 'dejavusans' (default),\n",
    "                               ## 'dejavuserif', 'cm' (Computer Modern), 'stix',\n",
    "                               ## 'stixsans' or 'custom'\n",
    "#mathtext.fallback_to_cm : True  ## When True, use symbols from the Computer Modern\n",
    "                                 ## fonts when a symbol can not be found in one of\n",
    "                                 ## the custom math fonts.\n",
    "#mathtext.default : it ## The default font to use for math.\n",
    "                       ## Can be any of the LaTeX font names, including\n",
    "                       ## the special name \"regular\" for the same font\n",
    "                       ## used in regular text.\n",
    "\n",
    "#### AXES\n",
    "## default face and edge color, default tick sizes,\n",
    "## default fontsizes for ticklabels, and so on.  See\n",
    "## http://matplotlib.org/api/axes_api.html#module-matplotlib.axes\n",
    "#axes.facecolor      : w       ## axes background color\n",
    "#axes.edgecolor      : k       ## axes edge color\n",
    "#axes.linewidth      : 0.8     ## edge linewidth\n",
    "#axes.grid           : False   ## display grid or not\n",
    "#axes.grid.axis      : both    ## which axis the grid should apply to\n",
    "#axes.grid.which     : major   ## gridlines at major, minor or both ticks\n",
    "#axes.titlesize      : large   ## fontsize of the axes title\n",
    "#axes.titleweight    : normal  ## font weight of title\n",
    "#axes.titlepad       : 6.0     ## pad between axes and title in points\n",
    "#axes.labelsize      : medium  ## fontsize of the x any y labels\n",
    "#axes.labelpad       : 4.0     ## space between label and axis\n",
    "#axes.labelweight    : normal  ## weight of the x and y labels\n",
    "#axes.labelcolor     : k\n",
    "#axes.axisbelow      : line    ## draw axis gridlines and ticks below\n",
    "                               ## patches (True); above patches but below\n",
    "                               ## lines ('line'); or above all (False)\n",
    "#axes.formatter.limits : -7, 7 ## use scientific notation if log10\n",
    "                               ## of the axis range is smaller than the\n",
    "                               ## first or larger than the second\n",
    "#axes.formatter.use_locale : False ## When True, format tick labels\n",
    "                                   ## according to the user's locale.\n",
    "                                   ## For example, use ',' as a decimal\n",
    "                                   ## separator in the fr_FR locale.\n",
    "#axes.formatter.use_mathtext : False ## When True, use mathtext for scientific\n",
    "                                     ## notation.\n",
    "#axes.formatter.min_exponent: 0 ## minimum exponent to format in scientific notation\n",
    "#axes.formatter.useoffset      : True    ## If True, the tick label formatter\n",
    "                                         ## will default to labeling ticks relative\n",
    "                                         ## to an offset when the data range is\n",
    "                                         ## small compared to the minimum absolute\n",
    "                                         ## value of the data.\n",
    "#axes.formatter.offset_threshold : 4     ## When useoffset is True, the offset\n",
    "                                         ## will be used when it can remove\n",
    "                                         ## at least this number of significant\n",
    "                                         ## digits from tick labels.\n",
    "#axes.spines.left   : True   ## display axis spines\n",
    "#axes.spines.bottom : True\n",
    "#axes.spines.top    : True\n",
    "#axes.spines.right  : True\n",
    "axes.unicode_minus  : False    ## use unicode for the minus symbol\n",
    "                               ## rather than hyphen.  See\n",
    "                               ## http://en.wikipedia.org/wiki/Plus_and_minus_signs#Character_codes\n",
    "#axes.prop_cycle    : cycler('color', ['1f77b4', 'ff7f0e', '2ca02c', 'd62728', '9467bd', '8c564b', 'e377c2', '7f7f7f', 'bcbd22', '17becf'])\n",
    "                      ## color cycle for plot lines  as list of string\n",
    "                      ## colorspecs: single letter, long name, or web-style hex\n",
    "\t\t\t\t\t  ## Note the use of string escapes here ('1f77b4', instead of 1f77b4)\n",
    "                      ## as opposed to the rest of this file.\t\t\t\t\t  \n",
    "#axes.autolimit_mode : data ## How to scale axes limits to the data.\n",
    "                            ## Use \"data\" to use data limits, plus some margin\n",
    "                            ## Use \"round_number\" move to the nearest \"round\" number\n",
    "#axes.xmargin        : .05  ## x margin.  See `axes.Axes.margins`\n",
    "#axes.ymargin        : .05  ## y margin See `axes.Axes.margins`\n",
    "#polaraxes.grid      : True    ## display grid on polar axes\n",
    "#axes3d.grid         : True    ## display grid on 3d axes\n",
    "\n",
    "#### DATES\n",
    "## These control the default format strings used in AutoDateFormatter.\n",
    "## Any valid format datetime format string can be used (see the python\n",
    "## `datetime` for details).  For example using '%%x' will use the locale date representation\n",
    "## '%%X' will use the locale time representation and '%%c' will use the full locale datetime\n",
    "## representation.\n",
    "## These values map to the scales:\n",
    "##     {'year': 365, 'month': 30, 'day': 1, 'hour': 1/24, 'minute': 1 / (24 * 60)}\n",
    "\n",
    "#date.autoformatter.year     : %Y\n",
    "#date.autoformatter.month    : %Y-%m\n",
    "#date.autoformatter.day      : %Y-%m-%d\n",
    "#date.autoformatter.hour     : %m-%d %H\n",
    "#date.autoformatter.minute   : %d %H:%M\n",
    "#date.autoformatter.second   : %H:%M:%S\n",
    "#date.autoformatter.microsecond   : %M:%S.%f\n",
    "\n",
    "#### TICKS\n",
    "## see http://matplotlib.org/api/axis_api.html#matplotlib.axis.Tick\n",
    "#xtick.top            : False  ## draw ticks on the top side\n",
    "#xtick.bottom         : True   ## draw ticks on the bottom side\n",
    "#xtick.labeltop       : False  ## draw label on the top\n",
    "#xtick.labelbottom    : True   ## draw label on the bottom\n",
    "#xtick.major.size     : 3.5    ## major tick size in points\n",
    "#xtick.minor.size     : 2      ## minor tick size in points\n",
    "#xtick.major.width    : 0.8    ## major tick width in points\n",
    "#xtick.minor.width    : 0.6    ## minor tick width in points\n",
    "#xtick.major.pad      : 3.5    ## distance to major tick label in points\n",
    "#xtick.minor.pad      : 3.4    ## distance to the minor tick label in points\n",
    "#xtick.color          : k      ## color of the tick labels\n",
    "#xtick.labelsize      : medium ## fontsize of the tick labels\n",
    "#xtick.direction      : out    ## direction: in, out, or inout\n",
    "#xtick.minor.visible  : False  ## visibility of minor ticks on x-axis\n",
    "#xtick.major.top      : True   ## draw x axis top major ticks\n",
    "#xtick.major.bottom   : True   ## draw x axis bottom major ticks\n",
    "#xtick.minor.top      : True   ## draw x axis top minor ticks\n",
    "#xtick.minor.bottom   : True   ## draw x axis bottom minor ticks\n",
    "#xtick.alignment      : center ## alignment of xticks\n",
    "\n",
    "#ytick.left           : True   ## draw ticks on the left side\n",
    "#ytick.right          : False  ## draw ticks on the right side\n",
    "#ytick.labelleft      : True   ## draw tick labels on the left side\n",
    "#ytick.labelright     : False  ## draw tick labels on the right side\n",
    "#ytick.major.size     : 3.5    ## major tick size in points\n",
    "#ytick.minor.size     : 2      ## minor tick size in points\n",
    "#ytick.major.width    : 0.8    ## major tick width in points\n",
    "#ytick.minor.width    : 0.6    ## minor tick width in points\n",
    "#ytick.major.pad      : 3.5    ## distance to major tick label in points\n",
    "#ytick.minor.pad      : 3.4    ## distance to the minor tick label in points\n",
    "#ytick.color          : k      ## color of the tick labels\n",
    "#ytick.labelsize      : medium ## fontsize of the tick labels\n",
    "#ytick.direction      : out    ## direction: in, out, or inout\n",
    "#ytick.minor.visible  : False  ## visibility of minor ticks on y-axis\n",
    "#ytick.major.left     : True   ## draw y axis left major ticks\n",
    "#ytick.major.right    : True   ## draw y axis right major ticks\n",
    "#ytick.minor.left     : True   ## draw y axis left minor ticks\n",
    "#ytick.minor.right    : True   ## draw y axis right minor ticks\n",
    "#ytick.alignment      : center_baseline ## alignment of yticks\n",
    "\n",
    "#### GRIDS\n",
    "#grid.color       :   b0b0b0    ## grid color\n",
    "#grid.linestyle   :   -         ## solid\n",
    "#grid.linewidth   :   0.8       ## in points\n",
    "#grid.alpha       :   1.0       ## transparency, between 0.0 and 1.0\n",
    "\n",
    "#### Legend\n",
    "#legend.loc           : best\n",
    "#legend.frameon       : True     ## if True, draw the legend on a background patch\n",
    "#legend.framealpha    : 0.8      ## legend patch transparency\n",
    "#legend.facecolor     : inherit  ## inherit from axes.facecolor; or color spec\n",
    "#legend.edgecolor     : 0.8      ## background patch boundary color\n",
    "#legend.fancybox      : True     ## if True, use a rounded box for the\n",
    "                                 ## legend background, else a rectangle\n",
    "#legend.shadow        : False    ## if True, give background a shadow effect\n",
    "#legend.numpoints     : 1        ## the number of marker points in the legend line\n",
    "#legend.scatterpoints : 1        ## number of scatter points\n",
    "#legend.markerscale   : 1.0      ## the relative size of legend markers vs. original\n",
    "#legend.fontsize      : medium\n",
    "## Dimensions as fraction of fontsize:\n",
    "#legend.borderpad     : 0.4      ## border whitespace\n",
    "#legend.labelspacing  : 0.5      ## the vertical space between the legend entries\n",
    "#legend.handlelength  : 2.0      ## the length of the legend lines\n",
    "#legend.handleheight  : 0.7      ## the height of the legend handle\n",
    "#legend.handletextpad : 0.8      ## the space between the legend line and legend text\n",
    "#legend.borderaxespad : 0.5      ## the border between the axes and legend edge\n",
    "#legend.columnspacing : 2.0      ## column separation\n",
    "\n",
    "#### FIGURE\n",
    "## See http://matplotlib.org/api/figure_api.html#matplotlib.figure.Figure\n",
    "#figure.titlesize : large      ## size of the figure title (Figure.suptitle())\n",
    "#figure.titleweight : normal   ## weight of the figure title\n",
    "#figure.figsize   : 6.4, 4.8   ## figure size in inches\n",
    "#figure.dpi       : 100        ## figure dots per inch\n",
    "#figure.facecolor : w      ## figure facecolor; 0.75 is scalar gray\n",
    "#figure.edgecolor : w      ## figure edgecolor\n",
    "#figure.frameon : True          ## enable figure frame\n",
    "#figure.max_open_warning : 20  ## The maximum number of figures to open through\n",
    "                               ## the pyplot interface before emitting a warning.\n",
    "                               ## If less than one this feature is disabled.\n",
    "## The figure subplot parameters.  All dimensions are a fraction of the\n",
    "#figure.subplot.left    : 0.125  ## the left side of the subplots of the figure\n",
    "#figure.subplot.right   : 0.9    ## the right side of the subplots of the figure\n",
    "#figure.subplot.bottom  : 0.11   ## the bottom of the subplots of the figure\n",
    "#figure.subplot.top     : 0.88   ## the top of the subplots of the figure\n",
    "#figure.subplot.wspace  : 0.2    ## the amount of width reserved for space between subplots,\n",
    "                                 ## expressed as a fraction of the average axis width\n",
    "#figure.subplot.hspace  : 0.2    ## the amount of height reserved for space between subplots,\n",
    "                                 ## expressed as a fraction of the average axis height\n",
    "\n",
    "## Figure layout\n",
    "#figure.autolayout : False     ## When True, automatically adjust subplot\n",
    "                               ## parameters to make the plot fit the figure\n",
    "                               ## using `tight_layout`\n",
    "#figure.constrained_layout.use: False ## When True, automatically make plot\n",
    "                                      ## elements fit on the figure. (Not compatible\n",
    "                                      ## with `autolayout`, above).\t\n",
    "#figure.constrained_layout.h_pad : 0.04167 ## Padding around axes objects. Float representing \n",
    "#figure.constrained_layout.w_pad : 0.04167 ##  inches. Default is 3./72. inches (3 pts)\n",
    "#figure.constrained_layout.hspace : 0.02   ## Space between subplot groups. Float representing \n",
    "#figure.constrained_layout.wspace : 0.02   ##  a fraction of the subplot widths being separated. \n",
    "\n",
    "#### IMAGES\n",
    "#image.aspect : equal             ## equal | auto | a number\n",
    "#image.interpolation  : nearest   ## see help(imshow) for options\n",
    "#image.cmap   : viridis           ## A colormap name, gray etc...\n",
    "#image.lut    : 256               ## the size of the colormap lookup table\n",
    "#image.origin : upper             ## lower | upper\n",
    "#image.resample  : True\n",
    "#image.composite_image : True     ## When True, all the images on a set of axes are\n",
    "                                  ## combined into a single composite image before\n",
    "                                  ## saving a figure as a vector graphics file,\n",
    "                                  ## such as a PDF.\n",
    "\n",
    "#### CONTOUR PLOTS\n",
    "#contour.negative_linestyle : dashed ## string or on-off ink sequence\n",
    "#contour.corner_mask        : True   ## True | False | legacy\n",
    "\n",
    "#### ERRORBAR PLOTS\n",
    "#errorbar.capsize : 0             ## length of end cap on error bars in pixels\n",
    "\n",
    "#### HISTOGRAM PLOTS\n",
    "#hist.bins : 10                   ## The default number of histogram bins.\n",
    "                                  ## If Numpy 1.11 or later is\n",
    "                                  ## installed, may also be `auto`\n",
    "\n",
    "#### SCATTER PLOTS\n",
    "#scatter.marker : o               ## The default marker type for scatter plots.\n",
    "\n",
    "#### Agg rendering\n",
    "#### Warning: experimental, 2008/10/10\n",
    "#agg.path.chunksize : 0           ## 0 to disable; values in the range\n",
    "                                  ## 10000 to 100000 can improve speed slightly\n",
    "                                  ## and prevent an Agg rendering failure\n",
    "                                  ## when plotting very large data sets,\n",
    "                                  ## especially if they are very gappy.\n",
    "                                  ## It may cause minor artifacts, though.\n",
    "                                  ## A value of 20000 is probably a good\n",
    "                                  ## starting point.\n",
    "#### PATHS \n",
    "#path.simplify : True   ## When True, simplify paths by removing \"invisible\"\n",
    "                        ## points to reduce file size and increase rendering\n",
    "                        ## speed\n",
    "#path.simplify_threshold : 0.111111111111  ## The threshold of similarity below which\n",
    "                                           ## vertices will be removed in the \n",
    "                                           ## simplification process\n",
    "#path.snap : True ## When True, rectilinear axis-aligned paths will be snapped to\n",
    "                  ## the nearest pixel when certain criteria are met.  When False,\n",
    "                  ## paths will never be snapped.\n",
    "#path.sketch : None ## May be none, or a 3-tuple of the form (scale, length,\n",
    "                    ## randomness).\n",
    "                    ## *scale* is the amplitude of the wiggle\n",
    "                    ## perpendicular to the line (in pixels).  *length*\n",
    "                    ## is the length of the wiggle along the line (in\n",
    "                    ## pixels).  *randomness* is the factor by which\n",
    "                    ## the length is randomly scaled.\n",
    "#path.effects : []  ##\n",
    "\n",
    "#### SAVING FIGURES\n",
    "## the default savefig params can be different from the display params\n",
    "## e.g., you may want a higher resolution, or to make the figure\n",
    "## background white\n",
    "#savefig.dpi         : figure   ## figure dots per inch or 'figure'\n",
    "#savefig.facecolor   : w        ## figure facecolor when saving\n",
    "#savefig.edgecolor   : w        ## figure edgecolor when saving\n",
    "#savefig.format      : png      ## png, ps, pdf, svg\n",
    "#savefig.bbox        : standard ## 'tight' or 'standard'.\n",
    "                                ## 'tight' is incompatible with pipe-based animation\n",
    "                                ## backends but will workd with temporary file based ones:\n",
    "                                ## e.g. setting animation.writer to ffmpeg will not work,\n",
    "                                ## use ffmpeg_file instead\n",
    "#savefig.pad_inches  : 0.1      ## Padding to be used when bbox is set to 'tight'\n",
    "#savefig.jpeg_quality: 95       ## when a jpeg is saved, the default quality parameter.\n",
    "#savefig.directory   : ~        ## default directory in savefig dialog box,\n",
    "                                ## leave empty to always use current working directory\n",
    "#savefig.transparent : False    ## setting that controls whether figures are saved with a\n",
    "                                ## transparent background by default\n",
    "#savefig.frameon : True\t\t\t## enable frame of figure when saving \n",
    "#savefig.orientation : portrait\t## Orientation of saved figure\t\t\t\t\n",
    "\n",
    "### tk backend params\n",
    "#tk.window_focus   : False    ## Maintain shell focus for TkAgg\n",
    "\n",
    "### ps backend params\n",
    "#ps.papersize      : letter   ## auto, letter, legal, ledger, A0-A10, B0-B10\n",
    "#ps.useafm         : False    ## use of afm fonts, results in small files\n",
    "#ps.usedistiller   : False    ## can be: None, ghostscript or xpdf\n",
    "                                          ## Experimental: may produce smaller files.\n",
    "                                          ## xpdf intended for production of publication quality files,\n",
    "                                          ## but requires ghostscript, xpdf and ps2eps\n",
    "#ps.distiller.res  : 6000      ## dpi\n",
    "#ps.fonttype       : 3         ## Output Type 3 (Type3) or Type 42 (TrueType)\n",
    "\n",
    "### pdf backend params\n",
    "#pdf.compression   : 6   ## integer from 0 to 9\n",
    "                         ## 0 disables compression (good for debugging)\n",
    "#pdf.fonttype       : 3         ## Output Type 3 (Type3) or Type 42 (TrueType)\n",
    "#pdf.use14corefonts : False\n",
    "#pdf.inheritcolor : False\n",
    "\n",
    "### svg backend params\n",
    "#svg.image_inline : True       ## write raster image data directly into the svg file\n",
    "#svg.fonttype :   path         ## How to handle SVG fonts:\n",
    "   ##     none: Assume fonts are installed on the machine where the SVG will be viewed.\n",
    "   ##     path: Embed characters as paths -- supported by most SVG renderers\n",
    "   ##     svgfont: Embed characters as SVG fonts -- supported only by Chrome,\n",
    "   ##                Opera and Safari\n",
    "#svg.hashsalt : None           ## if not None, use this string as hash salt\n",
    "                               ## instead of uuid4\n",
    "### pgf parameter\n",
    "#pgf.rcfonts : True\n",
    "#pgf.preamble :   \n",
    "#pgf.texsystem : xelatex\n",
    "#pgf.debug : False\n",
    "\n",
    "### docstring params\n",
    "##docstring.hardcopy = False  ## set this when you want to generate hardcopy docstring\n",
    "\n",
    "## Event keys to interact with figures/plots via keyboard.\n",
    "## Customize these settings according to your needs.\n",
    "## Leave the field(s) empty if you don't need a key-map. (i.e., fullscreen : '')\n",
    "#keymap.fullscreen : f, ctrl+f       ## toggling\n",
    "#keymap.home : h, r, home            ## home or reset mnemonic\n",
    "#keymap.back : left, c, backspace    ## forward / backward keys to enable\n",
    "#keymap.forward : right, v           ##   left handed quick navigation\n",
    "#keymap.pan : p                      ## pan mnemonic\n",
    "#keymap.zoom : o                     ## zoom mnemonic\n",
    "#keymap.save : s, ctrl+s             ## saving current figure\n",
    "#keymap.quit : ctrl+w, cmd+w, q      ## close the current figure\n",
    "#keymap.quit_all : W, cmd+W, Q       ## close all figures\n",
    "#keymap.grid : g                     ## switching on/off major grids in current axes\n",
    "#keymap.grid_minor : G               ## switching on/off minor grids in current axes\n",
    "#keymap.yscale : l                   ## toggle scaling of y-axes ('log'/'linear')\n",
    "#keymap.xscale : k, L                ## toggle scaling of x-axes ('log'/'linear')\n",
    "#keymap.all_axes : a                 ## enable all axes\n",
    "\n",
    "## Control location of examples data files\n",
    "#examples.directory :              ## directory to look in for custom installation\n",
    "\n",
    "###ANIMATION settings\n",
    "#animation.html :  none            ## How to display the animation as HTML in\n",
    "                                   ## the IPython notebook. 'html5' uses\n",
    "                                   ## HTML5 video tag; 'jshtml' creates a \n",
    "                                   ## Javascript animation\n",
    "#animation.writer : ffmpeg         ## MovieWriter 'backend' to use\n",
    "#animation.codec : h264            ## Codec to use for writing movie\n",
    "#animation.bitrate: -1             ## Controls size/quality tradeoff for movie.\n",
    "                                   ## -1 implies let utility auto-determine\n",
    "#animation.frame_format:  png      ## Controls frame format used by temp files\n",
    "#animation.html_args:              ## Additional arguments to pass to html writer\n",
    "#animation.ffmpeg_path:  ffmpeg    ## Path to ffmpeg binary. Without full path\n",
    "                                   ## $PATH is searched\n",
    "#animation.ffmpeg_args:            ## Additional arguments to pass to ffmpeg\n",
    "#animation.avconv_path:  avconv    ## Path to avconv binary. Without full path\n",
    "                                   ## $PATH is searched\n",
    "#animation.avconv_args:            ## Additional arguments to pass to avconv\n",
    "#animation.convert_path:  convert  ## Path to ImageMagick's convert binary.\n",
    "                                   ## On Windows use the full path since convert\n",
    "                                   ## is also the name of a system tool.\n",
    "#animation.convert_args:           ## Additional arguments to pass to convert\n",
    "#animation.embed_limit : 20.0\n"
   ]
  }
 ],
 "metadata": {
  "kernelspec": {
   "display_name": "zipline",
   "language": "python",
   "name": "zipline"
  },
  "language_info": {
   "codemirror_mode": {
    "name": "ipython",
    "version": 3
   },
   "file_extension": ".py",
   "mimetype": "text/x-python",
   "name": "python",
   "nbconvert_exporter": "python",
   "pygments_lexer": "ipython3",
   "version": "3.6.5"
  },
  "toc": {
   "base_numbering": 1,
   "nav_menu": {},
   "number_sections": false,
   "sideBar": true,
   "skip_h1_title": false,
   "title_cell": "Table of Contents",
   "title_sidebar": "Contents",
   "toc_cell": false,
   "toc_position": {},
   "toc_section_display": true,
   "toc_window_display": true
  }
 },
 "nbformat": 4,
 "nbformat_minor": 2
}
