{
  "cells": [
    {
      "cell_type": "code",
      "execution_count": null,
      "metadata": {
        "collapsed": false
      },
      "outputs": [],
      "source": [
        "%matplotlib inline"
      ]
    },
    {
      "cell_type": "markdown",
      "metadata": {},
      "source": [
        "\n# Tick formatters\n\n\nShow the different tick formatters.\n\n"
      ]
    },
    {
      "cell_type": "code",
      "execution_count": null,
      "metadata": {
        "collapsed": false
      },
      "outputs": [],
      "source": [
        "import numpy as np\nimport matplotlib.pyplot as plt\nimport matplotlib.ticker as ticker\n\n\n# Setup a plot such that only the bottom spine is shown\ndef setup(ax):\n    ax.spines['right'].set_color('none')\n    ax.spines['left'].set_color('none')\n    ax.yaxis.set_major_locator(ticker.NullLocator())\n    ax.spines['top'].set_color('none')\n    ax.xaxis.set_ticks_position('bottom')\n    ax.tick_params(which='major', width=1.00, length=5)\n    ax.tick_params(which='minor', width=0.75, length=2.5, labelsize=10)\n    ax.set_xlim(0, 5)\n    ax.set_ylim(0, 1)\n    ax.patch.set_alpha(0.0)\n\n\nfig = plt.figure(figsize=(8, 6))\nn = 7\n\n# Null formatter\nax = fig.add_subplot(n, 1, 1)\nsetup(ax)\nax.xaxis.set_major_locator(ticker.MultipleLocator(1.00))\nax.xaxis.set_minor_locator(ticker.MultipleLocator(0.25))\nax.xaxis.set_major_formatter(ticker.NullFormatter())\nax.xaxis.set_minor_formatter(ticker.NullFormatter())\nax.text(0.0, 0.1, \"NullFormatter()\", fontsize=16, transform=ax.transAxes)\n\n# Fixed formatter\nax = fig.add_subplot(n, 1, 2)\nsetup(ax)\nax.xaxis.set_major_locator(ticker.MultipleLocator(1.0))\nax.xaxis.set_minor_locator(ticker.MultipleLocator(0.25))\nmajors = [\"\", \"0\", \"1\", \"2\", \"3\", \"4\", \"5\"]\nax.xaxis.set_major_formatter(ticker.FixedFormatter(majors))\nminors = [\"\"] + [\"%.2f\" % (x-int(x)) if (x-int(x))\n                 else \"\" for x in np.arange(0, 5, 0.25)]\nax.xaxis.set_minor_formatter(ticker.FixedFormatter(minors))\nax.text(0.0, 0.1, \"FixedFormatter(['', '0', '1', ...])\",\n        fontsize=15, transform=ax.transAxes)\n\n\n# FuncFormatter can be used as a decorator\n@ticker.FuncFormatter\ndef major_formatter(x, pos):\n    return \"[%.2f]\" % x\n\n\nax = fig.add_subplot(n, 1, 3)\nsetup(ax)\nax.xaxis.set_major_locator(ticker.MultipleLocator(1.00))\nax.xaxis.set_minor_locator(ticker.MultipleLocator(0.25))\nax.xaxis.set_major_formatter(major_formatter)\nax.text(0.0, 0.1, 'FuncFormatter(lambda x, pos: \"[%.2f]\" % x)',\n        fontsize=15, transform=ax.transAxes)\n\n\n# FormatStr formatter\nax = fig.add_subplot(n, 1, 4)\nsetup(ax)\nax.xaxis.set_major_locator(ticker.MultipleLocator(1.00))\nax.xaxis.set_minor_locator(ticker.MultipleLocator(0.25))\nax.xaxis.set_major_formatter(ticker.FormatStrFormatter(\">%d<\"))\nax.text(0.0, 0.1, \"FormatStrFormatter('>%d<')\",\n        fontsize=15, transform=ax.transAxes)\n\n# Scalar formatter\nax = fig.add_subplot(n, 1, 5)\nsetup(ax)\nax.xaxis.set_major_locator(ticker.AutoLocator())\nax.xaxis.set_minor_locator(ticker.AutoMinorLocator())\nax.xaxis.set_major_formatter(ticker.ScalarFormatter(useMathText=True))\nax.text(0.0, 0.1, \"ScalarFormatter()\", fontsize=15, transform=ax.transAxes)\n\n# StrMethod formatter\nax = fig.add_subplot(n, 1, 6)\nsetup(ax)\nax.xaxis.set_major_locator(ticker.MultipleLocator(1.00))\nax.xaxis.set_minor_locator(ticker.MultipleLocator(0.25))\nax.xaxis.set_major_formatter(ticker.StrMethodFormatter(\"{x}\"))\nax.text(0.0, 0.1, \"StrMethodFormatter('{x}')\",\n        fontsize=15, transform=ax.transAxes)\n\n# Percent formatter\nax = fig.add_subplot(n, 1, 7)\nsetup(ax)\nax.xaxis.set_major_locator(ticker.MultipleLocator(1.00))\nax.xaxis.set_minor_locator(ticker.MultipleLocator(0.25))\nax.xaxis.set_major_formatter(ticker.PercentFormatter(xmax=5))\nax.text(0.0, 0.1, \"PercentFormatter(xmax=5)\",\n        fontsize=15, transform=ax.transAxes)\n\n# Push the top of the top axes outside the figure because we only show the\n# bottom spine.\nfig.subplots_adjust(left=0.05, right=0.95, bottom=0.05, top=1.05)\n\nplt.show()"
      ]
    }
  ],
  "metadata": {
    "kernelspec": {
      "display_name": "Python 3",
      "language": "python",
      "name": "python3"
    },
    "language_info": {
      "codemirror_mode": {
        "name": "ipython",
        "version": 3
      },
      "file_extension": ".py",
      "mimetype": "text/x-python",
      "name": "python",
      "nbconvert_exporter": "python",
      "pygments_lexer": "ipython3",
      "version": "3.6.3"
    }
  },
  "nbformat": 4,
  "nbformat_minor": 0
}