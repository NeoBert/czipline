{
 "cells": [
  {
   "cell_type": "markdown",
   "metadata": {},
   "source": [
    "# 运行"
   ]
  },
  {
   "cell_type": "code",
   "execution_count": 1,
   "metadata": {
    "ExecuteTime": {
     "end_time": "2017-12-09T10:03:15.747445Z",
     "start_time": "2017-12-09T10:03:09.464054Z"
    }
   },
   "outputs": [],
   "source": [
    "from zipline.pipeline import Pipeline, STOCK_DB, Fundamentals\n",
    "\n",
    "from zipline.pipeline.data import USEquityPricing\n",
    "from zipline.pipeline.filters import StaticSids"
   ]
  },
  {
   "cell_type": "code",
   "execution_count": 2,
   "metadata": {
    "ExecuteTime": {
     "end_time": "2017-12-09T10:03:17.528792Z",
     "start_time": "2017-12-09T10:03:15.747445Z"
    }
   },
   "outputs": [],
   "source": [
    "from zipline.research.run import run_pipeline"
   ]
  },
  {
   "cell_type": "code",
   "execution_count": 3,
   "metadata": {
    "ExecuteTime": {
     "end_time": "2017-12-09T10:03:21.091239Z",
     "start_time": "2017-12-09T10:03:17.528792Z"
    }
   },
   "outputs": [],
   "source": [
    "from zipline.pipeline.builtin import MarketCap"
   ]
  },
  {
   "cell_type": "code",
   "execution_count": 4,
   "metadata": {
    "ExecuteTime": {
     "end_time": "2017-12-09T10:03:21.110820Z",
     "start_time": "2017-12-09T10:03:21.091239Z"
    }
   },
   "outputs": [],
   "source": [
    "def make_pipeline():\n",
    "    cap = MarketCap(window_length=1)\n",
    "    return Pipeline(\n",
    "        columns = {\n",
    "            '流通市值':cap,\n",
    "            '收盘价':USEquityPricing.close.latest,\n",
    "            '流通股本':cap / USEquityPricing.close.latest,\n",
    "        },\n",
    "        screen = StaticSids([1,2])\n",
    "    )"
   ]
  },
  {
   "cell_type": "code",
   "execution_count": 5,
   "metadata": {
    "ExecuteTime": {
     "end_time": "2017-12-09T10:03:22.428110Z",
     "start_time": "2017-12-09T10:03:21.114821Z"
    }
   },
   "outputs": [],
   "source": [
    "df = run_pipeline(make_pipeline(), '2017-11-29','2017-11-30')"
   ]
  },
  {
   "cell_type": "code",
   "execution_count": 6,
   "metadata": {
    "ExecuteTime": {
     "end_time": "2017-12-09T10:03:22.477019Z",
     "start_time": "2017-12-09T10:03:22.428110Z"
    }
   },
   "outputs": [
    {
     "data": {
      "text/html": [
       "<div>\n",
       "<style scoped>\n",
       "    .dataframe tbody tr th:only-of-type {\n",
       "        vertical-align: middle;\n",
       "    }\n",
       "\n",
       "    .dataframe tbody tr th {\n",
       "        vertical-align: top;\n",
       "    }\n",
       "\n",
       "    .dataframe thead th {\n",
       "        text-align: right;\n",
       "    }\n",
       "</style>\n",
       "<table border=\"1\" class=\"dataframe\">\n",
       "  <thead>\n",
       "    <tr style=\"text-align: right;\">\n",
       "      <th></th>\n",
       "      <th></th>\n",
       "      <th>收盘价</th>\n",
       "      <th>流通市值</th>\n",
       "      <th>流通股本</th>\n",
       "    </tr>\n",
       "  </thead>\n",
       "  <tbody>\n",
       "    <tr>\n",
       "      <th rowspan=\"2\" valign=\"top\">2017-11-29 00:00:00+00:00</th>\n",
       "      <th>Equity(000001 [平安银行])</th>\n",
       "      <td>13.70</td>\n",
       "      <td>2.317767e+11</td>\n",
       "      <td>1.691801e+10</td>\n",
       "    </tr>\n",
       "    <tr>\n",
       "      <th>Equity(000002 [万 科Ａ])</th>\n",
       "      <td>30.75</td>\n",
       "      <td>2.990190e+11</td>\n",
       "      <td>9.724196e+09</td>\n",
       "    </tr>\n",
       "    <tr>\n",
       "      <th rowspan=\"2\" valign=\"top\">2017-11-30 00:00:00+00:00</th>\n",
       "      <th>Equity(000001 [平安银行])</th>\n",
       "      <td>13.82</td>\n",
       "      <td>2.338069e+11</td>\n",
       "      <td>1.691801e+10</td>\n",
       "    </tr>\n",
       "    <tr>\n",
       "      <th>Equity(000002 [万 科Ａ])</th>\n",
       "      <td>33.82</td>\n",
       "      <td>3.288723e+11</td>\n",
       "      <td>9.724196e+09</td>\n",
       "    </tr>\n",
       "  </tbody>\n",
       "</table>\n",
       "</div>"
      ],
      "text/plain": [
       "                                                   收盘价          流通市值  \\\n",
       "2017-11-29 00:00:00+00:00 Equity(000001 [平安银行])  13.70  2.317767e+11   \n",
       "                          Equity(000002 [万 科Ａ])  30.75  2.990190e+11   \n",
       "2017-11-30 00:00:00+00:00 Equity(000001 [平安银行])  13.82  2.338069e+11   \n",
       "                          Equity(000002 [万 科Ａ])  33.82  3.288723e+11   \n",
       "\n",
       "                                                         流通股本  \n",
       "2017-11-29 00:00:00+00:00 Equity(000001 [平安银行])  1.691801e+10  \n",
       "                          Equity(000002 [万 科Ａ])  9.724196e+09  \n",
       "2017-11-30 00:00:00+00:00 Equity(000001 [平安银行])  1.691801e+10  \n",
       "                          Equity(000002 [万 科Ａ])  9.724196e+09  "
      ]
     },
     "execution_count": 6,
     "metadata": {},
     "output_type": "execute_result"
    }
   ],
   "source": [
    "df"
   ]
  },
  {
   "cell_type": "markdown",
   "metadata": {},
   "source": [
    "# 验证"
   ]
  },
  {
   "cell_type": "code",
   "execution_count": 7,
   "metadata": {
    "ExecuteTime": {
     "end_time": "2017-12-09T10:03:22.502251Z",
     "start_time": "2017-12-09T10:03:22.477019Z"
    }
   },
   "outputs": [
    {
     "data": {
      "text/plain": [
       "True"
      ]
     },
     "execution_count": 7,
     "metadata": {},
     "output_type": "execute_result"
    }
   ],
   "source": [
    "int(df['流通股本'][0] / 10000) == int(df['流通股本'][2] / 10000)"
   ]
  },
  {
   "cell_type": "code",
   "execution_count": 8,
   "metadata": {
    "ExecuteTime": {
     "end_time": "2017-12-09T10:03:22.522252Z",
     "start_time": "2017-12-09T10:03:22.506251Z"
    }
   },
   "outputs": [
    {
     "data": {
      "text/plain": [
       "True"
      ]
     },
     "execution_count": 8,
     "metadata": {},
     "output_type": "execute_result"
    }
   ],
   "source": [
    "int(df['流通股本'][1] / 10000) == int(df['流通股本'][3] / 10000)"
   ]
  },
  {
   "cell_type": "code",
   "execution_count": 9,
   "metadata": {
    "ExecuteTime": {
     "end_time": "2017-12-09T10:03:22.538253Z",
     "start_time": "2017-12-09T10:03:22.526252Z"
    }
   },
   "outputs": [],
   "source": [
    "# 平安银行\n",
    "# 以亿股为单位验证\n",
    "assert round(df['流通股本'][0] / 10000 / 10000, 0) == round(1691798.97 / 10000,0)"
   ]
  },
  {
   "cell_type": "code",
   "execution_count": 10,
   "metadata": {
    "ExecuteTime": {
     "end_time": "2017-12-09T10:03:22.554252Z",
     "start_time": "2017-12-09T10:03:22.542253Z"
    }
   },
   "outputs": [],
   "source": [
    "# 万 科Ａ\n",
    "# 以亿股为单位验证\n",
    "assert round(df['流通股本'][1] / 10000 / 10000, 0) == round(970916.51 / 10000,0)"
   ]
  },
  {
   "cell_type": "code",
   "execution_count": null,
   "metadata": {},
   "outputs": [],
   "source": []
  }
 ],
 "metadata": {
  "kernelspec": {
   "display_name": "zipline",
   "language": "python",
   "name": "zipline"
  },
  "language_info": {
   "codemirror_mode": {
    "name": "ipython",
    "version": 3
   },
   "file_extension": ".py",
   "mimetype": "text/x-python",
   "name": "python",
   "nbconvert_exporter": "python",
   "pygments_lexer": "ipython3",
   "version": "3.6.3"
  },
  "toc": {
   "nav_menu": {},
   "number_sections": true,
   "sideBar": true,
   "skip_h1_title": false,
   "toc_cell": false,
   "toc_position": {},
   "toc_section_display": "block",
   "toc_window_display": false
  },
  "varInspector": {
   "cols": {
    "lenName": 16,
    "lenType": 16,
    "lenVar": 40
   },
   "kernels_config": {
    "python": {
     "delete_cmd_postfix": "",
     "delete_cmd_prefix": "del ",
     "library": "var_list.py",
     "varRefreshCmd": "print(var_dic_list())"
    },
    "r": {
     "delete_cmd_postfix": ") ",
     "delete_cmd_prefix": "rm(",
     "library": "var_list.r",
     "varRefreshCmd": "cat(var_dic_list()) "
    }
   },
   "types_to_exclude": [
    "module",
    "function",
    "builtin_function_or_method",
    "instance",
    "_Feature"
   ],
   "window_display": false
  }
 },
 "nbformat": 4,
 "nbformat_minor": 2
}
