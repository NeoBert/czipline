{
 "cells": [
  {
   "cell_type": "markdown",
   "metadata": {},
   "source": [
    "# 运行"
   ]
  },
  {
   "cell_type": "code",
   "execution_count": 1,
   "metadata": {
    "ExecuteTime": {
     "end_time": "2017-12-09T10:04:58.228546Z",
     "start_time": "2017-12-09T10:04:51.989197Z"
    }
   },
   "outputs": [],
   "source": [
    "from zipline.pipeline import Pipeline, STOCK_DB, Fundamentals\n",
    "\n",
    "from zipline.pipeline.data import USEquityPricing\n",
    "from zipline.pipeline.filters import StaticSids"
   ]
  },
  {
   "cell_type": "code",
   "execution_count": 2,
   "metadata": {
    "ExecuteTime": {
     "end_time": "2017-12-09T10:04:58.791071Z",
     "start_time": "2017-12-09T10:04:58.228546Z"
    }
   },
   "outputs": [],
   "source": [
    "from zipline.research.run import run_pipeline"
   ]
  },
  {
   "cell_type": "code",
   "execution_count": 3,
   "metadata": {
    "ExecuteTime": {
     "end_time": "2017-12-09T10:05:02.242325Z",
     "start_time": "2017-12-09T10:04:58.791071Z"
    }
   },
   "outputs": [],
   "source": [
    "from zipline.pipeline.builtin import NDays,IsStock"
   ]
  },
  {
   "cell_type": "code",
   "execution_count": 4,
   "metadata": {
    "ExecuteTime": {
     "end_time": "2017-12-09T10:05:02.257949Z",
     "start_time": "2017-12-09T10:05:02.242325Z"
    }
   },
   "outputs": [],
   "source": [
    "def make_pipeline():\n",
    "    ndays = NDays()\n",
    "    time_to_market = Fundamentals.time_to_market.latest\n",
    "    return Pipeline(\n",
    "        columns = {\n",
    "            '上市天数':ndays,\n",
    "            'time_to_market':time_to_market\n",
    "        },\n",
    "        screen = IsStock()\n",
    "    )"
   ]
  },
  {
   "cell_type": "code",
   "execution_count": 5,
   "metadata": {
    "ExecuteTime": {
     "end_time": "2017-12-09T10:05:03.552470Z",
     "start_time": "2017-12-09T10:05:02.264698Z"
    }
   },
   "outputs": [],
   "source": [
    "df = run_pipeline(make_pipeline(), '2017-11-29','2017-11-30')"
   ]
  },
  {
   "cell_type": "code",
   "execution_count": 6,
   "metadata": {
    "ExecuteTime": {
     "end_time": "2017-12-09T10:05:03.581859Z",
     "start_time": "2017-12-09T10:05:03.552470Z"
    }
   },
   "outputs": [
    {
     "data": {
      "text/html": [
       "<div>\n",
       "<style scoped>\n",
       "    .dataframe tbody tr th:only-of-type {\n",
       "        vertical-align: middle;\n",
       "    }\n",
       "\n",
       "    .dataframe tbody tr th {\n",
       "        vertical-align: top;\n",
       "    }\n",
       "\n",
       "    .dataframe thead th {\n",
       "        text-align: right;\n",
       "    }\n",
       "</style>\n",
       "<table border=\"1\" class=\"dataframe\">\n",
       "  <thead>\n",
       "    <tr style=\"text-align: right;\">\n",
       "      <th></th>\n",
       "      <th></th>\n",
       "      <th>time_to_market</th>\n",
       "      <th>上市天数</th>\n",
       "    </tr>\n",
       "  </thead>\n",
       "  <tbody>\n",
       "    <tr>\n",
       "      <th rowspan=\"5\" valign=\"top\">2017-11-29 00:00:00+00:00</th>\n",
       "      <th>Equity(000001 [平安银行])</th>\n",
       "      <td>1991-04-03</td>\n",
       "      <td>9737.0</td>\n",
       "    </tr>\n",
       "    <tr>\n",
       "      <th>Equity(000002 [万 科Ａ])</th>\n",
       "      <td>1991-01-29</td>\n",
       "      <td>9801.0</td>\n",
       "    </tr>\n",
       "    <tr>\n",
       "      <th>Equity(000004 [国农科技])</th>\n",
       "      <td>1991-01-14</td>\n",
       "      <td>9816.0</td>\n",
       "    </tr>\n",
       "    <tr>\n",
       "      <th>Equity(000005 [世纪星源])</th>\n",
       "      <td>1990-12-10</td>\n",
       "      <td>9851.0</td>\n",
       "    </tr>\n",
       "    <tr>\n",
       "      <th>Equity(000006 [深振业Ａ])</th>\n",
       "      <td>1992-04-27</td>\n",
       "      <td>9347.0</td>\n",
       "    </tr>\n",
       "  </tbody>\n",
       "</table>\n",
       "</div>"
      ],
      "text/plain": [
       "                                                time_to_market    上市天数\n",
       "2017-11-29 00:00:00+00:00 Equity(000001 [平安银行])     1991-04-03  9737.0\n",
       "                          Equity(000002 [万 科Ａ])     1991-01-29  9801.0\n",
       "                          Equity(000004 [国农科技])     1991-01-14  9816.0\n",
       "                          Equity(000005 [世纪星源])     1990-12-10  9851.0\n",
       "                          Equity(000006 [深振业Ａ])     1992-04-27  9347.0"
      ]
     },
     "execution_count": 6,
     "metadata": {},
     "output_type": "execute_result"
    }
   ],
   "source": [
    "df.head()"
   ]
  },
  {
   "cell_type": "code",
   "execution_count": 7,
   "metadata": {
    "ExecuteTime": {
     "end_time": "2017-12-09T10:05:03.608049Z",
     "start_time": "2017-12-09T10:05:03.585319Z"
    }
   },
   "outputs": [],
   "source": [
    "import numpy as np\n",
    "import pandas as pd"
   ]
  },
  {
   "cell_type": "markdown",
   "metadata": {},
   "source": [
    "# 验证"
   ]
  },
  {
   "cell_type": "code",
   "execution_count": 8,
   "metadata": {
    "ExecuteTime": {
     "end_time": "2017-12-09T10:05:03.620047Z",
     "start_time": "2017-12-09T10:05:03.612048Z"
    }
   },
   "outputs": [],
   "source": [
    "todays = df.index.get_level_values(0)"
   ]
  },
  {
   "cell_type": "code",
   "execution_count": 9,
   "metadata": {
    "ExecuteTime": {
     "end_time": "2017-12-09T10:05:03.822080Z",
     "start_time": "2017-12-09T10:05:03.624052Z"
    }
   },
   "outputs": [],
   "source": [
    "days = (todays.tz_localize(None) - pd.to_datetime(df['time_to_market'].values)).days"
   ]
  },
  {
   "cell_type": "code",
   "execution_count": 10,
   "metadata": {
    "ExecuteTime": {
     "end_time": "2017-12-09T10:05:03.837701Z",
     "start_time": "2017-12-09T10:05:03.822080Z"
    }
   },
   "outputs": [],
   "source": [
    "assert all(days == df['上市天数'])"
   ]
  }
 ],
 "metadata": {
  "kernelspec": {
   "display_name": "zipline",
   "language": "python",
   "name": "zipline"
  },
  "language_info": {
   "codemirror_mode": {
    "name": "ipython",
    "version": 3
   },
   "file_extension": ".py",
   "mimetype": "text/x-python",
   "name": "python",
   "nbconvert_exporter": "python",
   "pygments_lexer": "ipython3",
   "version": "3.6.3"
  },
  "toc": {
   "nav_menu": {},
   "number_sections": true,
   "sideBar": true,
   "skip_h1_title": false,
   "toc_cell": false,
   "toc_position": {},
   "toc_section_display": "block",
   "toc_window_display": false
  },
  "varInspector": {
   "cols": {
    "lenName": 16,
    "lenType": 16,
    "lenVar": 40
   },
   "kernels_config": {
    "python": {
     "delete_cmd_postfix": "",
     "delete_cmd_prefix": "del ",
     "library": "var_list.py",
     "varRefreshCmd": "print(var_dic_list())"
    },
    "r": {
     "delete_cmd_postfix": ") ",
     "delete_cmd_prefix": "rm(",
     "library": "var_list.r",
     "varRefreshCmd": "cat(var_dic_list()) "
    }
   },
   "types_to_exclude": [
    "module",
    "function",
    "builtin_function_or_method",
    "instance",
    "_Feature"
   ],
   "window_display": false
  }
 },
 "nbformat": 4,
 "nbformat_minor": 2
}
