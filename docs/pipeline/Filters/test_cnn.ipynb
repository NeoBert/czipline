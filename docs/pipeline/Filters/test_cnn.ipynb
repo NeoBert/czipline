{
 "cells": [
  {
   "cell_type": "code",
   "execution_count": 1,
   "metadata": {
    "ExecuteTime": {
     "end_time": "2017-12-11T16:37:36.531605Z",
     "start_time": "2017-12-11T16:37:21.891850Z"
    }
   },
   "outputs": [],
   "source": [
    "from zipline.pipeline.builtin import CNN"
   ]
  },
  {
   "cell_type": "code",
   "execution_count": 2,
   "metadata": {
    "ExecuteTime": {
     "end_time": "2017-12-11T16:37:36.549557Z",
     "start_time": "2017-12-11T16:37:36.536548Z"
    }
   },
   "outputs": [],
   "source": [
    "from zipline.pipeline import Pipeline\n",
    "from zipline.pipeline.data import USEquityPricing\n",
    "from zipline.api import attach_pipeline, pipeline_output\n",
    "from zipline.api import symbol, sid, get_datetime"
   ]
  },
  {
   "cell_type": "code",
   "execution_count": 3,
   "metadata": {
    "ExecuteTime": {
     "end_time": "2017-12-11T16:37:36.564567Z",
     "start_time": "2017-12-11T16:37:36.554560Z"
    }
   },
   "outputs": [],
   "source": [
    "# 2017-05-24 000033 更名为'新都退'并恢复上市，进入退市整理期  "
   ]
  },
  {
   "cell_type": "code",
   "execution_count": 4,
   "metadata": {
    "ExecuteTime": {
     "end_time": "2017-12-11T16:37:36.583579Z",
     "start_time": "2017-12-11T16:37:36.570570Z"
    }
   },
   "outputs": [],
   "source": [
    "def make_pipeline():\n",
    "    cnn3000 = CNN(3000)\n",
    "    return Pipeline(\n",
    "        columns = {\n",
    "            '收盘价':USEquityPricing.close.latest,  \n",
    "        },\n",
    "        #screen = cnn3000\n",
    "    )"
   ]
  },
  {
   "cell_type": "code",
   "execution_count": 5,
   "metadata": {
    "ExecuteTime": {
     "end_time": "2017-12-11T16:37:36.608595Z",
     "start_time": "2017-12-11T16:37:36.588582Z"
    }
   },
   "outputs": [],
   "source": [
    "def initialize(context):\n",
    "    attach_pipeline(make_pipeline(), 'example')\n",
    "\n",
    "def handle_data(context, data):\n",
    "    today = get_datetime('Asia/Shanghai')\n",
    "    output = pipeline_output('example')\n",
    "    print('\\n', today.date(), '\\n')\n",
    "    try:\n",
    "        print(output.loc[sid(33),:])\n",
    "    except:\n",
    "        print('当日不存在新都退股价')"
   ]
  },
  {
   "cell_type": "code",
   "execution_count": 6,
   "metadata": {
    "ExecuteTime": {
     "end_time": "2017-12-11T16:37:38.255686Z",
     "start_time": "2017-12-11T16:37:36.613599Z"
    }
   },
   "outputs": [
    {
     "name": "stdout",
     "output_type": "stream",
     "text": [
      "[2017-12-12 00:37:37.293051] INFO: Loader: Read benchmark and treasury data for 000300 from 1990-10-31 to 2017-12-11\n",
      "\n",
      " 2017-05-24 \n",
      "\n",
      "收盘价   NaN\n",
      "Name: Equity(000033 [新都退]), dtype: float64\n",
      "\n",
      " 2017-05-25 \n",
      "\n",
      "收盘价    7.16\n",
      "Name: Equity(000033 [新都退]), dtype: float64\n",
      "\n",
      " 2017-05-26 \n",
      "\n",
      "收盘价    6.44\n",
      "Name: Equity(000033 [新都退]), dtype: float64\n",
      "[2017-12-12 00:37:38.229669] INFO: Performance: Simulated 3 trading days out of 3.\n",
      "[2017-12-12 00:37:38.230671] INFO: Performance: first open: 2017-05-24 01:31:00+00:00\n",
      "[2017-12-12 00:37:38.232671] INFO: Performance: last close: 2017-05-26 07:00:00+00:00\n"
     ]
    }
   ],
   "source": [
    "from zipline.utils.run_algo import run_algorithm\n",
    "import pandas as pd\n",
    "\n",
    "start = pd.Timestamp('2017-5-24',tz='UTC')\n",
    "end = pd.Timestamp('2017-5-28',tz='UTC')\n",
    "capital_base = 100000000\n",
    "\n",
    "perf = run_algorithm(\n",
    "    start = start,\n",
    "    end = end,\n",
    "    initialize = initialize,\n",
    "    capital_base = capital_base,\n",
    "    handle_data = handle_data,\n",
    "    before_trading_start = None,\n",
    ")"
   ]
  },
  {
   "cell_type": "code",
   "execution_count": null,
   "metadata": {},
   "outputs": [],
   "source": []
  }
 ],
 "metadata": {
  "kernelspec": {
   "display_name": "zipline",
   "language": "python",
   "name": "zipline"
  },
  "language_info": {
   "codemirror_mode": {
    "name": "ipython",
    "version": 3
   },
   "file_extension": ".py",
   "mimetype": "text/x-python",
   "name": "python",
   "nbconvert_exporter": "python",
   "pygments_lexer": "ipython3",
   "version": "3.6.3"
  },
  "toc": {
   "nav_menu": {},
   "number_sections": true,
   "sideBar": true,
   "skip_h1_title": false,
   "toc_cell": false,
   "toc_position": {},
   "toc_section_display": "block",
   "toc_window_display": false
  },
  "varInspector": {
   "cols": {
    "lenName": 16,
    "lenType": 16,
    "lenVar": 40
   },
   "kernels_config": {
    "python": {
     "delete_cmd_postfix": "",
     "delete_cmd_prefix": "del ",
     "library": "var_list.py",
     "varRefreshCmd": "print(var_dic_list())"
    },
    "r": {
     "delete_cmd_postfix": ") ",
     "delete_cmd_prefix": "rm(",
     "library": "var_list.r",
     "varRefreshCmd": "cat(var_dic_list()) "
    }
   },
   "types_to_exclude": [
    "module",
    "function",
    "builtin_function_or_method",
    "instance",
    "_Feature"
   ],
   "window_display": false
  }
 },
 "nbformat": 4,
 "nbformat_minor": 2
}
